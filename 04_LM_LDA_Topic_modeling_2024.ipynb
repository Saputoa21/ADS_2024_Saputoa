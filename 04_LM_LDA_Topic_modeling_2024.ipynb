{
  "nbformat": 4,
  "nbformat_minor": 0,
  "metadata": {
    "colab": {
      "provenance": [],
      "include_colab_link": true
    },
    "kernelspec": {
      "name": "python3",
      "display_name": "Python 3"
    }
  },
  "cells": [
    {
      "cell_type": "markdown",
      "metadata": {
        "id": "view-in-github",
        "colab_type": "text"
      },
      "source": [
        "<a href=\"https://colab.research.google.com/github/Saputoa21/ADS_2024_Saputoa/blob/master/04_LM_LDA_Topic_modeling_2024.ipynb\" target=\"_parent\"><img src=\"https://colab.research.google.com/assets/colab-badge.svg\" alt=\"Open In Colab\"/></a>"
      ]
    },
    {
      "cell_type": "markdown",
      "source": [
        "# Clustering Documents"
      ],
      "metadata": {
        "id": "0QCMG-L_oPQ6"
      }
    },
    {
      "cell_type": "markdown",
      "metadata": {
        "id": "nzhvlugtZytc"
      },
      "source": [
        "In this notebook, you'll learn about **Latent Dirichlet Allocation** (LDA) algorithm, and how to use it to cluster documents based on automatically generated topics, made out of their content words.\n",
        "\n",
        "Key-learning:\n",
        "- Unsupervised machine learning for NLP\n",
        "- Clustering Documents\n",
        "- LDA\n",
        "- python packages: *pandas*, [*gensim*](https://pypi.org/project/gensim/)\n",
        "\n",
        "Terms in this notebook:\n",
        "- Bag of Words (BoW)\n",
        "- LDA\n",
        "- Clustering\n",
        "- TF/IDF\n",
        "\n",
        "This notebook includes two recommended videos (total length: 25min).\n",
        "\n",
        "Estimated reading duration: 1-2h.\n"
      ]
    },
    {
      "cell_type": "markdown",
      "metadata": {
        "id": "LuFLTklaSGqw"
      },
      "source": [
        "# Setup"
      ]
    },
    {
      "cell_type": "markdown",
      "metadata": {
        "id": "ncCmcyBB_KyW"
      },
      "source": [
        "We start by importing [pandas](https://pandas.pydata.org/) - an essential tool for data scientists!\n",
        "\n",
        "We load a .CSV (Comma Seperated Values) file of German news articles from https://github.com/tblock/10kGNAD\n"
      ]
    },
    {
      "cell_type": "code",
      "source": [
        "from IPython.display import YouTubeVideo"
      ],
      "metadata": {
        "id": "9e5gBKX3pFlC"
      },
      "execution_count": 1,
      "outputs": []
    },
    {
      "cell_type": "code",
      "metadata": {
        "id": "KfprTyMF4BG1",
        "outputId": "0920eab1-87e1-4df7-de1e-efa9781bd612",
        "colab": {
          "base_uri": "https://localhost:8080/"
        }
      },
      "source": [
        "import pandas as pd\n",
        "\n",
        "import nltk\n",
        "nltk.download('punkt')\n",
        "nltk.download('stopwords')\n",
        "nltk.download('averaged_perceptron_tagger')\n",
        "nltk.download('universal_tagset')"
      ],
      "execution_count": 17,
      "outputs": [
        {
          "output_type": "stream",
          "name": "stderr",
          "text": [
            "[nltk_data] Downloading package punkt to /root/nltk_data...\n",
            "[nltk_data]   Package punkt is already up-to-date!\n",
            "[nltk_data] Downloading package stopwords to /root/nltk_data...\n",
            "[nltk_data]   Package stopwords is already up-to-date!\n",
            "[nltk_data] Downloading package averaged_perceptron_tagger to\n",
            "[nltk_data]     /root/nltk_data...\n",
            "[nltk_data]   Package averaged_perceptron_tagger is already up-to-\n",
            "[nltk_data]       date!\n",
            "[nltk_data] Downloading package universal_tagset to /root/nltk_data...\n",
            "[nltk_data]   Package universal_tagset is already up-to-date!\n"
          ]
        },
        {
          "output_type": "execute_result",
          "data": {
            "text/plain": [
              "True"
            ]
          },
          "metadata": {},
          "execution_count": 17
        }
      ]
    },
    {
      "cell_type": "markdown",
      "source": [
        "Pandas is a useful package to load CSV files and to parse them. It can also parse TSV - separated by tabs, or as in our case, separated by a `;`.  \n",
        "Pandas is often used as the first-step for data scientists to load and analyze data."
      ],
      "metadata": {
        "id": "v62qoMC7U7W-"
      }
    },
    {
      "cell_type": "code",
      "metadata": {
        "id": "ieItNWA44BEA"
      },
      "source": [
        "df_articles = pd.read_csv('https://raw.githubusercontent.com/tblock/10kGNAD/master/articles.csv',\n",
        "                 sep=';',       # this file is actually a TSV, separated by \";\"\n",
        "                 on_bad_lines='skip',\n",
        "                 header=None,   # There is no header line for this CSV...\n",
        "                 # .. so we define the column names here:\n",
        "                 names=['article_category', 'content'],\n",
        "                 # And by specifiying the column as a Categorical type,\n",
        "                 # we can save computer memory! Yay!\n",
        "                 dtype={'article_category': 'category'})"
      ],
      "execution_count": 18,
      "outputs": []
    },
    {
      "cell_type": "markdown",
      "source": [
        "**Note:** Specifying a column with repeated strings as a category is a good Pandas' trick to be aware of. Often the dataset can't fit into the memory, and by specifiying columns as a categorical column when loading the data (`pd.read_csv`), we get to spare memory and allow the dataset to fit the working memory better."
      ],
      "metadata": {
        "id": "SVusBTWghIkz"
      }
    },
    {
      "cell_type": "code",
      "source": [
        "df_articles"
      ],
      "metadata": {
        "id": "XyYuGSLJSNCA",
        "outputId": "a54547e1-e39a-4731-863e-5050f41564b3",
        "colab": {
          "base_uri": "https://localhost:8080/",
          "height": 423
        }
      },
      "execution_count": 4,
      "outputs": [
        {
          "output_type": "execute_result",
          "data": {
            "text/plain": [
              "     article_category                                            content\n",
              "0                Etat  Die ARD-Tochter Degeto hat sich verpflichtet, ...\n",
              "1                Etat  App sei nicht so angenommen worden wie geplant...\n",
              "2                Etat  Mitarbeiter überreichten Eigentümervertretern ...\n",
              "3                Etat  Service: Jobwechsel in der Kommunikationsbranc...\n",
              "4                Etat  Was Sie über diese Woche wissen sollten - und ...\n",
              "...               ...                                                ...\n",
              "9571     Wissenschaft  Die Fundstelle in Südengland ist Unesco-Weltku...\n",
              "9572     Wissenschaft  Im Team arbeitet auch ein Inspektor der sudane...\n",
              "9573     Wissenschaft  Die zentrale Frage des Projekts: Siedelten Ägy...\n",
              "9574     Wissenschaft  Klimatische Verschlechterungen dürften zur Auf...\n",
              "9575     Wissenschaft  Knochen können zum Verständnis des Lebens in d...\n",
              "\n",
              "[9576 rows x 2 columns]"
            ],
            "text/html": [
              "\n",
              "  <div id=\"df-a2fda15e-f45b-4d0a-9247-f96dca37ac71\" class=\"colab-df-container\">\n",
              "    <div>\n",
              "<style scoped>\n",
              "    .dataframe tbody tr th:only-of-type {\n",
              "        vertical-align: middle;\n",
              "    }\n",
              "\n",
              "    .dataframe tbody tr th {\n",
              "        vertical-align: top;\n",
              "    }\n",
              "\n",
              "    .dataframe thead th {\n",
              "        text-align: right;\n",
              "    }\n",
              "</style>\n",
              "<table border=\"1\" class=\"dataframe\">\n",
              "  <thead>\n",
              "    <tr style=\"text-align: right;\">\n",
              "      <th></th>\n",
              "      <th>article_category</th>\n",
              "      <th>content</th>\n",
              "    </tr>\n",
              "  </thead>\n",
              "  <tbody>\n",
              "    <tr>\n",
              "      <th>0</th>\n",
              "      <td>Etat</td>\n",
              "      <td>Die ARD-Tochter Degeto hat sich verpflichtet, ...</td>\n",
              "    </tr>\n",
              "    <tr>\n",
              "      <th>1</th>\n",
              "      <td>Etat</td>\n",
              "      <td>App sei nicht so angenommen worden wie geplant...</td>\n",
              "    </tr>\n",
              "    <tr>\n",
              "      <th>2</th>\n",
              "      <td>Etat</td>\n",
              "      <td>Mitarbeiter überreichten Eigentümervertretern ...</td>\n",
              "    </tr>\n",
              "    <tr>\n",
              "      <th>3</th>\n",
              "      <td>Etat</td>\n",
              "      <td>Service: Jobwechsel in der Kommunikationsbranc...</td>\n",
              "    </tr>\n",
              "    <tr>\n",
              "      <th>4</th>\n",
              "      <td>Etat</td>\n",
              "      <td>Was Sie über diese Woche wissen sollten - und ...</td>\n",
              "    </tr>\n",
              "    <tr>\n",
              "      <th>...</th>\n",
              "      <td>...</td>\n",
              "      <td>...</td>\n",
              "    </tr>\n",
              "    <tr>\n",
              "      <th>9571</th>\n",
              "      <td>Wissenschaft</td>\n",
              "      <td>Die Fundstelle in Südengland ist Unesco-Weltku...</td>\n",
              "    </tr>\n",
              "    <tr>\n",
              "      <th>9572</th>\n",
              "      <td>Wissenschaft</td>\n",
              "      <td>Im Team arbeitet auch ein Inspektor der sudane...</td>\n",
              "    </tr>\n",
              "    <tr>\n",
              "      <th>9573</th>\n",
              "      <td>Wissenschaft</td>\n",
              "      <td>Die zentrale Frage des Projekts: Siedelten Ägy...</td>\n",
              "    </tr>\n",
              "    <tr>\n",
              "      <th>9574</th>\n",
              "      <td>Wissenschaft</td>\n",
              "      <td>Klimatische Verschlechterungen dürften zur Auf...</td>\n",
              "    </tr>\n",
              "    <tr>\n",
              "      <th>9575</th>\n",
              "      <td>Wissenschaft</td>\n",
              "      <td>Knochen können zum Verständnis des Lebens in d...</td>\n",
              "    </tr>\n",
              "  </tbody>\n",
              "</table>\n",
              "<p>9576 rows × 2 columns</p>\n",
              "</div>\n",
              "    <div class=\"colab-df-buttons\">\n",
              "\n",
              "  <div class=\"colab-df-container\">\n",
              "    <button class=\"colab-df-convert\" onclick=\"convertToInteractive('df-a2fda15e-f45b-4d0a-9247-f96dca37ac71')\"\n",
              "            title=\"Convert this dataframe to an interactive table.\"\n",
              "            style=\"display:none;\">\n",
              "\n",
              "  <svg xmlns=\"http://www.w3.org/2000/svg\" height=\"24px\" viewBox=\"0 -960 960 960\">\n",
              "    <path d=\"M120-120v-720h720v720H120Zm60-500h600v-160H180v160Zm220 220h160v-160H400v160Zm0 220h160v-160H400v160ZM180-400h160v-160H180v160Zm440 0h160v-160H620v160ZM180-180h160v-160H180v160Zm440 0h160v-160H620v160Z\"/>\n",
              "  </svg>\n",
              "    </button>\n",
              "\n",
              "  <style>\n",
              "    .colab-df-container {\n",
              "      display:flex;\n",
              "      gap: 12px;\n",
              "    }\n",
              "\n",
              "    .colab-df-convert {\n",
              "      background-color: #E8F0FE;\n",
              "      border: none;\n",
              "      border-radius: 50%;\n",
              "      cursor: pointer;\n",
              "      display: none;\n",
              "      fill: #1967D2;\n",
              "      height: 32px;\n",
              "      padding: 0 0 0 0;\n",
              "      width: 32px;\n",
              "    }\n",
              "\n",
              "    .colab-df-convert:hover {\n",
              "      background-color: #E2EBFA;\n",
              "      box-shadow: 0px 1px 2px rgba(60, 64, 67, 0.3), 0px 1px 3px 1px rgba(60, 64, 67, 0.15);\n",
              "      fill: #174EA6;\n",
              "    }\n",
              "\n",
              "    .colab-df-buttons div {\n",
              "      margin-bottom: 4px;\n",
              "    }\n",
              "\n",
              "    [theme=dark] .colab-df-convert {\n",
              "      background-color: #3B4455;\n",
              "      fill: #D2E3FC;\n",
              "    }\n",
              "\n",
              "    [theme=dark] .colab-df-convert:hover {\n",
              "      background-color: #434B5C;\n",
              "      box-shadow: 0px 1px 3px 1px rgba(0, 0, 0, 0.15);\n",
              "      filter: drop-shadow(0px 1px 2px rgba(0, 0, 0, 0.3));\n",
              "      fill: #FFFFFF;\n",
              "    }\n",
              "  </style>\n",
              "\n",
              "    <script>\n",
              "      const buttonEl =\n",
              "        document.querySelector('#df-a2fda15e-f45b-4d0a-9247-f96dca37ac71 button.colab-df-convert');\n",
              "      buttonEl.style.display =\n",
              "        google.colab.kernel.accessAllowed ? 'block' : 'none';\n",
              "\n",
              "      async function convertToInteractive(key) {\n",
              "        const element = document.querySelector('#df-a2fda15e-f45b-4d0a-9247-f96dca37ac71');\n",
              "        const dataTable =\n",
              "          await google.colab.kernel.invokeFunction('convertToInteractive',\n",
              "                                                    [key], {});\n",
              "        if (!dataTable) return;\n",
              "\n",
              "        const docLinkHtml = 'Like what you see? Visit the ' +\n",
              "          '<a target=\"_blank\" href=https://colab.research.google.com/notebooks/data_table.ipynb>data table notebook</a>'\n",
              "          + ' to learn more about interactive tables.';\n",
              "        element.innerHTML = '';\n",
              "        dataTable['output_type'] = 'display_data';\n",
              "        await google.colab.output.renderOutput(dataTable, element);\n",
              "        const docLink = document.createElement('div');\n",
              "        docLink.innerHTML = docLinkHtml;\n",
              "        element.appendChild(docLink);\n",
              "      }\n",
              "    </script>\n",
              "  </div>\n",
              "\n",
              "\n",
              "<div id=\"df-760d0788-ee28-4d4f-85b0-218bca9a9631\">\n",
              "  <button class=\"colab-df-quickchart\" onclick=\"quickchart('df-760d0788-ee28-4d4f-85b0-218bca9a9631')\"\n",
              "            title=\"Suggest charts\"\n",
              "            style=\"display:none;\">\n",
              "\n",
              "<svg xmlns=\"http://www.w3.org/2000/svg\" height=\"24px\"viewBox=\"0 0 24 24\"\n",
              "     width=\"24px\">\n",
              "    <g>\n",
              "        <path d=\"M19 3H5c-1.1 0-2 .9-2 2v14c0 1.1.9 2 2 2h14c1.1 0 2-.9 2-2V5c0-1.1-.9-2-2-2zM9 17H7v-7h2v7zm4 0h-2V7h2v10zm4 0h-2v-4h2v4z\"/>\n",
              "    </g>\n",
              "</svg>\n",
              "  </button>\n",
              "\n",
              "<style>\n",
              "  .colab-df-quickchart {\n",
              "      --bg-color: #E8F0FE;\n",
              "      --fill-color: #1967D2;\n",
              "      --hover-bg-color: #E2EBFA;\n",
              "      --hover-fill-color: #174EA6;\n",
              "      --disabled-fill-color: #AAA;\n",
              "      --disabled-bg-color: #DDD;\n",
              "  }\n",
              "\n",
              "  [theme=dark] .colab-df-quickchart {\n",
              "      --bg-color: #3B4455;\n",
              "      --fill-color: #D2E3FC;\n",
              "      --hover-bg-color: #434B5C;\n",
              "      --hover-fill-color: #FFFFFF;\n",
              "      --disabled-bg-color: #3B4455;\n",
              "      --disabled-fill-color: #666;\n",
              "  }\n",
              "\n",
              "  .colab-df-quickchart {\n",
              "    background-color: var(--bg-color);\n",
              "    border: none;\n",
              "    border-radius: 50%;\n",
              "    cursor: pointer;\n",
              "    display: none;\n",
              "    fill: var(--fill-color);\n",
              "    height: 32px;\n",
              "    padding: 0;\n",
              "    width: 32px;\n",
              "  }\n",
              "\n",
              "  .colab-df-quickchart:hover {\n",
              "    background-color: var(--hover-bg-color);\n",
              "    box-shadow: 0 1px 2px rgba(60, 64, 67, 0.3), 0 1px 3px 1px rgba(60, 64, 67, 0.15);\n",
              "    fill: var(--button-hover-fill-color);\n",
              "  }\n",
              "\n",
              "  .colab-df-quickchart-complete:disabled,\n",
              "  .colab-df-quickchart-complete:disabled:hover {\n",
              "    background-color: var(--disabled-bg-color);\n",
              "    fill: var(--disabled-fill-color);\n",
              "    box-shadow: none;\n",
              "  }\n",
              "\n",
              "  .colab-df-spinner {\n",
              "    border: 2px solid var(--fill-color);\n",
              "    border-color: transparent;\n",
              "    border-bottom-color: var(--fill-color);\n",
              "    animation:\n",
              "      spin 1s steps(1) infinite;\n",
              "  }\n",
              "\n",
              "  @keyframes spin {\n",
              "    0% {\n",
              "      border-color: transparent;\n",
              "      border-bottom-color: var(--fill-color);\n",
              "      border-left-color: var(--fill-color);\n",
              "    }\n",
              "    20% {\n",
              "      border-color: transparent;\n",
              "      border-left-color: var(--fill-color);\n",
              "      border-top-color: var(--fill-color);\n",
              "    }\n",
              "    30% {\n",
              "      border-color: transparent;\n",
              "      border-left-color: var(--fill-color);\n",
              "      border-top-color: var(--fill-color);\n",
              "      border-right-color: var(--fill-color);\n",
              "    }\n",
              "    40% {\n",
              "      border-color: transparent;\n",
              "      border-right-color: var(--fill-color);\n",
              "      border-top-color: var(--fill-color);\n",
              "    }\n",
              "    60% {\n",
              "      border-color: transparent;\n",
              "      border-right-color: var(--fill-color);\n",
              "    }\n",
              "    80% {\n",
              "      border-color: transparent;\n",
              "      border-right-color: var(--fill-color);\n",
              "      border-bottom-color: var(--fill-color);\n",
              "    }\n",
              "    90% {\n",
              "      border-color: transparent;\n",
              "      border-bottom-color: var(--fill-color);\n",
              "    }\n",
              "  }\n",
              "</style>\n",
              "\n",
              "  <script>\n",
              "    async function quickchart(key) {\n",
              "      const quickchartButtonEl =\n",
              "        document.querySelector('#' + key + ' button');\n",
              "      quickchartButtonEl.disabled = true;  // To prevent multiple clicks.\n",
              "      quickchartButtonEl.classList.add('colab-df-spinner');\n",
              "      try {\n",
              "        const charts = await google.colab.kernel.invokeFunction(\n",
              "            'suggestCharts', [key], {});\n",
              "      } catch (error) {\n",
              "        console.error('Error during call to suggestCharts:', error);\n",
              "      }\n",
              "      quickchartButtonEl.classList.remove('colab-df-spinner');\n",
              "      quickchartButtonEl.classList.add('colab-df-quickchart-complete');\n",
              "    }\n",
              "    (() => {\n",
              "      let quickchartButtonEl =\n",
              "        document.querySelector('#df-760d0788-ee28-4d4f-85b0-218bca9a9631 button');\n",
              "      quickchartButtonEl.style.display =\n",
              "        google.colab.kernel.accessAllowed ? 'block' : 'none';\n",
              "    })();\n",
              "  </script>\n",
              "</div>\n",
              "\n",
              "  <div id=\"id_c94f6fef-10bc-4174-a90b-357b9864ff9c\">\n",
              "    <style>\n",
              "      .colab-df-generate {\n",
              "        background-color: #E8F0FE;\n",
              "        border: none;\n",
              "        border-radius: 50%;\n",
              "        cursor: pointer;\n",
              "        display: none;\n",
              "        fill: #1967D2;\n",
              "        height: 32px;\n",
              "        padding: 0 0 0 0;\n",
              "        width: 32px;\n",
              "      }\n",
              "\n",
              "      .colab-df-generate:hover {\n",
              "        background-color: #E2EBFA;\n",
              "        box-shadow: 0px 1px 2px rgba(60, 64, 67, 0.3), 0px 1px 3px 1px rgba(60, 64, 67, 0.15);\n",
              "        fill: #174EA6;\n",
              "      }\n",
              "\n",
              "      [theme=dark] .colab-df-generate {\n",
              "        background-color: #3B4455;\n",
              "        fill: #D2E3FC;\n",
              "      }\n",
              "\n",
              "      [theme=dark] .colab-df-generate:hover {\n",
              "        background-color: #434B5C;\n",
              "        box-shadow: 0px 1px 3px 1px rgba(0, 0, 0, 0.15);\n",
              "        filter: drop-shadow(0px 1px 2px rgba(0, 0, 0, 0.3));\n",
              "        fill: #FFFFFF;\n",
              "      }\n",
              "    </style>\n",
              "    <button class=\"colab-df-generate\" onclick=\"generateWithVariable('df_articles')\"\n",
              "            title=\"Generate code using this dataframe.\"\n",
              "            style=\"display:none;\">\n",
              "\n",
              "  <svg xmlns=\"http://www.w3.org/2000/svg\" height=\"24px\"viewBox=\"0 0 24 24\"\n",
              "       width=\"24px\">\n",
              "    <path d=\"M7,19H8.4L18.45,9,17,7.55,7,17.6ZM5,21V16.75L18.45,3.32a2,2,0,0,1,2.83,0l1.4,1.43a1.91,1.91,0,0,1,.58,1.4,1.91,1.91,0,0,1-.58,1.4L9.25,21ZM18.45,9,17,7.55Zm-12,3A5.31,5.31,0,0,0,4.9,8.1,5.31,5.31,0,0,0,1,6.5,5.31,5.31,0,0,0,4.9,4.9,5.31,5.31,0,0,0,6.5,1,5.31,5.31,0,0,0,8.1,4.9,5.31,5.31,0,0,0,12,6.5,5.46,5.46,0,0,0,6.5,12Z\"/>\n",
              "  </svg>\n",
              "    </button>\n",
              "    <script>\n",
              "      (() => {\n",
              "      const buttonEl =\n",
              "        document.querySelector('#id_c94f6fef-10bc-4174-a90b-357b9864ff9c button.colab-df-generate');\n",
              "      buttonEl.style.display =\n",
              "        google.colab.kernel.accessAllowed ? 'block' : 'none';\n",
              "\n",
              "      buttonEl.onclick = () => {\n",
              "        google.colab.notebook.generateWithVariable('df_articles');\n",
              "      }\n",
              "      })();\n",
              "    </script>\n",
              "  </div>\n",
              "\n",
              "    </div>\n",
              "  </div>\n"
            ],
            "application/vnd.google.colaboratory.intrinsic+json": {
              "type": "dataframe",
              "variable_name": "df_articles",
              "summary": "{\n  \"name\": \"df_articles\",\n  \"rows\": 9576,\n  \"fields\": [\n    {\n      \"column\": \"article_category\",\n      \"properties\": {\n        \"dtype\": \"category\",\n        \"num_unique_values\": 9,\n        \"samples\": [\n          \"Wirtschaft\",\n          \"Inland\",\n          \"Sport\"\n        ],\n        \"semantic_type\": \"\",\n        \"description\": \"\"\n      }\n    },\n    {\n      \"column\": \"content\",\n      \"properties\": {\n        \"dtype\": \"string\",\n        \"num_unique_values\": 9574,\n        \"samples\": [\n          \"Von dem E3-Showdeb\\u00fct des US-Herstellers kann sich die Branche eine Scheibe abschneiden. Es war Bethesdas erste eigene E3-Pressekonferenz und den Reaktionen der Journalisten und Zuseher zufolge hat der US-Herausgeber bei seinem Show-Deb\\u00fct sehr viel richtig gemacht. Erstmals in der Unternehmsgeschichte b\\u00fcndelte man seine prestigetr\\u00e4chtigen Kernmarken, um den Fans und der Konkurrenz zu zeigen, dass die Spielwelt mit einem weiteren Schwergewicht zu rechnen hat. Gleichzeitig machte der privat gef\\u00fchrte Mutterkonzern Zenimax damit ein klares Zugest\\u00e4ndnis zum teuren und in den letzten Jahren von vielen Branchenfehlschl\\u00e4gen gezeichneten AAA-Segment. Einerseits beeindruckte Bethesda mit einem ambitioniert angelegten Fahrplan, der in den folgenden 12 Monaten bis Ende Fr\\u00fchjahr 2016 die Ver\\u00f6ffentlichung von gleich drei Blockbustern vorsieht: Fallout 4, Doom und Dishonored 2. Jedes dieser Games wurde auf der E3 pr\\u00e4sentiert und bedient ein Millionenpublikum eingeschworener Fans. Andererseits ist es erfreulich zu sehen, dass es neben den wenigen Milliardenkonzernen rund um Activision und EA noch private Hersteller gibt, die ihr Kapital vorrangig in Hochglanzproduktionen investieren und auch daran festhalten. In Zeiten, in denen (einstige) Kolosse wie Konami oder Sega vom Zukunftsmarkt Mobile schw\\u00e4rmen, b\\u00f6rsennotierte Big Player ihre Franchises nach Gesch\\u00e4ftsquartalen richten und einander mit Marketingmillionen \\u00fcberbieten, ist dies alles andere als eine Selbstverst\\u00e4ndlichkeit. Mit der Vorstellungen des neuen Doom, eine moderne Interpretation des 1993 erschienenen Kult-Shooters, beweist Bethesda zudem, dass es gewillt ist, seinen Marken Zeit zu geben. Das mehrfach verschobene Projekt wurde vor ein paar Jahren komplett neu angefangen, nachdem die Produktion den internen Erwartungen des Studios id Software nicht gerecht wurde. Eine kostspielige Entscheidung, die jedoch sicherstellen sollte, dass derart wertvolle Marken langfristig nicht an Ansehen und Popularit\\u00e4t verlieren. Gleiches gilt f\\u00fcr Bethesdas andere Schl\\u00fcsselfranchises: Fallout 4 erscheint sage und schreibe sieben Jahre nach Teil 3 und der 2012 erschienene \\u00dcberraschungshit Dishonored wird erst vier Jahre sp\\u00e4ter eine Fortsetzung erhalten. Nach den heutigen Ma\\u00dfst\\u00e4ben annualisierter Spieleserien eine kleine Ewigkeit, die nicht gerade nach Profitmaximierung schreit. Und so aufregend es war, nach vielen Jahren einen neuen Big Player im Rampenlicht der E3 zu sehen, so beruhigt es als Videospielfan umso mehr, dass eine Wiederholung des Bethesda-Spektakels im n\\u00e4chsten Jahr alles andere als sicher ist. Denn w\\u00e4hrend nicht nur die eine oder andere vergangene Pressekonferenz mit farblosen L\\u00fcckenf\\u00fcllern oder leeren Ank\\u00fcndigungen nicht einmal Jahre sp\\u00e4ter erschienener oder auch wieder eingestellter Games gespickt war, hat Bethesda solange geschwiegen, bis es etwas Handfestes zu zeigen hatte. Auch davon kann sich die Branche eine Scheibe abschneiden.\",\n          \"Domain wieder erreichbar \\u2013 Unternehmen verweist auf IT-Probleme. Bei den \\u00d6BB hat eine Zugangs-Sperre bei Computern des Unternehmens f\\u00fcr die Internetseite norberthofer.at f\\u00fcr Aufregung gesorgt. Wie die Krone berichtete, konnte die Website von FP\\u00d6-Kandidat Norbert Hofer von Tausenden Computern der \\u00d6BB aus tagelang nicht aufgerufen werden \\u2013 jene von Alexander Van der Bellen (vanderbellen.at) hingegen schon. FP\\u00d6-Abgeordneter Christian H\\u00f6bart sprach von einer Frechheit. Die \\u00d6BB-Generaldirektion dementierte den Versuch einer politischen Beeinflussung: Die Ursache f\\u00fcr die Sperre war ein Fehler unseres IT-Lieferanten. Da diese Domain nicht unmittelbar nach ihrer Reservierung mit Inhalt bef\\u00fcllt war, wurde sie weggefiltert, zitierte die Krone ein entsprechendes Schreiben. Kurz nach der Anfrage der Zeitung war die Domain norberthofer.at von \\u00d6BB-PCs wieder erreichbar, so der Bericht.\",\n          \"Geb\\u00fcrtiger Bosnier kommt abl\\u00f6sefrei aus Kasachstan. Altach \\u2013 Der SCR Altach hat Mittelst\\u00fcrmer Mihret Topcagic verpflichtet. Der geb\\u00fcrtige Bosnier mit \\u00f6sterreichischer Staatsb\\u00fcrgerschaft spielte zuletzt zwei Jahre f\\u00fcr den kasachischen Klub Schachtjor Karagandy, er kommt abl\\u00f6sefrei. In Vorarlberg erh\\u00e4lt der 27-J\\u00e4hrige einen Vertrag bis Sommer 2017. Er hat beim WAC und bei der Admira bereits Bundesliga-Erfahrung gesammelt.\"\n        ],\n        \"semantic_type\": \"\",\n        \"description\": \"\"\n      }\n    }\n  ]\n}"
            }
          },
          "metadata": {},
          "execution_count": 4
        }
      ]
    },
    {
      "cell_type": "markdown",
      "source": [
        "Our corpus contains 9 categories, as seen below.  \n",
        "However, our plan now is to **ignore them**, and instead, use an **un**supervised algorithm to deduct the topics only by the articles content.   \n",
        "Or in other words: we will *cluster* those documents based on their content."
      ],
      "metadata": {
        "id": "eJtNm2v7V38-"
      }
    },
    {
      "cell_type": "code",
      "source": [
        "df_articles['article_category'].cat.categories"
      ],
      "metadata": {
        "colab": {
          "base_uri": "https://localhost:8080/"
        },
        "id": "KGgnGvdLVLkh",
        "outputId": "7e0f69c1-8e3e-4a39-d099-f05290a25633"
      },
      "execution_count": 5,
      "outputs": [
        {
          "output_type": "execute_result",
          "data": {
            "text/plain": [
              "Index(['Etat', 'Inland', 'International', 'Kultur', 'Panorama', 'Sport', 'Web',\n",
              "       'Wirtschaft', 'Wissenschaft'],\n",
              "      dtype='object')"
            ]
          },
          "metadata": {},
          "execution_count": 5
        }
      ]
    },
    {
      "cell_type": "markdown",
      "metadata": {
        "id": "lMnZgp90-Y7R"
      },
      "source": [
        "# Clustering with Latent Dirichlet Allocation (LDA)"
      ]
    },
    {
      "cell_type": "markdown",
      "metadata": {
        "id": "uvF0AlS6-dqA"
      },
      "source": [
        "## Introduction\n",
        "\n",
        "We start by clustering our data as an unsupervised learning task: **topic modeling**.\n",
        "\n",
        "There are many different methods to cluster documents. One of these methods is *topic modeling* - where an algorithm assigns a *topic* to each document and clusters these documents by these topics.\n",
        "\n",
        "Documents can be represented as a distribution of their words: their occurrences and frequencies. A set of words, which are relatively not frequent but are common to several documents, can express a document topic.  \n",
        "For example, suppose we locate documents with the words 'Android', 'OnePlus' and 'iPhone' in them. Based on the frequency of these words, we could assume that these documents are related to mobile phones.\n",
        "\n",
        "[Dirichlet](https://en.wikipedia.org/wiki/Dirichlet_distribution) is a distribution on probability distributions. In other words, it can handle the frequency of which a set of words appear (which have by themselves, each one, a frequency).\n",
        "\n",
        "For a deeper mathematical explanation of this distribution, watch this recommended video: https://www.youtube.com/watch?v=nfBNOWv1pgE"
      ]
    },
    {
      "cell_type": "code",
      "source": [
        "YouTubeVideo('nfBNOWv1pgE')"
      ],
      "metadata": {
        "colab": {
          "base_uri": "https://localhost:8080/",
          "height": 321
        },
        "id": "tHzU2nNmpKbp",
        "outputId": "12202b02-fc4e-4383-a447-2ba012cfd7ab"
      },
      "execution_count": 6,
      "outputs": [
        {
          "output_type": "execute_result",
          "data": {
            "text/plain": [
              "<IPython.lib.display.YouTubeVideo at 0x78627de3c520>"
            ],
            "text/html": [
              "\n",
              "        <iframe\n",
              "            width=\"400\"\n",
              "            height=\"300\"\n",
              "            src=\"https://www.youtube.com/embed/nfBNOWv1pgE\"\n",
              "            frameborder=\"0\"\n",
              "            allowfullscreen\n",
              "            \n",
              "        ></iframe>\n",
              "        "
            ],
            "image/jpeg": "[encoded data removed]"
          },
          "metadata": {},
          "execution_count": 6
        }
      ]
    },
    {
      "cell_type": "markdown",
      "source": [
        "LDA is an unsupervised algorithm that assigns topics to every document. These topics are described as a set of words.  \n",
        "Each document can contain several topics - more than just one topic.  \n",
        "For example, some article about Apple can be 80% mobile phones and 20% about business innovations or income.\n",
        "\n",
        "The [LDA paper](https://www.jmlr.org/papers/volume3/blei03a/blei03a.pdf) is a milestone in NLP and one of the recommended readings.\n",
        "\n",
        "If you're interested to learn more about the algorithm method, watch this video: https://www.youtube.com/watch?v=DWJYZq_fQ2A."
      ],
      "metadata": {
        "id": "EtlPh-CJpiM2"
      }
    },
    {
      "cell_type": "code",
      "source": [
        "YouTubeVideo('DWJYZq_fQ2A')"
      ],
      "metadata": {
        "colab": {
          "base_uri": "https://localhost:8080/",
          "height": 321
        },
        "id": "1x0Hfl2LpmQ0",
        "outputId": "bb3a208c-103f-4c68-ee30-863ab1201ebd"
      },
      "execution_count": 7,
      "outputs": [
        {
          "output_type": "execute_result",
          "data": {
            "text/plain": [
              "<IPython.lib.display.YouTubeVideo at 0x78627de3caf0>"
            ],
            "text/html": [
              "\n",
              "        <iframe\n",
              "            width=\"400\"\n",
              "            height=\"300\"\n",
              "            src=\"https://www.youtube.com/embed/DWJYZq_fQ2A\"\n",
              "            frameborder=\"0\"\n",
              "            allowfullscreen\n",
              "            \n",
              "        ></iframe>\n",
              "        "
            ],
            "image/jpeg": "[encoded data removed]"
          },
          "metadata": {},
          "execution_count": 7
        }
      ]
    },
    {
      "cell_type": "markdown",
      "source": [
        "Now, let's examine our German data set with LDA:"
      ],
      "metadata": {
        "id": "nXYgZ4M9plG8"
      }
    },
    {
      "cell_type": "markdown",
      "metadata": {
        "id": "ZjX33ZXRfsM4"
      },
      "source": [
        "In previous exercises, you got to know NLTK.\n",
        "\n",
        "### Stemming\n",
        "Here we will also use NLTK's methods of **stemming** the words. By returning to the root of the word, its stem, we reduce the dimensionality: the number of words in the vocabulary decreases. For example, instead of having different words for the singular and plural form - 'word' <--> 'words' or 'Kanzler', 'Kanzlers', 'Kanzlei', etc., we trim those words into 'Kanzl'. Hence we can reduce the size of the vocabulary by at least half.\n",
        "\n",
        "### Stop Words\n",
        "We will also remove `stopwords` from our text. In English, words such as: `a`, `an`, and `the` will be removed, as they don't add much to the meaning of the sentence. For each language, there is a different curated list of such words, and NLTK is a great source for those.\n",
        "\n",
        "### GenSim\n",
        "In this exercise, you'll be introduced to another package, specialized in topic modeling, called `gensim`:\n",
        "https://radimrehurek.com/gensim/\n",
        "\n"
      ]
    },
    {
      "cell_type": "code",
      "source": [
        "%pip install -U gensim --quiet"
      ],
      "metadata": {
        "id": "wXiy7e3wvTfP"
      },
      "execution_count": 8,
      "outputs": []
    },
    {
      "cell_type": "code",
      "metadata": {
        "id": "dA1Ek-yR4BBG"
      },
      "source": [
        "from pprint import pprint # for printing objects nicely\n",
        "\n",
        "from gensim import corpora, models\n",
        "from gensim.utils import simple_preprocess\n",
        "\n",
        "## Instead of the gensim English stopwords...\n",
        "# from gensim.parsing.preprocessing import STOPWORDS\n",
        "## ...we use nltk's German stopwords:\n",
        "from nltk.corpus import stopwords\n",
        "\n",
        "from nltk.stem.snowball import SnowballStemmer\n",
        "from nltk.stem.porter import *\n",
        "\n",
        "import numpy as np\n",
        "\n",
        "from random import choice\n",
        "\n",
        "np.random.seed(1234)"
      ],
      "execution_count": 9,
      "outputs": []
    },
    {
      "cell_type": "code",
      "source": [
        "# Initialize the Stemmers\n",
        "stemmer = SnowballStemmer('german')\n",
        "german_stop_words = set(stopwords.words('german'))\n",
        "\n",
        "\n",
        "def lemmatize_stemming(text):\n",
        "  \"\"\"lemmatize and stem a word\"\"\"\n",
        "  return stemmer.stem(text)\n",
        "\n",
        "\n",
        "def preprocess(text):\n",
        "  \"\"\"lemmatize and remove stopwords\"\"\"\n",
        "  result = [lemmatize_stemming(token)\n",
        "            for token in simple_preprocess(text)\n",
        "            if token not in german_stop_words and len(token) > 3]\n",
        "  return result"
      ],
      "metadata": {
        "id": "2zkoH-LZjmg6"
      },
      "execution_count": 10,
      "outputs": []
    },
    {
      "cell_type": "markdown",
      "metadata": {
        "id": "H9FeFqUmk7hJ"
      },
      "source": [
        "In our DataFrame, we have a table contains the articles and their topics.\n",
        "\n",
        "We only need the articles for this tasks - we will create our own topics. So, let's start by converting the articles column into a ist of all the articles:"
      ]
    },
    {
      "cell_type": "code",
      "metadata": {
        "id": "5Yk3kIqSjY6C",
        "outputId": "4b7ba479-ee89-4121-df54-6b284e6ce6d3",
        "colab": {
          "base_uri": "https://localhost:8080/"
        }
      },
      "source": [
        "all_articles = df_articles['content'].to_list()\n",
        "all_articles[:5]"
      ],
      "execution_count": 11,
      "outputs": [
        {
          "output_type": "execute_result",
          "data": {
            "text/plain": [
              "['Die ARD-Tochter Degeto hat sich verpflichtet, ab August einer Quotenregelung zu folgen, die für die Gleichstellung von Regisseurinnen sorgen soll. In mindestens 20 Prozent der Filme, die die ARD-Tochter Degeto produziert oder mitfinanziert, sollen ab Mitte August Frauen Regie führen. Degeto-Chefin Christine Strobl folgt mit dieser Selbstverpflichtung der Forderung von Pro Quote Regie. Die Vereinigung von Regisseurinnen hatte im vergangenen Jahr eine Quotenregelung gefordert, um den weiblichen Filmschaffenden mehr Gehör und ökonomische Gleichstellung zu verschaffen. Pro Quote Regie kritisiert, dass, während rund 50 Prozent der Regie-Studierenden weiblich seien, der Anteil der Regisseurinnen bei Fernsehfilmen nur bei 13 bis 15 Prozent liege. In Österreich sieht die Situation ähnlich aus, auch hier wird von unterschiedlichen Seiten Handlungsbedarf angemahnt. Aber wie soll dieser aussehen? Ist die Einführung der Quotenregelung auch für die österreichische Film- und Fernsehlandschaft sinnvoll? Diskutieren Sie im Forum.',\n",
              " 'App sei nicht so angenommen worden wie geplant. Wegen zu geringer Nutzung schaltet Spiegel Online nach zwei Jahren die Fußball-App aus, die App sei nicht so genutzt worden, wie man sich das vorgestellt habe. Dafür soll der Live-Fußball-Bereich in der News-App ausgebaut werden.',\n",
              " 'Mitarbeiter überreichten Eigentümervertretern Petition gegen Personalabbau. Wien – Mehrere hundert APA-Mitarbeiter haben laut dem Betriebsrat eine Resolution unterschrieben, die am Mittwoch den Eigentümervertretern übergeben wurde. Inhalt ist ein deutlicher Protest gegen den geplanten Personalabbau (DER STANDARD berichtete) und für eine Gleichstellung der Mitarbeiter von APA-Tochterunternehmen bei automatischen Gehaltsanpassungen. Ich lehne erneute Personalkürzungen oder gar Kündigungen, wie sie derzeit insbesondere in der Redaktion geplant sind, ab und unterstütze die Forderung nach einer verpflichtenden Weitergabe der jährlichen Ist-Erhöhung der Gehälter für alle MitarbeiterInnen der APA-Gruppe, heißt es in der Resolution. Sie wurde den Teilnehmern von Aufsichtsrats- und Vorstandssitzung von denen der zeitgleich stattfindenden Betriebsversammlung übergeben. Hauptkritikpunkt der Belegschaft ist, dass Sparmaßnahmen angekündigt würden, obwohl die APA seit Jahren Gewinne schreibe. Die als Genossenschaft organisierte Agentur gehört zu 45 Prozent dem ORF, den Rest teilen sich 13 Tageszeitungen. Ihnen wirft der Betriebsrat vor, Gewinne einzustreifen und gleichzeitig Sparprogramme zu verordnen. Peter Kropsch, Vorsitzender der APA-Geschäftsführung, versteht die Aufregung nicht vollends. Die APA sei ein gewinnorientiertes Unternehmen, das auch in Zukunft stabil aufgestellt sein müsse, sagt er zum STANDARD. Der Betriebsrat glaubt, dass man die Kosten einfach unbegrenzt weiterlaufen lassen kann, so Kropsch. Für 2016 steige das Personalbudget sogar, allerdings würden automatische Gehaltserhöhungen die Kosten für den einzelnen Mitarbeiter steigen lassen. Ob die APA die Qualität auch mit weniger Mitarbeitern aufrechterhalten könne? Na klar, sagt Kropsch – unter vergleichbaren Agenturen in Europa sei man am breitesten aufgestellt, da habe ich keine Angst. Persönlich habe er außerdem nur eine geringe Beteiligung an der Betriebsversammlung wahrgenommen.',\n",
              " 'Service: Jobwechsel in der Kommunikationsbranche im Überblick. Hier liefert derStandard.at/Etat Jobwechsel in der Kommunikationsbranche im Überblick. Grob sortiert nach Kalenderwochen, in denen die Infos einlangten. Quellen: Presse- und eigene Infos, andere Branchendienste wie Horizont.at und medianet.at. Wenn Sie Infos für uns haben, bitte ein Mail an etat@derstandard.at schicken. Woche 15 / 2017 Woche 14 / 2017 Woche 13 / 2017 Woche 12 / 2017 Woche 9 / 2017 Woche 8 / 2017 Woche 7 / 2017 Spannende neue Aufgaben voraus: ich mach ab Februar die Nachrichten auf @kurierat. Ich freu mich auch. https://t.co/0zC6EsrXe3 Woche 2 / 2017 Freu mich: Die ausgezeichnete Journalistin Münire Inam vom #ORFreport moderiert (alternierend mit Martina Rupp) ab 23.1. heute konkret! Wie es im kommenden Jahr weitergeht, lasse ich euch bald wissen. Es warten spannende neue Herausforderungen. Woche 45 / 2016 Stefan Huber wechselt von Media in Progress zu content garden technologies und übernimmt den Ausbau der Content Management Unit. Mich interessieren vor allem die Möglichkeiten, die sich aus der Kombination von Content und Technologie ergeben, sagt er.  Woche 43 / 2016 Woche 41 / 2016 Woche 38 / 2016 Woche 37 / 2016 Woche 33 / 2016  Woche 31 / 2016 Woche 30 / 2016 Krone-Anzeigenvermarktung: Thomas Kreuzer leitet die Branchenvermarktung Special Account, Thomas Grojer übernimmt die Regionalleitung Wien und Stammausgabe. Sie folgen in ihren neuen Funktionen Friedrich Dungl nach, der als Geschäftsführer in das Niederösterreichische Pressehaus wechselt. Woche 18 /2016 Vielen Dank! Ich verspreche auch, nicht über die Alpenrepublik und das Schnitzelland zu schreiben. https://t.co/zqj0HXZ7dD Andreas Csar wechselt vom Verband Österreichischer Zeitungen (VÖZ) als Leiter der Presse- und Öffentlichkeitsarbeit zur Stelle des Pressesprechers bei ecoplus (Wirtschaftsagentur des Landes Niederösterreichs). Woche 11 / 2016 Woche 6 / 2016 Woche 5 / 2016 Woche 4 / 2016 Die ÖBB holen Sven Pusswald von der OMV als Leiter der Konzernkommunikation & Public Affairs.',\n",
              " 'Was Sie über diese Woche wissen sollten - und was Sie gleich wieder vergessen können. Wien - Was hat sich diese Woche getan in der Medienwelt? Ist Ihnen da  nichts entgangen? Besser noch einmal durchchecken – im  Etat.at-Wochenquiz. Wir wünschen viel Spaß beim Mitmachen! Und für alle, die vorige Woche nicht so viel Zeit hatten, Medien-Nachrichten zu lesen: ein nützlicher Link.']"
            ]
          },
          "metadata": {},
          "execution_count": 11
        }
      ]
    },
    {
      "cell_type": "markdown",
      "metadata": {
        "id": "LNnJfuDllNhz"
      },
      "source": [
        "## Preprocessing\n",
        "\n",
        "Let's see an example, what happens when we pre-process a document.\n",
        "\n",
        "Look at the output of this cell, and compare the tokenized original document, to the lemmatized document:"
      ]
    },
    {
      "cell_type": "code",
      "metadata": {
        "id": "oVI6_TKjjm2B",
        "outputId": "b9cfe2cd-7f49-4af5-868f-c38ad8cdb5f1",
        "colab": {
          "base_uri": "https://localhost:8080/"
        }
      },
      "source": [
        "print('original document: ')\n",
        "article = choice(all_articles)\n",
        "print(article, \"\\n\")\n",
        "\n",
        "# This time, we don't care about punctuations as tokens (Can you think why?): because we will delete them in the preprocess function we defined before (with if statemnet \"len(token) > 3\")\n",
        "print('original document, broken into words: ')\n",
        "words = [word for word in article.split(' ')]\n",
        "print(words, \"\\n\")\n",
        "print(\"Vocabulary size of the original article:\", len(set(words)))\n",
        "\n",
        "# now let's see what happens when we pass the article into our preprocessing\n",
        "# method:\n",
        "print('\\n\\n tokenized and lemmatized document: ')\n",
        "preprocessed_article = preprocess(article)\n",
        "print(preprocessed_article, '\\n')\n",
        "print(\"Vocabulary size after preprocessing:\", len(set(preprocessed_article)))"
      ],
      "execution_count": 12,
      "outputs": [
        {
          "output_type": "stream",
          "name": "stdout",
          "text": [
            "original document: \n",
            "Nationalistische Bewegung protestiert gegen die geplante Bildung einer Serben-Gemeinschaft. Prishtina – Tausende Regierungsgegner haben am Samstag im Kosovo gegen ein von der EU vermitteltes Abkommen zur Normalisierung der Beziehungen zu Serbien protestiert. Einige Demonstranten griffen die Polizei im Zentrum der Hauptstadt Prishtina (Pristina) mit Brandsätzen und Steinen an. Mehrere Fensterscheiben des Regierungssitzes gingen zu Bruch, zudem brach ein Feuer in dem Gebäude aus. Die Sicherheitskräfte feuerten Tränengas auf die Demonstranten ab. Zu den Ausschreitungen war es nach dem Abschluss einer von drei führenden Oppositionsparteien im Stadtzentrum abgehaltenen Protestveranstaltung gekommen. Die Opposition läuft Sturm gegen das Vorhaben, der serbischen Minderheit im Kosovo mehr Rechte zuzugestehen. Auch die Beilegung eines Grenzstreits mit dem benachbarten Montenegro lehnt die Opposition mit der Begründung ab, damit seien Gebietsverluste verbunden. Der Oppositionspolitiker Fatmir Limaj von der Partei Initiative für das Kosovo warf der Regierung vor, sie setze die Souveränität des Kosovos aufs Spiel, und forderte Neuwahlen. Die Opposition blockiert seit Wochen zudem immer wieder Parlamentssitzungen mit Tränengas, Eierwürfen und Pfeifkonzerten. Das Kosovo hatte sich 2008 einseitig für unabhängig von Serbien erklärt. Die serbische Regierung und die Kosovo-Serben erkennen die Unabhängigkeit aber nicht an. Eine Normalisierung der Beziehungen zwischen Pristina und Belgrad ist aber Voraussetzung für den von Serbien gewünschten Beitritt zur Europäischen Union. Auch die Kosovo-Regierung strebt die Aufnahme in die EU an. \n",
            "\n",
            "original document, broken into words: \n",
            "['Nationalistische', 'Bewegung', 'protestiert', 'gegen', 'die', 'geplante', 'Bildung', 'einer', 'Serben-Gemeinschaft.', 'Prishtina', '–', 'Tausende', 'Regierungsgegner', 'haben', 'am', 'Samstag', 'im', 'Kosovo', 'gegen', 'ein', 'von', 'der', 'EU', 'vermitteltes', 'Abkommen', 'zur', 'Normalisierung', 'der', 'Beziehungen', 'zu', 'Serbien', 'protestiert.', 'Einige', 'Demonstranten', 'griffen', 'die', 'Polizei', 'im', 'Zentrum', 'der', 'Hauptstadt', 'Prishtina', '(Pristina)', 'mit', 'Brandsätzen', 'und', 'Steinen', 'an.', 'Mehrere', 'Fensterscheiben', 'des', 'Regierungssitzes', 'gingen', 'zu', 'Bruch,', 'zudem', 'brach', 'ein', 'Feuer', 'in', 'dem', 'Gebäude', 'aus.', 'Die', 'Sicherheitskräfte', 'feuerten', 'Tränengas', 'auf', 'die', 'Demonstranten', 'ab.', 'Zu', 'den', 'Ausschreitungen', 'war', 'es', 'nach', 'dem', 'Abschluss', 'einer', 'von', 'drei', 'führenden', 'Oppositionsparteien', 'im', 'Stadtzentrum', 'abgehaltenen', 'Protestveranstaltung', 'gekommen.', 'Die', 'Opposition', 'läuft', 'Sturm', 'gegen', 'das', 'Vorhaben,', 'der', 'serbischen', 'Minderheit', 'im', 'Kosovo', 'mehr', 'Rechte', 'zuzugestehen.', 'Auch', 'die', 'Beilegung', 'eines', 'Grenzstreits', 'mit', 'dem', 'benachbarten', 'Montenegro', 'lehnt', 'die', 'Opposition', 'mit', 'der', 'Begründung', 'ab,', 'damit', 'seien', 'Gebietsverluste', 'verbunden.', 'Der', 'Oppositionspolitiker', 'Fatmir', 'Limaj', 'von', 'der', 'Partei', 'Initiative', 'für', 'das', 'Kosovo', 'warf', 'der', 'Regierung', 'vor,', 'sie', 'setze', 'die', 'Souveränität', 'des', 'Kosovos', 'aufs', 'Spiel,', 'und', 'forderte', 'Neuwahlen.', 'Die', 'Opposition', 'blockiert', 'seit', 'Wochen', 'zudem', 'immer', 'wieder', 'Parlamentssitzungen', 'mit', 'Tränengas,', 'Eierwürfen', 'und', 'Pfeifkonzerten.', 'Das', 'Kosovo', 'hatte', 'sich', '2008', 'einseitig', 'für', 'unabhängig', 'von', 'Serbien', 'erklärt.', 'Die', 'serbische', 'Regierung', 'und', 'die', 'Kosovo-Serben', 'erkennen', 'die', 'Unabhängigkeit', 'aber', 'nicht', 'an.', 'Eine', 'Normalisierung', 'der', 'Beziehungen', 'zwischen', 'Pristina', 'und', 'Belgrad', 'ist', 'aber', 'Voraussetzung', 'für', 'den', 'von', 'Serbien', 'gewünschten', 'Beitritt', 'zur', 'Europäischen', 'Union.', 'Auch', 'die', 'Kosovo-Regierung', 'strebt', 'die', 'Aufnahme', 'in', 'die', 'EU', 'an.'] \n",
            "\n",
            "Vocabulary size of the original article: 151\n",
            "\n",
            "\n",
            " tokenized and lemmatized document: \n",
            "['beweg', 'protestiert', 'geplant', 'bildung', 'serb', 'gemeinschaft', 'prishtina', 'tausend', 'samstag', 'kosovo', 'vermittelt', 'abkomm', 'normalisier', 'bezieh', 'serbi', 'protestiert', 'demonstrant', 'griff', 'polizei', 'zentrum', 'hauptstadt', 'prishtina', 'pristina', 'brandsatz', 'stein', 'mehr', 'fensterscheib', 'ging', 'bruch', 'zud', 'brach', 'feu', 'gebaud', 'feuert', 'tranengas', 'demonstrant', 'ausschreit', 'abschluss', 'drei', 'fuhrend', 'stadtzentrum', 'abgehalt', 'gekomm', 'opposition', 'lauft', 'sturm', 'vorhab', 'serbisch', 'mind', 'kosovo', 'mehr', 'recht', 'zuzugesteh', 'beileg', 'grenzstreit', 'benachbart', 'montenegro', 'lehnt', 'opposition', 'begrund', 'seien', 'gebietsverlust', 'verbund', 'fatmir', 'limaj', 'partei', 'initiativ', 'kosovo', 'warf', 'regier', 'setz', 'souveranitat', 'kosovos', 'auf', 'spiel', 'fordert', 'neuwahl', 'opposition', 'blockiert', 'seit', 'woch', 'zud', 'imm', 'tranengas', 'eierwurf', 'pfeifkonzert', 'kosovo', 'einseit', 'unabhang', 'serbi', 'erklart', 'serbisch', 'regier', 'kosovo', 'serb', 'erkenn', 'unabhang', 'normalisier', 'bezieh', 'pristina', 'belgrad', 'voraussetz', 'serbi', 'gewunscht', 'beitritt', 'europa', 'union', 'kosovo', 'regier', 'strebt', 'aufnahm'] \n",
            "\n",
            "Vocabulary size after preprocessing: 88\n"
          ]
        }
      ]
    },
    {
      "cell_type": "markdown",
      "metadata": {
        "id": "DDVOwyaIlL52"
      },
      "source": [
        "Now let's pre-process all the documents.  \n",
        "This is a heavy procedure, and may take a bit ;)"
      ]
    },
    {
      "cell_type": "code",
      "metadata": {
        "id": "2pQYw_aYkq-_",
        "outputId": "63f15000-10e2-4e8e-867b-d2d306a62549",
        "colab": {
          "base_uri": "https://localhost:8080/"
        }
      },
      "source": [
        "processed_docs = list(map(preprocess, all_articles))\n",
        "processed_docs[:10]"
      ],
      "execution_count": 13,
      "outputs": [
        {
          "output_type": "execute_result",
          "data": {
            "text/plain": [
              "[['tocht',\n",
              "  'degeto',\n",
              "  'verpflichtet',\n",
              "  'august',\n",
              "  'quotenregel',\n",
              "  'folg',\n",
              "  'gleichstell',\n",
              "  'regisseurinn',\n",
              "  'sorg',\n",
              "  'mindest',\n",
              "  'prozent',\n",
              "  'film',\n",
              "  'tocht',\n",
              "  'degeto',\n",
              "  'produziert',\n",
              "  'mitfinanziert',\n",
              "  'soll',\n",
              "  'mitt',\n",
              "  'august',\n",
              "  'frau',\n",
              "  'regi',\n",
              "  'fuhr',\n",
              "  'degeto',\n",
              "  'chefin',\n",
              "  'christin',\n",
              "  'strobl',\n",
              "  'folgt',\n",
              "  'forder',\n",
              "  'quot',\n",
              "  'regi',\n",
              "  'verein',\n",
              "  'regisseurinn',\n",
              "  'vergang',\n",
              "  'jahr',\n",
              "  'quotenregel',\n",
              "  'gefordert',\n",
              "  'weiblich',\n",
              "  'filmschaff',\n",
              "  'mehr',\n",
              "  'gehor',\n",
              "  'okonom',\n",
              "  'gleichstell',\n",
              "  'verschaff',\n",
              "  'quot',\n",
              "  'regi',\n",
              "  'kritisiert',\n",
              "  'rund',\n",
              "  'prozent',\n",
              "  'regi',\n",
              "  'studier',\n",
              "  'weiblich',\n",
              "  'seien',\n",
              "  'anteil',\n",
              "  'regisseurinn',\n",
              "  'fernsehfilm',\n",
              "  'prozent',\n",
              "  'lieg',\n",
              "  'osterreich',\n",
              "  'sieht',\n",
              "  'situation',\n",
              "  'ahnlich',\n",
              "  'seit',\n",
              "  'handlungsbedarf',\n",
              "  'angemahnt',\n",
              "  'ausseh',\n",
              "  'einfuhr',\n",
              "  'quotenregel',\n",
              "  'osterreich',\n",
              "  'film',\n",
              "  'sinnvoll',\n",
              "  'diskuti',\n",
              "  'forum'],\n",
              " ['angenomm',\n",
              "  'word',\n",
              "  'geplant',\n",
              "  'weg',\n",
              "  'gering',\n",
              "  'nutzung',\n",
              "  'schaltet',\n",
              "  'spiegel',\n",
              "  'onlin',\n",
              "  'zwei',\n",
              "  'jahr',\n",
              "  'fussball',\n",
              "  'genutzt',\n",
              "  'word',\n",
              "  'vorgestellt',\n",
              "  'dafur',\n",
              "  'liv',\n",
              "  'fussball',\n",
              "  'bereich',\n",
              "  'news',\n",
              "  'ausgebaut'],\n",
              " ['mitarbeit',\n",
              "  'uberreicht',\n",
              "  'petition',\n",
              "  'personalabbau',\n",
              "  'wien',\n",
              "  'mehr',\n",
              "  'hundert',\n",
              "  'mitarbeit',\n",
              "  'laut',\n",
              "  'betriebsrat',\n",
              "  'resolution',\n",
              "  'unterschrieb',\n",
              "  'mittwoch',\n",
              "  'ubergeb',\n",
              "  'wurd',\n",
              "  'inhalt',\n",
              "  'deutlich',\n",
              "  'prot',\n",
              "  'geplant',\n",
              "  'personalabbau',\n",
              "  'standard',\n",
              "  'berichtet',\n",
              "  'gleichstell',\n",
              "  'mitarbeit',\n",
              "  'automat',\n",
              "  'lehn',\n",
              "  'erneut',\n",
              "  'kundig',\n",
              "  'derzeit',\n",
              "  'insbesond',\n",
              "  'redaktion',\n",
              "  'geplant',\n",
              "  'unterstutz',\n",
              "  'forder',\n",
              "  'verpflicht',\n",
              "  'weitergab',\n",
              "  'jahrlich',\n",
              "  'erhoh',\n",
              "  'gehalt',\n",
              "  'grupp',\n",
              "  'heisst',\n",
              "  'resolution',\n",
              "  'wurd',\n",
              "  'teilnehm',\n",
              "  'aufsichtsrat',\n",
              "  'den',\n",
              "  'zeitgleich',\n",
              "  'stattfind',\n",
              "  'ubergeb',\n",
              "  'belegschaft',\n",
              "  'sparmassnahm',\n",
              "  'angekundigt',\n",
              "  'obwohl',\n",
              "  'seit',\n",
              "  'jahr',\n",
              "  'gewinn',\n",
              "  'schreib',\n",
              "  'genossenschaft',\n",
              "  'organisiert',\n",
              "  'agentur',\n",
              "  'gehort',\n",
              "  'prozent',\n",
              "  'rest',\n",
              "  'teil',\n",
              "  'tageszeit',\n",
              "  'wirft',\n",
              "  'betriebsrat',\n",
              "  'gewinn',\n",
              "  'einzustreif',\n",
              "  'gleichzeit',\n",
              "  'sparprogramm',\n",
              "  'verordn',\n",
              "  'pet',\n",
              "  'kropsch',\n",
              "  'vorsitz',\n",
              "  'versteht',\n",
              "  'aufreg',\n",
              "  'vollend',\n",
              "  'unternehm',\n",
              "  'zukunft',\n",
              "  'stabil',\n",
              "  'aufgestellt',\n",
              "  'muss',\n",
              "  'sagt',\n",
              "  'standard',\n",
              "  'betriebsrat',\n",
              "  'glaubt',\n",
              "  'kost',\n",
              "  'einfach',\n",
              "  'unbegrenzt',\n",
              "  'weiterlauf',\n",
              "  'lass',\n",
              "  'kropsch',\n",
              "  'steig',\n",
              "  'personalbudget',\n",
              "  'sogar',\n",
              "  'allerding',\n",
              "  'automat',\n",
              "  'kost',\n",
              "  'einzeln',\n",
              "  'mitarbeit',\n",
              "  'steig',\n",
              "  'lass',\n",
              "  'qualitat',\n",
              "  'wenig',\n",
              "  'mitarbeit',\n",
              "  'konn',\n",
              "  'klar',\n",
              "  'sagt',\n",
              "  'kropsch',\n",
              "  'vergleichbar',\n",
              "  'agentur',\n",
              "  'europa',\n",
              "  'breit',\n",
              "  'aufgestellt',\n",
              "  'angst',\n",
              "  'person',\n",
              "  'ausserd',\n",
              "  'gering',\n",
              "  'beteil',\n",
              "  'wahrgenomm'],\n",
              " ['servic',\n",
              "  'jobwechsel',\n",
              "  'uberblick',\n",
              "  'liefert',\n",
              "  'derstandard',\n",
              "  'etat',\n",
              "  'jobwechsel',\n",
              "  'uberblick',\n",
              "  'grob',\n",
              "  'sortiert',\n",
              "  'kalenderwoch',\n",
              "  'den',\n",
              "  'infos',\n",
              "  'einlangt',\n",
              "  'quell',\n",
              "  'press',\n",
              "  'eig',\n",
              "  'infos',\n",
              "  'branchendien',\n",
              "  'horizont',\n",
              "  'medianet',\n",
              "  'infos',\n",
              "  'bitt',\n",
              "  'mail',\n",
              "  'etat',\n",
              "  'derstandard',\n",
              "  'schick',\n",
              "  'woch',\n",
              "  'woch',\n",
              "  'woch',\n",
              "  'woch',\n",
              "  'woch',\n",
              "  'woch',\n",
              "  'woch',\n",
              "  'spannend',\n",
              "  'neu',\n",
              "  'aufgab',\n",
              "  'voraus',\n",
              "  'mach',\n",
              "  'februar',\n",
              "  'nachricht',\n",
              "  'kurierat',\n",
              "  'freu',\n",
              "  'https',\n",
              "  'esrx',\n",
              "  'woch',\n",
              "  'freu',\n",
              "  'ausgezeichnet',\n",
              "  'journalistin',\n",
              "  'munir',\n",
              "  'inam',\n",
              "  'orfreport',\n",
              "  'moderiert',\n",
              "  'alternier',\n",
              "  'martina',\n",
              "  'rupp',\n",
              "  'heut',\n",
              "  'konkret',\n",
              "  'kommend',\n",
              "  'jahr',\n",
              "  'weitergeht',\n",
              "  'lass',\n",
              "  'bald',\n",
              "  'wiss',\n",
              "  'wart',\n",
              "  'spannend',\n",
              "  'neu',\n",
              "  'woch',\n",
              "  'stefan',\n",
              "  'hub',\n",
              "  'wechselt',\n",
              "  'media',\n",
              "  'progress',\n",
              "  'content',\n",
              "  'gard',\n",
              "  'technologi',\n",
              "  'ubernimmt',\n",
              "  'ausbau',\n",
              "  'content',\n",
              "  'management',\n",
              "  'unit',\n",
              "  'interessi',\n",
              "  'moglich',\n",
              "  'kombination',\n",
              "  'content',\n",
              "  'technologi',\n",
              "  'ergeb',\n",
              "  'sagt',\n",
              "  'woch',\n",
              "  'woch',\n",
              "  'woch',\n",
              "  'woch',\n",
              "  'woch',\n",
              "  'woch',\n",
              "  'woch',\n",
              "  'kron',\n",
              "  'thomas',\n",
              "  'kreuz',\n",
              "  'leitet',\n",
              "  'special',\n",
              "  'account',\n",
              "  'thomas',\n",
              "  'groj',\n",
              "  'ubernimmt',\n",
              "  'regionalleit',\n",
              "  'wien',\n",
              "  'stammausgab',\n",
              "  'folg',\n",
              "  'neu',\n",
              "  'funktion',\n",
              "  'friedrich',\n",
              "  'dungl',\n",
              "  'geschaftsfuhr',\n",
              "  'pressehaus',\n",
              "  'wechselt',\n",
              "  'woch',\n",
              "  'viel',\n",
              "  'dank',\n",
              "  'versprech',\n",
              "  'alpenrepubl',\n",
              "  'schnitzelland',\n",
              "  'schreib',\n",
              "  'https',\n",
              "  'andreas',\n",
              "  'csar',\n",
              "  'wechselt',\n",
              "  'verband',\n",
              "  'zeitung',\n",
              "  'leit',\n",
              "  'press',\n",
              "  'stell',\n",
              "  'pressesprech',\n",
              "  'ecoplus',\n",
              "  'land',\n",
              "  'woch',\n",
              "  'woch',\n",
              "  'woch',\n",
              "  'woch',\n",
              "  'hol',\n",
              "  'sven',\n",
              "  'pusswald',\n",
              "  'leit',\n",
              "  'public',\n",
              "  'affair'],\n",
              " ['woch',\n",
              "  'wiss',\n",
              "  'sollt',\n",
              "  'gleich',\n",
              "  'vergess',\n",
              "  'wien',\n",
              "  'woch',\n",
              "  'getan',\n",
              "  'medienwelt',\n",
              "  'entgang',\n",
              "  'bess',\n",
              "  'durchcheck',\n",
              "  'etat',\n",
              "  'wochenquiz',\n",
              "  'wunsch',\n",
              "  'spass',\n",
              "  'beim',\n",
              "  'mitmach',\n",
              "  'vorig',\n",
              "  'woch',\n",
              "  'zeit',\n",
              "  'medi',\n",
              "  'nachricht',\n",
              "  'les',\n",
              "  'nutzlich',\n",
              "  'link'],\n",
              " ['woch',\n",
              "  'wiss',\n",
              "  'sollt',\n",
              "  'gleich',\n",
              "  'vergess',\n",
              "  'wien',\n",
              "  'woch',\n",
              "  'getan',\n",
              "  'medienwelt',\n",
              "  'entgang',\n",
              "  'bess',\n",
              "  'durchcheck',\n",
              "  'etat',\n",
              "  'wochenquiz',\n",
              "  'wunsch',\n",
              "  'spass',\n",
              "  'beim',\n",
              "  'mitmach',\n",
              "  'vorig',\n",
              "  'woch',\n",
              "  'zeit',\n",
              "  'medi',\n",
              "  'nachricht',\n",
              "  'les',\n",
              "  'nutzlich',\n",
              "  'link'],\n",
              " ['mocht',\n",
              "  'eig',\n",
              "  'plattform',\n",
              "  'aufbau',\n",
              "  'les',\n",
              "  'unterstutzt',\n",
              "  'irgendwas',\n",
              "  'medi',\n",
              "  'recht',\n",
              "  'vag',\n",
              "  'stefan',\n",
              "  'niggemei',\n",
              "  'plant',\n",
              "  'jedenfall',\n",
              "  'deutsch',\n",
              "  'onlinemagazin',\n",
              "  'krautreport',\n",
              "  'verlasst',\n",
              "  'niggemei',\n",
              "  'herausgeb',\n",
              "  'initiator',\n",
              "  'kritisch',\n",
              "  'bild',\n",
              "  'blog',\n",
              "  'kundigt',\n",
              "  'neu',\n",
              "  'plattform',\n",
              "  'medienkrit',\n",
              "  'einbezieh',\n",
              "  'les',\n",
              "  'blog',\n",
              "  'schreibt',\n",
              "  'niggemei',\n",
              "  'projekt',\n",
              "  'krautreport',\n",
              "  'richtig',\n",
              "  'findet',\n",
              "  'umsetz',\n",
              "  'vorstell',\n",
              "  'verlief',\n",
              "  'grosst',\n",
              "  'einzeln',\n",
              "  'fehl',\n",
              "  'meinung',\n",
              "  'eig',\n",
              "  'softwar',\n",
              "  'programmi',\n",
              "  'lass',\n",
              "  'zeit',\n",
              "  'geld',\n",
              "  'nerv',\n",
              "  'gekostet',\n",
              "  'teilweis',\n",
              "  'richtig',\n",
              "  'funktioniert',\n",
              "  'zentral',\n",
              "  'probl',\n",
              "  'verortet',\n",
              "  'redaktionell',\n",
              "  'bereich',\n",
              "  'rot',\n",
              "  'fad',\n",
              "  'gefehlt',\n",
              "  'trieb',\n",
              "  'lust',\n",
              "  'neu',\n",
              "  'geschaftsmodell',\n",
              "  'auszuprobi',\n",
              "  'unbedingt',\n",
              "  'gemeinsam',\n",
              "  'redaktionell',\n",
              "  'ide',\n",
              "  'tat',\n",
              "  'schwer',\n",
              "  'defini',\n",
              "  'worub',\n",
              "  'bericht',\n",
              "  'niggemei',\n",
              "  'verliert',\n",
              "  'krautreport',\n",
              "  'bekannt',\n",
              "  'journalist',\n",
              "  'portal',\n",
              "  'wurd',\n",
              "  'jahr',\n",
              "  'erfolgreich',\n",
              "  'crowdfunding',\n",
              "  'tauf',\n",
              "  'gehob',\n",
              "  'finanzier',\n",
              "  'gelang',\n",
              "  'nachd',\n",
              "  'mitglied',\n",
              "  'jahresabo',\n",
              "  'euro',\n",
              "  'abschloss',\n",
              "  'krautreport',\n",
              "  'weitergeht',\n",
              "  'nach',\n",
              "  'woch',\n",
              "  'zeig',\n",
              "  'mitglied',\n",
              "  'muss',\n",
              "  'namlich',\n",
              "  'verlang',\n",
              "  'zweit',\n",
              "  'jahr',\n",
              "  'geh'],\n",
              " ['fest',\n",
              "  'redaktion',\n",
              "  'umwandl',\n",
              "  'genossenschaft',\n",
              "  'steht',\n",
              "  'kurz',\n",
              "  'bevor',\n",
              "  'berlin',\n",
              "  'wien',\n",
              "  'angesagt',\n",
              "  'revolution',\n",
              "  'verandert',\n",
              "  'form',\n",
              "  'fortgesetzt',\n",
              "  'krautreport',\n",
              "  'genossenschaft',\n",
              "  'umgewandelt',\n",
              "  'muss',\n",
              "  'gefund',\n",
              "  'einlag',\n",
              "  'zumind',\n",
              "  'euro',\n",
              "  'beteil',\n",
              "  'erst',\n",
              "  'zahl',\n",
              "  'erreicht',\n",
              "  'genossenschaft',\n",
              "  'eingetrag',\n",
              "  'daran',\n",
              "  'scheit',\n",
              "  'plattform',\n",
              "  'bish',\n",
              "  'gesellschaft',\n",
              "  'beschrankt',\n",
              "  'haftung',\n",
              "  'weitergefuhrt',\n",
              "  'mitglied',\n",
              "  'haft',\n",
              "  'hoh',\n",
              "  'einlag',\n",
              "  'besteht',\n",
              "  'unabhang',\n",
              "  'einlagenhoh',\n",
              "  'mitglied',\n",
              "  'stimm',\n",
              "  'erhalt',\n",
              "  'eingenomm',\n",
              "  'euro',\n",
              "  'soll',\n",
              "  'verwendet',\n",
              "  'besteh',\n",
              "  'portal',\n",
              "  'journalismus',\n",
              "  'crowdfunding',\n",
              "  'plattform',\n",
              "  'erweit',\n",
              "  'erst',\n",
              "  'jahr',\n",
              "  'besteh',\n",
              "  'krautreport',\n",
              "  'uneingeschrankt',\n",
              "  'zufried',\n",
              "  'text',\n",
              "  'bish',\n",
              "  'erschi',\n",
              "  'wenig',\n",
              "  'anfang',\n",
              "  'geplant',\n",
              "  'stefan',\n",
              "  'niggermei',\n",
              "  'kritisiert',\n",
              "  'austritt',\n",
              "  'kollektiv',\n",
              "  'fehlend',\n",
              "  'redaktionell',\n",
              "  'lini',\n",
              "  'geschaff',\n",
              "  'fest',\n",
              "  'redaktion',\n",
              "  'vorteil',\n",
              "  'mitgliedschaft',\n",
              "  'abseit',\n",
              "  'genossenschaft',\n",
              "  'soll',\n",
              "  'ausgebaut',\n",
              "  'planung',\n",
              "  'beispielsweis',\n",
              "  'mitglied',\n",
              "  'lauf',\n",
              "  'oktob',\n",
              "  'davon',\n",
              "  'ziel',\n",
              "  'gesetzt',\n",
              "  'soll',\n",
              "  'zumind',\n",
              "  'verlangert',\n",
              "  'eig',\n",
              "  'angab',\n",
              "  'benotigt',\n",
              "  'plattform',\n",
              "  'mindest',\n",
              "  'unterstutz',\n",
              "  'fortgefuhrt'],\n",
              " ['nachricht',\n",
              "  'drei',\n",
              "  'jahr',\n",
              "  'finanzier',\n",
              "  'gescheitert',\n",
              "  'york',\n",
              "  'news',\n",
              "  'circa',\n",
              "  'speziell',\n",
              "  'smartphon',\n",
              "  'drei',\n",
              "  'jahr',\n",
              "  'end',\n",
              "  'team',\n",
              "  'geld',\n",
              "  'ausgegang',\n",
              "  'betrieb',\n",
              "  'weit',\n",
              "  'eingestellt',\n",
              "  'erklart',\n",
              "  'mitgrund',\n",
              "  'matt',\n",
              "  'galligan',\n",
              "  'mittwoch',\n",
              "  'konzept',\n",
              "  'circa',\n",
              "  'klein',\n",
              "  'happch',\n",
              "  'runterzubrech',\n",
              "  'smartphon',\n",
              "  'bildschirm',\n",
              "  'pass',\n",
              "  'nutz',\n",
              "  'updat',\n",
              "  'aktuell',\n",
              "  'entwickl',\n",
              "  'laufend',\n",
              "  'halt',\n",
              "  'ide',\n",
              "  'mach',\n",
              "  'laut',\n",
              "  'medienbericht',\n",
              "  'rund',\n",
              "  'funf',\n",
              "  'million',\n",
              "  'dollar',\n",
              "  'investor',\n",
              "  'eingesammelt',\n",
              "  'mehr',\n",
              "  'etabliert',\n",
              "  'journalist',\n",
              "  'angeworb',\n",
              "  'circa',\n",
              "  'gelung',\n",
              "  'weit',\n",
              "  'investment',\n",
              "  'einzufadeln',\n",
              "  'bevor',\n",
              "  'ressourc',\n",
              "  'knapp',\n",
              "  'geword',\n",
              "  'seien',\n",
              "  'schrieb',\n",
              "  'galligan',\n",
              "  'blog',\n",
              "  'plattform',\n",
              "  'medium',\n",
              "  'hatt',\n",
              "  'versuch',\n",
              "  'werbung',\n",
              "  'gebuhr',\n",
              "  'rund',\n",
              "  'komm',\n",
              "  'raumt',\n",
              "  'hatt',\n",
              "  'vision',\n",
              "  'dien',\n",
              "  'widersproch',\n",
              "  'wohl',\n",
              "  'genug',\n",
              "  'eingebracht',\n",
              "  'sagt',\n",
              "  'galligan',\n",
              "  'circa',\n",
              "  'bereit',\n",
              "  'seit',\n",
              "  'montag',\n",
              "  'mehr',\n",
              "  'veroffentlicht'],\n",
              " ['news',\n",
              "  'interess',\n",
              "  'les',\n",
              "  'ausgeliefert',\n",
              "  'wien',\n",
              "  'london',\n",
              "  'britisch',\n",
              "  'bringt',\n",
              "  'neu',\n",
              "  'international',\n",
              "  'news',\n",
              "  'android',\n",
              "  'auf',\n",
              "  'handy',\n",
              "  'ansatz',\n",
              "  'soll',\n",
              "  'nachricht',\n",
              "  'praferenz',\n",
              "  'les',\n",
              "  'lief',\n",
              "  'biet',\n",
              "  'kombination',\n",
              "  'stori',\n",
              "  'meist',\n",
              "  'geles',\n",
              "  'geschicht',\n",
              "  'person',\n",
              "  'ausgewahlt',\n",
              "  'empfohl',\n",
              "  'them',\n",
              "  'gebiet',\n",
              "  'bereich',\n",
              "  'news',\n",
              "  'gelang',\n",
              "  'les',\n",
              "  'geschicht',\n",
              "  'meist',\n",
              "  'interessi',\n",
              "  'konnt',\n",
              "  'anhand',\n",
              "  'list',\n",
              "  'basier',\n",
              "  'geles',\n",
              "  'artikel',\n",
              "  'eingab',\n",
              "  'suchfeld',\n",
              "  'benutz',\n",
              "  'them',\n",
              "  'innerhalb',\n",
              "  'artikel',\n",
              "  'folg',\n",
              "  'wirklich',\n",
              "  'person',\n",
              "  'servic',\n",
              "  'schaff',\n",
              "  'geschicht',\n",
              "  'themat',\n",
              "  'chronolog',\n",
              "  'geordnet',\n",
              "  'heisst',\n",
              "  'aussend',\n",
              "  'seit',\n",
              "  'start',\n",
              "  'freitag',\n",
              "  'bereit',\n",
              "  'million',\n",
              "  'heruntergelad',\n",
              "  'word',\n",
              "  'laut',\n",
              "  'konsumi',\n",
              "  'mittlerweil',\n",
              "  'prozent',\n",
              "  'nutz',\n",
              "  'news',\n",
              "  'smartphon',\n",
              "  'tablet',\n",
              "  'erst',\n",
              "  'prozent']]"
            ]
          },
          "metadata": {},
          "execution_count": 13
        }
      ]
    },
    {
      "cell_type": "markdown",
      "metadata": {
        "id": "T8LndhI5mAGP"
      },
      "source": [
        "## Setting Up The Dictionary\n",
        "\n",
        "Our preprocessing is complete.\n",
        "\n",
        "We now need to calculate the occurance frequencies of each of our stemmed words. But first, we will create a vocabulary dictionary where every word appears once. Every article would be represented as a [bag-of-words](https://en.wikipedia.org/wiki/Bag-of-words_model), an unordered set of words that the article contain.\n",
        "\n",
        "---\n",
        "\n",
        "Q: Why is it called bag-of-words?\n",
        "\n",
        "Hint: Think about your probability lessons - where you had randomly picked out white or black balls out of a bag..."
      ]
    },
    {
      "cell_type": "code",
      "metadata": {
        "id": "pj6CI60KlF0N"
      },
      "source": [
        "dictionary = corpora.Dictionary(processed_docs)"
      ],
      "execution_count": 14,
      "outputs": []
    },
    {
      "cell_type": "markdown",
      "metadata": {
        "id": "KiaCJuuXmkDV"
      },
      "source": [
        "Let's take a look:"
      ]
    },
    {
      "cell_type": "code",
      "metadata": {
        "id": "F0DJqlhimfns",
        "outputId": "cd443820-9511-4d22-c7d5-9d294464dc85",
        "colab": {
          "base_uri": "https://localhost:8080/"
        }
      },
      "source": [
        "for idx, (k, v) in enumerate(dictionary.iteritems()):\n",
        "    print(k, v)\n",
        "    if idx >= 10:\n",
        "        break\n",
        "\n",
        "### BTW: `enumerate` is a great python function!\n",
        "### It automatically creates an index, an auto-incremented counter variable,\n",
        "### that represents the position of every object in the collection.\n",
        "\n",
        "### Read more about it here: https://realpython.com/python-enumerate/"
      ],
      "execution_count": 16,
      "outputs": [
        {
          "output_type": "stream",
          "name": "stdout",
          "text": [
            "0 ahnlich\n",
            "1 angemahnt\n",
            "2 anteil\n",
            "3 august\n",
            "4 ausseh\n",
            "5 chefin\n",
            "6 christin\n",
            "7 degeto\n",
            "8 diskuti\n",
            "9 einfuhr\n",
            "10 fernsehfilm\n"
          ]
        }
      ]
    },
    {
      "cell_type": "markdown",
      "metadata": {
        "id": "XLT9Y9LImtv_"
      },
      "source": [
        "Second, we filter the tokens that may appear to often.\n",
        "\n",
        "We have full control on the process."
      ]
    },
    {
      "cell_type": "markdown",
      "metadata": {
        "id": "8LtlVAJEa6vp"
      },
      "source": [
        "### Model Hyperparameter tuning"
      ]
    },
    {
      "cell_type": "markdown",
      "source": [
        "### Your Turn:\n",
        "#### Exercise 1 - Hyperparameter effect on the model output:\n",
        "**Q:** How would changing these parameters influence the result?  \n",
        "After running this example, please return here to change them and try them out."
      ],
      "metadata": {
        "id": "yHsgesK9dW7j"
      }
    },
    {
      "cell_type": "code",
      "metadata": {
        "id": "KSwEk-wcBKEg",
        "colab": {
          "base_uri": "https://localhost:8080/",
          "height": 54
        },
        "outputId": "3a7daf03-d48a-4d04-9214-a52744d8817b"
      },
      "source": [
        "## Model hyper parameters:\n",
        "\n",
        "## These are the dictionary preparation parameters:\n",
        "filter_tokens_if_container_documents_are_less_than = 10 # filters out words that appear in fewer than n documents. If we set it too low we may not be able interpret topics anymore\n",
        "filter_tokens_if_appeared_percentage_more_than = 0.4 # if we set it too low we will filter rare and \"important\" words that help to define a topic\n",
        "keep_the_first_n_tokens=100000\n",
        "\n",
        "## and the LDA Parameters:\n",
        "num_of_topics = 9 # I changed 10 to 9 because we have 9 topics in our corpus\n",
        "alpha = 0.01\n",
        "eta = 0.01\n",
        "\n",
        "\n",
        "# Quote: alpha and eta can be thought of as smoothing parameters when we compute how much each document \"likes\" a topic (in the case of alpha) or how much each topic \"likes\" a word (in the case of gamma).\n",
        "#        A higher alpha makes the document preferences \"smoother\" over topics, and a higher eta makes the topic preferences \"smoother\" over words.\"\"\"\n",
        "\n",
        "#I found this description here: https://ethen8181.github.io/machine-learning/clustering/topic_model/LDA.html\n",
        "\n",
        "# I set alpha and eta this way because I think that the topics in our corpus are hihgly related to each other and a documant may have many topics,\n",
        "# therefore we need to focus on fewer words and allow a document to have fewer topics fpr thei better difinition (lower eta and alpha)."
      ],
      "execution_count": 19,
      "outputs": [
        {
          "output_type": "execute_result",
          "data": {
            "text/plain": [
              "'alpha and eta can be thought of as smoothing parameters when we compute how much each document \"likes\" a topic (in the case of alpha) or how much each topic \"likes\" a word (in the case of gamma). \\nA higher alpha makes the document preferences \"smoother\" over topics, and a higher eta makes the topic preferences \"smoother\" over words.'"
            ],
            "application/vnd.google.colaboratory.intrinsic+json": {
              "type": "string"
            }
          },
          "metadata": {},
          "execution_count": 19
        }
      ]
    },
    {
      "cell_type": "code",
      "metadata": {
        "id": "zelcg-UUmiVx"
      },
      "source": [
        "dictionary.filter_extremes(\n",
        "    no_below=filter_tokens_if_container_documents_are_less_than,\n",
        "    no_above=filter_tokens_if_appeared_percentage_more_than,\n",
        "    keep_n=keep_the_first_n_tokens)"
      ],
      "execution_count": 20,
      "outputs": []
    },
    {
      "cell_type": "markdown",
      "metadata": {
        "id": "EsknGryxnx0X"
      },
      "source": [
        "We now create a [bag-of-words](https://en.wikipedia.org/wiki/Bag-of-words_model) (BOW) dictionary for each document, using [gensim's dictionary](https://radimrehurek.com/gensim/corpora/dictionary.html) tool.\n",
        "\n",
        "It will be in the format of:\n",
        "\n",
        "```{ 'word_id': count }```\n"
      ]
    },
    {
      "cell_type": "code",
      "metadata": {
        "id": "u1CsbhJcntUW"
      },
      "source": [
        "bow_corpus = [dictionary.doc2bow(doc) for doc in processed_docs]"
      ],
      "execution_count": 21,
      "outputs": []
    },
    {
      "cell_type": "markdown",
      "metadata": {
        "id": "RmHQyMKXokyq"
      },
      "source": [
        "Let's take a look at the result.\n",
        "\n",
        "Our corpus contains now only word_ids, not the words themselves, so we have to peek into the dictionary to know which word that id represents:"
      ]
    },
    {
      "cell_type": "code",
      "metadata": {
        "id": "dD6n6MNnoSBH",
        "outputId": "d96c702e-df92-4e95-bb2c-8750af434287",
        "colab": {
          "base_uri": "https://localhost:8080/"
        }
      },
      "source": [
        "# randomly choose an article from the corpus:\n",
        "sample_bow_doc = choice(bow_corpus)\n",
        "\n",
        "print('The processed bag-of-word document is just pairs of (word_id, # of occurnces) and looks like this:')\n",
        "print(sample_bow_doc, '\\n\\n')\n",
        "\n",
        "print ('We peek in the dictionary: for each word_id, we get its assigned word:')\n",
        "for word_id, word_freq in sample_bow_doc:\n",
        "  real_word = dictionary[word_id]\n",
        "  print(f'Word #{word_id} (\"{real_word}\") appears {word_freq} time.')"
      ],
      "execution_count": 22,
      "outputs": [
        {
          "output_type": "stream",
          "name": "stdout",
          "text": [
            "The processed bag-of-word document is just pairs of (word_id, # of occurnces) and looks like this:\n",
            "[(21, 1), (32, 1), (36, 1), (49, 1), (65, 1), (92, 1), (106, 1), (126, 1), (133, 1), (163, 1), (210, 1), (277, 1), (288, 1), (311, 1), (368, 1), (369, 1), (373, 1), (374, 2), (379, 1), (415, 1), (424, 1), (548, 1), (549, 1), (553, 1), (580, 1), (607, 1), (624, 1), (695, 1), (797, 1), (931, 1), (992, 1), (995, 1), (1018, 1), (1029, 2), (1173, 1), (1228, 1), (1249, 1), (1264, 1), (1456, 1), (1530, 1), (1557, 2), (1636, 2), (1638, 2), (1642, 1), (1669, 1), (1718, 1), (1722, 1), (1807, 1), (1863, 1), (1954, 1), (1979, 1), (2152, 1), (2274, 2), (2465, 2), (2795, 1), (2943, 1), (3057, 1), (3148, 1), (3171, 1), (3218, 2), (3258, 1), (3342, 1), (3599, 1), (3847, 2), (3994, 1), (4232, 1), (4269, 1), (4487, 2), (4831, 1), (4854, 1), (5848, 1), (6467, 1), (6594, 1), (7306, 2), (7624, 1), (8341, 1), (8892, 2), (9449, 1), (10570, 1), (11030, 1), (11288, 1), (11566, 2), (12460, 1), (12501, 1), (13426, 1)] \n",
            "\n",
            "\n",
            "We peek in the dictionary: for each word_id, we get its assigned word:\n",
            "Word #21 (\"mindest\") appears 1 time.\n",
            "Word #32 (\"seit\") appears 1 time.\n",
            "Word #36 (\"soll\") appears 1 time.\n",
            "Word #49 (\"dafur\") appears 1 time.\n",
            "Word #65 (\"allerding\") appears 1 time.\n",
            "Word #92 (\"heisst\") appears 1 time.\n",
            "Word #106 (\"muss\") appears 1 time.\n",
            "Word #126 (\"teil\") appears 1 time.\n",
            "Word #133 (\"unterstutz\") appears 1 time.\n",
            "Word #163 (\"funktion\") appears 1 time.\n",
            "Word #210 (\"versprech\") appears 1 time.\n",
            "Word #277 (\"plattform\") appears 1 time.\n",
            "Word #288 (\"softwar\") appears 1 time.\n",
            "Word #311 (\"beispielsweis\") appears 1 time.\n",
            "Word #368 (\"bereit\") appears 1 time.\n",
            "Word #369 (\"betrieb\") appears 1 time.\n",
            "Word #373 (\"dollar\") appears 1 time.\n",
            "Word #374 (\"drei\") appears 2 time.\n",
            "Word #379 (\"entwickl\") appears 1 time.\n",
            "Word #415 (\"weit\") appears 1 time.\n",
            "Word #424 (\"ausgeliefert\") appears 1 time.\n",
            "Word #548 (\"virtuell\") appears 1 time.\n",
            "Word #549 (\"vorgang\") appears 1 time.\n",
            "Word #553 (\"welt\") appears 1 time.\n",
            "Word #580 (\"arbeit\") appears 1 time.\n",
            "Word #607 (\"geb\") appears 1 time.\n",
            "Word #624 (\"kauf\") appears 1 time.\n",
            "Word #695 (\"zeigt\") appears 1 time.\n",
            "Word #797 (\"firma\") appears 1 time.\n",
            "Word #931 (\"real\") appears 1 time.\n",
            "Word #992 (\"erleb\") appears 1 time.\n",
            "Word #995 (\"gam\") appears 1 time.\n",
            "Word #1018 (\"perfekt\") appears 1 time.\n",
            "Word #1029 (\"spiel\") appears 2 time.\n",
            "Word #1173 (\"unterschied\") appears 1 time.\n",
            "Word #1228 (\"lasst\") appears 1 time.\n",
            "Word #1249 (\"tatsach\") appears 1 time.\n",
            "Word #1264 (\"war\") appears 1 time.\n",
            "Word #1456 (\"konzentriert\") appears 1 time.\n",
            "Word #1530 (\"feedback\") appears 1 time.\n",
            "Word #1557 (\"ein\") appears 2 time.\n",
            "Word #1636 (\"beschleun\") appears 2 time.\n",
            "Word #1638 (\"bietet\") appears 2 time.\n",
            "Word #1642 (\"dadurch\") appears 1 time.\n",
            "Word #1669 (\"setz\") appears 1 time.\n",
            "Word #1718 (\"sitz\") appears 1 time.\n",
            "Word #1722 (\"verhaltnis\") appears 1 time.\n",
            "Word #1807 (\"rechn\") appears 1 time.\n",
            "Word #1863 (\"anfrag\") appears 1 time.\n",
            "Word #1954 (\"befind\") appears 1 time.\n",
            "Word #1979 (\"preis\") appears 1 time.\n",
            "Word #2152 (\"bestell\") appears 1 time.\n",
            "Word #2274 (\"kraft\") appears 2 time.\n",
            "Word #2465 (\"spur\") appears 2 time.\n",
            "Word #2795 (\"technik\") appears 1 time.\n",
            "Word #2943 (\"inklusiv\") appears 1 time.\n",
            "Word #3057 (\"dran\") appears 1 time.\n",
            "Word #3148 (\"comput\") appears 1 time.\n",
            "Word #3171 (\"monitor\") appears 1 time.\n",
            "Word #3218 (\"vehikel\") appears 2 time.\n",
            "Word #3258 (\"aufwend\") appears 1 time.\n",
            "Word #3342 (\"auto\") appears 1 time.\n",
            "Word #3599 (\"gefuhl\") appears 1 time.\n",
            "Word #3847 (\"erlebnis\") appears 2 time.\n",
            "Word #3994 (\"typisch\") appears 1 time.\n",
            "Word #4232 (\"board\") appears 1 time.\n",
            "Word #4269 (\"beschreib\") appears 1 time.\n",
            "Word #4487 (\"maschin\") appears 2 time.\n",
            "Word #4831 (\"design\") appears 1 time.\n",
            "Word #4854 (\"seitig\") appears 1 time.\n",
            "Word #5848 (\"nachvollziehbar\") appears 1 time.\n",
            "Word #6467 (\"gemut\") appears 1 time.\n",
            "Word #6594 (\"komplex\") appears 1 time.\n",
            "Word #7306 (\"flugzeug\") appears 2 time.\n",
            "Word #7624 (\"achs\") appears 1 time.\n",
            "Word #8341 (\"erschutter\") appears 1 time.\n",
            "Word #8892 (\"forc\") appears 2 time.\n",
            "Word #9449 (\"hinausgeh\") appears 1 time.\n",
            "Word #10570 (\"neigt\") appears 1 time.\n",
            "Word #11030 (\"lenkrad\") appears 1 time.\n",
            "Word #11288 (\"uberschlag\") appears 1 time.\n",
            "Word #11566 (\"cockpit\") appears 2 time.\n",
            "Word #12460 (\"watt\") appears 1 time.\n",
            "Word #12501 (\"simuli\") appears 1 time.\n",
            "Word #13426 (\"konfiguration\") appears 1 time.\n"
          ]
        }
      ]
    },
    {
      "cell_type": "markdown",
      "metadata": {
        "id": "jdEpXnWNrR4H"
      },
      "source": [
        "## LDA model using Bag-of-words\n",
        "\n",
        "Let's start by applying the LDA model using the bag-of-words (Warning: this could take a while):"
      ]
    },
    {
      "cell_type": "code",
      "metadata": {
        "id": "84CchtGap73H"
      },
      "source": [
        "lda_model = models.LdaMulticore(bow_corpus,\n",
        "                                num_topics=num_of_topics,\n",
        "                                id2word=dictionary,\n",
        "                                passes=5,\n",
        "                                workers=2,\n",
        "                                iterations = 5, # I pt iterations for more training of the model\n",
        "                                eta = eta,\n",
        "                                alpha = alpha\n",
        "                                )"
      ],
      "execution_count": 25,
      "outputs": []
    },
    {
      "cell_type": "markdown",
      "metadata": {
        "id": "oqm3NWaGrYzC"
      },
      "source": [
        "It is done!\n",
        "\n",
        "Now we can observe which topics the model had extracted from the documents.\n",
        "\n",
        "- *Topics* are made of sets of words and their distribution for that topic, representing their weight in that topic.\n",
        "- Every document may be composed of multiple topics, with different weights representing the relation to each topics.\n",
        "\n",
        "We will loop over the extracted topics and examine the words that construct them."
      ]
    },
    {
      "cell_type": "code",
      "metadata": {
        "id": "N83rLkRRrYYz",
        "outputId": "ee6a6c68-92bf-4a1d-90cd-6159aad57115",
        "colab": {
          "base_uri": "https://localhost:8080/"
        }
      },
      "source": [
        "for idx, topic in lda_model.print_topics(num_of_topics):\n",
        "    print(f'Topic: {idx} \\t Words: {topic}')"
      ],
      "execution_count": 26,
      "outputs": [
        {
          "output_type": "stream",
          "name": "stdout",
          "text": [
            "Topic: 0 \t Words: 0.005*\"prozent\" + 0.005*\"wien\" + 0.004*\"neu\" + 0.004*\"euro\" + 0.004*\"osterreich\" + 0.003*\"seit\" + 0.003*\"bereit\" + 0.003*\"schon\" + 0.003*\"gross\" + 0.003*\"zwei\"\n",
            "Topic: 1 \t Words: 0.004*\"neu\" + 0.004*\"wien\" + 0.003*\"osterreich\" + 0.003*\"seit\" + 0.003*\"euro\" + 0.003*\"zwei\" + 0.003*\"schon\" + 0.003*\"spiel\" + 0.003*\"gibt\" + 0.003*\"prozent\"\n",
            "Topic: 2 \t Words: 0.005*\"wien\" + 0.005*\"prozent\" + 0.004*\"seit\" + 0.004*\"neu\" + 0.004*\"euro\" + 0.003*\"osterreich\" + 0.003*\"bereit\" + 0.003*\"land\" + 0.003*\"gross\" + 0.003*\"schon\"\n",
            "Topic: 3 \t Words: 0.004*\"neu\" + 0.004*\"wien\" + 0.004*\"seit\" + 0.004*\"prozent\" + 0.003*\"osterreich\" + 0.003*\"standard\" + 0.003*\"zwei\" + 0.003*\"gross\" + 0.003*\"schon\" + 0.003*\"bereit\"\n",
            "Topic: 4 \t Words: 0.005*\"wien\" + 0.004*\"prozent\" + 0.004*\"seit\" + 0.004*\"osterreich\" + 0.004*\"neu\" + 0.003*\"euro\" + 0.003*\"bereit\" + 0.003*\"schon\" + 0.003*\"zwei\" + 0.003*\"standard\"\n",
            "Topic: 5 \t Words: 0.005*\"wien\" + 0.004*\"osterreich\" + 0.004*\"prozent\" + 0.004*\"seit\" + 0.004*\"euro\" + 0.004*\"neu\" + 0.003*\"schon\" + 0.003*\"land\" + 0.003*\"zwei\" + 0.003*\"bereit\"\n",
            "Topic: 6 \t Words: 0.004*\"wien\" + 0.004*\"neu\" + 0.004*\"osterreich\" + 0.004*\"seit\" + 0.003*\"prozent\" + 0.003*\"euro\" + 0.003*\"schon\" + 0.003*\"bereit\" + 0.003*\"gibt\" + 0.003*\"gross\"\n",
            "Topic: 7 \t Words: 0.005*\"wien\" + 0.004*\"osterreich\" + 0.004*\"neu\" + 0.004*\"seit\" + 0.003*\"prozent\" + 0.003*\"euro\" + 0.003*\"zwei\" + 0.003*\"mensch\" + 0.003*\"gross\" + 0.003*\"schon\"\n",
            "Topic: 8 \t Words: 0.005*\"wien\" + 0.004*\"seit\" + 0.004*\"neu\" + 0.003*\"euro\" + 0.003*\"osterreich\" + 0.003*\"schon\" + 0.003*\"zwei\" + 0.003*\"bereit\" + 0.003*\"mensch\" + 0.003*\"word\"\n"
          ]
        }
      ]
    },
    {
      "cell_type": "markdown",
      "metadata": {
        "id": "CgCkLEelplF8"
      },
      "source": [
        "## TF / IDF\n",
        "\n",
        "Let's take it one step further. We will cluster our document by running the LDA using [TF/IDF](https://en.wikipedia.org/wiki/Tf%E2%80%93idf).\n",
        "\n",
        "We start with TF/IDF calculation on our bag-of-words.\n",
        "TF/IDF accepts a dictionary of word frequencies as an input, and it calculates the term frequency and the inversed document frequency accordingly.\n",
        "\n",
        "Its output is a re-weighted dictionary of the documents term frequencies:"
      ]
    },
    {
      "cell_type": "code",
      "metadata": {
        "id": "Xhj6Df56os0j",
        "outputId": "aa960048-870f-4f4f-886c-f549da1f39a5",
        "colab": {
          "base_uri": "https://localhost:8080/"
        }
      },
      "source": [
        "# initialize a tfidf from our corpus\n",
        "tfidf = models.TfidfModel(bow_corpus)\n",
        "\n",
        "# apply it on our corpus\n",
        "tfidf_corpus = tfidf[bow_corpus]\n",
        "\n",
        "pprint(tfidf_corpus[0][:10])"
      ],
      "execution_count": 27,
      "outputs": [
        {
          "output_type": "stream",
          "name": "stdout",
          "text": [
            "[(0, 0.0667086950841424),\n",
            " (1, 0.08543973752985852),\n",
            " (2, 0.1557940056452628),\n",
            " (3, 0.10984349198894917),\n",
            " (4, 0.10599829818638576),\n",
            " (5, 0.13051677048653784),\n",
            " (6, 0.10454248999145317),\n",
            " (7, 0.09462873248444831),\n",
            " (8, 0.16817827657460563),\n",
            " (9, 0.05473773449333437)]\n"
          ]
        }
      ]
    },
    {
      "cell_type": "code",
      "source": [
        "# the new tfidf corpus is just our corpus - but transformed. It has the same size of documents:\n",
        "assert len(bow_corpus) == len(tfidf_corpus)"
      ],
      "metadata": {
        "id": "OdllL8StNLm2"
      },
      "execution_count": 28,
      "outputs": []
    },
    {
      "cell_type": "markdown",
      "metadata": {
        "id": "UZ-9a3gcsYts"
      },
      "source": [
        "Now let's apply LDA on the tfidf corpus, with the same amount of topics.\n",
        "\n",
        "You can play with the # of passes, if the model doesn't converge properly"
      ]
    },
    {
      "cell_type": "code",
      "metadata": {
        "id": "ihxND83irVSf",
        "outputId": "fec12c46-d741-4b99-ec82-55af3dd310f9",
        "colab": {
          "base_uri": "https://localhost:8080/"
        }
      },
      "source": [
        "lda_model_tfidf = models.LdaMulticore(tfidf_corpus,\n",
        "                                      num_topics=num_of_topics,\n",
        "                                      id2word=dictionary,\n",
        "                                      passes=5,\n",
        "                                      workers=4,\n",
        "                                      iterations = 5, # I pt iterations for more training of the model\n",
        "                                      eta = eta,\n",
        "                                      alpha = alpha)"
      ],
      "execution_count": 29,
      "outputs": [
        {
          "output_type": "stream",
          "name": "stderr",
          "text": [
            "WARNING:gensim.models.ldamulticore:too few updates, training might not converge; consider increasing the number of passes or iterations to improve accuracy\n"
          ]
        }
      ]
    },
    {
      "cell_type": "code",
      "source": [
        "for idx, topic in lda_model_tfidf.print_topics(num_of_topics):\n",
        "    print(f'Topic: {idx} \\t Word: {topic}')"
      ],
      "metadata": {
        "id": "adACX8kGihtG",
        "outputId": "976bebb9-140a-4a82-e5be-e1a9e6b63417",
        "colab": {
          "base_uri": "https://localhost:8080/"
        }
      },
      "execution_count": 30,
      "outputs": [
        {
          "output_type": "stream",
          "name": "stdout",
          "text": [
            "Topic: 0 \t Word: 0.001*\"prozent\" + 0.001*\"euro\" + 0.001*\"wien\" + 0.001*\"osterreich\" + 0.001*\"million\" + 0.001*\"forsch\" + 0.001*\"unternehm\" + 0.001*\"neu\" + 0.001*\"europa\" + 0.001*\"land\"\n",
            "Topic: 1 \t Word: 0.001*\"prozent\" + 0.001*\"euro\" + 0.001*\"wien\" + 0.001*\"osterreich\" + 0.001*\"forsch\" + 0.001*\"million\" + 0.001*\"land\" + 0.001*\"unternehm\" + 0.001*\"neu\" + 0.001*\"europa\"\n",
            "Topic: 2 \t Word: 0.001*\"prozent\" + 0.001*\"euro\" + 0.001*\"osterreich\" + 0.001*\"wien\" + 0.001*\"million\" + 0.001*\"unternehm\" + 0.001*\"neu\" + 0.001*\"forsch\" + 0.001*\"europa\" + 0.001*\"milliard\"\n",
            "Topic: 3 \t Word: 0.001*\"prozent\" + 0.001*\"euro\" + 0.001*\"osterreich\" + 0.001*\"wien\" + 0.001*\"million\" + 0.001*\"unternehm\" + 0.001*\"forsch\" + 0.001*\"neu\" + 0.001*\"rund\" + 0.001*\"europa\"\n",
            "Topic: 4 \t Word: 0.001*\"prozent\" + 0.001*\"euro\" + 0.001*\"osterreich\" + 0.001*\"wien\" + 0.001*\"unternehm\" + 0.001*\"million\" + 0.001*\"forsch\" + 0.001*\"neu\" + 0.001*\"milliard\" + 0.001*\"europa\"\n",
            "Topic: 5 \t Word: 0.001*\"prozent\" + 0.001*\"euro\" + 0.001*\"wien\" + 0.001*\"million\" + 0.001*\"osterreich\" + 0.001*\"unternehm\" + 0.001*\"europa\" + 0.001*\"forsch\" + 0.001*\"milliard\" + 0.001*\"neu\"\n",
            "Topic: 6 \t Word: 0.001*\"prozent\" + 0.001*\"euro\" + 0.001*\"osterreich\" + 0.001*\"million\" + 0.001*\"forsch\" + 0.001*\"wien\" + 0.001*\"unternehm\" + 0.001*\"deutsch\" + 0.001*\"land\" + 0.001*\"milliard\"\n",
            "Topic: 7 \t Word: 0.001*\"prozent\" + 0.001*\"euro\" + 0.001*\"osterreich\" + 0.001*\"wien\" + 0.001*\"forsch\" + 0.001*\"unternehm\" + 0.001*\"million\" + 0.001*\"milliard\" + 0.001*\"land\" + 0.001*\"deutsch\"\n",
            "Topic: 8 \t Word: 0.001*\"prozent\" + 0.001*\"euro\" + 0.001*\"osterreich\" + 0.001*\"million\" + 0.001*\"wien\" + 0.001*\"unternehm\" + 0.001*\"neu\" + 0.001*\"forsch\" + 0.001*\"land\" + 0.001*\"europa\"\n"
          ]
        }
      ]
    },
    {
      "cell_type": "markdown",
      "metadata": {
        "id": "f9HswwLLsw0X"
      },
      "source": [
        "## Inference\n",
        "\n",
        "Now that we have a topic-modeler, let's use it on one of the articles."
      ]
    },
    {
      "cell_type": "code",
      "metadata": {
        "id": "tQlSUn_CsbcX",
        "outputId": "ab9b450c-d579-4143-bdc5-d85be14331a2",
        "colab": {
          "base_uri": "https://localhost:8080/"
        }
      },
      "source": [
        "# randomly pick an article:\n",
        "test_doc = choice(range(len(processed_docs)))\n",
        "processed_docs[test_doc][:50]"
      ],
      "execution_count": null,
      "outputs": [
        {
          "output_type": "stream",
          "name": "stderr",
          "text": [
            "/usr/local/lib/python3.10/dist-packages/ipykernel/ipkernel.py:283: DeprecationWarning: `should_run_async` will not call `transform_cell` automatically in the future. Please pass the result to `transformed_cell` argument and any exception that happen during thetransform in `preprocessing_exc_tuple` in IPython 7.17 and above.\n",
            "  and should_run_async(code)\n"
          ]
        },
        {
          "output_type": "execute_result",
          "data": {
            "text/plain": [
              "['toronto',\n",
              " 'gewinnt',\n",
              " 'philadelphia',\n",
              " 'michael',\n",
              " 'raffl',\n",
              " 'chicago',\n",
              " 'stellt',\n",
              " 'sieg',\n",
              " 'folg',\n",
              " 'neu',\n",
              " 'clubrekord',\n",
              " 'philadelphia',\n",
              " 'michael',\n",
              " 'grabn',\n",
              " 'dienstag',\n",
              " 'freund',\n",
              " 'michael',\n",
              " 'raffl',\n",
              " 'duell',\n",
              " 'beid',\n",
              " 'villach',\n",
              " 'eishockey',\n",
              " 'sturm',\n",
              " 'national',\n",
              " 'hockey',\n",
              " 'leagu',\n",
              " 'gewonn',\n",
              " 'grabn',\n",
              " 'gewann',\n",
              " 'toronto',\n",
              " 'mapl',\n",
              " 'leaf',\n",
              " 'philadelphia',\n",
              " 'flyer',\n",
              " 'matt',\n",
              " 'hundwick',\n",
              " 'erzielt',\n",
              " 'sekund',\n",
              " 'schlusssir',\n",
              " 'entscheid',\n",
              " 'treff',\n",
              " 'gast',\n",
              " 'toronto',\n",
              " 'zuletzt',\n",
              " 'funf',\n",
              " 'niederlag',\n",
              " 'kassiert',\n",
              " 'flyer',\n",
              " 'blieb',\n",
              " 'erstmal']"
            ]
          },
          "metadata": {},
          "execution_count": 73
        }
      ]
    },
    {
      "cell_type": "markdown",
      "metadata": {
        "id": "Jt6oJJL8tiO_"
      },
      "source": [
        "Using the original BOW model:"
      ]
    },
    {
      "cell_type": "code",
      "metadata": {
        "id": "ZBbrSNDVszGW",
        "outputId": "0fa57f8c-2a06-4a5e-fc59-6ba3d1b44521",
        "colab": {
          "base_uri": "https://localhost:8080/"
        }
      },
      "source": [
        "for index, score in sorted(lda_model[bow_corpus[test_doc]], key=lambda tup: -1*tup[1]):\n",
        "    print(f\"Topic match score: {score} \\nTopic: {lda_model.print_topic(index, num_of_topics)}\")"
      ],
      "execution_count": null,
      "outputs": [
        {
          "output_type": "stream",
          "name": "stdout",
          "text": [
            "Topic match score: 0.9902136325836182 \n",
            "Topic: 0.006*\"erst\" + 0.006*\"spiel\" + 0.005*\"seit\" + 0.005*\"israel\" + 0.005*\"sagt\" + 0.005*\"jahr\" + 0.004*\"minut\" + 0.004*\"zwei\" + 0.004*\"beim\" + 0.004*\"leagu\"\n"
          ]
        },
        {
          "output_type": "stream",
          "name": "stderr",
          "text": [
            "/usr/local/lib/python3.10/dist-packages/ipykernel/ipkernel.py:283: DeprecationWarning: `should_run_async` will not call `transform_cell` automatically in the future. Please pass the result to `transformed_cell` argument and any exception that happen during thetransform in `preprocessing_exc_tuple` in IPython 7.17 and above.\n",
            "  and should_run_async(code)\n"
          ]
        }
      ]
    },
    {
      "cell_type": "markdown",
      "metadata": {
        "id": "hdz9qz-Atj3A"
      },
      "source": [
        "And with the TF/IDF model:"
      ]
    },
    {
      "cell_type": "code",
      "metadata": {
        "id": "XWHTDQjVtTyO",
        "outputId": "60368a49-d603-4b8d-b0e4-a7d76dc84dfc",
        "colab": {
          "base_uri": "https://localhost:8080/"
        }
      },
      "source": [
        "for index, score in sorted(lda_model_tfidf[bow_corpus[test_doc]], key=lambda tup: -1*tup[1]):\n",
        "    print(\"Topic match score: {}\\t \\nTopic: {}\".format(score, lda_model_tfidf.print_topic(index, num_of_topics)))"
      ],
      "execution_count": null,
      "outputs": [
        {
          "output_type": "stream",
          "name": "stdout",
          "text": [
            "Topic match score: 0.5551183223724365\t \n",
            "Topic: 0.003*\"euro\" + 0.002*\"prozent\" + 0.002*\"europa\" + 0.002*\"million\" + 0.002*\"kommission\" + 0.002*\"osterreich\" + 0.002*\"jahr\" + 0.002*\"milliard\" + 0.002*\"konz\" + 0.002*\"unternehm\"\n",
            "Topic match score: 0.43617144227027893\t \n",
            "Topic: 0.002*\"prozent\" + 0.002*\"wien\" + 0.002*\"standard\" + 0.002*\"osterreich\" + 0.001*\"spiel\" + 0.001*\"euro\" + 0.001*\"jahr\" + 0.001*\"neu\" + 0.001*\"erst\" + 0.001*\"gross\"\n"
          ]
        },
        {
          "output_type": "stream",
          "name": "stderr",
          "text": [
            "/usr/local/lib/python3.10/dist-packages/ipykernel/ipkernel.py:283: DeprecationWarning: `should_run_async` will not call `transform_cell` automatically in the future. Please pass the result to `transformed_cell` argument and any exception that happen during thetransform in `preprocessing_exc_tuple` in IPython 7.17 and above.\n",
            "  and should_run_async(code)\n"
          ]
        }
      ]
    },
    {
      "cell_type": "markdown",
      "source": [
        "Calculating the [perplexity score](https://towardsdatascience.com/perplexity-in-language-models-87a196019a94) (lower is better):"
      ],
      "metadata": {
        "id": "Y6hgkxQ4RIzf"
      }
    },
    {
      "cell_type": "code",
      "source": [
        "print('Perplexity: ', lda_model.log_perplexity(bow_corpus))\n",
        "print('Perplexity TFIDF: ', lda_model_tfidf.log_perplexity(bow_corpus))"
      ],
      "metadata": {
        "colab": {
          "base_uri": "https://localhost:8080/"
        },
        "id": "hHtIgzTlw-gN",
        "outputId": "b6ef6f76-a79f-4113-ea99-5d948cdd8c9b"
      },
      "execution_count": null,
      "outputs": [
        {
          "output_type": "stream",
          "name": "stderr",
          "text": [
            "/usr/local/lib/python3.10/dist-packages/ipykernel/ipkernel.py:283: DeprecationWarning: `should_run_async` will not call `transform_cell` automatically in the future. Please pass the result to `transformed_cell` argument and any exception that happen during thetransform in `preprocessing_exc_tuple` in IPython 7.17 and above.\n",
            "  and should_run_async(code)\n"
          ]
        },
        {
          "output_type": "stream",
          "name": "stdout",
          "text": [
            "Perplexity:  -7.997607384640231\n",
            "Perplexity TFIDF:  -8.47706411507947\n"
          ]
        }
      ]
    },
    {
      "cell_type": "markdown",
      "metadata": {
        "id": "NZGXqV-TtyTm"
      },
      "source": [
        "### Exercise - inference\n",
        "\n",
        "Now please try it on a new document!\n",
        "\n",
        "Go to a news website, such as [orf.at](https://orf.at/) and copy an article of your choice here:"
      ]
    },
    {
      "cell_type": "code",
      "metadata": {
        "id": "Srd1NWjFtlqM",
        "outputId": "5e125ecb-00b4-42c8-dc4c-af334662adfc",
        "colab": {
          "base_uri": "https://localhost:8080/"
        }
      },
      "source": [
        "unseen_document = \"\"\"Sobotka sprach in einer um eineinhalb Stunden verspäteten Pressekonferenz am Abend von einer „schwierigen“, aber „sachlichen und pointierten“ Diskussion im Hauptausschuss. Er meinte, dass von Gesundheitsminister Rudolf Anschober (Grüne), die „Notwendigkeit, Verhältnismäßigkeit und Richtigkeit“ der Maßnahmen erläutert worden seien. Zudem betonte Sobotka die Wichtigkeit der im Covid-Maßnahmengesetz vorgesehenen Mitsprache des Parlaments bei Maßnahmen, bei denen auch die Freiheitsrechte betroffen seien.\n",
        "Der Nationalratspräsident zitierte auch die deutsche Kanzlerin Angela Merkel, die die Maßnahmen im Kampf gegen die Pandemie als „demokratische Zumutung“ bezeichnet hatte. Dem sei nicht nur zuzustimmen, das sei auch zu unterstreichen, sagte er. Die Eindämmung der Pandemie könne aber nur gelingen, wenn sich alle Österreicher einbringen. Der Beschluss alleine reiche nicht, die Maßnahmen müssten auch im Geiste verinnerlicht werden, appellierte Sobotka an die Bevölkerung, die Maßnahmen mitzutragen.\n",
        "Rendi-Wagner kritisiert Regierung\n",
        "Die Opposition hatte schon vor der Sitzung – und dann auch noch einmal danach – ihre Kritik an der Regierung bekräftigt. „Die Bundesregierung hat die Kontrolle über das Infektionsgeschehen verloren und hat die schwierige Situation, vor der wir jetzt stehen, zu verantworten“, kritisierte SPÖ-Klub- und Parteivorsitzende Rendi-Wagner.\n",
        "Sessel auf Tischen in einem geschlossenen Lokal\n",
        "DEBATTEWie gerechtfertigt sind die Maßnahmen?\"\"\"\n",
        "\n",
        "bow_vector = dictionary.doc2bow(preprocess(unseen_document))\n",
        "\n",
        "print(\"Simply printing the lda_model output would look like this:\")\n",
        "pprint(lda_model[bow_vector])\n",
        "\n",
        "print(\"\\n\\nSo let's make it nicer, by printing the topic contents:\")\n",
        "for index, score in sorted(lda_model[bow_vector], key=lambda tup: -1*tup[1]):\n",
        "    print(\"Score: {}\\t Topic: {}\".format(score, lda_model.print_topic(index, 5)))\n"
      ],
      "execution_count": null,
      "outputs": [
        {
          "output_type": "stream",
          "name": "stdout",
          "text": [
            "Simply printing the lda_model output would look like this:\n",
            "[(0, 0.9890117)]\n",
            "\n",
            "\n",
            "So let's make it nicer, by printing the topic contents:\n",
            "Score: 0.9890117049217224\t Topic: 0.008*\"polit\" + 0.008*\"sagt\" + 0.007*\"standard\" + 0.006*\"wien\" + 0.005*\"grun\"\n"
          ]
        },
        {
          "output_type": "stream",
          "name": "stderr",
          "text": [
            "/usr/local/lib/python3.10/dist-packages/ipykernel/ipkernel.py:283: DeprecationWarning: `should_run_async` will not call `transform_cell` automatically in the future. Please pass the result to `transformed_cell` argument and any exception that happen during thetransform in `preprocessing_exc_tuple` in IPython 7.17 and above.\n",
            "  and should_run_async(code)\n"
          ]
        }
      ]
    },
    {
      "cell_type": "code",
      "source": [],
      "metadata": {
        "colab": {
          "base_uri": "https://localhost:8080/"
        },
        "id": "dig8d3oWR6xM",
        "outputId": "db37c6d9-b4b9-4af9-8662-aaf40594355e"
      },
      "execution_count": null,
      "outputs": [
        {
          "output_type": "stream",
          "name": "stderr",
          "text": [
            "/usr/local/lib/python3.10/dist-packages/ipykernel/ipkernel.py:283: DeprecationWarning: `should_run_async` will not call `transform_cell` automatically in the future. Please pass the result to `transformed_cell` argument and any exception that happen during thetransform in `preprocessing_exc_tuple` in IPython 7.17 and above.\n",
            "  and should_run_async(code)\n"
          ]
        }
      ]
    },
    {
      "cell_type": "markdown",
      "source": [
        "## Visualization"
      ],
      "metadata": {
        "id": "NOl16tMOsmYd"
      }
    },
    {
      "cell_type": "markdown",
      "source": [
        "Finally, there are packages that can visulaize the results, such as [pyLDAvis](https://pypi.org/project/pyLDAvis/) and [tmplot](https://pypi.org/project/tmplot/).\n",
        "\n",
        "Let's take a look at pyLDAvis visualization result.\n",
        "\n",
        "**Please note:** this is an old and unmaintained package. It is easier to run it in Google-Colab than on your laptop. But, if you still try running it locally, please try **lowering your python version** (3.6 / 3.6 / 3.8) when you create the poetry environment for this exercise."
      ],
      "metadata": {
        "id": "Am2p_6seTOOE"
      }
    },
    {
      "cell_type": "code",
      "source": [
        "%pip install pyLDAvis"
      ],
      "metadata": {
        "id": "ERQDi99Rs6dO",
        "colab": {
          "base_uri": "https://localhost:8080/"
        },
        "outputId": "6284ebec-b720-4856-d183-5af2d3a412a8"
      },
      "execution_count": null,
      "outputs": [
        {
          "output_type": "stream",
          "name": "stderr",
          "text": [
            "/usr/local/lib/python3.10/dist-packages/ipykernel/ipkernel.py:283: DeprecationWarning: `should_run_async` will not call `transform_cell` automatically in the future. Please pass the result to `transformed_cell` argument and any exception that happen during thetransform in `preprocessing_exc_tuple` in IPython 7.17 and above.\n",
            "  and should_run_async(code)\n"
          ]
        },
        {
          "output_type": "stream",
          "name": "stdout",
          "text": [
            "Requirement already satisfied: pyLDAvis in /usr/local/lib/python3.10/dist-packages (3.4.1)\n",
            "Requirement already satisfied: numpy>=1.24.2 in /usr/local/lib/python3.10/dist-packages (from pyLDAvis) (1.26.4)\n",
            "Requirement already satisfied: scipy in /usr/local/lib/python3.10/dist-packages (from pyLDAvis) (1.13.1)\n",
            "Requirement already satisfied: pandas>=2.0.0 in /usr/local/lib/python3.10/dist-packages (from pyLDAvis) (2.2.2)\n",
            "Requirement already satisfied: joblib>=1.2.0 in /usr/local/lib/python3.10/dist-packages (from pyLDAvis) (1.4.2)\n",
            "Requirement already satisfied: jinja2 in /usr/local/lib/python3.10/dist-packages (from pyLDAvis) (3.1.4)\n",
            "Requirement already satisfied: numexpr in /usr/local/lib/python3.10/dist-packages (from pyLDAvis) (2.10.2)\n",
            "Requirement already satisfied: funcy in /usr/local/lib/python3.10/dist-packages (from pyLDAvis) (2.0)\n",
            "Requirement already satisfied: scikit-learn>=1.0.0 in /usr/local/lib/python3.10/dist-packages (from pyLDAvis) (1.5.2)\n",
            "Requirement already satisfied: gensim in /usr/local/lib/python3.10/dist-packages (from pyLDAvis) (4.3.3)\n",
            "Requirement already satisfied: setuptools in /usr/local/lib/python3.10/dist-packages (from pyLDAvis) (75.1.0)\n",
            "Requirement already satisfied: python-dateutil>=2.8.2 in /usr/local/lib/python3.10/dist-packages (from pandas>=2.0.0->pyLDAvis) (2.8.2)\n",
            "Requirement already satisfied: pytz>=2020.1 in /usr/local/lib/python3.10/dist-packages (from pandas>=2.0.0->pyLDAvis) (2024.2)\n",
            "Requirement already satisfied: tzdata>=2022.7 in /usr/local/lib/python3.10/dist-packages (from pandas>=2.0.0->pyLDAvis) (2024.2)\n",
            "Requirement already satisfied: threadpoolctl>=3.1.0 in /usr/local/lib/python3.10/dist-packages (from scikit-learn>=1.0.0->pyLDAvis) (3.5.0)\n",
            "Requirement already satisfied: smart-open>=1.8.1 in /usr/local/lib/python3.10/dist-packages (from gensim->pyLDAvis) (7.0.5)\n",
            "Requirement already satisfied: MarkupSafe>=2.0 in /usr/local/lib/python3.10/dist-packages (from jinja2->pyLDAvis) (3.0.2)\n",
            "Requirement already satisfied: six>=1.5 in /usr/local/lib/python3.10/dist-packages (from python-dateutil>=2.8.2->pandas>=2.0.0->pyLDAvis) (1.16.0)\n",
            "Requirement already satisfied: wrapt in /usr/local/lib/python3.10/dist-packages (from smart-open>=1.8.1->gensim->pyLDAvis) (1.17.0)\n"
          ]
        }
      ]
    },
    {
      "cell_type": "code",
      "source": [
        "import pyLDAvis.gensim_models as gensimvis\n",
        "import pyLDAvis\n",
        "\n",
        "bow_lda_data = gensimvis.prepare(lda_model, bow_corpus, dictionary)\n",
        "\n",
        "pyLDAvis.display(bow_lda_data)"
      ],
      "metadata": {
        "colab": {
          "base_uri": "https://localhost:8080/",
          "height": 916
        },
        "id": "xwDURjMYslxZ",
        "outputId": "09621968-bfd1-451c-fd54-1961419733a3"
      },
      "execution_count": null,
      "outputs": [
        {
          "output_type": "stream",
          "name": "stderr",
          "text": [
            "/usr/local/lib/python3.10/dist-packages/ipykernel/ipkernel.py:283: DeprecationWarning: `should_run_async` will not call `transform_cell` automatically in the future. Please pass the result to `transformed_cell` argument and any exception that happen during thetransform in `preprocessing_exc_tuple` in IPython 7.17 and above.\n",
            "  and should_run_async(code)\n"
          ]
        },
        {
          "output_type": "execute_result",
          "data": {
            "text/plain": [
              "<IPython.core.display.HTML object>"
            ],
            "text/html": [
              "\n",
              "<link rel=\"stylesheet\" type=\"text/css\" href=\"https://cdn.jsdelivr.net/gh/bmabey/pyLDAvis@3.4.0/pyLDAvis/js/ldavis.v1.0.0.css\">\n",
              "\n",
              "\n",
              "<div id=\"ldavis_el2721376858731961921705246614\" style=\"background-color:white;\"></div>\n",
              "<script type=\"text/javascript\">\n",
              "\n",
              "var ldavis_el2721376858731961921705246614_data = {\"mdsDat\": {\"x\": [-0.03856905552414546, 0.036687690837349345, -0.07662400325063534, 0.0458413858340139, -0.08607489367053317, 0.12286277950275978, -0.10578905384904877, 0.17064553714904263, -0.011549488149993351, -0.05743089887880945], \"y\": [0.021915437887133436, -0.08806249288707407, -0.008373033174218694, 0.07371562089477927, -0.016691607097084733, -0.10540100763316144, -0.07023295814410635, 0.042106130647553516, 0.12263649876277823, 0.028387410743401082], \"topics\": [1, 2, 3, 4, 5, 6, 7, 8, 9, 10], \"cluster\": [1, 1, 1, 1, 1, 1, 1, 1, 1, 1], \"Freq\": [18.56600670175494, 15.41298636121521, 12.575269445938092, 11.883007169508456, 8.856644273588849, 8.154278347752905, 7.6374341842113544, 7.043674827766949, 5.494266193803535, 4.376432494459707]}, \"tinfo\": {\"Term\": [\"prozent\", \"euro\", \"fluchtling\", \"osterreich\", \"jahr\", \"spiel\", \"unternehm\", \"standard\", \"million\", \"mensch\", \"polizei\", \"dollar\", \"word\", \"grenz\", \"wien\", \"jahrig\", \"land\", \"forsch\", \"griechenland\", \"ukrain\", \"partei\", \"china\", \"russland\", \"milliard\", \"appl\", \"russisch\", \"mann\", \"minut\", \"erst\", \"israel\", \"griss\", \"trump\", \"niessl\", \"strolz\", \"volkspartei\", \"puhring\", \"haimbuchn\", \"khol\", \"obamas\", \"kandidatur\", \"podemos\", \"glawischn\", \"wahlergebnis\", \"irmgard\", \"haupl\", \"republikan\", \"parteitag\", \"wahlkampf\", \"vassilakou\", \"labour\", \"juraczka\", \"landtagswahl\", \"stadtrat\", \"kandidi\", \"stichwahl\", \"osz\", \"pjongjang\", \"stenzel\", \"vov\", \"klubchef\", \"strach\", \"clinton\", \"lopatka\", \"wahlkart\", \"partei\", \"demokrat\", \"gemeinderat\", \"landeshauptmann\", \"bell\", \"neos\", \"obama\", \"stronach\", \"ttip\", \"parteichef\", \"wahl\", \"grun\", \"kandidat\", \"freiheit\", \"koalition\", \"polit\", \"nationalrat\", \"abgeordnet\", \"burgermeist\", \"faymann\", \"mitterlehn\", \"blau\", \"mandat\", \"stimm\", \"prasident\", \"standard\", \"parlament\", \"mehrheit\", \"regier\", \"sagt\", \"land\", \"wien\", \"europa\", \"chef\", \"gesprach\", \"muss\", \"fordert\", \"staat\", \"seit\", \"hatt\", \"neu\", \"schon\", \"recht\", \"entscheid\", \"gibt\", \"jahr\", \"viel\", \"erst\", \"frag\", \"osterreich\", \"bereit\", \"geb\", \"gross\", \"erklart\", \"thiem\", \"nadal\", \"djokovic\", \"slam\", \"mozart\", \"gemald\", \"wimbledon\", \"murray\", \"cont\", \"tennis\", \"french\", \"literar\", \"topgesetzt\", \"tiebreak\", \"australian\", \"kunstlerin\", \"breakball\", \"klavi\", \"dominic\", \"dirigent\", \"zeitgeschicht\", \"maur\", \"sehnsucht\", \"literatur\", \"melz\", \"gesang\", \"epoch\", \"break\", \"lektur\", \"urauffuhr\", \"philosoph\", \"kunstwerk\", \"award\", \"fed\", \"fiction\", \"komponist\", \"kunst\", \"open\", \"gehirn\", \"museum\", \"dissertation\", \"satz\", \"mathemat\", \"musikal\", \"buch\", \"eigenschaft\", \"autor\", \"wissenschaft\", \"musik\", \"song\", \"werk\", \"university\", \"universitat\", \"judisch\", \"geschicht\", \"physik\", \"kunstl\", \"forsch\", \"film\", \"art\", \"heut\", \"studi\", \"leb\", \"welt\", \"gross\", \"ganz\", \"natur\", \"jahr\", \"schon\", \"zeit\", \"lang\", \"imm\", \"wien\", \"erst\", \"alt\", \"form\", \"dabei\", \"klein\", \"etwa\", \"gibt\", \"viel\", \"arbeit\", \"einfach\", \"mensch\", \"spiel\", \"macht\", \"sagt\", \"neu\", \"wenig\", \"zwei\", \"seit\", \"standard\", \"konnt\", \"android\", \"windows\", \"betriebssyst\", \"brows\", \"lumia\", \"phon\", \"eurogrupp\", \"dijsselblo\", \"syriza\", \"betriebssystem\", \"spotify\", \"megapixel\", \"nexus\", \"messeng\", \"snapdragon\", \"jero\", \"display\", \"schaubl\", \"microsoft\", \"prozessor\", \"desktop\", \"apps\", \"linux\", \"sony\", \"updat\", \"firmwar\", \"iphon\", \"ipad\", \"webstandard\", \"build\", \"tsipras\", \"googl\", \"junck\", \"varoufakis\", \"appl\", \"smartphon\", \"hilfsprogramm\", \"hilfspaket\", \"samsung\", \"ath\", \"wlan\", \"tablet\", \"griechenland\", \"griechisch\", \"griech\", \"version\", \"alexis\", \"nutz\", \"gerat\", \"facebook\", \"mobil\", \"softwar\", \"user\", \"finanzminist\", \"neu\", \"kommission\", \"herstell\", \"soll\", \"allerding\", \"aktuell\", \"eig\", \"bereit\", \"sagt\", \"europa\", \"euro\", \"gibt\", \"weit\", \"moglich\", \"erst\", \"etwa\", \"seit\", \"beim\", \"muss\", \"land\", \"schon\", \"jahr\", \"gross\", \"rousseff\", \"obduktion\", \"tatverdacht\", \"hakenkreuz\", \"justizanstalt\", \"praterst\", \"razzi\", \"staatsanwaltin\", \"dilma\", \"zeugin\", \"brandstift\", \"eingeliefert\", \"kriminalist\", \"schuldspruch\", \"kompliz\", \"molenbeek\", \"bluttat\", \"feldkirch\", \"uberstellt\", \"feuerwehrleut\", \"lebensgefahr\", \"tatort\", \"schoffensenat\", \"jakarta\", \"brasilia\", \"vergewalt\", \"dreharbeit\", \"psychiatr\", \"vergewaltigt\", \"silvesternacht\", \"festgenomm\", \"staatsanwalt\", \"angeklagt\", \"haft\", \"festnahm\", \"polizei\", \"tat\", \"sexuell\", \"verdacht\", \"verurteilt\", \"ermittl\", \"ubergriff\", \"mandant\", \"anschlag\", \"polizist\", \"krankenhaus\", \"attentat\", \"mutmass\", \"mann\", \"mord\", \"leich\", \"unfall\", \"flughaf\", \"frau\", \"gefangnis\", \"jahrig\", \"opf\", \"word\", \"madch\", \"verletzt\", \"weg\", \"beamt\", \"vorfall\", \"stadt\", \"tot\", \"gericht\", \"angab\", \"jugend\", \"kind\", \"jahr\", \"sagt\", \"berichtet\", \"zwei\", \"laut\", \"seien\", \"mensch\", \"alt\", \"schwer\", \"wien\", \"seit\", \"drei\", \"weit\", \"fall\", \"erklart\", \"bereit\", \"erst\", \"rund\", \"hatt\", \"osterreich\", \"offshor\", \"eigenkapital\", \"ebit\", \"unicredit\", \"pfeiff\", \"heta\", \"ebitda\", \"transaktion\", \"jahresumsatz\", \"zielpunkt\", \"bawag\", \"telekom\", \"geschaftsjahr\", \"ruckstell\", \"lufthansa\", \"lobbyist\", \"borsennotiert\", \"abschreib\", \"liegenschaft\", \"provision\", \"konkur\", \"steueroas\", \"aktionar\", \"kapitalerhoh\", \"holding\", \"divid\", \"konsortium\", \"betriebsrat\", \"gmbh\", \"haftung\", \"sanier\", \"ikea\", \"hypo\", \"operativ\", \"insolvenz\", \"filial\", \"euro\", \"umsatz\", \"eigentum\", \"vorstand\", \"bank\", \"million\", \"panama\", \"group\", \"versicher\", \"unternehm\", \"milliard\", \"standort\", \"geschaft\", \"mitarbeit\", \"wien\", \"verkauf\", \"konz\", \"energi\", \"prozent\", \"rund\", \"kund\", \"jahr\", \"laut\", \"osterreich\", \"neu\", \"hoh\", \"soll\", \"seit\", \"chef\", \"weit\", \"erst\", \"bereit\", \"sowi\", \"sagt\", \"seien\", \"weg\", \"etwa\", \"gross\", \"word\", \"drei\", \"zwei\", \"deutsch\", \"land\", \"admira\", \"grodig\", \"kainz\", \"barisic\", \"zeidl\", \"altach\", \"jelic\", \"schaub\", \"meteorologi\", \"dibon\", \"schottel\", \"stangl\", \"foda\", \"pavelic\", \"lask\", \"strebing\", \"petsos\", \"kayod\", \"grahovac\", \"zamg\", \"prosen\", \"pfeifenberg\", \"geodynam\", \"gorgon\", \"novota\", \"edomwonyi\", \"schobesberg\", \"venuto\", \"tomi\", \"grozurek\", \"soriano\", \"vastic\", \"rapid\", \"wack\", \"ried\", \"keita\", \"happel\", \"slalom\", \"mattersburg\", \"weltcup\", \"alm\", \"fink\", \"celsius\", \"wolfsberg\", \"mannschaft\", \"hofmann\", \"grad\", \"stadion\", \"bull\", \"sturm\", \"arena\", \"temperatur\", \"ball\", \"spiel\", \"sonn\", \"bundesliga\", \"salzburg\", \"train\", \"austria\", \"forsch\", \"mannch\", \"parti\", \"minut\", \"sieg\", \"team\", \"erst\", \"fussball\", \"punkt\", \"platz\", \"zweit\", \"met\", \"chanc\", \"konnt\", \"zwei\", \"saison\", \"vier\", \"schon\", \"gross\", \"wien\", \"rund\", \"jahr\", \"drei\", \"bereit\", \"sagt\", \"beim\", \"weit\", \"osterreich\", \"stark\", \"wifo\", \"vormonat\", \"arbeitslos\", \"jobsuch\", \"einkomm\", \"arbeitsmarkt\", \"uberstund\", \"mindestlohn\", \"mittelschicht\", \"steuerreform\", \"altersgrupp\", \"arbeitskraft\", \"weiterbild\", \"zuwach\", \"arbeitszeit\", \"teilzeit\", \"lohnnebenkost\", \"prozentpunkt\", \"produktivitat\", \"schrumpf\", \"sprachkurs\", \"market\", \"jahresvergleich\", \"geringfug\", \"berufsbild\", \"armut\", \"teuer\", \"zuwachs\", \"lohn\", \"oecd\", \"durchschnitt\", \"arbeitnehm\", \"wachstum\", \"okonom\", \"anstieg\", \"ruckgang\", \"prozent\", \"konjunktur\", \"inflation\", \"plus\", \"gestieg\", \"schnitt\", \"statist\", \"befragt\", \"osterreich\", \"niedrig\", \"wirtschaft\", \"haushalt\", \"minus\", \"zahl\", \"hoh\", \"jahr\", \"standard\", \"wenig\", \"deutlich\", \"stark\", \"euro\", \"land\", \"studi\", \"arbeit\", \"gibt\", \"mensch\", \"vorjahr\", \"viel\", \"wien\", \"liegt\", \"fluchtling\", \"seit\", \"laut\", \"imm\", \"etwa\", \"sagt\", \"geht\", \"gross\", \"rund\", \"unternehm\", \"muss\", \"erst\", \"stok\", \"tottenham\", \"palastinens\", \"atletico\", \"barca\", \"israelis\", \"leic\", \"westjordanland\", \"neymar\", \"dynamo\", \"tampa\", \"nusra\", \"netanjahu\", \"leaf\", \"grabn\", \"tempelberg\", \"juventus\", \"aden\", \"sanaa\", \"hadi\", \"houthi\", \"suarez\", \"vidal\", \"watford\", \"gazastreif\", \"mapl\", \"jemenit\", \"hisbollah\", \"shark\", \"ronaldo\", \"assad\", \"chelsea\", \"leverkus\", \"united\", \"guardiola\", \"luftangriff\", \"jerusal\", \"borussia\", \"israel\", \"toronto\", \"liverpool\", \"taliban\", \"sevilla\", \"barcelona\", \"schalk\", \"dortmund\", \"arsenal\", \"arnautovic\", \"manch\", \"hinspiel\", \"leagu\", \"bay\", \"rebell\", \"madrid\", \"champion\", \"syrisch\", \"city\", \"alaba\", \"tor\", \"minut\", \"syri\", \"arme\", \"saison\", \"train\", \"getotet\", \"kampf\", \"sieg\", \"real\", \"spiel\", \"angriff\", \"punkt\", \"islam\", \"erst\", \"seit\", \"munch\", \"beim\", \"jahrig\", \"sagt\", \"zwei\", \"drei\", \"word\", \"jahr\", \"bereit\", \"rund\", \"sonntag\", \"samstag\", \"neu\", \"team\", \"treff\", \"vergang\", \"volltext\", \"krim\", \"peskow\", \"mazedon\", \"kosovar\", \"radkersburg\", \"transitland\", \"balkanstaat\", \"mazedoni\", \"kosovo\", \"belgrad\", \"idomeni\", \"tribunal\", \"serbisch\", \"bohmermann\", \"serbi\", \"basier\", \"slowen\", \"uberfahrt\", \"dmitri\", \"kroatisch\", \"grenzubergang\", \"sonderzug\", \"moskaus\", \"sammelstell\", \"kroati\", \"grenzubertritt\", \"grenzzaun\", \"budap\", \"nickelsdorf\", \"ukrain\", \"sloweni\", \"kiew\", \"balkanrout\", \"einreis\", \"ungar\", \"ungarn\", \"artikel\", \"russisch\", \"fluchtling\", \"grenz\", \"spielfeld\", \"turkei\", \"agypt\", \"russland\", \"turkisch\", \"rechtlich\", \"moskau\", \"zaun\", \"verfug\", \"mensch\", \"grund\", \"migrant\", \"deutschland\", \"steht\", \"tier\", \"sagt\", \"berlin\", \"regier\", \"osterreich\", \"land\", \"rund\", \"seit\", \"seien\", \"europa\", \"bereit\", \"zwei\", \"jahr\", \"deutsch\", \"yuan\", \"vettel\", \"boeing\", \"barrel\", \"toyota\", \"hamilton\", \"chinas\", \"peking\", \"renault\", \"umweltbehord\", \"hongkong\", \"jinping\", \"olpreis\", \"nico\", \"wang\", \"volkswag\", \"autobau\", \"taiwan\", \"china\", \"ferrari\", \"vollzug\", \"chines\", \"volksrepubl\", \"tesla\", \"motor\", \"shanghai\", \"daiml\", \"aktienmarkt\", \"absatz\", \"geldpolit\", \"porsch\", \"bors\", \"autos\", \"tokio\", \"dollar\", \"fahrzeug\", \"satellit\", \"audi\", \"notenbank\", \"japan\", \"markt\", \"konz\", \"amazon\", \"indi\", \"iran\", \"unternehm\", \"herstell\", \"weltweit\", \"jahr\", \"mark\", \"milliard\", \"prozent\", \"million\", \"sagt\", \"land\", \"erst\", \"seit\", \"bereit\", \"neu\", \"zufolg\", \"rund\", \"soll\", \"euro\", \"vergang\", \"deutsch\", \"weit\", \"europa\", \"zwei\", \"gross\"], \"Freq\": [5850.0, 5097.0, 2958.0, 5606.0, 9910.0, 2782.0, 2175.0, 3508.0, 3045.0, 4170.0, 1498.0, 1141.0, 3548.0, 1278.0, 7034.0, 2396.0, 4100.0, 1803.0, 1317.0, 702.0, 1399.0, 606.0, 1030.0, 1425.0, 865.0, 860.0, 1878.0, 1081.0, 6545.0, 609.0, 219.16254527808937, 339.35132071492285, 139.86144218118966, 83.3916395319576, 97.57644063749477, 73.64800395901035, 58.71930475142667, 134.43958194508724, 56.916780645923076, 135.97339899013403, 48.812712792472055, 136.3472777979903, 52.00385517939251, 61.88211444852475, 293.6992022587046, 229.47172310754823, 102.54990257587713, 300.8845051649283, 111.97129191479232, 42.40220339519142, 39.84937825446937, 78.25752919674015, 61.44165517041569, 55.36774167897742, 79.24033891374162, 39.284252825433676, 38.063863025692, 41.91683867557803, 35.398324647867035, 110.79028845201255, 418.05458514495353, 187.3003610842361, 144.37923449810512, 61.353087050807495, 1296.1388071550634, 300.2330192581014, 157.93273495328873, 326.7534667195591, 339.9855468766353, 303.3406996619938, 354.7555351632442, 185.95928815167113, 399.2757354514874, 156.36175851066534, 1128.3246828670592, 1415.5157261732188, 589.8683080070164, 369.3170479596685, 308.2413866106894, 2026.0688043503183, 180.48861278672067, 511.31260050346566, 453.6612540595405, 539.2503231353105, 372.62174881718477, 345.15652328639067, 199.3674701983012, 480.78628661775554, 1007.7655176227237, 1790.2656108258561, 606.2380801462521, 415.1794327204125, 1236.2796645136189, 2006.119009086686, 1269.2281783000242, 1517.7691254712165, 993.512549786817, 657.1985428226274, 526.2104158826937, 844.6841451247785, 510.86035813013416, 676.1879058294937, 1055.156455051874, 741.7092946562161, 1014.0549810928964, 886.3772670907048, 600.2355174839578, 631.6536877876156, 775.3932773668212, 1003.0727812703541, 723.1573843663128, 835.2806407721918, 611.8415382193689, 769.5371292149616, 689.6388358494888, 617.2483772282831, 622.8182420944507, 610.326200525755, 221.01417859105385, 69.45708620213429, 66.2977659931314, 46.46217920416294, 27.663577380939298, 56.03914854259632, 23.65480113297787, 58.77815352613338, 31.391807586119135, 45.09449661945533, 17.27178470675406, 28.992997060503583, 15.620199824605866, 17.65195464081196, 21.94820731707039, 18.74631794396314, 13.371244867991006, 22.638169969353555, 59.220672899367024, 15.58817522764492, 17.145126544656545, 56.29277566077887, 24.201684806812853, 45.062878938333704, 26.766665983742772, 13.203162993856509, 31.88731893625494, 42.003208253100944, 17.35119737665672, 18.278271810950827, 83.08324942518381, 49.27364083959343, 80.26355335111504, 83.63825699752749, 49.06255084489798, 36.3672156144557, 136.60726077710564, 194.05779210230355, 92.09893443435038, 260.22597302294986, 44.01945701257943, 208.545892786769, 136.99675933688158, 43.69231590213355, 380.4799718868463, 135.23579419549847, 196.53606976687112, 804.295468178159, 226.63451298003943, 102.76259014403716, 211.300411837188, 222.42365816098962, 569.2926124121442, 177.55938619286314, 452.74238074214225, 179.20042971192964, 135.20351006953766, 825.5171224580243, 283.42073977926367, 184.97778875803002, 674.4316166903254, 541.1881721578841, 671.147222727749, 509.8767993373585, 1274.6911012061125, 827.3359016892086, 508.27927979279093, 2025.8661993205885, 1146.5739503768536, 750.0501904908816, 871.7598843110635, 853.0878429260547, 1373.9694408332925, 1301.1223035290736, 527.2890036513273, 293.1584216498596, 737.6015648093534, 546.3651156688462, 797.0925323560066, 787.6390123118512, 740.7726118842769, 535.7621833370088, 428.33063444444826, 766.7035704579315, 629.8417918334833, 520.4792702843073, 942.3094273996214, 816.4479360261411, 640.2237208036421, 647.3543217282466, 664.9578982410433, 599.8468526303426, 559.4222054885707, 409.52260621488955, 514.5833734054028, 106.49681679045952, 93.16489678054268, 60.58870020896194, 51.52179543691258, 140.86519979117503, 87.79928034710275, 78.48365961426056, 50.61054796423925, 56.9777152500337, 52.10500302125007, 154.9930359715195, 54.64240669348685, 47.2440910893597, 58.776489350451364, 109.70494996550663, 112.27255235943393, 487.5639664422297, 81.1407131732507, 44.83379287470915, 211.1787615123426, 85.26983416351086, 92.677921480041, 274.7247980679631, 32.7119418123376, 278.523646681286, 109.2353640258676, 38.69730126418241, 25.841246394865536, 460.5584040453718, 741.2911164968579, 165.10961819446237, 141.4114955030861, 816.0929318594146, 641.0643615804964, 125.05890862091559, 89.7032010008303, 183.18044750977234, 558.0349839636797, 93.74447591736403, 145.13253639892315, 1005.0088569469881, 749.8812725438256, 184.4773613095753, 327.8658483345237, 158.87159540736553, 904.952126689452, 706.1111951338153, 553.4976469429223, 257.2509895334426, 272.5303088275541, 150.57173607493098, 372.2638249273845, 1787.604546908193, 442.2089162347951, 342.8287293613921, 789.3987676384374, 735.0488483216009, 438.26438597653026, 525.9046734000513, 769.0215736937411, 1030.6554350412885, 665.4433462405135, 742.2385700200344, 642.6565703597108, 659.6377883882076, 552.6184124156975, 699.2076084147235, 576.0385249223143, 629.5213812188679, 534.7567887184147, 520.7904655073332, 532.5958234052009, 525.1534279148942, 564.3232612717061, 515.7399175237745, 75.15042762164501, 31.519170267441684, 51.55373579500112, 21.816480912432006, 31.822985987092004, 33.82264132324987, 20.762838906174505, 30.162233763721407, 18.419568460439127, 27.03190669867936, 19.695300523537682, 23.64044237718236, 14.230003043803633, 21.82401022630707, 20.387022887470216, 20.057075656393593, 18.899376951424408, 38.61447897759415, 15.58510538887816, 21.200929860177478, 30.57586185837242, 78.51580366104405, 29.430358764492865, 19.63570580659676, 12.952729546368447, 79.44454255133537, 16.32022876335136, 30.61465709275821, 29.713906104764938, 66.40074733698654, 329.9196334734031, 109.73977937203226, 294.821173628398, 296.1458190589638, 110.98369711971186, 1185.5469493639487, 308.0146855931864, 157.0557861029966, 415.87313447637564, 317.58175589929357, 453.0185400725072, 133.30405167266028, 55.00478001195503, 322.54404803044923, 314.5659791436395, 188.44030812873817, 185.54302419721762, 222.07600607421992, 1181.1378147778769, 141.14580243057188, 127.13586384079515, 137.1769449673939, 248.1518974115422, 975.4015462453312, 122.76932619975663, 1262.1248538721934, 370.48014612826864, 1686.53611171102, 152.71417819805623, 415.86171205270165, 1013.2437592095331, 254.73860442778033, 190.9194483534805, 623.4593613566183, 248.9626918726082, 331.5432578793386, 523.1662129116601, 262.38328873434773, 486.5920075471423, 1682.388467626772, 1452.743999197733, 528.7044283873328, 896.4290432571146, 775.3179940928995, 698.1357682767823, 823.3421318057148, 498.21616149943605, 448.9104989935232, 979.7686273407833, 730.0296256598965, 575.5745851174171, 611.8205044921905, 499.1825617805867, 480.1311448111048, 523.263481370697, 564.5157028031348, 495.39964477475905, 460.15514390734785, 441.9729378078943, 66.98532049224083, 34.964131555521135, 23.884552286977847, 22.784154203601105, 122.97670901111722, 48.887996758238984, 19.079482926953606, 51.71884432083396, 26.426565996300805, 162.09794990767347, 20.139762895969618, 153.10860540682555, 58.362845928977904, 12.297445731520794, 138.63206024644407, 20.06175074628201, 27.358254428859222, 35.03254039706255, 15.397658170778907, 18.991326178361565, 22.033308435795718, 39.75528753370857, 61.66770585903894, 18.969516211279544, 89.75192877432484, 44.12373593446098, 43.66621268274594, 63.81602996249362, 110.83840000083151, 33.132584059888856, 48.76170294581637, 75.74038551552223, 139.4122259303208, 75.97713946512643, 62.90238271408485, 127.85196389833492, 2575.8537493571175, 237.00547674101682, 152.26933224504901, 161.7738382577394, 511.86598641631394, 1277.7829533081344, 136.58645250830307, 79.44703416044983, 70.60081871928082, 778.8130903281426, 550.078610018038, 185.3433758935467, 270.5168833221726, 401.32374978749107, 1617.1384114822606, 207.68137763360585, 245.82508424328077, 209.89533784430975, 927.3828070258711, 703.0822860272663, 238.26234651715058, 1142.2984214936062, 563.974891485586, 726.15367414649, 742.5524127521337, 439.476720938307, 445.1982305334075, 588.6730093055739, 338.7442341228213, 481.9259647065266, 570.3686326509201, 477.5240556995148, 317.8095526081254, 535.9793629274003, 370.41288075692415, 319.56972705092113, 344.2370318024401, 355.75534564178736, 336.5525883474571, 318.39025817096564, 335.7234340088346, 311.74456272779594, 312.4078390658932, 171.5925041911247, 179.22158726541795, 79.52627971954267, 123.39267339929378, 65.90943408425552, 140.58892753875227, 40.90741146265816, 48.64075777727846, 39.80081213415886, 35.897215944059425, 35.870697537808596, 34.197122343216655, 31.618063250400525, 32.29409953718902, 50.47043288204853, 31.56743689390044, 34.364345609430195, 36.386060489459574, 32.279250314563264, 42.68676194170752, 31.514220399024534, 34.24632480165674, 30.859708704576427, 29.984987784915266, 27.272016164905992, 25.849536917612024, 58.00112460039553, 25.796481458826243, 24.41589702171441, 22.31550838363635, 68.49974197174569, 40.39356055513757, 449.18440083338186, 74.88780296020835, 125.87970799463196, 51.544160506762594, 63.525903316945715, 56.79713742505892, 106.66450201542719, 112.9237137903934, 62.54874988303466, 61.151390570682594, 79.85718006775365, 56.52108427402591, 320.39086853155993, 118.49686435818201, 305.3448767548479, 191.45886553363613, 187.54359337944467, 262.5311912522584, 115.73672611493511, 144.07909153689613, 175.62105082622293, 1129.2255839882473, 145.73545112589593, 175.58519571697866, 594.3117796829866, 338.5858447703051, 359.6291866882817, 660.8765458981916, 142.6408053260194, 198.21070535456195, 419.48337900443306, 391.59271472990696, 411.13385775551353, 1050.3760219924218, 263.15228202509815, 374.6829624410551, 344.75013000793774, 399.5976797701734, 246.38174628371297, 240.65146517476947, 434.63650215899304, 494.04255985332645, 223.65379735141283, 334.87481384165375, 440.57863217739725, 433.71048022637, 496.8465270349537, 408.01731104738076, 488.81736928860107, 354.9272583192068, 381.96095293655316, 415.7504336065916, 331.05689563196484, 336.25564237557586, 333.1606846742195, 293.67496083933867, 132.93495963096356, 38.04595692666119, 209.73241712839754, 30.610872503900193, 162.24247175947406, 277.96050767144806, 45.838842925351955, 96.67279030909717, 32.72204183480619, 125.14991674595252, 13.530976236804777, 76.01823939032754, 17.16120903371642, 56.986616037526055, 84.10977972668391, 23.204394806297397, 24.018686238160747, 108.49204508949519, 38.03229657238984, 26.867862400508223, 21.140563588240603, 21.713422071128917, 18.586436154010826, 30.853339029192135, 12.717525478766008, 71.02741530328663, 17.150003224738366, 34.9773720406353, 110.45279810663229, 142.2185516354507, 77.08265470320698, 129.77820481070881, 311.863614464534, 280.8937178750819, 161.49565492037897, 126.33883116861139, 3478.648094180341, 107.5116622302273, 80.43056557346992, 230.3552590053834, 174.0949343466991, 178.4435122099085, 162.22603614959294, 165.9918865431462, 1798.248579030022, 266.1839740454821, 398.95626686365796, 138.84658431610367, 160.2020301670711, 595.8914024618432, 677.3096033932225, 1491.7511276846744, 755.6673261062781, 690.9494830099127, 419.6944755447783, 546.9186704091951, 808.1872031687524, 687.3954792448037, 353.00138713539155, 407.82778739104106, 572.9809751771015, 550.0771526196692, 227.0296517911879, 476.05233424386216, 593.5510427426067, 293.56877384587705, 396.0534892112413, 462.41469007333814, 384.15987409232014, 369.8132124451478, 377.47500095744925, 447.7276563445632, 335.27450225973564, 370.708254606741, 351.40581203146274, 317.0817046780066, 319.26842827891085, 329.1196330886349, 75.30289910139639, 56.82461154705307, 127.75462283274467, 90.80224717513015, 49.890181573827796, 59.191672849831754, 76.33921468626157, 42.64248836445459, 53.22174023407085, 42.80708107579186, 33.73633704370485, 41.511175573641985, 45.35942778256863, 42.50508373104871, 41.86637182227369, 30.225906367084313, 96.23279339258549, 36.955064009137686, 32.554788978351645, 29.60466288623483, 26.24003281667693, 38.29994260771652, 45.04759071983222, 39.261101489433166, 37.53499824534046, 41.494374840865994, 22.866807636312416, 23.199521886422023, 21.385963755932966, 63.19592265928905, 150.95057489290664, 92.18470412528323, 83.15040219162125, 131.32511678794907, 69.83184604486878, 120.19810597427049, 117.1209333090282, 84.64697058562119, 541.0444844990125, 84.6097260816217, 116.23246534398675, 122.59193365278084, 70.73370891172605, 215.18167688391165, 80.36100613583186, 134.33015494914076, 98.2735274764877, 91.65573142852055, 180.07551931360754, 149.36631001229176, 404.18230068935594, 392.5939008133934, 192.56203944940492, 236.7379219381467, 238.94096451313774, 312.9872086303199, 221.23151035256782, 119.93046564485381, 271.88384836867357, 442.4299873661583, 348.6618559076846, 176.8236565121349, 291.0619507234376, 312.20141343695815, 274.0595740122833, 402.40257683917497, 367.8186623013632, 208.86300826293962, 564.3294274372635, 237.92602103003293, 350.69012634879533, 229.62774171621683, 599.2166161403675, 552.7266662586107, 198.44687021847412, 405.0486644307625, 358.6986962514099, 530.9802335123059, 429.88875136994835, 362.6686476152907, 373.6320145475813, 453.43116692902305, 355.73094359304264, 336.231129315699, 275.13641400714573, 257.1956796179342, 312.68796406382484, 260.05498452727574, 252.48538318666053, 252.59228469428732, 293.1759686095938, 124.84023790984196, 37.30001672184122, 80.37056284771451, 22.491924449253894, 31.50204826621823, 18.314982155288178, 38.11379978288567, 182.1593933153866, 109.74415437932306, 56.300808412759416, 39.869723193348335, 27.25484080184486, 120.95925223951689, 83.13353737099926, 217.05855926781868, 300.33331227063206, 125.48754551285751, 19.247857370402954, 41.279878461772775, 135.98631326063924, 106.11123491334097, 19.582062368988524, 20.703792361848844, 29.55076666643166, 211.8806466764933, 24.382923284181622, 61.33987647912645, 83.72142567581443, 28.321946249192884, 561.1488713734929, 247.65963489921842, 206.17686918434853, 75.00462011214546, 92.59842029475021, 206.0176623795133, 339.29159386700394, 357.1629597471456, 507.16552066850176, 1410.0687938376068, 654.477537756537, 112.52524799661542, 396.9243841196543, 185.61395437742104, 490.3427413886179, 286.23143064670825, 337.0690215509259, 255.25253124465095, 139.48789442240292, 376.87061311317615, 770.7979912648576, 437.8644359123482, 173.93690642356015, 443.10806334184934, 396.4692777987616, 285.35849783525623, 591.1331485571425, 257.2217651843021, 327.919454721531, 399.2180074064852, 345.3049766951816, 315.9754356689743, 338.55765634453, 291.28900613864886, 288.96248888387674, 271.6780975872186, 266.8068664236647, 270.98493031056506, 263.5376811454053, 47.22452220357167, 31.94381374865373, 38.297162934911235, 44.79397282561437, 41.95100030587004, 39.85517922824287, 120.28225531143104, 170.54548280957616, 30.80974927428644, 33.7335608201724, 36.66286013284605, 14.770256075873009, 84.05562169076875, 11.522767274612157, 26.188669352831393, 202.18985299713938, 96.9792760847347, 24.976990097265364, 478.4334069093576, 25.229962317587482, 14.683696380374457, 341.31723046516754, 34.28648607595522, 98.19278580893085, 110.46672937318482, 16.005481235323657, 48.27770762166824, 24.18697184554906, 44.21951136038228, 50.06313143924542, 96.11696160033439, 118.66466690781138, 226.01178281733087, 53.739695006218206, 559.9397571374997, 240.65292626070928, 77.30722607785098, 58.061260404081196, 118.50498308377722, 224.03155783520154, 264.02624206331564, 209.07309919764626, 110.64377899503782, 111.75968798631244, 147.23164450058908, 360.49687349324404, 176.95277805343352, 175.871862673187, 787.2894050945895, 132.24325788288664, 248.81869412795976, 501.5332659828568, 322.68755774152663, 492.653040371646, 347.58225135204134, 401.24352733537637, 369.0976742470109, 328.96215674656037, 348.0526563162608, 185.5450778634232, 268.81078865600364, 247.70981588299404, 278.0282571874718, 231.15568351794334, 234.35451296797092, 240.194501222395, 218.67120330930305, 226.79848402698687, 197.52774037381798], \"Total\": [5850.0, 5097.0, 2958.0, 5606.0, 9910.0, 2782.0, 2175.0, 3508.0, 3045.0, 4170.0, 1498.0, 1141.0, 3548.0, 1278.0, 7034.0, 2396.0, 4100.0, 1803.0, 1317.0, 702.0, 1399.0, 606.0, 1030.0, 1425.0, 865.0, 860.0, 1878.0, 1081.0, 6545.0, 609.0, 222.96883265857093, 345.2515795959627, 142.75641128719892, 85.14002458813123, 99.65601590210116, 75.24370176775903, 60.00790521030323, 137.46737734989415, 58.248714432436614, 139.16426996671495, 49.99162776207412, 139.69530599206598, 53.31723839309815, 63.473822528873114, 301.28140876673734, 235.41816767630516, 105.31524028190601, 309.02480441224833, 115.05829721126625, 43.59499748483702, 40.97127061450108, 80.55137342671665, 63.30033623700304, 57.161597052440236, 81.8128492331109, 40.581593114056716, 39.33316953923278, 43.3195657758485, 36.6011501968373, 114.6719478768219, 434.8142975171732, 194.75924666710623, 150.48147836728805, 63.52672455294879, 1399.5414091169105, 318.0741394983417, 165.976738078121, 349.7415985527963, 364.8908861243932, 324.6032978689889, 383.92561945674964, 197.7337305046456, 439.83895367574416, 166.38324187367877, 1316.6219153782151, 1673.1670478404355, 674.0436667476903, 428.2118545141252, 352.8713681663387, 2906.2703196562115, 197.4033893877725, 638.2313679697617, 567.5287987584135, 695.8077018527265, 457.99413994711523, 423.1451504957867, 221.9713216337066, 655.6238348429571, 1659.4287129116647, 3508.8593051692696, 924.6080819167183, 576.7632985679616, 2644.1487939698613, 8446.051746044977, 4100.8249660759075, 7034.0753446198805, 3285.3357403171176, 1613.2460596042274, 1034.7966983316464, 3033.6990511202257, 997.3862273417317, 1903.6780732397892, 5676.189358678673, 2605.1960864449125, 6056.679389510183, 4331.565778948597, 1564.052601395368, 1834.4752408444865, 3741.5829743149784, 9910.22313029048, 3482.544868480991, 6545.858436295788, 1948.2352693488558, 5606.882313726616, 4389.104676554272, 2171.1574128628654, 4431.071427966722, 2503.0371755472534, 223.1951183200425, 71.08707474104585, 68.09927471320384, 47.90692144240007, 28.87060710680577, 58.53257520880502, 24.898013285873308, 62.040575785974006, 33.19444403404564, 48.000000334255375, 18.40415349660401, 30.900955619533946, 16.653885894942988, 18.915286744193796, 23.60919246917044, 20.19175056563276, 14.411586439016952, 24.46002973896606, 64.11015722566414, 16.87907261455337, 18.56980753222698, 60.99715075664942, 26.23220393114335, 48.89185043667971, 29.104795747021615, 14.36624030662266, 34.735274667982154, 45.804167991551125, 18.992486365251196, 20.04660532939077, 91.43185753035083, 54.192525585741016, 88.78967380066202, 93.47345755413068, 54.648230825495816, 40.28500027306427, 158.93370921600837, 238.6683011004479, 108.55908759548247, 328.60207440714674, 49.75288579345105, 265.9606918608227, 169.40720335239084, 49.52839473026379, 525.131891459257, 170.21129342466978, 260.46008517979465, 1280.7497038943916, 312.25329437088254, 129.88058246807014, 299.4651670369712, 320.3843503423659, 965.9569414195328, 246.71261551564777, 748.0869600757804, 257.9192211056249, 184.7465224855514, 1803.5600031890292, 479.92285493697386, 283.0839974769661, 1619.2020412665138, 1234.1328691244926, 1732.9268506059827, 1200.655883065894, 4431.071427966722, 2445.2980351566753, 1255.9177037059897, 9910.22313029048, 4331.565778948597, 2323.701229786212, 3122.5382939108263, 3107.51505892771, 7034.0753446198805, 6545.858436295788, 1592.4725078020047, 584.87020386948, 2960.693246351518, 1769.3694152716525, 3671.955330328533, 3741.5829743149784, 3482.544868480991, 1833.4659576764238, 1184.5516576364225, 4170.970827795297, 2782.1762584659473, 1836.1214009317189, 8446.051746044977, 6056.679389510183, 3259.1286441242414, 4375.213233234521, 5676.189358678673, 3508.8593051692696, 3021.1217784466544, 413.93079604801505, 520.2855500293927, 108.22148801462066, 94.98252062434796, 61.85863645463468, 52.7386115594375, 144.22130889913998, 89.89593968128541, 80.41510367780594, 51.86237714637625, 58.41434582081843, 53.45957300693719, 159.055973464896, 56.092491116339566, 48.56721630993328, 60.487875253971396, 113.05035382318003, 115.76694148049587, 503.50532688691317, 83.79833678966304, 46.30803937042205, 218.17081968092157, 88.2480419403262, 95.95865778307042, 284.4703740754428, 33.88176103269954, 288.5540383127335, 113.24132756146876, 40.12537732258658, 26.869910779348423, 479.4929405509477, 782.5911949397866, 171.80849888840856, 147.33716927779017, 865.6978563487584, 702.1642028798528, 131.4536902441706, 93.97227733733922, 198.9907673956788, 647.8031022024281, 98.99321014278277, 159.3363029803229, 1317.715883960756, 966.3829206422374, 208.62009202463307, 398.1525268397195, 177.0475446408265, 1302.1086951539949, 1011.4182210712167, 831.4509201327625, 330.6905805192454, 382.13446305618334, 172.87657917553565, 599.5315014118323, 6056.679389510183, 840.6343272306123, 652.1313548668146, 2967.906764803976, 2657.087680271173, 1258.2913543103257, 1926.2651220970774, 4389.104676554272, 8446.051746044977, 3285.3357403171176, 5097.590325041452, 3741.5829743149784, 4095.125391033259, 2574.022929225474, 6545.858436295788, 3671.955330328533, 5676.189358678673, 3191.6234152269712, 3033.6990511202257, 4100.8249660759075, 4331.565778948597, 9910.22313029048, 4431.071427966722, 76.70418265817257, 32.6552684593735, 53.66922356895949, 22.9514535093131, 33.532802094244786, 35.64464533912913, 21.940941940162745, 31.881706623865178, 19.497521626432572, 28.659584484578865, 20.96326957244661, 25.30327252756736, 15.24336347712195, 23.49346913637445, 22.03374643101388, 21.72345214690309, 20.48125990465194, 41.85024700862141, 16.921207226018723, 23.237547066512196, 33.53829010107027, 86.18306151839097, 32.31483054995572, 21.562857923465142, 14.233534299648351, 87.34168701693957, 17.94480198954107, 33.71861160543989, 32.84891351917728, 73.4137531842527, 370.77595370401923, 122.88223499788589, 344.826341397378, 348.19979508425934, 127.16412688395766, 1498.7882814747297, 381.6021859857686, 188.31744353935653, 547.784191754766, 412.07693885643744, 608.8380035455449, 164.06163371772595, 63.47053113866694, 438.0380038457261, 426.67900709380666, 244.35103491112466, 240.88379099341955, 293.8008967999376, 1878.879350136374, 181.7274145153749, 163.96533990644548, 179.34163674775104, 354.990764179594, 1722.1470217125595, 158.69847675408917, 2396.716906478281, 582.596889672544, 3548.3138429906367, 206.37773463282514, 739.1630758050471, 2529.882525513435, 411.0374220003475, 281.51814847908383, 1472.4491882028722, 427.0856805521631, 658.6389629224283, 1388.8964013081263, 480.57903026437623, 1322.02459338082, 9910.22313029048, 8446.051746044977, 1650.2946628068742, 4375.213233234521, 3427.6280542403106, 2862.356697468936, 4170.970827795297, 1592.4725078020047, 1280.5605489762752, 7034.0753446198805, 5676.189358678673, 3002.659862048355, 4095.125391033259, 2313.0818690298206, 2503.0371755472534, 4389.104676554272, 6545.858436295788, 3731.464278530923, 2605.1960864449125, 5606.882313726616, 69.66268116777208, 36.68439420850108, 25.06677612439861, 24.058630039644335, 130.29794764451435, 51.80376192645615, 20.248356261088333, 55.612256394661244, 28.444123355590385, 177.08771573049899, 22.036511369964682, 168.46443176631536, 64.26611614651317, 13.57201019710999, 155.19158012783424, 22.463925258331113, 30.70495668329951, 39.35140111867755, 17.29650369718002, 21.373209273952178, 25.177493848665314, 45.581263036820935, 70.78186743230495, 21.8464397007286, 103.41337670560192, 51.07257039661873, 50.97092922992474, 74.78807673194974, 129.9146771629381, 38.93054685292196, 57.60371366177343, 92.04129457131964, 175.63039390251822, 94.18683206243672, 78.68202867375112, 175.65521631066278, 5097.590325041452, 354.63158556436804, 215.48114375466898, 252.92690919711598, 1007.155096909058, 3045.5934371601575, 213.17515004839777, 109.51162569664221, 95.24720378414787, 2175.0429530863084, 1425.5771511703174, 339.3046465248287, 595.4947403992303, 1028.4001990946588, 7034.0753446198805, 440.17520514922484, 583.3023777020297, 477.51087599946726, 5850.900971600797, 3731.464278530923, 635.991195079285, 9910.22313029048, 3427.6280542403106, 5606.882313726616, 6056.679389510183, 2387.563672982064, 2967.906764803976, 5676.189358678673, 1613.2460596042274, 4095.125391033259, 6545.858436295788, 4389.104676554272, 1701.1066138913266, 8446.051746044977, 2862.356697468936, 2529.882525513435, 3671.955330328533, 4431.071427966722, 3548.3138429906367, 3002.659862048355, 4375.213233234521, 2997.1052952625378, 4100.8249660759075, 174.01266227146712, 182.0224292098882, 81.0874529553741, 125.88727276846812, 67.35128662646214, 144.40762818119833, 42.11204979362742, 50.119435665379164, 41.07489181331801, 37.09484031446592, 37.069815373520626, 35.39951897592013, 32.74649995476927, 33.47562237476722, 52.31975025096635, 32.744902459632556, 35.64866591999209, 37.749648016919394, 33.48986594908537, 44.30017046191582, 32.765299095394475, 35.691659567042436, 32.16644975131541, 31.261517507737633, 28.439596697430357, 26.98005611056914, 60.59784044058499, 26.95998832447114, 25.53487410573377, 23.369589349443412, 72.12731157951212, 42.34214071159284, 482.83349740081314, 79.58945735021064, 136.32957790728688, 54.48106470846884, 68.01454874478324, 60.54963138692865, 117.8211705797018, 126.02296257229482, 67.29215031996533, 65.78623331491728, 88.73468219633773, 61.38976468154326, 417.68484214476615, 140.14085906618595, 405.7541024709717, 262.33646525719536, 263.19364771846784, 403.93932122916885, 150.8390132341099, 198.6485000015389, 253.7463739862176, 2782.1762584659473, 211.36281615879653, 270.66852492914217, 1376.3897408097525, 681.676120603202, 763.2469642783918, 1803.5600031890292, 211.83496827669657, 350.87005201851144, 1081.3688598428282, 1027.9961277913624, 1174.5610699966028, 6545.858436295788, 624.7708305886698, 1237.5953914722456, 1291.0331708052618, 1805.0057009012303, 666.3418478004, 707.4572106722446, 3021.1217784466544, 4375.213233234521, 596.4956386110524, 1847.8781311705604, 4331.565778948597, 4431.071427966722, 7034.0753446198805, 3731.464278530923, 9910.22313029048, 3002.659862048355, 4389.104676554272, 8446.051746044977, 3191.6234152269712, 4095.125391033259, 5606.882313726616, 2366.1743144141615, 135.9728741989571, 39.43654559203695, 224.2151102946573, 32.78395271494794, 174.82897548613258, 302.28329419882425, 50.5619482030185, 106.70524244903861, 36.221487421551565, 140.58352904643982, 15.500020982850202, 88.55986147121227, 20.148553802950374, 67.01037455842139, 99.05933065042272, 27.855389660970037, 29.158765777085023, 132.05326957826682, 46.32996942092077, 33.47706270966591, 26.58564628189584, 27.37543443946431, 23.89684662378894, 39.79877793617773, 16.513316117988662, 92.28713043186497, 22.320794563049137, 45.56330141933181, 145.02469635874175, 187.88248240676552, 102.50617512730231, 174.8146836207163, 434.02879167530676, 390.77493940774286, 222.4646567794189, 173.2707447201419, 5850.900971600797, 150.10604046725703, 110.27665970746042, 358.1666947339778, 263.0961928944728, 277.02182155337374, 253.12570223594665, 274.81154623150303, 5606.882313726616, 524.7479591475942, 908.5536384274195, 224.23244379818925, 285.34364006449323, 1950.8537668386948, 2387.563672982064, 9910.22313029048, 3508.8593051692696, 3259.1286441242414, 1432.528823732674, 2366.1743144141615, 5097.590325041452, 4100.8249660759075, 1234.1328691244926, 1833.4659576764238, 3741.5829743149784, 4170.970827795297, 568.4860589225822, 3482.544868480991, 7034.0753446198805, 1214.7408046916519, 2958.0722868666685, 5676.189358678673, 3427.6280542403106, 3107.51505892771, 3671.955330328533, 8446.051746044977, 2368.6922298856875, 4431.071427966722, 3731.464278530923, 2175.0429530863084, 3033.6990511202257, 6545.858436295788, 76.61755247466793, 58.14657460355276, 130.7542163817266, 92.96149053489526, 51.11193004817966, 60.8389861758837, 78.56141161141231, 43.91393471107293, 54.811157530946765, 44.153673564086354, 34.804069125784316, 42.84305133353707, 46.878449699870636, 43.939901968790195, 43.285434722289395, 31.265025489495414, 99.57602245713929, 38.26996895025076, 33.72235807146161, 30.678861465712846, 27.304944932583876, 39.92642027054523, 46.97139722926685, 40.95263952480899, 39.23767443603829, 43.377754302030226, 23.9230783389491, 24.28440279804217, 22.401410458462436, 66.20145560247263, 159.466558067571, 97.03610629678562, 87.56216284313702, 139.35113078429742, 73.51061054454466, 127.99373685350123, 125.38482611102559, 89.85231499931608, 609.768626832936, 90.25683399750628, 125.70024721994568, 133.18092553561232, 75.17518179389074, 243.46000138459422, 87.13006481722137, 152.25656487557865, 108.90118891939055, 101.65799796221468, 213.67029142663313, 176.81738536528295, 552.0818957666677, 534.8342586325309, 241.17541257972758, 309.4336466445354, 319.5890168415929, 467.44948867281494, 308.7352939551243, 151.61450526291597, 479.3734704907707, 1081.3688598428282, 772.1235885648473, 275.9123942992737, 596.4956386110524, 681.676120603202, 559.2865289930668, 1107.5073621761485, 1027.9961277913624, 415.39913191841464, 2782.1762584659473, 545.8498347345119, 1237.5953914722456, 610.2898159689283, 6545.858436295788, 5676.189358678673, 433.38529632588114, 3191.6234152269712, 2396.716906478281, 8446.051746044977, 4375.213233234521, 3002.659862048355, 3548.3138429906367, 9910.22313029048, 4389.104676554272, 3731.464278530923, 1388.968639093543, 1055.3995249277807, 6056.679389510183, 1174.5610699966028, 1044.7528047573887, 2568.8004023943495, 296.4046253970216, 129.54363588160632, 39.083349888448566, 85.14493833120709, 23.883236930872897, 33.88154133110782, 19.722375309738524, 41.180984724656035, 197.10982947678073, 118.93772653273905, 61.033991979144076, 43.23761877156659, 29.587504420110943, 131.68500266311568, 91.36004448286246, 239.01918157506034, 336.2823754106966, 141.50104746376908, 21.896438685165606, 47.19934240835335, 156.37095219792306, 122.24170365187979, 23.304202415267053, 24.757007140026573, 35.52138325761084, 255.32069375774054, 29.433484346328896, 75.75221336356864, 103.91050300697408, 35.27469690772722, 702.203575652692, 312.78688238462206, 269.414204041822, 94.33663313185887, 118.10377417004065, 278.1589066200419, 486.529760391747, 518.8503986981992, 860.6994299410185, 2958.0722868666685, 1278.290279020238, 156.96605620324624, 760.9005211006468, 294.26325960150643, 1030.424093971813, 517.1305098728377, 652.1607077732206, 475.5448231427693, 213.23977162194214, 978.2041716776986, 4170.970827795297, 1630.7738569776823, 328.0204633532293, 2070.5462145636875, 1671.5466154696608, 962.0756763359211, 8446.051746044977, 980.4697926336556, 2644.1487939698613, 5606.882313726616, 4100.8249660759075, 3731.464278530923, 5676.189358678673, 2862.356697468936, 3285.3357403171176, 4389.104676554272, 4375.213233234521, 9910.22313029048, 2997.1052952625378, 49.03344852974273, 33.30750820073665, 40.24159938606099, 49.08826523564068, 46.05662016093879, 44.204423988302025, 134.2710593045255, 195.36613573039276, 36.03916179108246, 39.48784729607361, 43.70084202697066, 17.789239515144626, 101.69287824258346, 14.059176460199568, 32.06703935691587, 248.02604301176538, 119.16767028437914, 31.22138192073618, 606.1650871188081, 32.186852806127256, 19.155915139980387, 452.616662437701, 45.68454168313373, 131.68126655812932, 148.8618593545687, 21.810330830341893, 66.4045014468885, 33.26896005454356, 61.5841143367454, 71.53844774311962, 142.3165520410972, 178.0147111956382, 383.9398250463401, 79.47160097031279, 1141.4780363617774, 440.32707776412656, 122.05356329752725, 87.07032414948415, 211.57697316742764, 506.36734100084004, 720.752723234844, 583.3023777020297, 243.46252008001474, 248.4175754619178, 459.26550508388476, 2175.0429530863084, 652.1313548668146, 645.9893311779604, 9910.22313029048, 409.2105966723516, 1425.5771511703174, 5850.900971600797, 3045.5934371601575, 8446.051746044977, 4100.8249660759075, 6545.858436295788, 5676.189358678673, 4389.104676554272, 6056.679389510183, 991.7958578663472, 3731.464278530923, 2967.906764803976, 5097.590325041452, 2568.8004023943495, 2997.1052952625378, 4095.125391033259, 3285.3357403171176, 4375.213233234521, 4431.071427966722], \"Category\": [\"Default\", \"Default\", \"Default\", \"Default\", \"Default\", \"Default\", \"Default\", \"Default\", \"Default\", \"Default\", \"Default\", \"Default\", \"Default\", \"Default\", \"Default\", \"Default\", \"Default\", \"Default\", \"Default\", \"Default\", \"Default\", \"Default\", \"Default\", \"Default\", \"Default\", \"Default\", \"Default\", \"Default\", \"Default\", \"Default\", \"Topic1\", \"Topic1\", \"Topic1\", \"Topic1\", \"Topic1\", \"Topic1\", \"Topic1\", \"Topic1\", \"Topic1\", \"Topic1\", \"Topic1\", \"Topic1\", \"Topic1\", \"Topic1\", \"Topic1\", \"Topic1\", \"Topic1\", \"Topic1\", \"Topic1\", \"Topic1\", \"Topic1\", \"Topic1\", \"Topic1\", \"Topic1\", \"Topic1\", \"Topic1\", \"Topic1\", \"Topic1\", \"Topic1\", \"Topic1\", \"Topic1\", \"Topic1\", \"Topic1\", \"Topic1\", \"Topic1\", \"Topic1\", \"Topic1\", \"Topic1\", \"Topic1\", \"Topic1\", \"Topic1\", \"Topic1\", \"Topic1\", \"Topic1\", \"Topic1\", \"Topic1\", \"Topic1\", \"Topic1\", \"Topic1\", \"Topic1\", \"Topic1\", \"Topic1\", \"Topic1\", \"Topic1\", \"Topic1\", \"Topic1\", \"Topic1\", \"Topic1\", \"Topic1\", \"Topic1\", \"Topic1\", \"Topic1\", \"Topic1\", \"Topic1\", \"Topic1\", \"Topic1\", \"Topic1\", \"Topic1\", \"Topic1\", \"Topic1\", \"Topic1\", \"Topic1\", \"Topic1\", \"Topic1\", \"Topic1\", \"Topic1\", \"Topic1\", \"Topic1\", \"Topic1\", \"Topic1\", \"Topic1\", \"Topic1\", \"Topic1\", \"Topic1\", \"Topic1\", \"Topic1\", \"Topic1\", \"Topic1\", \"Topic2\", \"Topic2\", \"Topic2\", \"Topic2\", \"Topic2\", \"Topic2\", \"Topic2\", \"Topic2\", \"Topic2\", \"Topic2\", \"Topic2\", \"Topic2\", \"Topic2\", \"Topic2\", \"Topic2\", \"Topic2\", \"Topic2\", \"Topic2\", \"Topic2\", \"Topic2\", \"Topic2\", \"Topic2\", \"Topic2\", \"Topic2\", \"Topic2\", \"Topic2\", \"Topic2\", \"Topic2\", \"Topic2\", \"Topic2\", \"Topic2\", \"Topic2\", \"Topic2\", \"Topic2\", \"Topic2\", \"Topic2\", \"Topic2\", \"Topic2\", \"Topic2\", \"Topic2\", \"Topic2\", \"Topic2\", \"Topic2\", \"Topic2\", \"Topic2\", \"Topic2\", \"Topic2\", \"Topic2\", \"Topic2\", \"Topic2\", \"Topic2\", \"Topic2\", \"Topic2\", \"Topic2\", \"Topic2\", \"Topic2\", \"Topic2\", \"Topic2\", \"Topic2\", \"Topic2\", \"Topic2\", \"Topic2\", \"Topic2\", \"Topic2\", \"Topic2\", \"Topic2\", \"Topic2\", \"Topic2\", \"Topic2\", \"Topic2\", \"Topic2\", \"Topic2\", \"Topic2\", \"Topic2\", \"Topic2\", \"Topic2\", \"Topic2\", \"Topic2\", \"Topic2\", \"Topic2\", \"Topic2\", \"Topic2\", \"Topic2\", \"Topic2\", \"Topic2\", \"Topic2\", \"Topic2\", \"Topic2\", \"Topic2\", \"Topic2\", \"Topic2\", \"Topic2\", \"Topic2\", \"Topic3\", \"Topic3\", \"Topic3\", \"Topic3\", \"Topic3\", \"Topic3\", \"Topic3\", \"Topic3\", \"Topic3\", \"Topic3\", \"Topic3\", \"Topic3\", \"Topic3\", \"Topic3\", \"Topic3\", \"Topic3\", \"Topic3\", \"Topic3\", \"Topic3\", \"Topic3\", \"Topic3\", \"Topic3\", \"Topic3\", \"Topic3\", \"Topic3\", \"Topic3\", \"Topic3\", \"Topic3\", \"Topic3\", \"Topic3\", \"Topic3\", \"Topic3\", \"Topic3\", \"Topic3\", \"Topic3\", \"Topic3\", \"Topic3\", \"Topic3\", \"Topic3\", \"Topic3\", \"Topic3\", \"Topic3\", \"Topic3\", \"Topic3\", \"Topic3\", \"Topic3\", \"Topic3\", \"Topic3\", \"Topic3\", \"Topic3\", \"Topic3\", \"Topic3\", \"Topic3\", \"Topic3\", \"Topic3\", \"Topic3\", \"Topic3\", \"Topic3\", \"Topic3\", \"Topic3\", \"Topic3\", \"Topic3\", \"Topic3\", \"Topic3\", \"Topic3\", \"Topic3\", \"Topic3\", \"Topic3\", \"Topic3\", \"Topic3\", \"Topic3\", \"Topic3\", \"Topic3\", \"Topic3\", \"Topic3\", \"Topic3\", \"Topic3\", \"Topic4\", \"Topic4\", \"Topic4\", \"Topic4\", \"Topic4\", \"Topic4\", \"Topic4\", \"Topic4\", \"Topic4\", \"Topic4\", \"Topic4\", \"Topic4\", \"Topic4\", \"Topic4\", \"Topic4\", \"Topic4\", \"Topic4\", \"Topic4\", \"Topic4\", \"Topic4\", \"Topic4\", \"Topic4\", \"Topic4\", \"Topic4\", \"Topic4\", \"Topic4\", \"Topic4\", \"Topic4\", \"Topic4\", \"Topic4\", \"Topic4\", \"Topic4\", \"Topic4\", \"Topic4\", \"Topic4\", \"Topic4\", \"Topic4\", \"Topic4\", \"Topic4\", \"Topic4\", \"Topic4\", \"Topic4\", \"Topic4\", \"Topic4\", \"Topic4\", \"Topic4\", \"Topic4\", \"Topic4\", \"Topic4\", \"Topic4\", \"Topic4\", \"Topic4\", \"Topic4\", \"Topic4\", \"Topic4\", \"Topic4\", \"Topic4\", \"Topic4\", \"Topic4\", \"Topic4\", \"Topic4\", \"Topic4\", \"Topic4\", \"Topic4\", \"Topic4\", \"Topic4\", \"Topic4\", \"Topic4\", \"Topic4\", \"Topic4\", \"Topic4\", \"Topic4\", \"Topic4\", \"Topic4\", \"Topic4\", \"Topic4\", \"Topic4\", \"Topic4\", \"Topic4\", \"Topic4\", \"Topic4\", \"Topic4\", \"Topic4\", \"Topic4\", \"Topic4\", \"Topic4\", \"Topic4\", \"Topic4\", \"Topic4\", \"Topic5\", \"Topic5\", \"Topic5\", \"Topic5\", \"Topic5\", \"Topic5\", \"Topic5\", \"Topic5\", \"Topic5\", \"Topic5\", \"Topic5\", \"Topic5\", \"Topic5\", \"Topic5\", \"Topic5\", \"Topic5\", \"Topic5\", \"Topic5\", \"Topic5\", \"Topic5\", \"Topic5\", \"Topic5\", \"Topic5\", \"Topic5\", \"Topic5\", \"Topic5\", \"Topic5\", \"Topic5\", \"Topic5\", \"Topic5\", \"Topic5\", \"Topic5\", \"Topic5\", \"Topic5\", \"Topic5\", \"Topic5\", \"Topic5\", \"Topic5\", \"Topic5\", \"Topic5\", \"Topic5\", \"Topic5\", \"Topic5\", \"Topic5\", \"Topic5\", \"Topic5\", \"Topic5\", \"Topic5\", \"Topic5\", \"Topic5\", \"Topic5\", \"Topic5\", \"Topic5\", \"Topic5\", \"Topic5\", \"Topic5\", \"Topic5\", \"Topic5\", \"Topic5\", \"Topic5\", \"Topic5\", \"Topic5\", \"Topic5\", \"Topic5\", \"Topic5\", \"Topic5\", \"Topic5\", \"Topic5\", \"Topic5\", \"Topic5\", \"Topic5\", \"Topic5\", \"Topic5\", \"Topic5\", \"Topic5\", \"Topic5\", \"Topic5\", \"Topic5\", \"Topic5\", \"Topic6\", \"Topic6\", \"Topic6\", \"Topic6\", \"Topic6\", \"Topic6\", \"Topic6\", \"Topic6\", \"Topic6\", \"Topic6\", \"Topic6\", \"Topic6\", \"Topic6\", \"Topic6\", \"Topic6\", \"Topic6\", \"Topic6\", \"Topic6\", \"Topic6\", \"Topic6\", \"Topic6\", \"Topic6\", \"Topic6\", \"Topic6\", \"Topic6\", \"Topic6\", \"Topic6\", \"Topic6\", \"Topic6\", \"Topic6\", \"Topic6\", \"Topic6\", \"Topic6\", \"Topic6\", \"Topic6\", \"Topic6\", \"Topic6\", \"Topic6\", \"Topic6\", \"Topic6\", \"Topic6\", \"Topic6\", \"Topic6\", \"Topic6\", \"Topic6\", \"Topic6\", \"Topic6\", \"Topic6\", \"Topic6\", \"Topic6\", \"Topic6\", \"Topic6\", \"Topic6\", \"Topic6\", \"Topic6\", \"Topic6\", \"Topic6\", \"Topic6\", \"Topic6\", \"Topic6\", \"Topic6\", \"Topic6\", \"Topic6\", \"Topic6\", \"Topic6\", \"Topic6\", \"Topic6\", \"Topic6\", \"Topic6\", \"Topic6\", \"Topic6\", \"Topic6\", \"Topic6\", \"Topic6\", \"Topic6\", \"Topic6\", \"Topic6\", \"Topic6\", \"Topic6\", \"Topic6\", \"Topic6\", \"Topic6\", \"Topic6\", \"Topic6\", \"Topic6\", \"Topic6\", \"Topic6\", \"Topic6\", \"Topic7\", \"Topic7\", \"Topic7\", \"Topic7\", \"Topic7\", \"Topic7\", \"Topic7\", \"Topic7\", \"Topic7\", \"Topic7\", \"Topic7\", \"Topic7\", \"Topic7\", \"Topic7\", \"Topic7\", \"Topic7\", \"Topic7\", \"Topic7\", \"Topic7\", \"Topic7\", \"Topic7\", \"Topic7\", \"Topic7\", \"Topic7\", \"Topic7\", \"Topic7\", \"Topic7\", \"Topic7\", \"Topic7\", \"Topic7\", \"Topic7\", \"Topic7\", \"Topic7\", \"Topic7\", \"Topic7\", \"Topic7\", \"Topic7\", \"Topic7\", \"Topic7\", \"Topic7\", \"Topic7\", \"Topic7\", \"Topic7\", \"Topic7\", \"Topic7\", \"Topic7\", \"Topic7\", \"Topic7\", \"Topic7\", \"Topic7\", \"Topic7\", \"Topic7\", \"Topic7\", \"Topic7\", \"Topic7\", \"Topic7\", \"Topic7\", \"Topic7\", \"Topic7\", \"Topic7\", \"Topic7\", \"Topic7\", \"Topic7\", \"Topic7\", \"Topic7\", \"Topic7\", \"Topic7\", \"Topic7\", \"Topic7\", \"Topic7\", \"Topic7\", \"Topic7\", \"Topic7\", \"Topic7\", \"Topic7\", \"Topic7\", \"Topic7\", \"Topic7\", \"Topic8\", \"Topic8\", \"Topic8\", \"Topic8\", \"Topic8\", \"Topic8\", \"Topic8\", \"Topic8\", \"Topic8\", \"Topic8\", \"Topic8\", \"Topic8\", \"Topic8\", \"Topic8\", \"Topic8\", \"Topic8\", \"Topic8\", \"Topic8\", \"Topic8\", \"Topic8\", \"Topic8\", \"Topic8\", \"Topic8\", \"Topic8\", \"Topic8\", \"Topic8\", \"Topic8\", \"Topic8\", \"Topic8\", \"Topic8\", \"Topic8\", \"Topic8\", \"Topic8\", \"Topic8\", \"Topic8\", \"Topic8\", \"Topic8\", \"Topic8\", \"Topic8\", \"Topic8\", \"Topic8\", \"Topic8\", \"Topic8\", \"Topic8\", \"Topic8\", \"Topic8\", \"Topic8\", \"Topic8\", \"Topic8\", \"Topic8\", \"Topic8\", \"Topic8\", \"Topic8\", \"Topic8\", \"Topic8\", \"Topic8\", \"Topic8\", \"Topic8\", \"Topic8\", \"Topic8\", \"Topic8\", \"Topic8\", \"Topic8\", \"Topic8\", \"Topic8\", \"Topic8\", \"Topic8\", \"Topic8\", \"Topic8\", \"Topic8\", \"Topic8\", \"Topic8\", \"Topic8\", \"Topic8\", \"Topic8\", \"Topic8\", \"Topic8\", \"Topic8\", \"Topic8\", \"Topic8\", \"Topic8\", \"Topic8\", \"Topic8\", \"Topic8\", \"Topic8\", \"Topic8\", \"Topic8\", \"Topic8\", \"Topic8\", \"Topic8\", \"Topic9\", \"Topic9\", \"Topic9\", \"Topic9\", \"Topic9\", \"Topic9\", \"Topic9\", \"Topic9\", \"Topic9\", \"Topic9\", \"Topic9\", \"Topic9\", \"Topic9\", \"Topic9\", \"Topic9\", \"Topic9\", \"Topic9\", \"Topic9\", \"Topic9\", \"Topic9\", \"Topic9\", \"Topic9\", \"Topic9\", \"Topic9\", \"Topic9\", \"Topic9\", \"Topic9\", \"Topic9\", \"Topic9\", \"Topic9\", \"Topic9\", \"Topic9\", \"Topic9\", \"Topic9\", \"Topic9\", \"Topic9\", \"Topic9\", \"Topic9\", \"Topic9\", \"Topic9\", \"Topic9\", \"Topic9\", \"Topic9\", \"Topic9\", \"Topic9\", \"Topic9\", \"Topic9\", \"Topic9\", \"Topic9\", \"Topic9\", \"Topic9\", \"Topic9\", \"Topic9\", \"Topic9\", \"Topic9\", \"Topic9\", \"Topic9\", \"Topic9\", \"Topic9\", \"Topic9\", \"Topic9\", \"Topic9\", \"Topic9\", \"Topic9\", \"Topic9\", \"Topic9\", \"Topic9\", \"Topic9\", \"Topic9\", \"Topic10\", \"Topic10\", \"Topic10\", \"Topic10\", \"Topic10\", \"Topic10\", \"Topic10\", \"Topic10\", \"Topic10\", \"Topic10\", \"Topic10\", \"Topic10\", \"Topic10\", \"Topic10\", \"Topic10\", \"Topic10\", \"Topic10\", \"Topic10\", \"Topic10\", \"Topic10\", \"Topic10\", \"Topic10\", \"Topic10\", \"Topic10\", \"Topic10\", \"Topic10\", \"Topic10\", \"Topic10\", \"Topic10\", \"Topic10\", \"Topic10\", \"Topic10\", \"Topic10\", \"Topic10\", \"Topic10\", \"Topic10\", \"Topic10\", \"Topic10\", \"Topic10\", \"Topic10\", \"Topic10\", \"Topic10\", \"Topic10\", \"Topic10\", \"Topic10\", \"Topic10\", \"Topic10\", \"Topic10\", \"Topic10\", \"Topic10\", \"Topic10\", \"Topic10\", \"Topic10\", \"Topic10\", \"Topic10\", \"Topic10\", \"Topic10\", \"Topic10\", \"Topic10\", \"Topic10\", \"Topic10\", \"Topic10\", \"Topic10\", \"Topic10\", \"Topic10\", \"Topic10\", \"Topic10\", \"Topic10\", \"Topic10\"], \"logprob\": [30.0, 29.0, 28.0, 27.0, 26.0, 25.0, 24.0, 23.0, 22.0, 21.0, 20.0, 19.0, 18.0, 17.0, 16.0, 15.0, 14.0, 13.0, 12.0, 11.0, 10.0, 9.0, 8.0, 7.0, 6.0, 5.0, 4.0, 3.0, 2.0, 1.0, -7.0985, -6.6613, -7.5477, -8.0648, -7.9077, -8.189, -8.4156, -7.5872, -8.4467, -7.5759, -8.6003, -7.5731, -8.537, -8.3631, -6.8058, -7.0525, -7.858, -6.7816, -7.7701, -8.7411, -8.8032, -8.1283, -8.3702, -8.4743, -8.1158, -8.8175, -8.8491, -8.7526, -8.9217, -7.7807, -6.4527, -7.2556, -7.5159, -8.3717, -5.3212, -6.7838, -7.4262, -6.6991, -6.6594, -6.7735, -6.6169, -7.2628, -6.4987, -7.4362, -5.4598, -5.2331, -6.1084, -6.5767, -6.7574, -4.8745, -7.2927, -6.2513, -6.371, -6.1981, -6.5678, -6.6443, -7.1932, -6.3129, -5.5728, -4.9982, -6.0811, -6.4596, -5.3685, -4.8844, -5.3422, -5.1633, -5.5871, -6.0003, -6.2226, -5.7494, -6.2522, -5.9719, -5.5269, -5.8794, -5.5666, -5.7012, -6.091, -6.04, -5.835, -5.5775, -5.9047, -5.7606, -6.0719, -5.8425, -5.9522, -6.0631, -6.0541, -6.0743, -6.904, -8.0615, -8.1081, -8.4636, -8.9821, -8.2762, -9.1386, -8.2284, -8.8557, -8.4934, -9.4531, -8.9352, -9.5536, -9.4314, -9.2135, -9.3712, -9.7091, -9.1826, -8.2209, -9.5557, -9.4605, -8.2716, -9.1158, -8.4941, -9.015, -9.7218, -8.84, -8.5645, -9.4485, -9.3965, -7.8824, -8.4048, -7.9169, -7.8757, -8.4091, -8.7085, -7.3851, -7.0341, -7.7793, -6.7407, -8.5176, -6.962, -7.3822, -8.525, -6.3608, -7.3952, -7.0214, -5.6122, -6.8789, -7.6698, -6.9489, -6.8976, -5.9578, -7.1229, -6.1869, -7.1137, -7.3954, -5.5862, -6.6553, -7.082, -5.7883, -6.0084, -5.7932, -6.068, -5.1517, -5.584, -6.0712, -4.6885, -5.2577, -5.6821, -5.5317, -5.5533, -5.0767, -5.1312, -6.0345, -6.6215, -5.6988, -5.9989, -5.6212, -5.6332, -5.6945, -6.0185, -6.2423, -5.6601, -5.8567, -6.0475, -5.4539, -5.5972, -5.8404, -5.8293, -5.8025, -5.9055, -5.9753, -6.0837, -5.8554, -7.4306, -7.5644, -7.9946, -8.1567, -7.1509, -7.6237, -7.7358, -8.1746, -8.0561, -8.1455, -7.0553, -8.0979, -8.2434, -8.025, -7.4009, -7.3778, -5.9093, -7.7025, -8.2958, -6.746, -7.6529, -7.5696, -6.483, -8.611, -6.4692, -7.4052, -8.443, -8.8468, -5.9663, -5.4903, -6.9921, -7.1471, -5.3942, -5.6356, -7.2699, -7.6022, -6.8883, -5.7743, -7.5582, -7.1211, -5.186, -5.4788, -6.8812, -6.3061, -7.0306, -5.2908, -5.539, -5.7825, -6.5487, -6.491, -7.0843, -6.1791, -4.6101, -6.0069, -6.2615, -5.4275, -5.4988, -6.0159, -5.8336, -5.4536, -5.1608, -5.5983, -5.4891, -5.6331, -5.607, -5.7841, -5.5488, -5.7426, -5.6538, -5.8169, -5.8434, -5.821, -5.835, -5.7631, -5.8531, -7.7226, -8.5915, -8.0995, -8.9594, -8.5819, -8.521, -9.0089, -8.6355, -9.1287, -8.7451, -9.0617, -8.8791, -9.3868, -8.9591, -9.0272, -9.0435, -9.103, -8.3885, -9.2958, -8.9881, -8.6219, -7.6788, -8.6601, -9.0648, -9.4808, -7.667, -9.2497, -8.6206, -8.6505, -7.8464, -6.2433, -7.344, -6.3557, -6.3513, -7.3327, -4.9641, -6.312, -6.9855, -6.0117, -6.2814, -5.9262, -7.1495, -8.0347, -6.2659, -6.2909, -6.8033, -6.8188, -6.6391, -4.9679, -7.0923, -7.1968, -7.1208, -6.5281, -5.1593, -7.2318, -4.9016, -6.1273, -4.6117, -7.0135, -6.0118, -5.1212, -6.5019, -6.7903, -5.6068, -6.5248, -6.2383, -5.7822, -6.4723, -5.8547, -4.6141, -4.7609, -5.7717, -5.2437, -5.3888, -5.4937, -5.3287, -5.8311, -5.9353, -5.1548, -5.449, -5.6867, -5.6257, -5.8291, -5.868, -5.782, -5.7061, -5.8367, -5.9105, -5.9509, -7.5437, -8.1938, -8.5749, -8.6221, -6.9362, -7.8586, -8.7996, -7.8023, -8.4738, -6.66, -8.7455, -6.717, -7.6815, -9.2388, -6.8163, -8.7493, -8.4391, -8.1919, -9.0139, -8.8042, -8.6556, -8.0654, -7.6264, -8.8053, -7.2511, -7.9612, -7.9716, -7.5922, -7.0401, -8.2476, -7.8612, -7.4209, -6.8107, -7.4177, -7.6066, -6.8973, -3.8942, -6.2801, -6.7225, -6.662, -5.5101, -4.5953, -6.8312, -7.3731, -7.4911, -5.0904, -5.4381, -6.526, -6.1478, -5.7534, -4.3598, -6.4122, -6.2435, -6.4016, -4.9158, -5.1927, -6.2748, -4.7074, -5.4132, -5.1604, -5.1381, -5.6626, -5.6496, -5.3703, -5.9229, -5.5704, -5.4019, -5.5796, -5.9867, -5.4641, -5.8335, -5.9812, -5.9068, -5.8739, -5.9294, -5.9849, -5.9319, -6.006, -6.0039, -6.5204, -6.4769, -7.2895, -6.8502, -7.4773, -6.7197, -7.9542, -7.7811, -7.9817, -8.0849, -8.0856, -8.1334, -8.2118, -8.1907, -7.7442, -8.2134, -8.1285, -8.0714, -8.1911, -7.9117, -8.2151, -8.132, -8.2361, -8.2648, -8.3597, -8.4132, -7.6051, -8.4153, -8.4703, -8.5603, -7.4387, -7.9669, -5.5581, -7.3495, -6.8302, -7.7231, -7.5141, -7.6261, -6.9959, -6.9388, -7.5296, -7.5522, -7.2853, -7.6309, -5.896, -6.8907, -5.9441, -6.4109, -6.4315, -6.0952, -6.9142, -6.6952, -6.4972, -4.6363, -6.6837, -6.4974, -5.2781, -5.8408, -5.7805, -5.172, -6.7052, -6.3762, -5.6265, -5.6953, -5.6466, -4.7086, -6.0928, -5.7395, -5.8227, -5.6751, -6.1587, -6.1822, -5.591, -5.4629, -6.2554, -5.8518, -5.5775, -5.5932, -5.4573, -5.6542, -5.4736, -5.7936, -5.7202, -5.6355, -5.8632, -5.8477, -5.8569, -5.9831, -6.7102, -7.9613, -6.2542, -8.1787, -6.511, -5.9726, -7.7749, -7.0287, -8.112, -6.7705, -8.9951, -7.2691, -8.7574, -7.5572, -7.1679, -8.4557, -8.4212, -6.9134, -7.9616, -8.3091, -8.5489, -8.5221, -8.6776, -8.1708, -9.0571, -7.337, -8.7581, -8.0454, -6.8955, -6.6427, -7.2552, -6.7342, -5.8575, -5.9621, -6.5156, -6.7611, -3.4457, -6.9225, -7.2127, -6.1604, -6.4405, -6.4158, -6.5111, -6.4881, -4.1055, -6.0159, -5.6112, -6.6667, -6.5236, -5.21, -5.0819, -4.2924, -4.9725, -5.062, -5.5605, -5.2958, -4.9053, -5.0671, -5.7336, -5.5892, -5.2492, -5.29, -6.175, -5.4345, -5.2139, -5.9179, -5.6185, -5.4636, -5.649, -5.6871, -5.6666, -5.4959, -5.7851, -5.6846, -5.7381, -5.8409, -5.834, -5.8036, -7.1976, -7.4792, -6.669, -7.0104, -7.6093, -7.4383, -7.1839, -7.7663, -7.5447, -7.7624, -8.0006, -7.7932, -7.7045, -7.7695, -7.7846, -8.1104, -6.9524, -7.9094, -8.0362, -8.1312, -8.2518, -7.8737, -7.7114, -7.8489, -7.8939, -7.7936, -8.3894, -8.375, -8.4564, -7.3729, -6.5022, -6.9953, -7.0985, -6.6415, -7.273, -6.73, -6.7559, -7.0806, -5.2256, -7.0811, -6.7635, -6.7103, -7.2602, -6.1476, -7.1326, -6.6188, -6.9314, -7.0011, -6.3258, -6.5127, -5.5173, -5.5464, -6.2587, -6.0522, -6.0429, -5.773, -6.1199, -6.7322, -5.9138, -5.4268, -5.665, -6.344, -5.8456, -5.7755, -5.9058, -5.5217, -5.6115, -6.1774, -5.1835, -6.0472, -5.6592, -6.0827, -5.1235, -5.2043, -6.2286, -5.5151, -5.6366, -5.2444, -5.4556, -5.6256, -5.5959, -5.4023, -5.645, -5.7013, -5.9019, -5.9693, -5.7739, -5.9582, -5.9878, -5.9874, -5.5899, -6.4437, -7.6517, -6.8841, -8.1575, -7.8206, -8.363, -7.6301, -6.0658, -6.5726, -7.24, -7.5851, -7.9655, -6.4752, -6.8503, -5.8905, -5.5658, -6.4385, -8.3133, -7.5503, -6.3581, -6.6062, -8.2961, -8.2404, -7.8846, -5.9147, -8.0768, -7.1543, -6.8432, -7.9271, -4.9407, -5.7586, -5.942, -6.9532, -6.7424, -5.9427, -5.4438, -5.3925, -5.0419, -4.0193, -4.7869, -6.5475, -5.287, -6.047, -5.0756, -5.6139, -5.4504, -5.7284, -6.3327, -5.3388, -4.6233, -5.1888, -6.112, -5.1769, -5.2881, -5.617, -4.8887, -5.7208, -5.4779, -5.2812, -5.4263, -5.515, -5.446, -5.5964, -5.6044, -5.6661, -5.6842, -5.6686, -5.6965, -7.1883, -7.5793, -7.3979, -7.2412, -7.3067, -7.358, -6.2534, -5.9042, -7.6154, -7.5247, -7.4415, -8.3506, -6.6118, -8.5989, -7.7779, -5.734, -6.4687, -7.8253, -4.8727, -7.8152, -8.3565, -5.2104, -7.5085, -6.4563, -6.3385, -8.2703, -7.1663, -7.8574, -7.2541, -7.1299, -6.4777, -6.2669, -5.6226, -7.0591, -4.7154, -5.5599, -6.6954, -6.9817, -6.2683, -5.6314, -5.4672, -5.7005, -6.3369, -6.3269, -6.0512, -5.1557, -5.8673, -5.8735, -4.3746, -6.1586, -5.5265, -4.8256, -5.2665, -4.8434, -5.1922, -5.0487, -5.1322, -5.2473, -5.1909, -5.8199, -5.4492, -5.531, -5.4155, -5.6001, -5.5864, -5.5618, -5.6557, -5.6192, -5.7574], \"loglift\": [30.0, 29.0, 28.0, 27.0, 26.0, 25.0, 24.0, 23.0, 22.0, 21.0, 20.0, 19.0, 18.0, 17.0, 16.0, 15.0, 14.0, 13.0, 12.0, 11.0, 10.0, 9.0, 8.0, 7.0, 6.0, 5.0, 4.0, 3.0, 2.0, 1.0, 1.6666, 1.6666, 1.6634, 1.6631, 1.6627, 1.6624, 1.6621, 1.6616, 1.6607, 1.6606, 1.66, 1.6596, 1.6589, 1.6584, 1.6583, 1.6583, 1.6572, 1.6571, 1.6566, 1.6561, 1.6561, 1.6549, 1.654, 1.652, 1.6519, 1.6513, 1.651, 1.6509, 1.6504, 1.6494, 1.6445, 1.6448, 1.6424, 1.649, 1.6071, 1.6261, 1.6342, 1.6158, 1.6131, 1.6161, 1.6048, 1.6224, 1.5871, 1.6217, 1.5295, 1.5166, 1.5504, 1.5359, 1.5486, 1.3231, 1.5943, 1.4621, 1.4599, 1.4289, 1.4775, 1.4801, 1.5764, 1.3737, 1.1851, 1.0109, 1.2617, 1.3551, 0.9236, 0.2463, 0.5111, 0.1503, 0.4879, 0.7858, 1.0076, 0.4053, 1.0148, 0.6488, 0.0012, 0.4275, -0.1034, 0.0973, 0.7261, 0.6177, 0.1099, -0.6067, 0.1119, -0.375, 0.5256, -0.3021, -0.1669, 0.4261, -0.2783, 0.2726, 1.8601, 1.8468, 1.8431, 1.8393, 1.8273, 1.8264, 1.8187, 1.8159, 1.8141, 1.8075, 1.8065, 1.8062, 1.8059, 1.8008, 1.797, 1.7957, 1.795, 1.7926, 1.7906, 1.7904, 1.7901, 1.7897, 1.7894, 1.7884, 1.7862, 1.7855, 1.7844, 1.7833, 1.7796, 1.7776, 1.7742, 1.7748, 1.769, 1.7588, 1.7621, 1.7676, 1.7186, 1.663, 1.7055, 1.6367, 1.7475, 1.6268, 1.6576, 1.7446, 1.5477, 1.6399, 1.5884, 1.4047, 1.5495, 1.6358, 1.5212, 1.505, 1.3412, 1.541, 1.3678, 1.5058, 1.5578, 1.0885, 1.3433, 1.4445, 0.9941, 1.0456, 0.9214, 1.0135, 0.624, 0.7862, 0.9654, 0.2824, 0.5408, 0.7392, 0.5941, 0.5772, 0.2369, 0.2544, 0.7647, 1.1793, 0.4802, 0.6949, 0.3425, 0.3117, 0.3221, 0.6397, 0.8527, 0.1762, 0.3844, 0.6093, -0.3232, -0.134, 0.2426, -0.0409, -0.2744, 0.1036, 0.1835, 2.0627, 2.0624, 2.0574, 2.0541, 2.0527, 2.0501, 2.0499, 2.0498, 2.0491, 2.049, 2.0485, 2.0478, 2.0476, 2.0472, 2.0458, 2.0447, 2.0434, 2.0428, 2.0413, 2.0412, 2.0411, 2.0409, 2.0391, 2.0387, 2.0386, 2.0383, 2.0381, 2.0374, 2.0372, 2.0344, 2.0331, 2.0192, 2.0337, 2.0324, 2.0144, 1.9824, 2.0236, 2.0269, 1.9907, 1.9243, 2.019, 1.9801, 1.8025, 1.8198, 1.9504, 1.8792, 1.9651, 1.7096, 1.7141, 1.6665, 1.8223, 1.7354, 1.9353, 1.5969, 0.8532, 1.4311, 1.4304, 0.7491, 0.7884, 1.0188, 0.7752, 0.3317, -0.0301, 0.4767, 0.1466, 0.3118, 0.2476, 0.5349, -0.1632, 0.2211, -0.1256, 0.287, 0.3112, 0.0323, -0.0366, -0.7923, -0.0774, 2.1096, 2.0947, 2.0898, 2.0793, 2.0777, 2.0776, 2.0749, 2.0746, 2.0732, 2.0716, 2.0677, 2.0621, 2.0613, 2.0563, 2.0524, 2.0503, 2.0497, 2.0496, 2.0478, 2.0383, 2.0376, 2.0369, 2.0366, 2.0364, 2.0358, 2.0353, 2.0352, 2.0335, 2.0298, 2.0297, 2.0133, 2.0169, 1.9734, 1.9681, 1.994, 1.8956, 1.9158, 1.9485, 1.8546, 1.8696, 1.8344, 1.9225, 1.9869, 1.824, 1.8252, 1.8702, 1.869, 1.8502, 1.6659, 1.8773, 1.8757, 1.862, 1.772, 1.5616, 1.8734, 1.4888, 1.6774, 1.3863, 1.8289, 1.5549, 1.215, 1.6516, 1.7417, 1.2707, 1.5904, 1.4436, 1.1537, 1.5249, 1.1306, 0.3567, 0.3698, 0.9918, 0.5448, 0.6437, 0.7191, 0.5075, 0.9681, 1.0818, 0.1589, 0.0791, 0.4782, 0.2289, 0.5967, 0.4789, 0.0033, -0.3206, 0.1109, 0.3964, -0.4104, 2.3848, 2.376, 2.3757, 2.3696, 2.3662, 2.3661, 2.3645, 2.3514, 2.3504, 2.3356, 2.334, 2.3284, 2.3276, 2.3254, 2.3112, 2.3109, 2.3086, 2.3077, 2.3077, 2.3058, 2.2906, 2.2872, 2.2862, 2.2828, 2.2823, 2.2778, 2.2693, 2.2653, 2.2652, 2.2627, 2.2574, 2.2291, 2.1931, 2.2092, 2.2002, 2.1064, 1.7414, 2.021, 2.0768, 1.9771, 1.7472, 1.5554, 1.9788, 2.1031, 2.1246, 1.397, 1.4717, 1.8193, 1.6349, 1.483, 0.9539, 1.6728, 1.5599, 1.602, 0.582, 0.7549, 1.4422, 0.2635, 0.6194, 0.38, 0.3252, 0.7316, 0.5269, 0.1578, 0.8632, 0.2842, -0.0163, 0.2057, 0.7464, -0.3334, 0.3792, 0.355, 0.0569, -0.0982, 0.0685, 0.18, -0.1434, 0.1608, -0.1506, 2.4926, 2.4911, 2.4872, 2.4866, 2.485, 2.4798, 2.4776, 2.4767, 2.4751, 2.4738, 2.4737, 2.4721, 2.4716, 2.4707, 2.4706, 2.47, 2.4699, 2.4698, 2.4698, 2.4695, 2.4677, 2.4653, 2.4652, 2.4649, 2.4647, 2.4638, 2.4628, 2.4625, 2.4618, 2.4605, 2.455, 2.4595, 2.4344, 2.4457, 2.4269, 2.4512, 2.4384, 2.4426, 2.4071, 2.3969, 2.4335, 2.4336, 2.4012, 2.424, 2.2414, 2.3389, 2.2223, 2.1917, 2.1677, 2.0757, 2.2417, 2.1855, 2.1386, 1.6049, 2.1348, 2.0739, 1.6668, 1.8069, 1.7541, 1.5027, 2.1111, 1.9355, 1.5597, 1.5415, 1.4569, 0.6769, 1.642, 1.3118, 1.1862, 0.9988, 1.5117, 1.4283, 0.5678, 0.3255, 1.5257, 0.7986, 0.221, 0.1826, -0.1436, 0.2934, -0.5027, 0.3713, 0.0651, -0.5047, 0.2406, 0.0069, -0.3165, 0.4201, 2.5495, 2.5362, 2.5053, 2.5035, 2.4974, 2.4882, 2.474, 2.4734, 2.4705, 2.4558, 2.4362, 2.4194, 2.4116, 2.4101, 2.4085, 2.3894, 2.3782, 2.3756, 2.3748, 2.3522, 2.3429, 2.3404, 2.3208, 2.3175, 2.3109, 2.3103, 2.3086, 2.3077, 2.2998, 2.2937, 2.2871, 2.2742, 2.2416, 2.242, 2.2518, 2.2562, 2.0522, 2.2384, 2.2565, 2.1307, 2.1592, 2.1323, 2.1272, 2.068, 1.4349, 1.8934, 1.7491, 2.0928, 1.9948, 1.3861, 1.3122, 0.6785, 1.0367, 1.021, 1.3444, 1.1074, 0.7304, 0.7861, 1.3205, 1.069, 0.6957, 0.5463, 1.6542, 0.5821, 0.0997, 1.1519, 0.5614, 0.0645, 0.3835, 0.4435, 0.2971, -0.3652, 0.617, 0.0911, 0.2095, 0.6465, 0.3206, -0.4181, 2.6357, 2.63, 2.6298, 2.6295, 2.6288, 2.6256, 2.6243, 2.6237, 2.6236, 2.6221, 2.6219, 2.6215, 2.6201, 2.6198, 2.6197, 2.6192, 2.6189, 2.6181, 2.6178, 2.6174, 2.6133, 2.6115, 2.6112, 2.6109, 2.6087, 2.6087, 2.6079, 2.6073, 2.6067, 2.6066, 2.5982, 2.6018, 2.6013, 2.5937, 2.6017, 2.5902, 2.5849, 2.5934, 2.5335, 2.5884, 2.5747, 2.5702, 2.5921, 2.5296, 2.5722, 2.5278, 2.5504, 2.5495, 2.482, 2.4843, 2.3412, 2.3439, 2.4279, 2.3853, 2.3622, 2.2519, 2.3198, 2.4186, 2.0859, 1.7593, 1.858, 2.2081, 1.9355, 1.8721, 1.9397, 1.6406, 1.6253, 1.9655, 1.0577, 1.8227, 1.392, 1.6756, 0.2621, 0.3239, 1.8719, 0.5888, 0.7537, -0.1137, 0.3329, 0.5393, 0.4021, -0.4314, 0.1403, 0.2463, 1.034, 1.2412, -0.3107, 1.1453, 1.2329, 0.3336, 2.8905, 2.8645, 2.8548, 2.8438, 2.8414, 2.8286, 2.8274, 2.8241, 2.8226, 2.821, 2.8207, 2.8204, 2.8193, 2.8165, 2.8071, 2.8051, 2.7884, 2.7814, 2.7725, 2.7675, 2.7618, 2.76, 2.7274, 2.7227, 2.7174, 2.715, 2.7132, 2.6904, 2.6854, 2.6819, 2.6772, 2.668, 2.6339, 2.6721, 2.6582, 2.6012, 2.541, 2.528, 2.3726, 2.1606, 2.232, 2.5686, 2.2507, 2.4407, 2.1588, 2.31, 2.2415, 2.2793, 2.477, 1.9476, 1.213, 1.5866, 2.2671, 1.3597, 1.4626, 1.6861, 0.2421, 1.5634, 0.8141, 0.2592, 0.4269, 0.4326, 0.0821, 0.6164, 0.4705, 0.1192, 0.1043, -0.6978, 0.4703, 3.0913, 3.0871, 3.0794, 3.0374, 3.0356, 3.0254, 3.0189, 2.9931, 2.9722, 2.9714, 2.9533, 2.943, 2.9385, 2.93, 2.9264, 2.9246, 2.9229, 2.9058, 2.8923, 2.8854, 2.8631, 2.8467, 2.8419, 2.8355, 2.8306, 2.8195, 2.8101, 2.8101, 2.7977, 2.772, 2.7364, 2.7234, 2.599, 2.7377, 2.4167, 2.5248, 2.6723, 2.7237, 2.5493, 2.3135, 2.1247, 2.1029, 2.3403, 2.3302, 1.9913, 1.3316, 1.8246, 1.8279, 0.5962, 1.9993, 1.3833, 0.6723, 0.8842, 0.2873, 0.661, 0.3369, 0.396, 0.538, 0.2724, 1.4527, 0.4984, 0.6456, 0.2201, 0.7208, 0.5804, 0.2928, 0.4193, 0.1693, 0.0184]}, \"token.table\": {\"Topic\": [1, 2, 3, 4, 5, 7, 8, 9, 10, 1, 2, 3, 5, 7, 10, 3, 5, 7, 8, 2, 6, 1, 2, 3, 4, 5, 6, 7, 8, 9, 10, 7, 10, 5, 10, 1, 2, 3, 4, 5, 6, 7, 8, 9, 10, 1, 2, 4, 6, 8, 1, 3, 6, 7, 8, 9, 10, 1, 2, 3, 4, 5, 6, 7, 8, 9, 10, 2, 4, 5, 6, 8, 1, 2, 3, 4, 5, 6, 7, 8, 9, 10, 6, 7, 8, 4, 7, 2, 3, 5, 6, 8, 9, 10, 2, 3, 6, 1, 2, 3, 4, 5, 6, 7, 8, 9, 10, 1, 2, 4, 5, 8, 9, 10, 1, 2, 3, 4, 5, 6, 7, 8, 9, 10, 1, 2, 3, 4, 5, 6, 7, 8, 9, 10, 1, 2, 3, 4, 5, 6, 7, 8, 9, 10, 1, 2, 3, 4, 5, 6, 7, 8, 10, 2, 3, 5, 6, 7, 1, 2, 3, 4, 5, 6, 7, 8, 9, 10, 1, 2, 3, 5, 7, 8, 10, 2, 3, 7, 10, 1, 2, 3, 4, 7, 9, 1, 2, 3, 4, 5, 6, 7, 9, 10, 1, 2, 3, 4, 5, 7, 1, 2, 4, 6, 8, 1, 2, 3, 4, 6, 8, 9, 1, 2, 3, 4, 7, 9, 2, 6, 8, 1, 2, 6, 8, 1, 2, 3, 4, 5, 6, 8, 9, 1, 2, 3, 4, 5, 6, 7, 8, 9, 10, 1, 3, 4, 8, 9, 1, 2, 3, 4, 5, 6, 7, 8, 9, 10, 6, 8, 1, 2, 3, 4, 6, 8, 9, 1, 2, 3, 4, 5, 7, 8, 10, 2, 1, 2, 3, 4, 5, 6, 7, 8, 9, 10, 1, 2, 3, 4, 5, 9, 10, 1, 2, 3, 4, 5, 6, 7, 8, 9, 10, 1, 2, 3, 4, 5, 6, 7, 8, 9, 10, 2, 4, 5, 1, 3, 4, 9, 3, 9, 1, 2, 3, 4, 5, 6, 8, 1, 2, 3, 4, 5, 6, 7, 8, 9, 10, 8, 1, 2, 3, 4, 5, 6, 7, 8, 10, 2, 6, 8, 7, 10, 1, 2, 3, 5, 6, 8, 9, 2, 4, 5, 1, 2, 3, 4, 5, 6, 7, 8, 9, 10, 1, 2, 3, 4, 5, 7, 8, 9, 10, 1, 2, 3, 4, 5, 7, 8, 9, 10, 1, 2, 3, 4, 5, 6, 7, 8, 9, 10, 8, 9, 1, 2, 3, 4, 7, 8, 1, 2, 3, 4, 5, 6, 7, 8, 9, 10, 1, 2, 3, 4, 5, 6, 7, 8, 9, 10, 1, 2, 3, 4, 5, 6, 7, 8, 9, 10, 4, 7, 1, 2, 3, 5, 8, 10, 3, 3, 1, 2, 3, 4, 5, 6, 7, 8, 9, 1, 4, 10, 1, 3, 9, 1, 2, 3, 4, 5, 7, 9, 10, 2, 3, 5, 10, 2, 6, 8, 4, 4, 2, 3, 5, 2, 3, 1, 2, 3, 4, 5, 6, 7, 8, 9, 10, 1, 2, 3, 4, 5, 6, 9, 10, 3, 1, 2, 4, 5, 6, 7, 8, 10, 2, 4, 6, 8, 1, 2, 3, 4, 5, 6, 7, 8, 9, 10, 2, 4, 5, 6, 9, 10, 1, 2, 3, 4, 5, 6, 7, 8, 10, 1, 2, 3, 4, 5, 6, 7, 8, 9, 10, 1, 2, 3, 4, 5, 6, 7, 8, 9, 10, 2, 8, 1, 2, 3, 4, 5, 6, 7, 8, 9, 10, 1, 2, 4, 7, 8, 9, 10, 1, 2, 3, 4, 5, 6, 7, 8, 9, 10, 1, 2, 3, 4, 5, 6, 7, 8, 9, 10, 1, 2, 3, 4, 8, 10, 2, 1, 2, 3, 4, 5, 6, 7, 8, 9, 10, 2, 3, 4, 5, 10, 1, 2, 3, 4, 7, 8, 9, 10, 3, 1, 2, 3, 4, 5, 6, 7, 8, 9, 10, 1, 2, 3, 4, 5, 6, 7, 8, 9, 10, 1, 2, 3, 4, 5, 6, 7, 8, 9, 10, 6, 3, 4, 2, 2, 3, 6, 2, 4, 5, 6, 1, 2, 5, 10, 2, 6, 1, 2, 5, 8, 9, 10, 1, 2, 3, 4, 5, 6, 7, 8, 9, 10, 2, 6, 8, 1, 2, 4, 6, 8, 10, 4, 8, 1, 2, 3, 4, 5, 6, 7, 8, 9, 10, 1, 2, 4, 5, 7, 9, 10, 8, 5, 5, 6, 1, 2, 3, 4, 5, 6, 7, 8, 9, 10, 5, 7, 1, 2, 3, 4, 5, 6, 8, 9, 1, 2, 3, 4, 5, 7, 8, 9, 10, 1, 2, 3, 4, 5, 6, 7, 8, 9, 10, 4, 10, 1, 2, 3, 4, 5, 7, 9, 1, 3, 4, 8, 9, 1, 2, 3, 4, 5, 6, 7, 8, 9, 10, 1, 2, 3, 4, 5, 6, 7, 8, 9, 10, 2, 4, 6, 1, 2, 3, 4, 5, 6, 7, 8, 9, 10, 1, 2, 3, 4, 5, 6, 7, 8, 9, 10, 1, 2, 3, 4, 5, 6, 7, 8, 9, 10, 1, 2, 3, 4, 5, 6, 7, 8, 9, 10, 1, 2, 3, 4, 5, 6, 7, 8, 9, 10, 3, 7, 1, 2, 3, 4, 5, 6, 7, 8, 9, 10, 1, 2, 3, 4, 5, 6, 7, 8, 9, 10, 1, 2, 3, 4, 5, 7, 8, 9, 10, 1, 2, 3, 4, 5, 6, 7, 8, 9, 10, 1, 2, 3, 4, 5, 6, 7, 9, 2, 5, 8, 10, 1, 4, 5, 2, 7, 8, 10, 1, 3, 4, 8, 9, 10, 1, 4, 6, 8, 9, 4, 9, 2, 3, 4, 6, 8, 1, 3, 4, 5, 6, 7, 9, 10, 1, 2, 3, 4, 5, 6, 8, 9, 10, 1, 2, 3, 4, 5, 6, 7, 9, 10, 1, 2, 6, 10, 3, 1, 2, 3, 4, 5, 6, 7, 8, 9, 10, 1, 2, 3, 4, 5, 6, 7, 8, 9, 10, 6, 1, 2, 3, 4, 5, 6, 7, 8, 9, 10, 1, 2, 3, 4, 5, 6, 7, 8, 9, 10, 1, 2, 3, 4, 5, 6, 7, 8, 9, 10, 1, 2, 3, 4, 5, 6, 7, 8, 9, 10, 1, 2, 3, 4, 5, 6, 7, 8, 9, 10, 1, 2, 3, 4, 5, 6, 7, 8, 9, 10, 2, 1, 2, 3, 4, 5, 6, 7, 8, 9, 10, 1, 2, 3, 4, 5, 6, 7, 8, 9, 10, 8, 9, 1, 2, 3, 4, 5, 6, 7, 8, 9, 10, 1, 2, 3, 4, 6, 8, 9, 10, 2, 3, 4, 6, 7, 9, 1, 2, 3, 4, 5, 6, 7, 8, 9, 10, 2, 3, 5, 7, 9, 10, 2, 5, 1, 2, 3, 4, 5, 7, 6, 1, 2, 3, 4, 5, 6, 7, 8, 9, 10, 1, 2, 3, 4, 5, 6, 7, 8, 9, 10, 1, 2, 3, 5, 6, 7, 10, 2, 1, 2, 3, 4, 5, 6, 7, 8, 9, 10, 5, 10, 1, 2, 3, 4, 5, 6, 7, 8, 9, 10, 1, 2, 3, 4, 5, 6, 7, 8, 9, 10, 1, 2, 3, 4, 5, 6, 7, 8, 9, 10, 1, 2, 3, 4, 5, 6, 8, 9, 10, 1, 2, 3, 4, 5, 6, 7, 8, 9, 10, 1, 2, 3, 1, 2, 3, 4, 5, 7, 9, 1, 2, 3, 4, 5, 6, 7, 8, 9, 10, 6, 8, 1, 2, 3, 4, 5, 6, 7, 8, 9, 10, 6, 1, 2, 3, 4, 5, 6, 7, 8, 9, 10, 1, 3, 4, 7, 9, 1, 3, 4, 9, 1, 3, 9, 1, 2, 3, 6, 7, 8, 9, 10, 1, 2, 3, 4, 5, 6, 7, 8, 9, 10, 1, 2, 3, 4, 5, 6, 7, 8, 9, 10, 1, 5, 6, 9, 4, 6, 1, 2, 3, 4, 5, 6, 7, 8, 9, 10, 1, 2, 3, 4, 5, 7, 8, 10, 6, 1, 2, 3, 4, 5, 6, 7, 8, 9, 10, 1, 2, 3, 4, 5, 6, 7, 8, 9, 10, 2, 6, 8, 8, 1, 2, 3, 4, 5, 8, 9, 10, 1, 3, 5, 7, 10, 1, 4, 1, 2, 10, 2, 6, 8, 1, 2, 3, 4, 5, 6, 7, 8, 9, 10, 1, 2, 3, 4, 5, 1, 2, 3, 4, 5, 6, 7, 9, 10, 1, 2, 3, 4, 5, 6, 7, 8, 9, 10, 1, 5, 7, 1, 2, 3, 4, 5, 6, 7, 8, 9, 10, 3, 5, 9, 10, 3, 7, 10, 1, 2, 5, 6, 8, 8, 1, 2, 5, 6, 10, 1, 2, 3, 4, 5, 6, 7, 8, 9, 10, 1, 3, 4, 5, 7, 10, 1, 2, 4, 5, 10, 8, 1, 2, 3, 5, 7, 3, 9, 1, 2, 3, 5, 7, 9, 10, 1, 2, 3, 4, 5, 6, 7, 8, 9, 10, 1, 2, 3, 4, 5, 6, 7, 8, 10, 1, 5, 7, 9, 10, 2, 3, 4, 5, 6, 7, 9, 3, 5, 6, 1, 2, 3, 4, 5, 6, 7, 10, 1, 2, 3, 4, 5, 6, 7, 8, 9, 10, 1, 1, 2, 3, 4, 5, 6, 7, 8, 9, 10, 1, 2, 3, 4, 5, 6, 7, 8, 9, 10, 8, 1, 2, 3, 4, 5, 6, 7, 8, 9, 10, 5, 5, 7, 10, 1, 2, 3, 4, 5, 6, 7, 8, 9, 10, 4, 6, 1, 2, 3, 4, 5, 6, 7, 8, 9, 10, 6, 8, 3, 2, 4, 8, 1, 4, 10, 7, 9, 1, 2, 3, 4, 8, 1, 2, 3, 4, 5, 6, 7, 8, 9, 10, 1, 3, 9, 1, 4, 6, 8, 6, 1, 2, 3, 4, 5, 6, 7, 8, 9, 10, 1, 2, 3, 4, 5, 6, 7, 8, 9, 10, 1, 4, 10, 1, 3, 5, 10, 6, 2, 6, 8, 1, 5, 7, 1, 2, 4, 5, 7, 8, 9, 1, 2, 3, 4, 5, 6, 7, 8, 9, 10, 2, 4, 1, 2, 3, 4, 5, 6, 7, 8, 9, 10, 1, 3, 6, 1, 2, 3, 4, 5, 7, 8, 1, 2, 3, 4, 5, 6, 7, 8, 9, 10, 4, 2, 3, 4, 8, 1, 2, 3, 5, 7, 9, 10, 2, 4, 5, 1, 2, 3, 4, 5, 6, 7, 8, 9, 10, 3, 4, 5, 1, 2, 3, 4, 5, 6, 7, 8, 9, 10, 9, 1, 9, 1, 2, 3, 4, 5, 6, 7, 8, 9, 10, 1, 3, 9, 4, 1, 2, 3, 4, 5, 6, 7, 8, 9, 1, 2, 3, 4, 5, 6, 8, 9, 1, 2, 3, 4, 5, 6, 7, 8, 9, 10, 1, 2, 3, 4, 5, 6, 7, 9, 1, 2, 3, 4, 5, 8, 10, 2, 2, 3, 4, 5, 8, 1, 1, 2, 3, 4, 5, 6, 7, 8, 9, 10, 1, 2, 3, 4, 5, 7, 9, 1, 1, 2, 3, 4, 5, 6, 7, 8, 9, 10, 4, 6, 1, 2, 3, 4, 5, 6, 7, 8, 9, 10, 8, 1, 2, 3, 4, 5, 6, 8, 9, 1, 2, 3, 4, 5, 6, 7, 8, 9, 10, 4, 8, 9, 2, 8, 1, 2, 3, 4, 7, 8, 9, 10, 2, 2, 5, 6, 8, 3, 5, 1, 2, 3, 4, 5, 6, 7, 8, 9, 10, 2, 3, 6, 2, 2, 4, 6, 2, 8, 3, 5, 1, 2, 3, 4, 5, 6, 7, 8, 9, 10, 5, 7, 1, 2, 3, 7, 1, 4, 8, 9, 2, 4, 5, 7, 8, 10, 3, 1, 2, 3, 4, 5, 6, 7, 8, 9, 10, 1, 2, 4, 6, 7, 8, 9, 10, 1, 2, 3, 4, 5, 6, 7, 8, 9, 10, 1, 2, 3, 4, 5, 6, 8, 9, 10, 1, 4, 5, 9, 10, 1, 3, 4, 5, 9, 10, 1, 2, 3, 4, 5, 6, 7, 8, 9, 10, 2, 4, 5, 6, 7, 8, 9, 1, 2, 3, 4, 5, 6, 8, 5, 8, 1, 2, 3, 4, 5, 6, 7, 8, 9, 10, 1, 5, 7, 10, 1, 2, 3, 4, 5, 6, 7, 8, 9, 10, 1, 2, 3, 4, 5, 6, 7, 8, 1, 2, 4, 5, 6, 8, 2, 4, 6, 1, 3, 9, 1, 3, 5, 6, 8, 9, 3, 1, 2, 3, 4, 5, 6, 7, 8, 9, 10, 2, 5, 6, 8, 1, 2, 3, 4, 5, 6, 7, 8, 9, 10, 3, 1, 2, 3, 4, 5, 6, 7, 8, 9, 10, 6, 1, 2, 3, 5, 6, 7, 10, 1, 2, 3, 4, 6, 7, 8, 9, 10, 1, 2, 3, 4, 5, 6, 7, 8, 9, 10, 1, 2, 3, 4, 5, 6, 7, 8, 9, 10, 1, 7, 1, 2, 3, 4, 5, 6, 7, 9, 10, 1, 2, 3, 4, 5, 6, 7, 8, 9, 10, 1, 2, 3, 4, 5, 6, 7, 8, 9, 10, 1, 7, 1, 2, 3, 4, 5, 7, 9, 10, 1, 2, 3, 4, 5, 6, 7, 8, 9, 10, 1, 2, 3, 4, 5, 6, 7, 8, 9, 10, 1, 4, 1, 2, 4, 7, 8, 9, 10, 1, 2, 3, 4, 5, 6, 7, 8, 9, 10, 1, 8, 9, 1, 2, 3, 4, 5, 6, 7, 8, 9, 10, 2, 1, 2, 3, 4, 5, 6, 7, 8, 9, 10, 2, 4, 8, 1, 2, 3, 4, 6, 7, 8, 9, 1, 2, 3, 4, 5, 6, 7, 8, 10, 1, 2, 4, 8, 1, 2, 3, 4, 5, 6, 7, 8, 9, 10, 1, 2, 3, 4, 5, 7, 8, 9, 10, 2, 1, 2, 3, 4, 5, 7, 1, 2, 3, 4, 5, 6, 7, 8, 9, 10, 1, 2, 3, 5, 7, 8, 1, 2, 3, 4, 5, 6, 7, 8, 9, 10, 3, 6, 8, 1, 3, 4, 9, 2, 10, 1, 2, 3, 4, 5, 6, 7, 8, 9, 10, 1, 3, 5, 1, 2, 3, 5, 7, 9, 10, 6, 8, 1, 2, 3, 4, 5, 6, 7, 8, 9, 10, 1, 2, 3, 4, 5, 6, 8, 10, 1, 4, 1, 3, 5, 7, 10, 1, 5, 10, 1, 2, 3, 4, 5, 6, 7, 8, 9, 10, 1, 5, 7, 9, 10, 1, 2, 3, 4, 5, 6, 8, 9, 1, 3, 4, 5, 7, 9, 10, 1, 2, 3, 4, 5, 6, 7, 8, 9, 10, 1, 2, 3, 4, 5, 6, 7, 8, 9, 10, 1, 8, 9, 1, 2, 3, 4, 5, 6, 8, 9, 10, 1, 2, 3, 4, 5, 6, 7, 8, 9, 10, 1, 2, 3, 4, 5, 6, 7, 8, 9, 10, 1, 3, 4, 5, 8, 10, 1, 3, 1, 2, 3, 4, 6, 8, 9, 6, 1, 2, 4, 5, 6, 8, 10, 1, 9, 6, 6, 1, 2, 4, 5, 7, 1, 2, 3, 4, 6, 3, 1, 2, 3, 4, 5, 6, 8, 9, 1, 1, 2, 3, 4, 5, 6, 7, 8, 9, 10, 1, 2, 3, 4, 5, 6, 7, 8, 9, 10, 1, 1, 2, 3, 4, 5, 6, 7, 8, 9, 10, 1, 2, 3, 4, 5, 6, 7, 8, 9, 10, 1, 2, 3, 4, 6, 8, 9, 10, 1, 3, 4, 5, 7, 8, 10, 1, 2, 3, 4, 5, 6, 7, 8, 9, 10, 4, 3, 5, 7, 10, 6, 2, 5, 1, 2, 3, 4, 5, 6, 7, 8, 9, 10, 1, 3, 5, 7, 10, 3, 5, 6, 4, 8, 10, 1, 1, 2, 3, 4, 5, 6, 7, 8, 9, 10, 4, 9, 1, 2, 4, 5, 6, 7, 8, 9, 10, 4, 1, 2, 3, 4, 5, 6, 7, 8, 9, 10, 1, 2, 3, 4, 6, 8, 9, 1, 2, 3, 4, 5, 6, 7, 8, 9, 10, 1, 2, 3, 4, 5, 6, 7, 8, 9, 10, 1, 2, 3, 4, 5, 6, 7, 8, 9, 10, 4, 5, 7, 10, 1, 3, 4, 7, 8, 10, 4, 5, 6, 9, 10, 6, 8, 4, 1, 2, 3, 4, 5, 6, 7, 8, 9, 10, 5, 1, 2, 3, 4, 5, 6, 7, 8, 9, 10, 1, 2, 3, 4, 5, 6, 7, 8, 9, 10, 1, 2, 3, 4, 5, 6, 7, 8, 9, 10, 1, 2, 3, 4, 5, 6, 7, 8, 9, 10, 1, 2, 3, 4, 5, 6, 7, 8, 10, 1, 2, 3, 4, 5, 6, 7, 8, 9, 10, 1, 3, 4, 6, 9, 1, 2, 3, 4, 5, 6, 7, 8, 9, 10, 1, 2, 3, 5, 6, 7, 10, 8, 1, 2, 4, 5, 7, 10, 2, 3, 5, 6, 7, 8, 10, 1, 2, 3, 4, 5, 6, 7, 8, 9, 2, 6, 8, 6, 1, 3, 10, 1, 2, 3, 4, 5, 6, 7, 8, 9, 10, 1, 6, 4, 5, 1, 2, 3, 4, 5, 6, 7, 8, 9, 10, 6, 5, 7, 10, 4, 1, 2, 3, 4, 5, 6, 7, 8, 9, 10, 1, 2, 1, 2, 3, 4, 5, 6, 7, 8, 9, 10, 1, 2, 3, 4, 5, 6, 7, 8, 9, 10, 1, 2, 3, 4, 6, 7, 8, 9, 1, 2, 4, 6, 8, 9, 5, 6, 8, 1, 2, 3, 4, 7, 8, 10, 2, 8, 10, 8, 1, 2, 3, 4, 5, 6, 7, 8, 9, 10, 1, 3, 4, 8, 2, 6, 2, 1, 3, 4, 6, 9, 1, 2, 3, 4, 5, 6, 7, 8, 9, 10, 1, 2, 3, 4, 5, 6, 7, 8, 9, 10, 3, 1, 2, 3, 4, 5, 6, 7, 8, 9, 10, 1, 2, 3, 4, 5, 6, 7, 8, 9, 10, 1, 3, 9, 1, 2, 3, 4, 8, 1, 2, 3, 4, 5, 6, 7, 8, 9, 10, 1, 2, 3, 4, 5, 6, 7, 8, 9, 10, 2, 3, 6, 2, 6, 8, 1, 2, 3, 4, 5, 6, 7, 8, 9, 10, 1, 2, 3, 4, 5, 6, 7, 8, 9, 10, 1, 2, 3, 4, 6, 7, 8, 9, 3, 3, 5, 7, 1, 2, 3, 4, 5, 6, 7, 8, 9, 10, 1, 3, 4, 5, 8, 9, 4, 5, 1, 2, 4, 6, 8, 9, 10, 1, 2, 3, 4, 5, 6, 7, 8, 9, 10, 1, 1, 2, 3, 4, 5, 6, 7, 8, 9, 10, 1, 2, 3, 4, 5, 6, 7, 8, 9, 10, 6, 1, 2, 3, 4, 5, 6, 7, 8, 9, 10, 1, 2, 3, 4, 5, 6, 7, 8, 9, 10, 1, 2, 3, 4, 5, 6, 7, 8, 9, 10, 1, 1, 3, 5, 1, 2, 3, 5, 7, 10, 1, 4, 7, 1, 2, 3, 4, 5, 6, 7, 8, 9, 10, 8, 1, 2, 3, 4, 7, 8, 9, 6, 1, 1, 3, 5, 7, 1, 2, 3, 4, 5, 6, 7, 8, 9, 10, 1, 2, 3, 4, 5, 6, 7, 8, 9, 10, 6, 8, 1, 2, 3, 4, 5, 6, 7, 8, 9, 10, 1, 2, 3, 4, 8, 9, 1, 3, 2, 3, 4, 5, 6, 7, 10, 3, 10, 1, 4, 8, 8, 1, 2, 3, 4, 5, 6, 7, 8, 9, 10, 1, 2, 3, 4, 6, 8, 1, 4, 1, 2, 3, 4, 5, 6, 7, 8, 9, 10, 2, 6, 7, 2, 3, 4, 5, 7, 8, 1, 2, 3, 4, 5, 6, 7, 8, 9, 10, 2, 6, 1, 2, 3, 4, 5, 7, 9, 10, 7, 10, 2, 8, 2, 1, 2, 3, 4, 5, 6, 7, 8, 9, 1, 2, 4, 5, 6, 8, 10, 6, 2, 1, 2, 3, 4, 6, 7, 8, 9, 10, 2, 8, 1, 2, 3, 4, 5, 6, 7, 8, 9, 10, 8, 4, 8, 10, 1, 2, 3, 4, 5, 6, 7, 8, 9, 10, 3, 5, 9, 1, 2, 3, 4, 5, 6, 7, 8, 9, 10, 1, 4, 9, 1, 2, 3, 7, 8, 10, 1, 3, 7, 9, 10, 1, 3, 4, 5, 6, 7, 9, 10, 1, 2, 3, 4, 5, 6, 7, 8, 9, 10, 1, 2, 3, 4, 5, 6, 7, 8, 9, 10, 3, 4, 9, 1, 2, 3, 4, 7, 8, 10, 4, 2, 3, 6, 7, 9, 1, 2, 3, 4, 5, 6, 7, 8, 9, 10, 1, 2, 3, 4, 5, 7, 9, 10, 1, 3, 5, 10, 1, 2, 3, 4, 5, 7, 8, 9, 10, 1, 2, 3, 4, 5, 6, 7, 8, 9, 1, 2, 3, 4, 5, 6, 7, 8, 9, 10, 5, 1, 2, 5, 6, 8, 10, 1, 2, 3, 4, 5, 6, 7, 8, 9, 10, 1, 2, 3, 4, 5, 6, 7, 8, 9, 1, 2, 3, 4, 5, 6, 7, 8, 9, 10, 1, 2, 3, 5, 6, 10, 2, 8, 1, 2, 3, 4, 5, 6, 7, 8, 1, 2, 3, 1, 2, 5, 6, 8, 6, 1, 2, 3, 4, 5, 6, 7, 8, 9, 10, 1, 2, 3, 4, 5, 6, 7, 8, 9, 10, 1, 2, 3, 4, 5, 6, 7, 8, 9, 10, 1, 4, 8, 9, 1, 4, 8, 9, 1, 2, 3, 4, 5, 6, 7, 8, 9, 10, 1, 2, 3, 4, 5, 6, 7, 8, 9, 10, 1, 2, 3, 4, 5, 7, 10, 1, 2, 3, 4, 5, 6, 8, 9, 10, 1, 2, 3, 4, 5, 6, 8, 9, 10, 10, 8, 1, 2, 3, 4, 5, 6, 7, 8, 9, 10, 1, 2, 3, 4, 5, 6, 7, 8, 9, 10, 1, 1, 3, 9, 10, 1, 2, 3, 4, 5, 8, 9, 10, 1, 2, 8, 9, 3, 4, 10, 1, 2, 3, 4, 5, 6, 7, 8, 9, 10, 1, 2, 3, 4, 5, 6, 7, 8, 9, 10, 7, 1, 2, 3, 4, 5, 6, 7, 8, 10, 1, 1, 2, 3, 4, 5, 6, 7, 9, 10, 2, 4, 6, 1, 2, 3, 4, 5, 6, 7, 8, 9, 10, 1, 1, 2, 3, 4, 5, 7, 9, 1, 7, 1, 2, 4, 10, 2, 8, 3, 1, 2, 3, 4, 5, 6, 7, 8, 9, 10, 1, 2, 3, 4, 5, 6, 7, 8, 9, 10, 4, 7, 1, 2, 3, 4, 5, 6, 7, 8, 9, 10, 2, 4, 6, 1, 2, 3, 4, 5, 6, 7, 8, 9, 10, 1, 2, 3, 4, 5, 6, 7, 8, 9, 10, 1, 2, 3, 4, 5, 6, 7, 8, 9, 10, 8, 1, 2, 3, 4, 5, 6, 7, 8, 9, 10, 2, 5, 7, 2, 1, 2, 3, 6, 8, 1, 2, 3, 4, 5, 6, 7, 8, 9, 10, 1, 2, 3, 4, 5, 6, 7, 8, 9, 10, 1, 3, 5, 8, 1, 4, 5, 6, 7, 1, 2, 3, 4, 5, 6, 7, 8, 9, 10, 10, 1, 2, 3, 4, 5, 6, 7, 8, 9, 10, 4, 6, 1, 2, 3, 4, 6, 7, 8, 9, 10, 6, 1, 2, 3, 4, 5, 6, 7, 8, 9, 10, 2, 4, 5, 7, 1, 2, 3, 4, 5, 6, 7, 8, 9, 10, 1, 5, 6, 7, 8, 10, 1, 3, 5, 7, 10, 1, 2, 3, 4, 5, 6, 7, 8, 9, 10, 1, 2, 3, 4, 5, 6, 7, 8, 9, 10], \"Freq\": [0.8006500865438665, 0.001566829914958643, 0.12534639319669144, 0.009400979489751857, 0.021935618809421, 0.001566829914958643, 0.003133659829917286, 0.012534639319669144, 0.023502448724379645, 0.06495181497825518, 0.016237953744563795, 0.08118976872281898, 0.06495181497825518, 0.03247590748912759, 0.714469964760807, 0.025412055773672695, 0.8894219520785444, 0.05082411154734539, 0.9668155218024436, 0.005746708239196741, 0.9884338171418394, 0.016991587759787066, 0.03398317551957413, 0.003398317551957413, 0.07136466859110567, 0.040779810623488955, 0.08835625635089274, 0.006796635103914826, 0.08835625635089274, 0.6320870646640788, 0.013593270207829652, 0.24046438442572945, 0.7213931532771883, 0.8759305490109619, 0.09889538456575377, 0.09695687694434543, 0.18835065439188414, 0.34809108280019097, 0.02861022598357734, 0.08344649245210058, 0.061988822964417566, 0.11603036093339698, 0.02066294098813919, 0.02861022598357734, 0.026226040484945895, 0.00659567498680876, 0.0329783749340438, 0.00659567498680876, 0.164891874670219, 0.7914809984170512, 0.005648200329627186, 0.8980638524107225, 0.022592801318508743, 0.005648200329627186, 0.0395374023073903, 0.005648200329627186, 0.022592801318508743, 0.12457247928160929, 0.15016440856000635, 0.2766186473473801, 0.07677578783519122, 0.08392647395709628, 0.07489402832942672, 0.07828119543980282, 0.06322711939368689, 0.03801154201644271, 0.033118967301455034, 0.014860574305400132, 0.014860574305400132, 0.014860574305400132, 0.9362161812402082, 0.014860574305400132, 0.06091156960309685, 0.3309319296992994, 0.07095883881597881, 0.3127212542509508, 0.03202567061606123, 0.030769761964450987, 0.07786633639983515, 0.03202567061606123, 0.033281579267671474, 0.017582721122543422, 0.9764027134569198, 0.0069248419394107785, 0.0069248419394107785, 0.06451604169481041, 0.9032245837273458, 0.09447039319415973, 0.33680748877917815, 0.05339630919669897, 0.004107408399746075, 0.004107408399746075, 0.04518149239720683, 0.45592233237181434, 0.002415862771138203, 0.9905037361666632, 0.004831725542276406, 0.06191966508013215, 0.007919957161412252, 0.08567953656436891, 0.37655796321987345, 0.08711952877553478, 0.008639953266995183, 0.030959832540066075, 0.14327922501100346, 0.11519937689326912, 0.08279955214203719, 0.01740006281331506, 0.0029000104688858435, 0.8555030883213238, 0.08410030359768945, 0.005800020937771687, 0.029000104688858434, 0.0029000104688858435, 0.11541635810999498, 0.012824039789999441, 0.09892830695142427, 0.2290007105357043, 0.010992034105713807, 0.04396813642285523, 0.009160028421428172, 0.43601735285998106, 0.03480810800142706, 0.009160028421428172, 0.0662043013286436, 0.002282906942367021, 0.01826325553893617, 0.7373789423845478, 0.002282906942367021, 0.002282906942367021, 0.006848720827101063, 0.14838895125385637, 0.015980348596569147, 0.002282906942367021, 0.004495096050207801, 0.05394115260249361, 0.013485288150623402, 0.03146567235145461, 0.04495096050207801, 0.013485288150623402, 0.723710464083456, 0.04495096050207801, 0.017980384200831204, 0.04944605655228581, 0.0011551374335356285, 0.002310274867071257, 0.9425921457650729, 0.0011551374335356285, 0.027723298404855087, 0.003465412300606886, 0.0011551374335356285, 0.0011551374335356285, 0.019637336370105687, 0.013750693169634462, 0.9671320862642905, 0.004583564389878154, 0.004583564389878154, 0.004583564389878154, 0.13362669700750365, 0.2923424881470284, 0.09053890491120656, 0.09272056527051274, 0.043087792096297095, 0.05017818826404219, 0.22252935664923057, 0.01581703760496982, 0.02454367904219455, 0.034906565748898916, 0.10868652224445303, 0.011440686552047687, 0.022881373104095375, 0.05720343276023843, 0.7436446258830997, 0.01716102982807153, 0.040042402932166904, 0.05645898623752168, 0.011291797247504336, 0.8581765908103295, 0.04516718899001734, 0.013380008136193331, 0.004460002712064444, 0.017840010848257776, 0.017840010848257776, 0.9366005695335332, 0.004460002712064444, 0.03308155029375386, 0.0033081550293753864, 0.01984893017625232, 0.0033081550293753864, 0.006616310058750773, 0.0033081550293753864, 0.9196670981663574, 0.006616310058750773, 0.0033081550293753864, 0.020189920392839494, 0.03028488058925924, 0.020189920392839494, 0.050474800982098736, 0.020189920392839494, 0.8479766564992587, 0.03977750763118353, 0.09281418447276157, 0.02651833842078902, 0.7690318142028816, 0.06629584605197256, 0.1739682630854773, 0.0036243388142807773, 0.0036243388142807773, 0.06523809865705399, 0.007248677628561555, 0.6415079701276976, 0.09785714798558098, 0.08668597628470366, 0.032507241106763875, 0.010835747035587958, 0.06501448221352775, 0.769338039526745, 0.032507241106763875, 0.049184521633590036, 0.03934761730687203, 0.9049951980580567, 0.009182636203725997, 0.009182636203725997, 0.07346108962980798, 0.8998983479651477, 0.003532520414126792, 0.6535162766134566, 0.01766260207063396, 0.021195122484760753, 0.01766260207063396, 0.1836910615345932, 0.0459227653836483, 0.05298780621190188, 0.10214890483456797, 0.09443955352629868, 0.06938416177442353, 0.0077093513082692805, 0.02312805392480784, 0.0019273378270673201, 0.0019273378270673201, 0.0096366891353366, 0.6880596042630333, 0.0019273378270673201, 0.031354536403057895, 0.006270907280611579, 0.006270907280611579, 0.9469069993723485, 0.006270907280611579, 0.004631036791581384, 0.001543678930527128, 0.8613728432341373, 0.001543678930527128, 0.001543678930527128, 0.001543678930527128, 0.03704829433265107, 0.001543678930527128, 0.07100923080424788, 0.018524147166325534, 0.010757142492510129, 0.9788999668184217, 0.024908276207608788, 0.004151379367934797, 0.03321103494347838, 0.7721565624358724, 0.01660551747173919, 0.14529827787771793, 0.004151379367934797, 0.06890981581392847, 0.03445490790696423, 0.02296993860464282, 0.03445490790696423, 0.1263346623255355, 0.01148496930232141, 0.03445490790696423, 0.6661282195346417, 0.931840427355922, 0.0039305757381378325, 0.04061594929409094, 0.006550959563563054, 0.010481535301700887, 0.24893646341539608, 0.47166908857653994, 0.2057001302958799, 0.007861151476275665, 0.0013101919127126108, 0.0026203838254252217, 0.008391537718356176, 0.008391537718356176, 0.05034922631013705, 0.008391537718356176, 0.09230691490191793, 0.016783075436712352, 0.813979158680549, 0.06910847774458288, 0.7563538953157126, 0.03455423887229144, 0.04223295862168954, 0.011518079624097148, 0.015357439498796196, 0.053751038245786684, 0.011518079624097148, 0.003839359874699049, 0.003839359874699049, 0.023441173363335604, 0.031254897817780805, 0.10157841790778763, 0.11981044163482643, 0.057300645999264814, 0.0026045748181484007, 0.04688234672667121, 0.015627448908890403, 0.013022874090742003, 0.5886339089015385, 0.9010056752726072, 0.03378771282272277, 0.05631285470453795, 0.05300167955974492, 0.13780436685533679, 0.010600335911948984, 0.7950251933961738, 0.04856610431664963, 0.922755982016343, 0.05123225918769623, 0.09064168933207795, 0.007881886028876343, 0.019704715072190855, 0.003940943014438172, 0.6936059705411182, 0.13005111947645964, 0.02879397630911119, 0.021843706165532627, 0.15687752609791614, 0.013900540287157126, 0.5083626162160321, 0.0238294976351265, 0.12709065405400802, 0.03276555924829894, 0.0019857914695938753, 0.08340324172294275, 0.9782451954537518, 0.020537254463009268, 0.02464470535561112, 0.032859607140814824, 0.004107450892601853, 0.004107450892601853, 0.020537254463009268, 0.004107450892601853, 0.8831019419093985, 0.004107450892601853, 0.007943614775412604, 0.9770646173757501, 0.007943614775412604, 0.06111440250738055, 0.9167160376107082, 0.008921074131036886, 0.03865798790115984, 0.029736913770122952, 0.014868456885061476, 0.008921074131036886, 0.00594738275402459, 0.8921074131036886, 0.045379233727666154, 0.045379233727666154, 0.9075846745533231, 0.03365528611802573, 0.020567119294349057, 0.007478952470672384, 0.041134238588698115, 0.07105004847138766, 0.016827643059012864, 0.001869738117668096, 0.7348070802435618, 0.059831619765379075, 0.014957904941344769, 0.1094790829044319, 0.0024328685089873756, 0.08758326632354552, 0.6203814697917808, 0.034060159125823254, 0.017030079562911627, 0.02189581658088638, 0.0997476088684824, 0.004865737017974751, 0.12372114806034452, 0.04366628755070983, 0.010916571887677457, 0.10916571887677458, 0.040027430254817344, 0.6040503111181527, 0.003638857295892486, 0.003638857295892486, 0.058221716734279776, 0.15509348554042934, 0.14287399880088036, 0.16762629245278726, 0.06987039853639544, 0.09086285011459497, 0.10370897719976185, 0.06172407404336279, 0.12689466998762403, 0.033211938317748504, 0.04793798643976907, 0.0491529376126197, 0.9175215021022344, 0.9317853992223095, 0.013702726459151611, 0.002740545291830322, 0.002740545291830322, 0.03836763408562451, 0.005481090583660644, 0.15720746048410358, 0.09432447629046214, 0.17520657552503718, 0.11915869830896547, 0.10890603784261088, 0.08703369551438778, 0.04032713116766135, 0.08110993613382736, 0.061971636596632136, 0.07495833985401461, 0.10785952594505267, 0.07150238236806863, 0.14542857430793618, 0.32054881587040934, 0.11573690705339922, 0.024238095717989364, 0.013936905037843885, 0.07210833476101836, 0.09149881133540985, 0.037569048362883516, 0.11423095422364314, 0.10607160035052578, 0.1336094196722969, 0.1019919234139671, 0.10811143881880511, 0.013258950043815722, 0.03365733472660914, 0.08465329643359269, 0.2621192431738954, 0.04181668859972651, 0.18167156606007026, 0.7872434529269711, 0.02674223067893913, 0.02674223067893913, 0.013371115339469565, 0.8557513817260521, 0.04011334601840869, 0.013371115339469565, 0.9794727640935732, 0.9833718160673145, 0.8153230625372255, 0.11107299692536116, 0.011816276268655442, 0.018906042029848708, 0.007089765761193265, 0.01417953152238653, 0.004726510507462177, 0.011816276268655442, 0.004726510507462177, 0.04882512133801244, 0.9276773054222364, 0.9442964638518457, 0.04378281581014696, 0.03283711185761022, 0.9084934280605493, 0.005617513256536421, 0.03370507953921852, 0.044940106052291366, 0.005617513256536421, 0.15729037118301978, 0.06179264582190063, 0.022470053026145683, 0.6684840775278341, 0.03256803161503569, 0.03256803161503569, 0.8793368536059638, 0.03256803161503569, 0.01112937379529522, 0.04451749518118088, 0.9459967726000937, 0.9540496500740181, 0.9133360503667156, 0.9169471216625346, 0.04366414865059688, 0.02183207432529844, 0.9020519742923431, 0.9791275214500914, 0.047607087679495196, 0.7236277327283269, 0.041894237157955774, 0.01904283507179808, 0.028564252607697117, 0.013329984550258654, 0.06093707222975385, 0.01713855156461827, 0.005712850521539423, 0.03808567014359616, 0.038494664968867824, 0.02887099872665087, 0.019247332484433912, 0.05774199745330174, 0.019247332484433912, 0.009623666242216956, 0.8083879643462243, 0.009623666242216956, 0.9676250960975644, 0.00379948379707734, 0.05319277315908276, 0.02279690278246404, 0.01139845139123202, 0.7143029538505399, 0.01519793518830936, 0.1519793518830936, 0.02279690278246404, 0.014778223663232188, 0.003694555915808047, 0.6502418411822163, 0.32512092059110814, 0.7999594046913898, 0.01409620096372493, 0.017620251204656164, 0.13215188403492123, 0.007048100481862465, 0.0017620251204656162, 0.0017620251204656162, 0.0035240502409312324, 0.02290632656605301, 0.0017620251204656162, 0.011269550701577563, 0.011269550701577563, 0.022539101403155126, 0.901564056126205, 0.022539101403155126, 0.011269550701577563, 0.003129018668672393, 0.025032149349379144, 0.003129018668672393, 0.006258037337344786, 0.009387056006017178, 0.19712817612636074, 0.003129018668672393, 0.7478354618127019, 0.003129018668672393, 0.22757560114061673, 0.07774321778095603, 0.06784862642701617, 0.024029721859568226, 0.025443234910131063, 0.34065664518564365, 0.06360808727532766, 0.13287022675290666, 0.024029721859568226, 0.016962156606754042, 0.4072534354500018, 0.014256969581963534, 0.11653522962648453, 0.03223314862009147, 0.2101353342732886, 0.0024794729707762666, 0.06260669251210073, 0.0260344661931508, 0.035952358076255866, 0.09236036816141593, 0.030916327071332385, 0.9481006968541931, 0.05444061477848198, 0.019796587192175266, 0.023096018390871144, 0.021446302791523205, 0.009898293596087633, 0.0032994311986958777, 0.06598862397391755, 0.006598862397391755, 0.006598862397391755, 0.7885640564883147, 0.014895242581381732, 0.029790485162763464, 0.014895242581381732, 0.014895242581381732, 0.007447621290690866, 0.007447621290690866, 0.893714554882904, 0.02209375135714633, 0.04860625298572193, 0.04197812757857803, 0.04860625298572193, 0.04197812757857803, 0.004418750271429266, 0.019884376221431698, 0.0132562508142878, 0.008837500542858532, 0.75339692127869, 0.051824330788450945, 0.11984376494829281, 0.003239020674278184, 0.04534628943989458, 0.029151186068503657, 0.02267314471994729, 0.003239020674278184, 0.7158235690154786, 0.006478041348556368, 0.003239020674278184, 0.9601598034502117, 0.005134544403477067, 0.005134544403477067, 0.005134544403477067, 0.015403633210431204, 0.005134544403477067, 0.9338912249352656, 0.11618900418809462, 0.24926594503143557, 0.15942212202552516, 0.12530848998192762, 0.09254589287074978, 0.0773467498810281, 0.058432260827152235, 0.057418984627837455, 0.035802425709122176, 0.028371733580813803, 0.030118440112070346, 0.07529610028017586, 0.015059220056035173, 0.12047376044828138, 0.7228425626896883, 0.94317633138347, 0.0094317633138347, 0.0094317633138347, 0.0094317633138347, 0.0094317633138347, 0.006287842209223134, 0.003143921104611567, 0.006287842209223134, 0.9717535143313036, 0.10331380252047094, 0.10052153758748524, 0.12844418691734225, 0.048864636327249765, 0.10540800122021021, 0.0942389414882674, 0.2931878179634986, 0.038393642828553384, 0.031412980496089135, 0.05654336489296044, 0.14947756447133984, 0.1458073564151239, 0.14747563280431297, 0.10643603363026206, 0.10410044668539739, 0.0440424966745912, 0.06839933195675149, 0.06839933195675149, 0.0880849933491824, 0.07807533501404804, 0.14392337534122393, 0.055057935533219894, 0.15841230574470286, 0.07968911721913406, 0.09176322588869983, 0.03815418339582782, 0.1463381970751371, 0.017386716484174704, 0.21395320562470538, 0.055057935533219894, 0.9704853746455147, 0.978909618298588, 0.9231942574484749, 0.9479193771703179, 0.00884561583561323, 0.9730177419174554, 0.00884561583561323, 0.8843708118292045, 0.04019867326496384, 0.02009933663248192, 0.04019867326496384, 0.03915996364522923, 0.019579981822614615, 0.861519200195043, 0.03915996364522923, 0.9691733176007408, 0.01468444420607183, 0.042373471704259154, 0.021186735852129577, 0.021186735852129577, 0.021186735852129577, 0.8686561699373126, 0.021186735852129577, 0.020149314544244488, 0.05606765786224553, 0.12615223019005245, 0.01226480015736621, 0.19010440243917626, 0.0017521143081951729, 0.0324141147016107, 0.014016914465561383, 0.05606765786224553, 0.4905920062946484, 0.9202909890288262, 0.031196304712841568, 0.031196304712841568, 0.013135722598459807, 0.006567861299229903, 0.006567861299229903, 0.07224647429152893, 0.880093414096807, 0.013135722598459807, 0.8916231011813573, 0.055726443823834834, 0.09025331287944455, 0.1192276236562404, 0.07460052429887667, 0.19182991962568288, 0.10590610146001242, 0.1182285094915233, 0.07493356235378237, 0.1208928139307689, 0.04729140379660932, 0.056616469333968904, 0.01951101967775309, 0.01951101967775309, 0.06828856887213582, 0.03902203935550618, 0.751174257593494, 0.058533059033259276, 0.03902203935550618, 0.9738714025139524, 0.9574426276795814, 0.9383477727776193, 0.9636747934640056, 0.1868901616243131, 0.16352889142127397, 0.27306729170663524, 0.06437327789281895, 0.06541155656850958, 0.06748811391989085, 0.0477608190817689, 0.05035651577099547, 0.04256942570331576, 0.03893545033839856, 0.9540841754418082, 0.02725954786976595, 0.023500203303315332, 0.7931318614868925, 0.035250304954973, 0.011750101651657666, 0.029375254129144164, 0.09987586403909016, 0.005875050825828833, 0.005875050825828833, 0.032485441083279595, 0.04640777297611371, 0.032485441083279595, 0.032485441083279595, 0.7053981492369283, 0.023203886488056855, 0.04176699567850234, 0.013922331892834112, 0.06961165946417056, 0.14604681770079406, 0.3613181385892477, 0.1975430944623457, 0.05318467927832384, 0.024481836493196688, 0.08695272961376756, 0.07344550947959007, 0.017728226426107947, 0.02532603775158278, 0.013507220134177484, 0.9484939141311673, 0.03952057975546531, 0.011439751302315672, 0.005719875651157836, 0.005719875651157836, 0.005719875651157836, 0.028599378255789183, 0.9266198554875695, 0.005719875651157836, 0.06773703936405918, 0.07620416928456658, 0.05080277952304439, 0.008467129920507398, 0.787443082607188, 0.0209419313833831, 0.08586191867187072, 0.018847738245044793, 0.05235482845845776, 0.43978055905104513, 0.21360770011050764, 0.08167353239519409, 0.0041883862766766205, 0.05654321473513437, 0.02303612452172141, 0.3445126900208605, 0.13300806386881323, 0.1428201341542175, 0.0474250063794539, 0.11883507345656265, 0.056691961649002365, 0.038703166125761225, 0.0746807571722435, 0.0201692555866643, 0.02289483066594326, 0.9212536911215664, 0.02878917784754895, 0.02878917784754895, 0.2437039313515718, 0.0838980747275903, 0.09907963110686853, 0.1917670279487778, 0.09828060182374862, 0.05633156445995348, 0.038353405589755564, 0.05673107910151343, 0.08949127970942965, 0.042348552005355096, 0.07883870540352907, 0.0016424730292401888, 0.01642473029240189, 0.7440402822458055, 0.12482795022225436, 0.0016424730292401888, 0.0016424730292401888, 0.011497311204681322, 0.008212365146200945, 0.009854838175441133, 0.1275615731880256, 0.19875162481152253, 0.10678507743524539, 0.08631411838471194, 0.08707796014032886, 0.16040676867955314, 0.05026078751959332, 0.09150824232290698, 0.02978982846905987, 0.06126010880047696, 0.13398855806777485, 0.21705057069109054, 0.15686465334763885, 0.11383580746408513, 0.09368305686039542, 0.06181992414915628, 0.10267009429177057, 0.022059091877011713, 0.06290926201962599, 0.034858811855030855, 0.02962183902033597, 0.019420940814657357, 0.14555897055026018, 0.03079886573637581, 0.5053368034197713, 0.007846844773598932, 0.15850626442669843, 0.014516662831158024, 0.033937603645815384, 0.05453557117651258, 0.977664126586226, 0.006933788131817206, 0.30255659651517197, 0.04900564591442926, 0.20241462442916436, 0.025568163085789183, 0.06879053401652804, 0.07974831819615197, 0.08309653002881484, 0.03409088411438558, 0.08796665633086992, 0.06665985375937894, 0.10704179626837007, 0.06013584060020791, 0.6651023970382994, 0.11185266351638672, 0.001202716812004158, 0.002405433624008316, 0.015635318556054056, 0.020446185804070687, 0.009621734496033265, 0.006013584060020791, 0.018168312611211757, 0.004542078152802939, 0.049962859680832326, 0.22483286856374549, 0.05450493783363527, 0.020439351687613225, 0.034065586146022044, 0.04542078152802939, 0.5473204174127542, 0.19281634860034869, 0.09943443986116637, 0.12580618260695398, 0.215729502133574, 0.12277991704596194, 0.05706672200727809, 0.06701016599339472, 0.02723639004892818, 0.06657784234182444, 0.025507095442647024, 0.7746393127940453, 0.002874357375859166, 0.20551655237393038, 0.001437178687929583, 0.002874357375859166, 0.001437178687929583, 0.001437178687929583, 0.008623072127577498, 0.8986508277106945, 0.021396448278826058, 0.03209467241823909, 0.021396448278826058, 0.023894721572228567, 0.9318941413169141, 0.023894721572228567, 0.03106858586092129, 0.06213717172184258, 0.09320575758276387, 0.7767146465230322, 0.024273418785902348, 0.0026970465317669276, 0.8900253554830861, 0.062032070230639336, 0.013485232658834638, 0.005394093063533855, 0.07863852994583448, 0.8728876823987627, 0.007863852994583448, 0.023591558983750344, 0.007863852994583448, 0.9037098425187595, 0.04303380202470284, 0.8966438484800744, 0.018298854050613763, 0.054896562151841286, 0.018298854050613763, 0.018298854050613763, 0.005692970701373342, 0.005692970701373342, 0.05123673631236008, 0.7287002497757877, 0.011385941402746683, 0.02846485350686671, 0.02846485350686671, 0.13663129683296021, 0.006251004654475096, 0.5896781057388174, 0.08334672872633461, 0.23128717221557857, 0.0020836682181583654, 0.0020836682181583654, 0.01875301396342529, 0.0020836682181583654, 0.06251004654475097, 0.1567890924474195, 0.005003907205768708, 0.6204844935153198, 0.0016679690685895692, 0.1034140822525533, 0.0016679690685895692, 0.07339063901794105, 0.0016679690685895692, 0.03335938137179138, 0.015200748691797288, 0.015200748691797288, 0.9272456701996346, 0.030401497383594576, 0.9739753482161524, 0.19776392977186502, 0.006423101992590488, 0.14266047583543084, 0.03887666995515295, 0.0006761159992200513, 0.0003380579996100257, 0.13387096784557018, 0.0016902899980501284, 0.4766617794501362, 0.001014173998830077, 0.005633949391957072, 0.002816974695978536, 0.025352772263806823, 0.6986097246026769, 0.08732621557533461, 0.002816974695978536, 0.008450924087935609, 0.12112991192707705, 0.030986721655763896, 0.019718822871849753, 0.9772036719710392, 0.5123391380307455, 0.021055033069756666, 0.11229350970536889, 0.07218868481059428, 0.06918082294348618, 0.01203144746843238, 0.05815199609742317, 0.02205765369212603, 0.09324371788035095, 0.028073377426342222, 0.11797489347807175, 0.50096585201558, 0.09403795856947747, 0.049583650882088125, 0.0547129940767869, 0.07694014792048157, 0.04787386981718853, 0.022227153843694676, 0.030776059168192628, 0.005129343194698772, 0.0038812127057723054, 0.45798309928113207, 0.013307014991219333, 0.01718822769699164, 0.03326753747804833, 0.3664973712164991, 0.02439619415056878, 0.014415932907154278, 0.06764399287203161, 0.002217835831869889, 0.3141304387762902, 0.2499698099412636, 0.185809181106237, 0.04106280245441702, 0.06364734380434638, 0.023611111411289788, 0.07699275460203191, 0.008212560490883404, 0.024124396441969998, 0.012318840736325106, 0.1294895251035196, 0.1532970162660501, 0.0075487167100706494, 0.5661537532552987, 0.006387375677752088, 0.012774751355504176, 0.06968046193911369, 0.02206547961405267, 0.02264615013021195, 0.010452069290867054, 0.8617229908749011, 0.051376438480346405, 0.014011755949185384, 0.021017633923778076, 0.014011755949185384, 0.004670585316395128, 0.01868234126558051, 0.002335292658197564, 0.007005877974592692, 0.002335292658197564, 0.9237045324109523, 0.05922171488886247, 0.10083697399995502, 0.0032011737777763497, 0.043215845999980726, 0.012804695111105399, 0.42095435177759, 0.0016005868888881749, 0.3505285286665103, 0.0016005868888881749, 0.004801760666664524, 0.20570089730095897, 0.33820008363398224, 0.09732964921993685, 0.06788538559037612, 0.04498429165627333, 0.0965117530080046, 0.059297475365087574, 0.02453688635796727, 0.04130375870257824, 0.02453688635796727, 0.9684569879885253, 0.02548571021022435, 0.2841802240337932, 0.08935326331046335, 0.19712987988081607, 0.0736934130395574, 0.09764377227741355, 0.05849414660014869, 0.08705034415297719, 0.03316203586780083, 0.05342772445367912, 0.025332110732347857, 0.09451886562996577, 0.012602515417328769, 0.006301257708664384, 0.7750546981657193, 0.006301257708664384, 0.056711319377979456, 0.012602515417328769, 0.037807546251986304, 0.8474647497297909, 0.009211573366628163, 0.009211573366628163, 0.018423146733256325, 0.009211573366628163, 0.09211573366628162, 0.20222129070061431, 0.1878673786258317, 0.11187607940639414, 0.09330042848608719, 0.109765209983632, 0.062059561029207316, 0.1414282513250643, 0.02786347638046043, 0.03757347572516634, 0.026174780842250705, 0.013978497319242958, 0.027956994638485916, 0.013978497319242958, 0.20967745978864435, 0.041935491957728874, 0.6989248659621479, 0.9567322093762236, 0.017084503738861136, 0.9519406263161615, 0.012049881345774196, 0.006024940672887098, 0.012049881345774196, 0.012049881345774196, 0.006024940672887098, 0.9637370688921705, 0.030650031168280883, 0.06723232643364839, 0.6980297420905259, 0.04943553414238853, 0.05240166619093183, 0.02274034570549872, 0.016808081608412098, 0.01878550297410764, 0.009887106828477705, 0.03460487389967197, 0.12146259863679225, 0.012146259863679225, 0.05617645186951642, 0.5040697843426879, 0.17004763809150916, 0.0015182824829599031, 0.004554847448879709, 0.010627977380719323, 0.07895068911391497, 0.04099362703991739, 0.025126399649849147, 0.050252799299698295, 0.050252799299698295, 0.025126399649849147, 0.025126399649849147, 0.7789183891453235, 0.050252799299698295, 0.9048992445161286, 0.06717103827513789, 0.0890016257145577, 0.08060524593016546, 0.05709538253386721, 0.4550837843140592, 0.0050378278706353415, 0.04869900274947497, 0.010075655741270683, 0.010075655741270683, 0.17464469951535852, 0.9024973575153079, 0.06224119707002124, 0.1296640700570078, 0.6055445745961293, 0.029408345786125483, 0.07485760745559214, 0.03475531774723921, 0.04143903269863136, 0.010693943922227448, 0.04277577568890979, 0.016040915883341174, 0.014704172893062742, 0.5083124065316837, 0.04638592302950727, 0.17684633154999643, 0.04638592302950727, 0.060881523976228286, 0.008697360568032612, 0.0512177900117476, 0.04638592302950727, 0.02029384132540943, 0.03478944227213045, 0.022805347101341696, 0.03420802065201254, 0.011402673550670848, 0.08742049722180983, 0.06461515012046813, 0.007601782367113898, 0.6613550659389091, 0.019004455917784744, 0.06461515012046813, 0.03420802065201254, 0.01609193058199256, 0.0035759845737761246, 0.0017879922868880623, 0.4630900023040081, 0.0017879922868880623, 0.007151969147552249, 0.48990988660732904, 0.014303938295104499, 0.0035759845737761246, 0.20713158182517377, 0.21060604706869282, 0.1718523962755958, 0.06788570552721825, 0.0673511724128307, 0.05345331143875452, 0.1531437372720317, 0.014966927202851267, 0.031537453748865164, 0.021915857689889354, 0.9735473861070475, 0.01431687332510364, 0.00715843666255182, 0.01539471939334163, 0.03078943878668326, 0.03078943878668326, 0.03078943878668326, 0.8544069263304604, 0.03078943878668326, 0.007697359696670815, 0.001277806352110748, 0.010222450816885983, 0.9468545069140643, 0.001277806352110748, 0.014055869873218227, 0.007666838112664488, 0.001277806352110748, 0.001277806352110748, 0.001277806352110748, 0.014055869873218227, 0.959646312517446, 0.9703032964659709, 0.034503656068398184, 0.04436184351651195, 0.05175548410259727, 0.04682639037854039, 0.009858187448113766, 0.7516867929186747, 0.03696820293042662, 0.0024645468620284414, 0.014787281172170649, 0.007393640586085324, 0.9555129318418171, 0.19166225701707082, 0.04693769559601734, 0.08057637743982977, 0.059454414421621964, 0.01721048838520636, 0.010952128972404046, 0.04067933618321503, 0.03207409199061185, 0.5116208819965891, 0.007040654339402601, 0.04908308556535513, 0.057263599826247645, 0.016361028521785042, 0.008180514260892521, 0.8671345116546072, 0.03397491062333996, 0.06794982124667992, 0.06794982124667992, 0.815397854960159, 0.11880840968705413, 0.06600467204836341, 0.8052569989900336, 0.0047934021612929005, 0.04314061945163611, 0.8819859976778938, 0.0047934021612929005, 0.028760412967757405, 0.019173608645171602, 0.0047934021612929005, 0.0047934021612929005, 0.009106667185289376, 0.0007588889321074481, 0.7626833767679853, 0.002276666796322344, 0.009865556117396824, 0.00379444466053724, 0.08727222719235653, 0.002276666796322344, 0.11459222874822465, 0.006830000388967032, 0.004139145999539898, 0.009313078498964771, 0.7760898749137309, 0.004139145999539898, 0.005173932499424873, 0.002069572999769949, 0.03621752749597411, 0.002069572999769949, 0.15314840198297625, 0.007243505499194822, 0.9822000563430838, 0.004484931764123671, 0.004484931764123671, 0.004484931764123671, 0.005493828449278139, 0.9833952924207869, 0.14059804950737953, 0.28774079152794363, 0.11645039092425014, 0.06725235754927623, 0.08034174257564544, 0.09794470864559023, 0.08372692835832712, 0.0523575401054768, 0.029338276783241312, 0.044684452331398304, 0.009131450598405842, 0.05478870359043504, 0.036525802393623366, 0.018262901196811683, 0.7213845972740615, 0.02739435179521752, 0.018262901196811683, 0.10044595658246425, 0.9413943767276325, 0.8462992394140428, 0.02809044085625707, 0.019125406540430347, 0.018527737586041898, 0.03526246830891845, 0.013148716996545863, 0.014941723859711207, 0.0023906758175537934, 0.019723075494818793, 0.0029883447719422414, 0.15575427513336454, 0.15820709836381122, 0.08830163629608069, 0.08216957821996397, 0.10485819310159582, 0.022688614881631843, 0.07174507949056555, 0.023915026496855184, 0.2685841437339121, 0.023301820689243514, 0.027206956726173227, 0.013603478363086613, 0.952243485416063, 0.97787201241247, 0.028719143839760573, 0.0028719143839760573, 0.0057438287679521145, 0.8500866576569129, 0.05456637329554509, 0.0057438287679521145, 0.022975315071808458, 0.028719143839760573, 0.05137353984663816, 0.02568676992331908, 0.8476634074695296, 0.02568676992331908, 0.02568676992331908, 0.9832037927874514, 0.958544956251811, 0.022622170130859154, 0.04524434026171831, 0.9048868052343662, 0.044108210013377495, 0.9409751469520533, 0.014702736671125833, 0.2848154132660869, 0.10056824565460211, 0.09135588727402788, 0.1765702022943396, 0.08905279767888431, 0.060648026005447074, 0.03915252311744052, 0.07600195663973748, 0.04874872976387202, 0.03301095086372436, 0.9758318682970084, 0.003319156014615675, 0.00663831202923135, 0.00663831202923135, 0.003319156014615675, 0.01783863178871666, 0.013378973841537493, 0.05351589536614997, 0.05351589536614997, 0.1873056337815249, 0.004459657947179165, 0.6198924546579039, 0.026757947683074986, 0.022298289735895822, 0.016867767387517413, 0.0874057037353175, 0.5259676558107702, 0.007667166994326097, 0.06440420275233921, 0.009200600393191316, 0.007667166994326097, 0.004600300196595658, 0.004600300196595658, 0.2714177115991438, 0.019303617397895975, 0.9458772524969028, 0.019303617397895975, 0.1704543305689741, 0.41625441595466867, 0.07781610743366209, 0.0734929903540142, 0.06175881542354134, 0.07411057850824962, 0.0599060509608351, 0.01420452754741451, 0.02532111432365195, 0.026556290632122777, 0.9577292638862029, 0.010641436265402255, 0.010641436265402255, 0.010641436265402255, 0.9509052181632703, 0.030428966981224652, 0.007607241745306163, 0.005655552466937135, 0.005655552466937135, 0.005655552466937135, 0.14138881167342837, 0.8426773175736331, 0.9471099697726263, 0.07135677679324902, 0.007135677679324903, 0.02854271071729961, 0.8420099661603385, 0.02854271071729961, 0.07706600752983657, 0.08879344345828996, 0.08921228045573472, 0.0732964745528337, 0.18386944187825138, 0.09758902040463001, 0.2835526472701052, 0.018428827887569613, 0.037695329770028756, 0.05026043969337168, 0.029009786698488974, 0.01933985779899265, 0.009669928899496324, 0.8702936009546692, 0.009669928899496324, 0.04834964449748162, 0.02288285427962313, 0.02288285427962313, 0.02288285427962313, 0.09153141711849253, 0.8466656083460559, 0.9522084759443465, 0.17081325921668877, 0.005693775307222959, 0.005693775307222959, 0.7914347677039913, 0.017081325921668878, 0.04625601633074244, 0.9251203266148488, 0.010864688558081224, 0.09778219702273101, 0.02172937711616245, 0.825716330414173, 0.010864688558081224, 0.010864688558081224, 0.02172937711616245, 0.19436752149108438, 0.27449585402631616, 0.10555057458456238, 0.07433592295437168, 0.0489136809050411, 0.08077193359977182, 0.11906619693990268, 0.03765066227559085, 0.030892851097920695, 0.03378905588835076, 0.0161019202951411, 0.060382201106779124, 0.044280280811638026, 0.3019110055338956, 0.0161019202951411, 0.044280280811638026, 0.05635672103299385, 0.012076440221355825, 0.4508537682639508, 0.009068102014086922, 0.009068102014086922, 0.7254481611269538, 0.06347671409860846, 0.17229393826765152, 0.01270938252172452, 0.08896567765207164, 0.01270938252172452, 0.8006910988686448, 0.01270938252172452, 0.02541876504344904, 0.03812814756517356, 0.9625461158677557, 0.008830698310713356, 0.01766139662142671, 0.003465555380362429, 0.003465555380362429, 0.9668899511211176, 0.003465555380362429, 0.006931110760724858, 0.003465555380362429, 0.006931110760724858, 0.006931110760724858, 0.20685202556775578, 0.004354779485636963, 0.0021773897428184817, 0.021773897428184818, 0.015241728199729373, 0.032660846142277225, 0.026128676913821782, 0.3396727998796832, 0.028306066656640264, 0.3200762921943168, 0.9767806243557696, 0.36703873166286705, 0.0032771315327041702, 0.004915697299056255, 0.2080978523267148, 0.0016385657663520851, 0.0032771315327041702, 0.011469960364464595, 0.37687012626097954, 0.018024223429872935, 0.0065542630654083405, 0.022959528227475882, 0.03279932603925126, 0.0032799326039251258, 0.01639966301962563, 0.0016399663019625629, 0.01803962932158819, 0.0032799326039251258, 0.8872217693617465, 0.009839797811775377, 0.0065598652078502516, 0.9697728990656215, 0.10120861930286336, 0.20443535663768808, 0.056910928501311, 0.1697237264879523, 0.11523453962499497, 0.04934298588145581, 0.15055160518431918, 0.045710373423925324, 0.02734549933307674, 0.07941294455768041, 0.9140728183099368, 0.12553957629763363, 0.7950839832183463, 0.041846525432544544, 0.050902966332918284, 0.11098515610292019, 0.004172374289583466, 0.5265536353454334, 0.006258561434375199, 0.08553367293646105, 0.016272259729375516, 0.14978823699604643, 0.010848173152917012, 0.03880308089312623, 0.9275208356419021, 0.04637604178209511, 0.11256650140062141, 0.18366113386417177, 0.021723359919418168, 0.01974850901765288, 0.01974850901765288, 0.09676769418649911, 0.01974850901765288, 0.023698210821183455, 0.061220377954723924, 0.4423666019954245, 0.973593073738346, 0.9614147340960616, 0.9754020909525384, 0.03987723359421982, 0.01595089343768793, 0.9331272661047437, 0.056213757712838916, 0.056213757712838916, 0.8432063656925837, 0.9455845751590979, 0.030502728230938643, 0.04053299009091713, 0.721487223618325, 0.004053299009091713, 0.10538577423638455, 0.12970556829093483, 0.17270832635860126, 0.1206877461301069, 0.016646585673118195, 0.5451756807946209, 0.004161646418279549, 0.006242469627419323, 0.11028363008440803, 0.01456576246397842, 0.004161646418279549, 0.0020808232091397744, 0.023281735338355074, 0.9603715827071467, 0.005820433834588769, 0.9762938615294661, 0.9542894718450069, 0.02008515655323413, 0.9640875145552382, 0.9865891341293878, 0.22844091934782143, 0.09119578203213424, 0.055981569168240826, 0.10564263859168027, 0.02889371311909204, 0.035214212863893424, 0.02167028483931903, 0.36297727105859373, 0.03250542725897854, 0.03702006993383668, 0.8753142104973598, 0.04154033541343402, 0.0029671668152452873, 0.01928658429909437, 0.014835834076226437, 0.013352250668603793, 0.007417917038113219, 0.022253751114339654, 0.0014835834076226437, 0.004450750222867931, 0.9772623391947388, 0.007185752494078962, 0.007185752494078962, 0.9621844531310562, 0.01749426278420102, 0.869706929837466, 0.091548097877628, 0.9536512760030186, 0.01835500105130204, 0.954460054667706, 0.01835500105130204, 0.9747767258186015, 0.007274453177750758, 0.007274453177750758, 0.051964594998958315, 0.0037117567856398796, 0.0037117567856398796, 0.0037117567856398796, 0.0037117567856398796, 0.16331729856815472, 0.7646218978418152, 0.08774420731716694, 0.2609633752105396, 0.012859064865446879, 0.3683743876160371, 0.003782077901602023, 0.005294909062242833, 0.17548841463433387, 0.02117963624897133, 0.05975683084531197, 0.003782077901602023, 0.940309568117975, 0.04088302470078152, 0.13903258295115917, 0.308584513379402, 0.1237729092126173, 0.07234215698271695, 0.09381873483696106, 0.12320773611118982, 0.04351832880991567, 0.03843177089706838, 0.03391038608564857, 0.022041750955671572, 0.9679786735569694, 0.008720528590603328, 0.008720528590603328, 0.8728393057234756, 0.005667787699503088, 0.02833893849751544, 0.002833893849751544, 0.008501681549254632, 0.008501681549254632, 0.0708473462437886, 0.133232722447789, 0.002379155757996232, 0.5257934225171673, 0.024981135458960437, 0.1701096366967306, 0.001189577878998116, 0.08683918516686248, 0.002379155757996232, 0.040445647885935944, 0.013085356668979278, 0.9076985642282215, 0.8936328597736327, 0.024823134993712023, 0.024823134993712023, 0.024823134993712023, 0.01998587125915427, 0.006661957086384757, 0.01998587125915427, 0.03330978543192378, 0.7194913653295537, 0.05329565669107805, 0.14656305590046464, 0.039718011888344125, 0.039718011888344125, 0.8737962615435707, 0.14398625143262528, 0.1850306081628449, 0.11220997525439073, 0.13703519101863645, 0.07778567606130331, 0.14398625143262528, 0.05229845454334435, 0.05693249481933689, 0.061897537972186036, 0.028135244532811833, 0.01961902627847141, 0.07847610511388564, 0.863237156252742, 0.010286260144588335, 0.005143130072294167, 0.17143766907647226, 0.008571883453823613, 0.42173666592812176, 0.003428753381529445, 0.0017143766907647224, 0.010286260144588335, 0.008571883453823613, 0.358304728369827, 0.9211481703119349, 0.0672620894413843, 0.924853729819034, 0.02046236473612072, 0.02046236473612072, 0.024554837683344863, 0.769384914078139, 0.0040924729472241435, 0.0040924729472241435, 0.0040924729472241435, 0.11458924252227604, 0.0040924729472241435, 0.036832256525017294, 0.015438813233772887, 0.007719406616886444, 0.9649258271108055, 0.9184324720073719, 0.007833285937636091, 0.0039166429688180454, 0.007833285937636091, 0.0039166429688180454, 0.035249786719362415, 0.03916642968818046, 0.05874964453227069, 0.007833285937636091, 0.8303283093894257, 0.02558019852010039, 0.02558019852010039, 0.012790099260050194, 0.031975248150125486, 0.006395049630025097, 0.012790099260050194, 0.012790099260050194, 0.8697267496834132, 0.007861744059800516, 0.044025766734882885, 0.3459167386312227, 0.028302278615281857, 0.3742190172465045, 0.0015723488119601032, 0.044025766734882885, 0.012578790495680826, 0.023585232179401547, 0.11635381208504764, 0.056627382852859814, 0.8619946056490883, 0.02516772571238214, 0.01258386285619107, 0.006291931428095535, 0.006291931428095535, 0.01258386285619107, 0.018875794284286606, 0.054128217762702824, 0.7307309397964882, 0.12990772263048678, 0.032476930657621694, 0.02165128710508113, 0.005412821776270282, 0.02165128710508113, 0.9409783435191018, 0.9041837314349627, 0.018452729212958423, 0.018452729212958423, 0.018452729212958423, 0.018452729212958423, 0.9634132910457952, 0.30944993031836476, 0.02975011150420843, 0.1299738478011729, 0.06632811745200567, 0.07608225237141827, 0.014875055752104216, 0.1675272672409114, 0.036821859320782566, 0.08412941367993368, 0.08486097379888961, 0.9349759975739252, 0.0028592538152107804, 0.011437015260843121, 0.005718507630421561, 0.017155522891264683, 0.008577761445632342, 0.014296269076053903, 0.9683261337680628, 0.11913384720546957, 0.27925998592249857, 0.11785283809573334, 0.1242578836444145, 0.0541226348863558, 0.08518710579745942, 0.08198458302311884, 0.07109600559036088, 0.039711282401823186, 0.027541695859328984, 0.019113241083973446, 0.9556620541986722, 0.1388715439562182, 0.05834938821689841, 0.1400385317205562, 0.22610387934048135, 0.1645452747716535, 0.023048008345674872, 0.11203082537644495, 0.045804269750265254, 0.06651830256726418, 0.024798489992181823, 0.9786093749262847, 0.0018113254712171195, 0.007245301884868478, 0.0018113254712171195, 0.0018113254712171195, 0.005433976413651359, 0.24634026408552825, 0.7317754903717163, 0.0018113254712171195, 0.11194933007827805, 0.3872061880542504, 0.030584095330663592, 0.22447571855902146, 0.016157635269029823, 0.03693173775778245, 0.06636171628351534, 0.05943701545393113, 0.05482054823420832, 0.011541168049307016, 0.9243166514028911, 0.05963333234857362, 0.02981666617428681, 0.012728895516112823, 0.9673960592245745, 0.0060988499189558905, 0.03659309951373534, 0.012197699837911781, 0.774553939707398, 0.0060988499189558905, 0.048790799351647124, 0.10977929854120602, 0.0060988499189558905, 0.895090809758502, 0.01142045796414882, 0.02284091592829764, 0.01142045796414882, 0.947898011024352, 0.05781515255959142, 0.8672272883938713, 0.135831445986441, 0.11195804032821804, 0.08561497201569615, 0.08890785555476138, 0.06750411255083735, 0.11936702829111483, 0.2420269401212949, 0.07655954228326675, 0.04033782335354915, 0.03210561450588606, 0.011331696182859279, 0.9631941755430388, 0.011331696182859279, 0.9384823031708358, 0.920398790352186, 0.020453306452270798, 0.020453306452270798, 0.0556880368560585, 0.9228303250432551, 0.044515817627604225, 0.8903163525520845, 0.04826764113806094, 0.041372263832623664, 0.02758150922174911, 0.006895377305437277, 0.02758150922174911, 0.013790754610874555, 0.7584915035981005, 0.006895377305437277, 0.006895377305437277, 0.06895377305437277, 0.13718001751444078, 0.8230801050866448, 0.9569283978492797, 0.006645336096175554, 0.013290672192351107, 0.006645336096175554, 0.007812882290830978, 0.015625764581661955, 0.9375458748997173, 0.023438646872492933, 0.006443648548305785, 0.006443648548305785, 0.8956671482145041, 0.01288729709661157, 0.057992836934752066, 0.01288729709661157, 0.9861193763094928, 0.22384140819416556, 0.28320567460089074, 0.07788156051524495, 0.08114931829910138, 0.043025477487443016, 0.09204184424528948, 0.06426590308250982, 0.05936426640672517, 0.028865193757398478, 0.04574860897399004, 0.043609355515081404, 0.17928290600644578, 0.741359043756384, 0.009690967892240313, 0.004845483946120156, 0.009690967892240313, 0.004845483946120156, 0.004845483946120156, 0.10987816085513738, 0.012926842453545575, 0.006463421226772788, 0.022621974293704755, 0.009695131840159181, 0.022621974293704755, 0.038780527360636724, 0.7659154153725753, 0.003231710613386394, 0.006463421226772788, 0.03744086249232696, 0.05616129373849044, 0.01404032343462261, 0.00468010781154087, 0.023400539057704353, 0.01872043124616348, 0.8424194060773567, 0.00468010781154087, 0.00468010781154087, 0.01575534318147196, 0.8665438749809579, 0.09453205908883176, 0.01575534318147196, 0.01575534318147196, 0.8965122094843698, 0.045050864798209536, 0.009010172959641908, 0.03604069183856763, 0.004505086479820954, 0.004505086479820954, 0.09739848382852118, 0.11815553775918963, 0.007451250128957905, 0.6285661715928061, 0.002128928608273687, 0.02395044684307898, 0.02714383975548951, 0.044707500773747424, 0.03406285773237899, 0.01596696456205265, 0.2832393560331769, 0.01888262373554513, 0.004720655933886282, 0.6750537985457383, 0.004720655933886282, 0.014161967801658846, 0.004720655933886282, 0.011970748026970634, 0.026335645659335393, 0.004788299210788253, 0.004788299210788253, 0.0023941496053941267, 0.7661278737261206, 0.18195537000995363, 0.02305329116480326, 0.9451849377569337, 0.02199356535042556, 0.11485528571888902, 0.10752409726874718, 0.017106106383664322, 0.17106106383664324, 0.01954983586704494, 0.0977491793352247, 0.08064307295156038, 0.05131831915099297, 0.32257229180624153, 0.10958730195255688, 0.03652910065085229, 0.8036402143187504, 0.03652910065085229, 0.022199014286327843, 0.03468595982238726, 0.2566761026856657, 0.011099507143163921, 0.1692674839332498, 0.0027748767857909804, 0.1137699482174302, 0.009712068750268431, 0.013874383928954903, 0.3662837357244094, 0.023611746849273207, 0.8087023295876073, 0.005902936712318302, 0.023611746849273207, 0.017708810136954908, 0.02951468356159151, 0.08264111397245623, 0.005902936712318302, 0.016974878030490043, 0.016974878030490043, 0.025462317045735067, 0.016974878030490043, 0.9081559746312173, 0.008487439015245022, 0.9180756691966523, 0.01639420837851165, 0.049182625135534945, 0.02348935872406364, 0.02348935872406364, 0.9395743489625457, 0.050733137086793466, 0.010146627417358693, 0.005073313708679346, 0.005073313708679346, 0.005073313708679346, 0.9233430949796411, 0.9726976306610644, 0.7195326072765004, 0.02600720267264459, 0.07282016748340485, 0.017338135115096395, 0.04161152427623135, 0.0017338135115096394, 0.04507915129925062, 0.017338135115096395, 0.03467627023019279, 0.02253957564962531, 0.9276821673886165, 0.03435859879217098, 0.03435859879217098, 0.03435859879217098, 0.13378180357472055, 0.18389004183120192, 0.05562254198805586, 0.19731617265590504, 0.004315542050797437, 0.04099764948257566, 0.13186378488547726, 0.0563417989965221, 0.18484905117582356, 0.010788855126993593, 0.9805233981483605, 0.013506580788388234, 0.08404094712774901, 0.009004387192258823, 0.3631769500877725, 0.01650804318580784, 0.3691798748826117, 0.0030014623974196075, 0.06603217274323137, 0.06303071034581176, 0.010505118390968626, 0.973830927706315, 0.0019860763066457073, 0.0019860763066457073, 0.9692052376431051, 0.00794430522658283, 0.0019860763066457073, 0.0019860763066457073, 0.01588861045316566, 0.11279784078640392, 0.021340132040671013, 0.08231193787115962, 0.018291541749146583, 0.0030485902915244304, 0.22559568157280785, 0.0030485902915244304, 0.5304547107252509, 0.0030485902915244304, 0.013327935274777717, 0.020342638050976518, 0.17677050996020974, 0.007014702776198799, 0.38580865269093395, 0.011223524441918077, 0.1564278719092332, 0.004910291943339159, 0.04980438971101147, 0.1746660991273501, 0.060415155140198074, 0.10080137297848266, 0.06337024425031645, 0.046624739292978945, 0.4196226536368105, 0.02002893730191349, 0.08832433006909392, 0.03972953136936938, 0.0551616633888765, 0.10605486472980423, 0.07497288620866704, 0.9090462452800879, 0.01051363892085326, 0.0035045463069510873, 0.0035045463069510873, 0.0035045463069510873, 0.07359547244597282, 0.17172276904060327, 0.5607274091121739, 0.0070090926139021745, 0.1647136764267011, 0.02126933820097514, 0.06565752227257544, 0.03329113805370022, 0.039764414897475266, 0.01202179985272508, 0.38747185679167756, 0.013871307522375092, 0.4087411949926527, 0.008322784513425056, 0.008322784513425056, 0.09140410521385732, 0.05153635719504721, 0.09529364160593636, 0.12835470093860815, 0.38992602330592324, 0.00680668868613831, 0.09821079389999562, 0.02333721835247421, 0.028199138842573, 0.08654218472375852, 0.05521584402991723, 0.9110614264936343, 0.8144209007632073, 0.004366868100607009, 0.08515392796183668, 0.013100604301821028, 0.05895271935819463, 0.013100604301821028, 0.008733736201214018, 0.0021834340503035046, 0.015119874270833706, 0.05443154737500134, 0.7771615375208525, 0.018143849125000448, 0.0665274467916683, 0.0030239748541667413, 0.02419179883333393, 0.0060479497083334825, 0.009071924562500224, 0.02721577368750067, 0.22338573346470464, 0.14413236020070508, 0.21483880105388115, 0.06720996850329373, 0.09828972272447004, 0.1045056735687053, 0.06021702380352908, 0.03613021428211745, 0.023698312593646926, 0.027583281871293962, 0.04603319920045768, 0.9206639840091536, 0.0880439533169407, 0.022010988329235176, 0.7758873386055399, 0.016508241246926382, 0.022010988329235176, 0.06603296498770553, 0.011005494164617588, 0.06939408946124234, 0.0042057023915904445, 0.0021028511957952222, 0.016822809566361778, 0.016822809566361778, 0.016822809566361778, 0.0021028511957952222, 0.18084520283838912, 0.5362270549277818, 0.15561098848884647, 0.08078520916070041, 0.040392604580350204, 0.8482446961873542, 0.026870549765689436, 0.047023462089956516, 0.026870549765689436, 0.026870549765689436, 0.08732928673849066, 0.006717637441422359, 0.020152912324267077, 0.006717637441422359, 0.006717637441422359, 0.7389401185564595, 0.969844516826924, 0.05076314352727197, 0.10614111828429594, 0.01845932491900799, 0.2030525741090879, 0.06691505283140396, 0.03922606545289198, 0.009229662459503995, 0.4568682917454478, 0.02307415614875999, 0.025381571763635986, 0.9509905292229507, 0.016118483546151707, 0.03223696709230341, 0.012172777689296912, 0.7912305498042993, 0.003043194422324228, 0.0760798605581057, 0.003043194422324228, 0.003043194422324228, 0.01825916653394537, 0.09129583266972685, 0.009607584784795623, 0.7269739153828688, 0.17613905438791977, 0.05124045218557666, 0.006405056523197082, 0.003202528261598541, 0.003202528261598541, 0.003202528261598541, 0.019215169569591246, 0.06057131502723391, 0.8883792870660974, 0.020190438342411302, 0.020190438342411302, 0.2785378462929521, 0.08537432211819478, 0.17173753599837638, 0.057685352782564044, 0.09559287032539183, 0.0741668821490109, 0.10515215735793103, 0.03625936460618311, 0.047137173988038045, 0.0484556963373538, 0.04084398696771625, 0.0068073311612860425, 0.010210996741929063, 0.7556137589027507, 0.010210996741929063, 0.010210996741929063, 0.0987063018386476, 0.06126598045157438, 0.0068073311612860425, 0.9706405876363798, 0.9118384469398046, 0.0050657691496655815, 0.045591922346990235, 0.0050657691496655815, 0.015197307448996744, 0.010131538299331163, 0.12500819085257014, 0.4044851016121378, 0.10510242797795706, 0.028664298539442835, 0.042200217294179734, 0.15287625887702846, 0.06529090222873091, 0.037422834204272594, 0.030256759569411883, 0.008758535664829755, 0.9334470782927534, 0.006161366853417514, 0.024645467413670057, 0.021564783986961298, 0.009242050280126271, 0.9599293553456436, 0.16741847054942172, 0.1347272899095938, 0.29521126759602173, 0.052999338310024034, 0.12267448088581887, 0.047715915176314475, 0.046229952419958656, 0.05167848252659664, 0.02394051107462145, 0.057457226579091476, 0.9744997099037518, 0.018861284707814552, 0.9669564079188773, 0.11339572981912047, 0.028348932454780117, 0.028348932454780117, 0.7937701087338433, 0.07112792152733284, 0.8535350583279941, 0.04001921233598051, 0.026679474890653674, 0.07622707111615336, 0.026679474890653674, 0.13339737445326838, 0.057170303337115015, 0.5069100229224198, 0.003811353555807668, 0.02477379811274984, 0.1067178995626147, 0.9806915061653271, 0.0070049393297523365, 0.0070049393297523365, 0.00472641226041488, 0.00472641226041488, 0.05671694712497856, 0.17960366589576543, 0.13706595555203152, 0.0472641226041488, 0.5624430589893706, 0.9493805516039392, 0.9803223321566469, 0.03993522214660442, 0.08908626478857909, 0.6950264623591731, 0.015359700825617086, 0.02303955123842563, 0.04761507255941296, 0.032255371733795876, 0.012287760660493668, 0.016127685866897938, 0.029183431568672463, 0.924658272355778, 0.005209342379469172, 0.007814013569203759, 0.002604671189734586, 0.002604671189734586, 0.002604671189734586, 0.018232698328142102, 0.036465396656284205, 0.9785623692367492, 0.9799337598406602, 0.02128990392696644, 0.01596742794522483, 0.06919218776264092, 0.7557915894073086, 0.12773942356179863, 0.014354888201785553, 0.961777509519632, 0.014354888201785553, 0.1484230285798383, 0.06653446108751372, 0.012795088670675716, 0.002559017734135143, 0.023031159607216287, 0.005118035468270286, 0.7190839832919752, 0.002559017734135143, 0.002559017734135143, 0.017913124138946003, 0.01966706060997798, 0.01966706060997798, 0.11800236365986788, 0.00983353030498899, 0.8260165456190752, 0.025139492644541808, 0.8128435955068518, 0.13407729410422298, 0.004189915440756968, 0.004189915440756968, 0.008379830881513936, 0.008379830881513936, 0.004189915440756968, 0.03185158619637288, 0.02123439079758192, 0.04246878159516384, 0.8069068503081129, 0.01061719539879096, 0.01061719539879096, 0.06370317239274575, 0.053210033471726814, 0.10813651963608999, 0.022313885004272536, 0.6350874962754491, 0.015448074233727141, 0.025746790389545235, 0.006865810770545396, 0.09612135078763553, 0.03432905385272698, 0.003432905385272698, 0.13733122204382764, 0.09113799281090379, 0.08721424360965158, 0.07883168849788548, 0.1294837236413232, 0.05939129472804494, 0.3206773210841586, 0.017121814696373316, 0.0711625423318016, 0.007669146166083881, 0.9610268352548023, 0.9789359268255956, 0.007647936928324966, 0.20640304458568717, 0.004690978286038345, 0.028145869716230072, 0.014072934858115036, 0.6426640251872533, 0.05160076114642179, 0.01876391314415338, 0.032836848002268416, 0.004690978286038345, 0.6554128304218997, 0.0021630786482570944, 0.24767250522543732, 0.008652314593028378, 0.024875404454956587, 0.0010815393241285472, 0.009733853917156926, 0.0032446179723856416, 0.02812002242734223, 0.01946770783431385, 0.9260176165975371, 0.011432316254290581, 0.0314388696992991, 0.007145197658931613, 0.005001638361252129, 0.0007145197658931613, 0.002143559297679484, 0.0028580790635726453, 0.007145197658931613, 0.005716158127145291, 0.9375944250349328, 0.018030662019902555, 0.012020441346601702, 0.006010220673300851, 0.006010220673300851, 0.012020441346601702, 0.9780160945774931, 0.009495301889101875, 0.0028500580036601164, 0.05985121807686245, 0.00855017401098035, 0.005700116007320233, 0.564311484724703, 0.35625725045751455, 0.0028500580036601164, 0.9559194939455556, 0.015355783072558851, 0.010237188715039234, 0.07166032100527464, 0.005118594357519617, 0.005118594357519617, 0.015355783072558851, 0.8752796351358545, 0.025586343106570784, 0.946694694943119, 0.9537523809813173, 0.9526035049206704, 0.007674717968146759, 0.007674717968146759, 0.007674717968146759, 0.9439903100820514, 0.030698871872587036, 0.021874213802733907, 0.9077798728134571, 0.010937106901366954, 0.010937106901366954, 0.03281132070410086, 0.9859948614952619, 0.0038771829246121714, 0.6940157435055787, 0.0038771829246121714, 0.02326309754767303, 0.10080675603991646, 0.16671886575832337, 0.0038771829246121714, 0.0038771829246121714, 0.9661057180275541, 0.14794352640905944, 0.10766570770083383, 0.04647440620179878, 0.09527253271368749, 0.016266042170629574, 0.26722783566034297, 0.11231314832101372, 0.1355503514219131, 0.030208364031169208, 0.042601539018315544, 0.02233596846837438, 0.01954397240982758, 0.06700790540512314, 0.016751976351280784, 0.1005118581076847, 0.06421590934657634, 0.6421590934657634, 0.0027919960585467973, 0.008375988175640392, 0.05304792511238915, 0.9801641233449412, 0.6971134055553578, 0.06606405422834585, 0.06503180338102794, 0.01926868248326754, 0.03612877965612664, 0.0034408361577263464, 0.06709630507566376, 0.009290257625861135, 0.017892348020177, 0.01858051525172227, 0.05671247970818428, 0.003336028218128487, 0.01534572980339104, 0.7913058933400772, 0.0013344112872513947, 0.0013344112872513947, 0.005337645149005579, 0.021350580596022316, 0.10141525783110601, 0.0026688225745027895, 0.06093573756321183, 0.004687364427939371, 0.009374728855878742, 0.738259897400451, 0.0023436822139696854, 0.05859205534924214, 0.12187147512642366, 0.0023436822139696854, 0.014053179137044113, 0.014053179137044113, 0.2248508661927058, 0.06323930611669851, 0.0070265895685220564, 0.0070265895685220564, 0.6745525985781174, 0.6074379647386867, 0.02289944708340287, 0.03736225576765732, 0.05182506445191176, 0.056646000679996575, 0.01325757462723324, 0.03615702171063611, 0.07412189450680404, 0.05001721336637996, 0.050619830394890555, 0.9538599606341515, 0.04316860177112225, 0.021584300885561125, 0.8202034336513228, 0.0863372035422445, 0.976642999864999, 0.04678754543514968, 0.8889633632678439, 0.07810762858886083, 0.01965509253330196, 0.023586111039962353, 0.007691123165205115, 0.15843713720322536, 0.007862037013320784, 0.5946092775944132, 0.002392793873619369, 0.02204788640692133, 0.08579875175406594, 0.13630862800660576, 0.007572701555922542, 0.007572701555922542, 0.8178517680396346, 0.015145403111845084, 0.9666062967730855, 0.011933411071272661, 0.011933411071272661, 0.9193735602980376, 0.029657211622517343, 0.029657211622517343, 0.983471018323929, 0.07433770409451561, 0.0557532780708867, 0.09453816716367745, 0.014544333409796531, 0.023432537160227744, 0.3030069460374277, 0.12201079693773757, 0.28361450149103234, 0.012928296364263583, 0.016968388978095952, 0.02951459587471203, 0.944467067990785, 0.0020711073390375667, 0.012426644034225401, 0.0020711073390375667, 0.008284429356150267, 0.9299271952278675, 0.008284429356150267, 0.028995502746525934, 0.0020711073390375667, 0.008284429356150267, 0.9571147882926413, 0.02888787933807437, 0.14203207341219898, 0.05777575867614874, 0.009629293112691457, 0.06499772851066733, 0.02888787933807437, 0.1468467199685447, 0.5031305651381286, 0.0024073232781728644, 0.014443939669037184, 0.08292719305865566, 0.02902451757052948, 0.004146359652932783, 0.016585438611731132, 0.004146359652932783, 0.8002474130160271, 0.06219539479399175, 0.3836188114547494, 0.12083992560824607, 0.159201806753721, 0.10229834972126652, 0.05178853954639117, 0.05434599828942283, 0.045394892688812014, 0.027492681487590376, 0.039640610516990776, 0.015344752458189977, 0.18707045448439333, 0.021467101334274645, 0.11193559981443207, 0.01840037257223541, 0.11960242171953016, 0.0015333643810196175, 0.01226691504815694, 0.00613345752407847, 0.5167437964036111, 0.003066728762039235, 0.4674472188625585, 0.004160128970459663, 0.17396902967376773, 0.04916516055997784, 0.02306980610891268, 0.0022691612566143617, 0.06202374101412589, 0.04235767679013475, 0.12404748202825178, 0.0514343218165922, 0.08324277954606371, 0.027747593182021236, 0.027747593182021236, 0.8601753886426583, 0.9727371606887621, 0.004247760527025162, 0.004247760527025162, 0.004247760527025162, 0.004247760527025162, 0.008495521054050324, 0.01467033075801153, 0.04401099227403459, 0.9242308377547265, 0.007335165379005765, 0.007335165379005765, 0.015105408044270402, 0.9516407067890353, 0.977782402482963, 0.01154262944520899, 0.028856573613022476, 0.02308525889041798, 0.005771314722604495, 0.06348446194864944, 0.005771314722604495, 0.7271856550481663, 0.01154262944520899, 0.05771314722604495, 0.06925577667125395, 0.884172633657118, 0.07825346250265067, 0.08012940167223476, 0.07021372320443313, 0.1326556984205893, 0.1883978908882309, 0.10934045445575846, 0.09406494978914515, 0.09004508014003638, 0.0846852539412247, 0.07208966237401722, 0.09178581657177776, 0.010456612014506327, 0.005809228896947959, 0.015103995132064695, 0.06506336364581715, 0.0034855373381687755, 0.0023236915587791836, 0.13709780196797183, 0.5890558101505231, 0.07900551299849225, 0.14460065605189146, 0.0067933194118338265, 0.00873426781521492, 0.0058228452101432805, 0.042700864874384056, 0.04464181327776515, 0.0145571130253582, 0.12519117201808053, 0.47553235882836786, 0.1310140172282238, 0.23750742480820666, 0.11153140287603723, 0.12206887087600253, 0.17203304498819755, 0.06346160503349889, 0.04925378301107376, 0.05304253555038713, 0.06286961244923117, 0.06997352346044373, 0.05837046880879655, 0.0016764581922652654, 0.0972345751513854, 0.0016764581922652654, 0.016764581922652653, 0.0033529163845305307, 0.37552663506741946, 0.0050293745767957965, 0.4878493339491922, 0.010058749153591593, 0.08427845439457818, 0.037053458397616264, 0.017436921598878243, 0.29788074398083664, 0.05521691839644777, 0.4315638095722365, 0.04867807279686843, 0.010171537599345642, 0.012351152799205421, 0.005085768799672821, 0.028152056825820237, 0.028152056825820237, 0.028152056825820237, 0.0844561704774607, 0.8445617047746071, 0.10801596675704477, 0.0350578137720233, 0.09664586499314531, 0.17434156037979157, 0.018950169606499083, 0.1591814246945923, 0.004737542401624771, 0.2435096794435132, 0.12696613636354384, 0.03316279681137339, 0.005025358779644143, 0.010050717559288287, 0.9196406566748783, 0.010050717559288287, 0.01507607633893243, 0.005025358779644143, 0.035177511457509004, 0.9785792538608702, 0.0694399674209625, 0.017359991855240627, 0.017359991855240627, 0.8506396009067907, 0.017359991855240627, 0.03471998371048125, 0.03277249669679278, 0.01638624834839639, 0.19663498018075667, 0.07373811756778376, 0.008193124174198195, 0.03277249669679278, 0.630870561413261, 0.1052787154526294, 0.7858304117714123, 0.011279862369924579, 0.007519908246616386, 0.007519908246616386, 0.022559724739849157, 0.022559724739849157, 0.02631967886315735, 0.007519908246616386, 0.011477094641186916, 0.045908378564747665, 0.9181675712949533, 0.9776646394653555, 0.008638044567917324, 0.9674609916067402, 0.008638044567917324, 0.007219647855844672, 0.11912418962143709, 0.01804911963961168, 0.01804911963961168, 0.06497683070260205, 0.0505375349909127, 0.6425486591701758, 0.021658943567534016, 0.01804911963961168, 0.03609823927922336, 0.01650223824362983, 0.9571298181305302, 0.8974207664548541, 0.06189108734171408, 0.2045449717757857, 0.2648003189919032, 0.12120328463012134, 0.06441088840343591, 0.060486210615412934, 0.10181075908930191, 0.07249110737877733, 0.05102081124429869, 0.03832332428304789, 0.021008569335887697, 0.9711405259847934, 0.1493559946809891, 0.8065223712773412, 0.02987119893619782, 0.9364304553020592, 0.12416437483343537, 0.11088893853048945, 0.04763538908704124, 0.35062770000133636, 0.050759021158322634, 0.08433806592459761, 0.05856810133652612, 0.07340535367511274, 0.05153992917614298, 0.04841629710486159, 0.038121082110557314, 0.9149059706533755, 0.1673446221512364, 0.029346447308358784, 0.12192750131687162, 0.24385500263374324, 0.1292641131439613, 0.014673223654179392, 0.08314826737368322, 0.07022185605928709, 0.10166447817538579, 0.03808050900727509, 0.18586413055211876, 0.11715606333379996, 0.11098995473728418, 0.12860740787018643, 0.10376679895279425, 0.050209741428771416, 0.0813926334740084, 0.09742451582494945, 0.05972316612053863, 0.06500840206040931, 0.016735058557398083, 0.012551293918048562, 0.012551293918048562, 0.004183764639349521, 0.025102587836097125, 0.008367529278699042, 0.004183764639349521, 0.907876926738846, 0.015187758359366994, 0.02278163753905049, 0.007593879179683497, 0.015187758359366994, 0.015187758359366994, 0.9188593807417031, 0.013302262477285647, 0.026604524954571294, 0.944460635887281, 0.015930547609483817, 0.12213419833937593, 0.005310182536494606, 0.8336986582296532, 0.005310182536494606, 0.005310182536494606, 0.005310182536494606, 0.13754949538988598, 0.0916996635932573, 0.7335973087460584, 0.9374409722521273, 0.08268513635612763, 0.14396941389066928, 0.002918298930216269, 0.005836597860432538, 0.002918298930216269, 0.3813243935482592, 0.004863831550360449, 0.357978002106529, 0.004863831550360449, 0.013618728341009256, 0.040864277739222056, 0.013621425913074019, 0.8990141102628852, 0.027242851826148037, 0.03303075434463762, 0.9413764988221722, 0.96019528316607, 0.03533542747293256, 0.014134170989173023, 0.03533542747293256, 0.028268341978346045, 0.883385686823314, 0.012788260075054405, 0.003197065018763601, 0.05435010531898122, 0.006394130037527202, 0.041561845243926816, 0.02557652015010881, 0.05754717033774482, 0.003197065018763601, 0.7928721246533731, 0.003197065018763601, 0.002848336602460236, 0.018514187915991534, 0.9128918810885057, 0.005696673204920472, 0.008545009807380708, 0.009969178108610827, 0.024210861120912006, 0.002848336602460236, 0.002848336602460236, 0.012817514711071063, 0.9677309833873937, 0.007850639735571102, 0.036636318765998474, 0.7144082159369702, 0.002616879911857034, 0.052337598237140674, 0.02093503929485627, 0.002616879911857034, 0.002616879911857034, 0.002616879911857034, 0.15962967462327907, 0.20384737390494104, 0.033019905194519375, 0.2658439305966917, 0.1320796207780775, 0.14993732460776654, 0.015836076981045007, 0.03032440272966065, 0.03167215396209001, 0.053573111489067154, 0.08356057641062047, 0.08582143101751295, 0.042910715508756476, 0.8582143101751295, 0.015398760630686887, 0.7930361724803746, 0.1462882259915254, 0.02309814094603033, 0.007699380315343444, 0.004731201155309653, 0.09935522426150271, 0.018924804621238613, 0.04258081039778688, 0.10881762657212203, 0.6907553686752094, 0.009462402310619306, 0.004731201155309653, 0.01419360346592896, 0.009462402310619306, 0.26926453879050627, 0.045357395571662816, 0.10295408836107592, 0.12599276547684116, 0.012239297217750284, 0.1094337162998849, 0.006479627938808974, 0.19798863146360754, 0.07271582464663404, 0.0575966927894131, 0.010421154516986436, 0.9691673700797386, 0.010421154516986436, 0.01386437367622685, 0.9427774099834259, 0.0277287473524537, 0.15049027374856488, 0.10816488425678102, 0.1246247579480303, 0.15225383164405587, 0.18693713692204544, 0.06583949476499713, 0.06231237897401515, 0.06231237897401515, 0.04820391581008719, 0.03879827370080188, 0.035583654953114725, 0.22644144061073007, 0.07799649621036259, 0.014017803466378528, 0.009704633169031288, 0.4057974388087528, 0.011861218317704909, 0.20271900397532025, 0.004672601155459509, 0.011142356601480368, 0.07007884549100692, 0.03185402067773042, 0.04459562894882258, 0.02548321654218433, 0.057337237219914745, 0.012741608271092166, 0.0382248248132765, 0.7199008673167073, 0.975787697337965, 0.11284284640629275, 0.037614282135430915, 0.7898999248440491, 0.3551020571716436, 0.019436059342234933, 0.17965222419038776, 0.0756430417643738, 0.027840841760498686, 0.001575896703424454, 0.12397054066939038, 0.08352252528149606, 0.0919273076997598, 0.04149861319017729, 0.024413618453892973, 0.008137872817964326, 0.8951660099760758, 0.05696510972575027, 0.008137872817964326, 0.008137872817964326, 0.9409784850583682, 0.03136594950194561, 0.0038118985823019204, 0.030495188658415363, 0.026683290076113444, 0.7280726292196669, 0.19821872627969986, 0.0038118985823019204, 0.0038118985823019204, 0.23769920402290814, 0.08081772936778878, 0.01154538990968411, 0.42310458316077654, 0.04618155963873644, 0.010866249326761515, 0.03395702914612974, 0.10730421210176996, 0.0393901538095105, 0.009507968160916326, 0.9636599681178574, 0.510137296574691, 0.17099574186861152, 0.04958876514189734, 0.008834779996544929, 0.025364368377177374, 0.007124822577858813, 0.2154546347544505, 0.0011399716124574101, 0.009119772899659281, 0.0025649361280291726, 0.029472039662351773, 0.06483848725717391, 0.06189128329093872, 0.06778569122340908, 0.5452327337535078, 0.008841611898705533, 0.06189128329093872, 0.0029472039662351776, 0.06483848725717391, 0.08841611898705533, 0.960465028440863, 0.18130532369768185, 0.13650727168846444, 0.09509020473654643, 0.05156002212381629, 0.045643298273542285, 0.124251200855754, 0.23117485329284843, 0.05240526838814114, 0.029160996119207572, 0.05282789152030357, 0.007901212647839828, 0.15802425295679656, 0.007901212647839828, 0.03950606323919914, 0.04740727588703897, 0.06716030750663854, 0.6399982244750261, 0.01975303161959957, 0.007901212647839828, 0.003950606323919914, 0.17827800747050648, 0.12323915952659173, 0.11486368266556123, 0.06461082149937819, 0.09093374877690263, 0.06520906984659465, 0.02931416901360677, 0.05384235124948182, 0.23690634549772002, 0.04247563265236899, 0.9695388041820081, 0.04387767838693682, 0.04387767838693682, 0.8775535677387364, 0.04979246180174953, 0.007113208828821361, 0.007113208828821361, 0.03556604414410681, 0.8891511036026701, 0.007113208828821361, 0.9656184907446972, 0.01222301887018604, 0.01222301887018604, 0.7336524001071665, 0.09304115677034752, 0.0854148324449092, 0.024404237841402627, 0.006101059460350657, 0.0213537081112273, 0.015252648650876643, 0.009151589190525986, 0.0015252648650876642, 0.009151589190525986, 0.9788879646709839, 0.9613299341507759, 0.004599664756702277, 0.011499161891755693, 0.0022998323783511385, 0.004599664756702277, 0.004599664756702277, 0.009199329513404554, 0.9772513458987743, 0.9748646468158344, 0.9406589332295537, 0.015171918277896029, 0.01011461218526402, 0.025286530463160047, 0.027549707856107886, 0.43836446912218724, 0.01782628155395216, 0.013774853928053943, 0.05428913018703613, 0.09804454854673689, 0.2860307903884142, 0.0032411421007185748, 0.049427417035958265, 0.011343997352515012, 0.012378096751723078, 0.007426858051033847, 0.009902477401378463, 0.059414864408270776, 0.03218305155448, 0.6510878891406339, 0.004951238700689232, 0.2054764060786031, 0.007426858051033847, 0.007426858051033847, 0.025046072080189125, 0.9517507390471868, 0.13857885134539383, 0.0012951294518261105, 0.029787977392000543, 0.15412040476730715, 0.0012951294518261105, 0.0012951294518261105, 0.044034401362087756, 0.45200017868731257, 0.17484247599652492, 0.0038853883554783317, 0.04064610286331664, 0.002139268571753507, 0.03208902857630261, 0.06631732572435872, 0.6695910629588477, 0.1882556343143086, 0.01243547485813904, 0.969967038934845, 0.018828100965606578, 0.910024880004318, 0.006276033655202193, 0.037656201931213155, 0.012552067310404386, 0.012552067310404386, 0.006276033655202193, 0.1601466588728787, 0.8007332943643936, 0.02252574824761828, 0.04505149649523656, 0.9235556781523495, 0.9768972667282565, 0.06813378160514426, 0.03406689080257213, 0.018343710432154225, 0.8071232590147859, 0.01310265030868159, 0.01048212024694527, 0.005241060123472635, 0.018343710432154225, 0.01310265030868159, 0.01048212024694527, 0.011603208129089332, 0.023206416258178663, 0.011603208129089332, 0.9166534421980571, 0.023206416258178663, 0.011603208129089332, 0.018632652635920878, 0.9688979370678857, 0.15069459095942278, 0.16687084648614048, 0.05704258527842557, 0.01873040113619944, 0.014473491787063204, 0.34991794849899865, 0.005959673088790731, 0.2213592861550843, 0.005108291218963484, 0.010216582437926967, 0.10769908576089644, 0.035899695253632145, 0.8256929908335394, 0.00593597110983727, 0.07123165331804723, 0.00593597110983727, 0.9082035798051022, 0.00593597110983727, 0.9595386387923962, 0.010068034744709908, 0.05034017372354954, 0.010068034744709908, 0.03523812160648468, 0.03523812160648468, 0.7248985016191134, 0.02517008686177477, 0.010068034744709908, 0.09061231270238918, 0.005034017372354954, 0.9374999934715748, 0.020833333188257218, 0.02278228390729885, 0.030376378543065134, 0.1746641766226245, 0.007594094635766283, 0.007594094635766283, 0.007594094635766283, 0.007594094635766283, 0.7442212743050958, 0.7616216327774719, 0.17920509006528748, 0.9901650253976663, 0.004480384730306182, 0.951611267829458, 0.0031182578187877513, 0.30247100842241187, 0.0020788385458585007, 0.1070601851117128, 0.013512450548080255, 0.19956850040241608, 0.0051970963646462524, 0.06964109128625978, 0.2962344927848364, 0.03774933389250171, 0.1887466694625085, 0.03774933389250171, 0.012583111297500569, 0.012583111297500569, 0.025166222595001137, 0.6794880100650307, 0.939891064299819, 0.9607367374156477, 0.006258168598543165, 0.010430280997571942, 0.0041721123990287766, 0.008344224798057553, 0.3942646217082194, 0.0041721123990287766, 0.5674072862679136, 0.0020860561995143883, 0.0041721123990287766, 0.04431797375155566, 0.9417569422205578, 0.07960931857055631, 0.07258496693197782, 0.018731604369542663, 0.5830211860020154, 0.002341450546192833, 0.02575595600812116, 0.002341450546192833, 0.12643832949441297, 0.07960931857055631, 0.011707252730964164, 0.9802813044212806, 0.04342481044009012, 0.02171240522004506, 0.9119210192418925, 0.004400916959428413, 0.02640550175657048, 0.001466972319809471, 0.007334861599047356, 0.001466972319809471, 0.4973036164154107, 0.002933944639618942, 0.457695363780555, 0.001466972319809471, 0.001466972319809471, 0.03596329531761274, 0.9350456782579313, 0.9126689720336044, 0.23450523308898283, 0.05168686770124519, 0.16846090213739173, 0.03541507601751986, 0.02775776228400205, 0.0966735858856623, 0.02010044855048424, 0.2412053826058109, 0.06891582360166025, 0.05360119613462464, 0.0337980515626147, 0.0337980515626147, 0.9125473921905969, 0.9818926835808289, 0.0028964385946337137, 0.0028964385946337137, 0.0028964385946337137, 0.005792877189267427, 0.0028964385946337137, 0.004171072878991622, 0.9614322986075688, 0.006256609318487432, 0.012513218636974865, 0.012513218636974865, 0.9071502118344633, 0.025009153709722044, 0.0022735594281565494, 0.022735594281565494, 0.004547118856313099, 0.0068206782844696485, 0.025009153709722044, 0.0068206782844696485, 0.07228277347010119, 0.0013142322449109308, 0.15245094040966797, 0.09462472163358701, 0.006571161224554653, 0.01839925142875303, 0.027598877143129544, 0.1025101151030526, 0.5217502012296394, 0.003942696734732792, 0.10248863485744186, 0.0019337478274989032, 0.05221119134247038, 0.19917602623238703, 0.017403730447490127, 0.0019337478274989032, 0.007734991309995613, 0.0618799304799649, 0.5530518786646863, 0.0019337478274989032, 0.04566952710339512, 0.04566952710339512, 0.8677210149645073, 0.0914290541919633, 0.02438108111785688, 0.00609527027946422, 0.8106709471687413, 0.01219054055892844, 0.04876216223571376, 0.00609527027946422, 0.9455590127989073, 0.01977771892777464, 0.01977771892777464, 0.01977771892777464, 0.9097750706776334, 0.01977771892777464, 0.08259712996489588, 0.02136132671505928, 0.007120442238353093, 0.005696353790682475, 0.027057680505741755, 0.015664972924376803, 0.017089061372047423, 0.01993723826738866, 0.798913619143217, 0.005696353790682475, 0.0056396555789500775, 0.0056396555789500775, 0.025378450105275348, 0.0028198277894750387, 0.6682991861055841, 0.0648560391579259, 0.0028198277894750387, 0.2255862231580031, 0.02532424703990974, 0.02532424703990974, 0.07597274111972922, 0.8610243993569312, 0.016727850009641557, 0.02230380001285541, 0.02230380001285541, 0.7639051504402978, 0.011151900006427705, 0.0055759500032138525, 0.08363925004820778, 0.011151900006427705, 0.055759500032138525, 0.05752107741009926, 0.1006618854676737, 0.02876053870504963, 0.032355606043180836, 0.01797533669065602, 0.014380269352524814, 0.007190134676262407, 0.0035950673381312036, 0.7405838716550279, 0.07810416359608285, 0.03905208179804143, 0.03905208179804143, 0.0308305908931906, 0.00616611817863812, 0.026719845440765187, 0.07399341814365744, 0.008221490904850826, 0.6967713541861076, 0.0020553727262127065, 0.9559979085301241, 0.0071761168665929725, 0.02152835059977892, 0.014352233733185945, 0.0071761168665929725, 0.9400713095236795, 0.0071761168665929725, 0.03416301346880378, 0.5890531716287681, 0.014493399653431906, 0.10352428323879932, 0.0921366120825314, 0.11698244005984323, 0.021740099480147858, 0.00621145699432796, 0.014493399653431906, 0.00621145699432796, 0.015606255407472151, 0.6929177400917635, 0.012485004325977721, 0.05618251946689974, 0.031212510814944302, 0.15294130299322709, 0.00936375324448329, 0.01872750648896658, 0.012485004325977721, 0.045976103533083595, 0.02022948555455678, 0.22436338524144794, 0.018390441413233437, 0.3581538465227212, 0.004597610353308359, 0.145744248199875, 0.0032183272473158514, 0.013792831059925079, 0.16551397271910093, 0.007030609097696729, 0.007030609097696729, 0.9667087509333003, 0.010545913646545094, 0.0035153045488483647, 0.007030609097696729, 0.897907635943219, 0.049883757552401056, 0.03470684131196113, 0.052060261967941696, 0.8734555063510218, 0.011568947103987042, 0.005784473551993521, 0.005784473551993521, 0.011568947103987042, 0.005784473551993521, 0.006787153607618153, 0.02036146082285446, 0.9569886586741595, 0.9734195856762011, 0.008691246300680367, 0.008691246300680367, 0.9446853495777178, 0.023617133739442946, 0.9643921090425779, 0.06389377518887754, 0.010953218603807578, 0.04198733798126238, 0.7594231565306587, 0.062068238754909605, 0.009127682169839647, 0.003651072867935859, 0.031034119377454802, 0.009127682169839647, 0.010953218603807578, 0.10120586567342793, 0.07564882888720875, 0.1604981910174564, 0.03066844414346301, 0.11347324333081314, 0.04702494768664328, 0.05315863651533589, 0.019423347957526572, 0.3854001147361852, 0.013289659128833972, 0.14637182384802444, 0.09965741198163365, 0.10627528699603901, 0.13469322088142674, 0.09693240462276086, 0.06812518397181988, 0.09420739726388806, 0.09848955168497389, 0.06540017661294709, 0.08992524284280225, 0.057246432611615, 0.904493635263517, 0.011449286522323, 0.011449286522323, 0.030442407156516683, 0.9132722146955005, 0.030442407156516683, 0.030442407156516683, 0.04316463030569558, 0.08632926061139116, 0.0976883738497321, 0.04089280765802739, 0.4725391107149832, 0.004543645295336377, 0.052251920896368334, 0.01590275853367732, 0.020446403829013696, 0.16811487592744595, 0.035174917215233636, 0.01217593288219626, 0.0067644071567757, 0.5627986754437382, 0.00811728858813084, 0.0541152572542056, 0.00135288143135514, 0.27869357485915885, 0.03111627292116822, 0.00947017001948598, 0.010498995878831578, 0.010498995878831578, 0.010498995878831578, 0.031496987636494736, 0.745428707397042, 0.1469859423036421, 0.04199598351532631, 0.007534800855873211, 0.08288280941460532, 0.823804893575471, 0.020092802282328563, 0.005023200570582141, 0.022604402567619634, 0.020092802282328563, 0.0025116002852910704, 0.017581201997037492, 0.06794847602416998, 0.0024267312865774993, 0.007280193859732499, 0.7717005491316449, 0.03397423801208499, 0.0024267312865774993, 0.04125443187181749, 0.03154750672550749, 0.04125443187181749, 0.9607443404995475, 0.958029836335409, 0.20760680114808014, 0.2127754352015593, 0.12088860758415178, 0.08068812050153598, 0.05197348687109613, 0.06345934032327206, 0.1366816560808937, 0.020100243541307895, 0.060875023296532486, 0.04536912113609497, 0.10065598854301938, 0.11418501926116716, 0.04221057584062103, 0.22187610377762337, 0.08712695782487162, 0.18128901162318006, 0.08009186185143478, 0.10390295591537485, 0.021105287920310516, 0.04762218812788014, 0.9833826800408318, 0.04377848450077326, 0.02188924225038663, 0.17511393800309305, 0.7442342365131455, 0.01612733869164802, 0.004031834672912005, 0.01612733869164802, 0.004031834672912005, 0.12901870953318417, 0.004031834672912005, 0.00806366934582401, 0.8144306039282251, 0.003373766514812452, 0.003373766514812452, 0.003373766514812452, 0.9885135888400484, 0.10440639277137911, 0.10440639277137911, 0.7830479457853433, 0.04973036401253601, 0.0035521688580382863, 0.06038687058665087, 0.6784642518853127, 0.01065650657411486, 0.0035521688580382863, 0.0035521688580382863, 0.15274326089564633, 0.01776084429019143, 0.02131301314822972, 0.05101268455898809, 0.058048916911951964, 0.02462681323537356, 0.05980797500019293, 0.22691849338308495, 0.07388043970612068, 0.39930618603069984, 0.04221739411778325, 0.01231340661768678, 0.05101268455898809, 0.9635732397330709, 0.16210216670954167, 0.007907422766319106, 0.003953711383159553, 0.019768556915797764, 0.6405012440718475, 0.023722268298957315, 0.04349082521475508, 0.003953711383159553, 0.09093536181266972, 0.9562541016272309, 0.00921597847129083, 0.03686391388516332, 0.0299519300316952, 0.0023039946178227077, 0.03225592464951791, 0.02764793541387249, 0.7188463207606848, 0.02764793541387249, 0.11289573627331267, 0.012564478177050337, 0.025128956354100673, 0.9423358632787752, 0.8567379798444026, 0.029621259941428814, 0.051647325026081006, 0.008354714342454281, 0.007595194856776619, 0.007595194856776619, 0.014430870227875576, 0.016709428684908562, 0.0022785584570329856, 0.005316636399743633, 0.9752943244474442, 0.9740318437301136, 0.0032359861917943974, 0.0032359861917943974, 0.006471972383588795, 0.0032359861917943974, 0.0032359861917943974, 0.006471972383588795, 0.960225801491736, 0.01574140658183174, 0.06236933749135346, 0.03118466874567673, 0.06236933749135346, 0.810801387387595, 0.024418450473606298, 0.9523195684706456, 0.9719534768847369, 0.11028180051300107, 0.04150390341887137, 0.05059523464395748, 0.4004138491744447, 0.1264880866098937, 0.032017296923129344, 0.05178106045592523, 0.06087239168101134, 0.05850074005707583, 0.06798734655281786, 0.13674794945868654, 0.11696833534055509, 0.1611672261477377, 0.14944597333699314, 0.11770091364122662, 0.08204876967521192, 0.058606264053722795, 0.058117878519941775, 0.060803998955737404, 0.058606264053722795, 0.04963135368323899, 0.8437330126150628, 0.12326595995355442, 0.4247678349750862, 0.09827961671972582, 0.052471320791040055, 0.026652099449417172, 0.04164390538971433, 0.052471320791040055, 0.054969955114422916, 0.0124931716169143, 0.11327142266002298, 0.0555454328093926, 0.03967530914956614, 0.8966619867801948, 0.037152316364476246, 0.18885760818608757, 0.07585264591080566, 0.08359271182007155, 0.14396522591234545, 0.03870032954632942, 0.10216887000230966, 0.01393211863667859, 0.04334436909188895, 0.2724503200061591, 0.15494939143026626, 0.1963715059710305, 0.11383410736758175, 0.07118467091449855, 0.067195874699462, 0.08131007669112982, 0.212019860353097, 0.03221720019837219, 0.029455725895654573, 0.04111528406268451, 0.006678573070079584, 0.7045894588933961, 0.05676787109567646, 0.02337500574527854, 0.08682144991103459, 0.01669643267519896, 0.006678573070079584, 0.013357146140159168, 0.003339286535039792, 0.080142876840955, 0.9791880477783176, 0.2158066164533005, 0.19533484256049727, 0.030423330646249212, 0.13932179454824406, 0.2298809610046027, 0.07065605294946663, 0.08444606730781323, 0.013505684165391005, 0.015638160612558006, 0.005117943473200802, 0.0073544080456576085, 0.0073544080456576085, 0.978136270072462, 0.9639323316458015, 0.0019220214744451517, 0.0019220214744451517, 0.9898410593392531, 0.0019220214744451517, 0.0019220214744451517, 0.1794060285555957, 0.02531496108453191, 0.07484423277165955, 0.01430845626517021, 0.13427935879621272, 0.00110065048193617, 0.4391595422925318, 0.00440260192774468, 0.019811708674851058, 0.10676309674780848, 0.007807926849089151, 0.6277573186667678, 0.010931097588724811, 0.03669725619071901, 0.12805000032506209, 0.13195396374960666, 0.010150304903815896, 0.0039039634245445756, 0.037478048875627924, 0.0054655487943624055, 0.010101702920408894, 0.9495600745184359, 0.020203405840817788, 0.010101702920408894, 0.016289360371186574, 0.016289360371186574, 0.016289360371186574, 0.9284935411576347, 0.016289360371186574, 0.10032934395114029, 0.02705510398682435, 0.06087398397035478, 0.4754370877684654, 0.09497468795374797, 0.013809375993274928, 0.01465484799286319, 0.10540217594866985, 0.06876505596651189, 0.03889171198106, 0.9585293592289501, 0.07227604774728279, 0.05638556916454686, 0.09841844799629998, 0.07432643208053905, 0.12353565607868904, 0.07227604774728279, 0.30550726565518116, 0.054847780914604675, 0.08355316158019216, 0.05843595349780311, 0.022573276571467932, 0.970650892573121, 0.18289271135191434, 0.009379113402662275, 0.07034335051996705, 0.04689556701331137, 0.004689556701331137, 0.004689556701331137, 0.01875822680532455, 0.6518483814850281, 0.009379113402662275, 0.9799367362652398, 0.16697499447280373, 0.322760942924234, 0.11877602699611813, 0.09553723910557327, 0.06110940519365497, 0.07574123460622025, 0.05981836142195804, 0.051641750867877444, 0.021947744118847912, 0.025820875433938722, 0.9154645232858414, 0.9420932119419996, 0.9148008902353214, 0.0677630289063201, 0.07259558449345994, 0.02823161619190109, 0.11090992075389713, 0.23190256157633038, 0.0967941126579466, 0.012099264082243325, 0.06452940843863106, 0.09376929663738576, 0.10082720068536104, 0.18753859327477151, 0.029846124770670366, 0.029846124770670366, 0.029846124770670366, 0.8506145559641055, 0.029846124770670366, 0.014923062385335183, 0.10973743877739678, 0.021947487755479354, 0.021947487755479354, 0.7681620714417775, 0.06584246326643807, 0.1017093285007778, 0.14787850683146794, 0.07976754077926168, 0.20479001873415034, 0.07679625702530637, 0.11290878265030163, 0.06513968229825094, 0.09828092416929089, 0.06102559710046668, 0.05188318554983496, 0.14348985151165042, 0.17008256530531535, 0.06094163577714882, 0.07368397780327994, 0.07312996293257859, 0.22160594828054117, 0.07202193319117588, 0.13739568793393553, 0.022160594828054117, 0.026038698922963587], \"Term\": [\"abgeordnet\", \"abgeordnet\", \"abgeordnet\", \"abgeordnet\", \"abgeordnet\", \"abgeordnet\", \"abgeordnet\", \"abgeordnet\", \"abgeordnet\", \"absatz\", \"absatz\", \"absatz\", \"absatz\", \"absatz\", \"absatz\", \"abschreib\", \"abschreib\", \"abschreib\", \"aden\", \"admira\", \"admira\", \"agypt\", \"agypt\", \"agypt\", \"agypt\", \"agypt\", \"agypt\", \"agypt\", \"agypt\", \"agypt\", \"agypt\", \"aktienmarkt\", \"aktienmarkt\", \"aktionar\", \"aktionar\", \"aktuell\", \"aktuell\", \"aktuell\", \"aktuell\", \"aktuell\", \"aktuell\", \"aktuell\", \"aktuell\", \"aktuell\", \"aktuell\", \"alaba\", \"alaba\", \"alaba\", \"alaba\", \"alaba\", \"alexis\", \"alexis\", \"alexis\", \"alexis\", \"alexis\", \"alexis\", \"alexis\", \"allerding\", \"allerding\", \"allerding\", \"allerding\", \"allerding\", \"allerding\", \"allerding\", \"allerding\", \"allerding\", \"allerding\", \"alm\", \"alm\", \"alm\", \"alm\", \"alm\", \"alt\", \"alt\", \"alt\", \"alt\", \"alt\", \"alt\", \"alt\", \"alt\", \"alt\", \"alt\", \"altach\", \"altach\", \"altach\", \"altersgrupp\", \"altersgrupp\", \"amazon\", \"amazon\", \"amazon\", \"amazon\", \"amazon\", \"amazon\", \"amazon\", \"android\", \"android\", \"android\", \"angab\", \"angab\", \"angab\", \"angab\", \"angab\", \"angab\", \"angab\", \"angab\", \"angab\", \"angab\", \"angeklagt\", \"angeklagt\", \"angeklagt\", \"angeklagt\", \"angeklagt\", \"angeklagt\", \"angeklagt\", \"angriff\", \"angriff\", \"angriff\", \"angriff\", \"angriff\", \"angriff\", \"angriff\", \"angriff\", \"angriff\", \"angriff\", \"anschlag\", \"anschlag\", \"anschlag\", \"anschlag\", \"anschlag\", \"anschlag\", \"anschlag\", \"anschlag\", \"anschlag\", \"anschlag\", \"anstieg\", \"anstieg\", \"anstieg\", \"anstieg\", \"anstieg\", \"anstieg\", \"anstieg\", \"anstieg\", \"anstieg\", \"anstieg\", \"appl\", \"appl\", \"appl\", \"appl\", \"appl\", \"appl\", \"appl\", \"appl\", \"appl\", \"apps\", \"apps\", \"apps\", \"apps\", \"apps\", \"arbeit\", \"arbeit\", \"arbeit\", \"arbeit\", \"arbeit\", \"arbeit\", \"arbeit\", \"arbeit\", \"arbeit\", \"arbeit\", \"arbeitnehm\", \"arbeitnehm\", \"arbeitnehm\", \"arbeitnehm\", \"arbeitnehm\", \"arbeitnehm\", \"arbeitnehm\", \"arbeitskraft\", \"arbeitskraft\", \"arbeitskraft\", \"arbeitskraft\", \"arbeitslos\", \"arbeitslos\", \"arbeitslos\", \"arbeitslos\", \"arbeitslos\", \"arbeitslos\", \"arbeitsmarkt\", \"arbeitsmarkt\", \"arbeitsmarkt\", \"arbeitsmarkt\", \"arbeitsmarkt\", \"arbeitsmarkt\", \"arbeitsmarkt\", \"arbeitsmarkt\", \"arbeitsmarkt\", \"arbeitszeit\", \"arbeitszeit\", \"arbeitszeit\", \"arbeitszeit\", \"arbeitszeit\", \"arbeitszeit\", \"arena\", \"arena\", \"arena\", \"arena\", \"arena\", \"arme\", \"arme\", \"arme\", \"arme\", \"arme\", \"arme\", \"arme\", \"armut\", \"armut\", \"armut\", \"armut\", \"armut\", \"armut\", \"arnautovic\", \"arnautovic\", \"arnautovic\", \"arsenal\", \"arsenal\", \"arsenal\", \"arsenal\", \"art\", \"art\", \"art\", \"art\", \"art\", \"art\", \"art\", \"art\", \"artikel\", \"artikel\", \"artikel\", \"artikel\", \"artikel\", \"artikel\", \"artikel\", \"artikel\", \"artikel\", \"artikel\", \"assad\", \"assad\", \"assad\", \"assad\", \"assad\", \"ath\", \"ath\", \"ath\", \"ath\", \"ath\", \"ath\", \"ath\", \"ath\", \"ath\", \"ath\", \"atletico\", \"atletico\", \"attentat\", \"attentat\", \"attentat\", \"attentat\", \"attentat\", \"attentat\", \"attentat\", \"audi\", \"audi\", \"audi\", \"audi\", \"audi\", \"audi\", \"audi\", \"audi\", \"australian\", \"austria\", \"austria\", \"austria\", \"austria\", \"austria\", \"austria\", \"austria\", \"austria\", \"austria\", \"austria\", \"autobau\", \"autobau\", \"autobau\", \"autobau\", \"autobau\", \"autobau\", \"autobau\", \"autor\", \"autor\", \"autor\", \"autor\", \"autor\", \"autor\", \"autor\", \"autor\", \"autor\", \"autor\", \"autos\", \"autos\", \"autos\", \"autos\", \"autos\", \"autos\", \"autos\", \"autos\", \"autos\", \"autos\", \"award\", \"award\", \"award\", \"balkanrout\", \"balkanrout\", \"balkanrout\", \"balkanrout\", \"balkanstaat\", \"balkanstaat\", \"ball\", \"ball\", \"ball\", \"ball\", \"ball\", \"ball\", \"ball\", \"bank\", \"bank\", \"bank\", \"bank\", \"bank\", \"bank\", \"bank\", \"bank\", \"bank\", \"bank\", \"barca\", \"barcelona\", \"barcelona\", \"barcelona\", \"barcelona\", \"barcelona\", \"barcelona\", \"barcelona\", \"barcelona\", \"barcelona\", \"barisic\", \"barisic\", \"barisic\", \"barrel\", \"barrel\", \"basier\", \"basier\", \"basier\", \"basier\", \"basier\", \"basier\", \"basier\", \"bawag\", \"bawag\", \"bawag\", \"bay\", \"bay\", \"bay\", \"bay\", \"bay\", \"bay\", \"bay\", \"bay\", \"bay\", \"bay\", \"beamt\", \"beamt\", \"beamt\", \"beamt\", \"beamt\", \"beamt\", \"beamt\", \"beamt\", \"beamt\", \"befragt\", \"befragt\", \"befragt\", \"befragt\", \"befragt\", \"befragt\", \"befragt\", \"befragt\", \"befragt\", \"beim\", \"beim\", \"beim\", \"beim\", \"beim\", \"beim\", \"beim\", \"beim\", \"beim\", \"beim\", \"belgrad\", \"belgrad\", \"bell\", \"bell\", \"bell\", \"bell\", \"bell\", \"bell\", \"bereit\", \"bereit\", \"bereit\", \"bereit\", \"bereit\", \"bereit\", \"bereit\", \"bereit\", \"bereit\", \"bereit\", \"berichtet\", \"berichtet\", \"berichtet\", \"berichtet\", \"berichtet\", \"berichtet\", \"berichtet\", \"berichtet\", \"berichtet\", \"berichtet\", \"berlin\", \"berlin\", \"berlin\", \"berlin\", \"berlin\", \"berlin\", \"berlin\", \"berlin\", \"berlin\", \"berlin\", \"berufsbild\", \"berufsbild\", \"betriebsrat\", \"betriebsrat\", \"betriebsrat\", \"betriebsrat\", \"betriebsrat\", \"betriebsrat\", \"betriebssyst\", \"betriebssystem\", \"blau\", \"blau\", \"blau\", \"blau\", \"blau\", \"blau\", \"blau\", \"blau\", \"blau\", \"bluttat\", \"bluttat\", \"boeing\", \"bohmermann\", \"bohmermann\", \"bohmermann\", \"bors\", \"bors\", \"bors\", \"bors\", \"bors\", \"bors\", \"bors\", \"bors\", \"borsennotiert\", \"borsennotiert\", \"borsennotiert\", \"borsennotiert\", \"borussia\", \"borussia\", \"borussia\", \"brandstift\", \"brasilia\", \"break\", \"break\", \"break\", \"breakball\", \"brows\", \"buch\", \"buch\", \"buch\", \"buch\", \"buch\", \"buch\", \"buch\", \"buch\", \"buch\", \"buch\", \"budap\", \"budap\", \"budap\", \"budap\", \"budap\", \"budap\", \"budap\", \"budap\", \"build\", \"bull\", \"bull\", \"bull\", \"bull\", \"bull\", \"bull\", \"bull\", \"bull\", \"bundesliga\", \"bundesliga\", \"bundesliga\", \"bundesliga\", \"burgermeist\", \"burgermeist\", \"burgermeist\", \"burgermeist\", \"burgermeist\", \"burgermeist\", \"burgermeist\", \"burgermeist\", \"burgermeist\", \"burgermeist\", \"celsius\", \"celsius\", \"celsius\", \"celsius\", \"celsius\", \"celsius\", \"champion\", \"champion\", \"champion\", \"champion\", \"champion\", \"champion\", \"champion\", \"champion\", \"champion\", \"chanc\", \"chanc\", \"chanc\", \"chanc\", \"chanc\", \"chanc\", \"chanc\", \"chanc\", \"chanc\", \"chanc\", \"chef\", \"chef\", \"chef\", \"chef\", \"chef\", \"chef\", \"chef\", \"chef\", \"chef\", \"chef\", \"chelsea\", \"chelsea\", \"china\", \"china\", \"china\", \"china\", \"china\", \"china\", \"china\", \"china\", \"china\", \"china\", \"chinas\", \"chinas\", \"chinas\", \"chinas\", \"chinas\", \"chinas\", \"chinas\", \"chines\", \"chines\", \"chines\", \"chines\", \"chines\", \"chines\", \"chines\", \"chines\", \"chines\", \"chines\", \"city\", \"city\", \"city\", \"city\", \"city\", \"city\", \"city\", \"city\", \"city\", \"city\", \"clinton\", \"clinton\", \"clinton\", \"clinton\", \"clinton\", \"clinton\", \"cont\", \"dabei\", \"dabei\", \"dabei\", \"dabei\", \"dabei\", \"dabei\", \"dabei\", \"dabei\", \"dabei\", \"dabei\", \"daiml\", \"daiml\", \"daiml\", \"daiml\", \"daiml\", \"demokrat\", \"demokrat\", \"demokrat\", \"demokrat\", \"demokrat\", \"demokrat\", \"demokrat\", \"demokrat\", \"desktop\", \"deutlich\", \"deutlich\", \"deutlich\", \"deutlich\", \"deutlich\", \"deutlich\", \"deutlich\", \"deutlich\", \"deutlich\", \"deutlich\", \"deutsch\", \"deutsch\", \"deutsch\", \"deutsch\", \"deutsch\", \"deutsch\", \"deutsch\", \"deutsch\", \"deutsch\", \"deutsch\", \"deutschland\", \"deutschland\", \"deutschland\", \"deutschland\", \"deutschland\", \"deutschland\", \"deutschland\", \"deutschland\", \"deutschland\", \"deutschland\", \"dibon\", \"dijsselblo\", \"dilma\", \"dirigent\", \"display\", \"display\", \"display\", \"dissertation\", \"dissertation\", \"dissertation\", \"dissertation\", \"divid\", \"divid\", \"divid\", \"divid\", \"djokovic\", \"djokovic\", \"dmitri\", \"dmitri\", \"dmitri\", \"dmitri\", \"dmitri\", \"dmitri\", \"dollar\", \"dollar\", \"dollar\", \"dollar\", \"dollar\", \"dollar\", \"dollar\", \"dollar\", \"dollar\", \"dollar\", \"dominic\", \"dominic\", \"dominic\", \"dortmund\", \"dortmund\", \"dortmund\", \"dortmund\", \"dortmund\", \"dortmund\", \"dreharbeit\", \"dreharbeit\", \"drei\", \"drei\", \"drei\", \"drei\", \"drei\", \"drei\", \"drei\", \"drei\", \"drei\", \"drei\", \"durchschnitt\", \"durchschnitt\", \"durchschnitt\", \"durchschnitt\", \"durchschnitt\", \"durchschnitt\", \"durchschnitt\", \"dynamo\", \"ebit\", \"ebitda\", \"edomwonyi\", \"eig\", \"eig\", \"eig\", \"eig\", \"eig\", \"eig\", \"eig\", \"eig\", \"eig\", \"eig\", \"eigenkapital\", \"eigenkapital\", \"eigenschaft\", \"eigenschaft\", \"eigenschaft\", \"eigenschaft\", \"eigenschaft\", \"eigenschaft\", \"eigenschaft\", \"eigenschaft\", \"eigentum\", \"eigentum\", \"eigentum\", \"eigentum\", \"eigentum\", \"eigentum\", \"eigentum\", \"eigentum\", \"eigentum\", \"einfach\", \"einfach\", \"einfach\", \"einfach\", \"einfach\", \"einfach\", \"einfach\", \"einfach\", \"einfach\", \"einfach\", \"eingeliefert\", \"eingeliefert\", \"einkomm\", \"einkomm\", \"einkomm\", \"einkomm\", \"einkomm\", \"einkomm\", \"einkomm\", \"einreis\", \"einreis\", \"einreis\", \"einreis\", \"einreis\", \"energi\", \"energi\", \"energi\", \"energi\", \"energi\", \"energi\", \"energi\", \"energi\", \"energi\", \"energi\", \"entscheid\", \"entscheid\", \"entscheid\", \"entscheid\", \"entscheid\", \"entscheid\", \"entscheid\", \"entscheid\", \"entscheid\", \"entscheid\", \"epoch\", \"epoch\", \"epoch\", \"erklart\", \"erklart\", \"erklart\", \"erklart\", \"erklart\", \"erklart\", \"erklart\", \"erklart\", \"erklart\", \"erklart\", \"ermittl\", \"ermittl\", \"ermittl\", \"ermittl\", \"ermittl\", \"ermittl\", \"ermittl\", \"ermittl\", \"ermittl\", \"ermittl\", \"erst\", \"erst\", \"erst\", \"erst\", \"erst\", \"erst\", \"erst\", \"erst\", \"erst\", \"erst\", \"etwa\", \"etwa\", \"etwa\", \"etwa\", \"etwa\", \"etwa\", \"etwa\", \"etwa\", \"etwa\", \"etwa\", \"euro\", \"euro\", \"euro\", \"euro\", \"euro\", \"euro\", \"euro\", \"euro\", \"euro\", \"euro\", \"eurogrupp\", \"eurogrupp\", \"europa\", \"europa\", \"europa\", \"europa\", \"europa\", \"europa\", \"europa\", \"europa\", \"europa\", \"europa\", \"facebook\", \"facebook\", \"facebook\", \"facebook\", \"facebook\", \"facebook\", \"facebook\", \"facebook\", \"facebook\", \"facebook\", \"fahrzeug\", \"fahrzeug\", \"fahrzeug\", \"fahrzeug\", \"fahrzeug\", \"fahrzeug\", \"fahrzeug\", \"fahrzeug\", \"fahrzeug\", \"fall\", \"fall\", \"fall\", \"fall\", \"fall\", \"fall\", \"fall\", \"fall\", \"fall\", \"fall\", \"faymann\", \"faymann\", \"faymann\", \"faymann\", \"faymann\", \"faymann\", \"faymann\", \"faymann\", \"fed\", \"fed\", \"fed\", \"fed\", \"feldkirch\", \"feldkirch\", \"feldkirch\", \"ferrari\", \"ferrari\", \"ferrari\", \"ferrari\", \"festgenomm\", \"festgenomm\", \"festgenomm\", \"festgenomm\", \"festgenomm\", \"festgenomm\", \"festnahm\", \"festnahm\", \"festnahm\", \"festnahm\", \"festnahm\", \"feuerwehrleut\", \"feuerwehrleut\", \"fiction\", \"fiction\", \"fiction\", \"fiction\", \"fiction\", \"filial\", \"filial\", \"filial\", \"filial\", \"filial\", \"filial\", \"filial\", \"filial\", \"film\", \"film\", \"film\", \"film\", \"film\", \"film\", \"film\", \"film\", \"film\", \"finanzminist\", \"finanzminist\", \"finanzminist\", \"finanzminist\", \"finanzminist\", \"finanzminist\", \"finanzminist\", \"finanzminist\", \"finanzminist\", \"fink\", \"fink\", \"fink\", \"fink\", \"firmwar\", \"fluchtling\", \"fluchtling\", \"fluchtling\", \"fluchtling\", \"fluchtling\", \"fluchtling\", \"fluchtling\", \"fluchtling\", \"fluchtling\", \"fluchtling\", \"flughaf\", \"flughaf\", \"flughaf\", \"flughaf\", \"flughaf\", \"flughaf\", \"flughaf\", \"flughaf\", \"flughaf\", \"flughaf\", \"foda\", \"fordert\", \"fordert\", \"fordert\", \"fordert\", \"fordert\", \"fordert\", \"fordert\", \"fordert\", \"fordert\", \"fordert\", \"form\", \"form\", \"form\", \"form\", \"form\", \"form\", \"form\", \"form\", \"form\", \"form\", \"forsch\", \"forsch\", \"forsch\", \"forsch\", \"forsch\", \"forsch\", \"forsch\", \"forsch\", \"forsch\", \"forsch\", \"frag\", \"frag\", \"frag\", \"frag\", \"frag\", \"frag\", \"frag\", \"frag\", \"frag\", \"frag\", \"frau\", \"frau\", \"frau\", \"frau\", \"frau\", \"frau\", \"frau\", \"frau\", \"frau\", \"frau\", \"freiheit\", \"freiheit\", \"freiheit\", \"freiheit\", \"freiheit\", \"freiheit\", \"freiheit\", \"freiheit\", \"freiheit\", \"freiheit\", \"french\", \"fussball\", \"fussball\", \"fussball\", \"fussball\", \"fussball\", \"fussball\", \"fussball\", \"fussball\", \"fussball\", \"fussball\", \"ganz\", \"ganz\", \"ganz\", \"ganz\", \"ganz\", \"ganz\", \"ganz\", \"ganz\", \"ganz\", \"ganz\", \"gazastreif\", \"gazastreif\", \"geb\", \"geb\", \"geb\", \"geb\", \"geb\", \"geb\", \"geb\", \"geb\", \"geb\", \"geb\", \"gefangnis\", \"gefangnis\", \"gefangnis\", \"gefangnis\", \"gefangnis\", \"gefangnis\", \"gefangnis\", \"gefangnis\", \"gehirn\", \"gehirn\", \"gehirn\", \"gehirn\", \"gehirn\", \"gehirn\", \"geht\", \"geht\", \"geht\", \"geht\", \"geht\", \"geht\", \"geht\", \"geht\", \"geht\", \"geht\", \"geldpolit\", \"geldpolit\", \"geldpolit\", \"geldpolit\", \"geldpolit\", \"geldpolit\", \"gemald\", \"gemald\", \"gemeinderat\", \"gemeinderat\", \"gemeinderat\", \"gemeinderat\", \"gemeinderat\", \"gemeinderat\", \"geodynam\", \"gerat\", \"gerat\", \"gerat\", \"gerat\", \"gerat\", \"gerat\", \"gerat\", \"gerat\", \"gerat\", \"gerat\", \"gericht\", \"gericht\", \"gericht\", \"gericht\", \"gericht\", \"gericht\", \"gericht\", \"gericht\", \"gericht\", \"gericht\", \"geringfug\", \"geringfug\", \"geringfug\", \"geringfug\", \"geringfug\", \"geringfug\", \"geringfug\", \"gesang\", \"geschaft\", \"geschaft\", \"geschaft\", \"geschaft\", \"geschaft\", \"geschaft\", \"geschaft\", \"geschaft\", \"geschaft\", \"geschaft\", \"geschaftsjahr\", \"geschaftsjahr\", \"geschicht\", \"geschicht\", \"geschicht\", \"geschicht\", \"geschicht\", \"geschicht\", \"geschicht\", \"geschicht\", \"geschicht\", \"geschicht\", \"gesprach\", \"gesprach\", \"gesprach\", \"gesprach\", \"gesprach\", \"gesprach\", \"gesprach\", \"gesprach\", \"gesprach\", \"gesprach\", \"gestieg\", \"gestieg\", \"gestieg\", \"gestieg\", \"gestieg\", \"gestieg\", \"gestieg\", \"gestieg\", \"gestieg\", \"gestieg\", \"getotet\", \"getotet\", \"getotet\", \"getotet\", \"getotet\", \"getotet\", \"getotet\", \"getotet\", \"getotet\", \"gibt\", \"gibt\", \"gibt\", \"gibt\", \"gibt\", \"gibt\", \"gibt\", \"gibt\", \"gibt\", \"gibt\", \"glawischn\", \"glawischn\", \"glawischn\", \"gmbh\", \"gmbh\", \"gmbh\", \"gmbh\", \"gmbh\", \"gmbh\", \"gmbh\", \"googl\", \"googl\", \"googl\", \"googl\", \"googl\", \"googl\", \"googl\", \"googl\", \"googl\", \"googl\", \"gorgon\", \"grabn\", \"grad\", \"grad\", \"grad\", \"grad\", \"grad\", \"grad\", \"grad\", \"grad\", \"grad\", \"grad\", \"grahovac\", \"grenz\", \"grenz\", \"grenz\", \"grenz\", \"grenz\", \"grenz\", \"grenz\", \"grenz\", \"grenz\", \"grenz\", \"grenzubergang\", \"grenzubergang\", \"grenzubergang\", \"grenzubergang\", \"grenzubergang\", \"grenzubertritt\", \"grenzubertritt\", \"grenzubertritt\", \"grenzubertritt\", \"grenzzaun\", \"grenzzaun\", \"grenzzaun\", \"griech\", \"griech\", \"griech\", \"griech\", \"griech\", \"griech\", \"griech\", \"griech\", \"griechenland\", \"griechenland\", \"griechenland\", \"griechenland\", \"griechenland\", \"griechenland\", \"griechenland\", \"griechenland\", \"griechenland\", \"griechenland\", \"griechisch\", \"griechisch\", \"griechisch\", \"griechisch\", \"griechisch\", \"griechisch\", \"griechisch\", \"griechisch\", \"griechisch\", \"griechisch\", \"griss\", \"griss\", \"griss\", \"griss\", \"grodig\", \"grodig\", \"gross\", \"gross\", \"gross\", \"gross\", \"gross\", \"gross\", \"gross\", \"gross\", \"gross\", \"gross\", \"group\", \"group\", \"group\", \"group\", \"group\", \"group\", \"group\", \"group\", \"grozurek\", \"grun\", \"grun\", \"grun\", \"grun\", \"grun\", \"grun\", \"grun\", \"grun\", \"grun\", \"grun\", \"grund\", \"grund\", \"grund\", \"grund\", \"grund\", \"grund\", \"grund\", \"grund\", \"grund\", \"grund\", \"guardiola\", \"guardiola\", \"guardiola\", \"hadi\", \"haft\", \"haft\", \"haft\", \"haft\", \"haft\", \"haft\", \"haft\", \"haft\", \"haftung\", \"haftung\", \"haftung\", \"haftung\", \"haftung\", \"haimbuchn\", \"hakenkreuz\", \"hamilton\", \"hamilton\", \"hamilton\", \"happel\", \"happel\", \"happel\", \"hatt\", \"hatt\", \"hatt\", \"hatt\", \"hatt\", \"hatt\", \"hatt\", \"hatt\", \"hatt\", \"hatt\", \"haupl\", \"haupl\", \"haupl\", \"haupl\", \"haupl\", \"haushalt\", \"haushalt\", \"haushalt\", \"haushalt\", \"haushalt\", \"haushalt\", \"haushalt\", \"haushalt\", \"haushalt\", \"herstell\", \"herstell\", \"herstell\", \"herstell\", \"herstell\", \"herstell\", \"herstell\", \"herstell\", \"herstell\", \"herstell\", \"heta\", \"heta\", \"heta\", \"heut\", \"heut\", \"heut\", \"heut\", \"heut\", \"heut\", \"heut\", \"heut\", \"heut\", \"heut\", \"hilfspaket\", \"hilfspaket\", \"hilfspaket\", \"hilfspaket\", \"hilfsprogramm\", \"hilfsprogramm\", \"hilfsprogramm\", \"hinspiel\", \"hinspiel\", \"hinspiel\", \"hinspiel\", \"hinspiel\", \"hisbollah\", \"hofmann\", \"hofmann\", \"hofmann\", \"hofmann\", \"hofmann\", \"hoh\", \"hoh\", \"hoh\", \"hoh\", \"hoh\", \"hoh\", \"hoh\", \"hoh\", \"hoh\", \"hoh\", \"holding\", \"holding\", \"holding\", \"holding\", \"holding\", \"holding\", \"hongkong\", \"hongkong\", \"hongkong\", \"hongkong\", \"hongkong\", \"houthi\", \"hypo\", \"hypo\", \"hypo\", \"hypo\", \"hypo\", \"idomeni\", \"idomeni\", \"ikea\", \"ikea\", \"ikea\", \"ikea\", \"ikea\", \"ikea\", \"ikea\", \"imm\", \"imm\", \"imm\", \"imm\", \"imm\", \"imm\", \"imm\", \"imm\", \"imm\", \"imm\", \"indi\", \"indi\", \"indi\", \"indi\", \"indi\", \"indi\", \"indi\", \"indi\", \"indi\", \"inflation\", \"inflation\", \"inflation\", \"inflation\", \"inflation\", \"insolvenz\", \"insolvenz\", \"insolvenz\", \"insolvenz\", \"insolvenz\", \"insolvenz\", \"insolvenz\", \"ipad\", \"ipad\", \"ipad\", \"iphon\", \"iphon\", \"iphon\", \"iphon\", \"iphon\", \"iphon\", \"iphon\", \"iphon\", \"iran\", \"iran\", \"iran\", \"iran\", \"iran\", \"iran\", \"iran\", \"iran\", \"iran\", \"iran\", \"irmgard\", \"islam\", \"islam\", \"islam\", \"islam\", \"islam\", \"islam\", \"islam\", \"islam\", \"islam\", \"islam\", \"israel\", \"israel\", \"israel\", \"israel\", \"israel\", \"israel\", \"israel\", \"israel\", \"israel\", \"israel\", \"israelis\", \"jahr\", \"jahr\", \"jahr\", \"jahr\", \"jahr\", \"jahr\", \"jahr\", \"jahr\", \"jahr\", \"jahr\", \"jahresumsatz\", \"jahresvergleich\", \"jahresvergleich\", \"jahresvergleich\", \"jahrig\", \"jahrig\", \"jahrig\", \"jahrig\", \"jahrig\", \"jahrig\", \"jahrig\", \"jahrig\", \"jahrig\", \"jahrig\", \"jakarta\", \"jakarta\", \"japan\", \"japan\", \"japan\", \"japan\", \"japan\", \"japan\", \"japan\", \"japan\", \"japan\", \"japan\", \"jelic\", \"jemenit\", \"jero\", \"jerusal\", \"jerusal\", \"jerusal\", \"jinping\", \"jinping\", \"jinping\", \"jobsuch\", \"jobsuch\", \"judisch\", \"judisch\", \"judisch\", \"judisch\", \"judisch\", \"jugend\", \"jugend\", \"jugend\", \"jugend\", \"jugend\", \"jugend\", \"jugend\", \"jugend\", \"jugend\", \"jugend\", \"junck\", \"junck\", \"junck\", \"juraczka\", \"justizanstalt\", \"juventus\", \"juventus\", \"kainz\", \"kampf\", \"kampf\", \"kampf\", \"kampf\", \"kampf\", \"kampf\", \"kampf\", \"kampf\", \"kampf\", \"kampf\", \"kandidat\", \"kandidat\", \"kandidat\", \"kandidat\", \"kandidat\", \"kandidat\", \"kandidat\", \"kandidat\", \"kandidat\", \"kandidat\", \"kandidatur\", \"kandidatur\", \"kandidatur\", \"kandidi\", \"kandidi\", \"kapitalerhoh\", \"kapitalerhoh\", \"kayod\", \"keita\", \"keita\", \"keita\", \"khol\", \"khol\", \"khol\", \"kiew\", \"kiew\", \"kiew\", \"kiew\", \"kiew\", \"kiew\", \"kiew\", \"kind\", \"kind\", \"kind\", \"kind\", \"kind\", \"kind\", \"kind\", \"kind\", \"kind\", \"kind\", \"klavi\", \"klavi\", \"klein\", \"klein\", \"klein\", \"klein\", \"klein\", \"klein\", \"klein\", \"klein\", \"klein\", \"klein\", \"klubchef\", \"klubchef\", \"klubchef\", \"koalition\", \"koalition\", \"koalition\", \"koalition\", \"koalition\", \"koalition\", \"koalition\", \"kommission\", \"kommission\", \"kommission\", \"kommission\", \"kommission\", \"kommission\", \"kommission\", \"kommission\", \"kommission\", \"kommission\", \"kompliz\", \"komponist\", \"komponist\", \"komponist\", \"komponist\", \"konjunktur\", \"konjunktur\", \"konjunktur\", \"konjunktur\", \"konjunktur\", \"konjunktur\", \"konjunktur\", \"konkur\", \"konkur\", \"konkur\", \"konnt\", \"konnt\", \"konnt\", \"konnt\", \"konnt\", \"konnt\", \"konnt\", \"konnt\", \"konnt\", \"konnt\", \"konsortium\", \"konsortium\", \"konsortium\", \"konz\", \"konz\", \"konz\", \"konz\", \"konz\", \"konz\", \"konz\", \"konz\", \"konz\", \"konz\", \"kosovar\", \"kosovo\", \"kosovo\", \"krankenhaus\", \"krankenhaus\", \"krankenhaus\", \"krankenhaus\", \"krankenhaus\", \"krankenhaus\", \"krankenhaus\", \"krankenhaus\", \"krankenhaus\", \"krankenhaus\", \"krim\", \"krim\", \"krim\", \"kriminalist\", \"kroati\", \"kroati\", \"kroati\", \"kroati\", \"kroati\", \"kroati\", \"kroati\", \"kroati\", \"kroati\", \"kroatisch\", \"kroatisch\", \"kroatisch\", \"kroatisch\", \"kroatisch\", \"kroatisch\", \"kroatisch\", \"kroatisch\", \"kund\", \"kund\", \"kund\", \"kund\", \"kund\", \"kund\", \"kund\", \"kund\", \"kund\", \"kund\", \"kunst\", \"kunst\", \"kunst\", \"kunst\", \"kunst\", \"kunst\", \"kunst\", \"kunst\", \"kunstl\", \"kunstl\", \"kunstl\", \"kunstl\", \"kunstl\", \"kunstl\", \"kunstl\", \"kunstlerin\", \"kunstwerk\", \"kunstwerk\", \"kunstwerk\", \"kunstwerk\", \"kunstwerk\", \"labour\", \"land\", \"land\", \"land\", \"land\", \"land\", \"land\", \"land\", \"land\", \"land\", \"land\", \"landeshauptmann\", \"landeshauptmann\", \"landeshauptmann\", \"landeshauptmann\", \"landeshauptmann\", \"landeshauptmann\", \"landeshauptmann\", \"landtagswahl\", \"lang\", \"lang\", \"lang\", \"lang\", \"lang\", \"lang\", \"lang\", \"lang\", \"lang\", \"lang\", \"lask\", \"lask\", \"laut\", \"laut\", \"laut\", \"laut\", \"laut\", \"laut\", \"laut\", \"laut\", \"laut\", \"laut\", \"leaf\", \"leagu\", \"leagu\", \"leagu\", \"leagu\", \"leagu\", \"leagu\", \"leagu\", \"leagu\", \"leb\", \"leb\", \"leb\", \"leb\", \"leb\", \"leb\", \"leb\", \"leb\", \"leb\", \"leb\", \"lebensgefahr\", \"lebensgefahr\", \"lebensgefahr\", \"leic\", \"leic\", \"leich\", \"leich\", \"leich\", \"leich\", \"leich\", \"leich\", \"leich\", \"leich\", \"lektur\", \"leverkus\", \"leverkus\", \"leverkus\", \"leverkus\", \"liegenschaft\", \"liegenschaft\", \"liegt\", \"liegt\", \"liegt\", \"liegt\", \"liegt\", \"liegt\", \"liegt\", \"liegt\", \"liegt\", \"liegt\", \"linux\", \"linux\", \"linux\", \"literar\", \"literatur\", \"literatur\", \"literatur\", \"liverpool\", \"liverpool\", \"lobbyist\", \"lobbyist\", \"lohn\", \"lohn\", \"lohn\", \"lohn\", \"lohn\", \"lohn\", \"lohn\", \"lohn\", \"lohn\", \"lohn\", \"lohnnebenkost\", \"lohnnebenkost\", \"lopatka\", \"lopatka\", \"lopatka\", \"lopatka\", \"luftangriff\", \"luftangriff\", \"luftangriff\", \"luftangriff\", \"lufthansa\", \"lufthansa\", \"lufthansa\", \"lufthansa\", \"lufthansa\", \"lufthansa\", \"lumia\", \"macht\", \"macht\", \"macht\", \"macht\", \"macht\", \"macht\", \"macht\", \"macht\", \"macht\", \"macht\", \"madch\", \"madch\", \"madch\", \"madch\", \"madch\", \"madch\", \"madch\", \"madch\", \"madrid\", \"madrid\", \"madrid\", \"madrid\", \"madrid\", \"madrid\", \"madrid\", \"madrid\", \"madrid\", \"madrid\", \"manch\", \"manch\", \"manch\", \"manch\", \"manch\", \"manch\", \"manch\", \"manch\", \"manch\", \"mandant\", \"mandant\", \"mandant\", \"mandant\", \"mandant\", \"mandat\", \"mandat\", \"mandat\", \"mandat\", \"mandat\", \"mandat\", \"mann\", \"mann\", \"mann\", \"mann\", \"mann\", \"mann\", \"mann\", \"mann\", \"mann\", \"mann\", \"mannch\", \"mannch\", \"mannch\", \"mannch\", \"mannch\", \"mannch\", \"mannch\", \"mannschaft\", \"mannschaft\", \"mannschaft\", \"mannschaft\", \"mannschaft\", \"mannschaft\", \"mannschaft\", \"mapl\", \"mapl\", \"mark\", \"mark\", \"mark\", \"mark\", \"mark\", \"mark\", \"mark\", \"mark\", \"mark\", \"mark\", \"market\", \"market\", \"market\", \"market\", \"markt\", \"markt\", \"markt\", \"markt\", \"markt\", \"markt\", \"markt\", \"markt\", \"markt\", \"markt\", \"mathemat\", \"mathemat\", \"mathemat\", \"mathemat\", \"mathemat\", \"mathemat\", \"mathemat\", \"mathemat\", \"mattersburg\", \"mattersburg\", \"mattersburg\", \"mattersburg\", \"mattersburg\", \"mattersburg\", \"maur\", \"maur\", \"maur\", \"mazedon\", \"mazedon\", \"mazedon\", \"mazedoni\", \"mazedoni\", \"mazedoni\", \"mazedoni\", \"mazedoni\", \"mazedoni\", \"megapixel\", \"mehrheit\", \"mehrheit\", \"mehrheit\", \"mehrheit\", \"mehrheit\", \"mehrheit\", \"mehrheit\", \"mehrheit\", \"mehrheit\", \"mehrheit\", \"melz\", \"melz\", \"melz\", \"melz\", \"mensch\", \"mensch\", \"mensch\", \"mensch\", \"mensch\", \"mensch\", \"mensch\", \"mensch\", \"mensch\", \"mensch\", \"messeng\", \"met\", \"met\", \"met\", \"met\", \"met\", \"met\", \"met\", \"met\", \"met\", \"met\", \"meteorologi\", \"microsoft\", \"microsoft\", \"microsoft\", \"microsoft\", \"microsoft\", \"microsoft\", \"microsoft\", \"migrant\", \"migrant\", \"migrant\", \"migrant\", \"migrant\", \"migrant\", \"migrant\", \"migrant\", \"migrant\", \"milliard\", \"milliard\", \"milliard\", \"milliard\", \"milliard\", \"milliard\", \"milliard\", \"milliard\", \"milliard\", \"milliard\", \"million\", \"million\", \"million\", \"million\", \"million\", \"million\", \"million\", \"million\", \"million\", \"million\", \"mindestlohn\", \"mindestlohn\", \"minus\", \"minus\", \"minus\", \"minus\", \"minus\", \"minus\", \"minus\", \"minus\", \"minus\", \"minut\", \"minut\", \"minut\", \"minut\", \"minut\", \"minut\", \"minut\", \"minut\", \"minut\", \"minut\", \"mitarbeit\", \"mitarbeit\", \"mitarbeit\", \"mitarbeit\", \"mitarbeit\", \"mitarbeit\", \"mitarbeit\", \"mitarbeit\", \"mitarbeit\", \"mitarbeit\", \"mittelschicht\", \"mittelschicht\", \"mitterlehn\", \"mitterlehn\", \"mitterlehn\", \"mitterlehn\", \"mitterlehn\", \"mitterlehn\", \"mitterlehn\", \"mitterlehn\", \"mobil\", \"mobil\", \"mobil\", \"mobil\", \"mobil\", \"mobil\", \"mobil\", \"mobil\", \"mobil\", \"mobil\", \"moglich\", \"moglich\", \"moglich\", \"moglich\", \"moglich\", \"moglich\", \"moglich\", \"moglich\", \"moglich\", \"moglich\", \"molenbeek\", \"molenbeek\", \"mord\", \"mord\", \"mord\", \"mord\", \"mord\", \"mord\", \"mord\", \"moskau\", \"moskau\", \"moskau\", \"moskau\", \"moskau\", \"moskau\", \"moskau\", \"moskau\", \"moskau\", \"moskau\", \"moskaus\", \"moskaus\", \"moskaus\", \"motor\", \"motor\", \"motor\", \"motor\", \"motor\", \"motor\", \"motor\", \"motor\", \"motor\", \"motor\", \"mozart\", \"munch\", \"munch\", \"munch\", \"munch\", \"munch\", \"munch\", \"munch\", \"munch\", \"munch\", \"munch\", \"murray\", \"murray\", \"murray\", \"museum\", \"museum\", \"museum\", \"museum\", \"museum\", \"museum\", \"museum\", \"museum\", \"musik\", \"musik\", \"musik\", \"musik\", \"musik\", \"musik\", \"musik\", \"musik\", \"musik\", \"musikal\", \"musikal\", \"musikal\", \"musikal\", \"muss\", \"muss\", \"muss\", \"muss\", \"muss\", \"muss\", \"muss\", \"muss\", \"muss\", \"muss\", \"mutmass\", \"mutmass\", \"mutmass\", \"mutmass\", \"mutmass\", \"mutmass\", \"mutmass\", \"mutmass\", \"mutmass\", \"nadal\", \"nationalrat\", \"nationalrat\", \"nationalrat\", \"nationalrat\", \"nationalrat\", \"nationalrat\", \"natur\", \"natur\", \"natur\", \"natur\", \"natur\", \"natur\", \"natur\", \"natur\", \"natur\", \"natur\", \"neos\", \"neos\", \"neos\", \"neos\", \"neos\", \"netanjahu\", \"neu\", \"neu\", \"neu\", \"neu\", \"neu\", \"neu\", \"neu\", \"neu\", \"neu\", \"neu\", \"nexus\", \"nexus\", \"neymar\", \"nickelsdorf\", \"nickelsdorf\", \"nickelsdorf\", \"nickelsdorf\", \"nico\", \"nico\", \"niedrig\", \"niedrig\", \"niedrig\", \"niedrig\", \"niedrig\", \"niedrig\", \"niedrig\", \"niedrig\", \"niedrig\", \"niedrig\", \"niessl\", \"niessl\", \"niessl\", \"notenbank\", \"notenbank\", \"notenbank\", \"notenbank\", \"notenbank\", \"notenbank\", \"notenbank\", \"novota\", \"nusra\", \"nutz\", \"nutz\", \"nutz\", \"nutz\", \"nutz\", \"nutz\", \"nutz\", \"nutz\", \"nutz\", \"nutz\", \"obama\", \"obama\", \"obama\", \"obama\", \"obama\", \"obama\", \"obama\", \"obama\", \"obamas\", \"obduktion\", \"oecd\", \"oecd\", \"oecd\", \"oecd\", \"oecd\", \"offshor\", \"offshor\", \"offshor\", \"okonom\", \"okonom\", \"okonom\", \"okonom\", \"okonom\", \"okonom\", \"okonom\", \"okonom\", \"okonom\", \"okonom\", \"olpreis\", \"olpreis\", \"olpreis\", \"olpreis\", \"olpreis\", \"open\", \"open\", \"open\", \"open\", \"open\", \"open\", \"open\", \"open\", \"operativ\", \"operativ\", \"operativ\", \"operativ\", \"operativ\", \"operativ\", \"operativ\", \"opf\", \"opf\", \"opf\", \"opf\", \"opf\", \"opf\", \"opf\", \"opf\", \"opf\", \"opf\", \"osterreich\", \"osterreich\", \"osterreich\", \"osterreich\", \"osterreich\", \"osterreich\", \"osterreich\", \"osterreich\", \"osterreich\", \"osterreich\", \"osz\", \"palastinens\", \"palastinens\", \"panama\", \"panama\", \"panama\", \"panama\", \"panama\", \"panama\", \"panama\", \"panama\", \"panama\", \"parlament\", \"parlament\", \"parlament\", \"parlament\", \"parlament\", \"parlament\", \"parlament\", \"parlament\", \"parlament\", \"parlament\", \"partei\", \"partei\", \"partei\", \"partei\", \"partei\", \"partei\", \"partei\", \"partei\", \"partei\", \"partei\", \"parteichef\", \"parteichef\", \"parteichef\", \"parteichef\", \"parteichef\", \"parteichef\", \"parteitag\", \"parteitag\", \"parti\", \"parti\", \"parti\", \"parti\", \"parti\", \"parti\", \"parti\", \"pavelic\", \"peking\", \"peking\", \"peking\", \"peking\", \"peking\", \"peking\", \"peking\", \"peskow\", \"peskow\", \"petsos\", \"pfeifenberg\", \"pfeiff\", \"pfeiff\", \"pfeiff\", \"pfeiff\", \"pfeiff\", \"philosoph\", \"philosoph\", \"philosoph\", \"philosoph\", \"philosoph\", \"phon\", \"physik\", \"physik\", \"physik\", \"physik\", \"physik\", \"physik\", \"physik\", \"physik\", \"pjongjang\", \"platz\", \"platz\", \"platz\", \"platz\", \"platz\", \"platz\", \"platz\", \"platz\", \"platz\", \"platz\", \"plus\", \"plus\", \"plus\", \"plus\", \"plus\", \"plus\", \"plus\", \"plus\", \"plus\", \"plus\", \"podemos\", \"polit\", \"polit\", \"polit\", \"polit\", \"polit\", \"polit\", \"polit\", \"polit\", \"polit\", \"polit\", \"polizei\", \"polizei\", \"polizei\", \"polizei\", \"polizei\", \"polizei\", \"polizei\", \"polizei\", \"polizei\", \"polizei\", \"polizist\", \"polizist\", \"polizist\", \"polizist\", \"polizist\", \"polizist\", \"polizist\", \"polizist\", \"porsch\", \"porsch\", \"porsch\", \"porsch\", \"porsch\", \"porsch\", \"porsch\", \"prasident\", \"prasident\", \"prasident\", \"prasident\", \"prasident\", \"prasident\", \"prasident\", \"prasident\", \"prasident\", \"prasident\", \"praterst\", \"produktivitat\", \"produktivitat\", \"produktivitat\", \"produktivitat\", \"prosen\", \"provision\", \"provision\", \"prozent\", \"prozent\", \"prozent\", \"prozent\", \"prozent\", \"prozent\", \"prozent\", \"prozent\", \"prozent\", \"prozent\", \"prozentpunkt\", \"prozentpunkt\", \"prozentpunkt\", \"prozentpunkt\", \"prozentpunkt\", \"prozessor\", \"prozessor\", \"prozessor\", \"psychiatr\", \"psychiatr\", \"psychiatr\", \"puhring\", \"punkt\", \"punkt\", \"punkt\", \"punkt\", \"punkt\", \"punkt\", \"punkt\", \"punkt\", \"punkt\", \"punkt\", \"radkersburg\", \"radkersburg\", \"rapid\", \"rapid\", \"rapid\", \"rapid\", \"rapid\", \"rapid\", \"rapid\", \"rapid\", \"rapid\", \"razzi\", \"real\", \"real\", \"real\", \"real\", \"real\", \"real\", \"real\", \"real\", \"real\", \"real\", \"rebell\", \"rebell\", \"rebell\", \"rebell\", \"rebell\", \"rebell\", \"rebell\", \"recht\", \"recht\", \"recht\", \"recht\", \"recht\", \"recht\", \"recht\", \"recht\", \"recht\", \"recht\", \"rechtlich\", \"rechtlich\", \"rechtlich\", \"rechtlich\", \"rechtlich\", \"rechtlich\", \"rechtlich\", \"rechtlich\", \"rechtlich\", \"rechtlich\", \"regier\", \"regier\", \"regier\", \"regier\", \"regier\", \"regier\", \"regier\", \"regier\", \"regier\", \"regier\", \"renault\", \"renault\", \"renault\", \"renault\", \"republikan\", \"republikan\", \"republikan\", \"republikan\", \"republikan\", \"republikan\", \"ried\", \"ried\", \"ried\", \"ried\", \"ried\", \"ronaldo\", \"ronaldo\", \"rousseff\", \"ruckgang\", \"ruckgang\", \"ruckgang\", \"ruckgang\", \"ruckgang\", \"ruckgang\", \"ruckgang\", \"ruckgang\", \"ruckgang\", \"ruckgang\", \"ruckstell\", \"rund\", \"rund\", \"rund\", \"rund\", \"rund\", \"rund\", \"rund\", \"rund\", \"rund\", \"rund\", \"russisch\", \"russisch\", \"russisch\", \"russisch\", \"russisch\", \"russisch\", \"russisch\", \"russisch\", \"russisch\", \"russisch\", \"russland\", \"russland\", \"russland\", \"russland\", \"russland\", \"russland\", \"russland\", \"russland\", \"russland\", \"russland\", \"sagt\", \"sagt\", \"sagt\", \"sagt\", \"sagt\", \"sagt\", \"sagt\", \"sagt\", \"sagt\", \"sagt\", \"saison\", \"saison\", \"saison\", \"saison\", \"saison\", \"saison\", \"saison\", \"saison\", \"saison\", \"salzburg\", \"salzburg\", \"salzburg\", \"salzburg\", \"salzburg\", \"salzburg\", \"salzburg\", \"salzburg\", \"salzburg\", \"salzburg\", \"sammelstell\", \"sammelstell\", \"sammelstell\", \"sammelstell\", \"sammelstell\", \"samstag\", \"samstag\", \"samstag\", \"samstag\", \"samstag\", \"samstag\", \"samstag\", \"samstag\", \"samstag\", \"samstag\", \"samsung\", \"samsung\", \"samsung\", \"samsung\", \"samsung\", \"samsung\", \"samsung\", \"sanaa\", \"sanier\", \"sanier\", \"sanier\", \"sanier\", \"sanier\", \"sanier\", \"satellit\", \"satellit\", \"satellit\", \"satellit\", \"satellit\", \"satellit\", \"satellit\", \"satz\", \"satz\", \"satz\", \"satz\", \"satz\", \"satz\", \"satz\", \"satz\", \"satz\", \"schalk\", \"schalk\", \"schalk\", \"schaub\", \"schaubl\", \"schaubl\", \"schaubl\", \"schnitt\", \"schnitt\", \"schnitt\", \"schnitt\", \"schnitt\", \"schnitt\", \"schnitt\", \"schnitt\", \"schnitt\", \"schnitt\", \"schobesberg\", \"schobesberg\", \"schoffensenat\", \"schoffensenat\", \"schon\", \"schon\", \"schon\", \"schon\", \"schon\", \"schon\", \"schon\", \"schon\", \"schon\", \"schon\", \"schottel\", \"schrumpf\", \"schrumpf\", \"schrumpf\", \"schuldspruch\", \"schwer\", \"schwer\", \"schwer\", \"schwer\", \"schwer\", \"schwer\", \"schwer\", \"schwer\", \"schwer\", \"schwer\", \"sehnsucht\", \"sehnsucht\", \"seien\", \"seien\", \"seien\", \"seien\", \"seien\", \"seien\", \"seien\", \"seien\", \"seien\", \"seien\", \"seit\", \"seit\", \"seit\", \"seit\", \"seit\", \"seit\", \"seit\", \"seit\", \"seit\", \"seit\", \"serbi\", \"serbi\", \"serbi\", \"serbi\", \"serbi\", \"serbi\", \"serbi\", \"serbi\", \"serbisch\", \"serbisch\", \"serbisch\", \"serbisch\", \"serbisch\", \"serbisch\", \"sevilla\", \"sevilla\", \"sevilla\", \"sexuell\", \"sexuell\", \"sexuell\", \"sexuell\", \"sexuell\", \"sexuell\", \"sexuell\", \"shanghai\", \"shanghai\", \"shanghai\", \"shark\", \"sieg\", \"sieg\", \"sieg\", \"sieg\", \"sieg\", \"sieg\", \"sieg\", \"sieg\", \"sieg\", \"sieg\", \"silvesternacht\", \"silvesternacht\", \"silvesternacht\", \"silvesternacht\", \"slalom\", \"slalom\", \"slam\", \"slowen\", \"slowen\", \"slowen\", \"slowen\", \"slowen\", \"sloweni\", \"sloweni\", \"sloweni\", \"sloweni\", \"sloweni\", \"sloweni\", \"sloweni\", \"sloweni\", \"sloweni\", \"sloweni\", \"smartphon\", \"smartphon\", \"smartphon\", \"smartphon\", \"smartphon\", \"smartphon\", \"smartphon\", \"smartphon\", \"smartphon\", \"smartphon\", \"snapdragon\", \"softwar\", \"softwar\", \"softwar\", \"softwar\", \"softwar\", \"softwar\", \"softwar\", \"softwar\", \"softwar\", \"softwar\", \"soll\", \"soll\", \"soll\", \"soll\", \"soll\", \"soll\", \"soll\", \"soll\", \"soll\", \"soll\", \"sonderzug\", \"sonderzug\", \"sonderzug\", \"song\", \"song\", \"song\", \"song\", \"song\", \"sonn\", \"sonn\", \"sonn\", \"sonn\", \"sonn\", \"sonn\", \"sonn\", \"sonn\", \"sonn\", \"sonn\", \"sonntag\", \"sonntag\", \"sonntag\", \"sonntag\", \"sonntag\", \"sonntag\", \"sonntag\", \"sonntag\", \"sonntag\", \"sonntag\", \"sony\", \"sony\", \"sony\", \"soriano\", \"soriano\", \"soriano\", \"sowi\", \"sowi\", \"sowi\", \"sowi\", \"sowi\", \"sowi\", \"sowi\", \"sowi\", \"sowi\", \"sowi\", \"spiel\", \"spiel\", \"spiel\", \"spiel\", \"spiel\", \"spiel\", \"spiel\", \"spiel\", \"spiel\", \"spiel\", \"spielfeld\", \"spielfeld\", \"spielfeld\", \"spielfeld\", \"spielfeld\", \"spielfeld\", \"spielfeld\", \"spielfeld\", \"spotify\", \"sprachkurs\", \"sprachkurs\", \"sprachkurs\", \"staat\", \"staat\", \"staat\", \"staat\", \"staat\", \"staat\", \"staat\", \"staat\", \"staat\", \"staat\", \"staatsanwalt\", \"staatsanwalt\", \"staatsanwalt\", \"staatsanwalt\", \"staatsanwalt\", \"staatsanwalt\", \"staatsanwaltin\", \"staatsanwaltin\", \"stadion\", \"stadion\", \"stadion\", \"stadion\", \"stadion\", \"stadion\", \"stadion\", \"stadt\", \"stadt\", \"stadt\", \"stadt\", \"stadt\", \"stadt\", \"stadt\", \"stadt\", \"stadt\", \"stadt\", \"stadtrat\", \"standard\", \"standard\", \"standard\", \"standard\", \"standard\", \"standard\", \"standard\", \"standard\", \"standard\", \"standard\", \"standort\", \"standort\", \"standort\", \"standort\", \"standort\", \"standort\", \"standort\", \"standort\", \"standort\", \"standort\", \"stangl\", \"stark\", \"stark\", \"stark\", \"stark\", \"stark\", \"stark\", \"stark\", \"stark\", \"stark\", \"stark\", \"statist\", \"statist\", \"statist\", \"statist\", \"statist\", \"statist\", \"statist\", \"statist\", \"statist\", \"statist\", \"steht\", \"steht\", \"steht\", \"steht\", \"steht\", \"steht\", \"steht\", \"steht\", \"steht\", \"steht\", \"stenzel\", \"steueroas\", \"steueroas\", \"steueroas\", \"steuerreform\", \"steuerreform\", \"steuerreform\", \"steuerreform\", \"steuerreform\", \"steuerreform\", \"stichwahl\", \"stichwahl\", \"stichwahl\", \"stimm\", \"stimm\", \"stimm\", \"stimm\", \"stimm\", \"stimm\", \"stimm\", \"stimm\", \"stimm\", \"stimm\", \"stok\", \"strach\", \"strach\", \"strach\", \"strach\", \"strach\", \"strach\", \"strach\", \"strebing\", \"strolz\", \"stronach\", \"stronach\", \"stronach\", \"stronach\", \"studi\", \"studi\", \"studi\", \"studi\", \"studi\", \"studi\", \"studi\", \"studi\", \"studi\", \"studi\", \"sturm\", \"sturm\", \"sturm\", \"sturm\", \"sturm\", \"sturm\", \"sturm\", \"sturm\", \"sturm\", \"sturm\", \"suarez\", \"suarez\", \"syri\", \"syri\", \"syri\", \"syri\", \"syri\", \"syri\", \"syri\", \"syri\", \"syri\", \"syri\", \"syrisch\", \"syrisch\", \"syrisch\", \"syrisch\", \"syrisch\", \"syrisch\", \"syriza\", \"syriza\", \"tablet\", \"tablet\", \"tablet\", \"tablet\", \"tablet\", \"tablet\", \"tablet\", \"taiwan\", \"taiwan\", \"taliban\", \"taliban\", \"taliban\", \"tampa\", \"tat\", \"tat\", \"tat\", \"tat\", \"tat\", \"tat\", \"tat\", \"tat\", \"tat\", \"tat\", \"tatort\", \"tatort\", \"tatort\", \"tatort\", \"tatort\", \"tatort\", \"tatverdacht\", \"tatverdacht\", \"team\", \"team\", \"team\", \"team\", \"team\", \"team\", \"team\", \"team\", \"team\", \"team\", \"teilzeit\", \"teilzeit\", \"teilzeit\", \"telekom\", \"telekom\", \"telekom\", \"telekom\", \"telekom\", \"tempelberg\", \"temperatur\", \"temperatur\", \"temperatur\", \"temperatur\", \"temperatur\", \"temperatur\", \"temperatur\", \"temperatur\", \"temperatur\", \"temperatur\", \"tennis\", \"tennis\", \"tesla\", \"tesla\", \"tesla\", \"tesla\", \"tesla\", \"tesla\", \"tesla\", \"tesla\", \"teuer\", \"teuer\", \"thiem\", \"thiem\", \"tiebreak\", \"tier\", \"tier\", \"tier\", \"tier\", \"tier\", \"tier\", \"tier\", \"tier\", \"tier\", \"tokio\", \"tokio\", \"tokio\", \"tokio\", \"tokio\", \"tokio\", \"tokio\", \"tomi\", \"topgesetzt\", \"tor\", \"tor\", \"tor\", \"tor\", \"tor\", \"tor\", \"tor\", \"tor\", \"tor\", \"toronto\", \"toronto\", \"tot\", \"tot\", \"tot\", \"tot\", \"tot\", \"tot\", \"tot\", \"tot\", \"tot\", \"tot\", \"tottenham\", \"toyota\", \"toyota\", \"toyota\", \"train\", \"train\", \"train\", \"train\", \"train\", \"train\", \"train\", \"train\", \"train\", \"train\", \"transaktion\", \"transaktion\", \"transitland\", \"treff\", \"treff\", \"treff\", \"treff\", \"treff\", \"treff\", \"treff\", \"treff\", \"treff\", \"treff\", \"tribunal\", \"tribunal\", \"tribunal\", \"trump\", \"trump\", \"trump\", \"trump\", \"trump\", \"trump\", \"tsipras\", \"tsipras\", \"tsipras\", \"tsipras\", \"tsipras\", \"ttip\", \"ttip\", \"ttip\", \"ttip\", \"ttip\", \"ttip\", \"ttip\", \"ttip\", \"turkei\", \"turkei\", \"turkei\", \"turkei\", \"turkei\", \"turkei\", \"turkei\", \"turkei\", \"turkei\", \"turkei\", \"turkisch\", \"turkisch\", \"turkisch\", \"turkisch\", \"turkisch\", \"turkisch\", \"turkisch\", \"turkisch\", \"turkisch\", \"turkisch\", \"uberfahrt\", \"uberfahrt\", \"uberfahrt\", \"ubergriff\", \"ubergriff\", \"ubergriff\", \"ubergriff\", \"ubergriff\", \"ubergriff\", \"ubergriff\", \"uberstellt\", \"uberstund\", \"uberstund\", \"uberstund\", \"uberstund\", \"uberstund\", \"ukrain\", \"ukrain\", \"ukrain\", \"ukrain\", \"ukrain\", \"ukrain\", \"ukrain\", \"ukrain\", \"ukrain\", \"ukrain\", \"umsatz\", \"umsatz\", \"umsatz\", \"umsatz\", \"umsatz\", \"umsatz\", \"umsatz\", \"umsatz\", \"umweltbehord\", \"umweltbehord\", \"umweltbehord\", \"umweltbehord\", \"unfall\", \"unfall\", \"unfall\", \"unfall\", \"unfall\", \"unfall\", \"unfall\", \"unfall\", \"unfall\", \"ungar\", \"ungar\", \"ungar\", \"ungar\", \"ungar\", \"ungar\", \"ungar\", \"ungar\", \"ungar\", \"ungarn\", \"ungarn\", \"ungarn\", \"ungarn\", \"ungarn\", \"ungarn\", \"ungarn\", \"ungarn\", \"ungarn\", \"ungarn\", \"unicredit\", \"united\", \"united\", \"united\", \"united\", \"united\", \"united\", \"universitat\", \"universitat\", \"universitat\", \"universitat\", \"universitat\", \"universitat\", \"universitat\", \"universitat\", \"universitat\", \"universitat\", \"university\", \"university\", \"university\", \"university\", \"university\", \"university\", \"university\", \"university\", \"university\", \"unternehm\", \"unternehm\", \"unternehm\", \"unternehm\", \"unternehm\", \"unternehm\", \"unternehm\", \"unternehm\", \"unternehm\", \"unternehm\", \"updat\", \"updat\", \"updat\", \"updat\", \"updat\", \"updat\", \"urauffuhr\", \"urauffuhr\", \"user\", \"user\", \"user\", \"user\", \"user\", \"user\", \"user\", \"user\", \"varoufakis\", \"varoufakis\", \"varoufakis\", \"vassilakou\", \"vassilakou\", \"vassilakou\", \"vastic\", \"vastic\", \"venuto\", \"verdacht\", \"verdacht\", \"verdacht\", \"verdacht\", \"verdacht\", \"verdacht\", \"verdacht\", \"verdacht\", \"verdacht\", \"verdacht\", \"verfug\", \"verfug\", \"verfug\", \"verfug\", \"verfug\", \"verfug\", \"verfug\", \"verfug\", \"verfug\", \"verfug\", \"vergang\", \"vergang\", \"vergang\", \"vergang\", \"vergang\", \"vergang\", \"vergang\", \"vergang\", \"vergang\", \"vergang\", \"vergewalt\", \"vergewalt\", \"vergewalt\", \"vergewalt\", \"vergewaltigt\", \"vergewaltigt\", \"vergewaltigt\", \"vergewaltigt\", \"verkauf\", \"verkauf\", \"verkauf\", \"verkauf\", \"verkauf\", \"verkauf\", \"verkauf\", \"verkauf\", \"verkauf\", \"verkauf\", \"verletzt\", \"verletzt\", \"verletzt\", \"verletzt\", \"verletzt\", \"verletzt\", \"verletzt\", \"verletzt\", \"verletzt\", \"verletzt\", \"versicher\", \"versicher\", \"versicher\", \"versicher\", \"versicher\", \"versicher\", \"versicher\", \"version\", \"version\", \"version\", \"version\", \"version\", \"version\", \"version\", \"version\", \"version\", \"verurteilt\", \"verurteilt\", \"verurteilt\", \"verurteilt\", \"verurteilt\", \"verurteilt\", \"verurteilt\", \"verurteilt\", \"verurteilt\", \"vettel\", \"vidal\", \"viel\", \"viel\", \"viel\", \"viel\", \"viel\", \"viel\", \"viel\", \"viel\", \"viel\", \"viel\", \"vier\", \"vier\", \"vier\", \"vier\", \"vier\", \"vier\", \"vier\", \"vier\", \"vier\", \"vier\", \"volkspartei\", \"volksrepubl\", \"volksrepubl\", \"volksrepubl\", \"volksrepubl\", \"volkswag\", \"volkswag\", \"volkswag\", \"volkswag\", \"volkswag\", \"volkswag\", \"volkswag\", \"volkswag\", \"volltext\", \"volltext\", \"volltext\", \"volltext\", \"vollzug\", \"vollzug\", \"vollzug\", \"vorfall\", \"vorfall\", \"vorfall\", \"vorfall\", \"vorfall\", \"vorfall\", \"vorfall\", \"vorfall\", \"vorfall\", \"vorfall\", \"vorjahr\", \"vorjahr\", \"vorjahr\", \"vorjahr\", \"vorjahr\", \"vorjahr\", \"vorjahr\", \"vorjahr\", \"vorjahr\", \"vorjahr\", \"vormonat\", \"vorstand\", \"vorstand\", \"vorstand\", \"vorstand\", \"vorstand\", \"vorstand\", \"vorstand\", \"vorstand\", \"vorstand\", \"vov\", \"wachstum\", \"wachstum\", \"wachstum\", \"wachstum\", \"wachstum\", \"wachstum\", \"wachstum\", \"wachstum\", \"wachstum\", \"wack\", \"wack\", \"wack\", \"wahl\", \"wahl\", \"wahl\", \"wahl\", \"wahl\", \"wahl\", \"wahl\", \"wahl\", \"wahl\", \"wahl\", \"wahlergebnis\", \"wahlkampf\", \"wahlkampf\", \"wahlkampf\", \"wahlkampf\", \"wahlkampf\", \"wahlkampf\", \"wahlkampf\", \"wahlkart\", \"wahlkart\", \"wang\", \"wang\", \"wang\", \"wang\", \"watford\", \"watford\", \"webstandard\", \"weg\", \"weg\", \"weg\", \"weg\", \"weg\", \"weg\", \"weg\", \"weg\", \"weg\", \"weg\", \"weit\", \"weit\", \"weit\", \"weit\", \"weit\", \"weit\", \"weit\", \"weit\", \"weit\", \"weit\", \"weiterbild\", \"weiterbild\", \"welt\", \"welt\", \"welt\", \"welt\", \"welt\", \"welt\", \"welt\", \"welt\", \"welt\", \"welt\", \"weltcup\", \"weltcup\", \"weltcup\", \"weltweit\", \"weltweit\", \"weltweit\", \"weltweit\", \"weltweit\", \"weltweit\", \"weltweit\", \"weltweit\", \"weltweit\", \"weltweit\", \"wenig\", \"wenig\", \"wenig\", \"wenig\", \"wenig\", \"wenig\", \"wenig\", \"wenig\", \"wenig\", \"wenig\", \"werk\", \"werk\", \"werk\", \"werk\", \"werk\", \"werk\", \"werk\", \"werk\", \"werk\", \"werk\", \"westjordanland\", \"wien\", \"wien\", \"wien\", \"wien\", \"wien\", \"wien\", \"wien\", \"wien\", \"wien\", \"wien\", \"wifo\", \"wifo\", \"wifo\", \"wimbledon\", \"windows\", \"windows\", \"windows\", \"windows\", \"windows\", \"wirtschaft\", \"wirtschaft\", \"wirtschaft\", \"wirtschaft\", \"wirtschaft\", \"wirtschaft\", \"wirtschaft\", \"wirtschaft\", \"wirtschaft\", \"wirtschaft\", \"wissenschaft\", \"wissenschaft\", \"wissenschaft\", \"wissenschaft\", \"wissenschaft\", \"wissenschaft\", \"wissenschaft\", \"wissenschaft\", \"wissenschaft\", \"wissenschaft\", \"wlan\", \"wlan\", \"wlan\", \"wlan\", \"wolfsberg\", \"wolfsberg\", \"wolfsberg\", \"wolfsberg\", \"wolfsberg\", \"word\", \"word\", \"word\", \"word\", \"word\", \"word\", \"word\", \"word\", \"word\", \"word\", \"yuan\", \"zahl\", \"zahl\", \"zahl\", \"zahl\", \"zahl\", \"zahl\", \"zahl\", \"zahl\", \"zahl\", \"zahl\", \"zamg\", \"zamg\", \"zaun\", \"zaun\", \"zaun\", \"zaun\", \"zaun\", \"zaun\", \"zaun\", \"zaun\", \"zaun\", \"zeidl\", \"zeit\", \"zeit\", \"zeit\", \"zeit\", \"zeit\", \"zeit\", \"zeit\", \"zeit\", \"zeit\", \"zeit\", \"zeitgeschicht\", \"zeugin\", \"zielpunkt\", \"zielpunkt\", \"zufolg\", \"zufolg\", \"zufolg\", \"zufolg\", \"zufolg\", \"zufolg\", \"zufolg\", \"zufolg\", \"zufolg\", \"zufolg\", \"zuwach\", \"zuwach\", \"zuwach\", \"zuwach\", \"zuwach\", \"zuwach\", \"zuwachs\", \"zuwachs\", \"zuwachs\", \"zuwachs\", \"zuwachs\", \"zwei\", \"zwei\", \"zwei\", \"zwei\", \"zwei\", \"zwei\", \"zwei\", \"zwei\", \"zwei\", \"zwei\", \"zweit\", \"zweit\", \"zweit\", \"zweit\", \"zweit\", \"zweit\", \"zweit\", \"zweit\", \"zweit\", \"zweit\"]}, \"R\": 30, \"lambda.step\": 0.01, \"plot.opts\": {\"xlab\": \"PC1\", \"ylab\": \"PC2\"}, \"topic.order\": [1, 4, 6, 9, 3, 5, 2, 8, 7, 10]};\n",
              "\n",
              "function LDAvis_load_lib(url, callback){\n",
              "  var s = document.createElement('script');\n",
              "  s.src = url;\n",
              "  s.async = true;\n",
              "  s.onreadystatechange = s.onload = callback;\n",
              "  s.onerror = function(){console.warn(\"failed to load library \" + url);};\n",
              "  document.getElementsByTagName(\"head\")[0].appendChild(s);\n",
              "}\n",
              "\n",
              "if(typeof(LDAvis) !== \"undefined\"){\n",
              "   // already loaded: just create the visualization\n",
              "   !function(LDAvis){\n",
              "       new LDAvis(\"#\" + \"ldavis_el2721376858731961921705246614\", ldavis_el2721376858731961921705246614_data);\n",
              "   }(LDAvis);\n",
              "}else if(typeof define === \"function\" && define.amd){\n",
              "   // require.js is available: use it to load d3/LDAvis\n",
              "   require.config({paths: {d3: \"https://d3js.org/d3.v5\"}});\n",
              "   require([\"d3\"], function(d3){\n",
              "      window.d3 = d3;\n",
              "      LDAvis_load_lib(\"https://cdn.jsdelivr.net/gh/bmabey/pyLDAvis@3.4.0/pyLDAvis/js/ldavis.v3.0.0.js\", function(){\n",
              "        new LDAvis(\"#\" + \"ldavis_el2721376858731961921705246614\", ldavis_el2721376858731961921705246614_data);\n",
              "      });\n",
              "    });\n",
              "}else{\n",
              "    // require.js not available: dynamically load d3 & LDAvis\n",
              "    LDAvis_load_lib(\"https://d3js.org/d3.v5.js\", function(){\n",
              "         LDAvis_load_lib(\"https://cdn.jsdelivr.net/gh/bmabey/pyLDAvis@3.4.0/pyLDAvis/js/ldavis.v3.0.0.js\", function(){\n",
              "                 new LDAvis(\"#\" + \"ldavis_el2721376858731961921705246614\", ldavis_el2721376858731961921705246614_data);\n",
              "            })\n",
              "         });\n",
              "}\n",
              "</script>"
            ]
          },
          "metadata": {},
          "execution_count": 79
        }
      ]
    },
    {
      "cell_type": "markdown",
      "metadata": {
        "id": "syy0tnTQmxZP"
      },
      "source": [
        "# Your turn - Do it yourself:\n",
        "\n",
        "Replace the given corpus with one in another language - maybe your own native language? You can find corpus online, for example:\n",
        "- https://www.corpusdata.org/intro.asp\n",
        "- or here: https://www.clarin.eu/resource-families/newspaper-corpora\n",
        "- or even in nltk: https://www.nltk.org/nltk_data/\n",
        "- In this github, there are many datasets that can be loaded through their `raw` url: https://github.com/selva86/datasets\n",
        "\n",
        "Careful: You will need to change the [Stemming](https://snowballstem.org/algorithms/) and the [Stopwords](https://www.kaggle.com/rtatman/stopword-lists-for-19-languages) to support your language. Make a web-search after the appropriate ones (if they exist..)\n",
        "\n",
        "Use the notebook to reproduce the result.  \n",
        "Try changing the parameters to get a *satisfying level of clustering*.  \n",
        "Which parameters worked best for the language you chose?"
      ]
    },
    {
      "cell_type": "markdown",
      "source": [
        "##### Help note\n",
        "\n",
        "If your corpus is a csv, [pandas' read_csv method](https://pandas.pydata.org/docs/reference/api/pandas.read_csv.html) would be the best way to tackle it.\n",
        "\n",
        "If it is, however a text file or a zip of text files, you will need another way to load them. Luckily, python is working well with both - text and zip files, with a built-in support."
      ],
      "metadata": {
        "id": "vB0wRwUpX3yB"
      }
    },
    {
      "cell_type": "markdown",
      "source": [
        "###### Example with text\n",
        "For the sake of this example, let's download two files: one text file, and one gzip file, from this website:\n",
        "\n",
        "https://lindat.mff.cuni.cz/repository/xmlui/handle/11858/00-097C-0000-0023-6260-A"
      ],
      "metadata": {
        "id": "hHe2aaI-bFHU"
      }
    },
    {
      "cell_type": "code",
      "source": [
        "!curl --remote-name-all https://lindat.mff.cuni.cz/repository/xmlui/bitstream/handle/11858/00-097C-0000-0023-6260-A{/README.txt,/hindmonocorp05.plaintext.gz}\n"
      ],
      "metadata": {
        "colab": {
          "base_uri": "https://localhost:8080/"
        },
        "id": "JeiBbArnXZ_u",
        "outputId": "7d40e071-7998-4802-df74-fe156d48ee09"
      },
      "execution_count": null,
      "outputs": [
        {
          "output_type": "stream",
          "name": "stderr",
          "text": [
            "/usr/local/lib/python3.10/dist-packages/ipykernel/ipkernel.py:283: DeprecationWarning: `should_run_async` will not call `transform_cell` automatically in the future. Please pass the result to `transformed_cell` argument and any exception that happen during thetransform in `preprocessing_exc_tuple` in IPython 7.17 and above.\n",
            "  and should_run_async(code)\n"
          ]
        },
        {
          "output_type": "stream",
          "name": "stdout",
          "text": [
            "  % Total    % Received % Xferd  Average Speed   Time    Time     Time  Current\n",
            "                                 Dload  Upload   Total   Spent    Left  Speed\n",
            "100  4472  100  4472    0     0   3258      0  0:00:01  0:00:01 --:--:--  3259\n",
            "  % Total    % Received % Xferd  Average Speed   Time    Time     Time  Current\n",
            "                                 Dload  Upload   Total   Spent    Left  Speed\n",
            "100 2353M  100 2353M    0     0  19.3M      0  0:02:01  0:02:01 --:--:-- 20.0M\n"
          ]
        }
      ]
    },
    {
      "cell_type": "markdown",
      "source": [
        "Files are accessed using the `Path` package of python's pathlib:"
      ],
      "metadata": {
        "id": "2xk8Q5phbKR4"
      }
    },
    {
      "cell_type": "code",
      "source": [
        "from pathlib import Path"
      ],
      "metadata": {
        "id": "ZA1ibqJoZjgx",
        "colab": {
          "base_uri": "https://localhost:8080/"
        },
        "outputId": "b6bf1c87-66bf-4bfd-ae3d-d9849d073d25"
      },
      "execution_count": null,
      "outputs": [
        {
          "output_type": "stream",
          "name": "stderr",
          "text": [
            "/usr/local/lib/python3.10/dist-packages/ipykernel/ipkernel.py:283: DeprecationWarning: `should_run_async` will not call `transform_cell` automatically in the future. Please pass the result to `transformed_cell` argument and any exception that happen during thetransform in `preprocessing_exc_tuple` in IPython 7.17 and above.\n",
            "  and should_run_async(code)\n"
          ]
        }
      ]
    },
    {
      "cell_type": "markdown",
      "source": [
        "To access a file, we use its path in Path, like so:\n",
        "\n",
        "`Path('Folder/filename.extension')`\n",
        "\n",
        "Path has many methods for files and folder. Including looping over files in folder, checking if a file exists, etc.\n",
        "\n",
        "Read more about it here: https://docs.python.org/3/library/pathlib.html"
      ],
      "metadata": {
        "id": "icYkPSu5bQhG"
      }
    },
    {
      "cell_type": "code",
      "source": [
        "readme_file = Path('README.txt')\n",
        "\n",
        "if readme_file.exists():\n",
        "  # read the text content into a variable\n",
        "  file_content = readme_file.read_text()\n",
        "  print(file_content)\n",
        "else:\n",
        "  print(\"README.txt was not found...\")"
      ],
      "metadata": {
        "colab": {
          "base_uri": "https://localhost:8080/"
        },
        "id": "kteZ2w0QapcU",
        "outputId": "2f800598-e0d0-4e86-a689-2aa366df5422"
      },
      "execution_count": null,
      "outputs": [
        {
          "output_type": "stream",
          "name": "stdout",
          "text": [
            "HindEnCorp 0.5 and HindMonoCorp 0.5 File Formats\n",
            "================================================\n",
            "\n",
            "This file describes the file formats of the Hindi-English and Hindi-only\n",
            "corpora released in 2014 under the names HindEnCorp 0.5 and HindMonoCorp 0.5.\n",
            "\n",
            "More details about the preparation of the corpora can be found in the paper:\n",
            "\n",
            "  Ondřej Bojar, Vojtěch Diatka, Pavel Rychlý, Pavel Straňák, Aleš Tamchyna\n",
            "  and Dan Zeman. HindEnCorp - Hindi-English and Hindi-only Corpus for\n",
            "  Machine Translation. In Proc. of LREC 2014. Reykjavik, Iceland. ISBN\n",
            "  978-2-9517408-8-4. ELRA. 2014.\n",
            "\n",
            "or on the corpora web page:\n",
            "  http://ufal.mff.cuni.cz/hindencorp\n",
            "\n",
            "Please cite this paper if you make any use of the corpora. BibTeX citation\n",
            "format below.\n",
            "\n",
            "\n",
            "Common Properties\n",
            "-----------------\n",
            "\n",
            "All the files are plain text:\n",
            "\n",
            "- compressed with gzip\n",
            "- encoded in UTF-8\n",
            "- with unix line breaks (LF)\n",
            "- with tab-delimited columns\n",
            "\n",
            "The monolingual and parallel corpora have different columns.\n",
            "\n",
            "The actual corpus text is stored in one (monolingual corpus) or two (parallel\n",
            "corpus) of the columns.\n",
            "\n",
            "\n",
            "Plaintext vs. Export File Format\n",
            "--------------------------------\n",
            "\n",
            "Both the monolingual and the parallel corpus come in a simple plain text format\n",
            "and in a tokenized, tagged and lemmatized format.\n",
            "\n",
            "The plaintext format preserves the original tokenization (as much as possible\n",
            "given the diverse sources included in our corpus).\n",
            "\n",
            "The 'export' format is tokenized and represents each token as a '|'-delimited\n",
            "triple of: the word form, the lemma, and part-of-speech tag. If there was the\n",
            "character '|' (this character is also used instead of the proper Devanagari\n",
            "Danda in some sources), we escape it as '&pipe;'.\n",
            "\n",
            "There is exactly the same number of lines in the plaintext and export file\n",
            "formats.\n",
            "\n",
            "\n",
            "HindEnCorp Columns\n",
            "------------------\n",
            "\n",
            "The files hindencorp05.plaintext.gz and hindencorp05.export.gz each contain the\n",
            "parallel corpus and differ only in the processing of the corpus texts. The\n",
            "files have these columns:\n",
            "\n",
            "- source identifier (where do the segments come from)\n",
            "- alignment type (number of English segments - number of Hindi segments)\n",
            "- alignment quality, which is one of the following:\n",
            "    \"manual\"  ... for sources that were sentence-aligned manually\n",
            "    \"implied\" ... for sources where one side was constructed by translating\n",
            "                  segment by segment\n",
            "    float     ... a value somehow reflecting the goodness of the automatic\n",
            "                  alignment; not really reliable\n",
            "- English segment or segments\n",
            "- Hindi segment or segments\n",
            "\n",
            "Each of the segments field is in the plaintext or export format as described\n",
            "above.\n",
            "\n",
            "If there are more than one segments on a line (e.g. for lines with alignment\n",
            "type 2-1 where there are two English segments), then the segments are delimited\n",
            "with '<s>' in the text field.\n",
            "\n",
            "HindMonoCorp Columns\n",
            "--------------------\n",
            "\n",
            "The files hindmonocorp05.plaintext.gz and hindmonocorp05.export.gz each contain\n",
            "the monolingual corpus and differ only in the processing of the corpus text.\n",
            "Each input segment (usually one Hindi sentence) is stored on a separate line.\n",
            "The files have these columns:\n",
            "\n",
            "- source identifier (where does the segment come from)\n",
            "- segment type, which is one of the following:\n",
            "    <s>  ... this segment is a sentence from a 'text body'\n",
            "    <h>  ... this segment comes from a 'headline' (e.g. of an article)\n",
            "    <a>  ... anything, the source here does not allow to distinguish between\n",
            "             body and headlines\n",
            "- Hindi segment\n",
            "\n",
            "\n",
            "BibTeX Citation for HindEnCorp and HindMonoCorp 0.5\n",
            "---------------------------------------------------\n",
            "\n",
            "@InProceedings{hindencorp05:lrec:2014,\n",
            "  author = {Ond{\\v{r}}ej Bojar and Vojt{\\v{e}}ch Diatka\n",
            "            and Pavel Rychl{\\'{y}} and Pavel Stra{\\v{n}}{\\'{a}}k\n",
            "            and V{\\'{\\i}}t Suchomel and Ale{\\v{s}} Tamchyna and Daniel Zeman},\n",
            "  title = \"{HindEnCorp - Hindi-English and Hindi-only Corpus for Machine\n",
            "            Translation}\",\n",
            "  booktitle = {Proceedings of the Ninth International Conference on Language\n",
            "               Resources and Evaluation (LREC'14)},\n",
            "  year = {2014},\n",
            "  month = {may},\n",
            "  date = {26-31},\n",
            "  address = {Reykjavik, Iceland},\n",
            "  editor = {Nicoletta Calzolari (Conference Chair) and Khalid Choukri and\n",
            "     Thierry Declerck and Hrafn Loftsson and Bente Maegaard and Joseph Mariani\n",
            "     and Asuncion Moreno and Jan Odijk and Stelios Piperidis},\n",
            "  publisher = {European Language Resources Association (ELRA)},\n",
            "  isbn = {978-2-9517408-8-4},\n",
            "  language = {english}\n",
            "}\n",
            "\n",
            "\n"
          ]
        },
        {
          "output_type": "stream",
          "name": "stderr",
          "text": [
            "/usr/local/lib/python3.10/dist-packages/ipykernel/ipkernel.py:283: DeprecationWarning: `should_run_async` will not call `transform_cell` automatically in the future. Please pass the result to `transformed_cell` argument and any exception that happen during thetransform in `preprocessing_exc_tuple` in IPython 7.17 and above.\n",
            "  and should_run_async(code)\n"
          ]
        }
      ]
    },
    {
      "cell_type": "markdown",
      "source": [
        "If the file is a `.zip` file, you can open it and read its data without actually extracting all the files from it.\n",
        "\n",
        "https://docs.python.org/3/library/gzip.html\n",
        "\n",
        "Also, [requests](https://requests.readthedocs.io/en/latest/) is a great package of retrieving content from a URL."
      ],
      "metadata": {
        "id": "z4pDENv4cEqR"
      }
    },
    {
      "cell_type": "markdown",
      "source": [
        "###### Example with zipped files"
      ],
      "metadata": {
        "id": "79u_AizrnqqK"
      }
    },
    {
      "cell_type": "code",
      "source": [
        "import gzip\n"
      ],
      "metadata": {
        "id": "GjCxwaYDaWqX",
        "colab": {
          "base_uri": "https://localhost:8080/"
        },
        "outputId": "24fcc914-dc15-4d57-8a46-b04580198e36"
      },
      "execution_count": null,
      "outputs": [
        {
          "output_type": "stream",
          "name": "stderr",
          "text": [
            "/usr/local/lib/python3.10/dist-packages/ipykernel/ipkernel.py:283: DeprecationWarning: `should_run_async` will not call `transform_cell` automatically in the future. Please pass the result to `transformed_cell` argument and any exception that happen during thetransform in `preprocessing_exc_tuple` in IPython 7.17 and above.\n",
            "  and should_run_async(code)\n"
          ]
        }
      ]
    },
    {
      "cell_type": "code",
      "source": [
        "\n",
        "# this would download the file (but it's 2 GB, so go easy on your internet provider...):\n",
        "# file = requests.get('https://lindat.mff.cuni.cz/repository/xmlui/bitstream/handle/11858/00-097C-0000-0023-6260-A/hindmonocorp05.plaintext.gz')\n",
        "# with gzip.open(file.content, 'rb') as gz:\n",
        "#  ..."
      ],
      "metadata": {
        "id": "tBOjd-J6e5Kt",
        "colab": {
          "base_uri": "https://localhost:8080/"
        },
        "outputId": "788c6ef9-0269-4cd2-cf44-fc62f3db2566"
      },
      "execution_count": null,
      "outputs": [
        {
          "output_type": "stream",
          "name": "stderr",
          "text": [
            "/usr/local/lib/python3.10/dist-packages/ipykernel/ipkernel.py:283: DeprecationWarning: `should_run_async` will not call `transform_cell` automatically in the future. Please pass the result to `transformed_cell` argument and any exception that happen during thetransform in `preprocessing_exc_tuple` in IPython 7.17 and above.\n",
            "  and should_run_async(code)\n"
          ]
        }
      ]
    },
    {
      "cell_type": "markdown",
      "source": [
        "In this example, we will open the zip and read the text lines.\n",
        "The text is in hindi, so we have to decode it into `UTF-8` format:"
      ],
      "metadata": {
        "id": "_8CXmJU4i3Ng"
      }
    },
    {
      "cell_type": "code",
      "source": [
        "with gzip.open('hindmonocorp05.plaintext.gz', 'rb') as gz:\n",
        "  for i in range(10):\n",
        "    line = gz.readline()\n",
        "    words = line.decode('utf8').split()\n",
        "    print(words)\n"
      ],
      "metadata": {
        "colab": {
          "base_uri": "https://localhost:8080/"
        },
        "id": "FaShXt80f691",
        "outputId": "6bca3e9d-e1bc-4090-fb75-eb8f4227438d"
      },
      "execution_count": null,
      "outputs": [
        {
          "output_type": "stream",
          "name": "stdout",
          "text": [
            "['hwt2013', '<s>', 'लेकिन', 'गांव', 'के', 'जगदीश', 'मेघवाल,', 'मोहन...']\n",
            "['spiderling', '<s>', 'विटामिन', 'सी', 'शरीर', 'में', 'रोग', 'पैदा', 'करने', 'वाले', 'विषाणुओं', 'से', 'लड़ने', 'की', 'ताकत', 'पैदा', 'करता', 'है', 'और', 'शरीर', 'में', 'इसकी', 'संतुलित', 'मात्रा', 'बने', 'रहने', 'से', 'रोग', 'प्रतिरोधक', 'क्षमता', 'मजबूत', 'रहती', 'है।']\n",
            "['spiderling', '<s>', 'इन', 'बोतलों', 'के', 'बहुत', 'कम', 'पैसे', 'मिलते', 'हैं।']\n",
            "['commoncrawl', '<a>', 'कार्टून', ':-', 'रे', 'लोकपाल', 'आ', 'गया', 'तू', '?', 'शाबाश....', '19', '0']\n",
            "['spiderling', '<s>', 'प्रखर', 'बुद्धि', 'तेजस्वी', 'बालक', 'राजेन्द्र', 'बाल्यावस्था', 'में', 'ही', 'फारसी', 'में', 'शिक्षा', 'ग्रहण', 'करने', 'लगा', 'और', 'उसके', 'पश्चात', 'प्राथमिक', 'शिक्षा', 'के', 'लिए', 'छपरा', 'के', 'जिला', 'स्कूल', 'में', 'नामांकित', 'हो', 'गया।']\n",
            "['commoncrawl', '<a>', 'निदेशक', 'स्तर', 'का', 'एक', 'वैज्ञानिक', 'संस्थान', 'या', 'सहोदर', 'संस्थान', 'से', '(']\n",
            "['commoncrawl', '<a>', 'गज़ब', 'का', 'बतंगड़', 'है!', ':)', 'हिट', 'तो', 'वैसे', 'भी', 'है', 'जैसे', 'आपने', 'लिख', 'दिया', 'है,', 'जबर-रोचक', '(इस', 'शब्द', 'की']\n",
            "['w2cweb', '<a>', '2005', 'में', 'वर्ल्ड', 'वाइल्ड', 'लाइफ', 'फंड', 'की', 'संस्तुति', 'पर', 'गंगा', 'नदी', 'में', '165', 'किलोमीटर', 'के', 'हिस्से', 'में', \"'रामसर\", \"साइट'\", 'की', 'घोषणा', 'की', 'थी,', 'जिसमें', 'राष्ट्रीय', 'जल', 'जीव', 'डोलफिन', 'से', 'लेकर', 'सभी', 'प्रकार', 'के', 'जल', 'जीवों', 'की', 'रक्षा', 'के', 'लिए', 'सुरक्षा', 'के', 'व्यापक', 'प्रबंध', 'किए', 'गये', 'थे', 'और', 'उस', 'क्षेत्र', 'में', 'इन', 'जल', 'जीवों', 'को', 'किसी', 'भी', 'प्रकार', 'से', 'मारने', 'पर', 'वाइल्ड', 'लाइफ', 'प्रोटेक्शन', 'एक्ट', '1972', 'के', 'अंतर्गत', 'कार्रवाई', 'तक', 'करने', 'की', 'संस्तुति', 'की', 'गई', 'थी।']\n",
            "['spiderling', '<s>', 'पुराना', 'कैदीः', '”', 'अरे', '!', 'इतना', 'छोटा', 'काम', 'को', 'हमारे', 'बच्चे', 'ही', 'कर', 'लेते', 'हैं।']\n",
            "['spiderling', '<s>', 'इन', 'महाशय', 'का', 'सधवा', 'रूप', 'भी', 'विधवा', 'की', 'तरह', 'ही', 'बीता', 'था', '.....']\n"
          ]
        },
        {
          "output_type": "stream",
          "name": "stderr",
          "text": [
            "/usr/local/lib/python3.10/dist-packages/ipykernel/ipkernel.py:283: DeprecationWarning: `should_run_async` will not call `transform_cell` automatically in the future. Please pass the result to `transformed_cell` argument and any exception that happen during thetransform in `preprocessing_exc_tuple` in IPython 7.17 and above.\n",
            "  and should_run_async(code)\n"
          ]
        }
      ]
    },
    {
      "cell_type": "markdown",
      "source": [
        "**IMPORTANT NOTE**: If your corpus, like that file example is very large (2.3GB zipped), then please don't load all the text: it will not fit in the memory and will only cause you trouble.  \n",
        "Instead, you can use only the first 10 to 20k sentences, or so. For this exercise we just want you to get a hold of the steps and the proces involved in using LDA."
      ],
      "metadata": {
        "id": "SZLMI43toL76"
      }
    },
    {
      "cell_type": "markdown",
      "source": [
        "# Afterword\n",
        "\n",
        "Gensim is not the only library that implements the LDA algorithm.\n",
        "Another package that does LDA is [tomotopy](https://bab2min.github.io/tomotopy/v0.12.3/en/) - sometimes even faster than gensim. Additionaly, it is implemented as part of [Scikit-Learn](https://scikit-learn.org/stable/modules/generated/sklearn.decomposition.LatentDirichletAllocation.html) - which we use often in the course.\n",
        "\n",
        "Here's a jupyter example using Scikit-learn and spaCy: https://nbviewer.org/github/bmabey/pyLDAvis/blob/master/notebooks/sklearn.ipynb\n",
        "\n",
        "Since we won't dive deeper into the LDA topic in this course, if you wish to know more about the statistics behind it, [this video](https://www.youtube.com/watch?v=0jQo8lVRHRY) of a lesson by the researcher [Nando de Freitas](https://linkedin.com/in/nandodefreitas) gives a good overview."
      ],
      "metadata": {
        "id": "gvufRXnxoiwI"
      }
    },
    {
      "cell_type": "code",
      "source": [
        "import pandas as pd\n",
        "\n",
        "df = pd.read_csv(\"hf://datasets/TopicNet/Lenta/data/Lenta.csv.gz\",\n",
        "                 on_bad_lines='skip',\n",
        "                 header=0,\n",
        "                 nrows = 1000,\n",
        "                 dtype={'topic': 'category'})"
      ],
      "metadata": {
        "id": "c6YoKZ45q6AK",
        "colab": {
          "base_uri": "https://localhost:8080/"
        },
        "outputId": "66753738-28bc-4cd8-bca5-1a6674df9d79"
      },
      "execution_count": null,
      "outputs": [
        {
          "output_type": "stream",
          "name": "stderr",
          "text": [
            "/usr/local/lib/python3.10/dist-packages/ipykernel/ipkernel.py:283: DeprecationWarning: `should_run_async` will not call `transform_cell` automatically in the future. Please pass the result to `transformed_cell` argument and any exception that happen during thetransform in `preprocessing_exc_tuple` in IPython 7.17 and above.\n",
            "  and should_run_async(code)\n"
          ]
        }
      ]
    },
    {
      "cell_type": "code",
      "source": [
        "df"
      ],
      "metadata": {
        "id": "IJOTFaypLqps",
        "colab": {
          "base_uri": "https://localhost:8080/",
          "height": 1000
        },
        "outputId": "91597f4f-c936-4ce6-c769-3e55bebdd1fe"
      },
      "execution_count": null,
      "outputs": [
        {
          "output_type": "stream",
          "name": "stderr",
          "text": [
            "/usr/local/lib/python3.10/dist-packages/ipykernel/ipkernel.py:283: DeprecationWarning: `should_run_async` will not call `transform_cell` automatically in the future. Please pass the result to `transformed_cell` argument and any exception that happen during thetransform in `preprocessing_exc_tuple` in IPython 7.17 and above.\n",
            "  and should_run_async(code)\n"
          ]
        },
        {
          "output_type": "execute_result",
          "data": {
            "text/plain": [
              "     Unnamed: 0                                              url  \\\n",
              "0        449272          https://lenta.ru/news/2013/01/01/fire2/   \n",
              "1        449273            https://lenta.ru/news/2013/01/01/why/   \n",
              "2        449274          https://lenta.ru/news/2013/01/01/egypt/   \n",
              "3        449275        https://lenta.ru/news/2013/01/01/georgia/   \n",
              "4        449276          https://lenta.ru/news/2013/01/01/freed/   \n",
              "..          ...                                              ...   \n",
              "995      450267       https://lenta.ru/news/2013/01/11/flashmob/   \n",
              "996      450268      https://lenta.ru/news/2013/01/11/inflation/   \n",
              "997      450269  https://lenta.ru/news/2013/01/11/largestspiral/   \n",
              "998      450270      https://lenta.ru/news/2013/01/11/serdukov1/   \n",
              "999      450271            https://lenta.ru/news/2013/01/11/pay/   \n",
              "\n",
              "                                                 title  \\\n",
              "0    В ЮАР четыре тысячи человек остались без крова...   \n",
              "1           Названа возможная причина давки в Абиджане   \n",
              "2    Политические партии Египта приняли поправки в ...   \n",
              "3    Иванишвили объявил о прекращении преследования...   \n",
              "4                Задержанных на Триумфальной отпустили   \n",
              "..                                                 ...   \n",
              "995  Блогеры устроили акцию против цензуры и в защи...   \n",
              "996  Росстат отчитался об инфляции в новогодние пра...   \n",
              "997  Астрономы определили крупнейшую спиральную гал...   \n",
              "998  Следователи расспросили Сердюкова о строительс...   \n",
              "999  Японский мобильный оператор заплатит сотрудник...   \n",
              "\n",
              "                                                  text            topic tags  \\\n",
              "0    В ЮАР произошел пожар, в результате которого п...              Мир  Все   \n",
              "1    Давка в крупнейшем городе Кот-д'Ивуара Абиджан...              Мир  Все   \n",
              "2    Политические партии и общественные организации...              Мир  Все   \n",
              "3    Премьер-министр Грузии Бидзина Иванишвили в но...      Бывший СССР  Все   \n",
              "4    Полиция отпустила всех участников акции \"Страт...           Россия  Все   \n",
              "..                                                 ...              ...  ...   \n",
              "995  Многие авторитетные российские блогеры 11 янва...   Интернет и СМИ  Все   \n",
              "996  Потребительские цены в России с 1 по 9 января ...        Экономика  Все   \n",
              "997  Астрономы обнаружили, что крупная спиральная г...  Наука и техника  Все   \n",
              "998  В ходе допроса в Следственном комитете бывшего...           Россия  Все   \n",
              "999  Один из крупнейших операторов мобильной связи ...        Экономика  Все   \n",
              "\n",
              "                                            lemmatized  year  month  day  \\\n",
              "0    юар произойти пожар результат погибнуть ожог т...  2013      1    1   \n",
              "1    давка крупный город кот ивуар абиджан начаться...  2013      1    1   \n",
              "2    политический партия общественный организация е...  2013      1    1   \n",
              "3    премьер министр грузия бидзин иванишвили новог...  2013      1    1   \n",
              "4    полиция отпустить участник акция стратегия три...  2013      1    1   \n",
              "..                                                 ...   ...    ...  ...   \n",
              "995  многие авторитетный российский блогер пост рус...  2013      1   11   \n",
              "996  потребительский цена россия вырасти процент ма...  2013      1   11   \n",
              "997  астроном обнаружить крупный спиральный галакти...  2013      1   11   \n",
              "998  ход допрос следственный комитет бывший министр...  2013      1   11   \n",
              "999  крупный оператор мобильный япония softbank вып...  2013      1   11   \n",
              "\n",
              "     time_n                                   lemmatized_title  \\\n",
              "0    449272  в юар четыре тысяча человек остаться без кров ...   \n",
              "1    449273          назвать возможный причина давка в абиджан   \n",
              "2    449274  политический партия египет принять поправка в ...   \n",
              "3    449275  иванишвили объявить о прекращение преследовани...   \n",
              "4    449276                задержать на триумфальный отпустить   \n",
              "..      ...                                                ...   \n",
              "995  450267  блогер устроить акция против цензура и в защит...   \n",
              "996  450268  росстат отчитаться о инфляция в новогодний пра...   \n",
              "997  450269   астроном определить крупный спиральный галактика   \n",
              "998  450270  следователь расспросить сердюков о строительст...   \n",
              "999  450271  японский мобильный оператор заплатить сотрудни...   \n",
              "\n",
              "                                               topmine  \\\n",
              "0    место_настоящее состояние_алкогольный_опьянени...   \n",
              "1    собраться_тысяча главный_вход давка_официальны...   \n",
              "2    секретарить_президент изменение_закон партия_б...   \n",
              "3    выборы_коалиция_грузинский_мечта президент_саа...   \n",
              "4    свобода_собрание собрание_митинг_демонстрация_...   \n",
              "..                                                 ...   \n",
              "995  написание_заметка реестр_запретить несовершенн...   \n",
              "996  процент_образ существенно_вырасти итог_инфляци...   \n",
              "997  тысяча_светов галактика_ngc галактика_ngc спир...   \n",
              "998  возбудить_сердюк миллиард_рубль сумма_миллион_...   \n",
              "999  миллион_иена_тысяча_доллар договориться_покупк...   \n",
              "\n",
              "                                               vw_text   id  \n",
              "0    0 |@word юар произойти пожар результат погибну...    0  \n",
              "1    1 |@word давка крупный город кот ивуар абиджан...    1  \n",
              "2    2 |@word политический партия общественный орга...    2  \n",
              "3    3 |@word премьер министр грузия бидзин иванишв...    3  \n",
              "4    4 |@word полиция отпустить участник акция стра...    4  \n",
              "..                                                 ...  ...  \n",
              "995  995 |@word многие авторитетный российский блог...  995  \n",
              "996  996 |@word потребительский цена россия вырасти...  996  \n",
              "997  997 |@word астроном обнаружить крупный спираль...  997  \n",
              "998  998 |@word ход допрос следственный комитет быв...  998  \n",
              "999  999 |@word крупный оператор мобильный япония s...  999  \n",
              "\n",
              "[1000 rows x 15 columns]"
            ],
            "text/html": [
              "\n",
              "  <div id=\"df-82516d5a-25cc-4cab-9aa8-1261b51bb1ed\" class=\"colab-df-container\">\n",
              "    <div>\n",
              "<style scoped>\n",
              "    .dataframe tbody tr th:only-of-type {\n",
              "        vertical-align: middle;\n",
              "    }\n",
              "\n",
              "    .dataframe tbody tr th {\n",
              "        vertical-align: top;\n",
              "    }\n",
              "\n",
              "    .dataframe thead th {\n",
              "        text-align: right;\n",
              "    }\n",
              "</style>\n",
              "<table border=\"1\" class=\"dataframe\">\n",
              "  <thead>\n",
              "    <tr style=\"text-align: right;\">\n",
              "      <th></th>\n",
              "      <th>Unnamed: 0</th>\n",
              "      <th>url</th>\n",
              "      <th>title</th>\n",
              "      <th>text</th>\n",
              "      <th>topic</th>\n",
              "      <th>tags</th>\n",
              "      <th>lemmatized</th>\n",
              "      <th>year</th>\n",
              "      <th>month</th>\n",
              "      <th>day</th>\n",
              "      <th>time_n</th>\n",
              "      <th>lemmatized_title</th>\n",
              "      <th>topmine</th>\n",
              "      <th>vw_text</th>\n",
              "      <th>id</th>\n",
              "    </tr>\n",
              "  </thead>\n",
              "  <tbody>\n",
              "    <tr>\n",
              "      <th>0</th>\n",
              "      <td>449272</td>\n",
              "      <td>https://lenta.ru/news/2013/01/01/fire2/</td>\n",
              "      <td>В ЮАР четыре тысячи человек остались без крова...</td>\n",
              "      <td>В ЮАР произошел пожар, в результате которого п...</td>\n",
              "      <td>Мир</td>\n",
              "      <td>Все</td>\n",
              "      <td>юар произойти пожар результат погибнуть ожог т...</td>\n",
              "      <td>2013</td>\n",
              "      <td>1</td>\n",
              "      <td>1</td>\n",
              "      <td>449272</td>\n",
              "      <td>в юар четыре тысяча человек остаться без кров ...</td>\n",
              "      <td>место_настоящее состояние_алкогольный_опьянени...</td>\n",
              "      <td>0 |@word юар произойти пожар результат погибну...</td>\n",
              "      <td>0</td>\n",
              "    </tr>\n",
              "    <tr>\n",
              "      <th>1</th>\n",
              "      <td>449273</td>\n",
              "      <td>https://lenta.ru/news/2013/01/01/why/</td>\n",
              "      <td>Названа возможная причина давки в Абиджане</td>\n",
              "      <td>Давка в крупнейшем городе Кот-д'Ивуара Абиджан...</td>\n",
              "      <td>Мир</td>\n",
              "      <td>Все</td>\n",
              "      <td>давка крупный город кот ивуар абиджан начаться...</td>\n",
              "      <td>2013</td>\n",
              "      <td>1</td>\n",
              "      <td>1</td>\n",
              "      <td>449273</td>\n",
              "      <td>назвать возможный причина давка в абиджан</td>\n",
              "      <td>собраться_тысяча главный_вход давка_официальны...</td>\n",
              "      <td>1 |@word давка крупный город кот ивуар абиджан...</td>\n",
              "      <td>1</td>\n",
              "    </tr>\n",
              "    <tr>\n",
              "      <th>2</th>\n",
              "      <td>449274</td>\n",
              "      <td>https://lenta.ru/news/2013/01/01/egypt/</td>\n",
              "      <td>Политические партии Египта приняли поправки в ...</td>\n",
              "      <td>Политические партии и общественные организации...</td>\n",
              "      <td>Мир</td>\n",
              "      <td>Все</td>\n",
              "      <td>политический партия общественный организация е...</td>\n",
              "      <td>2013</td>\n",
              "      <td>1</td>\n",
              "      <td>1</td>\n",
              "      <td>449274</td>\n",
              "      <td>политический партия египет принять поправка в ...</td>\n",
              "      <td>секретарить_президент изменение_закон партия_б...</td>\n",
              "      <td>2 |@word политический партия общественный орга...</td>\n",
              "      <td>2</td>\n",
              "    </tr>\n",
              "    <tr>\n",
              "      <th>3</th>\n",
              "      <td>449275</td>\n",
              "      <td>https://lenta.ru/news/2013/01/01/georgia/</td>\n",
              "      <td>Иванишвили объявил о прекращении преследования...</td>\n",
              "      <td>Премьер-министр Грузии Бидзина Иванишвили в но...</td>\n",
              "      <td>Бывший СССР</td>\n",
              "      <td>Все</td>\n",
              "      <td>премьер министр грузия бидзин иванишвили новог...</td>\n",
              "      <td>2013</td>\n",
              "      <td>1</td>\n",
              "      <td>1</td>\n",
              "      <td>449275</td>\n",
              "      <td>иванишвили объявить о прекращение преследовани...</td>\n",
              "      <td>выборы_коалиция_грузинский_мечта президент_саа...</td>\n",
              "      <td>3 |@word премьер министр грузия бидзин иванишв...</td>\n",
              "      <td>3</td>\n",
              "    </tr>\n",
              "    <tr>\n",
              "      <th>4</th>\n",
              "      <td>449276</td>\n",
              "      <td>https://lenta.ru/news/2013/01/01/freed/</td>\n",
              "      <td>Задержанных на Триумфальной отпустили</td>\n",
              "      <td>Полиция отпустила всех участников акции \"Страт...</td>\n",
              "      <td>Россия</td>\n",
              "      <td>Все</td>\n",
              "      <td>полиция отпустить участник акция стратегия три...</td>\n",
              "      <td>2013</td>\n",
              "      <td>1</td>\n",
              "      <td>1</td>\n",
              "      <td>449276</td>\n",
              "      <td>задержать на триумфальный отпустить</td>\n",
              "      <td>свобода_собрание собрание_митинг_демонстрация_...</td>\n",
              "      <td>4 |@word полиция отпустить участник акция стра...</td>\n",
              "      <td>4</td>\n",
              "    </tr>\n",
              "    <tr>\n",
              "      <th>...</th>\n",
              "      <td>...</td>\n",
              "      <td>...</td>\n",
              "      <td>...</td>\n",
              "      <td>...</td>\n",
              "      <td>...</td>\n",
              "      <td>...</td>\n",
              "      <td>...</td>\n",
              "      <td>...</td>\n",
              "      <td>...</td>\n",
              "      <td>...</td>\n",
              "      <td>...</td>\n",
              "      <td>...</td>\n",
              "      <td>...</td>\n",
              "      <td>...</td>\n",
              "      <td>...</td>\n",
              "    </tr>\n",
              "    <tr>\n",
              "      <th>995</th>\n",
              "      <td>450267</td>\n",
              "      <td>https://lenta.ru/news/2013/01/11/flashmob/</td>\n",
              "      <td>Блогеры устроили акцию против цензуры и в защи...</td>\n",
              "      <td>Многие авторитетные российские блогеры 11 янва...</td>\n",
              "      <td>Интернет и СМИ</td>\n",
              "      <td>Все</td>\n",
              "      <td>многие авторитетный российский блогер пост рус...</td>\n",
              "      <td>2013</td>\n",
              "      <td>1</td>\n",
              "      <td>11</td>\n",
              "      <td>450267</td>\n",
              "      <td>блогер устроить акция против цензура и в защит...</td>\n",
              "      <td>написание_заметка реестр_запретить несовершенн...</td>\n",
              "      <td>995 |@word многие авторитетный российский блог...</td>\n",
              "      <td>995</td>\n",
              "    </tr>\n",
              "    <tr>\n",
              "      <th>996</th>\n",
              "      <td>450268</td>\n",
              "      <td>https://lenta.ru/news/2013/01/11/inflation/</td>\n",
              "      <td>Росстат отчитался об инфляции в новогодние пра...</td>\n",
              "      <td>Потребительские цены в России с 1 по 9 января ...</td>\n",
              "      <td>Экономика</td>\n",
              "      <td>Все</td>\n",
              "      <td>потребительский цена россия вырасти процент ма...</td>\n",
              "      <td>2013</td>\n",
              "      <td>1</td>\n",
              "      <td>11</td>\n",
              "      <td>450268</td>\n",
              "      <td>росстат отчитаться о инфляция в новогодний пра...</td>\n",
              "      <td>процент_образ существенно_вырасти итог_инфляци...</td>\n",
              "      <td>996 |@word потребительский цена россия вырасти...</td>\n",
              "      <td>996</td>\n",
              "    </tr>\n",
              "    <tr>\n",
              "      <th>997</th>\n",
              "      <td>450269</td>\n",
              "      <td>https://lenta.ru/news/2013/01/11/largestspiral/</td>\n",
              "      <td>Астрономы определили крупнейшую спиральную гал...</td>\n",
              "      <td>Астрономы обнаружили, что крупная спиральная г...</td>\n",
              "      <td>Наука и техника</td>\n",
              "      <td>Все</td>\n",
              "      <td>астроном обнаружить крупный спиральный галакти...</td>\n",
              "      <td>2013</td>\n",
              "      <td>1</td>\n",
              "      <td>11</td>\n",
              "      <td>450269</td>\n",
              "      <td>астроном определить крупный спиральный галактика</td>\n",
              "      <td>тысяча_светов галактика_ngc галактика_ngc спир...</td>\n",
              "      <td>997 |@word астроном обнаружить крупный спираль...</td>\n",
              "      <td>997</td>\n",
              "    </tr>\n",
              "    <tr>\n",
              "      <th>998</th>\n",
              "      <td>450270</td>\n",
              "      <td>https://lenta.ru/news/2013/01/11/serdukov1/</td>\n",
              "      <td>Следователи расспросили Сердюкова о строительс...</td>\n",
              "      <td>В ходе допроса в Следственном комитете бывшего...</td>\n",
              "      <td>Россия</td>\n",
              "      <td>Все</td>\n",
              "      <td>ход допрос следственный комитет бывший министр...</td>\n",
              "      <td>2013</td>\n",
              "      <td>1</td>\n",
              "      <td>11</td>\n",
              "      <td>450270</td>\n",
              "      <td>следователь расспросить сердюков о строительст...</td>\n",
              "      <td>возбудить_сердюк миллиард_рубль сумма_миллион_...</td>\n",
              "      <td>998 |@word ход допрос следственный комитет быв...</td>\n",
              "      <td>998</td>\n",
              "    </tr>\n",
              "    <tr>\n",
              "      <th>999</th>\n",
              "      <td>450271</td>\n",
              "      <td>https://lenta.ru/news/2013/01/11/pay/</td>\n",
              "      <td>Японский мобильный оператор заплатит сотрудник...</td>\n",
              "      <td>Один из крупнейших операторов мобильной связи ...</td>\n",
              "      <td>Экономика</td>\n",
              "      <td>Все</td>\n",
              "      <td>крупный оператор мобильный япония softbank вып...</td>\n",
              "      <td>2013</td>\n",
              "      <td>1</td>\n",
              "      <td>11</td>\n",
              "      <td>450271</td>\n",
              "      <td>японский мобильный оператор заплатить сотрудни...</td>\n",
              "      <td>миллион_иена_тысяча_доллар договориться_покупк...</td>\n",
              "      <td>999 |@word крупный оператор мобильный япония s...</td>\n",
              "      <td>999</td>\n",
              "    </tr>\n",
              "  </tbody>\n",
              "</table>\n",
              "<p>1000 rows × 15 columns</p>\n",
              "</div>\n",
              "    <div class=\"colab-df-buttons\">\n",
              "\n",
              "  <div class=\"colab-df-container\">\n",
              "    <button class=\"colab-df-convert\" onclick=\"convertToInteractive('df-82516d5a-25cc-4cab-9aa8-1261b51bb1ed')\"\n",
              "            title=\"Convert this dataframe to an interactive table.\"\n",
              "            style=\"display:none;\">\n",
              "\n",
              "  <svg xmlns=\"http://www.w3.org/2000/svg\" height=\"24px\" viewBox=\"0 -960 960 960\">\n",
              "    <path d=\"M120-120v-720h720v720H120Zm60-500h600v-160H180v160Zm220 220h160v-160H400v160Zm0 220h160v-160H400v160ZM180-400h160v-160H180v160Zm440 0h160v-160H620v160ZM180-180h160v-160H180v160Zm440 0h160v-160H620v160Z\"/>\n",
              "  </svg>\n",
              "    </button>\n",
              "\n",
              "  <style>\n",
              "    .colab-df-container {\n",
              "      display:flex;\n",
              "      gap: 12px;\n",
              "    }\n",
              "\n",
              "    .colab-df-convert {\n",
              "      background-color: #E8F0FE;\n",
              "      border: none;\n",
              "      border-radius: 50%;\n",
              "      cursor: pointer;\n",
              "      display: none;\n",
              "      fill: #1967D2;\n",
              "      height: 32px;\n",
              "      padding: 0 0 0 0;\n",
              "      width: 32px;\n",
              "    }\n",
              "\n",
              "    .colab-df-convert:hover {\n",
              "      background-color: #E2EBFA;\n",
              "      box-shadow: 0px 1px 2px rgba(60, 64, 67, 0.3), 0px 1px 3px 1px rgba(60, 64, 67, 0.15);\n",
              "      fill: #174EA6;\n",
              "    }\n",
              "\n",
              "    .colab-df-buttons div {\n",
              "      margin-bottom: 4px;\n",
              "    }\n",
              "\n",
              "    [theme=dark] .colab-df-convert {\n",
              "      background-color: #3B4455;\n",
              "      fill: #D2E3FC;\n",
              "    }\n",
              "\n",
              "    [theme=dark] .colab-df-convert:hover {\n",
              "      background-color: #434B5C;\n",
              "      box-shadow: 0px 1px 3px 1px rgba(0, 0, 0, 0.15);\n",
              "      filter: drop-shadow(0px 1px 2px rgba(0, 0, 0, 0.3));\n",
              "      fill: #FFFFFF;\n",
              "    }\n",
              "  </style>\n",
              "\n",
              "    <script>\n",
              "      const buttonEl =\n",
              "        document.querySelector('#df-82516d5a-25cc-4cab-9aa8-1261b51bb1ed button.colab-df-convert');\n",
              "      buttonEl.style.display =\n",
              "        google.colab.kernel.accessAllowed ? 'block' : 'none';\n",
              "\n",
              "      async function convertToInteractive(key) {\n",
              "        const element = document.querySelector('#df-82516d5a-25cc-4cab-9aa8-1261b51bb1ed');\n",
              "        const dataTable =\n",
              "          await google.colab.kernel.invokeFunction('convertToInteractive',\n",
              "                                                    [key], {});\n",
              "        if (!dataTable) return;\n",
              "\n",
              "        const docLinkHtml = 'Like what you see? Visit the ' +\n",
              "          '<a target=\"_blank\" href=https://colab.research.google.com/notebooks/data_table.ipynb>data table notebook</a>'\n",
              "          + ' to learn more about interactive tables.';\n",
              "        element.innerHTML = '';\n",
              "        dataTable['output_type'] = 'display_data';\n",
              "        await google.colab.output.renderOutput(dataTable, element);\n",
              "        const docLink = document.createElement('div');\n",
              "        docLink.innerHTML = docLinkHtml;\n",
              "        element.appendChild(docLink);\n",
              "      }\n",
              "    </script>\n",
              "  </div>\n",
              "\n",
              "\n",
              "<div id=\"df-57faec63-b1ff-43c9-a22a-d4a999963aac\">\n",
              "  <button class=\"colab-df-quickchart\" onclick=\"quickchart('df-57faec63-b1ff-43c9-a22a-d4a999963aac')\"\n",
              "            title=\"Suggest charts\"\n",
              "            style=\"display:none;\">\n",
              "\n",
              "<svg xmlns=\"http://www.w3.org/2000/svg\" height=\"24px\"viewBox=\"0 0 24 24\"\n",
              "     width=\"24px\">\n",
              "    <g>\n",
              "        <path d=\"M19 3H5c-1.1 0-2 .9-2 2v14c0 1.1.9 2 2 2h14c1.1 0 2-.9 2-2V5c0-1.1-.9-2-2-2zM9 17H7v-7h2v7zm4 0h-2V7h2v10zm4 0h-2v-4h2v4z\"/>\n",
              "    </g>\n",
              "</svg>\n",
              "  </button>\n",
              "\n",
              "<style>\n",
              "  .colab-df-quickchart {\n",
              "      --bg-color: #E8F0FE;\n",
              "      --fill-color: #1967D2;\n",
              "      --hover-bg-color: #E2EBFA;\n",
              "      --hover-fill-color: #174EA6;\n",
              "      --disabled-fill-color: #AAA;\n",
              "      --disabled-bg-color: #DDD;\n",
              "  }\n",
              "\n",
              "  [theme=dark] .colab-df-quickchart {\n",
              "      --bg-color: #3B4455;\n",
              "      --fill-color: #D2E3FC;\n",
              "      --hover-bg-color: #434B5C;\n",
              "      --hover-fill-color: #FFFFFF;\n",
              "      --disabled-bg-color: #3B4455;\n",
              "      --disabled-fill-color: #666;\n",
              "  }\n",
              "\n",
              "  .colab-df-quickchart {\n",
              "    background-color: var(--bg-color);\n",
              "    border: none;\n",
              "    border-radius: 50%;\n",
              "    cursor: pointer;\n",
              "    display: none;\n",
              "    fill: var(--fill-color);\n",
              "    height: 32px;\n",
              "    padding: 0;\n",
              "    width: 32px;\n",
              "  }\n",
              "\n",
              "  .colab-df-quickchart:hover {\n",
              "    background-color: var(--hover-bg-color);\n",
              "    box-shadow: 0 1px 2px rgba(60, 64, 67, 0.3), 0 1px 3px 1px rgba(60, 64, 67, 0.15);\n",
              "    fill: var(--button-hover-fill-color);\n",
              "  }\n",
              "\n",
              "  .colab-df-quickchart-complete:disabled,\n",
              "  .colab-df-quickchart-complete:disabled:hover {\n",
              "    background-color: var(--disabled-bg-color);\n",
              "    fill: var(--disabled-fill-color);\n",
              "    box-shadow: none;\n",
              "  }\n",
              "\n",
              "  .colab-df-spinner {\n",
              "    border: 2px solid var(--fill-color);\n",
              "    border-color: transparent;\n",
              "    border-bottom-color: var(--fill-color);\n",
              "    animation:\n",
              "      spin 1s steps(1) infinite;\n",
              "  }\n",
              "\n",
              "  @keyframes spin {\n",
              "    0% {\n",
              "      border-color: transparent;\n",
              "      border-bottom-color: var(--fill-color);\n",
              "      border-left-color: var(--fill-color);\n",
              "    }\n",
              "    20% {\n",
              "      border-color: transparent;\n",
              "      border-left-color: var(--fill-color);\n",
              "      border-top-color: var(--fill-color);\n",
              "    }\n",
              "    30% {\n",
              "      border-color: transparent;\n",
              "      border-left-color: var(--fill-color);\n",
              "      border-top-color: var(--fill-color);\n",
              "      border-right-color: var(--fill-color);\n",
              "    }\n",
              "    40% {\n",
              "      border-color: transparent;\n",
              "      border-right-color: var(--fill-color);\n",
              "      border-top-color: var(--fill-color);\n",
              "    }\n",
              "    60% {\n",
              "      border-color: transparent;\n",
              "      border-right-color: var(--fill-color);\n",
              "    }\n",
              "    80% {\n",
              "      border-color: transparent;\n",
              "      border-right-color: var(--fill-color);\n",
              "      border-bottom-color: var(--fill-color);\n",
              "    }\n",
              "    90% {\n",
              "      border-color: transparent;\n",
              "      border-bottom-color: var(--fill-color);\n",
              "    }\n",
              "  }\n",
              "</style>\n",
              "\n",
              "  <script>\n",
              "    async function quickchart(key) {\n",
              "      const quickchartButtonEl =\n",
              "        document.querySelector('#' + key + ' button');\n",
              "      quickchartButtonEl.disabled = true;  // To prevent multiple clicks.\n",
              "      quickchartButtonEl.classList.add('colab-df-spinner');\n",
              "      try {\n",
              "        const charts = await google.colab.kernel.invokeFunction(\n",
              "            'suggestCharts', [key], {});\n",
              "      } catch (error) {\n",
              "        console.error('Error during call to suggestCharts:', error);\n",
              "      }\n",
              "      quickchartButtonEl.classList.remove('colab-df-spinner');\n",
              "      quickchartButtonEl.classList.add('colab-df-quickchart-complete');\n",
              "    }\n",
              "    (() => {\n",
              "      let quickchartButtonEl =\n",
              "        document.querySelector('#df-57faec63-b1ff-43c9-a22a-d4a999963aac button');\n",
              "      quickchartButtonEl.style.display =\n",
              "        google.colab.kernel.accessAllowed ? 'block' : 'none';\n",
              "    })();\n",
              "  </script>\n",
              "</div>\n",
              "\n",
              "  <div id=\"id_1c6d5b89-5bb8-4ed6-b767-a14b0ade5727\">\n",
              "    <style>\n",
              "      .colab-df-generate {\n",
              "        background-color: #E8F0FE;\n",
              "        border: none;\n",
              "        border-radius: 50%;\n",
              "        cursor: pointer;\n",
              "        display: none;\n",
              "        fill: #1967D2;\n",
              "        height: 32px;\n",
              "        padding: 0 0 0 0;\n",
              "        width: 32px;\n",
              "      }\n",
              "\n",
              "      .colab-df-generate:hover {\n",
              "        background-color: #E2EBFA;\n",
              "        box-shadow: 0px 1px 2px rgba(60, 64, 67, 0.3), 0px 1px 3px 1px rgba(60, 64, 67, 0.15);\n",
              "        fill: #174EA6;\n",
              "      }\n",
              "\n",
              "      [theme=dark] .colab-df-generate {\n",
              "        background-color: #3B4455;\n",
              "        fill: #D2E3FC;\n",
              "      }\n",
              "\n",
              "      [theme=dark] .colab-df-generate:hover {\n",
              "        background-color: #434B5C;\n",
              "        box-shadow: 0px 1px 3px 1px rgba(0, 0, 0, 0.15);\n",
              "        filter: drop-shadow(0px 1px 2px rgba(0, 0, 0, 0.3));\n",
              "        fill: #FFFFFF;\n",
              "      }\n",
              "    </style>\n",
              "    <button class=\"colab-df-generate\" onclick=\"generateWithVariable('df')\"\n",
              "            title=\"Generate code using this dataframe.\"\n",
              "            style=\"display:none;\">\n",
              "\n",
              "  <svg xmlns=\"http://www.w3.org/2000/svg\" height=\"24px\"viewBox=\"0 0 24 24\"\n",
              "       width=\"24px\">\n",
              "    <path d=\"M7,19H8.4L18.45,9,17,7.55,7,17.6ZM5,21V16.75L18.45,3.32a2,2,0,0,1,2.83,0l1.4,1.43a1.91,1.91,0,0,1,.58,1.4,1.91,1.91,0,0,1-.58,1.4L9.25,21ZM18.45,9,17,7.55Zm-12,3A5.31,5.31,0,0,0,4.9,8.1,5.31,5.31,0,0,0,1,6.5,5.31,5.31,0,0,0,4.9,4.9,5.31,5.31,0,0,0,6.5,1,5.31,5.31,0,0,0,8.1,4.9,5.31,5.31,0,0,0,12,6.5,5.46,5.46,0,0,0,6.5,12Z\"/>\n",
              "  </svg>\n",
              "    </button>\n",
              "    <script>\n",
              "      (() => {\n",
              "      const buttonEl =\n",
              "        document.querySelector('#id_1c6d5b89-5bb8-4ed6-b767-a14b0ade5727 button.colab-df-generate');\n",
              "      buttonEl.style.display =\n",
              "        google.colab.kernel.accessAllowed ? 'block' : 'none';\n",
              "\n",
              "      buttonEl.onclick = () => {\n",
              "        google.colab.notebook.generateWithVariable('df');\n",
              "      }\n",
              "      })();\n",
              "    </script>\n",
              "  </div>\n",
              "\n",
              "    </div>\n",
              "  </div>\n"
            ],
            "application/vnd.google.colaboratory.intrinsic+json": {
              "type": "dataframe",
              "variable_name": "df",
              "summary": "{\n  \"name\": \"df\",\n  \"rows\": 1000,\n  \"fields\": [\n    {\n      \"column\": \"Unnamed: 0\",\n      \"properties\": {\n        \"dtype\": \"number\",\n        \"std\": 288,\n        \"min\": 449272,\n        \"max\": 450271,\n        \"num_unique_values\": 1000,\n        \"samples\": [\n          449793,\n          450009,\n          450012\n        ],\n        \"semantic_type\": \"\",\n        \"description\": \"\"\n      }\n    },\n    {\n      \"column\": \"url\",\n      \"properties\": {\n        \"dtype\": \"string\",\n        \"num_unique_values\": 1000,\n        \"samples\": [\n          \"https://lenta.ru/news/2013/01/08/grozny/\",\n          \"https://lenta.ru/news/2013/01/10/falce/\",\n          \"https://lenta.ru/news/2013/01/10/shares/\"\n        ],\n        \"semantic_type\": \"\",\n        \"description\": \"\"\n      }\n    },\n    {\n      \"column\": \"title\",\n      \"properties\": {\n        \"dtype\": \"string\",\n        \"num_unique_values\": 1000,\n        \"samples\": [\n          \"\\u0412 \\u0413\\u0440\\u043e\\u0437\\u043d\\u043e\\u043c \\u043f\\u043e\\u0441\\u0442\\u0440\\u043e\\u044f\\u0442 \\u0441\\u0438\\u043d\\u0430\\u0433\\u043e\\u0433\\u0443\",\n          \"\\u0412 \\u041c\\u043e\\u0441\\u043a\\u0432\\u0435 \\u0437\\u0430\\u0434\\u0435\\u0440\\u0436\\u0430\\u043d\\u044b \\u043f\\u044f\\u0442\\u0435\\u0440\\u043e \\u0444\\u0430\\u043b\\u044c\\u0448\\u0438\\u0432\\u043e\\u043c\\u043e\\u043d\\u0435\\u0442\\u0447\\u0438\\u043a\\u043e\\u0432\",\n          \"\\u0410\\u043a\\u0446\\u0438\\u0438 Facebook \\u0441\\u00a0\\u043d\\u0430\\u0447\\u0430\\u043b\\u0430 \\u0433\\u043e\\u0434\\u0430 \\u0432\\u044b\\u0440\\u043e\\u0441\\u043b\\u0438 \\u043d\\u0430\\u00a018\\u00a0\\u043f\\u0440\\u043e\\u0446\\u0435\\u043d\\u0442\\u043e\\u0432\"\n        ],\n        \"semantic_type\": \"\",\n        \"description\": \"\"\n      }\n    },\n    {\n      \"column\": \"text\",\n      \"properties\": {\n        \"dtype\": \"string\",\n        \"num_unique_values\": 1000,\n        \"samples\": [\n          \"\\u0412 \\u0413\\u0440\\u043e\\u0437\\u043d\\u043e\\u043c \\u0432\\u0435\\u0447\\u0435\\u0440\\u043e\\u043c 8 \\u044f\\u043d\\u0432\\u0430\\u0440\\u044f \\u0437\\u0430\\u043b\\u043e\\u0436\\u0430\\u0442 \\u043f\\u0435\\u0440\\u0432\\u044b\\u0439 \\u043a\\u0430\\u043c\\u0435\\u043d\\u044c \\u0432 \\u043e\\u0441\\u043d\\u043e\\u0432\\u0430\\u043d\\u0438\\u0435 \\u0431\\u0443\\u0434\\u0443\\u0449\\u0435\\u0439 \\u0441\\u0438\\u043d\\u0430\\u0433\\u043e\\u0433\\u0438. \\u041e\\u0431 \\u044d\\u0442\\u043e\\u043c \\u0441\\u043e\\u043e\\u0431\\u0449\\u0430\\u0435\\u0442 \\\"\\u0418\\u043d\\u0442\\u0435\\u0440\\u0444\\u0430\\u043a\\u0441\\\" \\u0441\\u043e \\u0441\\u0441\\u044b\\u043b\\u043a\\u043e\\u0439 \\u043d\\u0430 \\u0438\\u0441\\u0442\\u043e\\u0447\\u043d\\u0438\\u043a \\u0432 \\u0430\\u0434\\u043c\\u0438\\u043d\\u0438\\u0441\\u0442\\u0440\\u0430\\u0446\\u0438\\u0438 \\u0447\\u0435\\u0447\\u0435\\u043d\\u0441\\u043a\\u043e\\u0439 \\u0441\\u0442\\u043e\\u043b\\u0438\\u0446\\u044b. \\u0421\\u0438\\u043d\\u0430\\u0433\\u043e\\u0433\\u0443 \\u043f\\u043e\\u0441\\u0442\\u0440\\u043e\\u044f\\u0442 \\u0432 \\u0446\\u0435\\u043d\\u0442\\u0440\\u0435 \\u0413\\u0440\\u043e\\u0437\\u043d\\u043e\\u0433\\u043e \\u0440\\u044f\\u0434\\u043e\\u043c \\u0441 \\u043c\\u0435\\u0447\\u0435\\u0442\\u044c\\u044e \\\"\\u0421\\u0435\\u0440\\u0434\\u0446\\u0435 \\u0427\\u0435\\u0447\\u043d\\u0438\\\" \\u0438 \\u043f\\u0440\\u0430\\u0432\\u043e\\u0441\\u043b\\u0430\\u0432\\u043d\\u044b\\u043c \\u0445\\u0440\\u0430\\u043c\\u043e\\u043c \\u041c\\u0438\\u0445\\u0430\\u0438\\u043b\\u0430 \\u0410\\u0440\\u0445\\u0430\\u043d\\u0433\\u0435\\u043b\\u0430, \\u0443\\u0442\\u043e\\u0447\\u043d\\u044f\\u0435\\u0442 \\u043f\\u043e\\u0440\\u0442\\u0430\\u043b \\\"\\u041a\\u0430\\u0432\\u043a\\u0430\\u0437\\u0441\\u043a\\u0438\\u0439 \\u0443\\u0437\\u0435\\u043b\\\". \\u041d\\u0430 \\u044d\\u0442\\u043e\\u043c \\u043c\\u0435\\u0441\\u0442\\u0435 \\u0432 \\u043d\\u0430\\u0447\\u0430\\u043b\\u0435 XX \\u0432\\u0435\\u043a\\u0430 \\u0443\\u0436\\u0435 \\u0431\\u044b\\u043b\\u0430 \\u0441\\u0438\\u043d\\u0430\\u0433\\u043e\\u0433\\u0430. \\u041f\\u0440\\u0438 \\u0441\\u043e\\u0432\\u0435\\u0442\\u0441\\u043a\\u043e\\u0439 \\u0432\\u043b\\u0430\\u0441\\u0442\\u0438 \\u0432 \\u0435\\u0435 \\u0437\\u0434\\u0430\\u043d\\u0438\\u0438 \\u043e\\u0442\\u043a\\u0440\\u044b\\u043b\\u0438 \\u043c\\u0443\\u0437\\u044b\\u043a\\u0430\\u043b\\u044c\\u043d\\u0443\\u044e \\u0448\\u043a\\u043e\\u043b\\u0443, \\u0430 \\u0432\\u043e \\u0432\\u0440\\u0435\\u043c\\u044f \\u0431\\u043e\\u0435\\u0432\\u044b\\u0445 \\u0434\\u0435\\u0439\\u0441\\u0442\\u0432\\u0438\\u0439 \\u0432 1990-\\u0445 \\u0437\\u0434\\u0430\\u043d\\u0438\\u0435 \\u0431\\u044b\\u043b\\u043e \\u0440\\u0430\\u0437\\u0440\\u0443\\u0448\\u0435\\u043d\\u043e. \\u0420\\u0430\\u0434\\u0438\\u043e\\u0441\\u0442\\u0430\\u043d\\u0446\\u0438\\u044f \\\"\\u042d\\u0445\\u043e \\u041a\\u0430\\u0432\\u043a\\u0430\\u0437\\u0430\\\" \\u0434\\u043e\\u0431\\u0430\\u0432\\u043b\\u044f\\u0435\\u0442, \\u0447\\u0442\\u043e \\u0432 \\u0446\\u0435\\u0440\\u0435\\u043c\\u043e\\u043d\\u0438\\u0438 \\u0437\\u0430\\u043a\\u043b\\u0430\\u0434\\u043a\\u0438 \\u043a\\u0430\\u043c\\u043d\\u044f \\u043f\\u0440\\u0438\\u043c\\u0443\\u0442 \\u0443\\u0447\\u0430\\u0441\\u0442\\u0438\\u0435 \\u0444\\u0443\\u0442\\u0431\\u043e\\u043b\\u0438\\u0441\\u0442\\u044b \\u0438\\u0437\\u0440\\u0430\\u0438\\u043b\\u044c\\u0441\\u043a\\u043e\\u0439 \\u043a\\u043e\\u043c\\u0430\\u043d\\u0434\\u044b \\\"\\u0411\\u0435\\u0439\\u0442\\u0430\\u0440\\\". \\u0412\\u043e \\u0432\\u0442\\u043e\\u0440\\u043d\\u0438\\u043a \\u043e\\u043d\\u0438 \\u043f\\u0440\\u0438\\u043b\\u0435\\u0442\\u0435\\u043b\\u0438 \\u0432 \\u0427\\u0435\\u0447\\u043d\\u044e, \\u0430 \\u043d\\u0430 \\u0441\\u043b\\u0435\\u0434\\u0443\\u044e\\u0449\\u0438\\u0439 \\u0434\\u0435\\u043d\\u044c \\u0441\\u044b\\u0433\\u0440\\u0430\\u044e\\u0442 \\u0442\\u043e\\u0432\\u0430\\u0440\\u0438\\u0449\\u0435\\u0441\\u043a\\u0438\\u0439 \\u043c\\u0430\\u0442\\u0447 \\u0441 \\u0433\\u0440\\u043e\\u0437\\u043d\\u0435\\u043d\\u0441\\u043a\\u0438\\u043c \\\"\\u0422\\u0435\\u0440\\u0435\\u043a\\u043e\\u043c\\\". \\u0414\\u043e \\u043f\\u0435\\u0440\\u0432\\u043e\\u0439 \\u0447\\u0435\\u0447\\u0435\\u043d\\u0441\\u043a\\u043e\\u0439 \\u0432\\u043e\\u0439\\u043d\\u044b \\u0432 \\u0413\\u0440\\u043e\\u0437\\u043d\\u043e\\u043c \\u0431\\u044b\\u043b\\u0430 \\u0435\\u0432\\u0440\\u0435\\u0439\\u0441\\u043a\\u0430\\u044f \\u043e\\u0431\\u0449\\u0438\\u043d\\u0430. \\u0421 \\u043d\\u0430\\u0447\\u0430\\u043b\\u043e\\u043c \\u0431\\u043e\\u0435\\u0432\\u044b\\u0445 \\u0434\\u0435\\u0439\\u0441\\u0442\\u0432\\u0438\\u0439 \\u0435\\u0432\\u0440\\u0435\\u0438 \\u0443\\u0435\\u0445\\u0430\\u043b\\u0438 \\u0438\\u0437 \\u0427\\u0435\\u0447\\u043d\\u0438, \\u043e\\u0442\\u043c\\u0435\\u0447\\u0430\\u0435\\u0442 \\\"\\u041a\\u0430\\u0432\\u043a\\u0430\\u0437\\u0441\\u043a\\u0438\\u0439 \\u0443\\u0437\\u0435\\u043b\\\". \\u0412 2007 \\u0433\\u043e\\u0434\\u0443 \\u0440\\u0435\\u0441\\u043f\\u0443\\u0431\\u043b\\u0438\\u043a\\u0443 \\u043f\\u043e\\u0441\\u0435\\u0442\\u0438\\u043b \\u043f\\u0440\\u0435\\u0434\\u0441\\u0435\\u0434\\u0430\\u0442\\u0435\\u043b\\u044c \\u041a\\u043e\\u043d\\u0433\\u0440\\u0435\\u0441\\u0441\\u0430 \\u0435\\u0432\\u0440\\u0435\\u0439\\u0441\\u043a\\u0438\\u0445 \\u0440\\u0435\\u043b\\u0438\\u0433\\u0438\\u043e\\u0437\\u043d\\u044b\\u0445 \\u043e\\u0431\\u0449\\u0438\\u043d \\u0438 \\u043e\\u0440\\u0433\\u0430\\u043d\\u0438\\u0437\\u0430\\u0446\\u0438\\u0439 \\u0420\\u043e\\u0441\\u0441\\u0438\\u0438 (\\u041a\\u0415\\u0420\\u041e\\u041e\\u0420) \\u0440\\u0430\\u0432\\u0432\\u0438\\u043d \\u0417\\u0438\\u043d\\u043e\\u0432\\u0438\\u0439 \\u041a\\u043e\\u0433\\u0430\\u043d. \\u041e\\u043d \\u0442\\u043e\\u0433\\u0434\\u0430 \\u043f\\u0440\\u0435\\u0434\\u043b\\u043e\\u0436\\u0438\\u043b \\u0432\\u043e\\u0437\\u0440\\u043e\\u0434\\u0438\\u0442\\u044c \\u043e\\u0431\\u0449\\u0438\\u043d\\u0443 \\u0438 \\u043f\\u043e\\u0441\\u0442\\u0440\\u043e\\u0438\\u0442\\u044c \\u0441\\u0438\\u043d\\u0430\\u0433\\u043e\\u0433\\u0443, \\u0430 \\u0433\\u043b\\u0430\\u0432\\u0430 \\u0427\\u0435\\u0447\\u043d\\u0438 \\u0420\\u0430\\u043c\\u0437\\u0430\\u043d \\u041a\\u0430\\u0434\\u044b\\u0440\\u043e\\u0432 \\u043f\\u043e\\u0434\\u0434\\u0435\\u0440\\u0436\\u0430\\u043b \\u044d\\u0442\\u0443 \\u0438\\u0434\\u0435\\u044e \\u0438 \\u043f\\u043e\\u043e\\u0431\\u0435\\u0449\\u0430\\u043b \\u0432\\u044b\\u0434\\u0435\\u043b\\u0438\\u0442\\u044c \\u043d\\u0430 \\u044d\\u0442\\u043e \\u0434\\u0435\\u043d\\u044c\\u0433\\u0438. \\u041d\\u0430 \\u0434\\u0430\\u043d\\u043d\\u044b\\u0439 \\u043c\\u043e\\u043c\\u0435\\u043d\\u0442 \\u043d\\u0435 \\u0438\\u0437\\u0432\\u0435\\u0441\\u0442\\u043d\\u043e, \\u043a\\u0442\\u043e \\u0438\\u043c\\u0435\\u043d\\u043d\\u043e \\u0431\\u0443\\u0434\\u0435\\u0442 \\u0432\\u0435\\u0441\\u0442\\u0438 \\u0438 \\u0444\\u0438\\u043d\\u0430\\u043d\\u0441\\u0438\\u0440\\u043e\\u0432\\u0430\\u0442\\u044c \\u0441\\u0442\\u0440\\u043e\\u0438\\u0442\\u0435\\u043b\\u044c\\u0441\\u0442\\u0432\\u043e.\",\n          \"\\u0412 \\u041c\\u043e\\u0441\\u043a\\u0432\\u0435 \\u0437\\u0430\\u0434\\u0435\\u0440\\u0436\\u0430\\u043d\\u044b \\u043f\\u044f\\u0442\\u0435\\u0440\\u043e \\u043f\\u043e\\u0434\\u043e\\u0437\\u0440\\u0435\\u0432\\u0430\\u0435\\u043c\\u044b\\u0445 \\u0432 \\u0440\\u0430\\u0441\\u043f\\u0440\\u043e\\u0441\\u0442\\u0440\\u0430\\u043d\\u0435\\u043d\\u0438\\u0438 \\u0444\\u0430\\u043b\\u044c\\u0448\\u0438\\u0432\\u044b\\u0445 \\u0434\\u0435\\u043d\\u0435\\u0436\\u043d\\u044b\\u0445 \\u043a\\u0443\\u043f\\u044e\\u0440. \\u041e\\u0431 \\u044d\\u0442\\u043e\\u043c 10 \\u044f\\u043d\\u0432\\u0430\\u0440\\u044f \\u0441\\u043e\\u043e\\u0431\\u0449\\u0430\\u0435\\u0442\\u0441\\u044f \\u043d\\u0430 \\u0441\\u0430\\u0439\\u0442\\u0435 \\u0433\\u043e\\u0440\\u043e\\u0434\\u0441\\u043a\\u043e\\u0433\\u043e \\u0413\\u0423 \\u041c\\u0412\\u0414. \\u0414\\u0432\\u043e\\u0435 \\u0437\\u0430\\u0434\\u0435\\u0440\\u0436\\u0430\\u043d\\u043d\\u044b\\u0445 \\u044f\\u0432\\u043b\\u044f\\u044e\\u0442\\u0441\\u044f \\u0443\\u0440\\u043e\\u0436\\u0435\\u043d\\u0446\\u0430\\u043c\\u0438 \\u0421\\u0435\\u0432\\u0435\\u0440\\u043e-\\u041a\\u0430\\u0432\\u043a\\u0430\\u0437\\u0441\\u043a\\u043e\\u0433\\u043e \\u0444\\u0435\\u0434\\u0435\\u0440\\u0430\\u043b\\u044c\\u043d\\u043e\\u0433\\u043e \\u043e\\u043a\\u0440\\u0443\\u0433\\u0430, \\u043e\\u0434\\u0438\\u043d - \\u0443\\u0440\\u043e\\u0436\\u0435\\u043d\\u0446\\u0435\\u043c \\u041a\\u0430\\u043b\\u043c\\u044b\\u043a\\u0438\\u0438, \\u043e\\u0434\\u0438\\u043d - \\u0443\\u0440\\u043e\\u0436\\u0435\\u043d\\u0446\\u0435\\u043c \\u0421\\u0442\\u0430\\u0432\\u0440\\u043e\\u043f\\u043e\\u043b\\u044c\\u044f, \\u0430 \\u043e\\u0434\\u0438\\u043d - \\u0433\\u0440\\u0430\\u0436\\u0434\\u0430\\u043d\\u0438\\u043d\\u043e\\u043c \\u041a\\u0430\\u0437\\u0430\\u0445\\u0441\\u0442\\u0430\\u043d\\u0430. \\u041e\\u0434\\u0438\\u043d \\u0438\\u0437 \\u043a\\u0430\\u0432\\u043a\\u0430\\u0437\\u0446\\u0435\\u0432 \\u0432 \\u043f\\u0440\\u043e\\u0448\\u043b\\u043e\\u043c \\u0431\\u044b\\u043b \\u0441\\u0443\\u0434\\u0438\\u043c. \\u0412\\u0441\\u0435 \\u0437\\u0430\\u0434\\u0435\\u0440\\u0436\\u0430\\u043d\\u043d\\u044b\\u0435 \\u043d\\u0435 \\u0438\\u043c\\u0435\\u043b\\u0438 \\u043e\\u0444\\u0438\\u0446\\u0438\\u0430\\u043b\\u044c\\u043d\\u044b\\u0445 \\u043c\\u0435\\u0441\\u0442 \\u0440\\u0430\\u0431\\u043e\\u0442\\u044b. \\u0417\\u0430\\u0434\\u0435\\u0440\\u0436\\u0430\\u043d\\u0438\\u0435 \\u0431\\u044b\\u043b\\u043e \\u043f\\u0440\\u043e\\u0438\\u0437\\u0432\\u0435\\u0434\\u0435\\u043d\\u043e \\u0441 \\u043f\\u043e\\u043b\\u0438\\u0447\\u043d\\u044b\\u043c. \\u041e\\u043f\\u0435\\u0440\\u0430\\u0442\\u0438\\u0432\\u043d\\u0438\\u043a\\u0438 \\u043f\\u043e\\u0434 \\u0432\\u0438\\u0434\\u043e\\u043c \\u043f\\u043e\\u0442\\u0435\\u043d\\u0446\\u0438\\u0430\\u043b\\u044c\\u043d\\u044b\\u0445 \\u0441\\u043e\\u043e\\u0431\\u0449\\u043d\\u0438\\u043a\\u043e\\u0432 \\u0434\\u043e\\u0433\\u043e\\u0432\\u043e\\u0440\\u0438\\u043b\\u0438\\u0441\\u044c \\u043a\\u0443\\u043f\\u0438\\u0442\\u044c \\u0443 \\u0444\\u0430\\u043b\\u044c\\u0448\\u0438\\u0432\\u043e\\u043c\\u043e\\u043d\\u0435\\u0442\\u0447\\u0438\\u043a\\u043e\\u0432 \\u043f\\u043e\\u0434\\u0434\\u0435\\u043b\\u044c\\u043d\\u044b\\u0435 \\u043a\\u0443\\u043f\\u044e\\u0440\\u044b \\u043d\\u0430 \\u0441\\u0443\\u043c\\u043c\\u0443 265 \\u0442\\u044b\\u0441\\u044f\\u0447 \\u0440\\u0443\\u0431\\u043b\\u0435\\u0439 \\u0437\\u0430 110 \\u0442\\u044b\\u0441\\u044f\\u0447 \\u0440\\u0443\\u0431\\u043b\\u0435\\u0439. \\u0412\\u043e\\u0437\\u0431\\u0443\\u0436\\u0434\\u0435\\u043d\\u043e \\u0434\\u0435\\u043b\\u043e \\u043f\\u043e 186-\\u0439 \\u0441\\u0442\\u0430\\u0442\\u044c\\u0435 \\u0423\\u041a \\u0420\\u0424 (\\u0438\\u0437\\u0433\\u043e\\u0442\\u043e\\u0432\\u043b\\u0435\\u043d\\u0438\\u0435 \\u0438\\u043b\\u0438 \\u0441\\u0431\\u044b\\u0442 \\u043f\\u043e\\u0434\\u0434\\u0435\\u043b\\u044c\\u043d\\u044b\\u0445 \\u0434\\u0435\\u043d\\u0435\\u0433). \\u041f\\u043e \\u0432\\u0435\\u0440\\u0441\\u0438\\u0438 \\u0441\\u043b\\u0435\\u0434\\u0441\\u0442\\u0432\\u0438\\u044f, \\u043f\\u0440\\u0435\\u0441\\u0442\\u0443\\u043f\\u043d\\u0438\\u043a\\u0438 \\u0443\\u0441\\u043f\\u0435\\u043b\\u0438 \\u0441\\u0431\\u044b\\u0442\\u044c \\u0432 \\u041c\\u043e\\u0441\\u043a\\u0432\\u0435 \\u0431\\u043e\\u043b\\u0435\\u0435 \\u043c\\u0438\\u043b\\u043b\\u0438\\u043e\\u043d\\u0430 \\u0444\\u0430\\u043b\\u044c\\u0448\\u0438\\u0432\\u044b\\u0445 \\u043a\\u0443\\u043f\\u044e\\u0440. \\u042d\\u043a\\u0441\\u043f\\u0435\\u0440\\u0442\\u0438\\u0437\\u0430 \\u043f\\u043e\\u043a\\u0430\\u0437\\u0430\\u043b\\u0430, \\u0447\\u0442\\u043e \\u0431\\u0430\\u043d\\u043a\\u043d\\u043e\\u0442\\u044b \\u0431\\u044b\\u043b\\u0438 \\u0438\\u0437\\u0433\\u043e\\u0442\\u043e\\u0432\\u043b\\u0435\\u043d\\u044b \\u0434\\u043e\\u0441\\u0442\\u0430\\u0442\\u043e\\u0447\\u043d\\u043e \\u0433\\u0440\\u0443\\u0431\\u043e, \\u043a\\u0443\\u0441\\u0442\\u0430\\u0440\\u043d\\u044b\\u043c \\u043c\\u0435\\u0442\\u043e\\u0434\\u043e\\u043c. \\u041e\\u0434\\u043d\\u0430\\u043a\\u043e \\u0431\\u0435\\u0437 \\u0441\\u043f\\u0435\\u0446\\u0438\\u0430\\u043b\\u044c\\u043d\\u044b\\u0445 \\u043f\\u0440\\u0438\\u0431\\u043e\\u0440\\u043e\\u0432 \\u043e\\u0442\\u043b\\u0438\\u0447\\u0438\\u0442\\u044c \\u0438\\u0445 \\u043e\\u0442 \\u043d\\u0430\\u0441\\u0442\\u043e\\u044f\\u0449\\u0438\\u0445 \\u043d\\u0435 \\u043f\\u0440\\u0435\\u0434\\u0441\\u0442\\u0430\\u0432\\u043b\\u044f\\u043b\\u043e\\u0441\\u044c \\u0432\\u043e\\u0437\\u043c\\u043e\\u0436\\u043d\\u044b\\u043c. \\u041c\\u0435\\u0441\\u0442\\u043e \\u0438\\u0437\\u0433\\u043e\\u0442\\u043e\\u0432\\u043b\\u0435\\u043d\\u0438\\u044f \\u043a\\u0443\\u043f\\u044e\\u0440 \\u0443\\u0441\\u0442\\u0430\\u043d\\u0430\\u0432\\u043b\\u0438\\u0432\\u0430\\u0435\\u0442\\u0441\\u044f.\",\n          \"\\u0410\\u043a\\u0446\\u0438\\u0438 \\u0441\\u043e\\u0446\\u0438\\u0430\\u043b\\u044c\\u043d\\u043e\\u0439 \\u0441\\u0435\\u0442\\u0438 Facebook \\u043f\\u043e \\u0438\\u0442\\u043e\\u0433\\u0430\\u043c \\u0442\\u043e\\u0440\\u0433\\u043e\\u0432 9 \\u044f\\u043d\\u0432\\u0430\\u0440\\u044f \\u0432\\u044b\\u0440\\u043e\\u0441\\u043b\\u0438 \\u0432 \\u0446\\u0435\\u043d\\u0435 \\u0431\\u043e\\u043b\\u0435\\u0435 \\u0447\\u0435\\u043c \\u043d\\u0430 \\u043f\\u044f\\u0442\\u044c \\u043f\\u0440\\u043e\\u0446\\u0435\\u043d\\u0442\\u043e\\u0432 \\u0438 \\u0437\\u0430\\u043a\\u0440\\u044b\\u043b\\u0438\\u0441\\u044c \\u043d\\u0430 \\u043e\\u0442\\u043c\\u0435\\u0442\\u043a\\u0435 \\u0432 30,59 \\u0434\\u043e\\u043b\\u043b\\u0430\\u0440\\u0430 \\u0437\\u0430 \\u0448\\u0442\\u0443\\u043a\\u0443. \\u0421 \\u043d\\u0430\\u0447\\u0430\\u043b\\u0430 \\u0433\\u043e\\u0434\\u0430 \\u0430\\u043a\\u0446\\u0438\\u0438 \\u043a\\u043e\\u043c\\u043f\\u0430\\u043d\\u0438\\u0438 \\u043f\\u043e\\u0434\\u043e\\u0440\\u043e\\u0436\\u0430\\u043b\\u0438 \\u0443\\u0436\\u0435 \\u043d\\u0430 18 \\u043f\\u0440\\u043e\\u0446\\u0435\\u043d\\u0442\\u043e\\u0432, \\u0441\\u0442\\u0430\\u0432 \\u043e\\u0434\\u043d\\u0438\\u043c \\u0438\\u0437 \\u0441\\u0430\\u043c\\u044b\\u0445 \\u0432\\u044b\\u0433\\u043e\\u0434\\u043d\\u044b\\u0445 \\u0432\\u043b\\u043e\\u0436\\u0435\\u043d\\u0438\\u0439 \\u043d\\u0430 \\u0440\\u044b\\u043d\\u043a\\u0435 \\u0432 \\u043f\\u0435\\u0440\\u0432\\u043e\\u0439 \\u043f\\u043e\\u043b\\u043e\\u0432\\u0438\\u043d\\u0435 \\u044f\\u043d\\u0432\\u0430\\u0440\\u044f. \\u0412\\u044b\\u0448\\u0435 \\u043e\\u0442\\u043c\\u0435\\u0442\\u043a\\u0438 \\u0432 30 \\u0434\\u043e\\u043b\\u043b\\u0430\\u0440\\u043e\\u0432 \\u0430\\u043a\\u0446\\u0438\\u0438 Facebook \\u043d\\u0435 \\u0442\\u043e\\u0440\\u0433\\u043e\\u0432\\u0430\\u043b\\u0438\\u0441\\u044c \\u0441 \\u043b\\u0435\\u0442\\u0430 2012 \\u0433\\u043e\\u0434\\u0430, \\u0430 \\u0441 \\u0441\\u0435\\u043d\\u0442\\u044f\\u0431\\u0440\\u044f \\u0446\\u0435\\u043d\\u043d\\u044b\\u0435 \\u0431\\u0443\\u043c\\u0430\\u0433\\u0438 \\u043f\\u043e\\u0434\\u043e\\u0440\\u043e\\u0436\\u0430\\u043b\\u0438 \\u0443\\u0436\\u0435 \\u043d\\u0430 70 \\u043f\\u0440\\u043e\\u0446\\u0435\\u043d\\u0442\\u043e\\u0432. \\u041f\\u0440\\u0438 \\u044d\\u0442\\u043e\\u043c \\u0441\\u0442\\u043e\\u0438\\u043c\\u043e\\u0441\\u0442\\u044c \\u0430\\u043a\\u0446\\u0438\\u0439 \\u0441\\u043e\\u0446\\u0438\\u0430\\u043b\\u044c\\u043d\\u043e\\u0439 \\u0441\\u0435\\u0442\\u0438 \\u043f\\u043e-\\u043f\\u0440\\u0435\\u0436\\u043d\\u0435\\u043c\\u0443 \\u043c\\u0435\\u043d\\u044c\\u0448\\u0435, \\u0447\\u0435\\u043c \\u0432\\u043e \\u0432\\u0440\\u0435\\u043c\\u044f IPO \\u0432 \\u043c\\u0430\\u0435, \\u043a\\u043e\\u0433\\u0434\\u0430 \\u043e\\u043d\\u0438 \\u043f\\u0440\\u043e\\u0434\\u0430\\u0432\\u0430\\u043b\\u0438\\u0441\\u044c \\u043f\\u043e 38 \\u0434\\u043e\\u043b\\u043b\\u0430\\u0440\\u043e\\u0432. \\u0418\\u043d\\u0432\\u0435\\u0441\\u0442\\u043e\\u0440\\u044b \\u0441\\u043a\\u0443\\u043f\\u0430\\u044e\\u0442 \\u0430\\u043a\\u0446\\u0438\\u0438 Facebook \\u0438\\u0437-\\u0437\\u0430 \\u043f\\u0440\\u0438\\u0433\\u043b\\u0430\\u0448\\u0435\\u043d\\u0438\\u044f, \\u0440\\u0430\\u0437\\u043e\\u0441\\u043b\\u0430\\u043d\\u043d\\u043e\\u0433\\u043e \\u0441\\u043e\\u0446\\u0438\\u0430\\u043b\\u044c\\u043d\\u043e\\u0439 \\u0441\\u0435\\u0442\\u044c\\u044e \\u0436\\u0443\\u0440\\u043d\\u0430\\u043b\\u0438\\u0441\\u0442\\u0430\\u043c. Facebook \\u043f\\u0440\\u0438\\u0433\\u043b\\u0430\\u0441\\u0438\\u043b\\u0430 \\u0421\\u041c\\u0418 \\u043d\\u0430 \\u043f\\u0440\\u0435\\u0437\\u0435\\u043d\\u0442\\u0430\\u0446\\u0438\\u044e 15 \\u044f\\u043d\\u0432\\u0430\\u0440\\u044f, \\u043e\\u0434\\u043d\\u0430\\u043a\\u043e \\u0447\\u0442\\u043e \\u043d\\u0430 \\u043d\\u0435\\u0439 \\u0431\\u0443\\u0434\\u0443\\u0442 \\u043f\\u0440\\u0435\\u0434\\u0441\\u0442\\u0430\\u0432\\u043b\\u044f\\u0442\\u044c, \\u043f\\u043e\\u043a\\u0430 \\u043d\\u0435\\u0438\\u0437\\u0432\\u0435\\u0441\\u0442\\u043d\\u043e. MarketWatch \\u043e\\u0442\\u043c\\u0435\\u0447\\u0430\\u0435\\u0442, \\u0447\\u0442\\u043e \\u0430\\u043d\\u0430\\u043b\\u0438\\u0442\\u0438\\u043a\\u0438 \\u043e\\u0436\\u0438\\u0434\\u0430\\u044e\\u0442 \\u043e\\u0442 Facebook \\u043d\\u043e\\u0432\\u043e\\u0433\\u043e \\u043f\\u0440\\u043e\\u0434\\u0443\\u043a\\u0442\\u0430, \\u043d\\u0430\\u043f\\u0440\\u0438\\u043c\\u0435\\u0440, \\u0441\\u043c\\u0430\\u0440\\u0442\\u0444\\u043e\\u043d\\u0430, \\u043c\\u0443\\u0437\\u044b\\u043a\\u0430\\u043b\\u044c\\u043d\\u043e\\u0433\\u043e \\u0438\\u043b\\u0438 \\u043f\\u043e\\u0438\\u0441\\u043a\\u043e\\u0432\\u043e\\u0433\\u043e \\u0441\\u0435\\u0440\\u0432\\u0438\\u0441\\u0430. \\u041a\\u0440\\u043e\\u043c\\u0435 \\u0442\\u043e\\u0433\\u043e, \\u043d\\u0435 \\u0438\\u0441\\u043a\\u043b\\u044e\\u0447\\u0435\\u043d\\u043e, \\u0447\\u0442\\u043e \\u043a\\u043e\\u043c\\u043f\\u0430\\u043d\\u0438\\u044f \\u043f\\u0440\\u0435\\u0434\\u0441\\u0442\\u0430\\u0432\\u0438\\u0442 \\u043a\\u0430\\u043a\\u043e\\u0439-\\u0442\\u043e \\u043f\\u0440\\u043e\\u0434\\u0443\\u043a\\u0442 \\u043d\\u0430 \\u0440\\u044b\\u043d\\u043a\\u0435 \\u044d\\u043b\\u0435\\u043a\\u0442\\u0440\\u043e\\u043d\\u043d\\u043e\\u0439 \\u043a\\u043e\\u043c\\u043c\\u0435\\u0440\\u0446\\u0438\\u0438. \\u0421\\u0430\\u043c\\u0430 Facebook \\u043d\\u0438\\u043a\\u0430\\u043a\\u0438\\u0445 \\u043a\\u043e\\u043c\\u043c\\u0435\\u043d\\u0442\\u0430\\u0440\\u0438\\u0435\\u0432 \\u043e\\u0442\\u043d\\u043e\\u0441\\u0438\\u0442\\u0435\\u043b\\u044c\\u043d\\u043e \\u043f\\u0440\\u0435\\u0437\\u0435\\u043d\\u0442\\u0430\\u0446\\u0438\\u0438 \\u043d\\u0435 \\u0434\\u0430\\u0435\\u0442.\"\n        ],\n        \"semantic_type\": \"\",\n        \"description\": \"\"\n      }\n    },\n    {\n      \"column\": \"topic\",\n      \"properties\": {\n        \"dtype\": \"category\",\n        \"num_unique_values\": 10,\n        \"samples\": [\n          \"\\u041a\\u0443\\u043b\\u044c\\u0442\\u0443\\u0440\\u0430\",\n          \"\\u0411\\u044b\\u0432\\u0448\\u0438\\u0439 \\u0421\\u0421\\u0421\\u0420\",\n          \"\\u0418\\u0437 \\u0436\\u0438\\u0437\\u043d\\u0438\"\n        ],\n        \"semantic_type\": \"\",\n        \"description\": \"\"\n      }\n    },\n    {\n      \"column\": \"tags\",\n      \"properties\": {\n        \"dtype\": \"category\",\n        \"num_unique_values\": 3,\n        \"samples\": [\n          \"\\u0412\\u0441\\u0435\",\n          \"\\u041f\\u0440\\u0435\\u0441\\u0441\\u0430\",\n          \"\\u041c\\u0443\\u0437\\u044b\\u043a\\u0430\"\n        ],\n        \"semantic_type\": \"\",\n        \"description\": \"\"\n      }\n    },\n    {\n      \"column\": \"lemmatized\",\n      \"properties\": {\n        \"dtype\": \"string\",\n        \"num_unique_values\": 1000,\n        \"samples\": [\n          \"\\u0433\\u0440\\u043e\\u0437\\u043d\\u044b\\u0439 \\u0432\\u0435\\u0447\\u0435\\u0440\\u043e\\u043c \\u0437\\u0430\\u043b\\u043e\\u0436\\u0438\\u0442\\u044c \\u043a\\u0430\\u043c\\u0435\\u043d\\u044c \\u043e\\u0441\\u043d\\u043e\\u0432\\u0430\\u043d\\u0438\\u0435 \\u0431\\u0443\\u0434\\u0443\\u0449\\u0438\\u0439 \\u0441\\u0438\\u043d\\u0430\\u0433\\u043e\\u0433\\u0430 \\u0441\\u0441\\u044b\\u043b\\u043a\\u0430 \\u0430\\u0434\\u043c\\u0438\\u043d\\u0438\\u0441\\u0442\\u0440\\u0430\\u0446\\u0438\\u044f \\u0447\\u0435\\u0447\\u0435\\u043d\\u0441\\u043a\\u0438\\u0439 \\u0441\\u0442\\u043e\\u043b\\u0438\\u0446\\u0430 \\u0441\\u0438\\u043d\\u0430\\u0433\\u043e\\u0433\\u0430 \\u043f\\u043e\\u0441\\u0442\\u0440\\u043e\\u0438\\u0442\\u044c \\u0446\\u0435\\u043d\\u0442\\u0440 \\u0433\\u0440\\u043e\\u0437\\u043d\\u044b\\u0439 \\u0440\\u044f\\u0434 \\u043c\\u0435\\u0447\\u0435\\u0442\\u044c \\u0441\\u0435\\u0440\\u0434\\u0446\\u0435 \\u0447\\u0435\\u0447\\u043d\\u044f \\u043f\\u0440\\u0430\\u0432\\u043e\\u0441\\u043b\\u0430\\u0432\\u043d\\u044b\\u0439 \\u0445\\u0440\\u0430\\u043c \\u043c\\u0438\\u0445\\u0430\\u0438\\u043b \\u0430\\u0440\\u0445\\u0430\\u043d\\u0433\\u0435\\u043b \\u0443\\u0442\\u043e\\u0447\\u043d\\u044f\\u0442\\u044c \\u043a\\u0430\\u0432\\u043a\\u0430\\u0437\\u0441\\u043a\\u0438\\u0439 \\u0443\\u0437\\u0435\\u043b \\u043c\\u0435\\u0441\\u0442\\u043e \\u043d\\u0430\\u0447\\u0430\\u043b\\u043e xx \\u0432\\u0435\\u043a \\u0441\\u0438\\u043d\\u0430\\u0433\\u043e\\u0433\\u0430 \\u0441\\u043e\\u0432\\u0435\\u0442\\u0441\\u043a\\u0438\\u0439 \\u0432\\u043b\\u0430\\u0441\\u0442\\u044c \\u0437\\u0434\\u0430\\u043d\\u0438\\u0435 \\u043e\\u0442\\u043a\\u0440\\u044b\\u0442\\u044c \\u043c\\u0443\\u0437\\u044b\\u043a\\u0430\\u043b\\u044c\\u043d\\u044b\\u0439 \\u0448\\u043a\\u043e\\u043b\\u0430 \\u0431\\u043e\\u0435\\u0432 \\u0434\\u0435\\u0439\\u0441\\u0442\\u0432\\u0438\\u0435 \\u0437\\u0434\\u0430\\u043d\\u0438\\u0435 \\u0440\\u0430\\u0437\\u0440\\u0443\\u0448\\u0438\\u0442\\u044c \\u0440\\u0430\\u0434\\u0438\\u043e\\u0441\\u0442\\u0430\\u043d\\u0446\\u0438\\u044f \\u044d\\u0445\\u043e \\u043a\\u0430\\u0432\\u043a\\u0430\\u0437 \\u0434\\u043e\\u0431\\u0430\\u0432\\u043b\\u044f\\u0442\\u044c \\u0446\\u0435\\u0440\\u0435\\u043c\\u043e\\u043d\\u0438\\u044f \\u0437\\u0430\\u043a\\u043b\\u0430\\u0434\\u043a\\u0430 \\u043a\\u0430\\u043c\\u0435\\u043d\\u044c \\u0444\\u0443\\u0442\\u0431\\u043e\\u043b\\u0438\\u0441\\u0442 \\u0438\\u0437\\u0440\\u0430\\u0438\\u043b\\u044c\\u0441\\u043a\\u0438\\u0439 \\u043a\\u043e\\u043c\\u0430\\u043d\\u0434\\u0430 \\u0431\\u0435\\u0439\\u0442\\u0430\\u0440\\u0430 \\u043f\\u0440\\u0438\\u043b\\u0435\\u0442\\u0435\\u0442\\u044c \\u0447\\u0435\\u0447\\u043d\\u044f \\u0441\\u043b\\u0435\\u0434\\u0443\\u044e\\u0449\\u0438\\u0439 \\u0441\\u044b\\u0433\\u0440\\u0430\\u0442\\u044c \\u0442\\u043e\\u0432\\u0430\\u0440\\u0438\\u0449\\u0435\\u0441\\u043a\\u0438\\u0439 \\u043c\\u0430\\u0442\\u0447 \\u0433\\u0440\\u043e\\u0437\\u043d\\u0435\\u043d\\u0441\\u043a\\u0438\\u0439 \\u0442\\u0435\\u0440\\u0435\\u043a \\u0447\\u0435\\u0447\\u0435\\u043d\\u0441\\u043a\\u0438\\u0439 \\u0432\\u043e\\u0439\\u043d\\u0430 \\u0433\\u0440\\u043e\\u0437\\u043d\\u044b\\u0439 \\u0435\\u0432\\u0440\\u0435\\u0439\\u0441\\u043a\\u0438\\u0439 \\u043e\\u0431\\u0449\\u0438\\u043d\\u0430 \\u043d\\u0430\\u0447\\u0430\\u043b\\u043e \\u0431\\u043e\\u0435\\u0432 \\u0434\\u0435\\u0439\\u0441\\u0442\\u0432\\u0438\\u0435 \\u0435\\u0432\\u0440\\u0435\\u0439 \\u0443\\u0435\\u0445\\u0430\\u0442\\u044c \\u0447\\u0435\\u0447\\u043d\\u044f \\u043a\\u0430\\u0432\\u043a\\u0430\\u0437\\u0441\\u043a\\u0438\\u0439 \\u0443\\u0437\\u0435\\u043b \\u0440\\u0435\\u0441\\u043f\\u0443\\u0431\\u043b\\u0438\\u043a\\u0430 \\u043f\\u043e\\u0441\\u0435\\u0442\\u0438\\u0442\\u044c \\u043f\\u0440\\u0435\\u0434\\u0441\\u0435\\u0434\\u0430\\u0442\\u0435\\u043b\\u044c \\u043a\\u043e\\u043d\\u0433\\u0440\\u0435\\u0441\\u0441 \\u0435\\u0432\\u0440\\u0435\\u0439\\u0441\\u043a\\u0438\\u0439 \\u0440\\u0435\\u043b\\u0438\\u0433\\u0438\\u043e\\u0437\\u043d\\u044b\\u0439 \\u043e\\u0431\\u0449\\u0438\\u043d\\u0430 \\u043e\\u0440\\u0433\\u0430\\u043d\\u0438\\u0437\\u0430\\u0446\\u0438\\u044f \\u0440\\u043e\\u0441\\u0441\\u0438\\u044f \\u043a\\u0435\\u0440\\u043e\\u043e\\u0440 \\u0440\\u0430\\u0432\\u0432\\u0438\\u043d \\u0437\\u0438\\u043d\\u043e\\u0432\\u0438\\u0439 \\u043a\\u043e\\u0433\\u0430\\u043d \\u043f\\u0440\\u0435\\u0434\\u043b\\u043e\\u0436\\u0438\\u0442\\u044c \\u0432\\u043e\\u0437\\u0440\\u043e\\u0434\\u0438\\u0442\\u044c \\u043e\\u0431\\u0449\\u0438\\u043d\\u0430 \\u043f\\u043e\\u0441\\u0442\\u0440\\u043e\\u0438\\u0442\\u044c \\u0441\\u0438\\u043d\\u0430\\u0433\\u043e\\u0433\\u0430 \\u0433\\u043b\\u0430\\u0432\\u0430 \\u0447\\u0435\\u0447\\u043d\\u044f \\u0440\\u0430\\u043c\\u0437\\u0430\\u043d \\u043a\\u0430\\u0434\\u044b\\u0440\\u043e\\u0432 \\u043f\\u043e\\u0434\\u0434\\u0435\\u0440\\u0436\\u0430\\u0442\\u044c \\u0438\\u0434\\u0435\\u044f \\u043f\\u043e\\u043e\\u0431\\u0435\\u0449\\u0430\\u0442\\u044c \\u0432\\u044b\\u0434\\u0435\\u043b\\u0438\\u0442\\u044c \\u0434\\u0435\\u043d\\u044c\\u0433\\u0430 \\u0432\\u0435\\u0441\\u0442\\u0438 \\u0444\\u0438\\u043d\\u0430\\u043d\\u0441\\u0438\\u0440\\u043e\\u0432\\u0430\\u0442\\u044c \\u0441\\u0442\\u0440\\u043e\\u0438\\u0442\\u0435\\u043b\\u044c\\u0441\\u0442\\u0432\\u043e\",\n          \"\\u043c\\u043e\\u0441\\u043a\\u0432\\u0430 \\u0437\\u0430\\u0434\\u0435\\u0440\\u0436\\u0430\\u0442\\u044c \\u043f\\u044f\\u0442\\u0435\\u0440\\u043e \\u043f\\u043e\\u0434\\u043e\\u0437\\u0440\\u0435\\u0432\\u0430\\u0442\\u044c \\u0440\\u0430\\u0441\\u043f\\u0440\\u043e\\u0441\\u0442\\u0440\\u0430\\u043d\\u0435\\u043d\\u0438\\u0435 \\u0444\\u0430\\u043b\\u044c\\u0448\\u0438\\u0432\\u044b\\u0439 \\u0434\\u0435\\u043d\\u0435\\u0436\\u043d\\u044b\\u0439 \\u043a\\u0443\\u043f\\u044e\\u0440\\u0430 \\u0433\\u043e\\u0440\\u043e\\u0434\\u0441\\u043a\\u043e\\u0439 \\u0433\\u0443 \\u043c\\u0432\\u0434 \\u0434\\u0432\\u043e\\u0435 \\u0437\\u0430\\u0434\\u0435\\u0440\\u0436\\u0430\\u0442\\u044c \\u0443\\u0440\\u043e\\u0436\\u0435\\u043d\\u0435\\u0446 \\u0441\\u0435\\u0432\\u0435\\u0440\\u043e \\u043a\\u0430\\u0432\\u043a\\u0430\\u0437\\u0441\\u043a\\u0438\\u0439 \\u0444\\u0435\\u0434\\u0435\\u0440\\u0430\\u043b\\u044c\\u043d\\u044b\\u0439 \\u043e\\u043a\\u0440\\u0443\\u0433\\u0430 \\u0443\\u0440\\u043e\\u0436\\u0435\\u043d\\u0435\\u0446 \\u043a\\u0430\\u043b\\u043c\\u044b\\u043a\\u0438\\u044f \\u0443\\u0440\\u043e\\u0436\\u0435\\u043d\\u0435\\u0446 \\u0441\\u0442\\u0430\\u0432\\u0440\\u043e\\u043f\\u043e\\u043b\\u044c\\u0435 \\u0433\\u0440\\u0430\\u0436\\u0434\\u0430\\u043d\\u0438\\u043d \\u043a\\u0430\\u0437\\u0430\\u0445\\u0441\\u0442\\u0430\\u043d \\u043a\\u0430\\u0432\\u043a\\u0430\\u0437\\u0435\\u0446 \\u043f\\u0440\\u043e\\u0448\\u043b\\u043e\\u0435 \\u0441\\u0443\\u0434\\u0438\\u0442\\u044c \\u0437\\u0430\\u0434\\u0435\\u0440\\u0436\\u0430\\u0442\\u044c \\u043e\\u0444\\u0438\\u0446\\u0438\\u0430\\u043b\\u044c\\u043d\\u044b\\u0439 \\u043c\\u0435\\u0441\\u0442\\u043e \\u0440\\u0430\\u0431\\u043e\\u0442\\u0430 \\u0437\\u0430\\u0434\\u0435\\u0440\\u0436\\u0430\\u043d\\u0438\\u0435 \\u043f\\u0440\\u043e\\u0438\\u0437\\u0432\\u0435\\u0441\\u0442\\u0438 \\u043f\\u043e\\u043b\\u0438\\u0447\\u043d\\u043e\\u0435 \\u043e\\u043f\\u0435\\u0440\\u0430\\u0442\\u0438\\u0432\\u043d\\u0438\\u043a \\u0432\\u0438\\u0434 \\u043f\\u043e\\u0442\\u0435\\u043d\\u0446\\u0438\\u0430\\u043b\\u044c\\u043d\\u044b\\u0439 \\u0441\\u043e\\u043e\\u0431\\u0449\\u043d\\u0438\\u043a \\u0434\\u043e\\u0433\\u043e\\u0432\\u043e\\u0440\\u0438\\u0442\\u044c\\u0441\\u044f \\u0444\\u0430\\u043b\\u044c\\u0448\\u0438\\u0432\\u043e\\u043c\\u043e\\u043d\\u0435\\u0442\\u0447\\u0438\\u043a \\u043f\\u043e\\u0434\\u0434\\u0435\\u043b\\u044c\\u043d\\u044b\\u0439 \\u043a\\u0443\\u043f\\u044e\\u0440\\u0430 \\u0441\\u0443\\u043c\\u043c\\u0430 \\u0442\\u044b\\u0441\\u044f\\u0447\\u0430 \\u0440\\u0443\\u0431\\u043b\\u044c \\u0442\\u044b\\u0441\\u044f\\u0447\\u0430 \\u0440\\u0443\\u0431\\u043b\\u044c \\u0432\\u043e\\u0437\\u0431\\u0443\\u0434\\u0438\\u0442\\u044c \\u0441\\u0442\\u0430\\u0442\\u044c\\u044f \\u0443\\u043a \\u0440\\u0444 \\u0438\\u0437\\u0433\\u043e\\u0442\\u043e\\u0432\\u043b\\u0435\\u043d\\u0438\\u0435 \\u0441\\u0431\\u044b\\u0442 \\u043f\\u043e\\u0434\\u0434\\u0435\\u043b\\u044c\\u043d\\u044b\\u0439 \\u0434\\u0435\\u043d\\u044c\\u0433\\u0430 \\u0432\\u0435\\u0440\\u0441\\u0438\\u044f \\u0441\\u043b\\u0435\\u0434\\u0441\\u0442\\u0432\\u0438\\u0435 \\u043f\\u0440\\u0435\\u0441\\u0442\\u0443\\u043f\\u043d\\u0438\\u043a \\u0443\\u0441\\u043f\\u0435\\u0442\\u044c \\u0441\\u0431\\u044b\\u0442\\u044c \\u043c\\u043e\\u0441\\u043a\\u0432\\u0430 \\u043c\\u0438\\u043b\\u043b\\u0438\\u043e\\u043d \\u0444\\u0430\\u043b\\u044c\\u0448\\u0438\\u0432\\u044b\\u0439 \\u043a\\u0443\\u043f\\u044e\\u0440\\u0430 \\u044d\\u043a\\u0441\\u043f\\u0435\\u0440\\u0442\\u0438\\u0437\\u0430 \\u043f\\u043e\\u043a\\u0430\\u0437\\u0430\\u0442\\u044c \\u0431\\u0430\\u043d\\u043a\\u043d\\u043e\\u0442 \\u0438\\u0437\\u0433\\u043e\\u0442\\u043e\\u0432\\u0438\\u0442\\u044c \\u0434\\u043e\\u0441\\u0442\\u0430\\u0442\\u043e\\u0447\\u043d\\u043e \\u0433\\u0440\\u0443\\u0431\\u043e \\u043a\\u0443\\u0441\\u0442\\u0430\\u0440\\u043d\\u044b\\u0439 \\u043c\\u0435\\u0442\\u043e\\u0434 \\u0441\\u043f\\u0435\\u0446\\u0438\\u0430\\u043b\\u044c\\u043d\\u044b\\u0439 \\u043f\\u0440\\u0438\\u0431\\u043e\\u0440 \\u043e\\u0442\\u043b\\u0438\\u0447\\u0438\\u0442\\u044c \\u043f\\u0440\\u0435\\u0434\\u0441\\u0442\\u0430\\u0432\\u043b\\u044f\\u0442\\u044c\\u0441\\u044f \\u0432\\u043e\\u0437\\u043c\\u043e\\u0436\\u043d\\u044b\\u0439 \\u043c\\u0435\\u0441\\u0442\\u043e \\u0438\\u0437\\u0433\\u043e\\u0442\\u043e\\u0432\\u043b\\u0435\\u043d\\u0438\\u0435 \\u043a\\u0443\\u043f\\u044e\\u0440\\u0430 \\u0443\\u0441\\u0442\\u0430\\u043d\\u0430\\u0432\\u043b\\u0438\\u0432\\u0430\\u0442\\u044c\\u0441\\u044f\",\n          \"\\u0430\\u043a\\u0446\\u0438\\u044f \\u0441\\u043e\\u0446\\u0438\\u0430\\u043b\\u044c\\u043d\\u044b\\u0439 \\u0441\\u0435\\u0442\\u044c facebook \\u0438\\u0442\\u043e\\u0433 \\u0442\\u043e\\u0440\\u0433 \\u0432\\u044b\\u0440\\u0430\\u0441\\u0442\\u0438 \\u0446\\u0435\\u043d\\u0430 \\u043f\\u0440\\u043e\\u0446\\u0435\\u043d\\u0442 \\u0437\\u0430\\u043a\\u0440\\u044b\\u0442\\u044c\\u0441\\u044f \\u043e\\u0442\\u043c\\u0435\\u0442\\u043a\\u0430 \\u0434\\u043e\\u043b\\u043b\\u0430\\u0440 \\u0448\\u0442\\u0443\\u043a\\u0430 \\u043d\\u0430\\u0447\\u0430\\u043b\\u043e \\u0430\\u043a\\u0446\\u0438\\u044f \\u043a\\u043e\\u043c\\u043f\\u0430\\u043d\\u0438\\u044f \\u043f\\u043e\\u0434\\u043e\\u0440\\u043e\\u0436\\u0430\\u0442\\u044c \\u043f\\u0440\\u043e\\u0446\\u0435\\u043d\\u0442 \\u0432\\u044b\\u0433\\u043e\\u0434\\u043d\\u044b\\u0439 \\u0432\\u043b\\u043e\\u0436\\u0435\\u043d\\u0438\\u0435 \\u0440\\u044b\\u043d\\u043e\\u043a \\u043f\\u043e\\u043b\\u043e\\u0432\\u0438\\u043d\\u0430 \\u0432\\u044b\\u0448\\u0435 \\u043e\\u0442\\u043c\\u0435\\u0442\\u043a\\u0430 \\u0434\\u043e\\u043b\\u043b\\u0430\\u0440 \\u0430\\u043a\\u0446\\u0438\\u044f facebook \\u0442\\u043e\\u0440\\u0433\\u043e\\u0432\\u0430\\u0442\\u044c\\u0441\\u044f \\u043b\\u0435\\u0442\\u043e \\u0446\\u0435\\u043d\\u043d\\u044b\\u0439 \\u0431\\u0443\\u043c\\u0430\\u0433\\u0430 \\u043f\\u043e\\u0434\\u043e\\u0440\\u043e\\u0436\\u0430\\u0442\\u044c \\u043f\\u0440\\u043e\\u0446\\u0435\\u043d\\u0442 \\u0441\\u0442\\u043e\\u0438\\u043c\\u043e\\u0441\\u0442\\u044c \\u0430\\u043a\\u0446\\u0438\\u044f \\u0441\\u043e\\u0446\\u0438\\u0430\\u043b\\u044c\\u043d\\u044b\\u0439 \\u0441\\u0435\\u0442\\u044c \\u043f\\u0440\\u0435\\u0436\\u043d\\u0438\\u0439 \\u043c\\u0430\\u043b\\u0435\\u043d\\u044c\\u043a\\u0438\\u0439 ipo \\u043f\\u0440\\u043e\\u0434\\u0430\\u0432\\u0430\\u0442\\u044c\\u0441\\u044f \\u0434\\u043e\\u043b\\u043b\\u0430\\u0440 \\u0438\\u043d\\u0432\\u0435\\u0441\\u0442\\u043e\\u0440 \\u0441\\u043a\\u0443\\u043f\\u0430\\u0442\\u044c \\u0430\\u043a\\u0446\\u0438\\u044f facebook \\u043f\\u0440\\u0438\\u0433\\u043b\\u0430\\u0448\\u0435\\u043d\\u0438\\u0435 \\u0440\\u0430\\u0437\\u043e\\u0441\\u043b\\u0430\\u0442\\u044c \\u0441\\u043e\\u0446\\u0438\\u0430\\u043b\\u044c\\u043d\\u044b\\u0439 \\u0441\\u0435\\u0442\\u044c \\u0436\\u0443\\u0440\\u043d\\u0430\\u043b\\u0438\\u0441\\u0442 facebook \\u043f\\u0440\\u0438\\u0433\\u043b\\u0430\\u0441\\u0438\\u0442\\u044c \\u043f\\u0440\\u0435\\u0437\\u0435\\u043d\\u0442\\u0430\\u0446\\u0438\\u044f \\u043f\\u0440\\u0435\\u0434\\u0441\\u0442\\u0430\\u0432\\u043b\\u044f\\u0442\\u044c \\u043d\\u0435\\u0438\\u0437\\u0432\\u0435\\u0441\\u0442\\u043d\\u043e marketwatch \\u0430\\u043d\\u0430\\u043b\\u0438\\u0442\\u0438\\u043a\\u0430 \\u043e\\u0436\\u0438\\u0434\\u0430\\u0442\\u044c facebook \\u043d\\u043e\\u0432\\u043e\\u0435 \\u043f\\u0440\\u043e\\u0434\\u0443\\u043a\\u0442 \\u0441\\u043c\\u0430\\u0440\\u0442\\u0444\\u043e\\u043d \\u043c\\u0443\\u0437\\u044b\\u043a\\u0430\\u043b\\u044c\\u043d\\u044b\\u0439 \\u043f\\u043e\\u0438\\u0441\\u043a\\u043e\\u0432\\u044b\\u0439 \\u0441\\u0435\\u0440\\u0432\\u0438\\u0441 \\u0438\\u0441\\u043a\\u043b\\u044e\\u0447\\u0438\\u0442\\u044c \\u043a\\u043e\\u043c\\u043f\\u0430\\u043d\\u0438\\u044f \\u043f\\u0440\\u0435\\u0434\\u0441\\u0442\\u0430\\u0432\\u0438\\u0442\\u044c \\u043f\\u0440\\u043e\\u0434\\u0443\\u043a\\u0442 \\u0440\\u044b\\u043d\\u043e\\u043a \\u044d\\u043b\\u0435\\u043a\\u0442\\u0440\\u043e\\u043d\\u043d\\u044b\\u0439 \\u043a\\u043e\\u043c\\u043c\\u0435\\u0440\\u0446\\u0438\\u044f facebook \\u043d\\u0438\\u043a\\u0430\\u043a\\u043e\\u0439 \\u043e\\u0442\\u043d\\u043e\\u0441\\u0438\\u0442\\u0435\\u043b\\u044c\\u043d\\u043e \\u043f\\u0440\\u0435\\u0437\\u0435\\u043d\\u0442\\u0430\\u0446\\u0438\\u044f \\u0434\\u0430\\u0432\\u0430\\u0442\\u044c\"\n        ],\n        \"semantic_type\": \"\",\n        \"description\": \"\"\n      }\n    },\n    {\n      \"column\": \"year\",\n      \"properties\": {\n        \"dtype\": \"number\",\n        \"std\": 0,\n        \"min\": 2013,\n        \"max\": 2013,\n        \"num_unique_values\": 1,\n        \"samples\": [\n          2013\n        ],\n        \"semantic_type\": \"\",\n        \"description\": \"\"\n      }\n    },\n    {\n      \"column\": \"month\",\n      \"properties\": {\n        \"dtype\": \"number\",\n        \"std\": 0,\n        \"min\": 1,\n        \"max\": 1,\n        \"num_unique_values\": 1,\n        \"samples\": [\n          1\n        ],\n        \"semantic_type\": \"\",\n        \"description\": \"\"\n      }\n    },\n    {\n      \"column\": \"day\",\n      \"properties\": {\n        \"dtype\": \"number\",\n        \"std\": 3,\n        \"min\": 1,\n        \"max\": 11,\n        \"num_unique_values\": 11,\n        \"samples\": [\n          6\n        ],\n        \"semantic_type\": \"\",\n        \"description\": \"\"\n      }\n    },\n    {\n      \"column\": \"time_n\",\n      \"properties\": {\n        \"dtype\": \"number\",\n        \"std\": 288,\n        \"min\": 449272,\n        \"max\": 450271,\n        \"num_unique_values\": 1000,\n        \"samples\": [\n          449793\n        ],\n        \"semantic_type\": \"\",\n        \"description\": \"\"\n      }\n    },\n    {\n      \"column\": \"lemmatized_title\",\n      \"properties\": {\n        \"dtype\": \"string\",\n        \"num_unique_values\": 999,\n        \"samples\": [\n          \"\\u043e\\u0434\\u0438\\u043d \\u0442\\u043e\\u0440\\u0433 \\u0433\\u043e\\u0434 \\u043d\\u0430 \\u043c\\u043e\\u0441\\u043a\\u043e\\u0432\\u0441\\u043a\\u0438\\u0439 \\u0431\\u0438\\u0440\\u0436\\u0430 \\u043e\\u0442\\u043a\\u0440\\u044b\\u0442\\u044c\\u0441\\u044f \\u0440\\u043e\\u0441\\u0442 \\u0438\\u043d\\u0434\\u0435\\u043a\\u0441\"\n        ],\n        \"semantic_type\": \"\",\n        \"description\": \"\"\n      }\n    },\n    {\n      \"column\": \"topmine\",\n      \"properties\": {\n        \"dtype\": \"string\",\n        \"num_unique_values\": 1000,\n        \"samples\": [\n          \"\\u043c\\u0435\\u0447\\u0435\\u0442\\u044c_\\u0440\\u044f\\u0434 \\u0435\\u0432\\u0440\\u0435\\u0439\\u0441\\u043a\\u0438\\u0439_\\u043e\\u0431\\u0449\\u0438\\u043d\\u0430 \\u0441\\u043e\\u0432\\u0435\\u0442\\u0441\\u043a\\u0438\\u0439_\\u0432\\u043b\\u0430\\u0441\\u0442\\u044c \\u0443\\u0442\\u043e\\u0447\\u043d\\u044f\\u0442\\u044c_\\u043a\\u0430\\u0432\\u043a\\u0430\\u0437\\u0441\\u043a\\u0438\\u0439 \\u0431\\u043e\\u0435\\u0432_\\u0434\\u0435\\u0439\\u0441\\u0442\\u0432\\u0438\\u0435 \\u0431\\u043e\\u0435\\u0432_\\u0434\\u0435\\u0439\\u0441\\u0442\\u0432\\u0438\\u0435 \\u0433\\u043b\\u0430\\u0432\\u0430_\\u0447\\u0435\\u0447\\u043d\\u044f_\\u0440\\u0430\\u043c\\u0437\\u0430\\u043d_\\u043a\\u0430\\u0434\\u044b\\u0440\\u043e\\u0432 \\u0433\\u0440\\u043e\\u0437\\u043d\\u0435\\u043d\\u0441\\u043a\\u0438\\u0439_\\u0442\\u0435\\u0440\\u0435\\u043a \\u0433\\u043b\\u0430\\u0432\\u0430_\\u0447\\u0435\\u0447\\u043d\\u044f_\\u0440\\u0430\\u043c\\u0437\\u0430\\u043d \\u0447\\u0435\\u0447\\u043d\\u044f_\\u0440\\u0430\\u043c\\u0437\\u0430\\u043d_\\u043a\\u0430\\u0434\\u044b\\u0440\\u043e\\u0432 \\u043f\\u0440\\u0430\\u0432\\u043e\\u0441\\u043b\\u0430\\u0432\\u043d\\u044b\\u0439_\\u0445\\u0440\\u0430\\u043c \\u0433\\u043b\\u0430\\u0432\\u0430_\\u0447\\u0435\\u0447\\u043d\\u044f \\u0447\\u0435\\u0447\\u043d\\u044f_\\u0440\\u0430\\u043c\\u0437\\u0430\\u043d \\u0443\\u0437\\u0435\\u043b_\\u0440\\u0435\\u0441\\u043f\\u0443\\u0431\\u043b\\u0438\\u043a\\u0430 \\u043a\\u0430\\u0432\\u043a\\u0430\\u0437\\u0441\\u043a\\u0438\\u0439_\\u0443\\u0437\\u0435\\u043b \\u043a\\u0430\\u0432\\u043a\\u0430\\u0437\\u0441\\u043a\\u0438\\u0439_\\u0443\\u0437\\u0435\\u043b \\u043f\\u043e\\u0441\\u0442\\u0440\\u043e\\u0438\\u0442\\u044c_\\u0446\\u0435\\u043d\\u0442\\u0440 \\u044d\\u0445\\u043e_\\u043a\\u0430\\u0432\\u043a\\u0430\\u0437 \\u0440\\u0430\\u0434\\u0438\\u043e\\u0441\\u0442\\u0430\\u043d\\u0446\\u0438\\u044f_\\u044d\\u0445\\u043e \\u043d\\u0430\\u0447\\u0430\\u043b\\u043e_xx \\u043d\\u0430\\u0447\\u0430\\u043b\\u043e_xx_\\u0432\\u0435\\u043a \\u0440\\u0430\\u043c\\u0437\\u0430\\u043d_\\u043a\\u0430\\u0434\\u044b\\u0440\\u043e\\u0432 xx_\\u0432\\u0435\\u043a \\u0442\\u043e\\u0432\\u0430\\u0440\\u0438\\u0449\\u0435\\u0441\\u043a\\u0438\\u0439_\\u043c\\u0430\\u0442\\u0447 \\u0434\\u0435\\u043d\\u044c\\u0433\\u0430_\\u0432\\u044b\\u0434\\u0435\\u043b\\u0438\\u0442\\u044c \\u043e\\u0440\\u0433\\u0430\\u043d\\u0438\\u0437\\u0430\\u0446\\u0438\\u044f_\\u0440\\u043e\\u0441\\u0441\\u0438\\u044f \\u0441\\u044b\\u0433\\u0440\\u0430\\u0442\\u044c_\\u0442\\u043e\\u0432\\u0430\\u0440\\u0438\\u0449\\u0435\\u0441\\u043a\\u0438\\u0439 \\u043f\\u043e\\u0434\\u0434\\u0435\\u0440\\u0436\\u0430\\u0442\\u044c_\\u0438\\u0434\\u0435\\u044f \\u0446\\u0435\\u0440\\u0435\\u043c\\u043e\\u043d\\u0438\\u044f_\\u0437\\u0430\\u043a\\u043b\\u0430\\u0434\\u043a\\u0430 \\u0441\\u0441\\u044b\\u043b\\u043a\\u0430_\\u0430\\u0434\\u043c\\u0438\\u043d\\u0438\\u0441\\u0442\\u0440\\u0430\\u0446\\u0438\\u044f \\u0447\\u0435\\u0447\\u0435\\u043d\\u0441\\u043a\\u0438\\u0439_\\u0432\\u043e\\u0439\\u043d\\u0430\"\n        ],\n        \"semantic_type\": \"\",\n        \"description\": \"\"\n      }\n    },\n    {\n      \"column\": \"vw_text\",\n      \"properties\": {\n        \"dtype\": \"string\",\n        \"num_unique_values\": 1000,\n        \"samples\": [\n          \"521 |@word \\u0433\\u0440\\u043e\\u0437\\u043d\\u044b\\u0439 \\u0432\\u0435\\u0447\\u0435\\u0440\\u043e\\u043c \\u0437\\u0430\\u043b\\u043e\\u0436\\u0438\\u0442\\u044c \\u043a\\u0430\\u043c\\u0435\\u043d\\u044c \\u043e\\u0441\\u043d\\u043e\\u0432\\u0430\\u043d\\u0438\\u0435 \\u0431\\u0443\\u0434\\u0443\\u0449\\u0438\\u0439 \\u0441\\u0438\\u043d\\u0430\\u0433\\u043e\\u0433\\u0430 \\u0441\\u0441\\u044b\\u043b\\u043a\\u0430 \\u0430\\u0434\\u043c\\u0438\\u043d\\u0438\\u0441\\u0442\\u0440\\u0430\\u0446\\u0438\\u044f \\u0447\\u0435\\u0447\\u0435\\u043d\\u0441\\u043a\\u0438\\u0439 \\u0441\\u0442\\u043e\\u043b\\u0438\\u0446\\u0430 \\u0441\\u0438\\u043d\\u0430\\u0433\\u043e\\u0433\\u0430 \\u043f\\u043e\\u0441\\u0442\\u0440\\u043e\\u0438\\u0442\\u044c \\u0446\\u0435\\u043d\\u0442\\u0440 \\u0433\\u0440\\u043e\\u0437\\u043d\\u044b\\u0439 \\u0440\\u044f\\u0434 \\u043c\\u0435\\u0447\\u0435\\u0442\\u044c \\u0441\\u0435\\u0440\\u0434\\u0446\\u0435 \\u0447\\u0435\\u0447\\u043d\\u044f \\u043f\\u0440\\u0430\\u0432\\u043e\\u0441\\u043b\\u0430\\u0432\\u043d\\u044b\\u0439 \\u0445\\u0440\\u0430\\u043c \\u043c\\u0438\\u0445\\u0430\\u0438\\u043b \\u0430\\u0440\\u0445\\u0430\\u043d\\u0433\\u0435\\u043b \\u0443\\u0442\\u043e\\u0447\\u043d\\u044f\\u0442\\u044c \\u043a\\u0430\\u0432\\u043a\\u0430\\u0437\\u0441\\u043a\\u0438\\u0439 \\u0443\\u0437\\u0435\\u043b \\u043c\\u0435\\u0441\\u0442\\u043e \\u043d\\u0430\\u0447\\u0430\\u043b\\u043e xx \\u0432\\u0435\\u043a \\u0441\\u0438\\u043d\\u0430\\u0433\\u043e\\u0433\\u0430 \\u0441\\u043e\\u0432\\u0435\\u0442\\u0441\\u043a\\u0438\\u0439 \\u0432\\u043b\\u0430\\u0441\\u0442\\u044c \\u0437\\u0434\\u0430\\u043d\\u0438\\u0435 \\u043e\\u0442\\u043a\\u0440\\u044b\\u0442\\u044c \\u043c\\u0443\\u0437\\u044b\\u043a\\u0430\\u043b\\u044c\\u043d\\u044b\\u0439 \\u0448\\u043a\\u043e\\u043b\\u0430 \\u0431\\u043e\\u0435\\u0432 \\u0434\\u0435\\u0439\\u0441\\u0442\\u0432\\u0438\\u0435 \\u0437\\u0434\\u0430\\u043d\\u0438\\u0435 \\u0440\\u0430\\u0437\\u0440\\u0443\\u0448\\u0438\\u0442\\u044c \\u0440\\u0430\\u0434\\u0438\\u043e\\u0441\\u0442\\u0430\\u043d\\u0446\\u0438\\u044f \\u044d\\u0445\\u043e \\u043a\\u0430\\u0432\\u043a\\u0430\\u0437 \\u0434\\u043e\\u0431\\u0430\\u0432\\u043b\\u044f\\u0442\\u044c \\u0446\\u0435\\u0440\\u0435\\u043c\\u043e\\u043d\\u0438\\u044f \\u0437\\u0430\\u043a\\u043b\\u0430\\u0434\\u043a\\u0430 \\u043a\\u0430\\u043c\\u0435\\u043d\\u044c \\u0444\\u0443\\u0442\\u0431\\u043e\\u043b\\u0438\\u0441\\u0442 \\u0438\\u0437\\u0440\\u0430\\u0438\\u043b\\u044c\\u0441\\u043a\\u0438\\u0439 \\u043a\\u043e\\u043c\\u0430\\u043d\\u0434\\u0430 \\u0431\\u0435\\u0439\\u0442\\u0430\\u0440\\u0430 \\u043f\\u0440\\u0438\\u043b\\u0435\\u0442\\u0435\\u0442\\u044c \\u0447\\u0435\\u0447\\u043d\\u044f \\u0441\\u043b\\u0435\\u0434\\u0443\\u044e\\u0449\\u0438\\u0439 \\u0441\\u044b\\u0433\\u0440\\u0430\\u0442\\u044c \\u0442\\u043e\\u0432\\u0430\\u0440\\u0438\\u0449\\u0435\\u0441\\u043a\\u0438\\u0439 \\u043c\\u0430\\u0442\\u0447 \\u0433\\u0440\\u043e\\u0437\\u043d\\u0435\\u043d\\u0441\\u043a\\u0438\\u0439 \\u0442\\u0435\\u0440\\u0435\\u043a \\u0447\\u0435\\u0447\\u0435\\u043d\\u0441\\u043a\\u0438\\u0439 \\u0432\\u043e\\u0439\\u043d\\u0430 \\u0433\\u0440\\u043e\\u0437\\u043d\\u044b\\u0439 \\u0435\\u0432\\u0440\\u0435\\u0439\\u0441\\u043a\\u0438\\u0439 \\u043e\\u0431\\u0449\\u0438\\u043d\\u0430 \\u043d\\u0430\\u0447\\u0430\\u043b\\u043e \\u0431\\u043e\\u0435\\u0432 \\u0434\\u0435\\u0439\\u0441\\u0442\\u0432\\u0438\\u0435 \\u0435\\u0432\\u0440\\u0435\\u0439 \\u0443\\u0435\\u0445\\u0430\\u0442\\u044c \\u0447\\u0435\\u0447\\u043d\\u044f \\u043a\\u0430\\u0432\\u043a\\u0430\\u0437\\u0441\\u043a\\u0438\\u0439 \\u0443\\u0437\\u0435\\u043b \\u0440\\u0435\\u0441\\u043f\\u0443\\u0431\\u043b\\u0438\\u043a\\u0430 \\u043f\\u043e\\u0441\\u0435\\u0442\\u0438\\u0442\\u044c \\u043f\\u0440\\u0435\\u0434\\u0441\\u0435\\u0434\\u0430\\u0442\\u0435\\u043b\\u044c \\u043a\\u043e\\u043d\\u0433\\u0440\\u0435\\u0441\\u0441 \\u0435\\u0432\\u0440\\u0435\\u0439\\u0441\\u043a\\u0438\\u0439 \\u0440\\u0435\\u043b\\u0438\\u0433\\u0438\\u043e\\u0437\\u043d\\u044b\\u0439 \\u043e\\u0431\\u0449\\u0438\\u043d\\u0430 \\u043e\\u0440\\u0433\\u0430\\u043d\\u0438\\u0437\\u0430\\u0446\\u0438\\u044f \\u0440\\u043e\\u0441\\u0441\\u0438\\u044f \\u043a\\u0435\\u0440\\u043e\\u043e\\u0440 \\u0440\\u0430\\u0432\\u0432\\u0438\\u043d \\u0437\\u0438\\u043d\\u043e\\u0432\\u0438\\u0439 \\u043a\\u043e\\u0433\\u0430\\u043d \\u043f\\u0440\\u0435\\u0434\\u043b\\u043e\\u0436\\u0438\\u0442\\u044c \\u0432\\u043e\\u0437\\u0440\\u043e\\u0434\\u0438\\u0442\\u044c \\u043e\\u0431\\u0449\\u0438\\u043d\\u0430 \\u043f\\u043e\\u0441\\u0442\\u0440\\u043e\\u0438\\u0442\\u044c \\u0441\\u0438\\u043d\\u0430\\u0433\\u043e\\u0433\\u0430 \\u0433\\u043b\\u0430\\u0432\\u0430 \\u0447\\u0435\\u0447\\u043d\\u044f \\u0440\\u0430\\u043c\\u0437\\u0430\\u043d \\u043a\\u0430\\u0434\\u044b\\u0440\\u043e\\u0432 \\u043f\\u043e\\u0434\\u0434\\u0435\\u0440\\u0436\\u0430\\u0442\\u044c \\u0438\\u0434\\u0435\\u044f \\u043f\\u043e\\u043e\\u0431\\u0435\\u0449\\u0430\\u0442\\u044c \\u0432\\u044b\\u0434\\u0435\\u043b\\u0438\\u0442\\u044c \\u0434\\u0435\\u043d\\u044c\\u0433\\u0430 \\u0432\\u0435\\u0441\\u0442\\u0438 \\u0444\\u0438\\u043d\\u0430\\u043d\\u0441\\u0438\\u0440\\u043e\\u0432\\u0430\\u0442\\u044c \\u0441\\u0442\\u0440\\u043e\\u0438\\u0442\\u0435\\u043b\\u044c\\u0441\\u0442\\u0432\\u043e |@ngramm \\u043c\\u0435\\u0447\\u0435\\u0442\\u044c_\\u0440\\u044f\\u0434 \\u0435\\u0432\\u0440\\u0435\\u0439\\u0441\\u043a\\u0438\\u0439_\\u043e\\u0431\\u0449\\u0438\\u043d\\u0430 \\u0441\\u043e\\u0432\\u0435\\u0442\\u0441\\u043a\\u0438\\u0439_\\u0432\\u043b\\u0430\\u0441\\u0442\\u044c \\u0443\\u0442\\u043e\\u0447\\u043d\\u044f\\u0442\\u044c_\\u043a\\u0430\\u0432\\u043a\\u0430\\u0437\\u0441\\u043a\\u0438\\u0439 \\u0431\\u043e\\u0435\\u0432_\\u0434\\u0435\\u0439\\u0441\\u0442\\u0432\\u0438\\u0435 \\u0431\\u043e\\u0435\\u0432_\\u0434\\u0435\\u0439\\u0441\\u0442\\u0432\\u0438\\u0435 \\u0433\\u043b\\u0430\\u0432\\u0430_\\u0447\\u0435\\u0447\\u043d\\u044f_\\u0440\\u0430\\u043c\\u0437\\u0430\\u043d_\\u043a\\u0430\\u0434\\u044b\\u0440\\u043e\\u0432 \\u0433\\u0440\\u043e\\u0437\\u043d\\u0435\\u043d\\u0441\\u043a\\u0438\\u0439_\\u0442\\u0435\\u0440\\u0435\\u043a \\u0433\\u043b\\u0430\\u0432\\u0430_\\u0447\\u0435\\u0447\\u043d\\u044f_\\u0440\\u0430\\u043c\\u0437\\u0430\\u043d \\u0447\\u0435\\u0447\\u043d\\u044f_\\u0440\\u0430\\u043c\\u0437\\u0430\\u043d_\\u043a\\u0430\\u0434\\u044b\\u0440\\u043e\\u0432 \\u043f\\u0440\\u0430\\u0432\\u043e\\u0441\\u043b\\u0430\\u0432\\u043d\\u044b\\u0439_\\u0445\\u0440\\u0430\\u043c \\u0433\\u043b\\u0430\\u0432\\u0430_\\u0447\\u0435\\u0447\\u043d\\u044f \\u0447\\u0435\\u0447\\u043d\\u044f_\\u0440\\u0430\\u043c\\u0437\\u0430\\u043d \\u0443\\u0437\\u0435\\u043b_\\u0440\\u0435\\u0441\\u043f\\u0443\\u0431\\u043b\\u0438\\u043a\\u0430 \\u043a\\u0430\\u0432\\u043a\\u0430\\u0437\\u0441\\u043a\\u0438\\u0439_\\u0443\\u0437\\u0435\\u043b \\u043a\\u0430\\u0432\\u043a\\u0430\\u0437\\u0441\\u043a\\u0438\\u0439_\\u0443\\u0437\\u0435\\u043b \\u043f\\u043e\\u0441\\u0442\\u0440\\u043e\\u0438\\u0442\\u044c_\\u0446\\u0435\\u043d\\u0442\\u0440 \\u044d\\u0445\\u043e_\\u043a\\u0430\\u0432\\u043a\\u0430\\u0437 \\u0440\\u0430\\u0434\\u0438\\u043e\\u0441\\u0442\\u0430\\u043d\\u0446\\u0438\\u044f_\\u044d\\u0445\\u043e \\u043d\\u0430\\u0447\\u0430\\u043b\\u043e_xx \\u043d\\u0430\\u0447\\u0430\\u043b\\u043e_xx_\\u0432\\u0435\\u043a \\u0440\\u0430\\u043c\\u0437\\u0430\\u043d_\\u043a\\u0430\\u0434\\u044b\\u0440\\u043e\\u0432 xx_\\u0432\\u0435\\u043a \\u0442\\u043e\\u0432\\u0430\\u0440\\u0438\\u0449\\u0435\\u0441\\u043a\\u0438\\u0439_\\u043c\\u0430\\u0442\\u0447 \\u0434\\u0435\\u043d\\u044c\\u0433\\u0430_\\u0432\\u044b\\u0434\\u0435\\u043b\\u0438\\u0442\\u044c \\u043e\\u0440\\u0433\\u0430\\u043d\\u0438\\u0437\\u0430\\u0446\\u0438\\u044f_\\u0440\\u043e\\u0441\\u0441\\u0438\\u044f \\u0441\\u044b\\u0433\\u0440\\u0430\\u0442\\u044c_\\u0442\\u043e\\u0432\\u0430\\u0440\\u0438\\u0449\\u0435\\u0441\\u043a\\u0438\\u0439 \\u043f\\u043e\\u0434\\u0434\\u0435\\u0440\\u0436\\u0430\\u0442\\u044c_\\u0438\\u0434\\u0435\\u044f \\u0446\\u0435\\u0440\\u0435\\u043c\\u043e\\u043d\\u0438\\u044f_\\u0437\\u0430\\u043a\\u043b\\u0430\\u0434\\u043a\\u0430 \\u0441\\u0441\\u044b\\u043b\\u043a\\u0430_\\u0430\\u0434\\u043c\\u0438\\u043d\\u0438\\u0441\\u0442\\u0440\\u0430\\u0446\\u0438\\u044f \\u0447\\u0435\\u0447\\u0435\\u043d\\u0441\\u043a\\u0438\\u0439_\\u0432\\u043e\\u0439\\u043d\\u0430\"\n        ],\n        \"semantic_type\": \"\",\n        \"description\": \"\"\n      }\n    },\n    {\n      \"column\": \"id\",\n      \"properties\": {\n        \"dtype\": \"number\",\n        \"std\": 288,\n        \"min\": 0,\n        \"max\": 999,\n        \"num_unique_values\": 1000,\n        \"samples\": [\n          521\n        ],\n        \"semantic_type\": \"\",\n        \"description\": \"\"\n      }\n    }\n  ]\n}"
            }
          },
          "metadata": {},
          "execution_count": 68
        }
      ]
    },
    {
      "cell_type": "code",
      "source": [
        "df['topic'].cat.categories"
      ],
      "metadata": {
        "colab": {
          "base_uri": "https://localhost:8080/"
        },
        "id": "zbkRNAQwSZEx",
        "outputId": "2b0ca0e7-3145-4ac9-8142-1c5d869d01c3"
      },
      "execution_count": null,
      "outputs": [
        {
          "output_type": "stream",
          "name": "stderr",
          "text": [
            "/usr/local/lib/python3.10/dist-packages/ipykernel/ipkernel.py:283: DeprecationWarning: `should_run_async` will not call `transform_cell` automatically in the future. Please pass the result to `transformed_cell` argument and any exception that happen during thetransform in `preprocessing_exc_tuple` in IPython 7.17 and above.\n",
            "  and should_run_async(code)\n"
          ]
        },
        {
          "output_type": "execute_result",
          "data": {
            "text/plain": [
              "Index(['Бывший СССР', 'Дом', 'Из жизни', 'Интернет и СМИ', 'Культура', 'Мир',\n",
              "       'Наука и техника', 'Россия', 'Спорт', 'Экономика'],\n",
              "      dtype='object')"
            ]
          },
          "metadata": {},
          "execution_count": 69
        }
      ]
    },
    {
      "cell_type": "code",
      "source": [
        "stemmer_ru = SnowballStemmer('russian')\n",
        "russian_stop_words = set(stopwords.words('russian'))\n",
        "\n",
        "\n",
        "def lemmatize_stemming(text):\n",
        "  \"\"\"lemmatize and stem a word\"\"\"\n",
        "  return stemmer.stem(text)\n",
        "\n",
        "\n",
        "def preprocess(text):\n",
        "  \"\"\"lemmatize and remove stopwords\"\"\"\n",
        "  result = [lemmatize_stemming(token)\n",
        "            for token in simple_preprocess(text)\n",
        "            if token not in russian_stop_words and len(token) > 3]\n",
        "  return result"
      ],
      "metadata": {
        "colab": {
          "base_uri": "https://localhost:8080/"
        },
        "id": "aPa447nGS_K4",
        "outputId": "60d3acc4-910b-460f-b6e1-d103b3f0c53f"
      },
      "execution_count": null,
      "outputs": [
        {
          "output_type": "stream",
          "name": "stderr",
          "text": [
            "/usr/local/lib/python3.10/dist-packages/ipykernel/ipkernel.py:283: DeprecationWarning: `should_run_async` will not call `transform_cell` automatically in the future. Please pass the result to `transformed_cell` argument and any exception that happen during thetransform in `preprocessing_exc_tuple` in IPython 7.17 and above.\n",
            "  and should_run_async(code)\n"
          ]
        }
      ]
    },
    {
      "cell_type": "code",
      "source": [
        "all_articles_ru = df['text'].to_list()\n",
        "all_articles_ru[:5]"
      ],
      "metadata": {
        "colab": {
          "base_uri": "https://localhost:8080/"
        },
        "id": "cRnrwCtsTIDM",
        "outputId": "c2b769e5-a1a0-4294-a4ff-8c58ce4cd918"
      },
      "execution_count": null,
      "outputs": [
        {
          "output_type": "stream",
          "name": "stderr",
          "text": [
            "/usr/local/lib/python3.10/dist-packages/ipykernel/ipkernel.py:283: DeprecationWarning: `should_run_async` will not call `transform_cell` automatically in the future. Please pass the result to `transformed_cell` argument and any exception that happen during thetransform in `preprocessing_exc_tuple` in IPython 7.17 and above.\n",
            "  and should_run_async(code)\n"
          ]
        },
        {
          "output_type": "execute_result",
          "data": {
            "text/plain": [
              "['В ЮАР произошел пожар, в результате которого погибли три человека, один получил ожоги, а четыре тысячи человек остались бездомными. Об этом 1 января сообщает Agence France-Presse. Пожар произошел в бедном районе Кейптауна. По информации Associated Press, этот район скученно застроен хижинами, зачастую возведенными самовольно. Для освещения, отопления и приготовления пищи там часто используются свечи, газовые горелки, керосиновые лампы и иные пожароопасные устройства. По предварительным данным, причиной возгорания стало неосторожное обращение с огнем в состоянии алкогольного опьянения. Распространению пламени способствовал сильный ветер. В настоящее время на месте работают команды спасателей. Они раздают пострадавшим продуктовые наборы, одежду и строительные материалы.',\n",
              " 'Давка в крупнейшем городе Кот-д\\'Ивуара Абиджане началась после того, как столкнулись два потока людей, двигавшихся в противоположные стороны. Об этом сообщает Agence France-Presse со ссылкой на представителя местной полиции. Точные обстоятельства произошедшего еще расследуются, отметил министр внутренних дел Кот-д\\'Ивуара Хамед Бакайоко (Hamed Bakayoko). 1 января в Абиджане произошла давка, в результате которой погибло 60 человек, пришедших посмотреть новогодний фейерверк. Средний возраст погибших составляет 18 лет. По официальным данным в давке было ранено 49 человек, хотя анонимный представитель спасателей сообщил агентству о 200 пострадавших. По свидетельствам очевидцев, которые приводит AFP, давка началась после окончания новогоднего фейерверка. Инцидент произошел возле главного входа в стадион, где охрана установила три ствола дерева в качестве барьеров. Согласно официальным данным, посмотреть на фейерверки собралось около 50 тысяч человек. Президент страны Алассан Уаттара (Alassane Ouattara) назвал произошедшее \"настоящей трагедией\". Позднее будет назначена дата национального траура.',\n",
              " 'Политические партии и общественные организации Египта приняли поправки в закон о выборах в нижнюю палату парламента, сообщает 1 января Agence France-Presse со ссылкой на пресс-секретаря президента Египта Ясира Али. В число изменений в законе о выборах вошло обязательное включение женщин в партийные списки. При этом в список от каждой партии, которая баллотируется в нижнюю палату парламента, должны входить имена как минимум четырех женщин. Кроме того, согласно новому варианту закона, запрещается \"перекрестное\" участие в выборах, когда один кандидат баллотируется в нижнюю палату как по партийному, так и по окружному списку. Также изменениям подверглась процедура контроля процесса голосования и подсчета голосов. Теперь представители партий, общественных организаций и СМИ смогут присутствовать на избирательных участках на протяжении всего голосования, а также получат право на ознакомление с результатами голосования, заверенными главой первичной избирательной комиссии. При этом численность нижней палаты парламента осталась неизменной: депутатов по-прежнему будет 498. Не изменилась и смешанная система  выборов, согласно которой в нижнюю палату баллотируются как политические партии по спискам, так и независимые кандидаты. По словам Ясира Али, эти изменения в ближайшие дни должно утвердить правительство Египта, после чего поправки передадут на одобрение в верхнюю палату египетского парламента - Консультативный совет. Дата выборов в нижнюю палату парламента будет определена Консультативным советом до конца февраля 2013 года. Напомним, 26 декабря 2012 года президент Египта Мохаммед Мурси подписал конституцию страны, принятую по результатам двух этапов референдума, которые прошли 15 и 22 декабря. В тот же день прошло заседание верхней палаты парламента, которая, согласно новой конституции Египта, получила широкие полномочия, действующие до выборов в нижнюю палату.',\n",
              " 'Премьер-министр Грузии Бидзина Иванишвили в новогоднем обращении к стране заявил о прекращении преследования сторонников президента страны Михаила Саакашвили. Об этом сообщает РИА Новости со ссылкой на грузинские телеканалы, которые в ночь на 1 января передавали речь Иванишвили. \"Процесс завершен. Система насилия и лжи поражена, и сейчас мы должны простить всех тех, кто, по желанию или нет, но участвовали в этой системе. Мы должны простить их и придумать что-то подобное амнистии\", - заявил Иванишвили. Ранее, 31 декабря 2012 года Иванишвили  в прямом эфире тбилисского телеканала \"Кавкасиа\" назвал прошедший год \"годом победы народа Грузии над режимом Саакашвили\", добавив, что \"режим Саакашвили держался на лжи, насилии и пиаре\". А 27 декабря в интервью телекомпании \"Имеди\" премьер-министр признался в том, что лично провоцировал аресты чиновников из окружения Саакашвили: по словам Иванишвили, он мог бы препятствовать арестам, но сознательно этого не делал. В свою очередь, как передает ИТАР-ТАСС, Михаил Саакашвили в своем новогоднем обращении к жителям Грузии обвинил коалицию Иванишвили \"Грузинская мечта\" в \"преследовании оппонентов, невыполнении обещаний по улучшению жизни населения и в попытке усиления своих политических позиций\". Саакашвили, однако, отметил, что готов \"к сотрудничеству с правящей коалицией\". После победы на парламентских выборах коалиции \"Грузинская мечта\", возглавляемой Бидзиной Иванишвили, в Грузии продолжаются аресты высокопоставленных чиновников из администрации президента страны Михаила Саакашвили. Сам президент при этом уже практически лишен политического влияния в стране. В последнее время в Грузии обсуждается возможность того, что Михаил Саакашвили может распустить парламент и назначить новые парламентские выборы. Согласно действующей конституции, президент получает право на это через шесть месяцев после того, как парламент приступил к работе, то есть в апреле 2013 года. Однако 28 декабря в парламенте Грузии начался сбор подписей за предоставление президенту страны возможности распустить парламент уже через три месяца. Сам Саакашвили пока никак не прокомментировал возможность роспуска парламента, однако Иванишвили заявил, что не против новых парламентских выборов, добавив, что рейтинг \"Грузинской мечты\" сильно превышает рейтинг \"Единого национального движения\", которое возглавляет Саакашвили.',\n",
              " 'Полиция отпустила всех участников акции \"Стратегия-31\" на Триумфальной площади 31 декабря. Об этом сообщает РИА Новости со ссылкой на пресс-службу МВД. Вместе с тем, \"ОВД-Инфо\" сообщает, что один задержанный был оставлен в ОВД \"Хорошевское\" на 48 часов после отказа представляться. Всего на несанкционированной акции оппозиции было задержано около 25 человек, отмечает агентство. \"ОВД-Инфо\" сообщало о как минимум 28 задержанных. В их числе - лидер \"Другой России\" Эдуард Лимонов и координатор \"Левого фронта\" Константин Косякин. Акции \"Стратегии-31\" проходят по 31 числам каждого месяца, в котором есть такое число. Ее участники выступают за соблюдение 31 статьи Конституции, гарантирующей свободу собраний. Московские власти не согласовали акцию 31 декабря, пояснив, что ее организаторы неоднократно нарушали требования закона \"О собраниях, митингах, демонстрациях, шествиях и пикетированиях\".']"
            ]
          },
          "metadata": {},
          "execution_count": 72
        }
      ]
    },
    {
      "cell_type": "code",
      "metadata": {
        "outputId": "5b92efe2-9f4a-4931-9ce9-912c90e9419e",
        "colab": {
          "base_uri": "https://localhost:8080/"
        },
        "id": "mu2OkVDUToCy"
      },
      "source": [
        "print('original document: ')\n",
        "article_ru = choice(all_articles_ru)\n",
        "print(article_ru, \"\\n\")\n",
        "\n",
        "print('original document, broken into words: ')\n",
        "words = [word for word in article_ru.split(' ')]\n",
        "print(words, \"\\n\")\n",
        "print(\"Vocabulary size of the original article:\", len(set(words)))\n",
        "\n",
        "print('\\n\\n tokenized and lemmatized document: ')\n",
        "preprocessed_article_ru = preprocess(article_ru)\n",
        "print(preprocessed_article_ru, '\\n')\n",
        "print(\"Vocabulary size after preprocessing:\", len(set(preprocessed_article_ru)))\n"
      ],
      "execution_count": null,
      "outputs": [
        {
          "output_type": "stream",
          "name": "stdout",
          "text": [
            "original document: \n",
            "Колумниста немецкого журнала Spiegel Якоба Аугштайна (Jakob Augstein) включили в список десяти самых ярых антисемитов 2012 года. Рейтинг был составлен еврейским правозащитным центром Симона Визенталя, главный офис которого находится в Лос-Анджелесе. Центр Визенталя включил Аугштайна в топ-10 антисемитов года за выпады против евреев и Израиля в его статьях. В качестве примеров антисемитизма Аугштайна еврейские правозащитники привели несколько цитат из его статей. В частности, журналист писал, что премьер-министр Израиля Биньямин Нетаниягу использует поддержку США, где президент нуждается в расположении еврейского лобби, и Германии, которой припоминают ее прошлое, и за счет этого \"держит мир на поводке\", постоянно говоря о возможной войне. Кроме того, центр Визенталя осудил Аугштайна за поддержку писателя Гюнтера Грасса, который заявил, что атомное оружие Израиля является угрозой хрупкому миру на Ближнем Востоке, а также сравнил исламских фундаменталистов с ультраортодоксальными евреями - харедим. Семья Аугштайна в общей сложности владеет 24 процентами акций издательского дома Spiegel. Журналист и предприниматель является также владельцем леволиберальной газеты der Freitag. С января 2011 года Аугштайн пишет колонки для Spiegel online. Помимо этого, он ведет передачу на телеканале Phoenix. Список главных антисемитов года, по версии центра Визенталя, возглавила правящая партия Египта \"Братья-мусульмане\". За ней следуют иранский режим и бразильский карикатурист Карлос Латуфф за рисунки, посвященные палестино-израильскому конфликту. Также в список попали европейские футбольные фанаты за скандирование антисемитских лозунгов, украинская партия \"Свобода\", греческая партия \"Золотой рассвет\" и венгерская партия \"За лучшую Венгрию\" (\"Йоббик\"). \n",
            "\n",
            "original document, broken into words: \n",
            "['Колумниста', 'немецкого', 'журнала', 'Spiegel', 'Якоба', 'Аугштайна', '(Jakob', 'Augstein)', 'включили', 'в', 'список', 'десяти', 'самых', 'ярых', 'антисемитов', '2012', 'года.', 'Рейтинг', 'был', 'составлен', 'еврейским', 'правозащитным', 'центром', 'Симона', 'Визенталя,', 'главный', 'офис', 'которого', 'находится', 'в', 'Лос-Анджелесе.', 'Центр', 'Визенталя', 'включил', 'Аугштайна', 'в', 'топ-10', 'антисемитов', 'года', 'за', 'выпады', 'против', 'евреев', 'и', 'Израиля', 'в', 'его', 'статьях.', 'В', 'качестве', 'примеров', 'антисемитизма', 'Аугштайна', 'еврейские', 'правозащитники', 'привели', 'несколько', 'цитат', 'из', 'его', 'статей.', 'В', 'частности,', 'журналист', 'писал,', 'что', 'премьер-министр', 'Израиля', 'Биньямин', 'Нетаниягу', 'использует', 'поддержку', 'США,', 'где', 'президент', 'нуждается', 'в', 'расположении', 'еврейского', 'лобби,', 'и', 'Германии,', 'которой', 'припоминают', 'ее', 'прошлое,', 'и', 'за', 'счет', 'этого', '\"держит', 'мир', 'на', 'поводке\",', 'постоянно', 'говоря', 'о', 'возможной', 'войне.', 'Кроме', 'того,', 'центр', 'Визенталя', 'осудил', 'Аугштайна', 'за', 'поддержку', 'писателя', 'Гюнтера', 'Грасса,', 'который', 'заявил,', 'что', 'атомное', 'оружие', 'Израиля', 'является', 'угрозой', 'хрупкому', 'миру', 'на', 'Ближнем', 'Востоке,', 'а', 'также', 'сравнил', 'исламских', 'фундаменталистов', 'с', 'ультраортодоксальными', 'евреями', '-', 'харедим.', 'Семья', 'Аугштайна', 'в', 'общей', 'сложности', 'владеет', '24', 'процентами', 'акций', 'издательского', 'дома', 'Spiegel.', 'Журналист', 'и', 'предприниматель', 'является', 'также', 'владельцем', 'леволиберальной', 'газеты', 'der', 'Freitag.', 'С', 'января', '2011', 'года', 'Аугштайн', 'пишет', 'колонки', 'для', 'Spiegel', 'online.', 'Помимо', 'этого,', 'он', 'ведет', 'передачу', 'на', 'телеканале', 'Phoenix.', 'Список', 'главных', 'антисемитов', 'года,', 'по', 'версии', 'центра', 'Визенталя,', 'возглавила', 'правящая', 'партия', 'Египта', '\"Братья-мусульмане\".', 'За', 'ней', 'следуют', 'иранский', 'режим', 'и', 'бразильский', 'карикатурист', 'Карлос', 'Латуфф', 'за', 'рисунки,', 'посвященные', 'палестино-израильскому', 'конфликту.', 'Также', 'в', 'список', 'попали', 'европейские', 'футбольные', 'фанаты', 'за', 'скандирование', 'антисемитских', 'лозунгов,', 'украинская', 'партия', '\"Свобода\",', 'греческая', 'партия', '\"Золотой', 'рассвет\"', 'и', 'венгерская', 'партия', '\"За', 'лучшую', 'Венгрию\"', '(\"Йоббик\").'] \n",
            "\n",
            "Vocabulary size of the original article: 187\n",
            "\n",
            "\n",
            " tokenized and lemmatized document: \n",
            "['колумнист', 'немецк', 'журна', 'spiegel', 'якоб', 'аугштайн', 'jakob', 'augstein', 'включ', 'список', 'десят', 'сам', 'яр', 'антисемит', 'год', 'рейтинг', 'составл', 'еврейск', 'правозащитн', 'центр', 'симон', 'визентал', 'главн', 'офис', 'котор', 'наход', 'анджелес', 'центр', 'визентал', 'включ', 'аугштайн', 'антисемит', 'год', 'выпад', 'прот', 'евре', 'израил', 'стат', 'качеств', 'пример', 'антисемитизм', 'аугштайн', 'еврейск', 'правозащитник', 'привел', 'нескольк', 'цитат', 'стат', 'частност', 'журналист', 'писа', 'премьер', 'министр', 'израил', 'биньямин', 'нетанияг', 'использ', 'поддержк', 'президент', 'нужда', 'расположен', 'еврейск', 'лобб', 'герман', 'котор', 'припомина', 'прошл', 'счет', 'держ', 'поводк', 'постоя', 'говор', 'возможн', 'войн', 'кром', 'центр', 'визентал', 'осуд', 'аугштайн', 'поддержк', 'писател', 'гюнтер', 'грасс', 'котор', 'заяв', 'атомн', 'оруж', 'израил', 'явля', 'угроз', 'хрупк', 'мир', 'ближн', 'восток', 'такж', 'сравн', 'исламск', 'евре', 'харед', 'сем', 'аугштайн', 'общ', 'сложност', 'владеет', 'процент', 'акц', 'издательск', 'дом', 'spiegel', 'журналист', 'предпринимател', 'явля', 'такж', 'владельц', 'леволиберальн', 'газет', 'freitag', 'январ', 'год', 'аугштайн', 'пишет', 'колонк', 'spiegel', 'online', 'помим', 'ведет', 'передач', 'телеканал', 'phoenix', 'список', 'главн', 'антисемит', 'год', 'верс', 'центр', 'визентал', 'возглав', 'правя', 'парт', 'египт', 'брат', 'мусульман', 'след', 'иранск', 'реж', 'бразильск', 'карикатурист', 'карлос', 'латуфф', 'рисунк', 'посвящен', 'палестин', 'израильск', 'конфликт', 'такж', 'список', 'попа', 'европейск', 'футбольн', 'фанат', 'скандирован', 'антисемитск', 'лозунг', 'украинск', 'парт', 'свобод', 'греческ', 'парт', 'золот', 'рассвет', 'венгерск', 'парт', 'лучш', 'венгр', 'йоббик'] \n",
            "\n",
            "Vocabulary size after preprocessing: 137\n"
          ]
        },
        {
          "output_type": "stream",
          "name": "stderr",
          "text": [
            "/usr/local/lib/python3.10/dist-packages/ipykernel/ipkernel.py:283: DeprecationWarning: `should_run_async` will not call `transform_cell` automatically in the future. Please pass the result to `transformed_cell` argument and any exception that happen during thetransform in `preprocessing_exc_tuple` in IPython 7.17 and above.\n",
            "  and should_run_async(code)\n"
          ]
        }
      ]
    },
    {
      "cell_type": "code",
      "metadata": {
        "outputId": "cfaf7ffc-0ca0-4dcb-fad6-ac0817835fe8",
        "colab": {
          "base_uri": "https://localhost:8080/"
        },
        "id": "xFcdBExSToCz"
      },
      "source": [
        "processed_docs_ru = list(map(preprocess, all_articles_ru))\n",
        "processed_docs_ru[:10]"
      ],
      "execution_count": null,
      "outputs": [
        {
          "output_type": "stream",
          "name": "stderr",
          "text": [
            "/usr/local/lib/python3.10/dist-packages/ipykernel/ipkernel.py:283: DeprecationWarning: `should_run_async` will not call `transform_cell` automatically in the future. Please pass the result to `transformed_cell` argument and any exception that happen during thetransform in `preprocessing_exc_tuple` in IPython 7.17 and above.\n",
            "  and should_run_async(code)\n"
          ]
        },
        {
          "output_type": "execute_result",
          "data": {
            "text/plain": [
              "[['произошел',\n",
              "  'пожар',\n",
              "  'результат',\n",
              "  'котор',\n",
              "  'погибл',\n",
              "  'человек',\n",
              "  'получ',\n",
              "  'ожог',\n",
              "  'четыр',\n",
              "  'тысяч',\n",
              "  'человек',\n",
              "  'оста',\n",
              "  'бездомн',\n",
              "  'январ',\n",
              "  'сообща',\n",
              "  'agence',\n",
              "  'france',\n",
              "  'presse',\n",
              "  'пожар',\n",
              "  'произошел',\n",
              "  'бедн',\n",
              "  'район',\n",
              "  'кейптаун',\n",
              "  'информац',\n",
              "  'associated',\n",
              "  'press',\n",
              "  'район',\n",
              "  'скучен',\n",
              "  'застро',\n",
              "  'хижин',\n",
              "  'зачаст',\n",
              "  'возведен',\n",
              "  'самовольн',\n",
              "  'освещен',\n",
              "  'отоплен',\n",
              "  'приготовлен',\n",
              "  'пищ',\n",
              "  'част',\n",
              "  'использ',\n",
              "  'свеч',\n",
              "  'газов',\n",
              "  'горелк',\n",
              "  'керосинов',\n",
              "  'ламп',\n",
              "  'ин',\n",
              "  'пожароопасн',\n",
              "  'устройств',\n",
              "  'предварительн',\n",
              "  'дан',\n",
              "  'причин',\n",
              "  'возгоран',\n",
              "  'стал',\n",
              "  'неосторожн',\n",
              "  'обращен',\n",
              "  'огн',\n",
              "  'состоян',\n",
              "  'алкогольн',\n",
              "  'опьянен',\n",
              "  'распространен',\n",
              "  'пламен',\n",
              "  'способствова',\n",
              "  'сильн',\n",
              "  'ветер',\n",
              "  'настоя',\n",
              "  'врем',\n",
              "  'мест',\n",
              "  'работа',\n",
              "  'команд',\n",
              "  'спасател',\n",
              "  'разда',\n",
              "  'пострада',\n",
              "  'продуктов',\n",
              "  'набор',\n",
              "  'одежд',\n",
              "  'строительн',\n",
              "  'материал'],\n",
              " ['давк',\n",
              "  'крупн',\n",
              "  'город',\n",
              "  'ивуар',\n",
              "  'абиджан',\n",
              "  'нача',\n",
              "  'столкнул',\n",
              "  'поток',\n",
              "  'люд',\n",
              "  'двига',\n",
              "  'противоположн',\n",
              "  'сторон',\n",
              "  'сообща',\n",
              "  'agence',\n",
              "  'france',\n",
              "  'presse',\n",
              "  'ссылк',\n",
              "  'представител',\n",
              "  'местн',\n",
              "  'полиц',\n",
              "  'точн',\n",
              "  'обстоятельств',\n",
              "  'произошедш',\n",
              "  'расслед',\n",
              "  'отмет',\n",
              "  'министр',\n",
              "  'внутрен',\n",
              "  'ивуар',\n",
              "  'хамед',\n",
              "  'бакайок',\n",
              "  'hamed',\n",
              "  'bakayoko',\n",
              "  'январ',\n",
              "  'абиджан',\n",
              "  'произошл',\n",
              "  'давк',\n",
              "  'результат',\n",
              "  'котор',\n",
              "  'погибл',\n",
              "  'человек',\n",
              "  'пришедш',\n",
              "  'посмотрет',\n",
              "  'новогодн',\n",
              "  'фейерверк',\n",
              "  'средн',\n",
              "  'возраст',\n",
              "  'погибш',\n",
              "  'составля',\n",
              "  'официальн',\n",
              "  'дан',\n",
              "  'давк',\n",
              "  'ран',\n",
              "  'человек',\n",
              "  'хот',\n",
              "  'анонимн',\n",
              "  'представител',\n",
              "  'спасател',\n",
              "  'сообщ',\n",
              "  'агентств',\n",
              "  'пострада',\n",
              "  'свидетельств',\n",
              "  'очевидц',\n",
              "  'котор',\n",
              "  'привод',\n",
              "  'давк',\n",
              "  'нача',\n",
              "  'окончан',\n",
              "  'новогодн',\n",
              "  'фейерверк',\n",
              "  'инцидент',\n",
              "  'произошел',\n",
              "  'возл',\n",
              "  'главн',\n",
              "  'вход',\n",
              "  'стадион',\n",
              "  'охра',\n",
              "  'установ',\n",
              "  'ствол',\n",
              "  'дерев',\n",
              "  'качеств',\n",
              "  'барьер',\n",
              "  'согласн',\n",
              "  'официальн',\n",
              "  'дан',\n",
              "  'посмотрет',\n",
              "  'фейерверк',\n",
              "  'собра',\n",
              "  'окол',\n",
              "  'тысяч',\n",
              "  'человек',\n",
              "  'президент',\n",
              "  'стран',\n",
              "  'аласса',\n",
              "  'уаттар',\n",
              "  'alassane',\n",
              "  'ouattara',\n",
              "  'назва',\n",
              "  'произошедш',\n",
              "  'настоя',\n",
              "  'трагед',\n",
              "  'поздн',\n",
              "  'назнач',\n",
              "  'дат',\n",
              "  'национальн',\n",
              "  'траур'],\n",
              " ['политическ',\n",
              "  'парт',\n",
              "  'обществен',\n",
              "  'организац',\n",
              "  'египт',\n",
              "  'приня',\n",
              "  'поправк',\n",
              "  'закон',\n",
              "  'выбор',\n",
              "  'нижн',\n",
              "  'палат',\n",
              "  'парламент',\n",
              "  'сообща',\n",
              "  'январ',\n",
              "  'agence',\n",
              "  'france',\n",
              "  'presse',\n",
              "  'ссылк',\n",
              "  'пресс',\n",
              "  'секретар',\n",
              "  'президент',\n",
              "  'египт',\n",
              "  'ясир',\n",
              "  'числ',\n",
              "  'изменен',\n",
              "  'закон',\n",
              "  'выбор',\n",
              "  'вошл',\n",
              "  'обязательн',\n",
              "  'включен',\n",
              "  'женщин',\n",
              "  'партийн',\n",
              "  'списк',\n",
              "  'список',\n",
              "  'кажд',\n",
              "  'парт',\n",
              "  'котор',\n",
              "  'баллотир',\n",
              "  'нижн',\n",
              "  'палат',\n",
              "  'парламент',\n",
              "  'должн',\n",
              "  'вход',\n",
              "  'им',\n",
              "  'минимум',\n",
              "  'четырех',\n",
              "  'женщин',\n",
              "  'кром',\n",
              "  'согласн',\n",
              "  'нов',\n",
              "  'вариант',\n",
              "  'закон',\n",
              "  'запреща',\n",
              "  'перекрестн',\n",
              "  'участ',\n",
              "  'выбор',\n",
              "  'кандидат',\n",
              "  'баллотир',\n",
              "  'нижн',\n",
              "  'палат',\n",
              "  'партийн',\n",
              "  'окружн',\n",
              "  'списк',\n",
              "  'такж',\n",
              "  'изменен',\n",
              "  'подвергл',\n",
              "  'процедур',\n",
              "  'контрол',\n",
              "  'процесс',\n",
              "  'голосован',\n",
              "  'подсчет',\n",
              "  'голос',\n",
              "  'представител',\n",
              "  'парт',\n",
              "  'обществен',\n",
              "  'организац',\n",
              "  'смогут',\n",
              "  'присутствова',\n",
              "  'избирательн',\n",
              "  'участк',\n",
              "  'протяжен',\n",
              "  'голосован',\n",
              "  'такж',\n",
              "  'получат',\n",
              "  'прав',\n",
              "  'ознакомлен',\n",
              "  'результат',\n",
              "  'голосован',\n",
              "  'заверен',\n",
              "  'глав',\n",
              "  'первичн',\n",
              "  'избирательн',\n",
              "  'комисс',\n",
              "  'числен',\n",
              "  'нижн',\n",
              "  'палат',\n",
              "  'парламент',\n",
              "  'оста',\n",
              "  'неизмен',\n",
              "  'депутат',\n",
              "  'прежн',\n",
              "  'измен',\n",
              "  'смеша',\n",
              "  'систем',\n",
              "  'выбор',\n",
              "  'согласн',\n",
              "  'котор',\n",
              "  'нижн',\n",
              "  'палат',\n",
              "  'баллотир',\n",
              "  'политическ',\n",
              "  'парт',\n",
              "  'списк',\n",
              "  'независим',\n",
              "  'кандидат',\n",
              "  'слов',\n",
              "  'ясир',\n",
              "  'изменен',\n",
              "  'ближайш',\n",
              "  'должн',\n",
              "  'утверд',\n",
              "  'правительств',\n",
              "  'египт',\n",
              "  'поправк',\n",
              "  'передадут',\n",
              "  'одобрен',\n",
              "  'верхн',\n",
              "  'палат',\n",
              "  'египетск',\n",
              "  'парламент',\n",
              "  'консультативн',\n",
              "  'совет',\n",
              "  'дат',\n",
              "  'выбор',\n",
              "  'нижн',\n",
              "  'палат',\n",
              "  'парламент',\n",
              "  'определ',\n",
              "  'консультативн',\n",
              "  'совет',\n",
              "  'конц',\n",
              "  'феврал',\n",
              "  'год',\n",
              "  'напомн',\n",
              "  'декабр',\n",
              "  'год',\n",
              "  'президент',\n",
              "  'египт',\n",
              "  'мохаммед',\n",
              "  'мурс',\n",
              "  'подписа',\n",
              "  'конституц',\n",
              "  'стран',\n",
              "  'принят',\n",
              "  'результат',\n",
              "  'двух',\n",
              "  'этап',\n",
              "  'референдум',\n",
              "  'котор',\n",
              "  'прошл',\n",
              "  'декабр',\n",
              "  'ден',\n",
              "  'прошл',\n",
              "  'заседан',\n",
              "  'верхн',\n",
              "  'палат',\n",
              "  'парламент',\n",
              "  'котор',\n",
              "  'согласн',\n",
              "  'нов',\n",
              "  'конституц',\n",
              "  'египт',\n",
              "  'получ',\n",
              "  'широк',\n",
              "  'полномоч',\n",
              "  'действ',\n",
              "  'выбор',\n",
              "  'нижн',\n",
              "  'палат'],\n",
              " ['премьер',\n",
              "  'министр',\n",
              "  'груз',\n",
              "  'бидзин',\n",
              "  'иванишв',\n",
              "  'новогодн',\n",
              "  'обращен',\n",
              "  'стран',\n",
              "  'заяв',\n",
              "  'прекращен',\n",
              "  'преследован',\n",
              "  'сторонник',\n",
              "  'президент',\n",
              "  'стран',\n",
              "  'миха',\n",
              "  'саакашв',\n",
              "  'сообща',\n",
              "  'новост',\n",
              "  'ссылк',\n",
              "  'грузинск',\n",
              "  'телеканал',\n",
              "  'котор',\n",
              "  'ноч',\n",
              "  'январ',\n",
              "  'передава',\n",
              "  'реч',\n",
              "  'иванишв',\n",
              "  'процесс',\n",
              "  'заверш',\n",
              "  'систем',\n",
              "  'насил',\n",
              "  'пораж',\n",
              "  'должн',\n",
              "  'прост',\n",
              "  'желан',\n",
              "  'участвова',\n",
              "  'систем',\n",
              "  'должн',\n",
              "  'прост',\n",
              "  'придума',\n",
              "  'подобн',\n",
              "  'амнист',\n",
              "  'заяв',\n",
              "  'иванишв',\n",
              "  'ран',\n",
              "  'декабр',\n",
              "  'год',\n",
              "  'иванишв',\n",
              "  'прям',\n",
              "  'эфир',\n",
              "  'тбилисск',\n",
              "  'телекана',\n",
              "  'кавкас',\n",
              "  'назва',\n",
              "  'прошедш',\n",
              "  'год',\n",
              "  'побед',\n",
              "  'народ',\n",
              "  'груз',\n",
              "  'режим',\n",
              "  'саакашв',\n",
              "  'добав',\n",
              "  'реж',\n",
              "  'саакашв',\n",
              "  'держа',\n",
              "  'насил',\n",
              "  'пиар',\n",
              "  'декабр',\n",
              "  'интерв',\n",
              "  'телекомпан',\n",
              "  'имед',\n",
              "  'премьер',\n",
              "  'министр',\n",
              "  'призна',\n",
              "  'личн',\n",
              "  'провоцирова',\n",
              "  'арест',\n",
              "  'чиновник',\n",
              "  'окружен',\n",
              "  'саакашв',\n",
              "  'слов',\n",
              "  'иванишв',\n",
              "  'препятствова',\n",
              "  'арест',\n",
              "  'сознательн',\n",
              "  'дела',\n",
              "  'очеред',\n",
              "  'переда',\n",
              "  'итар',\n",
              "  'тасс',\n",
              "  'миха',\n",
              "  'саакашв',\n",
              "  'сво',\n",
              "  'новогодн',\n",
              "  'обращен',\n",
              "  'жител',\n",
              "  'груз',\n",
              "  'обвин',\n",
              "  'коалиц',\n",
              "  'иванишв',\n",
              "  'грузинск',\n",
              "  'мечт',\n",
              "  'преследован',\n",
              "  'оппонент',\n",
              "  'невыполнен',\n",
              "  'обещан',\n",
              "  'улучшен',\n",
              "  'жизн',\n",
              "  'населен',\n",
              "  'попытк',\n",
              "  'усилен',\n",
              "  'сво',\n",
              "  'политическ',\n",
              "  'позиц',\n",
              "  'саакашв',\n",
              "  'однак',\n",
              "  'отмет',\n",
              "  'гот',\n",
              "  'сотрудничеств',\n",
              "  'правя',\n",
              "  'коалиц',\n",
              "  'побед',\n",
              "  'парламентск',\n",
              "  'выбор',\n",
              "  'коалиц',\n",
              "  'грузинск',\n",
              "  'мечт',\n",
              "  'возглавля',\n",
              "  'бидзин',\n",
              "  'иванишв',\n",
              "  'груз',\n",
              "  'продолжа',\n",
              "  'арест',\n",
              "  'чиновник',\n",
              "  'администрац',\n",
              "  'президент',\n",
              "  'стран',\n",
              "  'миха',\n",
              "  'саакашв',\n",
              "  'президент',\n",
              "  'практическ',\n",
              "  'лиш',\n",
              "  'политическ',\n",
              "  'влиян',\n",
              "  'стран',\n",
              "  'последн',\n",
              "  'врем',\n",
              "  'груз',\n",
              "  'обсужда',\n",
              "  'возможн',\n",
              "  'миха',\n",
              "  'саакашв',\n",
              "  'распуст',\n",
              "  'парламент',\n",
              "  'назнач',\n",
              "  'нов',\n",
              "  'парламентск',\n",
              "  'выбор',\n",
              "  'согласн',\n",
              "  'действ',\n",
              "  'конституц',\n",
              "  'президент',\n",
              "  'получа',\n",
              "  'прав',\n",
              "  'шест',\n",
              "  'месяц',\n",
              "  'парламент',\n",
              "  'приступ',\n",
              "  'работ',\n",
              "  'апрел',\n",
              "  'год',\n",
              "  'однак',\n",
              "  'декабр',\n",
              "  'парламент',\n",
              "  'груз',\n",
              "  'нача',\n",
              "  'сбор',\n",
              "  'подпис',\n",
              "  'предоставлен',\n",
              "  'президент',\n",
              "  'стран',\n",
              "  'возможн',\n",
              "  'распуст',\n",
              "  'парламент',\n",
              "  'месяц',\n",
              "  'саакашв',\n",
              "  'пок',\n",
              "  'никак',\n",
              "  'возможн',\n",
              "  'роспуск',\n",
              "  'парламент',\n",
              "  'однак',\n",
              "  'иванишв',\n",
              "  'заяв',\n",
              "  'прот',\n",
              "  'нов',\n",
              "  'парламентск',\n",
              "  'выбор',\n",
              "  'добав',\n",
              "  'рейтинг',\n",
              "  'грузинск',\n",
              "  'мечт',\n",
              "  'сильн',\n",
              "  'превыша',\n",
              "  'рейтинг',\n",
              "  'един',\n",
              "  'национальн',\n",
              "  'движен',\n",
              "  'котор',\n",
              "  'возглавля',\n",
              "  'саакашв'],\n",
              " ['полиц',\n",
              "  'отпуст',\n",
              "  'участник',\n",
              "  'акц',\n",
              "  'стратег',\n",
              "  'триумфальн',\n",
              "  'площад',\n",
              "  'декабр',\n",
              "  'сообща',\n",
              "  'новост',\n",
              "  'ссылк',\n",
              "  'пресс',\n",
              "  'служб',\n",
              "  'вмест',\n",
              "  'инф',\n",
              "  'сообща',\n",
              "  'задержа',\n",
              "  'оставл',\n",
              "  'хорошевск',\n",
              "  'час',\n",
              "  'отказ',\n",
              "  'представля',\n",
              "  'акц',\n",
              "  'оппозиц',\n",
              "  'задержа',\n",
              "  'окол',\n",
              "  'человек',\n",
              "  'отмеча',\n",
              "  'агентств',\n",
              "  'инф',\n",
              "  'сообща',\n",
              "  'минимум',\n",
              "  'задержа',\n",
              "  'числ',\n",
              "  'лидер',\n",
              "  'росс',\n",
              "  'эдуард',\n",
              "  'лимон',\n",
              "  'координатор',\n",
              "  'лев',\n",
              "  'фронт',\n",
              "  'константин',\n",
              "  'косякин',\n",
              "  'акц',\n",
              "  'стратег',\n",
              "  'проход',\n",
              "  'числ',\n",
              "  'кажд',\n",
              "  'месяц',\n",
              "  'котор',\n",
              "  'так',\n",
              "  'числ',\n",
              "  'участник',\n",
              "  'выступа',\n",
              "  'соблюден',\n",
              "  'стат',\n",
              "  'конституц',\n",
              "  'гарантир',\n",
              "  'свобод',\n",
              "  'собран',\n",
              "  'московск',\n",
              "  'власт',\n",
              "  'согласова',\n",
              "  'акц',\n",
              "  'декабр',\n",
              "  'поясн',\n",
              "  'организатор',\n",
              "  'неоднократн',\n",
              "  'наруша',\n",
              "  'требован',\n",
              "  'закон',\n",
              "  'собран',\n",
              "  'митинг',\n",
              "  'демонстрац',\n",
              "  'шеств',\n",
              "  'пикетирован'],\n",
              " ['платформ',\n",
              "  'динам',\n",
              "  'мытищинск',\n",
              "  'район',\n",
              "  'подмосков',\n",
              "  'загорел',\n",
              "  'цистерн',\n",
              "  'бензин',\n",
              "  'январ',\n",
              "  'сообща',\n",
              "  'агентств',\n",
              "  'итар',\n",
              "  'тасс',\n",
              "  'информац',\n",
              "  'горя',\n",
              "  'цистерн',\n",
              "  'вмеща',\n",
              "  'тон',\n",
              "  'топлив',\n",
              "  'наход',\n",
              "  'состав',\n",
              "  'грузов',\n",
              "  'поезд',\n",
              "  'котор',\n",
              "  'цистерн',\n",
              "  'бензин',\n",
              "  'наполн',\n",
              "  'деся',\n",
              "  'цистерн',\n",
              "  'результат',\n",
              "  'возгоран',\n",
              "  'никт',\n",
              "  'пострада',\n",
              "  'пожар',\n",
              "  'присво',\n",
              "  'повышен',\n",
              "  'номер',\n",
              "  'сложност',\n",
              "  'пожар',\n",
              "  'локализова',\n",
              "  'движен',\n",
              "  'поезд',\n",
              "  'результат',\n",
              "  'инцидент',\n",
              "  'наруш'],\n",
              " ['взрыв',\n",
              "  'территор',\n",
              "  'полигон',\n",
              "  'волгоградск',\n",
              "  'област',\n",
              "  'погиб',\n",
              "  'человек',\n",
              "  'сообща',\n",
              "  'январ',\n",
              "  'новост',\n",
              "  'ссылк',\n",
              "  'источник',\n",
              "  'орган',\n",
              "  'собеседник',\n",
              "  'агентств',\n",
              "  'заяв',\n",
              "  'взрыв',\n",
              "  'произошел',\n",
              "  'поселк',\n",
              "  'прудб',\n",
              "  'калачевск',\n",
              "  'район',\n",
              "  'декабр',\n",
              "  'погибш',\n",
              "  'работа',\n",
              "  'полигон',\n",
              "  'охранник',\n",
              "  'агентств',\n",
              "  'интерфакс',\n",
              "  'уточня',\n",
              "  'год',\n",
              "  'явля',\n",
              "  'сотрудник',\n",
              "  'частн',\n",
              "  'охра',\n",
              "  'предприят',\n",
              "  'взорва',\n",
              "  'боеприпас',\n",
              "  'обстоятельств',\n",
              "  'происшеств',\n",
              "  'пок',\n",
              "  'установл',\n",
              "  'ноябр',\n",
              "  'год',\n",
              "  'газет',\n",
              "  'московск',\n",
              "  'комсомолец',\n",
              "  'писа',\n",
              "  'жител',\n",
              "  'район',\n",
              "  'волгоград',\n",
              "  'город',\n",
              "  'калач',\n",
              "  'дон',\n",
              "  'испуга',\n",
              "  'слишк',\n",
              "  'част',\n",
              "  'громк',\n",
              "  'звук',\n",
              "  'взрыв',\n",
              "  'донос',\n",
              "  'полигон',\n",
              "  'прудб',\n",
              "  'пресс',\n",
              "  'служб',\n",
              "  'южн',\n",
              "  'воен',\n",
              "  'округ',\n",
              "  'заяв',\n",
              "  'полигон',\n",
              "  'проход',\n",
              "  'планов',\n",
              "  'утилизац',\n",
              "  'боеприпас',\n",
              "  'граждан',\n",
              "  'ничт',\n",
              "  'угрожа',\n",
              "  'август',\n",
              "  'год',\n",
              "  'порта',\n",
              "  'областн',\n",
              "  'вест',\n",
              "  'сообща',\n",
              "  'дво',\n",
              "  'солдат',\n",
              "  'срочник',\n",
              "  'приб',\n",
              "  'полигон',\n",
              "  'прудб',\n",
              "  'вып',\n",
              "  'спиртн',\n",
              "  'угна',\n",
              "  'воен',\n",
              "  'протаран',\n",
              "  'огражден',\n",
              "  'направ',\n",
              "  'сторон',\n",
              "  'ростов',\n",
              "  'дон',\n",
              "  'пут',\n",
              "  'столкнул',\n",
              "  'двум',\n",
              "  'машин',\n",
              "  'останов',\n",
              "  'автомобил',\n",
              "  'нача',\n",
              "  'преследова',\n",
              "  'полицейск',\n",
              "  'лиш',\n",
              "  'проб',\n",
              "  'колес',\n",
              "  'угонщик',\n",
              "  'останов',\n",
              "  'выскоч',\n",
              "  'попыта',\n",
              "  'скрыт',\n",
              "  'бег',\n",
              "  'полицейск',\n",
              "  'задержа',\n",
              "  'переда',\n",
              "  'командован',\n",
              "  'солдат',\n",
              "  'объясн',\n",
              "  'хотел',\n",
              "  'поката',\n",
              "  'апрел',\n",
              "  'год',\n",
              "  'интерфакс',\n",
              "  'передава',\n",
              "  'жител',\n",
              "  'прудбо',\n",
              "  'изъя',\n",
              "  'сем',\n",
              "  'головн',\n",
              "  'детонатор',\n",
              "  'артиллерийск',\n",
              "  'снаряд',\n",
              "  'корпус',\n",
              "  'детонатор',\n",
              "  'взрывател',\n",
              "  'снаряд',\n",
              "  'фрагмент',\n",
              "  'головн',\n",
              "  'част',\n",
              "  'реактивн',\n",
              "  'гранат',\n",
              "  'мужчин',\n",
              "  'поясн',\n",
              "  'собира',\n",
              "  'боеприпас',\n",
              "  'полигон',\n",
              "  'сдат',\n",
              "  'металлол'],\n",
              " ['теннисистк',\n",
              "  'мар',\n",
              "  'шарапов',\n",
              "  'снял',\n",
              "  'турнир',\n",
              "  'австралийск',\n",
              "  'брисбен',\n",
              "  'травм',\n",
              "  'прав',\n",
              "  'ключиц',\n",
              "  'сообща',\n",
              "  'сайт',\n",
              "  'соревнован',\n",
              "  'шарапов',\n",
              "  'отмет',\n",
              "  'воспален',\n",
              "  'област',\n",
              "  'ключиц',\n",
              "  'котор',\n",
              "  'врач',\n",
              "  'рекомендова',\n",
              "  'течен',\n",
              "  'недел',\n",
              "  'тренирова',\n",
              "  'полн',\n",
              "  'сил',\n",
              "  'слов',\n",
              "  'спортсменк',\n",
              "  'тренирова',\n",
              "  'облегчен',\n",
              "  'программ',\n",
              "  'однак',\n",
              "  'подготовк',\n",
              "  'оказа',\n",
              "  'недостаточн',\n",
              "  'участ',\n",
              "  'турнир',\n",
              "  'сайт',\n",
              "  'соревнован',\n",
              "  'говор',\n",
              "  'сомнен',\n",
              "  'шарапов',\n",
              "  'сможет',\n",
              "  'сыгра',\n",
              "  'брисбен',\n",
              "  'появ',\n",
              "  'пропуск',\n",
              "  'турнир',\n",
              "  'южн',\n",
              "  'кор',\n",
              "  'спортсменк',\n",
              "  'травмирова',\n",
              "  'перв',\n",
              "  'соперниц',\n",
              "  'шарапов',\n",
              "  'брисбен',\n",
              "  'должн',\n",
              "  'стат',\n",
              "  'австралийк',\n",
              "  'ярм',\n",
              "  'гайдошов',\n",
              "  'мест',\n",
              "  'российск',\n",
              "  'теннисистк',\n",
              "  'основн',\n",
              "  'сетк',\n",
              "  'займет',\n",
              "  'украинк',\n",
              "  'ле',\n",
              "  'цуренк'],\n",
              " ['пожарн',\n",
              "  'потуш',\n",
              "  'цистерн',\n",
              "  'бензин',\n",
              "  'загоревш',\n",
              "  'январ',\n",
              "  'подмосков',\n",
              "  'сообща',\n",
              "  'интерфакс',\n",
              "  'ссылк',\n",
              "  'пресс',\n",
              "  'служб',\n",
              "  'росс',\n",
              "  'пожар',\n",
              "  'ликвидирова',\n",
              "  'московск',\n",
              "  'времен',\n",
              "  'инцидент',\n",
              "  'обошел',\n",
              "  'жертв',\n",
              "  'пострада',\n",
              "  'ран',\n",
              "  'январ',\n",
              "  'стал',\n",
              "  'известн',\n",
              "  'возгоран',\n",
              "  'двух',\n",
              "  'цистерн',\n",
              "  'железн',\n",
              "  'дорог',\n",
              "  'мытищ',\n",
              "  'кажд',\n",
              "  'вмеща',\n",
              "  'тон',\n",
              "  'бензин',\n",
              "  'загоревш',\n",
              "  'емкост',\n",
              "  'наход',\n",
              "  'состав',\n",
              "  'грузов',\n",
              "  'поезд',\n",
              "  'цистерн',\n",
              "  'котор',\n",
              "  'содержа',\n",
              "  'бензин',\n",
              "  'пожар',\n",
              "  'присво',\n",
              "  'втор',\n",
              "  'повышен',\n",
              "  'ранг',\n",
              "  'локализова',\n",
              "  'движен',\n",
              "  'поезд',\n",
              "  'инцидент',\n",
              "  'наруша'],\n",
              " ['лидер',\n",
              "  'корейск',\n",
              "  'народн',\n",
              "  'демократическ',\n",
              "  'республик',\n",
              "  'вперв',\n",
              "  'выступ',\n",
              "  'новогодн',\n",
              "  'телеобращен',\n",
              "  'граждан',\n",
              "  'январ',\n",
              "  'сообща',\n",
              "  'news',\n",
              "  'последн',\n",
              "  'новогодн',\n",
              "  'реч',\n",
              "  'телезрител',\n",
              "  'произнес',\n",
              "  'год',\n",
              "  'лидер',\n",
              "  'кндр',\n",
              "  'след',\n",
              "  'лидер',\n",
              "  'поддержива',\n",
              "  'традиц',\n",
              "  'вообщ',\n",
              "  'очен',\n",
              "  'редк',\n",
              "  'публичн',\n",
              "  'выступа',\n",
              "  'возглавля',\n",
              "  'стран',\n",
              "  'год',\n",
              "  'внук',\n",
              "  'сен',\n",
              "  'реш',\n",
              "  'возобнов',\n",
              "  'традиц',\n",
              "  'сво',\n",
              "  'выступлен',\n",
              "  'заяв',\n",
              "  'северн',\n",
              "  'южн',\n",
              "  'кор',\n",
              "  'необходим',\n",
              "  'воссоедин',\n",
              "  'подчеркнул',\n",
              "  'разноглас',\n",
              "  'привод',\n",
              "  'войн',\n",
              "  'лидер',\n",
              "  'кндр',\n",
              "  'призва',\n",
              "  'укрепля',\n",
              "  'воен',\n",
              "  'политическ',\n",
              "  'мощ',\n",
              "  'стран',\n",
              "  'заяв',\n",
              "  'государств',\n",
              "  'сильн',\n",
              "  'воен',\n",
              "  'потенциал',\n",
              "  'достич',\n",
              "  'процветан',\n",
              "  'дополнен',\n",
              "  'телеобращен',\n",
              "  'реч',\n",
              "  'напечата',\n",
              "  'трех',\n",
              "  'основн',\n",
              "  'газет',\n",
              "  'кндр',\n",
              "  'такж',\n",
              "  'северокорейск',\n",
              "  'сообщ',\n",
              "  'лидер',\n",
              "  'встрет',\n",
              "  'нов',\n",
              "  'сход',\n",
              "  'музыкальн',\n",
              "  'спектакл',\n",
              "  'жен',\n",
              "  'декабр',\n",
              "  'год',\n",
              "  'получ',\n",
              "  'шанс',\n",
              "  'стат',\n",
              "  'человек',\n",
              "  'год',\n",
              "  'верс',\n",
              "  'американск',\n",
              "  'журна',\n",
              "  'time',\n",
              "  'стал',\n",
              "  'лидер',\n",
              "  'читательск',\n",
              "  'голосован',\n",
              "  'однак',\n",
              "  'редактор',\n",
              "  'итог',\n",
              "  'выбра',\n",
              "  'человек',\n",
              "  'год',\n",
              "  'президент',\n",
              "  'барак',\n",
              "  'обам',\n",
              "  'лидерств',\n",
              "  'объясн',\n",
              "  'хакерск',\n",
              "  'атак',\n",
              "  'кндр',\n",
              "  'соглас',\n",
              "  'верс']]"
            ]
          },
          "metadata": {},
          "execution_count": 76
        }
      ]
    },
    {
      "cell_type": "code",
      "metadata": {
        "colab": {
          "base_uri": "https://localhost:8080/"
        },
        "outputId": "77eff651-66e0-4d67-fe37-983887f58c1c",
        "id": "61trEdZyUcZ5"
      },
      "source": [
        "dictionary_ru = corpora.Dictionary(processed_docs_ru)"
      ],
      "execution_count": null,
      "outputs": [
        {
          "output_type": "stream",
          "name": "stderr",
          "text": [
            "/usr/local/lib/python3.10/dist-packages/ipykernel/ipkernel.py:283: DeprecationWarning: `should_run_async` will not call `transform_cell` automatically in the future. Please pass the result to `transformed_cell` argument and any exception that happen during thetransform in `preprocessing_exc_tuple` in IPython 7.17 and above.\n",
            "  and should_run_async(code)\n"
          ]
        }
      ]
    },
    {
      "cell_type": "code",
      "metadata": {
        "outputId": "458a54b4-fc4b-4cf6-d4f8-d93f48caebe9",
        "colab": {
          "base_uri": "https://localhost:8080/"
        },
        "id": "HNr1C32XUcZ5"
      },
      "source": [
        "for idx, (k, v) in enumerate(dictionary_ru.iteritems()):\n",
        "    print(k, v)\n",
        "    if idx >= 10:\n",
        "        break"
      ],
      "execution_count": null,
      "outputs": [
        {
          "output_type": "stream",
          "name": "stdout",
          "text": [
            "0 agence\n",
            "1 associated\n",
            "2 france\n",
            "3 press\n",
            "4 presse\n",
            "5 алкогольн\n",
            "6 бедн\n",
            "7 бездомн\n",
            "8 ветер\n",
            "9 возведен\n",
            "10 возгоран\n"
          ]
        },
        {
          "output_type": "stream",
          "name": "stderr",
          "text": [
            "/usr/local/lib/python3.10/dist-packages/ipykernel/ipkernel.py:283: DeprecationWarning: `should_run_async` will not call `transform_cell` automatically in the future. Please pass the result to `transformed_cell` argument and any exception that happen during thetransform in `preprocessing_exc_tuple` in IPython 7.17 and above.\n",
            "  and should_run_async(code)\n"
          ]
        }
      ]
    },
    {
      "cell_type": "code",
      "metadata": {
        "colab": {
          "base_uri": "https://localhost:8080/"
        },
        "outputId": "87e74048-49c0-40b9-9a80-334e7eccff69",
        "id": "YAh9cH5MUcZ6"
      },
      "source": [
        "filter_tokens_if_container_documents_are_less_than = 15\n",
        "filter_tokens_if_appeared_percentage_more_than = 0.5\n",
        "keep_the_first_n_tokens=100000\n",
        "\n",
        "num_of_topics = 10"
      ],
      "execution_count": null,
      "outputs": [
        {
          "output_type": "stream",
          "name": "stderr",
          "text": [
            "/usr/local/lib/python3.10/dist-packages/ipykernel/ipkernel.py:283: DeprecationWarning: `should_run_async` will not call `transform_cell` automatically in the future. Please pass the result to `transformed_cell` argument and any exception that happen during thetransform in `preprocessing_exc_tuple` in IPython 7.17 and above.\n",
            "  and should_run_async(code)\n"
          ]
        }
      ]
    },
    {
      "cell_type": "code",
      "metadata": {
        "colab": {
          "base_uri": "https://localhost:8080/"
        },
        "outputId": "7fec5f0e-7daa-4c21-9f5c-61ff8d57ff39",
        "id": "9EB1Q2OJUcZ6"
      },
      "source": [
        "dictionary.filter_extremes(\n",
        "    no_below=filter_tokens_if_container_documents_are_less_than,\n",
        "    no_above=filter_tokens_if_appeared_percentage_more_than,\n",
        "    keep_n=keep_the_first_n_tokens)\n"
      ],
      "execution_count": null,
      "outputs": [
        {
          "output_type": "stream",
          "name": "stderr",
          "text": [
            "/usr/local/lib/python3.10/dist-packages/ipykernel/ipkernel.py:283: DeprecationWarning: `should_run_async` will not call `transform_cell` automatically in the future. Please pass the result to `transformed_cell` argument and any exception that happen during thetransform in `preprocessing_exc_tuple` in IPython 7.17 and above.\n",
            "  and should_run_async(code)\n"
          ]
        }
      ]
    },
    {
      "cell_type": "code",
      "metadata": {
        "colab": {
          "base_uri": "https://localhost:8080/"
        },
        "outputId": "117e1053-b397-4e6b-8f0e-36a3411d9b98",
        "id": "Xsn3csVqUcZ6"
      },
      "source": [
        "bow_corpus_ru = [dictionary_ru.doc2bow(doc) for doc in processed_docs_ru]"
      ],
      "execution_count": null,
      "outputs": [
        {
          "output_type": "stream",
          "name": "stderr",
          "text": [
            "/usr/local/lib/python3.10/dist-packages/ipykernel/ipkernel.py:283: DeprecationWarning: `should_run_async` will not call `transform_cell` automatically in the future. Please pass the result to `transformed_cell` argument and any exception that happen during thetransform in `preprocessing_exc_tuple` in IPython 7.17 and above.\n",
            "  and should_run_async(code)\n"
          ]
        }
      ]
    },
    {
      "cell_type": "code",
      "metadata": {
        "outputId": "d0a82b1d-bbfb-46ef-abf7-01d1d866c97c",
        "colab": {
          "base_uri": "https://localhost:8080/"
        },
        "id": "O-nTRwJIUcZ7"
      },
      "source": [
        "sample_bow_doc_ru = choice(bow_corpus_ru)\n",
        "\n",
        "print('The processed bag-of-word document is just pairs of (word_id, # of occurnces) and looks like this:')\n",
        "print(sample_bow_doc_ru, '\\n\\n')\n",
        "\n",
        "print ('We peek in the dictionary: for each word_id, we get its assigned word:')\n",
        "for word_id, word_freq in sample_bow_doc_ru:\n",
        "  real_word = dictionary_ru[word_id]\n",
        "  print(f'Word #{word_id} (\"{real_word}\") appears {word_freq} time.')"
      ],
      "execution_count": null,
      "outputs": [
        {
          "output_type": "stream",
          "name": "stdout",
          "text": [
            "The processed bag-of-word document is just pairs of (word_id, # of occurnces) and looks like this:\n",
            "[(59, 1), (69, 1), (77, 2), (93, 1), (105, 2), (113, 1), (157, 1), (214, 1), (230, 1), (347, 1), (356, 1), (363, 1), (397, 1), (398, 1), (437, 1), (439, 1), (452, 1), (453, 1), (457, 1), (471, 1), (488, 1), (497, 1), (548, 1), (701, 1), (751, 1), (805, 1), (815, 1), (898, 2), (928, 1), (957, 2), (970, 1), (1017, 2), (1054, 1), (1081, 1), (1084, 3), (1100, 1), (1102, 1), (1162, 1), (1283, 1), (1511, 1), (1525, 1), (1569, 1), (1654, 1), (1851, 1), (2049, 1), (2065, 1), (2066, 1), (2067, 2), (2068, 1), (2069, 1), (2070, 1), (2071, 1), (2072, 2), (2073, 1), (2074, 1), (2075, 2), (2076, 1), (2077, 1), (2078, 1), (2079, 1), (2080, 1), (2081, 3), (2082, 1), (2083, 1), (2084, 1), (2085, 1), (2086, 1), (2087, 3), (2088, 1), (2089, 1), (2090, 1), (2091, 2), (2092, 2)] \n",
            "\n",
            "\n",
            "We peek in the dictionary: for each word_id, we get its assigned word:\n",
            "Word #59 (\"сообща\") appears 1 time.\n",
            "Word #69 (\"человек\") appears 1 time.\n",
            "Word #77 (\"агентств\") appears 2 time.\n",
            "Word #93 (\"инцидент\") appears 1 time.\n",
            "Word #105 (\"окол\") appears 2 time.\n",
            "Word #113 (\"полиц\") appears 1 time.\n",
            "Word #157 (\"действ\") appears 1 time.\n",
            "Word #214 (\"приня\") appears 1 time.\n",
            "Word #230 (\"такж\") appears 1 time.\n",
            "Word #347 (\"задержа\") appears 1 time.\n",
            "Word #356 (\"московск\") appears 1 time.\n",
            "Word #363 (\"отмеча\") appears 1 time.\n",
            "Word #397 (\"наруш\") appears 1 time.\n",
            "Word #398 (\"наход\") appears 1 time.\n",
            "Word #437 (\"интерфакс\") appears 1 time.\n",
            "Word #439 (\"источник\") appears 1 time.\n",
            "Word #452 (\"област\") appears 1 time.\n",
            "Word #453 (\"областн\") appears 1 time.\n",
            "Word #457 (\"орган\") appears 1 time.\n",
            "Word #471 (\"приб\") appears 1 time.\n",
            "Word #488 (\"сотрудник\") appears 1 time.\n",
            "Word #497 (\"уточня\") appears 1 time.\n",
            "Word #548 (\"времен\") appears 1 time.\n",
            "Word #701 (\"пыта\") appears 1 time.\n",
            "Word #751 (\"виновник\") appears 1 time.\n",
            "Word #805 (\"вернул\") appears 1 time.\n",
            "Word #815 (\"назначен\") appears 1 time.\n",
            "Word #898 (\"москв\") appears 2 time.\n",
            "Word #928 (\"центр\") appears 1 time.\n",
            "Word #957 (\"пассажир\") appears 2 time.\n",
            "Word #970 (\"решен\") appears 1 time.\n",
            "Word #1017 (\"аэропорт\") appears 2 time.\n",
            "Word #1054 (\"нек\") appears 1 time.\n",
            "Word #1081 (\"пункт\") appears 1 time.\n",
            "Word #1084 (\"самолет\") appears 3 time.\n",
            "Word #1100 (\"услов\") appears 1 time.\n",
            "Word #1102 (\"эт\") appears 1 time.\n",
            "Word #1162 (\"компан\") appears 1 time.\n",
            "Word #1283 (\"гражданин\") appears 1 time.\n",
            "Word #1511 (\"регион\") appears 1 time.\n",
            "Word #1525 (\"благополучн\") appears 1 time.\n",
            "Word #1569 (\"север\") appears 1 time.\n",
            "Word #1654 (\"воздушн\") appears 1 time.\n",
            "Word #1851 (\"прорва\") appears 1 time.\n",
            "Word #2049 (\"обратн\") appears 1 time.\n",
            "Word #2065 (\"airbus\") appears 1 time.\n",
            "Word #2066 (\"авиакомпан\") appears 1 time.\n",
            "Word #2067 (\"борт\") appears 2 time.\n",
            "Word #2068 (\"внов\") appears 1 time.\n",
            "Word #2069 (\"возврат\") appears 1 time.\n",
            "Word #2070 (\"вылет\") appears 1 time.\n",
            "Word #2071 (\"вылетел\") appears 1 time.\n",
            "Word #2072 (\"выполня\") appears 2 time.\n",
            "Word #2073 (\"дозаправк\") appears 1 time.\n",
            "Word #2074 (\"долет\") appears 1 time.\n",
            "Word #2075 (\"домодедов\") appears 2 time.\n",
            "Word #2076 (\"драк\") appears 1 time.\n",
            "Word #2077 (\"драчлив\") appears 1 time.\n",
            "Word #2078 (\"затея\") appears 1 time.\n",
            "Word #2079 (\"кабин\") appears 1 time.\n",
            "Word #2080 (\"командир\") appears 1 time.\n",
            "Word #2081 (\"лайнер\") appears 3 time.\n",
            "Word #2082 (\"мотивирова\") appears 1 time.\n",
            "Word #2083 (\"пилот\") appears 1 time.\n",
            "Word #2084 (\"приземл\") appears 1 time.\n",
            "Word #2085 (\"пролета\") appears 1 time.\n",
            "Word #2086 (\"рассказа\") appears 1 time.\n",
            "Word #2087 (\"рейс\") appears 3 time.\n",
            "Word #2088 (\"самарск\") appears 1 time.\n",
            "Word #2089 (\"снят\") appears 1 time.\n",
            "Word #2090 (\"судн\") appears 1 time.\n",
            "Word #2091 (\"таджикиста\") appears 2 time.\n",
            "Word #2092 (\"худжанд\") appears 2 time.\n"
          ]
        },
        {
          "output_type": "stream",
          "name": "stderr",
          "text": [
            "/usr/local/lib/python3.10/dist-packages/ipykernel/ipkernel.py:283: DeprecationWarning: `should_run_async` will not call `transform_cell` automatically in the future. Please pass the result to `transformed_cell` argument and any exception that happen during thetransform in `preprocessing_exc_tuple` in IPython 7.17 and above.\n",
            "  and should_run_async(code)\n"
          ]
        }
      ]
    },
    {
      "cell_type": "code",
      "metadata": {
        "colab": {
          "base_uri": "https://localhost:8080/"
        },
        "outputId": "6c555aa3-409f-4338-9f8c-d4d57ad319f9",
        "id": "UjBWlYYRVYby"
      },
      "source": [
        "lda_model = models.LdaMulticore(bow_corpus_ru,\n",
        "                                num_topics=num_of_topics,\n",
        "                                id2word=dictionary_ru,\n",
        "                                passes=5,\n",
        "                                workers=2)"
      ],
      "execution_count": null,
      "outputs": [
        {
          "output_type": "stream",
          "name": "stderr",
          "text": [
            "/usr/local/lib/python3.10/dist-packages/ipykernel/ipkernel.py:283: DeprecationWarning: `should_run_async` will not call `transform_cell` automatically in the future. Please pass the result to `transformed_cell` argument and any exception that happen during thetransform in `preprocessing_exc_tuple` in IPython 7.17 and above.\n",
            "  and should_run_async(code)\n",
            "WARNING:gensim.models.ldamulticore:too few updates, training might not converge; consider increasing the number of passes or iterations to improve accuracy\n"
          ]
        }
      ]
    },
    {
      "cell_type": "code",
      "metadata": {
        "outputId": "31958682-229b-4755-d415-81c4a8cfda91",
        "colab": {
          "base_uri": "https://localhost:8080/"
        },
        "id": "z2k1AO3fVYb7"
      },
      "source": [
        "for idx, topic in lda_model.print_topics(num_of_topics):\n",
        "    print(f'Topic: {idx} \\t Words: {topic}')"
      ],
      "execution_count": null,
      "outputs": [
        {
          "output_type": "stream",
          "name": "stdout",
          "text": [
            "Topic: 0 \t Words: 0.011*\"год\" + 0.010*\"котор\" + 0.007*\"январ\" + 0.006*\"сообща\" + 0.005*\"закон\" + 0.005*\"нов\" + 0.004*\"такж\" + 0.004*\"сайт\" + 0.003*\"декабр\" + 0.003*\"российск\"\n",
            "Topic: 1 \t Words: 0.016*\"год\" + 0.010*\"котор\" + 0.006*\"январ\" + 0.006*\"сообща\" + 0.005*\"такж\" + 0.005*\"стран\" + 0.005*\"сво\" + 0.004*\"нов\" + 0.004*\"президент\" + 0.004*\"компан\"\n",
            "Topic: 2 \t Words: 0.008*\"котор\" + 0.007*\"сообща\" + 0.007*\"год\" + 0.006*\"январ\" + 0.004*\"самолет\" + 0.004*\"дан\" + 0.004*\"полиц\" + 0.004*\"окол\" + 0.004*\"ран\" + 0.003*\"одн\"\n",
            "Topic: 3 \t Words: 0.020*\"год\" + 0.012*\"котор\" + 0.006*\"фильм\" + 0.005*\"сообща\" + 0.005*\"январ\" + 0.005*\"сво\" + 0.004*\"американск\" + 0.004*\"доллар\" + 0.004*\"стал\" + 0.004*\"такж\"\n",
            "Topic: 4 \t Words: 0.011*\"котор\" + 0.007*\"январ\" + 0.007*\"год\" + 0.006*\"сообща\" + 0.005*\"человек\" + 0.005*\"такж\" + 0.004*\"сайт\" + 0.004*\"компан\" + 0.004*\"росс\" + 0.003*\"закон\"\n",
            "Topic: 5 \t Words: 0.013*\"год\" + 0.009*\"котор\" + 0.006*\"такж\" + 0.005*\"январ\" + 0.005*\"сообща\" + 0.004*\"росс\" + 0.004*\"мест\" + 0.004*\"сборн\" + 0.004*\"перв\" + 0.004*\"сво\"\n",
            "Topic: 6 \t Words: 0.020*\"год\" + 0.009*\"процент\" + 0.008*\"котор\" + 0.008*\"январ\" + 0.007*\"доллар\" + 0.006*\"сообща\" + 0.005*\"росс\" + 0.005*\"миллион\" + 0.005*\"президент\" + 0.005*\"декабр\"\n",
            "Topic: 7 \t Words: 0.014*\"котор\" + 0.013*\"год\" + 0.005*\"такж\" + 0.005*\"нов\" + 0.005*\"стал\" + 0.004*\"компан\" + 0.004*\"сво\" + 0.004*\"фильм\" + 0.003*\"сайт\" + 0.003*\"заяв\"\n",
            "Topic: 8 \t Words: 0.011*\"котор\" + 0.008*\"год\" + 0.007*\"январ\" + 0.006*\"сообща\" + 0.005*\"человек\" + 0.004*\"дел\" + 0.003*\"результат\" + 0.003*\"стран\" + 0.003*\"врем\" + 0.003*\"тысяч\"\n",
            "Topic: 9 \t Words: 0.013*\"год\" + 0.008*\"дел\" + 0.006*\"котор\" + 0.006*\"январ\" + 0.006*\"сообща\" + 0.004*\"стал\" + 0.004*\"сво\" + 0.003*\"бывш\" + 0.003*\"такж\" + 0.003*\"ран\"\n"
          ]
        },
        {
          "output_type": "stream",
          "name": "stderr",
          "text": [
            "/usr/local/lib/python3.10/dist-packages/ipykernel/ipkernel.py:283: DeprecationWarning: `should_run_async` will not call `transform_cell` automatically in the future. Please pass the result to `transformed_cell` argument and any exception that happen during thetransform in `preprocessing_exc_tuple` in IPython 7.17 and above.\n",
            "  and should_run_async(code)\n"
          ]
        }
      ]
    },
    {
      "cell_type": "markdown",
      "source": [
        "TF/IDF"
      ],
      "metadata": {
        "id": "rZWtLiVHWIrh"
      }
    },
    {
      "cell_type": "code",
      "metadata": {
        "outputId": "8cc30355-6d13-40cb-ded7-d9d4148a6e09",
        "colab": {
          "base_uri": "https://localhost:8080/"
        },
        "id": "iX7joSlLVYb7"
      },
      "source": [
        "tfidf_ru = models.TfidfModel(bow_corpus_ru)\n",
        "\n",
        "tfidf_corpus_ru = tfidf[bow_corpus_ru]\n",
        "\n",
        "pprint(tfidf_corpus_ru[0][:10])"
      ],
      "execution_count": null,
      "outputs": [
        {
          "output_type": "stream",
          "name": "stdout",
          "text": [
            "[(0, 0.08439367063026802),\n",
            " (1, 0.10809045295724101),\n",
            " (2, 0.09854808269006221),\n",
            " (3, 0.13896382581162933),\n",
            " (4, 0.13409924228359352),\n",
            " (5, 0.1651177455393747),\n",
            " (6, 0.13225748841404147),\n",
            " (7, 0.11971551941436005),\n",
            " (8, 0.10638179972266693),\n",
            " (9, 0.06924911857518325)]\n"
          ]
        },
        {
          "output_type": "stream",
          "name": "stderr",
          "text": [
            "/usr/local/lib/python3.10/dist-packages/ipykernel/ipkernel.py:283: DeprecationWarning: `should_run_async` will not call `transform_cell` automatically in the future. Please pass the result to `transformed_cell` argument and any exception that happen during thetransform in `preprocessing_exc_tuple` in IPython 7.17 and above.\n",
            "  and should_run_async(code)\n"
          ]
        }
      ]
    },
    {
      "cell_type": "code",
      "source": [
        "assert len(bow_corpus_ru) == len(tfidf_corpus_ru)"
      ],
      "metadata": {
        "colab": {
          "base_uri": "https://localhost:8080/"
        },
        "outputId": "f1415013-e415-435b-8824-5edf513c2cf1",
        "id": "S4oXQfw1VYb7"
      },
      "execution_count": null,
      "outputs": [
        {
          "output_type": "stream",
          "name": "stderr",
          "text": [
            "/usr/local/lib/python3.10/dist-packages/ipykernel/ipkernel.py:283: DeprecationWarning: `should_run_async` will not call `transform_cell` automatically in the future. Please pass the result to `transformed_cell` argument and any exception that happen during thetransform in `preprocessing_exc_tuple` in IPython 7.17 and above.\n",
            "  and should_run_async(code)\n"
          ]
        }
      ]
    },
    {
      "cell_type": "code",
      "metadata": {
        "outputId": "4fc11e96-f6e5-4108-e572-499b815687ba",
        "colab": {
          "base_uri": "https://localhost:8080/"
        },
        "id": "QXrTrAAQVYb8"
      },
      "source": [
        "lda_model_tfidf = models.LdaMulticore(tfidf_corpus_ru,\n",
        "                                      num_topics=num_of_topics,\n",
        "                                      id2word=dictionary_ru,\n",
        "                                      passes=5,\n",
        "                                      workers=4)"
      ],
      "execution_count": null,
      "outputs": [
        {
          "output_type": "stream",
          "name": "stderr",
          "text": [
            "/usr/local/lib/python3.10/dist-packages/ipykernel/ipkernel.py:283: DeprecationWarning: `should_run_async` will not call `transform_cell` automatically in the future. Please pass the result to `transformed_cell` argument and any exception that happen during thetransform in `preprocessing_exc_tuple` in IPython 7.17 and above.\n",
            "  and should_run_async(code)\n",
            "WARNING:gensim.models.ldamulticore:too few updates, training might not converge; consider increasing the number of passes or iterations to improve accuracy\n"
          ]
        }
      ]
    },
    {
      "cell_type": "code",
      "source": [
        "for idx, topic in lda_model_tfidf.print_topics(num_of_topics):\n",
        "    print(f'Topic: {idx} \\t Word: {topic}')"
      ],
      "metadata": {
        "outputId": "20aa2b83-fbf5-4a60-ed87-091ad50ba6e3",
        "colab": {
          "base_uri": "https://localhost:8080/"
        },
        "id": "O2pmquPRVYb8"
      },
      "execution_count": null,
      "outputs": [
        {
          "output_type": "stream",
          "name": "stdout",
          "text": [
            "Topic: 0 \t Word: 0.001*\"год\" + 0.001*\"оборон\" + 0.001*\"дворник\" + 0.001*\"художник\" + 0.000*\"сообща\" + 0.000*\"бельгийск\" + 0.000*\"школьник\" + 0.000*\"котор\" + 0.000*\"флаг\" + 0.000*\"гражданств\"\n",
            "Topic: 1 \t Word: 0.011*\"год\" + 0.007*\"сообща\" + 0.007*\"котор\" + 0.005*\"сво\" + 0.005*\"такж\" + 0.004*\"нов\" + 0.004*\"январ\" + 0.003*\"одн\" + 0.003*\"стран\" + 0.003*\"компан\"\n",
            "Topic: 2 \t Word: 0.003*\"российск\" + 0.003*\"год\" + 0.002*\"котор\" + 0.002*\"сообща\" + 0.002*\"такж\" + 0.002*\"депард\" + 0.001*\"январ\" + 0.001*\"рубл\" + 0.001*\"одн\" + 0.001*\"нов\"\n",
            "Topic: 3 \t Word: 0.001*\"остров\" + 0.001*\"год\" + 0.000*\"аргентин\" + 0.000*\"кэмпбелл\" + 0.000*\"найден\" + 0.000*\"фолклендск\" + 0.000*\"сообща\" + 0.000*\"current\" + 0.000*\"насер\" + 0.000*\"wegelin\"\n",
            "Topic: 4 \t Word: 0.002*\"процент\" + 0.002*\"год\" + 0.001*\"сообща\" + 0.001*\"метр\" + 0.001*\"рубл\" + 0.001*\"котор\" + 0.001*\"средн\" + 0.001*\"квадратн\" + 0.001*\"такж\" + 0.001*\"нов\"\n",
            "Topic: 5 \t Word: 0.001*\"iphone\" + 0.001*\"линкольн\" + 0.001*\"приложен\" + 0.001*\"номинац\" + 0.001*\"год\" + 0.000*\"изнасилован\" + 0.000*\"мастер\" + 0.000*\"apple\" + 0.000*\"категор\" + 0.000*\"отвержен\"\n",
            "Topic: 6 \t Word: 0.001*\"год\" + 0.001*\"сообща\" + 0.001*\"кубометр\" + 0.001*\"southern\" + 0.001*\"котор\" + 0.001*\"такж\" + 0.000*\"сво\" + 0.000*\"миллиард\" + 0.000*\"нов\" + 0.000*\"доллар\"\n",
            "Topic: 7 \t Word: 0.001*\"клинтон\" + 0.001*\"год\" + 0.001*\"суда\" + 0.000*\"сообща\" + 0.000*\"котор\" + 0.000*\"депард\" + 0.000*\"танк\" + 0.000*\"ubuntu\" + 0.000*\"исламск\" + 0.000*\"епископ\"\n",
            "Topic: 8 \t Word: 0.002*\"год\" + 0.002*\"вертолет\" + 0.001*\"котор\" + 0.001*\"сообща\" + 0.001*\"сборн\" + 0.001*\"сво\" + 0.001*\"чемпионат\" + 0.001*\"матч\" + 0.001*\"январ\" + 0.001*\"такж\"\n",
            "Topic: 9 \t Word: 0.002*\"год\" + 0.001*\"котор\" + 0.001*\"сообща\" + 0.001*\"чавес\" + 0.001*\"фотограф\" + 0.001*\"доллар\" + 0.001*\"компан\" + 0.001*\"фильм\" + 0.001*\"миллион\" + 0.001*\"одн\"\n"
          ]
        },
        {
          "output_type": "stream",
          "name": "stderr",
          "text": [
            "/usr/local/lib/python3.10/dist-packages/ipykernel/ipkernel.py:283: DeprecationWarning: `should_run_async` will not call `transform_cell` automatically in the future. Please pass the result to `transformed_cell` argument and any exception that happen during thetransform in `preprocessing_exc_tuple` in IPython 7.17 and above.\n",
            "  and should_run_async(code)\n"
          ]
        }
      ]
    },
    {
      "cell_type": "markdown",
      "source": [
        "Testing"
      ],
      "metadata": {
        "id": "MXPXOH0FWg0m"
      }
    },
    {
      "cell_type": "code",
      "metadata": {
        "outputId": "379ecbec-dd58-499e-d5a7-cae18ce05fa4",
        "colab": {
          "base_uri": "https://localhost:8080/"
        },
        "id": "1nwrENovWd56"
      },
      "source": [
        "# randomly pick an article:\n",
        "test_doc_ru = choice(range(len(processed_docs_ru)))\n",
        "processed_docs_ru[test_doc_ru][:50]"
      ],
      "execution_count": null,
      "outputs": [
        {
          "output_type": "stream",
          "name": "stderr",
          "text": [
            "/usr/local/lib/python3.10/dist-packages/ipykernel/ipkernel.py:283: DeprecationWarning: `should_run_async` will not call `transform_cell` automatically in the future. Please pass the result to `transformed_cell` argument and any exception that happen during thetransform in `preprocessing_exc_tuple` in IPython 7.17 and above.\n",
            "  and should_run_async(code)\n"
          ]
        },
        {
          "output_type": "execute_result",
          "data": {
            "text/plain": [
              "['груз',\n",
              " 'январ',\n",
              " 'попа',\n",
              " 'лавин',\n",
              " 'четвер',\n",
              " 'российск',\n",
              " 'альпинист',\n",
              " 'обнаруж',\n",
              " 'тел',\n",
              " 'двух',\n",
              " 'погибш',\n",
              " 'сообща',\n",
              " 'новост',\n",
              " 'ссылк',\n",
              " 'пресс',\n",
              " 'служб',\n",
              " 'гумчс',\n",
              " 'северн',\n",
              " 'осет',\n",
              " 'сообща',\n",
              " 'ран',\n",
              " 'одн',\n",
              " 'четырех',\n",
              " 'альпинист',\n",
              " 'попа',\n",
              " 'лавин',\n",
              " 'уда',\n",
              " 'спаст',\n",
              " 'судьб',\n",
              " 'последн',\n",
              " 'член',\n",
              " 'групп',\n",
              " 'пок',\n",
              " 'неизвестн',\n",
              " 'поисков',\n",
              " 'работ',\n",
              " 'нача',\n",
              " 'январ',\n",
              " 'осложн',\n",
              " 'снегопад',\n",
              " 'российск',\n",
              " 'альпинист',\n",
              " 'попа',\n",
              " 'лавин',\n",
              " 'территор',\n",
              " 'казбегск',\n",
              " 'район',\n",
              " 'груз',\n",
              " 'групп',\n",
              " 'состоя']"
            ]
          },
          "metadata": {},
          "execution_count": 93
        }
      ]
    },
    {
      "cell_type": "code",
      "metadata": {
        "outputId": "0c5a3157-8685-4eff-c5b1-e30caf9cda76",
        "colab": {
          "base_uri": "https://localhost:8080/"
        },
        "id": "X7tSpYycWd6O"
      },
      "source": [
        "for index, score in sorted(lda_model[bow_corpus_ru[test_doc_ru]], key=lambda tup: -1*tup[1]):\n",
        "    print(f\"Topic match score: {score} \\nTopic: {lda_model.print_topic(index, num_of_topics)}\")"
      ],
      "execution_count": null,
      "outputs": [
        {
          "output_type": "stream",
          "name": "stdout",
          "text": [
            "Topic match score: 0.9910821914672852 \n",
            "Topic: 0.016*\"год\" + 0.010*\"котор\" + 0.006*\"январ\" + 0.006*\"сообща\" + 0.005*\"такж\" + 0.005*\"стран\" + 0.005*\"сво\" + 0.004*\"нов\" + 0.004*\"президент\" + 0.004*\"компан\"\n"
          ]
        },
        {
          "output_type": "stream",
          "name": "stderr",
          "text": [
            "/usr/local/lib/python3.10/dist-packages/ipykernel/ipkernel.py:283: DeprecationWarning: `should_run_async` will not call `transform_cell` automatically in the future. Please pass the result to `transformed_cell` argument and any exception that happen during thetransform in `preprocessing_exc_tuple` in IPython 7.17 and above.\n",
            "  and should_run_async(code)\n"
          ]
        }
      ]
    },
    {
      "cell_type": "code",
      "metadata": {
        "outputId": "c49dbc6f-d2a2-43ec-fd7b-912f6d58d2cb",
        "colab": {
          "base_uri": "https://localhost:8080/"
        },
        "id": "CGY96EQBWd6Q"
      },
      "source": [
        "for index, score in sorted(lda_model_tfidf[bow_corpus_ru[test_doc_ru]], key=lambda tup: -1*tup[1]):\n",
        "    print(\"Topic match score: {}\\t \\nTopic: {}\".format(score, lda_model_tfidf.print_topic(index, num_of_topics)))"
      ],
      "execution_count": null,
      "outputs": [
        {
          "output_type": "stream",
          "name": "stdout",
          "text": [
            "Topic match score: 0.7663379311561584\t \n",
            "Topic: 0.011*\"год\" + 0.007*\"сообща\" + 0.007*\"котор\" + 0.005*\"сво\" + 0.005*\"такж\" + 0.004*\"нов\" + 0.004*\"январ\" + 0.003*\"одн\" + 0.003*\"стран\" + 0.003*\"компан\"\n",
            "Topic match score: 0.11385916918516159\t \n",
            "Topic: 0.003*\"российск\" + 0.003*\"год\" + 0.002*\"котор\" + 0.002*\"сообща\" + 0.002*\"такж\" + 0.002*\"депард\" + 0.001*\"январ\" + 0.001*\"рубл\" + 0.001*\"одн\" + 0.001*\"нов\"\n",
            "Topic match score: 0.11221540719270706\t \n",
            "Topic: 0.002*\"год\" + 0.002*\"вертолет\" + 0.001*\"котор\" + 0.001*\"сообща\" + 0.001*\"сборн\" + 0.001*\"сво\" + 0.001*\"чемпионат\" + 0.001*\"матч\" + 0.001*\"январ\" + 0.001*\"такж\"\n"
          ]
        },
        {
          "output_type": "stream",
          "name": "stderr",
          "text": [
            "/usr/local/lib/python3.10/dist-packages/ipykernel/ipkernel.py:283: DeprecationWarning: `should_run_async` will not call `transform_cell` automatically in the future. Please pass the result to `transformed_cell` argument and any exception that happen during thetransform in `preprocessing_exc_tuple` in IPython 7.17 and above.\n",
            "  and should_run_async(code)\n"
          ]
        }
      ]
    },
    {
      "cell_type": "code",
      "source": [
        "print('Perplexity: ', lda_model.log_perplexity(bow_corpus_ru))\n",
        "print('Perplexity TFIDF: ', lda_model_tfidf.log_perplexity(bow_corpus_ru))"
      ],
      "metadata": {
        "colab": {
          "base_uri": "https://localhost:8080/"
        },
        "outputId": "b5bab8af-7c17-498e-be42-7e25d52f2a9a",
        "id": "IxUjqG4xWd6S"
      },
      "execution_count": null,
      "outputs": [
        {
          "output_type": "stream",
          "name": "stderr",
          "text": [
            "/usr/local/lib/python3.10/dist-packages/ipykernel/ipkernel.py:283: DeprecationWarning: `should_run_async` will not call `transform_cell` automatically in the future. Please pass the result to `transformed_cell` argument and any exception that happen during thetransform in `preprocessing_exc_tuple` in IPython 7.17 and above.\n",
            "  and should_run_async(code)\n"
          ]
        },
        {
          "output_type": "stream",
          "name": "stdout",
          "text": [
            "Perplexity:  -8.556529190316839\n",
            "Perplexity TFIDF:  -10.151488814458796\n"
          ]
        }
      ]
    },
    {
      "cell_type": "code",
      "metadata": {
        "outputId": "d73143ff-0ca7-4a01-91ec-089da62aedfd",
        "colab": {
          "base_uri": "https://localhost:8080/"
        },
        "id": "3vEDwu63Wd6U"
      },
      "source": [
        "unseen_document_ru = \"\"\"Совбез ООН по запросу РФ 20 декабря проведет заседание по поставкам оружия Киеву.\n",
        "Совбез ООН в пятницу, 20 декабря, проведет заседание по поставкам западного оружия Киеву.\n",
        "Об этом сообщил первый зампостпреда миссии России при всемирной организации Дмитрий Полянский, передает РИА Новости.\n",
        "Отмечается, что в понедельник, 16 декабря, в 23:00 по московскому времени Совбез обсудит ситуацию на Украине.\n",
        "Заседание запросили западные страны. Ранее стало известно, что Минобороны Украины выделит дополнительные 1,1 миллиарда гривен (более 26 миллионов долларов) на покупку дронов.\n",
        "Премьер-министр страны Денис Шмыгаль уточнил, что за 10 месяцев 2024 года правительство потратило 229 миллиардов гривен на закупку вооружения, боеприпасов и других средств для украинской армии.?\"\"\"\n",
        "\n",
        "#source: https://lenta.ru/news/2024/12/16/sovbez-oon-provedet-zasedanie-po-postavkam-oruzhiya-ukraine/\n",
        "\n",
        "bow_vector_ru = dictionary_ru.doc2bow(preprocess(unseen_document_ru))\n",
        "\n",
        "pprint(lda_model[bow_vector])\n",
        "\n",
        "for index, score in sorted(lda_model[bow_vector], key=lambda tup: -1*tup[1]):\n",
        "    print(\"Score: {}\\t Topic: {}\".format(score, lda_model.print_topic(index, 5)))"
      ],
      "execution_count": null,
      "outputs": [
        {
          "output_type": "stream",
          "name": "stdout",
          "text": [
            "[(0, 0.048696168),\n",
            " (1, 0.14540713),\n",
            " (2, 0.13325372),\n",
            " (3, 0.11201354),\n",
            " (4, 0.13860835),\n",
            " (5, 0.18895672),\n",
            " (6, 0.06549029),\n",
            " (7, 0.02618715),\n",
            " (8, 0.12466064),\n",
            " (9, 0.016726311)]\n",
            "Score: 0.18895994126796722\t Topic: 0.013*\"год\" + 0.009*\"котор\" + 0.006*\"такж\" + 0.005*\"январ\" + 0.005*\"сообща\"\n",
            "Score: 0.14541536569595337\t Topic: 0.016*\"год\" + 0.010*\"котор\" + 0.006*\"январ\" + 0.006*\"сообща\" + 0.005*\"такж\"\n",
            "Score: 0.1386106163263321\t Topic: 0.011*\"котор\" + 0.007*\"январ\" + 0.007*\"год\" + 0.006*\"сообща\" + 0.005*\"человек\"\n",
            "Score: 0.13321003317832947\t Topic: 0.008*\"котор\" + 0.007*\"сообща\" + 0.007*\"год\" + 0.006*\"январ\" + 0.004*\"самолет\"\n",
            "Score: 0.12468120455741882\t Topic: 0.011*\"котор\" + 0.008*\"год\" + 0.007*\"январ\" + 0.006*\"сообща\" + 0.005*\"человек\"\n",
            "Score: 0.1120285615324974\t Topic: 0.020*\"год\" + 0.012*\"котор\" + 0.006*\"фильм\" + 0.005*\"сообща\" + 0.005*\"январ\"\n",
            "Score: 0.06547807157039642\t Topic: 0.020*\"год\" + 0.009*\"процент\" + 0.008*\"котор\" + 0.008*\"январ\" + 0.007*\"доллар\"\n",
            "Score: 0.04869482293725014\t Topic: 0.011*\"год\" + 0.010*\"котор\" + 0.007*\"январ\" + 0.006*\"сообща\" + 0.005*\"закон\"\n",
            "Score: 0.026194311678409576\t Topic: 0.014*\"котор\" + 0.013*\"год\" + 0.005*\"такж\" + 0.005*\"нов\" + 0.005*\"стал\"\n",
            "Score: 0.016727078706026077\t Topic: 0.013*\"год\" + 0.008*\"дел\" + 0.006*\"котор\" + 0.006*\"январ\" + 0.006*\"сообща\"\n"
          ]
        },
        {
          "output_type": "stream",
          "name": "stderr",
          "text": [
            "/usr/local/lib/python3.10/dist-packages/ipykernel/ipkernel.py:283: DeprecationWarning: `should_run_async` will not call `transform_cell` automatically in the future. Please pass the result to `transformed_cell` argument and any exception that happen during thetransform in `preprocessing_exc_tuple` in IPython 7.17 and above.\n",
            "  and should_run_async(code)\n"
          ]
        }
      ]
    },
    {
      "cell_type": "code",
      "source": [
        "%pip install pyLDAvis"
      ],
      "metadata": {
        "colab": {
          "base_uri": "https://localhost:8080/"
        },
        "outputId": "f0949428-a5cd-458e-cd3a-591779182ac4",
        "id": "VdGabEZFaDgm"
      },
      "execution_count": null,
      "outputs": [
        {
          "output_type": "stream",
          "name": "stderr",
          "text": [
            "/usr/local/lib/python3.10/dist-packages/ipykernel/ipkernel.py:283: DeprecationWarning: `should_run_async` will not call `transform_cell` automatically in the future. Please pass the result to `transformed_cell` argument and any exception that happen during thetransform in `preprocessing_exc_tuple` in IPython 7.17 and above.\n",
            "  and should_run_async(code)\n"
          ]
        },
        {
          "output_type": "stream",
          "name": "stdout",
          "text": [
            "Requirement already satisfied: pyLDAvis in /usr/local/lib/python3.10/dist-packages (3.4.1)\n",
            "Requirement already satisfied: numpy>=1.24.2 in /usr/local/lib/python3.10/dist-packages (from pyLDAvis) (1.26.4)\n",
            "Requirement already satisfied: scipy in /usr/local/lib/python3.10/dist-packages (from pyLDAvis) (1.13.1)\n",
            "Requirement already satisfied: pandas>=2.0.0 in /usr/local/lib/python3.10/dist-packages (from pyLDAvis) (2.2.2)\n",
            "Requirement already satisfied: joblib>=1.2.0 in /usr/local/lib/python3.10/dist-packages (from pyLDAvis) (1.4.2)\n",
            "Requirement already satisfied: jinja2 in /usr/local/lib/python3.10/dist-packages (from pyLDAvis) (3.1.4)\n",
            "Requirement already satisfied: numexpr in /usr/local/lib/python3.10/dist-packages (from pyLDAvis) (2.10.2)\n",
            "Requirement already satisfied: funcy in /usr/local/lib/python3.10/dist-packages (from pyLDAvis) (2.0)\n",
            "Requirement already satisfied: scikit-learn>=1.0.0 in /usr/local/lib/python3.10/dist-packages (from pyLDAvis) (1.5.2)\n",
            "Requirement already satisfied: gensim in /usr/local/lib/python3.10/dist-packages (from pyLDAvis) (4.3.3)\n",
            "Requirement already satisfied: setuptools in /usr/local/lib/python3.10/dist-packages (from pyLDAvis) (75.1.0)\n",
            "Requirement already satisfied: python-dateutil>=2.8.2 in /usr/local/lib/python3.10/dist-packages (from pandas>=2.0.0->pyLDAvis) (2.8.2)\n",
            "Requirement already satisfied: pytz>=2020.1 in /usr/local/lib/python3.10/dist-packages (from pandas>=2.0.0->pyLDAvis) (2024.2)\n",
            "Requirement already satisfied: tzdata>=2022.7 in /usr/local/lib/python3.10/dist-packages (from pandas>=2.0.0->pyLDAvis) (2024.2)\n",
            "Requirement already satisfied: threadpoolctl>=3.1.0 in /usr/local/lib/python3.10/dist-packages (from scikit-learn>=1.0.0->pyLDAvis) (3.5.0)\n",
            "Requirement already satisfied: smart-open>=1.8.1 in /usr/local/lib/python3.10/dist-packages (from gensim->pyLDAvis) (7.0.5)\n",
            "Requirement already satisfied: MarkupSafe>=2.0 in /usr/local/lib/python3.10/dist-packages (from jinja2->pyLDAvis) (3.0.2)\n",
            "Requirement already satisfied: six>=1.5 in /usr/local/lib/python3.10/dist-packages (from python-dateutil>=2.8.2->pandas>=2.0.0->pyLDAvis) (1.17.0)\n",
            "Requirement already satisfied: wrapt in /usr/local/lib/python3.10/dist-packages (from smart-open>=1.8.1->gensim->pyLDAvis) (1.17.0)\n"
          ]
        }
      ]
    },
    {
      "cell_type": "code",
      "source": [
        "import pyLDAvis.gensim_models as gensimvis\n",
        "import pyLDAvis\n",
        "\n",
        "bow_lda_data_ru = gensimvis.prepare(lda_model, bow_corpus_ru, dictionary_ru)\n",
        "\n",
        "pyLDAvis.display(bow_lda_data_ru)"
      ],
      "metadata": {
        "colab": {
          "base_uri": "https://localhost:8080/",
          "height": 917
        },
        "outputId": "0f0ccd3f-2a3a-42ec-8a9f-271750bbe47b",
        "id": "yogo_3OGaDhI"
      },
      "execution_count": null,
      "outputs": [
        {
          "output_type": "stream",
          "name": "stderr",
          "text": [
            "/usr/local/lib/python3.10/dist-packages/ipykernel/ipkernel.py:283: DeprecationWarning: `should_run_async` will not call `transform_cell` automatically in the future. Please pass the result to `transformed_cell` argument and any exception that happen during thetransform in `preprocessing_exc_tuple` in IPython 7.17 and above.\n",
            "  and should_run_async(code)\n"
          ]
        },
        {
          "output_type": "execute_result",
          "data": {
            "text/plain": [
              "<IPython.core.display.HTML object>"
            ],
            "text/html": [
              "\n",
              "<link rel=\"stylesheet\" type=\"text/css\" href=\"https://cdn.jsdelivr.net/gh/bmabey/pyLDAvis@3.4.0/pyLDAvis/js/ldavis.v1.0.0.css\">\n",
              "\n",
              "\n",
              "<div id=\"ldavis_el8941330396556665122614538522\" style=\"background-color:white;\"></div>\n",
              "<script type=\"text/javascript\">\n",
              "\n",
              "var ldavis_el8941330396556665122614538522_data = {\"mdsDat\": {\"x\": [-0.004983556737397246, 0.07413092922387463, 0.04095175607449219, 0.012064316537021162, -0.027814052142844155, -0.032074879181085716, -0.09095901320451093, 0.11359449553701763, -0.05368866708589587, -0.031221329020671717], \"y\": [0.11524346710059934, -0.053655115452361755, 0.03422308536669066, 0.062380831717899314, 0.00838121469736517, -0.06508075335835899, -0.031520061076017875, -0.02831424570782606, 0.01815595206714901, -0.05981437535513881], \"topics\": [1, 2, 3, 4, 5, 6, 7, 8, 9, 10], \"cluster\": [1, 1, 1, 1, 1, 1, 1, 1, 1, 1], \"Freq\": [16.125975407805857, 12.607058107508742, 12.37074274008325, 11.48671129423431, 11.144313326891075, 9.448681957466636, 9.254675194762468, 6.898780883972895, 6.705593760173234, 3.957467327101533]}, \"tinfo\": {\"Term\": [\"\\u0434\\u0435\\u043b\", \"\\u043f\\u0440\\u043e\\u0446\\u0435\\u043d\\u0442\", \"\\u0444\\u0438\\u043b\\u044c\\u043c\", \"\\u0437\\u0430\\u043a\\u043e\\u043d\", \"\\u0433\\u043e\\u0434\", \"\\u0441\\u0431\\u043e\\u0440\\u043d\", \"\\u043a\\u043e\\u0442\\u043e\\u0440\", \"\\u0434\\u0435\\u043f\\u0430\\u0440\\u0434\", \"\\u043f\\u043e\\u043b\\u0438\\u0446\", \"\\u0441\\u0430\\u043c\\u043e\\u043b\\u0435\\u0442\", \"\\u043c\\u0430\\u0442\\u0447\", \"\\u0447\\u0435\\u043b\\u043e\\u0432\\u0435\\u043a\", \"\\u0434\\u043e\\u043b\\u043b\\u0430\\u0440\", \"\\u044f\\u043d\\u0432\\u0430\\u0440\", \"\\u0443\\u0441\\u044b\\u043d\\u043e\\u0432\\u043b\\u0435\\u043d\", \"\\u0440\\u0435\\u0436\\u0438\\u0441\\u0441\\u0435\\u0440\", \"\\u0441\\u0442\\u0430\\u043b\", \"\\u0438\\u0433\\u0440\", \"\\u0431\\u044b\\u0432\\u0448\", \"\\u0443\\u0441\\u0442\\u0440\\u043e\\u0439\\u0441\\u0442\\u0432\", \"\\u0441\\u0430\\u0439\\u0442\", \"\\u043f\\u043e\\u043b\\u043e\\u043d\\u0441\\u043a\", \"\\u0443\\u043a\\u0440\\u0430\\u0438\\u043d\", \"\\u0433\\u0440\\u0430\\u0436\\u0434\\u0430\\u043d\\u0441\\u0442\\u0432\", \"\\u043f\\u0440\\u0435\\u0437\\u0438\\u0434\\u0435\\u043d\\u0442\", \"\\u043a\\u043e\\u043c\\u0430\\u043d\\u0434\", \"\\u0440\\u043e\\u0441\\u0441\", \"\\u0440\\u043e\\u043b\", \"\\u0433\\u043e\\u0441\\u0434\\u0443\\u043c\", \"\\u0447\\u0430\\u0432\\u0435\\u0441\", \"\\u043e\\u043a\\u0440\\u0443\\u0430\\u0448\\u0432\", \"\\u0432\\u0435\\u043d\\u0435\\u0441\\u0443\\u044d\\u043b\", \"\\u043a\\u0438\\u043f\\u0440\", \"\\u0430\\u0440\\u043d\", \"\\u0433\\u0440\\u0430\\u0432\\u044e\\u0440\", \"\\u0430\\u044d\\u0440\\u043e\\u0441\\u0432\\u0438\\u0442\", \"\\u043c\\u0430\\u0434\\u0443\\u0440\", \"\\u043e\\u0431\\u043b\\u0438\\u0433\\u0430\\u0446\", \"\\u043a\\u043e\\u043f\\u0435\\u0435\\u043a\", \"\\u0440\\u0430\\u0437\\u0432\\u043e\\u0437\\u0436\\u0430\", \"sotheby\", \"\\u0447\\u0430\\u0432\\u0435\\u0441\", \"\\u0430\\u044d\\u0440\\u043e\\u0441\\u0432\", \"\\u043b\\u0435\\u0431\\u0435\\u0434\\u0435\\u0432\", \"\\u0437\\u0430\\u0434\\u043e\\u043b\\u0436\\u0435\\u043d\", \"\\u043e\\u043b\\u043b\\u0430\\u043d\\u0434\", \"\\u043c\\u0443\\u0440\\u0430\\u043a\", \"\\u043b\\u0435\\u0431\\u0435\\u0434\", \"\\u0440\\u043e\\u0441\\u0430\\u0432\\u0438\\u0430\\u0446\", \"\\u043b\\u0435\\u043e\\u043d\\u0438\\u0434\", \"\\u043f\\u0438\\u043d\\u0447\\u043e\\u043d\", \"starbucks\", \"\\u043f\\u0438\\u0444\", \"\\u0431\\u0430\\u043d\\u0434\\u0435\\u0440\", \"\\u043a\\u0438\", \"\\u0433\\u0430\\u0440\\u043d\\u0438\\u0442\\u0443\\u0440\", \"\\u0438\\u0441\\u0430\", \"\\u0431\\u043e\\u0440\", \"\\u043f\\u043e\\u0434\\u0432\\u043e\\u0434\\u043d\", \"\\u044e\\u043d\\u043c\\u0438\\u043d\", \"\\u0442\\u043e\\u0440\\u0433\", \"\\u0442\\u0438\\u043c\\u043e\\u0448\\u0435\\u043d\\u043a\", \"\\u0444\\u0440\\u0430\\u043d\\u0446\\u0443\\u0437\", \"\\u0441\\u0430\\u0430\\u043a\\u0430\\u0448\\u0432\", \"\\u0432\\u0430\\u043b\\u044e\\u0442\", \"\\u0431\\u0435\\u043b\\u044c\\u0433\", \"\\u0434\\u0435\\u043f\\u0430\\u0440\\u0434\", \"\\u0431\\u0435\\u043b\\u044c\\u0433\\u0438\\u0439\\u0441\\u043a\", \"\\u0433\\u0440\\u0430\\u0436\\u0434\\u0430\\u043d\\u0441\\u0442\\u0432\", \"\\u0444\\u0440\\u0430\\u043d\\u0441\\u0443\", \"\\u043f\\u0440\\u043e\\u0446\\u0435\\u043d\\u0442\", \"\\u043f\\u0440\\u043e\\u0446\\u0435\\u043d\\u0442\\u043d\", \"\\u0443\\u043a\\u0440\\u0430\\u0438\\u043d\", \"\\u043e\\u0431\\u044c\", \"\\u043a\\u0432\\u0430\\u0434\\u0440\\u0430\\u0442\", \"\\u0440\\u044b\\u043d\\u043a\", \"\\u0440\\u0443\\u0431\\u043b\", \"\\u0442\\u0430\\u043c\\u043e\\u0436\\u0435\\u043d\", \"\\u0446\\u0435\\u043d\", \"\\u0441\\u0440\\u0435\\u0434\\u043d\", \"\\u043a\\u0443\\u0440\\u0441\", \"\\u0434\\u043e\\u043b\\u043b\\u0430\\u0440\", \"\\u043e\\u0431\\u044a\\u0435\\u043a\\u0442\", \"\\u0432\\u044b\\u0440\\u043e\\u0441\\u043b\", \"\\u0433\\u043e\\u0434\", \"\\u0443\\u0440\\u043e\\u0432\\u043d\", \"\\u043c\\u0438\\u043b\\u043b\\u0438\\u043e\\u043d\", \"\\u043f\\u0440\\u0435\\u0437\\u0438\\u0434\\u0435\\u043d\\u0442\", \"\\u0440\\u043e\\u0441\\u0441\", \"\\u043f\\u043e\\u043a\\u0430\\u0437\\u0430\\u0442\\u0435\\u043b\", \"\\u0434\\u0435\\u043a\\u0430\\u0431\\u0440\", \"\\u0441\\u0442\\u0440\\u0430\\u043d\", \"\\u044f\\u043d\\u0432\\u0430\\u0440\", \"\\u0440\\u043e\\u0441\\u0441\\u0438\\u0439\\u0441\\u043a\", \"\\u043c\\u0438\\u043b\\u043b\\u0438\\u0430\\u0440\\u0434\", \"\\u0441\\u043e\\u0441\\u0442\\u0430\\u0432\", \"\\u0441\\u043e\\u043e\\u0431\\u0449\\u0430\", \"\\u0442\\u044b\\u0441\\u044f\\u0447\", \"\\u043a\\u043e\\u0442\\u043e\\u0440\", \"\\u0430\\u043a\\u0446\", \"\\u043c\\u0438\\u043d\\u0438\\u0441\\u0442\\u0440\", \"\\u0442\\u0430\\u043a\\u0436\", \"\\u0433\\u043b\\u0430\\u0432\", \"\\u043a\\u043e\\u043c\\u043f\\u0430\\u043d\", \"\\u0441\\u0432\\u043e\", \"\\u0432\\u0440\\u0435\\u043c\", \"\\u043d\\u043e\\u0432\", \"\\u0437\\u0430\\u044f\\u0432\", \"\\u043f\\u0435\\u0440\\u0432\", \"\\u043e\\u0434\\u043d\\u0430\\u043a\", \"\\u0441\\u0442\\u0430\\u043b\", \"\\u043e\\u0431\\u0435\\u0440\\u0445\\u043e\\u0444\", \"\\u0433\\u043e\\u043d\\u043a\", \"\\u043f\\u0430\\u0440\\u0435\\u043d\", \"\\u044d\\u0441\\u0442\\u0430\\u0444\\u0435\\u0442\", \"\\u043f\\u0441\\u0438\\u0445\", \"\\u043a\\u043e\\u043d\\u0432\\u0435\\u0440\\u0442\", \"\\u0441\\u0435\\u043c\\u0430\\u043a\", \"\\u0431\\u0438\\u0430\\u0442\\u043b\\u043e\\u043d\\u0438\\u0441\\u0442\", \"\\u043c\\u0430\\u043b\\u044b\\u0448\\u043a\", \"\\u0444\\u0438\\u043d\\u0430\", \"\\u0431\\u0438\\u0430\\u0442\\u043b\\u043e\\u043d\", \"\\u043a\\u0443\\u0431\\u0430\\u043d\", \"\\u043a\\u0440\\u0430\\u0441\\u043d\\u043e\\u0436\\u0430\", \"\\u043f\\u043e\\u043b\\u0443\\u0444\\u0438\\u043d\\u0430\\u043b\", \"\\u0433\\u0435\\u043d\\u043f\\u043b\\u0430\", \"\\u0447\\u0435\\u0441\\u043d\\u043e\\u043a\", \"\\u0445\\u043e\\u043a\\u043a\", \"\\u0440\\u043e\\u043a\\u043d\\u0440\\u043e\\u043b\\u043b\", \"\\u044d\\u043c\\u0441\\u043b\", \"\\u043a\\u0443\\u0431\\u043a\", \"glock\", \"public\", \"\\u0448\\u0430\\u0439\\u0431\", \"\\u0441\\u0438\\u043c\\u043e\\u043d\\u043e\\u0432\", \"\\u0434\\u0438\\u0441\\u0442\\u0430\\u043d\\u0446\", \"\\u0433\\u0440\\u0438\\u0433\\u043e\\u0440\\u0435\\u043d\\u043a\", \"\\u0434\\u0430\\u0441\\u0430\", \"\\u043f\\u0438\\u0445\\u043b\\u0435\\u0440\", \"\\u043c\\u0430\\u043a\\u043a\\u0438\\u0432\\u0435\\u0440\", \"\\u0433\\u043b\\u0435\\u043d\", \"\\u0441\\u0431\\u043e\\u0440\\u043d\", \"dreamliner\", \"\\u0443\\u0438\\u043b\\u044c\\u044f\\u043c\\u0441\", \"\\u0441\\u0435\\u043a\\u0443\\u043d\\u0434\", \"\\u0447\\u0435\\u043c\\u043f\\u0438\\u043e\\u043d\\u0430\\u0442\", \"\\u0433\\u043b\\u0430\\u0432\\u043a\\u043e\\u043c\\u0430\\u0442\", \"\\u0436\\u0435\\u043d\\u0441\\u043a\", \"\\u043c\\u0443\\u0436\\u0441\\u043a\", \"\\u043c\\u0438\\u043d\\u0443\\u0442\", \"\\u043c\\u043e\\u043b\\u043e\\u0434\\u0435\\u0436\\u043d\", \"\\u0442\\u0443\\u0440\\u043d\\u0438\\u0440\", \"\\u043e\\u0442\\u0441\\u0442\\u0430\", \"\\u043e\\u0431\\u044b\\u0433\\u0440\\u0430\", \"\\u0448\\u0432\\u0435\\u0446\", \"\\u044d\\u0442\\u0430\\u043f\", \"\\u043b\\u0443\\u0447\\u0448\", \"\\u043c\\u0430\\u0442\\u0447\", \"\\u043c\\u0438\\u0440\", \"\\u0442\\u0440\\u0435\\u043d\\u0435\\u0440\", \"\\u043f\\u043e\\u0431\\u0435\\u0434\", \"\\u043a\\u043e\\u043c\\u0430\\u043d\\u0434\", \"\\u0441\\u0447\\u0435\\u0442\", \"\\u0440\\u0435\\u0439\\u0442\\u0438\\u043d\\u0433\", \"\\u0440\\u043e\\u043b\\u0438\\u043a\", \"\\u043c\\u0435\\u0441\\u0442\", \"\\u043f\\u043e\\u0431\\u0435\\u0434\\u0438\\u0442\\u0435\\u043b\", \"\\u0433\\u043e\\u0434\", \"\\u0437\\u0430\\u043d\\u044f\", \"\\u043a\\u043e\\u0442\\u043e\\u0440\", \"\\u0442\\u0430\\u043a\\u0436\", \"\\u0440\\u043e\\u0441\\u0441\", \"\\u043f\\u0435\\u0440\\u0432\", \"\\u0441\\u043e\\u043e\\u0431\\u0449\\u0430\", \"\\u0432\\u0442\\u043e\\u0440\", \"\\u044f\\u043d\\u0432\\u0430\\u0440\", \"\\u0441\\u0430\\u0439\\u0442\", \"\\u0444\\u0438\\u043b\\u044c\\u043c\", \"\\u0442\\u0440\\u0435\\u0442\", \"\\u0441\\u0432\\u043e\", \"\\u0433\\u043b\\u0430\\u0432\\u043d\", \"\\u0441\\u0442\\u0430\\u043b\", \"\\u043d\\u043e\\u0432\", \"\\u043e\\u0434\\u043d\", \"\\u0434\\u0440\\u0443\\u0433\", \"\\u0432\\u0440\\u0435\\u043c\", \"\\u043e\\u0434\\u043d\\u0430\\u043a\", \"\\u0437\\u0430\\u044f\\u0432\", \"\\u0441\\u0430\\u043c\", \"\\u043a\\u043e\\u043c\\u043f\\u0430\\u043d\", \"\\u043b\\u0430\\u043f\\u0442\\u0435\\u0432\", \"\\u043c\\u0430\\u043b\\u0438\\u043d\", \"\\u0437\\u0434\\u043e\\u0440\\u043e\\u0432\\u0435\\u043d\\u0438\\u043d\", \"\\u0442\\u0440\\u0430\\u0443\\u0442\", \"wegelin\", \"\\u0430\\u0440\\u043c\\u0441\\u0442\\u0440\\u043e\\u043d\\u0433\", \"alitalia\", \"\\u0441\\u0443\\u043a\\u043b\\u0435\\u0441\", \"\\u0442\\u044d\\u043f\\u043f\\u0438\\u043d\", \"\\u0442\\u0435\\u043c\\u0435\\u0440\\u0445\\u0430\\u043d\", \"\\u0433\\u0438\\u043b\\u044c\\u0434\", \"lamborghini\", \"shepherds\", \"\\u0445\\u0430\\u0440\\u0437\", \"\\u0441\\u0443\\u0442\\u0435\\u043d\\u0435\\u0440\\u0448\", \"\\u0431\\u0443\\u0434\\u0430\\u043d\\u043e\\u0432\", \"\\u0444\\u043e\\u043b\", \"\\u0431\\u0430\\u0444\\u0444\\u0435\\u0442\", \"\\u043d\\u0430\\u0437\\u0438\\u0440\", \"\\u043c\\u0435\\u0433\\u0430\", \"\\u0442\\u043e\\u0440\", \"current\", \"ubisoft\", \"generali\", \"happy\", \"\\u0442\\u043e\\u0440\\u043d\\u0442\\u043e\\u043d\", \"\\u0448\\u0432\\u0430\\u0440\\u0446\\u0435\\u043d\\u0435\\u0433\\u0433\\u0435\\u0440\", \"\\u044d\\u043a\\u0437\\u043e\\u043f\\u043b\\u0430\\u043d\\u0435\\u0442\", \"\\u043c\\u0438\\u0440\\u0440\", \"haim\", \"\\u0442\\u0430\\u043b\\u0438\\u0431\", \"\\u0434\\u0436\\u0435\", \"\\u0442\\u0430\\u043b\\u0438\\u0431\\u0430\", \"\\u043f\\u043e\\u0432\\u0441\\u0442\\u0430\\u043d\\u0446\", \"\\u0434\\u0430\\u043c\\u0430\\u0441\\u043a\", \"\\u0441\\u0438\\u0440\\u0438\\u0439\\u0441\\u043a\", \"\\u0431\\u043e\\u043b\\u043e\\u0442\\u043d\", \"\\u0441\\u0438\\u0440\", \"\\u0434\\u0435\\u043b\\u044c\\u0441\\u0430\\u043b\", \"\\u043e\\u0441\\u043a\\u0430\\u0440\", \"\\u0440\\u043e\\u043b\", \"\\u0445\\u0443\\u0434\\u0448\", \"\\u0443\\u043e\\u0442\\u0441\\u043e\\u043d\", \"\\u0444\\u0438\\u043b\\u044c\\u043c\", \"\\u0440\\u0435\\u0436\\u0438\\u0441\\u0441\\u0435\\u0440\", \"\\u0431\\u043e\\u043d\\u0434\", \"twitter\", \"\\u0430\\u0434\\u0430\\u0433\\u0430\\u043c\", \"\\u043f\\u0435\\u0434\\u043e\\u0444\\u0438\\u043b\", \"\\u0430\\u043c\\u0435\\u0440\\u0438\\u043a\\u0430\\u043d\\u0441\\u043a\", \"\\u0433\\u043e\\u0434\", \"\\u043d\\u0430\\u0433\\u0440\\u0430\\u0434\", \"\\u043c\\u0438\\u043a\\u0440\\u043e\\u0431\\u043b\\u043e\\u0433\", \"\\u0441\\u043f\\u0438\\u043b\\u0431\\u0435\\u0440\\u0433\", \"\\u043a\\u0430\\u0440\\u0442\\u0438\\u043d\", \"\\u0441\\u0446\\u0435\\u043d\\u0430\\u0440\", \"\\u043a\\u043e\\u0442\\u043e\\u0440\", \"\\u0430\\u043a\\u0442\\u0435\\u0440\", \"\\u043c\\u0438\\u043b\\u043b\\u0438\\u0430\\u0440\\u0434\", \"\\u0441\\u043e\\u0433\\u043b\\u0430\\u0448\\u0435\\u043d\", \"\\u0431\\u044b\\u0432\\u0448\", \"\\u0434\\u043e\\u043b\\u043b\\u0430\\u0440\", \"\\u0441\\u0432\\u043e\", \"\\u043f\\u0440\\u043e\\u0435\\u043a\\u0442\", \"\\u0441\\u0442\\u0430\\u043b\", \"\\u0441\\u043b\\u043e\\u0432\", \"\\u043c\\u0438\\u043b\\u043b\\u0438\\u043e\\u043d\", \"\\u0434\\u0435\\u043b\", \"\\u0441\\u043e\\u043e\\u0431\\u0449\\u0430\", \"\\u0434\\u0430\\u043d\", \"\\u043d\\u0435\\u0441\\u043a\\u043e\\u043b\\u044c\\u043a\", \"\\u044f\\u043d\\u0432\\u0430\\u0440\", \"\\u0442\\u044b\\u0441\\u044f\\u0447\", \"\\u043a\\u043e\\u043c\\u043f\\u0430\\u043d\", \"\\u043f\\u0440\\u0430\\u0432\\u0438\\u0442\\u0435\\u043b\\u044c\\u0441\\u0442\\u0432\", \"\\u0442\\u0430\\u043a\\u0436\", \"\\u043e\\u0434\\u043d\", \"\\u0432\\u0440\\u0435\\u043c\", \"\\u0440\\u0430\\u043d\", \"\\u043f\\u043e\\u043b\\u0443\\u0447\", \"\\u0447\\u0435\\u043b\\u043e\\u0432\\u0435\\u043a\", \"\\u0437\\u0430\\u044f\\u0432\", \"\\u043e\\u0434\\u043d\\u0430\\u043a\", \"\\u0430\\u0440\\u0433\\u0435\\u043d\\u0442\\u0438\\u043d\", \"gamestick\", \"\\u043a\\u043b\\u0438\\u043d\\u0442\\u043e\\u043d\", \"\\u043c\\u043e\\u043d\\u0435\\u0442\", \"\\u0432\\u043e\\u043b\\u043e\\u043d\\u0442\\u0435\\u0440\", \"\\u0444\\u043e\\u043b\\u043a\\u043b\\u0435\\u043d\\u0434\\u0441\\u043a\", \"\\u043a\\u0438\\u0440\\u0448\\u043d\\u0435\\u0440\", \"\\u0433\\u0430\\u0439\\u0442\\u043d\\u0435\\u0440\", \"pokemon\", \"playjam\", \"fallout\", \"ouya\", \"\\u0431\\u0430\\u0442\\u0430\\u0441\\u0443\\u043d\", \"\\u0440\\u0435\\u0447\\u043d\", \"\\u0433\\u043e\\u0441\\u0441\\u0435\\u043a\\u0440\\u0435\\u0442\\u0430\\u0440\", \"\\u0430\\u043c\\u0438\\u043d\\u043e\\u043a\\u0438\\u0441\\u043b\\u043e\\u0442\", \"\\u0431\\u0435\\u0439\\u043d\\u0435\\u0440\", \"\\u043b\\u043e\\u0434\\u0437\", \"\\u043f\\u043e\\u043a\\u0435\\u043c\\u043e\\u043d\", \"planescape\", \"\\u0443\\u0440\\u0438\\u0431\", \"\\u0444\\u0435\\u0440\\u043d\\u0438\\u0448\", \"\\u043e\\u0442\\u0447\\u0435\\u043a\\u0430\\u043d\", \"\\u043f\\u043e\\u0442\\u043e\\u043b\\u043a\", \"\\u0438\\u0440\\u0430\\u043a\\u0441\\u043a\", \"\\u0440\\u044d\\u0442\\u0442\\u043b\", \"\\u0447\\u0438\\u0447\\u0430\\u043a\\u043b\", \"\\u0441\\u043c\\u0435\\u0448\\u0430\", \"\\u0440\\u0435\\u0441\\u043f\\u0443\\u0431\\u043b\\u0438\\u043a\\u0430\\u043d\\u0441\\u043a\", \"nintendo\", \"\\u043e\\u0440\\u043a\\u0435\\u0441\\u0442\\u0440\", \"\\u044d\\u043a\\u0441\\u043f\\u043e\\u0440\\u0442\", \"\\u043a\\u043e\\u043d\\u0441\\u043e\\u043b\", \"\\u0431\\u043b\\u043e\\u043a\", \"\\u0438\\u0437\\u0431\\u0438\\u0440\\u0430\\u0442\\u0435\\u043b\\u044c\\u043d\", \"\\u043f\\u0440\\u0438\\u0441\\u0442\\u0430\\u0432\\u043a\", \"\\u044e\\u0441\\u0443\\u0444\\u0437\\u0430\", \"\\u0434\\u0438\\u0432\\u0438\\u0437\\u0438\\u043e\\u043d\", \"\\u043e\\u0441\\u0442\\u0440\\u043e\\u0432\", \"\\u043a\\u043e\\u043d\\u0442\\u0440\\u043e\\u043b\\u043b\\u0435\\u0440\", \"\\u043a\\u043e\\u043d\\u0433\\u0440\\u0435\\u0441\\u0441\", \"\\u043f\\u0430\\u043b\\u0430\\u0442\", \"\\u043e\\u0431\\u0430\\u043c\", \"\\u0437\\u0430\\u043a\\u043e\\u043d\\u043e\\u043f\\u0440\\u043e\\u0435\\u043a\\u0442\", \"\\u043a\\u0443\\u0431\\u043e\\u043c\\u0435\\u0442\\u0440\", \"kickstarter\", \"\\u0441\\u0442\\u0440\\u0430\\u043d\", \"\\u0433\\u043e\\u0434\", \"\\u043a\\u043e\\u0442\\u043e\\u0440\", \"\\u043f\\u0440\\u0435\\u0437\\u0438\\u0434\\u0435\\u043d\\u0442\", \"\\u043f\\u043e\\u0441\\u0442\", \"\\u043f\\u0440\\u0435\\u0434\\u0441\\u0442\\u0430\\u0432\\u0438\\u0442\\u0435\\u043b\", \"\\u043a\\u043e\\u043c\\u043f\\u0430\\u043d\", \"\\u043d\\u043e\\u0432\", \"\\u0437\\u0430\\u044f\\u0432\", \"\\u0442\\u0430\\u043a\\u0436\", \"\\u044f\\u043d\\u0432\\u0430\\u0440\", \"\\u0441\\u0432\\u043e\", \"\\u0441\\u043e\\u043e\\u0431\\u0449\\u0430\", \"\\u043f\\u0430\\u0440\\u0442\", \"\\u0434\\u043e\\u043b\\u043b\\u0430\\u0440\", \"\\u043f\\u0440\\u043e\\u0446\\u0435\\u043d\\u0442\", \"\\u0432\\u0435\\u043b\\u0438\\u043a\\u043e\\u0431\\u0440\\u0438\\u0442\\u0430\\u043d\", \"\\u0432\\u0440\\u0435\\u043c\", \"\\u0434\\u0435\\u043a\\u0430\\u0431\\u0440\", \"\\u0432\\u044b\\u0431\\u043e\\u0440\", \"\\u043e\\u0434\\u043d\", \"\\u0440\\u0430\\u043d\", \"\\u0434\\u0430\\u043d\", \"\\u0433\\u043b\\u0430\\u0432\", \"\\u0442\\u044b\\u0441\\u044f\\u0447\", \"\\u043e\\u0434\\u043d\\u0430\\u043a\", \"\\u043f\\u0435\\u0440\\u0432\", \"\\u0441\\u0442\\u0430\\u043b\", \"\\u0441\\u043b\\u043e\\u0432\", \"\\u0434\\u0440\\u0443\\u0433\", \"\\u0432\\u0442\\u043e\\u0440\", \"\\u0433\\u0440\\u043e\\u043b\", \"southern\", \"\\u0430\\u0431\", \"\\u043a\\u0443\\u0440\\u0434\\u0441\\u043a\", \"\\u043f\\u043e\\u0437\\u043d\\u0435\\u0440\", \"foreign\", \"\\u0431\\u0443\\u0440\\u0430\\u043a\", \"\\u0430\\u0442\\u0442\\u0440\\u0430\\u043a\\u0446\\u0438\\u043e\\u043d\", \"policy\", \"\\u0445\\u0443\\u0440\\u0440\\u043e\\u043c\\u043e\\u0432\", \"\\u043f\\u0435\\u0440\\u0441\\u0438\\u043a\", \"\\u043a\\u0430\\u0440\\u0430\\u0434\\u0436\\u043e\\u0432\", \"\\u043c\\u0438\\u0433\\u0440\\u0430\\u0446\", \"\\u0437\\u0430\\u043f\\u0440\\u0430\\u0432\\u0449\\u0438\\u043a\", \"nirvana\", \"\\u0437\\u0430\\u0433\\u0440\\u0430\\u043d\\u043f\\u0430\\u0441\\u043f\\u043e\\u0440\\u0442\", \"\\u043c\\u0430\\u0440\\u0441\\u043e\\u0432\", \"\\u0430\\u043f\\u043e\\u0444\\u0438\\u0441\", \"\\u0430\\u0431\\u0438\\u0435\\u0432\", \"\\u0449\\u0435\\u0440\\u0431\", \"\\u0430\\u043d\\u0442\\u0430\\u0440\\u043a\\u0442\\u0438\\u0447\\u0435\\u0441\\u043a\", \"rush\", \"\\u0441\\u0443\\u043f\\u0435\\u0440\\u043c\", \"\\u0434\\u043e\\u043d\\u044e\\u0448\\u043a\\u0438\\u043d\", \"\\u0432\\u043e\\u0439\\u043a\\u0438\\u043d\", \"\\u043a\\u043e\\u043c\\u0435\\u0442\", \"mrtt\", \"\\u0435\\u0433\\u0442\", \"\\u0445\\u0438\\u043d\\u0448\\u0442\\u0435\\u0439\\u043d\", \"\\u0440\\u0430\\u0439\\u0445\\u0430\", \"\\u0446\\u0435\\u043d\\u0437\\u043e\\u0440\", \"\\u0443\\u0441\\u044b\\u043d\\u043e\\u0432\\u043b\\u044f\", \"\\u0437\\u0430\\u043f\\u0440\\u0435\\u0449\\u0430\", \"\\u0441\\u0438\\u0440\\u043e\\u0442\", \"\\u0437\\u0430\\u0431\\u0430\\u0441\\u0442\\u043e\\u0432\\u043a\", \"airbus\", \"weekly\", \"\\u043f\\u043e\\u0434\\u043f\\u0438\\u0441\", \"\\u0446\\u0435\\u043d\\u0437\\u0443\\u0440\", \"\\u0437\\u0430\\u043a\\u043e\\u043d\", \"\\u043a\\u043e\\u043d\\u0441\\u0442\\u0440\\u0443\\u043a\\u0446\", \"\\u0433\\u043e\\u0441\\u0434\\u0443\\u043c\", \"\\u0448\\u0430\\u0440\", \"\\u043c\\u0430\\u0433\\u043d\\u0438\\u0442\\u0441\\u043a\", \"\\u0440\\u043e\\u0441\\u043f\\u0443\\u0441\\u043a\", \"\\u0434\\u0435\\u0442\", \"\\u0443\\u0441\\u044b\\u043d\\u043e\\u0432\\u043b\\u0435\\u043d\", \"\\u0432\\u043b\\u0430\\u0434\\u0438\\u043c\\u0438\\u0440\", \"\\u043c\\u0430\\u043b\\u044c\\u0447\\u0438\\u043a\", \"\\u043f\\u043e\\u0434\\u043f\\u0438\\u0441\\u0430\", \"\\u0436\\u0443\\u0440\\u043d\\u0430\\u043b\\u0438\\u0441\\u0442\", \"\\u0433\\u0430\\u0437\\u0435\\u0442\", \"\\u044d\\u043a\\u0441\\u043f\\u0440\\u0435\\u0441\\u0441\", \"\\u0434\\u0435\\u043f\\u0443\\u0442\\u0430\\u0442\", \"\\u043d\\u043e\\u0432\", \"\\u043a\\u043e\\u0442\\u043e\\u0440\", \"\\u0441\\u0430\\u0439\\u0442\", \"\\u0433\\u043e\\u0434\", \"\\u044f\\u043d\\u0432\\u0430\\u0440\", \"\\u0432\\u0435\\u0440\\u0442\\u043e\\u043b\\u0435\\u0442\", \"\\u0440\\u0430\\u0431\\u043e\\u0442\", \"\\u0440\\u043e\\u0441\\u0441\\u0438\\u0439\\u0441\\u043a\", \"\\u0441\\u043e\\u043e\\u0431\\u0449\\u0430\", \"\\u0434\\u0435\\u043a\\u0430\\u0431\\u0440\", \"\\u0442\\u0430\\u043a\\u0436\", \"\\u0431\\u0443\\u0434\\u0443\\u0442\", \"\\u0441\\u0442\\u0430\\u0442\", \"\\u043f\\u043e\\u043b\\u0438\\u0446\", \"\\u0447\\u0435\\u043b\\u043e\\u0432\\u0435\\u043a\", \"\\u0440\\u043e\\u0441\\u0441\", \"\\u043f\\u0435\\u0440\\u0432\", \"\\u0434\\u0430\\u043d\", \"\\u0432\\u043b\\u0430\\u0441\\u0442\", \"\\u043e\\u0434\\u043d\\u0430\\u043a\", \"\\u043f\\u0440\\u0435\\u0437\\u0438\\u0434\\u0435\\u043d\\u0442\", \"\\u0437\\u0430\\u044f\\u0432\", \"\\u0442\\u044b\\u0441\\u044f\\u0447\", \"\\u0441\\u0432\\u043e\", \"\\u0434\\u0435\\u043b\", \"\\u043e\\u0434\\u043d\", \"\\u043f\\u043e\\u043b\\u043e\\u043d\\u0441\\u043a\", \"\\u043a\\u0430\\u043c\\u0431\\u043e\\u0434\\u0436\", \"xperia\", \"dayz\", \"\\u0446\\u0438\\u0440\\u043a\", \"\\u0432\\u043d\\u0443\\u043a\\u043e\\u0432\", \"\\u0438\\u043c\\u043c\\u0438\\u0433\\u0440\\u0430\\u043d\\u0442\", \"\\u043b\\u043e\\u0442\\u043a\", \"\\u0444\\u0435\\u0440\\u0440\\u0430\\u0440\", \"idol\", \"mirax\", \"\\u043a\\u043e\\u043d\\u0432\\u0435\\u0440\\u0442\\u043e\\u043f\\u043b\\u0430\\u043d\", \"alma\", \"\\u0441\\u0443\\u043f\\u0435\\u0440\\u043c\\u0430\\u0440\\u043a\\u0435\\u0442\", \"\\u043e\\u0433\\u0440\\u0430\\u0431\", \"\\u0430\\u043c\\u0443\\u0440\", \"\\u043d\\u044e\\u0441\", \"\\u043c\\u0435\\u0442\\u0435\\u043e\\u0440\\u0438\\u0442\", \"\\u043f\\u043e\\u043b\\u0438\\u0433\\u0440\\u0430\\u0444\", \"\\u0442\\u0443\\u0440\\u0438\\u0441\\u0442\\u043e\\u043a\", \"\\u0432\\u0438\\u043b\\u044c\\u043d\\u044e\\u0441\", \"\\u043f\\u0435\\u0440\\u0435\\u043f\\u0440\\u044f\\u0442\\u044b\\u0432\\u0430\", \"\\u043a\\u0430\\u044e\\u0442\", \"\\u0445\\u043e\\u043b\\u043b\", \"\\u043f\\u0430\\u043f\\u0430\\u0440\\u0430\\u0446\\u0446\", \"\\u0442\\u043e\\u043d\\u043a\", \"taco\", \"ultra\", \"osprey\", \"\\u0441\\u0435\\u0441\\u044c\\u043a\\u0430\\u043d\", \"\\u044e\\u0442\\u044d\\u0439\\u0440\", \"\\u043f\\u0438\\u0432\", \"\\u0441\\u0438\\u0430\\u043d\\u0443\\u043a\\u0432\\u0438\\u043b\", \"\\u0431\\u0435\\u043d\\u0430\\u0431\", \"\\u043e\\u0433\\u0440\\u0430\\u0431\\u043b\\u0435\\u043d\", \"\\u0431\\u043e\\u0440\\u0442\", \"\\u043f\\u0442\\u0438\\u0446\", \"\\u0431\\u0438\\u0431\\u0435\\u0440\", \"\\u0440\\u0435\\u0441\\u0442\\u043e\\u0440\\u0430\", \"\\u0441\\u0430\\u043c\\u043e\\u043b\\u0435\\u0442\", \"\\u0443\\u0447\\u0435\\u043d\", \"\\u0442\\u0435\\u043b\\u0435\\u0441\\u043a\\u043e\\u043f\", \"\\u043f\\u043e\\u0436\\u0430\\u0440\", \"\\u043f\\u043e\\u0441\\u0430\\u0434\\u043a\", \"\\u0442\\u0435\\u043c\\u043f\\u0435\\u0440\\u0430\\u0442\\u0443\\u0440\", \"\\u0440\\u0435\\u0439\\u0441\", \"\\u043f\\u0430\\u0441\\u0441\\u0430\\u0436\\u0438\\u0440\", \"\\u0441\\u0442\\u0440\\u0435\\u0441\\u0441\", \"\\u043f\\u043e\\u043b\\u0438\\u0446\", \"\\u0437\\u0430\\u0432\\u0435\\u0434\\u0435\\u043d\", \"\\u0430\\u044d\\u0440\\u043e\\u043f\\u043e\\u0440\\u0442\", \"\\u043c\\u0435\\u0441\\u0442\\u043d\", \"\\u043e\\u0431\\u043d\\u0430\\u0440\\u0443\\u0436\", \"\\u0430\\u0432\\u0438\\u0430\\u043a\\u043e\\u043c\\u043f\\u0430\\u043d\", \"\\u043e\\u043a\\u043e\\u043b\", \"\\u0438\\u043d\\u0446\\u0438\\u0434\\u0435\\u043d\\u0442\", \"\\u0441\\u043e\\u043e\\u0431\\u0449\\u0430\", \"\\u0448\\u0442\\u0430\\u0442\", \"\\u0437\\u0430\\u0434\\u0435\\u0440\\u0436\\u0430\", \"\\u044f\\u043d\\u0432\\u0430\\u0440\", \"\\u043a\\u043e\\u0442\\u043e\\u0440\", \"\\u0434\\u0430\\u043d\", \"\\u043f\\u043e\\u043b\\u0438\\u0446\\u0435\\u0439\\u0441\\u043a\", \"\\u043e\\u0434\\u043d\", \"\\u0440\\u0430\\u043d\", \"\\u043f\\u043e\\u0441\\u0442\\u0440\\u0430\\u0434\\u0430\", \"\\u0441\\u043e\\u0442\\u0440\\u0443\\u0434\\u043d\\u0438\\u043a\", \"\\u043c\\u0443\\u0436\\u0447\\u0438\\u043d\", \"\\u043c\\u0438\\u043b\\u043b\\u0438\\u043e\\u043d\", \"\\u043c\\u043e\\u0441\\u043a\\u0432\", \"\\u0433\\u043e\\u0434\", \"\\u0440\\u0430\\u0431\\u043e\\u0442\", \"\\u0432\\u0440\\u0435\\u043c\", \"\\u0434\\u0440\\u0443\\u0433\", \"\\u043d\\u0430\\u0445\\u043e\\u0434\", \"\\u0441\\u0441\\u044b\\u043b\\u043a\", \"\\u0433\\u043e\\u0440\\u043e\\u0434\", \"\\u0442\\u0430\\u043a\\u0436\", \"\\u043d\\u043e\\u0432\", \"\\u0441\\u0432\\u043e\", \"\\u043e\\u0434\\u043d\\u0430\\u043a\", \"\\u0441\\u0430\\u043c\", \"\\u0447\\u0435\\u043b\\u043e\\u0432\\u0435\\u043a\", \"\\u043a\\u043e\\u043c\\u043f\\u0430\\u043d\", \"\\u043c\\u0435\\u0441\\u0442\", \"\\u043a\\u0438\\u0440\\u0433\\u0438\\u0437\\u0441\\u043a\", \"\\u0441\\u043d\\u0435\\u0433\\u043e\\u0445\\u043e\\u0434\", \"\\u044e\\u0434\\u0438\\u043d\", \"\\u0431\\u0430\\u043b\\u043e\\u0442\\u0435\\u043b\\u043b\", \"\\u0441\\u0442\\u0443\\u0434\\u0435\\u043d\\u0442\\u043a\", \"\\u043a\\u043e\\u0441\\u0442\\u044f\\u0448\\u043a\", \"\\u043c\\u0438\\u043d\\u043d\\u0435\\u0441\\u043e\\u0442\", \"\\u0443\\u0437\\u0431\\u0435\\u043a\\u0441\\u043a\", \"\\u0445\\u0443\\u0448\\u044c\\u044f\\u0440\", \"\\u0434\\u043e\\u043c\\u043e\\u0436\\u0438\\u0440\", \"\\u043d\\u0430\\u0441\\u0435\\u0440\", \"\\u0431\\u043b\\u0430\\u0435\\u0440\", \"\\u0431\\u0430\\u0442\\u043a\\u0435\\u043d\\u0441\\u043a\", \"\\u043f\\u0430\\u0440\\u043e\\u043c\", \"\\u043f\\u0438\\u043c\\u043a\\u0438\\u043d\", \"\\u0438\\u0437\\u043c\\u0430\\u0439\\u043b\", \"\\u0441\\u043e\\u0440\\u0434\\u0435\\u043b\\u043b\", \"\\u0438\\u0441\\u043b\\u0430\\u043d\\u0434\\u0441\\u043a\", \"\\u043f\\u043e\\u0434\\u0431\\u043e\\u0440\", \"\\u043a\\u043e\\u0432\\u0430\\u043b\\u044c\\u0447\\u0443\\u043a\", \"\\u0445\\u043e\\u043b\\u043c\\u0441\", \"\\u0431\\u0430\\u0432\\u0430\\u0440\", \"\\u0434\\u043e\\u043c\\u0438\\u043d\", \"\\u0441\\u043e\\u0440\\u043a\\u0438\\u043d\", \"\\u043d\\u0430\\u0446\\u0431\\u0430\\u043d\\u043a\", \"\\u043a\\u0440\\u0430\\u043c\\u0430\\u0440\\u0435\\u043d\\u043a\", \"\\u043d\\u0430\\u0433\\u043e\\u0440\\u043d\", \"\\u043c\\u044e\\u043b\\u043b\\u0435\\u0440\", \"\\u043a\\u0440\\u0443\\u043f\\u043d\\u043e\\u0432\", \"seastreak\", \"\\u0437\\u0430\\u043b\\u043e\\u0436\\u043d\\u0438\\u043a\", \"\\u043f\\u0438\\u0440\\u0441\", \"\\u0430\\u0440\\u0431\\u0443\\u0437\\u043e\\u0432\", \"\\u043f\\u043e\\u043b\\u0443\\u0437\\u0430\\u0449\\u0438\\u0442\\u043d\\u0438\\u043a\", \"\\u0444\\u043e\\u0440\\u0432\\u0430\\u0440\\u0434\", \"\\u043f\\u043e\\u0433\\u0440\\u0430\\u043d\\u0438\\u0447\\u043d\\u0438\\u043a\", \"\\u0443\\u0437\\u0431\\u0435\\u043a\\u0438\\u0441\\u0442\\u0430\", \"\\u0438\\u0437\\u043d\\u0430\\u0441\\u0438\\u043b\\u043e\\u0432\\u0430\\u043d\", \"\\u0430\\u0432\\u0430\\u0440\", \"\\u0434\\u0435\\u0432\\u0443\\u0448\\u043a\", \"\\u0448\\u0430\\u0440\\u043c\", \"\\u0432\\u0437\\u044f\\u0442\\u043a\", \"\\u0433\\u0440\\u0443\\u0437\\u0438\\u043d\\u0441\\u043a\", \"\\u043d\\u0430\\u043f\\u0430\\u0434\\u0430\", \"\\u043f\\u0440\\u043e\\u0438\\u0437\\u043e\\u0448\\u043b\", \"\\u043a\\u0438\\u0440\\u0433\\u0438\\u0437\", \"\\u0432\\u0440\\u0435\\u0437\\u0430\", \"\\u0447\\u0435\\u043b\\u043e\\u0432\\u0435\\u043a\", \"\\u043a\\u043b\\u0443\\u0431\", \"\\u0430\\u0432\\u0442\\u043e\\u0431\\u0443\\u0441\", \"\\u043a\\u043e\\u0442\\u043e\\u0440\", \"\\u0440\\u0435\\u0437\\u0443\\u043b\\u044c\\u0442\\u0430\\u0442\", \"\\u043f\\u043e\\u0441\\u0442\\u0440\\u0430\\u0434\\u0430\", \"\\u043c\\u0430\\u0442\\u0447\", \"\\u0440\\u0430\\u0439\\u043e\\u043d\", \"\\u0441\\u0443\\u0434\", \"\\u0438\\u0433\\u0440\\u043e\\u043a\", \"\\u0434\\u0435\\u043b\", \"\\u044f\\u043d\\u0432\\u0430\\u0440\", \"\\u043a\\u043e\\u043c\\u0430\\u043d\\u0434\", \"\\u0441\\u043e\\u043e\\u0431\\u0449\\u0430\", \"\\u043f\\u043e\\u043b\\u0438\\u0446\", \"\\u043b\\u0435\\u0442\\u043d\", \"\\u0433\\u043e\\u0434\", \"\\u0443\\u0431\\u0438\\u0439\\u0441\\u0442\\u0432\", \"\\u043c\\u0435\\u0441\\u0442\\u043d\", \"\\u0441\\u0442\\u0440\\u0430\\u043d\", \"\\u0432\\u043b\\u0430\\u0441\\u0442\", \"\\u043f\\u043e\\u043b\\u0443\\u0447\", \"\\u0432\\u0440\\u0435\\u043c\", \"\\u0442\\u044b\\u0441\\u044f\\u0447\", \"\\u0441\\u043b\\u043e\\u0432\", \"\\u043e\\u043a\\u043e\\u043b\", \"\\u0434\\u0430\\u043d\", \"\\u043e\\u0434\\u043d\\u0430\\u043a\", \"\\u0442\\u0430\\u043a\\u0436\", \"\\u0441\\u0432\\u043e\", \"\\u0440\\u0430\\u043d\", \"\\u0441\\u0442\\u0430\\u043b\", \"\\u0441\\u0430\\u0439\\u0442\", \"\\u0437\\u0430\\u044f\\u0432\", \"\\u043f\\u0430\\u0443\\u043b\\u0441\", \"\\u0445\\u044c\\u044e\\u0437\", \"valve\", \"\\u043d\\u043e\\u0431\\u0441\", \"piston\", \"anglo\", \"steam\", \"trust\", \"cedc\", \"\\u043f\\u0438\\u043e\\u0442\\u0440\\u043e\\u0432\\u0441\\u043a\", \"\\u0442\\u0443\\u043d\\u0446\", \"minecraft\", \"ozon\", \"ubuntu\", \"\\u043c\\u043e\\u0440\\u0435\\u043b\\u043b\", \"\\u043c\\u0443\\u043b\\u044c\\u0442\\u0438\\u043f\\u043b\\u0435\\u0435\\u0440\", \"remedy\", \"attitude\", \"\\u0445\\u043e\\u0434\\u043e\\u0440\\u0447\\u0435\\u043d\\u043a\", \"\\u043c\\u043e\\u043d\\u0442\\u0440\", \"\\u0441\\u0430\\u0432\\u0445\\u043d\", \"\\u043e\\u043c\\u043d\\u0438\\u0444\\u043e\\u0431\\u043d\", \"\\u0443\\u043b\\u044c\\u0442\\u0440\\u0430\\u0431\\u0443\\u043a\", \"asian\", \"\\u043f\\u0430\\u043c\\u0443\\u043a\", \"\\u0431\\u0443\\u043a\\u0435\\u0440\", \"ashanti\", \"anglogold\", \"\\u0431\\u043e\\u0440\\u043e\\u0434\", \"rising\", \"canonical\", \"\\u043a\\u043e\\u0434\", \"\\u043a\\u043e\\u0440\\u043d\", \"tegra\", \"intel\", \"\\u043b\\u043e\\u0445\\u0430\", \"dead\", \"\\u0443\\u0441\\u0442\\u0440\\u043e\\u0439\\u0441\\u0442\\u0432\", \"american\", \"\\u044d\\u043a\\u0440\\u0430\", \"\\u043c\\u0430\\u0433\\u0430\\u0437\\u0438\\u043d\", \"\\u0438\\u0433\\u0440\", \"\\u043a\\u043e\\u0442\\u043e\\u0440\", \"\\u0441\\u0442\\u0443\\u0434\", \"\\u043f\\u0438\\u0441\\u0430\\u0442\\u0435\\u043b\", \"\\u0433\\u043e\\u0434\", \"\\u043a\\u043d\\u0438\\u0433\", \"\\u0441\\u0442\\u0430\\u043b\", \"\\u0444\\u0438\\u043b\\u044c\\u043c\", \"\\u043d\\u043e\\u0432\", \"\\u0442\\u0430\\u043a\\u0436\", \"\\u043a\\u043e\\u043c\\u043f\\u0430\\u043d\", \"\\u0433\\u043b\\u0430\\u0432\\u043d\", \"\\u043f\\u0440\\u043e\\u0435\\u043a\\u0442\", \"\\u043f\\u0438\\u0441\\u044c\\u043c\", \"\\u0441\\u0430\\u0439\\u0442\", \"\\u0440\\u0430\\u0431\\u043e\\u0442\", \"\\u0441\\u0432\\u043e\", \"\\u0437\\u0430\\u044f\\u0432\", \"\\u043a\\u0430\\u0440\\u0442\\u0438\\u043d\", \"\\u044f\\u0432\\u043b\\u044f\", \"\\u043e\\u0434\\u043d\\u0430\\u043a\", \"\\u0440\\u0430\\u043d\", \"\\u0432\\u0440\\u0435\\u043c\", \"\\u0441\\u043e\\u043e\\u0431\\u0449\\u0430\", \"\\u043f\\u0435\\u0440\\u0432\", \"\\u043f\\u043e\\u043b\\u0443\\u0447\", \"\\u0437\\u0430\\u043d\\u0438\\u043c\\u0430\", \"\\u0438\\u0437\\u0432\\u0435\\u0441\\u0442\\u043d\", \"\\u043e\\u0434\\u043d\", \"\\u0441\\u043b\\u043e\\u0432\", \"\\u044f\\u043d\\u0432\\u0430\\u0440\", \"\\u0434\\u0440\\u0443\\u0433\", \"\\u0434\\u0435\\u043c\\u0443\\u0448\\u043a\\u0438\\u043d\", \"\\u0437\\u0435\\u043c\\u0444\\u0438\\u0440\", \"\\u043a\\u0430\\u0448\\u043c\\u0438\\u0440\", \"\\u043a\\u0440\\u0435\\u0446\", \"\\u043b\\u0443\\u0440\\u043a\\u043e\\u043c\\u043e\\u0440\", \"herbalife\", \"\\u0430\\u0432\\u0438\\u0441\\u043c\", \"\\u0432\\u0441\\u043c\\u043f\\u043e\", \"\\u043e\\u043d\\u0438\\u0449\\u0435\\u043d\\u043a\", \"exynos\", \"\\u043a\\u0432\\u0435\\u0442\\u0442\", \"\\u043e\\u043c\\u0430\\u0440\", \"marks\", \"spencer\", \"\\u0440\\u043e\\u0441\\u043a\\u043e\\u043c\\u043d\\u0430\\u0434\\u0437\\u043e\\u0440\", \"octa\", \"\\u0441\\u0442\\u0440\\u0430\\u0441\\u0442\\u043d\", \"\\u0445\\u043e\\u0431\\u0441\\u043e\\u043d\", \"\\u043a\\u043e\\u0440\\u0432\\u0435\\u0442\", \"\\u0441\\u0443\\u0438\\u0446\\u0438\\u0434\", \"\\u0430\\u043d\\u0442\\u0438\\u0442\\u0430\\u0431\\u0430\\u0447\\u043d\", \"\\u0442\\u0430\\u0431\\u0430\\u043a\", \"\\u0437\\u0443\\u0431\\u043a\", \"\\u043a\\u0430\\u0434\\u044b\\u0440\\u043e\\u0432\", \"\\u0447\\u0435\\u043c\\u043e\\u0434\\u0430\", \"\\u0431\\u0435\\u043b\\u0443\\u0434\\u0436\\u0438\\u0441\\u0442\\u0430\", \"\\u0441\\u0435\\u043f\\u0430\\u0440\\u0430\\u0442\\u0438\\u0441\\u0442\\u0441\\u043a\", \"\\u043f\\u0430\\u0443\\u044d\\u043b\\u043b\", \"\\u0440\\u0435\\u0432\\u043e\\u043b\\u044c\\u0432\\u0435\\u0440\", \"\\u0447\\u0430\\u0439\\u043d\", \"\\u043c\\u043e\\u0441\\u0433\\u043e\\u0440\\u0434\\u0443\\u043c\", \"\\u0440\\u0435\\u0435\\u0441\\u0442\\u0440\", \"\\u043a\\u0438\\u0448\\u0438\\u043d\\u0435\\u0432\", \"linkedin\", \"\\u0433\\u0435\\u043a\\u0442\\u0430\\u0440\", \"\\u043f\\u0440\\u043e\\u043f\\u0430\\u0433\\u0430\\u043d\\u0434\", \"\\u0441\\u0430\\u0434\", \"\\u043e\\u0445\\u043e\\u0442\", \"\\u043a\\u0443\\u0440\", \"\\u0430\\u0434\\u0430\\u0433\\u0430\\u043c\\u043e\\u0432\", \"\\u043f\\u0430\\u043a\\u0438\\u0441\\u0442\\u0430\", \"\\u0443\\u0441\\u044b\\u043d\\u043e\\u0432\\u043b\\u0435\\u043d\", \"\\u0441\\u043e\\u043b\\u0434\\u0430\\u0442\", \"\\u0437\\u0430\\u043f\\u0440\\u0435\\u0449\\u0435\\u043d\", \"\\u043f\\u0430\\u043a\\u0438\\u0441\\u0442\\u0430\\u043d\\u0441\\u043a\", \"\\u0443\\u0447\\u0430\\u0441\\u0442\\u043a\", \"\\u043a\\u043e\\u0434\\u0435\\u043a\\u0441\", \"\\u0438\\u043d\\u0434\", \"\\u0438\\u043d\\u0434\\u0438\\u0439\\u0441\\u043a\", \"\\u043a\\u043e\\u0442\\u043e\\u0440\", \"\\u0437\\u0430\\u043a\\u043e\\u043d\", \"\\u0447\\u0435\\u043b\\u043e\\u0432\\u0435\\u043a\", \"\\u0437\\u0434\\u0430\\u043d\", \"\\u044f\\u043d\\u0432\\u0430\\u0440\", \"\\u0441\\u0430\\u0439\\u0442\", \"\\u0438\\u043d\\u0444\\u043e\\u0440\\u043c\\u0430\\u0446\", \"\\u0431\\u0443\\u0434\\u0443\\u0442\", \"\\u0430\\u043a\\u0446\", \"\\u0441\\u043e\\u043e\\u0431\\u0449\\u0430\", \"\\u0442\\u0430\\u043a\\u0436\", \"\\u0440\\u043e\\u0441\\u0441\", \"\\u0433\\u043e\\u0434\", \"\\u043a\\u043e\\u043c\\u043f\\u0430\\u043d\", \"\\u0440\\u043e\\u0441\\u0441\\u0438\\u0439\\u0441\\u043a\", \"\\u043f\\u0440\\u043e\\u0435\\u043a\\u0442\", \"\\u043f\\u043e\\u0441\\u0442\", \"\\u0442\\u044b\\u0441\\u044f\\u0447\", \"\\u0437\\u0430\\u044f\\u0432\", \"\\u0440\\u0430\\u043d\", \"\\u0432\\u0440\\u0435\\u043c\", \"\\u0441\\u0432\\u043e\", \"\\u043f\\u0440\\u0435\\u0434\\u0441\\u0442\\u0430\\u0432\\u0438\\u0442\\u0435\\u043b\", \"\\u043d\\u0430\\u0445\\u043e\\u0434\", \"\\u0434\\u0430\\u043d\", \"\\u0434\\u0435\\u0442\", \"\\u043d\\u043e\\u0432\", \"\\u043e\\u043a\\u043e\\u043b\", \"\\u043e\\u0434\\u043d\\u0430\\u043a\", \"\\u0441\\u043b\\u043e\\u0432\", \"\\u0434\\u0435\\u043a\\u0430\\u0431\\u0440\", \"\\u0432\\u043b\\u0430\\u0441\\u0442\", \"lada\", \"\\u0441\\u0435\\u0440\\u0434\\u044e\\u043a\", \"kalina\", \"\\u043a\\u0443\\u0432\\u0432\\u0430\\u0442\", \"\\u0432\\u0430\\u0441\\u0438\\u043b\\u044c\\u0435\\u0432\", \"\\u0440\\u0438\\u0447\\u0430\\u0440\\u0434\\u0441\\u043e\\u043d\", \"\\u0437\\u0430\\u043a\\u0443\\u0442\\u0430\\u0439\\u043b\", \"\\u0441\\u043c\\u0435\\u0442\\u0430\\u043d\\u043e\\u0432\", \"\\u043f\\u0430\\u0434\\u0432\", \"\\u0430\\u043d\\u0433\\u043b\\u0438\\u043a\\u0430\\u043d\\u0441\\u043a\", \"\\u0448\\u043c\\u0438\\u0434\\u0442\", \"\\u043a\\u044d\\u043c\\u043f\\u0431\\u0435\\u043b\\u043b\", \"\\u0446\\u0438\\u043a\\u043b\\u043e\\u043d\", \"\\u043f\\u0445\\u0435\\u043d\\u044c\\u044f\", \"\\u0430\\u0432\\u0442\\u043e\\u0432\\u0430\\u0437\", \"\\u0434\\u0438\\u043b\\u0430\", \"\\u0437\\u0443\\u0431\\u043a\\u043e\\u0432\", \"\\u0441\\u0438\\u043d\\u0430\\u0433\\u043e\\u0433\", \"\\u043c\\u043e\\u0440\\u0440\", \"\\u043c\\u0430\\u0441\\u043a\\u043e\\u0442\", \"health\", \"\\u0435\\u043b\\u044c\\u043a\\u0438\\u043d\", \"\\u0431\\u043e\\u043a\", \"\\u0442\\u0435\\u0440\\u0435\\u0445\\u0438\\u043d\", \"\\u0442\\u0440\\u0443\\u043d\", \"\\u0443\\u0437\\u0435\\u043b\", \"\\u043f\\u0435\\u0440\\u043a\\u0438\\u043d\\u0441\", \"\\u0445\\u0438\\u0442\", \"destiny\", \"\\u0432\\u0438\\u043d\\u043e\\u0432\\u043d\\u0438\\u0446\", \"\\u043e\\u0431\\u043e\\u0440\\u043e\\u043d\\u0441\\u0435\\u0440\\u0432\\u0438\\u0441\", \"\\u0445\\u0430\\u0440\", \"\\u0441\\u0435\\u0440\\u0434\\u044e\\u043a\\u043e\\u0432\", \"\\u043d\\u0435\\u0442\\u0440\\u0435\\u0437\\u0432\", \"\\u043a\\u043d\\u0434\\u0440\", \"\\u0440\\u043e\\u043c\\u0430\\u043d\\u043e\\u0432\", \"\\u0441\\u043e\\u0431\\u0430\\u043a\", \"\\u0435\\u043f\\u0438\\u0441\\u043a\\u043e\\u043f\", \"\\u044d\\u0440\\u0438\\u043a\", \"\\u0434\\u0432\\u043e\\u0440\\u043d\\u0438\\u043a\", \"\\u0434\\u043e\\u043f\\u0440\\u043e\\u0441\", \"\\u0441\\u0430\\u0440\\u043a\\u043e\\u0437\", \"\\u0434\\u0435\\u043b\", \"\\u043c\\u043e\\u0434\\u0435\\u043b\", \"\\u0441\\u043e\\u0442\\u0440\\u0443\\u0434\\u043d\\u0438\\u0446\", \"\\u0433\\u043e\\u0434\", \"\\u0432\\u043e\\u0437\\u0431\\u0443\\u0436\\u0434\", \"\\u0431\\u044b\\u0432\\u0448\", \"\\u0441\\u043e\\u043e\\u0431\\u0449\\u0430\", \"\\u044f\\u043d\\u0432\\u0430\\u0440\", \"\\u0440\\u0430\\u0441\\u0441\\u043b\\u0435\\u0434\\u043e\\u0432\\u0430\\u043d\", \"\\u0441\\u0442\\u0430\\u043b\", \"\\u043a\\u043e\\u0442\\u043e\\u0440\", \"\\u0432\\u0435\\u0440\\u0441\", \"\\u0441\\u0432\\u043e\", \"\\u0433\\u0440\\u0443\\u043f\\u043f\", \"\\u0440\\u0435\\u043b\\u0438\\u0437\", \"\\u0440\\u0430\\u043d\", \"\\u0442\\u0430\\u043a\\u0436\", \"\\u0443\\u0433\\u043e\\u043b\\u043e\\u0432\\u043d\", \"\\u0438\\u0437\\u0432\\u0435\\u0441\\u0442\\u043d\", \"\\u043e\\u0434\\u043d\\u0430\\u043a\", \"\\u043f\\u0435\\u0440\\u0432\", \"google\", \"\\u0434\\u0430\\u043d\", \"\\u0437\\u0430\\u044f\\u0432\", \"\\u043f\\u043e\\u043b\\u0443\\u0447\", \"\\u043f\\u0440\\u0435\\u0437\\u0438\\u0434\\u0435\\u043d\\u0442\", \"\\u0432\\u0440\\u0435\\u043c\", \"\\u043d\\u043e\\u0432\", \"\\u043c\\u0443\\u0436\\u0447\\u0438\\u043d\", \"\\u043a\\u043e\\u043c\\u043f\\u0430\\u043d\"], \"Freq\": [303.0, 338.0, 229.0, 185.0, 1877.0, 80.0, 1366.0, 95.0, 186.0, 122.0, 112.0, 324.0, 364.0, 845.0, 46.0, 96.0, 374.0, 128.0, 157.0, 92.0, 315.0, 30.0, 103.0, 72.0, 320.0, 109.0, 366.0, 87.0, 68.0, 53.0, 23.428044568525, 20.36603471819617, 10.580985901277407, 11.364963665469633, 8.706653888002863, 19.11372692636313, 15.604134284826564, 8.624790570957073, 6.876820393382978, 13.69689281747402, 6.826846227489818, 47.00484271263195, 19.55545024516601, 8.459117025710237, 8.457771052946748, 16.037313939741377, 5.8720242632003306, 7.547618842445055, 10.071447654219424, 13.400393691999525, 5.839770025820445, 5.8046506692695035, 5.803849418080485, 5.78856167462807, 5.783484068302822, 5.781177886453138, 5.776976487073299, 5.767884870759191, 11.500028769125638, 5.75896772042979, 30.212592487278393, 32.66997043632993, 9.040968192577159, 37.30318992874313, 12.27657040534752, 12.948039579195244, 76.87707920290272, 10.42537387398558, 55.207173594178904, 12.552677688061488, 208.93796131207753, 19.885311143938114, 66.71544103480453, 22.04605427174928, 16.26101422533101, 51.625436037114966, 94.83163474177185, 17.67154586486395, 59.40922948305611, 37.63490792099688, 21.14168334704448, 150.2114081807904, 35.93593748448285, 26.461152513061545, 437.8048903268291, 24.608465912956156, 116.54419792992651, 111.12406964477803, 119.38084425227818, 28.344105730661806, 110.16685878883871, 108.62675061629454, 169.23127111504124, 82.18560612082716, 56.50752156415612, 56.54339177061161, 136.37111207793208, 85.609543717917, 178.75320584191442, 48.803201897440616, 51.6298351646108, 101.55012079233127, 60.565419440722586, 75.60660497886963, 74.21325500797862, 68.99527981313831, 71.67380567504027, 65.46270806290507, 57.704864816763106, 56.66007979054529, 56.393232128426995, 13.111024244362005, 20.25008833317143, 9.672774431474839, 12.094781290605136, 8.80584664694299, 7.980840630867675, 7.9756626716133505, 10.369228642351597, 8.765881894501216, 14.313988955330657, 8.715580419887539, 7.906089590405208, 7.897320400678785, 8.680971445398384, 6.292131814834134, 6.262636138254471, 10.17733599822008, 7.813353603077131, 6.236582667953731, 21.074708401844763, 6.210332182617949, 6.204031237663881, 8.500506683632851, 7.728069330574474, 6.956759004549892, 6.166939368566433, 5.387993952183813, 5.366239956147812, 5.36281341003834, 6.111808499760428, 67.59108974894322, 7.6329560284902165, 6.837817491727363, 24.59705231435623, 37.40221526331536, 9.6514553840162, 28.692435168126185, 18.152209599359747, 44.63089290373082, 18.11280861301825, 23.919217539791266, 10.2386592011275, 11.520519845795866, 17.51919928143428, 25.40938874817803, 48.80593853433688, 58.4921312051984, 58.24501575191118, 24.901710302545066, 33.97948821452253, 49.16075149878001, 38.4526186034816, 31.497504927057694, 19.384889229280393, 72.25052563770669, 22.076144917968044, 230.7123088176177, 24.35319821764911, 162.14937926248217, 98.20899225754798, 73.35616997303185, 65.06298473660814, 94.58310734595325, 46.887032299691974, 94.94181615642265, 55.246071074495575, 47.62934857972612, 32.360760149269645, 61.01663538889299, 37.987287276714156, 51.02615451190842, 47.18079283060917, 41.9098465210777, 40.83146502526838, 44.16563432097631, 40.299092007909714, 40.21870987361232, 36.729999963749925, 36.73513649933022, 7.06091833791427, 7.050605350107385, 6.20278307414676, 6.159469021055403, 8.448228100043897, 6.141479165083882, 11.455801685625984, 5.338409952241213, 5.301722879875175, 5.310965160945081, 5.306990162184041, 5.30955936265523, 5.2943493786193505, 5.29410698251084, 5.294447031039343, 5.290846779636248, 6.781763776588302, 5.282077889739405, 5.25560615276026, 5.252195753523952, 6.000294089373956, 5.232114053834812, 5.248710008258006, 6.717489152027867, 4.4563731433608735, 4.45445479379045, 4.443001701587706, 6.643560817419891, 8.86935391341537, 4.423301689022397, 11.002478332720338, 11.583752132090247, 5.885583724828555, 28.911647629053963, 10.002723762177348, 23.121229905240412, 8.451911132940083, 26.794557043135274, 15.863664378338203, 12.317749359353733, 49.57434451832346, 12.281145068480786, 7.027768067663211, 100.49104596954052, 49.498018990298796, 8.73456184918083, 12.934213720145724, 10.535045444369597, 15.397076158635524, 67.00662004261096, 337.31332486709397, 20.129780370001143, 12.674413670183364, 10.273029626298763, 33.09633240778905, 13.549028399446664, 197.00580436437713, 35.650858248310755, 44.36072444488216, 23.87970666097567, 41.215432196651115, 66.87179823652262, 76.77231411809906, 44.82589496955347, 64.54347902209052, 57.61176722826622, 58.04558190786603, 54.63667372982945, 88.06001385462403, 58.60435202925194, 42.00095024586589, 81.72826663249582, 49.54507060301832, 51.21739159318568, 31.327354358335924, 60.862068048331466, 44.26116458066503, 46.19427404173621, 43.53501523722556, 40.782077524390154, 40.40535927293493, 41.15600400716821, 39.087680147538464, 12.259103706954207, 14.695643894330034, 13.043334687279257, 21.09793864123883, 11.333421232602452, 9.64701766798128, 9.62767049858157, 9.531201610669763, 7.8722524867478745, 7.846102463379291, 7.808155610022733, 7.795208094316071, 6.118090563444698, 5.352235573772784, 6.1122938690682425, 6.819787920185521, 6.059342073940011, 5.282543142534814, 5.277013867519381, 5.275120759374998, 4.491332102640211, 4.442371806132959, 5.18309720053162, 5.169335919884703, 4.427546371333402, 4.424100758017366, 6.618371891986623, 4.389662575554227, 7.317865455439018, 4.380764553028768, 8.748868801506257, 16.80148989383539, 30.734482307534336, 19.594014500081272, 11.309370059984754, 7.826960576311796, 9.618427270340504, 8.92452143673805, 25.312276296853945, 11.95996316258727, 17.515881615424764, 31.97561192370968, 31.6994068470876, 28.647804891005148, 14.61889131579649, 11.39868168272633, 83.23513314905748, 246.13188879432818, 162.73762593641067, 66.01644879995793, 34.66128661576405, 45.29988238673768, 65.94890999211106, 70.30113845986496, 64.97042577204878, 83.67058944695147, 99.2184560393523, 71.50350009335489, 92.51075733557262, 31.132915982841027, 56.38582426099934, 51.693316853612586, 20.440201161146135, 49.52231718761804, 46.551180382471905, 25.825541042496955, 40.283559130432465, 42.837028318346924, 41.595226701711866, 34.38081387594851, 38.26439474639005, 37.78841958242109, 37.01977625111566, 37.763281241936376, 34.87335154987796, 34.03194805920854, 31.938263426926838, 11.24078930401715, 14.304487049009923, 9.491996737700243, 7.079824466180622, 6.997460195965639, 7.76465664227492, 6.95618874998849, 6.165090035632933, 7.707845104977471, 6.869958212226059, 5.305956533544494, 5.279711641387118, 4.521213627228071, 5.271389654552489, 5.262418377695454, 5.263222175522365, 4.499516444553624, 4.490835428022974, 5.23433010918836, 4.4792178700980045, 4.467197520150883, 4.460595660665845, 5.944021965851655, 4.446280021368541, 4.432353330908593, 4.4190455647753675, 4.40953083127647, 4.40364524496608, 4.374954574643151, 3.6364831833416167, 5.086708619286823, 14.842558245431828, 29.64573218356236, 16.691331651003544, 8.229508108426012, 8.781126870666172, 10.48519166035021, 24.890435660072256, 10.55489611479133, 82.01482178905938, 6.2069411091541555, 33.118538908518566, 6.117009975507491, 14.708774135120583, 7.13037575806947, 43.456897247391964, 21.63279310985866, 37.83340618753238, 16.975256264295, 27.586236032796073, 38.15899789395357, 47.579772785537216, 8.755693814313977, 23.559401831445058, 76.35139805315882, 153.85736416002456, 61.27363695315945, 170.44180677600534, 102.51461720645065, 20.17023473592253, 47.11421308418975, 49.998604075498456, 87.27021631341067, 52.77823698913441, 67.00197897399623, 35.232409302949364, 31.254281677474435, 36.32972551677143, 46.797945432560745, 49.070324758458604, 45.43846966438261, 46.77647509949523, 39.657162725404504, 42.192051704267485, 40.01791433499221, 40.66988725592235, 36.98437776379127, 38.41030439142893, 33.97866331470585, 32.9006311038601, 29.09734012876787, 11.981597914697225, 11.16727717076314, 7.670861759805363, 6.0666788655030235, 7.593004370896872, 5.276415388387819, 6.013559484442674, 5.176021230977198, 4.416858305089862, 5.1414775991486, 4.392792708847932, 4.383400527138863, 4.357388117564083, 4.353299128066847, 9.452206560447829, 4.349083304173168, 4.344645236128112, 4.336805734597577, 4.33619011451216, 10.112903211750462, 4.320673913810702, 5.027393277735148, 4.3027497526275384, 4.297033875364596, 3.549742270374098, 3.5488934264432825, 3.541871722812195, 3.537416995921039, 3.5337202465274262, 7.649947335747276, 6.277804372939363, 4.225524642650564, 4.210943987601668, 9.865065772221575, 24.340754946282612, 12.017351584528894, 11.155411529018382, 11.20373429823239, 57.014155671991375, 32.70637918322425, 8.987558782251028, 26.243740369485366, 6.5136769748671695, 12.497874485838578, 19.757417219914153, 19.832591020160013, 5.9109845326335275, 50.816210778373595, 11.892743415702, 26.485157338283315, 39.771695673401375, 28.880448010310012, 21.901934709397, 49.278880969300374, 24.691249496020728, 94.70751490814295, 25.857349035283175, 31.811484144026846, 84.28188805130468, 103.36094342806786, 51.60217513736462, 21.8725606204013, 43.955310445366095, 46.868070310470834, 25.83195792494589, 29.43359439397172, 24.66969597804863, 42.22282376867366, 33.653419439595304, 88.73566993155458, 37.17891892418259, 43.47825561292629, 36.03071855783416, 31.612886467467735, 31.28200240847025, 29.792859068961135, 39.70562063200714, 36.42837127199985, 36.471853889201576, 33.43506134268066, 30.386483419764378, 31.505954848793337, 31.126702587365212, 29.482041347311203, 14.962100827594226, 13.548606513815349, 7.108798303139001, 6.289375515999276, 16.460283759245282, 6.262549962780678, 7.03140329278574, 16.373619325791406, 6.181378355977719, 6.942417424357877, 6.143351322755238, 6.141223464307833, 5.3439206891111555, 5.33362516208514, 5.334625307472495, 5.325085544739928, 4.549847156047624, 5.297767520970938, 6.071631590491741, 6.034640673773624, 12.811134831292533, 4.501992220320244, 4.485731792087102, 5.217886424345212, 5.213185703941014, 4.459704278495345, 4.45138716290483, 4.450289858417923, 4.433172427592945, 4.428574428832164, 10.847196393262669, 10.123882497391124, 5.834079817108702, 5.832441462521627, 21.505654931432417, 18.27890481793852, 16.563210104277328, 19.020620350595895, 30.884178059096772, 22.86761783882383, 6.947006893884728, 9.890024253136028, 22.0601174373732, 16.35227695748102, 28.57416187515865, 11.260406626925118, 8.758717048077127, 67.77024305033096, 24.35591130915119, 14.514327913029904, 144.78178497948045, 42.18202802297455, 29.957232782345507, 31.977872084196925, 27.592691801746753, 36.3993320194227, 20.281156574781907, 52.05232749555683, 89.6052421123735, 28.271283586597033, 76.917598721627, 36.83808767954173, 34.17362323368371, 104.11328212581572, 25.254147926166617, 29.693906405698545, 41.96325836437787, 35.829700827191814, 37.474362597339, 40.43977994990801, 37.68069589119324, 36.21640887685248, 31.398539815461312, 35.37461947165826, 33.666698969306125, 35.18318192860836, 33.37064110119844, 30.744435090387785, 30.990913634169203, 29.80625495836943, 30.043438862184708, 9.17197820027309, 9.14514076428643, 9.104614809540884, 8.293388593361254, 7.517800404533199, 6.713263367579859, 8.187314874346777, 6.654456199486391, 6.637119841688325, 7.372675236186559, 8.027739331800818, 6.563091598028362, 5.820791184391293, 8.00510979259003, 5.808217805272002, 5.80362898077591, 5.793995213686224, 5.054324251772458, 5.043554888837594, 5.010887434259212, 5.008516173022617, 4.250645546148057, 5.6708366929153335, 4.2422427450512075, 4.239102164623491, 4.2365484561478945, 4.229720230010668, 4.229278210108905, 4.225030230227493, 4.22100865078357, 5.6286416223681375, 10.608069623919324, 7.366011488999645, 10.910321671716357, 6.128275044984292, 5.906471172178381, 5.69604426690025, 31.62176652110304, 9.889910850095069, 16.84632331170314, 18.617725669983013, 31.96322592769102, 130.74838783482912, 20.472302960171444, 12.37179924649356, 126.39285696463698, 17.13176809869521, 47.637451783267245, 36.41248160316935, 49.162370133138126, 50.30985932681673, 39.45994538306326, 25.497240490445012, 28.104274423908247, 18.285696021299295, 32.769417152944634, 28.76805286310171, 37.22638426505809, 32.187611705364006, 18.22047058048593, 25.543186233929738, 28.06482601361365, 26.05492751877052, 26.48820322195066, 31.664180528337038, 24.0422514029312, 21.65206209459557, 18.11462796130752, 18.602163473366627, 20.72288816136501, 20.533377449862318, 21.84411822151754, 19.300146899779875, 11.23279106483502, 6.642340282261023, 8.052808426385903, 7.98504912987468, 5.755231961086402, 5.007713487041365, 4.952423749704116, 4.938602658840669, 4.873344905078748, 4.1340245589417695, 4.7689115409141944, 3.3842818345338177, 4.7193406903520465, 4.71381687554644, 15.374006685924977, 3.3296184233134998, 3.3182585710734274, 3.316898709864595, 4.667096870158311, 7.252245960900361, 3.297438803089558, 3.2926925892202017, 9.86373514140764, 3.248267232068276, 5.184191282385876, 3.2125408487626137, 3.1932112586614125, 2.5473559118587685, 2.545507295949508, 2.537848705940549, 3.1701863176009013, 15.37663236538214, 4.416247214708552, 4.956093037328659, 6.758886917126343, 7.732239619128098, 10.224999830698108, 13.338017432610968, 5.708793009803081, 13.831534468558626, 13.936748657989504, 20.22323467682472, 11.893146761370096, 12.540438547220836, 12.286205494746454, 13.332839158511657, 8.8660623924322, 13.676702138391176, 11.355346776182126, 99.4637300156901, 32.144808206906454, 43.61098165640211, 18.562657398390478, 68.98850141678531, 37.425082913341164, 30.07953236352766, 26.412078308020185, 22.424777157803195, 50.87839809030201, 42.74163348266503, 33.74018523213177, 66.66615833479683, 34.17904234988336, 27.313833148557272, 23.653309253156134, 19.027543458055124, 26.55759017471955, 26.766640689862893, 25.607332811651595, 26.124799096614396, 27.327300100500892, 21.359389715549227, 21.16436718578243, 23.11633147213711, 18.57045167895673, 23.530513866606842, 20.746414474679163, 22.025196679463235, 21.700145516013823, 21.773593605552787, 19.99999925890788, 8.318272684874596, 11.482656256926441, 5.312242161558232, 4.576976076430025, 6.533184077798072, 6.464408891687254, 5.130595519408371, 5.766184650128915, 5.754765251870628, 3.825186655472831, 10.80352967924415, 4.416359826395562, 3.112572881103939, 3.72552524154494, 3.074274478741111, 3.0609841970099128, 3.657091311683801, 3.041911271040439, 3.0379164162811936, 3.0330833270722275, 3.0200930717464156, 2.997338320681667, 5.2576402101517585, 2.330759728956995, 2.3214506644211603, 2.31706143034363, 2.3140606905607943, 2.878667411313982, 2.302395498999997, 2.300811797250212, 7.915655643699767, 4.549480210424346, 10.327507657597163, 9.23779462699105, 14.097213214522155, 3.7430216016992177, 6.494705215578304, 4.574768059691865, 5.6231113816880445, 7.7349503106103565, 9.309374711124317, 7.380078063430948, 42.424751147321096, 9.183359180724986, 4.521052867090317, 69.31287402480874, 10.312926881739624, 18.161931627767558, 32.74908352214849, 33.53737531002062, 11.539033311706008, 21.527177486630517, 33.715556742334066, 13.141639896556786, 19.82697922603531, 12.814630143844605, 10.179749410234129, 15.854656259542956, 17.56348360939583, 10.690219918245017, 12.474124911637713, 13.761866152988839, 13.527839213734545, 9.2782392013256, 13.25694518201965, 13.168257884031693, 11.989195975013061, 12.030543800090255, 12.103990010406706, 11.862370436749718, 10.395254634821868, 10.561045547467625], \"Total\": [303.0, 338.0, 229.0, 185.0, 1877.0, 80.0, 1366.0, 95.0, 186.0, 122.0, 112.0, 324.0, 364.0, 845.0, 46.0, 96.0, 374.0, 128.0, 157.0, 92.0, 315.0, 30.0, 103.0, 72.0, 320.0, 109.0, 366.0, 87.0, 68.0, 53.0, 25.162782503937144, 22.2174076917915, 11.581208936257221, 12.537082610774341, 9.63663710450698, 21.206259309942766, 17.34853703284544, 9.629600557372173, 7.698027498734302, 15.414578904368904, 7.69105181089648, 53.028985727344164, 22.124393609064793, 9.612462477668519, 9.611565748458858, 18.28228089904915, 6.719830584922945, 8.637412884165126, 11.527260714517492, 15.382356236801314, 6.716031350333417, 6.714105977799204, 6.7148346135565395, 6.711615196421272, 6.7102150674288215, 6.708806400349202, 6.71037991227272, 6.710653552823617, 13.385619303968893, 6.706945605300642, 35.40263397388634, 38.39969930225737, 10.548233796892008, 44.23172501485046, 14.39936280999475, 15.248522650992802, 95.78066338053877, 12.395740208191594, 72.49760358574446, 15.313533389648939, 338.1370077003666, 25.754216588698295, 103.03767172280985, 29.44810238918034, 20.764917184706132, 79.8725816137428, 164.79082614249523, 22.91648624804147, 105.49560487541034, 59.911025050346936, 29.361809353088347, 364.2724069993415, 59.08995245835806, 40.18407376204578, 1877.6250609634872, 36.708697868055545, 325.18925825173835, 320.8672940133529, 366.22003746074586, 45.89933371025928, 364.25175274923146, 359.7471019908825, 845.8915522617643, 274.2125567723488, 151.2863712338842, 153.63379521288644, 785.7119826980501, 340.66485118489214, 1366.5737825656106, 128.54552581119634, 143.62756828065702, 596.7975284986516, 211.5225466484422, 378.55149166636056, 476.1391675817488, 381.8738841786302, 434.67640379879714, 378.5311367126001, 327.3217455624653, 346.9809723907345, 374.9947495425716, 14.34237049201861, 22.474380361857875, 10.74317669004603, 13.441918344250887, 9.845799498713529, 8.947211935363292, 8.95190956616167, 11.649025014059713, 9.857270107983162, 16.104432822547825, 9.853525625906236, 8.94761082132282, 8.949406826819175, 9.837895462379466, 7.16111778442549, 7.154712703628572, 11.643241799713344, 8.941517510906086, 7.152223492633017, 24.240629663461576, 7.159719410468124, 7.158956406543338, 9.839819444638417, 8.952485982651604, 8.066010223425018, 7.160259691471662, 6.261209687467488, 6.261741489288886, 6.260594575887171, 7.138110422193241, 80.81679508025462, 8.942758848323983, 8.02510341688545, 30.490752352518893, 50.193658088354454, 11.627958369255252, 38.413567287207414, 23.314514845023357, 63.55667115380037, 23.372449868526143, 32.06765051059519, 12.557783683695522, 14.450315972923073, 24.16806353698831, 38.7234286167386, 87.81892958743056, 112.11542509981912, 112.79893752117441, 39.49667482948815, 63.22113269654464, 109.07148026445081, 80.2948851541347, 62.149921244791635, 31.04858023471322, 244.81471795420111, 41.36926250464397, 1877.6250609634872, 50.41731854154767, 1366.5737825656106, 596.7975284986516, 366.22003746074586, 327.3217455624653, 785.7119826980501, 189.1796337088243, 845.8915522617643, 315.33605570460617, 229.53451629476373, 95.6680921251312, 476.1391675817488, 152.44685053147433, 374.9947495425716, 434.67640379879714, 290.5655278139699, 269.1337454410074, 381.8738841786302, 346.9809723907345, 378.5311367126001, 230.5901667805424, 378.55149166636056, 8.02803323688546, 8.03842129136853, 7.145164307336635, 7.1574824289054995, 9.817560673816121, 7.144347746716031, 13.394694937349056, 6.243291364533962, 6.2345299373001115, 6.246945294545521, 6.24816076850919, 6.257930344693059, 6.24459714732583, 6.247277349534448, 6.251390533190206, 6.248081744767524, 8.016311142753743, 6.24979469204858, 6.248670702623072, 6.244902722519888, 7.138097896233127, 6.227207856806009, 6.247073719730565, 8.022307524098315, 5.351619098940506, 5.362497570222613, 5.3499465990822905, 8.022992621584324, 10.716035794843961, 5.348612999593704, 13.3984535682081, 14.307637275984758, 7.13508024371584, 37.666765243144404, 12.494369788527548, 33.04966105742996, 10.685396621407827, 41.03452969825424, 22.335649572084527, 16.91833585738718, 87.45996606603725, 16.91709519770176, 8.809713177605488, 229.53451629476373, 96.57396168265048, 11.591990751242092, 19.66652831572875, 15.136441246483736, 24.9832533559929, 188.15304404427087, 1877.6250609634872, 39.24277181982989, 20.54742953016974, 15.164219413780327, 86.3612025823237, 23.087254489037885, 1366.5737825656106, 104.27758490829706, 151.2863712338842, 60.42959262580439, 157.5460838185856, 364.2724069993415, 476.1391675817488, 190.12916380910224, 374.9947495425716, 319.05010314607415, 325.18925825173835, 303.97675677510927, 785.7119826980501, 370.24779920943547, 204.88825257027608, 845.8915522617643, 340.66485118489214, 378.55149166636056, 125.52711656423219, 596.7975284986516, 290.5655278139699, 381.8738841786302, 346.6866072688474, 289.2595227357307, 324.7284598037853, 378.5311367126001, 346.9809723907345, 13.328053904055702, 15.996062001889173, 14.226219792948777, 23.101888557502672, 12.44613458937091, 10.657563195273879, 10.66027873720168, 10.666495072513106, 8.879797349326276, 8.88177398061899, 8.870127144469231, 8.88136634276212, 7.102263559164102, 6.2169016032221185, 7.105715947948916, 7.988671751117881, 7.099080725574674, 6.215910862817225, 6.211365261955946, 6.2119761036554575, 5.322105664407518, 5.319316687869655, 6.2099368834013, 6.208864507786446, 5.324061721620318, 5.320826318233441, 7.998442109076653, 5.325246576592389, 8.885832549238856, 5.321936553619004, 10.639363879138882, 21.334121921567178, 40.619197540522634, 25.776938685169625, 14.399696139080579, 9.728227167270642, 12.435218132649272, 11.553522283036246, 39.768518068702335, 16.73817406589433, 27.753045830312963, 62.51032461405971, 62.892921301687686, 59.74621235652242, 24.941385993044474, 17.788155839599487, 359.7471019908825, 1877.6250609634872, 1366.5737825656106, 320.8672940133529, 112.91917825448549, 190.80964345448393, 378.55149166636056, 434.67640379879714, 378.5311367126001, 596.7975284986516, 845.8915522617643, 476.1391675817488, 785.7119826980501, 102.93112712554702, 364.2724069993415, 338.1370077003666, 50.28943034231272, 381.8738841786302, 364.25175274923146, 88.56942212346792, 290.5655278139699, 346.6866072688474, 370.24779920943547, 211.5225466484422, 340.66485118489214, 346.9809723907345, 327.3217455624653, 374.9947495425716, 319.05010314607415, 269.1337454410074, 189.1796337088243, 12.498648239955095, 16.11775586843662, 10.706048229375153, 8.034949909387153, 8.026468855150908, 8.93600890100824, 8.037833489015494, 7.142469526207164, 8.942484805576342, 8.026292348170443, 6.246544730561132, 6.241062335567808, 5.350168515634635, 6.241043020519314, 6.241708137133248, 6.244384369756635, 5.350750623718001, 5.350700997902265, 6.238620214766698, 5.350355670515179, 5.348367304548636, 5.35104479742227, 7.132452871838458, 5.347702868143622, 5.345007533565694, 5.344336426829759, 5.347423818383214, 5.347663889778982, 5.350041620077079, 4.45442776780943, 6.242937466661335, 18.787403112799176, 38.480402416958036, 22.16162951297319, 10.696293463377467, 11.578181810620116, 14.297842267817929, 41.012345831864835, 15.103906708620316, 185.13115972562832, 7.970584926148743, 68.01185052260679, 8.033958126571905, 26.55456239178806, 9.888937275588864, 118.20538581814328, 46.054837016848396, 103.93700257218353, 35.11958258762205, 74.64391935154562, 122.1792590315164, 173.8106337978364, 13.416632631505319, 64.31050537134915, 434.67640379879714, 1366.5737825656106, 315.33605570460617, 1877.6250609634872, 845.8915522617643, 52.43399500853629, 246.11984266793874, 274.2125567723488, 785.7119826980501, 364.25175274923146, 596.7975284986516, 167.0123517341294, 132.20881284979467, 186.5547282259002, 324.7284598037853, 366.22003746074586, 327.3217455624653, 370.24779920943547, 244.5290660428806, 346.9809723907345, 320.8672940133529, 378.5311367126001, 340.66485118489214, 476.1391675817488, 303.97675677510927, 290.5655278139699, 30.740495603130103, 13.174467585471724, 12.287175650307011, 8.782607991315482, 7.021462470392982, 8.790827573021922, 6.1455593108139315, 7.0258207345501615, 6.144726328801672, 5.268384080207852, 6.147313747056449, 5.267497536213413, 5.262229684846897, 5.2593718052695895, 5.265385370984993, 11.438489473458919, 5.265332027017539, 5.262730177989432, 5.268097212008191, 5.2701069041709045, 12.308660365558106, 5.269547391377897, 6.149928351108447, 5.268222700790666, 5.263569103689171, 4.390111578841707, 4.3894977962690485, 4.3900688504043766, 4.389196109965976, 4.389258377942793, 9.681580841685516, 7.905156108687085, 5.269558447608442, 5.2667662773329855, 13.211577351291565, 37.20308775321916, 17.64602753403911, 16.31732265835669, 16.76698071560349, 122.51745154994174, 67.33066061151645, 13.19018973887314, 52.37539225866545, 8.806415029528438, 21.29383978549159, 41.9693397832972, 43.926509540188576, 7.992772938387369, 186.5547282259002, 22.138774569176487, 74.53634046351209, 141.98015141598026, 90.79781113179175, 59.99326173664032, 222.179886077387, 76.33359089484024, 785.7119826980501, 89.99907806359674, 132.52455788469598, 845.8915522617643, 1366.5737825656106, 370.24779920943547, 71.27359298603297, 290.5655278139699, 346.6866072688474, 99.50330421762112, 133.53803880999845, 94.63649690742633, 325.18925825173835, 193.49856562828023, 1877.6250609634872, 246.11984266793874, 381.8738841786302, 269.1337454410074, 193.8281329760282, 191.31482445190872, 181.8405066991381, 596.7975284986516, 434.67640379879714, 476.1391675817488, 346.9809723907345, 230.5901667805424, 324.7284598037853, 378.55149166636056, 244.81471795420111, 16.217245509379772, 15.354048385627042, 8.107495355055898, 7.196690564062471, 18.917950022346336, 7.19883271064821, 8.11809822346152, 18.91080532954335, 7.189144918257461, 8.12020914539697, 7.186010962083826, 7.194588838377053, 6.291760001803118, 6.296754355406971, 6.299273060915343, 6.297133703148934, 5.395345849076289, 6.293540635888047, 7.216990518106313, 7.19203441207221, 15.299771782610819, 5.394170237630608, 5.392132475746727, 6.295234355376981, 6.2951345663115665, 5.395622809270987, 5.390706334529802, 5.392372813607929, 5.395143438215102, 5.394369617615636, 13.488972136982179, 12.60095716218327, 7.193004318737621, 7.19482100340332, 29.660402819237323, 25.81538121657012, 23.136305145457616, 28.67015059467544, 50.78783609339388, 36.59752620586723, 8.98735302400036, 14.39549736086848, 46.51814271922845, 31.391052764879806, 75.16938886868299, 19.348637872983705, 13.324210762392774, 324.7284598037853, 66.94013825433936, 29.471078513321796, 1366.5737825656106, 175.8036824262434, 99.50330421762112, 112.11542509981912, 89.25869209695068, 144.32808760984253, 54.158378381656824, 303.97675677510927, 845.8915522617643, 109.07148026445081, 785.7119826980501, 186.5547282259002, 161.29952059493, 1877.6250609634872, 92.61141079305638, 141.98015141598026, 359.7471019908825, 244.5290660428806, 289.2595227357307, 381.8738841786302, 340.66485118489214, 319.05010314607415, 222.179886077387, 370.24779920943547, 346.9809723907345, 596.7975284986516, 476.1391675817488, 346.6866072688474, 374.9947495425716, 315.33605570460617, 378.5311367126001, 10.228703097444427, 10.224864492024611, 10.222081021484158, 9.397607831509792, 8.532029140984136, 7.683692639134221, 9.381860754191772, 7.686022736752032, 7.68135699391592, 8.538650873282167, 9.390347348502461, 7.698277817935016, 6.8317323307935585, 9.402269086099954, 6.836793808934715, 6.833049074321395, 6.827585037473028, 5.984508065859677, 5.98107366898413, 5.989462428186234, 5.9876672152525074, 5.129795802386907, 6.854743880469425, 5.130874946589755, 5.13168332330017, 5.131751903271305, 5.131289129667116, 5.1312251234580755, 5.128218383526457, 5.130569763426737, 6.844389103346906, 13.719472333793743, 9.318557600272635, 14.472864482045662, 7.712434679146199, 7.719357725824587, 7.7260827623986295, 92.9601099391524, 17.327754180672642, 40.301234146873945, 51.178399404873474, 128.37676943305033, 1366.5737825656106, 63.2354145126952, 27.252695428021948, 1877.6250609634872, 49.65193085386803, 374.9947495425716, 229.53451629476373, 434.67640379879714, 596.7975284986516, 378.55149166636056, 152.44685053147433, 190.12916380910224, 73.18309942657359, 315.33605570460617, 246.11984266793874, 476.1391675817488, 378.5311367126001, 86.3612025823237, 222.11199278506857, 346.9809723907345, 346.6866072688474, 381.8738841786302, 785.7119826980501, 327.3217455624653, 289.2595227357307, 138.39205671455005, 170.76221757991917, 290.5655278139699, 319.05010314607415, 845.8915522617643, 269.1337454410074, 12.549589542093711, 7.541977236686448, 9.218233006063045, 9.239253401263392, 6.712997703255892, 5.877006021821649, 5.87723226264515, 5.878138520803628, 5.89064331293836, 5.045983524863111, 5.890165149744849, 4.20485680150737, 5.902225886424228, 5.9026989398567276, 19.3916790359588, 4.2119356700343396, 4.212956400088358, 4.211588953971556, 5.928913120496904, 9.275036453148372, 4.217826464538091, 4.21879359603245, 12.776822391062908, 4.21507413298006, 6.750632187276213, 4.2184356626869945, 4.220555046170835, 3.377064640093449, 3.3763379631304504, 3.377571581748642, 4.22733916861202, 21.123943716596088, 5.955427033616908, 6.729751378386963, 9.322047711943334, 11.01731382889628, 16.242254790442615, 22.366320976726545, 8.369395914031218, 25.79976200491545, 26.569679437589304, 46.054837016848396, 23.362615413063395, 25.925047613178243, 26.519905425503527, 30.424304038758947, 17.215731587853845, 36.622341120529384, 27.83751124309619, 1366.5737825656106, 185.13115972562832, 324.7284598037853, 70.0402746930319, 845.8915522617643, 315.33605570460617, 204.05487179984823, 167.0123517341294, 128.54552581119634, 785.7119826980501, 596.7975284986516, 366.22003746074586, 1877.6250609634872, 378.55149166636056, 274.2125567723488, 190.12916380910224, 112.91917825448549, 340.66485118489214, 378.5311367126001, 346.6866072688474, 381.8738841786302, 476.1391675817488, 190.80964345448393, 193.8281329760282, 370.24779920943547, 118.20538581814328, 434.67640379879714, 222.179886077387, 346.9809723907345, 319.05010314607415, 364.25175274923146, 244.5290660428806, 9.39390694795555, 13.367253265584667, 6.298956139547718, 5.522769900481029, 7.895046986733921, 7.89836816614698, 6.330330801872714, 7.123437131808344, 7.125205821069209, 4.749745152816184, 13.454613934133695, 5.547382432613652, 3.969847441476018, 4.763616935639151, 3.9745219447961055, 3.9788884540405816, 4.777316200043411, 3.9833542119381744, 3.9794004263862286, 3.9795706089644107, 3.985274180414635, 3.989191105786628, 7.175616727913006, 3.20016881964044, 3.20048610576397, 3.2025984688313875, 3.2032113476366817, 4.002392146428699, 3.204252419561902, 3.2050534845599157, 11.25118222923997, 6.428969143651417, 15.345082511542552, 13.92577766000122, 25.502609820006704, 5.654140019809608, 11.431852809244395, 7.3010336294877325, 9.791315421636474, 15.714119775987808, 21.59721245655551, 15.887072013252862, 303.97675677510927, 28.787224947470193, 8.223582877803672, 1877.6250609634872, 44.04369634559775, 157.5460838185856, 785.7119826980501, 845.8915522617643, 71.24440495195304, 374.9947495425716, 1366.5737825656106, 112.6927402883931, 476.1391675817488, 140.35094296766536, 66.07198953087868, 346.6866072688474, 596.7975284986516, 82.1958425260663, 170.76221757991917, 346.9809723907345, 327.3217455624653, 50.296981644175204, 370.24779920943547, 378.5311367126001, 289.2595227357307, 320.8672940133529, 381.8738841786302, 434.67640379879714, 94.63649690742633, 378.55149166636056], \"Category\": [\"Default\", \"Default\", \"Default\", \"Default\", \"Default\", \"Default\", \"Default\", \"Default\", \"Default\", \"Default\", \"Default\", \"Default\", \"Default\", \"Default\", \"Default\", \"Default\", \"Default\", \"Default\", \"Default\", \"Default\", \"Default\", \"Default\", \"Default\", \"Default\", \"Default\", \"Default\", \"Default\", \"Default\", \"Default\", \"Default\", \"Topic1\", \"Topic1\", \"Topic1\", \"Topic1\", \"Topic1\", \"Topic1\", \"Topic1\", \"Topic1\", \"Topic1\", \"Topic1\", \"Topic1\", \"Topic1\", \"Topic1\", \"Topic1\", \"Topic1\", \"Topic1\", \"Topic1\", \"Topic1\", \"Topic1\", \"Topic1\", \"Topic1\", \"Topic1\", \"Topic1\", \"Topic1\", \"Topic1\", \"Topic1\", \"Topic1\", \"Topic1\", \"Topic1\", \"Topic1\", \"Topic1\", \"Topic1\", \"Topic1\", \"Topic1\", \"Topic1\", \"Topic1\", \"Topic1\", \"Topic1\", \"Topic1\", \"Topic1\", \"Topic1\", \"Topic1\", \"Topic1\", \"Topic1\", \"Topic1\", \"Topic1\", \"Topic1\", \"Topic1\", \"Topic1\", \"Topic1\", \"Topic1\", \"Topic1\", \"Topic1\", \"Topic1\", \"Topic1\", \"Topic1\", \"Topic1\", \"Topic1\", \"Topic1\", \"Topic1\", \"Topic1\", \"Topic1\", \"Topic1\", \"Topic1\", \"Topic1\", \"Topic1\", \"Topic1\", \"Topic1\", \"Topic1\", \"Topic1\", \"Topic1\", \"Topic1\", \"Topic1\", \"Topic1\", \"Topic1\", \"Topic1\", \"Topic1\", \"Topic1\", \"Topic1\", \"Topic1\", \"Topic1\", \"Topic2\", \"Topic2\", \"Topic2\", \"Topic2\", \"Topic2\", \"Topic2\", \"Topic2\", \"Topic2\", \"Topic2\", \"Topic2\", \"Topic2\", \"Topic2\", \"Topic2\", \"Topic2\", \"Topic2\", \"Topic2\", \"Topic2\", \"Topic2\", \"Topic2\", \"Topic2\", \"Topic2\", \"Topic2\", \"Topic2\", \"Topic2\", \"Topic2\", \"Topic2\", \"Topic2\", \"Topic2\", \"Topic2\", \"Topic2\", \"Topic2\", \"Topic2\", \"Topic2\", \"Topic2\", \"Topic2\", \"Topic2\", \"Topic2\", \"Topic2\", \"Topic2\", \"Topic2\", \"Topic2\", \"Topic2\", \"Topic2\", \"Topic2\", \"Topic2\", \"Topic2\", \"Topic2\", \"Topic2\", \"Topic2\", \"Topic2\", \"Topic2\", \"Topic2\", \"Topic2\", \"Topic2\", \"Topic2\", \"Topic2\", \"Topic2\", \"Topic2\", \"Topic2\", \"Topic2\", \"Topic2\", \"Topic2\", \"Topic2\", \"Topic2\", \"Topic2\", \"Topic2\", \"Topic2\", \"Topic2\", \"Topic2\", \"Topic2\", \"Topic2\", \"Topic2\", \"Topic2\", \"Topic2\", \"Topic2\", \"Topic2\", \"Topic2\", \"Topic2\", \"Topic2\", \"Topic3\", \"Topic3\", \"Topic3\", \"Topic3\", \"Topic3\", \"Topic3\", \"Topic3\", \"Topic3\", \"Topic3\", \"Topic3\", \"Topic3\", \"Topic3\", \"Topic3\", \"Topic3\", \"Topic3\", \"Topic3\", \"Topic3\", \"Topic3\", \"Topic3\", \"Topic3\", \"Topic3\", \"Topic3\", \"Topic3\", \"Topic3\", \"Topic3\", \"Topic3\", \"Topic3\", \"Topic3\", \"Topic3\", \"Topic3\", \"Topic3\", \"Topic3\", \"Topic3\", \"Topic3\", \"Topic3\", \"Topic3\", \"Topic3\", \"Topic3\", \"Topic3\", \"Topic3\", \"Topic3\", \"Topic3\", \"Topic3\", \"Topic3\", \"Topic3\", \"Topic3\", \"Topic3\", \"Topic3\", \"Topic3\", \"Topic3\", \"Topic3\", \"Topic3\", \"Topic3\", \"Topic3\", \"Topic3\", \"Topic3\", \"Topic3\", \"Topic3\", \"Topic3\", \"Topic3\", \"Topic3\", \"Topic3\", \"Topic3\", \"Topic3\", \"Topic3\", \"Topic3\", \"Topic3\", \"Topic3\", \"Topic3\", \"Topic3\", \"Topic3\", \"Topic3\", \"Topic3\", \"Topic3\", \"Topic3\", \"Topic3\", \"Topic3\", \"Topic3\", \"Topic3\", \"Topic3\", \"Topic3\", \"Topic3\", \"Topic3\", \"Topic4\", \"Topic4\", \"Topic4\", \"Topic4\", \"Topic4\", \"Topic4\", \"Topic4\", \"Topic4\", \"Topic4\", \"Topic4\", \"Topic4\", \"Topic4\", \"Topic4\", \"Topic4\", \"Topic4\", \"Topic4\", \"Topic4\", \"Topic4\", \"Topic4\", \"Topic4\", \"Topic4\", \"Topic4\", \"Topic4\", \"Topic4\", \"Topic4\", \"Topic4\", \"Topic4\", \"Topic4\", \"Topic4\", \"Topic4\", \"Topic4\", \"Topic4\", \"Topic4\", \"Topic4\", \"Topic4\", \"Topic4\", \"Topic4\", \"Topic4\", \"Topic4\", \"Topic4\", \"Topic4\", \"Topic4\", \"Topic4\", \"Topic4\", \"Topic4\", \"Topic4\", \"Topic4\", \"Topic4\", \"Topic4\", \"Topic4\", \"Topic4\", \"Topic4\", \"Topic4\", \"Topic4\", \"Topic4\", \"Topic4\", \"Topic4\", \"Topic4\", \"Topic4\", \"Topic4\", \"Topic4\", \"Topic4\", \"Topic4\", \"Topic4\", \"Topic4\", \"Topic4\", \"Topic4\", \"Topic4\", \"Topic4\", \"Topic4\", \"Topic4\", \"Topic4\", \"Topic4\", \"Topic4\", \"Topic4\", \"Topic4\", \"Topic4\", \"Topic5\", \"Topic5\", \"Topic5\", \"Topic5\", \"Topic5\", \"Topic5\", \"Topic5\", \"Topic5\", \"Topic5\", \"Topic5\", \"Topic5\", \"Topic5\", \"Topic5\", \"Topic5\", \"Topic5\", \"Topic5\", \"Topic5\", \"Topic5\", \"Topic5\", \"Topic5\", \"Topic5\", \"Topic5\", \"Topic5\", \"Topic5\", \"Topic5\", \"Topic5\", \"Topic5\", \"Topic5\", \"Topic5\", \"Topic5\", \"Topic5\", \"Topic5\", \"Topic5\", \"Topic5\", \"Topic5\", \"Topic5\", \"Topic5\", \"Topic5\", \"Topic5\", \"Topic5\", \"Topic5\", \"Topic5\", \"Topic5\", \"Topic5\", \"Topic5\", \"Topic5\", \"Topic5\", \"Topic5\", \"Topic5\", \"Topic5\", \"Topic5\", \"Topic5\", \"Topic5\", \"Topic5\", \"Topic5\", \"Topic5\", \"Topic5\", \"Topic5\", \"Topic5\", \"Topic5\", \"Topic5\", \"Topic5\", \"Topic5\", \"Topic5\", \"Topic5\", \"Topic5\", \"Topic5\", \"Topic5\", \"Topic5\", \"Topic5\", \"Topic5\", \"Topic5\", \"Topic5\", \"Topic5\", \"Topic5\", \"Topic5\", \"Topic5\", \"Topic5\", \"Topic5\", \"Topic5\", \"Topic6\", \"Topic6\", \"Topic6\", \"Topic6\", \"Topic6\", \"Topic6\", \"Topic6\", \"Topic6\", \"Topic6\", \"Topic6\", \"Topic6\", \"Topic6\", \"Topic6\", \"Topic6\", \"Topic6\", \"Topic6\", \"Topic6\", \"Topic6\", \"Topic6\", \"Topic6\", \"Topic6\", \"Topic6\", \"Topic6\", \"Topic6\", \"Topic6\", \"Topic6\", \"Topic6\", \"Topic6\", \"Topic6\", \"Topic6\", \"Topic6\", \"Topic6\", \"Topic6\", \"Topic6\", \"Topic6\", \"Topic6\", \"Topic6\", \"Topic6\", \"Topic6\", \"Topic6\", \"Topic6\", \"Topic6\", \"Topic6\", \"Topic6\", \"Topic6\", \"Topic6\", \"Topic6\", \"Topic6\", \"Topic6\", \"Topic6\", \"Topic6\", \"Topic6\", \"Topic6\", \"Topic6\", \"Topic6\", \"Topic6\", \"Topic6\", \"Topic6\", \"Topic6\", \"Topic6\", \"Topic6\", \"Topic6\", \"Topic6\", \"Topic6\", \"Topic6\", \"Topic6\", \"Topic6\", \"Topic6\", \"Topic6\", \"Topic6\", \"Topic6\", \"Topic6\", \"Topic6\", \"Topic6\", \"Topic6\", \"Topic6\", \"Topic6\", \"Topic6\", \"Topic6\", \"Topic6\", \"Topic6\", \"Topic6\", \"Topic6\", \"Topic6\", \"Topic6\", \"Topic7\", \"Topic7\", \"Topic7\", \"Topic7\", \"Topic7\", \"Topic7\", \"Topic7\", \"Topic7\", \"Topic7\", \"Topic7\", \"Topic7\", \"Topic7\", \"Topic7\", \"Topic7\", \"Topic7\", \"Topic7\", \"Topic7\", \"Topic7\", \"Topic7\", \"Topic7\", \"Topic7\", \"Topic7\", \"Topic7\", \"Topic7\", \"Topic7\", \"Topic7\", \"Topic7\", \"Topic7\", \"Topic7\", \"Topic7\", \"Topic7\", \"Topic7\", \"Topic7\", \"Topic7\", \"Topic7\", \"Topic7\", \"Topic7\", \"Topic7\", \"Topic7\", \"Topic7\", \"Topic7\", \"Topic7\", \"Topic7\", \"Topic7\", \"Topic7\", \"Topic7\", \"Topic7\", \"Topic7\", \"Topic7\", \"Topic7\", \"Topic7\", \"Topic7\", \"Topic7\", \"Topic7\", \"Topic7\", \"Topic7\", \"Topic7\", \"Topic7\", \"Topic7\", \"Topic7\", \"Topic7\", \"Topic7\", \"Topic7\", \"Topic7\", \"Topic7\", \"Topic7\", \"Topic7\", \"Topic7\", \"Topic7\", \"Topic7\", \"Topic7\", \"Topic7\", \"Topic7\", \"Topic7\", \"Topic7\", \"Topic7\", \"Topic7\", \"Topic7\", \"Topic7\", \"Topic7\", \"Topic7\", \"Topic8\", \"Topic8\", \"Topic8\", \"Topic8\", \"Topic8\", \"Topic8\", \"Topic8\", \"Topic8\", \"Topic8\", \"Topic8\", \"Topic8\", \"Topic8\", \"Topic8\", \"Topic8\", \"Topic8\", \"Topic8\", \"Topic8\", \"Topic8\", \"Topic8\", \"Topic8\", \"Topic8\", \"Topic8\", \"Topic8\", \"Topic8\", \"Topic8\", \"Topic8\", \"Topic8\", \"Topic8\", \"Topic8\", \"Topic8\", \"Topic8\", \"Topic8\", \"Topic8\", \"Topic8\", \"Topic8\", \"Topic8\", \"Topic8\", \"Topic8\", \"Topic8\", \"Topic8\", \"Topic8\", \"Topic8\", \"Topic8\", \"Topic8\", \"Topic8\", \"Topic8\", \"Topic8\", \"Topic8\", \"Topic8\", \"Topic8\", \"Topic8\", \"Topic8\", \"Topic8\", \"Topic8\", \"Topic8\", \"Topic8\", \"Topic8\", \"Topic8\", \"Topic8\", \"Topic8\", \"Topic8\", \"Topic8\", \"Topic8\", \"Topic8\", \"Topic8\", \"Topic8\", \"Topic8\", \"Topic8\", \"Topic8\", \"Topic8\", \"Topic8\", \"Topic8\", \"Topic8\", \"Topic9\", \"Topic9\", \"Topic9\", \"Topic9\", \"Topic9\", \"Topic9\", \"Topic9\", \"Topic9\", \"Topic9\", \"Topic9\", \"Topic9\", \"Topic9\", \"Topic9\", \"Topic9\", \"Topic9\", \"Topic9\", \"Topic9\", \"Topic9\", \"Topic9\", \"Topic9\", \"Topic9\", \"Topic9\", \"Topic9\", \"Topic9\", \"Topic9\", \"Topic9\", \"Topic9\", \"Topic9\", \"Topic9\", \"Topic9\", \"Topic9\", \"Topic9\", \"Topic9\", \"Topic9\", \"Topic9\", \"Topic9\", \"Topic9\", \"Topic9\", \"Topic9\", \"Topic9\", \"Topic9\", \"Topic9\", \"Topic9\", \"Topic9\", \"Topic9\", \"Topic9\", \"Topic9\", \"Topic9\", \"Topic9\", \"Topic9\", \"Topic9\", \"Topic9\", \"Topic9\", \"Topic9\", \"Topic9\", \"Topic9\", \"Topic9\", \"Topic9\", \"Topic9\", \"Topic9\", \"Topic9\", \"Topic9\", \"Topic9\", \"Topic9\", \"Topic9\", \"Topic9\", \"Topic9\", \"Topic9\", \"Topic9\", \"Topic9\", \"Topic9\", \"Topic9\", \"Topic9\", \"Topic9\", \"Topic9\", \"Topic9\", \"Topic9\", \"Topic9\", \"Topic9\", \"Topic9\", \"Topic9\", \"Topic10\", \"Topic10\", \"Topic10\", \"Topic10\", \"Topic10\", \"Topic10\", \"Topic10\", \"Topic10\", \"Topic10\", \"Topic10\", \"Topic10\", \"Topic10\", \"Topic10\", \"Topic10\", \"Topic10\", \"Topic10\", \"Topic10\", \"Topic10\", \"Topic10\", \"Topic10\", \"Topic10\", \"Topic10\", \"Topic10\", \"Topic10\", \"Topic10\", \"Topic10\", \"Topic10\", \"Topic10\", \"Topic10\", \"Topic10\", \"Topic10\", \"Topic10\", \"Topic10\", \"Topic10\", \"Topic10\", \"Topic10\", \"Topic10\", \"Topic10\", \"Topic10\", \"Topic10\", \"Topic10\", \"Topic10\", \"Topic10\", \"Topic10\", \"Topic10\", \"Topic10\", \"Topic10\", \"Topic10\", \"Topic10\", \"Topic10\", \"Topic10\", \"Topic10\", \"Topic10\", \"Topic10\", \"Topic10\", \"Topic10\", \"Topic10\", \"Topic10\", \"Topic10\", \"Topic10\", \"Topic10\", \"Topic10\", \"Topic10\", \"Topic10\", \"Topic10\", \"Topic10\", \"Topic10\", \"Topic10\", \"Topic10\", \"Topic10\", \"Topic10\", \"Topic10\"], \"logprob\": [30.0, 29.0, 28.0, 27.0, 26.0, 25.0, 24.0, 23.0, 22.0, 21.0, 20.0, 19.0, 18.0, 17.0, 16.0, 15.0, 14.0, 13.0, 12.0, 11.0, 10.0, 9.0, 8.0, 7.0, 6.0, 5.0, 4.0, 3.0, 2.0, 1.0, -6.854, -6.9941, -7.6489, -7.5774, -7.8439, -7.0575, -7.2604, -7.8533, -8.0798, -7.3908, -8.0871, -6.1577, -7.0347, -7.8727, -7.8729, -7.233, -8.2377, -7.9867, -7.6982, -7.4127, -8.2433, -8.2493, -8.2494, -8.2521, -8.2529, -8.2533, -8.2541, -8.2556, -7.5656, -8.2572, -6.5997, -6.5215, -7.8062, -6.3889, -7.5003, -7.447, -5.6657, -7.6637, -5.9969, -7.478, -4.6659, -7.018, -5.8075, -6.9148, -7.2192, -6.0639, -5.4558, -7.136, -5.9235, -6.38, -6.9567, -4.9959, -6.4262, -6.7323, -3.9262, -6.8049, -5.2497, -5.2973, -5.2256, -6.6635, -5.306, -5.32, -4.8767, -5.599, -5.9736, -5.9729, -5.0926, -5.5582, -4.8219, -6.1202, -6.0638, -5.3874, -5.9042, -5.6824, -5.701, -5.7739, -5.7358, -5.8265, -5.9526, -5.9709, -5.9756, -7.1883, -6.7536, -7.4925, -7.269, -7.5864, -7.6847, -7.6854, -7.4229, -7.5909, -7.1005, -7.5967, -7.6941, -7.6953, -7.6006, -7.9225, -7.9272, -7.4416, -7.7059, -7.9313, -6.7137, -7.9356, -7.9366, -7.6216, -7.7169, -7.8221, -7.9426, -8.0776, -8.0816, -8.0823, -7.9516, -5.5483, -7.7293, -7.8393, -6.5591, -6.14, -7.4947, -6.4051, -6.863, -5.9633, -6.8652, -6.5871, -7.4356, -7.3176, -6.8985, -6.5267, -5.8739, -5.6929, -5.6971, -6.5468, -6.236, -5.8667, -6.1123, -6.3119, -6.7973, -5.4816, -6.6673, -4.3206, -6.5691, -4.6733, -5.1747, -5.4664, -5.5864, -5.2123, -5.914, -5.2085, -5.75, -5.8983, -6.2848, -5.6506, -6.1245, -5.8294, -5.9078, -6.0263, -6.0523, -5.9738, -6.0654, -6.0674, -6.1582, -6.158, -7.7883, -7.7897, -7.9179, -7.9249, -7.6089, -7.9278, -7.3044, -8.0679, -8.0748, -8.0731, -8.0738, -8.0733, -8.0762, -8.0763, -8.0762, -8.0769, -7.8286, -8.0785, -8.0836, -8.0842, -7.951, -8.088, -8.0849, -7.8381, -8.2485, -8.2489, -8.2515, -7.8492, -7.5602, -8.256, -7.3447, -7.2932, -7.9703, -6.3786, -7.44, -6.6021, -7.6085, -6.4547, -6.9788, -7.2318, -5.8394, -7.2348, -7.793, -5.1328, -5.8409, -7.5756, -7.183, -7.3881, -7.0087, -5.5381, -3.9218, -6.7407, -7.2033, -7.4133, -6.2434, -7.1365, -4.4596, -6.1691, -5.9505, -6.5698, -6.024, -5.5401, -5.402, -5.9401, -5.5755, -5.6891, -5.6816, -5.7421, -5.2648, -5.672, -6.0052, -5.3395, -5.84, -5.8068, -6.2984, -5.6342, -5.9527, -5.91, -5.9693, -6.0346, -6.0439, -6.0255, -6.077, -7.1624, -6.9812, -7.1004, -6.6195, -7.241, -7.4021, -7.4041, -7.4141, -7.6054, -7.6087, -7.6135, -7.6152, -7.8575, -7.9912, -7.8584, -7.7489, -7.8671, -8.0043, -8.0053, -8.0057, -8.1666, -8.1775, -8.0233, -8.026, -8.1809, -8.1816, -7.7789, -8.1895, -7.6784, -8.1915, -7.4998, -6.8472, -6.2433, -6.6935, -7.2431, -7.6111, -7.405, -7.4799, -6.4374, -7.1871, -6.8056, -6.2037, -6.2124, -6.3136, -6.9864, -7.2352, -5.247, -4.1628, -4.5766, -5.4788, -6.1231, -5.8554, -5.4798, -5.4159, -5.4948, -5.2418, -5.0714, -5.399, -5.1414, -6.2304, -5.6365, -5.7234, -6.6512, -5.7663, -5.8282, -6.4173, -5.9728, -5.9113, -5.9407, -6.1312, -6.0242, -6.0367, -6.0573, -6.0374, -6.117, -6.1414, -6.2049, -7.2189, -6.9779, -7.388, -7.6812, -7.6929, -7.5889, -7.6988, -7.8195, -7.5962, -7.7113, -7.9696, -7.9746, -8.1297, -7.9762, -7.9779, -7.9777, -8.1345, -8.1364, -7.9832, -8.139, -8.1417, -8.1432, -7.8561, -8.1464, -8.1495, -8.1525, -8.1547, -8.156, -8.1626, -8.3474, -8.0118, -6.9409, -6.2491, -6.8236, -7.5307, -7.4658, -7.2885, -6.424, -7.2819, -5.2315, -7.8128, -6.1384, -7.8274, -6.95, -7.6741, -5.8667, -6.5642, -6.0053, -6.8067, -6.3211, -5.9967, -5.776, -7.4687, -6.4789, -5.3031, -4.6024, -5.5231, -4.5001, -5.0084, -6.6342, -5.7859, -5.7265, -5.1694, -5.6723, -5.4337, -6.0765, -6.1963, -6.0458, -5.7926, -5.7452, -5.8221, -5.7931, -5.9582, -5.8962, -5.9491, -5.933, -6.028, -5.9901, -6.1127, -6.145, -6.1027, -6.99, -7.0604, -7.436, -7.6706, -7.4462, -7.8101, -7.6794, -7.8294, -7.988, -7.8361, -7.9934, -7.9956, -8.0015, -8.0025, -7.2271, -8.0034, -8.0044, -8.0063, -8.0064, -7.1596, -8.01, -7.8585, -8.0141, -8.0155, -8.2065, -8.2068, -8.2087, -8.21, -8.211, -7.4387, -7.6364, -8.0322, -8.0357, -7.1844, -6.2812, -6.987, -7.0615, -7.0571, -5.4301, -5.9858, -7.2776, -6.206, -7.5995, -6.9478, -6.4899, -6.4861, -7.6966, -5.5452, -6.9975, -6.1968, -5.7902, -6.1102, -6.3868, -5.5759, -6.2669, -4.9226, -6.2208, -6.0136, -5.0392, -4.8352, -5.5298, -6.3882, -5.6902, -5.6261, -6.2218, -6.0913, -6.2678, -5.7304, -5.9573, -4.9877, -5.8577, -5.7011, -5.889, -6.0198, -6.0303, -6.0791, -5.7919, -5.878, -5.8769, -5.9638, -6.0594, -6.0232, -6.0353, -6.0896, -6.7471, -6.8464, -7.4913, -7.6138, -6.6517, -7.6181, -7.5023, -6.657, -7.6311, -7.515, -7.6373, -7.6376, -7.7767, -7.7786, -7.7784, -7.7802, -7.9376, -7.7854, -7.649, -7.6551, -6.9023, -7.9481, -7.9517, -7.8006, -7.8015, -7.9576, -7.9594, -7.9597, -7.9635, -7.9646, -7.0687, -7.1377, -7.6889, -7.6892, -6.3843, -6.5469, -6.6455, -6.5071, -6.0224, -6.3229, -7.5143, -7.1611, -6.3589, -6.6583, -6.1001, -7.0314, -7.2826, -5.2365, -6.2599, -6.7775, -4.4774, -5.7107, -6.0529, -5.9876, -6.1351, -5.8581, -6.443, -5.5004, -4.9572, -6.1108, -5.1099, -5.8461, -5.9212, -4.8072, -6.2237, -6.0617, -5.7159, -5.8739, -5.829, -5.7528, -5.8235, -5.8631, -6.0059, -5.8867, -5.9361, -5.8921, -5.945, -6.0269, -6.019, -6.0579, -6.05, -6.9427, -6.9456, -6.9501, -7.0434, -7.1416, -7.2548, -7.0563, -7.2636, -7.2662, -7.1611, -7.076, -7.2774, -7.3974, -7.0788, -7.3996, -7.4004, -7.402, -7.5386, -7.5408, -7.5472, -7.5477, -7.7118, -7.4235, -7.7138, -7.7145, -7.7151, -7.7167, -7.7168, -7.7178, -7.7188, -7.431, -6.7972, -7.162, -6.7692, -7.3459, -7.3828, -7.4191, -5.705, -6.8673, -6.3347, -6.2347, -5.6943, -4.2856, -6.1398, -6.6434, -4.3195, -6.3179, -5.2952, -5.564, -5.2637, -5.2407, -5.4836, -5.9203, -5.8229, -6.2527, -5.6694, -5.7996, -5.5418, -5.6873, -6.2563, -5.9185, -5.8243, -5.8987, -5.8822, -5.7037, -5.979, -6.0838, -6.2621, -6.2356, -6.1276, -6.1368, -6.0749, -6.1987, -6.7116, -7.237, -7.0444, -7.0529, -7.3803, -7.5195, -7.5306, -7.5334, -7.5467, -7.7112, -7.5683, -7.9113, -7.5788, -7.58, -6.3978, -7.9276, -7.931, -7.9314, -7.5899, -7.1491, -7.9373, -7.9388, -6.8416, -7.9523, -7.4848, -7.9634, -7.9694, -8.1954, -8.1961, -8.1991, -7.9767, -6.3976, -7.6452, -7.5298, -7.2196, -7.0851, -6.8056, -6.5398, -7.3885, -6.5035, -6.4959, -6.1236, -6.6545, -6.6015, -6.622, -6.5402, -6.9482, -6.5148, -6.7008, -4.5307, -5.6602, -5.3552, -6.2093, -4.8965, -5.5081, -5.7266, -5.8566, -6.0203, -5.201, -5.3753, -5.6118, -4.9308, -5.5988, -5.8231, -5.967, -6.1846, -5.8511, -5.8433, -5.8876, -5.8676, -5.8226, -6.069, -6.0781, -5.9899, -6.2089, -5.9722, -6.0981, -6.0383, -6.0531, -6.0498, -6.1347, -6.4847, -6.1623, -6.9331, -7.0821, -6.7262, -6.7368, -6.9679, -6.8511, -6.8531, -7.2615, -6.2232, -7.1178, -7.4677, -7.2879, -7.4801, -7.4844, -7.3065, -7.4906, -7.4919, -7.4935, -7.4978, -7.5054, -6.9434, -7.7569, -7.7609, -7.7628, -7.7641, -7.5458, -7.7692, -7.7699, -6.5343, -7.0881, -6.2683, -6.3798, -5.9571, -7.2832, -6.7321, -7.0826, -6.8762, -6.5574, -6.3721, -6.6043, -4.8554, -6.3857, -7.0944, -4.3645, -6.2697, -5.7038, -5.1142, -5.0905, -6.1574, -5.5338, -5.0852, -6.0273, -5.6161, -6.0525, -6.2827, -5.8397, -5.7373, -6.2338, -6.0795, -5.9812, -5.9984, -6.3754, -6.0186, -6.0253, -6.1191, -6.1157, -6.1096, -6.1298, -6.2618, -6.2459], \"loglift\": [30.0, 29.0, 28.0, 27.0, 26.0, 25.0, 24.0, 23.0, 22.0, 21.0, 20.0, 19.0, 18.0, 17.0, 16.0, 15.0, 14.0, 13.0, 12.0, 11.0, 10.0, 9.0, 8.0, 7.0, 6.0, 5.0, 4.0, 3.0, 2.0, 1.0, 1.7533, 1.7377, 1.7344, 1.7266, 1.7233, 1.7208, 1.7188, 1.7145, 1.7119, 1.7066, 1.7055, 1.7042, 1.7013, 1.6969, 1.6969, 1.6937, 1.6899, 1.6899, 1.6897, 1.6868, 1.6849, 1.6792, 1.6789, 1.6768, 1.6761, 1.6759, 1.675, 1.6733, 1.6729, 1.6724, 1.6662, 1.6631, 1.6705, 1.6544, 1.6652, 1.6612, 1.6049, 1.6516, 1.5523, 1.6259, 1.3433, 1.5661, 1.3901, 1.5352, 1.5802, 1.3883, 1.2722, 1.5648, 1.2505, 1.3598, 1.4963, 0.9389, 1.3274, 1.4069, 0.3687, 1.4248, 0.7986, 0.7644, 0.7038, 1.3427, 0.6289, 0.6273, 0.2156, 0.6198, 0.8399, 0.8252, 0.0735, 0.4436, -0.2093, 0.8563, 0.8016, 0.0537, 0.5741, 0.2139, -0.034, 0.1137, 0.0223, 0.0699, 0.0891, 0.0125, -0.0698, 1.9811, 1.9667, 1.966, 1.9653, 1.9593, 1.9566, 1.9554, 1.9545, 1.9536, 1.9531, 1.9482, 1.9472, 1.9458, 1.9458, 1.9415, 1.9377, 1.9364, 1.936, 1.9339, 1.931, 1.9287, 1.9277, 1.9246, 1.9238, 1.923, 1.9216, 1.9207, 1.9166, 1.9161, 1.9157, 1.8922, 1.9125, 1.9108, 1.8561, 1.7768, 1.8846, 1.7791, 1.8206, 1.7174, 1.816, 1.7777, 1.8667, 1.8443, 1.7492, 1.6496, 1.4835, 1.4203, 1.41, 1.6096, 1.45, 1.274, 1.3346, 1.3913, 1.5999, 0.8506, 1.4429, -0.0257, 1.3432, -0.0606, 0.2664, 0.463, 0.4553, -0.0462, 0.676, -0.1162, 0.3291, 0.4983, 0.987, 0.0163, 0.6813, 0.0763, -0.1497, 0.1346, 0.1852, -0.0862, -0.082, -0.1711, 0.2339, -0.2617, 1.9615, 1.9587, 1.9484, 1.9397, 1.9396, 1.9386, 1.9335, 1.9333, 1.9278, 1.9275, 1.9266, 1.9255, 1.9248, 1.9243, 1.9237, 1.9235, 1.9226, 1.9216, 1.9168, 1.9167, 1.9162, 1.9157, 1.9157, 1.9123, 1.9068, 1.9043, 1.9041, 1.9012, 1.9007, 1.8999, 1.8928, 1.8786, 1.8973, 1.8253, 1.8674, 1.7326, 1.8554, 1.6636, 1.7477, 1.7725, 1.5221, 1.7696, 1.8639, 1.2639, 1.4215, 1.8068, 1.6708, 1.7274, 1.6058, 1.0574, 0.3731, 1.4223, 1.6067, 1.7004, 1.1307, 1.5569, 0.153, 1.0166, 0.863, 1.1614, 0.7489, 0.3947, 0.265, 0.6449, 0.3303, 0.3782, 0.3667, 0.3736, -0.0987, 0.2465, 0.5051, -0.2472, 0.1618, 0.0896, 0.7018, -0.1931, 0.2081, -0.0224, 0.015, 0.1308, 0.0058, -0.1291, -0.0936, 2.0804, 2.0792, 2.0772, 2.0732, 2.0703, 2.0644, 2.0621, 2.0514, 2.0435, 2.04, 2.0365, 2.0335, 2.0148, 2.0142, 2.0134, 2.0058, 2.0056, 2.0013, 2.001, 2.0005, 1.9943, 1.9838, 1.9832, 1.9807, 1.9796, 1.9794, 1.9746, 1.9708, 1.9698, 1.9694, 1.9683, 1.9251, 1.8851, 1.8897, 1.9224, 1.9465, 1.9071, 1.9058, 1.7122, 1.8279, 1.7037, 1.4936, 1.4788, 1.429, 1.6298, 1.7189, 0.7002, 0.1321, 0.0361, 0.5829, 0.9829, 0.726, 0.4165, 0.3422, 0.4016, 0.1993, 0.0209, 0.268, 0.0247, 0.9682, 0.2983, 0.2859, 1.2637, 0.1213, 0.1067, 0.9316, 0.1881, 0.073, -0.0222, 0.3471, -0.0224, -0.0533, -0.0155, -0.1316, -0.0496, 0.0961, 0.3851, 2.0882, 2.0749, 2.0739, 2.0677, 2.057, 2.0537, 2.0497, 2.0471, 2.0457, 2.0387, 2.031, 2.027, 2.0259, 2.0254, 2.0236, 2.0233, 2.021, 2.0191, 2.0187, 2.0165, 2.0142, 2.0122, 2.012, 2.0096, 2.007, 2.0041, 2.0014, 2.0, 1.993, 1.9914, 1.9894, 1.9586, 1.9334, 1.9108, 1.9321, 1.9177, 1.8841, 1.6949, 1.8359, 1.3801, 1.9442, 1.4747, 1.9216, 1.6035, 1.8672, 1.1936, 1.4386, 1.1836, 1.4672, 1.1988, 1.0305, 0.8987, 1.7674, 1.19, 0.455, 0.0102, 0.556, -0.2051, 0.0839, 1.2389, 0.541, 0.4923, -0.0033, 0.2625, 0.0074, 0.6381, 0.752, 0.5582, 0.2571, 0.1843, 0.2197, 0.1254, 0.3752, 0.0872, 0.1125, -0.0366, -0.0262, -0.3231, 0.003, 0.0159, 2.3044, 2.2644, 2.2637, 2.224, 2.2131, 2.2128, 2.2068, 2.2037, 2.1877, 2.183, 2.1806, 2.1777, 2.1766, 2.1712, 2.1691, 2.1686, 2.1681, 2.1676, 2.1648, 2.1642, 2.1628, 2.1608, 2.1578, 2.1569, 2.1564, 2.1468, 2.1467, 2.1446, 2.1435, 2.1425, 2.1238, 2.1288, 2.1385, 2.1356, 2.0672, 1.9351, 1.9751, 1.979, 1.9561, 1.5943, 1.6372, 1.9757, 1.6683, 2.0577, 1.8264, 1.6059, 1.5641, 2.0576, 1.0588, 1.7379, 1.3246, 1.0868, 1.2138, 1.3516, 0.8533, 1.2306, 0.2435, 1.1121, 0.9324, 0.0531, -0.2225, 0.3887, 1.178, 0.4706, 0.3582, 1.0107, 0.847, 1.0148, 0.3178, 0.6101, -0.6928, 0.4692, 0.1865, 0.3485, 0.5459, 0.5484, 0.5504, -0.3508, -0.12, -0.2099, 0.0196, 0.3327, 0.0265, -0.139, 0.2426, 2.2995, 2.2549, 2.2486, 2.2453, 2.2409, 2.2407, 2.2363, 2.236, 2.229, 2.2233, 2.2233, 2.2217, 2.2168, 2.214, 2.2138, 2.2124, 2.2096, 2.2078, 2.2072, 2.2046, 2.2025, 2.1992, 2.196, 2.1923, 2.1915, 2.1895, 2.1886, 2.188, 2.1837, 2.1828, 2.1621, 2.1612, 2.1706, 2.1701, 2.0585, 2.0348, 2.0458, 1.9697, 1.8826, 1.9098, 2.1225, 2.0047, 1.634, 1.7279, 1.4128, 1.8387, 1.9605, 0.8132, 1.369, 1.6718, 0.1352, 0.9527, 1.1796, 1.1256, 1.2061, 1.0025, 1.3978, 0.6153, 0.1351, 1.0299, 0.0562, 0.7578, 0.8282, -0.5122, 1.0806, 0.8153, 0.2314, 0.4595, 0.3364, 0.1348, 0.1783, 0.2042, 0.4233, 0.0319, 0.0473, -0.451, -0.278, -0.0427, -0.1132, 0.0211, -0.1536, 2.5648, 2.5622, 2.5581, 2.5488, 2.5473, 2.5388, 2.5376, 2.5297, 2.5277, 2.527, 2.517, 2.5143, 2.5137, 2.513, 2.5108, 2.5105, 2.5097, 2.5049, 2.5033, 2.4954, 2.4953, 2.4858, 2.4842, 2.4836, 2.4827, 2.4821, 2.4806, 2.4805, 2.4801, 2.4787, 2.4783, 2.4166, 2.4387, 2.3913, 2.4439, 2.4061, 2.369, 1.5955, 2.113, 1.8016, 1.6626, 1.2834, 0.327, 1.546, 1.8841, -0.0245, 1.6097, 0.6105, 0.8327, 0.4944, 0.2004, 0.4128, 0.8856, 0.762, 1.287, 0.4097, 0.5273, 0.1251, 0.2091, 1.1178, 0.511, 0.1591, 0.0856, 0.0054, -0.5376, 0.0627, 0.0816, 0.6405, 0.4568, 0.0332, -0.0695, -0.9826, 0.0387, 2.5914, 2.5752, 2.5671, 2.5563, 2.5483, 2.5422, 2.531, 2.5281, 2.5126, 2.5029, 2.4911, 2.4851, 2.4786, 2.4773, 2.4701, 2.4672, 2.4635, 2.4634, 2.4629, 2.4562, 2.4561, 2.4544, 2.4435, 2.4417, 2.4382, 2.4298, 2.4233, 2.4203, 2.4198, 2.4164, 2.4144, 2.3847, 2.4032, 2.3963, 2.3807, 2.3482, 2.2394, 2.1853, 2.3197, 2.0788, 2.057, 1.8792, 2.0271, 1.976, 1.9328, 1.8772, 2.0386, 1.7173, 1.8055, 0.082, 0.9514, 0.6945, 1.3743, 0.1958, 0.5709, 0.7877, 0.858, 0.9561, -0.0349, 0.0658, 0.3177, -0.6358, 0.2975, 0.3957, 0.618, 0.9214, 0.1506, 0.0531, 0.0967, 0.02, -0.1556, 0.5124, 0.4876, -0.0714, 0.8514, -0.2141, 0.3311, -0.0549, 0.0142, -0.1149, 0.1986, 3.108, 3.0776, 3.0592, 3.0417, 3.0402, 3.0292, 3.0194, 3.0182, 3.016, 3.0131, 3.0101, 3.0016, 2.9863, 2.9838, 2.9727, 2.9673, 2.9624, 2.9599, 2.9596, 2.958, 2.9522, 2.9437, 2.9186, 2.9126, 2.9085, 2.9059, 2.9044, 2.9, 2.899, 2.8981, 2.8779, 2.8838, 2.8336, 2.8191, 2.6368, 2.8171, 2.6641, 2.7621, 2.675, 2.5208, 2.388, 2.4628, 1.2603, 2.087, 2.6313, -0.0696, 1.7778, 1.0692, 0.0519, 0.0018, 1.4092, 0.372, -0.4725, 1.0807, 0.0509, 0.836, 1.3592, 0.1446, -0.2962, 1.1898, 0.613, 0.0022, 0.0434, 1.5393, -0.1001, -0.1289, 0.0462, -0.054, -0.222, -0.3717, 1.0209, -0.3496]}, \"token.table\": {\"Topic\": [4, 5, 6, 3, 6, 6, 3, 4, 8, 8, 8, 8, 8, 8, 8, 8, 3, 6, 4, 8, 10, 2, 9, 4, 5, 4, 3, 2, 2, 4, 5, 6, 8, 9, 10, 3, 3, 10, 9, 6, 8, 10, 2, 4, 7, 8, 10, 3, 8, 9, 9, 8, 6, 5, 4, 5, 9, 6, 4, 8, 8, 4, 4, 4, 5, 2, 8, 8, 5, 7, 3, 1, 1, 5, 9, 1, 8, 6, 4, 8, 9, 8, 2, 3, 6, 7, 3, 4, 8, 6, 8, 2, 3, 5, 3, 6, 5, 5, 1, 3, 4, 5, 6, 7, 9, 10, 1, 2, 3, 4, 6, 7, 9, 10, 9, 1, 3, 5, 6, 7, 9, 10, 3, 5, 7, 9, 3, 4, 5, 7, 9, 1, 2, 3, 4, 5, 6, 7, 8, 1, 2, 3, 4, 5, 6, 7, 8, 9, 10, 1, 2, 3, 4, 5, 6, 7, 8, 9, 10, 4, 6, 7, 10, 5, 9, 5, 7, 4, 3, 1, 5, 1, 2, 3, 4, 5, 6, 7, 1, 6, 1, 6, 7, 7, 1, 4, 7, 3, 4, 9, 1, 10, 1, 9, 6, 2, 2, 3, 6, 10, 7, 1, 4, 5, 8, 10, 6, 10, 3, 9, 2, 3, 6, 1, 8, 1, 2, 3, 5, 6, 7, 8, 3, 1, 2, 3, 4, 5, 6, 7, 8, 9, 10, 8, 5, 1, 2, 3, 4, 5, 6, 7, 8, 9, 10, 1, 5, 10, 2, 3, 4, 5, 7, 8, 9, 10, 1, 6, 1, 2, 3, 4, 5, 6, 7, 8, 9, 10, 1, 2, 3, 4, 5, 6, 7, 9, 10, 3, 5, 7, 4, 6, 10, 1, 2, 3, 4, 5, 6, 7, 9, 10, 1, 2, 3, 4, 5, 6, 7, 8, 9, 10, 6, 1, 2, 3, 4, 5, 6, 7, 9, 10, 5, 4, 1, 6, 7, 9, 10, 1, 2, 3, 4, 5, 6, 7, 8, 9, 10, 9, 1, 2, 3, 4, 5, 6, 7, 8, 9, 10, 1, 2, 3, 4, 7, 10, 1, 3, 4, 6, 9, 10, 1, 2, 3, 4, 5, 6, 7, 8, 9, 10, 4, 1, 3, 9, 2, 3, 1, 2, 3, 4, 5, 6, 7, 8, 9, 10, 2, 3, 1, 2, 3, 4, 5, 6, 7, 8, 9, 10, 2, 1, 2, 3, 4, 5, 6, 7, 8, 9, 10, 1, 2, 1, 2, 3, 4, 5, 6, 7, 8, 9, 10, 1, 4, 5, 9, 4, 1, 1, 2, 3, 4, 5, 7, 2, 5, 1, 2, 7, 9, 1, 2, 3, 4, 5, 6, 7, 8, 9, 10, 2, 3, 4, 1, 2, 3, 4, 5, 6, 7, 8, 9, 10, 2, 4, 5, 6, 10, 2, 3, 5, 6, 7, 8, 9, 1, 2, 3, 4, 5, 6, 7, 8, 9, 10, 1, 2, 3, 4, 5, 6, 7, 8, 9, 10, 1, 3, 4, 7, 9, 9, 1, 2, 3, 6, 7, 1, 2, 3, 4, 5, 6, 7, 9, 1, 2, 3, 4, 5, 6, 7, 8, 9, 10, 3, 7, 4, 6, 7, 10, 2, 1, 2, 3, 4, 5, 6, 7, 8, 9, 10, 7, 7, 5, 2, 3, 6, 7, 8, 9, 10, 1, 2, 3, 4, 5, 6, 7, 8, 9, 10, 5, 10, 4, 10, 2, 3, 6, 7, 10, 1, 2, 3, 4, 5, 6, 7, 8, 9, 10, 1, 5, 9, 1, 2, 4, 5, 6, 8, 5, 1, 2, 3, 4, 5, 6, 7, 8, 9, 10, 1, 1, 2, 3, 4, 5, 6, 7, 9, 10, 1, 3, 4, 5, 7, 8, 9, 10, 10, 4, 5, 7, 1, 2, 3, 4, 5, 6, 7, 8, 9, 10, 1, 2, 3, 4, 5, 6, 7, 8, 5, 1, 3, 4, 5, 7, 9, 1, 3, 4, 7, 8, 9, 1, 2, 3, 4, 5, 6, 7, 8, 9, 10, 1, 2, 3, 4, 5, 6, 7, 8, 9, 10, 3, 9, 1, 9, 10, 1, 2, 3, 4, 5, 6, 7, 8, 9, 10, 2, 3, 4, 6, 7, 8, 9, 1, 4, 1, 2, 3, 4, 5, 6, 7, 8, 9, 10, 7, 3, 5, 6, 7, 8, 6, 1, 3, 4, 5, 7, 8, 9, 1, 4, 5, 7, 8, 9, 1, 2, 3, 4, 5, 6, 7, 8, 9, 10, 1, 2, 3, 4, 5, 6, 7, 8, 9, 10, 4, 1, 7, 9, 6, 5, 1, 2, 3, 5, 6, 7, 8, 9, 6, 1, 9, 9, 1, 1, 1, 6, 7, 9, 10, 7, 4, 1, 9, 4, 2, 3, 5, 6, 7, 9, 2, 4, 7, 10, 1, 2, 3, 5, 6, 7, 8, 9, 10, 7, 4, 5, 8, 4, 5, 7, 9, 1, 2, 3, 4, 5, 6, 7, 8, 9, 10, 5, 1, 2, 3, 4, 5, 6, 7, 8, 9, 10, 2, 6, 1, 2, 3, 4, 5, 7, 10, 3, 4, 5, 8, 5, 9, 4, 5, 8, 1, 9, 8, 10, 7, 1, 2, 3, 4, 5, 6, 7, 8, 9, 10, 7, 2, 9, 7, 2, 1, 2, 3, 3, 4, 10, 6, 9, 10, 5, 1, 4, 5, 6, 8, 10, 3, 1, 1, 1, 2, 1, 2, 3, 4, 5, 6, 7, 8, 9, 10, 4, 6, 2, 8, 9, 1, 2, 3, 4, 5, 6, 7, 8, 9, 1, 2, 3, 4, 5, 6, 8, 9, 10, 1, 4, 5, 8, 9, 1, 2, 3, 2, 2, 5, 6, 7, 9, 10, 5, 10, 1, 2, 3, 4, 5, 6, 7, 8, 9, 10, 3, 1, 2, 3, 4, 5, 6, 7, 8, 9, 10, 1, 2, 3, 4, 5, 6, 7, 8, 9, 10, 6, 5, 2, 3, 5, 1, 2, 3, 4, 5, 6, 7, 8, 9, 10, 1, 2, 3, 4, 5, 6, 7, 8, 9, 10, 1, 2, 3, 4, 5, 6, 7, 8, 9, 10, 7, 1, 2, 4, 5, 6, 7, 9, 1, 2, 3, 4, 5, 6, 7, 8, 9, 2, 3, 2, 3, 4, 5, 6, 7, 8, 10, 1, 2, 5, 7, 4, 6, 8, 8, 10, 9, 1, 2, 3, 4, 5, 6, 7, 8, 9, 10, 2, 3, 7, 1, 2, 3, 4, 5, 6, 7, 8, 9, 10, 8, 1, 7, 7, 1, 2, 3, 5, 6, 7, 8, 3, 1, 2, 5, 6, 7, 9, 10, 7, 1, 2, 3, 4, 5, 6, 7, 8, 9, 10, 7, 1, 2, 3, 4, 5, 6, 7, 8, 9, 10, 1, 3, 10, 8, 1, 2, 3, 4, 5, 6, 7, 8, 9, 10, 6, 1, 2, 3, 4, 5, 6, 7, 8, 9, 10, 2, 1, 1, 2, 3, 4, 5, 6, 7, 8, 9, 5, 10, 1, 2, 3, 4, 5, 6, 7, 8, 1, 2, 5, 1, 3, 4, 5, 8, 6, 1, 6, 7, 8, 1, 2, 3, 4, 5, 6, 7, 8, 9, 10, 1, 2, 3, 4, 5, 6, 7, 8, 9, 10, 1, 2, 3, 4, 5, 6, 7, 8, 9, 10, 1, 1, 3, 9, 8, 9, 4, 6, 2, 3, 6, 8, 3, 4, 5, 6, 9, 2, 3, 7, 4, 1, 2, 3, 7, 9, 10, 10, 3, 4, 7, 9, 10, 3, 4, 8, 9, 10, 1, 2, 3, 4, 5, 7, 9, 10, 8, 6, 2, 7, 1, 2, 3, 4, 5, 6, 7, 8, 9, 1, 2, 6, 7, 9, 8, 9, 2, 3, 4, 6, 1, 2, 3, 4, 5, 6, 7, 8, 9, 10, 6, 10, 5, 5, 6, 7, 1, 8, 2, 7, 1, 2, 3, 5, 8, 9, 1, 2, 3, 4, 5, 6, 8, 9, 1, 2, 1, 2, 3, 4, 5, 6, 7, 8, 1, 2, 3, 4, 5, 6, 8, 9, 1, 2, 3, 4, 6, 5, 7, 9, 7, 1, 6, 1, 2, 4, 5, 7, 10, 1, 2, 3, 4, 5, 6, 7, 8, 9, 10, 3, 4, 5, 6, 7, 8, 9, 10, 5, 1, 2, 3, 4, 6, 8, 9, 4, 6, 1, 2, 3, 4, 5, 6, 7, 8, 9, 10, 1, 2, 3, 4, 5, 6, 7, 9, 10, 6, 7, 2, 1, 2, 3, 4, 5, 6, 7, 8, 9, 10, 5, 6, 1, 2, 3, 4, 5, 6, 7, 8, 9, 10, 1, 2, 3, 4, 5, 6, 7, 8, 9, 10, 4, 1, 2, 3, 4, 5, 6, 7, 8, 9, 10, 1, 2, 3, 4, 5, 6, 7, 8, 9, 10, 1, 2, 3, 4, 5, 6, 7, 8, 9, 10, 4, 8, 1, 2, 3, 4, 5, 6, 7, 8, 9, 10, 1, 2, 3, 4, 5, 6, 7, 8, 9, 10, 4, 5, 9, 1, 2, 3, 4, 5, 6, 7, 8, 9, 10, 1, 3, 4, 5, 2, 3, 5, 6, 10, 1, 2, 3, 4, 5, 6, 7, 8, 9, 10, 1, 3, 1, 2, 3, 4, 5, 6, 7, 8, 9, 10, 5, 1, 2, 3, 4, 5, 6, 7, 8, 9, 10, 1, 2, 3, 4, 5, 6, 7, 8, 9, 10, 9, 4, 7, 8, 9, 1, 2, 3, 4, 5, 6, 7, 8, 9, 10, 1, 2, 3, 4, 5, 6, 7, 8, 9, 10, 1, 2, 6, 7, 1, 2, 3, 5, 6, 8, 9, 1, 2, 3, 4, 5, 6, 8, 9, 10, 3, 4, 2, 4, 6, 4, 10, 2, 1, 2, 3, 4, 5, 6, 7, 8, 9, 1, 2, 3, 4, 5, 6, 8, 9, 10, 5, 10, 1, 2, 4, 5, 9, 1, 4, 5, 1, 2, 3, 4, 5, 6, 7, 8, 9, 10, 1, 2, 3, 4, 5, 6, 7, 8, 9, 10, 1, 2, 3, 4, 5, 6, 7, 8, 9, 10, 1, 2, 3, 4, 6, 8, 9, 4, 1, 7, 8, 2, 5, 9, 1, 2, 3, 4, 5, 6, 7, 8, 9, 10, 1, 2, 3, 4, 5, 6, 7, 8, 9, 10, 1, 2, 3, 4, 5, 6, 7, 10, 1, 3, 10, 1, 2, 4, 5, 6, 7, 9, 1, 2, 3, 4, 5, 6, 7, 8, 9, 10, 1, 2, 3, 4, 5, 6, 2, 9, 2, 10, 2, 5, 10, 6, 6, 2, 10, 3, 4, 9, 3, 4, 4, 5, 7, 9, 1, 2, 3, 4, 5, 6, 7, 8, 9, 10, 10, 4, 7, 5, 6, 10, 1, 2, 3, 4, 5, 6, 7, 8, 9, 10, 1, 2, 3, 4, 5, 7, 9, 1, 2, 3, 4, 5, 6, 7, 8, 9, 10, 7, 7, 1, 2, 3, 4, 5, 6, 7, 8, 9, 10, 1, 2, 3, 4, 5, 6, 7, 8, 9, 10, 2, 5, 7, 10, 2, 3, 1, 2, 3, 4, 5, 6, 7, 8, 10, 1, 2, 3, 4, 5, 6, 7, 8, 9, 10, 1, 2, 3, 4, 5, 6, 7, 8, 9, 10, 1, 2, 3, 4, 5, 6, 7, 8, 9, 10, 1, 2, 3, 4, 5, 6, 7, 8, 9, 10, 9, 1, 6, 1, 2, 3, 4, 5, 6, 7, 8, 9, 5, 7, 1, 2, 3, 4, 5, 6, 7, 8, 9, 10, 2, 9, 3, 5, 6, 3, 2, 3, 4, 7, 8, 1, 2, 3, 4, 5, 6, 7, 8, 9, 10, 9, 1, 2, 3, 4, 5, 6, 7, 8, 9, 10, 3, 4, 3, 1, 2, 7, 2, 3, 5, 6, 8, 3, 1, 2, 6, 7, 8, 10, 1, 3, 8, 6, 3, 1, 4, 8, 9, 3, 3, 1, 2, 3, 6, 7, 1, 2, 3, 4, 5, 6, 7, 8, 9, 10, 10, 8, 6, 1, 2, 3, 9, 1, 2, 3, 4, 5, 6, 7, 8, 9, 10, 3, 1, 2, 3, 4, 5, 6, 7, 8, 9, 10, 1, 2, 3, 4, 5, 6, 7, 8, 9, 10, 2, 4, 7, 10, 5, 7, 10, 2, 1, 2, 3, 4, 5, 6, 7, 9, 8, 3, 10, 4, 1, 2, 4, 5, 7, 8, 9, 1, 2, 3, 4, 5, 6, 7, 8, 9, 10, 1, 2, 5, 9, 1, 4, 5, 7, 1, 2, 3, 4, 5, 7, 9, 1, 2, 3, 4, 5, 6, 7, 8, 4, 6, 1, 2, 3, 4, 5, 6, 7, 8, 9, 10, 2, 3, 4, 2, 6, 7, 1, 3, 1, 7, 10, 3, 5, 10, 9, 8, 2, 6, 7, 8, 2, 3, 6, 9, 5, 7, 8, 1, 2, 3, 4, 5, 6, 7, 8, 9, 10, 5, 4, 5, 6, 9, 10, 6, 1, 2, 3, 6, 9, 1, 2, 3, 4, 5, 6, 7, 8, 9, 10, 2, 9, 2, 5, 6, 7, 2, 4, 2, 3, 5, 5, 7, 3, 2, 3, 5, 6, 4, 6, 10, 1, 2, 3, 4, 5, 6, 7, 8, 9, 10, 5, 3, 1, 2, 3, 4, 5, 6, 8, 9, 3, 4, 6, 2, 5, 7, 2, 4, 6, 10, 2, 1, 2, 3, 4, 5, 9, 7, 1, 3, 4, 2, 6, 1, 2, 3, 4, 5, 6, 7, 8, 9, 10, 1, 2, 3, 4, 5, 6, 7, 8, 9, 10], \"Freq\": [0.0863693467900761, 0.7773241211106849, 0.0863693467900761, 0.8212206438034049, 0.0746564221639459, 0.7601340571504109, 0.23084353334499608, 0.11542176667249804, 0.5771088333624902, 0.9110203034863641, 0.7795409290684734, 0.7795312053015211, 0.7795941319245379, 0.8354905607904378, 0.8766304646627996, 0.9112973144646714, 0.8029280722555718, 0.9108911621594236, 0.12943169659880027, 0.7765901795928015, 0.6241705515427052, 0.8945785227675382, 0.792709682917269, 0.9019036446380839, 0.8952542559684972, 0.9377307988821538, 0.8725668991088422, 0.8380216676127678, 0.41752008397967094, 0.11929145256562028, 0.21870099637030382, 0.019881908760936713, 0.019881908760936713, 0.019881908760936713, 0.1789371788484304, 0.7478574352460818, 0.7474373504631346, 0.7527712935645182, 0.8507733327879404, 0.7592460874344964, 0.7779644495691505, 0.7937823171378701, 0.1124343646432227, 0.6183890055377249, 0.16865154696483406, 0.05621718232161135, 0.8516158446450319, 0.798986202241796, 0.14859389950296908, 0.7429694975148454, 0.847138028298875, 0.9092942818576634, 0.8133633983452002, 0.7480237467336925, 0.7516061042253378, 0.8010627684197436, 0.7122615906371479, 0.9113286122982113, 0.9007623029219607, 0.878254549428908, 0.9376433047528517, 0.8048968503046452, 0.9007209615395395, 0.9009214608492132, 0.894605937156457, 0.8381109842373053, 0.878788029305992, 0.7796405047474448, 0.7475175692655196, 0.7415138901379248, 0.8006921634874696, 0.9101485950312523, 0.062043376767996504, 0.8686072747519511, 0.8470701370585846, 0.8936409433868843, 0.8527093089103499, 0.9112659774883335, 0.0690948223304759, 0.7600430456352348, 0.1381896446609518, 0.9107441182197267, 0.15254344599299116, 0.6610215993029617, 0.050847815330997054, 0.10169563066199411, 0.8003747393292565, 0.10635730490614988, 0.850858439249199, 0.9111474412597318, 0.8804469443241879, 0.13988124659212867, 0.06994062329606433, 0.6994062329606434, 0.8148663670942582, 0.8952423496709068, 0.8406463157251511, 0.8014592694976196, 0.01968975402222488, 0.07875901608889951, 0.03937950804444976, 0.07875901608889951, 0.07875901608889951, 0.6103823746889713, 0.059069262066674635, 0.03937950804444976, 0.3167022337176231, 0.18335392478388707, 0.06667415446686803, 0.016668538616717007, 0.36670784956777414, 0.016668538616717007, 0.016668538616717007, 0.016668538616717007, 0.8507405827364161, 0.03393157123679646, 0.06786314247359292, 0.27145256989437166, 0.03393157123679646, 0.5089735685519469, 0.10179471371038938, 0.75480775843443, 0.7267230005306134, 0.1321314546419297, 0.06606572732096486, 0.06606572732096486, 0.2325602848141336, 0.03876004746902227, 0.1162801424070668, 0.03876004746902227, 0.5426406645663118, 0.37400175727407825, 0.18220598431301246, 0.3452323913299184, 0.019179577296106576, 0.03835915459221315, 0.019179577296106576, 0.009589788648053288, 0.009589788648053288, 0.3811879074808848, 0.015558690101260604, 0.16336624606323635, 0.03889672525315151, 0.09335214060756362, 0.03889672525315151, 0.015558690101260604, 0.07779345050630301, 0.17114559111386665, 0.015558690101260604, 0.10098162427565857, 0.13287055825744548, 0.35609309612995393, 0.11692609126655203, 0.07440751262416948, 0.0531482233029782, 0.0265741116514891, 0.07440751262416948, 0.03720375631208474, 0.0265741116514891, 0.876240784210525, 0.7868171772927691, 0.08742413081030768, 0.8421504462462265, 0.7478917905653399, 0.7112668160302181, 0.7475655996416535, 0.834143806138157, 0.9003565026360242, 0.8398247415599217, 0.8773971059699825, 0.8400455861918329, 0.2817417634057332, 0.0939139211352444, 0.08049764668735233, 0.02683254889578411, 0.0939139211352444, 0.34882313564519346, 0.05366509779156822, 0.9039795780800796, 0.04519897890400398, 0.8959618819284956, 0.0471558885225524, 0.9269266225821327, 0.8337165460415531, 0.8939725869861079, 0.8448010905281256, 0.7946901977454767, 0.8000262802810699, 0.8451798524257937, 0.7111640996532601, 0.8525416066554877, 0.06558012358888367, 0.8067287497193274, 0.08067287497193275, 0.7594793065367508, 0.913378656705149, 0.8584409414462212, 0.06128456370799678, 0.6741302007879646, 0.18385369112399033, 0.8339600962316386, 0.07758873248787568, 0.7758873248787568, 0.03879436624393784, 0.03879436624393784, 0.03879436624393784, 0.139360843523041, 0.6968042176152051, 0.748685358480028, 0.0935856698100035, 0.08626645944251199, 0.7763981349826079, 0.08626645944251199, 0.8941006941828196, 0.7799979838708371, 0.026879489321782725, 0.08063846796534817, 0.05375897864356545, 0.026879489321782725, 0.6451077437227853, 0.1075179572871309, 0.026879489321782725, 0.8002456120532139, 0.13771436520224684, 0.07783855424474821, 0.07783855424474821, 0.12573920301074712, 0.2095653383512452, 0.05987581095749863, 0.0658633920532485, 0.08382613534049808, 0.15567710848949642, 0.0059875810957498625, 0.7794609083596082, 0.8708814395777422, 0.2094625216961884, 0.06347349142308739, 0.2602413148346583, 0.06982084056539613, 0.06347349142308739, 0.044431443996161175, 0.10155758627693982, 0.03808409485385243, 0.031736745711543696, 0.1142522845615573, 0.8333702093866732, 0.06944751744888943, 0.8866318353471648, 0.17896404748946906, 0.09942447082748282, 0.3976978833099313, 0.01988489416549656, 0.09942447082748282, 0.11930936499297938, 0.05965468249648969, 0.01988489416549656, 0.900195030736608, 0.0450097515368304, 0.1331052910916298, 0.08873686072775319, 0.11535791894607916, 0.11535791894607916, 0.10648423287330384, 0.12423160501885448, 0.07986317465497787, 0.07986317465497787, 0.03549474429110128, 0.11535791894607916, 0.019071596582278333, 0.038143193164556666, 0.13350117607594833, 0.26700235215189666, 0.38143193164556666, 0.038143193164556666, 0.038143193164556666, 0.038143193164556666, 0.019071596582278333, 0.06946616535239113, 0.2083984960571734, 0.6946616535239113, 0.08124360980811395, 0.8124360980811395, 0.6240145475371432, 0.22128789007578564, 0.038484850447962723, 0.07696970089592545, 0.16356061440384156, 0.36560607925564587, 0.019242425223981362, 0.0481060630599534, 0.0481060630599534, 0.019242425223981362, 0.21674314983359044, 0.049073920717039345, 0.1308637885787716, 0.11041632161333852, 0.1635797357234645, 0.028626453751606284, 0.14722176215111804, 0.03680544053777951, 0.08178986786173224, 0.0327159471446929, 0.9100394625588057, 0.04540944938650463, 0.11352362346626158, 0.09081889877300926, 0.04540944938650463, 0.1589330728527662, 0.06811417407975694, 0.18163779754601853, 0.04540944938650463, 0.22704724693252315, 0.7483619012472319, 0.8838085367800924, 0.07505134959456458, 0.15010269918912916, 0.6754621463510813, 0.07505134959456458, 0.07505134959456458, 0.18068792567056952, 0.11522128593485592, 0.120458617113713, 0.1309332794714272, 0.06284797414628504, 0.11260262034542737, 0.10474662357714175, 0.06808530532514213, 0.06808530532514213, 0.03142398707314252, 0.8506094203639873, 0.1215775691552529, 0.2484411195781255, 0.10043364408477413, 0.16915140056383013, 0.11100560662001352, 0.08986168154953476, 0.03700186887333784, 0.03171588760571815, 0.0634317752114363, 0.02642990633809846, 0.4177513989920935, 0.04516231340455065, 0.07903404845796363, 0.29355503712957925, 0.12419636186251429, 0.022581156702275326, 0.6470225033420388, 0.04977096179554145, 0.12442740448885363, 0.04977096179554145, 0.04977096179554145, 0.04977096179554145, 0.11506775830103992, 0.18410841328166389, 0.07479404289567596, 0.1668482495365079, 0.2761626199224958, 0.05178049123546796, 0.05178049123546796, 0.034520327490311975, 0.02876693957525998, 0.017260163745155988, 0.9375150817600223, 0.8943468691670239, 0.21454513662675379, 0.7509079781936382, 0.8378580244901471, 0.8002354909303973, 0.28838533275312783, 0.06618679768104573, 0.10400782492735756, 0.16073936579682535, 0.07091442608683471, 0.028365770434733883, 0.0992801965215686, 0.08509731130420164, 0.07091442608683471, 0.018910513623155923, 0.859996199026681, 0.08599961990266809, 0.07871595876309999, 0.24926720274981662, 0.1836705704472333, 0.06559663230258332, 0.04591764261180833, 0.07871595876309999, 0.05903696907232499, 0.1639915807564583, 0.052477305842066654, 0.019678989690774997, 0.840558585553017, 0.23327340964188242, 0.1230277571398969, 0.17948205262400543, 0.1310165725385915, 0.09053990785187217, 0.047400304698921314, 0.055389120097615915, 0.06710604934903466, 0.035683375447502566, 0.036748550833995176, 0.044495108826098625, 0.8899021765219726, 0.17047906741312954, 0.06049257230788468, 0.10448717034998263, 0.14848176839208058, 0.09898784559472039, 0.1649797426578673, 0.07699054657367141, 0.038495273286835704, 0.10448717034998263, 0.03299594853157346, 0.1323298797318924, 0.24995643949357452, 0.4852095590169388, 0.11762655976168213, 0.8443906348004125, 0.9339357602031907, 0.7586457659245293, 0.013793559380445986, 0.12414203442401388, 0.013793559380445986, 0.06896779690222993, 0.013793559380445986, 0.8379584342655048, 0.8800951741993757, 0.45143676794558635, 0.021496988949789825, 0.47293375689537615, 0.021496988949789825, 0.04987497662636075, 0.21374989982726034, 0.0641249699481781, 0.15674992653999092, 0.17812491652271695, 0.07124996660908678, 0.042749979965452066, 0.03562498330454339, 0.08549995993090413, 0.09262495659181282, 0.08003604959076925, 0.8003604959076925, 0.08003604959076925, 0.13774558581819196, 0.0945312843850337, 0.15935273653477108, 0.11343754126204043, 0.1269420104599024, 0.14044647965776436, 0.0945312843850337, 0.03511161991444109, 0.062120558310165004, 0.03511161991444109, 0.7985677288540678, 0.06363703562499662, 0.3181851781249831, 0.06363703562499662, 0.509096284999973, 0.05464850243564726, 0.05464850243564726, 0.02732425121782363, 0.10929700487129453, 0.6284577780099435, 0.05464850243564726, 0.05464850243564726, 0.3019889380621027, 0.07961526548909979, 0.09334203540101356, 0.12903163717198932, 0.14550376106628585, 0.06863384955956879, 0.04941637168288953, 0.04667101770050678, 0.06039778761242054, 0.024708185841444765, 0.17106571091707218, 0.06250477898893021, 0.18093488654690326, 0.032897252099436954, 0.11185065713808565, 0.05921505377898652, 0.17106571091707218, 0.032897252099436954, 0.03947670251932434, 0.1381684588176352, 0.04477147605547219, 0.716343616887555, 0.04477147605547219, 0.13431442816641656, 0.04477147605547219, 0.876522691288341, 0.8039200949577603, 0.07308364499616002, 0.08352416570989717, 0.010440520713737146, 0.010440520713737146, 0.031099118074898787, 0.015549559037449394, 0.015549559037449394, 0.13994603133704456, 0.37318941689878543, 0.015549559037449394, 0.3265407397864373, 0.07774779518724698, 0.033839405643951985, 0.06767881128790397, 0.033839405643951985, 0.08459851410987997, 0.36377361067248387, 0.10151821693185596, 0.10997806834284396, 0.033839405643951985, 0.16073717680877195, 0.008459851410987996, 0.8387129033625903, 0.06989274194688253, 0.7789832208325317, 0.08655369120361464, 0.08655369120361464, 0.753979417782744, 0.867839217420138, 0.4117797481165548, 0.046668371453209546, 0.18392828749206117, 0.1537311059635138, 0.02196158656621626, 0.0768655529817569, 0.035687578170101424, 0.04941356977398658, 0.008235594962331097, 0.01098079328310813, 0.741821536839386, 0.8620467619319913, 0.7479847139279342, 0.09260454348093103, 0.09260454348093103, 0.09260454348093103, 0.18520908696186206, 0.046302271740465514, 0.09260454348093103, 0.41672044566418964, 0.1300468655190317, 0.15234061389372283, 0.1300468655190317, 0.1263312407899165, 0.11518436660257092, 0.13376249024814688, 0.0891749934987646, 0.07059686985318864, 0.03715624729115191, 0.018578123645575956, 0.7479901658825681, 0.7520321590129563, 0.27393381560691804, 0.6848345390172951, 0.7549416013143266, 0.07809740703251655, 0.0520649380216777, 0.07809740703251655, 0.02603246901083885, 0.04092347620728523, 0.09821634289748454, 0.18824799055351205, 0.04092347620728523, 0.3110184191753677, 0.04092347620728523, 0.0900316476560275, 0.1064010381389416, 0.06547756193165637, 0.024554085724371136, 0.0934903294700966, 0.7479226357607728, 0.0934903294700966, 0.04516961843914732, 0.09033923687829463, 0.09033923687829463, 0.13550885531744195, 0.5420354212697678, 0.04516961843914732, 0.8007194470949691, 0.06791194133113442, 0.06036617007211948, 0.1735527389573435, 0.01509154251802987, 0.15091542518029868, 0.24146468028847792, 0.15846119643931364, 0.007545771259014935, 0.05282039881310455, 0.06791194133113442, 0.8323305702073296, 0.09182678931625919, 0.021606303368531574, 0.03781103089493025, 0.1566456994218539, 0.44292921905489724, 0.005401575842132893, 0.03781103089493025, 0.1728504269482526, 0.027007879210664467, 0.28453686567704456, 0.016737462686884974, 0.48538641791966425, 0.08368731343442487, 0.03347492537376995, 0.016737462686884974, 0.0669498507475399, 0.016737462686884974, 0.789848138508155, 0.07413463307988752, 0.07413463307988752, 0.8154809638787627, 0.13006526839273097, 0.24567884029738074, 0.10838772366060916, 0.07948433068444671, 0.0722584824404061, 0.04335508946424366, 0.06503263419636549, 0.13006526839273097, 0.08671017892848731, 0.03612924122020305, 0.13884118002490498, 0.47602690294253136, 0.05950336286781642, 0.09917227144636069, 0.07933781715708856, 0.03966890857854428, 0.01983445428927214, 0.05950336286781642, 0.8011481387904217, 0.02598725421746908, 0.02598725421746908, 0.05197450843493816, 0.7796176265240723, 0.05197450843493816, 0.02598725421746908, 0.0771454706599404, 0.1542909413198808, 0.0771454706599404, 0.11571820598991059, 0.0771454706599404, 0.5014455592896125, 0.17171638921041066, 0.10567162412948349, 0.10831341473272056, 0.17171638921041066, 0.10831341473272056, 0.06340297447769008, 0.07925371809711261, 0.08453729930358679, 0.07132834628740135, 0.03434327784208213, 0.08566499812138689, 0.08566499812138689, 0.11421999749518252, 0.08566499812138689, 0.15705249655587597, 0.07138749843448908, 0.08566499812138689, 0.014277499686897815, 0.2712724940510585, 0.042832499060693446, 0.8397287650669162, 0.9281385743184019, 0.07826672152064014, 0.7826672152064014, 0.8372901923392997, 0.007789571309640326, 0.23368713928920978, 0.07789571309640327, 0.19473928274100816, 0.023368713928920978, 0.06231657047712261, 0.10126442702532423, 0.24926628190849043, 0.031158285238561303, 0.015579142619280652, 0.24003672909828178, 0.018464363776790907, 0.07385745510716363, 0.11078618266074544, 0.36928727553581814, 0.14771491021432726, 0.036928727553581814, 0.13889181970805808, 0.7639050083943195, 0.1756828906602807, 0.10540973439616841, 0.19325117972630876, 0.09369754168548304, 0.12297802346219648, 0.06441705990876959, 0.04099267448739883, 0.1112658307515111, 0.02342438542137076, 0.07027315626411228, 0.7940120435269952, 0.0697589638880877, 0.10463844583213154, 0.1395179277761754, 0.6627101569368331, 0.03487948194404385, 0.8135955975889506, 0.05461147318293259, 0.05461147318293259, 0.027305736591466297, 0.21844589273173037, 0.19114015614026408, 0.08191720977439888, 0.38228031228052817, 0.03592275154439332, 0.03592275154439332, 0.07184550308878664, 0.35922751544393317, 0.07184550308878664, 0.39515026698832645, 0.1666218488199079, 0.08821156702230418, 0.1225160653087558, 0.09311220963465441, 0.10291349485935489, 0.07350963918525348, 0.09311220963465441, 0.06860899657290326, 0.14701927837050696, 0.04410578351115209, 0.013100392478294831, 0.1310039247829483, 0.06550196239147416, 0.052401569913179326, 0.1310039247829483, 0.32750981195737083, 0.11790353230465349, 0.013100392478294831, 0.11790353230465349, 0.039301177434884496, 0.7513060909411556, 0.8941371544443415, 0.7944653557153806, 0.7117312543869775, 0.9108527477218981, 0.8011456593703615, 0.09263418943679033, 0.19684765255317946, 0.3821160314267601, 0.03473782103879638, 0.05789636839799396, 0.011579273679598791, 0.20842692623277825, 0.8678452795387376, 0.8130176019203237, 0.7705304026824817, 0.1444744505029653, 0.8488726330901928, 0.8941591200442764, 0.9498144848731954, 0.05168322476055481, 0.05168322476055481, 0.5685154723661029, 0.25841612380277407, 0.05168322476055481, 0.9249412911288949, 0.938061775542747, 0.16791407137645178, 0.6716562855058071, 0.9138056482470098, 0.38840672693583156, 0.014938720266762752, 0.029877440533525503, 0.13444848240086477, 0.3585292864023061, 0.059754881067051006, 0.03921167312121537, 0.1176350193636461, 0.2352700387272922, 0.5489634236970151, 0.020140203669886024, 0.14098142568920216, 0.10070101834943011, 0.20140203669886023, 0.020140203669886024, 0.04028040733977205, 0.3423834623880624, 0.10070101834943011, 0.020140203669886024, 0.8342562974849902, 0.07288910066437501, 0.07288910066437501, 0.8017801073081251, 0.05808640747544685, 0.3485184448526811, 0.05808640747544685, 0.5227776672790216, 0.027504898555757263, 0.449246676410702, 0.06417809663010028, 0.055009797111514526, 0.009168299518585754, 0.055009797111514526, 0.2567123865204011, 0.055009797111514526, 0.009168299518585754, 0.009168299518585754, 0.7484558756292192, 0.20076528998856308, 0.09774099644180045, 0.13472407617653576, 0.17434880446375214, 0.05019132249714077, 0.08189110512691389, 0.0396247282872164, 0.10302429354676264, 0.08981605078435717, 0.029058134077292026, 0.8941332850718002, 0.759373872033253, 0.18016040583692636, 0.036032081167385266, 0.036032081167385266, 0.6485774610129349, 0.036032081167385266, 0.036032081167385266, 0.036032081167385266, 0.024618900927384824, 0.7631859287489295, 0.024618900927384824, 0.14771340556430892, 0.7527678402015474, 0.1254613067002579, 0.7169240774267711, 0.0597436731188976, 0.17923101935669278, 0.9093238496681039, 0.8433248891292489, 0.7511892183609188, 0.10731274548013126, 0.8334684581744833, 0.13098451198437655, 0.11854464213111172, 0.1441561388878334, 0.11927639918130377, 0.11269058572957534, 0.07537097616978092, 0.10610477227784691, 0.09586017357515825, 0.07244394796901273, 0.02487973970652962, 0.7413416655306282, 0.8939139939449355, 0.865870828795113, 0.7414075354636609, 0.8940934244631434, 0.04125305381432899, 0.8663141301009087, 0.04125305381432899, 0.36084602525737236, 0.6014100420956207, 0.9053428062546123, 0.1194829364355328, 0.7168976186131969, 0.1194829364355328, 0.8711939811624673, 0.7152147794254092, 0.0340578466393052, 0.1362313865572208, 0.0340578466393052, 0.0340578466393052, 0.7210607973381417, 0.8719445714098347, 0.9262032633250995, 0.8322529235963667, 0.8451241019173852, 0.06500954630133732, 0.04339752513945182, 0.17359010055780727, 0.1487915147638348, 0.05579681803643805, 0.12399292896986233, 0.16119080766082103, 0.21078797924876597, 0.024798585793972466, 0.0371978786909587, 0.012399292896986233, 0.8043873392569629, 0.8539927542549459, 0.1295444563547778, 0.7772667381286669, 0.893788477998424, 0.045548266402150685, 0.5579662634263459, 0.2391283986112911, 0.045548266402150685, 0.034161199801613015, 0.011387066600537671, 0.022774133201075342, 0.034161199801613015, 0.022774133201075342, 0.0781579738036727, 0.019539493450918176, 0.03907898690183635, 0.058618480352754535, 0.019539493450918176, 0.23447392141101814, 0.3712503755674454, 0.13677645415642725, 0.019539493450918176, 0.11297493650009248, 0.037658312166697495, 0.5648746825004624, 0.07531662433339499, 0.18829156083348747, 0.9222679681697485, 0.7986461891746862, 0.8708177571529421, 0.913031691473192, 0.11389657009789764, 0.484060422916065, 0.02847414252447441, 0.17084485514684647, 0.08542242757342323, 0.08542242757342323, 0.747558666305509, 0.75385017500184, 0.04459689641767292, 0.5173239984450059, 0.008919379283534585, 0.008919379283534585, 0.01783875856706917, 0.07135503426827668, 0.2854201370731067, 0.026758137850603752, 0.008919379283534585, 0.01783875856706917, 0.8006529840680119, 0.13071109558856842, 0.29409996507427894, 0.06535554779428421, 0.08169443474285526, 0.08577915647999802, 0.11845693037714013, 0.09394859995428355, 0.024508330422856578, 0.0776097130057125, 0.024508330422856578, 0.09860533222691198, 0.04930266611345599, 0.05634590412966398, 0.07747561817828798, 0.07747561817828798, 0.2817295206483199, 0.21129714048623993, 0.04225942809724799, 0.07747561817828798, 0.02817295206483199, 0.7600617673179201, 0.9345500025632187, 0.19467155218256424, 0.6326825445933337, 0.14600366413692317, 0.3767689021496834, 0.013219961478936261, 0.2908391525365977, 0.1784694799656395, 0.03965988443680878, 0.04626986517627691, 0.0066099807394681305, 0.013219961478936261, 0.026439922957872522, 0.013219961478936261, 0.35979048209958686, 0.07687830814093737, 0.17835767488697468, 0.07072804348966237, 0.04612698488456242, 0.12915555767677478, 0.05227724953583741, 0.030751323256374946, 0.03997672023328743, 0.015375661628187473, 0.36204748588647573, 0.08354941981995594, 0.10443677477494492, 0.1601363879882489, 0.11139922642660792, 0.020887354954988984, 0.04177470990997797, 0.03481225825831497, 0.01392490330332599, 0.06266206486496695, 0.8622709170689528, 0.01573398955367103, 0.7080295299151964, 0.03146797910734206, 0.09440393732202619, 0.09440393732202619, 0.047201968661013095, 0.01573398955367103, 0.09751864903811794, 0.5141892403828037, 0.05319199038442796, 0.07092265384590396, 0.08865331730737994, 0.04432665865368997, 0.008865331730737995, 0.07092265384590396, 0.05319199038442796, 0.09331809067688554, 0.8398628160919699, 0.24316341754974047, 0.03473763107853435, 0.10421289323560305, 0.03473763107853435, 0.1389505243141374, 0.0694752621570687, 0.0694752621570687, 0.31263867970680914, 0.04278541640372163, 0.7701374952669894, 0.04278541640372163, 0.08557083280744326, 0.9090165917703705, 0.043286504370017645, 0.8347994598764236, 0.877604351934507, 0.7538824140711968, 0.7096662653129397, 0.2635678452416716, 0.09302394537941351, 0.02067198786209189, 0.06718396055179865, 0.12919992413807432, 0.17571189682778107, 0.08268795144836756, 0.062015963586275674, 0.07751995448284459, 0.025839984827614862, 0.7720512358781604, 0.08578347065312893, 0.08578347065312893, 0.04226699139035979, 0.05283373923794974, 0.06340048708553969, 0.010566747847589947, 0.11623422632348943, 0.2641686961897487, 0.15850121771384923, 0.04226699139035979, 0.1373677220186693, 0.10566747847589948, 0.8780853078529768, 0.8928796528683322, 0.7417884738803286, 0.7420177898354938, 0.05096479956060019, 0.20385919824240076, 0.5096479956060019, 0.05096479956060019, 0.025482399780300095, 0.025482399780300095, 0.10192959912120038, 0.8001701862607508, 0.1274248439502859, 0.09556863296271442, 0.03185621098757147, 0.09556863296271442, 0.5096993758011436, 0.03185621098757147, 0.06371242197514294, 0.8349555868559513, 0.16509471307737159, 0.08254735653868579, 0.09802498588968937, 0.08254735653868579, 0.07738814675501793, 0.16509471307737159, 0.12382103480802868, 0.056751307620346476, 0.1083434054570251, 0.041273678269342896, 0.7942641967905685, 0.11713702322571212, 0.15618269763428283, 0.2049897906449962, 0.09273347672035542, 0.09761418602142677, 0.08297205811821275, 0.06832993021499874, 0.08297205811821275, 0.07809134881714141, 0.019522837204285354, 0.215427825522222, 0.07180927517407401, 0.6462834765666661, 0.8512804687567755, 0.1656404612046237, 0.10812641217524047, 0.04831180118468191, 0.16103933728227304, 0.174842709049325, 0.08282023060231185, 0.06211517295173388, 0.11272753609759112, 0.055213487068207896, 0.027606743534103948, 0.7596861849310069, 0.015900040565823833, 0.09540024339494299, 0.22260056792153365, 0.5088012981063627, 0.06360016226329533, 0.031800081131647666, 0.015900040565823833, 0.015900040565823833, 0.015900040565823833, 0.031800081131647666, 0.9064052561767508, 0.9346182062671159, 0.09912133219749787, 0.1872291830397182, 0.022026962710555084, 0.05506740677638771, 0.14317525761860803, 0.3193909593030487, 0.05506740677638771, 0.04405392542111017, 0.06608088813166525, 0.1777590975997464, 0.7110363903989856, 0.6092406323286511, 0.05077005269405426, 0.06769340359207235, 0.15231015808216278, 0.016923350898018087, 0.05077005269405426, 0.033846701796036174, 0.033846701796036174, 0.13840527804011965, 0.8304316682407179, 0.06920263902005983, 0.7470770003870646, 0.0339580454721393, 0.1018741364164179, 0.0679160909442786, 0.0339580454721393, 0.7596784885000206, 0.07569118912983089, 0.7569118912983088, 0.07569118912983089, 0.07569118912983089, 0.08603911203123127, 0.14454570821246854, 0.15142883717496702, 0.13766257924997002, 0.11357162788122528, 0.15142883717496702, 0.06538972514373577, 0.07227285410623427, 0.04818190273748951, 0.027532515849994006, 0.1642741375910735, 0.11528009655513931, 0.11239809414126083, 0.10951609172738234, 0.12104410138289627, 0.09510607965798992, 0.0979880820718684, 0.08069606758859751, 0.06340405310532662, 0.04034803379429876, 0.16203086893050667, 0.04050771723262667, 0.1035197218167126, 0.10802057928700445, 0.09901886434642075, 0.22054201604430076, 0.1395265815790474, 0.022504287351459262, 0.0945180068761289, 0.004500857470291852, 0.9140483567904806, 0.8751643237705722, 0.05469777023566076, 0.7134606816870792, 0.7797581334794632, 0.8488037272631788, 0.8459152353691688, 0.09399058170768541, 0.11821493655516509, 0.7092896193309904, 0.059107468277582544, 0.059107468277582544, 0.025145518328654946, 0.6286379582163737, 0.025145518328654946, 0.2514551832865495, 0.05029103665730989, 0.7963188610250997, 0.07963188610250997, 0.07963188610250997, 0.8051611624853433, 0.13413023997651086, 0.13413023997651086, 0.04471007999217028, 0.04471007999217028, 0.5812310398982137, 0.04471007999217028, 0.8420809378247041, 0.30109508918959876, 0.037636886148699845, 0.037636886148699845, 0.5269164060817978, 0.037636886148699845, 0.3016602009563202, 0.11312257535862007, 0.03770752511954002, 0.45249030143448027, 0.07541505023908004, 0.11198150134746816, 0.015997357335352593, 0.19196828802423113, 0.511915434731283, 0.04799207200605778, 0.031994714670705186, 0.06398942934141037, 0.015997357335352593, 0.7794713250987615, 0.7599406260661513, 0.9308233764101999, 0.7940598787542889, 0.17487421446425105, 0.03886093654761135, 0.02914570241070851, 0.30117225824398797, 0.1845894486011539, 0.03886093654761135, 0.1554437461904454, 0.019430468273805675, 0.03886093654761135, 0.1365917771024026, 0.04553059236746754, 0.4553059236746754, 0.31871414657227276, 0.02276529618373377, 0.8798769418039507, 0.8883454478138105, 0.040026812591248184, 0.6004021888687228, 0.2001340629562409, 0.08005362518249637, 0.17719568218828105, 0.19858136796962533, 0.09776313500043093, 0.11303862484424826, 0.137479408594356, 0.06415705734403279, 0.045826469531452, 0.0733223512503232, 0.04888156750021547, 0.04277137156268853, 0.7590784754198914, 0.6243734124742013, 0.8004425191318283, 0.12649971566040122, 0.7589982939624074, 0.7937423813270056, 0.8933847516513053, 0.819801641252639, 0.0793590508347334, 0.7935905083473339, 0.11008085449468312, 0.2568553271542606, 0.03669361816489437, 0.07338723632978875, 0.4403234179787325, 0.03669361816489437, 0.1776366415451319, 0.122979213377399, 0.13664357041933223, 0.1776366415451319, 0.06832178520966611, 0.04099307112579967, 0.245958426754798, 0.04099307112579967, 0.893543973203247, 0.7984999075022219, 0.1581749578578264, 0.5377948567166098, 0.0790874789289132, 0.06326998314313056, 0.01581749578578264, 0.06326998314313056, 0.03163499157156528, 0.047452487357347924, 0.09669014523889503, 0.5317957988139227, 0.1692077541680663, 0.02417253630972376, 0.12086268154861879, 0.02417253630972376, 0.02417253630972376, 0.02417253630972376, 0.05309720617339215, 0.026548603086696074, 0.7699094895141863, 0.1061944123467843, 0.026548603086696074, 0.07747319255995569, 0.6972587330396012, 0.15494638511991138, 0.8313714677810546, 0.8964844828988935, 0.07470704024157446, 0.2682119195301789, 0.04876580355094162, 0.02438290177547081, 0.6095725443867703, 0.02438290177547081, 0.02438290177547081, 0.08038163124503403, 0.053587754163356024, 0.13396938540839007, 0.10717550832671205, 0.37511427914349216, 0.026793877081678012, 0.09377856978587304, 0.013396938540839006, 0.09377856978587304, 0.026793877081678012, 0.03818587152765624, 0.01909293576382812, 0.01909293576382812, 0.4964163298595311, 0.22911522916593743, 0.01909293576382812, 0.11455761458296872, 0.05727880729148436, 0.8721145159004533, 0.6100306417681511, 0.10893404317288413, 0.04357361726915365, 0.10893404317288413, 0.04357361726915365, 0.021786808634576826, 0.04357361726915365, 0.8049760059393948, 0.7592874313105559, 0.04288285843022298, 0.02680178651888936, 0.06968464494911233, 0.02680178651888936, 0.19297286293600338, 0.27337822249267146, 0.19833322023978125, 0.02144142921511149, 0.10184678877177956, 0.048243215734000845, 0.01403044182430881, 0.04209132547292643, 0.09821309277016167, 0.09821309277016167, 0.09821309277016167, 0.3086697201347938, 0.21045662736463217, 0.08418265094585287, 0.04209132547292643, 0.9433810168319837, 0.8339331857125922, 0.9148298062747654, 0.18322646562761957, 0.11062730000158162, 0.14174122812702647, 0.08988468125128507, 0.10371309375148277, 0.0795133718761368, 0.12791281562682877, 0.07605626875108737, 0.044942340625642535, 0.04148523750059311, 0.1135535852724338, 0.7948750969070365, 0.12398248212937095, 0.053135349484016124, 0.08855891580669353, 0.3099562053234274, 0.035423566322677416, 0.017711783161338708, 0.07970302422602418, 0.07970302422602418, 0.16826194003271772, 0.035423566322677416, 0.05024958758218349, 0.05024958758218349, 0.030149752549310092, 0.04019967006574679, 0.07034942261505688, 0.2612978554273541, 0.30149752549310094, 0.010049917516436697, 0.13064892771367706, 0.05024958758218349, 0.8053002273973886, 0.28679062329595384, 0.007966406202665385, 0.24695859228262693, 0.08763046822931923, 0.11152968683731539, 0.01593281240533077, 0.12746249924264616, 0.05576484341865769, 0.03186562481066154, 0.01593281240533077, 0.14150228212360047, 0.07337155369371876, 0.14150228212360047, 0.23583713687266744, 0.08385320422139286, 0.09433485474906697, 0.07337155369371876, 0.02620412631918527, 0.11005733054057813, 0.015722475791511162, 0.34593740799079614, 0.04363174515199231, 0.10284625642969615, 0.2056925128593923, 0.1246621290056923, 0.012466212900569231, 0.07168072417827308, 0.024932425801138462, 0.031165532251423076, 0.03739863870170769, 0.8223492176369978, 0.10279365220462472, 0.0946724828499891, 0.07889373570832425, 0.23668120712497276, 0.1367491418944287, 0.0841533180888792, 0.03681707666388465, 0.0525958238055495, 0.1472683066555386, 0.1262299771333188, 0.0105191647611099, 0.026606575230961316, 0.06651643807740329, 0.05321315046192263, 0.07981972569288395, 0.10642630092384527, 0.13303287615480658, 0.3857953408489391, 0.013303287615480658, 0.07981972569288395, 0.05321315046192263, 0.09076622628078305, 0.09076622628078305, 0.7261298102462644, 0.6180926525061143, 0.03548857334963336, 0.06801976558679727, 0.15378381784841122, 0.00887214333740834, 0.032531192237163914, 0.011829524449877785, 0.02661643001222502, 0.04140333557457225, 0.0029573811124694463, 0.7765718646932784, 0.11648577970399177, 0.03882859323466392, 0.03882859323466392, 0.9140953968416641, 0.17000993533604167, 0.11333995689069445, 0.6800397413441667, 0.8396980811101483, 0.1218918380362999, 0.09345040916116325, 0.1218918380362999, 0.09345040916116325, 0.19096387959020317, 0.15033326691143653, 0.06094591901814995, 0.11782877676842322, 0.036567551410889965, 0.012189183803629988, 0.9082311029613677, 0.06487365021152626, 0.23527120448045885, 0.0560169534477283, 0.0560169534477283, 0.044813562758182636, 0.08962712551636527, 0.0560169534477283, 0.3136949393072785, 0.022406781379091318, 0.07842373482681962, 0.044813562758182636, 0.8979829079071798, 0.14999137235109636, 0.10095573139016101, 0.12691577660477385, 0.12403132713648353, 0.0807645851121288, 0.13556912500964477, 0.08941793351699975, 0.07499568617554818, 0.07499568617554818, 0.04615119149264503, 0.16843427926856508, 0.05614475975618836, 0.15439808932951798, 0.12632570945142382, 0.09825332957332963, 0.12632570945142382, 0.05614475975618836, 0.01403618993904709, 0.02807237987809418, 0.16843427926856508, 0.8885366431796656, 0.047339645163622886, 0.09467929032724577, 0.09467929032724577, 0.7100946774543433, 0.01035475797592396, 0.22780467547032715, 0.507383140820274, 0.01035475797592396, 0.04141903190369584, 0.02070951595184792, 0.01035475797592396, 0.13461185368701148, 0.02070951595184792, 0.02070951595184792, 0.1194514228040151, 0.07394611887867601, 0.11376325981334771, 0.03412897794400432, 0.11376325981334771, 0.15358040074801943, 0.2389028456080302, 0.03412897794400432, 0.09101060785067817, 0.022752651962669544, 0.3574037637344403, 0.11913458791148011, 0.47653835164592045, 0.023826917582296023, 0.28962224954562527, 0.49879387421746574, 0.04827037492427088, 0.06436049989902784, 0.01609012497475696, 0.04827037492427088, 0.01609012497475696, 0.12108005308756757, 0.12108005308756757, 0.045405019907837844, 0.18162007963135138, 0.09081003981567569, 0.09081003981567569, 0.10594504645162163, 0.09081003981567569, 0.15135006635945947, 0.1125386951035509, 0.7877708657248562, 0.23856412003131647, 0.05964103000782912, 0.6560513300861203, 0.8042591501542475, 0.7596505852584166, 0.8947027157573975, 0.022867605488091386, 0.21724225213686818, 0.5716901372022847, 0.022867605488091386, 0.04573521097618277, 0.022867605488091386, 0.011433802744045693, 0.06860281646427416, 0.011433802744045693, 0.06441518371793185, 0.6119442453203526, 0.03220759185896593, 0.03220759185896593, 0.09662277557689779, 0.03220759185896593, 0.03220759185896593, 0.03220759185896593, 0.06441518371793185, 0.17686155569130618, 0.7074462227652247, 0.8675087904801136, 0.10313702058967233, 0.05156851029483617, 0.05156851029483617, 0.7735276544225426, 0.10112310070653696, 0.10112310070653696, 0.7078617049457587, 0.3249412588811591, 0.19933371343129927, 0.0873791620520764, 0.084648563237949, 0.133799341892242, 0.0218447905130191, 0.032767185769528646, 0.01092239525650955, 0.09284035968033116, 0.01092239525650955, 0.2990380928035924, 0.12399140433319686, 0.1021105682743974, 0.05470209014699861, 0.1823403004899954, 0.07293612019599816, 0.040114866107798984, 0.01823403004899954, 0.0984637622645975, 0.0036468060097999077, 0.5764884018352645, 0.036409793800121965, 0.04854639173349596, 0.036409793800121965, 0.14563917520048786, 0.030341494833434974, 0.04854639173349596, 0.030341494833434974, 0.02427319586674798, 0.030341494833434974, 0.6510369259312001, 0.07511964529975386, 0.06259970441646154, 0.12519940883292308, 0.02503988176658462, 0.03755982264987693, 0.02503988176658462, 0.7517629331919321, 0.8365036630965113, 0.11304103555358261, 0.8350497481328617, 0.18470341948860952, 0.12313561299240636, 0.6156780649620317, 0.07610927949984321, 0.17441709885380738, 0.07610927949984321, 0.07610927949984321, 0.19344441872876816, 0.07610927949984321, 0.09513659937480402, 0.10465025931228442, 0.11733513922892495, 0.009513659937480401, 0.16913123635977562, 0.16045783962337687, 0.14311104615057937, 0.08239726899578813, 0.11709085594138313, 0.13010095104598127, 0.03903028531379438, 0.06938717389119001, 0.0520403804183925, 0.034693586945595004, 0.032648410078701985, 0.12243153779513244, 0.13059364031480794, 0.06529682015740397, 0.15507994787383442, 0.4652398436215033, 0.016324205039350993, 0.008162102519675496, 0.0629442605387455, 0.37766556323247297, 0.44060982377121843, 0.012373665634809648, 0.841409263167056, 0.012373665634809648, 0.012373665634809648, 0.012373665634809648, 0.09898932507847719, 0.012373665634809648, 0.15541674585570586, 0.12811380401619, 0.161717424741748, 0.15121629326501113, 0.07980859922320031, 0.07560814663250556, 0.06930746774646343, 0.07770837292785293, 0.05670610997437917, 0.04200452590694753, 0.03279682929560078, 0.8199207323900195, 0.03279682929560078, 0.03279682929560078, 0.03279682929560078, 0.03279682929560078, 0.8936640770188409, 0.710806983247807, 0.07480968454264274, 0.8229065299690702, 0.19550237007480434, 0.06516745669160144, 0.6516745669160144, 0.911315683784094, 0.7590768827728586, 0.893606537391138, 0.7531341277682395, 0.6579824406065675, 0.29243664026958555, 0.02436972002246546, 0.6959224168754168, 0.2420599710871015, 0.04512303571425604, 0.7670916071423528, 0.04512303571425604, 0.13536910714276815, 0.16611810959275708, 0.11283494236489161, 0.1817896293656587, 0.10970063841031129, 0.09089481468282935, 0.07835759886450806, 0.11283494236489161, 0.06582038304618677, 0.0689546870007671, 0.018805823727481935, 0.8422900194076466, 0.7511389270841219, 0.9118116374509689, 0.174949768281017, 0.174949768281017, 0.5248493048430509, 0.03309636741032685, 0.03309636741032685, 0.3971564089239222, 0.04964455111549027, 0.09928910223098054, 0.04964455111549027, 0.04964455111549027, 0.03309636741032685, 0.23167457187228793, 0.03309636741032685, 0.04280342685608915, 0.0856068537121783, 0.0856068537121783, 0.0856068537121783, 0.04280342685608915, 0.12841028056826745, 0.5136411222730698, 0.17309141644116294, 0.12090944530816529, 0.11200032828545838, 0.1183639833016776, 0.11072759728221453, 0.12090944530816529, 0.09800028724977608, 0.040727392103803044, 0.06490928116543611, 0.04200012310704689, 0.9267246511835799, 0.7942516064917146, 0.3710121195731483, 0.14970664474004228, 0.019526953661744645, 0.13017969107829763, 0.03905390732348929, 0.110652737416553, 0.10414375286263812, 0.02603593821565953, 0.03254492276957441, 0.019526953661744645, 0.052419520777594986, 0.15725856233278496, 0.09735053858696212, 0.07488502968227856, 0.1722355682692407, 0.2171665860786078, 0.0673965267140507, 0.07488502968227856, 0.059908023745822846, 0.029954011872911423, 0.12160149838084647, 0.12160149838084647, 0.12160149838084647, 0.6080074919042324, 0.26377882638423455, 0.6594470659605864, 0.6342739081507327, 0.0166914186355456, 0.0667656745421824, 0.0667656745421824, 0.0333828372710912, 0.083457093177728, 0.0333828372710912, 0.0333828372710912, 0.0166914186355456, 0.16203658074491006, 0.09931274303720294, 0.0784047971346339, 0.15158260779362553, 0.1045397295128452, 0.16203658074491006, 0.1045397295128452, 0.04181589180513808, 0.07317781065899163, 0.02090794590256904, 0.149335424211433, 0.13600190419255506, 0.1733357602454133, 0.1013347521434724, 0.06666760009438974, 0.07200100810194092, 0.08266782411704326, 0.12800179218122829, 0.03466715204908266, 0.05866748808306296, 0.08320171524796416, 0.06051033836215575, 0.04538275377161681, 0.15883963820065883, 0.23447756115335353, 0.06807413065742522, 0.12858446901958095, 0.04538275377161681, 0.10589309213377256, 0.06807413065742522, 0.30299062701765006, 0.04447568836956331, 0.09451083778532203, 0.23071763341710969, 0.07505272412363809, 0.030577035754074777, 0.11674868197010368, 0.03335676627717248, 0.047255418892661015, 0.025017574707879364, 0.7120890213668201, 0.12511302494247523, 0.7506781496548515, 0.01581392337990034, 0.06325569351960136, 0.25302277407840545, 0.1581392337990034, 0.04744177013970102, 0.06325569351960136, 0.04744177013970102, 0.3162784675980068, 0.01581392337990034, 0.05285984997416612, 0.845757599586658, 0.18707377369946335, 0.05542926628132247, 0.20785974855495926, 0.04157194971099185, 0.048500607996157165, 0.04157194971099185, 0.24943169826595113, 0.04157194971099185, 0.09007255770714902, 0.04157194971099185, 0.10781628784440564, 0.7547140149108394, 0.8008596280486472, 0.8412253270807021, 0.7605471048827978, 0.7998220513426159, 0.12994182575604377, 0.6063951868615376, 0.04331394191868125, 0.04331394191868125, 0.12994182575604377, 0.07472456045590391, 0.4732555495540581, 0.07472456045590391, 0.08717865386522122, 0.049816373637269276, 0.037362280227951954, 0.049816373637269276, 0.09963274727453855, 0.024908186818634638, 0.024908186818634638, 0.711103762654172, 0.17091223594139007, 0.16420979531623753, 0.10221221953357641, 0.14075125312820358, 0.11226588047130524, 0.06702440625152552, 0.05864635547008483, 0.0837805078144069, 0.07205123672038993, 0.030160982813186483, 0.8209902690636508, 0.07463547900578645, 0.8409155601696909, 0.7854607292397782, 0.043636707179987674, 0.13091012153996304, 0.07581392078484472, 0.07581392078484472, 0.07581392078484472, 0.6823252870636025, 0.07581392078484472, 0.8003911934951179, 0.09392387752267613, 0.1408858162840142, 0.5635432651360568, 0.046961938761338064, 0.09392387752267613, 0.6249670291533911, 0.8593817295350555, 0.10416748236788552, 0.02604187059197138, 0.9111385731693328, 0.8405600605682759, 0.8473945758422544, 0.05649297172281696, 0.02824648586140848, 0.05649297172281696, 0.7459210839015724, 0.8382835807977669, 0.025318587053647406, 0.6329646763411851, 0.025318587053647406, 0.05063717410729481, 0.25318587053647407, 0.20905611845839422, 0.3344897895334308, 0.13588647699795625, 0.06271683553751826, 0.07316964146043799, 0.052264029614598556, 0.020905611845839424, 0.06271683553751826, 0.04181122369167885, 0.010452805922919712, 0.624905071888319, 0.8519386667071279, 0.7589978861404675, 0.031184074420095065, 0.7484177860822816, 0.06236814884019013, 0.12473629768038026, 0.25244752929712855, 0.08512765522810149, 0.14677181935879569, 0.11154658271268471, 0.10861114632550879, 0.052837854969166445, 0.11154658271268471, 0.03816067303328687, 0.07925678245374966, 0.01761261832305548, 0.8019850815192765, 0.05398902745551177, 0.09718024941992119, 0.17276488785763766, 0.10797805491102354, 0.1187758604021259, 0.043191221964409415, 0.26994513727755887, 0.010797805491102354, 0.1187758604021259, 0.010797805491102354, 0.14599278541605687, 0.04866426180535229, 0.06083032725669037, 0.024332130902676146, 0.23115524357542339, 0.06083032725669037, 0.23115524357542339, 0.012166065451338073, 0.04866426180535229, 0.13382671996471882, 0.08644422639769095, 0.08644422639769095, 0.734775924380373, 0.08644422639769095, 0.05287982095811398, 0.8460771353298236, 0.6244928983338303, 0.8722629025903202, 0.6502476121572529, 0.05823112944691817, 0.048525941205765144, 0.03882075296461211, 0.029115564723459084, 0.009705188241153028, 0.15528301185844845, 0.009705188241153028, 0.8753062265528597, 0.7945775144864167, 0.11351107349805951, 0.7515822218169543, 0.6810375047858991, 0.08172450057430788, 0.08172450057430788, 0.027241500191435963, 0.027241500191435963, 0.08172450057430788, 0.027241500191435963, 0.07530111576440575, 0.09681572026852167, 0.03227190675617389, 0.1183303247726376, 0.10757302252057964, 0.1828741382849854, 0.010757302252057963, 0.3442336720658548, 0.03227190675617389, 0.010757302252057963, 0.04342649175521636, 0.02171324587760818, 0.47769140930737997, 0.43426491755216357, 0.05322715406679789, 0.05322715406679789, 0.7984073110019684, 0.05322715406679789, 0.0328684593319227, 0.1314738373276908, 0.0986053779957681, 0.0657369186638454, 0.1643422966596135, 0.0657369186638454, 0.4272899713149951, 0.029704149370218917, 0.029704149370218917, 0.0742603734255473, 0.1782248962213135, 0.08911244811065674, 0.49011846460861214, 0.059408298740437834, 0.04455622405532837, 0.7519762846836572, 0.8137058889936091, 0.026139859472354553, 0.20911887577883642, 0.43566432453924253, 0.0043566432453924255, 0.05663636219010153, 0.052279718944709105, 0.030496502717746978, 0.1568391568341273, 0.017426572981569702, 0.013069929736177276, 0.8693258653852493, 0.8732195988085584, 0.9383007932277168, 0.13485993512554914, 0.10114495134416185, 0.7417296431905203, 0.848922300896751, 0.06530171545359624, 0.8532234090840697, 0.1555459324279844, 0.7777296621399219, 0.800348651140421, 0.7476577350331662, 0.7495517406201376, 0.712320227065602, 0.8359703084629013, 0.8588673302521467, 0.7592693451246226, 0.8496858766727058, 0.06536045205174659, 0.1182236061585624, 0.7093416369513744, 0.0591118030792812, 0.0591118030792812, 0.8721336946561158, 0.8345916055694574, 0.8802072640688778, 0.5592650051125697, 0.018958135766527787, 0.07583254306611115, 0.09479067883263895, 0.028437203649791683, 0.047395339416319474, 0.009479067883263893, 0.10426974671590283, 0.03791627153305557, 0.018958135766527787, 0.8009050269526332, 0.06620803605925782, 0.728288396651836, 0.13241607211851564, 0.06620803605925782, 0.7556965460830349, 0.8545228327146763, 0.8863077306750119, 0.0377152225819154, 0.0377152225819154, 0.0188576112909577, 0.8882121155362265, 0.10162336870608753, 0.07082840849212162, 0.12317984085586368, 0.08314639257770798, 0.14473631300563983, 0.09854387268469095, 0.20940572945496824, 0.01539748010698296, 0.13549782494145005, 0.021556472149776143, 0.148134274280982, 0.74067137140491, 0.7371449184849203, 0.019922835634727572, 0.07969134253891029, 0.139459849443093, 0.8386080963051179, 0.8751704275081745, 0.9146509293830566, 0.12447164700704018, 0.7468298820422411, 0.11126746633069168, 0.7788722643148417, 0.7476710142651041, 0.7447845365207552, 0.04137691869559751, 0.16550767478239004, 0.04137691869559751, 0.07432394603780114, 0.07432394603780114, 0.8175634064158125, 0.022222449863172206, 0.055556124657930514, 0.12222347424744713, 0.23333572356330815, 0.11111224931586103, 0.28889184822123865, 0.07777857452110272, 0.022222449863172206, 0.06666734958951662, 0.022222449863172206, 0.747613849681669, 0.872492389082827, 0.049626271808729076, 0.12406567952182268, 0.17369195133055176, 0.12406567952182268, 0.024813135904364538, 0.049626271808729076, 0.4218233103741971, 0.024813135904364538, 0.09374653465245981, 0.7968455445459084, 0.04687326732622991, 0.22360305170429387, 0.6708091551128815, 0.07453435056809796, 0.838899959737019, 0.20426264642445044, 0.10213132321222522, 0.6127879392733513, 0.8927297200203872, 0.10329663831138544, 0.645603989446159, 0.07747247873353909, 0.07747247873353909, 0.05164831915569272, 0.02582415957784636, 0.8633985828477527, 0.8945949994373106, 0.1608335277005638, 0.804167638502819, 0.10328891700148267, 0.8263113360118614, 0.20260049642409544, 0.16208039713927636, 0.12156029785445728, 0.09904913158511333, 0.08104019856963818, 0.049524565792556666, 0.08104019856963818, 0.11705806460058849, 0.05852903230029424, 0.03151563277708152, 0.19978920412211695, 0.1123075407787048, 0.09693914046161888, 0.11703627933780816, 0.12176501789691152, 0.09930350974117055, 0.1063966175798256, 0.02600806207506848, 0.08157074014453296, 0.04019427775237856], \"Term\": [\"airbus\", \"airbus\", \"airbus\", \"alitalia\", \"alitalia\", \"alma\", \"american\", \"american\", \"american\", \"anglo\", \"anglogold\", \"ashanti\", \"asian\", \"attitude\", \"canonical\", \"cedc\", \"current\", \"dayz\", \"dead\", \"dead\", \"destiny\", \"dreamliner\", \"exynos\", \"fallout\", \"foreign\", \"gamestick\", \"generali\", \"glock\", \"google\", \"google\", \"google\", \"google\", \"google\", \"google\", \"google\", \"haim\", \"happy\", \"health\", \"herbalife\", \"idol\", \"intel\", \"kalina\", \"kickstarter\", \"kickstarter\", \"kickstarter\", \"kickstarter\", \"lada\", \"lamborghini\", \"linkedin\", \"linkedin\", \"marks\", \"minecraft\", \"mirax\", \"mrtt\", \"nintendo\", \"nirvana\", \"octa\", \"osprey\", \"ouya\", \"ozon\", \"piston\", \"planescape\", \"playjam\", \"pokemon\", \"policy\", \"public\", \"remedy\", \"rising\", \"rush\", \"seastreak\", \"shepherds\", \"sotheby\", \"southern\", \"southern\", \"spencer\", \"starbucks\", \"steam\", \"taco\", \"tegra\", \"tegra\", \"tegra\", \"trust\", \"twitter\", \"twitter\", \"twitter\", \"twitter\", \"ubisoft\", \"ubuntu\", \"ubuntu\", \"ultra\", \"valve\", \"weekly\", \"weekly\", \"weekly\", \"wegelin\", \"xperia\", \"\\u0430\\u0431\", \"\\u0430\\u0431\\u0438\\u0435\\u0432\", \"\\u0430\\u0432\\u0430\\u0440\", \"\\u0430\\u0432\\u0430\\u0440\", \"\\u0430\\u0432\\u0430\\u0440\", \"\\u0430\\u0432\\u0430\\u0440\", \"\\u0430\\u0432\\u0430\\u0440\", \"\\u0430\\u0432\\u0430\\u0440\", \"\\u0430\\u0432\\u0430\\u0440\", \"\\u0430\\u0432\\u0430\\u0440\", \"\\u0430\\u0432\\u0438\\u0430\\u043a\\u043e\\u043c\\u043f\\u0430\\u043d\", \"\\u0430\\u0432\\u0438\\u0430\\u043a\\u043e\\u043c\\u043f\\u0430\\u043d\", \"\\u0430\\u0432\\u0438\\u0430\\u043a\\u043e\\u043c\\u043f\\u0430\\u043d\", \"\\u0430\\u0432\\u0438\\u0430\\u043a\\u043e\\u043c\\u043f\\u0430\\u043d\", \"\\u0430\\u0432\\u0438\\u0430\\u043a\\u043e\\u043c\\u043f\\u0430\\u043d\", \"\\u0430\\u0432\\u0438\\u0430\\u043a\\u043e\\u043c\\u043f\\u0430\\u043d\", \"\\u0430\\u0432\\u0438\\u0430\\u043a\\u043e\\u043c\\u043f\\u0430\\u043d\", \"\\u0430\\u0432\\u0438\\u0430\\u043a\\u043e\\u043c\\u043f\\u0430\\u043d\", \"\\u0430\\u0432\\u0438\\u0441\\u043c\", \"\\u0430\\u0432\\u0442\\u043e\\u0431\\u0443\\u0441\", \"\\u0430\\u0432\\u0442\\u043e\\u0431\\u0443\\u0441\", \"\\u0430\\u0432\\u0442\\u043e\\u0431\\u0443\\u0441\", \"\\u0430\\u0432\\u0442\\u043e\\u0431\\u0443\\u0441\", \"\\u0430\\u0432\\u0442\\u043e\\u0431\\u0443\\u0441\", \"\\u0430\\u0432\\u0442\\u043e\\u0431\\u0443\\u0441\", \"\\u0430\\u0432\\u0442\\u043e\\u0432\\u0430\\u0437\", \"\\u0430\\u0434\\u0430\\u0433\\u0430\\u043c\", \"\\u0430\\u0434\\u0430\\u0433\\u0430\\u043c\", \"\\u0430\\u0434\\u0430\\u0433\\u0430\\u043c\", \"\\u0430\\u0434\\u0430\\u0433\\u0430\\u043c\", \"\\u0430\\u0434\\u0430\\u0433\\u0430\\u043c\\u043e\\u0432\", \"\\u0430\\u0434\\u0430\\u0433\\u0430\\u043c\\u043e\\u0432\", \"\\u0430\\u0434\\u0430\\u0433\\u0430\\u043c\\u043e\\u0432\", \"\\u0430\\u0434\\u0430\\u0433\\u0430\\u043c\\u043e\\u0432\", \"\\u0430\\u0434\\u0430\\u0433\\u0430\\u043c\\u043e\\u0432\", \"\\u0430\\u043a\\u0442\\u0435\\u0440\", \"\\u0430\\u043a\\u0442\\u0435\\u0440\", \"\\u0430\\u043a\\u0442\\u0435\\u0440\", \"\\u0430\\u043a\\u0442\\u0435\\u0440\", \"\\u0430\\u043a\\u0442\\u0435\\u0440\", \"\\u0430\\u043a\\u0442\\u0435\\u0440\", \"\\u0430\\u043a\\u0442\\u0435\\u0440\", \"\\u0430\\u043a\\u0442\\u0435\\u0440\", \"\\u0430\\u043a\\u0446\", \"\\u0430\\u043a\\u0446\", \"\\u0430\\u043a\\u0446\", \"\\u0430\\u043a\\u0446\", \"\\u0430\\u043a\\u0446\", \"\\u0430\\u043a\\u0446\", \"\\u0430\\u043a\\u0446\", \"\\u0430\\u043a\\u0446\", \"\\u0430\\u043a\\u0446\", \"\\u0430\\u043a\\u0446\", \"\\u0430\\u043c\\u0435\\u0440\\u0438\\u043a\\u0430\\u043d\\u0441\\u043a\", \"\\u0430\\u043c\\u0435\\u0440\\u0438\\u043a\\u0430\\u043d\\u0441\\u043a\", \"\\u0430\\u043c\\u0435\\u0440\\u0438\\u043a\\u0430\\u043d\\u0441\\u043a\", \"\\u0430\\u043c\\u0435\\u0440\\u0438\\u043a\\u0430\\u043d\\u0441\\u043a\", \"\\u0430\\u043c\\u0435\\u0440\\u0438\\u043a\\u0430\\u043d\\u0441\\u043a\", \"\\u0430\\u043c\\u0435\\u0440\\u0438\\u043a\\u0430\\u043d\\u0441\\u043a\", \"\\u0430\\u043c\\u0435\\u0440\\u0438\\u043a\\u0430\\u043d\\u0441\\u043a\", \"\\u0430\\u043c\\u0435\\u0440\\u0438\\u043a\\u0430\\u043d\\u0441\\u043a\", \"\\u0430\\u043c\\u0435\\u0440\\u0438\\u043a\\u0430\\u043d\\u0441\\u043a\", \"\\u0430\\u043c\\u0435\\u0440\\u0438\\u043a\\u0430\\u043d\\u0441\\u043a\", \"\\u0430\\u043c\\u0438\\u043d\\u043e\\u043a\\u0438\\u0441\\u043b\\u043e\\u0442\", \"\\u0430\\u043c\\u0443\\u0440\", \"\\u0430\\u043c\\u0443\\u0440\", \"\\u0430\\u043d\\u0433\\u043b\\u0438\\u043a\\u0430\\u043d\\u0441\\u043a\", \"\\u0430\\u043d\\u0442\\u0430\\u0440\\u043a\\u0442\\u0438\\u0447\\u0435\\u0441\\u043a\", \"\\u0430\\u043d\\u0442\\u0438\\u0442\\u0430\\u0431\\u0430\\u0447\\u043d\", \"\\u0430\\u043f\\u043e\\u0444\\u0438\\u0441\", \"\\u0430\\u0440\\u0431\\u0443\\u0437\\u043e\\u0432\", \"\\u0430\\u0440\\u0433\\u0435\\u043d\\u0442\\u0438\\u043d\", \"\\u0430\\u0440\\u043c\\u0441\\u0442\\u0440\\u043e\\u043d\\u0433\", \"\\u0430\\u0440\\u043d\", \"\\u0430\\u0442\\u0442\\u0440\\u0430\\u043a\\u0446\\u0438\\u043e\\u043d\", \"\\u0430\\u044d\\u0440\\u043e\\u043f\\u043e\\u0440\\u0442\", \"\\u0430\\u044d\\u0440\\u043e\\u043f\\u043e\\u0440\\u0442\", \"\\u0430\\u044d\\u0440\\u043e\\u043f\\u043e\\u0440\\u0442\", \"\\u0430\\u044d\\u0440\\u043e\\u043f\\u043e\\u0440\\u0442\", \"\\u0430\\u044d\\u0440\\u043e\\u043f\\u043e\\u0440\\u0442\", \"\\u0430\\u044d\\u0440\\u043e\\u043f\\u043e\\u0440\\u0442\", \"\\u0430\\u044d\\u0440\\u043e\\u043f\\u043e\\u0440\\u0442\", \"\\u0430\\u044d\\u0440\\u043e\\u0441\\u0432\", \"\\u0430\\u044d\\u0440\\u043e\\u0441\\u0432\", \"\\u0430\\u044d\\u0440\\u043e\\u0441\\u0432\\u0438\\u0442\", \"\\u0430\\u044d\\u0440\\u043e\\u0441\\u0432\\u0438\\u0442\", \"\\u0431\\u0430\\u0432\\u0430\\u0440\", \"\\u0431\\u0430\\u043b\\u043e\\u0442\\u0435\\u043b\\u043b\", \"\\u0431\\u0430\\u043d\\u0434\\u0435\\u0440\", \"\\u0431\\u0430\\u0442\\u0430\\u0441\\u0443\\u043d\", \"\\u0431\\u0430\\u0442\\u043a\\u0435\\u043d\\u0441\\u043a\", \"\\u0431\\u0430\\u0444\\u0444\\u0435\\u0442\", \"\\u0431\\u0435\\u0439\\u043d\\u0435\\u0440\", \"\\u0431\\u0435\\u043b\\u0443\\u0434\\u0436\\u0438\\u0441\\u0442\\u0430\", \"\\u0431\\u0435\\u043b\\u044c\\u0433\", \"\\u0431\\u0435\\u043b\\u044c\\u0433\", \"\\u0431\\u0435\\u043b\\u044c\\u0433\\u0438\\u0439\\u0441\\u043a\", \"\\u0431\\u0435\\u043b\\u044c\\u0433\\u0438\\u0439\\u0441\\u043a\", \"\\u0431\\u0435\\u043d\\u0430\\u0431\", \"\\u0431\\u0438\\u0430\\u0442\\u043b\\u043e\\u043d\", \"\\u0431\\u0438\\u0430\\u0442\\u043b\\u043e\\u043d\\u0438\\u0441\\u0442\", \"\\u0431\\u0438\\u0431\\u0435\\u0440\", \"\\u0431\\u0438\\u0431\\u0435\\u0440\", \"\\u0431\\u0438\\u0431\\u0435\\u0440\", \"\\u0431\\u043b\\u0430\\u0435\\u0440\", \"\\u0431\\u043b\\u043e\\u043a\", \"\\u0431\\u043b\\u043e\\u043a\", \"\\u0431\\u043b\\u043e\\u043a\", \"\\u0431\\u043b\\u043e\\u043a\", \"\\u0431\\u043b\\u043e\\u043a\", \"\\u0431\\u043e\\u043a\", \"\\u0431\\u043e\\u043a\", \"\\u0431\\u043e\\u043b\\u043e\\u0442\\u043d\", \"\\u0431\\u043e\\u043b\\u043e\\u0442\\u043d\", \"\\u0431\\u043e\\u043d\\u0434\", \"\\u0431\\u043e\\u043d\\u0434\", \"\\u0431\\u043e\\u043d\\u0434\", \"\\u0431\\u043e\\u0440\", \"\\u0431\\u043e\\u0440\\u043e\\u0434\", \"\\u0431\\u043e\\u0440\\u0442\", \"\\u0431\\u043e\\u0440\\u0442\", \"\\u0431\\u043e\\u0440\\u0442\", \"\\u0431\\u043e\\u0440\\u0442\", \"\\u0431\\u043e\\u0440\\u0442\", \"\\u0431\\u043e\\u0440\\u0442\", \"\\u0431\\u043e\\u0440\\u0442\", \"\\u0431\\u0443\\u0434\\u0430\\u043d\\u043e\\u0432\", \"\\u0431\\u0443\\u0434\\u0443\\u0442\", \"\\u0431\\u0443\\u0434\\u0443\\u0442\", \"\\u0431\\u0443\\u0434\\u0443\\u0442\", \"\\u0431\\u0443\\u0434\\u0443\\u0442\", \"\\u0431\\u0443\\u0434\\u0443\\u0442\", \"\\u0431\\u0443\\u0434\\u0443\\u0442\", \"\\u0431\\u0443\\u0434\\u0443\\u0442\", \"\\u0431\\u0443\\u0434\\u0443\\u0442\", \"\\u0431\\u0443\\u0434\\u0443\\u0442\", \"\\u0431\\u0443\\u0434\\u0443\\u0442\", \"\\u0431\\u0443\\u043a\\u0435\\u0440\", \"\\u0431\\u0443\\u0440\\u0430\\u043a\", \"\\u0431\\u044b\\u0432\\u0448\", \"\\u0431\\u044b\\u0432\\u0448\", \"\\u0431\\u044b\\u0432\\u0448\", \"\\u0431\\u044b\\u0432\\u0448\", \"\\u0431\\u044b\\u0432\\u0448\", \"\\u0431\\u044b\\u0432\\u0448\", \"\\u0431\\u044b\\u0432\\u0448\", \"\\u0431\\u044b\\u0432\\u0448\", \"\\u0431\\u044b\\u0432\\u0448\", \"\\u0431\\u044b\\u0432\\u0448\", \"\\u0432\\u0430\\u043b\\u044e\\u0442\", \"\\u0432\\u0430\\u043b\\u044e\\u0442\", \"\\u0432\\u0430\\u0441\\u0438\\u043b\\u044c\\u0435\\u0432\", \"\\u0432\\u0435\\u043b\\u0438\\u043a\\u043e\\u0431\\u0440\\u0438\\u0442\\u0430\\u043d\", \"\\u0432\\u0435\\u043b\\u0438\\u043a\\u043e\\u0431\\u0440\\u0438\\u0442\\u0430\\u043d\", \"\\u0432\\u0435\\u043b\\u0438\\u043a\\u043e\\u0431\\u0440\\u0438\\u0442\\u0430\\u043d\", \"\\u0432\\u0435\\u043b\\u0438\\u043a\\u043e\\u0431\\u0440\\u0438\\u0442\\u0430\\u043d\", \"\\u0432\\u0435\\u043b\\u0438\\u043a\\u043e\\u0431\\u0440\\u0438\\u0442\\u0430\\u043d\", \"\\u0432\\u0435\\u043b\\u0438\\u043a\\u043e\\u0431\\u0440\\u0438\\u0442\\u0430\\u043d\", \"\\u0432\\u0435\\u043b\\u0438\\u043a\\u043e\\u0431\\u0440\\u0438\\u0442\\u0430\\u043d\", \"\\u0432\\u0435\\u043b\\u0438\\u043a\\u043e\\u0431\\u0440\\u0438\\u0442\\u0430\\u043d\", \"\\u0432\\u0435\\u043d\\u0435\\u0441\\u0443\\u044d\\u043b\", \"\\u0432\\u0435\\u043d\\u0435\\u0441\\u0443\\u044d\\u043b\", \"\\u0432\\u0435\\u0440\\u0441\", \"\\u0432\\u0435\\u0440\\u0441\", \"\\u0432\\u0435\\u0440\\u0441\", \"\\u0432\\u0435\\u0440\\u0441\", \"\\u0432\\u0435\\u0440\\u0441\", \"\\u0432\\u0435\\u0440\\u0441\", \"\\u0432\\u0435\\u0440\\u0441\", \"\\u0432\\u0435\\u0440\\u0441\", \"\\u0432\\u0435\\u0440\\u0441\", \"\\u0432\\u0435\\u0440\\u0441\", \"\\u0432\\u0435\\u0440\\u0442\\u043e\\u043b\\u0435\\u0442\", \"\\u0432\\u0435\\u0440\\u0442\\u043e\\u043b\\u0435\\u0442\", \"\\u0432\\u0435\\u0440\\u0442\\u043e\\u043b\\u0435\\u0442\", \"\\u0432\\u0435\\u0440\\u0442\\u043e\\u043b\\u0435\\u0442\", \"\\u0432\\u0435\\u0440\\u0442\\u043e\\u043b\\u0435\\u0442\", \"\\u0432\\u0435\\u0440\\u0442\\u043e\\u043b\\u0435\\u0442\", \"\\u0432\\u0435\\u0440\\u0442\\u043e\\u043b\\u0435\\u0442\", \"\\u0432\\u0435\\u0440\\u0442\\u043e\\u043b\\u0435\\u0442\", \"\\u0432\\u0435\\u0440\\u0442\\u043e\\u043b\\u0435\\u0442\", \"\\u0432\\u0437\\u044f\\u0442\\u043a\", \"\\u0432\\u0437\\u044f\\u0442\\u043a\", \"\\u0432\\u0437\\u044f\\u0442\\u043a\", \"\\u0432\\u0438\\u043b\\u044c\\u043d\\u044e\\u0441\", \"\\u0432\\u0438\\u043b\\u044c\\u043d\\u044e\\u0441\", \"\\u0432\\u0438\\u043d\\u043e\\u0432\\u043d\\u0438\\u0446\", \"\\u0432\\u043b\\u0430\\u0434\\u0438\\u043c\\u0438\\u0440\", \"\\u0432\\u043b\\u0430\\u0434\\u0438\\u043c\\u0438\\u0440\", \"\\u0432\\u043b\\u0430\\u0434\\u0438\\u043c\\u0438\\u0440\", \"\\u0432\\u043b\\u0430\\u0434\\u0438\\u043c\\u0438\\u0440\", \"\\u0432\\u043b\\u0430\\u0434\\u0438\\u043c\\u0438\\u0440\", \"\\u0432\\u043b\\u0430\\u0434\\u0438\\u043c\\u0438\\u0440\", \"\\u0432\\u043b\\u0430\\u0434\\u0438\\u043c\\u0438\\u0440\", \"\\u0432\\u043b\\u0430\\u0434\\u0438\\u043c\\u0438\\u0440\", \"\\u0432\\u043b\\u0430\\u0434\\u0438\\u043c\\u0438\\u0440\", \"\\u0432\\u043b\\u0430\\u0441\\u0442\", \"\\u0432\\u043b\\u0430\\u0441\\u0442\", \"\\u0432\\u043b\\u0430\\u0441\\u0442\", \"\\u0432\\u043b\\u0430\\u0441\\u0442\", \"\\u0432\\u043b\\u0430\\u0441\\u0442\", \"\\u0432\\u043b\\u0430\\u0441\\u0442\", \"\\u0432\\u043b\\u0430\\u0441\\u0442\", \"\\u0432\\u043b\\u0430\\u0441\\u0442\", \"\\u0432\\u043b\\u0430\\u0441\\u0442\", \"\\u0432\\u043b\\u0430\\u0441\\u0442\", \"\\u0432\\u043d\\u0443\\u043a\\u043e\\u0432\", \"\\u0432\\u043e\\u0437\\u0431\\u0443\\u0436\\u0434\", \"\\u0432\\u043e\\u0437\\u0431\\u0443\\u0436\\u0434\", \"\\u0432\\u043e\\u0437\\u0431\\u0443\\u0436\\u0434\", \"\\u0432\\u043e\\u0437\\u0431\\u0443\\u0436\\u0434\", \"\\u0432\\u043e\\u0437\\u0431\\u0443\\u0436\\u0434\", \"\\u0432\\u043e\\u0437\\u0431\\u0443\\u0436\\u0434\", \"\\u0432\\u043e\\u0437\\u0431\\u0443\\u0436\\u0434\", \"\\u0432\\u043e\\u0437\\u0431\\u0443\\u0436\\u0434\", \"\\u0432\\u043e\\u0437\\u0431\\u0443\\u0436\\u0434\", \"\\u0432\\u043e\\u0439\\u043a\\u0438\\u043d\", \"\\u0432\\u043e\\u043b\\u043e\\u043d\\u0442\\u0435\\u0440\", \"\\u0432\\u0440\\u0435\\u0437\\u0430\", \"\\u0432\\u0440\\u0435\\u0437\\u0430\", \"\\u0432\\u0440\\u0435\\u0437\\u0430\", \"\\u0432\\u0440\\u0435\\u0437\\u0430\", \"\\u0432\\u0440\\u0435\\u0437\\u0430\", \"\\u0432\\u0440\\u0435\\u043c\", \"\\u0432\\u0440\\u0435\\u043c\", \"\\u0432\\u0440\\u0435\\u043c\", \"\\u0432\\u0440\\u0435\\u043c\", \"\\u0432\\u0440\\u0435\\u043c\", \"\\u0432\\u0440\\u0435\\u043c\", \"\\u0432\\u0440\\u0435\\u043c\", \"\\u0432\\u0440\\u0435\\u043c\", \"\\u0432\\u0440\\u0435\\u043c\", \"\\u0432\\u0440\\u0435\\u043c\", \"\\u0432\\u0441\\u043c\\u043f\\u043e\", \"\\u0432\\u0442\\u043e\\u0440\", \"\\u0432\\u0442\\u043e\\u0440\", \"\\u0432\\u0442\\u043e\\u0440\", \"\\u0432\\u0442\\u043e\\u0440\", \"\\u0432\\u0442\\u043e\\u0440\", \"\\u0432\\u0442\\u043e\\u0440\", \"\\u0432\\u0442\\u043e\\u0440\", \"\\u0432\\u0442\\u043e\\u0440\", \"\\u0432\\u0442\\u043e\\u0440\", \"\\u0432\\u0442\\u043e\\u0440\", \"\\u0432\\u044b\\u0431\\u043e\\u0440\", \"\\u0432\\u044b\\u0431\\u043e\\u0440\", \"\\u0432\\u044b\\u0431\\u043e\\u0440\", \"\\u0432\\u044b\\u0431\\u043e\\u0440\", \"\\u0432\\u044b\\u0431\\u043e\\u0440\", \"\\u0432\\u044b\\u0431\\u043e\\u0440\", \"\\u0432\\u044b\\u0440\\u043e\\u0441\\u043b\", \"\\u0432\\u044b\\u0440\\u043e\\u0441\\u043b\", \"\\u0432\\u044b\\u0440\\u043e\\u0441\\u043b\", \"\\u0432\\u044b\\u0440\\u043e\\u0441\\u043b\", \"\\u0432\\u044b\\u0440\\u043e\\u0441\\u043b\", \"\\u0432\\u044b\\u0440\\u043e\\u0441\\u043b\", \"\\u0433\\u0430\\u0437\\u0435\\u0442\", \"\\u0433\\u0430\\u0437\\u0435\\u0442\", \"\\u0433\\u0430\\u0437\\u0435\\u0442\", \"\\u0433\\u0430\\u0437\\u0435\\u0442\", \"\\u0433\\u0430\\u0437\\u0435\\u0442\", \"\\u0433\\u0430\\u0437\\u0435\\u0442\", \"\\u0433\\u0430\\u0437\\u0435\\u0442\", \"\\u0433\\u0430\\u0437\\u0435\\u0442\", \"\\u0433\\u0430\\u0437\\u0435\\u0442\", \"\\u0433\\u0430\\u0437\\u0435\\u0442\", \"\\u0433\\u0430\\u0439\\u0442\\u043d\\u0435\\u0440\", \"\\u0433\\u0430\\u0440\\u043d\\u0438\\u0442\\u0443\\u0440\", \"\\u0433\\u0435\\u043a\\u0442\\u0430\\u0440\", \"\\u0433\\u0435\\u043a\\u0442\\u0430\\u0440\", \"\\u0433\\u0435\\u043d\\u043f\\u043b\\u0430\", \"\\u0433\\u0438\\u043b\\u044c\\u0434\", \"\\u0433\\u043b\\u0430\\u0432\", \"\\u0433\\u043b\\u0430\\u0432\", \"\\u0433\\u043b\\u0430\\u0432\", \"\\u0433\\u043b\\u0430\\u0432\", \"\\u0433\\u043b\\u0430\\u0432\", \"\\u0433\\u043b\\u0430\\u0432\", \"\\u0433\\u043b\\u0430\\u0432\", \"\\u0433\\u043b\\u0430\\u0432\", \"\\u0433\\u043b\\u0430\\u0432\", \"\\u0433\\u043b\\u0430\\u0432\", \"\\u0433\\u043b\\u0430\\u0432\\u043a\\u043e\\u043c\\u0430\\u0442\", \"\\u0433\\u043b\\u0430\\u0432\\u043a\\u043e\\u043c\\u0430\\u0442\", \"\\u0433\\u043b\\u0430\\u0432\\u043d\", \"\\u0433\\u043b\\u0430\\u0432\\u043d\", \"\\u0433\\u043b\\u0430\\u0432\\u043d\", \"\\u0433\\u043b\\u0430\\u0432\\u043d\", \"\\u0433\\u043b\\u0430\\u0432\\u043d\", \"\\u0433\\u043b\\u0430\\u0432\\u043d\", \"\\u0433\\u043b\\u0430\\u0432\\u043d\", \"\\u0433\\u043b\\u0430\\u0432\\u043d\", \"\\u0433\\u043b\\u0430\\u0432\\u043d\", \"\\u0433\\u043b\\u0430\\u0432\\u043d\", \"\\u0433\\u043b\\u0435\\u043d\", \"\\u0433\\u043e\\u0434\", \"\\u0433\\u043e\\u0434\", \"\\u0433\\u043e\\u0434\", \"\\u0433\\u043e\\u0434\", \"\\u0433\\u043e\\u0434\", \"\\u0433\\u043e\\u0434\", \"\\u0433\\u043e\\u0434\", \"\\u0433\\u043e\\u0434\", \"\\u0433\\u043e\\u0434\", \"\\u0433\\u043e\\u0434\", \"\\u0433\\u043e\\u043d\\u043a\", \"\\u0433\\u043e\\u043d\\u043a\", \"\\u0433\\u043e\\u0440\\u043e\\u0434\", \"\\u0433\\u043e\\u0440\\u043e\\u0434\", \"\\u0433\\u043e\\u0440\\u043e\\u0434\", \"\\u0433\\u043e\\u0440\\u043e\\u0434\", \"\\u0433\\u043e\\u0440\\u043e\\u0434\", \"\\u0433\\u043e\\u0440\\u043e\\u0434\", \"\\u0433\\u043e\\u0440\\u043e\\u0434\", \"\\u0433\\u043e\\u0440\\u043e\\u0434\", \"\\u0433\\u043e\\u0440\\u043e\\u0434\", \"\\u0433\\u043e\\u0440\\u043e\\u0434\", \"\\u0433\\u043e\\u0441\\u0434\\u0443\\u043c\", \"\\u0433\\u043e\\u0441\\u0434\\u0443\\u043c\", \"\\u0433\\u043e\\u0441\\u0434\\u0443\\u043c\", \"\\u0433\\u043e\\u0441\\u0434\\u0443\\u043c\", \"\\u0433\\u043e\\u0441\\u0441\\u0435\\u043a\\u0440\\u0435\\u0442\\u0430\\u0440\", \"\\u0433\\u0440\\u0430\\u0432\\u044e\\u0440\", \"\\u0433\\u0440\\u0430\\u0436\\u0434\\u0430\\u043d\\u0441\\u0442\\u0432\", \"\\u0433\\u0440\\u0430\\u0436\\u0434\\u0430\\u043d\\u0441\\u0442\\u0432\", \"\\u0433\\u0440\\u0430\\u0436\\u0434\\u0430\\u043d\\u0441\\u0442\\u0432\", \"\\u0433\\u0440\\u0430\\u0436\\u0434\\u0430\\u043d\\u0441\\u0442\\u0432\", \"\\u0433\\u0440\\u0430\\u0436\\u0434\\u0430\\u043d\\u0441\\u0442\\u0432\", \"\\u0433\\u0440\\u0430\\u0436\\u0434\\u0430\\u043d\\u0441\\u0442\\u0432\", \"\\u0433\\u0440\\u0438\\u0433\\u043e\\u0440\\u0435\\u043d\\u043a\", \"\\u0433\\u0440\\u043e\\u043b\", \"\\u0433\\u0440\\u0443\\u0437\\u0438\\u043d\\u0441\\u043a\", \"\\u0433\\u0440\\u0443\\u0437\\u0438\\u043d\\u0441\\u043a\", \"\\u0433\\u0440\\u0443\\u0437\\u0438\\u043d\\u0441\\u043a\", \"\\u0433\\u0440\\u0443\\u0437\\u0438\\u043d\\u0441\\u043a\", \"\\u0433\\u0440\\u0443\\u043f\\u043f\", \"\\u0433\\u0440\\u0443\\u043f\\u043f\", \"\\u0433\\u0440\\u0443\\u043f\\u043f\", \"\\u0433\\u0440\\u0443\\u043f\\u043f\", \"\\u0433\\u0440\\u0443\\u043f\\u043f\", \"\\u0433\\u0440\\u0443\\u043f\\u043f\", \"\\u0433\\u0440\\u0443\\u043f\\u043f\", \"\\u0433\\u0440\\u0443\\u043f\\u043f\", \"\\u0433\\u0440\\u0443\\u043f\\u043f\", \"\\u0433\\u0440\\u0443\\u043f\\u043f\", \"\\u0434\\u0430\\u043c\\u0430\\u0441\\u043a\", \"\\u0434\\u0430\\u043c\\u0430\\u0441\\u043a\", \"\\u0434\\u0430\\u043c\\u0430\\u0441\\u043a\", \"\\u0434\\u0430\\u043d\", \"\\u0434\\u0430\\u043d\", \"\\u0434\\u0430\\u043d\", \"\\u0434\\u0430\\u043d\", \"\\u0434\\u0430\\u043d\", \"\\u0434\\u0430\\u043d\", \"\\u0434\\u0430\\u043d\", \"\\u0434\\u0430\\u043d\", \"\\u0434\\u0430\\u043d\", \"\\u0434\\u0430\\u043d\", \"\\u0434\\u0430\\u0441\\u0430\", \"\\u0434\\u0432\\u043e\\u0440\\u043d\\u0438\\u043a\", \"\\u0434\\u0432\\u043e\\u0440\\u043d\\u0438\\u043a\", \"\\u0434\\u0432\\u043e\\u0440\\u043d\\u0438\\u043a\", \"\\u0434\\u0432\\u043e\\u0440\\u043d\\u0438\\u043a\", \"\\u0434\\u0435\\u0432\\u0443\\u0448\\u043a\", \"\\u0434\\u0435\\u0432\\u0443\\u0448\\u043a\", \"\\u0434\\u0435\\u0432\\u0443\\u0448\\u043a\", \"\\u0434\\u0435\\u0432\\u0443\\u0448\\u043a\", \"\\u0434\\u0435\\u0432\\u0443\\u0448\\u043a\", \"\\u0434\\u0435\\u0432\\u0443\\u0448\\u043a\", \"\\u0434\\u0435\\u0432\\u0443\\u0448\\u043a\", \"\\u0434\\u0435\\u043a\\u0430\\u0431\\u0440\", \"\\u0434\\u0435\\u043a\\u0430\\u0431\\u0440\", \"\\u0434\\u0435\\u043a\\u0430\\u0431\\u0440\", \"\\u0434\\u0435\\u043a\\u0430\\u0431\\u0440\", \"\\u0434\\u0435\\u043a\\u0430\\u0431\\u0440\", \"\\u0434\\u0435\\u043a\\u0430\\u0431\\u0440\", \"\\u0434\\u0435\\u043a\\u0430\\u0431\\u0440\", \"\\u0434\\u0435\\u043a\\u0430\\u0431\\u0440\", \"\\u0434\\u0435\\u043a\\u0430\\u0431\\u0440\", \"\\u0434\\u0435\\u043a\\u0430\\u0431\\u0440\", \"\\u0434\\u0435\\u043b\", \"\\u0434\\u0435\\u043b\", \"\\u0434\\u0435\\u043b\", \"\\u0434\\u0435\\u043b\", \"\\u0434\\u0435\\u043b\", \"\\u0434\\u0435\\u043b\", \"\\u0434\\u0435\\u043b\", \"\\u0434\\u0435\\u043b\", \"\\u0434\\u0435\\u043b\", \"\\u0434\\u0435\\u043b\", \"\\u0434\\u0435\\u043b\\u044c\\u0441\\u0430\\u043b\", \"\\u0434\\u0435\\u043b\\u044c\\u0441\\u0430\\u043b\", \"\\u0434\\u0435\\u043b\\u044c\\u0441\\u0430\\u043b\", \"\\u0434\\u0435\\u043b\\u044c\\u0441\\u0430\\u043b\", \"\\u0434\\u0435\\u043b\\u044c\\u0441\\u0430\\u043b\", \"\\u0434\\u0435\\u043c\\u0443\\u0448\\u043a\\u0438\\u043d\", \"\\u0434\\u0435\\u043f\\u0430\\u0440\\u0434\", \"\\u0434\\u0435\\u043f\\u0430\\u0440\\u0434\", \"\\u0434\\u0435\\u043f\\u0430\\u0440\\u0434\", \"\\u0434\\u0435\\u043f\\u0430\\u0440\\u0434\", \"\\u0434\\u0435\\u043f\\u0430\\u0440\\u0434\", \"\\u0434\\u0435\\u043f\\u0443\\u0442\\u0430\\u0442\", \"\\u0434\\u0435\\u043f\\u0443\\u0442\\u0430\\u0442\", \"\\u0434\\u0435\\u043f\\u0443\\u0442\\u0430\\u0442\", \"\\u0434\\u0435\\u043f\\u0443\\u0442\\u0430\\u0442\", \"\\u0434\\u0435\\u043f\\u0443\\u0442\\u0430\\u0442\", \"\\u0434\\u0435\\u043f\\u0443\\u0442\\u0430\\u0442\", \"\\u0434\\u0435\\u043f\\u0443\\u0442\\u0430\\u0442\", \"\\u0434\\u0435\\u043f\\u0443\\u0442\\u0430\\u0442\", \"\\u0434\\u0435\\u0442\", \"\\u0434\\u0435\\u0442\", \"\\u0434\\u0435\\u0442\", \"\\u0434\\u0435\\u0442\", \"\\u0434\\u0435\\u0442\", \"\\u0434\\u0435\\u0442\", \"\\u0434\\u0435\\u0442\", \"\\u0434\\u0435\\u0442\", \"\\u0434\\u0435\\u0442\", \"\\u0434\\u0435\\u0442\", \"\\u0434\\u0436\\u0435\", \"\\u0434\\u0436\\u0435\", \"\\u0434\\u0438\\u0432\\u0438\\u0437\\u0438\\u043e\\u043d\", \"\\u0434\\u0438\\u0432\\u0438\\u0437\\u0438\\u043e\\u043d\", \"\\u0434\\u0438\\u0432\\u0438\\u0437\\u0438\\u043e\\u043d\", \"\\u0434\\u0438\\u043b\\u0430\", \"\\u0434\\u0438\\u0441\\u0442\\u0430\\u043d\\u0446\", \"\\u0434\\u043e\\u043b\\u043b\\u0430\\u0440\", \"\\u0434\\u043e\\u043b\\u043b\\u0430\\u0440\", \"\\u0434\\u043e\\u043b\\u043b\\u0430\\u0440\", \"\\u0434\\u043e\\u043b\\u043b\\u0430\\u0440\", \"\\u0434\\u043e\\u043b\\u043b\\u0430\\u0440\", \"\\u0434\\u043e\\u043b\\u043b\\u0430\\u0440\", \"\\u0434\\u043e\\u043b\\u043b\\u0430\\u0440\", \"\\u0434\\u043e\\u043b\\u043b\\u0430\\u0440\", \"\\u0434\\u043e\\u043b\\u043b\\u0430\\u0440\", \"\\u0434\\u043e\\u043b\\u043b\\u0430\\u0440\", \"\\u0434\\u043e\\u043c\\u0438\\u043d\", \"\\u0434\\u043e\\u043c\\u043e\\u0436\\u0438\\u0440\", \"\\u0434\\u043e\\u043d\\u044e\\u0448\\u043a\\u0438\\u043d\", \"\\u0434\\u043e\\u043f\\u0440\\u043e\\u0441\", \"\\u0434\\u043e\\u043f\\u0440\\u043e\\u0441\", \"\\u0434\\u043e\\u043f\\u0440\\u043e\\u0441\", \"\\u0434\\u043e\\u043f\\u0440\\u043e\\u0441\", \"\\u0434\\u043e\\u043f\\u0440\\u043e\\u0441\", \"\\u0434\\u043e\\u043f\\u0440\\u043e\\u0441\", \"\\u0434\\u043e\\u043f\\u0440\\u043e\\u0441\", \"\\u0434\\u0440\\u0443\\u0433\", \"\\u0434\\u0440\\u0443\\u0433\", \"\\u0434\\u0440\\u0443\\u0433\", \"\\u0434\\u0440\\u0443\\u0433\", \"\\u0434\\u0440\\u0443\\u0433\", \"\\u0434\\u0440\\u0443\\u0433\", \"\\u0434\\u0440\\u0443\\u0433\", \"\\u0434\\u0440\\u0443\\u0433\", \"\\u0434\\u0440\\u0443\\u0433\", \"\\u0434\\u0440\\u0443\\u0433\", \"\\u0435\\u0433\\u0442\", \"\\u0435\\u043b\\u044c\\u043a\\u0438\\u043d\", \"\\u0435\\u043f\\u0438\\u0441\\u043a\\u043e\\u043f\", \"\\u0435\\u043f\\u0438\\u0441\\u043a\\u043e\\u043f\", \"\\u0436\\u0435\\u043d\\u0441\\u043a\", \"\\u0436\\u0435\\u043d\\u0441\\u043a\", \"\\u0436\\u0435\\u043d\\u0441\\u043a\", \"\\u0436\\u0435\\u043d\\u0441\\u043a\", \"\\u0436\\u0435\\u043d\\u0441\\u043a\", \"\\u0436\\u0443\\u0440\\u043d\\u0430\\u043b\\u0438\\u0441\\u0442\", \"\\u0436\\u0443\\u0440\\u043d\\u0430\\u043b\\u0438\\u0441\\u0442\", \"\\u0436\\u0443\\u0440\\u043d\\u0430\\u043b\\u0438\\u0441\\u0442\", \"\\u0436\\u0443\\u0440\\u043d\\u0430\\u043b\\u0438\\u0441\\u0442\", \"\\u0436\\u0443\\u0440\\u043d\\u0430\\u043b\\u0438\\u0441\\u0442\", \"\\u0436\\u0443\\u0440\\u043d\\u0430\\u043b\\u0438\\u0441\\u0442\", \"\\u0436\\u0443\\u0440\\u043d\\u0430\\u043b\\u0438\\u0441\\u0442\", \"\\u0436\\u0443\\u0440\\u043d\\u0430\\u043b\\u0438\\u0441\\u0442\", \"\\u0436\\u0443\\u0440\\u043d\\u0430\\u043b\\u0438\\u0441\\u0442\", \"\\u0436\\u0443\\u0440\\u043d\\u0430\\u043b\\u0438\\u0441\\u0442\", \"\\u0437\\u0430\\u0431\\u0430\\u0441\\u0442\\u043e\\u0432\\u043a\", \"\\u0437\\u0430\\u0431\\u0430\\u0441\\u0442\\u043e\\u0432\\u043a\", \"\\u0437\\u0430\\u0431\\u0430\\u0441\\u0442\\u043e\\u0432\\u043a\", \"\\u0437\\u0430\\u0432\\u0435\\u0434\\u0435\\u043d\", \"\\u0437\\u0430\\u0432\\u0435\\u0434\\u0435\\u043d\", \"\\u0437\\u0430\\u0432\\u0435\\u0434\\u0435\\u043d\", \"\\u0437\\u0430\\u0432\\u0435\\u0434\\u0435\\u043d\", \"\\u0437\\u0430\\u0432\\u0435\\u0434\\u0435\\u043d\", \"\\u0437\\u0430\\u0432\\u0435\\u0434\\u0435\\u043d\", \"\\u0437\\u0430\\u0433\\u0440\\u0430\\u043d\\u043f\\u0430\\u0441\\u043f\\u043e\\u0440\\u0442\", \"\\u0437\\u0430\\u0434\\u0435\\u0440\\u0436\\u0430\", \"\\u0437\\u0430\\u0434\\u0435\\u0440\\u0436\\u0430\", \"\\u0437\\u0430\\u0434\\u0435\\u0440\\u0436\\u0430\", \"\\u0437\\u0430\\u0434\\u0435\\u0440\\u0436\\u0430\", \"\\u0437\\u0430\\u0434\\u0435\\u0440\\u0436\\u0430\", \"\\u0437\\u0430\\u0434\\u0435\\u0440\\u0436\\u0430\", \"\\u0437\\u0430\\u0434\\u0435\\u0440\\u0436\\u0430\", \"\\u0437\\u0430\\u0434\\u0435\\u0440\\u0436\\u0430\", \"\\u0437\\u0430\\u0434\\u0435\\u0440\\u0436\\u0430\", \"\\u0437\\u0430\\u0434\\u0435\\u0440\\u0436\\u0430\", \"\\u0437\\u0430\\u0434\\u043e\\u043b\\u0436\\u0435\\u043d\", \"\\u0437\\u0430\\u043a\\u043e\\u043d\", \"\\u0437\\u0430\\u043a\\u043e\\u043d\", \"\\u0437\\u0430\\u043a\\u043e\\u043d\", \"\\u0437\\u0430\\u043a\\u043e\\u043d\", \"\\u0437\\u0430\\u043a\\u043e\\u043d\", \"\\u0437\\u0430\\u043a\\u043e\\u043d\", \"\\u0437\\u0430\\u043a\\u043e\\u043d\", \"\\u0437\\u0430\\u043a\\u043e\\u043d\", \"\\u0437\\u0430\\u043a\\u043e\\u043d\", \"\\u0437\\u0430\\u043a\\u043e\\u043d\\u043e\\u043f\\u0440\\u043e\\u0435\\u043a\\u0442\", \"\\u0437\\u0430\\u043a\\u043e\\u043d\\u043e\\u043f\\u0440\\u043e\\u0435\\u043a\\u0442\", \"\\u0437\\u0430\\u043a\\u043e\\u043d\\u043e\\u043f\\u0440\\u043e\\u0435\\u043a\\u0442\", \"\\u0437\\u0430\\u043a\\u043e\\u043d\\u043e\\u043f\\u0440\\u043e\\u0435\\u043a\\u0442\", \"\\u0437\\u0430\\u043a\\u043e\\u043d\\u043e\\u043f\\u0440\\u043e\\u0435\\u043a\\u0442\", \"\\u0437\\u0430\\u043a\\u043e\\u043d\\u043e\\u043f\\u0440\\u043e\\u0435\\u043a\\u0442\", \"\\u0437\\u0430\\u043a\\u043e\\u043d\\u043e\\u043f\\u0440\\u043e\\u0435\\u043a\\u0442\", \"\\u0437\\u0430\\u043a\\u043e\\u043d\\u043e\\u043f\\u0440\\u043e\\u0435\\u043a\\u0442\", \"\\u0437\\u0430\\u043a\\u0443\\u0442\\u0430\\u0439\\u043b\", \"\\u0437\\u0430\\u043b\\u043e\\u0436\\u043d\\u0438\\u043a\", \"\\u0437\\u0430\\u043b\\u043e\\u0436\\u043d\\u0438\\u043a\", \"\\u0437\\u0430\\u043b\\u043e\\u0436\\u043d\\u0438\\u043a\", \"\\u0437\\u0430\\u043d\\u0438\\u043c\\u0430\", \"\\u0437\\u0430\\u043d\\u0438\\u043c\\u0430\", \"\\u0437\\u0430\\u043d\\u0438\\u043c\\u0430\", \"\\u0437\\u0430\\u043d\\u0438\\u043c\\u0430\", \"\\u0437\\u0430\\u043d\\u0438\\u043c\\u0430\", \"\\u0437\\u0430\\u043d\\u0438\\u043c\\u0430\", \"\\u0437\\u0430\\u043d\\u0438\\u043c\\u0430\", \"\\u0437\\u0430\\u043d\\u0438\\u043c\\u0430\", \"\\u0437\\u0430\\u043d\\u0438\\u043c\\u0430\", \"\\u0437\\u0430\\u043d\\u0438\\u043c\\u0430\", \"\\u0437\\u0430\\u043d\\u044f\", \"\\u0437\\u0430\\u043d\\u044f\", \"\\u0437\\u0430\\u043d\\u044f\", \"\\u0437\\u0430\\u043d\\u044f\", \"\\u0437\\u0430\\u043d\\u044f\", \"\\u0437\\u0430\\u043d\\u044f\", \"\\u0437\\u0430\\u043d\\u044f\", \"\\u0437\\u0430\\u043d\\u044f\", \"\\u0437\\u0430\\u043f\\u0440\\u0430\\u0432\\u0449\\u0438\\u043a\", \"\\u0437\\u0430\\u043f\\u0440\\u0435\\u0449\\u0430\", \"\\u0437\\u0430\\u043f\\u0440\\u0435\\u0449\\u0430\", \"\\u0437\\u0430\\u043f\\u0440\\u0435\\u0449\\u0430\", \"\\u0437\\u0430\\u043f\\u0440\\u0435\\u0449\\u0430\", \"\\u0437\\u0430\\u043f\\u0440\\u0435\\u0449\\u0430\", \"\\u0437\\u0430\\u043f\\u0440\\u0435\\u0449\\u0430\", \"\\u0437\\u0430\\u043f\\u0440\\u0435\\u0449\\u0435\\u043d\", \"\\u0437\\u0430\\u043f\\u0440\\u0435\\u0449\\u0435\\u043d\", \"\\u0437\\u0430\\u043f\\u0440\\u0435\\u0449\\u0435\\u043d\", \"\\u0437\\u0430\\u043f\\u0440\\u0435\\u0449\\u0435\\u043d\", \"\\u0437\\u0430\\u043f\\u0440\\u0435\\u0449\\u0435\\u043d\", \"\\u0437\\u0430\\u043f\\u0440\\u0435\\u0449\\u0435\\u043d\", \"\\u0437\\u0430\\u044f\\u0432\", \"\\u0437\\u0430\\u044f\\u0432\", \"\\u0437\\u0430\\u044f\\u0432\", \"\\u0437\\u0430\\u044f\\u0432\", \"\\u0437\\u0430\\u044f\\u0432\", \"\\u0437\\u0430\\u044f\\u0432\", \"\\u0437\\u0430\\u044f\\u0432\", \"\\u0437\\u0430\\u044f\\u0432\", \"\\u0437\\u0430\\u044f\\u0432\", \"\\u0437\\u0430\\u044f\\u0432\", \"\\u0437\\u0434\\u0430\\u043d\", \"\\u0437\\u0434\\u0430\\u043d\", \"\\u0437\\u0434\\u0430\\u043d\", \"\\u0437\\u0434\\u0430\\u043d\", \"\\u0437\\u0434\\u0430\\u043d\", \"\\u0437\\u0434\\u0430\\u043d\", \"\\u0437\\u0434\\u0430\\u043d\", \"\\u0437\\u0434\\u0430\\u043d\", \"\\u0437\\u0434\\u0430\\u043d\", \"\\u0437\\u0434\\u0430\\u043d\", \"\\u0437\\u0434\\u043e\\u0440\\u043e\\u0432\\u0435\\u043d\\u0438\\u043d\", \"\\u0437\\u0435\\u043c\\u0444\\u0438\\u0440\", \"\\u0437\\u0443\\u0431\\u043a\", \"\\u0437\\u0443\\u0431\\u043a\", \"\\u0437\\u0443\\u0431\\u043a\\u043e\\u0432\", \"\\u0438\\u0433\\u0440\", \"\\u0438\\u0433\\u0440\", \"\\u0438\\u0433\\u0440\", \"\\u0438\\u0433\\u0440\", \"\\u0438\\u0433\\u0440\", \"\\u0438\\u0433\\u0440\", \"\\u0438\\u0433\\u0440\", \"\\u0438\\u0433\\u0440\", \"\\u0438\\u0433\\u0440\", \"\\u0438\\u0433\\u0440\", \"\\u0438\\u0433\\u0440\\u043e\\u043a\", \"\\u0438\\u0433\\u0440\\u043e\\u043a\", \"\\u0438\\u0433\\u0440\\u043e\\u043a\", \"\\u0438\\u0433\\u0440\\u043e\\u043a\", \"\\u0438\\u0433\\u0440\\u043e\\u043a\", \"\\u0438\\u0433\\u0440\\u043e\\u043a\", \"\\u0438\\u0433\\u0440\\u043e\\u043a\", \"\\u0438\\u0437\\u0431\\u0438\\u0440\\u0430\\u0442\\u0435\\u043b\\u044c\\u043d\", \"\\u0438\\u0437\\u0431\\u0438\\u0440\\u0430\\u0442\\u0435\\u043b\\u044c\\u043d\", \"\\u0438\\u0437\\u0432\\u0435\\u0441\\u0442\\u043d\", \"\\u0438\\u0437\\u0432\\u0435\\u0441\\u0442\\u043d\", \"\\u0438\\u0437\\u0432\\u0435\\u0441\\u0442\\u043d\", \"\\u0438\\u0437\\u0432\\u0435\\u0441\\u0442\\u043d\", \"\\u0438\\u0437\\u0432\\u0435\\u0441\\u0442\\u043d\", \"\\u0438\\u0437\\u0432\\u0435\\u0441\\u0442\\u043d\", \"\\u0438\\u0437\\u0432\\u0435\\u0441\\u0442\\u043d\", \"\\u0438\\u0437\\u0432\\u0435\\u0441\\u0442\\u043d\", \"\\u0438\\u0437\\u0432\\u0435\\u0441\\u0442\\u043d\", \"\\u0438\\u0437\\u0432\\u0435\\u0441\\u0442\\u043d\", \"\\u0438\\u0437\\u043c\\u0430\\u0439\\u043b\", \"\\u0438\\u0437\\u043d\\u0430\\u0441\\u0438\\u043b\\u043e\\u0432\\u0430\\u043d\", \"\\u0438\\u0437\\u043d\\u0430\\u0441\\u0438\\u043b\\u043e\\u0432\\u0430\\u043d\", \"\\u0438\\u0437\\u043d\\u0430\\u0441\\u0438\\u043b\\u043e\\u0432\\u0430\\u043d\", \"\\u0438\\u0437\\u043d\\u0430\\u0441\\u0438\\u043b\\u043e\\u0432\\u0430\\u043d\", \"\\u0438\\u0437\\u043d\\u0430\\u0441\\u0438\\u043b\\u043e\\u0432\\u0430\\u043d\", \"\\u0438\\u043c\\u043c\\u0438\\u0433\\u0440\\u0430\\u043d\\u0442\", \"\\u0438\\u043d\\u0434\", \"\\u0438\\u043d\\u0434\", \"\\u0438\\u043d\\u0434\", \"\\u0438\\u043d\\u0434\", \"\\u0438\\u043d\\u0434\", \"\\u0438\\u043d\\u0434\", \"\\u0438\\u043d\\u0434\", \"\\u0438\\u043d\\u0434\\u0438\\u0439\\u0441\\u043a\", \"\\u0438\\u043d\\u0434\\u0438\\u0439\\u0441\\u043a\", \"\\u0438\\u043d\\u0434\\u0438\\u0439\\u0441\\u043a\", \"\\u0438\\u043d\\u0434\\u0438\\u0439\\u0441\\u043a\", \"\\u0438\\u043d\\u0434\\u0438\\u0439\\u0441\\u043a\", \"\\u0438\\u043d\\u0434\\u0438\\u0439\\u0441\\u043a\", \"\\u0438\\u043d\\u0444\\u043e\\u0440\\u043c\\u0430\\u0446\", \"\\u0438\\u043d\\u0444\\u043e\\u0440\\u043c\\u0430\\u0446\", \"\\u0438\\u043d\\u0444\\u043e\\u0440\\u043c\\u0430\\u0446\", \"\\u0438\\u043d\\u0444\\u043e\\u0440\\u043c\\u0430\\u0446\", \"\\u0438\\u043d\\u0444\\u043e\\u0440\\u043c\\u0430\\u0446\", \"\\u0438\\u043d\\u0444\\u043e\\u0440\\u043c\\u0430\\u0446\", \"\\u0438\\u043d\\u0444\\u043e\\u0440\\u043c\\u0430\\u0446\", \"\\u0438\\u043d\\u0444\\u043e\\u0440\\u043c\\u0430\\u0446\", \"\\u0438\\u043d\\u0444\\u043e\\u0440\\u043c\\u0430\\u0446\", \"\\u0438\\u043d\\u0444\\u043e\\u0440\\u043c\\u0430\\u0446\", \"\\u0438\\u043d\\u0446\\u0438\\u0434\\u0435\\u043d\\u0442\", \"\\u0438\\u043d\\u0446\\u0438\\u0434\\u0435\\u043d\\u0442\", \"\\u0438\\u043d\\u0446\\u0438\\u0434\\u0435\\u043d\\u0442\", \"\\u0438\\u043d\\u0446\\u0438\\u0434\\u0435\\u043d\\u0442\", \"\\u0438\\u043d\\u0446\\u0438\\u0434\\u0435\\u043d\\u0442\", \"\\u0438\\u043d\\u0446\\u0438\\u0434\\u0435\\u043d\\u0442\", \"\\u0438\\u043d\\u0446\\u0438\\u0434\\u0435\\u043d\\u0442\", \"\\u0438\\u043d\\u0446\\u0438\\u0434\\u0435\\u043d\\u0442\", \"\\u0438\\u043d\\u0446\\u0438\\u0434\\u0435\\u043d\\u0442\", \"\\u0438\\u043d\\u0446\\u0438\\u0434\\u0435\\u043d\\u0442\", \"\\u0438\\u0440\\u0430\\u043a\\u0441\\u043a\", \"\\u0438\\u0441\\u0430\", \"\\u0438\\u0441\\u043b\\u0430\\u043d\\u0434\\u0441\\u043a\", \"\\u043a\\u0430\\u0434\\u044b\\u0440\\u043e\\u0432\", \"\\u043a\\u0430\\u043c\\u0431\\u043e\\u0434\\u0436\", \"\\u043a\\u0430\\u0440\\u0430\\u0434\\u0436\\u043e\\u0432\", \"\\u043a\\u0430\\u0440\\u0442\\u0438\\u043d\", \"\\u043a\\u0430\\u0440\\u0442\\u0438\\u043d\", \"\\u043a\\u0430\\u0440\\u0442\\u0438\\u043d\", \"\\u043a\\u0430\\u0440\\u0442\\u0438\\u043d\", \"\\u043a\\u0430\\u0440\\u0442\\u0438\\u043d\", \"\\u043a\\u0430\\u0440\\u0442\\u0438\\u043d\", \"\\u043a\\u0430\\u0440\\u0442\\u0438\\u043d\", \"\\u043a\\u0430\\u0448\\u043c\\u0438\\u0440\", \"\\u043a\\u0430\\u044e\\u0442\", \"\\u043a\\u0432\\u0430\\u0434\\u0440\\u0430\\u0442\", \"\\u043a\\u0432\\u0430\\u0434\\u0440\\u0430\\u0442\", \"\\u043a\\u0432\\u0435\\u0442\\u0442\", \"\\u043a\\u0438\", \"\\u043a\\u0438\\u043f\\u0440\", \"\\u043a\\u0438\\u0440\\u0433\\u0438\\u0437\", \"\\u043a\\u0438\\u0440\\u0433\\u0438\\u0437\", \"\\u043a\\u0438\\u0440\\u0433\\u0438\\u0437\", \"\\u043a\\u0438\\u0440\\u0433\\u0438\\u0437\", \"\\u043a\\u0438\\u0440\\u0433\\u0438\\u0437\", \"\\u043a\\u0438\\u0440\\u0433\\u0438\\u0437\\u0441\\u043a\", \"\\u043a\\u0438\\u0440\\u0448\\u043d\\u0435\\u0440\", \"\\u043a\\u0438\\u0448\\u0438\\u043d\\u0435\\u0432\", \"\\u043a\\u0438\\u0448\\u0438\\u043d\\u0435\\u0432\", \"\\u043a\\u043b\\u0438\\u043d\\u0442\\u043e\\u043d\", \"\\u043a\\u043b\\u0443\\u0431\", \"\\u043a\\u043b\\u0443\\u0431\", \"\\u043a\\u043b\\u0443\\u0431\", \"\\u043a\\u043b\\u0443\\u0431\", \"\\u043a\\u043b\\u0443\\u0431\", \"\\u043a\\u043b\\u0443\\u0431\", \"\\u043a\\u043d\\u0434\\u0440\", \"\\u043a\\u043d\\u0434\\u0440\", \"\\u043a\\u043d\\u0434\\u0440\", \"\\u043a\\u043d\\u0434\\u0440\", \"\\u043a\\u043d\\u0438\\u0433\", \"\\u043a\\u043d\\u0438\\u0433\", \"\\u043a\\u043d\\u0438\\u0433\", \"\\u043a\\u043d\\u0438\\u0433\", \"\\u043a\\u043d\\u0438\\u0433\", \"\\u043a\\u043d\\u0438\\u0433\", \"\\u043a\\u043d\\u0438\\u0433\", \"\\u043a\\u043d\\u0438\\u0433\", \"\\u043a\\u043d\\u0438\\u0433\", \"\\u043a\\u043e\\u0432\\u0430\\u043b\\u044c\\u0447\\u0443\\u043a\", \"\\u043a\\u043e\\u0434\", \"\\u043a\\u043e\\u0434\", \"\\u043a\\u043e\\u0434\", \"\\u043a\\u043e\\u0434\\u0435\\u043a\\u0441\", \"\\u043a\\u043e\\u0434\\u0435\\u043a\\u0441\", \"\\u043a\\u043e\\u0434\\u0435\\u043a\\u0441\", \"\\u043a\\u043e\\u0434\\u0435\\u043a\\u0441\", \"\\u043a\\u043e\\u043c\\u0430\\u043d\\u0434\", \"\\u043a\\u043e\\u043c\\u0430\\u043d\\u0434\", \"\\u043a\\u043e\\u043c\\u0430\\u043d\\u0434\", \"\\u043a\\u043e\\u043c\\u0430\\u043d\\u0434\", \"\\u043a\\u043e\\u043c\\u0430\\u043d\\u0434\", \"\\u043a\\u043e\\u043c\\u0430\\u043d\\u0434\", \"\\u043a\\u043e\\u043c\\u0430\\u043d\\u0434\", \"\\u043a\\u043e\\u043c\\u0430\\u043d\\u0434\", \"\\u043a\\u043e\\u043c\\u0430\\u043d\\u0434\", \"\\u043a\\u043e\\u043c\\u0430\\u043d\\u0434\", \"\\u043a\\u043e\\u043c\\u0435\\u0442\", \"\\u043a\\u043e\\u043c\\u043f\\u0430\\u043d\", \"\\u043a\\u043e\\u043c\\u043f\\u0430\\u043d\", \"\\u043a\\u043e\\u043c\\u043f\\u0430\\u043d\", \"\\u043a\\u043e\\u043c\\u043f\\u0430\\u043d\", \"\\u043a\\u043e\\u043c\\u043f\\u0430\\u043d\", \"\\u043a\\u043e\\u043c\\u043f\\u0430\\u043d\", \"\\u043a\\u043e\\u043c\\u043f\\u0430\\u043d\", \"\\u043a\\u043e\\u043c\\u043f\\u0430\\u043d\", \"\\u043a\\u043e\\u043c\\u043f\\u0430\\u043d\", \"\\u043a\\u043e\\u043c\\u043f\\u0430\\u043d\", \"\\u043a\\u043e\\u043d\\u0432\\u0435\\u0440\\u0442\", \"\\u043a\\u043e\\u043d\\u0432\\u0435\\u0440\\u0442\\u043e\\u043f\\u043b\\u0430\\u043d\", \"\\u043a\\u043e\\u043d\\u0433\\u0440\\u0435\\u0441\\u0441\", \"\\u043a\\u043e\\u043d\\u0433\\u0440\\u0435\\u0441\\u0441\", \"\\u043a\\u043e\\u043d\\u0433\\u0440\\u0435\\u0441\\u0441\", \"\\u043a\\u043e\\u043d\\u0433\\u0440\\u0435\\u0441\\u0441\", \"\\u043a\\u043e\\u043d\\u0433\\u0440\\u0435\\u0441\\u0441\", \"\\u043a\\u043e\\u043d\\u0433\\u0440\\u0435\\u0441\\u0441\", \"\\u043a\\u043e\\u043d\\u0433\\u0440\\u0435\\u0441\\u0441\", \"\\u043a\\u043e\\u043d\\u0441\\u043e\\u043b\", \"\\u043a\\u043e\\u043d\\u0441\\u043e\\u043b\", \"\\u043a\\u043e\\u043d\\u0441\\u043e\\u043b\", \"\\u043a\\u043e\\u043d\\u0441\\u043e\\u043b\", \"\\u043a\\u043e\\u043d\\u0441\\u0442\\u0440\\u0443\\u043a\\u0446\", \"\\u043a\\u043e\\u043d\\u0441\\u0442\\u0440\\u0443\\u043a\\u0446\", \"\\u043a\\u043e\\u043d\\u0442\\u0440\\u043e\\u043b\\u043b\\u0435\\u0440\", \"\\u043a\\u043e\\u043d\\u0442\\u0440\\u043e\\u043b\\u043b\\u0435\\u0440\", \"\\u043a\\u043e\\u043d\\u0442\\u0440\\u043e\\u043b\\u043b\\u0435\\u0440\", \"\\u043a\\u043e\\u043f\\u0435\\u0435\\u043a\", \"\\u043a\\u043e\\u0440\\u0432\\u0435\\u0442\", \"\\u043a\\u043e\\u0440\\u043d\", \"\\u043a\\u043e\\u0440\\u043d\", \"\\u043a\\u043e\\u0441\\u0442\\u044f\\u0448\\u043a\", \"\\u043a\\u043e\\u0442\\u043e\\u0440\", \"\\u043a\\u043e\\u0442\\u043e\\u0440\", \"\\u043a\\u043e\\u0442\\u043e\\u0440\", \"\\u043a\\u043e\\u0442\\u043e\\u0440\", \"\\u043a\\u043e\\u0442\\u043e\\u0440\", \"\\u043a\\u043e\\u0442\\u043e\\u0440\", \"\\u043a\\u043e\\u0442\\u043e\\u0440\", \"\\u043a\\u043e\\u0442\\u043e\\u0440\", \"\\u043a\\u043e\\u0442\\u043e\\u0440\", \"\\u043a\\u043e\\u0442\\u043e\\u0440\", \"\\u043a\\u0440\\u0430\\u043c\\u0430\\u0440\\u0435\\u043d\\u043a\", \"\\u043a\\u0440\\u0430\\u0441\\u043d\\u043e\\u0436\\u0430\", \"\\u043a\\u0440\\u0435\\u0446\", \"\\u043a\\u0440\\u0443\\u043f\\u043d\\u043e\\u0432\", \"\\u043a\\u0443\\u0431\\u0430\\u043d\", \"\\u043a\\u0443\\u0431\\u043a\", \"\\u043a\\u0443\\u0431\\u043a\", \"\\u043a\\u0443\\u0431\\u043a\", \"\\u043a\\u0443\\u0431\\u043e\\u043c\\u0435\\u0442\\u0440\", \"\\u043a\\u0443\\u0431\\u043e\\u043c\\u0435\\u0442\\u0440\", \"\\u043a\\u0443\\u0432\\u0432\\u0430\\u0442\", \"\\u043a\\u0443\\u0440\", \"\\u043a\\u0443\\u0440\", \"\\u043a\\u0443\\u0440\", \"\\u043a\\u0443\\u0440\\u0434\\u0441\\u043a\", \"\\u043a\\u0443\\u0440\\u0441\", \"\\u043a\\u0443\\u0440\\u0441\", \"\\u043a\\u0443\\u0440\\u0441\", \"\\u043a\\u0443\\u0440\\u0441\", \"\\u043a\\u0443\\u0440\\u0441\", \"\\u043a\\u044d\\u043c\\u043f\\u0431\\u0435\\u043b\\u043b\", \"\\u043b\\u0430\\u043f\\u0442\\u0435\\u0432\", \"\\u043b\\u0435\\u0431\\u0435\\u0434\", \"\\u043b\\u0435\\u0431\\u0435\\u0434\\u0435\\u0432\", \"\\u043b\\u0435\\u043e\\u043d\\u0438\\u0434\", \"\\u043b\\u0435\\u043e\\u043d\\u0438\\u0434\", \"\\u043b\\u0435\\u0442\\u043d\", \"\\u043b\\u0435\\u0442\\u043d\", \"\\u043b\\u0435\\u0442\\u043d\", \"\\u043b\\u0435\\u0442\\u043d\", \"\\u043b\\u0435\\u0442\\u043d\", \"\\u043b\\u0435\\u0442\\u043d\", \"\\u043b\\u0435\\u0442\\u043d\", \"\\u043b\\u0435\\u0442\\u043d\", \"\\u043b\\u0435\\u0442\\u043d\", \"\\u043b\\u0435\\u0442\\u043d\", \"\\u043b\\u043e\\u0434\\u0437\", \"\\u043b\\u043e\\u0442\\u043a\", \"\\u043b\\u043e\\u0445\\u0430\", \"\\u043b\\u043e\\u0445\\u0430\", \"\\u043b\\u0443\\u0440\\u043a\\u043e\\u043c\\u043e\\u0440\", \"\\u043b\\u0443\\u0447\\u0448\", \"\\u043b\\u0443\\u0447\\u0448\", \"\\u043b\\u0443\\u0447\\u0448\", \"\\u043b\\u0443\\u0447\\u0448\", \"\\u043b\\u0443\\u0447\\u0448\", \"\\u043b\\u0443\\u0447\\u0448\", \"\\u043b\\u0443\\u0447\\u0448\", \"\\u043b\\u0443\\u0447\\u0448\", \"\\u043b\\u0443\\u0447\\u0448\", \"\\u043c\\u0430\\u0433\\u0430\\u0437\\u0438\\u043d\", \"\\u043c\\u0430\\u0433\\u0430\\u0437\\u0438\\u043d\", \"\\u043c\\u0430\\u0433\\u0430\\u0437\\u0438\\u043d\", \"\\u043c\\u0430\\u0433\\u0430\\u0437\\u0438\\u043d\", \"\\u043c\\u0430\\u0433\\u0430\\u0437\\u0438\\u043d\", \"\\u043c\\u0430\\u0433\\u0430\\u0437\\u0438\\u043d\", \"\\u043c\\u0430\\u0433\\u0430\\u0437\\u0438\\u043d\", \"\\u043c\\u0430\\u0433\\u0430\\u0437\\u0438\\u043d\", \"\\u043c\\u0430\\u0433\\u0430\\u0437\\u0438\\u043d\", \"\\u043c\\u0430\\u0433\\u043d\\u0438\\u0442\\u0441\\u043a\", \"\\u043c\\u0430\\u0433\\u043d\\u0438\\u0442\\u0441\\u043a\", \"\\u043c\\u0430\\u0433\\u043d\\u0438\\u0442\\u0441\\u043a\", \"\\u043c\\u0430\\u0433\\u043d\\u0438\\u0442\\u0441\\u043a\", \"\\u043c\\u0430\\u0433\\u043d\\u0438\\u0442\\u0441\\u043a\", \"\\u043c\\u0430\\u0434\\u0443\\u0440\", \"\\u043c\\u0430\\u043a\\u043a\\u0438\\u0432\\u0435\\u0440\", \"\\u043c\\u0430\\u043b\\u0438\\u043d\", \"\\u043c\\u0430\\u043b\\u044b\\u0448\\u043a\", \"\\u043c\\u0430\\u043b\\u044c\\u0447\\u0438\\u043a\", \"\\u043c\\u0430\\u043b\\u044c\\u0447\\u0438\\u043a\", \"\\u043c\\u0430\\u043b\\u044c\\u0447\\u0438\\u043a\", \"\\u043c\\u0430\\u043b\\u044c\\u0447\\u0438\\u043a\", \"\\u043c\\u0430\\u043b\\u044c\\u0447\\u0438\\u043a\", \"\\u043c\\u0430\\u043b\\u044c\\u0447\\u0438\\u043a\", \"\\u043c\\u0430\\u0440\\u0441\\u043e\\u0432\", \"\\u043c\\u0430\\u0441\\u043a\\u043e\\u0442\", \"\\u043c\\u0430\\u0442\\u0447\", \"\\u043c\\u0430\\u0442\\u0447\", \"\\u043c\\u0430\\u0442\\u0447\", \"\\u043c\\u0430\\u0442\\u0447\", \"\\u043c\\u0430\\u0442\\u0447\", \"\\u043c\\u0430\\u0442\\u0447\", \"\\u043c\\u0430\\u0442\\u0447\", \"\\u043c\\u0430\\u0442\\u0447\", \"\\u043c\\u0430\\u0442\\u0447\", \"\\u043c\\u0430\\u0442\\u0447\", \"\\u043c\\u0435\\u0433\\u0430\", \"\\u043c\\u0435\\u0441\\u0442\", \"\\u043c\\u0435\\u0441\\u0442\", \"\\u043c\\u0435\\u0441\\u0442\", \"\\u043c\\u0435\\u0441\\u0442\", \"\\u043c\\u0435\\u0441\\u0442\", \"\\u043c\\u0435\\u0441\\u0442\", \"\\u043c\\u0435\\u0441\\u0442\", \"\\u043c\\u0435\\u0441\\u0442\", \"\\u043c\\u0435\\u0441\\u0442\", \"\\u043c\\u0435\\u0441\\u0442\", \"\\u043c\\u0435\\u0441\\u0442\\u043d\", \"\\u043c\\u0435\\u0441\\u0442\\u043d\", \"\\u043c\\u0435\\u0441\\u0442\\u043d\", \"\\u043c\\u0435\\u0441\\u0442\\u043d\", \"\\u043c\\u0435\\u0441\\u0442\\u043d\", \"\\u043c\\u0435\\u0441\\u0442\\u043d\", \"\\u043c\\u0435\\u0441\\u0442\\u043d\", \"\\u043c\\u0435\\u0441\\u0442\\u043d\", \"\\u043c\\u0435\\u0441\\u0442\\u043d\", \"\\u043c\\u0435\\u0441\\u0442\\u043d\", \"\\u043c\\u0435\\u0442\\u0435\\u043e\\u0440\\u0438\\u0442\", \"\\u043c\\u0438\\u0433\\u0440\\u0430\\u0446\", \"\\u043c\\u0438\\u043a\\u0440\\u043e\\u0431\\u043b\\u043e\\u0433\", \"\\u043c\\u0438\\u043a\\u0440\\u043e\\u0431\\u043b\\u043e\\u0433\", \"\\u043c\\u0438\\u043a\\u0440\\u043e\\u0431\\u043b\\u043e\\u0433\", \"\\u043c\\u0438\\u043b\\u043b\\u0438\\u0430\\u0440\\u0434\", \"\\u043c\\u0438\\u043b\\u043b\\u0438\\u0430\\u0440\\u0434\", \"\\u043c\\u0438\\u043b\\u043b\\u0438\\u0430\\u0440\\u0434\", \"\\u043c\\u0438\\u043b\\u043b\\u0438\\u0430\\u0440\\u0434\", \"\\u043c\\u0438\\u043b\\u043b\\u0438\\u0430\\u0440\\u0434\", \"\\u043c\\u0438\\u043b\\u043b\\u0438\\u0430\\u0440\\u0434\", \"\\u043c\\u0438\\u043b\\u043b\\u0438\\u0430\\u0440\\u0434\", \"\\u043c\\u0438\\u043b\\u043b\\u0438\\u0430\\u0440\\u0434\", \"\\u043c\\u0438\\u043b\\u043b\\u0438\\u0430\\u0440\\u0434\", \"\\u043c\\u0438\\u043b\\u043b\\u0438\\u0430\\u0440\\u0434\", \"\\u043c\\u0438\\u043b\\u043b\\u0438\\u043e\\u043d\", \"\\u043c\\u0438\\u043b\\u043b\\u0438\\u043e\\u043d\", \"\\u043c\\u0438\\u043b\\u043b\\u0438\\u043e\\u043d\", \"\\u043c\\u0438\\u043b\\u043b\\u0438\\u043e\\u043d\", \"\\u043c\\u0438\\u043b\\u043b\\u0438\\u043e\\u043d\", \"\\u043c\\u0438\\u043b\\u043b\\u0438\\u043e\\u043d\", \"\\u043c\\u0438\\u043b\\u043b\\u0438\\u043e\\u043d\", \"\\u043c\\u0438\\u043b\\u043b\\u0438\\u043e\\u043d\", \"\\u043c\\u0438\\u043b\\u043b\\u0438\\u043e\\u043d\", \"\\u043c\\u0438\\u043b\\u043b\\u0438\\u043e\\u043d\", \"\\u043c\\u0438\\u043d\\u0438\\u0441\\u0442\\u0440\", \"\\u043c\\u0438\\u043d\\u0438\\u0441\\u0442\\u0440\", \"\\u043c\\u0438\\u043d\\u0438\\u0441\\u0442\\u0440\", \"\\u043c\\u0438\\u043d\\u0438\\u0441\\u0442\\u0440\", \"\\u043c\\u0438\\u043d\\u0438\\u0441\\u0442\\u0440\", \"\\u043c\\u0438\\u043d\\u0438\\u0441\\u0442\\u0440\", \"\\u043c\\u0438\\u043d\\u0438\\u0441\\u0442\\u0440\", \"\\u043c\\u0438\\u043d\\u0438\\u0441\\u0442\\u0440\", \"\\u043c\\u0438\\u043d\\u0438\\u0441\\u0442\\u0440\", \"\\u043c\\u0438\\u043d\\u0438\\u0441\\u0442\\u0440\", \"\\u043c\\u0438\\u043d\\u043d\\u0435\\u0441\\u043e\\u0442\", \"\\u043c\\u0438\\u043d\\u0443\\u0442\", \"\\u043c\\u0438\\u043d\\u0443\\u0442\", \"\\u043c\\u0438\\u043d\\u0443\\u0442\", \"\\u043c\\u0438\\u043d\\u0443\\u0442\", \"\\u043c\\u0438\\u043d\\u0443\\u0442\", \"\\u043c\\u0438\\u043d\\u0443\\u0442\", \"\\u043c\\u0438\\u043d\\u0443\\u0442\", \"\\u043c\\u0438\\u0440\", \"\\u043c\\u0438\\u0440\", \"\\u043c\\u0438\\u0440\", \"\\u043c\\u0438\\u0440\", \"\\u043c\\u0438\\u0440\", \"\\u043c\\u0438\\u0440\", \"\\u043c\\u0438\\u0440\", \"\\u043c\\u0438\\u0440\", \"\\u043c\\u0438\\u0440\", \"\\u043c\\u0438\\u0440\\u0440\", \"\\u043c\\u0438\\u0440\\u0440\", \"\\u043c\\u043e\\u0434\\u0435\\u043b\", \"\\u043c\\u043e\\u0434\\u0435\\u043b\", \"\\u043c\\u043e\\u0434\\u0435\\u043b\", \"\\u043c\\u043e\\u0434\\u0435\\u043b\", \"\\u043c\\u043e\\u0434\\u0435\\u043b\", \"\\u043c\\u043e\\u0434\\u0435\\u043b\", \"\\u043c\\u043e\\u0434\\u0435\\u043b\", \"\\u043c\\u043e\\u0434\\u0435\\u043b\", \"\\u043c\\u043e\\u043b\\u043e\\u0434\\u0435\\u0436\\u043d\", \"\\u043c\\u043e\\u043b\\u043e\\u0434\\u0435\\u0436\\u043d\", \"\\u043c\\u043e\\u043b\\u043e\\u0434\\u0435\\u0436\\u043d\", \"\\u043c\\u043e\\u043b\\u043e\\u0434\\u0435\\u0436\\u043d\", \"\\u043c\\u043e\\u043d\\u0435\\u0442\", \"\\u043c\\u043e\\u043d\\u0435\\u0442\", \"\\u043c\\u043e\\u043d\\u0442\\u0440\", \"\\u043c\\u043e\\u0440\\u0435\\u043b\\u043b\", \"\\u043c\\u043e\\u0440\\u0440\", \"\\u043c\\u043e\\u0441\\u0433\\u043e\\u0440\\u0434\\u0443\\u043c\", \"\\u043c\\u043e\\u0441\\u043a\\u0432\", \"\\u043c\\u043e\\u0441\\u043a\\u0432\", \"\\u043c\\u043e\\u0441\\u043a\\u0432\", \"\\u043c\\u043e\\u0441\\u043a\\u0432\", \"\\u043c\\u043e\\u0441\\u043a\\u0432\", \"\\u043c\\u043e\\u0441\\u043a\\u0432\", \"\\u043c\\u043e\\u0441\\u043a\\u0432\", \"\\u043c\\u043e\\u0441\\u043a\\u0432\", \"\\u043c\\u043e\\u0441\\u043a\\u0432\", \"\\u043c\\u043e\\u0441\\u043a\\u0432\", \"\\u043c\\u0443\\u0436\\u0441\\u043a\", \"\\u043c\\u0443\\u0436\\u0441\\u043a\", \"\\u043c\\u0443\\u0436\\u0441\\u043a\", \"\\u043c\\u0443\\u0436\\u0447\\u0438\\u043d\", \"\\u043c\\u0443\\u0436\\u0447\\u0438\\u043d\", \"\\u043c\\u0443\\u0436\\u0447\\u0438\\u043d\", \"\\u043c\\u0443\\u0436\\u0447\\u0438\\u043d\", \"\\u043c\\u0443\\u0436\\u0447\\u0438\\u043d\", \"\\u043c\\u0443\\u0436\\u0447\\u0438\\u043d\", \"\\u043c\\u0443\\u0436\\u0447\\u0438\\u043d\", \"\\u043c\\u0443\\u0436\\u0447\\u0438\\u043d\", \"\\u043c\\u0443\\u0436\\u0447\\u0438\\u043d\", \"\\u043c\\u0443\\u0436\\u0447\\u0438\\u043d\", \"\\u043c\\u0443\\u043b\\u044c\\u0442\\u0438\\u043f\\u043b\\u0435\\u0435\\u0440\", \"\\u043c\\u0443\\u0440\\u0430\\u043a\", \"\\u043c\\u044e\\u043b\\u043b\\u0435\\u0440\", \"\\u043d\\u0430\\u0433\\u043e\\u0440\\u043d\", \"\\u043d\\u0430\\u0433\\u0440\\u0430\\u0434\", \"\\u043d\\u0430\\u0433\\u0440\\u0430\\u0434\", \"\\u043d\\u0430\\u0433\\u0440\\u0430\\u0434\", \"\\u043d\\u0430\\u0433\\u0440\\u0430\\u0434\", \"\\u043d\\u0430\\u0433\\u0440\\u0430\\u0434\", \"\\u043d\\u0430\\u0433\\u0440\\u0430\\u0434\", \"\\u043d\\u0430\\u0433\\u0440\\u0430\\u0434\", \"\\u043d\\u0430\\u0437\\u0438\\u0440\", \"\\u043d\\u0430\\u043f\\u0430\\u0434\\u0430\", \"\\u043d\\u0430\\u043f\\u0430\\u0434\\u0430\", \"\\u043d\\u0430\\u043f\\u0430\\u0434\\u0430\", \"\\u043d\\u0430\\u043f\\u0430\\u0434\\u0430\", \"\\u043d\\u0430\\u043f\\u0430\\u0434\\u0430\", \"\\u043d\\u0430\\u043f\\u0430\\u0434\\u0430\", \"\\u043d\\u0430\\u043f\\u0430\\u0434\\u0430\", \"\\u043d\\u0430\\u0441\\u0435\\u0440\", \"\\u043d\\u0430\\u0445\\u043e\\u0434\", \"\\u043d\\u0430\\u0445\\u043e\\u0434\", \"\\u043d\\u0430\\u0445\\u043e\\u0434\", \"\\u043d\\u0430\\u0445\\u043e\\u0434\", \"\\u043d\\u0430\\u0445\\u043e\\u0434\", \"\\u043d\\u0430\\u0445\\u043e\\u0434\", \"\\u043d\\u0430\\u0445\\u043e\\u0434\", \"\\u043d\\u0430\\u0445\\u043e\\u0434\", \"\\u043d\\u0430\\u0445\\u043e\\u0434\", \"\\u043d\\u0430\\u0445\\u043e\\u0434\", \"\\u043d\\u0430\\u0446\\u0431\\u0430\\u043d\\u043a\", \"\\u043d\\u0435\\u0441\\u043a\\u043e\\u043b\\u044c\\u043a\", \"\\u043d\\u0435\\u0441\\u043a\\u043e\\u043b\\u044c\\u043a\", \"\\u043d\\u0435\\u0441\\u043a\\u043e\\u043b\\u044c\\u043a\", \"\\u043d\\u0435\\u0441\\u043a\\u043e\\u043b\\u044c\\u043a\", \"\\u043d\\u0435\\u0441\\u043a\\u043e\\u043b\\u044c\\u043a\", \"\\u043d\\u0435\\u0441\\u043a\\u043e\\u043b\\u044c\\u043a\", \"\\u043d\\u0435\\u0441\\u043a\\u043e\\u043b\\u044c\\u043a\", \"\\u043d\\u0435\\u0441\\u043a\\u043e\\u043b\\u044c\\u043a\", \"\\u043d\\u0435\\u0441\\u043a\\u043e\\u043b\\u044c\\u043a\", \"\\u043d\\u0435\\u0441\\u043a\\u043e\\u043b\\u044c\\u043a\", \"\\u043d\\u0435\\u0442\\u0440\\u0435\\u0437\\u0432\", \"\\u043d\\u0435\\u0442\\u0440\\u0435\\u0437\\u0432\", \"\\u043d\\u0435\\u0442\\u0440\\u0435\\u0437\\u0432\", \"\\u043d\\u043e\\u0431\\u0441\", \"\\u043d\\u043e\\u0432\", \"\\u043d\\u043e\\u0432\", \"\\u043d\\u043e\\u0432\", \"\\u043d\\u043e\\u0432\", \"\\u043d\\u043e\\u0432\", \"\\u043d\\u043e\\u0432\", \"\\u043d\\u043e\\u0432\", \"\\u043d\\u043e\\u0432\", \"\\u043d\\u043e\\u0432\", \"\\u043d\\u043e\\u0432\", \"\\u043d\\u044e\\u0441\", \"\\u043e\\u0431\\u0430\\u043c\", \"\\u043e\\u0431\\u0430\\u043c\", \"\\u043e\\u0431\\u0430\\u043c\", \"\\u043e\\u0431\\u0430\\u043c\", \"\\u043e\\u0431\\u0430\\u043c\", \"\\u043e\\u0431\\u0430\\u043c\", \"\\u043e\\u0431\\u0430\\u043c\", \"\\u043e\\u0431\\u0430\\u043c\", \"\\u043e\\u0431\\u0430\\u043c\", \"\\u043e\\u0431\\u0430\\u043c\", \"\\u043e\\u0431\\u0435\\u0440\\u0445\\u043e\\u0444\", \"\\u043e\\u0431\\u043b\\u0438\\u0433\\u0430\\u0446\", \"\\u043e\\u0431\\u043d\\u0430\\u0440\\u0443\\u0436\", \"\\u043e\\u0431\\u043d\\u0430\\u0440\\u0443\\u0436\", \"\\u043e\\u0431\\u043d\\u0430\\u0440\\u0443\\u0436\", \"\\u043e\\u0431\\u043d\\u0430\\u0440\\u0443\\u0436\", \"\\u043e\\u0431\\u043d\\u0430\\u0440\\u0443\\u0436\", \"\\u043e\\u0431\\u043d\\u0430\\u0440\\u0443\\u0436\", \"\\u043e\\u0431\\u043d\\u0430\\u0440\\u0443\\u0436\", \"\\u043e\\u0431\\u043d\\u0430\\u0440\\u0443\\u0436\", \"\\u043e\\u0431\\u043d\\u0430\\u0440\\u0443\\u0436\", \"\\u043e\\u0431\\u043e\\u0440\\u043e\\u043d\\u0441\\u0435\\u0440\\u0432\\u0438\\u0441\", \"\\u043e\\u0431\\u043e\\u0440\\u043e\\u043d\\u0441\\u0435\\u0440\\u0432\\u0438\\u0441\", \"\\u043e\\u0431\\u044a\\u0435\\u043a\\u0442\", \"\\u043e\\u0431\\u044a\\u0435\\u043a\\u0442\", \"\\u043e\\u0431\\u044a\\u0435\\u043a\\u0442\", \"\\u043e\\u0431\\u044a\\u0435\\u043a\\u0442\", \"\\u043e\\u0431\\u044a\\u0435\\u043a\\u0442\", \"\\u043e\\u0431\\u044a\\u0435\\u043a\\u0442\", \"\\u043e\\u0431\\u044a\\u0435\\u043a\\u0442\", \"\\u043e\\u0431\\u044a\\u0435\\u043a\\u0442\", \"\\u043e\\u0431\\u044b\\u0433\\u0440\\u0430\", \"\\u043e\\u0431\\u044b\\u0433\\u0440\\u0430\", \"\\u043e\\u0431\\u044b\\u0433\\u0440\\u0430\", \"\\u043e\\u0431\\u044c\", \"\\u043e\\u0431\\u044c\", \"\\u043e\\u0431\\u044c\", \"\\u043e\\u0431\\u044c\", \"\\u043e\\u0431\\u044c\", \"\\u043e\\u0433\\u0440\\u0430\\u0431\", \"\\u043e\\u0433\\u0440\\u0430\\u0431\\u043b\\u0435\\u043d\", \"\\u043e\\u0433\\u0440\\u0430\\u0431\\u043b\\u0435\\u043d\", \"\\u043e\\u0433\\u0440\\u0430\\u0431\\u043b\\u0435\\u043d\", \"\\u043e\\u0433\\u0440\\u0430\\u0431\\u043b\\u0435\\u043d\", \"\\u043e\\u0434\\u043d\", \"\\u043e\\u0434\\u043d\", \"\\u043e\\u0434\\u043d\", \"\\u043e\\u0434\\u043d\", \"\\u043e\\u0434\\u043d\", \"\\u043e\\u0434\\u043d\", \"\\u043e\\u0434\\u043d\", \"\\u043e\\u0434\\u043d\", \"\\u043e\\u0434\\u043d\", \"\\u043e\\u0434\\u043d\", \"\\u043e\\u0434\\u043d\\u0430\\u043a\", \"\\u043e\\u0434\\u043d\\u0430\\u043a\", \"\\u043e\\u0434\\u043d\\u0430\\u043a\", \"\\u043e\\u0434\\u043d\\u0430\\u043a\", \"\\u043e\\u0434\\u043d\\u0430\\u043a\", \"\\u043e\\u0434\\u043d\\u0430\\u043a\", \"\\u043e\\u0434\\u043d\\u0430\\u043a\", \"\\u043e\\u0434\\u043d\\u0430\\u043a\", \"\\u043e\\u0434\\u043d\\u0430\\u043a\", \"\\u043e\\u0434\\u043d\\u0430\\u043a\", \"\\u043e\\u043a\\u043e\\u043b\", \"\\u043e\\u043a\\u043e\\u043b\", \"\\u043e\\u043a\\u043e\\u043b\", \"\\u043e\\u043a\\u043e\\u043b\", \"\\u043e\\u043a\\u043e\\u043b\", \"\\u043e\\u043a\\u043e\\u043b\", \"\\u043e\\u043a\\u043e\\u043b\", \"\\u043e\\u043a\\u043e\\u043b\", \"\\u043e\\u043a\\u043e\\u043b\", \"\\u043e\\u043a\\u043e\\u043b\", \"\\u043e\\u043a\\u0440\\u0443\\u0430\\u0448\\u0432\", \"\\u043e\\u043b\\u043b\\u0430\\u043d\\u0434\", \"\\u043e\\u043b\\u043b\\u0430\\u043d\\u0434\", \"\\u043e\\u043c\\u0430\\u0440\", \"\\u043e\\u043c\\u043d\\u0438\\u0444\\u043e\\u0431\\u043d\", \"\\u043e\\u043d\\u0438\\u0449\\u0435\\u043d\\u043a\", \"\\u043e\\u0440\\u043a\\u0435\\u0441\\u0442\\u0440\", \"\\u043e\\u0440\\u043a\\u0435\\u0441\\u0442\\u0440\", \"\\u043e\\u0441\\u043a\\u0430\\u0440\", \"\\u043e\\u0441\\u043a\\u0430\\u0440\", \"\\u043e\\u0441\\u043a\\u0430\\u0440\", \"\\u043e\\u0441\\u043a\\u0430\\u0440\", \"\\u043e\\u0441\\u0442\\u0440\\u043e\\u0432\", \"\\u043e\\u0441\\u0442\\u0440\\u043e\\u0432\", \"\\u043e\\u0441\\u0442\\u0440\\u043e\\u0432\", \"\\u043e\\u0441\\u0442\\u0440\\u043e\\u0432\", \"\\u043e\\u0441\\u0442\\u0440\\u043e\\u0432\", \"\\u043e\\u0442\\u0441\\u0442\\u0430\", \"\\u043e\\u0442\\u0441\\u0442\\u0430\", \"\\u043e\\u0442\\u0441\\u0442\\u0430\", \"\\u043e\\u0442\\u0447\\u0435\\u043a\\u0430\\u043d\", \"\\u043e\\u0445\\u043e\\u0442\", \"\\u043e\\u0445\\u043e\\u0442\", \"\\u043e\\u0445\\u043e\\u0442\", \"\\u043e\\u0445\\u043e\\u0442\", \"\\u043e\\u0445\\u043e\\u0442\", \"\\u043e\\u0445\\u043e\\u0442\", \"\\u043f\\u0430\\u0434\\u0432\", \"\\u043f\\u0430\\u043a\\u0438\\u0441\\u0442\\u0430\", \"\\u043f\\u0430\\u043a\\u0438\\u0441\\u0442\\u0430\", \"\\u043f\\u0430\\u043a\\u0438\\u0441\\u0442\\u0430\", \"\\u043f\\u0430\\u043a\\u0438\\u0441\\u0442\\u0430\", \"\\u043f\\u0430\\u043a\\u0438\\u0441\\u0442\\u0430\", \"\\u043f\\u0430\\u043a\\u0438\\u0441\\u0442\\u0430\\u043d\\u0441\\u043a\", \"\\u043f\\u0430\\u043a\\u0438\\u0441\\u0442\\u0430\\u043d\\u0441\\u043a\", \"\\u043f\\u0430\\u043a\\u0438\\u0441\\u0442\\u0430\\u043d\\u0441\\u043a\", \"\\u043f\\u0430\\u043a\\u0438\\u0441\\u0442\\u0430\\u043d\\u0441\\u043a\", \"\\u043f\\u0430\\u043a\\u0438\\u0441\\u0442\\u0430\\u043d\\u0441\\u043a\", \"\\u043f\\u0430\\u043b\\u0430\\u0442\", \"\\u043f\\u0430\\u043b\\u0430\\u0442\", \"\\u043f\\u0430\\u043b\\u0430\\u0442\", \"\\u043f\\u0430\\u043b\\u0430\\u0442\", \"\\u043f\\u0430\\u043b\\u0430\\u0442\", \"\\u043f\\u0430\\u043b\\u0430\\u0442\", \"\\u043f\\u0430\\u043b\\u0430\\u0442\", \"\\u043f\\u0430\\u043b\\u0430\\u0442\", \"\\u043f\\u0430\\u043c\\u0443\\u043a\", \"\\u043f\\u0430\\u043f\\u0430\\u0440\\u0430\\u0446\\u0446\", \"\\u043f\\u0430\\u0440\\u0435\\u043d\", \"\\u043f\\u0430\\u0440\\u043e\\u043c\", \"\\u043f\\u0430\\u0440\\u0442\", \"\\u043f\\u0430\\u0440\\u0442\", \"\\u043f\\u0430\\u0440\\u0442\", \"\\u043f\\u0430\\u0440\\u0442\", \"\\u043f\\u0430\\u0440\\u0442\", \"\\u043f\\u0430\\u0440\\u0442\", \"\\u043f\\u0430\\u0440\\u0442\", \"\\u043f\\u0430\\u0440\\u0442\", \"\\u043f\\u0430\\u0440\\u0442\", \"\\u043f\\u0430\\u0441\\u0441\\u0430\\u0436\\u0438\\u0440\", \"\\u043f\\u0430\\u0441\\u0441\\u0430\\u0436\\u0438\\u0440\", \"\\u043f\\u0430\\u0441\\u0441\\u0430\\u0436\\u0438\\u0440\", \"\\u043f\\u0430\\u0441\\u0441\\u0430\\u0436\\u0438\\u0440\", \"\\u043f\\u0430\\u0441\\u0441\\u0430\\u0436\\u0438\\u0440\", \"\\u043f\\u0430\\u0443\\u043b\\u0441\", \"\\u043f\\u0430\\u0443\\u044d\\u043b\\u043b\", \"\\u043f\\u0435\\u0434\\u043e\\u0444\\u0438\\u043b\", \"\\u043f\\u0435\\u0434\\u043e\\u0444\\u0438\\u043b\", \"\\u043f\\u0435\\u0434\\u043e\\u0444\\u0438\\u043b\", \"\\u043f\\u0435\\u0434\\u043e\\u0444\\u0438\\u043b\", \"\\u043f\\u0435\\u0440\\u0432\", \"\\u043f\\u0435\\u0440\\u0432\", \"\\u043f\\u0435\\u0440\\u0432\", \"\\u043f\\u0435\\u0440\\u0432\", \"\\u043f\\u0435\\u0440\\u0432\", \"\\u043f\\u0435\\u0440\\u0432\", \"\\u043f\\u0435\\u0440\\u0432\", \"\\u043f\\u0435\\u0440\\u0432\", \"\\u043f\\u0435\\u0440\\u0432\", \"\\u043f\\u0435\\u0440\\u0432\", \"\\u043f\\u0435\\u0440\\u0435\\u043f\\u0440\\u044f\\u0442\\u044b\\u0432\\u0430\", \"\\u043f\\u0435\\u0440\\u043a\\u0438\\u043d\\u0441\", \"\\u043f\\u0435\\u0440\\u0441\\u0438\\u043a\", \"\\u043f\\u0438\\u0432\", \"\\u043f\\u0438\\u0432\", \"\\u043f\\u0438\\u043c\\u043a\\u0438\\u043d\", \"\\u043f\\u0438\\u043d\\u0447\\u043e\\u043d\", \"\\u043f\\u0438\\u043e\\u0442\\u0440\\u043e\\u0432\\u0441\\u043a\", \"\\u043f\\u0438\\u0440\\u0441\", \"\\u043f\\u0438\\u0440\\u0441\", \"\\u043f\\u0438\\u0441\\u0430\\u0442\\u0435\\u043b\", \"\\u043f\\u0438\\u0441\\u0430\\u0442\\u0435\\u043b\", \"\\u043f\\u0438\\u0441\\u0430\\u0442\\u0435\\u043b\", \"\\u043f\\u0438\\u0441\\u0430\\u0442\\u0435\\u043b\", \"\\u043f\\u0438\\u0441\\u0430\\u0442\\u0435\\u043b\", \"\\u043f\\u0438\\u0441\\u0430\\u0442\\u0435\\u043b\", \"\\u043f\\u0438\\u0441\\u044c\\u043c\", \"\\u043f\\u0438\\u0441\\u044c\\u043c\", \"\\u043f\\u0438\\u0441\\u044c\\u043c\", \"\\u043f\\u0438\\u0441\\u044c\\u043c\", \"\\u043f\\u0438\\u0441\\u044c\\u043c\", \"\\u043f\\u0438\\u0441\\u044c\\u043c\", \"\\u043f\\u0438\\u0441\\u044c\\u043c\", \"\\u043f\\u0438\\u0441\\u044c\\u043c\", \"\\u043f\\u0438\\u0444\", \"\\u043f\\u0438\\u0445\\u043b\\u0435\\u0440\", \"\\u043f\\u043e\\u0431\\u0435\\u0434\", \"\\u043f\\u043e\\u0431\\u0435\\u0434\", \"\\u043f\\u043e\\u0431\\u0435\\u0434\", \"\\u043f\\u043e\\u0431\\u0435\\u0434\", \"\\u043f\\u043e\\u0431\\u0435\\u0434\", \"\\u043f\\u043e\\u0431\\u0435\\u0434\", \"\\u043f\\u043e\\u0431\\u0435\\u0434\", \"\\u043f\\u043e\\u0431\\u0435\\u0434\", \"\\u043f\\u043e\\u0431\\u0435\\u0434\\u0438\\u0442\\u0435\\u043b\", \"\\u043f\\u043e\\u0431\\u0435\\u0434\\u0438\\u0442\\u0435\\u043b\", \"\\u043f\\u043e\\u0431\\u0435\\u0434\\u0438\\u0442\\u0435\\u043b\", \"\\u043f\\u043e\\u0431\\u0435\\u0434\\u0438\\u0442\\u0435\\u043b\", \"\\u043f\\u043e\\u0431\\u0435\\u0434\\u0438\\u0442\\u0435\\u043b\", \"\\u043f\\u043e\\u0431\\u0435\\u0434\\u0438\\u0442\\u0435\\u043b\", \"\\u043f\\u043e\\u0431\\u0435\\u0434\\u0438\\u0442\\u0435\\u043b\", \"\\u043f\\u043e\\u0431\\u0435\\u0434\\u0438\\u0442\\u0435\\u043b\", \"\\u043f\\u043e\\u0432\\u0441\\u0442\\u0430\\u043d\\u0446\", \"\\u043f\\u043e\\u0432\\u0441\\u0442\\u0430\\u043d\\u0446\", \"\\u043f\\u043e\\u0432\\u0441\\u0442\\u0430\\u043d\\u0446\", \"\\u043f\\u043e\\u0432\\u0441\\u0442\\u0430\\u043d\\u0446\", \"\\u043f\\u043e\\u0432\\u0441\\u0442\\u0430\\u043d\\u0446\", \"\\u043f\\u043e\\u0433\\u0440\\u0430\\u043d\\u0438\\u0447\\u043d\\u0438\\u043a\", \"\\u043f\\u043e\\u0433\\u0440\\u0430\\u043d\\u0438\\u0447\\u043d\\u0438\\u043a\", \"\\u043f\\u043e\\u0433\\u0440\\u0430\\u043d\\u0438\\u0447\\u043d\\u0438\\u043a\", \"\\u043f\\u043e\\u0434\\u0431\\u043e\\u0440\", \"\\u043f\\u043e\\u0434\\u0432\\u043e\\u0434\\u043d\", \"\\u043f\\u043e\\u0434\\u0432\\u043e\\u0434\\u043d\", \"\\u043f\\u043e\\u0434\\u043f\\u0438\\u0441\", \"\\u043f\\u043e\\u0434\\u043f\\u0438\\u0441\", \"\\u043f\\u043e\\u0434\\u043f\\u0438\\u0441\", \"\\u043f\\u043e\\u0434\\u043f\\u0438\\u0441\", \"\\u043f\\u043e\\u0434\\u043f\\u0438\\u0441\", \"\\u043f\\u043e\\u0434\\u043f\\u0438\\u0441\", \"\\u043f\\u043e\\u0434\\u043f\\u0438\\u0441\\u0430\", \"\\u043f\\u043e\\u0434\\u043f\\u0438\\u0441\\u0430\", \"\\u043f\\u043e\\u0434\\u043f\\u0438\\u0441\\u0430\", \"\\u043f\\u043e\\u0434\\u043f\\u0438\\u0441\\u0430\", \"\\u043f\\u043e\\u0434\\u043f\\u0438\\u0441\\u0430\", \"\\u043f\\u043e\\u0434\\u043f\\u0438\\u0441\\u0430\", \"\\u043f\\u043e\\u0434\\u043f\\u0438\\u0441\\u0430\", \"\\u043f\\u043e\\u0434\\u043f\\u0438\\u0441\\u0430\", \"\\u043f\\u043e\\u0434\\u043f\\u0438\\u0441\\u0430\", \"\\u043f\\u043e\\u0434\\u043f\\u0438\\u0441\\u0430\", \"\\u043f\\u043e\\u0436\\u0430\\u0440\", \"\\u043f\\u043e\\u0436\\u0430\\u0440\", \"\\u043f\\u043e\\u0436\\u0430\\u0440\", \"\\u043f\\u043e\\u0436\\u0430\\u0440\", \"\\u043f\\u043e\\u0436\\u0430\\u0440\", \"\\u043f\\u043e\\u0436\\u0430\\u0440\", \"\\u043f\\u043e\\u0436\\u0430\\u0440\", \"\\u043f\\u043e\\u0436\\u0430\\u0440\", \"\\u043f\\u043e\\u0437\\u043d\\u0435\\u0440\", \"\\u043f\\u043e\\u043a\\u0430\\u0437\\u0430\\u0442\\u0435\\u043b\", \"\\u043f\\u043e\\u043a\\u0430\\u0437\\u0430\\u0442\\u0435\\u043b\", \"\\u043f\\u043e\\u043a\\u0430\\u0437\\u0430\\u0442\\u0435\\u043b\", \"\\u043f\\u043e\\u043a\\u0430\\u0437\\u0430\\u0442\\u0435\\u043b\", \"\\u043f\\u043e\\u043a\\u0430\\u0437\\u0430\\u0442\\u0435\\u043b\", \"\\u043f\\u043e\\u043a\\u0430\\u0437\\u0430\\u0442\\u0435\\u043b\", \"\\u043f\\u043e\\u043a\\u0430\\u0437\\u0430\\u0442\\u0435\\u043b\", \"\\u043f\\u043e\\u043a\\u0435\\u043c\\u043e\\u043d\", \"\\u043f\\u043e\\u043b\\u0438\\u0433\\u0440\\u0430\\u0444\", \"\\u043f\\u043e\\u043b\\u0438\\u0446\", \"\\u043f\\u043e\\u043b\\u0438\\u0446\", \"\\u043f\\u043e\\u043b\\u0438\\u0446\", \"\\u043f\\u043e\\u043b\\u0438\\u0446\", \"\\u043f\\u043e\\u043b\\u0438\\u0446\", \"\\u043f\\u043e\\u043b\\u0438\\u0446\", \"\\u043f\\u043e\\u043b\\u0438\\u0446\", \"\\u043f\\u043e\\u043b\\u0438\\u0446\", \"\\u043f\\u043e\\u043b\\u0438\\u0446\", \"\\u043f\\u043e\\u043b\\u0438\\u0446\", \"\\u043f\\u043e\\u043b\\u0438\\u0446\\u0435\\u0439\\u0441\\u043a\", \"\\u043f\\u043e\\u043b\\u0438\\u0446\\u0435\\u0439\\u0441\\u043a\", \"\\u043f\\u043e\\u043b\\u0438\\u0446\\u0435\\u0439\\u0441\\u043a\", \"\\u043f\\u043e\\u043b\\u0438\\u0446\\u0435\\u0439\\u0441\\u043a\", \"\\u043f\\u043e\\u043b\\u0438\\u0446\\u0435\\u0439\\u0441\\u043a\", \"\\u043f\\u043e\\u043b\\u0438\\u0446\\u0435\\u0439\\u0441\\u043a\", \"\\u043f\\u043e\\u043b\\u0438\\u0446\\u0435\\u0439\\u0441\\u043a\", \"\\u043f\\u043e\\u043b\\u0438\\u0446\\u0435\\u0439\\u0441\\u043a\", \"\\u043f\\u043e\\u043b\\u0438\\u0446\\u0435\\u0439\\u0441\\u043a\", \"\\u043f\\u043e\\u043b\\u043e\\u043d\\u0441\\u043a\", \"\\u043f\\u043e\\u043b\\u0443\\u0437\\u0430\\u0449\\u0438\\u0442\\u043d\\u0438\\u043a\", \"\\u043f\\u043e\\u043b\\u0443\\u0444\\u0438\\u043d\\u0430\\u043b\", \"\\u043f\\u043e\\u043b\\u0443\\u0447\", \"\\u043f\\u043e\\u043b\\u0443\\u0447\", \"\\u043f\\u043e\\u043b\\u0443\\u0447\", \"\\u043f\\u043e\\u043b\\u0443\\u0447\", \"\\u043f\\u043e\\u043b\\u0443\\u0447\", \"\\u043f\\u043e\\u043b\\u0443\\u0447\", \"\\u043f\\u043e\\u043b\\u0443\\u0447\", \"\\u043f\\u043e\\u043b\\u0443\\u0447\", \"\\u043f\\u043e\\u043b\\u0443\\u0447\", \"\\u043f\\u043e\\u043b\\u0443\\u0447\", \"\\u043f\\u043e\\u0441\\u0430\\u0434\\u043a\", \"\\u043f\\u043e\\u0441\\u0430\\u0434\\u043a\", \"\\u043f\\u043e\\u0441\\u0442\", \"\\u043f\\u043e\\u0441\\u0442\", \"\\u043f\\u043e\\u0441\\u0442\", \"\\u043f\\u043e\\u0441\\u0442\", \"\\u043f\\u043e\\u0441\\u0442\", \"\\u043f\\u043e\\u0441\\u0442\", \"\\u043f\\u043e\\u0441\\u0442\", \"\\u043f\\u043e\\u0441\\u0442\", \"\\u043f\\u043e\\u0441\\u0442\", \"\\u043f\\u043e\\u0441\\u0442\", \"\\u043f\\u043e\\u0441\\u0442\\u0440\\u0430\\u0434\\u0430\", \"\\u043f\\u043e\\u0441\\u0442\\u0440\\u0430\\u0434\\u0430\", \"\\u043f\\u043e\\u0441\\u0442\\u0440\\u0430\\u0434\\u0430\", \"\\u043f\\u043e\\u0441\\u0442\\u0440\\u0430\\u0434\\u0430\", \"\\u043f\\u043e\\u0441\\u0442\\u0440\\u0430\\u0434\\u0430\", \"\\u043f\\u043e\\u0441\\u0442\\u0440\\u0430\\u0434\\u0430\", \"\\u043f\\u043e\\u0441\\u0442\\u0440\\u0430\\u0434\\u0430\", \"\\u043f\\u043e\\u0441\\u0442\\u0440\\u0430\\u0434\\u0430\", \"\\u043f\\u043e\\u0441\\u0442\\u0440\\u0430\\u0434\\u0430\", \"\\u043f\\u043e\\u0441\\u0442\\u0440\\u0430\\u0434\\u0430\", \"\\u043f\\u043e\\u0442\\u043e\\u043b\\u043a\", \"\\u043f\\u0440\\u0430\\u0432\\u0438\\u0442\\u0435\\u043b\\u044c\\u0441\\u0442\\u0432\", \"\\u043f\\u0440\\u0430\\u0432\\u0438\\u0442\\u0435\\u043b\\u044c\\u0441\\u0442\\u0432\", \"\\u043f\\u0440\\u0430\\u0432\\u0438\\u0442\\u0435\\u043b\\u044c\\u0441\\u0442\\u0432\", \"\\u043f\\u0440\\u0430\\u0432\\u0438\\u0442\\u0435\\u043b\\u044c\\u0441\\u0442\\u0432\", \"\\u043f\\u0440\\u0430\\u0432\\u0438\\u0442\\u0435\\u043b\\u044c\\u0441\\u0442\\u0432\", \"\\u043f\\u0440\\u0430\\u0432\\u0438\\u0442\\u0435\\u043b\\u044c\\u0441\\u0442\\u0432\", \"\\u043f\\u0440\\u0430\\u0432\\u0438\\u0442\\u0435\\u043b\\u044c\\u0441\\u0442\\u0432\", \"\\u043f\\u0440\\u0430\\u0432\\u0438\\u0442\\u0435\\u043b\\u044c\\u0441\\u0442\\u0432\", \"\\u043f\\u0440\\u0430\\u0432\\u0438\\u0442\\u0435\\u043b\\u044c\\u0441\\u0442\\u0432\", \"\\u043f\\u0440\\u0430\\u0432\\u0438\\u0442\\u0435\\u043b\\u044c\\u0441\\u0442\\u0432\", \"\\u043f\\u0440\\u0435\\u0434\\u0441\\u0442\\u0430\\u0432\\u0438\\u0442\\u0435\\u043b\", \"\\u043f\\u0440\\u0435\\u0434\\u0441\\u0442\\u0430\\u0432\\u0438\\u0442\\u0435\\u043b\", \"\\u043f\\u0440\\u0435\\u0434\\u0441\\u0442\\u0430\\u0432\\u0438\\u0442\\u0435\\u043b\", \"\\u043f\\u0440\\u0435\\u0434\\u0441\\u0442\\u0430\\u0432\\u0438\\u0442\\u0435\\u043b\", \"\\u043f\\u0440\\u0435\\u0434\\u0441\\u0442\\u0430\\u0432\\u0438\\u0442\\u0435\\u043b\", \"\\u043f\\u0440\\u0435\\u0434\\u0441\\u0442\\u0430\\u0432\\u0438\\u0442\\u0435\\u043b\", \"\\u043f\\u0440\\u0435\\u0434\\u0441\\u0442\\u0430\\u0432\\u0438\\u0442\\u0435\\u043b\", \"\\u043f\\u0440\\u0435\\u0434\\u0441\\u0442\\u0430\\u0432\\u0438\\u0442\\u0435\\u043b\", \"\\u043f\\u0440\\u0435\\u0434\\u0441\\u0442\\u0430\\u0432\\u0438\\u0442\\u0435\\u043b\", \"\\u043f\\u0440\\u0435\\u0434\\u0441\\u0442\\u0430\\u0432\\u0438\\u0442\\u0435\\u043b\", \"\\u043f\\u0440\\u0435\\u0437\\u0438\\u0434\\u0435\\u043d\\u0442\", \"\\u043f\\u0440\\u0435\\u0437\\u0438\\u0434\\u0435\\u043d\\u0442\", \"\\u043f\\u0440\\u0435\\u0437\\u0438\\u0434\\u0435\\u043d\\u0442\", \"\\u043f\\u0440\\u0435\\u0437\\u0438\\u0434\\u0435\\u043d\\u0442\", \"\\u043f\\u0440\\u0435\\u0437\\u0438\\u0434\\u0435\\u043d\\u0442\", \"\\u043f\\u0440\\u0435\\u0437\\u0438\\u0434\\u0435\\u043d\\u0442\", \"\\u043f\\u0440\\u0435\\u0437\\u0438\\u0434\\u0435\\u043d\\u0442\", \"\\u043f\\u0440\\u0435\\u0437\\u0438\\u0434\\u0435\\u043d\\u0442\", \"\\u043f\\u0440\\u0435\\u0437\\u0438\\u0434\\u0435\\u043d\\u0442\", \"\\u043f\\u0440\\u0435\\u0437\\u0438\\u0434\\u0435\\u043d\\u0442\", \"\\u043f\\u0440\\u0438\\u0441\\u0442\\u0430\\u0432\\u043a\", \"\\u043f\\u0440\\u0438\\u0441\\u0442\\u0430\\u0432\\u043a\", \"\\u043f\\u0440\\u043e\\u0435\\u043a\\u0442\", \"\\u043f\\u0440\\u043e\\u0435\\u043a\\u0442\", \"\\u043f\\u0440\\u043e\\u0435\\u043a\\u0442\", \"\\u043f\\u0440\\u043e\\u0435\\u043a\\u0442\", \"\\u043f\\u0440\\u043e\\u0435\\u043a\\u0442\", \"\\u043f\\u0440\\u043e\\u0435\\u043a\\u0442\", \"\\u043f\\u0440\\u043e\\u0435\\u043a\\u0442\", \"\\u043f\\u0440\\u043e\\u0435\\u043a\\u0442\", \"\\u043f\\u0440\\u043e\\u0435\\u043a\\u0442\", \"\\u043f\\u0440\\u043e\\u0435\\u043a\\u0442\", \"\\u043f\\u0440\\u043e\\u0438\\u0437\\u043e\\u0448\\u043b\", \"\\u043f\\u0440\\u043e\\u0438\\u0437\\u043e\\u0448\\u043b\", \"\\u043f\\u0440\\u043e\\u0438\\u0437\\u043e\\u0448\\u043b\", \"\\u043f\\u0440\\u043e\\u0438\\u0437\\u043e\\u0448\\u043b\", \"\\u043f\\u0440\\u043e\\u0438\\u0437\\u043e\\u0448\\u043b\", \"\\u043f\\u0440\\u043e\\u0438\\u0437\\u043e\\u0448\\u043b\", \"\\u043f\\u0440\\u043e\\u0438\\u0437\\u043e\\u0448\\u043b\", \"\\u043f\\u0440\\u043e\\u0438\\u0437\\u043e\\u0448\\u043b\", \"\\u043f\\u0440\\u043e\\u0438\\u0437\\u043e\\u0448\\u043b\", \"\\u043f\\u0440\\u043e\\u0438\\u0437\\u043e\\u0448\\u043b\", \"\\u043f\\u0440\\u043e\\u043f\\u0430\\u0433\\u0430\\u043d\\u0434\", \"\\u043f\\u0440\\u043e\\u043f\\u0430\\u0433\\u0430\\u043d\\u0434\", \"\\u043f\\u0440\\u043e\\u043f\\u0430\\u0433\\u0430\\u043d\\u0434\", \"\\u043f\\u0440\\u043e\\u0446\\u0435\\u043d\\u0442\", \"\\u043f\\u0440\\u043e\\u0446\\u0435\\u043d\\u0442\", \"\\u043f\\u0440\\u043e\\u0446\\u0435\\u043d\\u0442\", \"\\u043f\\u0440\\u043e\\u0446\\u0435\\u043d\\u0442\", \"\\u043f\\u0440\\u043e\\u0446\\u0435\\u043d\\u0442\", \"\\u043f\\u0440\\u043e\\u0446\\u0435\\u043d\\u0442\", \"\\u043f\\u0440\\u043e\\u0446\\u0435\\u043d\\u0442\", \"\\u043f\\u0440\\u043e\\u0446\\u0435\\u043d\\u0442\", \"\\u043f\\u0440\\u043e\\u0446\\u0435\\u043d\\u0442\", \"\\u043f\\u0440\\u043e\\u0446\\u0435\\u043d\\u0442\", \"\\u043f\\u0440\\u043e\\u0446\\u0435\\u043d\\u0442\\u043d\", \"\\u043f\\u0440\\u043e\\u0446\\u0435\\u043d\\u0442\\u043d\", \"\\u043f\\u0440\\u043e\\u0446\\u0435\\u043d\\u0442\\u043d\", \"\\u043f\\u0440\\u043e\\u0446\\u0435\\u043d\\u0442\\u043d\", \"\\u043f\\u0441\\u0438\\u0445\", \"\\u043f\\u0442\\u0438\\u0446\", \"\\u043f\\u0442\\u0438\\u0446\", \"\\u043f\\u0442\\u0438\\u0446\", \"\\u043f\\u0445\\u0435\\u043d\\u044c\\u044f\", \"\\u0440\\u0430\\u0431\\u043e\\u0442\", \"\\u0440\\u0430\\u0431\\u043e\\u0442\", \"\\u0440\\u0430\\u0431\\u043e\\u0442\", \"\\u0440\\u0430\\u0431\\u043e\\u0442\", \"\\u0440\\u0430\\u0431\\u043e\\u0442\", \"\\u0440\\u0430\\u0431\\u043e\\u0442\", \"\\u0440\\u0430\\u0431\\u043e\\u0442\", \"\\u0440\\u0430\\u0431\\u043e\\u0442\", \"\\u0440\\u0430\\u0431\\u043e\\u0442\", \"\\u0440\\u0430\\u0431\\u043e\\u0442\", \"\\u0440\\u0430\\u0437\\u0432\\u043e\\u0437\\u0436\\u0430\", \"\\u0440\\u0430\\u0437\\u0432\\u043e\\u0437\\u0436\\u0430\", \"\\u0440\\u0430\\u0439\\u043e\\u043d\", \"\\u0440\\u0430\\u0439\\u043e\\u043d\", \"\\u0440\\u0430\\u0439\\u043e\\u043d\", \"\\u0440\\u0430\\u0439\\u043e\\u043d\", \"\\u0440\\u0430\\u0439\\u043e\\u043d\", \"\\u0440\\u0430\\u0439\\u043e\\u043d\", \"\\u0440\\u0430\\u0439\\u043e\\u043d\", \"\\u0440\\u0430\\u0439\\u043e\\u043d\", \"\\u0440\\u0430\\u0439\\u043e\\u043d\", \"\\u0440\\u0430\\u0439\\u043e\\u043d\", \"\\u0440\\u0430\\u0439\\u0445\\u0430\", \"\\u0440\\u0430\\u043d\", \"\\u0440\\u0430\\u043d\", \"\\u0440\\u0430\\u043d\", \"\\u0440\\u0430\\u043d\", \"\\u0440\\u0430\\u043d\", \"\\u0440\\u0430\\u043d\", \"\\u0440\\u0430\\u043d\", \"\\u0440\\u0430\\u043d\", \"\\u0440\\u0430\\u043d\", \"\\u0440\\u0430\\u043d\", \"\\u0440\\u0430\\u0441\\u0441\\u043b\\u0435\\u0434\\u043e\\u0432\\u0430\\u043d\", \"\\u0440\\u0430\\u0441\\u0441\\u043b\\u0435\\u0434\\u043e\\u0432\\u0430\\u043d\", \"\\u0440\\u0430\\u0441\\u0441\\u043b\\u0435\\u0434\\u043e\\u0432\\u0430\\u043d\", \"\\u0440\\u0430\\u0441\\u0441\\u043b\\u0435\\u0434\\u043e\\u0432\\u0430\\u043d\", \"\\u0440\\u0430\\u0441\\u0441\\u043b\\u0435\\u0434\\u043e\\u0432\\u0430\\u043d\", \"\\u0440\\u0430\\u0441\\u0441\\u043b\\u0435\\u0434\\u043e\\u0432\\u0430\\u043d\", \"\\u0440\\u0430\\u0441\\u0441\\u043b\\u0435\\u0434\\u043e\\u0432\\u0430\\u043d\", \"\\u0440\\u0430\\u0441\\u0441\\u043b\\u0435\\u0434\\u043e\\u0432\\u0430\\u043d\", \"\\u0440\\u0430\\u0441\\u0441\\u043b\\u0435\\u0434\\u043e\\u0432\\u0430\\u043d\", \"\\u0440\\u0430\\u0441\\u0441\\u043b\\u0435\\u0434\\u043e\\u0432\\u0430\\u043d\", \"\\u0440\\u0435\\u0432\\u043e\\u043b\\u044c\\u0432\\u0435\\u0440\", \"\\u0440\\u0435\\u0435\\u0441\\u0442\\u0440\", \"\\u0440\\u0435\\u0435\\u0441\\u0442\\u0440\", \"\\u0440\\u0435\\u0435\\u0441\\u0442\\u0440\", \"\\u0440\\u0435\\u0435\\u0441\\u0442\\u0440\", \"\\u0440\\u0435\\u0436\\u0438\\u0441\\u0441\\u0435\\u0440\", \"\\u0440\\u0435\\u0436\\u0438\\u0441\\u0441\\u0435\\u0440\", \"\\u0440\\u0435\\u0436\\u0438\\u0441\\u0441\\u0435\\u0440\", \"\\u0440\\u0435\\u0436\\u0438\\u0441\\u0441\\u0435\\u0440\", \"\\u0440\\u0435\\u0436\\u0438\\u0441\\u0441\\u0435\\u0440\", \"\\u0440\\u0435\\u0436\\u0438\\u0441\\u0441\\u0435\\u0440\", \"\\u0440\\u0435\\u0436\\u0438\\u0441\\u0441\\u0435\\u0440\", \"\\u0440\\u0435\\u0436\\u0438\\u0441\\u0441\\u0435\\u0440\", \"\\u0440\\u0435\\u0436\\u0438\\u0441\\u0441\\u0435\\u0440\", \"\\u0440\\u0435\\u0436\\u0438\\u0441\\u0441\\u0435\\u0440\", \"\\u0440\\u0435\\u0437\\u0443\\u043b\\u044c\\u0442\\u0430\\u0442\", \"\\u0440\\u0435\\u0437\\u0443\\u043b\\u044c\\u0442\\u0430\\u0442\", \"\\u0440\\u0435\\u0437\\u0443\\u043b\\u044c\\u0442\\u0430\\u0442\", \"\\u0440\\u0435\\u0437\\u0443\\u043b\\u044c\\u0442\\u0430\\u0442\", \"\\u0440\\u0435\\u0437\\u0443\\u043b\\u044c\\u0442\\u0430\\u0442\", \"\\u0440\\u0435\\u0437\\u0443\\u043b\\u044c\\u0442\\u0430\\u0442\", \"\\u0440\\u0435\\u0437\\u0443\\u043b\\u044c\\u0442\\u0430\\u0442\", \"\\u0440\\u0435\\u0437\\u0443\\u043b\\u044c\\u0442\\u0430\\u0442\", \"\\u0440\\u0435\\u0437\\u0443\\u043b\\u044c\\u0442\\u0430\\u0442\", \"\\u0440\\u0435\\u0437\\u0443\\u043b\\u044c\\u0442\\u0430\\u0442\", \"\\u0440\\u0435\\u0439\\u0441\", \"\\u0440\\u0435\\u0439\\u0441\", \"\\u0440\\u0435\\u0439\\u0441\", \"\\u0440\\u0435\\u0439\\u0441\", \"\\u0440\\u0435\\u0439\\u0442\\u0438\\u043d\\u0433\", \"\\u0440\\u0435\\u0439\\u0442\\u0438\\u043d\\u0433\", \"\\u0440\\u0435\\u0439\\u0442\\u0438\\u043d\\u0433\", \"\\u0440\\u0435\\u0439\\u0442\\u0438\\u043d\\u0433\", \"\\u0440\\u0435\\u0439\\u0442\\u0438\\u043d\\u0433\", \"\\u0440\\u0435\\u0439\\u0442\\u0438\\u043d\\u0433\", \"\\u0440\\u0435\\u0439\\u0442\\u0438\\u043d\\u0433\", \"\\u0440\\u0435\\u043b\\u0438\\u0437\", \"\\u0440\\u0435\\u043b\\u0438\\u0437\", \"\\u0440\\u0435\\u043b\\u0438\\u0437\", \"\\u0440\\u0435\\u043b\\u0438\\u0437\", \"\\u0440\\u0435\\u043b\\u0438\\u0437\", \"\\u0440\\u0435\\u043b\\u0438\\u0437\", \"\\u0440\\u0435\\u043b\\u0438\\u0437\", \"\\u0440\\u0435\\u043b\\u0438\\u0437\", \"\\u0440\\u0435\\u043b\\u0438\\u0437\", \"\\u0440\\u0435\\u0441\\u043f\\u0443\\u0431\\u043b\\u0438\\u043a\\u0430\\u043d\\u0441\\u043a\", \"\\u0440\\u0435\\u0441\\u043f\\u0443\\u0431\\u043b\\u0438\\u043a\\u0430\\u043d\\u0441\\u043a\", \"\\u0440\\u0435\\u0441\\u0442\\u043e\\u0440\\u0430\", \"\\u0440\\u0435\\u0441\\u0442\\u043e\\u0440\\u0430\", \"\\u0440\\u0435\\u0441\\u0442\\u043e\\u0440\\u0430\", \"\\u0440\\u0435\\u0447\\u043d\", \"\\u0440\\u0438\\u0447\\u0430\\u0440\\u0434\\u0441\\u043e\\u043d\", \"\\u0440\\u043e\\u043a\\u043d\\u0440\\u043e\\u043b\\u043b\", \"\\u0440\\u043e\\u043b\", \"\\u0440\\u043e\\u043b\", \"\\u0440\\u043e\\u043b\", \"\\u0440\\u043e\\u043b\", \"\\u0440\\u043e\\u043b\", \"\\u0440\\u043e\\u043b\", \"\\u0440\\u043e\\u043b\", \"\\u0440\\u043e\\u043b\", \"\\u0440\\u043e\\u043b\", \"\\u0440\\u043e\\u043b\\u0438\\u043a\", \"\\u0440\\u043e\\u043b\\u0438\\u043a\", \"\\u0440\\u043e\\u043b\\u0438\\u043a\", \"\\u0440\\u043e\\u043b\\u0438\\u043a\", \"\\u0440\\u043e\\u043b\\u0438\\u043a\", \"\\u0440\\u043e\\u043b\\u0438\\u043a\", \"\\u0440\\u043e\\u043b\\u0438\\u043a\", \"\\u0440\\u043e\\u043b\\u0438\\u043a\", \"\\u0440\\u043e\\u043b\\u0438\\u043a\", \"\\u0440\\u043e\\u043c\\u0430\\u043d\\u043e\\u0432\", \"\\u0440\\u043e\\u043c\\u0430\\u043d\\u043e\\u0432\", \"\\u0440\\u043e\\u0441\\u0430\\u0432\\u0438\\u0430\\u0446\", \"\\u0440\\u043e\\u0441\\u043a\\u043e\\u043c\\u043d\\u0430\\u0434\\u0437\\u043e\\u0440\", \"\\u0440\\u043e\\u0441\\u043a\\u043e\\u043c\\u043d\\u0430\\u0434\\u0437\\u043e\\u0440\", \"\\u0440\\u043e\\u0441\\u043a\\u043e\\u043c\\u043d\\u0430\\u0434\\u0437\\u043e\\u0440\", \"\\u0440\\u043e\\u0441\\u043a\\u043e\\u043c\\u043d\\u0430\\u0434\\u0437\\u043e\\u0440\", \"\\u0440\\u043e\\u0441\\u043f\\u0443\\u0441\\u043a\", \"\\u0440\\u043e\\u0441\\u043f\\u0443\\u0441\\u043a\", \"\\u0440\\u043e\\u0441\\u043f\\u0443\\u0441\\u043a\", \"\\u0440\\u043e\\u0441\\u0441\", \"\\u0440\\u043e\\u0441\\u0441\", \"\\u0440\\u043e\\u0441\\u0441\", \"\\u0440\\u043e\\u0441\\u0441\", \"\\u0440\\u043e\\u0441\\u0441\", \"\\u0440\\u043e\\u0441\\u0441\", \"\\u0440\\u043e\\u0441\\u0441\", \"\\u0440\\u043e\\u0441\\u0441\", \"\\u0440\\u043e\\u0441\\u0441\", \"\\u0440\\u043e\\u0441\\u0441\", \"\\u0440\\u043e\\u0441\\u0441\\u0438\\u0439\\u0441\\u043a\", \"\\u0440\\u043e\\u0441\\u0441\\u0438\\u0439\\u0441\\u043a\", \"\\u0440\\u043e\\u0441\\u0441\\u0438\\u0439\\u0441\\u043a\", \"\\u0440\\u043e\\u0441\\u0441\\u0438\\u0439\\u0441\\u043a\", \"\\u0440\\u043e\\u0441\\u0441\\u0438\\u0439\\u0441\\u043a\", \"\\u0440\\u043e\\u0441\\u0441\\u0438\\u0439\\u0441\\u043a\", \"\\u0440\\u043e\\u0441\\u0441\\u0438\\u0439\\u0441\\u043a\", \"\\u0440\\u043e\\u0441\\u0441\\u0438\\u0439\\u0441\\u043a\", \"\\u0440\\u043e\\u0441\\u0441\\u0438\\u0439\\u0441\\u043a\", \"\\u0440\\u043e\\u0441\\u0441\\u0438\\u0439\\u0441\\u043a\", \"\\u0440\\u0443\\u0431\\u043b\", \"\\u0440\\u0443\\u0431\\u043b\", \"\\u0440\\u0443\\u0431\\u043b\", \"\\u0440\\u0443\\u0431\\u043b\", \"\\u0440\\u0443\\u0431\\u043b\", \"\\u0440\\u0443\\u0431\\u043b\", \"\\u0440\\u0443\\u0431\\u043b\", \"\\u0440\\u0443\\u0431\\u043b\", \"\\u0440\\u0443\\u0431\\u043b\", \"\\u0440\\u0443\\u0431\\u043b\", \"\\u0440\\u044b\\u043d\\u043a\", \"\\u0440\\u044b\\u043d\\u043a\", \"\\u0440\\u044b\\u043d\\u043a\", \"\\u0440\\u044b\\u043d\\u043a\", \"\\u0440\\u044b\\u043d\\u043a\", \"\\u0440\\u044b\\u043d\\u043a\", \"\\u0440\\u044b\\u043d\\u043a\", \"\\u0440\\u044d\\u0442\\u0442\\u043b\", \"\\u0441\\u0430\\u0430\\u043a\\u0430\\u0448\\u0432\", \"\\u0441\\u0430\\u0430\\u043a\\u0430\\u0448\\u0432\", \"\\u0441\\u0430\\u0432\\u0445\\u043d\", \"\\u0441\\u0430\\u0434\", \"\\u0441\\u0430\\u0434\", \"\\u0441\\u0430\\u0434\", \"\\u0441\\u0430\\u0439\\u0442\", \"\\u0441\\u0430\\u0439\\u0442\", \"\\u0441\\u0430\\u0439\\u0442\", \"\\u0441\\u0430\\u0439\\u0442\", \"\\u0441\\u0430\\u0439\\u0442\", \"\\u0441\\u0430\\u0439\\u0442\", \"\\u0441\\u0430\\u0439\\u0442\", \"\\u0441\\u0430\\u0439\\u0442\", \"\\u0441\\u0430\\u0439\\u0442\", \"\\u0441\\u0430\\u0439\\u0442\", \"\\u0441\\u0430\\u043c\", \"\\u0441\\u0430\\u043c\", \"\\u0441\\u0430\\u043c\", \"\\u0441\\u0430\\u043c\", \"\\u0441\\u0430\\u043c\", \"\\u0441\\u0430\\u043c\", \"\\u0441\\u0430\\u043c\", \"\\u0441\\u0430\\u043c\", \"\\u0441\\u0430\\u043c\", \"\\u0441\\u0430\\u043c\", \"\\u0441\\u0430\\u043c\\u043e\\u043b\\u0435\\u0442\", \"\\u0441\\u0430\\u043c\\u043e\\u043b\\u0435\\u0442\", \"\\u0441\\u0430\\u043c\\u043e\\u043b\\u0435\\u0442\", \"\\u0441\\u0430\\u043c\\u043e\\u043b\\u0435\\u0442\", \"\\u0441\\u0430\\u043c\\u043e\\u043b\\u0435\\u0442\", \"\\u0441\\u0430\\u043c\\u043e\\u043b\\u0435\\u0442\", \"\\u0441\\u0430\\u043c\\u043e\\u043b\\u0435\\u0442\", \"\\u0441\\u0430\\u043c\\u043e\\u043b\\u0435\\u0442\", \"\\u0441\\u0430\\u0440\\u043a\\u043e\\u0437\", \"\\u0441\\u0430\\u0440\\u043a\\u043e\\u0437\", \"\\u0441\\u0430\\u0440\\u043a\\u043e\\u0437\", \"\\u0441\\u0431\\u043e\\u0440\\u043d\", \"\\u0441\\u0431\\u043e\\u0440\\u043d\", \"\\u0441\\u0431\\u043e\\u0440\\u043d\", \"\\u0441\\u0431\\u043e\\u0440\\u043d\", \"\\u0441\\u0431\\u043e\\u0440\\u043d\", \"\\u0441\\u0431\\u043e\\u0440\\u043d\", \"\\u0441\\u0431\\u043e\\u0440\\u043d\", \"\\u0441\\u0432\\u043e\", \"\\u0441\\u0432\\u043e\", \"\\u0441\\u0432\\u043e\", \"\\u0441\\u0432\\u043e\", \"\\u0441\\u0432\\u043e\", \"\\u0441\\u0432\\u043e\", \"\\u0441\\u0432\\u043e\", \"\\u0441\\u0432\\u043e\", \"\\u0441\\u0432\\u043e\", \"\\u0441\\u0432\\u043e\", \"\\u0441\\u0435\\u043a\\u0443\\u043d\\u0434\", \"\\u0441\\u0435\\u043a\\u0443\\u043d\\u0434\", \"\\u0441\\u0435\\u043a\\u0443\\u043d\\u0434\", \"\\u0441\\u0435\\u043a\\u0443\\u043d\\u0434\", \"\\u0441\\u0435\\u043a\\u0443\\u043d\\u0434\", \"\\u0441\\u0435\\u043a\\u0443\\u043d\\u0434\", \"\\u0441\\u0435\\u043c\\u0430\\u043a\", \"\\u0441\\u0435\\u043f\\u0430\\u0440\\u0430\\u0442\\u0438\\u0441\\u0442\\u0441\\u043a\", \"\\u0441\\u0435\\u0440\\u0434\\u044e\\u043a\", \"\\u0441\\u0435\\u0440\\u0434\\u044e\\u043a\", \"\\u0441\\u0435\\u0440\\u0434\\u044e\\u043a\\u043e\\u0432\", \"\\u0441\\u0435\\u0440\\u0434\\u044e\\u043a\\u043e\\u0432\", \"\\u0441\\u0435\\u0440\\u0434\\u044e\\u043a\\u043e\\u0432\", \"\\u0441\\u0435\\u0441\\u044c\\u043a\\u0430\\u043d\", \"\\u0441\\u0438\\u0430\\u043d\\u0443\\u043a\\u0432\\u0438\\u043b\", \"\\u0441\\u0438\\u043c\\u043e\\u043d\\u043e\\u0432\", \"\\u0441\\u0438\\u043d\\u0430\\u0433\\u043e\\u0433\", \"\\u0441\\u0438\\u0440\", \"\\u0441\\u0438\\u0440\", \"\\u0441\\u0438\\u0440\", \"\\u0441\\u0438\\u0440\\u0438\\u0439\\u0441\\u043a\", \"\\u0441\\u0438\\u0440\\u0438\\u0439\\u0441\\u043a\", \"\\u0441\\u0438\\u0440\\u043e\\u0442\", \"\\u0441\\u0438\\u0440\\u043e\\u0442\", \"\\u0441\\u0438\\u0440\\u043e\\u0442\", \"\\u0441\\u0438\\u0440\\u043e\\u0442\", \"\\u0441\\u043b\\u043e\\u0432\", \"\\u0441\\u043b\\u043e\\u0432\", \"\\u0441\\u043b\\u043e\\u0432\", \"\\u0441\\u043b\\u043e\\u0432\", \"\\u0441\\u043b\\u043e\\u0432\", \"\\u0441\\u043b\\u043e\\u0432\", \"\\u0441\\u043b\\u043e\\u0432\", \"\\u0441\\u043b\\u043e\\u0432\", \"\\u0441\\u043b\\u043e\\u0432\", \"\\u0441\\u043b\\u043e\\u0432\", \"\\u0441\\u043c\\u0435\\u0442\\u0430\\u043d\\u043e\\u0432\", \"\\u0441\\u043c\\u0435\\u0448\\u0430\", \"\\u0441\\u043d\\u0435\\u0433\\u043e\\u0445\\u043e\\u0434\", \"\\u0441\\u043e\\u0431\\u0430\\u043a\", \"\\u0441\\u043e\\u0431\\u0430\\u043a\", \"\\u0441\\u043e\\u0431\\u0430\\u043a\", \"\\u0441\\u043e\\u0433\\u043b\\u0430\\u0448\\u0435\\u043d\", \"\\u0441\\u043e\\u0433\\u043b\\u0430\\u0448\\u0435\\u043d\", \"\\u0441\\u043e\\u0433\\u043b\\u0430\\u0448\\u0435\\u043d\", \"\\u0441\\u043e\\u0433\\u043b\\u0430\\u0448\\u0435\\u043d\", \"\\u0441\\u043e\\u0433\\u043b\\u0430\\u0448\\u0435\\u043d\", \"\\u0441\\u043e\\u0433\\u043b\\u0430\\u0448\\u0435\\u043d\", \"\\u0441\\u043e\\u0433\\u043b\\u0430\\u0448\\u0435\\u043d\", \"\\u0441\\u043e\\u0433\\u043b\\u0430\\u0448\\u0435\\u043d\", \"\\u0441\\u043e\\u0433\\u043b\\u0430\\u0448\\u0435\\u043d\", \"\\u0441\\u043e\\u0433\\u043b\\u0430\\u0448\\u0435\\u043d\", \"\\u0441\\u043e\\u043b\\u0434\\u0430\\u0442\", \"\\u0441\\u043e\\u043b\\u0434\\u0430\\u0442\", \"\\u0441\\u043e\\u043b\\u0434\\u0430\\u0442\", \"\\u0441\\u043e\\u043b\\u0434\\u0430\\u0442\", \"\\u0441\\u043e\\u043b\\u0434\\u0430\\u0442\", \"\\u0441\\u043e\\u043b\\u0434\\u0430\\u0442\", \"\\u0441\\u043e\\u043b\\u0434\\u0430\\u0442\", \"\\u0441\\u043e\\u043e\\u0431\\u0449\\u0430\", \"\\u0441\\u043e\\u043e\\u0431\\u0449\\u0430\", \"\\u0441\\u043e\\u043e\\u0431\\u0449\\u0430\", \"\\u0441\\u043e\\u043e\\u0431\\u0449\\u0430\", \"\\u0441\\u043e\\u043e\\u0431\\u0449\\u0430\", \"\\u0441\\u043e\\u043e\\u0431\\u0449\\u0430\", \"\\u0441\\u043e\\u043e\\u0431\\u0449\\u0430\", \"\\u0441\\u043e\\u043e\\u0431\\u0449\\u0430\", \"\\u0441\\u043e\\u043e\\u0431\\u0449\\u0430\", \"\\u0441\\u043e\\u043e\\u0431\\u0449\\u0430\", \"\\u0441\\u043e\\u0440\\u0434\\u0435\\u043b\\u043b\", \"\\u0441\\u043e\\u0440\\u043a\\u0438\\u043d\", \"\\u0441\\u043e\\u0441\\u0442\\u0430\\u0432\", \"\\u0441\\u043e\\u0441\\u0442\\u0430\\u0432\", \"\\u0441\\u043e\\u0441\\u0442\\u0430\\u0432\", \"\\u0441\\u043e\\u0441\\u0442\\u0430\\u0432\", \"\\u0441\\u043e\\u0441\\u0442\\u0430\\u0432\", \"\\u0441\\u043e\\u0441\\u0442\\u0430\\u0432\", \"\\u0441\\u043e\\u0441\\u0442\\u0430\\u0432\", \"\\u0441\\u043e\\u0441\\u0442\\u0430\\u0432\", \"\\u0441\\u043e\\u0441\\u0442\\u0430\\u0432\", \"\\u0441\\u043e\\u0441\\u0442\\u0430\\u0432\", \"\\u0441\\u043e\\u0442\\u0440\\u0443\\u0434\\u043d\\u0438\\u043a\", \"\\u0441\\u043e\\u0442\\u0440\\u0443\\u0434\\u043d\\u0438\\u043a\", \"\\u0441\\u043e\\u0442\\u0440\\u0443\\u0434\\u043d\\u0438\\u043a\", \"\\u0441\\u043e\\u0442\\u0440\\u0443\\u0434\\u043d\\u0438\\u043a\", \"\\u0441\\u043e\\u0442\\u0440\\u0443\\u0434\\u043d\\u0438\\u043a\", \"\\u0441\\u043e\\u0442\\u0440\\u0443\\u0434\\u043d\\u0438\\u043a\", \"\\u0441\\u043e\\u0442\\u0440\\u0443\\u0434\\u043d\\u0438\\u043a\", \"\\u0441\\u043e\\u0442\\u0440\\u0443\\u0434\\u043d\\u0438\\u043a\", \"\\u0441\\u043e\\u0442\\u0440\\u0443\\u0434\\u043d\\u0438\\u043a\", \"\\u0441\\u043e\\u0442\\u0440\\u0443\\u0434\\u043d\\u0438\\u043a\", \"\\u0441\\u043e\\u0442\\u0440\\u0443\\u0434\\u043d\\u0438\\u0446\", \"\\u0441\\u043e\\u0442\\u0440\\u0443\\u0434\\u043d\\u0438\\u0446\", \"\\u0441\\u043e\\u0442\\u0440\\u0443\\u0434\\u043d\\u0438\\u0446\", \"\\u0441\\u043e\\u0442\\u0440\\u0443\\u0434\\u043d\\u0438\\u0446\", \"\\u0441\\u043f\\u0438\\u043b\\u0431\\u0435\\u0440\\u0433\", \"\\u0441\\u043f\\u0438\\u043b\\u0431\\u0435\\u0440\\u0433\", \"\\u0441\\u0440\\u0435\\u0434\\u043d\", \"\\u0441\\u0440\\u0435\\u0434\\u043d\", \"\\u0441\\u0440\\u0435\\u0434\\u043d\", \"\\u0441\\u0440\\u0435\\u0434\\u043d\", \"\\u0441\\u0440\\u0435\\u0434\\u043d\", \"\\u0441\\u0440\\u0435\\u0434\\u043d\", \"\\u0441\\u0440\\u0435\\u0434\\u043d\", \"\\u0441\\u0440\\u0435\\u0434\\u043d\", \"\\u0441\\u0440\\u0435\\u0434\\u043d\", \"\\u0441\\u0441\\u044b\\u043b\\u043a\", \"\\u0441\\u0441\\u044b\\u043b\\u043a\", \"\\u0441\\u0441\\u044b\\u043b\\u043a\", \"\\u0441\\u0441\\u044b\\u043b\\u043a\", \"\\u0441\\u0441\\u044b\\u043b\\u043a\", \"\\u0441\\u0441\\u044b\\u043b\\u043a\", \"\\u0441\\u0441\\u044b\\u043b\\u043a\", \"\\u0441\\u0441\\u044b\\u043b\\u043a\", \"\\u0441\\u0441\\u044b\\u043b\\u043a\", \"\\u0441\\u0441\\u044b\\u043b\\u043a\", \"\\u0441\\u0442\\u0430\\u043b\", \"\\u0441\\u0442\\u0430\\u043b\", \"\\u0441\\u0442\\u0430\\u043b\", \"\\u0441\\u0442\\u0430\\u043b\", \"\\u0441\\u0442\\u0430\\u043b\", \"\\u0441\\u0442\\u0430\\u043b\", \"\\u0441\\u0442\\u0430\\u043b\", \"\\u0441\\u0442\\u0430\\u043b\", \"\\u0441\\u0442\\u0430\\u043b\", \"\\u0441\\u0442\\u0430\\u043b\", \"\\u0441\\u0442\\u0430\\u0442\", \"\\u0441\\u0442\\u0430\\u0442\", \"\\u0441\\u0442\\u0430\\u0442\", \"\\u0441\\u0442\\u0430\\u0442\", \"\\u0441\\u0442\\u0430\\u0442\", \"\\u0441\\u0442\\u0430\\u0442\", \"\\u0441\\u0442\\u0430\\u0442\", \"\\u0441\\u0442\\u0430\\u0442\", \"\\u0441\\u0442\\u0430\\u0442\", \"\\u0441\\u0442\\u0430\\u0442\", \"\\u0441\\u0442\\u0440\\u0430\\u043d\", \"\\u0441\\u0442\\u0440\\u0430\\u043d\", \"\\u0441\\u0442\\u0440\\u0430\\u043d\", \"\\u0441\\u0442\\u0440\\u0430\\u043d\", \"\\u0441\\u0442\\u0440\\u0430\\u043d\", \"\\u0441\\u0442\\u0440\\u0430\\u043d\", \"\\u0441\\u0442\\u0440\\u0430\\u043d\", \"\\u0441\\u0442\\u0440\\u0430\\u043d\", \"\\u0441\\u0442\\u0440\\u0430\\u043d\", \"\\u0441\\u0442\\u0440\\u0430\\u043d\", \"\\u0441\\u0442\\u0440\\u0430\\u0441\\u0442\\u043d\", \"\\u0441\\u0442\\u0440\\u0435\\u0441\\u0441\", \"\\u0441\\u0442\\u0440\\u0435\\u0441\\u0441\", \"\\u0441\\u0442\\u0443\\u0434\", \"\\u0441\\u0442\\u0443\\u0434\", \"\\u0441\\u0442\\u0443\\u0434\", \"\\u0441\\u0442\\u0443\\u0434\", \"\\u0441\\u0442\\u0443\\u0434\", \"\\u0441\\u0442\\u0443\\u0434\", \"\\u0441\\u0442\\u0443\\u0434\", \"\\u0441\\u0442\\u0443\\u0434\", \"\\u0441\\u0442\\u0443\\u0434\", \"\\u0441\\u0442\\u0443\\u0434\\u0435\\u043d\\u0442\\u043a\", \"\\u0441\\u0442\\u0443\\u0434\\u0435\\u043d\\u0442\\u043a\", \"\\u0441\\u0443\\u0434\", \"\\u0441\\u0443\\u0434\", \"\\u0441\\u0443\\u0434\", \"\\u0441\\u0443\\u0434\", \"\\u0441\\u0443\\u0434\", \"\\u0441\\u0443\\u0434\", \"\\u0441\\u0443\\u0434\", \"\\u0441\\u0443\\u0434\", \"\\u0441\\u0443\\u0434\", \"\\u0441\\u0443\\u0434\", \"\\u0441\\u0443\\u0438\\u0446\\u0438\\u0434\", \"\\u0441\\u0443\\u0438\\u0446\\u0438\\u0434\", \"\\u0441\\u0443\\u043a\\u043b\\u0435\\u0441\", \"\\u0441\\u0443\\u043f\\u0435\\u0440\\u043c\", \"\\u0441\\u0443\\u043f\\u0435\\u0440\\u043c\\u0430\\u0440\\u043a\\u0435\\u0442\", \"\\u0441\\u0443\\u0442\\u0435\\u043d\\u0435\\u0440\\u0448\", \"\\u0441\\u0446\\u0435\\u043d\\u0430\\u0440\", \"\\u0441\\u0446\\u0435\\u043d\\u0430\\u0440\", \"\\u0441\\u0446\\u0435\\u043d\\u0430\\u0440\", \"\\u0441\\u0446\\u0435\\u043d\\u0430\\u0440\", \"\\u0441\\u0446\\u0435\\u043d\\u0430\\u0440\", \"\\u0441\\u0447\\u0435\\u0442\", \"\\u0441\\u0447\\u0435\\u0442\", \"\\u0441\\u0447\\u0435\\u0442\", \"\\u0441\\u0447\\u0435\\u0442\", \"\\u0441\\u0447\\u0435\\u0442\", \"\\u0441\\u0447\\u0435\\u0442\", \"\\u0441\\u0447\\u0435\\u0442\", \"\\u0441\\u0447\\u0435\\u0442\", \"\\u0441\\u0447\\u0435\\u0442\", \"\\u0441\\u0447\\u0435\\u0442\", \"\\u0442\\u0430\\u0431\\u0430\\u043a\", \"\\u0442\\u0430\\u043a\\u0436\", \"\\u0442\\u0430\\u043a\\u0436\", \"\\u0442\\u0430\\u043a\\u0436\", \"\\u0442\\u0430\\u043a\\u0436\", \"\\u0442\\u0430\\u043a\\u0436\", \"\\u0442\\u0430\\u043a\\u0436\", \"\\u0442\\u0430\\u043a\\u0436\", \"\\u0442\\u0430\\u043a\\u0436\", \"\\u0442\\u0430\\u043a\\u0436\", \"\\u0442\\u0430\\u043a\\u0436\", \"\\u0442\\u0430\\u043b\\u0438\\u0431\", \"\\u0442\\u0430\\u043b\\u0438\\u0431\", \"\\u0442\\u0430\\u043b\\u0438\\u0431\\u0430\", \"\\u0442\\u0430\\u043c\\u043e\\u0436\\u0435\\u043d\", \"\\u0442\\u0430\\u043c\\u043e\\u0436\\u0435\\u043d\", \"\\u0442\\u0430\\u043c\\u043e\\u0436\\u0435\\u043d\", \"\\u0442\\u0435\\u043b\\u0435\\u0441\\u043a\\u043e\\u043f\", \"\\u0442\\u0435\\u043b\\u0435\\u0441\\u043a\\u043e\\u043f\", \"\\u0442\\u0435\\u043b\\u0435\\u0441\\u043a\\u043e\\u043f\", \"\\u0442\\u0435\\u043b\\u0435\\u0441\\u043a\\u043e\\u043f\", \"\\u0442\\u0435\\u043b\\u0435\\u0441\\u043a\\u043e\\u043f\", \"\\u0442\\u0435\\u043c\\u0435\\u0440\\u0445\\u0430\\u043d\", \"\\u0442\\u0435\\u043c\\u043f\\u0435\\u0440\\u0430\\u0442\\u0443\\u0440\", \"\\u0442\\u0435\\u043c\\u043f\\u0435\\u0440\\u0430\\u0442\\u0443\\u0440\", \"\\u0442\\u0435\\u043c\\u043f\\u0435\\u0440\\u0430\\u0442\\u0443\\u0440\", \"\\u0442\\u0435\\u043c\\u043f\\u0435\\u0440\\u0430\\u0442\\u0443\\u0440\", \"\\u0442\\u0435\\u043c\\u043f\\u0435\\u0440\\u0430\\u0442\\u0443\\u0440\", \"\\u0442\\u0435\\u0440\\u0435\\u0445\\u0438\\u043d\", \"\\u0442\\u0438\\u043c\\u043e\\u0448\\u0435\\u043d\\u043a\", \"\\u0442\\u0438\\u043c\\u043e\\u0448\\u0435\\u043d\\u043a\", \"\\u0442\\u0438\\u043c\\u043e\\u0448\\u0435\\u043d\\u043a\", \"\\u0442\\u043e\\u043d\\u043a\", \"\\u0442\\u043e\\u0440\", \"\\u0442\\u043e\\u0440\\u0433\", \"\\u0442\\u043e\\u0440\\u0433\", \"\\u0442\\u043e\\u0440\\u0433\", \"\\u0442\\u043e\\u0440\\u0433\", \"\\u0442\\u043e\\u0440\\u043d\\u0442\\u043e\\u043d\", \"\\u0442\\u0440\\u0430\\u0443\\u0442\", \"\\u0442\\u0440\\u0435\\u043d\\u0435\\u0440\", \"\\u0442\\u0440\\u0435\\u043d\\u0435\\u0440\", \"\\u0442\\u0440\\u0435\\u043d\\u0435\\u0440\", \"\\u0442\\u0440\\u0435\\u043d\\u0435\\u0440\", \"\\u0442\\u0440\\u0435\\u043d\\u0435\\u0440\", \"\\u0442\\u0440\\u0435\\u0442\", \"\\u0442\\u0440\\u0435\\u0442\", \"\\u0442\\u0440\\u0435\\u0442\", \"\\u0442\\u0440\\u0435\\u0442\", \"\\u0442\\u0440\\u0435\\u0442\", \"\\u0442\\u0440\\u0435\\u0442\", \"\\u0442\\u0440\\u0435\\u0442\", \"\\u0442\\u0440\\u0435\\u0442\", \"\\u0442\\u0440\\u0435\\u0442\", \"\\u0442\\u0440\\u0435\\u0442\", \"\\u0442\\u0440\\u0443\\u043d\", \"\\u0442\\u0443\\u043d\\u0446\", \"\\u0442\\u0443\\u0440\\u0438\\u0441\\u0442\\u043e\\u043a\", \"\\u0442\\u0443\\u0440\\u043d\\u0438\\u0440\", \"\\u0442\\u0443\\u0440\\u043d\\u0438\\u0440\", \"\\u0442\\u0443\\u0440\\u043d\\u0438\\u0440\", \"\\u0442\\u0443\\u0440\\u043d\\u0438\\u0440\", \"\\u0442\\u044b\\u0441\\u044f\\u0447\", \"\\u0442\\u044b\\u0441\\u044f\\u0447\", \"\\u0442\\u044b\\u0441\\u044f\\u0447\", \"\\u0442\\u044b\\u0441\\u044f\\u0447\", \"\\u0442\\u044b\\u0441\\u044f\\u0447\", \"\\u0442\\u044b\\u0441\\u044f\\u0447\", \"\\u0442\\u044b\\u0441\\u044f\\u0447\", \"\\u0442\\u044b\\u0441\\u044f\\u0447\", \"\\u0442\\u044b\\u0441\\u044f\\u0447\", \"\\u0442\\u044b\\u0441\\u044f\\u0447\", \"\\u0442\\u044d\\u043f\\u043f\\u0438\\u043d\", \"\\u0443\\u0431\\u0438\\u0439\\u0441\\u0442\\u0432\", \"\\u0443\\u0431\\u0438\\u0439\\u0441\\u0442\\u0432\", \"\\u0443\\u0431\\u0438\\u0439\\u0441\\u0442\\u0432\", \"\\u0443\\u0431\\u0438\\u0439\\u0441\\u0442\\u0432\", \"\\u0443\\u0431\\u0438\\u0439\\u0441\\u0442\\u0432\", \"\\u0443\\u0431\\u0438\\u0439\\u0441\\u0442\\u0432\", \"\\u0443\\u0431\\u0438\\u0439\\u0441\\u0442\\u0432\", \"\\u0443\\u0431\\u0438\\u0439\\u0441\\u0442\\u0432\", \"\\u0443\\u0431\\u0438\\u0439\\u0441\\u0442\\u0432\", \"\\u0443\\u0431\\u0438\\u0439\\u0441\\u0442\\u0432\", \"\\u0443\\u0433\\u043e\\u043b\\u043e\\u0432\\u043d\", \"\\u0443\\u0433\\u043e\\u043b\\u043e\\u0432\\u043d\", \"\\u0443\\u0433\\u043e\\u043b\\u043e\\u0432\\u043d\", \"\\u0443\\u0433\\u043e\\u043b\\u043e\\u0432\\u043d\", \"\\u0443\\u0433\\u043e\\u043b\\u043e\\u0432\\u043d\", \"\\u0443\\u0433\\u043e\\u043b\\u043e\\u0432\\u043d\", \"\\u0443\\u0433\\u043e\\u043b\\u043e\\u0432\\u043d\", \"\\u0443\\u0433\\u043e\\u043b\\u043e\\u0432\\u043d\", \"\\u0443\\u0433\\u043e\\u043b\\u043e\\u0432\\u043d\", \"\\u0443\\u0433\\u043e\\u043b\\u043e\\u0432\\u043d\", \"\\u0443\\u0437\\u0431\\u0435\\u043a\\u0438\\u0441\\u0442\\u0430\", \"\\u0443\\u0437\\u0431\\u0435\\u043a\\u0438\\u0441\\u0442\\u0430\", \"\\u0443\\u0437\\u0431\\u0435\\u043a\\u0438\\u0441\\u0442\\u0430\", \"\\u0443\\u0437\\u0431\\u0435\\u043a\\u0438\\u0441\\u0442\\u0430\", \"\\u0443\\u0437\\u0431\\u0435\\u043a\\u0441\\u043a\", \"\\u0443\\u0437\\u0431\\u0435\\u043a\\u0441\\u043a\", \"\\u0443\\u0437\\u0435\\u043b\", \"\\u0443\\u0438\\u043b\\u044c\\u044f\\u043c\\u0441\", \"\\u0443\\u043a\\u0440\\u0430\\u0438\\u043d\", \"\\u0443\\u043a\\u0440\\u0430\\u0438\\u043d\", \"\\u0443\\u043a\\u0440\\u0430\\u0438\\u043d\", \"\\u0443\\u043a\\u0440\\u0430\\u0438\\u043d\", \"\\u0443\\u043a\\u0440\\u0430\\u0438\\u043d\", \"\\u0443\\u043a\\u0440\\u0430\\u0438\\u043d\", \"\\u0443\\u043a\\u0440\\u0430\\u0438\\u043d\", \"\\u0443\\u043a\\u0440\\u0430\\u0438\\u043d\", \"\\u0443\\u043b\\u044c\\u0442\\u0440\\u0430\\u0431\\u0443\\u043a\", \"\\u0443\\u043e\\u0442\\u0441\\u043e\\u043d\", \"\\u0443\\u043e\\u0442\\u0441\\u043e\\u043d\", \"\\u0443\\u0440\\u0438\\u0431\", \"\\u0443\\u0440\\u043e\\u0432\\u043d\", \"\\u0443\\u0440\\u043e\\u0432\\u043d\", \"\\u0443\\u0440\\u043e\\u0432\\u043d\", \"\\u0443\\u0440\\u043e\\u0432\\u043d\", \"\\u0443\\u0440\\u043e\\u0432\\u043d\", \"\\u0443\\u0440\\u043e\\u0432\\u043d\", \"\\u0443\\u0440\\u043e\\u0432\\u043d\", \"\\u0443\\u0441\\u0442\\u0440\\u043e\\u0439\\u0441\\u0442\\u0432\", \"\\u0443\\u0441\\u0442\\u0440\\u043e\\u0439\\u0441\\u0442\\u0432\", \"\\u0443\\u0441\\u0442\\u0440\\u043e\\u0439\\u0441\\u0442\\u0432\", \"\\u0443\\u0441\\u0442\\u0440\\u043e\\u0439\\u0441\\u0442\\u0432\", \"\\u0443\\u0441\\u0442\\u0440\\u043e\\u0439\\u0441\\u0442\\u0432\", \"\\u0443\\u0441\\u0442\\u0440\\u043e\\u0439\\u0441\\u0442\\u0432\", \"\\u0443\\u0441\\u0442\\u0440\\u043e\\u0439\\u0441\\u0442\\u0432\", \"\\u0443\\u0441\\u0442\\u0440\\u043e\\u0439\\u0441\\u0442\\u0432\", \"\\u0443\\u0441\\u0442\\u0440\\u043e\\u0439\\u0441\\u0442\\u0432\", \"\\u0443\\u0441\\u0442\\u0440\\u043e\\u0439\\u0441\\u0442\\u0432\", \"\\u0443\\u0441\\u044b\\u043d\\u043e\\u0432\\u043b\\u0435\\u043d\", \"\\u0443\\u0441\\u044b\\u043d\\u043e\\u0432\\u043b\\u0435\\u043d\", \"\\u0443\\u0441\\u044b\\u043d\\u043e\\u0432\\u043b\\u0435\\u043d\", \"\\u0443\\u0441\\u044b\\u043d\\u043e\\u0432\\u043b\\u0435\\u043d\", \"\\u0443\\u0441\\u044b\\u043d\\u043e\\u0432\\u043b\\u044f\", \"\\u0443\\u0441\\u044b\\u043d\\u043e\\u0432\\u043b\\u044f\", \"\\u0443\\u0441\\u044b\\u043d\\u043e\\u0432\\u043b\\u044f\", \"\\u0443\\u0441\\u044b\\u043d\\u043e\\u0432\\u043b\\u044f\", \"\\u0443\\u0447\\u0430\\u0441\\u0442\\u043a\", \"\\u0443\\u0447\\u0430\\u0441\\u0442\\u043a\", \"\\u0443\\u0447\\u0430\\u0441\\u0442\\u043a\", \"\\u0443\\u0447\\u0430\\u0441\\u0442\\u043a\", \"\\u0443\\u0447\\u0430\\u0441\\u0442\\u043a\", \"\\u0443\\u0447\\u0430\\u0441\\u0442\\u043a\", \"\\u0443\\u0447\\u0430\\u0441\\u0442\\u043a\", \"\\u0443\\u0447\\u0435\\u043d\", \"\\u0443\\u0447\\u0435\\u043d\", \"\\u0443\\u0447\\u0435\\u043d\", \"\\u0443\\u0447\\u0435\\u043d\", \"\\u0443\\u0447\\u0435\\u043d\", \"\\u0443\\u0447\\u0435\\u043d\", \"\\u0443\\u0447\\u0435\\u043d\", \"\\u0443\\u0447\\u0435\\u043d\", \"\\u0444\\u0435\\u0440\\u043d\\u0438\\u0448\", \"\\u0444\\u0435\\u0440\\u0440\\u0430\\u0440\", \"\\u0444\\u0438\\u043b\\u044c\\u043c\", \"\\u0444\\u0438\\u043b\\u044c\\u043c\", \"\\u0444\\u0438\\u043b\\u044c\\u043c\", \"\\u0444\\u0438\\u043b\\u044c\\u043c\", \"\\u0444\\u0438\\u043b\\u044c\\u043c\", \"\\u0444\\u0438\\u043b\\u044c\\u043c\", \"\\u0444\\u0438\\u043b\\u044c\\u043c\", \"\\u0444\\u0438\\u043b\\u044c\\u043c\", \"\\u0444\\u0438\\u043b\\u044c\\u043c\", \"\\u0444\\u0438\\u043b\\u044c\\u043c\", \"\\u0444\\u0438\\u043d\\u0430\", \"\\u0444\\u043e\\u043b\", \"\\u0444\\u043e\\u043b\\u043a\\u043b\\u0435\\u043d\\u0434\\u0441\\u043a\", \"\\u0444\\u043e\\u0440\\u0432\\u0430\\u0440\\u0434\", \"\\u0444\\u043e\\u0440\\u0432\\u0430\\u0440\\u0434\", \"\\u0444\\u043e\\u0440\\u0432\\u0430\\u0440\\u0434\", \"\\u0444\\u0440\\u0430\\u043d\\u0441\\u0443\", \"\\u0444\\u0440\\u0430\\u043d\\u0441\\u0443\", \"\\u0444\\u0440\\u0430\\u043d\\u0446\\u0443\\u0437\", \"\\u0445\\u0430\\u0440\", \"\\u0445\\u0430\\u0440\", \"\\u0445\\u0430\\u0440\\u0437\", \"\\u0445\\u0438\\u043d\\u0448\\u0442\\u0435\\u0439\\u043d\", \"\\u0445\\u0438\\u0442\", \"\\u0445\\u043e\\u0431\\u0441\\u043e\\u043d\", \"\\u0445\\u043e\\u0434\\u043e\\u0440\\u0447\\u0435\\u043d\\u043a\", \"\\u0445\\u043e\\u043a\\u043a\", \"\\u0445\\u043e\\u043b\\u043b\", \"\\u0445\\u043e\\u043b\\u043c\\u0441\", \"\\u0445\\u043e\\u043b\\u043c\\u0441\", \"\\u0445\\u0443\\u0434\\u0448\", \"\\u0445\\u0443\\u0434\\u0448\", \"\\u0445\\u0443\\u0434\\u0448\", \"\\u0445\\u0443\\u0434\\u0448\", \"\\u0445\\u0443\\u0440\\u0440\\u043e\\u043c\\u043e\\u0432\", \"\\u0445\\u0443\\u0448\\u044c\\u044f\\u0440\", \"\\u0445\\u044c\\u044e\\u0437\", \"\\u0446\\u0435\\u043d\", \"\\u0446\\u0435\\u043d\", \"\\u0446\\u0435\\u043d\", \"\\u0446\\u0435\\u043d\", \"\\u0446\\u0435\\u043d\", \"\\u0446\\u0435\\u043d\", \"\\u0446\\u0435\\u043d\", \"\\u0446\\u0435\\u043d\", \"\\u0446\\u0435\\u043d\", \"\\u0446\\u0435\\u043d\", \"\\u0446\\u0435\\u043d\\u0437\\u043e\\u0440\", \"\\u0446\\u0435\\u043d\\u0437\\u0443\\u0440\", \"\\u0446\\u0435\\u043d\\u0437\\u0443\\u0440\", \"\\u0446\\u0435\\u043d\\u0437\\u0443\\u0440\", \"\\u0446\\u0435\\u043d\\u0437\\u0443\\u0440\", \"\\u0446\\u0438\\u043a\\u043b\\u043e\\u043d\", \"\\u0446\\u0438\\u0440\\u043a\", \"\\u0447\\u0430\\u0432\\u0435\\u0441\", \"\\u0447\\u0430\\u0432\\u0435\\u0441\", \"\\u0447\\u0430\\u0432\\u0435\\u0441\", \"\\u0447\\u0430\\u0432\\u0435\\u0441\", \"\\u0447\\u0430\\u0439\\u043d\", \"\\u0447\\u0435\\u043b\\u043e\\u0432\\u0435\\u043a\", \"\\u0447\\u0435\\u043b\\u043e\\u0432\\u0435\\u043a\", \"\\u0447\\u0435\\u043b\\u043e\\u0432\\u0435\\u043a\", \"\\u0447\\u0435\\u043b\\u043e\\u0432\\u0435\\u043a\", \"\\u0447\\u0435\\u043b\\u043e\\u0432\\u0435\\u043a\", \"\\u0447\\u0435\\u043b\\u043e\\u0432\\u0435\\u043a\", \"\\u0447\\u0435\\u043b\\u043e\\u0432\\u0435\\u043a\", \"\\u0447\\u0435\\u043b\\u043e\\u0432\\u0435\\u043a\", \"\\u0447\\u0435\\u043b\\u043e\\u0432\\u0435\\u043a\", \"\\u0447\\u0435\\u043b\\u043e\\u0432\\u0435\\u043a\", \"\\u0447\\u0435\\u043c\\u043e\\u0434\\u0430\", \"\\u0447\\u0435\\u043c\\u043e\\u0434\\u0430\", \"\\u0447\\u0435\\u043c\\u043f\\u0438\\u043e\\u043d\\u0430\\u0442\", \"\\u0447\\u0435\\u043c\\u043f\\u0438\\u043e\\u043d\\u0430\\u0442\", \"\\u0447\\u0435\\u043c\\u043f\\u0438\\u043e\\u043d\\u0430\\u0442\", \"\\u0447\\u0435\\u043c\\u043f\\u0438\\u043e\\u043d\\u0430\\u0442\", \"\\u0447\\u0435\\u0441\\u043d\\u043e\\u043a\", \"\\u0447\\u0438\\u0447\\u0430\\u043a\\u043b\", \"\\u0448\\u0430\\u0439\\u0431\", \"\\u0448\\u0430\\u0440\", \"\\u0448\\u0430\\u0440\", \"\\u0448\\u0430\\u0440\\u043c\", \"\\u0448\\u0430\\u0440\\u043c\", \"\\u0448\\u0432\\u0430\\u0440\\u0446\\u0435\\u043d\\u0435\\u0433\\u0433\\u0435\\u0440\", \"\\u0448\\u0432\\u0435\\u0446\", \"\\u0448\\u0432\\u0435\\u0446\", \"\\u0448\\u0432\\u0435\\u0446\", \"\\u0448\\u0432\\u0435\\u0446\", \"\\u0448\\u043c\\u0438\\u0434\\u0442\", \"\\u0448\\u043c\\u0438\\u0434\\u0442\", \"\\u0448\\u043c\\u0438\\u0434\\u0442\", \"\\u0448\\u0442\\u0430\\u0442\", \"\\u0448\\u0442\\u0430\\u0442\", \"\\u0448\\u0442\\u0430\\u0442\", \"\\u0448\\u0442\\u0430\\u0442\", \"\\u0448\\u0442\\u0430\\u0442\", \"\\u0448\\u0442\\u0430\\u0442\", \"\\u0448\\u0442\\u0430\\u0442\", \"\\u0448\\u0442\\u0430\\u0442\", \"\\u0448\\u0442\\u0430\\u0442\", \"\\u0448\\u0442\\u0430\\u0442\", \"\\u0449\\u0435\\u0440\\u0431\", \"\\u044d\\u043a\\u0437\\u043e\\u043f\\u043b\\u0430\\u043d\\u0435\\u0442\", \"\\u044d\\u043a\\u0440\\u0430\", \"\\u044d\\u043a\\u0440\\u0430\", \"\\u044d\\u043a\\u0440\\u0430\", \"\\u044d\\u043a\\u0440\\u0430\", \"\\u044d\\u043a\\u0440\\u0430\", \"\\u044d\\u043a\\u0440\\u0430\", \"\\u044d\\u043a\\u0440\\u0430\", \"\\u044d\\u043a\\u0440\\u0430\", \"\\u044d\\u043a\\u0441\\u043f\\u043e\\u0440\\u0442\", \"\\u044d\\u043a\\u0441\\u043f\\u043e\\u0440\\u0442\", \"\\u044d\\u043a\\u0441\\u043f\\u043e\\u0440\\u0442\", \"\\u044d\\u043a\\u0441\\u043f\\u0440\\u0435\\u0441\\u0441\", \"\\u044d\\u043a\\u0441\\u043f\\u0440\\u0435\\u0441\\u0441\", \"\\u044d\\u043a\\u0441\\u043f\\u0440\\u0435\\u0441\\u0441\", \"\\u044d\\u043c\\u0441\\u043b\", \"\\u044d\\u0440\\u0438\\u043a\", \"\\u044d\\u0440\\u0438\\u043a\", \"\\u044d\\u0440\\u0438\\u043a\", \"\\u044d\\u0441\\u0442\\u0430\\u0444\\u0435\\u0442\", \"\\u044d\\u0442\\u0430\\u043f\", \"\\u044d\\u0442\\u0430\\u043f\", \"\\u044d\\u0442\\u0430\\u043f\", \"\\u044d\\u0442\\u0430\\u043f\", \"\\u044d\\u0442\\u0430\\u043f\", \"\\u044d\\u0442\\u0430\\u043f\", \"\\u044e\\u0434\\u0438\\u043d\", \"\\u044e\\u043d\\u043c\\u0438\\u043d\", \"\\u044e\\u0441\\u0443\\u0444\\u0437\\u0430\", \"\\u044e\\u0441\\u0443\\u0444\\u0437\\u0430\", \"\\u044e\\u0442\\u044d\\u0439\\u0440\", \"\\u044e\\u0442\\u044d\\u0439\\u0440\", \"\\u044f\\u0432\\u043b\\u044f\", \"\\u044f\\u0432\\u043b\\u044f\", \"\\u044f\\u0432\\u043b\\u044f\", \"\\u044f\\u0432\\u043b\\u044f\", \"\\u044f\\u0432\\u043b\\u044f\", \"\\u044f\\u0432\\u043b\\u044f\", \"\\u044f\\u0432\\u043b\\u044f\", \"\\u044f\\u0432\\u043b\\u044f\", \"\\u044f\\u0432\\u043b\\u044f\", \"\\u044f\\u0432\\u043b\\u044f\", \"\\u044f\\u043d\\u0432\\u0430\\u0440\", \"\\u044f\\u043d\\u0432\\u0430\\u0440\", \"\\u044f\\u043d\\u0432\\u0430\\u0440\", \"\\u044f\\u043d\\u0432\\u0430\\u0440\", \"\\u044f\\u043d\\u0432\\u0430\\u0440\", \"\\u044f\\u043d\\u0432\\u0430\\u0440\", \"\\u044f\\u043d\\u0432\\u0430\\u0440\", \"\\u044f\\u043d\\u0432\\u0430\\u0440\", \"\\u044f\\u043d\\u0432\\u0430\\u0440\", \"\\u044f\\u043d\\u0432\\u0430\\u0440\"]}, \"R\": 30, \"lambda.step\": 0.01, \"plot.opts\": {\"xlab\": \"PC1\", \"ylab\": \"PC2\"}, \"topic.order\": [7, 6, 4, 2, 1, 3, 9, 8, 5, 10]};\n",
              "\n",
              "function LDAvis_load_lib(url, callback){\n",
              "  var s = document.createElement('script');\n",
              "  s.src = url;\n",
              "  s.async = true;\n",
              "  s.onreadystatechange = s.onload = callback;\n",
              "  s.onerror = function(){console.warn(\"failed to load library \" + url);};\n",
              "  document.getElementsByTagName(\"head\")[0].appendChild(s);\n",
              "}\n",
              "\n",
              "if(typeof(LDAvis) !== \"undefined\"){\n",
              "   // already loaded: just create the visualization\n",
              "   !function(LDAvis){\n",
              "       new LDAvis(\"#\" + \"ldavis_el8941330396556665122614538522\", ldavis_el8941330396556665122614538522_data);\n",
              "   }(LDAvis);\n",
              "}else if(typeof define === \"function\" && define.amd){\n",
              "   // require.js is available: use it to load d3/LDAvis\n",
              "   require.config({paths: {d3: \"https://d3js.org/d3.v5\"}});\n",
              "   require([\"d3\"], function(d3){\n",
              "      window.d3 = d3;\n",
              "      LDAvis_load_lib(\"https://cdn.jsdelivr.net/gh/bmabey/pyLDAvis@3.4.0/pyLDAvis/js/ldavis.v3.0.0.js\", function(){\n",
              "        new LDAvis(\"#\" + \"ldavis_el8941330396556665122614538522\", ldavis_el8941330396556665122614538522_data);\n",
              "      });\n",
              "    });\n",
              "}else{\n",
              "    // require.js not available: dynamically load d3 & LDAvis\n",
              "    LDAvis_load_lib(\"https://d3js.org/d3.v5.js\", function(){\n",
              "         LDAvis_load_lib(\"https://cdn.jsdelivr.net/gh/bmabey/pyLDAvis@3.4.0/pyLDAvis/js/ldavis.v3.0.0.js\", function(){\n",
              "                 new LDAvis(\"#\" + \"ldavis_el8941330396556665122614538522\", ldavis_el8941330396556665122614538522_data);\n",
              "            })\n",
              "         });\n",
              "}\n",
              "</script>"
            ]
          },
          "metadata": {},
          "execution_count": 101
        }
      ]
    }
  ]
}