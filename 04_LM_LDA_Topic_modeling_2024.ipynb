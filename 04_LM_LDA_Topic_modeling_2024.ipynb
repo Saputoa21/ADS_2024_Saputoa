{
  "nbformat": 4,
  "nbformat_minor": 0,
  "metadata": {
    "colab": {
      "provenance": [],
      "include_colab_link": true
    },
    "kernelspec": {
      "name": "python3",
      "display_name": "Python 3"
    }
  },
  "cells": [
    {
      "cell_type": "markdown",
      "metadata": {
        "id": "view-in-github",
        "colab_type": "text"
      },
      "source": [
        "<a href=\"https://colab.research.google.com/github/Saputoa21/ADS_2024_Saputoa/blob/master/04_LM_LDA_Topic_modeling_2024.ipynb\" target=\"_parent\"><img src=\"https://colab.research.google.com/assets/colab-badge.svg\" alt=\"Open In Colab\"/></a>"
      ]
    },
    {
      "cell_type": "markdown",
      "source": [
        "# Clustering Documents"
      ],
      "metadata": {
        "id": "0QCMG-L_oPQ6"
      }
    },
    {
      "cell_type": "markdown",
      "metadata": {
        "id": "nzhvlugtZytc"
      },
      "source": [
        "In this notebook, you'll learn about **Latent Dirichlet Allocation** (LDA) algorithm, and how to use it to cluster documents based on automatically generated topics, made out of their content words.\n",
        "\n",
        "Key-learning:\n",
        "- Unsupervised machine learning for NLP\n",
        "- Clustering Documents\n",
        "- LDA\n",
        "- python packages: *pandas*, [*gensim*](https://pypi.org/project/gensim/)\n",
        "\n",
        "Terms in this notebook:\n",
        "- Bag of Words (BoW)\n",
        "- LDA\n",
        "- Clustering\n",
        "- TF/IDF\n",
        "\n",
        "This notebook includes two recommended videos (total length: 25min).\n",
        "\n",
        "Estimated reading duration: 1-2h.\n"
      ]
    },
    {
      "cell_type": "markdown",
      "metadata": {
        "id": "LuFLTklaSGqw"
      },
      "source": [
        "# Setup"
      ]
    },
    {
      "cell_type": "markdown",
      "metadata": {
        "id": "ncCmcyBB_KyW"
      },
      "source": [
        "We start by importing [pandas](https://pandas.pydata.org/) - an essential tool for data scientists!\n",
        "\n",
        "We load a .CSV (Comma Seperated Values) file of German news articles from https://github.com/tblock/10kGNAD\n"
      ]
    },
    {
      "cell_type": "code",
      "source": [
        "from IPython.display import YouTubeVideo"
      ],
      "metadata": {
        "id": "9e5gBKX3pFlC"
      },
      "execution_count": 1,
      "outputs": []
    },
    {
      "cell_type": "code",
      "metadata": {
        "id": "KfprTyMF4BG1",
        "outputId": "0920eab1-87e1-4df7-de1e-efa9781bd612",
        "colab": {
          "base_uri": "https://localhost:8080/"
        }
      },
      "source": [
        "import pandas as pd\n",
        "\n",
        "import nltk\n",
        "nltk.download('punkt')\n",
        "nltk.download('stopwords')\n",
        "nltk.download('averaged_perceptron_tagger')\n",
        "nltk.download('universal_tagset')"
      ],
      "execution_count": 17,
      "outputs": [
        {
          "output_type": "stream",
          "name": "stderr",
          "text": [
            "[nltk_data] Downloading package punkt to /root/nltk_data...\n",
            "[nltk_data]   Package punkt is already up-to-date!\n",
            "[nltk_data] Downloading package stopwords to /root/nltk_data...\n",
            "[nltk_data]   Package stopwords is already up-to-date!\n",
            "[nltk_data] Downloading package averaged_perceptron_tagger to\n",
            "[nltk_data]     /root/nltk_data...\n",
            "[nltk_data]   Package averaged_perceptron_tagger is already up-to-\n",
            "[nltk_data]       date!\n",
            "[nltk_data] Downloading package universal_tagset to /root/nltk_data...\n",
            "[nltk_data]   Package universal_tagset is already up-to-date!\n"
          ]
        },
        {
          "output_type": "execute_result",
          "data": {
            "text/plain": [
              "True"
            ]
          },
          "metadata": {},
          "execution_count": 17
        }
      ]
    },
    {
      "cell_type": "markdown",
      "source": [
        "Pandas is a useful package to load CSV files and to parse them. It can also parse TSV - separated by tabs, or as in our case, separated by a `;`.  \n",
        "Pandas is often used as the first-step for data scientists to load and analyze data."
      ],
      "metadata": {
        "id": "v62qoMC7U7W-"
      }
    },
    {
      "cell_type": "code",
      "metadata": {
        "id": "ieItNWA44BEA"
      },
      "source": [
        "df_articles = pd.read_csv('https://raw.githubusercontent.com/tblock/10kGNAD/master/articles.csv',\n",
        "                 sep=';',       # this file is actually a TSV, separated by \";\"\n",
        "                 on_bad_lines='skip',\n",
        "                 header=None,   # There is no header line for this CSV...\n",
        "                 # .. so we define the column names here:\n",
        "                 names=['article_category', 'content'],\n",
        "                 # And by specifiying the column as a Categorical type,\n",
        "                 # we can save computer memory! Yay!\n",
        "                 dtype={'article_category': 'category'})"
      ],
      "execution_count": 18,
      "outputs": []
    },
    {
      "cell_type": "markdown",
      "source": [
        "**Note:** Specifying a column with repeated strings as a category is a good Pandas' trick to be aware of. Often the dataset can't fit into the memory, and by specifiying columns as a categorical column when loading the data (`pd.read_csv`), we get to spare memory and allow the dataset to fit the working memory better."
      ],
      "metadata": {
        "id": "SVusBTWghIkz"
      }
    },
    {
      "cell_type": "code",
      "source": [
        "df_articles"
      ],
      "metadata": {
        "id": "XyYuGSLJSNCA",
        "outputId": "a54547e1-e39a-4731-863e-5050f41564b3",
        "colab": {
          "base_uri": "https://localhost:8080/",
          "height": 423
        }
      },
      "execution_count": 4,
      "outputs": [
        {
          "output_type": "execute_result",
          "data": {
            "text/plain": [
              "     article_category                                            content\n",
              "0                Etat  Die ARD-Tochter Degeto hat sich verpflichtet, ...\n",
              "1                Etat  App sei nicht so angenommen worden wie geplant...\n",
              "2                Etat  Mitarbeiter überreichten Eigentümervertretern ...\n",
              "3                Etat  Service: Jobwechsel in der Kommunikationsbranc...\n",
              "4                Etat  Was Sie über diese Woche wissen sollten - und ...\n",
              "...               ...                                                ...\n",
              "9571     Wissenschaft  Die Fundstelle in Südengland ist Unesco-Weltku...\n",
              "9572     Wissenschaft  Im Team arbeitet auch ein Inspektor der sudane...\n",
              "9573     Wissenschaft  Die zentrale Frage des Projekts: Siedelten Ägy...\n",
              "9574     Wissenschaft  Klimatische Verschlechterungen dürften zur Auf...\n",
              "9575     Wissenschaft  Knochen können zum Verständnis des Lebens in d...\n",
              "\n",
              "[9576 rows x 2 columns]"
            ],
            "text/html": [
              "\n",
              "  <div id=\"df-a2fda15e-f45b-4d0a-9247-f96dca37ac71\" class=\"colab-df-container\">\n",
              "    <div>\n",
              "<style scoped>\n",
              "    .dataframe tbody tr th:only-of-type {\n",
              "        vertical-align: middle;\n",
              "    }\n",
              "\n",
              "    .dataframe tbody tr th {\n",
              "        vertical-align: top;\n",
              "    }\n",
              "\n",
              "    .dataframe thead th {\n",
              "        text-align: right;\n",
              "    }\n",
              "</style>\n",
              "<table border=\"1\" class=\"dataframe\">\n",
              "  <thead>\n",
              "    <tr style=\"text-align: right;\">\n",
              "      <th></th>\n",
              "      <th>article_category</th>\n",
              "      <th>content</th>\n",
              "    </tr>\n",
              "  </thead>\n",
              "  <tbody>\n",
              "    <tr>\n",
              "      <th>0</th>\n",
              "      <td>Etat</td>\n",
              "      <td>Die ARD-Tochter Degeto hat sich verpflichtet, ...</td>\n",
              "    </tr>\n",
              "    <tr>\n",
              "      <th>1</th>\n",
              "      <td>Etat</td>\n",
              "      <td>App sei nicht so angenommen worden wie geplant...</td>\n",
              "    </tr>\n",
              "    <tr>\n",
              "      <th>2</th>\n",
              "      <td>Etat</td>\n",
              "      <td>Mitarbeiter überreichten Eigentümervertretern ...</td>\n",
              "    </tr>\n",
              "    <tr>\n",
              "      <th>3</th>\n",
              "      <td>Etat</td>\n",
              "      <td>Service: Jobwechsel in der Kommunikationsbranc...</td>\n",
              "    </tr>\n",
              "    <tr>\n",
              "      <th>4</th>\n",
              "      <td>Etat</td>\n",
              "      <td>Was Sie über diese Woche wissen sollten - und ...</td>\n",
              "    </tr>\n",
              "    <tr>\n",
              "      <th>...</th>\n",
              "      <td>...</td>\n",
              "      <td>...</td>\n",
              "    </tr>\n",
              "    <tr>\n",
              "      <th>9571</th>\n",
              "      <td>Wissenschaft</td>\n",
              "      <td>Die Fundstelle in Südengland ist Unesco-Weltku...</td>\n",
              "    </tr>\n",
              "    <tr>\n",
              "      <th>9572</th>\n",
              "      <td>Wissenschaft</td>\n",
              "      <td>Im Team arbeitet auch ein Inspektor der sudane...</td>\n",
              "    </tr>\n",
              "    <tr>\n",
              "      <th>9573</th>\n",
              "      <td>Wissenschaft</td>\n",
              "      <td>Die zentrale Frage des Projekts: Siedelten Ägy...</td>\n",
              "    </tr>\n",
              "    <tr>\n",
              "      <th>9574</th>\n",
              "      <td>Wissenschaft</td>\n",
              "      <td>Klimatische Verschlechterungen dürften zur Auf...</td>\n",
              "    </tr>\n",
              "    <tr>\n",
              "      <th>9575</th>\n",
              "      <td>Wissenschaft</td>\n",
              "      <td>Knochen können zum Verständnis des Lebens in d...</td>\n",
              "    </tr>\n",
              "  </tbody>\n",
              "</table>\n",
              "<p>9576 rows × 2 columns</p>\n",
              "</div>\n",
              "    <div class=\"colab-df-buttons\">\n",
              "\n",
              "  <div class=\"colab-df-container\">\n",
              "    <button class=\"colab-df-convert\" onclick=\"convertToInteractive('df-a2fda15e-f45b-4d0a-9247-f96dca37ac71')\"\n",
              "            title=\"Convert this dataframe to an interactive table.\"\n",
              "            style=\"display:none;\">\n",
              "\n",
              "  <svg xmlns=\"http://www.w3.org/2000/svg\" height=\"24px\" viewBox=\"0 -960 960 960\">\n",
              "    <path d=\"M120-120v-720h720v720H120Zm60-500h600v-160H180v160Zm220 220h160v-160H400v160Zm0 220h160v-160H400v160ZM180-400h160v-160H180v160Zm440 0h160v-160H620v160ZM180-180h160v-160H180v160Zm440 0h160v-160H620v160Z\"/>\n",
              "  </svg>\n",
              "    </button>\n",
              "\n",
              "  <style>\n",
              "    .colab-df-container {\n",
              "      display:flex;\n",
              "      gap: 12px;\n",
              "    }\n",
              "\n",
              "    .colab-df-convert {\n",
              "      background-color: #E8F0FE;\n",
              "      border: none;\n",
              "      border-radius: 50%;\n",
              "      cursor: pointer;\n",
              "      display: none;\n",
              "      fill: #1967D2;\n",
              "      height: 32px;\n",
              "      padding: 0 0 0 0;\n",
              "      width: 32px;\n",
              "    }\n",
              "\n",
              "    .colab-df-convert:hover {\n",
              "      background-color: #E2EBFA;\n",
              "      box-shadow: 0px 1px 2px rgba(60, 64, 67, 0.3), 0px 1px 3px 1px rgba(60, 64, 67, 0.15);\n",
              "      fill: #174EA6;\n",
              "    }\n",
              "\n",
              "    .colab-df-buttons div {\n",
              "      margin-bottom: 4px;\n",
              "    }\n",
              "\n",
              "    [theme=dark] .colab-df-convert {\n",
              "      background-color: #3B4455;\n",
              "      fill: #D2E3FC;\n",
              "    }\n",
              "\n",
              "    [theme=dark] .colab-df-convert:hover {\n",
              "      background-color: #434B5C;\n",
              "      box-shadow: 0px 1px 3px 1px rgba(0, 0, 0, 0.15);\n",
              "      filter: drop-shadow(0px 1px 2px rgba(0, 0, 0, 0.3));\n",
              "      fill: #FFFFFF;\n",
              "    }\n",
              "  </style>\n",
              "\n",
              "    <script>\n",
              "      const buttonEl =\n",
              "        document.querySelector('#df-a2fda15e-f45b-4d0a-9247-f96dca37ac71 button.colab-df-convert');\n",
              "      buttonEl.style.display =\n",
              "        google.colab.kernel.accessAllowed ? 'block' : 'none';\n",
              "\n",
              "      async function convertToInteractive(key) {\n",
              "        const element = document.querySelector('#df-a2fda15e-f45b-4d0a-9247-f96dca37ac71');\n",
              "        const dataTable =\n",
              "          await google.colab.kernel.invokeFunction('convertToInteractive',\n",
              "                                                    [key], {});\n",
              "        if (!dataTable) return;\n",
              "\n",
              "        const docLinkHtml = 'Like what you see? Visit the ' +\n",
              "          '<a target=\"_blank\" href=https://colab.research.google.com/notebooks/data_table.ipynb>data table notebook</a>'\n",
              "          + ' to learn more about interactive tables.';\n",
              "        element.innerHTML = '';\n",
              "        dataTable['output_type'] = 'display_data';\n",
              "        await google.colab.output.renderOutput(dataTable, element);\n",
              "        const docLink = document.createElement('div');\n",
              "        docLink.innerHTML = docLinkHtml;\n",
              "        element.appendChild(docLink);\n",
              "      }\n",
              "    </script>\n",
              "  </div>\n",
              "\n",
              "\n",
              "<div id=\"df-760d0788-ee28-4d4f-85b0-218bca9a9631\">\n",
              "  <button class=\"colab-df-quickchart\" onclick=\"quickchart('df-760d0788-ee28-4d4f-85b0-218bca9a9631')\"\n",
              "            title=\"Suggest charts\"\n",
              "            style=\"display:none;\">\n",
              "\n",
              "<svg xmlns=\"http://www.w3.org/2000/svg\" height=\"24px\"viewBox=\"0 0 24 24\"\n",
              "     width=\"24px\">\n",
              "    <g>\n",
              "        <path d=\"M19 3H5c-1.1 0-2 .9-2 2v14c0 1.1.9 2 2 2h14c1.1 0 2-.9 2-2V5c0-1.1-.9-2-2-2zM9 17H7v-7h2v7zm4 0h-2V7h2v10zm4 0h-2v-4h2v4z\"/>\n",
              "    </g>\n",
              "</svg>\n",
              "  </button>\n",
              "\n",
              "<style>\n",
              "  .colab-df-quickchart {\n",
              "      --bg-color: #E8F0FE;\n",
              "      --fill-color: #1967D2;\n",
              "      --hover-bg-color: #E2EBFA;\n",
              "      --hover-fill-color: #174EA6;\n",
              "      --disabled-fill-color: #AAA;\n",
              "      --disabled-bg-color: #DDD;\n",
              "  }\n",
              "\n",
              "  [theme=dark] .colab-df-quickchart {\n",
              "      --bg-color: #3B4455;\n",
              "      --fill-color: #D2E3FC;\n",
              "      --hover-bg-color: #434B5C;\n",
              "      --hover-fill-color: #FFFFFF;\n",
              "      --disabled-bg-color: #3B4455;\n",
              "      --disabled-fill-color: #666;\n",
              "  }\n",
              "\n",
              "  .colab-df-quickchart {\n",
              "    background-color: var(--bg-color);\n",
              "    border: none;\n",
              "    border-radius: 50%;\n",
              "    cursor: pointer;\n",
              "    display: none;\n",
              "    fill: var(--fill-color);\n",
              "    height: 32px;\n",
              "    padding: 0;\n",
              "    width: 32px;\n",
              "  }\n",
              "\n",
              "  .colab-df-quickchart:hover {\n",
              "    background-color: var(--hover-bg-color);\n",
              "    box-shadow: 0 1px 2px rgba(60, 64, 67, 0.3), 0 1px 3px 1px rgba(60, 64, 67, 0.15);\n",
              "    fill: var(--button-hover-fill-color);\n",
              "  }\n",
              "\n",
              "  .colab-df-quickchart-complete:disabled,\n",
              "  .colab-df-quickchart-complete:disabled:hover {\n",
              "    background-color: var(--disabled-bg-color);\n",
              "    fill: var(--disabled-fill-color);\n",
              "    box-shadow: none;\n",
              "  }\n",
              "\n",
              "  .colab-df-spinner {\n",
              "    border: 2px solid var(--fill-color);\n",
              "    border-color: transparent;\n",
              "    border-bottom-color: var(--fill-color);\n",
              "    animation:\n",
              "      spin 1s steps(1) infinite;\n",
              "  }\n",
              "\n",
              "  @keyframes spin {\n",
              "    0% {\n",
              "      border-color: transparent;\n",
              "      border-bottom-color: var(--fill-color);\n",
              "      border-left-color: var(--fill-color);\n",
              "    }\n",
              "    20% {\n",
              "      border-color: transparent;\n",
              "      border-left-color: var(--fill-color);\n",
              "      border-top-color: var(--fill-color);\n",
              "    }\n",
              "    30% {\n",
              "      border-color: transparent;\n",
              "      border-left-color: var(--fill-color);\n",
              "      border-top-color: var(--fill-color);\n",
              "      border-right-color: var(--fill-color);\n",
              "    }\n",
              "    40% {\n",
              "      border-color: transparent;\n",
              "      border-right-color: var(--fill-color);\n",
              "      border-top-color: var(--fill-color);\n",
              "    }\n",
              "    60% {\n",
              "      border-color: transparent;\n",
              "      border-right-color: var(--fill-color);\n",
              "    }\n",
              "    80% {\n",
              "      border-color: transparent;\n",
              "      border-right-color: var(--fill-color);\n",
              "      border-bottom-color: var(--fill-color);\n",
              "    }\n",
              "    90% {\n",
              "      border-color: transparent;\n",
              "      border-bottom-color: var(--fill-color);\n",
              "    }\n",
              "  }\n",
              "</style>\n",
              "\n",
              "  <script>\n",
              "    async function quickchart(key) {\n",
              "      const quickchartButtonEl =\n",
              "        document.querySelector('#' + key + ' button');\n",
              "      quickchartButtonEl.disabled = true;  // To prevent multiple clicks.\n",
              "      quickchartButtonEl.classList.add('colab-df-spinner');\n",
              "      try {\n",
              "        const charts = await google.colab.kernel.invokeFunction(\n",
              "            'suggestCharts', [key], {});\n",
              "      } catch (error) {\n",
              "        console.error('Error during call to suggestCharts:', error);\n",
              "      }\n",
              "      quickchartButtonEl.classList.remove('colab-df-spinner');\n",
              "      quickchartButtonEl.classList.add('colab-df-quickchart-complete');\n",
              "    }\n",
              "    (() => {\n",
              "      let quickchartButtonEl =\n",
              "        document.querySelector('#df-760d0788-ee28-4d4f-85b0-218bca9a9631 button');\n",
              "      quickchartButtonEl.style.display =\n",
              "        google.colab.kernel.accessAllowed ? 'block' : 'none';\n",
              "    })();\n",
              "  </script>\n",
              "</div>\n",
              "\n",
              "  <div id=\"id_c94f6fef-10bc-4174-a90b-357b9864ff9c\">\n",
              "    <style>\n",
              "      .colab-df-generate {\n",
              "        background-color: #E8F0FE;\n",
              "        border: none;\n",
              "        border-radius: 50%;\n",
              "        cursor: pointer;\n",
              "        display: none;\n",
              "        fill: #1967D2;\n",
              "        height: 32px;\n",
              "        padding: 0 0 0 0;\n",
              "        width: 32px;\n",
              "      }\n",
              "\n",
              "      .colab-df-generate:hover {\n",
              "        background-color: #E2EBFA;\n",
              "        box-shadow: 0px 1px 2px rgba(60, 64, 67, 0.3), 0px 1px 3px 1px rgba(60, 64, 67, 0.15);\n",
              "        fill: #174EA6;\n",
              "      }\n",
              "\n",
              "      [theme=dark] .colab-df-generate {\n",
              "        background-color: #3B4455;\n",
              "        fill: #D2E3FC;\n",
              "      }\n",
              "\n",
              "      [theme=dark] .colab-df-generate:hover {\n",
              "        background-color: #434B5C;\n",
              "        box-shadow: 0px 1px 3px 1px rgba(0, 0, 0, 0.15);\n",
              "        filter: drop-shadow(0px 1px 2px rgba(0, 0, 0, 0.3));\n",
              "        fill: #FFFFFF;\n",
              "      }\n",
              "    </style>\n",
              "    <button class=\"colab-df-generate\" onclick=\"generateWithVariable('df_articles')\"\n",
              "            title=\"Generate code using this dataframe.\"\n",
              "            style=\"display:none;\">\n",
              "\n",
              "  <svg xmlns=\"http://www.w3.org/2000/svg\" height=\"24px\"viewBox=\"0 0 24 24\"\n",
              "       width=\"24px\">\n",
              "    <path d=\"M7,19H8.4L18.45,9,17,7.55,7,17.6ZM5,21V16.75L18.45,3.32a2,2,0,0,1,2.83,0l1.4,1.43a1.91,1.91,0,0,1,.58,1.4,1.91,1.91,0,0,1-.58,1.4L9.25,21ZM18.45,9,17,7.55Zm-12,3A5.31,5.31,0,0,0,4.9,8.1,5.31,5.31,0,0,0,1,6.5,5.31,5.31,0,0,0,4.9,4.9,5.31,5.31,0,0,0,6.5,1,5.31,5.31,0,0,0,8.1,4.9,5.31,5.31,0,0,0,12,6.5,5.46,5.46,0,0,0,6.5,12Z\"/>\n",
              "  </svg>\n",
              "    </button>\n",
              "    <script>\n",
              "      (() => {\n",
              "      const buttonEl =\n",
              "        document.querySelector('#id_c94f6fef-10bc-4174-a90b-357b9864ff9c button.colab-df-generate');\n",
              "      buttonEl.style.display =\n",
              "        google.colab.kernel.accessAllowed ? 'block' : 'none';\n",
              "\n",
              "      buttonEl.onclick = () => {\n",
              "        google.colab.notebook.generateWithVariable('df_articles');\n",
              "      }\n",
              "      })();\n",
              "    </script>\n",
              "  </div>\n",
              "\n",
              "    </div>\n",
              "  </div>\n"
            ],
            "application/vnd.google.colaboratory.intrinsic+json": {
              "type": "dataframe",
              "variable_name": "df_articles",
              "summary": "{\n  \"name\": \"df_articles\",\n  \"rows\": 9576,\n  \"fields\": [\n    {\n      \"column\": \"article_category\",\n      \"properties\": {\n        \"dtype\": \"category\",\n        \"num_unique_values\": 9,\n        \"samples\": [\n          \"Wirtschaft\",\n          \"Inland\",\n          \"Sport\"\n        ],\n        \"semantic_type\": \"\",\n        \"description\": \"\"\n      }\n    },\n    {\n      \"column\": \"content\",\n      \"properties\": {\n        \"dtype\": \"string\",\n        \"num_unique_values\": 9574,\n        \"samples\": [\n          \"Von dem E3-Showdeb\\u00fct des US-Herstellers kann sich die Branche eine Scheibe abschneiden. Es war Bethesdas erste eigene E3-Pressekonferenz und den Reaktionen der Journalisten und Zuseher zufolge hat der US-Herausgeber bei seinem Show-Deb\\u00fct sehr viel richtig gemacht. Erstmals in der Unternehmsgeschichte b\\u00fcndelte man seine prestigetr\\u00e4chtigen Kernmarken, um den Fans und der Konkurrenz zu zeigen, dass die Spielwelt mit einem weiteren Schwergewicht zu rechnen hat. Gleichzeitig machte der privat gef\\u00fchrte Mutterkonzern Zenimax damit ein klares Zugest\\u00e4ndnis zum teuren und in den letzten Jahren von vielen Branchenfehlschl\\u00e4gen gezeichneten AAA-Segment. Einerseits beeindruckte Bethesda mit einem ambitioniert angelegten Fahrplan, der in den folgenden 12 Monaten bis Ende Fr\\u00fchjahr 2016 die Ver\\u00f6ffentlichung von gleich drei Blockbustern vorsieht: Fallout 4, Doom und Dishonored 2. Jedes dieser Games wurde auf der E3 pr\\u00e4sentiert und bedient ein Millionenpublikum eingeschworener Fans. Andererseits ist es erfreulich zu sehen, dass es neben den wenigen Milliardenkonzernen rund um Activision und EA noch private Hersteller gibt, die ihr Kapital vorrangig in Hochglanzproduktionen investieren und auch daran festhalten. In Zeiten, in denen (einstige) Kolosse wie Konami oder Sega vom Zukunftsmarkt Mobile schw\\u00e4rmen, b\\u00f6rsennotierte Big Player ihre Franchises nach Gesch\\u00e4ftsquartalen richten und einander mit Marketingmillionen \\u00fcberbieten, ist dies alles andere als eine Selbstverst\\u00e4ndlichkeit. Mit der Vorstellungen des neuen Doom, eine moderne Interpretation des 1993 erschienenen Kult-Shooters, beweist Bethesda zudem, dass es gewillt ist, seinen Marken Zeit zu geben. Das mehrfach verschobene Projekt wurde vor ein paar Jahren komplett neu angefangen, nachdem die Produktion den internen Erwartungen des Studios id Software nicht gerecht wurde. Eine kostspielige Entscheidung, die jedoch sicherstellen sollte, dass derart wertvolle Marken langfristig nicht an Ansehen und Popularit\\u00e4t verlieren. Gleiches gilt f\\u00fcr Bethesdas andere Schl\\u00fcsselfranchises: Fallout 4 erscheint sage und schreibe sieben Jahre nach Teil 3 und der 2012 erschienene \\u00dcberraschungshit Dishonored wird erst vier Jahre sp\\u00e4ter eine Fortsetzung erhalten. Nach den heutigen Ma\\u00dfst\\u00e4ben annualisierter Spieleserien eine kleine Ewigkeit, die nicht gerade nach Profitmaximierung schreit. Und so aufregend es war, nach vielen Jahren einen neuen Big Player im Rampenlicht der E3 zu sehen, so beruhigt es als Videospielfan umso mehr, dass eine Wiederholung des Bethesda-Spektakels im n\\u00e4chsten Jahr alles andere als sicher ist. Denn w\\u00e4hrend nicht nur die eine oder andere vergangene Pressekonferenz mit farblosen L\\u00fcckenf\\u00fcllern oder leeren Ank\\u00fcndigungen nicht einmal Jahre sp\\u00e4ter erschienener oder auch wieder eingestellter Games gespickt war, hat Bethesda solange geschwiegen, bis es etwas Handfestes zu zeigen hatte. Auch davon kann sich die Branche eine Scheibe abschneiden.\",\n          \"Domain wieder erreichbar \\u2013 Unternehmen verweist auf IT-Probleme. Bei den \\u00d6BB hat eine Zugangs-Sperre bei Computern des Unternehmens f\\u00fcr die Internetseite norberthofer.at f\\u00fcr Aufregung gesorgt. Wie die Krone berichtete, konnte die Website von FP\\u00d6-Kandidat Norbert Hofer von Tausenden Computern der \\u00d6BB aus tagelang nicht aufgerufen werden \\u2013 jene von Alexander Van der Bellen (vanderbellen.at) hingegen schon. FP\\u00d6-Abgeordneter Christian H\\u00f6bart sprach von einer Frechheit. Die \\u00d6BB-Generaldirektion dementierte den Versuch einer politischen Beeinflussung: Die Ursache f\\u00fcr die Sperre war ein Fehler unseres IT-Lieferanten. Da diese Domain nicht unmittelbar nach ihrer Reservierung mit Inhalt bef\\u00fcllt war, wurde sie weggefiltert, zitierte die Krone ein entsprechendes Schreiben. Kurz nach der Anfrage der Zeitung war die Domain norberthofer.at von \\u00d6BB-PCs wieder erreichbar, so der Bericht.\",\n          \"Geb\\u00fcrtiger Bosnier kommt abl\\u00f6sefrei aus Kasachstan. Altach \\u2013 Der SCR Altach hat Mittelst\\u00fcrmer Mihret Topcagic verpflichtet. Der geb\\u00fcrtige Bosnier mit \\u00f6sterreichischer Staatsb\\u00fcrgerschaft spielte zuletzt zwei Jahre f\\u00fcr den kasachischen Klub Schachtjor Karagandy, er kommt abl\\u00f6sefrei. In Vorarlberg erh\\u00e4lt der 27-J\\u00e4hrige einen Vertrag bis Sommer 2017. Er hat beim WAC und bei der Admira bereits Bundesliga-Erfahrung gesammelt.\"\n        ],\n        \"semantic_type\": \"\",\n        \"description\": \"\"\n      }\n    }\n  ]\n}"
            }
          },
          "metadata": {},
          "execution_count": 4
        }
      ]
    },
    {
      "cell_type": "markdown",
      "source": [
        "Our corpus contains 9 categories, as seen below.  \n",
        "However, our plan now is to **ignore them**, and instead, use an **un**supervised algorithm to deduct the topics only by the articles content.   \n",
        "Or in other words: we will *cluster* those documents based on their content."
      ],
      "metadata": {
        "id": "eJtNm2v7V38-"
      }
    },
    {
      "cell_type": "code",
      "source": [
        "df_articles['article_category'].cat.categories"
      ],
      "metadata": {
        "colab": {
          "base_uri": "https://localhost:8080/"
        },
        "id": "KGgnGvdLVLkh",
        "outputId": "7e0f69c1-8e3e-4a39-d099-f05290a25633"
      },
      "execution_count": 5,
      "outputs": [
        {
          "output_type": "execute_result",
          "data": {
            "text/plain": [
              "Index(['Etat', 'Inland', 'International', 'Kultur', 'Panorama', 'Sport', 'Web',\n",
              "       'Wirtschaft', 'Wissenschaft'],\n",
              "      dtype='object')"
            ]
          },
          "metadata": {},
          "execution_count": 5
        }
      ]
    },
    {
      "cell_type": "markdown",
      "metadata": {
        "id": "lMnZgp90-Y7R"
      },
      "source": [
        "# Clustering with Latent Dirichlet Allocation (LDA)"
      ]
    },
    {
      "cell_type": "markdown",
      "metadata": {
        "id": "uvF0AlS6-dqA"
      },
      "source": [
        "## Introduction\n",
        "\n",
        "We start by clustering our data as an unsupervised learning task: **topic modeling**.\n",
        "\n",
        "There are many different methods to cluster documents. One of these methods is *topic modeling* - where an algorithm assigns a *topic* to each document and clusters these documents by these topics.\n",
        "\n",
        "Documents can be represented as a distribution of their words: their occurrences and frequencies. A set of words, which are relatively not frequent but are common to several documents, can express a document topic.  \n",
        "For example, suppose we locate documents with the words 'Android', 'OnePlus' and 'iPhone' in them. Based on the frequency of these words, we could assume that these documents are related to mobile phones.\n",
        "\n",
        "[Dirichlet](https://en.wikipedia.org/wiki/Dirichlet_distribution) is a distribution on probability distributions. In other words, it can handle the frequency of which a set of words appear (which have by themselves, each one, a frequency).\n",
        "\n",
        "For a deeper mathematical explanation of this distribution, watch this recommended video: https://www.youtube.com/watch?v=nfBNOWv1pgE"
      ]
    },
    {
      "cell_type": "code",
      "source": [
        "YouTubeVideo('nfBNOWv1pgE')"
      ],
      "metadata": {
        "colab": {
          "base_uri": "https://localhost:8080/",
          "height": 321
        },
        "id": "tHzU2nNmpKbp",
        "outputId": "12202b02-fc4e-4383-a447-2ba012cfd7ab"
      },
      "execution_count": 6,
      "outputs": [
        {
          "output_type": "execute_result",
          "data": {
            "text/plain": [
              "<IPython.lib.display.YouTubeVideo at 0x78627de3c520>"
            ],
            "text/html": [
              "\n",
              "        <iframe\n",
              "            width=\"400\"\n",
              "            height=\"300\"\n",
              "            src=\"https://www.youtube.com/embed/nfBNOWv1pgE\"\n",
              "            frameborder=\"0\"\n",
              "            allowfullscreen\n",
              "            \n",
              "        ></iframe>\n",
              "        "
            ],
            "image/jpeg": "[encoded data removed]"
          },
          "metadata": {},
          "execution_count": 6
        }
      ]
    },
    {
      "cell_type": "markdown",
      "source": [
        "LDA is an unsupervised algorithm that assigns topics to every document. These topics are described as a set of words.  \n",
        "Each document can contain several topics - more than just one topic.  \n",
        "For example, some article about Apple can be 80% mobile phones and 20% about business innovations or income.\n",
        "\n",
        "The [LDA paper](https://www.jmlr.org/papers/volume3/blei03a/blei03a.pdf) is a milestone in NLP and one of the recommended readings.\n",
        "\n",
        "If you're interested to learn more about the algorithm method, watch this video: https://www.youtube.com/watch?v=DWJYZq_fQ2A."
      ],
      "metadata": {
        "id": "EtlPh-CJpiM2"
      }
    },
    {
      "cell_type": "code",
      "source": [
        "YouTubeVideo('DWJYZq_fQ2A')"
      ],
      "metadata": {
        "colab": {
          "base_uri": "https://localhost:8080/",
          "height": 321
        },
        "id": "1x0Hfl2LpmQ0",
        "outputId": "bb3a208c-103f-4c68-ee30-863ab1201ebd"
      },
      "execution_count": 7,
      "outputs": [
        {
          "output_type": "execute_result",
          "data": {
            "text/plain": [
              "<IPython.lib.display.YouTubeVideo at 0x78627de3caf0>"
            ],
            "text/html": [
              "\n",
              "        <iframe\n",
              "            width=\"400\"\n",
              "            height=\"300\"\n",
              "            src=\"https://www.youtube.com/embed/DWJYZq_fQ2A\"\n",
              "            frameborder=\"0\"\n",
              "            allowfullscreen\n",
              "            \n",
              "        ></iframe>\n",
              "        "
            ],
            "image/jpeg": "[encoded data removed]"
          },
          "metadata": {},
          "execution_count": 7
        }
      ]
    },
    {
      "cell_type": "markdown",
      "source": [
        "Now, let's examine our German data set with LDA:"
      ],
      "metadata": {
        "id": "nXYgZ4M9plG8"
      }
    },
    {
      "cell_type": "markdown",
      "metadata": {
        "id": "ZjX33ZXRfsM4"
      },
      "source": [
        "In previous exercises, you got to know NLTK.\n",
        "\n",
        "### Stemming\n",
        "Here we will also use NLTK's methods of **stemming** the words. By returning to the root of the word, its stem, we reduce the dimensionality: the number of words in the vocabulary decreases. For example, instead of having different words for the singular and plural form - 'word' <--> 'words' or 'Kanzler', 'Kanzlers', 'Kanzlei', etc., we trim those words into 'Kanzl'. Hence we can reduce the size of the vocabulary by at least half.\n",
        "\n",
        "### Stop Words\n",
        "We will also remove `stopwords` from our text. In English, words such as: `a`, `an`, and `the` will be removed, as they don't add much to the meaning of the sentence. For each language, there is a different curated list of such words, and NLTK is a great source for those.\n",
        "\n",
        "### GenSim\n",
        "In this exercise, you'll be introduced to another package, specialized in topic modeling, called `gensim`:\n",
        "https://radimrehurek.com/gensim/\n",
        "\n"
      ]
    },
    {
      "cell_type": "code",
      "source": [
        "%pip install -U gensim --quiet"
      ],
      "metadata": {
        "id": "wXiy7e3wvTfP"
      },
      "execution_count": 8,
      "outputs": []
    },
    {
      "cell_type": "code",
      "metadata": {
        "id": "dA1Ek-yR4BBG"
      },
      "source": [
        "from pprint import pprint # for printing objects nicely\n",
        "\n",
        "from gensim import corpora, models\n",
        "from gensim.utils import simple_preprocess\n",
        "\n",
        "## Instead of the gensim English stopwords...\n",
        "# from gensim.parsing.preprocessing import STOPWORDS\n",
        "## ...we use nltk's German stopwords:\n",
        "from nltk.corpus import stopwords\n",
        "\n",
        "from nltk.stem.snowball import SnowballStemmer\n",
        "from nltk.stem.porter import *\n",
        "\n",
        "import numpy as np\n",
        "\n",
        "from random import choice\n",
        "\n",
        "np.random.seed(1234)"
      ],
      "execution_count": 9,
      "outputs": []
    },
    {
      "cell_type": "code",
      "source": [
        "# Initialize the Stemmers\n",
        "stemmer = SnowballStemmer('german')\n",
        "german_stop_words = set(stopwords.words('german'))\n",
        "\n",
        "\n",
        "def lemmatize_stemming(text):\n",
        "  \"\"\"lemmatize and stem a word\"\"\"\n",
        "  return stemmer.stem(text)\n",
        "\n",
        "\n",
        "def preprocess(text):\n",
        "  \"\"\"lemmatize and remove stopwords\"\"\"\n",
        "  result = [lemmatize_stemming(token)\n",
        "            for token in simple_preprocess(text)\n",
        "            if token not in german_stop_words and len(token) > 3]\n",
        "  return result"
      ],
      "metadata": {
        "id": "2zkoH-LZjmg6"
      },
      "execution_count": 10,
      "outputs": []
    },
    {
      "cell_type": "markdown",
      "metadata": {
        "id": "H9FeFqUmk7hJ"
      },
      "source": [
        "In our DataFrame, we have a table contains the articles and their topics.\n",
        "\n",
        "We only need the articles for this tasks - we will create our own topics. So, let's start by converting the articles column into a ist of all the articles:"
      ]
    },
    {
      "cell_type": "code",
      "metadata": {
        "id": "5Yk3kIqSjY6C",
        "outputId": "4b7ba479-ee89-4121-df54-6b284e6ce6d3",
        "colab": {
          "base_uri": "https://localhost:8080/"
        }
      },
      "source": [
        "all_articles = df_articles['content'].to_list()\n",
        "all_articles[:5]"
      ],
      "execution_count": 11,
      "outputs": [
        {
          "output_type": "execute_result",
          "data": {
            "text/plain": [
              "['Die ARD-Tochter Degeto hat sich verpflichtet, ab August einer Quotenregelung zu folgen, die für die Gleichstellung von Regisseurinnen sorgen soll. In mindestens 20 Prozent der Filme, die die ARD-Tochter Degeto produziert oder mitfinanziert, sollen ab Mitte August Frauen Regie führen. Degeto-Chefin Christine Strobl folgt mit dieser Selbstverpflichtung der Forderung von Pro Quote Regie. Die Vereinigung von Regisseurinnen hatte im vergangenen Jahr eine Quotenregelung gefordert, um den weiblichen Filmschaffenden mehr Gehör und ökonomische Gleichstellung zu verschaffen. Pro Quote Regie kritisiert, dass, während rund 50 Prozent der Regie-Studierenden weiblich seien, der Anteil der Regisseurinnen bei Fernsehfilmen nur bei 13 bis 15 Prozent liege. In Österreich sieht die Situation ähnlich aus, auch hier wird von unterschiedlichen Seiten Handlungsbedarf angemahnt. Aber wie soll dieser aussehen? Ist die Einführung der Quotenregelung auch für die österreichische Film- und Fernsehlandschaft sinnvoll? Diskutieren Sie im Forum.',\n",
              " 'App sei nicht so angenommen worden wie geplant. Wegen zu geringer Nutzung schaltet Spiegel Online nach zwei Jahren die Fußball-App aus, die App sei nicht so genutzt worden, wie man sich das vorgestellt habe. Dafür soll der Live-Fußball-Bereich in der News-App ausgebaut werden.',\n",
              " 'Mitarbeiter überreichten Eigentümervertretern Petition gegen Personalabbau. Wien – Mehrere hundert APA-Mitarbeiter haben laut dem Betriebsrat eine Resolution unterschrieben, die am Mittwoch den Eigentümervertretern übergeben wurde. Inhalt ist ein deutlicher Protest gegen den geplanten Personalabbau (DER STANDARD berichtete) und für eine Gleichstellung der Mitarbeiter von APA-Tochterunternehmen bei automatischen Gehaltsanpassungen. Ich lehne erneute Personalkürzungen oder gar Kündigungen, wie sie derzeit insbesondere in der Redaktion geplant sind, ab und unterstütze die Forderung nach einer verpflichtenden Weitergabe der jährlichen Ist-Erhöhung der Gehälter für alle MitarbeiterInnen der APA-Gruppe, heißt es in der Resolution. Sie wurde den Teilnehmern von Aufsichtsrats- und Vorstandssitzung von denen der zeitgleich stattfindenden Betriebsversammlung übergeben. Hauptkritikpunkt der Belegschaft ist, dass Sparmaßnahmen angekündigt würden, obwohl die APA seit Jahren Gewinne schreibe. Die als Genossenschaft organisierte Agentur gehört zu 45 Prozent dem ORF, den Rest teilen sich 13 Tageszeitungen. Ihnen wirft der Betriebsrat vor, Gewinne einzustreifen und gleichzeitig Sparprogramme zu verordnen. Peter Kropsch, Vorsitzender der APA-Geschäftsführung, versteht die Aufregung nicht vollends. Die APA sei ein gewinnorientiertes Unternehmen, das auch in Zukunft stabil aufgestellt sein müsse, sagt er zum STANDARD. Der Betriebsrat glaubt, dass man die Kosten einfach unbegrenzt weiterlaufen lassen kann, so Kropsch. Für 2016 steige das Personalbudget sogar, allerdings würden automatische Gehaltserhöhungen die Kosten für den einzelnen Mitarbeiter steigen lassen. Ob die APA die Qualität auch mit weniger Mitarbeitern aufrechterhalten könne? Na klar, sagt Kropsch – unter vergleichbaren Agenturen in Europa sei man am breitesten aufgestellt, da habe ich keine Angst. Persönlich habe er außerdem nur eine geringe Beteiligung an der Betriebsversammlung wahrgenommen.',\n",
              " 'Service: Jobwechsel in der Kommunikationsbranche im Überblick. Hier liefert derStandard.at/Etat Jobwechsel in der Kommunikationsbranche im Überblick. Grob sortiert nach Kalenderwochen, in denen die Infos einlangten. Quellen: Presse- und eigene Infos, andere Branchendienste wie Horizont.at und medianet.at. Wenn Sie Infos für uns haben, bitte ein Mail an etat@derstandard.at schicken. Woche 15 / 2017 Woche 14 / 2017 Woche 13 / 2017 Woche 12 / 2017 Woche 9 / 2017 Woche 8 / 2017 Woche 7 / 2017 Spannende neue Aufgaben voraus: ich mach ab Februar die Nachrichten auf @kurierat. Ich freu mich auch. https://t.co/0zC6EsrXe3 Woche 2 / 2017 Freu mich: Die ausgezeichnete Journalistin Münire Inam vom #ORFreport moderiert (alternierend mit Martina Rupp) ab 23.1. heute konkret! Wie es im kommenden Jahr weitergeht, lasse ich euch bald wissen. Es warten spannende neue Herausforderungen. Woche 45 / 2016 Stefan Huber wechselt von Media in Progress zu content garden technologies und übernimmt den Ausbau der Content Management Unit. Mich interessieren vor allem die Möglichkeiten, die sich aus der Kombination von Content und Technologie ergeben, sagt er.  Woche 43 / 2016 Woche 41 / 2016 Woche 38 / 2016 Woche 37 / 2016 Woche 33 / 2016  Woche 31 / 2016 Woche 30 / 2016 Krone-Anzeigenvermarktung: Thomas Kreuzer leitet die Branchenvermarktung Special Account, Thomas Grojer übernimmt die Regionalleitung Wien und Stammausgabe. Sie folgen in ihren neuen Funktionen Friedrich Dungl nach, der als Geschäftsführer in das Niederösterreichische Pressehaus wechselt. Woche 18 /2016 Vielen Dank! Ich verspreche auch, nicht über die Alpenrepublik und das Schnitzelland zu schreiben. https://t.co/zqj0HXZ7dD Andreas Csar wechselt vom Verband Österreichischer Zeitungen (VÖZ) als Leiter der Presse- und Öffentlichkeitsarbeit zur Stelle des Pressesprechers bei ecoplus (Wirtschaftsagentur des Landes Niederösterreichs). Woche 11 / 2016 Woche 6 / 2016 Woche 5 / 2016 Woche 4 / 2016 Die ÖBB holen Sven Pusswald von der OMV als Leiter der Konzernkommunikation & Public Affairs.',\n",
              " 'Was Sie über diese Woche wissen sollten - und was Sie gleich wieder vergessen können. Wien - Was hat sich diese Woche getan in der Medienwelt? Ist Ihnen da  nichts entgangen? Besser noch einmal durchchecken – im  Etat.at-Wochenquiz. Wir wünschen viel Spaß beim Mitmachen! Und für alle, die vorige Woche nicht so viel Zeit hatten, Medien-Nachrichten zu lesen: ein nützlicher Link.']"
            ]
          },
          "metadata": {},
          "execution_count": 11
        }
      ]
    },
    {
      "cell_type": "markdown",
      "metadata": {
        "id": "LNnJfuDllNhz"
      },
      "source": [
        "## Preprocessing\n",
        "\n",
        "Let's see an example, what happens when we pre-process a document.\n",
        "\n",
        "Look at the output of this cell, and compare the tokenized original document, to the lemmatized document:"
      ]
    },
    {
      "cell_type": "code",
      "metadata": {
        "id": "oVI6_TKjjm2B",
        "outputId": "b9cfe2cd-7f49-4af5-868f-c38ad8cdb5f1",
        "colab": {
          "base_uri": "https://localhost:8080/"
        }
      },
      "source": [
        "print('original document: ')\n",
        "article = choice(all_articles)\n",
        "print(article, \"\\n\")\n",
        "\n",
        "# This time, we don't care about punctuations as tokens (Can you think why?): because we will delete them in the preprocess function we defined before (with if statemnet \"len(token) > 3\")\n",
        "print('original document, broken into words: ')\n",
        "words = [word for word in article.split(' ')]\n",
        "print(words, \"\\n\")\n",
        "print(\"Vocabulary size of the original article:\", len(set(words)))\n",
        "\n",
        "# now let's see what happens when we pass the article into our preprocessing\n",
        "# method:\n",
        "print('\\n\\n tokenized and lemmatized document: ')\n",
        "preprocessed_article = preprocess(article)\n",
        "print(preprocessed_article, '\\n')\n",
        "print(\"Vocabulary size after preprocessing:\", len(set(preprocessed_article)))"
      ],
      "execution_count": 12,
      "outputs": [
        {
          "output_type": "stream",
          "name": "stdout",
          "text": [
            "original document: \n",
            "Nationalistische Bewegung protestiert gegen die geplante Bildung einer Serben-Gemeinschaft. Prishtina – Tausende Regierungsgegner haben am Samstag im Kosovo gegen ein von der EU vermitteltes Abkommen zur Normalisierung der Beziehungen zu Serbien protestiert. Einige Demonstranten griffen die Polizei im Zentrum der Hauptstadt Prishtina (Pristina) mit Brandsätzen und Steinen an. Mehrere Fensterscheiben des Regierungssitzes gingen zu Bruch, zudem brach ein Feuer in dem Gebäude aus. Die Sicherheitskräfte feuerten Tränengas auf die Demonstranten ab. Zu den Ausschreitungen war es nach dem Abschluss einer von drei führenden Oppositionsparteien im Stadtzentrum abgehaltenen Protestveranstaltung gekommen. Die Opposition läuft Sturm gegen das Vorhaben, der serbischen Minderheit im Kosovo mehr Rechte zuzugestehen. Auch die Beilegung eines Grenzstreits mit dem benachbarten Montenegro lehnt die Opposition mit der Begründung ab, damit seien Gebietsverluste verbunden. Der Oppositionspolitiker Fatmir Limaj von der Partei Initiative für das Kosovo warf der Regierung vor, sie setze die Souveränität des Kosovos aufs Spiel, und forderte Neuwahlen. Die Opposition blockiert seit Wochen zudem immer wieder Parlamentssitzungen mit Tränengas, Eierwürfen und Pfeifkonzerten. Das Kosovo hatte sich 2008 einseitig für unabhängig von Serbien erklärt. Die serbische Regierung und die Kosovo-Serben erkennen die Unabhängigkeit aber nicht an. Eine Normalisierung der Beziehungen zwischen Pristina und Belgrad ist aber Voraussetzung für den von Serbien gewünschten Beitritt zur Europäischen Union. Auch die Kosovo-Regierung strebt die Aufnahme in die EU an. \n",
            "\n",
            "original document, broken into words: \n",
            "['Nationalistische', 'Bewegung', 'protestiert', 'gegen', 'die', 'geplante', 'Bildung', 'einer', 'Serben-Gemeinschaft.', 'Prishtina', '–', 'Tausende', 'Regierungsgegner', 'haben', 'am', 'Samstag', 'im', 'Kosovo', 'gegen', 'ein', 'von', 'der', 'EU', 'vermitteltes', 'Abkommen', 'zur', 'Normalisierung', 'der', 'Beziehungen', 'zu', 'Serbien', 'protestiert.', 'Einige', 'Demonstranten', 'griffen', 'die', 'Polizei', 'im', 'Zentrum', 'der', 'Hauptstadt', 'Prishtina', '(Pristina)', 'mit', 'Brandsätzen', 'und', 'Steinen', 'an.', 'Mehrere', 'Fensterscheiben', 'des', 'Regierungssitzes', 'gingen', 'zu', 'Bruch,', 'zudem', 'brach', 'ein', 'Feuer', 'in', 'dem', 'Gebäude', 'aus.', 'Die', 'Sicherheitskräfte', 'feuerten', 'Tränengas', 'auf', 'die', 'Demonstranten', 'ab.', 'Zu', 'den', 'Ausschreitungen', 'war', 'es', 'nach', 'dem', 'Abschluss', 'einer', 'von', 'drei', 'führenden', 'Oppositionsparteien', 'im', 'Stadtzentrum', 'abgehaltenen', 'Protestveranstaltung', 'gekommen.', 'Die', 'Opposition', 'läuft', 'Sturm', 'gegen', 'das', 'Vorhaben,', 'der', 'serbischen', 'Minderheit', 'im', 'Kosovo', 'mehr', 'Rechte', 'zuzugestehen.', 'Auch', 'die', 'Beilegung', 'eines', 'Grenzstreits', 'mit', 'dem', 'benachbarten', 'Montenegro', 'lehnt', 'die', 'Opposition', 'mit', 'der', 'Begründung', 'ab,', 'damit', 'seien', 'Gebietsverluste', 'verbunden.', 'Der', 'Oppositionspolitiker', 'Fatmir', 'Limaj', 'von', 'der', 'Partei', 'Initiative', 'für', 'das', 'Kosovo', 'warf', 'der', 'Regierung', 'vor,', 'sie', 'setze', 'die', 'Souveränität', 'des', 'Kosovos', 'aufs', 'Spiel,', 'und', 'forderte', 'Neuwahlen.', 'Die', 'Opposition', 'blockiert', 'seit', 'Wochen', 'zudem', 'immer', 'wieder', 'Parlamentssitzungen', 'mit', 'Tränengas,', 'Eierwürfen', 'und', 'Pfeifkonzerten.', 'Das', 'Kosovo', 'hatte', 'sich', '2008', 'einseitig', 'für', 'unabhängig', 'von', 'Serbien', 'erklärt.', 'Die', 'serbische', 'Regierung', 'und', 'die', 'Kosovo-Serben', 'erkennen', 'die', 'Unabhängigkeit', 'aber', 'nicht', 'an.', 'Eine', 'Normalisierung', 'der', 'Beziehungen', 'zwischen', 'Pristina', 'und', 'Belgrad', 'ist', 'aber', 'Voraussetzung', 'für', 'den', 'von', 'Serbien', 'gewünschten', 'Beitritt', 'zur', 'Europäischen', 'Union.', 'Auch', 'die', 'Kosovo-Regierung', 'strebt', 'die', 'Aufnahme', 'in', 'die', 'EU', 'an.'] \n",
            "\n",
            "Vocabulary size of the original article: 151\n",
            "\n",
            "\n",
            " tokenized and lemmatized document: \n",
            "['beweg', 'protestiert', 'geplant', 'bildung', 'serb', 'gemeinschaft', 'prishtina', 'tausend', 'samstag', 'kosovo', 'vermittelt', 'abkomm', 'normalisier', 'bezieh', 'serbi', 'protestiert', 'demonstrant', 'griff', 'polizei', 'zentrum', 'hauptstadt', 'prishtina', 'pristina', 'brandsatz', 'stein', 'mehr', 'fensterscheib', 'ging', 'bruch', 'zud', 'brach', 'feu', 'gebaud', 'feuert', 'tranengas', 'demonstrant', 'ausschreit', 'abschluss', 'drei', 'fuhrend', 'stadtzentrum', 'abgehalt', 'gekomm', 'opposition', 'lauft', 'sturm', 'vorhab', 'serbisch', 'mind', 'kosovo', 'mehr', 'recht', 'zuzugesteh', 'beileg', 'grenzstreit', 'benachbart', 'montenegro', 'lehnt', 'opposition', 'begrund', 'seien', 'gebietsverlust', 'verbund', 'fatmir', 'limaj', 'partei', 'initiativ', 'kosovo', 'warf', 'regier', 'setz', 'souveranitat', 'kosovos', 'auf', 'spiel', 'fordert', 'neuwahl', 'opposition', 'blockiert', 'seit', 'woch', 'zud', 'imm', 'tranengas', 'eierwurf', 'pfeifkonzert', 'kosovo', 'einseit', 'unabhang', 'serbi', 'erklart', 'serbisch', 'regier', 'kosovo', 'serb', 'erkenn', 'unabhang', 'normalisier', 'bezieh', 'pristina', 'belgrad', 'voraussetz', 'serbi', 'gewunscht', 'beitritt', 'europa', 'union', 'kosovo', 'regier', 'strebt', 'aufnahm'] \n",
            "\n",
            "Vocabulary size after preprocessing: 88\n"
          ]
        }
      ]
    },
    {
      "cell_type": "markdown",
      "metadata": {
        "id": "DDVOwyaIlL52"
      },
      "source": [
        "Now let's pre-process all the documents.  \n",
        "This is a heavy procedure, and may take a bit ;)"
      ]
    },
    {
      "cell_type": "code",
      "metadata": {
        "id": "2pQYw_aYkq-_",
        "outputId": "63f15000-10e2-4e8e-867b-d2d306a62549",
        "colab": {
          "base_uri": "https://localhost:8080/"
        }
      },
      "source": [
        "processed_docs = list(map(preprocess, all_articles))\n",
        "processed_docs[:10]"
      ],
      "execution_count": 13,
      "outputs": [
        {
          "output_type": "execute_result",
          "data": {
            "text/plain": [
              "[['tocht',\n",
              "  'degeto',\n",
              "  'verpflichtet',\n",
              "  'august',\n",
              "  'quotenregel',\n",
              "  'folg',\n",
              "  'gleichstell',\n",
              "  'regisseurinn',\n",
              "  'sorg',\n",
              "  'mindest',\n",
              "  'prozent',\n",
              "  'film',\n",
              "  'tocht',\n",
              "  'degeto',\n",
              "  'produziert',\n",
              "  'mitfinanziert',\n",
              "  'soll',\n",
              "  'mitt',\n",
              "  'august',\n",
              "  'frau',\n",
              "  'regi',\n",
              "  'fuhr',\n",
              "  'degeto',\n",
              "  'chefin',\n",
              "  'christin',\n",
              "  'strobl',\n",
              "  'folgt',\n",
              "  'forder',\n",
              "  'quot',\n",
              "  'regi',\n",
              "  'verein',\n",
              "  'regisseurinn',\n",
              "  'vergang',\n",
              "  'jahr',\n",
              "  'quotenregel',\n",
              "  'gefordert',\n",
              "  'weiblich',\n",
              "  'filmschaff',\n",
              "  'mehr',\n",
              "  'gehor',\n",
              "  'okonom',\n",
              "  'gleichstell',\n",
              "  'verschaff',\n",
              "  'quot',\n",
              "  'regi',\n",
              "  'kritisiert',\n",
              "  'rund',\n",
              "  'prozent',\n",
              "  'regi',\n",
              "  'studier',\n",
              "  'weiblich',\n",
              "  'seien',\n",
              "  'anteil',\n",
              "  'regisseurinn',\n",
              "  'fernsehfilm',\n",
              "  'prozent',\n",
              "  'lieg',\n",
              "  'osterreich',\n",
              "  'sieht',\n",
              "  'situation',\n",
              "  'ahnlich',\n",
              "  'seit',\n",
              "  'handlungsbedarf',\n",
              "  'angemahnt',\n",
              "  'ausseh',\n",
              "  'einfuhr',\n",
              "  'quotenregel',\n",
              "  'osterreich',\n",
              "  'film',\n",
              "  'sinnvoll',\n",
              "  'diskuti',\n",
              "  'forum'],\n",
              " ['angenomm',\n",
              "  'word',\n",
              "  'geplant',\n",
              "  'weg',\n",
              "  'gering',\n",
              "  'nutzung',\n",
              "  'schaltet',\n",
              "  'spiegel',\n",
              "  'onlin',\n",
              "  'zwei',\n",
              "  'jahr',\n",
              "  'fussball',\n",
              "  'genutzt',\n",
              "  'word',\n",
              "  'vorgestellt',\n",
              "  'dafur',\n",
              "  'liv',\n",
              "  'fussball',\n",
              "  'bereich',\n",
              "  'news',\n",
              "  'ausgebaut'],\n",
              " ['mitarbeit',\n",
              "  'uberreicht',\n",
              "  'petition',\n",
              "  'personalabbau',\n",
              "  'wien',\n",
              "  'mehr',\n",
              "  'hundert',\n",
              "  'mitarbeit',\n",
              "  'laut',\n",
              "  'betriebsrat',\n",
              "  'resolution',\n",
              "  'unterschrieb',\n",
              "  'mittwoch',\n",
              "  'ubergeb',\n",
              "  'wurd',\n",
              "  'inhalt',\n",
              "  'deutlich',\n",
              "  'prot',\n",
              "  'geplant',\n",
              "  'personalabbau',\n",
              "  'standard',\n",
              "  'berichtet',\n",
              "  'gleichstell',\n",
              "  'mitarbeit',\n",
              "  'automat',\n",
              "  'lehn',\n",
              "  'erneut',\n",
              "  'kundig',\n",
              "  'derzeit',\n",
              "  'insbesond',\n",
              "  'redaktion',\n",
              "  'geplant',\n",
              "  'unterstutz',\n",
              "  'forder',\n",
              "  'verpflicht',\n",
              "  'weitergab',\n",
              "  'jahrlich',\n",
              "  'erhoh',\n",
              "  'gehalt',\n",
              "  'grupp',\n",
              "  'heisst',\n",
              "  'resolution',\n",
              "  'wurd',\n",
              "  'teilnehm',\n",
              "  'aufsichtsrat',\n",
              "  'den',\n",
              "  'zeitgleich',\n",
              "  'stattfind',\n",
              "  'ubergeb',\n",
              "  'belegschaft',\n",
              "  'sparmassnahm',\n",
              "  'angekundigt',\n",
              "  'obwohl',\n",
              "  'seit',\n",
              "  'jahr',\n",
              "  'gewinn',\n",
              "  'schreib',\n",
              "  'genossenschaft',\n",
              "  'organisiert',\n",
              "  'agentur',\n",
              "  'gehort',\n",
              "  'prozent',\n",
              "  'rest',\n",
              "  'teil',\n",
              "  'tageszeit',\n",
              "  'wirft',\n",
              "  'betriebsrat',\n",
              "  'gewinn',\n",
              "  'einzustreif',\n",
              "  'gleichzeit',\n",
              "  'sparprogramm',\n",
              "  'verordn',\n",
              "  'pet',\n",
              "  'kropsch',\n",
              "  'vorsitz',\n",
              "  'versteht',\n",
              "  'aufreg',\n",
              "  'vollend',\n",
              "  'unternehm',\n",
              "  'zukunft',\n",
              "  'stabil',\n",
              "  'aufgestellt',\n",
              "  'muss',\n",
              "  'sagt',\n",
              "  'standard',\n",
              "  'betriebsrat',\n",
              "  'glaubt',\n",
              "  'kost',\n",
              "  'einfach',\n",
              "  'unbegrenzt',\n",
              "  'weiterlauf',\n",
              "  'lass',\n",
              "  'kropsch',\n",
              "  'steig',\n",
              "  'personalbudget',\n",
              "  'sogar',\n",
              "  'allerding',\n",
              "  'automat',\n",
              "  'kost',\n",
              "  'einzeln',\n",
              "  'mitarbeit',\n",
              "  'steig',\n",
              "  'lass',\n",
              "  'qualitat',\n",
              "  'wenig',\n",
              "  'mitarbeit',\n",
              "  'konn',\n",
              "  'klar',\n",
              "  'sagt',\n",
              "  'kropsch',\n",
              "  'vergleichbar',\n",
              "  'agentur',\n",
              "  'europa',\n",
              "  'breit',\n",
              "  'aufgestellt',\n",
              "  'angst',\n",
              "  'person',\n",
              "  'ausserd',\n",
              "  'gering',\n",
              "  'beteil',\n",
              "  'wahrgenomm'],\n",
              " ['servic',\n",
              "  'jobwechsel',\n",
              "  'uberblick',\n",
              "  'liefert',\n",
              "  'derstandard',\n",
              "  'etat',\n",
              "  'jobwechsel',\n",
              "  'uberblick',\n",
              "  'grob',\n",
              "  'sortiert',\n",
              "  'kalenderwoch',\n",
              "  'den',\n",
              "  'infos',\n",
              "  'einlangt',\n",
              "  'quell',\n",
              "  'press',\n",
              "  'eig',\n",
              "  'infos',\n",
              "  'branchendien',\n",
              "  'horizont',\n",
              "  'medianet',\n",
              "  'infos',\n",
              "  'bitt',\n",
              "  'mail',\n",
              "  'etat',\n",
              "  'derstandard',\n",
              "  'schick',\n",
              "  'woch',\n",
              "  'woch',\n",
              "  'woch',\n",
              "  'woch',\n",
              "  'woch',\n",
              "  'woch',\n",
              "  'woch',\n",
              "  'spannend',\n",
              "  'neu',\n",
              "  'aufgab',\n",
              "  'voraus',\n",
              "  'mach',\n",
              "  'februar',\n",
              "  'nachricht',\n",
              "  'kurierat',\n",
              "  'freu',\n",
              "  'https',\n",
              "  'esrx',\n",
              "  'woch',\n",
              "  'freu',\n",
              "  'ausgezeichnet',\n",
              "  'journalistin',\n",
              "  'munir',\n",
              "  'inam',\n",
              "  'orfreport',\n",
              "  'moderiert',\n",
              "  'alternier',\n",
              "  'martina',\n",
              "  'rupp',\n",
              "  'heut',\n",
              "  'konkret',\n",
              "  'kommend',\n",
              "  'jahr',\n",
              "  'weitergeht',\n",
              "  'lass',\n",
              "  'bald',\n",
              "  'wiss',\n",
              "  'wart',\n",
              "  'spannend',\n",
              "  'neu',\n",
              "  'woch',\n",
              "  'stefan',\n",
              "  'hub',\n",
              "  'wechselt',\n",
              "  'media',\n",
              "  'progress',\n",
              "  'content',\n",
              "  'gard',\n",
              "  'technologi',\n",
              "  'ubernimmt',\n",
              "  'ausbau',\n",
              "  'content',\n",
              "  'management',\n",
              "  'unit',\n",
              "  'interessi',\n",
              "  'moglich',\n",
              "  'kombination',\n",
              "  'content',\n",
              "  'technologi',\n",
              "  'ergeb',\n",
              "  'sagt',\n",
              "  'woch',\n",
              "  'woch',\n",
              "  'woch',\n",
              "  'woch',\n",
              "  'woch',\n",
              "  'woch',\n",
              "  'woch',\n",
              "  'kron',\n",
              "  'thomas',\n",
              "  'kreuz',\n",
              "  'leitet',\n",
              "  'special',\n",
              "  'account',\n",
              "  'thomas',\n",
              "  'groj',\n",
              "  'ubernimmt',\n",
              "  'regionalleit',\n",
              "  'wien',\n",
              "  'stammausgab',\n",
              "  'folg',\n",
              "  'neu',\n",
              "  'funktion',\n",
              "  'friedrich',\n",
              "  'dungl',\n",
              "  'geschaftsfuhr',\n",
              "  'pressehaus',\n",
              "  'wechselt',\n",
              "  'woch',\n",
              "  'viel',\n",
              "  'dank',\n",
              "  'versprech',\n",
              "  'alpenrepubl',\n",
              "  'schnitzelland',\n",
              "  'schreib',\n",
              "  'https',\n",
              "  'andreas',\n",
              "  'csar',\n",
              "  'wechselt',\n",
              "  'verband',\n",
              "  'zeitung',\n",
              "  'leit',\n",
              "  'press',\n",
              "  'stell',\n",
              "  'pressesprech',\n",
              "  'ecoplus',\n",
              "  'land',\n",
              "  'woch',\n",
              "  'woch',\n",
              "  'woch',\n",
              "  'woch',\n",
              "  'hol',\n",
              "  'sven',\n",
              "  'pusswald',\n",
              "  'leit',\n",
              "  'public',\n",
              "  'affair'],\n",
              " ['woch',\n",
              "  'wiss',\n",
              "  'sollt',\n",
              "  'gleich',\n",
              "  'vergess',\n",
              "  'wien',\n",
              "  'woch',\n",
              "  'getan',\n",
              "  'medienwelt',\n",
              "  'entgang',\n",
              "  'bess',\n",
              "  'durchcheck',\n",
              "  'etat',\n",
              "  'wochenquiz',\n",
              "  'wunsch',\n",
              "  'spass',\n",
              "  'beim',\n",
              "  'mitmach',\n",
              "  'vorig',\n",
              "  'woch',\n",
              "  'zeit',\n",
              "  'medi',\n",
              "  'nachricht',\n",
              "  'les',\n",
              "  'nutzlich',\n",
              "  'link'],\n",
              " ['woch',\n",
              "  'wiss',\n",
              "  'sollt',\n",
              "  'gleich',\n",
              "  'vergess',\n",
              "  'wien',\n",
              "  'woch',\n",
              "  'getan',\n",
              "  'medienwelt',\n",
              "  'entgang',\n",
              "  'bess',\n",
              "  'durchcheck',\n",
              "  'etat',\n",
              "  'wochenquiz',\n",
              "  'wunsch',\n",
              "  'spass',\n",
              "  'beim',\n",
              "  'mitmach',\n",
              "  'vorig',\n",
              "  'woch',\n",
              "  'zeit',\n",
              "  'medi',\n",
              "  'nachricht',\n",
              "  'les',\n",
              "  'nutzlich',\n",
              "  'link'],\n",
              " ['mocht',\n",
              "  'eig',\n",
              "  'plattform',\n",
              "  'aufbau',\n",
              "  'les',\n",
              "  'unterstutzt',\n",
              "  'irgendwas',\n",
              "  'medi',\n",
              "  'recht',\n",
              "  'vag',\n",
              "  'stefan',\n",
              "  'niggemei',\n",
              "  'plant',\n",
              "  'jedenfall',\n",
              "  'deutsch',\n",
              "  'onlinemagazin',\n",
              "  'krautreport',\n",
              "  'verlasst',\n",
              "  'niggemei',\n",
              "  'herausgeb',\n",
              "  'initiator',\n",
              "  'kritisch',\n",
              "  'bild',\n",
              "  'blog',\n",
              "  'kundigt',\n",
              "  'neu',\n",
              "  'plattform',\n",
              "  'medienkrit',\n",
              "  'einbezieh',\n",
              "  'les',\n",
              "  'blog',\n",
              "  'schreibt',\n",
              "  'niggemei',\n",
              "  'projekt',\n",
              "  'krautreport',\n",
              "  'richtig',\n",
              "  'findet',\n",
              "  'umsetz',\n",
              "  'vorstell',\n",
              "  'verlief',\n",
              "  'grosst',\n",
              "  'einzeln',\n",
              "  'fehl',\n",
              "  'meinung',\n",
              "  'eig',\n",
              "  'softwar',\n",
              "  'programmi',\n",
              "  'lass',\n",
              "  'zeit',\n",
              "  'geld',\n",
              "  'nerv',\n",
              "  'gekostet',\n",
              "  'teilweis',\n",
              "  'richtig',\n",
              "  'funktioniert',\n",
              "  'zentral',\n",
              "  'probl',\n",
              "  'verortet',\n",
              "  'redaktionell',\n",
              "  'bereich',\n",
              "  'rot',\n",
              "  'fad',\n",
              "  'gefehlt',\n",
              "  'trieb',\n",
              "  'lust',\n",
              "  'neu',\n",
              "  'geschaftsmodell',\n",
              "  'auszuprobi',\n",
              "  'unbedingt',\n",
              "  'gemeinsam',\n",
              "  'redaktionell',\n",
              "  'ide',\n",
              "  'tat',\n",
              "  'schwer',\n",
              "  'defini',\n",
              "  'worub',\n",
              "  'bericht',\n",
              "  'niggemei',\n",
              "  'verliert',\n",
              "  'krautreport',\n",
              "  'bekannt',\n",
              "  'journalist',\n",
              "  'portal',\n",
              "  'wurd',\n",
              "  'jahr',\n",
              "  'erfolgreich',\n",
              "  'crowdfunding',\n",
              "  'tauf',\n",
              "  'gehob',\n",
              "  'finanzier',\n",
              "  'gelang',\n",
              "  'nachd',\n",
              "  'mitglied',\n",
              "  'jahresabo',\n",
              "  'euro',\n",
              "  'abschloss',\n",
              "  'krautreport',\n",
              "  'weitergeht',\n",
              "  'nach',\n",
              "  'woch',\n",
              "  'zeig',\n",
              "  'mitglied',\n",
              "  'muss',\n",
              "  'namlich',\n",
              "  'verlang',\n",
              "  'zweit',\n",
              "  'jahr',\n",
              "  'geh'],\n",
              " ['fest',\n",
              "  'redaktion',\n",
              "  'umwandl',\n",
              "  'genossenschaft',\n",
              "  'steht',\n",
              "  'kurz',\n",
              "  'bevor',\n",
              "  'berlin',\n",
              "  'wien',\n",
              "  'angesagt',\n",
              "  'revolution',\n",
              "  'verandert',\n",
              "  'form',\n",
              "  'fortgesetzt',\n",
              "  'krautreport',\n",
              "  'genossenschaft',\n",
              "  'umgewandelt',\n",
              "  'muss',\n",
              "  'gefund',\n",
              "  'einlag',\n",
              "  'zumind',\n",
              "  'euro',\n",
              "  'beteil',\n",
              "  'erst',\n",
              "  'zahl',\n",
              "  'erreicht',\n",
              "  'genossenschaft',\n",
              "  'eingetrag',\n",
              "  'daran',\n",
              "  'scheit',\n",
              "  'plattform',\n",
              "  'bish',\n",
              "  'gesellschaft',\n",
              "  'beschrankt',\n",
              "  'haftung',\n",
              "  'weitergefuhrt',\n",
              "  'mitglied',\n",
              "  'haft',\n",
              "  'hoh',\n",
              "  'einlag',\n",
              "  'besteht',\n",
              "  'unabhang',\n",
              "  'einlagenhoh',\n",
              "  'mitglied',\n",
              "  'stimm',\n",
              "  'erhalt',\n",
              "  'eingenomm',\n",
              "  'euro',\n",
              "  'soll',\n",
              "  'verwendet',\n",
              "  'besteh',\n",
              "  'portal',\n",
              "  'journalismus',\n",
              "  'crowdfunding',\n",
              "  'plattform',\n",
              "  'erweit',\n",
              "  'erst',\n",
              "  'jahr',\n",
              "  'besteh',\n",
              "  'krautreport',\n",
              "  'uneingeschrankt',\n",
              "  'zufried',\n",
              "  'text',\n",
              "  'bish',\n",
              "  'erschi',\n",
              "  'wenig',\n",
              "  'anfang',\n",
              "  'geplant',\n",
              "  'stefan',\n",
              "  'niggermei',\n",
              "  'kritisiert',\n",
              "  'austritt',\n",
              "  'kollektiv',\n",
              "  'fehlend',\n",
              "  'redaktionell',\n",
              "  'lini',\n",
              "  'geschaff',\n",
              "  'fest',\n",
              "  'redaktion',\n",
              "  'vorteil',\n",
              "  'mitgliedschaft',\n",
              "  'abseit',\n",
              "  'genossenschaft',\n",
              "  'soll',\n",
              "  'ausgebaut',\n",
              "  'planung',\n",
              "  'beispielsweis',\n",
              "  'mitglied',\n",
              "  'lauf',\n",
              "  'oktob',\n",
              "  'davon',\n",
              "  'ziel',\n",
              "  'gesetzt',\n",
              "  'soll',\n",
              "  'zumind',\n",
              "  'verlangert',\n",
              "  'eig',\n",
              "  'angab',\n",
              "  'benotigt',\n",
              "  'plattform',\n",
              "  'mindest',\n",
              "  'unterstutz',\n",
              "  'fortgefuhrt'],\n",
              " ['nachricht',\n",
              "  'drei',\n",
              "  'jahr',\n",
              "  'finanzier',\n",
              "  'gescheitert',\n",
              "  'york',\n",
              "  'news',\n",
              "  'circa',\n",
              "  'speziell',\n",
              "  'smartphon',\n",
              "  'drei',\n",
              "  'jahr',\n",
              "  'end',\n",
              "  'team',\n",
              "  'geld',\n",
              "  'ausgegang',\n",
              "  'betrieb',\n",
              "  'weit',\n",
              "  'eingestellt',\n",
              "  'erklart',\n",
              "  'mitgrund',\n",
              "  'matt',\n",
              "  'galligan',\n",
              "  'mittwoch',\n",
              "  'konzept',\n",
              "  'circa',\n",
              "  'klein',\n",
              "  'happch',\n",
              "  'runterzubrech',\n",
              "  'smartphon',\n",
              "  'bildschirm',\n",
              "  'pass',\n",
              "  'nutz',\n",
              "  'updat',\n",
              "  'aktuell',\n",
              "  'entwickl',\n",
              "  'laufend',\n",
              "  'halt',\n",
              "  'ide',\n",
              "  'mach',\n",
              "  'laut',\n",
              "  'medienbericht',\n",
              "  'rund',\n",
              "  'funf',\n",
              "  'million',\n",
              "  'dollar',\n",
              "  'investor',\n",
              "  'eingesammelt',\n",
              "  'mehr',\n",
              "  'etabliert',\n",
              "  'journalist',\n",
              "  'angeworb',\n",
              "  'circa',\n",
              "  'gelung',\n",
              "  'weit',\n",
              "  'investment',\n",
              "  'einzufadeln',\n",
              "  'bevor',\n",
              "  'ressourc',\n",
              "  'knapp',\n",
              "  'geword',\n",
              "  'seien',\n",
              "  'schrieb',\n",
              "  'galligan',\n",
              "  'blog',\n",
              "  'plattform',\n",
              "  'medium',\n",
              "  'hatt',\n",
              "  'versuch',\n",
              "  'werbung',\n",
              "  'gebuhr',\n",
              "  'rund',\n",
              "  'komm',\n",
              "  'raumt',\n",
              "  'hatt',\n",
              "  'vision',\n",
              "  'dien',\n",
              "  'widersproch',\n",
              "  'wohl',\n",
              "  'genug',\n",
              "  'eingebracht',\n",
              "  'sagt',\n",
              "  'galligan',\n",
              "  'circa',\n",
              "  'bereit',\n",
              "  'seit',\n",
              "  'montag',\n",
              "  'mehr',\n",
              "  'veroffentlicht'],\n",
              " ['news',\n",
              "  'interess',\n",
              "  'les',\n",
              "  'ausgeliefert',\n",
              "  'wien',\n",
              "  'london',\n",
              "  'britisch',\n",
              "  'bringt',\n",
              "  'neu',\n",
              "  'international',\n",
              "  'news',\n",
              "  'android',\n",
              "  'auf',\n",
              "  'handy',\n",
              "  'ansatz',\n",
              "  'soll',\n",
              "  'nachricht',\n",
              "  'praferenz',\n",
              "  'les',\n",
              "  'lief',\n",
              "  'biet',\n",
              "  'kombination',\n",
              "  'stori',\n",
              "  'meist',\n",
              "  'geles',\n",
              "  'geschicht',\n",
              "  'person',\n",
              "  'ausgewahlt',\n",
              "  'empfohl',\n",
              "  'them',\n",
              "  'gebiet',\n",
              "  'bereich',\n",
              "  'news',\n",
              "  'gelang',\n",
              "  'les',\n",
              "  'geschicht',\n",
              "  'meist',\n",
              "  'interessi',\n",
              "  'konnt',\n",
              "  'anhand',\n",
              "  'list',\n",
              "  'basier',\n",
              "  'geles',\n",
              "  'artikel',\n",
              "  'eingab',\n",
              "  'suchfeld',\n",
              "  'benutz',\n",
              "  'them',\n",
              "  'innerhalb',\n",
              "  'artikel',\n",
              "  'folg',\n",
              "  'wirklich',\n",
              "  'person',\n",
              "  'servic',\n",
              "  'schaff',\n",
              "  'geschicht',\n",
              "  'themat',\n",
              "  'chronolog',\n",
              "  'geordnet',\n",
              "  'heisst',\n",
              "  'aussend',\n",
              "  'seit',\n",
              "  'start',\n",
              "  'freitag',\n",
              "  'bereit',\n",
              "  'million',\n",
              "  'heruntergelad',\n",
              "  'word',\n",
              "  'laut',\n",
              "  'konsumi',\n",
              "  'mittlerweil',\n",
              "  'prozent',\n",
              "  'nutz',\n",
              "  'news',\n",
              "  'smartphon',\n",
              "  'tablet',\n",
              "  'erst',\n",
              "  'prozent']]"
            ]
          },
          "metadata": {},
          "execution_count": 13
        }
      ]
    },
    {
      "cell_type": "markdown",
      "metadata": {
        "id": "T8LndhI5mAGP"
      },
      "source": [
        "## Setting Up The Dictionary\n",
        "\n",
        "Our preprocessing is complete.\n",
        "\n",
        "We now need to calculate the occurance frequencies of each of our stemmed words. But first, we will create a vocabulary dictionary where every word appears once. Every article would be represented as a [bag-of-words](https://en.wikipedia.org/wiki/Bag-of-words_model), an unordered set of words that the article contain.\n",
        "\n",
        "---\n",
        "\n",
        "Q: Why is it called bag-of-words?\n",
        "\n",
        "Hint: Think about your probability lessons - where you had randomly picked out white or black balls out of a bag..."
      ]
    },
    {
      "cell_type": "code",
      "metadata": {
        "id": "pj6CI60KlF0N"
      },
      "source": [
        "dictionary = corpora.Dictionary(processed_docs)"
      ],
      "execution_count": 14,
      "outputs": []
    },
    {
      "cell_type": "markdown",
      "metadata": {
        "id": "KiaCJuuXmkDV"
      },
      "source": [
        "Let's take a look:"
      ]
    },
    {
      "cell_type": "code",
      "metadata": {
        "id": "F0DJqlhimfns",
        "outputId": "cd443820-9511-4d22-c7d5-9d294464dc85",
        "colab": {
          "base_uri": "https://localhost:8080/"
        }
      },
      "source": [
        "for idx, (k, v) in enumerate(dictionary.iteritems()):\n",
        "    print(k, v)\n",
        "    if idx >= 10:\n",
        "        break\n",
        "\n",
        "### BTW: `enumerate` is a great python function!\n",
        "### It automatically creates an index, an auto-incremented counter variable,\n",
        "### that represents the position of every object in the collection.\n",
        "\n",
        "### Read more about it here: https://realpython.com/python-enumerate/"
      ],
      "execution_count": 16,
      "outputs": [
        {
          "output_type": "stream",
          "name": "stdout",
          "text": [
            "0 ahnlich\n",
            "1 angemahnt\n",
            "2 anteil\n",
            "3 august\n",
            "4 ausseh\n",
            "5 chefin\n",
            "6 christin\n",
            "7 degeto\n",
            "8 diskuti\n",
            "9 einfuhr\n",
            "10 fernsehfilm\n"
          ]
        }
      ]
    },
    {
      "cell_type": "markdown",
      "metadata": {
        "id": "XLT9Y9LImtv_"
      },
      "source": [
        "Second, we filter the tokens that may appear to often.\n",
        "\n",
        "We have full control on the process."
      ]
    },
    {
      "cell_type": "markdown",
      "metadata": {
        "id": "8LtlVAJEa6vp"
      },
      "source": [
        "### Model Hyperparameter tuning"
      ]
    },
    {
      "cell_type": "markdown",
      "source": [
        "### Your Turn:\n",
        "#### Exercise 1 - Hyperparameter effect on the model output:\n",
        "**Q:** How would changing these parameters influence the result?  \n",
        "After running this example, please return here to change them and try them out."
      ],
      "metadata": {
        "id": "yHsgesK9dW7j"
      }
    },
    {
      "cell_type": "code",
      "metadata": {
        "id": "KSwEk-wcBKEg"
      },
      "source": [
        "## Model hyper parameters:\n",
        "\n",
        "## These are the dictionary preparation parameters:\n",
        "filter_tokens_if_container_documents_are_less_than = 10 # filters out words that appear in fewer than n documents. If we set it too low we may not be able interpret topics anymore\n",
        "filter_tokens_if_appeared_percentage_more_than = 0.4 # if we set it too low we will filter rare and \"important\" words that help to define a topic\n",
        "keep_the_first_n_tokens=100000\n",
        "\n",
        "## and the LDA Parameters:\n",
        "num_of_topics = 9 # I changed 10 to 9 because we have 9 topics in our corpus\n",
        "alpha = 0.01\n",
        "eta = 0.01\n",
        "\n",
        "# Quote: alpha and eta can be thought of as smoothing parameters when we compute how much each document \"likes\" a topic (in the case of alpha) or how much each topic \"likes\" a word (in the case of gamma).\n",
        "#        A higher alpha makes the document preferences \"smoother\" over topics, and a higher eta makes the topic preferences \"smoother\" over words.\"\"\"\n",
        "\n",
        "#I found this description here: https://ethen8181.github.io/machine-learning/clustering/topic_model/LDA.html\n",
        "\n",
        "# I set alpha and eta this way because I think that the topics in our corpus are hihgly related to each other and a documant may have many topics,\n",
        "# therefore we need to focus on fewer words and allow a document to have fewer topics fpr thei better difinition (lower eta and alpha)."
      ],
      "execution_count": 31,
      "outputs": []
    },
    {
      "cell_type": "code",
      "metadata": {
        "id": "zelcg-UUmiVx"
      },
      "source": [
        "dictionary.filter_extremes(\n",
        "    no_below=filter_tokens_if_container_documents_are_less_than,\n",
        "    no_above=filter_tokens_if_appeared_percentage_more_than,\n",
        "    keep_n=keep_the_first_n_tokens)"
      ],
      "execution_count": 32,
      "outputs": []
    },
    {
      "cell_type": "markdown",
      "metadata": {
        "id": "EsknGryxnx0X"
      },
      "source": [
        "We now create a [bag-of-words](https://en.wikipedia.org/wiki/Bag-of-words_model) (BOW) dictionary for each document, using [gensim's dictionary](https://radimrehurek.com/gensim/corpora/dictionary.html) tool.\n",
        "\n",
        "It will be in the format of:\n",
        "\n",
        "```{ 'word_id': count }```\n"
      ]
    },
    {
      "cell_type": "code",
      "metadata": {
        "id": "u1CsbhJcntUW"
      },
      "source": [
        "bow_corpus = [dictionary.doc2bow(doc) for doc in processed_docs]"
      ],
      "execution_count": 33,
      "outputs": []
    },
    {
      "cell_type": "markdown",
      "metadata": {
        "id": "RmHQyMKXokyq"
      },
      "source": [
        "Let's take a look at the result.\n",
        "\n",
        "Our corpus contains now only word_ids, not the words themselves, so we have to peek into the dictionary to know which word that id represents:"
      ]
    },
    {
      "cell_type": "code",
      "metadata": {
        "id": "dD6n6MNnoSBH",
        "outputId": "ebeeec8d-1149-40ac-9f74-0494c47d47b3",
        "colab": {
          "base_uri": "https://localhost:8080/"
        }
      },
      "source": [
        "# randomly choose an article from the corpus:\n",
        "sample_bow_doc = choice(bow_corpus)\n",
        "\n",
        "print('The processed bag-of-word document is just pairs of (word_id, # of occurnces) and looks like this:')\n",
        "print(sample_bow_doc, '\\n\\n')\n",
        "\n",
        "print ('We peek in the dictionary: for each word_id, we get its assigned word:')\n",
        "for word_id, word_freq in sample_bow_doc:\n",
        "  real_word = dictionary[word_id]\n",
        "  print(f'Word #{word_id} (\"{real_word}\") appears {word_freq} time.')"
      ],
      "execution_count": 34,
      "outputs": [
        {
          "output_type": "stream",
          "name": "stdout",
          "text": [
            "The processed bag-of-word document is just pairs of (word_id, # of occurnces) and looks like this:\n",
            "[(65, 2), (69, 1), (101, 1), (147, 1), (157, 2), (190, 1), (234, 1), (255, 1), (270, 1), (282, 1), (308, 3), (368, 1), (384, 2), (397, 1), (408, 1), (444, 3), (452, 1), (478, 1), (489, 1), (552, 1), (562, 1), (632, 1), (792, 1), (799, 1), (809, 1), (819, 1), (821, 1), (836, 1), (863, 2), (866, 1), (988, 1), (1016, 1), (1025, 2), (1055, 7), (1113, 1), (1248, 1), (1289, 3), (1299, 1), (1326, 1), (1496, 1), (1549, 1), (1551, 1), (1647, 1), (1652, 1), (1870, 1), (1997, 1), (2080, 1), (2109, 1), (2129, 1), (2216, 1), (2368, 1), (2571, 1), (2708, 2), (2816, 1), (2829, 1), (2976, 1), (3188, 1), (3242, 1), (3259, 1), (3328, 1), (3916, 1), (3943, 1), (3985, 2), (4339, 1), (4453, 1), (4634, 2), (5652, 1), (6181, 1), (7623, 1), (8099, 2), (8657, 1), (8670, 8), (8759, 1), (9791, 1), (9847, 1), (11470, 1), (12784, 1)] \n",
            "\n",
            "\n",
            "We peek in the dictionary: for each word_id, we get its assigned word:\n",
            "Word #65 (\"allerding\") appears 2 time.\n",
            "Word #69 (\"aufreg\") appears 1 time.\n",
            "Word #101 (\"lass\") appears 1 time.\n",
            "Word #147 (\"account\") appears 1 time.\n",
            "Word #157 (\"eig\") appears 2 time.\n",
            "Word #190 (\"moglich\") appears 1 time.\n",
            "Word #234 (\"zeit\") appears 1 time.\n",
            "Word #255 (\"gelang\") appears 1 time.\n",
            "Word #270 (\"mitglied\") appears 1 time.\n",
            "Word #282 (\"recht\") appears 1 time.\n",
            "Word #308 (\"angab\") appears 3 time.\n",
            "Word #368 (\"bereit\") appears 1 time.\n",
            "Word #384 (\"gelung\") appears 2 time.\n",
            "Word #397 (\"matt\") appears 1 time.\n",
            "Word #408 (\"smartphon\") appears 1 time.\n",
            "Word #444 (\"konnt\") appears 3 time.\n",
            "Word #452 (\"schaff\") appears 1 time.\n",
            "Word #478 (\"darauf\") appears 1 time.\n",
            "Word #489 (\"famili\") appears 1 time.\n",
            "Word #552 (\"warnt\") appears 1 time.\n",
            "Word #562 (\"dabei\") appears 1 time.\n",
            "Word #632 (\"nah\") appears 1 time.\n",
            "Word #792 (\"erzahlt\") appears 1 time.\n",
            "Word #799 (\"frag\") appears 1 time.\n",
            "Word #809 (\"gibt\") appears 1 time.\n",
            "Word #819 (\"jedoch\") appears 1 time.\n",
            "Word #821 (\"jung\") appears 1 time.\n",
            "Word #836 (\"macht\") appears 1 time.\n",
            "Word #863 (\"serv\") appears 2 time.\n",
            "Word #866 (\"sprach\") appears 1 time.\n",
            "Word #988 (\"entsprech\") appears 1 time.\n",
            "Word #1016 (\"natur\") appears 1 time.\n",
            "Word #1025 (\"sag\") appears 2 time.\n",
            "Word #1055 (\"kind\") appears 7 time.\n",
            "Word #1113 (\"behalt\") appears 1 time.\n",
            "Word #1248 (\"syst\") appears 1 time.\n",
            "Word #1289 (\"herstell\") appears 3 time.\n",
            "Word #1299 (\"potenziell\") appears 1 time.\n",
            "Word #1326 (\"ausgestattet\") appears 1 time.\n",
            "Word #1496 (\"gemeldet\") appears 1 time.\n",
            "Word #1549 (\"zud\") appears 1 time.\n",
            "Word #1551 (\"zuvor\") appears 1 time.\n",
            "Word #1647 (\"entwickelt\") appears 1 time.\n",
            "Word #1652 (\"information\") appears 1 time.\n",
            "Word #1870 (\"gegenub\") appears 1 time.\n",
            "Word #1997 (\"bestatigt\") appears 1 time.\n",
            "Word #2080 (\"gefahrd\") appears 1 time.\n",
            "Word #2109 (\"stellungnahm\") appears 1 time.\n",
            "Word #2129 (\"gebracht\") appears 1 time.\n",
            "Word #2216 (\"schein\") appears 1 time.\n",
            "Word #2368 (\"ausreich\") appears 1 time.\n",
            "Word #2571 (\"anhor\") appears 1 time.\n",
            "Word #2708 (\"zugreif\") appears 2 time.\n",
            "Word #2816 (\"gesorgt\") appears 1 time.\n",
            "Word #2829 (\"reagiert\") appears 1 time.\n",
            "Word #2976 (\"gesagt\") appears 1 time.\n",
            "Word #3188 (\"antwort\") appears 1 time.\n",
            "Word #3242 (\"ubermittelt\") appears 1 time.\n",
            "Word #3259 (\"aufzeichn\") appears 1 time.\n",
            "Word #3328 (\"verbind\") appears 1 time.\n",
            "Word #3916 (\"lauft\") appears 1 time.\n",
            "Word #3943 (\"identifizi\") appears 1 time.\n",
            "Word #3985 (\"elt\") appears 2 time.\n",
            "Word #4339 (\"datenschutz\") appears 1 time.\n",
            "Word #4453 (\"gebet\") appears 1 time.\n",
            "Word #4634 (\"gespeichert\") appears 2 time.\n",
            "Word #5652 (\"merkt\") appears 1 time.\n",
            "Word #6181 (\"handel\") appears 1 time.\n",
            "Word #7623 (\"abhor\") appears 1 time.\n",
            "Word #8099 (\"hack\") appears 2 time.\n",
            "Word #8657 (\"gehackt\") appears 1 time.\n",
            "Word #8670 (\"pupp\") appears 8 time.\n",
            "Word #8759 (\"hello\") appears 1 time.\n",
            "Word #9791 (\"wlan\") appears 1 time.\n",
            "Word #9847 (\"herausgefund\") appears 1 time.\n",
            "Word #11470 (\"hindeut\") appears 1 time.\n",
            "Word #12784 (\"spielzeug\") appears 1 time.\n"
          ]
        }
      ]
    },
    {
      "cell_type": "markdown",
      "metadata": {
        "id": "jdEpXnWNrR4H"
      },
      "source": [
        "## LDA model using Bag-of-words\n",
        "\n",
        "Let's start by applying the LDA model using the bag-of-words (Warning: this could take a while):"
      ]
    },
    {
      "cell_type": "code",
      "metadata": {
        "id": "84CchtGap73H"
      },
      "source": [
        "lda_model = models.LdaMulticore(bow_corpus,\n",
        "                                num_topics=num_of_topics,\n",
        "                                id2word=dictionary,\n",
        "                                passes=5,\n",
        "                                workers=2,\n",
        "                                iterations = 5, # I put iterations for more training of the model\n",
        "                                eta = eta,\n",
        "                                alpha = alpha\n",
        "                                )"
      ],
      "execution_count": 35,
      "outputs": []
    },
    {
      "cell_type": "markdown",
      "metadata": {
        "id": "oqm3NWaGrYzC"
      },
      "source": [
        "It is done!\n",
        "\n",
        "Now we can observe which topics the model had extracted from the documents.\n",
        "\n",
        "- *Topics* are made of sets of words and their distribution for that topic, representing their weight in that topic.\n",
        "- Every document may be composed of multiple topics, with different weights representing the relation to each topics.\n",
        "\n",
        "We will loop over the extracted topics and examine the words that construct them."
      ]
    },
    {
      "cell_type": "code",
      "metadata": {
        "id": "N83rLkRRrYYz",
        "outputId": "2dc3c56c-a643-4840-a0b7-504a3314dfab",
        "colab": {
          "base_uri": "https://localhost:8080/"
        }
      },
      "source": [
        "for idx, topic in lda_model.print_topics(num_of_topics):\n",
        "    print(f'Topic: {idx} \\t Words: {topic}')"
      ],
      "execution_count": 36,
      "outputs": [
        {
          "output_type": "stream",
          "name": "stdout",
          "text": [
            "Topic: 0 \t Words: 0.005*\"wien\" + 0.004*\"osterreich\" + 0.004*\"gibt\" + 0.004*\"seit\" + 0.003*\"schon\" + 0.003*\"viel\" + 0.003*\"zwei\" + 0.003*\"jahrig\" + 0.003*\"imm\" + 0.003*\"beim\"\n",
            "Topic: 1 \t Words: 0.006*\"neu\" + 0.005*\"wien\" + 0.004*\"osterreich\" + 0.004*\"seit\" + 0.004*\"prozent\" + 0.004*\"standard\" + 0.004*\"grund\" + 0.004*\"steht\" + 0.004*\"euro\" + 0.004*\"gross\"\n",
            "Topic: 2 \t Words: 0.011*\"prozent\" + 0.006*\"neu\" + 0.006*\"euro\" + 0.005*\"osterreich\" + 0.005*\"wien\" + 0.004*\"seit\" + 0.003*\"beim\" + 0.003*\"weit\" + 0.003*\"land\" + 0.003*\"zwei\"\n",
            "Topic: 3 \t Words: 0.008*\"euro\" + 0.006*\"prozent\" + 0.006*\"million\" + 0.005*\"wien\" + 0.005*\"osterreich\" + 0.004*\"neu\" + 0.004*\"gross\" + 0.004*\"schon\" + 0.004*\"etwa\" + 0.004*\"unternehm\"\n",
            "Topic: 4 \t Words: 0.008*\"wien\" + 0.005*\"euro\" + 0.004*\"osterreich\" + 0.004*\"spiel\" + 0.004*\"neu\" + 0.004*\"seit\" + 0.003*\"gross\" + 0.003*\"schon\" + 0.003*\"standard\" + 0.003*\"viel\"\n",
            "Topic: 5 \t Words: 0.004*\"seit\" + 0.004*\"schon\" + 0.004*\"neu\" + 0.003*\"wien\" + 0.003*\"zwei\" + 0.003*\"osterreich\" + 0.003*\"word\" + 0.003*\"gibt\" + 0.003*\"rund\" + 0.003*\"bereit\"\n",
            "Topic: 6 \t Words: 0.008*\"fluchtling\" + 0.006*\"wien\" + 0.006*\"seit\" + 0.004*\"osterreich\" + 0.004*\"zwei\" + 0.004*\"neu\" + 0.004*\"land\" + 0.004*\"mensch\" + 0.003*\"jahrig\" + 0.003*\"schon\"\n",
            "Topic: 7 \t Words: 0.006*\"word\" + 0.005*\"mensch\" + 0.004*\"bereit\" + 0.004*\"seien\" + 0.004*\"land\" + 0.003*\"seit\" + 0.003*\"zwei\" + 0.003*\"wien\" + 0.003*\"regier\" + 0.003*\"angab\"\n",
            "Topic: 8 \t Words: 0.006*\"neu\" + 0.005*\"wien\" + 0.005*\"bereit\" + 0.004*\"seit\" + 0.004*\"gross\" + 0.003*\"zwei\" + 0.003*\"viel\" + 0.003*\"polit\" + 0.003*\"schon\" + 0.003*\"muss\"\n"
          ]
        }
      ]
    },
    {
      "cell_type": "markdown",
      "metadata": {
        "id": "CgCkLEelplF8"
      },
      "source": [
        "## TF / IDF\n",
        "\n",
        "Let's take it one step further. We will cluster our document by running the LDA using [TF/IDF](https://en.wikipedia.org/wiki/Tf%E2%80%93idf).\n",
        "\n",
        "We start with TF/IDF calculation on our bag-of-words.\n",
        "TF/IDF accepts a dictionary of word frequencies as an input, and it calculates the term frequency and the inversed document frequency accordingly.\n",
        "\n",
        "Its output is a re-weighted dictionary of the documents term frequencies:"
      ]
    },
    {
      "cell_type": "code",
      "metadata": {
        "id": "Xhj6Df56os0j",
        "outputId": "378e2ae8-49ac-42e1-f7d9-87d92edbf1ec",
        "colab": {
          "base_uri": "https://localhost:8080/"
        }
      },
      "source": [
        "# initialize a tfidf from our corpus\n",
        "tfidf = models.TfidfModel(bow_corpus)\n",
        "\n",
        "# apply it on our corpus\n",
        "tfidf_corpus = tfidf[bow_corpus]\n",
        "\n",
        "pprint(tfidf_corpus[0][:10])"
      ],
      "execution_count": 37,
      "outputs": [
        {
          "output_type": "stream",
          "name": "stdout",
          "text": [
            "[(0, 0.0667086950841424),\n",
            " (1, 0.08543973752985852),\n",
            " (2, 0.1557940056452628),\n",
            " (3, 0.10984349198894917),\n",
            " (4, 0.10599829818638576),\n",
            " (5, 0.13051677048653784),\n",
            " (6, 0.10454248999145317),\n",
            " (7, 0.09462873248444831),\n",
            " (8, 0.16817827657460563),\n",
            " (9, 0.05473773449333437)]\n"
          ]
        }
      ]
    },
    {
      "cell_type": "code",
      "source": [
        "# the new tfidf corpus is just our corpus - but transformed. It has the same size of documents:\n",
        "assert len(bow_corpus) == len(tfidf_corpus)"
      ],
      "metadata": {
        "id": "OdllL8StNLm2"
      },
      "execution_count": 38,
      "outputs": []
    },
    {
      "cell_type": "markdown",
      "metadata": {
        "id": "UZ-9a3gcsYts"
      },
      "source": [
        "Now let's apply LDA on the tfidf corpus, with the same amount of topics.\n",
        "\n",
        "You can play with the # of passes, if the model doesn't converge properly"
      ]
    },
    {
      "cell_type": "code",
      "metadata": {
        "id": "ihxND83irVSf",
        "outputId": "500dc9b2-0d8d-4264-e7c1-27bb187f8880",
        "colab": {
          "base_uri": "https://localhost:8080/"
        }
      },
      "source": [
        "lda_model_tfidf = models.LdaMulticore(tfidf_corpus,\n",
        "                                      num_topics=num_of_topics,\n",
        "                                      id2word=dictionary,\n",
        "                                      passes=5,\n",
        "                                      workers=4,\n",
        "                                      iterations = 5, # I put iterations for more training of the model\n",
        "                                      eta = eta,\n",
        "                                      alpha = alpha)"
      ],
      "execution_count": 39,
      "outputs": [
        {
          "output_type": "stream",
          "name": "stderr",
          "text": [
            "WARNING:gensim.models.ldamulticore:too few updates, training might not converge; consider increasing the number of passes or iterations to improve accuracy\n"
          ]
        }
      ]
    },
    {
      "cell_type": "code",
      "source": [
        "for idx, topic in lda_model_tfidf.print_topics(num_of_topics):\n",
        "    print(f'Topic: {idx} \\t Word: {topic}')"
      ],
      "metadata": {
        "id": "adACX8kGihtG",
        "outputId": "5584f7f5-f2b1-45f5-c1d1-ae3193f6a058",
        "colab": {
          "base_uri": "https://localhost:8080/"
        }
      },
      "execution_count": 40,
      "outputs": [
        {
          "output_type": "stream",
          "name": "stdout",
          "text": [
            "Topic: 0 \t Word: 0.008*\"volltext\" + 0.008*\"basier\" + 0.007*\"artikel\" + 0.007*\"rechtlich\" + 0.006*\"verfug\" + 0.005*\"grund\" + 0.005*\"steht\" + 0.004*\"euro\" + 0.003*\"prozent\" + 0.003*\"russland\"\n",
            "Topic: 1 \t Word: 0.003*\"novomatic\" + 0.002*\"prozent\" + 0.002*\"osterreich\" + 0.002*\"wien\" + 0.002*\"appl\" + 0.002*\"million\" + 0.002*\"euro\" + 0.001*\"spiel\" + 0.001*\"thiem\" + 0.001*\"neu\"\n",
            "Topic: 2 \t Word: 0.003*\"prozent\" + 0.002*\"fluchtling\" + 0.002*\"wien\" + 0.002*\"osterreich\" + 0.002*\"mensch\" + 0.002*\"tier\" + 0.002*\"neu\" + 0.002*\"etwa\" + 0.002*\"forsch\" + 0.001*\"gibt\"\n",
            "Topic: 3 \t Word: 0.004*\"forsch\" + 0.004*\"wissenschaft\" + 0.003*\"studi\" + 0.002*\"mensch\" + 0.002*\"untersuch\" + 0.002*\"universitat\" + 0.002*\"institut\" + 0.002*\"gen\" + 0.001*\"natur\" + 0.001*\"etwa\"\n",
            "Topic: 4 \t Word: 0.003*\"satellit\" + 0.002*\"fahrzeug\" + 0.002*\"forsch\" + 0.002*\"erd\" + 0.002*\"teilch\" + 0.002*\"komet\" + 0.002*\"physik\" + 0.002*\"raket\" + 0.002*\"europa\" + 0.002*\"polizei\"\n",
            "Topic: 5 \t Word: 0.005*\"prozent\" + 0.004*\"lufthansa\" + 0.004*\"volkswag\" + 0.003*\"israel\" + 0.003*\"eurowing\" + 0.003*\"konz\" + 0.003*\"airlin\" + 0.002*\"porsch\" + 0.002*\"fahrzeug\" + 0.002*\"euro\"\n",
            "Topic: 6 \t Word: 0.006*\"prozent\" + 0.003*\"osterreich\" + 0.003*\"euro\" + 0.002*\"wien\" + 0.002*\"salzburg\" + 0.002*\"spiel\" + 0.002*\"gewerkschaft\" + 0.002*\"arbeitsmarkt\" + 0.002*\"million\" + 0.002*\"mitarbeit\"\n",
            "Topic: 7 \t Word: 0.004*\"euro\" + 0.003*\"panama\" + 0.002*\"prozent\" + 0.002*\"pap\" + 0.002*\"wien\" + 0.002*\"osterreich\" + 0.002*\"million\" + 0.002*\"bahn\" + 0.002*\"offshor\" + 0.002*\"lang\"\n",
            "Topic: 8 \t Word: 0.004*\"prozent\" + 0.004*\"griechenland\" + 0.004*\"euro\" + 0.003*\"griechisch\" + 0.003*\"ath\" + 0.002*\"milliard\" + 0.002*\"tsipras\" + 0.002*\"bank\" + 0.002*\"kommission\" + 0.002*\"europa\"\n"
          ]
        }
      ]
    },
    {
      "cell_type": "markdown",
      "metadata": {
        "id": "f9HswwLLsw0X"
      },
      "source": [
        "## Inference\n",
        "\n",
        "Now that we have a topic-modeler, let's use it on one of the articles."
      ]
    },
    {
      "cell_type": "code",
      "metadata": {
        "id": "tQlSUn_CsbcX",
        "outputId": "ec989573-5192-4bb6-b889-032443c4a83e",
        "colab": {
          "base_uri": "https://localhost:8080/"
        }
      },
      "source": [
        "# randomly pick an article:\n",
        "test_doc = choice(range(len(processed_docs)))\n",
        "processed_docs[test_doc][:50]"
      ],
      "execution_count": 41,
      "outputs": [
        {
          "output_type": "execute_result",
          "data": {
            "text/plain": [
              "['spiel',\n",
              " 'andauernd',\n",
              " 'siegesseri',\n",
              " 'serb',\n",
              " 'beendet',\n",
              " 'schweiz',\n",
              " 'steht',\n",
              " 'london',\n",
              " 'world',\n",
              " 'tour',\n",
              " 'final',\n",
              " 'halbfinal',\n",
              " 'london',\n",
              " 'schweiz',\n",
              " 'rog',\n",
              " 'fed',\n",
              " 'dienstag',\n",
              " 'zweit',\n",
              " 'gruppenspiel',\n",
              " 'london',\n",
              " 'world',\n",
              " 'tour',\n",
              " 'final',\n",
              " 'siegesseri',\n",
              " 'novak',\n",
              " 'djokovic',\n",
              " 'erfolg',\n",
              " 'hintereinand',\n",
              " 'beendet',\n",
              " 'uberzeug',\n",
              " 'numm',\n",
              " 'ein',\n",
              " 'tennis',\n",
              " 'weltranglist',\n",
              " 'steht',\n",
              " 'eidgenoss',\n",
              " 'vorzeit',\n",
              " 'halbfinal',\n",
              " 'djokovic',\n",
              " 'verlor',\n",
              " 'erstmal',\n",
              " 'seit',\n",
              " 'mehr',\n",
              " 'drei',\n",
              " 'jahr',\n",
              " 'sieg',\n",
              " 'parti',\n",
              " 'hall',\n",
              " 'basis',\n",
              " 'erfolg']"
            ]
          },
          "metadata": {},
          "execution_count": 41
        }
      ]
    },
    {
      "cell_type": "markdown",
      "metadata": {
        "id": "Jt6oJJL8tiO_"
      },
      "source": [
        "Using the original BOW model:"
      ]
    },
    {
      "cell_type": "code",
      "metadata": {
        "id": "ZBbrSNDVszGW",
        "outputId": "baa7e4bb-9e46-4c2d-e345-787f79faf2a3",
        "colab": {
          "base_uri": "https://localhost:8080/"
        }
      },
      "source": [
        "for index, score in sorted(lda_model[bow_corpus[test_doc]], key=lambda tup: -1*tup[1]):\n",
        "    print(f\"Topic match score: {score} \\nTopic: {lda_model.print_topic(index, num_of_topics)}\")"
      ],
      "execution_count": 42,
      "outputs": [
        {
          "output_type": "stream",
          "name": "stdout",
          "text": [
            "Topic match score: 0.3042103350162506 \n",
            "Topic: 0.008*\"wien\" + 0.005*\"euro\" + 0.004*\"osterreich\" + 0.004*\"spiel\" + 0.004*\"neu\" + 0.004*\"seit\" + 0.003*\"gross\" + 0.003*\"schon\" + 0.003*\"standard\"\n",
            "Topic match score: 0.20305734872817993 \n",
            "Topic: 0.005*\"wien\" + 0.004*\"osterreich\" + 0.004*\"gibt\" + 0.004*\"seit\" + 0.003*\"schon\" + 0.003*\"viel\" + 0.003*\"zwei\" + 0.003*\"jahrig\" + 0.003*\"imm\"\n",
            "Topic match score: 0.19147653877735138 \n",
            "Topic: 0.011*\"prozent\" + 0.006*\"neu\" + 0.006*\"euro\" + 0.005*\"osterreich\" + 0.005*\"wien\" + 0.004*\"seit\" + 0.003*\"beim\" + 0.003*\"weit\" + 0.003*\"land\"\n",
            "Topic match score: 0.09541898220777512 \n",
            "Topic: 0.008*\"fluchtling\" + 0.006*\"wien\" + 0.006*\"seit\" + 0.004*\"osterreich\" + 0.004*\"zwei\" + 0.004*\"neu\" + 0.004*\"land\" + 0.004*\"mensch\" + 0.003*\"jahrig\"\n",
            "Topic match score: 0.08137684315443039 \n",
            "Topic: 0.006*\"neu\" + 0.005*\"wien\" + 0.005*\"bereit\" + 0.004*\"seit\" + 0.004*\"gross\" + 0.003*\"zwei\" + 0.003*\"viel\" + 0.003*\"polit\" + 0.003*\"schon\"\n",
            "Topic match score: 0.04195510223507881 \n",
            "Topic: 0.006*\"neu\" + 0.005*\"wien\" + 0.004*\"osterreich\" + 0.004*\"seit\" + 0.004*\"prozent\" + 0.004*\"standard\" + 0.004*\"grund\" + 0.004*\"steht\" + 0.004*\"euro\"\n",
            "Topic match score: 0.04051683843135834 \n",
            "Topic: 0.004*\"seit\" + 0.004*\"schon\" + 0.004*\"neu\" + 0.003*\"wien\" + 0.003*\"zwei\" + 0.003*\"osterreich\" + 0.003*\"word\" + 0.003*\"gibt\" + 0.003*\"rund\"\n",
            "Topic match score: 0.03173298388719559 \n",
            "Topic: 0.006*\"word\" + 0.005*\"mensch\" + 0.004*\"bereit\" + 0.004*\"seien\" + 0.004*\"land\" + 0.003*\"seit\" + 0.003*\"zwei\" + 0.003*\"wien\" + 0.003*\"regier\"\n",
            "Topic match score: 0.010255039669573307 \n",
            "Topic: 0.008*\"euro\" + 0.006*\"prozent\" + 0.006*\"million\" + 0.005*\"wien\" + 0.005*\"osterreich\" + 0.004*\"neu\" + 0.004*\"gross\" + 0.004*\"schon\" + 0.004*\"etwa\"\n"
          ]
        }
      ]
    },
    {
      "cell_type": "markdown",
      "metadata": {
        "id": "hdz9qz-Atj3A"
      },
      "source": [
        "And with the TF/IDF model:"
      ]
    },
    {
      "cell_type": "code",
      "metadata": {
        "id": "XWHTDQjVtTyO",
        "outputId": "ff8896c7-99da-4ce4-aafc-aebedcc46f2c",
        "colab": {
          "base_uri": "https://localhost:8080/"
        }
      },
      "source": [
        "for index, score in sorted(lda_model_tfidf[bow_corpus[test_doc]], key=lambda tup: -1*tup[1]):\n",
        "    print(\"Topic match score: {}\\t \\nTopic: {}\".format(score, lda_model_tfidf.print_topic(index, num_of_topics)))"
      ],
      "execution_count": 43,
      "outputs": [
        {
          "output_type": "stream",
          "name": "stdout",
          "text": [
            "Topic match score: 0.4548451602458954\t \n",
            "Topic: 0.003*\"novomatic\" + 0.002*\"prozent\" + 0.002*\"osterreich\" + 0.002*\"wien\" + 0.002*\"appl\" + 0.002*\"million\" + 0.002*\"euro\" + 0.001*\"spiel\" + 0.001*\"thiem\"\n",
            "Topic match score: 0.3390456438064575\t \n",
            "Topic: 0.006*\"prozent\" + 0.003*\"osterreich\" + 0.003*\"euro\" + 0.002*\"wien\" + 0.002*\"salzburg\" + 0.002*\"spiel\" + 0.002*\"gewerkschaft\" + 0.002*\"arbeitsmarkt\" + 0.002*\"million\"\n",
            "Topic match score: 0.07685111463069916\t \n",
            "Topic: 0.008*\"volltext\" + 0.008*\"basier\" + 0.007*\"artikel\" + 0.007*\"rechtlich\" + 0.006*\"verfug\" + 0.005*\"grund\" + 0.005*\"steht\" + 0.004*\"euro\" + 0.003*\"prozent\"\n",
            "Topic match score: 0.06241225078701973\t \n",
            "Topic: 0.003*\"prozent\" + 0.002*\"fluchtling\" + 0.002*\"wien\" + 0.002*\"osterreich\" + 0.002*\"mensch\" + 0.002*\"tier\" + 0.002*\"neu\" + 0.002*\"etwa\" + 0.002*\"forsch\"\n",
            "Topic match score: 0.022339532151818275\t \n",
            "Topic: 0.003*\"satellit\" + 0.002*\"fahrzeug\" + 0.002*\"forsch\" + 0.002*\"erd\" + 0.002*\"teilch\" + 0.002*\"komet\" + 0.002*\"physik\" + 0.002*\"raket\" + 0.002*\"europa\"\n",
            "Topic match score: 0.01607012189924717\t \n",
            "Topic: 0.004*\"euro\" + 0.003*\"panama\" + 0.002*\"prozent\" + 0.002*\"pap\" + 0.002*\"wien\" + 0.002*\"osterreich\" + 0.002*\"million\" + 0.002*\"bahn\" + 0.002*\"offshor\"\n",
            "Topic match score: 0.013274694792926311\t \n",
            "Topic: 0.004*\"prozent\" + 0.004*\"griechenland\" + 0.004*\"euro\" + 0.003*\"griechisch\" + 0.003*\"ath\" + 0.002*\"milliard\" + 0.002*\"tsipras\" + 0.002*\"bank\" + 0.002*\"kommission\"\n",
            "Topic match score: 0.010220583528280258\t \n",
            "Topic: 0.005*\"prozent\" + 0.004*\"lufthansa\" + 0.004*\"volkswag\" + 0.003*\"israel\" + 0.003*\"eurowing\" + 0.003*\"konz\" + 0.003*\"airlin\" + 0.002*\"porsch\" + 0.002*\"fahrzeug\"\n"
          ]
        }
      ]
    },
    {
      "cell_type": "markdown",
      "source": [
        "Calculating the [perplexity score](https://towardsdatascience.com/perplexity-in-language-models-87a196019a94) (lower is better):"
      ],
      "metadata": {
        "id": "Y6hgkxQ4RIzf"
      }
    },
    {
      "cell_type": "code",
      "source": [
        "print('Perplexity: ', lda_model.log_perplexity(bow_corpus))\n",
        "print('Perplexity TFIDF: ', lda_model_tfidf.log_perplexity(bow_corpus))"
      ],
      "metadata": {
        "colab": {
          "base_uri": "https://localhost:8080/"
        },
        "id": "hHtIgzTlw-gN",
        "outputId": "0af2d83f-75e5-4934-8fc5-0dca51c63308"
      },
      "execution_count": 44,
      "outputs": [
        {
          "output_type": "stream",
          "name": "stdout",
          "text": [
            "Perplexity:  -8.888971904487988\n",
            "Perplexity TFIDF:  -9.432603128338178\n"
          ]
        }
      ]
    },
    {
      "cell_type": "markdown",
      "metadata": {
        "id": "NZGXqV-TtyTm"
      },
      "source": [
        "### Exercise - inference\n",
        "\n",
        "Now please try it on a new document!\n",
        "\n",
        "Go to a news website, such as [orf.at](https://orf.at/) and copy an article of your choice here:"
      ]
    },
    {
      "cell_type": "code",
      "metadata": {
        "id": "Srd1NWjFtlqM",
        "outputId": "d5b29f02-4995-4469-9277-6c6dfcc03962",
        "colab": {
          "base_uri": "https://localhost:8080/"
        }
      },
      "source": [
        "unseen_document = \"\"\"Sobotka sprach in einer um eineinhalb Stunden verspäteten Pressekonferenz am Abend von einer „schwierigen“, aber „sachlichen und pointierten“ Diskussion im Hauptausschuss. Er meinte, dass von Gesundheitsminister Rudolf Anschober (Grüne), die „Notwendigkeit, Verhältnismäßigkeit und Richtigkeit“ der Maßnahmen erläutert worden seien. Zudem betonte Sobotka die Wichtigkeit der im Covid-Maßnahmengesetz vorgesehenen Mitsprache des Parlaments bei Maßnahmen, bei denen auch die Freiheitsrechte betroffen seien.\n",
        "Der Nationalratspräsident zitierte auch die deutsche Kanzlerin Angela Merkel, die die Maßnahmen im Kampf gegen die Pandemie als „demokratische Zumutung“ bezeichnet hatte. Dem sei nicht nur zuzustimmen, das sei auch zu unterstreichen, sagte er. Die Eindämmung der Pandemie könne aber nur gelingen, wenn sich alle Österreicher einbringen. Der Beschluss alleine reiche nicht, die Maßnahmen müssten auch im Geiste verinnerlicht werden, appellierte Sobotka an die Bevölkerung, die Maßnahmen mitzutragen.\n",
        "Rendi-Wagner kritisiert Regierung\n",
        "Die Opposition hatte schon vor der Sitzung – und dann auch noch einmal danach – ihre Kritik an der Regierung bekräftigt. „Die Bundesregierung hat die Kontrolle über das Infektionsgeschehen verloren und hat die schwierige Situation, vor der wir jetzt stehen, zu verantworten“, kritisierte SPÖ-Klub- und Parteivorsitzende Rendi-Wagner.\n",
        "Sessel auf Tischen in einem geschlossenen Lokal\n",
        "DEBATTEWie gerechtfertigt sind die Maßnahmen?\"\"\"\n",
        "\n",
        "bow_vector = dictionary.doc2bow(preprocess(unseen_document))\n",
        "\n",
        "print(\"Simply printing the lda_model output would look like this:\")\n",
        "pprint(lda_model[bow_vector])\n",
        "\n",
        "print(\"\\n\\nSo let's make it nicer, by printing the topic contents:\")\n",
        "for index, score in sorted(lda_model[bow_vector], key=lambda tup: -1*tup[1]):\n",
        "    print(\"Score: {}\\t Topic: {}\".format(score, lda_model.print_topic(index, 5)))\n"
      ],
      "execution_count": 45,
      "outputs": [
        {
          "output_type": "stream",
          "name": "stdout",
          "text": [
            "Simply printing the lda_model output would look like this:\n",
            "[(0, 0.034954432),\n",
            " (1, 0.04578427),\n",
            " (2, 0.058370806),\n",
            " (3, 0.034535795),\n",
            " (4, 0.06387109),\n",
            " (5, 0.12559825),\n",
            " (6, 0.27869034),\n",
            " (7, 0.2359726),\n",
            " (8, 0.12222243)]\n",
            "\n",
            "\n",
            "So let's make it nicer, by printing the topic contents:\n",
            "Score: 0.3432612717151642\t Topic: 0.008*\"fluchtling\" + 0.006*\"wien\" + 0.006*\"seit\" + 0.004*\"osterreich\" + 0.004*\"zwei\"\n",
            "Score: 0.15783271193504333\t Topic: 0.006*\"word\" + 0.005*\"mensch\" + 0.004*\"bereit\" + 0.004*\"seien\" + 0.004*\"land\"\n",
            "Score: 0.13743340969085693\t Topic: 0.006*\"neu\" + 0.005*\"wien\" + 0.005*\"bereit\" + 0.004*\"seit\" + 0.004*\"gross\"\n",
            "Score: 0.11441276967525482\t Topic: 0.004*\"seit\" + 0.004*\"schon\" + 0.004*\"neu\" + 0.003*\"wien\" + 0.003*\"zwei\"\n",
            "Score: 0.06637903302907944\t Topic: 0.008*\"wien\" + 0.005*\"euro\" + 0.004*\"osterreich\" + 0.004*\"spiel\" + 0.004*\"neu\"\n",
            "Score: 0.0641365647315979\t Topic: 0.005*\"wien\" + 0.004*\"osterreich\" + 0.004*\"gibt\" + 0.004*\"seit\" + 0.003*\"schon\"\n",
            "Score: 0.05682330206036568\t Topic: 0.011*\"prozent\" + 0.006*\"neu\" + 0.006*\"euro\" + 0.005*\"osterreich\" + 0.005*\"wien\"\n",
            "Score: 0.03449561446905136\t Topic: 0.006*\"neu\" + 0.005*\"wien\" + 0.004*\"osterreich\" + 0.004*\"seit\" + 0.004*\"prozent\"\n",
            "Score: 0.025225361809134483\t Topic: 0.008*\"euro\" + 0.006*\"prozent\" + 0.006*\"million\" + 0.005*\"wien\" + 0.005*\"osterreich\"\n"
          ]
        }
      ]
    },
    {
      "cell_type": "markdown",
      "source": [
        "## Visualization"
      ],
      "metadata": {
        "id": "NOl16tMOsmYd"
      }
    },
    {
      "cell_type": "markdown",
      "source": [
        "Finally, there are packages that can visulaize the results, such as [pyLDAvis](https://pypi.org/project/pyLDAvis/) and [tmplot](https://pypi.org/project/tmplot/).\n",
        "\n",
        "Let's take a look at pyLDAvis visualization result.\n",
        "\n",
        "**Please note:** this is an old and unmaintained package. It is easier to run it in Google-Colab than on your laptop. But, if you still try running it locally, please try **lowering your python version** (3.6 / 3.6 / 3.8) when you create the poetry environment for this exercise."
      ],
      "metadata": {
        "id": "Am2p_6seTOOE"
      }
    },
    {
      "cell_type": "code",
      "source": [
        "%pip install pyLDAvis"
      ],
      "metadata": {
        "id": "ERQDi99Rs6dO",
        "colab": {
          "base_uri": "https://localhost:8080/"
        },
        "outputId": "bac0154d-e1f4-44de-8570-ffc6a892ba1d"
      },
      "execution_count": 46,
      "outputs": [
        {
          "output_type": "stream",
          "name": "stdout",
          "text": [
            "Collecting pyLDAvis\n",
            "  Downloading pyLDAvis-3.4.1-py3-none-any.whl.metadata (4.2 kB)\n",
            "Requirement already satisfied: numpy>=1.24.2 in /usr/local/lib/python3.10/dist-packages (from pyLDAvis) (1.26.4)\n",
            "Requirement already satisfied: scipy in /usr/local/lib/python3.10/dist-packages (from pyLDAvis) (1.13.1)\n",
            "Requirement already satisfied: pandas>=2.0.0 in /usr/local/lib/python3.10/dist-packages (from pyLDAvis) (2.2.2)\n",
            "Requirement already satisfied: joblib>=1.2.0 in /usr/local/lib/python3.10/dist-packages (from pyLDAvis) (1.4.2)\n",
            "Requirement already satisfied: jinja2 in /usr/local/lib/python3.10/dist-packages (from pyLDAvis) (3.1.4)\n",
            "Requirement already satisfied: numexpr in /usr/local/lib/python3.10/dist-packages (from pyLDAvis) (2.10.2)\n",
            "Collecting funcy (from pyLDAvis)\n",
            "  Downloading funcy-2.0-py2.py3-none-any.whl.metadata (5.9 kB)\n",
            "Requirement already satisfied: scikit-learn>=1.0.0 in /usr/local/lib/python3.10/dist-packages (from pyLDAvis) (1.5.2)\n",
            "Requirement already satisfied: gensim in /usr/local/lib/python3.10/dist-packages (from pyLDAvis) (4.3.3)\n",
            "Requirement already satisfied: setuptools in /usr/local/lib/python3.10/dist-packages (from pyLDAvis) (75.1.0)\n",
            "Requirement already satisfied: python-dateutil>=2.8.2 in /usr/local/lib/python3.10/dist-packages (from pandas>=2.0.0->pyLDAvis) (2.8.2)\n",
            "Requirement already satisfied: pytz>=2020.1 in /usr/local/lib/python3.10/dist-packages (from pandas>=2.0.0->pyLDAvis) (2024.2)\n",
            "Requirement already satisfied: tzdata>=2022.7 in /usr/local/lib/python3.10/dist-packages (from pandas>=2.0.0->pyLDAvis) (2024.2)\n",
            "Requirement already satisfied: threadpoolctl>=3.1.0 in /usr/local/lib/python3.10/dist-packages (from scikit-learn>=1.0.0->pyLDAvis) (3.5.0)\n",
            "Requirement already satisfied: smart-open>=1.8.1 in /usr/local/lib/python3.10/dist-packages (from gensim->pyLDAvis) (7.0.5)\n",
            "Requirement already satisfied: MarkupSafe>=2.0 in /usr/local/lib/python3.10/dist-packages (from jinja2->pyLDAvis) (3.0.2)\n",
            "Requirement already satisfied: six>=1.5 in /usr/local/lib/python3.10/dist-packages (from python-dateutil>=2.8.2->pandas>=2.0.0->pyLDAvis) (1.17.0)\n",
            "Requirement already satisfied: wrapt in /usr/local/lib/python3.10/dist-packages (from smart-open>=1.8.1->gensim->pyLDAvis) (1.17.0)\n",
            "Downloading pyLDAvis-3.4.1-py3-none-any.whl (2.6 MB)\n",
            "\u001b[2K   \u001b[90m━━━━━━━━━━━━━━━━━━━━━━━━━━━━━━━━━━━━━━━━\u001b[0m \u001b[32m2.6/2.6 MB\u001b[0m \u001b[31m24.0 MB/s\u001b[0m eta \u001b[36m0:00:00\u001b[0m\n",
            "\u001b[?25hDownloading funcy-2.0-py2.py3-none-any.whl (30 kB)\n",
            "Installing collected packages: funcy, pyLDAvis\n",
            "Successfully installed funcy-2.0 pyLDAvis-3.4.1\n"
          ]
        }
      ]
    },
    {
      "cell_type": "code",
      "source": [
        "import pyLDAvis.gensim_models as gensimvis\n",
        "import pyLDAvis\n",
        "\n",
        "bow_lda_data = gensimvis.prepare(lda_model, bow_corpus, dictionary)\n",
        "\n",
        "pyLDAvis.display(bow_lda_data)"
      ],
      "metadata": {
        "colab": {
          "base_uri": "https://localhost:8080/",
          "height": 861
        },
        "id": "xwDURjMYslxZ",
        "outputId": "634cc002-f8f1-49bd-ad49-cd208ce6a029"
      },
      "execution_count": 47,
      "outputs": [
        {
          "output_type": "execute_result",
          "data": {
            "text/plain": [
              "<IPython.core.display.HTML object>"
            ],
            "text/html": [
              "\n",
              "<link rel=\"stylesheet\" type=\"text/css\" href=\"https://cdn.jsdelivr.net/gh/bmabey/pyLDAvis@3.4.0/pyLDAvis/js/ldavis.v1.0.0.css\">\n",
              "\n",
              "\n",
              "<div id=\"ldavis_el2361323638429112803794361525\" style=\"background-color:white;\"></div>\n",
              "<script type=\"text/javascript\">\n",
              "\n",
              "var ldavis_el2361323638429112803794361525_data = {\"mdsDat\": {\"x\": [-0.044454416709938764, 0.04709306333735785, 0.003602889809198455, 0.02897611471811159, 0.010883316074665094, -0.02766417358391978, -0.019026400600391086, -0.013958531941081721, 0.014548138895998423], \"y\": [-0.021689231883531425, -0.020623009757341063, 0.03467491913314869, 0.005981253086022014, -0.009899273047569926, 0.00854051517157509, -0.0045864227838445315, 0.005088941610751637, 0.0025123084707895445], \"topics\": [1, 2, 3, 4, 5, 6, 7, 8, 9], \"cluster\": [1, 1, 1, 1, 1, 1, 1, 1, 1], \"Freq\": [13.243269396544036, 12.943093445966896, 12.156274308373142, 11.239112482545757, 10.67335802552122, 10.641899037729377, 9.908202051451498, 9.643891683506077, 9.550899568362002]}, \"tinfo\": {\"Term\": [\"prozent\", \"fluchtling\", \"euro\", \"appl\", \"verfug\", \"artikel\", \"grund\", \"word\", \"steht\", \"rechtlich\", \"getotet\", \"unternehm\", \"neu\", \"basier\", \"million\", \"wien\", \"milliard\", \"nutz\", \"jahrig\", \"windows\", \"syrisch\", \"volltext\", \"smartphon\", \"angab\", \"spiel\", \"grenz\", \"rapid\", \"polizei\", \"islam\", \"dollar\", \"ryanair\", \"vorquartal\", \"weiterverkauf\", \"dobrindt\", \"nettogewinn\", \"bauwirtschaft\", \"gazprom\", \"konzernumsatz\", \"boomend\", \"quartalszahl\", \"proband\", \"survey\", \"gebog\", \"nachbors\", \"ersteh\", \"retro\", \"toyota\", \"eingezahlt\", \"veranlagt\", \"astronaut\", \"advanced\", \"hinkt\", \"boltzmann\", \"icloud\", \"opec\", \"abonnement\", \"protein\", \"stagni\", \"mutterkonz\", \"biotechnologi\", \"batteri\", \"appl\", \"nokia\", \"iphon\", \"windows\", \"umsatz\", \"music\", \"autobau\", \"smartphon\", \"milliard\", \"lumia\", \"ipad\", \"cook\", \"analyst\", \"unternehm\", \"euro\", \"million\", \"microsoft\", \"nutz\", \"samsung\", \"dollar\", \"gerat\", \"mobil\", \"markt\", \"apps\", \"prozent\", \"android\", \"branch\", \"etwa\", \"kund\", \"gross\", \"googl\", \"schon\", \"laut\", \"osterreich\", \"geschaft\", \"soll\", \"wien\", \"neu\", \"wenig\", \"gibt\", \"allerding\", \"dafur\", \"land\", \"mensch\", \"seit\", \"rund\", \"standard\", \"weit\", \"viel\", \"hoh\", \"bereit\", \"dabei\", \"zwei\", \"imm\", \"euroraum\", \"oppositionsnah\", \"nigerias\", \"mogadischu\", \"shabaab\", \"cizr\", \"haram\", \"boko\", \"ramadi\", \"autobomb\", \"raqqa\", \"kunduz\", \"prokurd\", \"billigflieg\", \"terrornetzwerk\", \"kampfeinsatz\", \"luftschlag\", \"tschad\", \"abuja\", \"zivilist\", \"huthi\", \"militarallianz\", \"aden\", \"houthi\", \"somalia\", \"baschar\", \"anschlagsseri\", \"polizeistation\", \"mansur\", \"kampfflugzeug\", \"luftangriff\", \"luftwaff\", \"aleppo\", \"getotet\", \"miliz\", \"damaskus\", \"sanaa\", \"rebell\", \"syrisch\", \"kurdisch\", \"arme\", \"extremist\", \"provinz\", \"anschlag\", \"turkisch\", \"jem\", \"islam\", \"angab\", \"russisch\", \"soldat\", \"word\", \"festgenomm\", \"angriff\", \"assad\", \"kampf\", \"staat\", \"hauptstadt\", \"seien\", \"mensch\", \"polizei\", \"regier\", \"stadt\", \"verletzt\", \"weg\", \"syri\", \"bereit\", \"land\", \"vergang\", \"mann\", \"drei\", \"jahrig\", \"hatt\", \"zwei\", \"seit\", \"fluchtling\", \"weit\", \"rund\", \"laut\", \"wien\", \"osterreich\", \"soll\", \"prozent\", \"gross\", \"neu\", \"beim\", \"ausgestorb\", \"nobelpreis\", \"tuchel\", \"sporting\", \"fortpflanz\", \"einstein\", \"witter\", \"stadtrival\", \"championship\", \"arthur\", \"wiesberg\", \"kuhn\", \"moreno\", \"aubameyang\", \"zukommt\", \"knasmulln\", \"sold\", \"bemannt\", \"durchspielt\", \"gecoacht\", \"danilo\", \"admiran\", \"gesamtscor\", \"lazio\", \"brandn\", \"ehrt\", \"reflexion\", \"abwehrspiel\", \"maak\", \"schubert\", \"futt\", \"tadic\", \"dortmund\", \"zucht\", \"rapid\", \"barisic\", \"siebenhandl\", \"grodig\", \"augsburg\", \"hofmann\", \"altach\", \"train\", \"tor\", \"leverkus\", \"admira\", \"happel\", \"bundesliga\", \"keita\", \"auszeichn\", \"bay\", \"vastic\", \"salzburg\", \"ried\", \"hinspiel\", \"alaba\", \"jahrig\", \"saison\", \"gibt\", \"punkt\", \"stadion\", \"mannschaft\", \"viel\", \"imm\", \"leagu\", \"minut\", \"beim\", \"zeit\", \"platz\", \"spiel\", \"lang\", \"osterreich\", \"sieg\", \"schon\", \"zwei\", \"wien\", \"team\", \"zweit\", \"drei\", \"standard\", \"seit\", \"arbeit\", \"war\", \"gross\", \"geht\", \"deutsch\", \"weit\", \"etwa\", \"prozent\", \"konnt\", \"rund\", \"hatt\", \"wenig\", \"polit\", \"neu\", \"bereit\", \"kohlendioxid\", \"harrt\", \"orbit\", \"finanzvorstand\", \"billigt\", \"aufnahmelag\", \"erhitzt\", \"amtskollegin\", \"aufnahmezentrum\", \"ankommling\", \"durchwink\", \"mexikos\", \"grenzmanagement\", \"dominoeffekt\", \"auffanglag\", \"idomeni\", \"einsatzleit\", \"grundnig\", \"kufstein\", \"erstversorg\", \"chios\", \"balkanland\", \"kolumn\", \"radkersburg\", \"nickelsdorf\", \"nordeuropa\", \"esteban\", \"ruckschieb\", \"agais\", \"diozes\", \"mazedon\", \"orb\\u00e1n\", \"sammelstell\", \"fluchtling\", \"mazedoni\", \"serbi\", \"grenz\", \"zaun\", \"faymann\", \"einreis\", \"ungarn\", \"grenzzaun\", \"innenministerin\", \"griechisch\", \"spielfeld\", \"aussenminist\", \"ungar\", \"traiskirch\", \"jahrig\", \"griechenland\", \"polizist\", \"migrant\", \"seit\", \"weg\", \"kind\", \"deutschland\", \"leitn\", \"wien\", \"land\", \"mensch\", \"zwei\", \"muss\", \"polizei\", \"turkei\", \"word\", \"osterreich\", \"rund\", \"freitag\", \"schwer\", \"samstag\", \"neu\", \"schon\", \"deutsch\", \"komm\", \"seien\", \"standard\", \"weit\", \"bereit\", \"polit\", \"europa\", \"kurz\", \"drei\", \"moglich\", \"euro\", \"gibt\", \"gross\", \"spiel\", \"etwa\", \"fonseca\", \"prasidialamt\", \"mossack\", \"bowi\", \"prallt\", \"euklid\", \"komet\", \"steuereinnahm\", \"steuerfahnd\", \"gebrem\", \"lego\", \"ausspricht\", \"challeng\", \"khamenei\", \"tsakalotos\", \"mariano\", \"most\", \"zaghaft\", \"zuruckzutret\", \"parteifuhr\", \"jeffrey\", \"wahlergrupp\", \"inspektion\", \"raucht\", \"unbeschadet\", \"drittstark\", \"zarif\", \"zugespielt\", \"oberhaupt\", \"dekret\", \"syriza\", \"wimbledon\", \"rohani\", \"panama\", \"spacex\", \"clinton\", \"iran\", \"offshor\", \"trump\", \"prasident\", \"kandidat\", \"partei\", \"teheran\", \"polit\", \"bereit\", \"neu\", \"kern\", \"erklart\", \"viel\", \"regier\", \"parlament\", \"wahl\", \"grun\", \"gross\", \"muss\", \"soll\", \"wien\", \"zwei\", \"geb\", \"schwarz\", \"steh\", \"lang\", \"word\", \"laut\", \"seit\", \"frag\", \"woch\", \"schon\", \"standard\", \"weit\", \"beim\", \"gibt\", \"allerding\", \"land\", \"prozent\", \"dabei\", \"osterreich\", \"million\", \"konnt\", \"euro\", \"wahrungshut\", \"abschwach\", \"winnipeg\", \"sabr\", \"vanek\", \"columbus\", \"astronom\", \"flam\", \"staatsschuld\", \"oil\", \"edmonton\", \"bruin\", \"zielpunkt\", \"casinos\", \"avalanch\", \"shark\", \"vorjahresmonat\", \"penguin\", \"flyer\", \"jacket\", \"wachstumsrat\", \"grabn\", \"jersey\", \"canuck\", \"leaf\", \"piston\", \"minnesota\", \"devil\", \"predator\", \"mapl\", \"teilch\", \"buffalo\", \"dallas\", \"toronto\", \"assist\", \"pfeiff\", \"prozent\", \"akti\", \"tesla\", \"nashvill\", \"fledermaus\", \"wolfsburg\", \"philadelphia\", \"warrior\", \"euro\", \"neu\", \"bank\", \"osterreich\", \"wirtschaft\", \"zahl\", \"beim\", \"stark\", \"austria\", \"ergebnis\", \"hoh\", \"wien\", \"unternehm\", \"wenig\", \"weit\", \"seit\", \"land\", \"europa\", \"muss\", \"deutsch\", \"rund\", \"drei\", \"soll\", \"spiel\", \"zwei\", \"arbeit\", \"zweit\", \"etwa\", \"konnt\", \"bereit\", \"schon\", \"geht\", \"gibt\", \"million\", \"gross\", \"laut\", \"volltext\", \"basier\", \"abgasskandal\", \"staatsanleih\", \"artikel\", \"packard\", \"staatsbetrieb\", \"bergland\", \"monopol\", \"aufleb\", \"joshua\", \"rechtlich\", \"regenschau\", \"sudamerikas\", \"mbit\", \"geodynam\", \"meteorologi\", \"zamg\", \"zentralanstalt\", \"dichtgemacht\", \"importi\", \"gespult\", \"verfug\", \"pendelt\", \"hewlett\", \"geolog\", \"bresch\", \"barrel\", \"dreimonat\", \"erdrutsch\", \"spenc\", \"grad\", \"sonnig\", \"forscherteam\", \"meteorolog\", \"grund\", \"steht\", \"notenbank\", \"zuckerberg\", \"nutz\", \"standard\", \"neu\", \"temperatur\", \"laut\", \"wolk\", \"user\", \"spiel\", \"wien\", \"osterreich\", \"gross\", \"wenig\", \"seit\", \"start\", \"prozent\", \"allerding\", \"imm\", \"gibt\", \"euro\", \"dabei\", \"konnt\", \"schon\", \"bereit\", \"facebook\", \"war\", \"zwei\", \"geht\", \"drei\", \"viel\", \"mensch\", \"weit\", \"lang\", \"produktivitat\", \"wurm\", \"trass\", \"geldhaus\", \"geldfluss\", \"personenverkehr\", \"notleid\", \"rustung\", \"mutmasst\", \"schlittert\", \"stromnetz\", \"aufgespielt\", \"unangefocht\", \"ebay\", \"messag\", \"konjunkturell\", \"uniqa\", \"sparkass\", \"dinosauri\", \"bedank\", \"betatigt\", \"zuruckzuzahl\", \"sepp\", \"vehikel\", \"anblick\", \"signatur\", \"slim\", \"auslag\", \"preiserhoh\", \"spinn\", \"rupprecht\", \"skispring\", \"magnet\", \"abschalt\", \"wien\", \"spiel\", \"thiem\", \"fachjournal\", \"bank\", \"austria\", \"hypo\", \"euro\", \"ganz\", \"stund\", \"knapp\", \"konsol\", \"seh\", \"vier\", \"glaubig\", \"osterreich\", \"erhalt\", \"xbox\", \"gross\", \"viel\", \"hoh\", \"standard\", \"neu\", \"kommt\", \"zud\", \"wenig\", \"seit\", \"europa\", \"million\", \"rund\", \"schon\", \"stark\", \"konnt\", \"bereit\", \"geb\", \"beim\", \"muss\", \"deutsch\", \"etwa\", \"weit\", \"imm\", \"zwei\", \"prozent\", \"lang\", \"seien\", \"land\", \"umweltbehord\", \"zoos\", \"flora\", \"kremlsprech\", \"friedensplan\", \"linguist\", \"fragment\", \"annektiert\", \"separatist\", \"frontlini\", \"partitur\", \"luhansk\", \"skelett\", \"ansieht\", \"verlagsgrupp\", \"archaologi\", \"opern\", \"donezk\", \"current\", \"netanyahu\", \"strahl\", \"leichnam\", \"donbass\", \"kremlchef\", \"peskow\", \"fachzeitschrift\", \"abgeschoss\", \"lwiw\", \"krim\", \"vorgibt\", \"schachtar\", \"kiew\", \"israel\", \"ukrain\", \"ostukrain\", \"minsk\", \"russland\", \"datum\", \"gazastreif\", \"schaub\", \"moskau\", \"ganz\", \"fall\", \"europa\", \"schon\", \"putin\", \"dienstag\", \"word\", \"beid\", \"seit\", \"zwei\", \"dabei\", \"russisch\", \"imm\", \"gibt\", \"wenig\", \"rund\", \"etwa\", \"polit\", \"neu\", \"lang\", \"vier\", \"deutsch\", \"land\", \"mensch\", \"weit\", \"bereit\", \"standard\", \"osterreich\", \"wien\", \"laut\", \"prozent\", \"soll\", \"fluchtling\", \"muss\"], \"Freq\": [5896.0, 3457.0, 5343.0, 1235.0, 837.0, 368.0, 1444.0, 3583.0, 1557.0, 508.0, 715.0, 2087.0, 6140.0, 180.0, 3354.0, 7253.0, 1333.0, 1612.0, 2749.0, 776.0, 629.0, 143.0, 939.0, 1464.0, 3401.0, 1419.0, 671.0, 1720.0, 775.0, 1317.0, 23.261882767270798, 9.922580497544748, 12.972327943039982, 27.135026633709856, 12.237205495256132, 9.869850310906987, 58.88459292306791, 12.304784321608121, 13.81595476683213, 12.022645424404647, 22.911460205444186, 8.850333343045953, 9.237255154429674, 11.579033274303928, 7.6673648013234335, 9.96340776297998, 22.73914690499234, 8.264503223017202, 10.61541686124053, 25.45732621241421, 9.831207763300258, 12.8033043558736, 9.026668574230285, 16.863652986317916, 25.265124397797358, 11.958500929549135, 13.924935119282498, 10.151780003125596, 7.009910757215239, 9.449532925261728, 33.73659242746727, 727.9988860675927, 36.979803235759896, 238.6160494073064, 412.9886794865276, 182.95595397683812, 78.54780033967825, 57.09608406280987, 440.4091459632088, 585.8787342126169, 53.138352583531365, 90.53346562387266, 57.26753667429715, 68.01097926394225, 739.8824480866915, 1615.282370218843, 1082.0936833681003, 297.0606098320112, 542.3315680920342, 132.94894229304936, 417.08781668685, 403.5323221261724, 177.1855244864343, 258.5649606302247, 132.07647045443153, 1229.9800076026472, 221.35435234592964, 130.38999184813343, 741.949943728777, 227.42288068697948, 792.2811697848123, 295.1936364658868, 767.856990455632, 646.7616643835796, 877.533285051082, 202.18726682859054, 558.0613118076102, 942.9200812285195, 844.9676227523157, 560.317378364374, 620.9950236868343, 472.37620680944764, 392.95936615452746, 564.0790468632076, 560.6138260401059, 674.7606935641711, 540.5417394150932, 538.7387462687691, 540.5615535140622, 484.25401779755316, 408.8578217558829, 485.66104347400375, 429.97493361427684, 427.8427388735168, 423.5125719750111, 3.81184124746389, 9.370180749773194, 12.928878520361282, 27.324012570054688, 27.296200102044377, 19.86368578538866, 44.5355116703014, 41.25953556855898, 26.834374262846158, 14.967825535008112, 23.81684498491771, 19.402895983951826, 13.540691065993034, 9.959330827021768, 10.644533268752166, 8.1708490287199, 16.584644109660896, 9.650857101687278, 9.894274516783918, 101.56140676881103, 14.532873554775446, 15.24220538458031, 39.93365423636435, 28.28496984127372, 18.70343738817766, 7.948929740230892, 7.28064558930862, 10.782977416735495, 13.571772198834632, 29.31136078747813, 127.73709429544105, 45.248604797462505, 67.85198746682642, 449.7562929364528, 113.57047587002339, 71.68422939560037, 33.28608466703392, 198.1158008439169, 364.49855820865, 77.3692910676583, 207.1951253131232, 102.2560872407638, 125.49938446544878, 299.55135715554604, 313.3668479751576, 70.63963986291714, 355.7049002255555, 600.618847854399, 351.6766756304488, 229.06609926919455, 1149.593691560891, 208.99503714656876, 293.0191651424771, 118.24351938993354, 428.51496647009895, 554.19280741077, 187.28974140925078, 733.2984268439538, 918.1792034396083, 491.6530781790976, 623.3253265727867, 430.29751129174565, 294.13623066245225, 592.4083130904761, 312.2827161058756, 763.5575577200193, 707.4563571988448, 548.6643452477576, 459.53091263909147, 585.3659129608699, 523.1466501062083, 497.4201117077306, 635.0063216236781, 642.7140693203531, 513.9742770959105, 534.183287303406, 520.5302252490127, 501.1309876447587, 630.7667069026561, 577.8051810808888, 474.31662880812127, 510.21962135922763, 458.63169224056753, 471.50097731999966, 436.29117224868133, 13.02684532496555, 26.761111635568344, 16.26063376855227, 18.17434690730144, 13.50715495932415, 15.052663576548728, 8.44071219269457, 9.828888553625255, 8.979676503686905, 9.816071274994554, 32.74299034721125, 13.998669563055834, 11.178823155729381, 15.606891984017958, 6.330133000431052, 11.471033909814997, 11.341082556940835, 11.021631380417967, 8.251984370041313, 6.185370570028082, 8.617411492325166, 10.574382463146819, 42.909261379278824, 14.493554421550645, 7.822552050034199, 6.483025284388819, 6.385563058549552, 7.1328799988024505, 14.686384546655535, 10.247947190806979, 14.73906749271759, 14.770499145934837, 79.01191241919368, 16.27295871933612, 289.4094447238949, 83.05916694675979, 16.270650449247878, 112.49359301439894, 31.40621713770408, 76.20901523572567, 86.99428929634848, 280.22513318171775, 199.05382958411477, 41.319851810621614, 96.18556044683196, 44.21513392790619, 123.3563868010227, 36.32796449238104, 50.157587747310465, 173.19668858328336, 29.05680545383945, 406.3577335124357, 74.27027457221737, 72.72527761508493, 64.75561362243623, 579.6866237219456, 205.32087953492314, 731.0152331959924, 340.9168562351032, 114.77607646505167, 161.92734025573478, 616.1055219409296, 576.3992965582383, 172.6363112329939, 288.2327450830645, 563.286363456157, 420.05164440539295, 302.37914393176794, 531.1357363034844, 481.9546279989312, 752.4833255724391, 267.1332335625176, 617.226606578495, 609.3465153223806, 814.3910520101564, 262.95633442036933, 355.8192232038291, 477.1963592657356, 515.1506604929203, 668.0162401758531, 317.81219392200995, 354.5446353833547, 518.9575971680385, 372.76074509575915, 399.1693139061247, 457.6855768188115, 423.7402574287739, 510.14316560864484, 374.58352321908893, 408.7289493913606, 364.5370657104627, 381.81879387746454, 362.83949867346075, 402.7579972647585, 380.9219426642616, 16.006968594767546, 8.47489648119745, 16.043194956458827, 11.098805389508417, 7.771181948723141, 6.407286003241309, 6.630721818208605, 6.263342160116907, 6.237810808930203, 5.889004280885277, 11.19308663469291, 7.773713456696733, 13.368697593914478, 5.425225347285216, 6.434970536309998, 29.467498740580695, 6.4980628168182095, 13.831095488332899, 14.85769376421317, 4.998183962441941, 10.009586102314358, 9.269210282090707, 12.4016460574855, 19.031490874108528, 19.927344419043013, 6.925231104744181, 6.436006017801668, 7.069874404296211, 21.874154482265936, 10.087099458487614, 50.32410021739589, 38.39868031981882, 15.444287475563325, 1323.9780267359513, 95.38460850541183, 113.31534442337251, 437.34414208976, 83.76844605826261, 241.51222370840964, 58.86528062142081, 173.88621200885228, 29.998282501844198, 91.40099085755887, 182.92746920286302, 67.17903163600279, 138.34751488692783, 86.25039867595562, 63.38833527172541, 558.2552449089641, 235.44791026614396, 140.9507511043309, 117.1338474574883, 930.7708578351497, 487.67629260975394, 322.9893124718278, 389.44719618989734, 116.63149713621813, 992.4229253862597, 625.0392588253579, 603.3650416393522, 656.3816940128042, 489.4320879145873, 316.2386118320834, 207.5118254980949, 497.9503280543112, 687.4174836893276, 511.7446097328799, 283.71153815503806, 247.7387633787556, 227.84158018815577, 638.4605479165293, 523.7514477885269, 392.668003578189, 303.67804260140235, 387.7614466203991, 448.1259614523677, 458.179259410885, 485.53507417331036, 367.01707989812974, 364.5175491182214, 289.02689224321904, 360.5714614186557, 323.72767154587814, 392.3231513025377, 359.30064799064763, 365.04432202712474, 343.3938220144334, 325.1298826897082, 19.038551092403548, 7.288378163632285, 16.382656589596383, 21.611387538246223, 8.053154129282614, 9.491071633181393, 32.24495528403371, 6.3792178304660645, 9.048901969128886, 6.1938164819178425, 17.22834057871984, 6.3938420187953415, 13.167901618186146, 15.530986454594341, 13.142903518261043, 18.30831032260738, 18.65765568546002, 6.224133085742632, 6.483868447464998, 5.7373270290145735, 6.08209734691691, 6.532205160938843, 11.100906946646111, 5.726920866916378, 5.304266717385999, 5.429049569040108, 9.096526342559146, 5.341071330170119, 11.478498091592389, 8.141653468375116, 25.96478440433014, 16.45892846190419, 23.52959083941136, 63.560892412415306, 11.756624160841927, 83.18810004282248, 219.89231708186537, 21.681130098319734, 105.15111311101877, 381.0915262090319, 190.63136612217625, 337.8296657868596, 46.53883736282255, 529.9847221700811, 712.7949635141695, 861.4609710941693, 93.03434815600441, 405.9810019157644, 531.3627714256146, 404.1113146861302, 166.50692212191984, 246.17264266458105, 273.7238507808481, 549.4936281682141, 430.37467537300245, 418.83047112631743, 742.5438227056501, 535.4862369205528, 325.49772548002966, 153.73438337288093, 224.95560521654798, 372.7207170789627, 421.96722061946787, 419.82450176836204, 557.1781647133854, 276.15600487736805, 300.223072404916, 450.86620551971004, 395.33095812385363, 406.1871516533026, 368.9600504985503, 395.66688840931675, 325.75145659032825, 385.11204357401726, 428.25455224229427, 322.77718625971664, 401.23517641045066, 336.20661229380926, 318.0646749575533, 361.64852439539203, 12.716527861903245, 13.094609342218153, 14.92493570282817, 10.510628145784692, 38.31265682857477, 15.39837331275861, 41.08919499141807, 11.091417559168427, 17.383037917470308, 14.537579914862173, 19.18502461146474, 12.418299073073257, 85.47967343692781, 41.57892356584657, 10.548793839813097, 17.50039739840112, 10.530300509313212, 14.19464941445843, 27.64809886926865, 12.613208464234013, 11.899919431918251, 33.70775773625627, 21.78003907487144, 8.472654888390194, 32.946152043253115, 10.705738367451762, 53.97805460817964, 20.513568054222375, 17.429281962202097, 32.44057139796112, 47.34100352249654, 17.209841914478076, 42.9988494020218, 57.67368342881377, 35.24333937884245, 50.27804813381239, 1638.9721838981454, 126.717081342005, 60.685242927539434, 23.392092009912087, 22.639710981064084, 78.25492910714115, 39.434162071503856, 42.093925192754945, 907.0093444095221, 974.70848671349, 278.7702533776279, 846.594617917464, 202.0711424072372, 368.73769884776533, 512.9126647034643, 386.6218856002535, 209.8132351473768, 240.9713706276982, 365.97437939397804, 757.3676728849865, 344.277391631296, 445.28475630312903, 501.30283816834776, 629.8274301715321, 490.96337966831186, 384.9400361664401, 408.0308688777472, 378.86749932530046, 439.2169130288785, 397.0701265390349, 377.62319863863485, 394.5013734849818, 450.6501892402428, 268.15241220452634, 290.81351276277405, 384.7375629117157, 342.210669712575, 418.7772235227089, 391.98959311209046, 307.61641001709165, 338.7284402288177, 323.22168952311006, 337.24187928195227, 317.60161253008135, 141.46854041053237, 174.67451808250595, 3.017050739243229, 14.477978223409227, 313.6816881345674, 9.169732374432119, 9.095290518478205, 10.195410155341209, 7.372624139762489, 6.339781074164742, 7.173744157590486, 338.71736301355816, 16.028763908483633, 8.610346445831155, 28.137342892768263, 18.494565167235557, 20.882677554204125, 24.98561347932463, 18.42637258244611, 6.842253884967086, 6.434930928515884, 5.520251506590361, 463.8564748838787, 5.209733951868886, 6.442858857491884, 16.52384610787606, 7.886042366752116, 14.916565918981693, 9.0904730436824, 7.371657703475498, 14.596483271204571, 196.48086711800153, 31.34806483773888, 20.650163488296393, 12.377962594541062, 588.7535238775864, 588.4081615675849, 52.51900512497096, 27.85171474909659, 321.64260200123147, 598.6256957605785, 849.0500110526375, 50.77188160534902, 512.9984658931147, 31.016138093075, 72.52030329018174, 447.0869396623651, 752.5158333640096, 645.8649670079872, 519.131184841369, 422.4862451504582, 629.5085622896776, 155.6864317205763, 603.3491657189368, 355.2336078899422, 397.45662100300336, 437.5356918570042, 539.2227061368158, 349.96940422332204, 340.58720713404034, 452.46570384606576, 433.762859053293, 188.30247987538314, 273.4053970476701, 422.33611977801644, 295.7320585724938, 339.5653730383205, 341.9926912243141, 340.8864494236679, 337.2033355225646, 305.58416219589185, 22.235567390631218, 27.840423561770365, 9.472906081808778, 24.913086621959398, 6.8017066254430745, 10.85090944486161, 7.54144083471188, 6.410436791582689, 5.101924880594615, 5.241503874160006, 8.998437294988234, 5.641815761066933, 5.007835792846341, 10.057024651273883, 6.196168200683288, 8.692646481741512, 15.572372319009022, 7.721281426495191, 7.927864246743735, 5.573631513708456, 6.550058216900376, 5.184506272629788, 4.939860125667825, 5.823247799174318, 5.313694087915991, 6.122327238395202, 8.414765025761135, 4.4326478291747575, 6.828290885095543, 11.431823650189456, 30.11650160810942, 12.36209738753139, 15.693235331230268, 9.636570973900474, 1137.8812792961728, 592.7650440656375, 80.22817408561059, 17.824732549492296, 203.76721275846646, 177.35930969306057, 67.71869230699502, 674.788717238436, 358.63665492344757, 190.56006299633742, 179.66020264610395, 30.944215244021777, 215.07754254363547, 276.5480356083394, 60.44124394216252, 594.97314746725, 181.67986407963926, 40.87598136251727, 456.9845164269578, 386.3692139035254, 281.75599641547035, 400.71089261157977, 564.1905082461647, 211.07864333340297, 203.0167985282673, 353.1419822548252, 521.9691683636623, 312.60970013081095, 354.01127900798787, 377.4454176394077, 426.5283419957801, 269.90447059002645, 303.0700115831472, 384.23318926841597, 256.5876812697715, 322.4313236448641, 306.89440688909303, 292.3883833584584, 321.6584481921482, 340.25349392998885, 305.4903923506567, 340.7893895798082, 370.18492970607133, 283.6744760126868, 270.45127784612305, 284.4466316592914, 14.221656947053487, 8.806842391357986, 7.218949586090378, 6.194169243276648, 13.05976141641995, 6.433798311162105, 9.003469681818261, 6.380699971165834, 42.74941905350664, 5.670174252358603, 4.863727138754911, 6.624993041378283, 17.442345984247513, 7.105677414074418, 6.174285465227585, 8.245566772200062, 6.036178949079916, 39.48784557038239, 9.682682487911913, 11.092732105013399, 6.662732374145762, 5.101855037849711, 19.786561041809733, 5.524336084068565, 13.612023440980886, 9.18078885322272, 13.773794250307411, 6.80031689871732, 39.058068793211305, 4.426666275448519, 23.295851171322635, 97.21407478487706, 239.16645880011183, 215.12648560055814, 31.797083949500585, 42.67881298441057, 251.2037566859899, 26.95720843358812, 19.67461688521971, 25.630837458322937, 106.19207877096767, 373.9995703306594, 341.7896259789063, 392.3380305440252, 572.8457350894789, 63.36614415692328, 237.93184088148004, 424.570916197715, 298.660691203266, 584.0099835844942, 482.3072065340336, 340.8894391016424, 142.71662423674255, 365.7464369589395, 413.0377274995203, 365.2735804346995, 400.8497720100341, 383.38518746323655, 322.79720904846994, 532.9071318196035, 329.11400580842144, 246.4021389503463, 310.1057114232549, 378.76257992893363, 370.81918653632766, 372.3911517635227, 397.9792902096605, 353.2984152415666, 435.6453112601449, 483.1192573360605, 327.2703740904961, 387.5466359450497, 301.5670430901423, 295.8026197399571, 285.8457058638128], \"Total\": [5896.0, 3457.0, 5343.0, 1235.0, 837.0, 368.0, 1444.0, 3583.0, 1557.0, 508.0, 715.0, 2087.0, 6140.0, 180.0, 3354.0, 7253.0, 1333.0, 1612.0, 2749.0, 776.0, 629.0, 143.0, 939.0, 1464.0, 3401.0, 1419.0, 671.0, 1720.0, 775.0, 1317.0, 23.388935219789047, 10.049763485287441, 13.474826127898645, 28.788236844320398, 13.496280914530931, 10.966428046186257, 65.6874111552303, 15.156335580693822, 17.319251307955142, 15.977005650100363, 30.590430953026697, 11.889238434515661, 12.564761841301527, 15.768734291381158, 10.461940696720804, 13.704929775156144, 31.402825248092945, 11.46956833783923, 14.764135518466126, 35.58619290127595, 13.807900427580346, 18.014117644785863, 13.015551861735181, 24.458548621498714, 36.75408674810631, 17.4212423115578, 20.369468123625435, 15.035565130668262, 10.43422622538374, 14.097288196706161, 51.821309276233585, 1235.9489926424517, 58.17774164517493, 425.8244479582786, 776.5304106109467, 325.55449197421194, 133.12397090705164, 94.25665732721083, 939.4622204740397, 1333.3539202323125, 91.46534124197859, 168.1372335153167, 101.09999092367684, 125.51717596556023, 2087.6512489611505, 5343.696400777575, 3354.7840333797994, 725.5365410139524, 1612.2899680444027, 284.2345810240715, 1317.3260881424471, 1290.5837042379242, 451.30531131144926, 745.28849777703, 309.20000898350764, 5896.450383832061, 612.955784076898, 314.7857348731948, 3524.1140590257382, 682.1852145132767, 4279.240276082971, 1079.4686258186073, 4592.6212445495985, 3573.2383347676546, 5819.552495457034, 624.4973605339458, 3086.063068526436, 7253.928631114471, 6140.004254179668, 3235.2881535089978, 3853.810282957616, 2713.2401359802825, 1970.9102859020984, 3956.078366843845, 3919.1967825918937, 5838.7551700182785, 3762.3640715350884, 3754.1116928309775, 3947.947648084891, 3428.1674039510717, 2219.607162476009, 4463.223143599843, 2816.1896415380825, 4560.1464118850345, 3219.9189107162692, 3.9368684063978883, 10.371653364619489, 14.669205473607915, 31.12394202057173, 32.11256616450996, 23.64015871128842, 53.605815209445375, 50.35149320841121, 32.895439971602585, 18.49260631948769, 29.86337478818108, 24.492762473310727, 17.317445492583218, 13.107408521447843, 14.194753301910659, 11.08563830185335, 22.511436384079396, 13.281037263094413, 13.709686181244077, 141.40611844919172, 20.27433287378475, 21.30932801530484, 55.90625341753746, 39.65143271358426, 26.233961902854396, 11.173129648512226, 10.240001445195423, 15.220972838070665, 19.186478461972587, 41.55387207106413, 188.92100380371733, 65.80923158103938, 100.98728051207885, 715.6390899479869, 174.16285953225085, 108.41949154902507, 48.693467687170454, 324.96778121141756, 629.0807412499772, 121.78082419007545, 356.92082026289523, 169.98413450982258, 214.5796359194146, 573.9542025611053, 638.5030280180434, 116.00964037405576, 775.1574884817996, 1464.7980560767219, 804.8025478683203, 489.67483443213195, 3583.6498397776577, 449.5366074538125, 685.1971004060854, 223.81745871884218, 1245.7321944354105, 1824.464917415348, 436.5365485886663, 2852.9114650802694, 3919.1967825918937, 1720.7194978106108, 2431.582895806497, 1470.1278993931246, 878.8749959809415, 2582.26331056993, 979.8633096115472, 4463.223143599843, 3956.078366843845, 2630.867400765597, 2062.519558906525, 3236.1209135607824, 2749.085593969599, 2608.7030214737774, 4560.1464118850345, 5838.7551700182785, 3457.4403227159914, 3947.947648084891, 3762.3640715350884, 3573.2383347676546, 7253.928631114471, 5819.552495457034, 3086.063068526436, 5896.450383832061, 4279.240276082971, 6140.004254179668, 3347.313142983911, 14.265850856564388, 31.16098150820084, 21.385043399985406, 24.49233508773575, 18.566613493649392, 21.009220901350123, 12.639658610669382, 14.77416390888465, 13.663523112689857, 15.22997973888652, 51.76828664766062, 22.460725890375972, 17.981781116947264, 25.216317845734142, 10.237112823177643, 18.857825051554954, 18.667516573035385, 18.163795574068377, 13.651146856638928, 10.306691827400915, 14.536501989088128, 17.855391632428777, 73.75402823418091, 25.051041625613557, 13.559085040955583, 11.303131576073508, 11.243929305282547, 12.619257310597982, 26.147794974346624, 18.28724329886952, 26.441122117965673, 27.128499526780054, 159.59937252208744, 30.09914230815747, 671.6390043819986, 178.78377678407935, 30.184649207275687, 260.90389194274303, 63.38437992873918, 175.15257193597517, 207.35795447596507, 844.8420000056263, 567.9986906078245, 88.99150000118445, 247.71078369205412, 97.67586020401372, 343.52853284866035, 77.3599835500217, 115.84339719878164, 544.7692138978455, 59.1985460868053, 1631.7818583119647, 193.67610524869704, 189.13223650803772, 165.21913595985302, 2749.085593969599, 725.5105946889006, 3853.810282957616, 1419.0439620010843, 346.62779607306726, 552.306897466572, 3428.1674039510717, 3219.9189107162692, 617.903148497704, 1250.022590327942, 3347.313142983911, 2259.6793399254097, 1440.256272359, 3401.913619633361, 2958.1963564227112, 5819.552495457034, 1239.3935298584431, 4592.6212445495985, 4560.1464118850345, 7253.928631114471, 1223.3812417118768, 2006.522457842096, 3236.1209135607824, 3754.1116928309775, 5838.7551700182785, 1691.205490625564, 2148.3823352757317, 4279.240276082971, 2465.6928399015333, 2844.1060344602374, 3947.947648084891, 3524.1140590257382, 5896.450383832061, 2833.6413043836487, 3762.3640715350884, 2608.7030214737774, 3235.2881535089978, 2755.693461278821, 6140.004254179668, 4463.223143599843, 16.141333670234282, 11.653450200681522, 25.02858571180004, 17.340427240745978, 12.355734279788814, 10.490639502122283, 10.94878792533688, 10.505926665816878, 10.837980958976747, 10.491560828923214, 20.143425688225204, 14.161607246932647, 24.356997743798697, 9.96383793548226, 11.83244816173997, 54.74334366767467, 12.151954320555614, 26.090810556644872, 28.28912894538221, 9.664645767559765, 19.78690316672862, 18.334400003873952, 24.69438796124878, 38.331819536791414, 40.1774293681099, 14.024435551200247, 13.040418914502354, 14.385451904892719, 44.66054133247893, 20.837087276800556, 108.97770871824974, 83.27242457044238, 32.33032462077107, 3457.4403227159914, 232.40947048789974, 300.31617482531016, 1419.264876735733, 220.19688269814395, 739.5422656165775, 148.75294559879077, 524.3902085152499, 69.43805626012241, 266.33061024853873, 621.9847453610249, 189.80265556276333, 460.84731499436845, 259.43958268582674, 179.61996696787367, 2749.085593969599, 933.4554828005467, 494.3976123716802, 393.4878838944915, 5838.7551700182785, 2582.26331056993, 1530.3317618415183, 1994.652950107398, 413.64050418625936, 7253.928631114471, 3956.078366843845, 3919.1967825918937, 4560.1464118850345, 3103.5332975993656, 1720.7194978106108, 969.3378932166028, 3583.6498397776577, 5819.552495457034, 3762.3640715350884, 1597.0520033694502, 1293.393949636072, 1139.1643938637164, 6140.004254179668, 4592.6212445495985, 2844.1060344602374, 1856.6739728368052, 2852.9114650802694, 3754.1116928309775, 3947.947648084891, 4463.223143599843, 2755.693461278821, 2748.223544525968, 1751.134470157377, 3236.1209135607824, 2612.3585963467126, 5343.696400777575, 3853.810282957616, 4279.240276082971, 3401.913619633361, 3524.1140590257382, 23.318500287177205, 9.619893480146056, 22.14838533854177, 30.833341889621707, 11.93120746295317, 14.163318386760464, 49.27873510319564, 10.271699466839275, 14.733717232832834, 10.11761558553228, 28.58597386609056, 10.650643041699407, 22.064573808813524, 26.33962438597497, 22.33465626004428, 31.73102558001042, 32.40442346770008, 10.84610776725757, 11.30487742851719, 10.03699082915163, 10.770280476964386, 11.940339436427058, 20.61836070063785, 10.681546553039045, 9.896970749767906, 10.16977296380629, 17.084645875066414, 10.15181178607946, 21.843527009928682, 15.607548094633081, 50.861842737191225, 32.123715148838976, 46.607015600646314, 138.44812071116178, 23.087545133352602, 193.31607403401352, 648.2030664445319, 48.037331128937424, 324.15651379678667, 1627.1030603056117, 698.8533377557196, 1443.655828180536, 125.99028867834951, 2755.693461278821, 4463.223143599843, 6140.004254179668, 334.5422792442477, 2341.1161125621657, 3428.1674039510717, 2431.582895806497, 772.4198749733777, 1374.967932149038, 1598.5835755282337, 4279.240276082971, 3103.5332975993656, 3086.063068526436, 7253.928631114471, 4560.1464118850345, 2201.035133735339, 737.0155771869714, 1358.6481603555246, 2958.1963564227112, 3583.6498397776577, 3573.2383347676546, 5838.7551700182785, 1889.6854446162968, 2283.517586497669, 4592.6212445495985, 3754.1116928309775, 3947.947648084891, 3347.313142983911, 3853.810282957616, 2713.2401359802825, 3956.078366843845, 5896.450383832061, 2816.1896415380825, 5819.552495457034, 3354.7840333797994, 2833.6413043836487, 5343.696400777575, 13.662703264787085, 14.23421479612803, 16.536769811248657, 11.690411419097044, 42.81537899879624, 17.43980265691036, 46.62538279594559, 12.643032760399336, 19.84994210368804, 16.60386789463419, 22.39974740586403, 14.597485517411203, 100.89916557600776, 49.94717179897572, 12.678719080760201, 21.336759932388855, 12.865680393357676, 17.479268559877834, 34.047148738254165, 15.540269100291841, 14.776090286213313, 41.87763629338904, 27.355980208873802, 10.73073103638144, 42.04016062330056, 13.691742053788307, 69.34722652385405, 26.437747280862943, 22.526380417968316, 42.09974394182292, 61.613037918634475, 22.372295501951356, 60.68349823601771, 84.70103814958452, 49.2138348638707, 81.96273359178738, 5896.450383832061, 275.4136569514933, 109.62096218639495, 32.77914705189286, 31.9246749928614, 164.45174441475143, 66.6750478224228, 73.28887006522079, 5343.696400777575, 6140.004254179668, 1058.3160814222624, 5819.552495457034, 739.076991263463, 2028.8533495335726, 3347.313142983911, 2287.9723747075873, 906.6702895797334, 1150.4406420570112, 2219.607162476009, 7253.928631114471, 2087.6512489611505, 3235.2881535089978, 3947.947648084891, 5838.7551700182785, 3956.078366843845, 2748.223544525968, 3103.5332975993656, 2844.1060344602374, 3762.3640715350884, 3236.1209135607824, 3086.063068526436, 3401.913619633361, 4560.1464118850345, 1691.205490625564, 2006.522457842096, 3524.1140590257382, 2833.6413043836487, 4463.223143599843, 4592.6212445495985, 2465.6928399015333, 3853.810282957616, 3354.7840333797994, 4279.240276082971, 3573.2383347676546, 143.44849728703994, 180.0377473398529, 3.171846288957787, 15.25058285550724, 368.8687540786585, 11.381509556404788, 11.599565028167174, 14.266241529825166, 10.735186587845044, 9.25601367340392, 10.683136375519652, 508.4102886057484, 24.39939971073258, 13.137584719664321, 43.218729479905335, 29.184647952762035, 33.31398039128445, 39.89381046072288, 30.06161393547333, 11.288485572442967, 10.986930321316096, 9.953395599804443, 837.3105283072229, 9.461783784540096, 11.759985536370909, 30.194890118035985, 14.554787058191566, 27.683532010460823, 16.940355865551176, 13.77602748417497, 27.37839040599803, 423.13533476869435, 61.90048921286231, 40.023508116382864, 23.38634419395471, 1444.5758125091195, 1557.6228082018229, 134.77822766521842, 64.1638985950975, 1612.2899680444027, 3754.1116928309775, 6140.004254179668, 148.0600116342352, 3573.2383347676546, 76.63578838244544, 251.67841523003753, 3401.913619633361, 7253.928631114471, 5819.552495457034, 4279.240276082971, 3235.2881535089978, 5838.7551700182785, 769.1247925869712, 5896.450383832061, 2713.2401359802825, 3219.9189107162692, 3853.810282957616, 5343.696400777575, 2816.1896415380825, 2833.6413043836487, 4592.6212445495985, 4463.223143599843, 1111.3871331733947, 2148.3823352757317, 4560.1464118850345, 2465.6928399015333, 3236.1209135607824, 3428.1674039510717, 3919.1967825918937, 3947.947648084891, 2958.1963564227112, 26.16547342758653, 36.694910730072046, 12.828095729275832, 38.41608078970006, 10.68079186297952, 17.739679177709586, 12.551535009579469, 10.763113323631378, 9.21696301980302, 9.56599067659513, 16.447691159590512, 10.769295541313413, 9.730656095196574, 19.726601400064446, 12.37978458837725, 17.545141712683225, 31.440545323665233, 15.639776420125983, 16.07452046568831, 11.321795056641898, 13.566906509411158, 10.82690251791716, 10.588319367924091, 12.600124654822462, 11.576433679064401, 13.398444538437099, 18.473216875513565, 9.76063413872408, 15.11103447440813, 25.40016942381388, 76.68733822425483, 29.675283746255, 39.712960995786986, 22.844694025590066, 7253.928631114471, 3401.913619633361, 298.8816410176184, 49.17294426250687, 1058.3160814222624, 906.6702895797334, 270.2904354631014, 5343.696400777575, 2404.0608305715573, 1117.609811108007, 1052.1722938379132, 101.64559297472495, 1362.5871375351935, 1946.238273973577, 253.02709122837436, 5819.552495457034, 1164.9154261592523, 148.91301868561558, 4279.240276082971, 3428.1674039510717, 2219.607162476009, 3754.1116928309775, 6140.004254179668, 1530.4019268269767, 1449.2987447421424, 3235.2881535089978, 5838.7551700182785, 2748.223544525968, 3354.7840333797994, 3762.3640715350884, 4592.6212445495985, 2287.9723747075873, 2833.6413043836487, 4463.223143599843, 2201.035133735339, 3347.313142983911, 3103.5332975993656, 2844.1060344602374, 3524.1140590257382, 3947.947648084891, 3219.9189107162692, 4560.1464118850345, 5896.450383832061, 2958.1963564227112, 2852.9114650802694, 3956.078366843845, 14.351055540196214, 12.43438615658118, 10.380521347234467, 8.959988023253539, 19.684231497000415, 9.747536153463514, 14.934842399890378, 11.031298648810289, 74.08414223572821, 10.136933701845287, 8.765202784337415, 12.005378424081822, 32.93321910405123, 13.420956580326182, 11.731373287755803, 15.739008692300391, 11.55201493447208, 75.87746230240273, 19.027824840150842, 21.90252109832889, 13.432531726036, 10.36015724130322, 40.69504968112524, 11.375978732603539, 28.46762801535504, 19.292330613705808, 29.0756150450163, 14.457989496775873, 83.42085131983825, 9.519181229528147, 51.209083834399095, 235.05177460831166, 628.8385414209301, 571.2613004020486, 76.3650744380528, 110.366285819467, 997.7392114489526, 69.97039943231074, 48.303740140933044, 68.29616199801555, 446.86839616031324, 2404.0608305715573, 2257.562615828935, 2748.223544525968, 4592.6212445495985, 243.95972575940857, 1564.2634702803743, 3583.6498397776577, 2233.951650676292, 5838.7551700182785, 4560.1464118850345, 2816.1896415380825, 804.8025478683203, 3219.9189107162692, 3853.810282957616, 3235.2881535089978, 3762.3640715350884, 3524.1140590257382, 2755.693461278821, 6140.004254179668, 2958.1963564227112, 1946.238273973577, 2844.1060344602374, 3956.078366843845, 3919.1967825918937, 3947.947648084891, 4463.223143599843, 3754.1116928309775, 5819.552495457034, 7253.928631114471, 3573.2383347676546, 5896.450383832061, 3086.063068526436, 3457.4403227159914, 3103.5332975993656], \"Category\": [\"Default\", \"Default\", \"Default\", \"Default\", \"Default\", \"Default\", \"Default\", \"Default\", \"Default\", \"Default\", \"Default\", \"Default\", \"Default\", \"Default\", \"Default\", \"Default\", \"Default\", \"Default\", \"Default\", \"Default\", \"Default\", \"Default\", \"Default\", \"Default\", \"Default\", \"Default\", \"Default\", \"Default\", \"Default\", \"Default\", \"Topic1\", \"Topic1\", \"Topic1\", \"Topic1\", \"Topic1\", \"Topic1\", \"Topic1\", \"Topic1\", \"Topic1\", \"Topic1\", \"Topic1\", \"Topic1\", \"Topic1\", \"Topic1\", \"Topic1\", \"Topic1\", \"Topic1\", \"Topic1\", \"Topic1\", \"Topic1\", \"Topic1\", \"Topic1\", \"Topic1\", \"Topic1\", \"Topic1\", \"Topic1\", \"Topic1\", \"Topic1\", \"Topic1\", \"Topic1\", \"Topic1\", \"Topic1\", \"Topic1\", \"Topic1\", \"Topic1\", \"Topic1\", \"Topic1\", \"Topic1\", \"Topic1\", \"Topic1\", \"Topic1\", \"Topic1\", \"Topic1\", \"Topic1\", \"Topic1\", \"Topic1\", \"Topic1\", \"Topic1\", \"Topic1\", \"Topic1\", \"Topic1\", \"Topic1\", \"Topic1\", \"Topic1\", \"Topic1\", \"Topic1\", \"Topic1\", \"Topic1\", \"Topic1\", \"Topic1\", \"Topic1\", \"Topic1\", \"Topic1\", \"Topic1\", \"Topic1\", \"Topic1\", \"Topic1\", \"Topic1\", \"Topic1\", \"Topic1\", \"Topic1\", \"Topic1\", \"Topic1\", \"Topic1\", \"Topic1\", \"Topic1\", \"Topic1\", \"Topic1\", \"Topic1\", \"Topic1\", \"Topic1\", \"Topic1\", \"Topic1\", \"Topic1\", \"Topic1\", \"Topic2\", \"Topic2\", \"Topic2\", \"Topic2\", \"Topic2\", \"Topic2\", \"Topic2\", \"Topic2\", \"Topic2\", \"Topic2\", \"Topic2\", \"Topic2\", \"Topic2\", \"Topic2\", \"Topic2\", \"Topic2\", \"Topic2\", \"Topic2\", \"Topic2\", \"Topic2\", \"Topic2\", \"Topic2\", \"Topic2\", \"Topic2\", \"Topic2\", \"Topic2\", \"Topic2\", \"Topic2\", \"Topic2\", \"Topic2\", \"Topic2\", \"Topic2\", \"Topic2\", \"Topic2\", \"Topic2\", \"Topic2\", \"Topic2\", \"Topic2\", \"Topic2\", \"Topic2\", \"Topic2\", \"Topic2\", \"Topic2\", \"Topic2\", \"Topic2\", \"Topic2\", \"Topic2\", \"Topic2\", \"Topic2\", \"Topic2\", \"Topic2\", \"Topic2\", \"Topic2\", \"Topic2\", \"Topic2\", \"Topic2\", \"Topic2\", \"Topic2\", \"Topic2\", \"Topic2\", \"Topic2\", \"Topic2\", \"Topic2\", \"Topic2\", \"Topic2\", \"Topic2\", \"Topic2\", \"Topic2\", \"Topic2\", \"Topic2\", \"Topic2\", \"Topic2\", \"Topic2\", \"Topic2\", \"Topic2\", \"Topic2\", \"Topic2\", \"Topic2\", \"Topic2\", \"Topic2\", \"Topic2\", \"Topic2\", \"Topic2\", \"Topic2\", \"Topic2\", \"Topic3\", \"Topic3\", \"Topic3\", \"Topic3\", \"Topic3\", \"Topic3\", \"Topic3\", \"Topic3\", \"Topic3\", \"Topic3\", \"Topic3\", \"Topic3\", \"Topic3\", \"Topic3\", \"Topic3\", \"Topic3\", \"Topic3\", \"Topic3\", \"Topic3\", \"Topic3\", \"Topic3\", \"Topic3\", \"Topic3\", \"Topic3\", \"Topic3\", \"Topic3\", \"Topic3\", \"Topic3\", \"Topic3\", \"Topic3\", \"Topic3\", \"Topic3\", \"Topic3\", \"Topic3\", \"Topic3\", \"Topic3\", \"Topic3\", \"Topic3\", \"Topic3\", \"Topic3\", \"Topic3\", \"Topic3\", \"Topic3\", \"Topic3\", \"Topic3\", \"Topic3\", \"Topic3\", \"Topic3\", \"Topic3\", \"Topic3\", \"Topic3\", \"Topic3\", \"Topic3\", \"Topic3\", \"Topic3\", \"Topic3\", \"Topic3\", \"Topic3\", \"Topic3\", \"Topic3\", \"Topic3\", \"Topic3\", \"Topic3\", \"Topic3\", \"Topic3\", \"Topic3\", \"Topic3\", \"Topic3\", \"Topic3\", \"Topic3\", \"Topic3\", \"Topic3\", \"Topic3\", \"Topic3\", \"Topic3\", \"Topic3\", \"Topic3\", \"Topic3\", \"Topic3\", \"Topic3\", \"Topic3\", \"Topic3\", \"Topic3\", \"Topic3\", \"Topic3\", \"Topic3\", \"Topic3\", \"Topic3\", \"Topic3\", \"Topic3\", \"Topic3\", \"Topic3\", \"Topic3\", \"Topic3\", \"Topic3\", \"Topic4\", \"Topic4\", \"Topic4\", \"Topic4\", \"Topic4\", \"Topic4\", \"Topic4\", \"Topic4\", \"Topic4\", \"Topic4\", \"Topic4\", \"Topic4\", \"Topic4\", \"Topic4\", \"Topic4\", \"Topic4\", \"Topic4\", \"Topic4\", \"Topic4\", \"Topic4\", \"Topic4\", \"Topic4\", \"Topic4\", \"Topic4\", \"Topic4\", \"Topic4\", \"Topic4\", \"Topic4\", \"Topic4\", \"Topic4\", \"Topic4\", \"Topic4\", \"Topic4\", \"Topic4\", \"Topic4\", \"Topic4\", \"Topic4\", \"Topic4\", \"Topic4\", \"Topic4\", \"Topic4\", \"Topic4\", \"Topic4\", \"Topic4\", \"Topic4\", \"Topic4\", \"Topic4\", \"Topic4\", \"Topic4\", \"Topic4\", \"Topic4\", \"Topic4\", \"Topic4\", \"Topic4\", \"Topic4\", \"Topic4\", \"Topic4\", \"Topic4\", \"Topic4\", \"Topic4\", \"Topic4\", \"Topic4\", \"Topic4\", \"Topic4\", \"Topic4\", \"Topic4\", \"Topic4\", \"Topic4\", \"Topic4\", \"Topic4\", \"Topic4\", \"Topic4\", \"Topic4\", \"Topic4\", \"Topic4\", \"Topic4\", \"Topic4\", \"Topic4\", \"Topic4\", \"Topic4\", \"Topic4\", \"Topic4\", \"Topic4\", \"Topic4\", \"Topic4\", \"Topic4\", \"Topic4\", \"Topic4\", \"Topic5\", \"Topic5\", \"Topic5\", \"Topic5\", \"Topic5\", \"Topic5\", \"Topic5\", \"Topic5\", \"Topic5\", \"Topic5\", \"Topic5\", \"Topic5\", \"Topic5\", \"Topic5\", \"Topic5\", \"Topic5\", \"Topic5\", \"Topic5\", \"Topic5\", \"Topic5\", \"Topic5\", \"Topic5\", \"Topic5\", \"Topic5\", \"Topic5\", \"Topic5\", \"Topic5\", \"Topic5\", \"Topic5\", \"Topic5\", \"Topic5\", \"Topic5\", \"Topic5\", \"Topic5\", \"Topic5\", \"Topic5\", \"Topic5\", \"Topic5\", \"Topic5\", \"Topic5\", \"Topic5\", \"Topic5\", \"Topic5\", \"Topic5\", \"Topic5\", \"Topic5\", \"Topic5\", \"Topic5\", \"Topic5\", \"Topic5\", \"Topic5\", \"Topic5\", \"Topic5\", \"Topic5\", \"Topic5\", \"Topic5\", \"Topic5\", \"Topic5\", \"Topic5\", \"Topic5\", \"Topic5\", \"Topic5\", \"Topic5\", \"Topic5\", \"Topic5\", \"Topic5\", \"Topic5\", \"Topic5\", \"Topic5\", \"Topic5\", \"Topic5\", \"Topic5\", \"Topic5\", \"Topic5\", \"Topic5\", \"Topic5\", \"Topic5\", \"Topic5\", \"Topic5\", \"Topic5\", \"Topic6\", \"Topic6\", \"Topic6\", \"Topic6\", \"Topic6\", \"Topic6\", \"Topic6\", \"Topic6\", \"Topic6\", \"Topic6\", \"Topic6\", \"Topic6\", \"Topic6\", \"Topic6\", \"Topic6\", \"Topic6\", \"Topic6\", \"Topic6\", \"Topic6\", \"Topic6\", \"Topic6\", \"Topic6\", \"Topic6\", \"Topic6\", \"Topic6\", \"Topic6\", \"Topic6\", \"Topic6\", \"Topic6\", \"Topic6\", \"Topic6\", \"Topic6\", \"Topic6\", \"Topic6\", \"Topic6\", \"Topic6\", \"Topic6\", \"Topic6\", \"Topic6\", \"Topic6\", \"Topic6\", \"Topic6\", \"Topic6\", \"Topic6\", \"Topic6\", \"Topic6\", \"Topic6\", \"Topic6\", \"Topic6\", \"Topic6\", \"Topic6\", \"Topic6\", \"Topic6\", \"Topic6\", \"Topic6\", \"Topic6\", \"Topic6\", \"Topic6\", \"Topic6\", \"Topic6\", \"Topic6\", \"Topic6\", \"Topic6\", \"Topic6\", \"Topic6\", \"Topic6\", \"Topic6\", \"Topic6\", \"Topic6\", \"Topic6\", \"Topic6\", \"Topic6\", \"Topic6\", \"Topic6\", \"Topic6\", \"Topic6\", \"Topic6\", \"Topic6\", \"Topic6\", \"Topic6\", \"Topic7\", \"Topic7\", \"Topic7\", \"Topic7\", \"Topic7\", \"Topic7\", \"Topic7\", \"Topic7\", \"Topic7\", \"Topic7\", \"Topic7\", \"Topic7\", \"Topic7\", \"Topic7\", \"Topic7\", \"Topic7\", \"Topic7\", \"Topic7\", \"Topic7\", \"Topic7\", \"Topic7\", \"Topic7\", \"Topic7\", \"Topic7\", \"Topic7\", \"Topic7\", \"Topic7\", \"Topic7\", \"Topic7\", \"Topic7\", \"Topic7\", \"Topic7\", \"Topic7\", \"Topic7\", \"Topic7\", \"Topic7\", \"Topic7\", \"Topic7\", \"Topic7\", \"Topic7\", \"Topic7\", \"Topic7\", \"Topic7\", \"Topic7\", \"Topic7\", \"Topic7\", \"Topic7\", \"Topic7\", \"Topic7\", \"Topic7\", \"Topic7\", \"Topic7\", \"Topic7\", \"Topic7\", \"Topic7\", \"Topic7\", \"Topic7\", \"Topic7\", \"Topic7\", \"Topic7\", \"Topic7\", \"Topic7\", \"Topic7\", \"Topic7\", \"Topic7\", \"Topic7\", \"Topic7\", \"Topic7\", \"Topic7\", \"Topic7\", \"Topic7\", \"Topic8\", \"Topic8\", \"Topic8\", \"Topic8\", \"Topic8\", \"Topic8\", \"Topic8\", \"Topic8\", \"Topic8\", \"Topic8\", \"Topic8\", \"Topic8\", \"Topic8\", \"Topic8\", \"Topic8\", \"Topic8\", \"Topic8\", \"Topic8\", \"Topic8\", \"Topic8\", \"Topic8\", \"Topic8\", \"Topic8\", \"Topic8\", \"Topic8\", \"Topic8\", \"Topic8\", \"Topic8\", \"Topic8\", \"Topic8\", \"Topic8\", \"Topic8\", \"Topic8\", \"Topic8\", \"Topic8\", \"Topic8\", \"Topic8\", \"Topic8\", \"Topic8\", \"Topic8\", \"Topic8\", \"Topic8\", \"Topic8\", \"Topic8\", \"Topic8\", \"Topic8\", \"Topic8\", \"Topic8\", \"Topic8\", \"Topic8\", \"Topic8\", \"Topic8\", \"Topic8\", \"Topic8\", \"Topic8\", \"Topic8\", \"Topic8\", \"Topic8\", \"Topic8\", \"Topic8\", \"Topic8\", \"Topic8\", \"Topic8\", \"Topic8\", \"Topic8\", \"Topic8\", \"Topic8\", \"Topic8\", \"Topic8\", \"Topic8\", \"Topic8\", \"Topic8\", \"Topic8\", \"Topic8\", \"Topic8\", \"Topic8\", \"Topic8\", \"Topic8\", \"Topic8\", \"Topic8\", \"Topic9\", \"Topic9\", \"Topic9\", \"Topic9\", \"Topic9\", \"Topic9\", \"Topic9\", \"Topic9\", \"Topic9\", \"Topic9\", \"Topic9\", \"Topic9\", \"Topic9\", \"Topic9\", \"Topic9\", \"Topic9\", \"Topic9\", \"Topic9\", \"Topic9\", \"Topic9\", \"Topic9\", \"Topic9\", \"Topic9\", \"Topic9\", \"Topic9\", \"Topic9\", \"Topic9\", \"Topic9\", \"Topic9\", \"Topic9\", \"Topic9\", \"Topic9\", \"Topic9\", \"Topic9\", \"Topic9\", \"Topic9\", \"Topic9\", \"Topic9\", \"Topic9\", \"Topic9\", \"Topic9\", \"Topic9\", \"Topic9\", \"Topic9\", \"Topic9\", \"Topic9\", \"Topic9\", \"Topic9\", \"Topic9\", \"Topic9\", \"Topic9\", \"Topic9\", \"Topic9\", \"Topic9\", \"Topic9\", \"Topic9\", \"Topic9\", \"Topic9\", \"Topic9\", \"Topic9\", \"Topic9\", \"Topic9\", \"Topic9\", \"Topic9\", \"Topic9\", \"Topic9\", \"Topic9\", \"Topic9\", \"Topic9\", \"Topic9\", \"Topic9\", \"Topic9\", \"Topic9\", \"Topic9\", \"Topic9\"], \"logprob\": [30.0, 29.0, 28.0, 27.0, 26.0, 25.0, 24.0, 23.0, 22.0, 21.0, 20.0, 19.0, 18.0, 17.0, 16.0, 15.0, 14.0, 13.0, 12.0, 11.0, 10.0, 9.0, 8.0, 7.0, 6.0, 5.0, 4.0, 3.0, 2.0, 1.0, -9.0235, -9.8755, -9.6075, -8.8695, -9.6658, -9.8808, -8.0947, -9.6603, -9.5445, -9.6835, -9.0387, -9.9898, -9.9471, -9.7211, -10.1333, -9.8714, -9.0462, -10.0583, -9.808, -8.9333, -9.8847, -9.6206, -9.9701, -9.3451, -8.9409, -9.6889, -9.5366, -9.8527, -10.223, -9.9243, -8.6517, -5.58, -8.5599, -6.6954, -6.1469, -6.9611, -7.8066, -8.1256, -6.0826, -5.7972, -8.1974, -7.6646, -8.1226, -7.9506, -5.5638, -4.783, -5.1837, -6.4764, -5.8744, -7.2803, -6.137, -6.17, -6.9931, -6.6152, -7.2869, -5.0556, -6.7705, -7.2998, -5.561, -6.7435, -5.4954, -6.4827, -5.5267, -5.6983, -5.3932, -6.8611, -5.8458, -5.3213, -5.431, -5.8418, -5.739, -6.0125, -6.1966, -5.8351, -5.8413, -5.6559, -5.8777, -5.8811, -5.8777, -5.9877, -6.1569, -5.9848, -6.1066, -6.1115, -6.1217, -10.8093, -9.9098, -9.5879, -8.8396, -8.8406, -9.1585, -8.3511, -8.4275, -8.8577, -9.4415, -8.977, -9.182, -9.5417, -9.8489, -9.7823, -10.0468, -9.3389, -9.8803, -9.8554, -7.5267, -9.471, -9.4233, -8.4602, -8.805, -9.2187, -10.0743, -10.1622, -9.7694, -9.5394, -8.7694, -7.2974, -8.3352, -7.93, -6.0387, -7.415, -7.8751, -8.6422, -6.8585, -6.2489, -7.7988, -6.8137, -7.5199, -7.3151, -6.4451, -6.4, -7.8898, -6.2733, -5.7494, -6.2847, -6.7134, -5.1002, -6.8051, -6.4671, -7.3746, -6.0871, -5.8299, -6.9147, -5.5498, -5.325, -5.9496, -5.7123, -6.0829, -6.4633, -5.7632, -6.4035, -5.5094, -5.5857, -5.8399, -6.0172, -5.7751, -5.8875, -5.9379, -5.6937, -5.6817, -5.9052, -5.8666, -5.8925, -5.9305, -5.7004, -5.7881, -5.9855, -5.9125, -6.0191, -5.9915, -6.0691, -9.5176, -8.7977, -9.2959, -9.1846, -9.4814, -9.3731, -9.9516, -9.7993, -9.8897, -9.8006, -8.596, -9.4457, -9.6706, -9.3369, -10.2393, -9.6448, -9.6562, -9.6848, -9.9742, -10.2625, -9.9309, -9.7262, -8.3256, -9.411, -10.0276, -10.2155, -10.2306, -10.1199, -9.3977, -9.7576, -9.3942, -9.392, -7.7151, -9.2952, -6.4168, -7.6651, -9.2953, -7.3618, -8.6377, -7.7512, -7.6188, -6.4491, -6.7911, -8.3633, -7.5184, -8.2956, -7.2696, -8.4921, -8.1695, -6.9302, -8.7154, -6.0774, -7.7769, -7.798, -7.914, -5.7222, -6.7601, -5.4902, -6.253, -7.3417, -6.9975, -5.6612, -5.7279, -6.9335, -6.4209, -5.7509, -6.0443, -6.373, -5.8096, -5.9068, -5.4613, -6.4969, -5.6594, -5.6723, -5.3822, -6.5127, -6.2102, -5.9167, -5.8402, -5.5803, -6.3232, -6.2138, -5.8328, -6.1637, -6.0953, -5.9585, -6.0355, -5.85, -6.1588, -6.0716, -6.186, -6.1397, -6.1907, -6.0863, -6.1421, -9.2332, -9.8691, -9.2309, -9.5994, -9.9558, -10.1488, -10.1145, -10.1715, -10.1756, -10.2331, -9.5909, -9.9555, -9.4133, -10.3152, -10.1445, -8.6229, -10.1347, -9.3793, -9.3077, -10.3971, -9.7027, -9.7795, -9.4884, -9.0601, -9.0141, -10.071, -10.1443, -10.0504, -8.9209, -9.695, -8.0877, -8.3582, -9.269, -4.8178, -7.4483, -7.276, -5.9255, -7.5782, -6.5193, -7.931, -6.8478, -8.6051, -7.491, -6.7971, -7.7989, -7.0764, -7.549, -7.8569, -5.6814, -6.5447, -7.0578, -7.2429, -5.1702, -5.8166, -6.2286, -6.0415, -7.2472, -5.1061, -5.5684, -5.6037, -5.5195, -5.813, -6.2497, -6.671, -5.7957, -5.4733, -5.7684, -6.3583, -6.4938, -6.5776, -5.5472, -5.7452, -6.0332, -6.2902, -6.0458, -5.9011, -5.879, -5.821, -6.1008, -6.1076, -6.3397, -6.1185, -6.2263, -6.0341, -6.1221, -6.1062, -6.1673, -6.222, -9.0081, -9.9683, -9.1583, -8.8813, -9.8685, -9.7042, -8.4812, -10.1015, -9.7519, -10.131, -9.108, -10.0992, -9.3768, -9.2117, -9.3787, -9.0472, -9.0283, -10.1261, -10.0852, -10.2076, -10.1492, -10.0778, -9.5475, -10.2094, -10.2861, -10.2628, -9.7467, -10.2791, -9.5141, -9.8576, -8.6978, -9.1537, -8.7963, -7.8026, -9.4901, -7.5335, -6.5614, -8.8781, -7.2992, -6.0115, -6.7042, -6.132, -8.1143, -5.6817, -5.3854, -5.1959, -7.4216, -5.9483, -5.6791, -5.9529, -6.8395, -6.4485, -6.3424, -5.6456, -5.8899, -5.9171, -5.3445, -5.6714, -6.1692, -6.9193, -6.5387, -6.0337, -5.9096, -5.9147, -5.6317, -6.3336, -6.25, -5.8434, -5.9748, -5.9478, -6.0439, -5.974, -6.1684, -6.001, -5.8948, -6.1776, -5.96, -6.1368, -6.1923, -6.0639, -9.4087, -9.3794, -9.2486, -9.5992, -8.3058, -9.2174, -8.2359, -9.5454, -9.0961, -9.2749, -8.9975, -9.4324, -7.5033, -8.224, -9.5956, -9.0894, -9.5974, -9.2987, -8.6321, -9.4169, -9.4751, -8.4339, -8.8706, -9.8148, -8.4567, -9.5808, -7.963, -8.9305, -9.0935, -8.4722, -8.0942, -9.1061, -8.1904, -7.8968, -8.3893, -8.034, -4.5498, -7.1097, -7.8459, -8.7992, -8.8319, -7.5916, -8.277, -8.2117, -5.1415, -5.0695, -6.3212, -5.2104, -6.643, -6.0415, -5.7115, -5.9942, -6.6054, -6.4669, -6.049, -5.3218, -6.1102, -5.8529, -5.7344, -5.5062, -5.7552, -5.9985, -5.9403, -6.0144, -5.8666, -5.9675, -6.0177, -5.974, -5.8409, -6.3601, -6.2789, -5.9991, -6.1162, -5.9143, -5.9804, -6.2228, -6.1264, -6.1733, -6.1308, -6.1908, -6.9281, -6.7173, -10.7759, -9.2075, -6.1318, -9.6643, -9.6724, -9.5582, -9.8824, -10.0333, -9.9097, -6.055, -9.1058, -9.7272, -8.5431, -8.9627, -8.8413, -8.6619, -8.9664, -9.9571, -10.0184, -10.1718, -5.7406, -10.2296, -10.0172, -9.0754, -9.8151, -9.1777, -9.6729, -9.8825, -9.1994, -6.5996, -8.435, -8.8525, -9.3643, -5.5022, -5.5028, -7.919, -8.5533, -6.1067, -5.4855, -5.1361, -7.9528, -5.6399, -8.4457, -7.5963, -5.7774, -5.2568, -5.4096, -5.628, -5.834, -5.4352, -6.8323, -5.4777, -6.0074, -5.8951, -5.799, -5.59, -6.0223, -6.0495, -5.7655, -5.8077, -6.6421, -6.2692, -5.8344, -6.1907, -6.0525, -6.0454, -6.0486, -6.0595, -6.158, -8.7514, -8.5266, -9.6047, -8.6377, -9.936, -9.4689, -9.8327, -9.9952, -10.2235, -10.1965, -9.6561, -10.1229, -10.2421, -9.5449, -10.0292, -9.6907, -9.1076, -9.8092, -9.7828, -10.1351, -9.9737, -10.2075, -10.2558, -10.0913, -10.1829, -10.0412, -9.7232, -10.3641, -9.9321, -9.4167, -8.4481, -9.3385, -9.0999, -9.5876, -4.8162, -5.4683, -7.4683, -8.9726, -6.5362, -6.675, -7.6378, -5.3387, -5.9708, -6.6032, -6.6621, -8.421, -6.4821, -6.2308, -7.7515, -5.4646, -6.6509, -8.1426, -5.7285, -5.8963, -6.2121, -5.8599, -5.5177, -6.5009, -6.5398, -5.9863, -5.5955, -6.1082, -5.9838, -5.9197, -5.7975, -6.2551, -6.1392, -5.9019, -6.3057, -6.0772, -6.1266, -6.1751, -6.0796, -6.0234, -6.1312, -6.0219, -5.9391, -6.2053, -6.253, -6.2026, -9.1887, -9.6679, -9.8667, -10.0198, -9.2739, -9.9819, -9.6458, -9.9902, -8.0881, -10.1082, -10.2616, -9.9526, -8.9845, -9.8826, -10.0231, -9.7338, -10.0457, -8.1675, -9.5731, -9.4372, -9.9469, -10.2138, -8.8584, -10.1343, -9.2325, -9.6263, -9.2207, -9.9265, -8.1784, -10.3558, -8.6952, -7.2665, -6.3663, -6.4722, -8.3841, -8.0897, -6.3172, -8.5492, -8.8641, -8.5997, -7.1782, -5.9192, -6.0093, -5.8713, -5.4928, -7.6945, -6.3715, -5.7924, -6.1441, -5.4735, -5.6649, -6.0119, -6.8826, -5.9415, -5.8199, -5.9428, -5.8499, -5.8944, -6.0664, -5.5651, -6.047, -6.3365, -6.1065, -5.9065, -5.9277, -5.9235, -5.857, -5.9761, -5.7666, -5.6632, -6.0527, -5.8836, -6.1345, -6.1538, -6.188], \"loglift\": [30.0, 29.0, 28.0, 27.0, 26.0, 25.0, 24.0, 23.0, 22.0, 21.0, 20.0, 19.0, 18.0, 17.0, 16.0, 15.0, 14.0, 13.0, 12.0, 11.0, 10.0, 9.0, 8.0, 7.0, 6.0, 5.0, 4.0, 3.0, 2.0, 1.0, 2.0162, 2.0089, 1.9837, 1.9625, 1.9237, 1.9163, 1.9124, 1.8133, 1.7957, 1.7373, 1.7326, 1.7265, 1.714, 1.7128, 1.7109, 1.7028, 1.6989, 1.694, 1.6918, 1.6867, 1.682, 1.6802, 1.6557, 1.6499, 1.6469, 1.6454, 1.6413, 1.6289, 1.6239, 1.6217, 1.5925, 1.4924, 1.5685, 1.4425, 1.3903, 1.4454, 1.4941, 1.5204, 1.2641, 1.1993, 1.4786, 1.4026, 1.4533, 1.4089, 0.9844, 0.8253, 0.8902, 1.1287, 0.9321, 1.2618, 0.8716, 0.8591, 1.0867, 0.9631, 1.1711, 0.4543, 1.0032, 1.1403, 0.4636, 0.9232, 0.3351, 0.7251, 0.2331, 0.3124, 0.1298, 0.8939, 0.3115, -0.0186, 0.0384, 0.2683, 0.1962, 0.2736, 0.4091, 0.0739, 0.0771, -0.1362, 0.0814, 0.0803, 0.0333, 0.0645, 0.33, -0.1964, 0.1423, -0.3447, -0.0068, 2.0123, 1.9431, 1.9183, 1.9144, 1.8821, 1.8706, 1.8592, 1.8455, 1.841, 1.8331, 1.8184, 1.8117, 1.7986, 1.7699, 1.7568, 1.7395, 1.7391, 1.7253, 1.7185, 1.7136, 1.7117, 1.7095, 1.7082, 1.7068, 1.7063, 1.7041, 1.7035, 1.6999, 1.6984, 1.6956, 1.6533, 1.67, 1.6469, 1.5801, 1.617, 1.6309, 1.6642, 1.5497, 1.4989, 1.591, 1.5008, 1.5364, 1.5082, 1.3943, 1.3329, 1.5485, 1.2656, 1.1531, 1.2167, 1.2849, 0.9076, 1.2787, 1.1951, 1.4065, 0.9775, 0.8531, 1.1984, 0.6861, 0.5934, 0.7919, 0.6834, 0.816, 0.95, 0.5724, 0.9011, 0.279, 0.3233, 0.477, 0.5431, 0.3347, 0.3854, 0.3874, 0.0731, -0.162, 0.1385, 0.0444, 0.0667, 0.0802, -0.3978, -0.2651, 0.1718, -0.4027, -0.1887, -0.5221, 0.007, 2.0165, 1.9551, 1.8334, 1.809, 1.7892, 1.7739, 1.7036, 1.6998, 1.6876, 1.6681, 1.6492, 1.6345, 1.632, 1.6275, 1.6266, 1.6102, 1.609, 1.6078, 1.604, 1.5967, 1.5844, 1.5835, 1.5657, 1.5601, 1.5573, 1.5514, 1.5415, 1.5368, 1.5305, 1.5282, 1.5229, 1.4994, 1.4043, 1.4923, 1.2654, 1.3407, 1.4894, 1.2661, 1.4051, 1.2751, 1.2387, 1.0038, 1.0588, 1.3401, 1.1613, 1.3147, 1.0831, 1.3514, 1.2703, 0.9614, 1.3957, 0.7171, 1.1488, 1.1516, 1.1707, 0.5508, 0.845, 0.4449, 0.6812, 1.0021, 0.8804, 0.391, 0.387, 0.8322, 0.6402, 0.3252, 0.4247, 0.5464, 0.2502, 0.2928, 0.0617, 0.5727, 0.1004, 0.0946, -0.0795, 0.5699, 0.3776, 0.1931, 0.1212, -0.0606, 0.4356, 0.3057, -0.0024, 0.218, 0.1437, -0.0474, -0.0109, -0.3401, 0.0838, -0.1124, 0.1393, -0.0296, 0.0799, -0.6169, -0.3537, 2.1774, 1.8673, 1.741, 1.7396, 1.7221, 1.6927, 1.6843, 1.6685, 1.6333, 1.6083, 1.5982, 1.586, 1.5859, 1.5779, 1.5767, 1.5664, 1.5598, 1.5511, 1.5418, 1.5264, 1.5043, 1.5037, 1.497, 1.4856, 1.4846, 1.4801, 1.4796, 1.4754, 1.472, 1.4603, 1.4131, 1.4117, 1.447, 1.2259, 1.2952, 1.2111, 1.0086, 1.2193, 1.0667, 1.2587, 1.0819, 1.3465, 1.1163, 0.9619, 1.1471, 0.9825, 1.0845, 1.1442, 0.5916, 0.8084, 0.9308, 0.974, 0.3495, 0.519, 0.6301, 0.5523, 0.9198, 0.1966, 0.3406, 0.3147, 0.2474, 0.3387, 0.4918, 0.6443, 0.2121, 0.0497, 0.1908, 0.4578, 0.5331, 0.5764, -0.0778, 0.0146, 0.2057, 0.3752, 0.1901, 0.0602, 0.0321, -0.0326, 0.1698, 0.1656, 0.3843, -0.0087, 0.0977, -0.4258, -0.1869, -0.2757, -0.1074, -0.1974, 2.0346, 1.9599, 1.9359, 1.882, 1.8443, 1.8371, 1.8133, 1.7611, 1.7499, 1.7467, 1.7311, 1.7271, 1.7212, 1.7092, 1.7072, 1.6875, 1.6854, 1.682, 1.6815, 1.6781, 1.666, 1.6342, 1.6183, 1.6141, 1.6137, 1.6098, 1.6071, 1.5952, 1.594, 1.5867, 1.565, 1.5687, 1.5539, 1.4589, 1.5625, 1.3942, 1.1564, 1.4419, 1.1116, 0.7859, 0.9383, 0.785, 1.2415, 0.5888, 0.403, 0.2735, 0.9576, 0.4853, 0.3731, 0.4428, 0.7029, 0.5173, 0.4727, 0.1849, 0.2618, 0.2402, -0.0418, 0.0955, 0.3261, 0.67, 0.4391, 0.1659, 0.0982, 0.096, -0.112, 0.3142, 0.2085, -0.0836, -0.0135, -0.0367, 0.0322, -0.0388, 0.1177, -0.0921, -0.385, 0.0712, -0.437, -0.063, 0.0504, -0.4556, 2.1686, 2.1569, 2.1378, 2.134, 2.1293, 2.1159, 2.114, 2.1094, 2.1077, 2.1075, 2.0855, 2.0787, 2.0745, 2.057, 2.0565, 2.0422, 2.0401, 2.0322, 2.0322, 2.0317, 2.0239, 2.0233, 2.0124, 2.0041, 1.9966, 1.9944, 1.9898, 1.9867, 1.9838, 1.9797, 1.9769, 1.978, 1.8959, 1.856, 1.9065, 1.7517, 0.9601, 1.4641, 1.649, 1.903, 1.8967, 1.4977, 1.7152, 1.6859, 0.4669, 0.3999, 0.9063, 0.3126, 0.9436, 0.5352, 0.3646, 0.4624, 0.7768, 0.6771, 0.4378, -0.0191, 0.438, 0.2572, 0.1766, 0.0135, 0.1537, 0.2747, 0.2114, 0.2246, 0.0926, 0.1424, 0.1396, 0.0859, -0.074, 0.3987, 0.3089, 0.0255, 0.1265, -0.1259, -0.2206, 0.159, -0.1912, -0.0994, -0.3004, -0.1801, 2.2979, 2.2816, 2.2618, 2.2598, 2.1497, 2.0957, 2.0686, 1.9758, 1.9361, 1.9334, 1.9136, 1.9057, 1.8916, 1.8893, 1.8826, 1.8556, 1.8448, 1.8439, 1.8223, 1.8111, 1.7768, 1.7223, 1.7212, 1.7151, 1.7101, 1.7089, 1.699, 1.6934, 1.6893, 1.6865, 1.6828, 1.5447, 1.6314, 1.6501, 1.6756, 1.4142, 1.3383, 1.3694, 1.4773, 0.6998, 0.4758, 0.3333, 1.2415, 0.3709, 1.4073, 1.0675, 0.2825, 0.0459, 0.1134, 0.2024, 0.2761, 0.0845, 0.7144, 0.0322, 0.2787, 0.2198, 0.1361, 0.0183, 0.2265, 0.1932, -0.0057, -0.0193, 0.5365, 0.2503, -0.0675, 0.191, 0.0573, 0.0068, -0.1303, -0.1485, 0.0417, 2.1761, 2.0627, 2.0356, 1.9058, 1.8876, 1.8473, 1.8294, 1.8206, 1.7474, 1.7372, 1.7357, 1.6924, 1.6746, 1.6651, 1.6467, 1.6365, 1.6362, 1.633, 1.632, 1.6302, 1.6107, 1.6025, 1.5764, 1.567, 1.5602, 1.5556, 1.5525, 1.5495, 1.5445, 1.5405, 1.4042, 1.4632, 1.4104, 1.4757, 0.4865, 0.5916, 1.0237, 1.3241, 0.6914, 0.7072, 0.9547, 0.2696, 0.4362, 0.5699, 0.5713, 1.1495, 0.4927, 0.3876, 0.907, 0.0584, 0.4807, 1.046, 0.102, 0.1559, 0.2748, 0.1015, -0.0483, 0.3578, 0.3733, 0.1238, -0.0758, 0.1651, 0.09, 0.0395, -0.0377, 0.2015, 0.1035, -0.1135, 0.1896, -0.0012, 0.0251, 0.0639, -0.055, -0.1124, -0.0163, -0.255, -0.4293, -0.0057, -0.0172, -0.2936, 2.3395, 2.0036, 1.9853, 1.9794, 1.9383, 1.9331, 1.8424, 1.8011, 1.7987, 1.7676, 1.7596, 1.754, 1.713, 1.7126, 1.7067, 1.7021, 1.6994, 1.6954, 1.673, 1.6682, 1.6474, 1.6402, 1.6274, 1.6262, 1.6107, 1.6059, 1.6014, 1.5943, 1.5897, 1.5829, 1.5609, 1.4656, 1.3818, 1.3719, 1.4724, 1.3984, 0.9693, 1.3947, 1.4504, 1.3685, 0.9115, 0.4879, 0.4607, 0.4019, 0.2669, 1.0005, 0.4653, 0.2155, 0.3363, 0.0462, 0.102, 0.237, 0.6188, 0.1734, 0.1153, 0.1673, 0.1093, 0.1302, 0.2041, -0.0957, 0.1526, 0.2818, 0.1324, 0.0024, -0.0094, -0.0125, -0.0687, -0.0148, -0.2436, -0.3605, -0.0419, -0.3737, 0.0229, -0.1101, -0.0363]}, \"token.table\": {\"Topic\": [7, 1, 2, 3, 4, 5, 6, 7, 8, 9, 1, 4, 5, 6, 7, 1, 2, 3, 4, 5, 6, 7, 8, 9, 6, 1, 2, 3, 4, 6, 8, 2, 3, 4, 6, 8, 9, 1, 2, 3, 4, 5, 7, 8, 9, 1, 2, 3, 4, 5, 6, 7, 8, 9, 2, 3, 4, 6, 7, 8, 9, 1, 7, 1, 2, 3, 4, 5, 6, 7, 8, 9, 1, 2, 3, 4, 5, 6, 7, 8, 9, 1, 2, 3, 4, 5, 6, 7, 8, 9, 1, 2, 3, 4, 5, 6, 7, 8, 9, 1, 2, 3, 4, 5, 6, 7, 8, 9, 1, 2, 3, 4, 5, 6, 7, 8, 9, 2, 3, 4, 5, 6, 7, 9, 1, 2, 3, 4, 5, 6, 7, 8, 9, 2, 3, 4, 5, 6, 7, 8, 9, 1, 2, 3, 4, 5, 6, 7, 8, 9, 1, 2, 3, 4, 5, 6, 7, 8, 9, 1, 2, 3, 4, 5, 6, 7, 8, 9, 2, 4, 6, 9, 2, 3, 8, 9, 1, 2, 3, 4, 5, 6, 7, 8, 9, 2, 4, 5, 3, 4, 7, 9, 1, 2, 3, 4, 5, 6, 7, 8, 9, 1, 2, 3, 4, 5, 6, 7, 8, 9, 1, 2, 3, 4, 5, 6, 7, 8, 9, 1, 3, 4, 6, 9, 1, 2, 3, 4, 5, 6, 7, 8, 9, 1, 2, 3, 4, 5, 8, 1, 2, 3, 4, 5, 6, 7, 8, 9, 1, 2, 3, 4, 5, 6, 7, 8, 9, 1, 2, 3, 4, 5, 6, 7, 8, 9, 1, 2, 3, 5, 6, 7, 9, 4, 6, 9, 1, 2, 3, 4, 6, 7, 8, 9, 1, 2, 3, 4, 5, 9, 1, 3, 6, 8, 3, 7, 4, 7, 9, 1, 2, 3, 4, 5, 1, 2, 3, 4, 5, 6, 7, 8, 9, 3, 1, 2, 3, 5, 8, 1, 2, 3, 4, 5, 6, 7, 8, 9, 1, 3, 4, 5, 1, 2, 3, 4, 5, 6, 7, 8, 9, 1, 2, 3, 4, 5, 6, 7, 8, 9, 1, 2, 3, 4, 5, 6, 7, 8, 9, 2, 4, 2, 6, 1, 2, 4, 5, 6, 8, 9, 1, 2, 3, 4, 5, 6, 7, 8, 9, 1, 2, 3, 4, 5, 6, 7, 8, 9, 1, 6, 7, 2, 4, 5, 1, 3, 5, 7, 8, 9, 1, 2, 3, 4, 5, 6, 7, 8, 9, 1, 1, 2, 3, 4, 5, 6, 7, 8, 9, 1, 2, 3, 4, 5, 6, 8, 9, 1, 2, 3, 4, 5, 6, 7, 8, 9, 1, 2, 3, 4, 5, 6, 7, 8, 9, 1, 2, 3, 4, 5, 9, 1, 2, 3, 4, 5, 6, 7, 8, 9, 7, 8, 9, 1, 2, 6, 7, 8, 2, 6, 7, 2, 4, 5, 6, 1, 3, 5, 6, 7, 8, 1, 2, 3, 4, 5, 7, 8, 9, 1, 5, 8, 9, 1, 6, 7, 1, 3, 4, 5, 7, 8, 9, 1, 2, 3, 4, 5, 6, 7, 8, 9, 2, 3, 4, 6, 8, 9, 1, 2, 3, 5, 7, 6, 1, 2, 3, 4, 6, 8, 1, 2, 3, 4, 5, 6, 7, 8, 9, 4, 6, 1, 6, 8, 9, 1, 2, 3, 5, 6, 7, 8, 1, 3, 8, 1, 2, 3, 4, 5, 6, 7, 8, 9, 2, 7, 8, 1, 2, 3, 4, 5, 6, 7, 8, 9, 6, 1, 2, 3, 4, 5, 6, 7, 8, 9, 1, 2, 3, 7, 9, 1, 2, 3, 4, 5, 6, 7, 8, 9, 1, 2, 3, 4, 5, 6, 7, 8, 9, 1, 2, 3, 4, 5, 6, 7, 8, 9, 1, 2, 3, 4, 5, 6, 7, 8, 9, 1, 2, 3, 4, 5, 6, 8, 9, 1, 2, 3, 4, 5, 6, 7, 8, 9, 1, 2, 3, 4, 5, 9, 1, 2, 3, 4, 5, 6, 7, 8, 9, 1, 2, 3, 4, 5, 6, 7, 8, 9, 1, 2, 3, 4, 6, 7, 8, 9, 3, 4, 7, 1, 2, 3, 4, 5, 6, 7, 8, 9, 1, 3, 7, 8, 9, 1, 2, 3, 4, 5, 6, 7, 8, 9, 1, 8, 1, 2, 3, 4, 5, 6, 7, 8, 9, 3, 4, 5, 8, 1, 2, 3, 4, 5, 6, 7, 8, 9, 1, 2, 3, 4, 5, 6, 7, 8, 9, 1, 2, 3, 4, 5, 6, 7, 8, 9, 1, 2, 3, 4, 5, 6, 7, 8, 9, 1, 2, 3, 4, 5, 7, 9, 3, 5, 6, 7, 8, 2, 3, 4, 6, 7, 1, 2, 3, 4, 5, 6, 7, 8, 9, 3, 4, 6, 7, 8, 1, 3, 4, 6, 1, 3, 6, 8, 1, 3, 5, 7, 1, 2, 3, 4, 5, 6, 7, 8, 9, 2, 3, 4, 1, 3, 7, 1, 2, 5, 6, 7, 1, 2, 3, 4, 5, 6, 7, 8, 9, 1, 2, 3, 4, 5, 6, 7, 8, 9, 4, 5, 7, 1, 2, 3, 4, 5, 6, 7, 8, 9, 1, 2, 6, 8, 2, 3, 4, 5, 7, 8, 1, 2, 3, 4, 7, 9, 1, 2, 3, 4, 5, 6, 7, 8, 9, 5, 6, 8, 1, 2, 3, 4, 5, 6, 7, 8, 9, 1, 2, 3, 4, 5, 6, 7, 8, 9, 2, 1, 2, 3, 4, 5, 6, 7, 8, 9, 1, 2, 3, 4, 5, 6, 7, 8, 9, 1, 5, 6, 7, 8, 9, 1, 3, 4, 9, 1, 2, 3, 4, 5, 6, 7, 8, 9, 1, 2, 3, 4, 5, 6, 7, 8, 9, 1, 2, 3, 4, 5, 6, 7, 8, 9, 1, 4, 6, 7, 4, 6, 1, 3, 5, 6, 7, 8, 7, 9, 1, 2, 3, 4, 5, 6, 7, 8, 9, 1, 2, 3, 4, 5, 6, 7, 8, 9, 2, 5, 8, 1, 3, 4, 5, 6, 7, 8, 9, 2, 3, 6, 1, 2, 3, 4, 5, 6, 7, 8, 9, 1, 2, 3, 7, 9, 1, 2, 3, 4, 5, 6, 7, 8, 9, 2, 4, 5, 9, 2, 4, 9, 1, 2, 3, 4, 5, 6, 7, 8, 9, 1, 2, 3, 4, 5, 6, 7, 8, 9, 1, 2, 3, 4, 5, 6, 7, 8, 9, 1, 2, 4, 1, 2, 3, 4, 5, 6, 7, 8, 9, 1, 5, 7, 9, 2, 4, 5, 9, 2, 3, 4, 7, 8, 9, 1, 2, 3, 4, 5, 6, 7, 8, 9, 2, 3, 5, 8, 1, 2, 4, 5, 6, 7, 8, 1, 2, 3, 4, 5, 6, 7, 8, 9, 1, 2, 3, 4, 5, 6, 7, 8, 1, 2, 3, 4, 5, 6, 7, 8, 9, 2, 3, 4, 5, 6, 7, 8, 9, 1, 2, 3, 4, 5, 6, 7, 8, 9, 1, 3, 4, 7, 1, 2, 3, 4, 5, 6, 7, 8, 9, 1, 2, 3, 4, 5, 6, 7, 8, 9, 1, 2, 3, 4, 5, 6, 7, 8, 9, 1, 2, 3, 4, 5, 6, 7, 8, 9, 1, 2, 3, 4, 5, 6, 7, 8, 9, 1, 2, 3, 4, 5, 6, 7, 8, 9, 1, 2, 3, 4, 5, 6, 7, 8, 9, 1, 2, 3, 4, 5, 6, 7, 8, 9, 1, 2, 3, 4, 5, 6, 7, 8, 9, 1, 2, 3, 4, 5, 6, 7, 8, 9, 1, 2, 3, 4, 5, 6, 7, 8, 9, 1, 2, 3, 4, 5, 6, 7, 8, 9, 1, 2, 3, 4, 5, 6, 7, 8, 9, 1, 2, 3, 4, 5, 6, 7, 8, 9, 1, 2, 3, 4, 5, 6, 7, 8, 9, 1, 2, 3, 4, 5, 7, 8, 9, 1, 2, 3, 4, 5, 6, 7, 8, 9, 2, 3, 4, 5, 6, 8, 9, 4, 9, 1, 2, 3, 4, 5, 6, 7, 8, 9, 1, 2, 3, 4, 5, 6, 7, 8, 9, 1, 5, 7, 1, 2, 8, 9, 1, 2, 3, 4, 5, 6, 7, 8, 9, 1, 2, 3, 4, 5, 6, 7, 8, 9, 1, 2, 3, 4, 5, 6, 7, 8, 9, 1, 2, 4, 5, 7, 8, 9, 2, 5, 9, 1, 2, 3, 4, 5, 6, 7, 8, 9, 1, 2, 3, 5, 6, 7, 8, 9, 1, 2, 3, 4, 5, 6, 7, 8, 9, 1, 2, 3, 4, 5, 6, 7, 8, 9, 1, 5, 7, 1, 2, 3, 4, 5, 6, 7, 8, 9, 1, 2, 3, 4, 5, 6, 7, 8, 9, 1, 2, 3, 4, 5, 6, 7, 8, 9, 1, 2, 3, 4, 5, 6, 7, 8, 9, 1, 2, 3, 4, 5, 6, 7, 8, 9, 1, 2, 3, 4, 5, 6, 7, 8, 9, 1, 2, 3, 4, 5, 6, 7, 8, 9, 1, 4, 6, 1, 2, 3, 4, 5, 6, 7, 8, 9, 2, 3, 5, 6, 8, 1, 2, 3, 4, 5, 6, 7, 8, 9, 1, 2, 3, 4, 6, 8, 1, 3, 7, 1, 2, 3, 4, 5, 6, 7, 8, 9, 1, 2, 9, 1, 2, 3, 4, 5, 6, 7, 8, 9, 1, 2, 3, 4, 5, 6, 7, 8, 9, 1, 2, 3, 4, 5, 6, 7, 8, 9, 1, 2, 3, 4, 5, 6, 7, 8, 9, 2, 4, 5, 6, 7, 8, 9, 1, 2, 3, 4, 5, 6, 7, 8, 9, 1, 2, 3, 4, 5, 6, 7, 8, 9, 1, 2, 3, 4, 5, 6, 7, 8, 9, 2, 3, 6, 7, 8, 9, 4, 1, 2, 3, 4, 5, 6, 7, 8, 9, 1, 2, 3, 4, 5, 6, 9, 1, 2, 3, 4, 5, 6, 7, 8, 9, 1, 2, 3, 4, 5, 6, 7, 8, 9, 3, 4, 6, 8, 1, 2, 3, 4, 5, 6, 7, 8, 9, 1, 2, 3, 4, 5, 6, 7, 8, 9, 1, 6, 1, 2, 5, 8, 9, 2, 8, 9, 1, 2, 3, 4, 5, 6, 7, 8, 9, 1, 2, 3, 4, 6, 7, 8, 9, 1, 3, 4, 5, 6, 7, 9, 1, 2, 3, 4, 5, 6, 7, 8, 9, 1, 2, 3, 5, 8, 9, 1, 2, 3, 4, 5, 6, 7, 8, 9, 1, 2, 3, 4, 5, 6, 7, 8, 9, 1, 2, 3, 4, 5, 6, 7, 8, 9, 1, 2, 3, 4, 5, 6, 7, 8, 9, 1, 2, 3, 4, 5, 6, 7, 8, 9, 1, 2, 3, 4, 6, 7, 8, 9, 1, 2, 3, 4, 5, 6, 7, 8, 9, 1, 2, 3, 4, 5, 6, 7, 8, 9, 1, 3, 5, 6, 8, 9, 2, 3, 4, 5, 9, 1, 2, 3, 4, 5, 6, 7, 8, 9, 1, 2, 3, 4, 5, 6, 7, 8, 9, 3, 8, 9, 1, 2, 3, 4, 5, 6, 7, 8, 9, 2, 3, 4, 5, 6, 7, 9, 1, 2, 3, 4, 5, 6, 7, 8, 9, 2, 4, 5, 9, 1, 2, 3, 4, 5, 6, 7, 8, 9, 2, 3, 4, 6, 7, 8, 9, 2, 3, 4, 6, 7, 8, 9, 1, 3, 4, 5, 7, 8, 9, 1, 2, 3, 4, 5, 6, 7, 8, 9, 1, 2, 3, 4, 5, 6, 7, 8, 9, 1, 2, 3, 4, 5, 7, 8, 1, 2, 3, 4, 5, 6, 7, 8, 9, 1, 2, 3, 4, 5, 6, 7, 8, 9, 1, 2, 3, 4, 5, 6, 7, 8, 9, 1, 2, 3, 4, 5, 6, 7, 8, 9, 1, 2, 3, 4, 5, 6, 7, 8, 9, 1, 2, 3, 5, 6, 7, 8, 9, 1, 2, 3, 4, 5, 6, 7, 8, 9, 1, 2, 3, 5, 7, 8, 1, 2, 3, 4, 5, 6, 7, 8, 9, 1, 2, 3, 4, 5, 6, 7, 8, 9, 2, 4, 5, 9, 1, 2, 3, 4, 5, 6, 7, 8, 9, 1, 2, 3, 4, 5, 6, 7, 8, 9, 1, 2, 4, 5, 9, 1, 2, 3, 4, 5, 6, 7, 8, 9, 1, 2, 3, 4, 5, 6, 7, 8, 9, 1, 2, 3, 4, 5, 6, 7, 8, 9, 1, 2, 3, 4, 5, 6, 7, 8, 9, 1, 2, 3, 4, 5, 6, 7, 8, 9, 1, 2, 3, 4, 5, 6, 7, 8, 9, 1, 2, 3, 4, 5, 6, 7, 8, 9, 2, 3, 5, 6, 9, 1, 2, 3, 4, 5, 6, 7, 8, 9, 5, 6, 7, 1, 2, 3, 4, 6, 7, 9, 1, 2, 3, 4, 5, 6, 7, 8, 9, 2, 4, 5, 6, 7, 1, 2, 3, 4, 5, 6, 7, 8, 9, 1, 2, 3, 4, 5, 6, 7, 8, 9, 1, 2, 3, 4, 5, 6, 7, 8, 9, 2, 7, 8, 9, 1, 3, 6, 8, 1, 6, 7, 8, 1, 2, 3, 4, 5, 6, 7, 8, 9, 2, 3, 4, 5, 7, 9, 1, 9, 1, 2, 3, 4, 5, 6, 7, 8, 9, 1, 2, 3, 4, 5, 6, 7, 8, 9, 2, 1, 3, 4, 8, 1, 2, 3, 4, 5, 6, 7, 8, 9, 1, 2, 3, 4, 6, 9, 1, 2, 3, 4, 5, 6, 7, 8, 9, 1, 2, 4, 5, 7, 8, 1, 2, 3, 4, 5, 6, 7, 8, 9, 1, 2, 3, 4, 5, 6, 7, 8, 9, 1, 2, 3, 4, 5, 6, 7, 8, 9, 6, 1, 3, 5, 6, 7, 8, 3, 4, 6, 7, 8, 9, 2, 1, 2, 4, 7, 9, 1, 2, 3, 4, 5, 6, 7, 8, 9, 1, 2, 3, 4, 5, 6, 7, 8, 9, 1, 2, 3, 4, 5, 6, 7, 8, 9, 5, 7, 1, 2, 3, 4, 5, 6, 7, 8, 9, 1, 2, 3, 4, 5, 6, 7, 8, 9, 1, 2, 3, 4, 5, 6, 7, 8, 9, 5, 6, 7, 9, 5, 8, 9, 1, 3, 4, 5, 7, 8, 4, 6, 8, 1, 2, 3, 4, 6, 8, 9, 1, 2, 3, 4, 5, 6, 7, 8, 9, 1, 2, 3, 4, 5, 6, 7, 8, 9, 1, 2, 3, 4, 5, 6, 7, 8, 9, 1, 4, 6, 1, 2, 3, 4, 5, 6, 7, 8, 9, 1, 2, 3, 4, 5, 6, 7, 8, 9, 1, 2, 3, 4, 5, 6, 7, 8, 9, 1, 2, 3, 4, 8, 9, 1, 2, 3, 4, 5, 6, 7, 8, 9, 1, 2, 3, 5, 1, 2, 3, 4, 5, 6, 7, 8, 9, 5, 1, 4, 6, 9, 1, 3, 5, 6, 8, 9, 1, 2, 3, 5, 6, 8, 9, 2, 6, 8, 9, 2, 3, 5, 7, 9, 1, 2, 6, 7, 1, 2, 3, 4, 5, 6, 7, 8, 9, 1, 2, 3, 4, 5, 6, 7, 8, 9, 1, 2, 3, 4, 5, 6, 7, 8, 9, 1, 2, 3, 4, 5, 6, 7, 8, 9, 1, 5, 6, 1, 2, 3, 4, 5, 6, 7, 8, 9, 2, 4, 5, 6, 7, 9, 1, 2, 3, 4, 5, 6, 7, 8, 9, 2, 3, 4, 5, 7, 9, 1, 2, 3, 4, 5, 7, 1, 2, 3, 4, 5, 6, 7, 8, 9, 1, 2, 3, 4, 5, 6, 7, 8, 9, 3, 4, 6, 8, 2, 3, 4, 5, 7, 8, 9, 1, 2, 3, 4, 5, 6, 7, 8, 9, 1, 7, 8, 1, 2, 3, 4, 5, 6, 7, 8, 9, 1, 2, 3, 4, 5, 6, 7, 8, 9, 2, 3, 4, 5, 7, 8, 9, 1, 2, 3, 4, 5, 6, 7, 8, 9, 1, 2, 3, 4, 5, 6, 7, 8, 9, 1, 2, 3, 4, 5, 6, 7, 8, 9, 1, 2, 3, 4, 5, 6, 7, 8, 9, 2, 3, 8, 1, 6, 1, 2, 3, 4, 5, 6, 7, 8, 9, 1, 2, 3, 4, 5, 6, 7, 8, 9, 1, 2, 3, 4, 5, 6, 7, 8, 9, 1, 2, 3, 4, 5, 6, 7, 8, 9, 1, 2, 3, 4, 5, 6, 7, 8, 9, 1, 2, 3, 4, 5, 7, 8, 9, 1, 2, 3, 4, 5, 6, 7, 8, 9, 1, 2, 3, 4, 5, 6, 7, 8, 9, 1, 4, 5, 7, 8, 1, 2, 3, 4, 5, 6, 7, 8, 9, 1, 2, 3, 4, 6, 7, 8, 9, 1, 2, 3, 4, 5, 6, 7, 8, 9, 1, 2, 3, 4, 5, 6, 7, 8, 9, 1, 2, 3, 4, 5, 6, 7, 8, 9, 1, 2, 3, 4, 5, 6, 7, 8, 9, 1, 2, 3, 4, 5, 6, 7, 8, 9, 1, 2, 3, 4, 5, 6, 7, 8, 9, 3, 6, 8, 1, 2, 3, 4, 5, 6, 7, 8, 9, 1, 2, 3, 4, 5, 6, 7, 9, 3, 4, 6, 8, 2, 3, 4, 6, 7, 8, 9, 1, 2, 3, 4, 5, 6, 7, 8, 9, 4, 6, 8, 9, 1, 3, 5, 7, 8, 9, 1, 2, 3, 4, 5, 6, 7, 8, 9, 1, 2, 3, 4, 6, 7, 8, 1, 2, 3, 4, 5, 6, 7, 8, 9, 1, 3, 4, 5, 6, 7, 8, 1, 2, 3, 4, 5, 6, 7, 8, 9, 1, 2, 3, 4, 5, 6, 7, 8, 9, 1, 2, 3, 4, 5, 6, 7, 8, 9, 1, 2, 3, 4, 5, 6, 7, 8, 9, 1, 5, 6, 7, 1, 2, 4, 5, 6, 7, 8, 1, 3, 5, 6, 7, 8, 9, 1, 2, 3, 4, 5, 6, 7, 8, 9, 1, 2, 3, 4, 5, 6, 7, 8, 9, 1, 3, 4, 6, 7, 8, 9, 3, 4, 6, 9, 1, 2, 3, 4, 5, 6, 7, 8, 9, 1, 7, 6, 7, 8, 1, 6, 1, 2, 3, 4, 5, 6, 7, 8, 9, 1, 2, 3, 4, 5, 6, 7, 8, 9, 2, 3, 4, 5, 6, 7, 9, 1, 3, 4, 7, 8, 1, 2, 3, 4, 5, 6, 7, 8, 9, 1, 2, 3, 4, 5, 6, 7, 8, 9, 1, 2, 3, 4, 5, 6, 7, 8, 9, 1, 2, 3, 4, 5, 6, 7, 8, 9, 1, 2, 3, 4, 5, 6, 7, 8, 9, 1, 2, 5, 2, 5, 3, 6, 7, 9, 3, 6, 8, 9, 1, 2, 3, 4, 5, 6, 7, 8, 9, 2, 3, 5, 6, 7, 1, 6, 7, 1, 2, 3, 4, 5, 6, 7, 8, 9, 1, 2, 3, 4, 5, 6, 7, 8, 9, 1, 2, 3, 4, 5, 6, 8, 9, 2, 3, 4, 6, 7, 8, 9, 1, 2, 3, 4, 5, 6, 7, 8, 9, 1, 2, 3, 4, 5, 6, 7, 8, 9, 1, 3, 4, 5, 6, 1, 2, 3, 4, 5, 6, 7, 8, 9, 2, 4, 5, 1, 2, 3, 4, 5, 6, 7, 8, 9, 1, 2, 3, 4, 5, 6, 7, 8, 9, 1, 2, 3, 4, 5, 6, 7, 8, 9, 1, 2, 3, 4, 5, 6, 7, 8, 9, 1, 2, 4, 5, 6, 7, 1, 2, 3, 4, 5, 6, 7, 8, 9, 1, 2, 3, 4, 5, 6, 7, 8, 9, 2, 4, 5, 8, 9, 1, 2, 3, 4, 5, 6, 7, 8, 9, 1, 2, 4, 5, 6, 8, 1, 2, 4, 5, 1, 3, 4, 6, 7, 8, 9, 1, 2, 3, 4, 5, 6, 7, 8, 9, 1, 2, 3, 4, 5, 6, 7, 8, 9, 1, 2, 3, 4, 5, 6, 7, 8, 9, 1, 2, 3, 4, 5, 6, 7, 8, 9, 9, 1, 2, 7, 8, 1, 2, 5, 6, 1, 2, 3, 4, 5, 6, 7, 8, 9, 1, 2, 3, 4, 5, 6, 7, 8, 9, 3, 5, 6, 7, 8, 9, 1, 2, 3, 4, 5, 6, 7, 8, 9, 1, 2, 3, 4, 5, 6, 7, 8, 9, 1, 2, 3, 4, 6, 8, 1, 2, 3, 4, 5, 6, 7, 8, 9, 1, 5, 7, 8, 1, 2, 8, 9, 1, 2, 3, 4, 5, 6, 7, 8, 9, 1, 2, 3, 4, 5, 6, 7, 8, 9, 1, 2, 3, 4, 5, 7, 9, 1, 2, 3, 4, 5, 6, 7, 8, 9, 1, 2, 3, 4, 5, 6, 7, 8, 9, 1, 2, 3, 4, 5, 6, 7, 8, 9, 7, 1, 3, 5, 6, 8, 9, 1, 6, 7, 1, 1, 5, 6, 7, 1, 2, 3, 4, 5, 6, 7, 8, 9, 3, 4, 5, 6, 7, 9, 6, 1, 2, 3, 4, 5, 6, 7, 8, 9, 1, 2, 3, 4, 5, 6, 7, 8, 9, 1, 2, 3, 4, 5, 6, 7, 8, 9, 1, 2, 3, 4, 5, 6, 7, 8, 9, 1, 1, 2, 3, 4, 5, 6, 7, 8, 9, 1, 2, 3, 4, 5, 6, 7, 8, 9, 1, 2, 3, 4, 5, 6, 7, 8, 9, 1, 2, 3, 4, 5, 6, 7, 8, 9, 1, 2, 3, 4, 5, 6, 7, 8, 9, 6, 1, 2, 3, 4, 5, 6, 7, 8, 9, 2, 3, 7, 9, 1, 2, 3, 4, 5, 6, 7, 8, 9, 1, 2, 3, 4, 5, 6, 7, 8, 9, 1, 2, 3, 4, 5, 6, 7, 8, 9, 1, 2, 3, 4, 5, 6, 7, 8, 9, 1, 2, 3, 4, 5, 6, 7, 8, 9, 1, 2, 3, 4, 5, 6, 7, 8, 9, 1, 4, 5, 6, 7, 8, 1, 2, 3, 4, 5, 6, 7, 8, 9, 1, 2, 3, 4, 5, 6, 7, 8, 9, 2, 4, 5, 1, 2, 3, 4, 5, 6, 7, 8, 9, 1, 2, 3, 4, 5, 6, 7, 8, 9, 1, 2, 3, 4, 5, 6, 7, 8, 9, 1, 2, 5, 6, 7, 8, 1, 2, 3, 4, 5, 6, 7, 8, 9, 1, 5, 8, 9, 1, 2, 3, 4, 5, 7, 8, 9, 1, 2, 3, 4, 5, 6, 7, 8, 9, 1, 2, 3, 4, 5, 6, 7, 8, 9, 2, 5, 3, 4, 5, 6, 9, 2, 4, 5, 6, 7, 9, 1, 2, 3, 4, 5, 6, 8, 1, 2, 3, 4, 5, 6, 7, 8, 9, 1, 2, 3, 4, 5, 6, 7, 8, 9], \"Freq\": [0.9458213692271158, 0.034393081572023525, 0.30953773414821173, 0.034393081572023525, 0.034393081572023525, 0.034393081572023525, 0.034393081572023525, 0.06878616314404705, 0.034393081572023525, 0.48150314200832933, 0.6888142524737643, 0.05740118770614702, 0.05740118770614702, 0.05740118770614702, 0.11480237541229404, 0.13132152247867596, 0.08754768165245064, 0.08754768165245064, 0.04377384082622532, 0.04377384082622532, 0.08754768165245064, 0.04377384082622532, 0.4377384082622532, 0.08754768165245064, 0.9132923864220625, 0.07294112985372912, 0.7294112985372913, 0.07294112985372912, 0.07294112985372912, 0.07294112985372912, 0.07294112985372912, 0.15848793243326195, 0.5547077635164168, 0.07924396621663098, 0.07924396621663098, 0.07924396621663098, 0.07924396621663098, 0.01788708666509042, 0.7154834666036168, 0.01788708666509042, 0.03577417333018084, 0.14309669332072336, 0.01788708666509042, 0.01788708666509042, 0.01788708666509042, 0.032295727625428435, 0.10496111478264242, 0.38754873150514124, 0.05248055739132121, 0.020184829765892774, 0.09688718287628531, 0.08477628501674965, 0.12918291050171374, 0.0888132509699282, 0.11201098475866644, 0.6160604161726654, 0.05600549237933322, 0.11201098475866644, 0.05600549237933322, 0.05600549237933322, 0.05600549237933322, 0.7242230672539959, 0.2896892269015984, 0.022391130294534968, 0.15673791206174478, 0.044782260589069936, 0.4926048664797693, 0.0671733908836049, 0.044782260589069936, 0.044782260589069936, 0.022391130294534968, 0.08956452117813987, 0.16339059035088277, 0.06535623614035312, 0.02904721606237916, 0.021785412046784372, 0.025416314054581765, 0.46112455499026916, 0.1452360803118958, 0.0762489421637453, 0.018154510038986976, 0.0363154059918214, 0.06052567665303566, 0.39341689824473175, 0.05447310898773209, 0.04236797365712496, 0.12710392097137488, 0.1573667592978927, 0.07868337964894635, 0.048420541322428526, 0.029706711427298776, 0.6733521256854389, 0.039608948569731704, 0.05941342285459755, 0.06931565999703047, 0.019804474284865852, 0.039608948569731704, 0.029706711427298776, 0.04951118571216463, 0.17396174917981166, 0.09619495028798908, 0.11536022774000222, 0.07076410136127932, 0.12015154710300552, 0.10430333690230233, 0.13083987491278207, 0.08624374853405917, 0.10209195873476236, 0.03858062749614596, 0.08680641186632841, 0.4195643240205873, 0.05787094124421894, 0.024112892185091224, 0.11091930405141963, 0.033758049059127715, 0.12538703936247436, 0.10127414717738314, 0.09518436895754269, 0.09518436895754269, 0.5711062137452562, 0.09518436895754269, 0.09518436895754269, 0.09518436895754269, 0.09518436895754269, 0.5417585240975947, 0.05576925983357593, 0.0318681484763291, 0.0318681484763291, 0.039835185595411375, 0.13543963102439868, 0.07170333407174048, 0.07170333407174048, 0.02390111135724683, 0.08638238923343612, 0.08638238923343612, 0.08638238923343612, 0.08638238923343612, 0.08638238923343612, 0.08638238923343612, 0.4319119461671806, 0.08638238923343612, 0.3605480293049565, 0.08157195233143812, 0.08483483042469564, 0.02284014665280267, 0.08157195233143812, 0.07667763519155184, 0.14846095324321737, 0.07504619614492307, 0.06852043995840802, 0.08943212305378606, 0.4102954653078276, 0.05802847679062454, 0.12424920912816079, 0.06622073233753624, 0.07782642769566114, 0.05051890920595548, 0.054615036979411336, 0.06963417214874945, 0.056917929128547776, 0.42761418550421787, 0.049620758727451905, 0.11821416049775306, 0.0773500062516162, 0.05108019280767108, 0.06567453360986282, 0.04816132464723273, 0.10653868785599968, 0.09531470257916176, 0.5718882154749706, 0.09531470257916176, 0.19062940515832352, 0.09065115829384682, 0.09065115829384682, 0.09065115829384682, 0.543906949763081, 0.04007288368543888, 0.5226897872013767, 0.04181518297611014, 0.06969197162685023, 0.07840346808020651, 0.04181518297611014, 0.08188806666154902, 0.03136138723208261, 0.0905995631149053, 0.6835936535228107, 0.09765623621754438, 0.09765623621754438, 0.07451033717417005, 0.22353101152251012, 0.22353101152251012, 0.5215723602191903, 0.5890210715278308, 0.027509225868058033, 0.040454743923614755, 0.03964564904514246, 0.04288202855903164, 0.041263838802087054, 0.10518233420139836, 0.06715487491320049, 0.04773659782986541, 0.42690813766127905, 0.06468305116079985, 0.06468305116079985, 0.029107373022359936, 0.11319533953139975, 0.08085381395099982, 0.08408796650903981, 0.08085381395099982, 0.05498059348667988, 0.10879813305947807, 0.0940157780242229, 0.1880315560484458, 0.09815483743409435, 0.07982471719037794, 0.15846684597793545, 0.10288519104537601, 0.09578966062845352, 0.07391177517627587, 0.06353640305753216, 0.06353640305753216, 0.25414561223012866, 0.12707280611506433, 0.5082912244602573, 0.036422644076702114, 0.5799605633751798, 0.028017418520540086, 0.09245748111778228, 0.07844877185751224, 0.02521567666848608, 0.03922438592875612, 0.036422644076702114, 0.08125051370956625, 0.0656599691624482, 0.0656599691624482, 0.6565996916244822, 0.0656599691624482, 0.1313199383248964, 0.0656599691624482, 0.024398922111144215, 0.013554956728413455, 0.03253189614819229, 0.010843965382730763, 0.024398922111144215, 0.008132974037048072, 0.8512512825443649, 0.016265948074096145, 0.018976939419778835, 0.03127548690825477, 0.5272153507391518, 0.04021134031061327, 0.07148682721886804, 0.07595475392004729, 0.03574341360943402, 0.05808304711533028, 0.03127548690825477, 0.1295698743341983, 0.04063897896866106, 0.02031948948433053, 0.06095846845299159, 0.04063897896866106, 0.02031948948433053, 0.7111821319515685, 0.02031948948433053, 0.04063897896866106, 0.04063897896866106, 0.7025196561305557, 0.028100786245222224, 0.05620157249044445, 0.05620157249044445, 0.08430235873566667, 0.028100786245222224, 0.028100786245222224, 0.021447545093119476, 0.8793493488178984, 0.10723772546559737, 0.039656860534424555, 0.039656860534424555, 0.6345097685507929, 0.039656860534424555, 0.07931372106884911, 0.039656860534424555, 0.039656860534424555, 0.07931372106884911, 0.08451336412640993, 0.16902672825281986, 0.08451336412640993, 0.5070801847584596, 0.08451336412640993, 0.08451336412640993, 0.2785697530995721, 0.09285658436652403, 0.09285658436652403, 0.5571395061991442, 0.10803786978765857, 0.6482272187259513, 0.5719384408153749, 0.09532307346922916, 0.19064614693845833, 0.09226810821915428, 0.09226810821915428, 0.09226810821915428, 0.5536086493149257, 0.09226810821915428, 0.031553515270616034, 0.06310703054123207, 0.4890794866945485, 0.04733027290592405, 0.031553515270616034, 0.14199081871777214, 0.031553515270616034, 0.07888378817654008, 0.07888378817654008, 0.9112670622108803, 0.20490471946543443, 0.10245235973271721, 0.10245235973271721, 0.10245235973271721, 0.40980943893086885, 0.03254874122502656, 0.18010303477848028, 0.056417818123379364, 0.29944841927024435, 0.12151530057343249, 0.034718657306694996, 0.04990806987837405, 0.04773815379670562, 0.17793311869681186, 0.09389104452048568, 0.09389104452048568, 0.09389104452048568, 0.563346267122914, 0.08823494154317353, 0.07279382677311817, 0.14558765354623635, 0.08051438415814585, 0.02647048246295206, 0.23161672155083052, 0.09154375185104255, 0.19521980816427145, 0.06727914292666982, 0.07769109174652775, 0.043161717636959855, 0.43161717636959857, 0.09495577880131169, 0.034529374109567884, 0.10358812232870367, 0.06905874821913577, 0.09495577880131169, 0.043161717636959855, 0.6047318207150632, 0.1167026320678192, 0.06365598112790138, 0.1167026320678192, 0.03182799056395069, 0.03182799056395069, 0.010609330187983563, 0.021218660375967126, 0.010609330187983563, 0.811134987727114, 0.054075665848474265, 0.07887232090483712, 0.8675955299532082, 0.054542281164843456, 0.054542281164843456, 0.4908805304835911, 0.054542281164843456, 0.054542281164843456, 0.10908456232968691, 0.16362684349453036, 0.1474039776380917, 0.09448972925518699, 0.050079556505249104, 0.04913465921269723, 0.07559178340414958, 0.2636263446219717, 0.08693055091477203, 0.19275904768058144, 0.039685686287178536, 0.03356009201688538, 0.05034013802532808, 0.4642479395669145, 0.06712018403377076, 0.01678004600844269, 0.05034013802532808, 0.07830688137273256, 0.13424036806754153, 0.10068027605065616, 0.39734814169822735, 0.03612255833620249, 0.5418383750430373, 0.7160035058812059, 0.08950043823515073, 0.08950043823515073, 0.005554390758468691, 0.005554390758468691, 0.005554390758468691, 0.9720183827320208, 0.005554390758468691, 0.005554390758468691, 0.6561007522747628, 0.09648540474628865, 0.01929708094925773, 0.01929708094925773, 0.05789124284777319, 0.05789124284777319, 0.03859416189851546, 0.05789124284777319, 0.03859416189851546, 0.9118739445409166, 0.05690483090663983, 0.12115222063994285, 0.3175656692531835, 0.08076814709329524, 0.034877154426650216, 0.15419373535992728, 0.06608302943996883, 0.08627506621329264, 0.08260378679996104, 0.08832521654005324, 0.08832521654005324, 0.08832521654005324, 0.08832521654005324, 0.08832521654005324, 0.08832521654005324, 0.5299512992403195, 0.08832521654005324, 0.11101404093724324, 0.15801595343083413, 0.12623370783992982, 0.09668964855824412, 0.13026244319652333, 0.0805747071318701, 0.08236525617924499, 0.08102234439371382, 0.1338435412912731, 0.12398003481384913, 0.13025372332250174, 0.16819460144625797, 0.06990681481070046, 0.11023766950918151, 0.15325724785422795, 0.07020556188254107, 0.09619655713267329, 0.07737549160671547, 0.05505457248305824, 0.05505457248305824, 0.6056002973136407, 0.05505457248305824, 0.11010914496611648, 0.11010914496611648, 0.10888991752449406, 0.1711767427751306, 0.0853643180593256, 0.10888991752449406, 0.1597500230349059, 0.09387834453243418, 0.09723914445602967, 0.08603647804404468, 0.08917322463940049, 0.7009554674294478, 0.07009554674294478, 0.14019109348588957, 0.14741754125103096, 0.07370877062551548, 0.14741754125103096, 0.14741754125103096, 0.5159613943786084, 0.7629273157723631, 0.0762927315772363, 0.0762927315772363, 0.0809340810797278, 0.6474726486378224, 0.0809340810797278, 0.0809340810797278, 0.6384206575348906, 0.07093562861498785, 0.07093562861498785, 0.07093562861498785, 0.07093562861498785, 0.07093562861498785, 0.01986038419676797, 0.8142757520674869, 0.01986038419676797, 0.03972076839353594, 0.01986038419676797, 0.01986038419676797, 0.03972076839353594, 0.03972076839353594, 0.6914804762492919, 0.07683116402769909, 0.15366232805539817, 0.07683116402769909, 0.8083490302822426, 0.11547843289746322, 0.05773921644873161, 0.06486484686478913, 0.032432423432394566, 0.032432423432394566, 0.7135133155126805, 0.032432423432394566, 0.06486484686478913, 0.06486484686478913, 0.4129793240229514, 0.06035851658796982, 0.06035851658796982, 0.06035851658796982, 0.0794191007736445, 0.13660085333066854, 0.06988880868080716, 0.0794191007736445, 0.04129793240229514, 0.0737512890419577, 0.5900103123356616, 0.0737512890419577, 0.0737512890419577, 0.0737512890419577, 0.0737512890419577, 0.06870591757899962, 0.06870591757899962, 0.20611775273699884, 0.13741183515799923, 0.5496473406319969, 0.8220593872613854, 0.044698140157892065, 0.044698140157892065, 0.044698140157892065, 0.044698140157892065, 0.7598683826841651, 0.044698140157892065, 0.037842562573185384, 0.09315092325707172, 0.3580488612693694, 0.0640412597392368, 0.02328773081426793, 0.15137025029274154, 0.061130293387453315, 0.14263735123739107, 0.06695222609102029, 0.09319029585306003, 0.7455223668244803, 0.08008461452229873, 0.8408884524841366, 0.040042307261149365, 0.020021153630574683, 0.04532151895000835, 0.04532151895000835, 0.04532151895000835, 0.5891797463501085, 0.04532151895000835, 0.04532151895000835, 0.13596455685002504, 0.073187566029091, 0.6586880942618191, 0.146375132058182, 0.05053847949695761, 0.10107695899391522, 0.10107695899391522, 0.5053847949695761, 0.05053847949695761, 0.05053847949695761, 0.05053847949695761, 0.05053847949695761, 0.10107695899391522, 0.8460180087729188, 0.08460180087729188, 0.04230090043864594, 0.04655588028554972, 0.09828463615838273, 0.14484051644393245, 0.05690163146011632, 0.4293486737445141, 0.02586437793641651, 0.05172875587283302, 0.07759313380924952, 0.06724738263468293, 0.8601014756354706, 0.5637982701999534, 0.049455988614031006, 0.049455988614031006, 0.049455988614031006, 0.039564790891224805, 0.039564790891224805, 0.07912958178244961, 0.06923838405964342, 0.05934718633683721, 0.10510922907907876, 0.05255461453953938, 0.2102184581581575, 0.10510922907907876, 0.5255461453953938, 0.15268858093134394, 0.1246364928067482, 0.07030776517303744, 0.0962293149590563, 0.11469398056005603, 0.10723709637503691, 0.12428140308365204, 0.08912752049713332, 0.12108559557578671, 0.19940024810420093, 0.06494461006956162, 0.1161899664525751, 0.11010140925855369, 0.10452023183070074, 0.09741691510434243, 0.10807189019387989, 0.1161899664525751, 0.08371766141779428, 0.04943683352485764, 0.01647894450828588, 0.03295788901657176, 0.0823947225414294, 0.04943683352485764, 0.7085946138562929, 0.01647894450828588, 0.03295788901657176, 0.01647894450828588, 0.018446867545912085, 0.664087231652835, 0.027670301318868128, 0.09223433772956043, 0.03689373509182417, 0.027670301318868128, 0.03689373509182417, 0.027670301318868128, 0.06456403641069229, 0.06879234087751325, 0.06879234087751325, 0.6191310678976193, 0.06879234087751325, 0.06879234087751325, 0.06879234087751325, 0.06879234087751325, 0.06879234087751325, 0.07145878886738373, 0.14291757773476746, 0.08575054664086049, 0.08575054664086049, 0.11433406218781397, 0.028583515546953493, 0.028583515546953493, 0.057167031093906986, 0.3858774598838722, 0.06407156293459489, 0.12814312586918977, 0.06407156293459489, 0.06407156293459489, 0.5125725034767591, 0.12814312586918977, 0.10161365170579768, 0.12692916354945663, 0.14029012813360994, 0.13818050214663838, 0.08333022648537734, 0.13325804151037135, 0.06469519693379507, 0.10266846469928348, 0.10899734266019821, 0.1373672547824658, 0.1062841533353385, 0.1062841533353385, 0.19502139456342774, 0.07921177465558248, 0.1062841533353385, 0.06417156427794023, 0.10728683402718132, 0.09826270780059598, 0.037824705311554796, 0.037824705311554796, 0.07564941062310959, 0.037824705311554796, 0.7943188115426507, 0.037824705311554796, 0.037824705311554796, 0.037824705311554796, 0.08858584205849214, 0.17717168411698428, 0.620100894409445, 0.08694187557523396, 0.18666932108800233, 0.09397393904087789, 0.10867734446904245, 0.13105209185972766, 0.07415630563769955, 0.09269538204712445, 0.07415630563769955, 0.15214828225665944, 0.06221025393165158, 0.24884101572660633, 0.06221025393165158, 0.49768203145321266, 0.12442050786330316, 0.047991352472443335, 0.047991352472443335, 0.09598270494488667, 0.4799135247244334, 0.047991352472443335, 0.047991352472443335, 0.09598270494488667, 0.047991352472443335, 0.047991352472443335, 0.9378830716868581, 0.03473641006247623, 0.31655032398850386, 0.060729078942638626, 0.04175124177306405, 0.05693351150872371, 0.0751522351915153, 0.1366404276209369, 0.13891776808128586, 0.14043599505485183, 0.03188276644488528, 0.10036293308614508, 0.5018146654307254, 0.10036293308614508, 0.10036293308614508, 0.024573013372282716, 0.22115712035054444, 0.024573013372282716, 0.04914602674456543, 0.07371904011684814, 0.024573013372282716, 0.024573013372282716, 0.04914602674456543, 0.4914602674456543, 0.026358287946283466, 0.06589571986570866, 0.13179143973141733, 0.06589571986570866, 0.0395374319194252, 0.05271657589256693, 0.0395374319194252, 0.06589571986570866, 0.5139866149525276, 0.03132844397184604, 0.06265688794369208, 0.4949894147551674, 0.0814539543267997, 0.018797066383107623, 0.11278239829864573, 0.05639119914932286, 0.06265688794369208, 0.0814539543267997, 0.0923945699145719, 0.18077198461546676, 0.14739869514799597, 0.11155331016441625, 0.09486666543068085, 0.12267773998690651, 0.10506405943463025, 0.07292681772521395, 0.0723087938461867, 0.11806127426561754, 0.05903063713280877, 0.05903063713280877, 0.05903063713280877, 0.05903063713280877, 0.5312757341952788, 0.05903063713280877, 0.19666122411167872, 0.4916530602791968, 0.09833061205583936, 0.09833061205583936, 0.09833061205583936, 0.07325391855363951, 0.5860313484291161, 0.07325391855363951, 0.07325391855363951, 0.07325391855363951, 0.049643988836742294, 0.09928797767348459, 0.09928797767348459, 0.5460838772041653, 0.049643988836742294, 0.049643988836742294, 0.049643988836742294, 0.049643988836742294, 0.049643988836742294, 0.2534648467111859, 0.05069296934223718, 0.05069296934223718, 0.10138593868447436, 0.5069296934223718, 0.04464336056478074, 0.04464336056478074, 0.04464336056478074, 0.8482238507308342, 0.08847105718178155, 0.5308263430906893, 0.08847105718178155, 0.1769421143635631, 0.6974979148611213, 0.08718723935764017, 0.08718723935764017, 0.08718723935764017, 0.033612779766296244, 0.22184434645755519, 0.04705789167281474, 0.39663080124229566, 0.10083833929888872, 0.04033533571955549, 0.04705789167281474, 0.033612779766296244, 0.09411578334562948, 0.24687387072590916, 0.08229129024196973, 0.4937477414518183, 0.19039259089055258, 0.7139722158395722, 0.09519629544527629, 0.07258986679205866, 0.07258986679205866, 0.217769600376176, 0.07258986679205866, 0.5081290675444106, 0.12777712697733018, 0.07996935838036992, 0.10517709091331261, 0.06693087603574438, 0.08431551916191175, 0.20948494967031683, 0.1416848414782641, 0.0973540015065373, 0.08692321563083687, 0.20001452016839136, 0.0909937302053626, 0.09271059303942604, 0.06781608194550609, 0.07811725894988676, 0.11932196696740945, 0.11159608421412394, 0.15623451789977352, 0.08412627886910881, 0.6393401760756654, 0.0913343108679522, 0.2740029326038566, 0.07432352417991384, 0.1537728086480976, 0.1332697674950179, 0.1289983005881263, 0.17342155641979895, 0.096108005405061, 0.07859499108680544, 0.08201216461231872, 0.07987643115887291, 0.7646764813441854, 0.09558456016802318, 0.09558456016802318, 0.09558456016802318, 0.10346990712857662, 0.10346990712857662, 0.5173495356428831, 0.10346990712857662, 0.10346990712857662, 0.10346990712857662, 0.07668465304346106, 0.07668465304346106, 0.07668465304346106, 0.4601079182607663, 0.15336930608692212, 0.07668465304346106, 0.2105493714369535, 0.10697724128265697, 0.12031392653540199, 0.09222175972642842, 0.08597905599110095, 0.10924731536823058, 0.07462868556323284, 0.0913704819443383, 0.10867979684683718, 0.635444304380885, 0.14120984541797443, 0.14120984541797443, 0.30222525362125685, 0.06774336954234983, 0.061942141763861314, 0.07335746094088712, 0.06774336954234983, 0.16973269661577706, 0.10086650879371978, 0.12631705646708877, 0.02994182079219882, 0.09897302588131213, 0.12881048221317828, 0.0946065688571366, 0.13281306781867253, 0.06222201259450138, 0.14009049619229844, 0.08587365480878553, 0.1138917540472452, 0.14263759612306748, 1.0160359928463738, 0.029414509856571784, 0.6000560010740643, 0.023531607885257426, 0.10000933351234406, 0.05882901971314357, 0.01764870591394307, 0.041180313799200494, 0.041180313799200494, 0.08824352956971535, 0.19165238974092794, 0.07558122412318284, 0.1790555190537308, 0.05218703570410244, 0.1565611071123073, 0.055786141614730195, 0.16915797779950445, 0.062084576958328766, 0.056685918092387134, 0.2033638650273937, 0.02033638650273937, 0.2847094110383512, 0.10168193251369685, 0.3660549570493087, 0.04067277300547874, 0.2591703459844225, 0.1555022075906535, 0.0518340691968845, 0.4665066227719605, 0.10365161008572049, 0.1439605695635007, 0.09877909850049432, 0.09036294212601274, 0.12845712361050832, 0.08859111973138505, 0.11295367765751593, 0.08194678575153116, 0.15149081474066842, 0.0419178205780496, 0.10276626980425065, 0.09870970652250391, 0.3272294380609034, 0.18119315991802087, 0.039213445056885114, 0.06355282474736552, 0.05814407370503655, 0.08789220443784594, 0.03559220702986667, 0.4649232043276334, 0.03559220702986667, 0.16016493163440002, 0.10900113402896668, 0.02224512939366667, 0.03559220702986667, 0.04449025878733334, 0.09342954345340002, 0.0576687059734164, 0.6343557657075803, 0.0576687059734164, 0.1730061179202492, 0.07909494651727965, 0.8700444116900762, 0.031323733138195066, 0.06264746627639013, 0.06264746627639013, 0.7204458621784865, 0.031323733138195066, 0.06264746627639013, 0.1926685503645567, 0.6743399262759485, 0.06652320171337724, 0.14866489426380827, 0.08676939353918771, 0.3829422568196151, 0.07867091680886353, 0.03991392102802634, 0.07896014812066081, 0.03181544429770216, 0.08561246829199853, 0.029371035081020912, 0.029371035081020912, 0.029371035081020912, 0.058742070162041825, 0.029371035081020912, 0.8223889822685856, 0.029371035081020912, 0.029371035081020912, 0.029371035081020912, 0.08576880911590168, 0.8148036866010658, 0.04288440455795084, 0.0249853160570567, 0.0999412642282268, 0.0749559481711701, 0.0499706321141134, 0.0499706321141134, 0.5246916371981908, 0.12492658028528351, 0.0499706321141134, 0.1077202366863558, 0.7540416568044906, 0.16158035502953372, 0.13494309369133026, 0.09789989150155332, 0.12065500141813058, 0.1053085319395087, 0.14605605434826333, 0.09631232569342002, 0.11695068119915289, 0.07937829040666486, 0.10213340032324211, 0.13391503883661202, 0.06695751941830601, 0.06695751941830601, 0.06695751941830601, 0.6026176747647541, 0.06825075186658448, 0.16092149752029553, 0.08014767191672308, 0.1778276470652293, 0.10081074358275324, 0.1195953541882352, 0.09517536040110865, 0.07952151822987368, 0.11709073944083762, 0.10160416983029133, 0.050802084915145665, 0.10160416983029133, 0.6604271038968937, 0.1972983210530348, 0.0986491605265174, 0.5918949631591044, 0.07563975504054274, 0.03781987752027137, 0.5672981628040705, 0.03781987752027137, 0.03781987752027137, 0.03781987752027137, 0.07563975504054274, 0.07563975504054274, 0.03781987752027137, 0.13809966693774056, 0.059898650719983855, 0.10024704738552855, 0.0782010162177567, 0.11272593295219184, 0.12229307855330038, 0.08402449614886624, 0.14933066394773753, 0.1555701067310692, 0.02070233064939397, 0.2070233064939397, 0.02070233064939397, 0.1449163145457578, 0.062106991948181915, 0.02070233064939397, 0.08280932259757588, 0.02070233064939397, 0.4140466129878794, 0.8981934127465181, 0.07611808582597611, 0.015223617165195222, 0.1353908419872741, 0.10722227754696875, 0.08768601511256342, 0.0958639854339424, 0.14765779746934254, 0.1135829211302635, 0.1076766092314898, 0.11676324292191088, 0.08814034679708448, 0.7162889447228655, 0.07958766052476283, 0.07958766052476283, 0.07958766052476283, 0.09883751675937892, 0.19767503351875784, 0.5930251005562736, 0.09883751675937892, 0.0970243427033924, 0.5821460562203544, 0.0970243427033924, 0.0970243427033924, 0.0970243427033924, 0.0970243427033924, 0.1070692974111661, 0.10788042845215977, 0.15127593914532178, 0.08881884898880824, 0.12004739406706501, 0.1249141803130271, 0.12004739406706501, 0.0993635525217261, 0.08111310409936826, 0.09362601694974322, 0.09362601694974322, 0.18725203389948644, 0.6553821186482025, 0.13015382874092082, 0.026030765748184165, 0.026030765748184165, 0.026030765748184165, 0.10412306299273666, 0.026030765748184165, 0.6507691437046041, 0.03426459012349882, 0.03426459012349882, 0.03426459012349882, 0.03426459012349882, 0.03426459012349882, 0.03426459012349882, 0.6167626222229787, 0.06852918024699764, 0.06852918024699764, 0.1655909321230947, 0.06623637284923788, 0.03311818642461894, 0.06623637284923788, 0.03311818642461894, 0.09935455927385682, 0.563009169218522, 0.03311818642461894, 0.3130366505274895, 0.07748431943749741, 0.07128557388249762, 0.04106668930187363, 0.07438494665999752, 0.09917992887999669, 0.11622647915624612, 0.13249818623812057, 0.07593463304874747, 0.04067574438747287, 0.5830190028871112, 0.027117162924981918, 0.013558581462490959, 0.0677929073124548, 0.013558581462490959, 0.04067574438747287, 0.21693730339985534, 0.32346013412657154, 0.07205795067176099, 0.05284249715929139, 0.07686181404987838, 0.13771075017269876, 0.12169787224564077, 0.06245022391552619, 0.08326696522070158, 0.06885537508634938, 0.20093645228361007, 0.10046822614180503, 0.10046822614180503, 0.6028093568508303, 0.036331162404627304, 0.628808580080088, 0.03213910520409338, 0.08244379161050042, 0.04890733400622906, 0.018165581202313652, 0.03493381000444933, 0.025152343203203517, 0.09501996321210218, 0.1611392244050509, 0.07602865177243143, 0.1896824042513562, 0.09315455968021462, 0.10275544744669912, 0.08796489061725, 0.11365375247892479, 0.06876311508428098, 0.10716666615021904, 0.08299506546137407, 0.10670794130748096, 0.06323433558961834, 0.1106600872818321, 0.14227725507664127, 0.1462294010509924, 0.047425751692213754, 0.2371287584610688, 0.0592821896152672, 0.2732826067791353, 0.07225777399583917, 0.07874244602110678, 0.02593868810107047, 0.09819646209690963, 0.11765047817271249, 0.16211680063169043, 0.10097560725059576, 0.07225777399583917, 0.023879093676494434, 0.023879093676494434, 0.023879093676494434, 0.04775818735298887, 0.023879093676494434, 0.8118891850008108, 0.023879093676494434, 0.023879093676494434, 0.023879093676494434, 0.04490289143634457, 0.06380937204112123, 0.051992821663135826, 0.04017627128515041, 0.0543561317387329, 0.06617268211671833, 0.4632087748170282, 0.11343888362865998, 0.09925902317507748, 0.04932130791610789, 0.22476424607483456, 0.08525540368355793, 0.3079058794191307, 0.07539114210033634, 0.054958028820805936, 0.059185569499329474, 0.06552688051711478, 0.07750491243959812, 0.04105596307552315, 0.1642238523020926, 0.04105596307552315, 0.533727519981801, 0.0821119261510463, 0.04105596307552315, 0.04105596307552315, 0.04105596307552315, 0.04105596307552315, 0.05760529910306779, 0.18721722208497033, 0.07200662387883473, 0.4320397432730084, 0.05760529910306779, 0.05760529910306779, 0.04320397432730084, 0.028802649551533895, 0.05760529910306779, 0.07177632060072867, 0.12855460406100655, 0.05999214856180306, 0.25175276628613785, 0.10070110651445513, 0.1467665063029825, 0.04285153468700219, 0.1060575483503304, 0.09105951120987964, 0.05466372005677572, 0.13022827425290687, 0.0852110930296798, 0.29421943442323406, 0.07878006714064736, 0.14469808250322985, 0.02572410355612975, 0.09968090128000279, 0.08681884950193791, 0.022996973925236565, 0.08815506671340684, 0.4292768466044159, 0.09965355367602512, 0.015331315950157711, 0.06515809278817027, 0.05365960582555199, 0.10731921165110397, 0.11881769861372225, 0.18507958163194382, 0.10726203026396744, 0.12128321069062985, 0.08529551426219632, 0.12829380090396106, 0.07875229672975387, 0.12128321069062985, 0.10679465758307868, 0.06566586166486896, 0.08382420666102566, 0.12135743352417148, 0.1276129713346958, 0.14262626207995413, 0.17140173600836592, 0.05442317895156144, 0.12511075621048606, 0.098837497406284, 0.07569200750734408, 0.10729793386944272, 0.1038367101962349, 0.058148557709891545, 0.0629942708523825, 0.1038367101962349, 0.05330284456740058, 0.40773214870388236, 0.04222692881313553, 0.061609781383099374, 0.038327670879712, 0.11498301263913599, 0.076655341759424, 0.536587392315968, 0.038327670879712, 0.076655341759424, 0.038327670879712, 0.076655341759424, 0.030713832401720927, 0.07166560893734883, 0.4504695418919069, 0.061427664803441855, 0.02047588826781395, 0.07166560893734883, 0.0819035530712558, 0.0819035530712558, 0.14333121787469766, 0.8394611633864487, 0.01865469251969886, 0.03730938503939772, 0.01865469251969886, 0.01865469251969886, 0.03730938503939772, 0.03730938503939772, 0.6864919712388817, 0.08581149640486022, 0.14758291642660637, 0.19051612847798277, 0.13991627141743201, 0.09506639811376202, 0.08931641435688126, 0.06938313733302792, 0.07053313408440408, 0.09314973686146844, 0.10426637212477124, 0.07788580385748424, 0.4283719212161633, 0.07559504492049941, 0.10079339322733255, 0.09392111641637806, 0.0526874555506511, 0.045815178739696615, 0.0297798661808028, 0.09163035747939323, 0.25510235456682284, 0.08503411818894095, 0.5102047091336457, 0.7216562174369286, 0.05551201672591759, 0.16653605017775278, 0.05551201672591759, 0.015861917859108628, 0.05816036548339829, 0.38597333457164323, 0.04229844762428967, 0.021149223812144836, 0.11632073096679658, 0.047585753577325876, 0.05816036548339829, 0.25379068574573804, 0.028546540565945484, 0.051383773018701874, 0.43390741660237137, 0.022837232452756387, 0.028546540565945484, 0.06280238924508007, 0.08563962169783645, 0.07422100547145825, 0.2055350920748075, 0.18426684095925952, 0.12164314684352094, 0.07433747862659613, 0.08695232348444275, 0.06712899585068378, 0.16489404349899506, 0.09100709504589345, 0.12704950892545522, 0.08289755192299206, 0.050439539333841425, 0.7061535506737799, 0.050439539333841425, 0.12609884833460355, 0.025219769666920713, 0.025219769666920713, 0.025219769666920713, 0.7398517176067183, 0.14797034352134364, 0.049323447840447884, 0.1220908906504943, 0.08139392710032953, 0.08879337501854132, 0.17018730211887084, 0.07029475522301187, 0.09619282293675309, 0.059195583345694205, 0.2515812292192004, 0.0628953073048001, 0.6950535071838745, 0.04088550042258085, 0.04088550042258085, 0.04088550042258085, 0.04088550042258085, 0.12265650126774255, 0.04088550042258085, 0.04088550042258085, 0.036534122068633844, 0.12786942724021846, 0.05480118310295076, 0.5297447699951907, 0.036534122068633844, 0.018267061034316922, 0.036534122068633844, 0.018267061034316922, 0.12786942724021846, 0.1316803347403806, 0.10124478567302848, 0.17888649247749816, 0.09534401595588878, 0.09410174864701727, 0.06677186785184394, 0.12329503040549787, 0.09472288230145302, 0.11366745876174363, 0.27305169981642674, 0.1820344665442845, 0.5461033996328535, 0.06758517161509324, 0.11264195269182206, 0.06758517161509324, 0.3416805898318603, 0.14267980674297462, 0.04130204932033476, 0.05256624458951696, 0.05632097634591103, 0.11264195269182206, 0.04850046104630733, 0.04850046104630733, 0.09700092209261466, 0.09700092209261466, 0.5335050715093806, 0.04850046104630733, 0.04850046104630733, 0.04850046104630733, 0.09700092209261466, 0.5412245586383472, 0.0297376131119971, 0.03568513573439652, 0.03568513573439652, 0.06542274884639362, 0.04163265835679594, 0.10110788458079015, 0.09516036195839073, 0.0594752262239942, 0.5612641574384586, 0.0493160975155131, 0.03992255513160584, 0.032877398343675396, 0.0493160975155131, 0.05636125430344354, 0.09393542383907257, 0.05870963989942036, 0.05870963989942036, 0.057080877760960366, 0.1635290011530216, 0.044739066353185156, 0.17895626541274062, 0.3393998137138184, 0.03393998137138184, 0.046281792779157054, 0.052452698483044666, 0.0833072270024827, 0.03741175236118603, 0.4592615117442147, 0.04515211491867279, 0.13803646560851396, 0.11997561964104485, 0.0219310272462125, 0.05031235662366397, 0.036121691934938235, 0.09288435068984117, 0.023853499764988708, 0.14312099858993227, 0.08587259915395935, 0.07792143256562978, 0.10177493233061849, 0.042936299576979677, 0.08587259915395935, 0.0572483994359729, 0.38006576292215344, 0.06434895004367848, 0.06434895004367848, 0.8365363505678203, 0.05201729633798422, 0.1902450768165437, 0.21097924388832762, 0.20297658291325313, 0.08912054267696598, 0.05856492804486336, 0.06911389023927973, 0.04219584877766552, 0.08475545487237988, 0.09284809268791215, 0.09284809268791215, 0.5570885561274729, 0.09284809268791215, 0.09284809268791215, 0.04309986638936425, 0.6120181027289724, 0.02585991983361855, 0.0861997327787285, 0.13791957244596562, 0.017239946555745702, 0.034479893111491404, 0.02585991983361855, 0.02585991983361855, 0.036555078354517066, 0.036555078354517066, 0.07311015670903413, 0.036555078354517066, 0.8042117237993754, 0.036555078354517066, 0.09360546985915995, 0.09360546985915995, 0.6552382890141196, 0.0497699266960822, 0.3443757831067623, 0.0947234088731887, 0.08107681606942423, 0.158942669126198, 0.057797334227708365, 0.059402815734033595, 0.061008297240358826, 0.09231518661370086, 0.09020680386377167, 0.7216544309101733, 0.09020680386377167, 0.024065146041982115, 0.6978892352174814, 0.024065146041982115, 0.04813029208396423, 0.04813029208396423, 0.024065146041982115, 0.04813029208396423, 0.024065146041982115, 0.07219543812594634, 0.05437478501860242, 0.07154576976131898, 0.18601900137942934, 0.12735147017514778, 0.2733048404882385, 0.048651123437696904, 0.10016407766584656, 0.0629602773899607, 0.07583851594699811, 0.025853159582263627, 0.10341263832905451, 0.4653568724807453, 0.07755947874679088, 0.012926579791131813, 0.12926579791131815, 0.03877973937339544, 0.06463289895565907, 0.06463289895565907, 0.05380485850895482, 0.065761493733167, 0.12853382866028096, 0.10760971701790964, 0.2779917689629332, 0.131522987466334, 0.065761493733167, 0.10163139940580354, 0.06875065253922004, 0.11389684059418123, 0.11389684059418123, 0.6074498165022999, 0.037965613531393744, 0.037965613531393744, 0.037965613531393744, 0.037965613531393744, 0.04679820017666452, 0.18293841887241585, 0.04254381834242229, 0.07657887301636013, 0.03403505467393783, 0.03403505467393783, 0.09359640035332904, 0.0723244911821179, 0.41267503792149623, 0.0803747285830286, 0.1960359233732405, 0.10193868015408505, 0.21106534416518893, 0.14833384868575197, 0.075800557037653, 0.06403840163525856, 0.05423660546659654, 0.06795912010272337, 0.12165307977565731, 0.11690100634692069, 0.09504146857473227, 0.07698358954553314, 0.09789271263197424, 0.11500017697542605, 0.12450432383289928, 0.1710746434345181, 0.08078524828852243, 0.05302838462368402, 0.5833122308605242, 0.05302838462368402, 0.05302838462368402, 0.10605676924736804, 0.10605676924736804, 0.9912439905449132, 0.04049503075634966, 0.08099006151269932, 0.04049503075634966, 0.48594036907619587, 0.08099006151269932, 0.04049503075634966, 0.04049503075634966, 0.08099006151269932, 0.08099006151269932, 0.20292728656810669, 0.020292728656810668, 0.040585457313621336, 0.020292728656810668, 0.6493673170179414, 0.020292728656810668, 0.040585457313621336, 0.15565468371296118, 0.13788096550352272, 0.10448791917063831, 0.1637336465354332, 0.0802510307032222, 0.10771950429962712, 0.09587035882666814, 0.07701944557423339, 0.07755804309573153, 0.15290100979234814, 0.09932031405314921, 0.09932031405314921, 0.0921326597466713, 0.08625185167773484, 0.10193400652823208, 0.14244623989201663, 0.1378722780606216, 0.08821212103404699, 0.05699583487986928, 0.05699583487986928, 0.34197500927921565, 0.5129625139188235, 0.11998695793783755, 0.0966953719851985, 0.13233855654908552, 0.10587084523926843, 0.11222309595362454, 0.12069276357276601, 0.12033986075530179, 0.10692955369166111, 0.08504957900887897, 0.19676209675881542, 0.039352419351763084, 0.039352419351763084, 0.049190524189703856, 0.049190524189703856, 0.05902862902764463, 0.21643830643469697, 0.30498124997616394, 0.039352419351763084, 0.7917481066654152, 0.0659790088887846, 0.08790452439349253, 0.2637135731804776, 0.08790452439349253, 0.08790452439349253, 0.5274271463609552, 0.11160729204154464, 0.11160729204154464, 0.6696437522492679, 0.05993705315748742, 0.1678237488409648, 0.04794964252598994, 0.05993705315748742, 0.07192446378898491, 0.03596223189449246, 0.03596223189449246, 0.04794964252598994, 0.4675090146284019, 0.07069853595921592, 0.10604780393882388, 0.10604780393882388, 0.5302390196941194, 0.03534926797960796, 0.03534926797960796, 0.10604780393882388, 0.03534926797960796, 0.04452215858386316, 0.6233102201740842, 0.08904431716772632, 0.04452215858386316, 0.04452215858386316, 0.13356647575158948, 0.04452215858386316, 0.33275420687907936, 0.05130571471703867, 0.04104457177363093, 0.04397632690031886, 0.08502089867394978, 0.153917144151116, 0.17004179734789956, 0.08648677623729376, 0.03664693908359905, 0.04082838761408314, 0.7757393646675796, 0.04082838761408314, 0.04082838761408314, 0.04082838761408314, 0.04082838761408314, 0.01642294682517833, 0.6322834527693657, 0.041057367062945826, 0.08211473412589165, 0.057480313888124156, 0.024634420237767494, 0.041057367062945826, 0.024634420237767494, 0.07390326071330248, 0.10336156536495639, 0.10621685722586678, 0.12677495862442165, 0.16503586956062097, 0.09765098164313558, 0.08851404768822232, 0.10907214908677718, 0.11478273280859798, 0.08851404768822232, 0.14256542659187982, 0.178712334397977, 0.07027161097968544, 0.15798473691476045, 0.09731859793949243, 0.12411280932023581, 0.06117169013339525, 0.07178826445406715, 0.09580194446511074, 0.13082295878019115, 0.10952619804853213, 0.1629371217882484, 0.06828485186976385, 0.12609034528426694, 0.091947919349385, 0.10344140926805812, 0.09600444520303433, 0.11121641715421934, 0.18106824661111512, 0.14020895139438744, 0.08675603778894232, 0.07864015038287998, 0.11754043829469606, 0.08899490328026988, 0.14356724963137876, 0.0716436957224814, 0.09151362695801336, 0.03991849979513607, 0.03991849979513607, 0.558858997131905, 0.07983699959027214, 0.07983699959027214, 0.03991849979513607, 0.03991849979513607, 0.15967399918054428, 0.023786778765201834, 0.023786778765201834, 0.023786778765201834, 0.0713603362956055, 0.023786778765201834, 0.7849636992516605, 0.023786778765201834, 0.023786778765201834, 0.023786778765201834, 0.035604285321232255, 0.09710259633063344, 0.2799791527533264, 0.08901071330308065, 0.03236753211021114, 0.15698253073452406, 0.07444532385348564, 0.11490473899124956, 0.11975986880778124, 0.06996438216059706, 0.03498219108029853, 0.594697248365075, 0.1399287643211941, 0.03498219108029853, 0.06996438216059706, 0.09652363151528852, 0.09652363151528852, 0.09652363151528852, 0.09652363151528852, 0.48261815757644255, 0.05318628078572682, 0.1039550033539206, 0.11846035265911882, 0.28285431145136536, 0.11604279444158579, 0.04109848969806163, 0.09428477048378846, 0.06769163009092505, 0.12571302731171793, 0.022474056510715976, 0.05618514127678994, 0.46071815846967745, 0.06742216953214793, 0.022474056510715976, 0.12360731080893786, 0.05618514127678994, 0.07865919778750591, 0.10113325429822188, 0.10259002729060697, 0.10259002729060697, 0.6155401637436418, 0.02117287077383872, 0.677531864762839, 0.0264660884672984, 0.08469148309535487, 0.07410504770843551, 0.01058643538691936, 0.037052523854217756, 0.03175930616075808, 0.037052523854217756, 0.7551717140547632, 0.04442186553263314, 0.04442186553263314, 0.04442186553263314, 0.04442186553263314, 0.04442186553263314, 0.04442186553263314, 0.015195436506025317, 0.6837946427711392, 0.030390873012050634, 0.030390873012050634, 0.030390873012050634, 0.015195436506025317, 0.04558630951807595, 0.04558630951807595, 0.07597718253012659, 0.2498879996970559, 0.08329599989901863, 0.08329599989901863, 0.5830719992931305, 0.5794544608955694, 0.032799309107296386, 0.032799309107296386, 0.043732412143061845, 0.043732412143061845, 0.07653172125035823, 0.08746482428612369, 0.07653172125035823, 0.032799309107296386, 0.13833181995643304, 0.06916590997821652, 0.06916590997821652, 0.06916590997821652, 0.06916590997821652, 0.06916590997821652, 0.4841613698475156, 0.0764882852248988, 0.573662139186741, 0.0764882852248988, 0.0764882852248988, 0.0382441426124494, 0.0764882852248988, 0.0764882852248988, 0.12590348023987516, 0.1510841762878502, 0.2266262644317753, 0.025180696047975033, 0.050361392095950065, 0.4028911367676005, 0.025180696047975033, 0.10181721627470751, 0.22302818803031169, 0.15805910716930785, 0.11005956235408859, 0.11975644009453693, 0.07612049026251942, 0.07369627082740733, 0.05381767145948825, 0.08339314856785567, 0.05069645178873523, 0.06880232742756924, 0.293315185349111, 0.1285517170357215, 0.04526468909708503, 0.11949877921630447, 0.06518115229980244, 0.11587760408853767, 0.11225642896077087, 0.052120038702359595, 0.7296805418330343, 0.052120038702359595, 0.052120038702359595, 0.052120038702359595, 0.052120038702359595, 0.052120038702359595, 0.023753113590949313, 0.023753113590949313, 0.023753113590949313, 0.07125934077284793, 0.023753113590949313, 0.760099634910378, 0.023753113590949313, 0.023753113590949313, 0.023753113590949313, 0.031514896909918017, 0.06302979381983603, 0.15757448454959008, 0.031514896909918017, 0.5672681443785244, 0.031514896909918017, 0.031514896909918017, 0.031514896909918017, 0.06302979381983603, 0.34751643259290677, 0.07379692584019255, 0.04696168008012254, 0.06977163897618206, 0.052328729232136544, 0.13820151566436062, 0.1127080321922941, 0.11136626990429059, 0.04830344236812604, 0.0275285655689108, 0.18352377045940532, 0.07340950818376213, 0.4588094261485133, 0.04588094261485133, 0.018352377045940532, 0.0550571311378216, 0.018352377045940532, 0.11929045079861346, 0.03442200519284138, 0.12477976882405, 0.09035776363120862, 0.40876131166499136, 0.09035776363120862, 0.05163300778926207, 0.05593575843836724, 0.03442200519284138, 0.10756876622762931, 0.11569058276747268, 0.02313811655349454, 0.02313811655349454, 0.02313811655349454, 0.04627623310698908, 0.6478672634978471, 0.06941434966048361, 0.02313811655349454, 0.14314157495021015, 0.23423166810034388, 0.08930401289228797, 0.1538580564972847, 0.07833237702266402, 0.05792003121871248, 0.08700762398934342, 0.061747346056953395, 0.09466225366582524, 0.1615536995593363, 0.08077684977966815, 0.08077684977966815, 0.1615536995593363, 0.08077684977966815, 0.4846610986780089, 0.04275999667611565, 0.04275999667611565, 0.0855199933522313, 0.0855199933522313, 0.04275999667611565, 0.04275999667611565, 0.5131199601133879, 0.0855199933522313, 0.04275999667611565, 0.03001742776620047, 0.06003485553240094, 0.06003485553240094, 0.03001742776620047, 0.03001742776620047, 0.03001742776620047, 0.63036598309021, 0.06003485553240094, 0.06003485553240094, 0.07061345386602191, 0.5649076309281753, 0.21184036159806574, 0.07061345386602191, 0.40935222860717163, 0.03583554863227765, 0.05650990361243784, 0.030322387304234935, 0.06202306494048055, 0.07994083925661938, 0.15988167851323876, 0.1254244202129718, 0.03859212929629901, 0.045744737606270125, 0.20076857060529668, 0.14485833575318874, 0.29734079444075584, 0.06099298347502684, 0.08640672658962135, 0.045744737606270125, 0.03557924036043232, 0.0838653522781619, 0.04692780547944907, 0.7039170821917361, 0.09385561095889813, 0.04692780547944907, 0.04692780547944907, 0.034450513824326255, 0.6545597626621988, 0.02870876152027188, 0.051675770736489386, 0.06890102764865251, 0.022967009216217506, 0.04019226612838064, 0.022967009216217506, 0.08038453225676127, 0.43949321414819875, 0.07349886516471583, 0.04274933994274288, 0.06524899254418651, 0.05024922414322409, 0.12824801982822864, 0.06974892306447522, 0.08399870304538952, 0.04649928204298348, 0.3225244871902922, 0.11148258614525812, 0.05156814813671031, 0.05931827444627371, 0.10015547846205008, 0.09628041530726839, 0.09002069790339025, 0.10552095052251705, 0.0631933376010554, 0.04326056210723958, 0.02884037473815972, 0.02884037473815972, 0.04326056210723958, 0.01442018736907986, 0.7786901179303125, 0.01442018736907986, 0.02884037473815972, 0.02884037473815972, 0.027182214004259297, 0.1359110700212965, 0.1359110700212965, 0.08154664201277789, 0.04530369000709883, 0.07248590401135813, 0.03624295200567906, 0.07248590401135813, 0.38961173406104993, 0.07919856870268838, 0.07919856870268838, 0.23039583622600254, 0.08479846749984817, 0.043199219292375475, 0.15359722415066837, 0.10159816389132752, 0.11039800485829289, 0.11679788919790407, 0.39219569449704733, 0.04431589768328219, 0.04431589768328219, 0.04210010279911808, 0.0731212311774156, 0.08420020559823616, 0.13516348793401067, 0.12851610328151833, 0.05761066698826684, 0.8674993669553182, 0.0321296061835303, 0.0321296061835303, 0.0321296061835303, 0.0321296061835303, 0.14814198959561115, 0.14278284785313425, 0.08230110533089507, 0.12402585175446514, 0.11560434330200145, 0.0941677763320939, 0.10641724317204107, 0.08995702210586205, 0.096464551364584, 0.0931516179823324, 0.0931516179823324, 0.6520613258763268, 0.05561184364865455, 0.05561184364865455, 0.6117302801352, 0.05561184364865455, 0.05561184364865455, 0.05561184364865455, 0.05561184364865455, 0.05818267799513964, 0.35804724920085934, 0.06713385922516112, 0.0917496076077202, 0.049231496765118156, 0.04699370145761279, 0.04699370145761279, 0.04475590615010742, 0.2372063025955693, 0.13545005444615932, 0.04515001814871978, 0.7224002903795165, 0.04515001814871978, 0.04515001814871978, 0.030859984316547864, 0.030859984316547864, 0.030859984316547864, 0.06171996863309573, 0.5863397020144094, 0.030859984316547864, 0.15429992158273934, 0.030859984316547864, 0.030859984316547864, 0.5934318174384876, 0.022535385472347628, 0.045070770944695256, 0.03004718062979684, 0.045070770944695256, 0.022535385472347628, 0.11267692736173815, 0.0751179515744921, 0.05258256610214447, 0.10149721939302463, 0.10214164618282161, 0.09086417736137442, 0.15756235010536204, 0.13855175980635107, 0.13146306511858427, 0.08667540322769404, 0.0989195122338367, 0.0921530309409684, 0.10849560726797529, 0.10849560726797529, 0.5424780363398765, 0.10849560726797529, 0.6708691041191759, 0.09583844344559656, 0.09583844344559656, 0.09583844344559656, 0.7609995690369984, 0.06341663075308321, 0.06341663075308321, 0.06341663075308321, 0.06101440030864098, 0.03050720015432049, 0.03050720015432049, 0.03050720015432049, 0.03050720015432049, 0.7016656035493712, 0.06101440030864098, 0.03050720015432049, 0.03050720015432049, 0.04565684450253983, 0.04565684450253983, 0.09131368900507966, 0.13697053350761948, 0.09131368900507966, 0.5022252895279381, 0.8891338344239751, 0.07409448620199792, 0.137622054483885, 0.07687291090697482, 0.06563513367692977, 0.10390872279374985, 0.1402279158705621, 0.15879467825063653, 0.13827351983055428, 0.09185661388036821, 0.08680775744368131, 0.024889596366106284, 0.17422717456274397, 0.07466878909831885, 0.4977919273221257, 0.024889596366106284, 0.024889596366106284, 0.04977919273221257, 0.04977919273221257, 0.07466878909831885, 0.8862102329528982, 0.03209141534058622, 0.866468214195828, 0.03209141534058622, 0.03209141534058622, 0.6359820603842339, 0.017188704334709023, 0.017188704334709023, 0.03437740866941805, 0.08594352167354512, 0.08594352167354512, 0.03437740866941805, 0.03437740866941805, 0.03437740866941805, 0.14260823494096594, 0.14260823494096594, 0.07130411747048297, 0.4991288222933808, 0.07130411747048297, 0.14260823494096594, 0.06677636407532749, 0.00741959600836972, 0.05193717205858804, 0.02225878802510916, 0.02967838403347888, 0.34872101239337683, 0.39323858844359516, 0.05193717205858804, 0.02225878802510916, 0.07967153015442247, 0.07967153015442247, 0.07967153015442247, 0.07967153015442247, 0.07967153015442247, 0.6373722412353797, 0.336167817664591, 0.07008664833228558, 0.07566877076583044, 0.0415558003386118, 0.08683301563292019, 0.070706884158235, 0.1997159359557164, 0.04899863025000496, 0.07008664833228558, 0.0457801526074733, 0.1831206104298932, 0.0457801526074733, 0.0457801526074733, 0.5035816786822063, 0.0457801526074733, 0.0457801526074733, 0.0457801526074733, 0.0457801526074733, 0.08326857271199278, 0.14572000224598736, 0.06245142953399458, 0.020817143177998196, 0.4579771499159603, 0.06245142953399458, 0.06245142953399458, 0.08326857271199278, 0.020817143177998196, 0.9034039595585732, 0.6801964682550051, 0.054415717460400415, 0.027207858730200207, 0.027207858730200207, 0.10883143492080083, 0.08162357619060062, 0.08656498504134763, 0.08656498504134763, 0.08656498504134763, 0.08656498504134763, 0.08656498504134763, 0.5193899102480858, 0.8677497871941451, 0.15981726039414804, 0.03995431509853701, 0.6392690415765921, 0.03995431509853701, 0.07990863019707402, 0.04803510910885383, 0.22816676826705568, 0.04803510910885383, 0.45633353653411135, 0.04803510910885383, 0.024017554554426914, 0.03602633183164037, 0.024017554554426914, 0.07205266366328074, 0.1508707071008296, 0.09932035159940718, 0.12921955779023217, 0.11805031409825731, 0.06890564185356796, 0.14554383703234927, 0.11100509884639626, 0.10224153841115444, 0.07491984999540056, 0.026189982982631622, 0.20951986386105298, 0.03928497447394744, 0.09166494043921068, 0.09166494043921068, 0.03928497447394744, 0.03928497447394744, 0.06547495745657905, 0.41903972772210596, 0.0878618073502617, 0.7907562661523553, 0.07945214383190376, 0.07945214383190376, 0.10112091033151388, 0.07945214383190376, 0.4622670186583492, 0.08667506599844046, 0.03611461083268353, 0.05056045516575694, 0.028891688666146824, 0.04272287789220517, 0.14240959297401723, 0.13982032764721694, 0.09968671508181207, 0.2162036547878262, 0.05955310251640721, 0.049196041209205954, 0.08026722513080972, 0.17218614423222084, 0.05402949822071146, 0.10251750944442688, 0.1863325002739921, 0.1413079184233992, 0.23412782562308299, 0.04225383835209486, 0.06719052983857707, 0.06580515808932806, 0.1059809388175494, 0.5977887299222675, 0.0996314549870446, 0.0996314549870446, 0.0996314549870446, 0.11408749171062021, 0.11408749171062021, 0.570437458553101, 0.10568831657661965, 0.10568831657661965, 0.10568831657661965, 0.10568831657661965, 0.5284415828830983, 0.10568831657661965, 0.057210631930870066, 0.8009488470321808, 0.057210631930870066, 0.05637080524300172, 0.05637080524300172, 0.05637080524300172, 0.05637080524300172, 0.11274161048600344, 0.620078857673019, 0.05637080524300172, 0.03512761932468044, 0.24589333527276308, 0.03512761932468044, 0.03512761932468044, 0.07025523864936088, 0.03512761932468044, 0.03512761932468044, 0.07025523864936088, 0.49178667054552616, 0.10980600091773653, 0.024401333537274784, 0.012200666768637392, 0.04880266707454957, 0.03660200030591217, 0.6100333384318696, 0.09760533414909914, 0.03660200030591217, 0.012200666768637392, 0.0449943434309934, 0.0449943434309934, 0.0449943434309934, 0.1199849158159824, 0.0449943434309934, 0.5849264646029142, 0.0299962289539956, 0.0449943434309934, 0.0449943434309934, 0.07303672506182765, 0.07303672506182765, 0.8034039756801041, 0.09859356471846346, 0.10137084823165962, 0.20968490524630962, 0.11872887018913558, 0.08887307242227692, 0.10900837789294904, 0.07845825924779135, 0.10345381086655674, 0.09234467681377212, 0.06785950709961036, 0.14660556614033468, 0.13172727848747895, 0.13317881874629414, 0.19232908429301332, 0.07584297852309393, 0.07475432332898253, 0.06096469087023819, 0.117211875899327, 0.05114139760255429, 0.28592690477791716, 0.1714399124176536, 0.1836441095728086, 0.06567020373964358, 0.03080106901062929, 0.059277529039324296, 0.055209463320939296, 0.09647127275027287, 0.0656988229752833, 0.7226870527281163, 0.0656988229752833, 0.0656988229752833, 0.0656988229752833, 0.0656988229752833, 0.05461191422522856, 0.2690142441464963, 0.0809065395929312, 0.2851955520650825, 0.08899719355222432, 0.02629462536770264, 0.0606799046946984, 0.04854392375575872, 0.08899719355222432, 0.08381381374056533, 0.08381381374056533, 0.08381381374056533, 0.6705105099245227, 0.06637563571401238, 0.15241812645439878, 0.09157379371655412, 0.13152209298887638, 0.2341584926577659, 0.07129234947060589, 0.07620906322719939, 0.04978172678550928, 0.1259907900127087, 0.7276587848344576, 0.044392396001727084, 0.044392396001727084, 0.7546707320293605, 0.044392396001727084, 0.2647072248279463, 0.06617680620698657, 0.06617680620698657, 0.13235361241397314, 0.463237643448906, 0.06617680620698657, 0.751869106888941, 0.06537992233816879, 0.032689961169084396, 0.032689961169084396, 0.06537992233816879, 0.032689961169084396, 0.032689961169084396, 0.03821830332126495, 0.0764366066425299, 0.8408026730678289, 0.03821830332126495, 0.8084333226858414, 0.057745237334702965, 0.057745237334702965, 0.057745237334702965, 0.057745237334702965, 0.6873031693823249, 0.04909308352730892, 0.09818616705461784, 0.14727925058192676, 0.03262192132075781, 0.5825343092992467, 0.041942470269545756, 0.06524384264151561, 0.06524384264151561, 0.03728219579515178, 0.03728219579515178, 0.027961646846363836, 0.10718631291106137, 0.20860007630567592, 0.08649271456576807, 0.08649271456576807, 0.03697139563791655, 0.07258604281205634, 0.27796384151626247, 0.10226491545717284, 0.06274961644967487, 0.06580230049317257, 0.08597337592554921, 0.0817451771095386, 0.24030263270993674, 0.0894968749388914, 0.059899483226817075, 0.14869165836304005, 0.08104047730687017, 0.13177886309899758, 0.0817451771095386, 0.057386521305597404, 0.3074277927085575, 0.0655845957778256, 0.057386521305597404, 0.11887207984730891, 0.040990372361141, 0.049188446833369204, 0.0450894095972551, 0.2582393458751883, 0.751079411424294, 0.06258995095202449, 0.06258995095202449, 0.02608798674532489, 0.18261590721727422, 0.07826396023597466, 0.4956717481611729, 0.05217597349064978, 0.02608798674532489, 0.05217597349064978, 0.02608798674532489, 0.05217597349064978, 0.820782455662794, 0.06079870041946622, 0.03039935020973311, 0.03039935020973311, 0.03039935020973311, 0.03039935020973311, 0.03126679639358188, 0.06253359278716376, 0.43029067417834116, 0.04317795692447022, 0.016377845729971464, 0.06551138291988585, 0.08040033358349627, 0.08635591384894044, 0.1846229882287692, 0.8036600072908837, 0.033485833637120155, 0.033485833637120155, 0.06697166727424031, 0.033485833637120155, 0.033485833637120155, 0.09361940193159449, 0.09361940193159449, 0.18723880386318897, 0.09361940193159449, 0.561716411589567, 0.09361940193159449, 0.03692673764539457, 0.6092911711490104, 0.043081193919627, 0.07693070342790537, 0.0646217908794405, 0.018463368822697286, 0.05539010646809186, 0.03384950950827836, 0.06154456274232429, 0.033437560924701924, 0.04130522231874943, 0.06097437580386821, 0.051139799061308826, 0.04720596836428507, 0.033437560924701924, 0.6667843031455266, 0.023602984182142534, 0.04130522231874943, 0.5336212846145448, 0.08893688076909081, 0.17787376153818163, 0.08893688076909081, 0.040984614861657, 0.040984614861657, 0.040984614861657, 0.040984614861657, 0.655753837786512, 0.081969229723314, 0.081969229723314, 0.060865702031068114, 0.2562117051713205, 0.08225094869063258, 0.1065149785543692, 0.16614691635507783, 0.07567087279538198, 0.07443710856502249, 0.0653895042090529, 0.11227254496271348, 0.7296644465940774, 0.07296644465940773, 0.07296644465940773, 0.025816297749170262, 0.17038756514452372, 0.3820812066877199, 0.06712237414784268, 0.02065303819933621, 0.09293867189701294, 0.056795855048174575, 0.10842845054651509, 0.07744889324751078, 0.021455997280935807, 0.12873598368561484, 0.042911994561871614, 0.12873598368561484, 0.5149439347424594, 0.021455997280935807, 0.021455997280935807, 0.021455997280935807, 0.06436799184280742, 0.20854402210191622, 0.06951467403397207, 0.48660271823780454, 0.06951467403397207, 0.06951467403397207, 0.06951467403397207, 0.06951467403397207, 0.1437925702334452, 0.13847676357047126, 0.10870824625781715, 0.13608465057213298, 0.07282655128274304, 0.11668195625227808, 0.0770791966131222, 0.10020295559705884, 0.10658192359262758, 0.07823977385229297, 0.07823977385229297, 0.039119886926146485, 0.039119886926146485, 0.05215984923486198, 0.2216793592481634, 0.06519981154357747, 0.39119886926146485, 0.05215984923486198, 0.054671795108679457, 0.43737436086943565, 0.05964195830037759, 0.07206736627962293, 0.055914335906603996, 0.04970163191698133, 0.04721655032113226, 0.04721655032113226, 0.17768333410320825, 0.06614955014562617, 0.2696095301389915, 0.0681540819682209, 0.053120093298760405, 0.08619486837157349, 0.05913368876654461, 0.056126891032652504, 0.08819940019416822, 0.2515687437356389, 0.18581984039960084, 0.09290992019980042, 0.5574595211988025, 0.9833709736619402, 0.9409420768571743, 0.053755245320329506, 0.0730520000507042, 0.2825596228376295, 0.1254289057474355, 0.0551335849439277, 0.11715886800584635, 0.0730520000507042, 0.1461040001014084, 0.0730520000507042, 0.04841333392548157, 0.10601907302668749, 0.24880776675627236, 0.15014261787016436, 0.053928777030916177, 0.12317822935470628, 0.0606698741597807, 0.11582430521412679, 0.0931497057806734, 0.03093071324614959, 0.18558427947689754, 0.03093071324614959, 0.4639606986922438, 0.03093071324614959, 0.06186142649229918, 0.09279213973844877, 0.03093071324614959, 0.06186142649229918, 0.0553036948304908, 0.18785699513849255, 0.1395759917150482, 0.20014670510082386, 0.09919551612453112, 0.07900527832927257, 0.07549393262574934, 0.06583773194106048, 0.09831767969865031, 0.46792335936328733, 0.06684619419475533, 0.028145765976739085, 0.038700428218016246, 0.05277331120638579, 0.09147373942440203, 0.1266559468953259, 0.0738826356889401, 0.05629153195347817, 0.04107327111819049, 0.677708973450143, 0.020536635559095243, 0.08214654223638097, 0.12321981335457147, 0.020536635559095243, 0.020536635559095243, 0.020536635559095243, 0.019527785406859042, 0.039055570813718084, 0.21480563947544948, 0.039055570813718084, 0.019527785406859042, 0.07811114162743617, 0.07811114162743617, 0.05858335622057713, 0.449139064357758, 0.029284222443687436, 0.043926333665531156, 0.3221264468805618, 0.043926333665531156, 0.014642111221843718, 0.07321055610921859, 0.05856844488737487, 0.043926333665531156, 0.3806948917679367, 0.1045370034121688, 0.1045370034121688, 0.1045370034121688, 0.1045370034121688, 0.522685017060844, 0.16722476318103568, 0.08470108447581104, 0.13434593604518102, 0.11409606237872748, 0.09820100025344673, 0.08535430620698696, 0.09841874083050538, 0.09297522640403938, 0.12476535065460084, 0.054682927528055474, 0.054682927528055474, 0.5468292752805547, 0.054682927528055474, 0.10936585505611095, 0.054682927528055474, 0.054682927528055474, 0.054682927528055474, 0.08683669922455929, 0.07462528839610565, 0.15467787049374623, 0.10583222717993164, 0.20895080750909578, 0.06512752441841947, 0.10447540375454789, 0.10447540375454789, 0.09633446320224547, 0.07035752720631257, 0.16313668396188957, 0.0912328374763174, 0.1917435906281925, 0.1476734911692934, 0.06881120792705295, 0.08891335855742798, 0.07654280432335103, 0.10128391279150491, 0.11742368292821746, 0.09760843643408076, 0.12623045914783376, 0.08586606814125902, 0.09320504832427261, 0.09907623247068348, 0.11155249878180659, 0.15778807393479222, 0.11081860076350523, 0.12303220912960378, 0.25693051080341756, 0.09464016086892597, 0.13600141635978993, 0.07676368603812884, 0.1023515813841718, 0.035402430547264906, 0.09464016086892597, 0.08026887718142241, 0.11560683405019137, 0.11012621376929341, 0.11440794836374493, 0.15945179629737505, 0.09539704676438014, 0.10789971178017861, 0.10789971178017861, 0.08940261833214799, 0.10002132012638779, 0.040494495980722904, 0.13498165326907635, 0.02699633065381527, 0.06749082663453818, 0.06749082663453818, 0.013498165326907636, 0.02699633065381527, 0.040494495980722904, 0.5804211090570283, 0.09444369453280445, 0.3777747781312178, 0.4722184726640223, 0.036628063761129585, 0.216438558588493, 0.11987366321824228, 0.37627010954614937, 0.056607007630836634, 0.036628063761129585, 0.02996841580456057, 0.04994735967426762, 0.07325612752225917, 0.03114045744202082, 0.8407923509345621, 0.03114045744202082, 0.03114045744202082, 0.03114045744202082, 0.03114045744202082, 0.03114045744202082, 0.03114045744202082, 0.04686747206083602, 0.04686747206083602, 0.8436144970950483, 0.04686747206083602, 0.06625884522513918, 0.5300707618011135, 0.03312942261256959, 0.06625884522513918, 0.03312942261256959, 0.13251769045027836, 0.09938826783770878, 0.06535454482262093, 0.07503669961115737, 0.21542794404493568, 0.11860639615957133, 0.08713939309682792, 0.16621032386987547, 0.06374085235786486, 0.13232278210999796, 0.0758435458435354, 0.07463552930575089, 0.3731776465287544, 0.4478131758345053, 0.07463552930575089, 0.06072895557768214, 0.1821868667330464, 0.0910934333665232, 0.03036447778884107, 0.0910934333665232, 0.5161961224102981, 0.06739615422387996, 0.03369807711193998, 0.1347923084477599, 0.03369807711193998, 0.10109423133581992, 0.06739615422387996, 0.10109423133581992, 0.4043769253432797, 0.03369807711193998, 0.05413242353720808, 0.05413242353720808, 0.05413242353720808, 0.05413242353720808, 0.2706621176860404, 0.05413242353720808, 0.43305938829766466, 0.46835305391842375, 0.05747969298089746, 0.032997601526070765, 0.030868724008259747, 0.053221937945275424, 0.07025295808776356, 0.12241045727413348, 0.10537943713164534, 0.05854413173980297, 0.05356898953792639, 0.5892588849171903, 0.05356898953792639, 0.05356898953792639, 0.05356898953792639, 0.05356898953792639, 0.05356898953792639, 0.034716915807435, 0.46765727764133036, 0.06534948857870118, 0.10415074742230501, 0.10415074742230501, 0.024506058217012943, 0.04288560187977265, 0.049012116434025886, 0.10823509045847383, 0.18081289578648804, 0.15359375018422103, 0.07874109977798674, 0.08133339935915503, 0.13577169056368907, 0.12248615521020159, 0.08457377383561537, 0.06545556442449926, 0.09785930918910285, 0.03811852756754955, 0.7242520237834414, 0.03811852756754955, 0.0762370551350991, 0.03811852756754955, 0.03811852756754955, 0.03811852756754955, 0.03811852756754955, 0.03811852756754955, 0.03230992235170283, 0.06461984470340566, 0.08077480587925708, 0.03230992235170283, 0.06461984470340566, 0.04846488352755425, 0.5008037964513938, 0.06461984470340566, 0.11308472823095991, 0.3465071731876372, 0.5197607597814558, 0.0866267932969093, 0.04331339664845465, 0.06393953296628678, 0.06393953296628678, 0.06393953296628678, 0.06393953296628678, 0.19181859889886035, 0.06393953296628678, 0.5115162637302942, 0.10957547012488957, 0.03652515670829652, 0.07305031341659304, 0.03652515670829652, 0.5478773506244478, 0.1461006268331861, 0.03652515670829652, 0.0864219474307774, 0.10258931854877998, 0.15608861933926121, 0.10082560533590697, 0.06996062411062932, 0.11611111984747303, 0.13139663435903912, 0.1743136558722823, 0.06231786685484629, 0.04741767165119515, 0.20020794697171285, 0.06322356220159353, 0.35299822229223055, 0.06849219238505966, 0.04214904146772902, 0.10537260366932255, 0.04741767165119515, 0.06849219238505966, 0.23621889680683433, 0.03936981613447239, 0.03936981613447239, 0.11810944840341717, 0.07873963226894477, 0.4330679774791963, 0.03936981613447239, 0.7349238010798443, 0.04082910005999135, 0.04082910005999135, 0.0816582001199827, 0.07399429756711876, 0.30365067297913917, 0.06412839122483625, 0.09317800434377917, 0.12442004109434042, 0.08605262754101958, 0.07509050938292791, 0.06632081485645458, 0.11290981702834417, 0.06557126435589859, 0.9179977009825803, 0.08621012922223414, 0.7758911630001072, 0.08621012922223414, 0.1007559613802807, 0.8564256717323859, 0.028849388633253332, 0.08366322703643465, 0.3317679692824133, 0.13559212657629066, 0.023079510906602665, 0.09231804362641066, 0.07500841044645866, 0.12693730998631467, 0.10385779907971199, 0.061899376263497355, 0.2924915581681743, 0.09659023548809477, 0.12243832667504971, 0.10067151304392975, 0.05849831163363486, 0.12243832667504971, 0.07482342185697483, 0.07006193137516734, 0.06768572530853241, 0.6768572530853242, 0.06768572530853241, 0.06768572530853241, 0.06768572530853241, 0.06768572530853241, 0.06768572530853241, 0.6650897331157081, 0.0665089733115708, 0.0665089733115708, 0.0665089733115708, 0.0665089733115708, 0.143575909323449, 0.07085564356222157, 0.13718291892685758, 0.11933582073637318, 0.10521796694390047, 0.06339715476619825, 0.15955838531492753, 0.10681621454304832, 0.09403023374986548, 0.1507885339061808, 0.08653950641572115, 0.09921448462812475, 0.10358516677033289, 0.08435416534461708, 0.16914539890345498, 0.10183689391344963, 0.11800841783961975, 0.08741364284416278, 0.1794247192784326, 0.06760931451071372, 0.10401433001648265, 0.07020967276112579, 0.10401433001648265, 0.08061110576277405, 0.20282794353214117, 0.09881361351565852, 0.09231271788962836, 0.15898155703790018, 0.09715539596760567, 0.1081957818730154, 0.08685103578922325, 0.16560578858114602, 0.08243488142705936, 0.11408398768923393, 0.08537898433516862, 0.10157155032976957, 0.0847445217834128, 0.07639847039565245, 0.09244856921826851, 0.08281850992469887, 0.07960849016017567, 0.06291638738465496, 0.37749832430792973, 0.08988055340664994, 0.05328632809108532, 0.19470974656693535, 0.09735487328346767, 0.584129239700806, 0.3393576733546865, 0.6108438120384356, 0.14889225953760013, 0.07444612976880007, 0.2233383893064002, 0.5211229083816005, 0.06079880697522146, 0.3039940348761073, 0.5471892627769932, 0.12159761395044293, 0.12526733266702705, 0.12079349935749038, 0.10021386613362165, 0.12974116597656374, 0.10826676609078767, 0.10021386613362165, 0.07963423290975293, 0.1709004324243012, 0.06531796631923555, 0.07611749201534748, 0.07611749201534748, 0.15223498403069496, 0.07611749201534748, 0.6850574281381273, 0.756987089591213, 0.08410967662124588, 0.08410967662124588, 0.045924772933726446, 0.31841175900717006, 0.07143853567468558, 0.13675376829154098, 0.09797284892528309, 0.042863121404811355, 0.09287009637709126, 0.06327413159757866, 0.13063046523371077, 0.028613179230752125, 0.578622068888543, 0.04609901098287843, 0.07630181128200567, 0.08424991662388126, 0.028613179230752125, 0.04927825311962866, 0.036561284572627716, 0.0715329480768803, 0.019661104399364977, 0.039322208798729955, 0.039322208798729955, 0.05898331319809493, 0.5111887143834895, 0.19661104399364976, 0.09830552199682488, 0.039322208798729955, 0.07372320750824013, 0.552924056311801, 0.07372320750824013, 0.07372320750824013, 0.036861603754120065, 0.1105848112623602, 0.036861603754120065, 0.10054102172425511, 0.07847104134576009, 0.21497795702015524, 0.13977654239713516, 0.07683622798439009, 0.10135842840494011, 0.10626286848905012, 0.12097618874138014, 0.06130550105137507, 0.03968559840961149, 0.16667951332036826, 0.03968559840961149, 0.16667951332036826, 0.373044625050348, 0.03968559840961149, 0.03174847872768919, 0.04762271809153379, 0.08730831650114527, 0.08115165505396678, 0.048690993032380066, 0.016230331010793356, 0.08115165505396678, 0.7628255575072876, 0.06754018110375286, 0.08104821732450343, 0.07429419921412814, 0.06754018110375286, 0.06078616299337757, 0.12832634409713042, 0.34445492362913954, 0.08780223543487871, 0.094556253545254, 0.774934214497364, 0.07044856495430582, 0.07044856495430582, 0.2006915425773413, 0.027367028533273812, 0.027367028533273812, 0.018244685688849207, 0.04561171422212302, 0.5564629135099008, 0.07297874275539683, 0.036489371377698414, 0.018244685688849207, 0.05687870269354513, 0.09033676310151285, 0.05687870269354513, 0.17398191412143216, 0.15390707787665153, 0.10371998726469994, 0.08029934497912254, 0.2676644832637418, 0.020074836244780635, 0.03521134877722637, 0.07922553474875933, 0.3503529203334024, 0.10387347889281778, 0.03169021389950373, 0.16901447413068657, 0.07042269755445274, 0.08802837194306593, 0.07394383243217537, 0.08264361515425342, 0.023612461472643835, 0.023612461472643835, 0.08264361515425342, 0.023612461472643835, 0.6847613827066712, 0.011806230736321918, 0.03541869220896575, 0.023612461472643835, 0.7324181763357984, 0.03184426853633906, 0.03184426853633906, 0.03184426853633906, 0.19106561121803436, 0.03184426853633906, 0.036693251518974616, 0.09705956853406188, 0.3314229169455772, 0.1408547397018703, 0.030774985144946452, 0.10889610128211821, 0.07220284976314359, 0.10771244800731258, 0.07457015631275486, 0.05567309786772521, 0.128048125095768, 0.12248081530899546, 0.3507405165666688, 0.06680771744127025, 0.05010578808095269, 0.07237502722804277, 0.06124040765449773, 0.08907695658836033, 0.07795389285393584, 0.07795389285393584, 0.07795389285393584, 0.7015850356854224, 0.07795389285393584, 0.06786844954098863, 0.07403830859016941, 0.1665861943278812, 0.052443801918036666, 0.32391760008199116, 0.06786844954098863, 0.049358872393446274, 0.1172273219344349, 0.0802081676393502, 0.04477346722317621, 0.04477346722317621, 0.08954693444635242, 0.5820550739012907, 0.17909386889270484, 0.04477346722317621, 0.07529532371532592, 0.7529532371532591, 0.07529532371532592, 0.07529532371532592, 0.04676165398853866, 0.7481864638166186, 0.04676165398853866, 0.04676165398853866, 0.04676165398853866, 0.04676165398853866, 0.04676165398853866, 0.03817038440251318, 0.29711001913307555, 0.08562545690293497, 0.2145794582627768, 0.09387851298996484, 0.04848670451130053, 0.059834656630966605, 0.046423440489543055, 0.11657441722929701, 0.029757102419666333, 0.4902091082818717, 0.05481571498359587, 0.10336677682620936, 0.0861389806885078, 0.02662477584917514, 0.06421269469506945, 0.032889428990157524, 0.11119759325243735, 0.045513322855410356, 0.1435420182362942, 0.043762810437894574, 0.11028228230349432, 0.08402459604075758, 0.07352152153566288, 0.06651947186559976, 0.05426588494298927, 0.3763601697658933, 0.5621178773797904, 0.04607523585080248, 0.03071682390053499, 0.018430094340320995, 0.03378850629058849, 0.16894253145294244, 0.055290283020962984, 0.04607523585080248, 0.03686018868064199, 0.9755379986362025, 0.10276799325932795, 0.10276799325932795, 0.10276799325932795, 0.5138399662966397, 0.2020820360661268, 0.1010410180330634, 0.505205090165317, 0.1010410180330634, 0.08479816291811305, 0.21199540729528266, 0.06938031511481978, 0.3314837277708056, 0.04625354340987985, 0.04239908145905653, 0.05396246731152649, 0.04625354340987985, 0.11177939657387631, 0.06102325993195847, 0.249813970346455, 0.09534884364368512, 0.3318139758800242, 0.04767442182184256, 0.038139537457474046, 0.06102325993195847, 0.05530232931333737, 0.06102325993195847, 0.031806064103070825, 0.2862545769276374, 0.031806064103070825, 0.06361212820614165, 0.5088970256491332, 0.06361212820614165, 0.35446533532276336, 0.06466597333590954, 0.03975759842133698, 0.05173277866872763, 0.08526328336142146, 0.1647784802040954, 0.12166783131348906, 0.08861633383069084, 0.029698447013528823, 0.2622394134978762, 0.04767989336325022, 0.07151984004487533, 0.039733244469375185, 0.06754651559793781, 0.07946648893875037, 0.29005268462643885, 0.07946648893875037, 0.0635731911510003, 0.023356093613654923, 0.023356093613654923, 0.023356093613654923, 0.023356093613654923, 0.8875315573188871, 0.023356093613654923, 0.03378461351174599, 0.05067692026761898, 0.48987689592031686, 0.08446153377936497, 0.016892306755872995, 0.05067692026761898, 0.06756922702349198, 0.08446153377936497, 0.11824614729111096, 0.07936429419507915, 0.23809288258523745, 0.1587285883901583, 0.4761857651704749, 0.7450487017165236, 0.1354634003120952, 0.0677317001560476, 0.0677317001560476, 0.08121240292711296, 0.06449220232447206, 0.0561321020231516, 0.04777200172183115, 0.04777200172183115, 0.03821760137746492, 0.5541552199732414, 0.05374350193706005, 0.05732640206619738, 0.12315329913841884, 0.2086764235400986, 0.08742363827727263, 0.11555124363604731, 0.09198487157869556, 0.10680887980832005, 0.09312517990405128, 0.08704353550215406, 0.08590322717679832, 0.08524151226555154, 0.08524151226555154, 0.1704830245311031, 0.08524151226555154, 0.08524151226555154, 0.08524151226555154, 0.5114490735933093, 0.05575309369827899, 0.3345185621896739, 0.13084909745514456, 0.11264400563529836, 0.12971127921640416, 0.03754800187843278, 0.05006400250457705, 0.0546152754595386, 0.09330109557671178, 0.14118330377979052, 0.07788417791157866, 0.17968784117427886, 0.08459330185152737, 0.1548932527005553, 0.0758422706255073, 0.09976175597662884, 0.11259660177479161, 0.07321696125770129, 0.09813803507729861, 0.14951920527483714, 0.12382862017606788, 0.10224852869310169, 0.07655794359433242, 0.11149713932865864, 0.06936457976667702, 0.14232584144718174, 0.12639767868594481, 0.9829311750673797, 0.10505105175411905, 0.10505105175411905, 0.10505105175411905, 0.10505105175411905, 0.10505105175411905, 0.4202042070164762, 0.07772616522607559, 0.8549878174868315, 0.07772616522607559, 0.9950482928916393, 0.06767690103606366, 0.06767690103606366, 0.812122812432764, 0.06767690103606366, 0.05454672668821957, 0.09236579052538513, 0.15709457286207235, 0.10327513586302904, 0.17891326353736017, 0.10182055648467653, 0.100365977106324, 0.07854728643103617, 0.133821302808432, 0.08374971292266989, 0.08374971292266989, 0.5862479904586891, 0.08374971292266989, 0.08374971292266989, 0.08374971292266989, 0.9514954506481106, 0.11357382528873013, 0.092162366422822, 0.16524060646516064, 0.1024026293586911, 0.12009035624791957, 0.092162366422822, 0.12707235370419395, 0.10333356235286102, 0.08471490246946264, 0.0682231830774636, 0.013644636615492721, 0.054578546461970884, 0.15009100277041992, 0.04093390984647816, 0.5730747378506943, 0.04093390984647816, 0.027289273230985442, 0.013644636615492721, 0.10146138038191548, 0.22925624880188533, 0.11811343899421457, 0.18898150239074332, 0.08403480741555594, 0.06079937679374324, 0.061573891147803664, 0.0890691507169487, 0.0662209772721662, 0.13703322541838506, 0.1352601522614004, 0.11600964369985278, 0.11600964369985278, 0.10283824310510967, 0.1269013788070442, 0.0853608077005467, 0.08612069619639726, 0.09422617348546994, 0.9647619848010096, 0.1730912281778126, 0.06707285091890239, 0.11807294493557932, 0.0676910338766803, 0.08376379077890575, 0.13754570810558325, 0.13043660409113736, 0.10910929204779975, 0.11281838979446715, 0.1299985218982118, 0.08698734604217566, 0.11221505495773532, 0.1367534822089354, 0.10242725532382965, 0.1043572439840364, 0.10380581865254876, 0.15688050680823437, 0.06658460877713288, 0.03863369119422806, 0.03863369119422806, 0.637455904704763, 0.03863369119422806, 0.03863369119422806, 0.03863369119422806, 0.05795053679134209, 0.09658422798557015, 0.03863369119422806, 0.06225929942204349, 0.031129649711021744, 0.06225929942204349, 0.06225929942204349, 0.4980743953763479, 0.031129649711021744, 0.031129649711021744, 0.15564824855510873, 0.06225929942204349, 0.5318529633309096, 0.029618930161285525, 0.056662301178111434, 0.029618930161285525, 0.08241789262270754, 0.09400790877277579, 0.08756901091162676, 0.05795008075034124, 0.029618930161285525, 0.9070695287659314, 0.1325978229040354, 0.08253537956271592, 0.09471273064573958, 0.06494587244279286, 0.08930057460884018, 0.27331387986341993, 0.1163613547933372, 0.07712322352581652, 0.06765195046124256, 0.0791160608685966, 0.6329284869487728, 0.1582321217371932, 0.0791160608685966, 0.1322521016635526, 0.16772369184483657, 0.11210774180751479, 0.11955239653692007, 0.1313762599306814, 0.07707407249266642, 0.07663615162623082, 0.10028387841375347, 0.08276704375632928, 0.04256567800427719, 0.1459394674432361, 0.09121216715202256, 0.04256567800427719, 0.04256567800427719, 0.4743032691905173, 0.09729297829549073, 0.036484866860809026, 0.024323244573872683, 0.06524366885935663, 0.07829240263122796, 0.07829240263122796, 0.03914620131561398, 0.03914620131561398, 0.09134113640309928, 0.4045107469280111, 0.06524366885935663, 0.1565848052624559, 0.05832043010456822, 0.320901888135184, 0.06836605442880007, 0.13896446981854055, 0.11775704068960666, 0.054692843543040055, 0.06445942274715435, 0.058599475224685775, 0.11859417604995931, 0.08175520638455877, 0.02725173546151959, 0.02725173546151959, 0.02725173546151959, 0.02725173546151959, 0.02725173546151959, 0.02725173546151959, 0.7630485929225485, 0.02725173546151959, 0.13430659170387177, 0.0604379662667423, 0.05372263668154871, 0.04029197751116153, 0.05372263668154871, 0.10072994377790383, 0.22160587631138842, 0.27532851299293715, 0.0604379662667423, 0.0921989732592201, 0.0921989732592201, 0.5531938395553205, 0.0921989732592201, 0.0921989732592201, 0.0921989732592201, 0.15427433435342075, 0.11139296985262968, 0.08034094728309132, 0.11139296985262968, 0.0916773999672085, 0.1818761321930104, 0.10202807415705462, 0.0749191655646005, 0.09266317846147956, 0.050133090243888415, 0.07519963536583263, 0.050133090243888415, 0.025066545121944207, 0.050133090243888415, 0.050133090243888415, 0.6266636280486052, 0.025066545121944207, 0.050133090243888415, 0.05853208824535338, 0.29266044122676693, 0.5267887942081805, 0.06357946501536921, 0.12715893003073842, 0.09991058788129446, 0.38147679009221525, 0.09536919752305381, 0.04541390358240657, 0.07266224573185052, 0.040872513224165914, 0.07266224573185052, 0.12435392714139502, 0.1013418125102472, 0.1858670797131171, 0.07965731987705019, 0.10001419051229635, 0.09249099919057495, 0.10709484116803415, 0.09603132451844384, 0.11373295115778834, 0.03326501371970516, 0.03326501371970516, 0.03326501371970516, 0.06653002743941032, 0.03326501371970516, 0.03326501371970516, 0.5987702469546928, 0.03326501371970516, 0.06653002743941032, 0.019821769472349024, 0.029732654208523532, 0.019821769472349024, 0.8424252025748334, 0.0792870778893961, 0.009910884736174512, 0.021215489350115514, 0.7213266379039275, 0.03535914891685919, 0.0565746382669747, 0.0565746382669747, 0.007071829783371838, 0.014143659566743676, 0.021215489350115514, 0.06364646805034654, 0.08042214447962334, 0.08042214447962334, 0.08042214447962334, 0.72379930031661, 0.1993412283503467, 0.033223538058391115, 0.5315766089342578, 0.06644707611678223, 0.033223538058391115, 0.033223538058391115, 0.09967061417517335, 0.033223538058391115, 0.1870210548726986, 0.031170175812116434, 0.07792543953029109, 0.015585087906058217, 0.10909561534240753, 0.04675526371817465, 0.4363824613696301, 0.04675526371817465, 0.04675526371817465, 0.12074805186637749, 0.18560700544031739, 0.12902791828007196, 0.07106885338421075, 0.0986684080965256, 0.07382880885544224, 0.09935839696433348, 0.1400677401649979, 0.08072869753352095, 0.2955137529355805, 0.4925229215593009, 0.5861027521759377, 0.09768379202932295, 0.09768379202932295, 0.09768379202932295, 0.1953675840586459, 0.08845739428164376, 0.08845739428164376, 0.5307443656898625, 0.08845739428164376, 0.08845739428164376, 0.08845739428164376, 0.0923625199677494, 0.0923625199677494, 0.0923625199677494, 0.0923625199677494, 0.0923625199677494, 0.0923625199677494, 0.461812599838747, 0.09385663558619756, 0.1392499149468118, 0.13354834362615492, 0.1438550302442654, 0.11732079448274693, 0.09890033329293246, 0.09254088835835365, 0.07477830078246113, 0.10569836063679257, 0.09369444097933677, 0.09668468909569858, 0.1774213882374675, 0.1046586840726634, 0.10665218281690461, 0.14502703364354785, 0.07973994976964831, 0.10615380813084431, 0.08970744349085435], \"Term\": [\"abgasskandal\", \"abgeschoss\", \"abgeschoss\", \"abgeschoss\", \"abgeschoss\", \"abgeschoss\", \"abgeschoss\", \"abgeschoss\", \"abgeschoss\", \"abgeschoss\", \"abonnement\", \"abonnement\", \"abonnement\", \"abonnement\", \"abonnement\", \"abschalt\", \"abschalt\", \"abschalt\", \"abschalt\", \"abschalt\", \"abschalt\", \"abschalt\", \"abschalt\", \"abschalt\", \"abschwach\", \"abuja\", \"abuja\", \"abuja\", \"abuja\", \"abuja\", \"abuja\", \"abwehrspiel\", \"abwehrspiel\", \"abwehrspiel\", \"abwehrspiel\", \"abwehrspiel\", \"abwehrspiel\", \"aden\", \"aden\", \"aden\", \"aden\", \"aden\", \"aden\", \"aden\", \"aden\", \"admira\", \"admira\", \"admira\", \"admira\", \"admira\", \"admira\", \"admira\", \"admira\", \"admira\", \"admiran\", \"admiran\", \"admiran\", \"admiran\", \"admiran\", \"admiran\", \"admiran\", \"advanced\", \"advanced\", \"agais\", \"agais\", \"agais\", \"agais\", \"agais\", \"agais\", \"agais\", \"agais\", \"agais\", \"akti\", \"akti\", \"akti\", \"akti\", \"akti\", \"akti\", \"akti\", \"akti\", \"akti\", \"alaba\", \"alaba\", \"alaba\", \"alaba\", \"alaba\", \"alaba\", \"alaba\", \"alaba\", \"alaba\", \"aleppo\", \"aleppo\", \"aleppo\", \"aleppo\", \"aleppo\", \"aleppo\", \"aleppo\", \"aleppo\", \"aleppo\", \"allerding\", \"allerding\", \"allerding\", \"allerding\", \"allerding\", \"allerding\", \"allerding\", \"allerding\", \"allerding\", \"altach\", \"altach\", \"altach\", \"altach\", \"altach\", \"altach\", \"altach\", \"altach\", \"altach\", \"amtskollegin\", \"amtskollegin\", \"amtskollegin\", \"amtskollegin\", \"amtskollegin\", \"amtskollegin\", \"amtskollegin\", \"analyst\", \"analyst\", \"analyst\", \"analyst\", \"analyst\", \"analyst\", \"analyst\", \"analyst\", \"analyst\", \"anblick\", \"anblick\", \"anblick\", \"anblick\", \"anblick\", \"anblick\", \"anblick\", \"anblick\", \"android\", \"android\", \"android\", \"android\", \"android\", \"android\", \"android\", \"android\", \"android\", \"angab\", \"angab\", \"angab\", \"angab\", \"angab\", \"angab\", \"angab\", \"angab\", \"angab\", \"angriff\", \"angriff\", \"angriff\", \"angriff\", \"angriff\", \"angriff\", \"angriff\", \"angriff\", \"angriff\", \"ankommling\", \"ankommling\", \"ankommling\", \"ankommling\", \"annektiert\", \"annektiert\", \"annektiert\", \"annektiert\", \"anschlag\", \"anschlag\", \"anschlag\", \"anschlag\", \"anschlag\", \"anschlag\", \"anschlag\", \"anschlag\", \"anschlag\", \"anschlagsseri\", \"anschlagsseri\", \"anschlagsseri\", \"ansieht\", \"ansieht\", \"ansieht\", \"ansieht\", \"appl\", \"appl\", \"appl\", \"appl\", \"appl\", \"appl\", \"appl\", \"appl\", \"appl\", \"apps\", \"apps\", \"apps\", \"apps\", \"apps\", \"apps\", \"apps\", \"apps\", \"apps\", \"arbeit\", \"arbeit\", \"arbeit\", \"arbeit\", \"arbeit\", \"arbeit\", \"arbeit\", \"arbeit\", \"arbeit\", \"archaologi\", \"archaologi\", \"archaologi\", \"archaologi\", \"archaologi\", \"arme\", \"arme\", \"arme\", \"arme\", \"arme\", \"arme\", \"arme\", \"arme\", \"arme\", \"arthur\", \"arthur\", \"arthur\", \"arthur\", \"arthur\", \"arthur\", \"artikel\", \"artikel\", \"artikel\", \"artikel\", \"artikel\", \"artikel\", \"artikel\", \"artikel\", \"artikel\", \"assad\", \"assad\", \"assad\", \"assad\", \"assad\", \"assad\", \"assad\", \"assad\", \"assad\", \"assist\", \"assist\", \"assist\", \"assist\", \"assist\", \"assist\", \"assist\", \"assist\", \"assist\", \"astronaut\", \"astronaut\", \"astronaut\", \"astronaut\", \"astronaut\", \"astronaut\", \"astronaut\", \"astronom\", \"astronom\", \"astronom\", \"aubameyang\", \"aubameyang\", \"aubameyang\", \"aubameyang\", \"aubameyang\", \"aubameyang\", \"aubameyang\", \"aubameyang\", \"auffanglag\", \"auffanglag\", \"auffanglag\", \"auffanglag\", \"auffanglag\", \"auffanglag\", \"aufgespielt\", \"aufgespielt\", \"aufgespielt\", \"aufgespielt\", \"aufleb\", \"aufleb\", \"aufnahmelag\", \"aufnahmelag\", \"aufnahmelag\", \"aufnahmezentrum\", \"aufnahmezentrum\", \"aufnahmezentrum\", \"aufnahmezentrum\", \"aufnahmezentrum\", \"augsburg\", \"augsburg\", \"augsburg\", \"augsburg\", \"augsburg\", \"augsburg\", \"augsburg\", \"augsburg\", \"augsburg\", \"ausgestorb\", \"auslag\", \"auslag\", \"auslag\", \"auslag\", \"auslag\", \"aussenminist\", \"aussenminist\", \"aussenminist\", \"aussenminist\", \"aussenminist\", \"aussenminist\", \"aussenminist\", \"aussenminist\", \"aussenminist\", \"ausspricht\", \"ausspricht\", \"ausspricht\", \"ausspricht\", \"austria\", \"austria\", \"austria\", \"austria\", \"austria\", \"austria\", \"austria\", \"austria\", \"austria\", \"auszeichn\", \"auszeichn\", \"auszeichn\", \"auszeichn\", \"auszeichn\", \"auszeichn\", \"auszeichn\", \"auszeichn\", \"auszeichn\", \"autobau\", \"autobau\", \"autobau\", \"autobau\", \"autobau\", \"autobau\", \"autobau\", \"autobau\", \"autobau\", \"autobomb\", \"autobomb\", \"avalanch\", \"avalanch\", \"balkanland\", \"balkanland\", \"balkanland\", \"balkanland\", \"balkanland\", \"balkanland\", \"balkanland\", \"bank\", \"bank\", \"bank\", \"bank\", \"bank\", \"bank\", \"bank\", \"bank\", \"bank\", \"barisic\", \"barisic\", \"barisic\", \"barisic\", \"barisic\", \"barisic\", \"barisic\", \"barisic\", \"barisic\", \"barrel\", \"barrel\", \"barrel\", \"baschar\", \"baschar\", \"baschar\", \"basier\", \"basier\", \"basier\", \"basier\", \"basier\", \"basier\", \"batteri\", \"batteri\", \"batteri\", \"batteri\", \"batteri\", \"batteri\", \"batteri\", \"batteri\", \"batteri\", \"bauwirtschaft\", \"bay\", \"bay\", \"bay\", \"bay\", \"bay\", \"bay\", \"bay\", \"bay\", \"bay\", \"bedank\", \"bedank\", \"bedank\", \"bedank\", \"bedank\", \"bedank\", \"bedank\", \"bedank\", \"beid\", \"beid\", \"beid\", \"beid\", \"beid\", \"beid\", \"beid\", \"beid\", \"beid\", \"beim\", \"beim\", \"beim\", \"beim\", \"beim\", \"beim\", \"beim\", \"beim\", \"beim\", \"bemannt\", \"bemannt\", \"bemannt\", \"bemannt\", \"bemannt\", \"bemannt\", \"bereit\", \"bereit\", \"bereit\", \"bereit\", \"bereit\", \"bereit\", \"bereit\", \"bereit\", \"bereit\", \"bergland\", \"bergland\", \"bergland\", \"betatigt\", \"betatigt\", \"betatigt\", \"betatigt\", \"betatigt\", \"billigflieg\", \"billigflieg\", \"billigflieg\", \"billigt\", \"billigt\", \"billigt\", \"billigt\", \"biotechnologi\", \"biotechnologi\", \"biotechnologi\", \"biotechnologi\", \"biotechnologi\", \"biotechnologi\", \"boko\", \"boko\", \"boko\", \"boko\", \"boko\", \"boko\", \"boko\", \"boko\", \"boltzmann\", \"boltzmann\", \"boltzmann\", \"boltzmann\", \"boomend\", \"boomend\", \"boomend\", \"bowi\", \"bowi\", \"bowi\", \"bowi\", \"bowi\", \"bowi\", \"bowi\", \"branch\", \"branch\", \"branch\", \"branch\", \"branch\", \"branch\", \"branch\", \"branch\", \"branch\", \"brandn\", \"brandn\", \"brandn\", \"brandn\", \"brandn\", \"brandn\", \"bresch\", \"bresch\", \"bresch\", \"bresch\", \"bresch\", \"bruin\", \"buffalo\", \"buffalo\", \"buffalo\", \"buffalo\", \"buffalo\", \"buffalo\", \"bundesliga\", \"bundesliga\", \"bundesliga\", \"bundesliga\", \"bundesliga\", \"bundesliga\", \"bundesliga\", \"bundesliga\", \"bundesliga\", \"canuck\", \"canuck\", \"casinos\", \"casinos\", \"casinos\", \"casinos\", \"challeng\", \"challeng\", \"challeng\", \"challeng\", \"challeng\", \"challeng\", \"challeng\", \"championship\", \"championship\", \"championship\", \"chios\", \"chios\", \"chios\", \"chios\", \"chios\", \"chios\", \"chios\", \"chios\", \"chios\", \"cizr\", \"cizr\", \"cizr\", \"clinton\", \"clinton\", \"clinton\", \"clinton\", \"clinton\", \"clinton\", \"clinton\", \"clinton\", \"clinton\", \"columbus\", \"cook\", \"cook\", \"cook\", \"cook\", \"cook\", \"cook\", \"cook\", \"cook\", \"cook\", \"current\", \"current\", \"current\", \"current\", \"current\", \"dabei\", \"dabei\", \"dabei\", \"dabei\", \"dabei\", \"dabei\", \"dabei\", \"dabei\", \"dabei\", \"dafur\", \"dafur\", \"dafur\", \"dafur\", \"dafur\", \"dafur\", \"dafur\", \"dafur\", \"dafur\", \"dallas\", \"dallas\", \"dallas\", \"dallas\", \"dallas\", \"dallas\", \"dallas\", \"dallas\", \"dallas\", \"damaskus\", \"damaskus\", \"damaskus\", \"damaskus\", \"damaskus\", \"damaskus\", \"damaskus\", \"damaskus\", \"damaskus\", \"danilo\", \"danilo\", \"danilo\", \"danilo\", \"danilo\", \"danilo\", \"danilo\", \"danilo\", \"datum\", \"datum\", \"datum\", \"datum\", \"datum\", \"datum\", \"datum\", \"datum\", \"datum\", \"dekret\", \"dekret\", \"dekret\", \"dekret\", \"dekret\", \"dekret\", \"deutsch\", \"deutsch\", \"deutsch\", \"deutsch\", \"deutsch\", \"deutsch\", \"deutsch\", \"deutsch\", \"deutsch\", \"deutschland\", \"deutschland\", \"deutschland\", \"deutschland\", \"deutschland\", \"deutschland\", \"deutschland\", \"deutschland\", \"deutschland\", \"devil\", \"devil\", \"devil\", \"devil\", \"devil\", \"devil\", \"devil\", \"devil\", \"dichtgemacht\", \"dichtgemacht\", \"dichtgemacht\", \"dienstag\", \"dienstag\", \"dienstag\", \"dienstag\", \"dienstag\", \"dienstag\", \"dienstag\", \"dienstag\", \"dienstag\", \"dinosauri\", \"dinosauri\", \"dinosauri\", \"dinosauri\", \"dinosauri\", \"diozes\", \"diozes\", \"diozes\", \"diozes\", \"diozes\", \"diozes\", \"diozes\", \"diozes\", \"diozes\", \"dobrindt\", \"dobrindt\", \"dollar\", \"dollar\", \"dollar\", \"dollar\", \"dollar\", \"dollar\", \"dollar\", \"dollar\", \"dollar\", \"dominoeffekt\", \"dominoeffekt\", \"dominoeffekt\", \"dominoeffekt\", \"donbass\", \"donbass\", \"donbass\", \"donbass\", \"donbass\", \"donbass\", \"donbass\", \"donbass\", \"donbass\", \"donezk\", \"donezk\", \"donezk\", \"donezk\", \"donezk\", \"donezk\", \"donezk\", \"donezk\", \"donezk\", \"dortmund\", \"dortmund\", \"dortmund\", \"dortmund\", \"dortmund\", \"dortmund\", \"dortmund\", \"dortmund\", \"dortmund\", \"drei\", \"drei\", \"drei\", \"drei\", \"drei\", \"drei\", \"drei\", \"drei\", \"drei\", \"dreimonat\", \"dreimonat\", \"dreimonat\", \"dreimonat\", \"dreimonat\", \"dreimonat\", \"dreimonat\", \"drittstark\", \"drittstark\", \"drittstark\", \"drittstark\", \"drittstark\", \"durchspielt\", \"durchspielt\", \"durchspielt\", \"durchspielt\", \"durchspielt\", \"durchwink\", \"durchwink\", \"durchwink\", \"durchwink\", \"durchwink\", \"durchwink\", \"durchwink\", \"durchwink\", \"durchwink\", \"ebay\", \"ebay\", \"ebay\", \"ebay\", \"ebay\", \"edmonton\", \"edmonton\", \"edmonton\", \"edmonton\", \"ehrt\", \"ehrt\", \"ehrt\", \"ehrt\", \"eingezahlt\", \"eingezahlt\", \"eingezahlt\", \"eingezahlt\", \"einreis\", \"einreis\", \"einreis\", \"einreis\", \"einreis\", \"einreis\", \"einreis\", \"einreis\", \"einreis\", \"einsatzleit\", \"einsatzleit\", \"einsatzleit\", \"einstein\", \"einstein\", \"einstein\", \"erdrutsch\", \"erdrutsch\", \"erdrutsch\", \"erdrutsch\", \"erdrutsch\", \"ergebnis\", \"ergebnis\", \"ergebnis\", \"ergebnis\", \"ergebnis\", \"ergebnis\", \"ergebnis\", \"ergebnis\", \"ergebnis\", \"erhalt\", \"erhalt\", \"erhalt\", \"erhalt\", \"erhalt\", \"erhalt\", \"erhalt\", \"erhalt\", \"erhalt\", \"erhitzt\", \"erhitzt\", \"erhitzt\", \"erklart\", \"erklart\", \"erklart\", \"erklart\", \"erklart\", \"erklart\", \"erklart\", \"erklart\", \"erklart\", \"ersteh\", \"ersteh\", \"ersteh\", \"ersteh\", \"erstversorg\", \"erstversorg\", \"erstversorg\", \"erstversorg\", \"erstversorg\", \"erstversorg\", \"esteban\", \"esteban\", \"esteban\", \"esteban\", \"esteban\", \"esteban\", \"etwa\", \"etwa\", \"etwa\", \"etwa\", \"etwa\", \"etwa\", \"etwa\", \"etwa\", \"etwa\", \"euklid\", \"euklid\", \"euklid\", \"euro\", \"euro\", \"euro\", \"euro\", \"euro\", \"euro\", \"euro\", \"euro\", \"euro\", \"europa\", \"europa\", \"europa\", \"europa\", \"europa\", \"europa\", \"europa\", \"europa\", \"europa\", \"euroraum\", \"extremist\", \"extremist\", \"extremist\", \"extremist\", \"extremist\", \"extremist\", \"extremist\", \"extremist\", \"extremist\", \"facebook\", \"facebook\", \"facebook\", \"facebook\", \"facebook\", \"facebook\", \"facebook\", \"facebook\", \"facebook\", \"fachjournal\", \"fachjournal\", \"fachjournal\", \"fachjournal\", \"fachjournal\", \"fachjournal\", \"fachzeitschrift\", \"fachzeitschrift\", \"fachzeitschrift\", \"fachzeitschrift\", \"fall\", \"fall\", \"fall\", \"fall\", \"fall\", \"fall\", \"fall\", \"fall\", \"fall\", \"faymann\", \"faymann\", \"faymann\", \"faymann\", \"faymann\", \"faymann\", \"faymann\", \"faymann\", \"faymann\", \"festgenomm\", \"festgenomm\", \"festgenomm\", \"festgenomm\", \"festgenomm\", \"festgenomm\", \"festgenomm\", \"festgenomm\", \"festgenomm\", \"finanzvorstand\", \"finanzvorstand\", \"finanzvorstand\", \"finanzvorstand\", \"flam\", \"flam\", \"fledermaus\", \"fledermaus\", \"fledermaus\", \"fledermaus\", \"fledermaus\", \"fledermaus\", \"flora\", \"flora\", \"fluchtling\", \"fluchtling\", \"fluchtling\", \"fluchtling\", \"fluchtling\", \"fluchtling\", \"fluchtling\", \"fluchtling\", \"fluchtling\", \"flyer\", \"flyer\", \"flyer\", \"flyer\", \"flyer\", \"flyer\", \"flyer\", \"flyer\", \"flyer\", \"fonseca\", \"fonseca\", \"fonseca\", \"forscherteam\", \"forscherteam\", \"forscherteam\", \"forscherteam\", \"forscherteam\", \"forscherteam\", \"forscherteam\", \"forscherteam\", \"fortpflanz\", \"fortpflanz\", \"fortpflanz\", \"frag\", \"frag\", \"frag\", \"frag\", \"frag\", \"frag\", \"frag\", \"frag\", \"frag\", \"fragment\", \"fragment\", \"fragment\", \"fragment\", \"fragment\", \"freitag\", \"freitag\", \"freitag\", \"freitag\", \"freitag\", \"freitag\", \"freitag\", \"freitag\", \"freitag\", \"friedensplan\", \"friedensplan\", \"friedensplan\", \"friedensplan\", \"frontlini\", \"frontlini\", \"frontlini\", \"futt\", \"futt\", \"futt\", \"futt\", \"futt\", \"futt\", \"futt\", \"futt\", \"futt\", \"ganz\", \"ganz\", \"ganz\", \"ganz\", \"ganz\", \"ganz\", \"ganz\", \"ganz\", \"ganz\", \"gazastreif\", \"gazastreif\", \"gazastreif\", \"gazastreif\", \"gazastreif\", \"gazastreif\", \"gazastreif\", \"gazastreif\", \"gazastreif\", \"gazprom\", \"gazprom\", \"gazprom\", \"geb\", \"geb\", \"geb\", \"geb\", \"geb\", \"geb\", \"geb\", \"geb\", \"geb\", \"gebog\", \"gebog\", \"gebog\", \"gebog\", \"gebrem\", \"gebrem\", \"gebrem\", \"gebrem\", \"gecoacht\", \"gecoacht\", \"gecoacht\", \"gecoacht\", \"gecoacht\", \"gecoacht\", \"geht\", \"geht\", \"geht\", \"geht\", \"geht\", \"geht\", \"geht\", \"geht\", \"geht\", \"geldfluss\", \"geldfluss\", \"geldfluss\", \"geldfluss\", \"geldhaus\", \"geldhaus\", \"geldhaus\", \"geldhaus\", \"geldhaus\", \"geldhaus\", \"geldhaus\", \"geodynam\", \"geodynam\", \"geodynam\", \"geodynam\", \"geodynam\", \"geodynam\", \"geodynam\", \"geodynam\", \"geodynam\", \"geolog\", \"geolog\", \"geolog\", \"geolog\", \"geolog\", \"geolog\", \"geolog\", \"geolog\", \"gerat\", \"gerat\", \"gerat\", \"gerat\", \"gerat\", \"gerat\", \"gerat\", \"gerat\", \"gerat\", \"gesamtscor\", \"gesamtscor\", \"gesamtscor\", \"gesamtscor\", \"gesamtscor\", \"gesamtscor\", \"gesamtscor\", \"gesamtscor\", \"geschaft\", \"geschaft\", \"geschaft\", \"geschaft\", \"geschaft\", \"geschaft\", \"geschaft\", \"geschaft\", \"geschaft\", \"gespult\", \"gespult\", \"gespult\", \"gespult\", \"getotet\", \"getotet\", \"getotet\", \"getotet\", \"getotet\", \"getotet\", \"getotet\", \"getotet\", \"getotet\", \"gibt\", \"gibt\", \"gibt\", \"gibt\", \"gibt\", \"gibt\", \"gibt\", \"gibt\", \"gibt\", \"glaubig\", \"glaubig\", \"glaubig\", \"glaubig\", \"glaubig\", \"glaubig\", \"glaubig\", \"glaubig\", \"glaubig\", \"googl\", \"googl\", \"googl\", \"googl\", \"googl\", \"googl\", \"googl\", \"googl\", \"googl\", \"grabn\", \"grabn\", \"grabn\", \"grabn\", \"grabn\", \"grabn\", \"grabn\", \"grabn\", \"grabn\", \"grad\", \"grad\", \"grad\", \"grad\", \"grad\", \"grad\", \"grad\", \"grad\", \"grad\", \"grenz\", \"grenz\", \"grenz\", \"grenz\", \"grenz\", \"grenz\", \"grenz\", \"grenz\", \"grenz\", \"grenzmanagement\", \"grenzmanagement\", \"grenzmanagement\", \"grenzmanagement\", \"grenzmanagement\", \"grenzmanagement\", \"grenzmanagement\", \"grenzmanagement\", \"grenzmanagement\", \"grenzzaun\", \"grenzzaun\", \"grenzzaun\", \"grenzzaun\", \"grenzzaun\", \"grenzzaun\", \"grenzzaun\", \"grenzzaun\", \"grenzzaun\", \"griechenland\", \"griechenland\", \"griechenland\", \"griechenland\", \"griechenland\", \"griechenland\", \"griechenland\", \"griechenland\", \"griechenland\", \"griechisch\", \"griechisch\", \"griechisch\", \"griechisch\", \"griechisch\", \"griechisch\", \"griechisch\", \"griechisch\", \"griechisch\", \"grodig\", \"grodig\", \"grodig\", \"grodig\", \"grodig\", \"grodig\", \"grodig\", \"grodig\", \"grodig\", \"gross\", \"gross\", \"gross\", \"gross\", \"gross\", \"gross\", \"gross\", \"gross\", \"gross\", \"grun\", \"grun\", \"grun\", \"grun\", \"grun\", \"grun\", \"grun\", \"grun\", \"grun\", \"grund\", \"grund\", \"grund\", \"grund\", \"grund\", \"grund\", \"grund\", \"grund\", \"grund\", \"grundnig\", \"grundnig\", \"grundnig\", \"grundnig\", \"grundnig\", \"grundnig\", \"grundnig\", \"grundnig\", \"happel\", \"happel\", \"happel\", \"happel\", \"happel\", \"happel\", \"happel\", \"happel\", \"happel\", \"haram\", \"haram\", \"haram\", \"haram\", \"haram\", \"haram\", \"haram\", \"harrt\", \"harrt\", \"hatt\", \"hatt\", \"hatt\", \"hatt\", \"hatt\", \"hatt\", \"hatt\", \"hatt\", \"hatt\", \"hauptstadt\", \"hauptstadt\", \"hauptstadt\", \"hauptstadt\", \"hauptstadt\", \"hauptstadt\", \"hauptstadt\", \"hauptstadt\", \"hauptstadt\", \"hewlett\", \"hewlett\", \"hewlett\", \"hinkt\", \"hinkt\", \"hinkt\", \"hinkt\", \"hinspiel\", \"hinspiel\", \"hinspiel\", \"hinspiel\", \"hinspiel\", \"hinspiel\", \"hinspiel\", \"hinspiel\", \"hinspiel\", \"hofmann\", \"hofmann\", \"hofmann\", \"hofmann\", \"hofmann\", \"hofmann\", \"hofmann\", \"hofmann\", \"hofmann\", \"hoh\", \"hoh\", \"hoh\", \"hoh\", \"hoh\", \"hoh\", \"hoh\", \"hoh\", \"hoh\", \"houthi\", \"houthi\", \"houthi\", \"houthi\", \"houthi\", \"houthi\", \"houthi\", \"huthi\", \"huthi\", \"huthi\", \"hypo\", \"hypo\", \"hypo\", \"hypo\", \"hypo\", \"hypo\", \"hypo\", \"hypo\", \"hypo\", \"icloud\", \"icloud\", \"icloud\", \"icloud\", \"icloud\", \"icloud\", \"icloud\", \"icloud\", \"idomeni\", \"idomeni\", \"idomeni\", \"idomeni\", \"idomeni\", \"idomeni\", \"idomeni\", \"idomeni\", \"idomeni\", \"imm\", \"imm\", \"imm\", \"imm\", \"imm\", \"imm\", \"imm\", \"imm\", \"imm\", \"importi\", \"importi\", \"importi\", \"innenministerin\", \"innenministerin\", \"innenministerin\", \"innenministerin\", \"innenministerin\", \"innenministerin\", \"innenministerin\", \"innenministerin\", \"innenministerin\", \"inspektion\", \"inspektion\", \"inspektion\", \"inspektion\", \"inspektion\", \"inspektion\", \"inspektion\", \"inspektion\", \"inspektion\", \"ipad\", \"ipad\", \"ipad\", \"ipad\", \"ipad\", \"ipad\", \"ipad\", \"ipad\", \"ipad\", \"iphon\", \"iphon\", \"iphon\", \"iphon\", \"iphon\", \"iphon\", \"iphon\", \"iphon\", \"iphon\", \"iran\", \"iran\", \"iran\", \"iran\", \"iran\", \"iran\", \"iran\", \"iran\", \"iran\", \"islam\", \"islam\", \"islam\", \"islam\", \"islam\", \"islam\", \"islam\", \"islam\", \"islam\", \"israel\", \"israel\", \"israel\", \"israel\", \"israel\", \"israel\", \"israel\", \"israel\", \"israel\", \"jacket\", \"jacket\", \"jacket\", \"jahrig\", \"jahrig\", \"jahrig\", \"jahrig\", \"jahrig\", \"jahrig\", \"jahrig\", \"jahrig\", \"jahrig\", \"jeffrey\", \"jeffrey\", \"jeffrey\", \"jeffrey\", \"jeffrey\", \"jem\", \"jem\", \"jem\", \"jem\", \"jem\", \"jem\", \"jem\", \"jem\", \"jem\", \"jersey\", \"jersey\", \"jersey\", \"jersey\", \"jersey\", \"jersey\", \"joshua\", \"joshua\", \"joshua\", \"kampf\", \"kampf\", \"kampf\", \"kampf\", \"kampf\", \"kampf\", \"kampf\", \"kampf\", \"kampf\", \"kampfeinsatz\", \"kampfeinsatz\", \"kampfeinsatz\", \"kampfflugzeug\", \"kampfflugzeug\", \"kampfflugzeug\", \"kampfflugzeug\", \"kampfflugzeug\", \"kampfflugzeug\", \"kampfflugzeug\", \"kampfflugzeug\", \"kampfflugzeug\", \"kandidat\", \"kandidat\", \"kandidat\", \"kandidat\", \"kandidat\", \"kandidat\", \"kandidat\", \"kandidat\", \"kandidat\", \"keita\", \"keita\", \"keita\", \"keita\", \"keita\", \"keita\", \"keita\", \"keita\", \"keita\", \"kern\", \"kern\", \"kern\", \"kern\", \"kern\", \"kern\", \"kern\", \"kern\", \"kern\", \"khamenei\", \"khamenei\", \"khamenei\", \"khamenei\", \"khamenei\", \"khamenei\", \"khamenei\", \"kiew\", \"kiew\", \"kiew\", \"kiew\", \"kiew\", \"kiew\", \"kiew\", \"kiew\", \"kiew\", \"kind\", \"kind\", \"kind\", \"kind\", \"kind\", \"kind\", \"kind\", \"kind\", \"kind\", \"knapp\", \"knapp\", \"knapp\", \"knapp\", \"knapp\", \"knapp\", \"knapp\", \"knapp\", \"knapp\", \"knasmulln\", \"knasmulln\", \"knasmulln\", \"knasmulln\", \"knasmulln\", \"knasmulln\", \"kohlendioxid\", \"kolumn\", \"kolumn\", \"kolumn\", \"kolumn\", \"kolumn\", \"kolumn\", \"kolumn\", \"kolumn\", \"kolumn\", \"komet\", \"komet\", \"komet\", \"komet\", \"komet\", \"komet\", \"komet\", \"komm\", \"komm\", \"komm\", \"komm\", \"komm\", \"komm\", \"komm\", \"komm\", \"komm\", \"kommt\", \"kommt\", \"kommt\", \"kommt\", \"kommt\", \"kommt\", \"kommt\", \"kommt\", \"kommt\", \"konjunkturell\", \"konjunkturell\", \"konjunkturell\", \"konjunkturell\", \"konnt\", \"konnt\", \"konnt\", \"konnt\", \"konnt\", \"konnt\", \"konnt\", \"konnt\", \"konnt\", \"konsol\", \"konsol\", \"konsol\", \"konsol\", \"konsol\", \"konsol\", \"konsol\", \"konsol\", \"konsol\", \"konzernumsatz\", \"konzernumsatz\", \"kremlchef\", \"kremlchef\", \"kremlchef\", \"kremlchef\", \"kremlchef\", \"kremlsprech\", \"kremlsprech\", \"kremlsprech\", \"krim\", \"krim\", \"krim\", \"krim\", \"krim\", \"krim\", \"krim\", \"krim\", \"krim\", \"kufstein\", \"kufstein\", \"kufstein\", \"kufstein\", \"kufstein\", \"kufstein\", \"kufstein\", \"kufstein\", \"kuhn\", \"kuhn\", \"kuhn\", \"kuhn\", \"kuhn\", \"kuhn\", \"kuhn\", \"kund\", \"kund\", \"kund\", \"kund\", \"kund\", \"kund\", \"kund\", \"kund\", \"kund\", \"kunduz\", \"kunduz\", \"kunduz\", \"kunduz\", \"kunduz\", \"kunduz\", \"kurdisch\", \"kurdisch\", \"kurdisch\", \"kurdisch\", \"kurdisch\", \"kurdisch\", \"kurdisch\", \"kurdisch\", \"kurdisch\", \"kurz\", \"kurz\", \"kurz\", \"kurz\", \"kurz\", \"kurz\", \"kurz\", \"kurz\", \"kurz\", \"land\", \"land\", \"land\", \"land\", \"land\", \"land\", \"land\", \"land\", \"land\", \"lang\", \"lang\", \"lang\", \"lang\", \"lang\", \"lang\", \"lang\", \"lang\", \"lang\", \"laut\", \"laut\", \"laut\", \"laut\", \"laut\", \"laut\", \"laut\", \"laut\", \"laut\", \"lazio\", \"lazio\", \"lazio\", \"lazio\", \"lazio\", \"lazio\", \"lazio\", \"lazio\", \"leaf\", \"leaf\", \"leaf\", \"leaf\", \"leaf\", \"leaf\", \"leaf\", \"leaf\", \"leaf\", \"leagu\", \"leagu\", \"leagu\", \"leagu\", \"leagu\", \"leagu\", \"leagu\", \"leagu\", \"leagu\", \"lego\", \"lego\", \"lego\", \"lego\", \"lego\", \"lego\", \"leichnam\", \"leichnam\", \"leichnam\", \"leichnam\", \"leichnam\", \"leitn\", \"leitn\", \"leitn\", \"leitn\", \"leitn\", \"leitn\", \"leitn\", \"leitn\", \"leitn\", \"leverkus\", \"leverkus\", \"leverkus\", \"leverkus\", \"leverkus\", \"leverkus\", \"leverkus\", \"leverkus\", \"leverkus\", \"linguist\", \"linguist\", \"linguist\", \"luftangriff\", \"luftangriff\", \"luftangriff\", \"luftangriff\", \"luftangriff\", \"luftangriff\", \"luftangriff\", \"luftangriff\", \"luftangriff\", \"luftschlag\", \"luftschlag\", \"luftschlag\", \"luftschlag\", \"luftschlag\", \"luftschlag\", \"luftschlag\", \"luftwaff\", \"luftwaff\", \"luftwaff\", \"luftwaff\", \"luftwaff\", \"luftwaff\", \"luftwaff\", \"luftwaff\", \"luftwaff\", \"luhansk\", \"luhansk\", \"luhansk\", \"luhansk\", \"lumia\", \"lumia\", \"lumia\", \"lumia\", \"lumia\", \"lumia\", \"lumia\", \"lumia\", \"lumia\", \"lwiw\", \"lwiw\", \"lwiw\", \"lwiw\", \"lwiw\", \"lwiw\", \"lwiw\", \"maak\", \"maak\", \"maak\", \"maak\", \"maak\", \"maak\", \"maak\", \"magnet\", \"magnet\", \"magnet\", \"magnet\", \"magnet\", \"magnet\", \"magnet\", \"mann\", \"mann\", \"mann\", \"mann\", \"mann\", \"mann\", \"mann\", \"mann\", \"mann\", \"mannschaft\", \"mannschaft\", \"mannschaft\", \"mannschaft\", \"mannschaft\", \"mannschaft\", \"mannschaft\", \"mannschaft\", \"mannschaft\", \"mansur\", \"mansur\", \"mansur\", \"mansur\", \"mansur\", \"mansur\", \"mansur\", \"mapl\", \"mapl\", \"mapl\", \"mapl\", \"mapl\", \"mapl\", \"mapl\", \"mapl\", \"mapl\", \"mariano\", \"mariano\", \"mariano\", \"mariano\", \"mariano\", \"mariano\", \"mariano\", \"mariano\", \"mariano\", \"markt\", \"markt\", \"markt\", \"markt\", \"markt\", \"markt\", \"markt\", \"markt\", \"markt\", \"mazedon\", \"mazedon\", \"mazedon\", \"mazedon\", \"mazedon\", \"mazedon\", \"mazedon\", \"mazedon\", \"mazedon\", \"mazedoni\", \"mazedoni\", \"mazedoni\", \"mazedoni\", \"mazedoni\", \"mazedoni\", \"mazedoni\", \"mazedoni\", \"mazedoni\", \"mbit\", \"mbit\", \"mbit\", \"mbit\", \"mbit\", \"mbit\", \"mbit\", \"mbit\", \"mensch\", \"mensch\", \"mensch\", \"mensch\", \"mensch\", \"mensch\", \"mensch\", \"mensch\", \"mensch\", \"messag\", \"messag\", \"messag\", \"messag\", \"messag\", \"messag\", \"meteorolog\", \"meteorolog\", \"meteorolog\", \"meteorolog\", \"meteorolog\", \"meteorolog\", \"meteorolog\", \"meteorolog\", \"meteorolog\", \"meteorologi\", \"meteorologi\", \"meteorologi\", \"meteorologi\", \"meteorologi\", \"meteorologi\", \"meteorologi\", \"meteorologi\", \"meteorologi\", \"mexikos\", \"mexikos\", \"mexikos\", \"mexikos\", \"microsoft\", \"microsoft\", \"microsoft\", \"microsoft\", \"microsoft\", \"microsoft\", \"microsoft\", \"microsoft\", \"microsoft\", \"migrant\", \"migrant\", \"migrant\", \"migrant\", \"migrant\", \"migrant\", \"migrant\", \"migrant\", \"migrant\", \"militarallianz\", \"militarallianz\", \"militarallianz\", \"militarallianz\", \"militarallianz\", \"miliz\", \"miliz\", \"miliz\", \"miliz\", \"miliz\", \"miliz\", \"miliz\", \"miliz\", \"miliz\", \"milliard\", \"milliard\", \"milliard\", \"milliard\", \"milliard\", \"milliard\", \"milliard\", \"milliard\", \"milliard\", \"million\", \"million\", \"million\", \"million\", \"million\", \"million\", \"million\", \"million\", \"million\", \"minnesota\", \"minnesota\", \"minnesota\", \"minnesota\", \"minnesota\", \"minnesota\", \"minnesota\", \"minnesota\", \"minnesota\", \"minsk\", \"minsk\", \"minsk\", \"minsk\", \"minsk\", \"minsk\", \"minsk\", \"minsk\", \"minsk\", \"minut\", \"minut\", \"minut\", \"minut\", \"minut\", \"minut\", \"minut\", \"minut\", \"minut\", \"mobil\", \"mobil\", \"mobil\", \"mobil\", \"mobil\", \"mobil\", \"mobil\", \"mobil\", \"mobil\", \"mogadischu\", \"mogadischu\", \"mogadischu\", \"mogadischu\", \"mogadischu\", \"moglich\", \"moglich\", \"moglich\", \"moglich\", \"moglich\", \"moglich\", \"moglich\", \"moglich\", \"moglich\", \"monopol\", \"monopol\", \"monopol\", \"moreno\", \"moreno\", \"moreno\", \"moreno\", \"moreno\", \"moreno\", \"moreno\", \"moskau\", \"moskau\", \"moskau\", \"moskau\", \"moskau\", \"moskau\", \"moskau\", \"moskau\", \"moskau\", \"mossack\", \"mossack\", \"mossack\", \"mossack\", \"mossack\", \"most\", \"most\", \"most\", \"most\", \"most\", \"most\", \"most\", \"most\", \"most\", \"music\", \"music\", \"music\", \"music\", \"music\", \"music\", \"music\", \"music\", \"music\", \"muss\", \"muss\", \"muss\", \"muss\", \"muss\", \"muss\", \"muss\", \"muss\", \"muss\", \"mutmasst\", \"mutmasst\", \"mutmasst\", \"mutmasst\", \"mutterkonz\", \"mutterkonz\", \"mutterkonz\", \"mutterkonz\", \"nachbors\", \"nachbors\", \"nachbors\", \"nachbors\", \"nashvill\", \"nashvill\", \"nashvill\", \"nashvill\", \"nashvill\", \"nashvill\", \"nashvill\", \"nashvill\", \"nashvill\", \"netanyahu\", \"netanyahu\", \"netanyahu\", \"netanyahu\", \"netanyahu\", \"netanyahu\", \"nettogewinn\", \"nettogewinn\", \"neu\", \"neu\", \"neu\", \"neu\", \"neu\", \"neu\", \"neu\", \"neu\", \"neu\", \"nickelsdorf\", \"nickelsdorf\", \"nickelsdorf\", \"nickelsdorf\", \"nickelsdorf\", \"nickelsdorf\", \"nickelsdorf\", \"nickelsdorf\", \"nickelsdorf\", \"nigerias\", \"nobelpreis\", \"nobelpreis\", \"nobelpreis\", \"nobelpreis\", \"nokia\", \"nokia\", \"nokia\", \"nokia\", \"nokia\", \"nokia\", \"nokia\", \"nokia\", \"nokia\", \"nordeuropa\", \"nordeuropa\", \"nordeuropa\", \"nordeuropa\", \"nordeuropa\", \"nordeuropa\", \"notenbank\", \"notenbank\", \"notenbank\", \"notenbank\", \"notenbank\", \"notenbank\", \"notenbank\", \"notenbank\", \"notenbank\", \"notleid\", \"notleid\", \"notleid\", \"notleid\", \"notleid\", \"notleid\", \"nutz\", \"nutz\", \"nutz\", \"nutz\", \"nutz\", \"nutz\", \"nutz\", \"nutz\", \"nutz\", \"oberhaupt\", \"oberhaupt\", \"oberhaupt\", \"oberhaupt\", \"oberhaupt\", \"oberhaupt\", \"oberhaupt\", \"oberhaupt\", \"oberhaupt\", \"offshor\", \"offshor\", \"offshor\", \"offshor\", \"offshor\", \"offshor\", \"offshor\", \"offshor\", \"offshor\", \"oil\", \"opec\", \"opec\", \"opec\", \"opec\", \"opec\", \"opec\", \"opern\", \"opern\", \"opern\", \"opern\", \"opern\", \"opern\", \"oppositionsnah\", \"orbit\", \"orbit\", \"orbit\", \"orbit\", \"orbit\", \"orb\\u00e1n\", \"orb\\u00e1n\", \"orb\\u00e1n\", \"orb\\u00e1n\", \"orb\\u00e1n\", \"orb\\u00e1n\", \"orb\\u00e1n\", \"orb\\u00e1n\", \"orb\\u00e1n\", \"osterreich\", \"osterreich\", \"osterreich\", \"osterreich\", \"osterreich\", \"osterreich\", \"osterreich\", \"osterreich\", \"osterreich\", \"ostukrain\", \"ostukrain\", \"ostukrain\", \"ostukrain\", \"ostukrain\", \"ostukrain\", \"ostukrain\", \"ostukrain\", \"ostukrain\", \"packard\", \"packard\", \"panama\", \"panama\", \"panama\", \"panama\", \"panama\", \"panama\", \"panama\", \"panama\", \"panama\", \"parlament\", \"parlament\", \"parlament\", \"parlament\", \"parlament\", \"parlament\", \"parlament\", \"parlament\", \"parlament\", \"partei\", \"partei\", \"partei\", \"partei\", \"partei\", \"partei\", \"partei\", \"partei\", \"partei\", \"parteifuhr\", \"parteifuhr\", \"parteifuhr\", \"parteifuhr\", \"partitur\", \"partitur\", \"partitur\", \"pendelt\", \"pendelt\", \"pendelt\", \"pendelt\", \"pendelt\", \"pendelt\", \"penguin\", \"penguin\", \"penguin\", \"personenverkehr\", \"personenverkehr\", \"personenverkehr\", \"personenverkehr\", \"personenverkehr\", \"personenverkehr\", \"personenverkehr\", \"peskow\", \"peskow\", \"peskow\", \"peskow\", \"peskow\", \"peskow\", \"peskow\", \"peskow\", \"peskow\", \"pfeiff\", \"pfeiff\", \"pfeiff\", \"pfeiff\", \"pfeiff\", \"pfeiff\", \"pfeiff\", \"pfeiff\", \"pfeiff\", \"philadelphia\", \"philadelphia\", \"philadelphia\", \"philadelphia\", \"philadelphia\", \"philadelphia\", \"philadelphia\", \"philadelphia\", \"philadelphia\", \"piston\", \"piston\", \"piston\", \"platz\", \"platz\", \"platz\", \"platz\", \"platz\", \"platz\", \"platz\", \"platz\", \"platz\", \"polit\", \"polit\", \"polit\", \"polit\", \"polit\", \"polit\", \"polit\", \"polit\", \"polit\", \"polizei\", \"polizei\", \"polizei\", \"polizei\", \"polizei\", \"polizei\", \"polizei\", \"polizei\", \"polizei\", \"polizeistation\", \"polizeistation\", \"polizeistation\", \"polizeistation\", \"polizeistation\", \"polizeistation\", \"polizist\", \"polizist\", \"polizist\", \"polizist\", \"polizist\", \"polizist\", \"polizist\", \"polizist\", \"polizist\", \"prallt\", \"prallt\", \"prallt\", \"prallt\", \"prasident\", \"prasident\", \"prasident\", \"prasident\", \"prasident\", \"prasident\", \"prasident\", \"prasident\", \"prasident\", \"prasidialamt\", \"predator\", \"predator\", \"predator\", \"predator\", \"preiserhoh\", \"preiserhoh\", \"preiserhoh\", \"preiserhoh\", \"preiserhoh\", \"preiserhoh\", \"proband\", \"proband\", \"proband\", \"proband\", \"proband\", \"proband\", \"proband\", \"produktivitat\", \"produktivitat\", \"produktivitat\", \"produktivitat\", \"prokurd\", \"prokurd\", \"prokurd\", \"prokurd\", \"prokurd\", \"protein\", \"protein\", \"protein\", \"protein\", \"provinz\", \"provinz\", \"provinz\", \"provinz\", \"provinz\", \"provinz\", \"provinz\", \"provinz\", \"provinz\", \"prozent\", \"prozent\", \"prozent\", \"prozent\", \"prozent\", \"prozent\", \"prozent\", \"prozent\", \"prozent\", \"punkt\", \"punkt\", \"punkt\", \"punkt\", \"punkt\", \"punkt\", \"punkt\", \"punkt\", \"punkt\", \"putin\", \"putin\", \"putin\", \"putin\", \"putin\", \"putin\", \"putin\", \"putin\", \"putin\", \"quartalszahl\", \"quartalszahl\", \"quartalszahl\", \"radkersburg\", \"radkersburg\", \"radkersburg\", \"radkersburg\", \"radkersburg\", \"radkersburg\", \"radkersburg\", \"radkersburg\", \"radkersburg\", \"ramadi\", \"ramadi\", \"ramadi\", \"ramadi\", \"ramadi\", \"ramadi\", \"rapid\", \"rapid\", \"rapid\", \"rapid\", \"rapid\", \"rapid\", \"rapid\", \"rapid\", \"rapid\", \"raqqa\", \"raqqa\", \"raqqa\", \"raqqa\", \"raqqa\", \"raqqa\", \"raucht\", \"raucht\", \"raucht\", \"raucht\", \"raucht\", \"raucht\", \"rebell\", \"rebell\", \"rebell\", \"rebell\", \"rebell\", \"rebell\", \"rebell\", \"rebell\", \"rebell\", \"rechtlich\", \"rechtlich\", \"rechtlich\", \"rechtlich\", \"rechtlich\", \"rechtlich\", \"rechtlich\", \"rechtlich\", \"rechtlich\", \"reflexion\", \"reflexion\", \"reflexion\", \"reflexion\", \"regenschau\", \"regenschau\", \"regenschau\", \"regenschau\", \"regenschau\", \"regenschau\", \"regenschau\", \"regier\", \"regier\", \"regier\", \"regier\", \"regier\", \"regier\", \"regier\", \"regier\", \"regier\", \"retro\", \"retro\", \"retro\", \"ried\", \"ried\", \"ried\", \"ried\", \"ried\", \"ried\", \"ried\", \"ried\", \"ried\", \"rohani\", \"rohani\", \"rohani\", \"rohani\", \"rohani\", \"rohani\", \"rohani\", \"rohani\", \"rohani\", \"ruckschieb\", \"ruckschieb\", \"ruckschieb\", \"ruckschieb\", \"ruckschieb\", \"ruckschieb\", \"ruckschieb\", \"rund\", \"rund\", \"rund\", \"rund\", \"rund\", \"rund\", \"rund\", \"rund\", \"rund\", \"rupprecht\", \"rupprecht\", \"rupprecht\", \"rupprecht\", \"rupprecht\", \"rupprecht\", \"rupprecht\", \"rupprecht\", \"rupprecht\", \"russisch\", \"russisch\", \"russisch\", \"russisch\", \"russisch\", \"russisch\", \"russisch\", \"russisch\", \"russisch\", \"russland\", \"russland\", \"russland\", \"russland\", \"russland\", \"russland\", \"russland\", \"russland\", \"russland\", \"rustung\", \"rustung\", \"rustung\", \"ryanair\", \"sabr\", \"saison\", \"saison\", \"saison\", \"saison\", \"saison\", \"saison\", \"saison\", \"saison\", \"saison\", \"salzburg\", \"salzburg\", \"salzburg\", \"salzburg\", \"salzburg\", \"salzburg\", \"salzburg\", \"salzburg\", \"salzburg\", \"sammelstell\", \"sammelstell\", \"sammelstell\", \"sammelstell\", \"sammelstell\", \"sammelstell\", \"sammelstell\", \"sammelstell\", \"sammelstell\", \"samstag\", \"samstag\", \"samstag\", \"samstag\", \"samstag\", \"samstag\", \"samstag\", \"samstag\", \"samstag\", \"samsung\", \"samsung\", \"samsung\", \"samsung\", \"samsung\", \"samsung\", \"samsung\", \"samsung\", \"samsung\", \"sanaa\", \"sanaa\", \"sanaa\", \"sanaa\", \"sanaa\", \"sanaa\", \"sanaa\", \"sanaa\", \"schachtar\", \"schachtar\", \"schachtar\", \"schachtar\", \"schachtar\", \"schachtar\", \"schachtar\", \"schachtar\", \"schachtar\", \"schaub\", \"schaub\", \"schaub\", \"schaub\", \"schaub\", \"schaub\", \"schaub\", \"schaub\", \"schaub\", \"schlittert\", \"schlittert\", \"schlittert\", \"schlittert\", \"schlittert\", \"schon\", \"schon\", \"schon\", \"schon\", \"schon\", \"schon\", \"schon\", \"schon\", \"schon\", \"schubert\", \"schubert\", \"schubert\", \"schubert\", \"schubert\", \"schubert\", \"schubert\", \"schubert\", \"schwarz\", \"schwarz\", \"schwarz\", \"schwarz\", \"schwarz\", \"schwarz\", \"schwarz\", \"schwarz\", \"schwarz\", \"schwer\", \"schwer\", \"schwer\", \"schwer\", \"schwer\", \"schwer\", \"schwer\", \"schwer\", \"schwer\", \"seh\", \"seh\", \"seh\", \"seh\", \"seh\", \"seh\", \"seh\", \"seh\", \"seh\", \"seien\", \"seien\", \"seien\", \"seien\", \"seien\", \"seien\", \"seien\", \"seien\", \"seien\", \"seit\", \"seit\", \"seit\", \"seit\", \"seit\", \"seit\", \"seit\", \"seit\", \"seit\", \"separatist\", \"separatist\", \"separatist\", \"separatist\", \"separatist\", \"separatist\", \"separatist\", \"separatist\", \"separatist\", \"sepp\", \"sepp\", \"sepp\", \"serbi\", \"serbi\", \"serbi\", \"serbi\", \"serbi\", \"serbi\", \"serbi\", \"serbi\", \"serbi\", \"shabaab\", \"shabaab\", \"shabaab\", \"shabaab\", \"shabaab\", \"shabaab\", \"shabaab\", \"shabaab\", \"shark\", \"shark\", \"shark\", \"shark\", \"siebenhandl\", \"siebenhandl\", \"siebenhandl\", \"siebenhandl\", \"siebenhandl\", \"siebenhandl\", \"siebenhandl\", \"sieg\", \"sieg\", \"sieg\", \"sieg\", \"sieg\", \"sieg\", \"sieg\", \"sieg\", \"sieg\", \"signatur\", \"signatur\", \"signatur\", \"signatur\", \"skelett\", \"skelett\", \"skelett\", \"skelett\", \"skelett\", \"skelett\", \"skispring\", \"skispring\", \"skispring\", \"skispring\", \"skispring\", \"skispring\", \"skispring\", \"skispring\", \"skispring\", \"slim\", \"slim\", \"slim\", \"slim\", \"slim\", \"slim\", \"slim\", \"smartphon\", \"smartphon\", \"smartphon\", \"smartphon\", \"smartphon\", \"smartphon\", \"smartphon\", \"smartphon\", \"smartphon\", \"sold\", \"sold\", \"sold\", \"sold\", \"sold\", \"sold\", \"sold\", \"soldat\", \"soldat\", \"soldat\", \"soldat\", \"soldat\", \"soldat\", \"soldat\", \"soldat\", \"soldat\", \"soll\", \"soll\", \"soll\", \"soll\", \"soll\", \"soll\", \"soll\", \"soll\", \"soll\", \"somalia\", \"somalia\", \"somalia\", \"somalia\", \"somalia\", \"somalia\", \"somalia\", \"somalia\", \"somalia\", \"sonnig\", \"sonnig\", \"sonnig\", \"sonnig\", \"sonnig\", \"sonnig\", \"sonnig\", \"sonnig\", \"sonnig\", \"spacex\", \"spacex\", \"spacex\", \"spacex\", \"sparkass\", \"sparkass\", \"sparkass\", \"sparkass\", \"sparkass\", \"sparkass\", \"sparkass\", \"spenc\", \"spenc\", \"spenc\", \"spenc\", \"spenc\", \"spenc\", \"spenc\", \"spiel\", \"spiel\", \"spiel\", \"spiel\", \"spiel\", \"spiel\", \"spiel\", \"spiel\", \"spiel\", \"spielfeld\", \"spielfeld\", \"spielfeld\", \"spielfeld\", \"spielfeld\", \"spielfeld\", \"spielfeld\", \"spielfeld\", \"spielfeld\", \"spinn\", \"spinn\", \"spinn\", \"spinn\", \"spinn\", \"spinn\", \"spinn\", \"sporting\", \"sporting\", \"sporting\", \"sporting\", \"staat\", \"staat\", \"staat\", \"staat\", \"staat\", \"staat\", \"staat\", \"staat\", \"staat\", \"staatsanleih\", \"staatsanleih\", \"staatsbetrieb\", \"staatsbetrieb\", \"staatsbetrieb\", \"staatsschuld\", \"staatsschuld\", \"stadion\", \"stadion\", \"stadion\", \"stadion\", \"stadion\", \"stadion\", \"stadion\", \"stadion\", \"stadion\", \"stadt\", \"stadt\", \"stadt\", \"stadt\", \"stadt\", \"stadt\", \"stadt\", \"stadt\", \"stadt\", \"stadtrival\", \"stadtrival\", \"stadtrival\", \"stadtrival\", \"stadtrival\", \"stadtrival\", \"stadtrival\", \"stagni\", \"stagni\", \"stagni\", \"stagni\", \"stagni\", \"standard\", \"standard\", \"standard\", \"standard\", \"standard\", \"standard\", \"standard\", \"standard\", \"standard\", \"stark\", \"stark\", \"stark\", \"stark\", \"stark\", \"stark\", \"stark\", \"stark\", \"stark\", \"start\", \"start\", \"start\", \"start\", \"start\", \"start\", \"start\", \"start\", \"start\", \"steh\", \"steh\", \"steh\", \"steh\", \"steh\", \"steh\", \"steh\", \"steh\", \"steh\", \"steht\", \"steht\", \"steht\", \"steht\", \"steht\", \"steht\", \"steht\", \"steht\", \"steht\", \"steuereinnahm\", \"steuereinnahm\", \"steuereinnahm\", \"steuerfahnd\", \"steuerfahnd\", \"strahl\", \"strahl\", \"strahl\", \"strahl\", \"stromnetz\", \"stromnetz\", \"stromnetz\", \"stromnetz\", \"stund\", \"stund\", \"stund\", \"stund\", \"stund\", \"stund\", \"stund\", \"stund\", \"stund\", \"sudamerikas\", \"sudamerikas\", \"sudamerikas\", \"sudamerikas\", \"sudamerikas\", \"survey\", \"survey\", \"survey\", \"syri\", \"syri\", \"syri\", \"syri\", \"syri\", \"syri\", \"syri\", \"syri\", \"syri\", \"syrisch\", \"syrisch\", \"syrisch\", \"syrisch\", \"syrisch\", \"syrisch\", \"syrisch\", \"syrisch\", \"syrisch\", \"syriza\", \"syriza\", \"syriza\", \"syriza\", \"syriza\", \"syriza\", \"syriza\", \"syriza\", \"tadic\", \"tadic\", \"tadic\", \"tadic\", \"tadic\", \"tadic\", \"tadic\", \"team\", \"team\", \"team\", \"team\", \"team\", \"team\", \"team\", \"team\", \"team\", \"teheran\", \"teheran\", \"teheran\", \"teheran\", \"teheran\", \"teheran\", \"teheran\", \"teheran\", \"teheran\", \"teilch\", \"teilch\", \"teilch\", \"teilch\", \"teilch\", \"temperatur\", \"temperatur\", \"temperatur\", \"temperatur\", \"temperatur\", \"temperatur\", \"temperatur\", \"temperatur\", \"temperatur\", \"terrornetzwerk\", \"terrornetzwerk\", \"terrornetzwerk\", \"tesla\", \"tesla\", \"tesla\", \"tesla\", \"tesla\", \"tesla\", \"tesla\", \"tesla\", \"tesla\", \"thiem\", \"thiem\", \"thiem\", \"thiem\", \"thiem\", \"thiem\", \"thiem\", \"thiem\", \"thiem\", \"tor\", \"tor\", \"tor\", \"tor\", \"tor\", \"tor\", \"tor\", \"tor\", \"tor\", \"toronto\", \"toronto\", \"toronto\", \"toronto\", \"toronto\", \"toronto\", \"toronto\", \"toronto\", \"toronto\", \"toyota\", \"toyota\", \"toyota\", \"toyota\", \"toyota\", \"toyota\", \"train\", \"train\", \"train\", \"train\", \"train\", \"train\", \"train\", \"train\", \"train\", \"traiskirch\", \"traiskirch\", \"traiskirch\", \"traiskirch\", \"traiskirch\", \"traiskirch\", \"traiskirch\", \"traiskirch\", \"traiskirch\", \"trass\", \"trass\", \"trass\", \"trass\", \"trass\", \"trump\", \"trump\", \"trump\", \"trump\", \"trump\", \"trump\", \"trump\", \"trump\", \"trump\", \"tsakalotos\", \"tsakalotos\", \"tsakalotos\", \"tsakalotos\", \"tsakalotos\", \"tsakalotos\", \"tschad\", \"tschad\", \"tschad\", \"tschad\", \"tuchel\", \"tuchel\", \"tuchel\", \"tuchel\", \"tuchel\", \"tuchel\", \"tuchel\", \"turkei\", \"turkei\", \"turkei\", \"turkei\", \"turkei\", \"turkei\", \"turkei\", \"turkei\", \"turkei\", \"turkisch\", \"turkisch\", \"turkisch\", \"turkisch\", \"turkisch\", \"turkisch\", \"turkisch\", \"turkisch\", \"turkisch\", \"ukrain\", \"ukrain\", \"ukrain\", \"ukrain\", \"ukrain\", \"ukrain\", \"ukrain\", \"ukrain\", \"ukrain\", \"umsatz\", \"umsatz\", \"umsatz\", \"umsatz\", \"umsatz\", \"umsatz\", \"umsatz\", \"umsatz\", \"umsatz\", \"umweltbehord\", \"unangefocht\", \"unangefocht\", \"unangefocht\", \"unangefocht\", \"unbeschadet\", \"unbeschadet\", \"unbeschadet\", \"unbeschadet\", \"ungar\", \"ungar\", \"ungar\", \"ungar\", \"ungar\", \"ungar\", \"ungar\", \"ungar\", \"ungar\", \"ungarn\", \"ungarn\", \"ungarn\", \"ungarn\", \"ungarn\", \"ungarn\", \"ungarn\", \"ungarn\", \"ungarn\", \"uniqa\", \"uniqa\", \"uniqa\", \"uniqa\", \"uniqa\", \"uniqa\", \"unternehm\", \"unternehm\", \"unternehm\", \"unternehm\", \"unternehm\", \"unternehm\", \"unternehm\", \"unternehm\", \"unternehm\", \"user\", \"user\", \"user\", \"user\", \"user\", \"user\", \"user\", \"user\", \"user\", \"vanek\", \"vanek\", \"vanek\", \"vanek\", \"vanek\", \"vanek\", \"vastic\", \"vastic\", \"vastic\", \"vastic\", \"vastic\", \"vastic\", \"vastic\", \"vastic\", \"vastic\", \"vehikel\", \"vehikel\", \"vehikel\", \"vehikel\", \"veranlagt\", \"veranlagt\", \"veranlagt\", \"veranlagt\", \"verfug\", \"verfug\", \"verfug\", \"verfug\", \"verfug\", \"verfug\", \"verfug\", \"verfug\", \"verfug\", \"vergang\", \"vergang\", \"vergang\", \"vergang\", \"vergang\", \"vergang\", \"vergang\", \"vergang\", \"vergang\", \"verlagsgrupp\", \"verlagsgrupp\", \"verlagsgrupp\", \"verlagsgrupp\", \"verlagsgrupp\", \"verlagsgrupp\", \"verlagsgrupp\", \"verletzt\", \"verletzt\", \"verletzt\", \"verletzt\", \"verletzt\", \"verletzt\", \"verletzt\", \"verletzt\", \"verletzt\", \"viel\", \"viel\", \"viel\", \"viel\", \"viel\", \"viel\", \"viel\", \"viel\", \"viel\", \"vier\", \"vier\", \"vier\", \"vier\", \"vier\", \"vier\", \"vier\", \"vier\", \"vier\", \"volltext\", \"vorgibt\", \"vorgibt\", \"vorgibt\", \"vorgibt\", \"vorgibt\", \"vorgibt\", \"vorjahresmonat\", \"vorjahresmonat\", \"vorjahresmonat\", \"vorquartal\", \"wachstumsrat\", \"wachstumsrat\", \"wachstumsrat\", \"wachstumsrat\", \"wahl\", \"wahl\", \"wahl\", \"wahl\", \"wahl\", \"wahl\", \"wahl\", \"wahl\", \"wahl\", \"wahlergrupp\", \"wahlergrupp\", \"wahlergrupp\", \"wahlergrupp\", \"wahlergrupp\", \"wahlergrupp\", \"wahrungshut\", \"war\", \"war\", \"war\", \"war\", \"war\", \"war\", \"war\", \"war\", \"war\", \"warrior\", \"warrior\", \"warrior\", \"warrior\", \"warrior\", \"warrior\", \"warrior\", \"warrior\", \"warrior\", \"weg\", \"weg\", \"weg\", \"weg\", \"weg\", \"weg\", \"weg\", \"weg\", \"weg\", \"weit\", \"weit\", \"weit\", \"weit\", \"weit\", \"weit\", \"weit\", \"weit\", \"weit\", \"weiterverkauf\", \"wenig\", \"wenig\", \"wenig\", \"wenig\", \"wenig\", \"wenig\", \"wenig\", \"wenig\", \"wenig\", \"wien\", \"wien\", \"wien\", \"wien\", \"wien\", \"wien\", \"wien\", \"wien\", \"wien\", \"wiesberg\", \"wiesberg\", \"wiesberg\", \"wiesberg\", \"wiesberg\", \"wiesberg\", \"wiesberg\", \"wiesberg\", \"wiesberg\", \"wimbledon\", \"wimbledon\", \"wimbledon\", \"wimbledon\", \"wimbledon\", \"wimbledon\", \"wimbledon\", \"wimbledon\", \"wimbledon\", \"windows\", \"windows\", \"windows\", \"windows\", \"windows\", \"windows\", \"windows\", \"windows\", \"windows\", \"winnipeg\", \"wirtschaft\", \"wirtschaft\", \"wirtschaft\", \"wirtschaft\", \"wirtschaft\", \"wirtschaft\", \"wirtschaft\", \"wirtschaft\", \"wirtschaft\", \"witter\", \"witter\", \"witter\", \"witter\", \"woch\", \"woch\", \"woch\", \"woch\", \"woch\", \"woch\", \"woch\", \"woch\", \"woch\", \"wolfsburg\", \"wolfsburg\", \"wolfsburg\", \"wolfsburg\", \"wolfsburg\", \"wolfsburg\", \"wolfsburg\", \"wolfsburg\", \"wolfsburg\", \"wolk\", \"wolk\", \"wolk\", \"wolk\", \"wolk\", \"wolk\", \"wolk\", \"wolk\", \"wolk\", \"word\", \"word\", \"word\", \"word\", \"word\", \"word\", \"word\", \"word\", \"word\", \"wurm\", \"wurm\", \"wurm\", \"wurm\", \"wurm\", \"wurm\", \"wurm\", \"wurm\", \"wurm\", \"xbox\", \"xbox\", \"xbox\", \"xbox\", \"xbox\", \"xbox\", \"xbox\", \"xbox\", \"xbox\", \"zaghaft\", \"zaghaft\", \"zaghaft\", \"zaghaft\", \"zaghaft\", \"zaghaft\", \"zahl\", \"zahl\", \"zahl\", \"zahl\", \"zahl\", \"zahl\", \"zahl\", \"zahl\", \"zahl\", \"zamg\", \"zamg\", \"zamg\", \"zamg\", \"zamg\", \"zamg\", \"zamg\", \"zamg\", \"zamg\", \"zarif\", \"zarif\", \"zarif\", \"zaun\", \"zaun\", \"zaun\", \"zaun\", \"zaun\", \"zaun\", \"zaun\", \"zaun\", \"zaun\", \"zeit\", \"zeit\", \"zeit\", \"zeit\", \"zeit\", \"zeit\", \"zeit\", \"zeit\", \"zeit\", \"zentralanstalt\", \"zentralanstalt\", \"zentralanstalt\", \"zentralanstalt\", \"zentralanstalt\", \"zentralanstalt\", \"zentralanstalt\", \"zentralanstalt\", \"zentralanstalt\", \"zielpunkt\", \"zielpunkt\", \"zielpunkt\", \"zielpunkt\", \"zielpunkt\", \"zielpunkt\", \"zivilist\", \"zivilist\", \"zivilist\", \"zivilist\", \"zivilist\", \"zivilist\", \"zivilist\", \"zivilist\", \"zivilist\", \"zoos\", \"zoos\", \"zoos\", \"zoos\", \"zucht\", \"zucht\", \"zucht\", \"zucht\", \"zucht\", \"zucht\", \"zucht\", \"zucht\", \"zuckerberg\", \"zuckerberg\", \"zuckerberg\", \"zuckerberg\", \"zuckerberg\", \"zuckerberg\", \"zuckerberg\", \"zuckerberg\", \"zuckerberg\", \"zud\", \"zud\", \"zud\", \"zud\", \"zud\", \"zud\", \"zud\", \"zud\", \"zud\", \"zugespielt\", \"zugespielt\", \"zukommt\", \"zukommt\", \"zukommt\", \"zukommt\", \"zukommt\", \"zuruckzutret\", \"zuruckzutret\", \"zuruckzutret\", \"zuruckzutret\", \"zuruckzutret\", \"zuruckzutret\", \"zuruckzuzahl\", \"zuruckzuzahl\", \"zuruckzuzahl\", \"zuruckzuzahl\", \"zuruckzuzahl\", \"zuruckzuzahl\", \"zuruckzuzahl\", \"zwei\", \"zwei\", \"zwei\", \"zwei\", \"zwei\", \"zwei\", \"zwei\", \"zwei\", \"zwei\", \"zweit\", \"zweit\", \"zweit\", \"zweit\", \"zweit\", \"zweit\", \"zweit\", \"zweit\", \"zweit\"]}, \"R\": 30, \"lambda.step\": 0.01, \"plot.opts\": {\"xlab\": \"PC1\", \"ylab\": \"PC2\"}, \"topic.order\": [4, 8, 1, 7, 9, 3, 2, 5, 6]};\n",
              "\n",
              "function LDAvis_load_lib(url, callback){\n",
              "  var s = document.createElement('script');\n",
              "  s.src = url;\n",
              "  s.async = true;\n",
              "  s.onreadystatechange = s.onload = callback;\n",
              "  s.onerror = function(){console.warn(\"failed to load library \" + url);};\n",
              "  document.getElementsByTagName(\"head\")[0].appendChild(s);\n",
              "}\n",
              "\n",
              "if(typeof(LDAvis) !== \"undefined\"){\n",
              "   // already loaded: just create the visualization\n",
              "   !function(LDAvis){\n",
              "       new LDAvis(\"#\" + \"ldavis_el2361323638429112803794361525\", ldavis_el2361323638429112803794361525_data);\n",
              "   }(LDAvis);\n",
              "}else if(typeof define === \"function\" && define.amd){\n",
              "   // require.js is available: use it to load d3/LDAvis\n",
              "   require.config({paths: {d3: \"https://d3js.org/d3.v5\"}});\n",
              "   require([\"d3\"], function(d3){\n",
              "      window.d3 = d3;\n",
              "      LDAvis_load_lib(\"https://cdn.jsdelivr.net/gh/bmabey/pyLDAvis@3.4.0/pyLDAvis/js/ldavis.v3.0.0.js\", function(){\n",
              "        new LDAvis(\"#\" + \"ldavis_el2361323638429112803794361525\", ldavis_el2361323638429112803794361525_data);\n",
              "      });\n",
              "    });\n",
              "}else{\n",
              "    // require.js not available: dynamically load d3 & LDAvis\n",
              "    LDAvis_load_lib(\"https://d3js.org/d3.v5.js\", function(){\n",
              "         LDAvis_load_lib(\"https://cdn.jsdelivr.net/gh/bmabey/pyLDAvis@3.4.0/pyLDAvis/js/ldavis.v3.0.0.js\", function(){\n",
              "                 new LDAvis(\"#\" + \"ldavis_el2361323638429112803794361525\", ldavis_el2361323638429112803794361525_data);\n",
              "            })\n",
              "         });\n",
              "}\n",
              "</script>"
            ]
          },
          "metadata": {},
          "execution_count": 47
        }
      ]
    },
    {
      "cell_type": "markdown",
      "metadata": {
        "id": "syy0tnTQmxZP"
      },
      "source": [
        "# Your turn - Do it yourself:\n",
        "\n",
        "Replace the given corpus with one in another language - maybe your own native language? You can find corpus online, for example:\n",
        "- https://www.corpusdata.org/intro.asp\n",
        "- or here: https://www.clarin.eu/resource-families/newspaper-corpora\n",
        "- or even in nltk: https://www.nltk.org/nltk_data/\n",
        "- In this github, there are many datasets that can be loaded through their `raw` url: https://github.com/selva86/datasets\n",
        "\n",
        "Careful: You will need to change the [Stemming](https://snowballstem.org/algorithms/) and the [Stopwords](https://www.kaggle.com/rtatman/stopword-lists-for-19-languages) to support your language. Make a web-search after the appropriate ones (if they exist..)\n",
        "\n",
        "Use the notebook to reproduce the result.  \n",
        "Try changing the parameters to get a *satisfying level of clustering*.  \n",
        "Which parameters worked best for the language you chose?"
      ]
    },
    {
      "cell_type": "markdown",
      "source": [
        "##### Help note\n",
        "\n",
        "If your corpus is a csv, [pandas' read_csv method](https://pandas.pydata.org/docs/reference/api/pandas.read_csv.html) would be the best way to tackle it.\n",
        "\n",
        "If it is, however a text file or a zip of text files, you will need another way to load them. Luckily, python is working well with both - text and zip files, with a built-in support."
      ],
      "metadata": {
        "id": "vB0wRwUpX3yB"
      }
    },
    {
      "cell_type": "markdown",
      "source": [
        "###### Example with text\n",
        "For the sake of this example, let's download two files: one text file, and one gzip file, from this website:\n",
        "\n",
        "https://lindat.mff.cuni.cz/repository/xmlui/handle/11858/00-097C-0000-0023-6260-A"
      ],
      "metadata": {
        "id": "hHe2aaI-bFHU"
      }
    },
    {
      "cell_type": "code",
      "source": [
        "!curl --remote-name-all https://lindat.mff.cuni.cz/repository/xmlui/bitstream/handle/11858/00-097C-0000-0023-6260-A{/README.txt,/hindmonocorp05.plaintext.gz}"
      ],
      "metadata": {
        "colab": {
          "base_uri": "https://localhost:8080/"
        },
        "id": "JeiBbArnXZ_u",
        "outputId": "b10672be-baa5-45ce-bb8a-229e6b2d9ce5"
      },
      "execution_count": 48,
      "outputs": [
        {
          "output_type": "stream",
          "name": "stderr",
          "text": [
            "/usr/local/lib/python3.10/dist-packages/ipykernel/ipkernel.py:283: DeprecationWarning: `should_run_async` will not call `transform_cell` automatically in the future. Please pass the result to `transformed_cell` argument and any exception that happen during thetransform in `preprocessing_exc_tuple` in IPython 7.17 and above.\n",
            "  and should_run_async(code)\n"
          ]
        },
        {
          "output_type": "stream",
          "name": "stdout",
          "text": [
            "  % Total    % Received % Xferd  Average Speed   Time    Time     Time  Current\n",
            "                                 Dload  Upload   Total   Spent    Left  Speed\n",
            "100  4472  100  4472    0     0   4454      0  0:00:01  0:00:01 --:--:--  4458\n",
            "  % Total    % Received % Xferd  Average Speed   Time    Time     Time  Current\n",
            "                                 Dload  Upload   Total   Spent    Left  Speed\n",
            "100 2353M  100 2353M    0     0  24.7M      0  0:01:35  0:01:35 --:--:-- 25.2M\n"
          ]
        }
      ]
    },
    {
      "cell_type": "markdown",
      "source": [
        "Files are accessed using the `Path` package of python's pathlib:"
      ],
      "metadata": {
        "id": "2xk8Q5phbKR4"
      }
    },
    {
      "cell_type": "code",
      "source": [
        "from pathlib import Path"
      ],
      "metadata": {
        "id": "ZA1ibqJoZjgx",
        "colab": {
          "base_uri": "https://localhost:8080/"
        },
        "outputId": "55623c73-e290-4712-f11c-62eef64ff012"
      },
      "execution_count": 49,
      "outputs": [
        {
          "output_type": "stream",
          "name": "stderr",
          "text": [
            "/usr/local/lib/python3.10/dist-packages/ipykernel/ipkernel.py:283: DeprecationWarning: `should_run_async` will not call `transform_cell` automatically in the future. Please pass the result to `transformed_cell` argument and any exception that happen during thetransform in `preprocessing_exc_tuple` in IPython 7.17 and above.\n",
            "  and should_run_async(code)\n"
          ]
        }
      ]
    },
    {
      "cell_type": "markdown",
      "source": [
        "To access a file, we use its path in Path, like so:\n",
        "\n",
        "`Path('Folder/filename.extension')`\n",
        "\n",
        "Path has many methods for files and folder. Including looping over files in folder, checking if a file exists, etc.\n",
        "\n",
        "Read more about it here: https://docs.python.org/3/library/pathlib.html"
      ],
      "metadata": {
        "id": "icYkPSu5bQhG"
      }
    },
    {
      "cell_type": "code",
      "source": [
        "readme_file = Path('README.txt')\n",
        "\n",
        "if readme_file.exists():\n",
        "  # read the text content into a variable\n",
        "  file_content = readme_file.read_text()\n",
        "  print(file_content)\n",
        "else:\n",
        "  print(\"README.txt was not found...\")"
      ],
      "metadata": {
        "colab": {
          "base_uri": "https://localhost:8080/"
        },
        "id": "kteZ2w0QapcU",
        "outputId": "64c63fe4-c43d-4062-f2b5-9603247cf696"
      },
      "execution_count": 50,
      "outputs": [
        {
          "output_type": "stream",
          "name": "stdout",
          "text": [
            "HindEnCorp 0.5 and HindMonoCorp 0.5 File Formats\n",
            "================================================\n",
            "\n",
            "This file describes the file formats of the Hindi-English and Hindi-only\n",
            "corpora released in 2014 under the names HindEnCorp 0.5 and HindMonoCorp 0.5.\n",
            "\n",
            "More details about the preparation of the corpora can be found in the paper:\n",
            "\n",
            "  Ondřej Bojar, Vojtěch Diatka, Pavel Rychlý, Pavel Straňák, Aleš Tamchyna\n",
            "  and Dan Zeman. HindEnCorp - Hindi-English and Hindi-only Corpus for\n",
            "  Machine Translation. In Proc. of LREC 2014. Reykjavik, Iceland. ISBN\n",
            "  978-2-9517408-8-4. ELRA. 2014.\n",
            "\n",
            "or on the corpora web page:\n",
            "  http://ufal.mff.cuni.cz/hindencorp\n",
            "\n",
            "Please cite this paper if you make any use of the corpora. BibTeX citation\n",
            "format below.\n",
            "\n",
            "\n",
            "Common Properties\n",
            "-----------------\n",
            "\n",
            "All the files are plain text:\n",
            "\n",
            "- compressed with gzip\n",
            "- encoded in UTF-8\n",
            "- with unix line breaks (LF)\n",
            "- with tab-delimited columns\n",
            "\n",
            "The monolingual and parallel corpora have different columns.\n",
            "\n",
            "The actual corpus text is stored in one (monolingual corpus) or two (parallel\n",
            "corpus) of the columns.\n",
            "\n",
            "\n",
            "Plaintext vs. Export File Format\n",
            "--------------------------------\n",
            "\n",
            "Both the monolingual and the parallel corpus come in a simple plain text format\n",
            "and in a tokenized, tagged and lemmatized format.\n",
            "\n",
            "The plaintext format preserves the original tokenization (as much as possible\n",
            "given the diverse sources included in our corpus).\n",
            "\n",
            "The 'export' format is tokenized and represents each token as a '|'-delimited\n",
            "triple of: the word form, the lemma, and part-of-speech tag. If there was the\n",
            "character '|' (this character is also used instead of the proper Devanagari\n",
            "Danda in some sources), we escape it as '&pipe;'.\n",
            "\n",
            "There is exactly the same number of lines in the plaintext and export file\n",
            "formats.\n",
            "\n",
            "\n",
            "HindEnCorp Columns\n",
            "------------------\n",
            "\n",
            "The files hindencorp05.plaintext.gz and hindencorp05.export.gz each contain the\n",
            "parallel corpus and differ only in the processing of the corpus texts. The\n",
            "files have these columns:\n",
            "\n",
            "- source identifier (where do the segments come from)\n",
            "- alignment type (number of English segments - number of Hindi segments)\n",
            "- alignment quality, which is one of the following:\n",
            "    \"manual\"  ... for sources that were sentence-aligned manually\n",
            "    \"implied\" ... for sources where one side was constructed by translating\n",
            "                  segment by segment\n",
            "    float     ... a value somehow reflecting the goodness of the automatic\n",
            "                  alignment; not really reliable\n",
            "- English segment or segments\n",
            "- Hindi segment or segments\n",
            "\n",
            "Each of the segments field is in the plaintext or export format as described\n",
            "above.\n",
            "\n",
            "If there are more than one segments on a line (e.g. for lines with alignment\n",
            "type 2-1 where there are two English segments), then the segments are delimited\n",
            "with '<s>' in the text field.\n",
            "\n",
            "HindMonoCorp Columns\n",
            "--------------------\n",
            "\n",
            "The files hindmonocorp05.plaintext.gz and hindmonocorp05.export.gz each contain\n",
            "the monolingual corpus and differ only in the processing of the corpus text.\n",
            "Each input segment (usually one Hindi sentence) is stored on a separate line.\n",
            "The files have these columns:\n",
            "\n",
            "- source identifier (where does the segment come from)\n",
            "- segment type, which is one of the following:\n",
            "    <s>  ... this segment is a sentence from a 'text body'\n",
            "    <h>  ... this segment comes from a 'headline' (e.g. of an article)\n",
            "    <a>  ... anything, the source here does not allow to distinguish between\n",
            "             body and headlines\n",
            "- Hindi segment\n",
            "\n",
            "\n",
            "BibTeX Citation for HindEnCorp and HindMonoCorp 0.5\n",
            "---------------------------------------------------\n",
            "\n",
            "@InProceedings{hindencorp05:lrec:2014,\n",
            "  author = {Ond{\\v{r}}ej Bojar and Vojt{\\v{e}}ch Diatka\n",
            "            and Pavel Rychl{\\'{y}} and Pavel Stra{\\v{n}}{\\'{a}}k\n",
            "            and V{\\'{\\i}}t Suchomel and Ale{\\v{s}} Tamchyna and Daniel Zeman},\n",
            "  title = \"{HindEnCorp - Hindi-English and Hindi-only Corpus for Machine\n",
            "            Translation}\",\n",
            "  booktitle = {Proceedings of the Ninth International Conference on Language\n",
            "               Resources and Evaluation (LREC'14)},\n",
            "  year = {2014},\n",
            "  month = {may},\n",
            "  date = {26-31},\n",
            "  address = {Reykjavik, Iceland},\n",
            "  editor = {Nicoletta Calzolari (Conference Chair) and Khalid Choukri and\n",
            "     Thierry Declerck and Hrafn Loftsson and Bente Maegaard and Joseph Mariani\n",
            "     and Asuncion Moreno and Jan Odijk and Stelios Piperidis},\n",
            "  publisher = {European Language Resources Association (ELRA)},\n",
            "  isbn = {978-2-9517408-8-4},\n",
            "  language = {english}\n",
            "}\n",
            "\n",
            "\n"
          ]
        },
        {
          "output_type": "stream",
          "name": "stderr",
          "text": [
            "/usr/local/lib/python3.10/dist-packages/ipykernel/ipkernel.py:283: DeprecationWarning: `should_run_async` will not call `transform_cell` automatically in the future. Please pass the result to `transformed_cell` argument and any exception that happen during thetransform in `preprocessing_exc_tuple` in IPython 7.17 and above.\n",
            "  and should_run_async(code)\n"
          ]
        }
      ]
    },
    {
      "cell_type": "markdown",
      "source": [
        "If the file is a `.zip` file, you can open it and read its data without actually extracting all the files from it.\n",
        "\n",
        "https://docs.python.org/3/library/gzip.html\n",
        "\n",
        "Also, [requests](https://requests.readthedocs.io/en/latest/) is a great package of retrieving content from a URL."
      ],
      "metadata": {
        "id": "z4pDENv4cEqR"
      }
    },
    {
      "cell_type": "markdown",
      "source": [
        "###### Example with zipped files"
      ],
      "metadata": {
        "id": "79u_AizrnqqK"
      }
    },
    {
      "cell_type": "code",
      "source": [
        "import gzip"
      ],
      "metadata": {
        "id": "GjCxwaYDaWqX",
        "colab": {
          "base_uri": "https://localhost:8080/"
        },
        "outputId": "6302a26b-4cc3-48cf-d763-9f5061b6ba03"
      },
      "execution_count": 51,
      "outputs": [
        {
          "output_type": "stream",
          "name": "stderr",
          "text": [
            "/usr/local/lib/python3.10/dist-packages/ipykernel/ipkernel.py:283: DeprecationWarning: `should_run_async` will not call `transform_cell` automatically in the future. Please pass the result to `transformed_cell` argument and any exception that happen during thetransform in `preprocessing_exc_tuple` in IPython 7.17 and above.\n",
            "  and should_run_async(code)\n"
          ]
        }
      ]
    },
    {
      "cell_type": "code",
      "source": [
        "# this would download the file (but it's 2 GB, so go easy on your internet provider...):\n",
        "# file = requests.get('https://lindat.mff.cuni.cz/repository/xmlui/bitstream/handle/11858/00-097C-0000-0023-6260-A/hindmonocorp05.plaintext.gz')\n",
        "# with gzip.open(file.content, 'rb') as gz:\n",
        "#  ..."
      ],
      "metadata": {
        "id": "tBOjd-J6e5Kt",
        "colab": {
          "base_uri": "https://localhost:8080/"
        },
        "outputId": "42026178-177a-45f9-e3bc-3cdb1b8f3e5f"
      },
      "execution_count": 52,
      "outputs": [
        {
          "output_type": "stream",
          "name": "stderr",
          "text": [
            "/usr/local/lib/python3.10/dist-packages/ipykernel/ipkernel.py:283: DeprecationWarning: `should_run_async` will not call `transform_cell` automatically in the future. Please pass the result to `transformed_cell` argument and any exception that happen during thetransform in `preprocessing_exc_tuple` in IPython 7.17 and above.\n",
            "  and should_run_async(code)\n"
          ]
        }
      ]
    },
    {
      "cell_type": "markdown",
      "source": [
        "In this example, we will open the zip and read the text lines.\n",
        "The text is in hindi, so we have to decode it into `UTF-8` format:"
      ],
      "metadata": {
        "id": "_8CXmJU4i3Ng"
      }
    },
    {
      "cell_type": "code",
      "source": [
        "with gzip.open('hindmonocorp05.plaintext.gz', 'rb') as gz:\n",
        "  for i in range(10):\n",
        "    line = gz.readline()\n",
        "    words = line.decode('utf8').split()\n",
        "    print(words)"
      ],
      "metadata": {
        "colab": {
          "base_uri": "https://localhost:8080/"
        },
        "id": "FaShXt80f691",
        "outputId": "1bcdb9eb-31f0-4083-a8b9-e2f594590d89"
      },
      "execution_count": 53,
      "outputs": [
        {
          "output_type": "stream",
          "name": "stdout",
          "text": [
            "['hwt2013', '<s>', 'लेकिन', 'गांव', 'के', 'जगदीश', 'मेघवाल,', 'मोहन...']\n",
            "['spiderling', '<s>', 'विटामिन', 'सी', 'शरीर', 'में', 'रोग', 'पैदा', 'करने', 'वाले', 'विषाणुओं', 'से', 'लड़ने', 'की', 'ताकत', 'पैदा', 'करता', 'है', 'और', 'शरीर', 'में', 'इसकी', 'संतुलित', 'मात्रा', 'बने', 'रहने', 'से', 'रोग', 'प्रतिरोधक', 'क्षमता', 'मजबूत', 'रहती', 'है।']\n",
            "['spiderling', '<s>', 'इन', 'बोतलों', 'के', 'बहुत', 'कम', 'पैसे', 'मिलते', 'हैं।']\n",
            "['commoncrawl', '<a>', 'कार्टून', ':-', 'रे', 'लोकपाल', 'आ', 'गया', 'तू', '?', 'शाबाश....', '19', '0']\n",
            "['spiderling', '<s>', 'प्रखर', 'बुद्धि', 'तेजस्वी', 'बालक', 'राजेन्द्र', 'बाल्यावस्था', 'में', 'ही', 'फारसी', 'में', 'शिक्षा', 'ग्रहण', 'करने', 'लगा', 'और', 'उसके', 'पश्चात', 'प्राथमिक', 'शिक्षा', 'के', 'लिए', 'छपरा', 'के', 'जिला', 'स्कूल', 'में', 'नामांकित', 'हो', 'गया।']\n",
            "['commoncrawl', '<a>', 'निदेशक', 'स्तर', 'का', 'एक', 'वैज्ञानिक', 'संस्थान', 'या', 'सहोदर', 'संस्थान', 'से', '(']\n",
            "['commoncrawl', '<a>', 'गज़ब', 'का', 'बतंगड़', 'है!', ':)', 'हिट', 'तो', 'वैसे', 'भी', 'है', 'जैसे', 'आपने', 'लिख', 'दिया', 'है,', 'जबर-रोचक', '(इस', 'शब्द', 'की']\n",
            "['w2cweb', '<a>', '2005', 'में', 'वर्ल्ड', 'वाइल्ड', 'लाइफ', 'फंड', 'की', 'संस्तुति', 'पर', 'गंगा', 'नदी', 'में', '165', 'किलोमीटर', 'के', 'हिस्से', 'में', \"'रामसर\", \"साइट'\", 'की', 'घोषणा', 'की', 'थी,', 'जिसमें', 'राष्ट्रीय', 'जल', 'जीव', 'डोलफिन', 'से', 'लेकर', 'सभी', 'प्रकार', 'के', 'जल', 'जीवों', 'की', 'रक्षा', 'के', 'लिए', 'सुरक्षा', 'के', 'व्यापक', 'प्रबंध', 'किए', 'गये', 'थे', 'और', 'उस', 'क्षेत्र', 'में', 'इन', 'जल', 'जीवों', 'को', 'किसी', 'भी', 'प्रकार', 'से', 'मारने', 'पर', 'वाइल्ड', 'लाइफ', 'प्रोटेक्शन', 'एक्ट', '1972', 'के', 'अंतर्गत', 'कार्रवाई', 'तक', 'करने', 'की', 'संस्तुति', 'की', 'गई', 'थी।']\n",
            "['spiderling', '<s>', 'पुराना', 'कैदीः', '”', 'अरे', '!', 'इतना', 'छोटा', 'काम', 'को', 'हमारे', 'बच्चे', 'ही', 'कर', 'लेते', 'हैं।']\n",
            "['spiderling', '<s>', 'इन', 'महाशय', 'का', 'सधवा', 'रूप', 'भी', 'विधवा', 'की', 'तरह', 'ही', 'बीता', 'था', '.....']\n"
          ]
        },
        {
          "output_type": "stream",
          "name": "stderr",
          "text": [
            "/usr/local/lib/python3.10/dist-packages/ipykernel/ipkernel.py:283: DeprecationWarning: `should_run_async` will not call `transform_cell` automatically in the future. Please pass the result to `transformed_cell` argument and any exception that happen during thetransform in `preprocessing_exc_tuple` in IPython 7.17 and above.\n",
            "  and should_run_async(code)\n"
          ]
        }
      ]
    },
    {
      "cell_type": "markdown",
      "source": [
        "**IMPORTANT NOTE**: If your corpus, like that file example is very large (2.3GB zipped), then please don't load all the text: it will not fit in the memory and will only cause you trouble.  \n",
        "Instead, you can use only the first 10 to 20k sentences, or so. For this exercise we just want you to get a hold of the steps and the proces involved in using LDA."
      ],
      "metadata": {
        "id": "SZLMI43toL76"
      }
    },
    {
      "cell_type": "markdown",
      "source": [
        "# Afterword\n",
        "\n",
        "Gensim is not the only library that implements the LDA algorithm.\n",
        "Another package that does LDA is [tomotopy](https://bab2min.github.io/tomotopy/v0.12.3/en/) - sometimes even faster than gensim. Additionaly, it is implemented as part of [Scikit-Learn](https://scikit-learn.org/stable/modules/generated/sklearn.decomposition.LatentDirichletAllocation.html) - which we use often in the course.\n",
        "\n",
        "Here's a jupyter example using Scikit-learn and spaCy: https://nbviewer.org/github/bmabey/pyLDAvis/blob/master/notebooks/sklearn.ipynb\n",
        "\n",
        "Since we won't dive deeper into the LDA topic in this course, if you wish to know more about the statistics behind it, [this video](https://www.youtube.com/watch?v=0jQo8lVRHRY) of a lesson by the researcher [Nando de Freitas](https://linkedin.com/in/nandodefreitas) gives a good overview."
      ],
      "metadata": {
        "id": "gvufRXnxoiwI"
      }
    },
    {
      "cell_type": "code",
      "source": [
        "import pandas as pd\n",
        "\n",
        "#I was not able to find a dataset with Belarusian languge, so that I chose a Ruissian dataset of news articles of one new portal\n",
        "\n",
        "df = pd.read_csv(\"hf://datasets/TopicNet/Lenta/data/Lenta.csv.gz\",\n",
        "                 on_bad_lines='skip',\n",
        "                 header=0,\n",
        "                 nrows = 10000, # I used a similar number as in the example dataset\n",
        "                 dtype={'topic': 'category'})"
      ],
      "metadata": {
        "id": "c6YoKZ45q6AK",
        "colab": {
          "base_uri": "https://localhost:8080/"
        },
        "outputId": "c26a3a08-8123-4ac0-fc38-d50fd672b391"
      },
      "execution_count": 55,
      "outputs": [
        {
          "output_type": "stream",
          "name": "stderr",
          "text": [
            "/usr/local/lib/python3.10/dist-packages/ipykernel/ipkernel.py:283: DeprecationWarning: `should_run_async` will not call `transform_cell` automatically in the future. Please pass the result to `transformed_cell` argument and any exception that happen during thetransform in `preprocessing_exc_tuple` in IPython 7.17 and above.\n",
            "  and should_run_async(code)\n"
          ]
        }
      ]
    },
    {
      "cell_type": "code",
      "source": [
        "df"
      ],
      "metadata": {
        "id": "IJOTFaypLqps",
        "colab": {
          "base_uri": "https://localhost:8080/",
          "height": 1000
        },
        "outputId": "37be5b54-2cbd-4e09-af71-9cce4b5730e5"
      },
      "execution_count": 56,
      "outputs": [
        {
          "output_type": "stream",
          "name": "stderr",
          "text": [
            "/usr/local/lib/python3.10/dist-packages/ipykernel/ipkernel.py:283: DeprecationWarning: `should_run_async` will not call `transform_cell` automatically in the future. Please pass the result to `transformed_cell` argument and any exception that happen during thetransform in `preprocessing_exc_tuple` in IPython 7.17 and above.\n",
            "  and should_run_async(code)\n"
          ]
        },
        {
          "output_type": "execute_result",
          "data": {
            "text/plain": [
              "      Unnamed: 0                                           url  \\\n",
              "0         449272       https://lenta.ru/news/2013/01/01/fire2/   \n",
              "1         449273         https://lenta.ru/news/2013/01/01/why/   \n",
              "2         449274       https://lenta.ru/news/2013/01/01/egypt/   \n",
              "3         449275     https://lenta.ru/news/2013/01/01/georgia/   \n",
              "4         449276       https://lenta.ru/news/2013/01/01/freed/   \n",
              "...          ...                                           ...   \n",
              "9995      459267     https://lenta.ru/news/2013/04/17/ipoteka/   \n",
              "9996      459268         https://lenta.ru/news/2013/04/17/fen/   \n",
              "9997      459269         https://lenta.ru/news/2013/04/17/tpy/   \n",
              "9998      459270         https://lenta.ru/news/2013/04/17/spy/   \n",
              "9999      459271  https://lenta.ru/news/2013/04/17/statistics/   \n",
              "\n",
              "                                                  title  \\\n",
              "0     В ЮАР четыре тысячи человек остались без крова...   \n",
              "1            Названа возможная причина давки в Абиджане   \n",
              "2     Политические партии Египта приняли поправки в ...   \n",
              "3     Иванишвили объявил о прекращении преследования...   \n",
              "4                 Задержанных на Триумфальной отпустили   \n",
              "...                                                 ...   \n",
              "9995  При покупке недвижимости россияне положились н...   \n",
              "9996  Архсовет Москвы сравнил торговый центр Ротенбе...   \n",
              "9997  Московские пересадочные узлы застроят коммерче...   \n",
              "9998  В США выставили на продажу дом российских разв...   \n",
              "9999  За квартал в России построили свыше 10 миллион...   \n",
              "\n",
              "                                                   text        topic tags  \\\n",
              "0     В ЮАР произошел пожар, в результате которого п...          Мир  Все   \n",
              "1     Давка в крупнейшем городе Кот-д'Ивуара Абиджан...          Мир  Все   \n",
              "2     Политические партии и общественные организации...          Мир  Все   \n",
              "3     Премьер-министр Грузии Бидзина Иванишвили в но...  Бывший СССР  Все   \n",
              "4     Полиция отпустила всех участников акции \"Страт...       Россия  Все   \n",
              "...                                                 ...          ...  ...   \n",
              "9995  Почти две трети россиян собираются приобрести ...          Дом  Все   \n",
              "9996  Архитектурный совет Москвы раскритиковал проек...          Дом  Все   \n",
              "9997  \"Московская кольцевая железная дорога\" планиру...          Дом  Все   \n",
              "9998  Служба федеральных маршалов США выставила на п...          Дом  Все   \n",
              "9999  В первом квартале 2013 года в России было введ...          Дом  Все   \n",
              "\n",
              "                                             lemmatized  year  month  day  \\\n",
              "0     юар произойти пожар результат погибнуть ожог т...  2013      1    1   \n",
              "1     давка крупный город кот ивуар абиджан начаться...  2013      1    1   \n",
              "2     политический партия общественный организация е...  2013      1    1   \n",
              "3     премьер министр грузия бидзин иванишвили новог...  2013      1    1   \n",
              "4     полиция отпустить участник акция стратегия три...  2013      1    1   \n",
              "...                                                 ...   ...    ...  ...   \n",
              "9995  треть россиянин собираться приобрести недвижим...  2013      4   17   \n",
              "9996  архитектурный совет москва раскритиковать прое...  2013      4   17   \n",
              "9997  московский кольцевой железный дорога планирова...  2013      4   17   \n",
              "9998  служба федеральный маршал сша выставить продаж...  2013      4   17   \n",
              "9999  первое квартал россия ввести эксплуатация милл...  2013      4   17   \n",
              "\n",
              "      time_n                                   lemmatized_title  \\\n",
              "0     449272  в юар четыре тысяча человек остаться без кров ...   \n",
              "1     449273          назвать возможный причина давка в абиджан   \n",
              "2     449274  политический партия египет принять поправка в ...   \n",
              "3     449275  иванишвили объявить о прекращение преследовани...   \n",
              "4     449276                задержать на триумфальный отпустить   \n",
              "...      ...                                                ...   \n",
              "9995  459267  при покупка недвижимость россиянин положиться ...   \n",
              "9996  459268  архсовет москва сравнить торговый центр ротенб...   \n",
              "9997  459269  московский пересадочный узел застроить коммерч...   \n",
              "9998  459270  в сша выставить на продажа дом российский разв...   \n",
              "9999  459271  за квартал в россия построить свыше миллион кв...   \n",
              "\n",
              "                                                topmine  \\\n",
              "0     место_настоящее состояние_алкогольный_опьянени...   \n",
              "1     собраться_тысяча главный_вход давка_официальны...   \n",
              "2     секретарить_президент изменение_закон партия_б...   \n",
              "3     выборы_коалиция_грузинский_мечта президент_саа...   \n",
              "4     свобода_собрание собрание_митинг_демонстрация_...   \n",
              "...                                                 ...   \n",
              "9995  компания_провести финансовый_средство приобрес...   \n",
              "9996  комплекс_войти планировать_увеличить градостро...   \n",
              "9997  rgi_international поиск_инвестор офисный_недви...   \n",
              "9998  гражданин_рф анна_чапман массачусетс_нью нью_й...   \n",
              "9999  миллион_квадратный_миллион_квадрат_миллион пер...   \n",
              "\n",
              "                                                vw_text    id  \n",
              "0     0 |@word юар произойти пожар результат погибну...     0  \n",
              "1     1 |@word давка крупный город кот ивуар абиджан...     1  \n",
              "2     2 |@word политический партия общественный орга...     2  \n",
              "3     3 |@word премьер министр грузия бидзин иванишв...     3  \n",
              "4     4 |@word полиция отпустить участник акция стра...     4  \n",
              "...                                                 ...   ...  \n",
              "9995  9995 |@word треть россиянин собираться приобре...  9995  \n",
              "9996  9996 |@word архитектурный совет москва раскрит...  9996  \n",
              "9997  9997 |@word московский кольцевой железный доро...  9997  \n",
              "9998  9998 |@word служба федеральный маршал сша выст...  9998  \n",
              "9999  9999 |@word первое квартал россия ввести экспл...  9999  \n",
              "\n",
              "[10000 rows x 15 columns]"
            ],
            "text/html": [
              "\n",
              "  <div id=\"df-e99fdd65-d260-46a5-acec-ca4596c06d86\" class=\"colab-df-container\">\n",
              "    <div>\n",
              "<style scoped>\n",
              "    .dataframe tbody tr th:only-of-type {\n",
              "        vertical-align: middle;\n",
              "    }\n",
              "\n",
              "    .dataframe tbody tr th {\n",
              "        vertical-align: top;\n",
              "    }\n",
              "\n",
              "    .dataframe thead th {\n",
              "        text-align: right;\n",
              "    }\n",
              "</style>\n",
              "<table border=\"1\" class=\"dataframe\">\n",
              "  <thead>\n",
              "    <tr style=\"text-align: right;\">\n",
              "      <th></th>\n",
              "      <th>Unnamed: 0</th>\n",
              "      <th>url</th>\n",
              "      <th>title</th>\n",
              "      <th>text</th>\n",
              "      <th>topic</th>\n",
              "      <th>tags</th>\n",
              "      <th>lemmatized</th>\n",
              "      <th>year</th>\n",
              "      <th>month</th>\n",
              "      <th>day</th>\n",
              "      <th>time_n</th>\n",
              "      <th>lemmatized_title</th>\n",
              "      <th>topmine</th>\n",
              "      <th>vw_text</th>\n",
              "      <th>id</th>\n",
              "    </tr>\n",
              "  </thead>\n",
              "  <tbody>\n",
              "    <tr>\n",
              "      <th>0</th>\n",
              "      <td>449272</td>\n",
              "      <td>https://lenta.ru/news/2013/01/01/fire2/</td>\n",
              "      <td>В ЮАР четыре тысячи человек остались без крова...</td>\n",
              "      <td>В ЮАР произошел пожар, в результате которого п...</td>\n",
              "      <td>Мир</td>\n",
              "      <td>Все</td>\n",
              "      <td>юар произойти пожар результат погибнуть ожог т...</td>\n",
              "      <td>2013</td>\n",
              "      <td>1</td>\n",
              "      <td>1</td>\n",
              "      <td>449272</td>\n",
              "      <td>в юар четыре тысяча человек остаться без кров ...</td>\n",
              "      <td>место_настоящее состояние_алкогольный_опьянени...</td>\n",
              "      <td>0 |@word юар произойти пожар результат погибну...</td>\n",
              "      <td>0</td>\n",
              "    </tr>\n",
              "    <tr>\n",
              "      <th>1</th>\n",
              "      <td>449273</td>\n",
              "      <td>https://lenta.ru/news/2013/01/01/why/</td>\n",
              "      <td>Названа возможная причина давки в Абиджане</td>\n",
              "      <td>Давка в крупнейшем городе Кот-д'Ивуара Абиджан...</td>\n",
              "      <td>Мир</td>\n",
              "      <td>Все</td>\n",
              "      <td>давка крупный город кот ивуар абиджан начаться...</td>\n",
              "      <td>2013</td>\n",
              "      <td>1</td>\n",
              "      <td>1</td>\n",
              "      <td>449273</td>\n",
              "      <td>назвать возможный причина давка в абиджан</td>\n",
              "      <td>собраться_тысяча главный_вход давка_официальны...</td>\n",
              "      <td>1 |@word давка крупный город кот ивуар абиджан...</td>\n",
              "      <td>1</td>\n",
              "    </tr>\n",
              "    <tr>\n",
              "      <th>2</th>\n",
              "      <td>449274</td>\n",
              "      <td>https://lenta.ru/news/2013/01/01/egypt/</td>\n",
              "      <td>Политические партии Египта приняли поправки в ...</td>\n",
              "      <td>Политические партии и общественные организации...</td>\n",
              "      <td>Мир</td>\n",
              "      <td>Все</td>\n",
              "      <td>политический партия общественный организация е...</td>\n",
              "      <td>2013</td>\n",
              "      <td>1</td>\n",
              "      <td>1</td>\n",
              "      <td>449274</td>\n",
              "      <td>политический партия египет принять поправка в ...</td>\n",
              "      <td>секретарить_президент изменение_закон партия_б...</td>\n",
              "      <td>2 |@word политический партия общественный орга...</td>\n",
              "      <td>2</td>\n",
              "    </tr>\n",
              "    <tr>\n",
              "      <th>3</th>\n",
              "      <td>449275</td>\n",
              "      <td>https://lenta.ru/news/2013/01/01/georgia/</td>\n",
              "      <td>Иванишвили объявил о прекращении преследования...</td>\n",
              "      <td>Премьер-министр Грузии Бидзина Иванишвили в но...</td>\n",
              "      <td>Бывший СССР</td>\n",
              "      <td>Все</td>\n",
              "      <td>премьер министр грузия бидзин иванишвили новог...</td>\n",
              "      <td>2013</td>\n",
              "      <td>1</td>\n",
              "      <td>1</td>\n",
              "      <td>449275</td>\n",
              "      <td>иванишвили объявить о прекращение преследовани...</td>\n",
              "      <td>выборы_коалиция_грузинский_мечта президент_саа...</td>\n",
              "      <td>3 |@word премьер министр грузия бидзин иванишв...</td>\n",
              "      <td>3</td>\n",
              "    </tr>\n",
              "    <tr>\n",
              "      <th>4</th>\n",
              "      <td>449276</td>\n",
              "      <td>https://lenta.ru/news/2013/01/01/freed/</td>\n",
              "      <td>Задержанных на Триумфальной отпустили</td>\n",
              "      <td>Полиция отпустила всех участников акции \"Страт...</td>\n",
              "      <td>Россия</td>\n",
              "      <td>Все</td>\n",
              "      <td>полиция отпустить участник акция стратегия три...</td>\n",
              "      <td>2013</td>\n",
              "      <td>1</td>\n",
              "      <td>1</td>\n",
              "      <td>449276</td>\n",
              "      <td>задержать на триумфальный отпустить</td>\n",
              "      <td>свобода_собрание собрание_митинг_демонстрация_...</td>\n",
              "      <td>4 |@word полиция отпустить участник акция стра...</td>\n",
              "      <td>4</td>\n",
              "    </tr>\n",
              "    <tr>\n",
              "      <th>...</th>\n",
              "      <td>...</td>\n",
              "      <td>...</td>\n",
              "      <td>...</td>\n",
              "      <td>...</td>\n",
              "      <td>...</td>\n",
              "      <td>...</td>\n",
              "      <td>...</td>\n",
              "      <td>...</td>\n",
              "      <td>...</td>\n",
              "      <td>...</td>\n",
              "      <td>...</td>\n",
              "      <td>...</td>\n",
              "      <td>...</td>\n",
              "      <td>...</td>\n",
              "      <td>...</td>\n",
              "    </tr>\n",
              "    <tr>\n",
              "      <th>9995</th>\n",
              "      <td>459267</td>\n",
              "      <td>https://lenta.ru/news/2013/04/17/ipoteka/</td>\n",
              "      <td>При покупке недвижимости россияне положились н...</td>\n",
              "      <td>Почти две трети россиян собираются приобрести ...</td>\n",
              "      <td>Дом</td>\n",
              "      <td>Все</td>\n",
              "      <td>треть россиянин собираться приобрести недвижим...</td>\n",
              "      <td>2013</td>\n",
              "      <td>4</td>\n",
              "      <td>17</td>\n",
              "      <td>459267</td>\n",
              "      <td>при покупка недвижимость россиянин положиться ...</td>\n",
              "      <td>компания_провести финансовый_средство приобрес...</td>\n",
              "      <td>9995 |@word треть россиянин собираться приобре...</td>\n",
              "      <td>9995</td>\n",
              "    </tr>\n",
              "    <tr>\n",
              "      <th>9996</th>\n",
              "      <td>459268</td>\n",
              "      <td>https://lenta.ru/news/2013/04/17/fen/</td>\n",
              "      <td>Архсовет Москвы сравнил торговый центр Ротенбе...</td>\n",
              "      <td>Архитектурный совет Москвы раскритиковал проек...</td>\n",
              "      <td>Дом</td>\n",
              "      <td>Все</td>\n",
              "      <td>архитектурный совет москва раскритиковать прое...</td>\n",
              "      <td>2013</td>\n",
              "      <td>4</td>\n",
              "      <td>17</td>\n",
              "      <td>459268</td>\n",
              "      <td>архсовет москва сравнить торговый центр ротенб...</td>\n",
              "      <td>комплекс_войти планировать_увеличить градостро...</td>\n",
              "      <td>9996 |@word архитектурный совет москва раскрит...</td>\n",
              "      <td>9996</td>\n",
              "    </tr>\n",
              "    <tr>\n",
              "      <th>9997</th>\n",
              "      <td>459269</td>\n",
              "      <td>https://lenta.ru/news/2013/04/17/tpy/</td>\n",
              "      <td>Московские пересадочные узлы застроят коммерче...</td>\n",
              "      <td>\"Московская кольцевая железная дорога\" планиру...</td>\n",
              "      <td>Дом</td>\n",
              "      <td>Все</td>\n",
              "      <td>московский кольцевой железный дорога планирова...</td>\n",
              "      <td>2013</td>\n",
              "      <td>4</td>\n",
              "      <td>17</td>\n",
              "      <td>459269</td>\n",
              "      <td>московский пересадочный узел застроить коммерч...</td>\n",
              "      <td>rgi_international поиск_инвестор офисный_недви...</td>\n",
              "      <td>9997 |@word московский кольцевой железный доро...</td>\n",
              "      <td>9997</td>\n",
              "    </tr>\n",
              "    <tr>\n",
              "      <th>9998</th>\n",
              "      <td>459270</td>\n",
              "      <td>https://lenta.ru/news/2013/04/17/spy/</td>\n",
              "      <td>В США выставили на продажу дом российских разв...</td>\n",
              "      <td>Служба федеральных маршалов США выставила на п...</td>\n",
              "      <td>Дом</td>\n",
              "      <td>Все</td>\n",
              "      <td>служба федеральный маршал сша выставить продаж...</td>\n",
              "      <td>2013</td>\n",
              "      <td>4</td>\n",
              "      <td>17</td>\n",
              "      <td>459270</td>\n",
              "      <td>в сша выставить на продажа дом российский разв...</td>\n",
              "      <td>гражданин_рф анна_чапман массачусетс_нью нью_й...</td>\n",
              "      <td>9998 |@word служба федеральный маршал сша выст...</td>\n",
              "      <td>9998</td>\n",
              "    </tr>\n",
              "    <tr>\n",
              "      <th>9999</th>\n",
              "      <td>459271</td>\n",
              "      <td>https://lenta.ru/news/2013/04/17/statistics/</td>\n",
              "      <td>За квартал в России построили свыше 10 миллион...</td>\n",
              "      <td>В первом квартале 2013 года в России было введ...</td>\n",
              "      <td>Дом</td>\n",
              "      <td>Все</td>\n",
              "      <td>первое квартал россия ввести эксплуатация милл...</td>\n",
              "      <td>2013</td>\n",
              "      <td>4</td>\n",
              "      <td>17</td>\n",
              "      <td>459271</td>\n",
              "      <td>за квартал в россия построить свыше миллион кв...</td>\n",
              "      <td>миллион_квадратный_миллион_квадрат_миллион пер...</td>\n",
              "      <td>9999 |@word первое квартал россия ввести экспл...</td>\n",
              "      <td>9999</td>\n",
              "    </tr>\n",
              "  </tbody>\n",
              "</table>\n",
              "<p>10000 rows × 15 columns</p>\n",
              "</div>\n",
              "    <div class=\"colab-df-buttons\">\n",
              "\n",
              "  <div class=\"colab-df-container\">\n",
              "    <button class=\"colab-df-convert\" onclick=\"convertToInteractive('df-e99fdd65-d260-46a5-acec-ca4596c06d86')\"\n",
              "            title=\"Convert this dataframe to an interactive table.\"\n",
              "            style=\"display:none;\">\n",
              "\n",
              "  <svg xmlns=\"http://www.w3.org/2000/svg\" height=\"24px\" viewBox=\"0 -960 960 960\">\n",
              "    <path d=\"M120-120v-720h720v720H120Zm60-500h600v-160H180v160Zm220 220h160v-160H400v160Zm0 220h160v-160H400v160ZM180-400h160v-160H180v160Zm440 0h160v-160H620v160ZM180-180h160v-160H180v160Zm440 0h160v-160H620v160Z\"/>\n",
              "  </svg>\n",
              "    </button>\n",
              "\n",
              "  <style>\n",
              "    .colab-df-container {\n",
              "      display:flex;\n",
              "      gap: 12px;\n",
              "    }\n",
              "\n",
              "    .colab-df-convert {\n",
              "      background-color: #E8F0FE;\n",
              "      border: none;\n",
              "      border-radius: 50%;\n",
              "      cursor: pointer;\n",
              "      display: none;\n",
              "      fill: #1967D2;\n",
              "      height: 32px;\n",
              "      padding: 0 0 0 0;\n",
              "      width: 32px;\n",
              "    }\n",
              "\n",
              "    .colab-df-convert:hover {\n",
              "      background-color: #E2EBFA;\n",
              "      box-shadow: 0px 1px 2px rgba(60, 64, 67, 0.3), 0px 1px 3px 1px rgba(60, 64, 67, 0.15);\n",
              "      fill: #174EA6;\n",
              "    }\n",
              "\n",
              "    .colab-df-buttons div {\n",
              "      margin-bottom: 4px;\n",
              "    }\n",
              "\n",
              "    [theme=dark] .colab-df-convert {\n",
              "      background-color: #3B4455;\n",
              "      fill: #D2E3FC;\n",
              "    }\n",
              "\n",
              "    [theme=dark] .colab-df-convert:hover {\n",
              "      background-color: #434B5C;\n",
              "      box-shadow: 0px 1px 3px 1px rgba(0, 0, 0, 0.15);\n",
              "      filter: drop-shadow(0px 1px 2px rgba(0, 0, 0, 0.3));\n",
              "      fill: #FFFFFF;\n",
              "    }\n",
              "  </style>\n",
              "\n",
              "    <script>\n",
              "      const buttonEl =\n",
              "        document.querySelector('#df-e99fdd65-d260-46a5-acec-ca4596c06d86 button.colab-df-convert');\n",
              "      buttonEl.style.display =\n",
              "        google.colab.kernel.accessAllowed ? 'block' : 'none';\n",
              "\n",
              "      async function convertToInteractive(key) {\n",
              "        const element = document.querySelector('#df-e99fdd65-d260-46a5-acec-ca4596c06d86');\n",
              "        const dataTable =\n",
              "          await google.colab.kernel.invokeFunction('convertToInteractive',\n",
              "                                                    [key], {});\n",
              "        if (!dataTable) return;\n",
              "\n",
              "        const docLinkHtml = 'Like what you see? Visit the ' +\n",
              "          '<a target=\"_blank\" href=https://colab.research.google.com/notebooks/data_table.ipynb>data table notebook</a>'\n",
              "          + ' to learn more about interactive tables.';\n",
              "        element.innerHTML = '';\n",
              "        dataTable['output_type'] = 'display_data';\n",
              "        await google.colab.output.renderOutput(dataTable, element);\n",
              "        const docLink = document.createElement('div');\n",
              "        docLink.innerHTML = docLinkHtml;\n",
              "        element.appendChild(docLink);\n",
              "      }\n",
              "    </script>\n",
              "  </div>\n",
              "\n",
              "\n",
              "<div id=\"df-d00c6ce2-756d-454d-8923-108e2562e978\">\n",
              "  <button class=\"colab-df-quickchart\" onclick=\"quickchart('df-d00c6ce2-756d-454d-8923-108e2562e978')\"\n",
              "            title=\"Suggest charts\"\n",
              "            style=\"display:none;\">\n",
              "\n",
              "<svg xmlns=\"http://www.w3.org/2000/svg\" height=\"24px\"viewBox=\"0 0 24 24\"\n",
              "     width=\"24px\">\n",
              "    <g>\n",
              "        <path d=\"M19 3H5c-1.1 0-2 .9-2 2v14c0 1.1.9 2 2 2h14c1.1 0 2-.9 2-2V5c0-1.1-.9-2-2-2zM9 17H7v-7h2v7zm4 0h-2V7h2v10zm4 0h-2v-4h2v4z\"/>\n",
              "    </g>\n",
              "</svg>\n",
              "  </button>\n",
              "\n",
              "<style>\n",
              "  .colab-df-quickchart {\n",
              "      --bg-color: #E8F0FE;\n",
              "      --fill-color: #1967D2;\n",
              "      --hover-bg-color: #E2EBFA;\n",
              "      --hover-fill-color: #174EA6;\n",
              "      --disabled-fill-color: #AAA;\n",
              "      --disabled-bg-color: #DDD;\n",
              "  }\n",
              "\n",
              "  [theme=dark] .colab-df-quickchart {\n",
              "      --bg-color: #3B4455;\n",
              "      --fill-color: #D2E3FC;\n",
              "      --hover-bg-color: #434B5C;\n",
              "      --hover-fill-color: #FFFFFF;\n",
              "      --disabled-bg-color: #3B4455;\n",
              "      --disabled-fill-color: #666;\n",
              "  }\n",
              "\n",
              "  .colab-df-quickchart {\n",
              "    background-color: var(--bg-color);\n",
              "    border: none;\n",
              "    border-radius: 50%;\n",
              "    cursor: pointer;\n",
              "    display: none;\n",
              "    fill: var(--fill-color);\n",
              "    height: 32px;\n",
              "    padding: 0;\n",
              "    width: 32px;\n",
              "  }\n",
              "\n",
              "  .colab-df-quickchart:hover {\n",
              "    background-color: var(--hover-bg-color);\n",
              "    box-shadow: 0 1px 2px rgba(60, 64, 67, 0.3), 0 1px 3px 1px rgba(60, 64, 67, 0.15);\n",
              "    fill: var(--button-hover-fill-color);\n",
              "  }\n",
              "\n",
              "  .colab-df-quickchart-complete:disabled,\n",
              "  .colab-df-quickchart-complete:disabled:hover {\n",
              "    background-color: var(--disabled-bg-color);\n",
              "    fill: var(--disabled-fill-color);\n",
              "    box-shadow: none;\n",
              "  }\n",
              "\n",
              "  .colab-df-spinner {\n",
              "    border: 2px solid var(--fill-color);\n",
              "    border-color: transparent;\n",
              "    border-bottom-color: var(--fill-color);\n",
              "    animation:\n",
              "      spin 1s steps(1) infinite;\n",
              "  }\n",
              "\n",
              "  @keyframes spin {\n",
              "    0% {\n",
              "      border-color: transparent;\n",
              "      border-bottom-color: var(--fill-color);\n",
              "      border-left-color: var(--fill-color);\n",
              "    }\n",
              "    20% {\n",
              "      border-color: transparent;\n",
              "      border-left-color: var(--fill-color);\n",
              "      border-top-color: var(--fill-color);\n",
              "    }\n",
              "    30% {\n",
              "      border-color: transparent;\n",
              "      border-left-color: var(--fill-color);\n",
              "      border-top-color: var(--fill-color);\n",
              "      border-right-color: var(--fill-color);\n",
              "    }\n",
              "    40% {\n",
              "      border-color: transparent;\n",
              "      border-right-color: var(--fill-color);\n",
              "      border-top-color: var(--fill-color);\n",
              "    }\n",
              "    60% {\n",
              "      border-color: transparent;\n",
              "      border-right-color: var(--fill-color);\n",
              "    }\n",
              "    80% {\n",
              "      border-color: transparent;\n",
              "      border-right-color: var(--fill-color);\n",
              "      border-bottom-color: var(--fill-color);\n",
              "    }\n",
              "    90% {\n",
              "      border-color: transparent;\n",
              "      border-bottom-color: var(--fill-color);\n",
              "    }\n",
              "  }\n",
              "</style>\n",
              "\n",
              "  <script>\n",
              "    async function quickchart(key) {\n",
              "      const quickchartButtonEl =\n",
              "        document.querySelector('#' + key + ' button');\n",
              "      quickchartButtonEl.disabled = true;  // To prevent multiple clicks.\n",
              "      quickchartButtonEl.classList.add('colab-df-spinner');\n",
              "      try {\n",
              "        const charts = await google.colab.kernel.invokeFunction(\n",
              "            'suggestCharts', [key], {});\n",
              "      } catch (error) {\n",
              "        console.error('Error during call to suggestCharts:', error);\n",
              "      }\n",
              "      quickchartButtonEl.classList.remove('colab-df-spinner');\n",
              "      quickchartButtonEl.classList.add('colab-df-quickchart-complete');\n",
              "    }\n",
              "    (() => {\n",
              "      let quickchartButtonEl =\n",
              "        document.querySelector('#df-d00c6ce2-756d-454d-8923-108e2562e978 button');\n",
              "      quickchartButtonEl.style.display =\n",
              "        google.colab.kernel.accessAllowed ? 'block' : 'none';\n",
              "    })();\n",
              "  </script>\n",
              "</div>\n",
              "\n",
              "  <div id=\"id_bc65534f-d434-4bef-ac45-8c55ccf45b9a\">\n",
              "    <style>\n",
              "      .colab-df-generate {\n",
              "        background-color: #E8F0FE;\n",
              "        border: none;\n",
              "        border-radius: 50%;\n",
              "        cursor: pointer;\n",
              "        display: none;\n",
              "        fill: #1967D2;\n",
              "        height: 32px;\n",
              "        padding: 0 0 0 0;\n",
              "        width: 32px;\n",
              "      }\n",
              "\n",
              "      .colab-df-generate:hover {\n",
              "        background-color: #E2EBFA;\n",
              "        box-shadow: 0px 1px 2px rgba(60, 64, 67, 0.3), 0px 1px 3px 1px rgba(60, 64, 67, 0.15);\n",
              "        fill: #174EA6;\n",
              "      }\n",
              "\n",
              "      [theme=dark] .colab-df-generate {\n",
              "        background-color: #3B4455;\n",
              "        fill: #D2E3FC;\n",
              "      }\n",
              "\n",
              "      [theme=dark] .colab-df-generate:hover {\n",
              "        background-color: #434B5C;\n",
              "        box-shadow: 0px 1px 3px 1px rgba(0, 0, 0, 0.15);\n",
              "        filter: drop-shadow(0px 1px 2px rgba(0, 0, 0, 0.3));\n",
              "        fill: #FFFFFF;\n",
              "      }\n",
              "    </style>\n",
              "    <button class=\"colab-df-generate\" onclick=\"generateWithVariable('df')\"\n",
              "            title=\"Generate code using this dataframe.\"\n",
              "            style=\"display:none;\">\n",
              "\n",
              "  <svg xmlns=\"http://www.w3.org/2000/svg\" height=\"24px\"viewBox=\"0 0 24 24\"\n",
              "       width=\"24px\">\n",
              "    <path d=\"M7,19H8.4L18.45,9,17,7.55,7,17.6ZM5,21V16.75L18.45,3.32a2,2,0,0,1,2.83,0l1.4,1.43a1.91,1.91,0,0,1,.58,1.4,1.91,1.91,0,0,1-.58,1.4L9.25,21ZM18.45,9,17,7.55Zm-12,3A5.31,5.31,0,0,0,4.9,8.1,5.31,5.31,0,0,0,1,6.5,5.31,5.31,0,0,0,4.9,4.9,5.31,5.31,0,0,0,6.5,1,5.31,5.31,0,0,0,8.1,4.9,5.31,5.31,0,0,0,12,6.5,5.46,5.46,0,0,0,6.5,12Z\"/>\n",
              "  </svg>\n",
              "    </button>\n",
              "    <script>\n",
              "      (() => {\n",
              "      const buttonEl =\n",
              "        document.querySelector('#id_bc65534f-d434-4bef-ac45-8c55ccf45b9a button.colab-df-generate');\n",
              "      buttonEl.style.display =\n",
              "        google.colab.kernel.accessAllowed ? 'block' : 'none';\n",
              "\n",
              "      buttonEl.onclick = () => {\n",
              "        google.colab.notebook.generateWithVariable('df');\n",
              "      }\n",
              "      })();\n",
              "    </script>\n",
              "  </div>\n",
              "\n",
              "    </div>\n",
              "  </div>\n"
            ],
            "application/vnd.google.colaboratory.intrinsic+json": {
              "type": "dataframe",
              "variable_name": "df",
              "summary": "{\n  \"name\": \"df\",\n  \"rows\": 10000,\n  \"fields\": [\n    {\n      \"column\": \"Unnamed: 0\",\n      \"properties\": {\n        \"dtype\": \"number\",\n        \"std\": 2886,\n        \"min\": 449272,\n        \"max\": 459271,\n        \"num_unique_values\": 10000,\n        \"samples\": [\n          455524,\n          453956,\n          451003\n        ],\n        \"semantic_type\": \"\",\n        \"description\": \"\"\n      }\n    },\n    {\n      \"column\": \"url\",\n      \"properties\": {\n        \"dtype\": \"string\",\n        \"num_unique_values\": 10000,\n        \"samples\": [\n          \"https://lenta.ru/news/2013/03/07/alvin/\",\n          \"https://lenta.ru/news/2013/02/19/profit/\",\n          \"https://lenta.ru/news/2013/01/19/march/\"\n        ],\n        \"semantic_type\": \"\",\n        \"description\": \"\"\n      }\n    },\n    {\n      \"column\": \"title\",\n      \"properties\": {\n        \"dtype\": \"string\",\n        \"num_unique_values\": 9984,\n        \"samples\": [\n          \"\\u0420\\u0430\\u043d\\u0438\\u0432\\u0448\\u0438\\u0439 \\u0448\\u043a\\u043e\\u043b\\u044c\\u043d\\u0438\\u043a\\u0430 \\u0434\\u0432\\u043e\\u0440\\u043d\\u0438\\u043a \\u043f\\u043e\\u043a\\u0438\\u043d\\u0443\\u043b \\u0420\\u043e\\u0441\\u0441\\u0438\\u044e\",\n          \"\\u041d\\u0430\\u0447\\u0430\\u043b\\u0441\\u044f \\u0441\\u0431\\u043e\\u0440 \\u0441\\u0440\\u0435\\u0434\\u0441\\u0442\\u0432 \\u043d\\u0430\\u00a0\\u0441\\u044a\\u0435\\u043c\\u043a\\u0438 \\u043f\\u0440\\u043e\\u0433\\u0440\\u0430\\u043c\\u043c\\u044b \\u00ab\\u041f\\u0430\\u0440\\u0444\\u0435\\u043d\\u043e\\u0432\\u00bb\",\n          \"\\u0427\\u0438\\u0441\\u043b\\u043e \\u0436\\u0435\\u0440\\u0442\\u0432 \\u0432\\u0437\\u0440\\u044b\\u0432\\u0430 \\u0433\\u0430\\u0437\\u0430 \\u0432\\u00a0\\u0436\\u0438\\u043b\\u043e\\u043c \\u0434\\u043e\\u043c\\u0435 \\u0432\\u00a0\\u041d\\u043e\\u0432\\u043e\\u043a\\u0443\\u0437\\u043d\\u0435\\u0446\\u043a\\u0435 \\u0443\\u0432\\u0435\\u043b\\u0438\\u0447\\u0438\\u043b\\u043e\\u0441\\u044c\"\n        ],\n        \"semantic_type\": \"\",\n        \"description\": \"\"\n      }\n    },\n    {\n      \"column\": \"text\",\n      \"properties\": {\n        \"dtype\": \"string\",\n        \"num_unique_values\": 9999,\n        \"samples\": [\n          \"\\u041c\\u0438\\u043d\\u0438\\u0441\\u0442\\u0435\\u0440\\u0441\\u0442\\u0432\\u043e \\u043e\\u0431\\u043e\\u0440\\u043e\\u043d\\u044b \\u0412\\u0435\\u043b\\u0438\\u043a\\u043e\\u0431\\u0440\\u0438\\u0442\\u0430\\u043d\\u0438\\u0438 \\u0443\\u0442\\u0432\\u0435\\u0440\\u0434\\u0438\\u043b\\u043e \\u0432\\u043d\\u0435\\u0448\\u043d\\u0438\\u0439 \\u0432\\u0438\\u0434 \\u043d\\u043e\\u0432\\u043e\\u0439 \\u043c\\u0435\\u0434\\u0430\\u043b\\u0438 \\u00ab\\u0410\\u0440\\u043a\\u0442\\u0438\\u0447\\u0435\\u0441\\u043a\\u0430\\u044f \\u0437\\u0432\\u0435\\u0437\\u0434\\u0430\\u00bb \\u0434\\u043b\\u044f \\u0443\\u0447\\u0430\\u0441\\u0442\\u043d\\u0438\\u043a\\u043e\\u0432 \\u0421\\u0435\\u0432\\u0435\\u0440\\u043d\\u044b\\u0445 \\u043a\\u043e\\u043d\\u0432\\u043e\\u0435\\u0432 \\u0432\\u0440\\u0435\\u043c\\u0435\\u043d \\u0412\\u0442\\u043e\\u0440\\u043e\\u0439 \\u043c\\u0438\\u0440\\u043e\\u0432\\u043e\\u0439 \\u0432\\u043e\\u0439\\u043d\\u044b, \\u0438 \\u0432 \\u0441\\u043a\\u043e\\u0440\\u043e\\u043c \\u0432\\u0440\\u0435\\u043c\\u0435\\u043d\\u0438 \\u043e\\u043d\\u0430 \\u0431\\u0443\\u0434\\u0435\\u0442 \\u0432\\u0440\\u0443\\u0447\\u0435\\u043d\\u0430 \\u0432\\u0435\\u0442\\u0435\\u0440\\u0430\\u043d\\u0430\\u043c. \\u041e\\u0431 \\u044d\\u0442\\u043e\\u043c \\u0441\\u043e \\u0441\\u0441\\u044b\\u043b\\u043a\\u043e\\u0439 \\u043d\\u0430 \\u0437\\u0430\\u044f\\u0432\\u043b\\u0435\\u043d\\u0438\\u0435 \\u0433\\u043b\\u0430\\u0432\\u044b \\u0432\\u0435\\u0434\\u043e\\u043c\\u0441\\u0442\\u0432\\u0430 \\u041c\\u0430\\u0440\\u043a\\u0430 \\u0424\\u0440\\u0430\\u043d\\u0441\\u0443\\u0430 (Mark Francois) \\u0441\\u043e\\u043e\\u0431\\u0449\\u0430\\u0435\\u0442 BBC News. \\u0414\\u043e\\u0436\\u0438\\u0432\\u0448\\u0438\\u0435 \\u0434\\u043e \\u0441\\u0435\\u0433\\u043e\\u0434\\u043d\\u044f\\u0448\\u043d\\u0435\\u0433\\u043e \\u0434\\u043d\\u044f \\u0432\\u0435\\u0442\\u0435\\u0440\\u0430\\u043d\\u044b \\u0438\\u043b\\u0438 \\u0438\\u0445 \\u0432\\u0434\\u043e\\u0432\\u044b \\u043f\\u043e\\u043b\\u0443\\u0447\\u0430\\u0442 \\u043c\\u0435\\u0434\\u0430\\u043b\\u0438 \\u0443\\u0436\\u0435 \\u0432 \\u043c\\u0430\\u0440\\u0442\\u0435. \\u0420\\u043e\\u0434\\u0441\\u0442\\u0432\\u0435\\u043d\\u043d\\u0438\\u043a\\u0438 \\u0438 \\u043f\\u043e\\u0442\\u043e\\u043c\\u043a\\u0438 \\u0442\\u0435\\u0445, \\u043a\\u0442\\u043e \\u0443\\u0447\\u0430\\u0441\\u0442\\u0432\\u043e\\u0432\\u0430\\u043b \\u0432 \\u0421\\u0435\\u0432\\u0435\\u0440\\u043d\\u044b\\u0445 \\u043a\\u043e\\u043d\\u0432\\u043e\\u044f\\u0445, \\u0442\\u0430\\u043a\\u0436\\u0435 \\u0441\\u043c\\u043e\\u0433\\u0443\\u0442 \\u043f\\u043e\\u0434\\u0430\\u0442\\u044c \\u0437\\u0430\\u044f\\u0432\\u043a\\u0443 \\u043e\\u0431 \\u0438\\u0445 \\u043d\\u0430\\u0433\\u0440\\u0430\\u0436\\u0434\\u0435\\u043d\\u0438\\u0438. \\u041a\\u0440\\u043e\\u043c\\u0435 \\u0442\\u043e\\u0433\\u043e, \\u041c\\u0438\\u043d\\u0438\\u0441\\u0442\\u0435\\u0440\\u0441\\u0442\\u0432\\u043e \\u043e\\u0431\\u043e\\u0440\\u043e\\u043d\\u044b \\u0412\\u0435\\u043b\\u0438\\u043a\\u043e\\u0431\\u0440\\u0438\\u0442\\u0430\\u043d\\u0438\\u0438 \\u0443\\u0442\\u0432\\u0435\\u0440\\u0434\\u0438\\u043b\\u043e \\u043d\\u043e\\u0432\\u0443\\u044e \\u043f\\u043b\\u0430\\u043d\\u043a\\u0443 \\u043a \\u0432\\u043e\\u0435\\u043d\\u043d\\u044b\\u043c \\u043d\\u0430\\u0433\\u0440\\u0430\\u0434\\u0430\\u043c \\u0437\\u0430 \\u0443\\u0447\\u0430\\u0441\\u0442\\u0438\\u0435 \\u0432 \\u0432\\u043e\\u0437\\u0434\\u0443\\u0448\\u043d\\u044b\\u0445 \\u0431\\u043e\\u043c\\u0431\\u0430\\u0440\\u0434\\u0438\\u0440\\u043e\\u0432\\u043a\\u0430\\u0445 \\u0442\\u0435\\u0440\\u0440\\u0438\\u0442\\u043e\\u0440\\u0438\\u0439 \\u0413\\u0435\\u0440\\u043c\\u0430\\u043d\\u0438\\u0438 \\u0438 \\u0424\\u0440\\u0430\\u043d\\u0446\\u0438\\u0438 \\u0432 \\u0433\\u043e\\u0434\\u044b \\u0412\\u0442\\u043e\\u0440\\u043e\\u0439 \\u043c\\u0438\\u0440\\u043e\\u0432\\u043e\\u0439 \\u0432\\u043e\\u0439\\u043d\\u044b. \\u041f\\u043e \\u0434\\u0430\\u043d\\u043d\\u044b\\u043c The Guardian, \\u0432\\u0441\\u0435\\u0433\\u043e \\u043d\\u043e\\u0432\\u044b\\u0435 \\u043f\\u043e\\u0447\\u0435\\u0442\\u043d\\u044b\\u0435 \\u0437\\u043d\\u0430\\u043a\\u0438 \\u0431\\u0443\\u0434\\u0443\\u0442 \\u0432\\u0440\\u0443\\u0447\\u0435\\u043d\\u044b \\u043f\\u0440\\u0438\\u043c\\u0435\\u0440\\u043d\\u043e 250 \\u0442\\u044b\\u0441\\u044f\\u0447\\u0430\\u043c \\u0447\\u0435\\u043b\\u043e\\u0432\\u0435\\u043a. \\u0412 \\u043c\\u0430\\u0435 2012 \\u0433\\u043e\\u0434\\u0430 \\u043d\\u0430\\u0433\\u0440\\u0430\\u0434\\u0438\\u0442\\u044c \\u0432\\u0435\\u0442\\u0435\\u0440\\u0430\\u043d\\u043e\\u0432, \\u0443\\u0447\\u0430\\u0441\\u0442\\u0432\\u043e\\u0432\\u0430\\u0432\\u0448\\u0438\\u0445 \\u0432 \\u0441\\u0435\\u0432\\u0435\\u0440\\u043d\\u044b\\u0445 \\u043a\\u043e\\u043d\\u0432\\u043e\\u044f\\u0445, \\u0440\\u0435\\u0448\\u0438\\u043b\\u0430 \\u0420\\u043e\\u0441\\u0441\\u0438\\u044f. \\u0418\\u043d\\u043e\\u0441\\u0442\\u0440\\u0430\\u043d\\u043d\\u044b\\u0435 \\u043c\\u043e\\u0440\\u044f\\u043a\\u0438 \\u0434\\u043e\\u043b\\u0436\\u043d\\u044b \\u0431\\u044b\\u043b\\u0438 \\u043f\\u043e\\u043b\\u0443\\u0447\\u0438\\u0442\\u044c \\u043c\\u0435\\u0434\\u0430\\u043b\\u0438 \\u0423\\u0448\\u0430\\u043a\\u043e\\u0432\\u0430. \\u0412 \\u041c\\u0418\\u0414 \\u0412\\u0435\\u043b\\u0438\\u043a\\u043e\\u0431\\u0440\\u0438\\u0442\\u0430\\u043d\\u0438\\u0438 \\u0431\\u044b\\u043b\\u0430 \\u043f\\u0440\\u0435\\u0434\\u043e\\u0441\\u0442\\u0430\\u0432\\u043b\\u0435\\u043d\\u0430 \\u0438\\u043d\\u0444\\u043e\\u0440\\u043c\\u0430\\u0446\\u0438\\u044f \\u043e \\u0437\\u0430\\u0441\\u043b\\u0443\\u0433\\u0430\\u0445 813 \\u0432\\u0435\\u0442\\u0435\\u0440\\u0430\\u043d\\u043e\\u0432 \\u043f\\u0435\\u0440\\u0435\\u0434 \\u0420\\u043e\\u0441\\u0441\\u0438\\u0435\\u0439. \\u041e\\u0434\\u043d\\u0430\\u043a\\u043e \\u0432 \\u043e\\u043a\\u0442\\u044f\\u0431\\u0440\\u0435 \\u0432\\u0435\\u0434\\u043e\\u043c\\u0441\\u0442\\u0432\\u043e \\u043e\\u0444\\u0438\\u0446\\u0438\\u0430\\u043b\\u044c\\u043d\\u043e \\u0437\\u0430\\u043f\\u0440\\u0435\\u0442\\u0438\\u043b\\u043e \\u0441\\u0432\\u043e\\u0438\\u043c \\u043f\\u043e\\u0434\\u0434\\u0430\\u043d\\u043d\\u044b\\u043c \\u043f\\u0440\\u0438\\u043d\\u0438\\u043c\\u0430\\u0442\\u044c \\u044d\\u0442\\u0438 \\u043c\\u0435\\u0434\\u0430\\u043b\\u0438. \\u0421\\u043e\\u0433\\u043b\\u0430\\u0441\\u043d\\u043e \\u0431\\u0440\\u0438\\u0442\\u0430\\u043d\\u0441\\u043a\\u043e\\u043c\\u0443 \\u0437\\u0430\\u043a\\u043e\\u043d\\u043e\\u0434\\u0430\\u0442\\u0435\\u043b\\u044c\\u0441\\u0442\\u0432\\u0443, \\u0435\\u0441\\u043b\\u0438 \\u0432\\u0435\\u0442\\u0435\\u0440\\u0430\\u043d\\u044b \\u0443\\u0436\\u0435 \\u043f\\u043e\\u043b\\u0443\\u0447\\u0438\\u043b\\u0438 \\u0438\\u043b\\u0438 \\u0441\\u043e\\u0431\\u0438\\u0440\\u0430\\u044e\\u0442\\u0441\\u044f \\u043f\\u043e\\u043b\\u0443\\u0447\\u0438\\u0442\\u044c \\u043d\\u0430\\u0433\\u0440\\u0430\\u0434\\u044b \\u0437\\u0430 \\u0442\\u0443 \\u0436\\u0435 \\u043e\\u043f\\u0435\\u0440\\u0430\\u0446\\u0438\\u044e \\u0432 \\u0441\\u0432\\u043e\\u0435\\u0439 \\u0441\\u0442\\u0440\\u0430\\u043d\\u0435, \\u043e\\u043d\\u0438 \\u043d\\u0435 \\u043c\\u043e\\u0433\\u0443\\u0442 \\u0431\\u044b\\u0442\\u044c \\u0443\\u0434\\u043e\\u0441\\u0442\\u043e\\u0435\\u043d\\u044b \\u043f\\u043e\\u0447\\u0435\\u0442\\u043d\\u044b\\u0445 \\u0437\\u043d\\u0430\\u043a\\u043e\\u0432 \\u0437\\u0430 \\u0440\\u0443\\u0431\\u0435\\u0436\\u043e\\u043c. \\u0412\\u0441\\u043a\\u043e\\u0440\\u0435 \\u043f\\u043e\\u0441\\u043b\\u0435 \\u044d\\u0442\\u043e\\u0433\\u043e, \\u0432 \\u0434\\u0435\\u043a\\u0430\\u0431\\u0440\\u0435 2012 \\u0433\\u043e\\u0434\\u0430, \\u043f\\u0440\\u0435\\u043c\\u044c\\u0435\\u0440-\\u043c\\u0438\\u043d\\u0438\\u0441\\u0442\\u0440 \\u0412\\u0435\\u043b\\u0438\\u043a\\u043e\\u0431\\u0440\\u0438\\u0442\\u0430\\u043d\\u0438\\u0438 \\u0414\\u044d\\u0432\\u0438\\u0434 \\u041a\\u044d\\u043c\\u0435\\u0440\\u043e\\u043d \\u0430\\u043d\\u043e\\u043d\\u0441\\u0438\\u0440\\u043e\\u0432\\u0430\\u043b \\u0441\\u043e\\u0437\\u0434\\u0430\\u043d\\u0438\\u0435 \\u043d\\u043e\\u0432\\u044b\\u0445 \\u043d\\u0430\\u0433\\u0440\\u0430\\u0434 \\u0434\\u043b\\u044f \\u0443\\u0447\\u0430\\u0441\\u0442\\u043d\\u0438\\u043a\\u043e\\u0432 \\u043a\\u043e\\u043d\\u0432\\u043e\\u0435\\u0432 \\u0438 \\u0431\\u043e\\u043c\\u0431\\u0430\\u0440\\u0434\\u0438\\u0440\\u043e\\u0432\\u043e\\u043a \\u0413\\u0435\\u0440\\u043c\\u0430\\u043d\\u0438\\u0438 \\u0438 \\u0424\\u0440\\u0430\\u043d\\u0446\\u0438\\u0438. \\u0412\\u0435\\u0442\\u0435\\u0440\\u0430\\u043d\\u044b \\u044d\\u0442\\u0438\\u0445 \\u043e\\u043f\\u0435\\u0440\\u0430\\u0446\\u0438\\u0439 \\u0438 \\u0440\\u0430\\u043d\\u0435\\u0435 \\u043c\\u043e\\u0433\\u043b\\u0438 \\u0431\\u044b\\u0442\\u044c \\u043f\\u0440\\u0435\\u0434\\u0441\\u0442\\u0430\\u0432\\u043b\\u0435\\u043d\\u044b \\u043a \\u043d\\u0430\\u0433\\u0440\\u0430\\u0434\\u0430\\u043c, \\u043e\\u0434\\u043d\\u0430\\u043a\\u043e \\u043e\\u0442\\u0434\\u0435\\u043b\\u044c\\u043d\\u044b\\u0435 \\u043f\\u043e\\u0447\\u0435\\u0442\\u043d\\u044b\\u0435 \\u0437\\u043d\\u0430\\u043a\\u0438 \\u0434\\u043e\\u043b\\u0436\\u043d\\u044b \\u0431\\u044b\\u043b\\u0438 \\u043f\\u043e\\u0434\\u0447\\u0435\\u0440\\u043a\\u043d\\u0443\\u0442\\u044c \\u0438\\u0445 \\u043e\\u0441\\u043e\\u0431\\u0435\\u043d\\u043d\\u044b\\u0439 \\u0432\\u043a\\u043b\\u0430\\u0434 \\u0432 \\u043f\\u043e\\u0431\\u0435\\u0434\\u0443 \\u0441\\u043e\\u044e\\u0437\\u043d\\u044b\\u0445 \\u0432\\u043e\\u0439\\u0441\\u043a. \\u0412 \\u0433\\u043e\\u0434\\u044b \\u0412\\u0442\\u043e\\u0440\\u043e\\u0439 \\u043c\\u0438\\u0440\\u043e\\u0432\\u043e\\u0439 \\u0432\\u043e\\u0439\\u043d\\u044b \\u0412\\u0435\\u043b\\u0438\\u043a\\u043e\\u0431\\u0440\\u0438\\u0442\\u0430\\u043d\\u0438\\u044f \\u0438 \\u0421\\u0428\\u0410 \\u043e\\u0441\\u0443\\u0449\\u0435\\u0441\\u0442\\u0432\\u043b\\u044f\\u043b\\u0438 \\u043f\\u043e\\u0441\\u0442\\u0430\\u0432\\u043a\\u0438 \\u043f\\u043e \\u043b\\u0435\\u043d\\u0434-\\u043b\\u0438\\u0437\\u0443 \\u0438\\u0445 \\u0441\\u043e\\u044e\\u0437\\u043d\\u0438\\u043a\\u0443 \\u2014 \\u0421\\u0421\\u0421\\u0420 \\u2014 \\u043c\\u043e\\u0440\\u0441\\u043a\\u0438\\u043c \\u043f\\u0443\\u0442\\u0435\\u043c \\u0447\\u0435\\u0440\\u0435\\u0437 \\u0441\\u0435\\u0432\\u0435\\u0440\\u043d\\u044b\\u0435 \\u043f\\u043e\\u0440\\u0442\\u044b, \\u043f\\u0440\\u0435\\u0436\\u0434\\u0435 \\u0432\\u0441\\u0435\\u0433\\u043e \\u0410\\u0440\\u0445\\u0430\\u043d\\u0433\\u0435\\u043b\\u044c\\u0441\\u043a \\u0438 \\u041c\\u0443\\u0440\\u043c\\u0430\\u043d\\u0441\\u043a. \\u041c\\u043e\\u0440\\u044f\\u043a\\u0430\\u043c \\u043f\\u0440\\u0438\\u0445\\u043e\\u0434\\u0438\\u043b\\u043e\\u0441\\u044c \\u043f\\u0440\\u043e\\u0440\\u044b\\u0432\\u0430\\u0442\\u044c\\u0441\\u044f \\u0447\\u0435\\u0440\\u0435\\u0437 \\u043d\\u0435\\u043c\\u0435\\u0446\\u043a\\u0443\\u044e \\u0431\\u043b\\u043e\\u043a\\u0430\\u0434\\u0443, \\u0430 \\u0442\\u0430\\u043a\\u0436\\u0435 \\u043f\\u0440\\u0435\\u043e\\u0434\\u043e\\u043b\\u0435\\u0432\\u0430\\u0442\\u044c \\u0442\\u044f\\u0436\\u0435\\u043b\\u044b\\u0435 \\u043f\\u0440\\u0438\\u0440\\u043e\\u0434\\u043d\\u044b\\u0435 \\u0443\\u0441\\u043b\\u043e\\u0432\\u0438\\u044f. \\u0412\\u0441\\u0435\\u0433\\u043e \\u0431\\u044b\\u043b\\u043e \\u043f\\u0440\\u043e\\u0432\\u0435\\u0434\\u0435\\u043d\\u043e 78 \\u043a\\u043e\\u043d\\u0432\\u043e\\u0435\\u0432, \\u0432 \\u0445\\u043e\\u0434\\u0435 \\u043a\\u043e\\u0442\\u043e\\u0440\\u044b\\u0445 \\u043f\\u043e\\u0433\\u0438\\u0431\\u043b\\u0438 \\u0431\\u043e\\u043b\\u0435\\u0435 3000 \\u0447\\u0435\\u043b\\u043e\\u0432\\u0435\\u043a.\",\n          \"\\u041f\\u043e\\u0441\\u0442\\u0430\\u043d\\u043e\\u0432\\u043a\\u043e\\u0439 \\u0431\\u0438\\u043e\\u0433\\u0440\\u0430\\u0444\\u0438\\u0447\\u0435\\u0441\\u043a\\u043e\\u0433\\u043e \\u0444\\u0438\\u043b\\u044c\\u043c\\u0430 \\u043e\\u0431 \\u042d\\u043b\\u0442\\u043e\\u043d\\u0435 \\u0414\\u0436\\u043e\\u043d\\u0435 \\u0437\\u0430\\u0439\\u043c\\u0435\\u0442\\u0441\\u044f \\u041c\\u0430\\u0439\\u043a\\u043b \\u0413\\u0440\\u044d\\u0439\\u0441\\u0438, \\u0441\\u043e\\u043e\\u0431\\u0449\\u0430\\u0435\\u0442\\u0441\\u044f \\u043d\\u0430 \\u0441\\u0430\\u0439\\u0442\\u0435 SlashFilm. \\u041c\\u0443\\u0437\\u044b\\u043a\\u0430\\u043d\\u0442 \\u043e\\u0434\\u043e\\u0431\\u0440\\u0438\\u043b \\u043a\\u0430\\u043d\\u0434\\u0438\\u0434\\u0430\\u0442\\u0443\\u0440\\u0443 \\u043f\\u043e\\u0441\\u0442\\u0430\\u043d\\u043e\\u0432\\u0449\\u0438\\u043a\\u0430. \\u041b\\u0435\\u043d\\u0442\\u0430 \\u0431\\u0443\\u0434\\u0435\\u0442 \\u043d\\u0430\\u0437\\u044b\\u0432\\u0430\\u0442\\u044c\\u0441\\u044f \\u00abRocketman\\u00bb (Kinopoisk.ru \\u043f\\u0440\\u0435\\u0434\\u043b\\u0430\\u0433\\u0430\\u0435\\u0442 \\u043f\\u0435\\u0440\\u0435\\u0432\\u043e\\u0434 \\u00ab\\u0427\\u0435\\u043b\\u043e\\u0432\\u0435\\u043a-\\u0440\\u0430\\u043a\\u0435\\u0442\\u0430\\u00bb) \\u2014 \\u043f\\u043e \\u0432\\u0441\\u0435\\u0439 \\u0432\\u0438\\u0434\\u0438\\u043c\\u043e\\u0441\\u0442\\u0438, \\u0432 \\u0447\\u0435\\u0441\\u0442\\u044c \\u0432\\u044b\\u0448\\u0435\\u0434\\u0448\\u0435\\u0433\\u043e \\u0432 \\u0430\\u043f\\u0440\\u0435\\u043b\\u0435 1972 \\u0433\\u043e\\u0434\\u0430 \\u043e\\u0434\\u043d\\u043e\\u0438\\u043c\\u0435\\u043d\\u043d\\u043e\\u0433\\u043e \\u0441\\u0438\\u043d\\u0433\\u043b\\u0430 \\u042d\\u043b\\u0442\\u043e\\u043d\\u0430 \\u0414\\u0436\\u043e\\u043d\\u0430. \\u041a\\u0430\\u0440\\u0442\\u0438\\u043d\\u0430 \\u0431\\u044b\\u043b\\u0430 \\u0430\\u043d\\u043e\\u043d\\u0441\\u0438\\u0440\\u043e\\u0432\\u0430\\u043d\\u0430 \\u0435\\u0449\\u0435 \\u0432 2011 \\u0433\\u043e\\u0434\\u0443. \\u0422\\u043e\\u0433\\u0434\\u0430 \\u0436\\u0435 \\u0441\\u043e\\u043e\\u0431\\u0449\\u0430\\u043b\\u043e\\u0441\\u044c, \\u0447\\u0442\\u043e \\u0441\\u0446\\u0435\\u043d\\u0430\\u0440\\u0438\\u0439 \\u0434\\u043b\\u044f \\u043d\\u0435\\u0435 \\u043d\\u0430\\u043f\\u0438\\u0448\\u0435\\u0442 \\u041b\\u0438 \\u0425\\u043e\\u043b\\u043b (\\u00ab\\u0411\\u0438\\u043b\\u043b\\u0438 \\u042d\\u043b\\u043b\\u0438\\u043e\\u0442\\u00bb, \\u00ab\\u0411\\u043e\\u0435\\u0432\\u043e\\u0439 \\u043a\\u043e\\u043d\\u044c\\u00bb). \\u0418\\u0441\\u0442\\u043e\\u0440\\u0438\\u044f \\u0436\\u0438\\u0437\\u043d\\u0438 \\u043c\\u0443\\u0437\\u044b\\u043a\\u0430\\u043d\\u0442\\u0430 \\u0432 \\u0444\\u0438\\u043b\\u044c\\u043c\\u0435 \\u0431\\u0443\\u0434\\u0435\\u0442 \\u0438\\u0437\\u043b\\u043e\\u0436\\u0435\\u043d\\u0430 \\u043d\\u0435\\u043b\\u0438\\u043d\\u0435\\u0439\\u043d\\u043e. \\u0421\\u0430\\u043c \\u0438\\u0441\\u043f\\u043e\\u043b\\u043d\\u0438\\u0442\\u0435\\u043b\\u044c \\u0437\\u0430\\u044f\\u0432\\u043b\\u044f\\u043b, \\u0447\\u0442\\u043e \\u0435\\u043c\\u0443 \\u0445\\u043e\\u0442\\u0435\\u043b\\u043e\\u0441\\u044c \\u0431\\u044b, \\u0447\\u0442\\u043e\\u0431\\u044b \\u043a\\u0430\\u0440\\u0442\\u0438\\u043d\\u0430 \\u043f\\u043e\\u043b\\u0443\\u0447\\u0438\\u043b\\u0430\\u0441\\u044c \\u00ab\\u0441\\u044e\\u0440\\u0440\\u0435\\u0430\\u043b\\u0438\\u0441\\u0442\\u0438\\u0447\\u0435\\u0441\\u043a\\u043e\\u0439\\u00bb. \\u0412 \\u00ab\\u0427\\u0435\\u043b\\u043e\\u0432\\u0435\\u043a\\u0430-\\u0440\\u0430\\u043a\\u0435\\u0442\\u0443\\u00bb \\u0432\\u043e\\u0439\\u0434\\u0443\\u0442 \\u0445\\u043e\\u0440\\u0435\\u043e\\u0433\\u0440\\u0430\\u0444\\u0438\\u0447\\u0435\\u0441\\u043a\\u0438\\u0435 \\u043d\\u043e\\u043c\\u0435\\u0440\\u0430, \\u043e\\u0441\\u043d\\u043e\\u0432\\u0430\\u043d\\u043d\\u044b\\u0435 \\u043d\\u0430 \\u043f\\u0435\\u0441\\u043d\\u044f\\u0445 \\u042d\\u043b\\u0442\\u043e\\u043d\\u0430 \\u0414\\u0436\\u043e\\u043d\\u0430. \\u0410\\u043a\\u0442\\u0435\\u0440 \\u043d\\u0430 \\u0433\\u043b\\u0430\\u0432\\u043d\\u0443\\u044e \\u0440\\u043e\\u043b\\u044c \\u0432 \\u0444\\u0438\\u043b\\u044c\\u043c\\u0435 \\u00ab\\u0427\\u0435\\u043b\\u043e\\u0432\\u0435\\u043a-\\u0440\\u0430\\u043a\\u0435\\u0442\\u0430\\u00bb \\u043f\\u043e\\u043a\\u0430 \\u043d\\u0435 \\u043d\\u0430\\u0437\\u043d\\u0430\\u0447\\u0435\\u043d. \\u041f\\u0440\\u0438 \\u044d\\u0442\\u043e\\u043c \\u042d\\u043b\\u0442\\u043e\\u043d \\u0414\\u0436\\u043e\\u043d \\u0440\\u0430\\u043d\\u0435\\u0435 \\u0433\\u043e\\u0432\\u043e\\u0440\\u0438\\u043b, \\u0447\\u0442\\u043e \\u0435\\u043c\\u0443 \\u0441\\u0430\\u043c\\u043e\\u043c\\u0443 \\u043f\\u043e\\u0434\\u0445\\u043e\\u0434\\u044f\\u0449\\u0438\\u043c \\u043a\\u0430\\u043d\\u0434\\u0438\\u0434\\u0430\\u0442\\u043e\\u043c \\u043a\\u0430\\u0436\\u0435\\u0442\\u0441\\u044f \\u0414\\u0436\\u0430\\u0441\\u0442\\u0438\\u043d \\u0422\\u0438\\u043c\\u0431\\u0435\\u0440\\u043b\\u0435\\u0439\\u043a. \\u0411\\u0438\\u043e\\u0433\\u0440\\u0430\\u0444\\u0438\\u044f \\u042d\\u043b\\u0442\\u043e\\u043d\\u0430 \\u0414\\u0436\\u043e\\u043d\\u0430 \\u0441\\u0442\\u0430\\u043d\\u0435\\u0442 \\u043f\\u0435\\u0440\\u0432\\u043e\\u0439 \\u043f\\u043e\\u043b\\u043d\\u043e\\u043c\\u0435\\u0442\\u0440\\u0430\\u0436\\u043d\\u043e\\u0439 \\u0440\\u0430\\u0431\\u043e\\u0442\\u043e\\u0439 \\u041c\\u0430\\u0439\\u043a\\u043b\\u0430 \\u0413\\u0440\\u044d\\u0439\\u0441\\u0438. \\u0420\\u0430\\u043d\\u0435\\u0435 \\u0440\\u0435\\u0436\\u0438\\u0441\\u0441\\u0435\\u0440 \\u0437\\u0430\\u043d\\u0438\\u043c\\u0430\\u043b\\u0441\\u044f \\u043f\\u0440\\u0435\\u0438\\u043c\\u0443\\u0449\\u0435\\u0441\\u0442\\u0432\\u0435\\u043d\\u043d\\u043e \\u043f\\u043e\\u0441\\u0442\\u0430\\u043d\\u043e\\u0432\\u043a\\u043e\\u0439 \\u0440\\u0435\\u043a\\u043b\\u0430\\u043c\\u043d\\u044b\\u0445 \\u0440\\u043e\\u043b\\u0438\\u043a\\u043e\\u0432. \\u0412 \\u0447\\u0430\\u0441\\u0442\\u043d\\u043e\\u0441\\u0442\\u0438, \\u0438\\u043c\\u0435\\u043d\\u043d\\u043e \\u043e\\u043d \\u0441\\u043d\\u044f\\u043b \\u0440\\u0435\\u043a\\u043b\\u0430\\u043c\\u0443 \\u0447\\u0430\\u044f Lipton \\u0441 \\u0425\\u044c\\u044e \\u0414\\u0436\\u0435\\u043a\\u043c\\u0430\\u043d\\u043e\\u043c \\u0432 \\u0433\\u043b\\u0430\\u0432\\u043d\\u043e\\u0439 \\u0440\\u043e\\u043b\\u0438. \\n\\n\",\n          \"\\u041f\\u044f\\u0442\\u0438\\u043b\\u0435\\u0442\\u043d\\u044e\\u044e \\u0436\\u0438\\u0442\\u0435\\u043b\\u044c\\u043d\\u0438\\u0446\\u0443 \\u0430\\u043c\\u0435\\u0440\\u0438\\u043a\\u0430\\u043d\\u0441\\u043a\\u043e\\u0433\\u043e \\u0448\\u0442\\u0430\\u0442\\u0430 \\u041f\\u0435\\u043d\\u0441\\u0438\\u043b\\u044c\\u0432\\u0430\\u043d\\u0438\\u044f \\u043e\\u0442\\u0441\\u0442\\u0440\\u0430\\u043d\\u0438\\u043b\\u0438 \\u043e\\u0442 \\u0437\\u0430\\u043d\\u044f\\u0442\\u0438\\u0439 \\u0432 \\u0434\\u0435\\u0442\\u0441\\u043a\\u043e\\u043c \\u0441\\u0430\\u0434\\u0443, \\u0442\\u0430\\u043a \\u043a\\u0430\\u043a \\u0430\\u0434\\u043c\\u0438\\u043d\\u0438\\u0441\\u0442\\u0440\\u0430\\u0446\\u0438\\u044f \\u0443\\u0441\\u043c\\u043e\\u0442\\u0440\\u0435\\u043b\\u0430 \\u0432 \\u0435\\u0435 \\u0441\\u043b\\u043e\\u0432\\u0430\\u0445 \\\"\\u0442\\u0435\\u0440\\u0440\\u043e\\u0440\\u0438\\u0441\\u0442\\u0438\\u0447\\u0435\\u0441\\u043a\\u0443\\u044e \\u0443\\u0433\\u0440\\u043e\\u0437\\u0443\\\". \\u041a\\u0430\\u043a \\u0441\\u043e\\u043e\\u0431\\u0449\\u0430\\u0435\\u0442 \\u043c\\u0435\\u0441\\u0442\\u043d\\u044b\\u0439 \\u0440\\u0435\\u0441\\u0443\\u0440\\u0441 PennLive, \\u0434\\u0435\\u0432\\u043e\\u0447\\u043a\\u0430 \\u043f\\u0440\\u0438\\u0433\\u0440\\u043e\\u0437\\u0438\\u043b\\u0430 \\u0432\\u044b\\u0441\\u0442\\u0440\\u0435\\u043b\\u0438\\u0442\\u044c \\u0432 \\u043f\\u043e\\u0434\\u0440\\u0443\\u0433\\u0443 \\u043c\\u044b\\u043b\\u044c\\u043d\\u044b\\u043c\\u0438 \\u043f\\u0443\\u0437\\u044b\\u0440\\u044f\\u043c\\u0438 \\u0438\\u0437 \\u0438\\u0433\\u0440\\u0443\\u0448\\u0435\\u0447\\u043d\\u043e\\u0433\\u043e \\u043f\\u0438\\u0441\\u0442\\u043e\\u043b\\u0435\\u0442\\u0430, \\u0430 \\u043f\\u043e\\u0442\\u043e\\u043c \\\"\\u0437\\u0430\\u0441\\u0442\\u0440\\u0435\\u043b\\u0438\\u0442\\u044c\\u0441\\u044f\\\" \\u0438\\u0437 \\u044d\\u0442\\u043e\\u0433\\u043e \\u0436\\u0435 \\u043e\\u0440\\u0443\\u0436\\u0438\\u044f. \\u041a\\u0430\\u043a \\u0440\\u0430\\u0441\\u0441\\u043a\\u0430\\u0437\\u0430\\u043b \\u0430\\u0434\\u0432\\u043e\\u043a\\u0430\\u0442 \\u0420\\u043e\\u0431\\u0438\\u043d \\u0424\\u0438\\u043a\\u043a\\u0435\\u0440 (Robin Ficker), \\u043d\\u0430\\u043d\\u044f\\u0442\\u044b\\u0439 \\u0441\\u0435\\u043c\\u044c\\u0435\\u0439 \\\"\\u0442\\u0435\\u0440\\u0440\\u043e\\u0440\\u0438\\u0441\\u0442\\u043a\\u0438\\\" \\u0434\\u043b\\u044f \\u0437\\u0430\\u0449\\u0438\\u0442\\u044b \\u0435\\u0435 \\u0438\\u043d\\u0442\\u0435\\u0440\\u0435\\u0441\\u043e\\u0432, \\u0438\\u043d\\u0446\\u0438\\u0434\\u0435\\u043d\\u0442 \\u043f\\u0440\\u043e\\u0438\\u0437\\u043e\\u0448\\u0435\\u043b 10 \\u044f\\u043d\\u0432\\u0430\\u0440\\u044f \\u0432 \\u043c\\u0435\\u0441\\u0442\\u0435\\u0447\\u043a\\u0435 \\u041c\\u0430\\u0443\\u043d\\u0442-\\u041a\\u0430\\u0440\\u043c\\u0435\\u043b, \\u043a\\u043e\\u0433\\u0434\\u0430 \\u0434\\u0435\\u0432\\u043e\\u0447\\u043a\\u0430 \\u0432\\u043c\\u0435\\u0441\\u0442\\u0435 \\u0441\\u043e \\u0441\\u0432\\u0435\\u0440\\u0441\\u0442\\u043d\\u0438\\u043a\\u0430\\u043c\\u0438 \\u0436\\u0434\\u0430\\u043b\\u0430 \\u043f\\u0440\\u0438\\u0435\\u0437\\u0434\\u0430 \\u0448\\u043a\\u043e\\u043b\\u044c\\u043d\\u043e\\u0433\\u043e \\u0430\\u0432\\u0442\\u043e\\u0431\\u0443\\u0441\\u0430. \\u042e\\u0440\\u0438\\u0441\\u0442 \\u043e\\u0442\\u043c\\u0435\\u0442\\u0438\\u043b, \\u0447\\u0442\\u043e \\u0435\\u0433\\u043e \\u043f\\u043e\\u0434\\u043e\\u043f\\u0435\\u0447\\u043d\\u0430\\u044f \\u043d\\u0438\\u043a\\u043e\\u0433\\u0434\\u0430 \\u0432 \\u0436\\u0438\\u0437\\u043d\\u0438 \\u043d\\u0435 \\u043f\\u043e\\u043b\\u044c\\u0437\\u043e\\u0432\\u0430\\u043b\\u0430\\u0441\\u044c \\u043d\\u0430\\u0441\\u0442\\u043e\\u044f\\u0449\\u0438\\u043c \\u043e\\u0433\\u043d\\u0435\\u0441\\u0442\\u0440\\u0435\\u043b\\u044c\\u043d\\u044b\\u043c \\u043e\\u0440\\u0443\\u0436\\u0438\\u0435\\u043c \\u0438 \\u0432 \\u043c\\u043e\\u043c\\u0435\\u043d\\u0442 \\u0440\\u0430\\u0437\\u0433\\u043e\\u0432\\u043e\\u0440\\u0430 \\u043d\\u0435 \\u0438\\u043c\\u0435\\u043b\\u0430 \\u043f\\u0440\\u0438 \\u0441\\u0435\\u0431\\u0435 \\u0434\\u0430\\u0436\\u0435 \\u0441\\u0432\\u043e\\u0435\\u0433\\u043e \\u0440\\u043e\\u0437\\u043e\\u0432\\u043e\\u0433\\u043e \\\"\\u043c\\u044b\\u043b\\u044c\\u043d\\u043e\\u0433\\u043e\\\" \\u043f\\u0438\\u0441\\u0442\\u043e\\u043b\\u0435\\u0442\\u0430. \\u041e \\u0440\\u0430\\u0437\\u0433\\u043e\\u0432\\u043e\\u0440\\u0435 \\u0441\\u0442\\u0430\\u043b\\u043e \\u0438\\u0437\\u0432\\u0435\\u0441\\u0442\\u043d\\u043e \\u0430\\u0434\\u043c\\u0438\\u043d\\u0438\\u0441\\u0442\\u0440\\u0430\\u0446\\u0438\\u0438 \\u043c\\u0435\\u0441\\u0442\\u043d\\u043e\\u0433\\u043e \\u0448\\u043a\\u043e\\u043b\\u044c\\u043d\\u043e\\u0433\\u043e \\u043e\\u043a\\u0440\\u0443\\u0433\\u0430 (\\u0432 \\u0421\\u0428\\u0410 \\u0434\\u0435\\u0442\\u0441\\u043a\\u0438\\u0435 \\u0441\\u0430\\u0434\\u044b \\u0432\\u0445\\u043e\\u0434\\u044f\\u0442 \\u0432 \\u0441\\u0438\\u0441\\u0442\\u0435\\u043c\\u0443 \\u0448\\u043a\\u043e\\u043b\\u044c\\u043d\\u043e\\u0433\\u043e \\u043e\\u0431\\u0440\\u0430\\u0437\\u043e\\u0432\\u0430\\u043d\\u0438\\u044f), \\u0438 \\u043d\\u0430 \\u0441\\u043b\\u0435\\u0434\\u0443\\u044e\\u0449\\u0438\\u0439 \\u0434\\u0435\\u043d\\u044c \\u043d\\u0430\\u0440\\u0443\\u0448\\u0438\\u0442\\u0435\\u043b\\u044c\\u043d\\u0438\\u0446\\u0443 \\u043f\\u043e\\u0440\\u044f\\u0434\\u043a\\u0430 \\u0434\\u043e\\u043f\\u0440\\u043e\\u0441\\u0438\\u043b\\u0438 \\u0431\\u0435\\u0437 \\u043f\\u0440\\u0438\\u0441\\u0443\\u0442\\u0441\\u0442\\u0432\\u0438\\u044f \\u0440\\u043e\\u0434\\u0438\\u0442\\u0435\\u043b\\u0435\\u0439. \\u041f\\u043e\\u0441\\u043b\\u0435 \\u043f\\u043e\\u043b\\u0443\\u0447\\u0430\\u0441\\u043e\\u0432\\u043e\\u0439 \\u0431\\u0435\\u0441\\u0435\\u0434\\u044b \\u0431\\u044b\\u043b\\u043e \\u0440\\u0435\\u0448\\u0435\\u043d\\u043e, \\u0447\\u0442\\u043e \\u0434\\u0435\\u0432\\u043e\\u0447\\u043a\\u0430 \\u043f\\u0440\\u0435\\u0434\\u0441\\u0442\\u0430\\u0432\\u043b\\u044f\\u0435\\u0442 \\\"\\u0442\\u0435\\u0440\\u0440\\u043e\\u0440\\u0438\\u0441\\u0442\\u0438\\u0447\\u0435\\u0441\\u043a\\u0443\\u044e \\u0443\\u0433\\u0440\\u043e\\u0437\\u0443\\\", \\u0434\\u043e\\u043b\\u0436\\u043d\\u0430 \\u0431\\u044b\\u0442\\u044c \\u043d\\u0430 \\u0434\\u0435\\u0441\\u044f\\u0442\\u044c \\u0434\\u043d\\u0435\\u0439 \\u043e\\u0442\\u0441\\u0442\\u0440\\u0430\\u043d\\u0435\\u043d\\u0430 \\u043e\\u0442 \\u0437\\u0430\\u043d\\u044f\\u0442\\u0438\\u0439 \\u0438 \\u043d\\u0430\\u043f\\u0440\\u0430\\u0432\\u043b\\u0435\\u043d\\u0430 \\u043d\\u0430 \\u043e\\u0441\\u0432\\u0438\\u0434\\u0435\\u0442\\u0435\\u043b\\u044c\\u0441\\u0442\\u0432\\u043e\\u0432\\u0430\\u043d\\u0438\\u0435 \\u043a \\u043f\\u0441\\u0438\\u0445\\u043e\\u043b\\u043e\\u0433\\u0443. \\\"\\u042d\\u0442\\u0430 \\u043c\\u0430\\u043b\\u0435\\u043d\\u044c\\u043a\\u0430\\u044f \\u0434\\u0435\\u0432\\u043e\\u0447\\u043a\\u0430 \\u0441\\u043a\\u043b\\u043e\\u043d\\u043d\\u0430 \\u043a \\u0442\\u0435\\u0440\\u0440\\u043e\\u0440\\u0438\\u0437\\u043c\\u0443 \\u043c\\u0435\\u043d\\u044c\\u0448\\u0435, \\u0447\\u0435\\u043c \\u043a\\u0442\\u043e-\\u043b\\u0438\\u0431\\u043e \\u0438\\u0437 \\u0436\\u0438\\u0442\\u0435\\u043b\\u0435\\u0439 \\u041f\\u0435\\u043d\\u0441\\u0438\\u043b\\u044c\\u0432\\u0430\\u043d\\u0438\\u0438\\\", - \\u0437\\u0430\\u0432\\u0435\\u0440\\u0438\\u043b \\u0424\\u0438\\u043a\\u043a\\u0435\\u0440. \\u041a \\u0430\\u0434\\u0432\\u043e\\u043a\\u0430\\u0442\\u0443 \\u043e\\u0431\\u0440\\u0430\\u0442\\u0438\\u043b\\u0430\\u0441\\u044c \\u043c\\u0430\\u0442\\u044c \\u0434\\u0435\\u0432\\u043e\\u0447\\u043a\\u0438, \\u043f\\u043e\\u0441\\u043a\\u043e\\u043b\\u044c\\u043a\\u0443 \\u0424\\u0438\\u043a\\u043a\\u0435\\u0440 \\u043c\\u043e\\u0436\\u0435\\u0442 \\u0441\\u0447\\u0438\\u0442\\u0430\\u0442\\u044c\\u0441\\u044f \\u044d\\u043a\\u0441\\u043f\\u0435\\u0440\\u0442\\u043e\\u043c \\u0432 \\u043f\\u043e\\u0434\\u043e\\u0431\\u043d\\u044b\\u0445 \\u0434\\u0435\\u043b\\u0430\\u0445: \\u0440\\u0430\\u043d\\u0435\\u0435 \\u0435\\u043c\\u0443 \\u0443\\u0434\\u0430\\u043b\\u043e\\u0441\\u044c \\u0443\\u0440\\u0435\\u0433\\u0443\\u043b\\u0438\\u0440\\u043e\\u0432\\u0430\\u0442\\u044c \\u0430\\u043d\\u0430\\u043b\\u043e\\u0433\\u0438\\u0447\\u043d\\u044b\\u0439 \\u0441\\u043a\\u0430\\u043d\\u0434\\u0430\\u043b \\u0432 \\u0448\\u0442\\u0430\\u0442\\u0435 \\u041c\\u044d\\u0440\\u0438\\u043b\\u0435\\u043d\\u0434. \\u041f\\u0435\\u0440\\u0432\\u044b\\u043c \\u0434\\u0435\\u043b\\u043e\\u043c \\u044e\\u0440\\u0438\\u0441\\u0442 \\u043f\\u043e\\u0441\\u043e\\u0432\\u0435\\u0442\\u043e\\u0432\\u0430\\u043b \\u0436\\u0435\\u043d\\u0449\\u0438\\u043d\\u0435 \\u043e\\u0431\\u0440\\u0430\\u0442\\u0438\\u0442\\u044c\\u0441\\u044f \\u043a \\u0440\\u0443\\u043a\\u043e\\u0432\\u043e\\u0434\\u0441\\u0442\\u0432\\u0443 \\u0448\\u043a\\u043e\\u043b\\u044c\\u043d\\u043e\\u0433\\u043e \\u043e\\u043a\\u0440\\u0443\\u0433\\u0430. \\u042d\\u0442\\u043e \\u043f\\u043e\\u0437\\u0432\\u043e\\u043b\\u0438\\u043b\\u043e \\u0441\\u043e\\u043a\\u0440\\u0430\\u0442\\u0438\\u0442\\u044c \\u0441\\u0440\\u043e\\u043a \\u043e\\u0442\\u0441\\u0442\\u0440\\u0430\\u043d\\u0435\\u043d\\u0438\\u044f \\u043e\\u0442 \\u0437\\u0430\\u043d\\u044f\\u0442\\u0438\\u0439 \\u0434\\u043e \\u0434\\u0432\\u0443\\u0445 \\u0434\\u043d\\u0435\\u0439, \\u043e\\u0434\\u043d\\u0430\\u043a\\u043e \\u0432 \\u0434\\u043e\\u0441\\u044c\\u0435 \\u0434\\u0435\\u0432\\u043e\\u0447\\u043a\\u0438 \\u043e\\u0441\\u0442\\u0430\\u043b\\u0430\\u0441\\u044c \\u043e\\u0442\\u043c\\u0435\\u0442\\u043a\\u0430 \\u043e \\u0442\\u043e\\u043c, \\u0447\\u0442\\u043e \\u043e\\u043d\\u0430 \\u0443\\u0433\\u0440\\u043e\\u0436\\u0430\\u043b\\u0430 \\u0434\\u0440\\u0443\\u0433\\u043e\\u0439 \\u0443\\u0447\\u0430\\u0449\\u0435\\u0439\\u0441\\u044f. \\\"\\u041d\\u0430 \\u043d\\u0435\\u0439 \\u043f\\u043e\\u0441\\u0442\\u0430\\u0432\\u0438\\u043b\\u0438 \\u043a\\u043b\\u0435\\u0439\\u043c\\u043e\\\", - \\u043f\\u043e\\u0434\\u0447\\u0435\\u0440\\u043a\\u043d\\u0443\\u043b \\u0424\\u0438\\u043a\\u043a\\u0435\\u0440, \\u043a\\u043e\\u0442\\u043e\\u0440\\u044b\\u0439 \\u043d\\u0435 \\u043d\\u0430\\u0437\\u044b\\u0432\\u0430\\u0435\\u0442 \\u0438\\u043c\\u0435\\u043d\\u0430 \\u0441\\u0432\\u043e\\u0438\\u0445 \\u043a\\u043b\\u0438\\u0435\\u043d\\u0442\\u043e\\u0432. \\u041c\\u0435\\u0436\\u0434\\u0443 \\u0442\\u0435\\u043c \\u044e\\u0440\\u0438\\u0441\\u043a\\u043e\\u043d\\u0441\\u0443\\u043b\\u044c\\u0442 \\u0448\\u043a\\u043e\\u043b\\u044c\\u043d\\u043e\\u0433\\u043e \\u043e\\u043a\\u0440\\u0443\\u0433\\u0430 \\u041c\\u0430\\u0443\\u043d\\u0442-\\u041a\\u0430\\u0440\\u043c\\u0435\\u043b \\u042d\\u0434\\u0432\\u0430\\u0440\\u0434 \\u0413\\u0440\\u0435\\u043a\\u043e (Edward Greco) \\u0437\\u0430\\u044f\\u0432\\u0438\\u043b, \\u0447\\u0442\\u043e \\u0430\\u0434\\u043c\\u0438\\u043d\\u0438\\u0441\\u0442\\u0440\\u0430\\u0446\\u0438\\u044f \\u043e\\u043a\\u0440\\u0443\\u0433\\u0430 \\u043d\\u0435 \\u043a\\u043e\\u043c\\u043c\\u0435\\u043d\\u0442\\u0438\\u0440\\u0443\\u0435\\u0442 \\u043f\\u0440\\u0438\\u043d\\u0438\\u043c\\u0430\\u0435\\u043c\\u044b\\u0435 \\u0435\\u0439 \\u0434\\u0438\\u0441\\u0446\\u0438\\u043f\\u043b\\u0438\\u043d\\u0430\\u0440\\u043d\\u044b\\u0435 \\u043c\\u0435\\u0440\\u044b. \\u0412\\u043f\\u0440\\u043e\\u0447\\u0435\\u043c, \\u0413\\u0440\\u0435\\u043a\\u043e \\u043f\\u0440\\u0438\\u0437\\u043d\\u0430\\u043b, \\u0447\\u0442\\u043e \\u043d\\u0430\\u043c\\u0435\\u0440\\u0435\\u043d \\u0432 \\u0431\\u043b\\u0438\\u0436\\u0430\\u0439\\u0448\\u0435\\u043c \\u0431\\u0443\\u0434\\u0443\\u0449\\u0435\\u043c \\u0432\\u0441\\u0442\\u0440\\u0435\\u0442\\u0438\\u0442\\u044c\\u0441\\u044f \\u0441 \\u0424\\u0438\\u043a\\u043a\\u0435\\u0440\\u043e\\u043c \\u0438 \\u043e\\u0431\\u0441\\u0443\\u0434\\u0438\\u0442\\u044c \\u0441\\u043b\\u043e\\u0436\\u0438\\u0432\\u0448\\u0443\\u044e\\u0441\\u044f \\u0441\\u0438\\u0442\\u0443\\u0430\\u0446\\u0438\\u044e. \\u0424\\u0438\\u043a\\u043a\\u0435\\u0440 \\u0436\\u0435 \\u043f\\u043b\\u0430\\u043d\\u0438\\u0440\\u0443\\u0435\\u0442 \\u043d\\u0435 \\u0442\\u043e\\u043b\\u044c\\u043a\\u043e \\u0434\\u043e\\u0431\\u0438\\u0442\\u044c\\u0441\\u044f \\u043f\\u043e\\u043b\\u043d\\u043e\\u0433\\u043e \\\"\\u043e\\u043f\\u0440\\u0430\\u0432\\u0434\\u0430\\u043d\\u0438\\u044f\\\" \\u0441\\u0432\\u043e\\u0435\\u0439 \\u043f\\u043e\\u0434\\u0437\\u0430\\u0449\\u0438\\u0442\\u043d\\u043e\\u0439, \\u043d\\u043e \\u0438 \\u0438\\u0437\\u0432\\u0438\\u043d\\u0435\\u043d\\u0438\\u0439 \\u0432 \\u0435\\u0435 \\u0430\\u0434\\u0440\\u0435\\u0441 \\u043e\\u0442 \\u0434\\u043e\\u043b\\u0436\\u043d\\u043e\\u0441\\u0442\\u043d\\u044b\\u0445 \\u043b\\u0438\\u0446.\"\n        ],\n        \"semantic_type\": \"\",\n        \"description\": \"\"\n      }\n    },\n    {\n      \"column\": \"topic\",\n      \"properties\": {\n        \"dtype\": \"category\",\n        \"num_unique_values\": 10,\n        \"samples\": [\n          \"\\u041a\\u0443\\u043b\\u044c\\u0442\\u0443\\u0440\\u0430\",\n          \"\\u0411\\u044b\\u0432\\u0448\\u0438\\u0439 \\u0421\\u0421\\u0421\\u0420\",\n          \"\\u0418\\u0437 \\u0436\\u0438\\u0437\\u043d\\u0438\"\n        ],\n        \"semantic_type\": \"\",\n        \"description\": \"\"\n      }\n    },\n    {\n      \"column\": \"tags\",\n      \"properties\": {\n        \"dtype\": \"category\",\n        \"num_unique_values\": 40,\n        \"samples\": [\n          \"\\u0418\\u043d\\u0442\\u0435\\u0440\\u043d\\u0435\\u0442\",\n          \"\\u041d\\u0430\\u0443\\u043a\\u0430\",\n          \"\\u0415\\u0434\\u0430\"\n        ],\n        \"semantic_type\": \"\",\n        \"description\": \"\"\n      }\n    },\n    {\n      \"column\": \"lemmatized\",\n      \"properties\": {\n        \"dtype\": \"string\",\n        \"num_unique_values\": 9994,\n        \"samples\": [\n          \"\\u0438\\u0442\\u043e\\u0433 \\u0440\\u043e\\u0441\\u0441\\u0438\\u0439\\u0441\\u043a\\u0438\\u0439 \\u0433\\u0430\\u0437\\u043e\\u0432\\u044b\\u0439 \\u043c\\u043e\\u043d\\u043e\\u043f\\u043e\\u043b\\u0438\\u044f \\u0433\\u0430\\u0437\\u043f\\u0440\\u043e\\u043c \\u043f\\u0435\\u0440\\u0435\\u043c\\u0435\\u0441\\u0442\\u0438\\u0442\\u044c\\u0441\\u044f \\u0442\\u0440\\u0435\\u0442\\u044c\\u0435 \\u043c\\u0435\\u0441\\u0442\\u043e \\u0440\\u0435\\u0439\\u0442\\u0438\\u043d\\u0433 \\u043f\\u0440\\u0438\\u0431\\u044b\\u043b\\u044c\\u043d\\u044b\\u0439 \\u043f\\u0443\\u0431\\u043b\\u0438\\u0447\\u043d\\u044b\\u0439 \\u043a\\u043e\\u043c\\u043f\\u0430\\u043d\\u0438\\u044f \\u0441\\u0441\\u044b\\u043b\\u043a\\u0430 \\u043f\\u0440\\u0438\\u043c\\u0435\\u0447\\u0430\\u0442\\u0435\\u043b\\u044c\\u043d\\u043e \\u0438\\u0442\\u043e\\u0433 \\u0433\\u0430\\u0437\\u043f\\u0440\\u043e\\u043c \\u043f\\u0440\\u0435\\u0434\\u0441\\u0442\\u0430\\u0432\\u0438\\u0442\\u044c \\u043e\\u043f\\u0440\\u043e\\u0441 \\u0430\\u043d\\u0430\\u043b\\u0438\\u0442\\u0438\\u043a \\u043f\\u0440\\u043e\\u0432\\u0435\\u0441\\u0442\\u0438 \\u0441\\u043b\\u0435\\u0434\\u043e\\u0432\\u0430\\u0442\\u044c \\u0433\\u0430\\u0437\\u043f\\u0440\\u043e\\u043c \\u0437\\u0430\\u0440\\u0430\\u0431\\u043e\\u0442\\u0430\\u0442\\u044c \\u043c\\u0438\\u043b\\u043b\\u0438\\u0430\\u0440\\u0434 \\u0434\\u043e\\u043b\\u043b\\u0430\\u0440 \\u043e\\u043a\\u0430\\u0437\\u0430\\u0442\\u044c\\u0441\\u044f \\u0432\\u0435\\u0440\\u043d\\u044b\\u0439 \\u0433\\u0430\\u0437\\u043e\\u0432\\u044b\\u0439 \\u043c\\u043e\\u043d\\u043e\\u043f\\u043e\\u043b\\u0438\\u044f \\u0430\\u043c\\u0435\\u0440\\u0438\\u043a\\u0430\\u043d\\u0441\\u043a\\u0438\\u0439 \\u043d\\u0435\\u0444\\u0442\\u044f\\u043d\\u043e\\u0439 \\u043a\\u043e\\u043c\\u043f\\u0430\\u043d\\u0438\\u044f exxonmobil \\u043c\\u0438\\u043b\\u043b\\u0438\\u0430\\u0440\\u0434 \\u0434\\u043e\\u043b\\u043b\\u0430\\u0440 apple \\u043c\\u0438\\u043b\\u043b\\u0438\\u0430\\u0440\\u0434 \\u0434\\u043e\\u043b\\u043b\\u0430\\u0440 \\u043a\\u043e\\u043d\\u043a\\u0443\\u0440\\u0435\\u043d\\u0446\\u0438\\u044f \\u0433\\u0430\\u0437\\u043f\\u0440\\u043e\\u043c \\u043a\\u0438\\u0442\\u0430\\u0439\\u0441\\u043a\\u0438\\u0439 industrial commercial bank china \\u043e\\u0442\\u0447\\u0451\\u0442\\u043d\\u043e\\u0441\\u0442\\u044c \\u0433\\u0430\\u0437\\u043f\\u0440\\u043e\\u043c \\u043f\\u0435\\u0440\\u0432\\u043e\\u0435 \\u043c\\u0435\\u0441\\u0442\\u043e \\u0447\\u0438\\u0441\\u0442\\u044b\\u0439 \\u043f\\u0440\\u0438\\u0431\\u044b\\u0442\\u044c \\u0437\\u0430\\u0440\\u0430\\u0431\\u043e\\u0442\\u0430\\u0442\\u044c \\u043c\\u0438\\u043b\\u043b\\u0438\\u0430\\u0440\\u0434 \\u0434\\u043e\\u043b\\u043b\\u0430\\u0440 \\u0432\\u044b\\u0440\\u0443\\u0447\\u043a\\u0430 \\u0441\\u043e\\u043a\\u0440\\u0430\\u0442\\u0438\\u0442\\u044c\\u0441\\u044f \\u0441\\u0447\\u0451\\u0442 \\u0441\\u043a\\u0438\\u0434\\u043a\\u0430 \\u0435\\u0432\\u0440\\u043e\\u043f\\u0435\\u0439\\u0441\\u043a\\u0438\\u0439 \\u043f\\u043e\\u0442\\u0440\\u0435\\u0431\\u0438\\u0442\\u0435\\u043b\\u044c \\u0441\\u043e\\u043a\\u0440\\u0430\\u0449\\u0435\\u043d\\u0438\\u0435 \\u043e\\u0431\\u044a\\u0451\\u043c \\u044d\\u043a\\u0441\\u043f\\u043e\\u0440\\u0442 \\u0442\\u0435\\u0437\\u0438\\u0441 \\u043f\\u0440\\u0438\\u0431\\u044b\\u043b\\u044c\\u043d\\u044b\\u0439 \\u043a\\u043e\\u043c\\u043f\\u0430\\u043d\\u0438\\u044f \\u0433\\u0430\\u0437\\u043f\\u0440\\u043e\\u043c \\u0438\\u0441\\u043f\\u043e\\u043b\\u044c\\u0437\\u043e\\u0432\\u0430\\u0442\\u044c \\u0440\\u0435\\u043a\\u043b\\u0430\\u043c\\u0430\",\n          \"\\u043e\\u0440\\u0433\\u0430\\u043d\\u0438\\u0437\\u0430\\u0446\\u0438\\u044f freedom house \\u043e\\u0442\\u043d\\u0435\\u0441\\u0442\\u0438 \\u0440\\u043e\\u0441\\u0441\\u0438\\u044f \\u0441\\u0442\\u0440\\u0430\\u043d\\u0430 \\u0441\\u0438\\u0442\\u0443\\u0430\\u0446\\u0438\\u044f \\u0433\\u0440\\u0430\\u0436\\u0434\\u0430\\u043d\\u0441\\u043a\\u0438\\u0439 \\u043f\\u0440\\u0430\\u0432\\u043e \\u0441\\u0432\\u043e\\u0431\\u043e\\u0434\\u0430 \\u0443\\u0445\\u0443\\u0434\\u0448\\u0438\\u0442\\u044c\\u0441\\u044f \\u043d\\u0430\\u0440\\u044f\\u0434\\u0443 \\u043a\\u0430\\u0437\\u0430\\u0445\\u0441\\u0442\\u0430\\u043d \\u043c\\u0430\\u043b\\u0438 \\u043d\\u0438\\u0433\\u0435\\u0440\\u0438\\u044f \\u0442\\u0443\\u0440\\u0446\\u0438\\u044f \\u0443\\u043a\\u0440\\u0430\\u0438\\u043d\\u0430 \\u0434\\u043e\\u043a\\u043b\\u0430\\u0434 pdf \\u043e\\u0440\\u0433\\u0430\\u043d\\u0438\\u0437\\u0430\\u0446\\u0438\\u044f freedom house \\u043e\\u0446\\u0435\\u043d\\u0438\\u0432\\u0430\\u0442\\u044c \\u0441\\u0442\\u0440\\u0430\\u043d\\u0430 \\u043a\\u0440\\u0438\\u0442\\u0435\\u0440\\u0438\\u0439 \\u043f\\u043e\\u043b\\u0438\\u0442\\u0438\\u0447\\u0435\\u0441\\u043a\\u0438\\u0439 \\u043f\\u0440\\u0430\\u0432\\u043e \\u0433\\u0440\\u0430\\u0436\\u0434\\u0430\\u043d\\u0441\\u043a\\u0438\\u0439 \\u0441\\u0432\\u043e\\u0431\\u043e\\u0434\\u0430 \\u043f\\u0440\\u0438\\u0441\\u0443\\u0436\\u0434\\u0430\\u0442\\u044c \\u043e\\u0446\\u0435\\u043d\\u043a\\u0430 \\u0448\\u043a\\u0430\\u043b\\u0430 \\u0445\\u043e\\u0440\\u043e\\u0448\\u0438\\u0439 \\u0441\\u0438\\u0442\\u0443\\u0430\\u0446\\u0438\\u044f \\u043a\\u043d\\u0434\\u0440 \\u0441\\u0438\\u0440\\u0438\\u044f \\u043f\\u0430\\u0440\\u0430\\u043c\\u0435\\u0442\\u0440 \\u043e\\u0446\\u0435\\u043d\\u043a\\u0430 \\u0430\\u0432\\u0441\\u0442\\u0440\\u0430\\u043b\\u0438\\u044f \\u0447\\u0438\\u043b\\u0438 \\u0433\\u0435\\u0440\\u043c\\u0430\\u043d\\u0438\\u044f \\u0441\\u0448\\u0430 \\u0440\\u043e\\u0441\\u0441\\u0438\\u044f \\u043f\\u043e\\u043b\\u0438\\u0442\\u0438\\u0447\\u0435\\u0441\\u043a\\u0438\\u0439 \\u043f\\u0440\\u0430\\u0432\\u043e \\u0433\\u0440\\u0430\\u0436\\u0434\\u0430\\u043d\\u0441\\u043a\\u0438\\u0439 \\u0441\\u0432\\u043e\\u0431\\u043e\\u0434\\u0430 \\u043f\\u0440\\u0438\\u0437\\u043d\\u0430\\u0442\\u044c \\u043d\\u0435\\u0441\\u0432\\u043e\\u0431\\u043e\\u0434\\u043d\\u044b\\u0439 \\u0441\\u0442\\u0440\\u0430\\u043d\\u0430 \\u0443\\u0445\\u0443\\u0434\\u0448\\u0435\\u043d\\u0438\\u0435 \\u0441\\u0438\\u0442\\u0443\\u0430\\u0446\\u0438\\u044f \\u043e\\u0442\\u0447\\u0451\\u0442 \\u043e\\u043a\\u0430\\u0437\\u0430\\u0442\\u044c\\u0441\\u044f \\u043d\\u0435\\u0434\\u043e\\u0441\\u0442\\u0430\\u0442\\u043e\\u0447\\u043d\\u044b\\u0439 \\u043c\\u0435\\u043d\\u044f\\u0442\\u044c \\u043e\\u0446\\u0435\\u043d\\u043a\\u0430 \\u043a\\u0440\\u0438\\u0442\\u0435\\u0440\\u0438\\u0439 \\u043e\\u0440\\u0433\\u0430\\u043d\\u0438\\u0437\\u0430\\u0446\\u0438\\u044f \\u0441\\u0432\\u044f\\u0437\\u0430\\u0442\\u044c \\u0443\\u0445\\u0443\\u0434\\u0448\\u0435\\u043d\\u0438\\u0435 \\u0441\\u0438\\u0442\\u0443\\u0430\\u0446\\u0438\\u044f \\u0432\\u043e\\u0437\\u0432\\u0440\\u0430\\u0449\\u0435\\u043d\\u0438\\u0435 \\u0432\\u043b\\u0430\\u0434\\u0438\\u043c\\u0438\\u0440 \\u043f\\u0443\\u0442\\u0438\\u043d \\u043f\\u043e\\u0441\\u0442 \\u043f\\u0440\\u0435\\u0437\\u0438\\u0434\\u0435\\u043d\\u0442 \\u0443\\u0441\\u0438\\u043b\\u0438\\u0442\\u044c\\u0441\\u044f \\u0440\\u0435\\u043f\\u0440\\u0435\\u0441\\u0441\\u0438\\u044f \\u0434\\u043e\\u043a\\u043b\\u0430\\u0434 \\u0443\\u043f\\u043e\\u043c\\u0438\\u043d\\u0430\\u0442\\u044c\\u0441\\u044f \\u043d\\u043e\\u0432\\u043e\\u0435 \\u0437\\u0430\\u043a\\u043e\\u043d \\u043c\\u0438\\u0442\\u0438\\u043d\\u0433 \\u043d\\u043a\\u043e \\u0437\\u0430\\u043a\\u043e\\u043d \\u0437\\u0430\\u0449\\u0438\\u0442\\u0430 \\u0440\\u0435\\u0431\\u0451\\u043d\\u043e\\u043a \\u0432\\u0440\\u0435\\u0434\\u043d\\u044b\\u0439 \\u043f\\u0440\\u0435\\u043f\\u044f\\u0442\\u0441\\u0442\\u0432\\u043e\\u0432\\u0430\\u0442\\u044c \\u0441\\u0432\\u043e\\u0431\\u043e\\u0434\\u0430 \\u0438\\u043d\\u0442\\u0435\\u0440\\u043d\\u0435\\u0442 \\u043f\\u0440\\u0435\\u043a\\u0440\\u0430\\u0449\\u0435\\u043d\\u0438\\u0435 \\u0440\\u0430\\u0431\\u043e\\u0442\\u0430 usaid \\u0437\\u0430\\u043f\\u0440\\u0435\\u0442 \\u0443\\u0441\\u044b\\u043d\\u043e\\u0432\\u043b\\u0435\\u043d\\u0438\\u0435 \\u0440\\u043e\\u0441\\u0441\\u0438\\u0439\\u0441\\u043a\\u0438\\u0439 \\u0440\\u0435\\u0431\\u0451\\u043d\\u043e\\u043a \\u0433\\u0440\\u0430\\u0436\\u0434\\u0430\\u043d\\u0438\\u043d \\u0441\\u0448\\u0430 freedom house \\u043f\\u0443\\u0442\\u0438\\u043d \\u0434\\u0430\\u0432\\u0430\\u0442\\u044c \\u0432\\u044b\\u0437\\u044b\\u0432\\u0430\\u044e\\u0449\\u0438\\u0439 \\u0431\\u0435\\u0441\\u043f\\u043e\\u043a\\u043e\\u0439\\u0441\\u0442\\u0432\\u043e \\u043f\\u0440\\u0438\\u043c\\u0435\\u0440 \\u0435\\u0432\\u0440\\u0430\\u0437\\u0438\\u0439\\u0441\\u043a\\u0438\\u0439 \\u0430\\u0432\\u0442\\u043e\\u043a\\u0440\\u0430\\u0442 \\u043f\\u0440\\u0435\\u0434\\u043e\\u0441\\u0442\\u0430\\u0432\\u043b\\u044f\\u0442\\u044c \\u0434\\u0438\\u043f\\u043b\\u043e\\u043c\\u0430\\u0442\\u0438\\u0447\\u0435\\u0441\\u043a\\u0438\\u0439 \\u043f\\u043e\\u0434\\u0434\\u0435\\u0440\\u0436\\u043a\\u0430 \\u0434\\u0438\\u043a\\u0442\\u0430\\u0442\\u043e\\u0440 \\u0441\\u0442\\u043e\\u043b\\u043a\\u043d\\u0443\\u0442\\u044c\\u0441\\u044f \\u043f\\u0440\\u0438\\u0437\\u044b\\u0432 \\u0440\\u0435\\u0444\\u043e\\u0440\\u043c\\u0430 \\u0434\\u043e\\u043a\\u043b\\u0430\\u0434 \\u043e\\u0440\\u0433\\u0430\\u043d\\u0438\\u0437\\u0430\\u0446\\u0438\\u044f \\u0440\\u043e\\u0441\\u0441\\u0438\\u044f \\u043d\\u0435\\u0441\\u0432\\u043e\\u0431\\u043e\\u0434\\u043d\\u044b\\u0439 \\u0441\\u0442\\u0440\\u0430\\u043d\\u0430 \\u0442\\u0435\\u043d\\u0434\\u0435\\u043d\\u0446\\u0438\\u044f \\u0443\\u0445\\u0443\\u0434\\u0448\\u0435\\u043d\\u0438\\u0435 \\u0443\\u043b\\u0443\\u0447\\u0448\\u0435\\u043d\\u0438\\u0435 \\u0441\\u0438\\u0442\\u0443\\u0430\\u0446\\u0438\\u044f\",\n          \"\\u0438\\u0441\\u043f\\u0430\\u043d\\u0441\\u043a\\u0438\\u0439 \\u0433\\u0440\\u0443\\u043f\\u043f\\u0430 iberia \\u043e\\u0442\\u043c\\u0435\\u043d\\u0438\\u0442\\u044c \\u0440\\u0435\\u0439\\u0441 \\u043d\\u0435\\u0434\\u0435\\u043b\\u044f \\u0437\\u0430\\u0431\\u0430\\u0441\\u0442\\u043e\\u0432\\u043a\\u0430 \\u0440\\u0430\\u0431\\u043e\\u0442\\u043d\\u0438\\u043a \\u043f\\u0438\\u0441\\u0430\\u0442\\u044c el pa \\u0440\\u0435\\u0439\\u0441 \\u043e\\u0442\\u043c\\u0435\\u043d\\u0438\\u0442\\u044c \\u043d\\u0435\\u043f\\u043e\\u0441\\u0440\\u0435\\u0434\\u0441\\u0442\\u0432\\u0435\\u043d\\u043d\\u043e \\u0430\\u0432\\u0438\\u0430\\u043a\\u043e\\u043c\\u043f\\u0430\\u043d\\u0438\\u044f iberia \\u043e\\u0441\\u0442\\u0430\\u043b\\u044c\\u043d\\u043e\\u0439 \\u043f\\u043e\\u043b\\u0451\\u0442 \\u043e\\u0442\\u043c\\u0435\\u043d\\u0438\\u0442\\u044c vueling air nostrum iberia express \\u043f\\u0435\\u0440\\u0435\\u0432\\u043e\\u0437\\u0447\\u0438\\u043a \\u0432\\u0445\\u043e\\u0434\\u0438\\u0442\\u044c \\u0433\\u0440\\u0443\\u043f\\u043f\\u0430 iberia \\u043e\\u0442\\u043c\\u0435\\u043d\\u0438\\u0442\\u044c \\u0440\\u0435\\u0439\\u0441 \\u0441\\u0438\\u043b\\u044c\\u043d\\u044b\\u0439 \\u0437\\u0430\\u0431\\u0430\\u0441\\u0442\\u043e\\u0432\\u043a\\u0430 \\u043f\\u043e\\u0441\\u0442\\u0440\\u0430\\u0434\\u0430\\u0442\\u044c \\u0432\\u043d\\u0443\\u0442\\u0440\\u0435\\u043d\\u043d\\u0438\\u0439 \\u043c\\u0430\\u0440\\u0448\\u0440\\u0443\\u0442 \\u0430\\u043a\\u0446\\u0438\\u044f \\u043f\\u0440\\u043e\\u0442\\u0435\\u0441\\u0442 \\u0437\\u0430\\u0442\\u0440\\u043e\\u043d\\u0443\\u0442\\u044c \\u043c\\u0435\\u0436\\u0434\\u0443\\u043d\\u0430\\u0440\\u043e\\u0434\\u043d\\u044b\\u0439 \\u043f\\u043e\\u043b\\u0451\\u0442 \\u043f\\u043e\\u0441\\u0442\\u0440\\u0430\\u0434\\u0430\\u0442\\u044c \\u0437\\u0430\\u0440\\u0443\\u0431\\u0435\\u0436\\u043d\\u044b\\u0439 \\u043a\\u043e\\u043c\\u043f\\u0430\\u043d\\u0438\\u044f lufthansa \\u043f\\u0430\\u0441\\u0441\\u0430\\u0436\\u0438\\u0440 \\u0440\\u0430\\u0441\\u043f\\u0438\\u0441\\u0430\\u043d\\u0438\\u0435 \\u0440\\u0435\\u0439\\u0441 \\u0438\\u0441\\u043f\\u0430\\u043d\\u0438\\u044f \\u043e\\u0431\\u0440\\u0430\\u0442\\u043d\\u043e \\u043d\\u0430\\u0440\\u0443\\u0448\\u0435\\u043d\\u0438\\u0435 iberia \\u0437\\u0430\\u0432\\u0435\\u0440\\u044f\\u0442\\u044c \\u043f\\u0440\\u043e\\u0446\\u0435\\u043d\\u0442 \\u043f\\u043e\\u0441\\u0442\\u0440\\u0430\\u0434\\u0430\\u0432\\u0448\\u0438\\u0439 \\u043f\\u0430\\u0441\\u0441\\u0430\\u0436\\u0438\\u0440 \\u0443\\u043b\\u0435\\u0442\\u0435\\u0442\\u044c \\u0440\\u0435\\u0439\\u0441 \\u043e\\u0441\\u0442\\u0430\\u043b\\u044c\\u043d\\u043e\\u0439 \\u0432\\u0435\\u0440\\u043d\\u0443\\u0442\\u044c \\u0434\\u0435\\u043d\\u044c\\u0433\\u0430 \\u0431\\u0438\\u043b\\u0435\\u0442 \\u0437\\u0430\\u0431\\u0430\\u0441\\u0442\\u043e\\u0432\\u043a\\u0430 \\u0443\\u0447\\u0430\\u0441\\u0442\\u0432\\u043e\\u0432\\u0430\\u0442\\u044c \\u0442\\u044b\\u0441\\u044f\\u0447\\u0430 \\u0441\\u043e\\u0441\\u0442\\u043e\\u044f\\u0442\\u044c \\u0432\\u0435\\u0434\\u0443\\u0449\\u0438\\u0439 \\u043f\\u0440\\u043e\\u0444\\u0441\\u043e\\u044e\\u0437 ccoo ugt uso asetma sitcpla cta vuelo \\u043f\\u0440\\u0435\\u0434\\u0441\\u0442\\u0430\\u0432\\u043b\\u044f\\u0442\\u044c \\u0438\\u043d\\u0442\\u0435\\u0440\\u0435\\u0441 \\u043f\\u0440\\u043e\\u0446\\u0435\\u043d\\u0442 \\u0440\\u0430\\u0431\\u043e\\u0442\\u043d\\u0438\\u043a \\u0433\\u0440\\u0443\\u043f\\u043f\\u0430 \\u043f\\u0440\\u043e\\u0444\\u0441\\u043e\\u044e\\u0437 \\u0437\\u0430\\u043f\\u043b\\u0430\\u043d\\u0438\\u0440\\u043e\\u0432\\u0430\\u0442\\u044c \\u0437\\u0430\\u0431\\u0430\\u0441\\u0442\\u043e\\u0432\\u043a\\u0430 \\u0432\\u0435\\u0441\\u043d\\u043e\\u0439 \\u0430\\u043a\\u0446\\u0438\\u044f \\u043f\\u0440\\u043e\\u0442\\u0435\\u0441\\u0442 \\u0441\\u043e\\u0441\\u0442\\u043e\\u044f\\u0442\\u044c\\u0441\\u044f \\u0437\\u0430\\u0431\\u0430\\u0441\\u0442\\u043e\\u0432\\u0449\\u0438\\u043a \\u043f\\u0440\\u043e\\u0442\\u0435\\u0441\\u0442\\u043e\\u0432\\u0430\\u0442\\u044c \\u0441\\u043e\\u043a\\u0440\\u0430\\u0449\\u0435\\u043d\\u0438\\u0435 \\u0440\\u0430\\u0431\\u043e\\u0447\\u0438\\u0439 \\u043c\\u0435\\u0441\\u0442\\u043e \\u0443\\u0440\\u0435\\u0437\\u0430\\u043d\\u0438\\u0435 \\u0437\\u0430\\u0440\\u043f\\u043b\\u0430\\u0442\\u0430 \\u043c\\u0438\\u043d\\u0443\\u0432\\u0448\\u0438\\u0439 \\u0432\\u043b\\u0430\\u0434\\u0435\\u043b\\u0435\\u0446 iberia international airlines group \\u0441\\u043e\\u043a\\u0440\\u0430\\u0449\\u0435\\u043d\\u0438\\u0435 \\u0442\\u044b\\u0441\\u044f\\u0447\\u0430 \\u0440\\u0430\\u0431\\u043e\\u0447\\u0438\\u0439 \\u043c\\u0435\\u0441\\u0442\\u043e \\u0438\\u0441\\u043f\\u0430\\u043d\\u0441\\u043a\\u0438\\u0439 \\u0430\\u0432\\u0438\\u0430\\u043a\\u043e\\u043c\\u043f\\u0430\\u043d\\u0438\\u044f \\u0440\\u0430\\u0431\\u043e\\u0442\\u043d\\u0438\\u043a iberia \\u0443\\u0441\\u0442\\u0440\\u0430\\u0438\\u0432\\u0430\\u0442\\u044c \\u0437\\u0430\\u0431\\u0430\\u0441\\u0442\\u043e\\u0432\\u043a\\u0430 \\u0433\\u0440\\u044f\\u0434\\u0443\\u0449\\u0438\\u0439 \\u0441\\u043e\\u043a\\u0440\\u0430\\u0449\\u0435\\u043d\\u0438\\u0435 \\u043a\\u043e\\u043d\\u0435\\u0446 \\u043d\\u0430\\u0447\\u0430\\u043b\\u043e \\u0441\\u043e\\u0442\\u0440\\u0443\\u0434\\u043d\\u0438\\u043a \\u0430\\u0432\\u0438\\u0430\\u043a\\u043e\\u043c\\u043f\\u0430\\u043d\\u0438\\u044f \\u043f\\u0440\\u043e\\u0442\\u0435\\u0441\\u0442\\u043e\\u0432\\u0430\\u0442\\u044c \\u0441\\u043e\\u0437\\u0434\\u0430\\u043d\\u0438\\u0435 \\u0431\\u044e\\u0434\\u0436\\u0435\\u0442\\u043d\\u044b\\u0439 \\u043f\\u0435\\u0440\\u0435\\u0432\\u043e\\u0437\\u0447\\u0438\\u043a iberia express \\u043e\\u043f\\u0430\\u0441\\u0430\\u0442\\u044c\\u0441\\u044f \\u043f\\u043e\\u044f\\u0432\\u043b\\u0435\\u043d\\u0438\\u0435 \\u043a\\u043e\\u043d\\u043a\\u0443\\u0440\\u0435\\u043d\\u0442 \\u043f\\u0440\\u0438\\u0432\\u0435\\u0441\\u0442\\u0438 \\u0443\\u0432\\u043e\\u043b\\u044c\\u043d\\u0435\\u043d\\u0438\\u0435 \\u0433\\u0440\\u0443\\u043f\\u043f\\u0430 iberia \\u0432\\u044b\\u043f\\u043e\\u043b\\u043d\\u044f\\u0442\\u044c \\u0440\\u0435\\u0439\\u0441 \\u0440\\u043e\\u0441\\u0441\\u0438\\u044f \\u043e\\u0434\\u043d\\u043e\\u0438\\u043c\\u0451\\u043d\\u043d\\u044b\\u0439 \\u043a\\u043e\\u043c\\u043f\\u0430\\u043d\\u0438\\u044f \\u043b\\u0435\\u0442\\u0430\\u0442\\u044c \\u043c\\u0430\\u0434\\u0440\\u0438\\u0434 \\u043c\\u043e\\u0441\\u043a\\u0432\\u0430 vueling \\u0432\\u044b\\u043f\\u043e\\u043b\\u043d\\u044f\\u0442\\u044c \\u0440\\u0435\\u0439\\u0441 \\u043c\\u043e\\u0441\\u043a\\u0432\\u0430 \\u0431\\u0430\\u0440\\u0441\\u0435\\u043b\\u043e\\u043d\\u0430 \\u043e\\u0442\\u0440\\u0430\\u0437\\u0438\\u0442\\u044c\\u0441\\u044f \\u0437\\u0430\\u0431\\u0430\\u0441\\u0442\\u043e\\u0432\\u043a\\u0430 \\u0440\\u0430\\u0441\\u043f\\u0438\\u0441\\u0430\\u043d\\u0438\\u0435 \\u0440\\u0435\\u0439\\u0441 \\u043d\\u0435\\u044f\\u0441\\u043d\\u043e\"\n        ],\n        \"semantic_type\": \"\",\n        \"description\": \"\"\n      }\n    },\n    {\n      \"column\": \"year\",\n      \"properties\": {\n        \"dtype\": \"number\",\n        \"std\": 0,\n        \"min\": 2013,\n        \"max\": 2013,\n        \"num_unique_values\": 1,\n        \"samples\": [\n          2013\n        ],\n        \"semantic_type\": \"\",\n        \"description\": \"\"\n      }\n    },\n    {\n      \"column\": \"month\",\n      \"properties\": {\n        \"dtype\": \"number\",\n        \"std\": 1,\n        \"min\": 1,\n        \"max\": 4,\n        \"num_unique_values\": 4,\n        \"samples\": [\n          2\n        ],\n        \"semantic_type\": \"\",\n        \"description\": \"\"\n      }\n    },\n    {\n      \"column\": \"day\",\n      \"properties\": {\n        \"dtype\": \"number\",\n        \"std\": 8,\n        \"min\": 1,\n        \"max\": 31,\n        \"num_unique_values\": 31,\n        \"samples\": [\n          28\n        ],\n        \"semantic_type\": \"\",\n        \"description\": \"\"\n      }\n    },\n    {\n      \"column\": \"time_n\",\n      \"properties\": {\n        \"dtype\": \"number\",\n        \"std\": 2886,\n        \"min\": 449272,\n        \"max\": 459271,\n        \"num_unique_values\": 10000,\n        \"samples\": [\n          455524\n        ],\n        \"semantic_type\": \"\",\n        \"description\": \"\"\n      }\n    },\n    {\n      \"column\": \"lemmatized_title\",\n      \"properties\": {\n        \"dtype\": \"string\",\n        \"num_unique_values\": 9978,\n        \"samples\": [\n          \"evernote \\u043f\\u043e\\u043f\\u0440\\u043e\\u0441\\u0438\\u0442\\u044c \\u043f\\u043e\\u043b\\u044c\\u0437\\u043e\\u0432\\u0430\\u0442\\u0435\\u043b\\u044c \\u0441\\u043c\\u0435\\u043d\\u0438\\u0442\\u044c \\u043f\\u0430\\u0440\\u043e\\u043b\\u044c\"\n        ],\n        \"semantic_type\": \"\",\n        \"description\": \"\"\n      }\n    },\n    {\n      \"column\": \"topmine\",\n      \"properties\": {\n        \"dtype\": \"string\",\n        \"num_unique_values\": 9993,\n        \"samples\": [\n          \"\\u0442\\u0435\\u043b\\u0435\\u043a\\u0430\\u043d\\u0430\\u043b_\\u0430\\u043b\\u044c \\u0440\\u0430\\u043d\\u0435\\u043d\\u044b\\u0439_\\u0441\\u0442\\u043e\\u0440\\u043e\\u043d\\u0430 \\u0432\\u043e\\u0435\\u043d\\u043d\\u043e\\u0441\\u043b\\u0443\\u0436\\u0430\\u0449\\u0438\\u0439_\\u043f\\u0440\\u0438\\u0431\\u044b\\u0442\\u044c \\u0441\\u0435\\u0432\\u0435\\u0440\\u043e_\\u0432\\u043e\\u0441\\u0442\\u043e\\u043a_\\u0441\\u0442\\u0440\\u0430\\u043d\\u0430 \\u0431\\u0430\\u0437\\u0430_\\u0442\\u044b\\u043b\\u043e\\u0432\\u043e\\u0439 \\u0433\\u0440\\u0430\\u043d\\u0438\\u0446\\u0430_\\u0441\\u0438\\u0440\\u0438\\u044f_\\u043b\\u0438\\u0432\\u0430\\u043d \\u0432\\u043e\\u0441\\u0442\\u043e\\u043a_\\u0441\\u0442\\u0440\\u0430\\u043d\\u0430 \\u0445\\u043e\\u0434_\\u043f\\u0435\\u0440\\u0435\\u0441\\u0442\\u0440\\u0435\\u043b\\u043a\\u0430 \\u0443\\u0431\\u0438\\u0442\\u044b\\u0439_\\u0445\\u043e\\u0434 \\u0432\\u043e\\u0435\\u043d\\u043d\\u043e\\u0441\\u043b\\u0443\\u0436\\u0430\\u0449\\u0438\\u0439_\\u0441\\u0442\\u0440\\u0430\\u043d\\u0430 \\u0441\\u0435\\u0432\\u0435\\u0440\\u043e_\\u0432\\u043e\\u0441\\u0442\\u043e\\u043a \\u0432\\u043e\\u0438\\u043d\\u0441\\u043a\\u0438\\u0439_\\u0447\\u0430\\u0441\\u0442\\u044c \\u0444\\u0440\\u043e\\u043d\\u0442_\\u0430\\u043b\\u044c_\\u043d\\u0443\\u0441\\u0440 \\u0430\\u043b\\u044c_\\u0434\\u0436\\u0430\\u0437\\u0438\\u0440\\u0430 \\u0443\\u0431\\u0438\\u0442\\u044b\\u0439_\\u0445\\u043e\\u0434_\\u043f\\u0435\\u0440\\u0435\\u0441\\u0442\\u0440\\u0435\\u043b\\u043a\\u0430 \\u0444\\u0440\\u043e\\u043d\\u0442_\\u0430\\u043b\\u044c \\u0440\\u0430\\u043d\\u0435\\u043d\\u044b\\u0439_\\u0442\\u043e\\u0447\\u043d\\u044b\\u0439 \\u043e\\u0440\\u0443\\u0436\\u0438\\u0435_\\u0431\\u043e\\u0435\\u043f\\u0440\\u0438\\u043f\\u0430\\u0441 \\u0430\\u043b\\u044c_\\u043d\\u0443\\u0441\\u0440 \\u0441\\u0438\\u0440\\u0438\\u044f_\\u043b\\u0438\\u0432\\u0430\\u043d \\u0442\\u0435\\u043b\\u0435\\u043a\\u0430\\u043d\\u0430\\u043b_\\u0430\\u043b\\u044c_\\u0434\\u0436\\u0430\\u0437\\u0438\\u0440\\u0430 \\u0431\\u043e\\u0435\\u0432\\u0438\\u043a_\\u0438\\u0441\\u043b\\u0430\\u043c\\u0438\\u0441\\u0442\\u0441\\u043a\\u0438\\u0439 \\u043f\\u0440\\u0438\\u0431\\u044b\\u0442\\u044c_\\u0442\\u0443\\u0434\\u0430 \\u043b\\u0438\\u0434\\u0435\\u0440_\\u0438\\u0441\\u043b\\u0430\\u043c\\u0438\\u0441\\u0442 \\u0432\\u043b\\u0430\\u0441\\u0442\\u044c_\\u043f\\u044b\\u0442\\u0430\\u0442\\u044c\\u0441\\u044f \\u0441\\u043e\\u043b\\u0434\\u0430\\u0442_\\u043f\\u043e\\u043c\\u043e\\u0449\\u044c \\u0441\\u0438\\u0440\\u0438\\u044f_\\u043d\\u0430\\u043f\\u0440\\u0430\\u0432\\u043b\\u044f\\u0442\\u044c\\u0441\\u044f \\u0436\\u0438\\u0442\\u0435\\u043b\\u044c_\\u0434\\u0435\\u0440\\u0435\\u0432\\u043d\\u044f \\u0430\\u0440\\u0435\\u0441\\u0442\\u043e\\u0432\\u0430\\u0442\\u044c_\\u043b\\u0438\\u0434\\u0435\\u0440 \\u0441\\u0438\\u0440\\u0438\\u0439\\u0441\\u043a\\u0438\\u0439_\\u043f\\u043e\\u0432\\u0441\\u0442\\u0430\\u043d\\u0435\\u0446 \\u0441\\u0438\\u0440\\u0438\\u0439\\u0441\\u043a\\u0438\\u0439_\\u043f\\u043e\\u0432\\u0441\\u0442\\u0430\\u043d\\u0435\\u0446 \\u0443\\u0431\\u0438\\u0442\\u044c_\\u0441\\u043e\\u043b\\u0434\\u0430\\u0442 \\u0433\\u0440\\u0430\\u043d\\u0438\\u0446\\u0430_\\u043b\\u0438\\u0432\\u0430\\u043d \\u043f\\u044f\\u0442\\u0435\\u0440\\u043e_\\u0443\\u0431\\u0438\\u0442\\u044b\\u0439 \\u043f\\u044b\\u0442\\u0430\\u0442\\u044c\\u0441\\u044f_\\u0431\\u043e\\u0440\\u043e\\u0442\\u044c\\u0441\\u044f \\u0445\\u043e\\u0434_\\u0431\\u043e\\u0439 \\u043b\\u0438\\u0432\\u0430\\u043d\\u0441\\u043a\\u0438\\u0439_\\u0430\\u0440\\u043c\\u0438\\u044f\"\n        ],\n        \"semantic_type\": \"\",\n        \"description\": \"\"\n      }\n    },\n    {\n      \"column\": \"vw_text\",\n      \"properties\": {\n        \"dtype\": \"string\",\n        \"num_unique_values\": 10000,\n        \"samples\": [\n          \"6252 |@word \\u0432\\u043e\\u0437\\u0440\\u0430\\u0441\\u0442 \\u0441\\u043a\\u043e\\u043d\\u0447\\u0430\\u0442\\u044c\\u0441\\u044f \\u0431\\u0440\\u0438\\u0442\\u0430\\u043d\\u0441\\u043a\\u0438\\u0439 \\u0440\\u043e\\u043a \\u0433\\u0438\\u0442\\u0430\\u0440\\u0438\\u0441\\u0442 \\u043e\\u0441\\u043d\\u043e\\u0432\\u0430\\u0442\\u0435\\u043b\\u044c \\u0433\\u0440\\u0443\\u043f\\u043f\\u0430 ten years \\u044d\\u043b\\u0432\\u0438\\u043d \\u0441\\u043e\\u043e\\u0431\\u0449\\u0435\\u043d\\u0438\\u0435 \\u0441\\u043c\\u0435\\u0440\\u0442\\u044c \\u043e\\u0444\\u0438\\u0446\\u0438\\u0430\\u043b\\u044c\\u043d\\u044b\\u0439 \\u043c\\u0443\\u0437\\u044b\\u043a\\u0430\\u043d\\u0442 \\u0433\\u043b\\u0443\\u0431\\u043e\\u043a\\u0438\\u0439 \\u043f\\u0440\\u0438\\u0441\\u043a\\u043e\\u0440\\u0431\\u0438\\u0435 \\u044d\\u043b\\u0432\\u0438\\u043d \\u0441\\u043a\\u043e\\u043d\\u0447\\u0430\\u0442\\u044c\\u0441\\u044f \\u0443\\u0442\\u0440\\u043e\\u043c \\u043d\\u0435\\u043f\\u0440\\u0435\\u0434\\u0432\\u0438\\u0434\\u0435\\u043d\\u043d\\u044b\\u0439 \\u043e\\u0441\\u043b\\u043e\\u0436\\u043d\\u0435\\u043d\\u0438\\u0435 \\u043f\\u043b\\u0430\\u043d\\u043e\\u0432\\u044b\\u0439 \\u043e\\u043f\\u0435\\u0440\\u0430\\u0446\\u0438\\u044f \\u0437\\u0430\\u044f\\u0432\\u043b\\u0435\\u043d\\u0438\\u0435 \\u043f\\u043e\\u0434\\u043f\\u0438\\u0441\\u0430\\u0442\\u044c \\u0434\\u043e\\u0447\\u044c \\u043c\\u0443\\u0437\\u044b\\u043a\\u0430\\u043d\\u0442 \\u0434\\u0436\\u044d\\u0441\\u043c\\u0438\\u043d\\u0430 \\u0436\\u0435\\u043d\\u0430 \\u0438\\u0432\\u0438 \\u0431\\u044b\\u0432\\u0448\\u0438\\u0439 \\u0441\\u043f\\u0443\\u0442\\u043d\\u0438\\u0446\\u0430 \\u0441\\u044e\\u0437\\u0430\\u043d\\u043d\\u0430 \\u0438\\u043d\\u0442\\u0435\\u0440\\u0432\\u044c\\u044e time \\u043c\\u0435\\u043d\\u0435\\u0434\\u0436\\u0435\\u0440 \\u0433\\u0438\\u0442\\u0430\\u0440\\u0438\\u0441\\u0442 \\u0440\\u043e\\u043d \\u0440\\u0435\\u0439\\u043d\\u044f \\u0443\\u0442\\u043e\\u0447\\u043d\\u0438\\u0442\\u044c \\u0443\\u043c\\u0435\\u0440\\u0435\\u0442\\u044c \\u0438\\u0441\\u043f\\u0430\\u043d\\u0438\\u044f \\u044d\\u043b\\u0432\\u0438\\u043d \\u0433\\u0440\\u0443\\u043f\\u043f\\u0430 ten years \\u043c\\u0438\\u0440\\u043e\\u0432\\u043e\\u0439 \\u0438\\u0437\\u0432\\u0435\\u0441\\u0442\\u043d\\u043e\\u0441\\u0442\\u044c \\u0432\\u044b\\u0441\\u0442\\u0443\\u043f\\u0438\\u0442\\u044c \\u043f\\u0435\\u0441\\u043d\\u044f \\u0440\\u043e\\u043a \\u0444\\u0435\\u0441\\u0442\\u0438\\u0432\\u0430\\u043b\\u044c \\u0430\\u043c\\u0435\\u0440\\u0438\\u043a\\u0430\\u043d\\u0441\\u043a\\u0438\\u0439 \\u0432\\u0443\\u0434\\u0441\\u0442\\u043e\\u043a \\u0432\\u044b\\u0441\\u0442\\u0443\\u043f\\u043b\\u0435\\u043d\\u0438\\u0435 \\u0443\\u0432\\u0435\\u043a\\u043e\\u0432\\u0435\\u0447\\u0438\\u0442\\u044c \\u0434\\u043e\\u043a\\u0443\\u043c\\u0435\\u043d\\u0442\\u0430\\u043b\\u044c\\u043d\\u044b\\u0439 \\u0444\\u0438\\u043b\\u044c\\u043c \\u043c\\u0430\\u0439\\u043a\\u043b \\u0443\\u043e\\u0434\\u043b\\u0438\\u0442\\u044c \\u0432\\u044b\\u0439\\u0442\\u0438 \\u0441\\u0430\\u0443\\u043d\\u0434\\u0442\\u0440\\u0435\\u043a \\u043d\\u0435\\u0434\\u0435\\u043b\\u044f \\u043b\\u0438\\u0434\\u0438\\u0440\\u043e\\u0432\\u0430\\u0442\\u044c \\u0430\\u043c\\u0435\\u0440\\u0438\\u043a\\u0430\\u043d\\u0441\\u043a\\u0438\\u0439 \\u0447\\u0430\\u0440\\u0442 \\u0433\\u0440\\u0443\\u043f\\u043f\\u0430 \\u0432\\u044b\\u043f\\u0443\\u0441\\u0442\\u0438\\u0442\\u044c \\u043a\\u043e\\u043c\\u043f\\u043e\\u0437\\u0438\\u0446\\u0438\\u044f love change world \\u043a\\u043b\\u0430\\u0441\\u0441\\u0438\\u043a\\u0430 \\u0440\\u043e\\u043a \\u0431\\u043b\\u0430\\u0433\\u043e\\u0434\\u0430\\u0440\\u044f \\u0433\\u0438\\u0442\\u0430\\u0440\\u043d\\u044b\\u0439 \\u043f\\u0430\\u0440\\u0442\\u0438\\u044f \\u0430\\u043b\\u044c\\u0431\\u043e\\u043c space time \\u0441\\u043e\\u0441\\u0442\\u0430\\u0432 \\u0432\\u043e\\u0439\\u0442\\u0438 \\u043f\\u0435\\u0441\\u043d\\u044f \\u0435\\u0434\\u0438\\u043d\\u0441\\u0442\\u0432\\u0435\\u043d\\u043d\\u044b\\u0439 \\u043f\\u043b\\u0430\\u0442\\u0438\\u043d\\u043e\\u0432\\u044b\\u0439 \\u043f\\u043b\\u0430\\u0441\\u0442\\u0438\\u043d\\u043a\\u0430 \\u0433\\u0440\\u0443\\u043f\\u043f\\u0430 \\u044d\\u043b\\u0432\\u0438\\u043d \\u043d\\u0430\\u0441\\u0442\\u043e\\u044f\\u0449\\u0435\\u0435 \\u0438\\u043c\\u044f \\u0433\\u0440\\u044d\\u043c \\u044d\\u043b\\u0432\\u0438\\u043d \\u0431\\u0430\\u0440\\u043d\\u0441 \\u0440\\u043e\\u0434\\u0438\\u0442\\u044c\\u0441\\u044f \\u043d\\u043e\\u0442\\u0442\\u0438\\u043d\\u0433\\u0435\\u043c \\u043d\\u0430\\u0447\\u0430\\u043b\\u043e \\u043b\\u0435\\u043e \\u043b\\u0430\\u0439\\u043e\\u043d\\u0441\\u043e\\u043c \\u043e\\u0441\\u043d\\u043e\\u0432\\u0430\\u0442\\u044c \\u0433\\u0440\\u0443\\u043f\\u043f\\u0430 \\u0432\\u043f\\u043e\\u0441\\u043b\\u0435\\u0434\\u0441\\u0442\\u0432\\u0438\\u0438 \\u043d\\u0430\\u0437\\u044b\\u0432\\u0430\\u0442\\u044c\\u0441\\u044f ten years \\u0434\\u0435\\u0431\\u044e\\u0442\\u043d\\u044b\\u0439 \\u0430\\u043b\\u044c\\u0431\\u043e\\u043c \\u043a\\u043e\\u043b\\u043b\\u0435\\u043a\\u0442\\u0438\\u0432 \\u0432\\u043e\\u0439\\u0442\\u0438 \\u043f\\u043e\\u043f\\u0443\\u043b\\u044f\\u0440\\u043d\\u044b\\u0439 \\u043f\\u0440\\u0438\\u0432\\u043b\\u0435\\u0447\\u044c \\u0432\\u043d\\u0438\\u043c\\u0430\\u043d\\u0438\\u0435 \\u0430\\u043c\\u0435\\u0440\\u0438\\u043a\\u0430\\u043d\\u0441\\u043a\\u0438\\u0439 \\u043f\\u0440\\u043e\\u043c\\u043e\\u0443\\u0442\\u0435\\u0440 \\u043f\\u0440\\u0438\\u0432\\u0435\\u0437\\u0442\\u0438 \\u0433\\u0440\\u0443\\u043f\\u043f\\u0430 \\u0441\\u0448\\u0430 \\u0432\\u0443\\u0434\\u0441\\u0442\\u043e\\u043a \\u0432\\u044b\\u043f\\u0443\\u0441\\u043a \\u0434\\u0435\\u0432\\u044f\\u0442\\u044c \\u0430\\u043b\\u044c\\u0431\\u043e\\u043c \\u0433\\u0440\\u0443\\u043f\\u043f\\u0430 \\u0440\\u0430\\u0441\\u043f\\u0430\\u0441\\u0442\\u044c\\u0441\\u044f \\u0437\\u0430\\u043d\\u044f\\u0442\\u044c\\u0441\\u044f \\u0441\\u043e\\u043b\\u044c\\u043d\\u044b\\u0439 \\u043a\\u0430\\u0440\\u044c\\u0435\\u0440\\u0430 \\u0441\\u0442\\u0438\\u043b\\u044c \\u043a\\u0430\\u043d\\u0442\\u0440\\u0438 \\u0440\\u043e\\u043a \\u0430\\u043b\\u044c\\u0431\\u043e\\u043c \\u044d\\u043b\\u0432\\u0438\\u043d road freedom \\u0432\\u044b\\u0439\\u0442\\u0438 \\u043a\\u0430\\u0440\\u044c\\u0435\\u0440 \\u0433\\u0438\\u0442\\u0430\\u0440\\u0438\\u0441\\u0442 |@ngramm \\u043e\\u0441\\u043d\\u043e\\u0432\\u0430\\u0442\\u0435\\u043b\\u044c_\\u0433\\u0440\\u0443\\u043f\\u043f\\u0430 \\u0434\\u043e\\u043a\\u0443\\u043c\\u0435\\u043d\\u0442\\u0430\\u043b\\u044c\\u043d\\u044b\\u0439_\\u0444\\u0438\\u043b\\u044c\\u043c \\u043f\\u0440\\u0438\\u0432\\u043b\\u0435\\u0447\\u044c_\\u0432\\u043d\\u0438\\u043c\\u0430\\u043d\\u0438\\u0435 \\u0432\\u043e\\u0439\\u0442\\u0438_\\u0441\\u043e\\u0441\\u0442\\u0430\\u0432 \\u0441\\u043a\\u043e\\u043d\\u0447\\u0430\\u0442\\u044c\\u0441\\u044f_\\u0431\\u0440\\u0438\\u0442\\u0430\\u043d\\u0441\\u043a\\u0438\\u0439 \\u0433\\u0440\\u0443\\u043f\\u043f\\u0430_\\u0432\\u044b\\u043f\\u0443\\u0441\\u0442\\u0438\\u0442\\u044c \\u0431\\u043b\\u0430\\u0433\\u043e\\u0434\\u0430\\u0440\\u044f_\\u0440\\u043e\\u043a \\u0441\\u043a\\u043e\\u043d\\u0447\\u0430\\u0442\\u044c\\u0441\\u044f_\\u0432\\u043e\\u0437\\u0440\\u0430\\u0441\\u0442 \\u0430\\u043c\\u0435\\u0440\\u0438\\u043a\\u0430\\u043d\\u0441\\u043a\\u0438\\u0439_\\u0444\\u0435\\u0441\\u0442\\u0438\\u0432\\u0430\\u043b\\u044c \\u0434\\u0435\\u0431\\u044e\\u0442\\u043d\\u044b\\u0439_\\u0430\\u043b\\u044c\\u0431\\u043e\\u043c space_time \\u0434\\u0435\\u0432\\u044f\\u0442\\u044c_\\u0430\\u043b\\u044c\\u0431\\u043e\\u043c \\u0441\\u043a\\u043e\\u043d\\u0447\\u0430\\u0442\\u044c\\u0441\\u044f_\\u0443\\u0442\\u0440\\u043e\\u043c \\u043b\\u0438\\u0434\\u0438\\u0440\\u043e\\u0432\\u0430\\u0442\\u044c_\\u0430\\u043c\\u0435\\u0440\\u0438\\u043a\\u0430\\u043d\\u0441\\u043a\\u0438\\u0439 \\u0431\\u0440\\u0438\\u0442\\u0430\\u043d\\u0441\\u043a\\u0438\\u0439_\\u0440\\u043e\\u043a \\u0440\\u043e\\u043a_\\u043f\\u0435\\u0441\\u043d\\u044f \\u0437\\u0430\\u043d\\u044f\\u0442\\u044c\\u0441\\u044f_\\u0441\\u043e\\u043b\\u044c\\u043d\\u044b\\u0439 \\u043f\\u043b\\u0430\\u0441\\u0442\\u0438\\u043d\\u043a\\u0430_\\u0433\\u0440\\u0443\\u043f\\u043f\\u0430 \\u0433\\u0440\\u0443\\u043f\\u043f\\u0430_\\u0440\\u0430\\u0441\\u043f\\u0430\\u0441\\u0442\\u044c\\u0441\\u044f \\u0437\\u0430\\u043d\\u044f\\u0442\\u044c\\u0441\\u044f_\\u0441\\u043e\\u043b\\u044c\\u043d\\u044b\\u0439_\\u043a\\u0430\\u0440\\u044c\\u0435\\u0440\\u0430 \\u043f\\u0435\\u0441\\u043d\\u044f_\\u0432\\u043e\\u0439\\u0442\\u0438 \\u0430\\u043c\\u0435\\u0440\\u0438\\u043a\\u0430\\u043d\\u0441\\u043a\\u0438\\u0439_\\u0447\\u0430\\u0440\\u0442 \\u0430\\u043b\\u044c\\u0431\\u043e\\u043c_\\u043a\\u043e\\u043b\\u043b\\u0435\\u043a\\u0442\\u0438\\u0432 \\u043a\\u043b\\u0430\\u0441\\u0441\\u0438\\u043a\\u0430_\\u0440\\u043e\\u043a \\u043c\\u0438\\u0440\\u043e\\u0432\\u043e\\u0439_\\u0438\\u0437\\u0432\\u0435\\u0441\\u0442\\u043d\\u043e\\u0441\\u0442\\u044c \\u0432\\u043d\\u0438\\u043c\\u0430\\u043d\\u0438\\u0435_\\u0430\\u043c\\u0435\\u0440\\u0438\\u043a\\u0430\\u043d\\u0441\\u043a\\u0438\\u0439 \\u043f\\u0440\\u0438\\u0432\\u043b\\u0435\\u0447\\u044c_\\u0432\\u043d\\u0438\\u043c\\u0430\\u043d\\u0438\\u0435_\\u0430\\u043c\\u0435\\u0440\\u0438\\u043a\\u0430\\u043d\\u0441\\u043a\\u0438\\u0439 \\u043f\\u043e\\u0434\\u043f\\u0438\\u0441\\u0430\\u0442\\u044c_\\u0437\\u0430\\u044f\\u0432\\u043b\\u0435\\u043d\\u0438\\u0435 \\u043e\\u0441\\u043d\\u043e\\u0432\\u0430\\u0442\\u044c_\\u0433\\u0440\\u0443\\u043f\\u043f\\u0430 \\u043d\\u0430\\u0441\\u0442\\u043e\\u044f\\u0449\\u0435\\u0435_\\u0438\\u043c\\u044f \\u0440\\u043e\\u043a_\\u0430\\u043b\\u044c\\u0431\\u043e\\u043c \\u0441\\u043e\\u043b\\u044c\\u043d\\u044b\\u0439_\\u043a\\u0430\\u0440\\u044c\\u0435\\u0440\\u0430 \\u0440\\u043e\\u043a_\\u0444\\u0435\\u0441\\u0442\\u0438\\u0432\\u0430\\u043b\\u044c \\u0430\\u043b\\u044c\\u0431\\u043e\\u043c_\\u0433\\u0440\\u0443\\u043f\\u043f\\u0430 \\u0441\\u043e\\u043e\\u0431\\u0449\\u0435\\u043d\\u0438\\u0435_\\u0441\\u043c\\u0435\\u0440\\u0442\\u044c\"\n        ],\n        \"semantic_type\": \"\",\n        \"description\": \"\"\n      }\n    },\n    {\n      \"column\": \"id\",\n      \"properties\": {\n        \"dtype\": \"number\",\n        \"std\": 2886,\n        \"min\": 0,\n        \"max\": 9999,\n        \"num_unique_values\": 10000,\n        \"samples\": [\n          6252\n        ],\n        \"semantic_type\": \"\",\n        \"description\": \"\"\n      }\n    }\n  ]\n}"
            }
          },
          "metadata": {},
          "execution_count": 56
        }
      ]
    },
    {
      "cell_type": "code",
      "source": [
        "df['topic'].cat.categories"
      ],
      "metadata": {
        "colab": {
          "base_uri": "https://localhost:8080/"
        },
        "id": "zbkRNAQwSZEx",
        "outputId": "4f535979-3c79-4eeb-d13a-418945584626"
      },
      "execution_count": 57,
      "outputs": [
        {
          "output_type": "stream",
          "name": "stderr",
          "text": [
            "/usr/local/lib/python3.10/dist-packages/ipykernel/ipkernel.py:283: DeprecationWarning: `should_run_async` will not call `transform_cell` automatically in the future. Please pass the result to `transformed_cell` argument and any exception that happen during thetransform in `preprocessing_exc_tuple` in IPython 7.17 and above.\n",
            "  and should_run_async(code)\n"
          ]
        },
        {
          "output_type": "execute_result",
          "data": {
            "text/plain": [
              "Index(['Бывший СССР', 'Дом', 'Из жизни', 'Интернет и СМИ', 'Культура', 'Мир',\n",
              "       'Наука и техника', 'Россия', 'Спорт', 'Экономика'],\n",
              "      dtype='object')"
            ]
          },
          "metadata": {},
          "execution_count": 57
        }
      ]
    },
    {
      "cell_type": "code",
      "source": [
        "stemmer_ru = SnowballStemmer('russian')\n",
        "russian_stop_words = set(stopwords.words('russian')) # russian is supported by nltk stemmer\n",
        "\n",
        "\n",
        "def lemmatize_stemming(text):\n",
        "  \"\"\"lemmatize and stem a word\"\"\"\n",
        "  return stemmer.stem(text)\n",
        "\n",
        "\n",
        "def preprocess(text):\n",
        "  \"\"\"lemmatize and remove stopwords\"\"\"\n",
        "  result = [lemmatize_stemming(token)\n",
        "            for token in simple_preprocess(text)\n",
        "            if token not in russian_stop_words and len(token) > 3]\n",
        "  return result"
      ],
      "metadata": {
        "colab": {
          "base_uri": "https://localhost:8080/"
        },
        "id": "aPa447nGS_K4",
        "outputId": "4447bd52-4d01-458b-f540-4a08240d6920"
      },
      "execution_count": 58,
      "outputs": [
        {
          "output_type": "stream",
          "name": "stderr",
          "text": [
            "/usr/local/lib/python3.10/dist-packages/ipykernel/ipkernel.py:283: DeprecationWarning: `should_run_async` will not call `transform_cell` automatically in the future. Please pass the result to `transformed_cell` argument and any exception that happen during thetransform in `preprocessing_exc_tuple` in IPython 7.17 and above.\n",
            "  and should_run_async(code)\n"
          ]
        }
      ]
    },
    {
      "cell_type": "code",
      "source": [
        "all_articles_ru = df['text'].to_list()\n",
        "all_articles_ru[:5]"
      ],
      "metadata": {
        "colab": {
          "base_uri": "https://localhost:8080/"
        },
        "id": "cRnrwCtsTIDM",
        "outputId": "c2b769e5-a1a0-4294-a4ff-8c58ce4cd918"
      },
      "execution_count": null,
      "outputs": [
        {
          "output_type": "stream",
          "name": "stderr",
          "text": [
            "/usr/local/lib/python3.10/dist-packages/ipykernel/ipkernel.py:283: DeprecationWarning: `should_run_async` will not call `transform_cell` automatically in the future. Please pass the result to `transformed_cell` argument and any exception that happen during thetransform in `preprocessing_exc_tuple` in IPython 7.17 and above.\n",
            "  and should_run_async(code)\n"
          ]
        },
        {
          "output_type": "execute_result",
          "data": {
            "text/plain": [
              "['В ЮАР произошел пожар, в результате которого погибли три человека, один получил ожоги, а четыре тысячи человек остались бездомными. Об этом 1 января сообщает Agence France-Presse. Пожар произошел в бедном районе Кейптауна. По информации Associated Press, этот район скученно застроен хижинами, зачастую возведенными самовольно. Для освещения, отопления и приготовления пищи там часто используются свечи, газовые горелки, керосиновые лампы и иные пожароопасные устройства. По предварительным данным, причиной возгорания стало неосторожное обращение с огнем в состоянии алкогольного опьянения. Распространению пламени способствовал сильный ветер. В настоящее время на месте работают команды спасателей. Они раздают пострадавшим продуктовые наборы, одежду и строительные материалы.',\n",
              " 'Давка в крупнейшем городе Кот-д\\'Ивуара Абиджане началась после того, как столкнулись два потока людей, двигавшихся в противоположные стороны. Об этом сообщает Agence France-Presse со ссылкой на представителя местной полиции. Точные обстоятельства произошедшего еще расследуются, отметил министр внутренних дел Кот-д\\'Ивуара Хамед Бакайоко (Hamed Bakayoko). 1 января в Абиджане произошла давка, в результате которой погибло 60 человек, пришедших посмотреть новогодний фейерверк. Средний возраст погибших составляет 18 лет. По официальным данным в давке было ранено 49 человек, хотя анонимный представитель спасателей сообщил агентству о 200 пострадавших. По свидетельствам очевидцев, которые приводит AFP, давка началась после окончания новогоднего фейерверка. Инцидент произошел возле главного входа в стадион, где охрана установила три ствола дерева в качестве барьеров. Согласно официальным данным, посмотреть на фейерверки собралось около 50 тысяч человек. Президент страны Алассан Уаттара (Alassane Ouattara) назвал произошедшее \"настоящей трагедией\". Позднее будет назначена дата национального траура.',\n",
              " 'Политические партии и общественные организации Египта приняли поправки в закон о выборах в нижнюю палату парламента, сообщает 1 января Agence France-Presse со ссылкой на пресс-секретаря президента Египта Ясира Али. В число изменений в законе о выборах вошло обязательное включение женщин в партийные списки. При этом в список от каждой партии, которая баллотируется в нижнюю палату парламента, должны входить имена как минимум четырех женщин. Кроме того, согласно новому варианту закона, запрещается \"перекрестное\" участие в выборах, когда один кандидат баллотируется в нижнюю палату как по партийному, так и по окружному списку. Также изменениям подверглась процедура контроля процесса голосования и подсчета голосов. Теперь представители партий, общественных организаций и СМИ смогут присутствовать на избирательных участках на протяжении всего голосования, а также получат право на ознакомление с результатами голосования, заверенными главой первичной избирательной комиссии. При этом численность нижней палаты парламента осталась неизменной: депутатов по-прежнему будет 498. Не изменилась и смешанная система  выборов, согласно которой в нижнюю палату баллотируются как политические партии по спискам, так и независимые кандидаты. По словам Ясира Али, эти изменения в ближайшие дни должно утвердить правительство Египта, после чего поправки передадут на одобрение в верхнюю палату египетского парламента - Консультативный совет. Дата выборов в нижнюю палату парламента будет определена Консультативным советом до конца февраля 2013 года. Напомним, 26 декабря 2012 года президент Египта Мохаммед Мурси подписал конституцию страны, принятую по результатам двух этапов референдума, которые прошли 15 и 22 декабря. В тот же день прошло заседание верхней палаты парламента, которая, согласно новой конституции Египта, получила широкие полномочия, действующие до выборов в нижнюю палату.',\n",
              " 'Премьер-министр Грузии Бидзина Иванишвили в новогоднем обращении к стране заявил о прекращении преследования сторонников президента страны Михаила Саакашвили. Об этом сообщает РИА Новости со ссылкой на грузинские телеканалы, которые в ночь на 1 января передавали речь Иванишвили. \"Процесс завершен. Система насилия и лжи поражена, и сейчас мы должны простить всех тех, кто, по желанию или нет, но участвовали в этой системе. Мы должны простить их и придумать что-то подобное амнистии\", - заявил Иванишвили. Ранее, 31 декабря 2012 года Иванишвили  в прямом эфире тбилисского телеканала \"Кавкасиа\" назвал прошедший год \"годом победы народа Грузии над режимом Саакашвили\", добавив, что \"режим Саакашвили держался на лжи, насилии и пиаре\". А 27 декабря в интервью телекомпании \"Имеди\" премьер-министр признался в том, что лично провоцировал аресты чиновников из окружения Саакашвили: по словам Иванишвили, он мог бы препятствовать арестам, но сознательно этого не делал. В свою очередь, как передает ИТАР-ТАСС, Михаил Саакашвили в своем новогоднем обращении к жителям Грузии обвинил коалицию Иванишвили \"Грузинская мечта\" в \"преследовании оппонентов, невыполнении обещаний по улучшению жизни населения и в попытке усиления своих политических позиций\". Саакашвили, однако, отметил, что готов \"к сотрудничеству с правящей коалицией\". После победы на парламентских выборах коалиции \"Грузинская мечта\", возглавляемой Бидзиной Иванишвили, в Грузии продолжаются аресты высокопоставленных чиновников из администрации президента страны Михаила Саакашвили. Сам президент при этом уже практически лишен политического влияния в стране. В последнее время в Грузии обсуждается возможность того, что Михаил Саакашвили может распустить парламент и назначить новые парламентские выборы. Согласно действующей конституции, президент получает право на это через шесть месяцев после того, как парламент приступил к работе, то есть в апреле 2013 года. Однако 28 декабря в парламенте Грузии начался сбор подписей за предоставление президенту страны возможности распустить парламент уже через три месяца. Сам Саакашвили пока никак не прокомментировал возможность роспуска парламента, однако Иванишвили заявил, что не против новых парламентских выборов, добавив, что рейтинг \"Грузинской мечты\" сильно превышает рейтинг \"Единого национального движения\", которое возглавляет Саакашвили.',\n",
              " 'Полиция отпустила всех участников акции \"Стратегия-31\" на Триумфальной площади 31 декабря. Об этом сообщает РИА Новости со ссылкой на пресс-службу МВД. Вместе с тем, \"ОВД-Инфо\" сообщает, что один задержанный был оставлен в ОВД \"Хорошевское\" на 48 часов после отказа представляться. Всего на несанкционированной акции оппозиции было задержано около 25 человек, отмечает агентство. \"ОВД-Инфо\" сообщало о как минимум 28 задержанных. В их числе - лидер \"Другой России\" Эдуард Лимонов и координатор \"Левого фронта\" Константин Косякин. Акции \"Стратегии-31\" проходят по 31 числам каждого месяца, в котором есть такое число. Ее участники выступают за соблюдение 31 статьи Конституции, гарантирующей свободу собраний. Московские власти не согласовали акцию 31 декабря, пояснив, что ее организаторы неоднократно нарушали требования закона \"О собраниях, митингах, демонстрациях, шествиях и пикетированиях\".']"
            ]
          },
          "metadata": {},
          "execution_count": 72
        }
      ]
    },
    {
      "cell_type": "code",
      "metadata": {
        "outputId": "5b92efe2-9f4a-4931-9ce9-912c90e9419e",
        "colab": {
          "base_uri": "https://localhost:8080/"
        },
        "id": "mu2OkVDUToCy"
      },
      "source": [
        "print('original document: ')\n",
        "article_ru = choice(all_articles_ru)\n",
        "print(article_ru, \"\\n\")\n",
        "\n",
        "print('original document, broken into words: ')\n",
        "words = [word for word in article_ru.split(' ')]\n",
        "print(words, \"\\n\")\n",
        "print(\"Vocabulary size of the original article:\", len(set(words)))\n",
        "\n",
        "print('\\n\\n tokenized and lemmatized document: ')\n",
        "preprocessed_article_ru = preprocess(article_ru)\n",
        "print(preprocessed_article_ru, '\\n')\n",
        "print(\"Vocabulary size after preprocessing:\", len(set(preprocessed_article_ru)))\n"
      ],
      "execution_count": null,
      "outputs": [
        {
          "output_type": "stream",
          "name": "stdout",
          "text": [
            "original document: \n",
            "Колумниста немецкого журнала Spiegel Якоба Аугштайна (Jakob Augstein) включили в список десяти самых ярых антисемитов 2012 года. Рейтинг был составлен еврейским правозащитным центром Симона Визенталя, главный офис которого находится в Лос-Анджелесе. Центр Визенталя включил Аугштайна в топ-10 антисемитов года за выпады против евреев и Израиля в его статьях. В качестве примеров антисемитизма Аугштайна еврейские правозащитники привели несколько цитат из его статей. В частности, журналист писал, что премьер-министр Израиля Биньямин Нетаниягу использует поддержку США, где президент нуждается в расположении еврейского лобби, и Германии, которой припоминают ее прошлое, и за счет этого \"держит мир на поводке\", постоянно говоря о возможной войне. Кроме того, центр Визенталя осудил Аугштайна за поддержку писателя Гюнтера Грасса, который заявил, что атомное оружие Израиля является угрозой хрупкому миру на Ближнем Востоке, а также сравнил исламских фундаменталистов с ультраортодоксальными евреями - харедим. Семья Аугштайна в общей сложности владеет 24 процентами акций издательского дома Spiegel. Журналист и предприниматель является также владельцем леволиберальной газеты der Freitag. С января 2011 года Аугштайн пишет колонки для Spiegel online. Помимо этого, он ведет передачу на телеканале Phoenix. Список главных антисемитов года, по версии центра Визенталя, возглавила правящая партия Египта \"Братья-мусульмане\". За ней следуют иранский режим и бразильский карикатурист Карлос Латуфф за рисунки, посвященные палестино-израильскому конфликту. Также в список попали европейские футбольные фанаты за скандирование антисемитских лозунгов, украинская партия \"Свобода\", греческая партия \"Золотой рассвет\" и венгерская партия \"За лучшую Венгрию\" (\"Йоббик\"). \n",
            "\n",
            "original document, broken into words: \n",
            "['Колумниста', 'немецкого', 'журнала', 'Spiegel', 'Якоба', 'Аугштайна', '(Jakob', 'Augstein)', 'включили', 'в', 'список', 'десяти', 'самых', 'ярых', 'антисемитов', '2012', 'года.', 'Рейтинг', 'был', 'составлен', 'еврейским', 'правозащитным', 'центром', 'Симона', 'Визенталя,', 'главный', 'офис', 'которого', 'находится', 'в', 'Лос-Анджелесе.', 'Центр', 'Визенталя', 'включил', 'Аугштайна', 'в', 'топ-10', 'антисемитов', 'года', 'за', 'выпады', 'против', 'евреев', 'и', 'Израиля', 'в', 'его', 'статьях.', 'В', 'качестве', 'примеров', 'антисемитизма', 'Аугштайна', 'еврейские', 'правозащитники', 'привели', 'несколько', 'цитат', 'из', 'его', 'статей.', 'В', 'частности,', 'журналист', 'писал,', 'что', 'премьер-министр', 'Израиля', 'Биньямин', 'Нетаниягу', 'использует', 'поддержку', 'США,', 'где', 'президент', 'нуждается', 'в', 'расположении', 'еврейского', 'лобби,', 'и', 'Германии,', 'которой', 'припоминают', 'ее', 'прошлое,', 'и', 'за', 'счет', 'этого', '\"держит', 'мир', 'на', 'поводке\",', 'постоянно', 'говоря', 'о', 'возможной', 'войне.', 'Кроме', 'того,', 'центр', 'Визенталя', 'осудил', 'Аугштайна', 'за', 'поддержку', 'писателя', 'Гюнтера', 'Грасса,', 'который', 'заявил,', 'что', 'атомное', 'оружие', 'Израиля', 'является', 'угрозой', 'хрупкому', 'миру', 'на', 'Ближнем', 'Востоке,', 'а', 'также', 'сравнил', 'исламских', 'фундаменталистов', 'с', 'ультраортодоксальными', 'евреями', '-', 'харедим.', 'Семья', 'Аугштайна', 'в', 'общей', 'сложности', 'владеет', '24', 'процентами', 'акций', 'издательского', 'дома', 'Spiegel.', 'Журналист', 'и', 'предприниматель', 'является', 'также', 'владельцем', 'леволиберальной', 'газеты', 'der', 'Freitag.', 'С', 'января', '2011', 'года', 'Аугштайн', 'пишет', 'колонки', 'для', 'Spiegel', 'online.', 'Помимо', 'этого,', 'он', 'ведет', 'передачу', 'на', 'телеканале', 'Phoenix.', 'Список', 'главных', 'антисемитов', 'года,', 'по', 'версии', 'центра', 'Визенталя,', 'возглавила', 'правящая', 'партия', 'Египта', '\"Братья-мусульмане\".', 'За', 'ней', 'следуют', 'иранский', 'режим', 'и', 'бразильский', 'карикатурист', 'Карлос', 'Латуфф', 'за', 'рисунки,', 'посвященные', 'палестино-израильскому', 'конфликту.', 'Также', 'в', 'список', 'попали', 'европейские', 'футбольные', 'фанаты', 'за', 'скандирование', 'антисемитских', 'лозунгов,', 'украинская', 'партия', '\"Свобода\",', 'греческая', 'партия', '\"Золотой', 'рассвет\"', 'и', 'венгерская', 'партия', '\"За', 'лучшую', 'Венгрию\"', '(\"Йоббик\").'] \n",
            "\n",
            "Vocabulary size of the original article: 187\n",
            "\n",
            "\n",
            " tokenized and lemmatized document: \n",
            "['колумнист', 'немецк', 'журна', 'spiegel', 'якоб', 'аугштайн', 'jakob', 'augstein', 'включ', 'список', 'десят', 'сам', 'яр', 'антисемит', 'год', 'рейтинг', 'составл', 'еврейск', 'правозащитн', 'центр', 'симон', 'визентал', 'главн', 'офис', 'котор', 'наход', 'анджелес', 'центр', 'визентал', 'включ', 'аугштайн', 'антисемит', 'год', 'выпад', 'прот', 'евре', 'израил', 'стат', 'качеств', 'пример', 'антисемитизм', 'аугштайн', 'еврейск', 'правозащитник', 'привел', 'нескольк', 'цитат', 'стат', 'частност', 'журналист', 'писа', 'премьер', 'министр', 'израил', 'биньямин', 'нетанияг', 'использ', 'поддержк', 'президент', 'нужда', 'расположен', 'еврейск', 'лобб', 'герман', 'котор', 'припомина', 'прошл', 'счет', 'держ', 'поводк', 'постоя', 'говор', 'возможн', 'войн', 'кром', 'центр', 'визентал', 'осуд', 'аугштайн', 'поддержк', 'писател', 'гюнтер', 'грасс', 'котор', 'заяв', 'атомн', 'оруж', 'израил', 'явля', 'угроз', 'хрупк', 'мир', 'ближн', 'восток', 'такж', 'сравн', 'исламск', 'евре', 'харед', 'сем', 'аугштайн', 'общ', 'сложност', 'владеет', 'процент', 'акц', 'издательск', 'дом', 'spiegel', 'журналист', 'предпринимател', 'явля', 'такж', 'владельц', 'леволиберальн', 'газет', 'freitag', 'январ', 'год', 'аугштайн', 'пишет', 'колонк', 'spiegel', 'online', 'помим', 'ведет', 'передач', 'телеканал', 'phoenix', 'список', 'главн', 'антисемит', 'год', 'верс', 'центр', 'визентал', 'возглав', 'правя', 'парт', 'египт', 'брат', 'мусульман', 'след', 'иранск', 'реж', 'бразильск', 'карикатурист', 'карлос', 'латуфф', 'рисунк', 'посвящен', 'палестин', 'израильск', 'конфликт', 'такж', 'список', 'попа', 'европейск', 'футбольн', 'фанат', 'скандирован', 'антисемитск', 'лозунг', 'украинск', 'парт', 'свобод', 'греческ', 'парт', 'золот', 'рассвет', 'венгерск', 'парт', 'лучш', 'венгр', 'йоббик'] \n",
            "\n",
            "Vocabulary size after preprocessing: 137\n"
          ]
        },
        {
          "output_type": "stream",
          "name": "stderr",
          "text": [
            "/usr/local/lib/python3.10/dist-packages/ipykernel/ipkernel.py:283: DeprecationWarning: `should_run_async` will not call `transform_cell` automatically in the future. Please pass the result to `transformed_cell` argument and any exception that happen during thetransform in `preprocessing_exc_tuple` in IPython 7.17 and above.\n",
            "  and should_run_async(code)\n"
          ]
        }
      ]
    },
    {
      "cell_type": "code",
      "metadata": {
        "outputId": "cfaf7ffc-0ca0-4dcb-fad6-ac0817835fe8",
        "colab": {
          "base_uri": "https://localhost:8080/"
        },
        "id": "xFcdBExSToCz"
      },
      "source": [
        "processed_docs_ru = list(map(preprocess, all_articles_ru))\n",
        "processed_docs_ru[:10]"
      ],
      "execution_count": null,
      "outputs": [
        {
          "output_type": "stream",
          "name": "stderr",
          "text": [
            "/usr/local/lib/python3.10/dist-packages/ipykernel/ipkernel.py:283: DeprecationWarning: `should_run_async` will not call `transform_cell` automatically in the future. Please pass the result to `transformed_cell` argument and any exception that happen during thetransform in `preprocessing_exc_tuple` in IPython 7.17 and above.\n",
            "  and should_run_async(code)\n"
          ]
        },
        {
          "output_type": "execute_result",
          "data": {
            "text/plain": [
              "[['произошел',\n",
              "  'пожар',\n",
              "  'результат',\n",
              "  'котор',\n",
              "  'погибл',\n",
              "  'человек',\n",
              "  'получ',\n",
              "  'ожог',\n",
              "  'четыр',\n",
              "  'тысяч',\n",
              "  'человек',\n",
              "  'оста',\n",
              "  'бездомн',\n",
              "  'январ',\n",
              "  'сообща',\n",
              "  'agence',\n",
              "  'france',\n",
              "  'presse',\n",
              "  'пожар',\n",
              "  'произошел',\n",
              "  'бедн',\n",
              "  'район',\n",
              "  'кейптаун',\n",
              "  'информац',\n",
              "  'associated',\n",
              "  'press',\n",
              "  'район',\n",
              "  'скучен',\n",
              "  'застро',\n",
              "  'хижин',\n",
              "  'зачаст',\n",
              "  'возведен',\n",
              "  'самовольн',\n",
              "  'освещен',\n",
              "  'отоплен',\n",
              "  'приготовлен',\n",
              "  'пищ',\n",
              "  'част',\n",
              "  'использ',\n",
              "  'свеч',\n",
              "  'газов',\n",
              "  'горелк',\n",
              "  'керосинов',\n",
              "  'ламп',\n",
              "  'ин',\n",
              "  'пожароопасн',\n",
              "  'устройств',\n",
              "  'предварительн',\n",
              "  'дан',\n",
              "  'причин',\n",
              "  'возгоран',\n",
              "  'стал',\n",
              "  'неосторожн',\n",
              "  'обращен',\n",
              "  'огн',\n",
              "  'состоян',\n",
              "  'алкогольн',\n",
              "  'опьянен',\n",
              "  'распространен',\n",
              "  'пламен',\n",
              "  'способствова',\n",
              "  'сильн',\n",
              "  'ветер',\n",
              "  'настоя',\n",
              "  'врем',\n",
              "  'мест',\n",
              "  'работа',\n",
              "  'команд',\n",
              "  'спасател',\n",
              "  'разда',\n",
              "  'пострада',\n",
              "  'продуктов',\n",
              "  'набор',\n",
              "  'одежд',\n",
              "  'строительн',\n",
              "  'материал'],\n",
              " ['давк',\n",
              "  'крупн',\n",
              "  'город',\n",
              "  'ивуар',\n",
              "  'абиджан',\n",
              "  'нача',\n",
              "  'столкнул',\n",
              "  'поток',\n",
              "  'люд',\n",
              "  'двига',\n",
              "  'противоположн',\n",
              "  'сторон',\n",
              "  'сообща',\n",
              "  'agence',\n",
              "  'france',\n",
              "  'presse',\n",
              "  'ссылк',\n",
              "  'представител',\n",
              "  'местн',\n",
              "  'полиц',\n",
              "  'точн',\n",
              "  'обстоятельств',\n",
              "  'произошедш',\n",
              "  'расслед',\n",
              "  'отмет',\n",
              "  'министр',\n",
              "  'внутрен',\n",
              "  'ивуар',\n",
              "  'хамед',\n",
              "  'бакайок',\n",
              "  'hamed',\n",
              "  'bakayoko',\n",
              "  'январ',\n",
              "  'абиджан',\n",
              "  'произошл',\n",
              "  'давк',\n",
              "  'результат',\n",
              "  'котор',\n",
              "  'погибл',\n",
              "  'человек',\n",
              "  'пришедш',\n",
              "  'посмотрет',\n",
              "  'новогодн',\n",
              "  'фейерверк',\n",
              "  'средн',\n",
              "  'возраст',\n",
              "  'погибш',\n",
              "  'составля',\n",
              "  'официальн',\n",
              "  'дан',\n",
              "  'давк',\n",
              "  'ран',\n",
              "  'человек',\n",
              "  'хот',\n",
              "  'анонимн',\n",
              "  'представител',\n",
              "  'спасател',\n",
              "  'сообщ',\n",
              "  'агентств',\n",
              "  'пострада',\n",
              "  'свидетельств',\n",
              "  'очевидц',\n",
              "  'котор',\n",
              "  'привод',\n",
              "  'давк',\n",
              "  'нача',\n",
              "  'окончан',\n",
              "  'новогодн',\n",
              "  'фейерверк',\n",
              "  'инцидент',\n",
              "  'произошел',\n",
              "  'возл',\n",
              "  'главн',\n",
              "  'вход',\n",
              "  'стадион',\n",
              "  'охра',\n",
              "  'установ',\n",
              "  'ствол',\n",
              "  'дерев',\n",
              "  'качеств',\n",
              "  'барьер',\n",
              "  'согласн',\n",
              "  'официальн',\n",
              "  'дан',\n",
              "  'посмотрет',\n",
              "  'фейерверк',\n",
              "  'собра',\n",
              "  'окол',\n",
              "  'тысяч',\n",
              "  'человек',\n",
              "  'президент',\n",
              "  'стран',\n",
              "  'аласса',\n",
              "  'уаттар',\n",
              "  'alassane',\n",
              "  'ouattara',\n",
              "  'назва',\n",
              "  'произошедш',\n",
              "  'настоя',\n",
              "  'трагед',\n",
              "  'поздн',\n",
              "  'назнач',\n",
              "  'дат',\n",
              "  'национальн',\n",
              "  'траур'],\n",
              " ['политическ',\n",
              "  'парт',\n",
              "  'обществен',\n",
              "  'организац',\n",
              "  'египт',\n",
              "  'приня',\n",
              "  'поправк',\n",
              "  'закон',\n",
              "  'выбор',\n",
              "  'нижн',\n",
              "  'палат',\n",
              "  'парламент',\n",
              "  'сообща',\n",
              "  'январ',\n",
              "  'agence',\n",
              "  'france',\n",
              "  'presse',\n",
              "  'ссылк',\n",
              "  'пресс',\n",
              "  'секретар',\n",
              "  'президент',\n",
              "  'египт',\n",
              "  'ясир',\n",
              "  'числ',\n",
              "  'изменен',\n",
              "  'закон',\n",
              "  'выбор',\n",
              "  'вошл',\n",
              "  'обязательн',\n",
              "  'включен',\n",
              "  'женщин',\n",
              "  'партийн',\n",
              "  'списк',\n",
              "  'список',\n",
              "  'кажд',\n",
              "  'парт',\n",
              "  'котор',\n",
              "  'баллотир',\n",
              "  'нижн',\n",
              "  'палат',\n",
              "  'парламент',\n",
              "  'должн',\n",
              "  'вход',\n",
              "  'им',\n",
              "  'минимум',\n",
              "  'четырех',\n",
              "  'женщин',\n",
              "  'кром',\n",
              "  'согласн',\n",
              "  'нов',\n",
              "  'вариант',\n",
              "  'закон',\n",
              "  'запреща',\n",
              "  'перекрестн',\n",
              "  'участ',\n",
              "  'выбор',\n",
              "  'кандидат',\n",
              "  'баллотир',\n",
              "  'нижн',\n",
              "  'палат',\n",
              "  'партийн',\n",
              "  'окружн',\n",
              "  'списк',\n",
              "  'такж',\n",
              "  'изменен',\n",
              "  'подвергл',\n",
              "  'процедур',\n",
              "  'контрол',\n",
              "  'процесс',\n",
              "  'голосован',\n",
              "  'подсчет',\n",
              "  'голос',\n",
              "  'представител',\n",
              "  'парт',\n",
              "  'обществен',\n",
              "  'организац',\n",
              "  'смогут',\n",
              "  'присутствова',\n",
              "  'избирательн',\n",
              "  'участк',\n",
              "  'протяжен',\n",
              "  'голосован',\n",
              "  'такж',\n",
              "  'получат',\n",
              "  'прав',\n",
              "  'ознакомлен',\n",
              "  'результат',\n",
              "  'голосован',\n",
              "  'заверен',\n",
              "  'глав',\n",
              "  'первичн',\n",
              "  'избирательн',\n",
              "  'комисс',\n",
              "  'числен',\n",
              "  'нижн',\n",
              "  'палат',\n",
              "  'парламент',\n",
              "  'оста',\n",
              "  'неизмен',\n",
              "  'депутат',\n",
              "  'прежн',\n",
              "  'измен',\n",
              "  'смеша',\n",
              "  'систем',\n",
              "  'выбор',\n",
              "  'согласн',\n",
              "  'котор',\n",
              "  'нижн',\n",
              "  'палат',\n",
              "  'баллотир',\n",
              "  'политическ',\n",
              "  'парт',\n",
              "  'списк',\n",
              "  'независим',\n",
              "  'кандидат',\n",
              "  'слов',\n",
              "  'ясир',\n",
              "  'изменен',\n",
              "  'ближайш',\n",
              "  'должн',\n",
              "  'утверд',\n",
              "  'правительств',\n",
              "  'египт',\n",
              "  'поправк',\n",
              "  'передадут',\n",
              "  'одобрен',\n",
              "  'верхн',\n",
              "  'палат',\n",
              "  'египетск',\n",
              "  'парламент',\n",
              "  'консультативн',\n",
              "  'совет',\n",
              "  'дат',\n",
              "  'выбор',\n",
              "  'нижн',\n",
              "  'палат',\n",
              "  'парламент',\n",
              "  'определ',\n",
              "  'консультативн',\n",
              "  'совет',\n",
              "  'конц',\n",
              "  'феврал',\n",
              "  'год',\n",
              "  'напомн',\n",
              "  'декабр',\n",
              "  'год',\n",
              "  'президент',\n",
              "  'египт',\n",
              "  'мохаммед',\n",
              "  'мурс',\n",
              "  'подписа',\n",
              "  'конституц',\n",
              "  'стран',\n",
              "  'принят',\n",
              "  'результат',\n",
              "  'двух',\n",
              "  'этап',\n",
              "  'референдум',\n",
              "  'котор',\n",
              "  'прошл',\n",
              "  'декабр',\n",
              "  'ден',\n",
              "  'прошл',\n",
              "  'заседан',\n",
              "  'верхн',\n",
              "  'палат',\n",
              "  'парламент',\n",
              "  'котор',\n",
              "  'согласн',\n",
              "  'нов',\n",
              "  'конституц',\n",
              "  'египт',\n",
              "  'получ',\n",
              "  'широк',\n",
              "  'полномоч',\n",
              "  'действ',\n",
              "  'выбор',\n",
              "  'нижн',\n",
              "  'палат'],\n",
              " ['премьер',\n",
              "  'министр',\n",
              "  'груз',\n",
              "  'бидзин',\n",
              "  'иванишв',\n",
              "  'новогодн',\n",
              "  'обращен',\n",
              "  'стран',\n",
              "  'заяв',\n",
              "  'прекращен',\n",
              "  'преследован',\n",
              "  'сторонник',\n",
              "  'президент',\n",
              "  'стран',\n",
              "  'миха',\n",
              "  'саакашв',\n",
              "  'сообща',\n",
              "  'новост',\n",
              "  'ссылк',\n",
              "  'грузинск',\n",
              "  'телеканал',\n",
              "  'котор',\n",
              "  'ноч',\n",
              "  'январ',\n",
              "  'передава',\n",
              "  'реч',\n",
              "  'иванишв',\n",
              "  'процесс',\n",
              "  'заверш',\n",
              "  'систем',\n",
              "  'насил',\n",
              "  'пораж',\n",
              "  'должн',\n",
              "  'прост',\n",
              "  'желан',\n",
              "  'участвова',\n",
              "  'систем',\n",
              "  'должн',\n",
              "  'прост',\n",
              "  'придума',\n",
              "  'подобн',\n",
              "  'амнист',\n",
              "  'заяв',\n",
              "  'иванишв',\n",
              "  'ран',\n",
              "  'декабр',\n",
              "  'год',\n",
              "  'иванишв',\n",
              "  'прям',\n",
              "  'эфир',\n",
              "  'тбилисск',\n",
              "  'телекана',\n",
              "  'кавкас',\n",
              "  'назва',\n",
              "  'прошедш',\n",
              "  'год',\n",
              "  'побед',\n",
              "  'народ',\n",
              "  'груз',\n",
              "  'режим',\n",
              "  'саакашв',\n",
              "  'добав',\n",
              "  'реж',\n",
              "  'саакашв',\n",
              "  'держа',\n",
              "  'насил',\n",
              "  'пиар',\n",
              "  'декабр',\n",
              "  'интерв',\n",
              "  'телекомпан',\n",
              "  'имед',\n",
              "  'премьер',\n",
              "  'министр',\n",
              "  'призна',\n",
              "  'личн',\n",
              "  'провоцирова',\n",
              "  'арест',\n",
              "  'чиновник',\n",
              "  'окружен',\n",
              "  'саакашв',\n",
              "  'слов',\n",
              "  'иванишв',\n",
              "  'препятствова',\n",
              "  'арест',\n",
              "  'сознательн',\n",
              "  'дела',\n",
              "  'очеред',\n",
              "  'переда',\n",
              "  'итар',\n",
              "  'тасс',\n",
              "  'миха',\n",
              "  'саакашв',\n",
              "  'сво',\n",
              "  'новогодн',\n",
              "  'обращен',\n",
              "  'жител',\n",
              "  'груз',\n",
              "  'обвин',\n",
              "  'коалиц',\n",
              "  'иванишв',\n",
              "  'грузинск',\n",
              "  'мечт',\n",
              "  'преследован',\n",
              "  'оппонент',\n",
              "  'невыполнен',\n",
              "  'обещан',\n",
              "  'улучшен',\n",
              "  'жизн',\n",
              "  'населен',\n",
              "  'попытк',\n",
              "  'усилен',\n",
              "  'сво',\n",
              "  'политическ',\n",
              "  'позиц',\n",
              "  'саакашв',\n",
              "  'однак',\n",
              "  'отмет',\n",
              "  'гот',\n",
              "  'сотрудничеств',\n",
              "  'правя',\n",
              "  'коалиц',\n",
              "  'побед',\n",
              "  'парламентск',\n",
              "  'выбор',\n",
              "  'коалиц',\n",
              "  'грузинск',\n",
              "  'мечт',\n",
              "  'возглавля',\n",
              "  'бидзин',\n",
              "  'иванишв',\n",
              "  'груз',\n",
              "  'продолжа',\n",
              "  'арест',\n",
              "  'чиновник',\n",
              "  'администрац',\n",
              "  'президент',\n",
              "  'стран',\n",
              "  'миха',\n",
              "  'саакашв',\n",
              "  'президент',\n",
              "  'практическ',\n",
              "  'лиш',\n",
              "  'политическ',\n",
              "  'влиян',\n",
              "  'стран',\n",
              "  'последн',\n",
              "  'врем',\n",
              "  'груз',\n",
              "  'обсужда',\n",
              "  'возможн',\n",
              "  'миха',\n",
              "  'саакашв',\n",
              "  'распуст',\n",
              "  'парламент',\n",
              "  'назнач',\n",
              "  'нов',\n",
              "  'парламентск',\n",
              "  'выбор',\n",
              "  'согласн',\n",
              "  'действ',\n",
              "  'конституц',\n",
              "  'президент',\n",
              "  'получа',\n",
              "  'прав',\n",
              "  'шест',\n",
              "  'месяц',\n",
              "  'парламент',\n",
              "  'приступ',\n",
              "  'работ',\n",
              "  'апрел',\n",
              "  'год',\n",
              "  'однак',\n",
              "  'декабр',\n",
              "  'парламент',\n",
              "  'груз',\n",
              "  'нача',\n",
              "  'сбор',\n",
              "  'подпис',\n",
              "  'предоставлен',\n",
              "  'президент',\n",
              "  'стран',\n",
              "  'возможн',\n",
              "  'распуст',\n",
              "  'парламент',\n",
              "  'месяц',\n",
              "  'саакашв',\n",
              "  'пок',\n",
              "  'никак',\n",
              "  'возможн',\n",
              "  'роспуск',\n",
              "  'парламент',\n",
              "  'однак',\n",
              "  'иванишв',\n",
              "  'заяв',\n",
              "  'прот',\n",
              "  'нов',\n",
              "  'парламентск',\n",
              "  'выбор',\n",
              "  'добав',\n",
              "  'рейтинг',\n",
              "  'грузинск',\n",
              "  'мечт',\n",
              "  'сильн',\n",
              "  'превыша',\n",
              "  'рейтинг',\n",
              "  'един',\n",
              "  'национальн',\n",
              "  'движен',\n",
              "  'котор',\n",
              "  'возглавля',\n",
              "  'саакашв'],\n",
              " ['полиц',\n",
              "  'отпуст',\n",
              "  'участник',\n",
              "  'акц',\n",
              "  'стратег',\n",
              "  'триумфальн',\n",
              "  'площад',\n",
              "  'декабр',\n",
              "  'сообща',\n",
              "  'новост',\n",
              "  'ссылк',\n",
              "  'пресс',\n",
              "  'служб',\n",
              "  'вмест',\n",
              "  'инф',\n",
              "  'сообща',\n",
              "  'задержа',\n",
              "  'оставл',\n",
              "  'хорошевск',\n",
              "  'час',\n",
              "  'отказ',\n",
              "  'представля',\n",
              "  'акц',\n",
              "  'оппозиц',\n",
              "  'задержа',\n",
              "  'окол',\n",
              "  'человек',\n",
              "  'отмеча',\n",
              "  'агентств',\n",
              "  'инф',\n",
              "  'сообща',\n",
              "  'минимум',\n",
              "  'задержа',\n",
              "  'числ',\n",
              "  'лидер',\n",
              "  'росс',\n",
              "  'эдуард',\n",
              "  'лимон',\n",
              "  'координатор',\n",
              "  'лев',\n",
              "  'фронт',\n",
              "  'константин',\n",
              "  'косякин',\n",
              "  'акц',\n",
              "  'стратег',\n",
              "  'проход',\n",
              "  'числ',\n",
              "  'кажд',\n",
              "  'месяц',\n",
              "  'котор',\n",
              "  'так',\n",
              "  'числ',\n",
              "  'участник',\n",
              "  'выступа',\n",
              "  'соблюден',\n",
              "  'стат',\n",
              "  'конституц',\n",
              "  'гарантир',\n",
              "  'свобод',\n",
              "  'собран',\n",
              "  'московск',\n",
              "  'власт',\n",
              "  'согласова',\n",
              "  'акц',\n",
              "  'декабр',\n",
              "  'поясн',\n",
              "  'организатор',\n",
              "  'неоднократн',\n",
              "  'наруша',\n",
              "  'требован',\n",
              "  'закон',\n",
              "  'собран',\n",
              "  'митинг',\n",
              "  'демонстрац',\n",
              "  'шеств',\n",
              "  'пикетирован'],\n",
              " ['платформ',\n",
              "  'динам',\n",
              "  'мытищинск',\n",
              "  'район',\n",
              "  'подмосков',\n",
              "  'загорел',\n",
              "  'цистерн',\n",
              "  'бензин',\n",
              "  'январ',\n",
              "  'сообща',\n",
              "  'агентств',\n",
              "  'итар',\n",
              "  'тасс',\n",
              "  'информац',\n",
              "  'горя',\n",
              "  'цистерн',\n",
              "  'вмеща',\n",
              "  'тон',\n",
              "  'топлив',\n",
              "  'наход',\n",
              "  'состав',\n",
              "  'грузов',\n",
              "  'поезд',\n",
              "  'котор',\n",
              "  'цистерн',\n",
              "  'бензин',\n",
              "  'наполн',\n",
              "  'деся',\n",
              "  'цистерн',\n",
              "  'результат',\n",
              "  'возгоран',\n",
              "  'никт',\n",
              "  'пострада',\n",
              "  'пожар',\n",
              "  'присво',\n",
              "  'повышен',\n",
              "  'номер',\n",
              "  'сложност',\n",
              "  'пожар',\n",
              "  'локализова',\n",
              "  'движен',\n",
              "  'поезд',\n",
              "  'результат',\n",
              "  'инцидент',\n",
              "  'наруш'],\n",
              " ['взрыв',\n",
              "  'территор',\n",
              "  'полигон',\n",
              "  'волгоградск',\n",
              "  'област',\n",
              "  'погиб',\n",
              "  'человек',\n",
              "  'сообща',\n",
              "  'январ',\n",
              "  'новост',\n",
              "  'ссылк',\n",
              "  'источник',\n",
              "  'орган',\n",
              "  'собеседник',\n",
              "  'агентств',\n",
              "  'заяв',\n",
              "  'взрыв',\n",
              "  'произошел',\n",
              "  'поселк',\n",
              "  'прудб',\n",
              "  'калачевск',\n",
              "  'район',\n",
              "  'декабр',\n",
              "  'погибш',\n",
              "  'работа',\n",
              "  'полигон',\n",
              "  'охранник',\n",
              "  'агентств',\n",
              "  'интерфакс',\n",
              "  'уточня',\n",
              "  'год',\n",
              "  'явля',\n",
              "  'сотрудник',\n",
              "  'частн',\n",
              "  'охра',\n",
              "  'предприят',\n",
              "  'взорва',\n",
              "  'боеприпас',\n",
              "  'обстоятельств',\n",
              "  'происшеств',\n",
              "  'пок',\n",
              "  'установл',\n",
              "  'ноябр',\n",
              "  'год',\n",
              "  'газет',\n",
              "  'московск',\n",
              "  'комсомолец',\n",
              "  'писа',\n",
              "  'жител',\n",
              "  'район',\n",
              "  'волгоград',\n",
              "  'город',\n",
              "  'калач',\n",
              "  'дон',\n",
              "  'испуга',\n",
              "  'слишк',\n",
              "  'част',\n",
              "  'громк',\n",
              "  'звук',\n",
              "  'взрыв',\n",
              "  'донос',\n",
              "  'полигон',\n",
              "  'прудб',\n",
              "  'пресс',\n",
              "  'служб',\n",
              "  'южн',\n",
              "  'воен',\n",
              "  'округ',\n",
              "  'заяв',\n",
              "  'полигон',\n",
              "  'проход',\n",
              "  'планов',\n",
              "  'утилизац',\n",
              "  'боеприпас',\n",
              "  'граждан',\n",
              "  'ничт',\n",
              "  'угрожа',\n",
              "  'август',\n",
              "  'год',\n",
              "  'порта',\n",
              "  'областн',\n",
              "  'вест',\n",
              "  'сообща',\n",
              "  'дво',\n",
              "  'солдат',\n",
              "  'срочник',\n",
              "  'приб',\n",
              "  'полигон',\n",
              "  'прудб',\n",
              "  'вып',\n",
              "  'спиртн',\n",
              "  'угна',\n",
              "  'воен',\n",
              "  'протаран',\n",
              "  'огражден',\n",
              "  'направ',\n",
              "  'сторон',\n",
              "  'ростов',\n",
              "  'дон',\n",
              "  'пут',\n",
              "  'столкнул',\n",
              "  'двум',\n",
              "  'машин',\n",
              "  'останов',\n",
              "  'автомобил',\n",
              "  'нача',\n",
              "  'преследова',\n",
              "  'полицейск',\n",
              "  'лиш',\n",
              "  'проб',\n",
              "  'колес',\n",
              "  'угонщик',\n",
              "  'останов',\n",
              "  'выскоч',\n",
              "  'попыта',\n",
              "  'скрыт',\n",
              "  'бег',\n",
              "  'полицейск',\n",
              "  'задержа',\n",
              "  'переда',\n",
              "  'командован',\n",
              "  'солдат',\n",
              "  'объясн',\n",
              "  'хотел',\n",
              "  'поката',\n",
              "  'апрел',\n",
              "  'год',\n",
              "  'интерфакс',\n",
              "  'передава',\n",
              "  'жител',\n",
              "  'прудбо',\n",
              "  'изъя',\n",
              "  'сем',\n",
              "  'головн',\n",
              "  'детонатор',\n",
              "  'артиллерийск',\n",
              "  'снаряд',\n",
              "  'корпус',\n",
              "  'детонатор',\n",
              "  'взрывател',\n",
              "  'снаряд',\n",
              "  'фрагмент',\n",
              "  'головн',\n",
              "  'част',\n",
              "  'реактивн',\n",
              "  'гранат',\n",
              "  'мужчин',\n",
              "  'поясн',\n",
              "  'собира',\n",
              "  'боеприпас',\n",
              "  'полигон',\n",
              "  'сдат',\n",
              "  'металлол'],\n",
              " ['теннисистк',\n",
              "  'мар',\n",
              "  'шарапов',\n",
              "  'снял',\n",
              "  'турнир',\n",
              "  'австралийск',\n",
              "  'брисбен',\n",
              "  'травм',\n",
              "  'прав',\n",
              "  'ключиц',\n",
              "  'сообща',\n",
              "  'сайт',\n",
              "  'соревнован',\n",
              "  'шарапов',\n",
              "  'отмет',\n",
              "  'воспален',\n",
              "  'област',\n",
              "  'ключиц',\n",
              "  'котор',\n",
              "  'врач',\n",
              "  'рекомендова',\n",
              "  'течен',\n",
              "  'недел',\n",
              "  'тренирова',\n",
              "  'полн',\n",
              "  'сил',\n",
              "  'слов',\n",
              "  'спортсменк',\n",
              "  'тренирова',\n",
              "  'облегчен',\n",
              "  'программ',\n",
              "  'однак',\n",
              "  'подготовк',\n",
              "  'оказа',\n",
              "  'недостаточн',\n",
              "  'участ',\n",
              "  'турнир',\n",
              "  'сайт',\n",
              "  'соревнован',\n",
              "  'говор',\n",
              "  'сомнен',\n",
              "  'шарапов',\n",
              "  'сможет',\n",
              "  'сыгра',\n",
              "  'брисбен',\n",
              "  'появ',\n",
              "  'пропуск',\n",
              "  'турнир',\n",
              "  'южн',\n",
              "  'кор',\n",
              "  'спортсменк',\n",
              "  'травмирова',\n",
              "  'перв',\n",
              "  'соперниц',\n",
              "  'шарапов',\n",
              "  'брисбен',\n",
              "  'должн',\n",
              "  'стат',\n",
              "  'австралийк',\n",
              "  'ярм',\n",
              "  'гайдошов',\n",
              "  'мест',\n",
              "  'российск',\n",
              "  'теннисистк',\n",
              "  'основн',\n",
              "  'сетк',\n",
              "  'займет',\n",
              "  'украинк',\n",
              "  'ле',\n",
              "  'цуренк'],\n",
              " ['пожарн',\n",
              "  'потуш',\n",
              "  'цистерн',\n",
              "  'бензин',\n",
              "  'загоревш',\n",
              "  'январ',\n",
              "  'подмосков',\n",
              "  'сообща',\n",
              "  'интерфакс',\n",
              "  'ссылк',\n",
              "  'пресс',\n",
              "  'служб',\n",
              "  'росс',\n",
              "  'пожар',\n",
              "  'ликвидирова',\n",
              "  'московск',\n",
              "  'времен',\n",
              "  'инцидент',\n",
              "  'обошел',\n",
              "  'жертв',\n",
              "  'пострада',\n",
              "  'ран',\n",
              "  'январ',\n",
              "  'стал',\n",
              "  'известн',\n",
              "  'возгоран',\n",
              "  'двух',\n",
              "  'цистерн',\n",
              "  'железн',\n",
              "  'дорог',\n",
              "  'мытищ',\n",
              "  'кажд',\n",
              "  'вмеща',\n",
              "  'тон',\n",
              "  'бензин',\n",
              "  'загоревш',\n",
              "  'емкост',\n",
              "  'наход',\n",
              "  'состав',\n",
              "  'грузов',\n",
              "  'поезд',\n",
              "  'цистерн',\n",
              "  'котор',\n",
              "  'содержа',\n",
              "  'бензин',\n",
              "  'пожар',\n",
              "  'присво',\n",
              "  'втор',\n",
              "  'повышен',\n",
              "  'ранг',\n",
              "  'локализова',\n",
              "  'движен',\n",
              "  'поезд',\n",
              "  'инцидент',\n",
              "  'наруша'],\n",
              " ['лидер',\n",
              "  'корейск',\n",
              "  'народн',\n",
              "  'демократическ',\n",
              "  'республик',\n",
              "  'вперв',\n",
              "  'выступ',\n",
              "  'новогодн',\n",
              "  'телеобращен',\n",
              "  'граждан',\n",
              "  'январ',\n",
              "  'сообща',\n",
              "  'news',\n",
              "  'последн',\n",
              "  'новогодн',\n",
              "  'реч',\n",
              "  'телезрител',\n",
              "  'произнес',\n",
              "  'год',\n",
              "  'лидер',\n",
              "  'кндр',\n",
              "  'след',\n",
              "  'лидер',\n",
              "  'поддержива',\n",
              "  'традиц',\n",
              "  'вообщ',\n",
              "  'очен',\n",
              "  'редк',\n",
              "  'публичн',\n",
              "  'выступа',\n",
              "  'возглавля',\n",
              "  'стран',\n",
              "  'год',\n",
              "  'внук',\n",
              "  'сен',\n",
              "  'реш',\n",
              "  'возобнов',\n",
              "  'традиц',\n",
              "  'сво',\n",
              "  'выступлен',\n",
              "  'заяв',\n",
              "  'северн',\n",
              "  'южн',\n",
              "  'кор',\n",
              "  'необходим',\n",
              "  'воссоедин',\n",
              "  'подчеркнул',\n",
              "  'разноглас',\n",
              "  'привод',\n",
              "  'войн',\n",
              "  'лидер',\n",
              "  'кндр',\n",
              "  'призва',\n",
              "  'укрепля',\n",
              "  'воен',\n",
              "  'политическ',\n",
              "  'мощ',\n",
              "  'стран',\n",
              "  'заяв',\n",
              "  'государств',\n",
              "  'сильн',\n",
              "  'воен',\n",
              "  'потенциал',\n",
              "  'достич',\n",
              "  'процветан',\n",
              "  'дополнен',\n",
              "  'телеобращен',\n",
              "  'реч',\n",
              "  'напечата',\n",
              "  'трех',\n",
              "  'основн',\n",
              "  'газет',\n",
              "  'кндр',\n",
              "  'такж',\n",
              "  'северокорейск',\n",
              "  'сообщ',\n",
              "  'лидер',\n",
              "  'встрет',\n",
              "  'нов',\n",
              "  'сход',\n",
              "  'музыкальн',\n",
              "  'спектакл',\n",
              "  'жен',\n",
              "  'декабр',\n",
              "  'год',\n",
              "  'получ',\n",
              "  'шанс',\n",
              "  'стат',\n",
              "  'человек',\n",
              "  'год',\n",
              "  'верс',\n",
              "  'американск',\n",
              "  'журна',\n",
              "  'time',\n",
              "  'стал',\n",
              "  'лидер',\n",
              "  'читательск',\n",
              "  'голосован',\n",
              "  'однак',\n",
              "  'редактор',\n",
              "  'итог',\n",
              "  'выбра',\n",
              "  'человек',\n",
              "  'год',\n",
              "  'президент',\n",
              "  'барак',\n",
              "  'обам',\n",
              "  'лидерств',\n",
              "  'объясн',\n",
              "  'хакерск',\n",
              "  'атак',\n",
              "  'кндр',\n",
              "  'соглас',\n",
              "  'верс']]"
            ]
          },
          "metadata": {},
          "execution_count": 76
        }
      ]
    },
    {
      "cell_type": "code",
      "metadata": {
        "colab": {
          "base_uri": "https://localhost:8080/"
        },
        "outputId": "77eff651-66e0-4d67-fe37-983887f58c1c",
        "id": "61trEdZyUcZ5"
      },
      "source": [
        "dictionary_ru = corpora.Dictionary(processed_docs_ru)"
      ],
      "execution_count": null,
      "outputs": [
        {
          "output_type": "stream",
          "name": "stderr",
          "text": [
            "/usr/local/lib/python3.10/dist-packages/ipykernel/ipkernel.py:283: DeprecationWarning: `should_run_async` will not call `transform_cell` automatically in the future. Please pass the result to `transformed_cell` argument and any exception that happen during thetransform in `preprocessing_exc_tuple` in IPython 7.17 and above.\n",
            "  and should_run_async(code)\n"
          ]
        }
      ]
    },
    {
      "cell_type": "code",
      "metadata": {
        "outputId": "458a54b4-fc4b-4cf6-d4f8-d93f48caebe9",
        "colab": {
          "base_uri": "https://localhost:8080/"
        },
        "id": "HNr1C32XUcZ5"
      },
      "source": [
        "for idx, (k, v) in enumerate(dictionary_ru.iteritems()):\n",
        "    print(k, v)\n",
        "    if idx >= 10:\n",
        "        break"
      ],
      "execution_count": null,
      "outputs": [
        {
          "output_type": "stream",
          "name": "stdout",
          "text": [
            "0 agence\n",
            "1 associated\n",
            "2 france\n",
            "3 press\n",
            "4 presse\n",
            "5 алкогольн\n",
            "6 бедн\n",
            "7 бездомн\n",
            "8 ветер\n",
            "9 возведен\n",
            "10 возгоран\n"
          ]
        },
        {
          "output_type": "stream",
          "name": "stderr",
          "text": [
            "/usr/local/lib/python3.10/dist-packages/ipykernel/ipkernel.py:283: DeprecationWarning: `should_run_async` will not call `transform_cell` automatically in the future. Please pass the result to `transformed_cell` argument and any exception that happen during thetransform in `preprocessing_exc_tuple` in IPython 7.17 and above.\n",
            "  and should_run_async(code)\n"
          ]
        }
      ]
    },
    {
      "cell_type": "code",
      "metadata": {
        "colab": {
          "base_uri": "https://localhost:8080/"
        },
        "outputId": "87e74048-49c0-40b9-9a80-334e7eccff69",
        "id": "YAh9cH5MUcZ6"
      },
      "source": [
        "filter_tokens_if_container_documents_are_less_than = 15\n",
        "filter_tokens_if_appeared_percentage_more_than = 0.5\n",
        "keep_the_first_n_tokens=100000\n",
        "\n",
        "num_of_topics = 10"
      ],
      "execution_count": null,
      "outputs": [
        {
          "output_type": "stream",
          "name": "stderr",
          "text": [
            "/usr/local/lib/python3.10/dist-packages/ipykernel/ipkernel.py:283: DeprecationWarning: `should_run_async` will not call `transform_cell` automatically in the future. Please pass the result to `transformed_cell` argument and any exception that happen during thetransform in `preprocessing_exc_tuple` in IPython 7.17 and above.\n",
            "  and should_run_async(code)\n"
          ]
        }
      ]
    },
    {
      "cell_type": "code",
      "metadata": {
        "colab": {
          "base_uri": "https://localhost:8080/"
        },
        "outputId": "7fec5f0e-7daa-4c21-9f5c-61ff8d57ff39",
        "id": "9EB1Q2OJUcZ6"
      },
      "source": [
        "dictionary.filter_extremes(\n",
        "    no_below=filter_tokens_if_container_documents_are_less_than,\n",
        "    no_above=filter_tokens_if_appeared_percentage_more_than,\n",
        "    keep_n=keep_the_first_n_tokens)\n"
      ],
      "execution_count": null,
      "outputs": [
        {
          "output_type": "stream",
          "name": "stderr",
          "text": [
            "/usr/local/lib/python3.10/dist-packages/ipykernel/ipkernel.py:283: DeprecationWarning: `should_run_async` will not call `transform_cell` automatically in the future. Please pass the result to `transformed_cell` argument and any exception that happen during thetransform in `preprocessing_exc_tuple` in IPython 7.17 and above.\n",
            "  and should_run_async(code)\n"
          ]
        }
      ]
    },
    {
      "cell_type": "code",
      "metadata": {
        "colab": {
          "base_uri": "https://localhost:8080/"
        },
        "outputId": "117e1053-b397-4e6b-8f0e-36a3411d9b98",
        "id": "Xsn3csVqUcZ6"
      },
      "source": [
        "bow_corpus_ru = [dictionary_ru.doc2bow(doc) for doc in processed_docs_ru]"
      ],
      "execution_count": null,
      "outputs": [
        {
          "output_type": "stream",
          "name": "stderr",
          "text": [
            "/usr/local/lib/python3.10/dist-packages/ipykernel/ipkernel.py:283: DeprecationWarning: `should_run_async` will not call `transform_cell` automatically in the future. Please pass the result to `transformed_cell` argument and any exception that happen during thetransform in `preprocessing_exc_tuple` in IPython 7.17 and above.\n",
            "  and should_run_async(code)\n"
          ]
        }
      ]
    },
    {
      "cell_type": "code",
      "metadata": {
        "outputId": "d0a82b1d-bbfb-46ef-abf7-01d1d866c97c",
        "colab": {
          "base_uri": "https://localhost:8080/"
        },
        "id": "O-nTRwJIUcZ7"
      },
      "source": [
        "sample_bow_doc_ru = choice(bow_corpus_ru)\n",
        "\n",
        "print('The processed bag-of-word document is just pairs of (word_id, # of occurnces) and looks like this:')\n",
        "print(sample_bow_doc_ru, '\\n\\n')\n",
        "\n",
        "print ('We peek in the dictionary: for each word_id, we get its assigned word:')\n",
        "for word_id, word_freq in sample_bow_doc_ru:\n",
        "  real_word = dictionary_ru[word_id]\n",
        "  print(f'Word #{word_id} (\"{real_word}\") appears {word_freq} time.')"
      ],
      "execution_count": null,
      "outputs": [
        {
          "output_type": "stream",
          "name": "stdout",
          "text": [
            "The processed bag-of-word document is just pairs of (word_id, # of occurnces) and looks like this:\n",
            "[(59, 1), (69, 1), (77, 2), (93, 1), (105, 2), (113, 1), (157, 1), (214, 1), (230, 1), (347, 1), (356, 1), (363, 1), (397, 1), (398, 1), (437, 1), (439, 1), (452, 1), (453, 1), (457, 1), (471, 1), (488, 1), (497, 1), (548, 1), (701, 1), (751, 1), (805, 1), (815, 1), (898, 2), (928, 1), (957, 2), (970, 1), (1017, 2), (1054, 1), (1081, 1), (1084, 3), (1100, 1), (1102, 1), (1162, 1), (1283, 1), (1511, 1), (1525, 1), (1569, 1), (1654, 1), (1851, 1), (2049, 1), (2065, 1), (2066, 1), (2067, 2), (2068, 1), (2069, 1), (2070, 1), (2071, 1), (2072, 2), (2073, 1), (2074, 1), (2075, 2), (2076, 1), (2077, 1), (2078, 1), (2079, 1), (2080, 1), (2081, 3), (2082, 1), (2083, 1), (2084, 1), (2085, 1), (2086, 1), (2087, 3), (2088, 1), (2089, 1), (2090, 1), (2091, 2), (2092, 2)] \n",
            "\n",
            "\n",
            "We peek in the dictionary: for each word_id, we get its assigned word:\n",
            "Word #59 (\"сообща\") appears 1 time.\n",
            "Word #69 (\"человек\") appears 1 time.\n",
            "Word #77 (\"агентств\") appears 2 time.\n",
            "Word #93 (\"инцидент\") appears 1 time.\n",
            "Word #105 (\"окол\") appears 2 time.\n",
            "Word #113 (\"полиц\") appears 1 time.\n",
            "Word #157 (\"действ\") appears 1 time.\n",
            "Word #214 (\"приня\") appears 1 time.\n",
            "Word #230 (\"такж\") appears 1 time.\n",
            "Word #347 (\"задержа\") appears 1 time.\n",
            "Word #356 (\"московск\") appears 1 time.\n",
            "Word #363 (\"отмеча\") appears 1 time.\n",
            "Word #397 (\"наруш\") appears 1 time.\n",
            "Word #398 (\"наход\") appears 1 time.\n",
            "Word #437 (\"интерфакс\") appears 1 time.\n",
            "Word #439 (\"источник\") appears 1 time.\n",
            "Word #452 (\"област\") appears 1 time.\n",
            "Word #453 (\"областн\") appears 1 time.\n",
            "Word #457 (\"орган\") appears 1 time.\n",
            "Word #471 (\"приб\") appears 1 time.\n",
            "Word #488 (\"сотрудник\") appears 1 time.\n",
            "Word #497 (\"уточня\") appears 1 time.\n",
            "Word #548 (\"времен\") appears 1 time.\n",
            "Word #701 (\"пыта\") appears 1 time.\n",
            "Word #751 (\"виновник\") appears 1 time.\n",
            "Word #805 (\"вернул\") appears 1 time.\n",
            "Word #815 (\"назначен\") appears 1 time.\n",
            "Word #898 (\"москв\") appears 2 time.\n",
            "Word #928 (\"центр\") appears 1 time.\n",
            "Word #957 (\"пассажир\") appears 2 time.\n",
            "Word #970 (\"решен\") appears 1 time.\n",
            "Word #1017 (\"аэропорт\") appears 2 time.\n",
            "Word #1054 (\"нек\") appears 1 time.\n",
            "Word #1081 (\"пункт\") appears 1 time.\n",
            "Word #1084 (\"самолет\") appears 3 time.\n",
            "Word #1100 (\"услов\") appears 1 time.\n",
            "Word #1102 (\"эт\") appears 1 time.\n",
            "Word #1162 (\"компан\") appears 1 time.\n",
            "Word #1283 (\"гражданин\") appears 1 time.\n",
            "Word #1511 (\"регион\") appears 1 time.\n",
            "Word #1525 (\"благополучн\") appears 1 time.\n",
            "Word #1569 (\"север\") appears 1 time.\n",
            "Word #1654 (\"воздушн\") appears 1 time.\n",
            "Word #1851 (\"прорва\") appears 1 time.\n",
            "Word #2049 (\"обратн\") appears 1 time.\n",
            "Word #2065 (\"airbus\") appears 1 time.\n",
            "Word #2066 (\"авиакомпан\") appears 1 time.\n",
            "Word #2067 (\"борт\") appears 2 time.\n",
            "Word #2068 (\"внов\") appears 1 time.\n",
            "Word #2069 (\"возврат\") appears 1 time.\n",
            "Word #2070 (\"вылет\") appears 1 time.\n",
            "Word #2071 (\"вылетел\") appears 1 time.\n",
            "Word #2072 (\"выполня\") appears 2 time.\n",
            "Word #2073 (\"дозаправк\") appears 1 time.\n",
            "Word #2074 (\"долет\") appears 1 time.\n",
            "Word #2075 (\"домодедов\") appears 2 time.\n",
            "Word #2076 (\"драк\") appears 1 time.\n",
            "Word #2077 (\"драчлив\") appears 1 time.\n",
            "Word #2078 (\"затея\") appears 1 time.\n",
            "Word #2079 (\"кабин\") appears 1 time.\n",
            "Word #2080 (\"командир\") appears 1 time.\n",
            "Word #2081 (\"лайнер\") appears 3 time.\n",
            "Word #2082 (\"мотивирова\") appears 1 time.\n",
            "Word #2083 (\"пилот\") appears 1 time.\n",
            "Word #2084 (\"приземл\") appears 1 time.\n",
            "Word #2085 (\"пролета\") appears 1 time.\n",
            "Word #2086 (\"рассказа\") appears 1 time.\n",
            "Word #2087 (\"рейс\") appears 3 time.\n",
            "Word #2088 (\"самарск\") appears 1 time.\n",
            "Word #2089 (\"снят\") appears 1 time.\n",
            "Word #2090 (\"судн\") appears 1 time.\n",
            "Word #2091 (\"таджикиста\") appears 2 time.\n",
            "Word #2092 (\"худжанд\") appears 2 time.\n"
          ]
        },
        {
          "output_type": "stream",
          "name": "stderr",
          "text": [
            "/usr/local/lib/python3.10/dist-packages/ipykernel/ipkernel.py:283: DeprecationWarning: `should_run_async` will not call `transform_cell` automatically in the future. Please pass the result to `transformed_cell` argument and any exception that happen during thetransform in `preprocessing_exc_tuple` in IPython 7.17 and above.\n",
            "  and should_run_async(code)\n"
          ]
        }
      ]
    },
    {
      "cell_type": "code",
      "metadata": {
        "colab": {
          "base_uri": "https://localhost:8080/"
        },
        "outputId": "6c555aa3-409f-4338-9f8c-d4d57ad319f9",
        "id": "UjBWlYYRVYby"
      },
      "source": [
        "lda_model = models.LdaMulticore(bow_corpus_ru,\n",
        "                                num_topics=num_of_topics,\n",
        "                                id2word=dictionary_ru,\n",
        "                                passes=5,\n",
        "                                workers=2)"
      ],
      "execution_count": null,
      "outputs": [
        {
          "output_type": "stream",
          "name": "stderr",
          "text": [
            "/usr/local/lib/python3.10/dist-packages/ipykernel/ipkernel.py:283: DeprecationWarning: `should_run_async` will not call `transform_cell` automatically in the future. Please pass the result to `transformed_cell` argument and any exception that happen during thetransform in `preprocessing_exc_tuple` in IPython 7.17 and above.\n",
            "  and should_run_async(code)\n",
            "WARNING:gensim.models.ldamulticore:too few updates, training might not converge; consider increasing the number of passes or iterations to improve accuracy\n"
          ]
        }
      ]
    },
    {
      "cell_type": "code",
      "metadata": {
        "outputId": "31958682-229b-4755-d415-81c4a8cfda91",
        "colab": {
          "base_uri": "https://localhost:8080/"
        },
        "id": "z2k1AO3fVYb7"
      },
      "source": [
        "for idx, topic in lda_model.print_topics(num_of_topics):\n",
        "    print(f'Topic: {idx} \\t Words: {topic}')"
      ],
      "execution_count": null,
      "outputs": [
        {
          "output_type": "stream",
          "name": "stdout",
          "text": [
            "Topic: 0 \t Words: 0.011*\"год\" + 0.010*\"котор\" + 0.007*\"январ\" + 0.006*\"сообща\" + 0.005*\"закон\" + 0.005*\"нов\" + 0.004*\"такж\" + 0.004*\"сайт\" + 0.003*\"декабр\" + 0.003*\"российск\"\n",
            "Topic: 1 \t Words: 0.016*\"год\" + 0.010*\"котор\" + 0.006*\"январ\" + 0.006*\"сообща\" + 0.005*\"такж\" + 0.005*\"стран\" + 0.005*\"сво\" + 0.004*\"нов\" + 0.004*\"президент\" + 0.004*\"компан\"\n",
            "Topic: 2 \t Words: 0.008*\"котор\" + 0.007*\"сообща\" + 0.007*\"год\" + 0.006*\"январ\" + 0.004*\"самолет\" + 0.004*\"дан\" + 0.004*\"полиц\" + 0.004*\"окол\" + 0.004*\"ран\" + 0.003*\"одн\"\n",
            "Topic: 3 \t Words: 0.020*\"год\" + 0.012*\"котор\" + 0.006*\"фильм\" + 0.005*\"сообща\" + 0.005*\"январ\" + 0.005*\"сво\" + 0.004*\"американск\" + 0.004*\"доллар\" + 0.004*\"стал\" + 0.004*\"такж\"\n",
            "Topic: 4 \t Words: 0.011*\"котор\" + 0.007*\"январ\" + 0.007*\"год\" + 0.006*\"сообща\" + 0.005*\"человек\" + 0.005*\"такж\" + 0.004*\"сайт\" + 0.004*\"компан\" + 0.004*\"росс\" + 0.003*\"закон\"\n",
            "Topic: 5 \t Words: 0.013*\"год\" + 0.009*\"котор\" + 0.006*\"такж\" + 0.005*\"январ\" + 0.005*\"сообща\" + 0.004*\"росс\" + 0.004*\"мест\" + 0.004*\"сборн\" + 0.004*\"перв\" + 0.004*\"сво\"\n",
            "Topic: 6 \t Words: 0.020*\"год\" + 0.009*\"процент\" + 0.008*\"котор\" + 0.008*\"январ\" + 0.007*\"доллар\" + 0.006*\"сообща\" + 0.005*\"росс\" + 0.005*\"миллион\" + 0.005*\"президент\" + 0.005*\"декабр\"\n",
            "Topic: 7 \t Words: 0.014*\"котор\" + 0.013*\"год\" + 0.005*\"такж\" + 0.005*\"нов\" + 0.005*\"стал\" + 0.004*\"компан\" + 0.004*\"сво\" + 0.004*\"фильм\" + 0.003*\"сайт\" + 0.003*\"заяв\"\n",
            "Topic: 8 \t Words: 0.011*\"котор\" + 0.008*\"год\" + 0.007*\"январ\" + 0.006*\"сообща\" + 0.005*\"человек\" + 0.004*\"дел\" + 0.003*\"результат\" + 0.003*\"стран\" + 0.003*\"врем\" + 0.003*\"тысяч\"\n",
            "Topic: 9 \t Words: 0.013*\"год\" + 0.008*\"дел\" + 0.006*\"котор\" + 0.006*\"январ\" + 0.006*\"сообща\" + 0.004*\"стал\" + 0.004*\"сво\" + 0.003*\"бывш\" + 0.003*\"такж\" + 0.003*\"ран\"\n"
          ]
        },
        {
          "output_type": "stream",
          "name": "stderr",
          "text": [
            "/usr/local/lib/python3.10/dist-packages/ipykernel/ipkernel.py:283: DeprecationWarning: `should_run_async` will not call `transform_cell` automatically in the future. Please pass the result to `transformed_cell` argument and any exception that happen during thetransform in `preprocessing_exc_tuple` in IPython 7.17 and above.\n",
            "  and should_run_async(code)\n"
          ]
        }
      ]
    },
    {
      "cell_type": "markdown",
      "source": [
        "TF/IDF"
      ],
      "metadata": {
        "id": "rZWtLiVHWIrh"
      }
    },
    {
      "cell_type": "code",
      "metadata": {
        "outputId": "8cc30355-6d13-40cb-ded7-d9d4148a6e09",
        "colab": {
          "base_uri": "https://localhost:8080/"
        },
        "id": "iX7joSlLVYb7"
      },
      "source": [
        "tfidf_ru = models.TfidfModel(bow_corpus_ru)\n",
        "\n",
        "tfidf_corpus_ru = tfidf[bow_corpus_ru]\n",
        "\n",
        "pprint(tfidf_corpus_ru[0][:10])"
      ],
      "execution_count": null,
      "outputs": [
        {
          "output_type": "stream",
          "name": "stdout",
          "text": [
            "[(0, 0.08439367063026802),\n",
            " (1, 0.10809045295724101),\n",
            " (2, 0.09854808269006221),\n",
            " (3, 0.13896382581162933),\n",
            " (4, 0.13409924228359352),\n",
            " (5, 0.1651177455393747),\n",
            " (6, 0.13225748841404147),\n",
            " (7, 0.11971551941436005),\n",
            " (8, 0.10638179972266693),\n",
            " (9, 0.06924911857518325)]\n"
          ]
        },
        {
          "output_type": "stream",
          "name": "stderr",
          "text": [
            "/usr/local/lib/python3.10/dist-packages/ipykernel/ipkernel.py:283: DeprecationWarning: `should_run_async` will not call `transform_cell` automatically in the future. Please pass the result to `transformed_cell` argument and any exception that happen during thetransform in `preprocessing_exc_tuple` in IPython 7.17 and above.\n",
            "  and should_run_async(code)\n"
          ]
        }
      ]
    },
    {
      "cell_type": "code",
      "source": [
        "assert len(bow_corpus_ru) == len(tfidf_corpus_ru)"
      ],
      "metadata": {
        "colab": {
          "base_uri": "https://localhost:8080/"
        },
        "outputId": "f1415013-e415-435b-8824-5edf513c2cf1",
        "id": "S4oXQfw1VYb7"
      },
      "execution_count": null,
      "outputs": [
        {
          "output_type": "stream",
          "name": "stderr",
          "text": [
            "/usr/local/lib/python3.10/dist-packages/ipykernel/ipkernel.py:283: DeprecationWarning: `should_run_async` will not call `transform_cell` automatically in the future. Please pass the result to `transformed_cell` argument and any exception that happen during thetransform in `preprocessing_exc_tuple` in IPython 7.17 and above.\n",
            "  and should_run_async(code)\n"
          ]
        }
      ]
    },
    {
      "cell_type": "code",
      "metadata": {
        "outputId": "4fc11e96-f6e5-4108-e572-499b815687ba",
        "colab": {
          "base_uri": "https://localhost:8080/"
        },
        "id": "QXrTrAAQVYb8"
      },
      "source": [
        "lda_model_tfidf = models.LdaMulticore(tfidf_corpus_ru,\n",
        "                                      num_topics=num_of_topics,\n",
        "                                      id2word=dictionary_ru,\n",
        "                                      passes=5,\n",
        "                                      workers=4)"
      ],
      "execution_count": null,
      "outputs": [
        {
          "output_type": "stream",
          "name": "stderr",
          "text": [
            "/usr/local/lib/python3.10/dist-packages/ipykernel/ipkernel.py:283: DeprecationWarning: `should_run_async` will not call `transform_cell` automatically in the future. Please pass the result to `transformed_cell` argument and any exception that happen during thetransform in `preprocessing_exc_tuple` in IPython 7.17 and above.\n",
            "  and should_run_async(code)\n",
            "WARNING:gensim.models.ldamulticore:too few updates, training might not converge; consider increasing the number of passes or iterations to improve accuracy\n"
          ]
        }
      ]
    },
    {
      "cell_type": "code",
      "source": [
        "for idx, topic in lda_model_tfidf.print_topics(num_of_topics):\n",
        "    print(f'Topic: {idx} \\t Word: {topic}')"
      ],
      "metadata": {
        "outputId": "20aa2b83-fbf5-4a60-ed87-091ad50ba6e3",
        "colab": {
          "base_uri": "https://localhost:8080/"
        },
        "id": "O2pmquPRVYb8"
      },
      "execution_count": null,
      "outputs": [
        {
          "output_type": "stream",
          "name": "stdout",
          "text": [
            "Topic: 0 \t Word: 0.001*\"год\" + 0.001*\"оборон\" + 0.001*\"дворник\" + 0.001*\"художник\" + 0.000*\"сообща\" + 0.000*\"бельгийск\" + 0.000*\"школьник\" + 0.000*\"котор\" + 0.000*\"флаг\" + 0.000*\"гражданств\"\n",
            "Topic: 1 \t Word: 0.011*\"год\" + 0.007*\"сообща\" + 0.007*\"котор\" + 0.005*\"сво\" + 0.005*\"такж\" + 0.004*\"нов\" + 0.004*\"январ\" + 0.003*\"одн\" + 0.003*\"стран\" + 0.003*\"компан\"\n",
            "Topic: 2 \t Word: 0.003*\"российск\" + 0.003*\"год\" + 0.002*\"котор\" + 0.002*\"сообща\" + 0.002*\"такж\" + 0.002*\"депард\" + 0.001*\"январ\" + 0.001*\"рубл\" + 0.001*\"одн\" + 0.001*\"нов\"\n",
            "Topic: 3 \t Word: 0.001*\"остров\" + 0.001*\"год\" + 0.000*\"аргентин\" + 0.000*\"кэмпбелл\" + 0.000*\"найден\" + 0.000*\"фолклендск\" + 0.000*\"сообща\" + 0.000*\"current\" + 0.000*\"насер\" + 0.000*\"wegelin\"\n",
            "Topic: 4 \t Word: 0.002*\"процент\" + 0.002*\"год\" + 0.001*\"сообща\" + 0.001*\"метр\" + 0.001*\"рубл\" + 0.001*\"котор\" + 0.001*\"средн\" + 0.001*\"квадратн\" + 0.001*\"такж\" + 0.001*\"нов\"\n",
            "Topic: 5 \t Word: 0.001*\"iphone\" + 0.001*\"линкольн\" + 0.001*\"приложен\" + 0.001*\"номинац\" + 0.001*\"год\" + 0.000*\"изнасилован\" + 0.000*\"мастер\" + 0.000*\"apple\" + 0.000*\"категор\" + 0.000*\"отвержен\"\n",
            "Topic: 6 \t Word: 0.001*\"год\" + 0.001*\"сообща\" + 0.001*\"кубометр\" + 0.001*\"southern\" + 0.001*\"котор\" + 0.001*\"такж\" + 0.000*\"сво\" + 0.000*\"миллиард\" + 0.000*\"нов\" + 0.000*\"доллар\"\n",
            "Topic: 7 \t Word: 0.001*\"клинтон\" + 0.001*\"год\" + 0.001*\"суда\" + 0.000*\"сообща\" + 0.000*\"котор\" + 0.000*\"депард\" + 0.000*\"танк\" + 0.000*\"ubuntu\" + 0.000*\"исламск\" + 0.000*\"епископ\"\n",
            "Topic: 8 \t Word: 0.002*\"год\" + 0.002*\"вертолет\" + 0.001*\"котор\" + 0.001*\"сообща\" + 0.001*\"сборн\" + 0.001*\"сво\" + 0.001*\"чемпионат\" + 0.001*\"матч\" + 0.001*\"январ\" + 0.001*\"такж\"\n",
            "Topic: 9 \t Word: 0.002*\"год\" + 0.001*\"котор\" + 0.001*\"сообща\" + 0.001*\"чавес\" + 0.001*\"фотограф\" + 0.001*\"доллар\" + 0.001*\"компан\" + 0.001*\"фильм\" + 0.001*\"миллион\" + 0.001*\"одн\"\n"
          ]
        },
        {
          "output_type": "stream",
          "name": "stderr",
          "text": [
            "/usr/local/lib/python3.10/dist-packages/ipykernel/ipkernel.py:283: DeprecationWarning: `should_run_async` will not call `transform_cell` automatically in the future. Please pass the result to `transformed_cell` argument and any exception that happen during thetransform in `preprocessing_exc_tuple` in IPython 7.17 and above.\n",
            "  and should_run_async(code)\n"
          ]
        }
      ]
    },
    {
      "cell_type": "markdown",
      "source": [
        "Testing"
      ],
      "metadata": {
        "id": "MXPXOH0FWg0m"
      }
    },
    {
      "cell_type": "code",
      "metadata": {
        "outputId": "379ecbec-dd58-499e-d5a7-cae18ce05fa4",
        "colab": {
          "base_uri": "https://localhost:8080/"
        },
        "id": "1nwrENovWd56"
      },
      "source": [
        "# randomly pick an article:\n",
        "test_doc_ru = choice(range(len(processed_docs_ru)))\n",
        "processed_docs_ru[test_doc_ru][:50]"
      ],
      "execution_count": null,
      "outputs": [
        {
          "output_type": "stream",
          "name": "stderr",
          "text": [
            "/usr/local/lib/python3.10/dist-packages/ipykernel/ipkernel.py:283: DeprecationWarning: `should_run_async` will not call `transform_cell` automatically in the future. Please pass the result to `transformed_cell` argument and any exception that happen during thetransform in `preprocessing_exc_tuple` in IPython 7.17 and above.\n",
            "  and should_run_async(code)\n"
          ]
        },
        {
          "output_type": "execute_result",
          "data": {
            "text/plain": [
              "['груз',\n",
              " 'январ',\n",
              " 'попа',\n",
              " 'лавин',\n",
              " 'четвер',\n",
              " 'российск',\n",
              " 'альпинист',\n",
              " 'обнаруж',\n",
              " 'тел',\n",
              " 'двух',\n",
              " 'погибш',\n",
              " 'сообща',\n",
              " 'новост',\n",
              " 'ссылк',\n",
              " 'пресс',\n",
              " 'служб',\n",
              " 'гумчс',\n",
              " 'северн',\n",
              " 'осет',\n",
              " 'сообща',\n",
              " 'ран',\n",
              " 'одн',\n",
              " 'четырех',\n",
              " 'альпинист',\n",
              " 'попа',\n",
              " 'лавин',\n",
              " 'уда',\n",
              " 'спаст',\n",
              " 'судьб',\n",
              " 'последн',\n",
              " 'член',\n",
              " 'групп',\n",
              " 'пок',\n",
              " 'неизвестн',\n",
              " 'поисков',\n",
              " 'работ',\n",
              " 'нача',\n",
              " 'январ',\n",
              " 'осложн',\n",
              " 'снегопад',\n",
              " 'российск',\n",
              " 'альпинист',\n",
              " 'попа',\n",
              " 'лавин',\n",
              " 'территор',\n",
              " 'казбегск',\n",
              " 'район',\n",
              " 'груз',\n",
              " 'групп',\n",
              " 'состоя']"
            ]
          },
          "metadata": {},
          "execution_count": 93
        }
      ]
    },
    {
      "cell_type": "code",
      "metadata": {
        "outputId": "0c5a3157-8685-4eff-c5b1-e30caf9cda76",
        "colab": {
          "base_uri": "https://localhost:8080/"
        },
        "id": "X7tSpYycWd6O"
      },
      "source": [
        "for index, score in sorted(lda_model[bow_corpus_ru[test_doc_ru]], key=lambda tup: -1*tup[1]):\n",
        "    print(f\"Topic match score: {score} \\nTopic: {lda_model.print_topic(index, num_of_topics)}\")"
      ],
      "execution_count": null,
      "outputs": [
        {
          "output_type": "stream",
          "name": "stdout",
          "text": [
            "Topic match score: 0.9910821914672852 \n",
            "Topic: 0.016*\"год\" + 0.010*\"котор\" + 0.006*\"январ\" + 0.006*\"сообща\" + 0.005*\"такж\" + 0.005*\"стран\" + 0.005*\"сво\" + 0.004*\"нов\" + 0.004*\"президент\" + 0.004*\"компан\"\n"
          ]
        },
        {
          "output_type": "stream",
          "name": "stderr",
          "text": [
            "/usr/local/lib/python3.10/dist-packages/ipykernel/ipkernel.py:283: DeprecationWarning: `should_run_async` will not call `transform_cell` automatically in the future. Please pass the result to `transformed_cell` argument and any exception that happen during thetransform in `preprocessing_exc_tuple` in IPython 7.17 and above.\n",
            "  and should_run_async(code)\n"
          ]
        }
      ]
    },
    {
      "cell_type": "code",
      "metadata": {
        "outputId": "c49dbc6f-d2a2-43ec-fd7b-912f6d58d2cb",
        "colab": {
          "base_uri": "https://localhost:8080/"
        },
        "id": "CGY96EQBWd6Q"
      },
      "source": [
        "for index, score in sorted(lda_model_tfidf[bow_corpus_ru[test_doc_ru]], key=lambda tup: -1*tup[1]):\n",
        "    print(\"Topic match score: {}\\t \\nTopic: {}\".format(score, lda_model_tfidf.print_topic(index, num_of_topics)))"
      ],
      "execution_count": null,
      "outputs": [
        {
          "output_type": "stream",
          "name": "stdout",
          "text": [
            "Topic match score: 0.7663379311561584\t \n",
            "Topic: 0.011*\"год\" + 0.007*\"сообща\" + 0.007*\"котор\" + 0.005*\"сво\" + 0.005*\"такж\" + 0.004*\"нов\" + 0.004*\"январ\" + 0.003*\"одн\" + 0.003*\"стран\" + 0.003*\"компан\"\n",
            "Topic match score: 0.11385916918516159\t \n",
            "Topic: 0.003*\"российск\" + 0.003*\"год\" + 0.002*\"котор\" + 0.002*\"сообща\" + 0.002*\"такж\" + 0.002*\"депард\" + 0.001*\"январ\" + 0.001*\"рубл\" + 0.001*\"одн\" + 0.001*\"нов\"\n",
            "Topic match score: 0.11221540719270706\t \n",
            "Topic: 0.002*\"год\" + 0.002*\"вертолет\" + 0.001*\"котор\" + 0.001*\"сообща\" + 0.001*\"сборн\" + 0.001*\"сво\" + 0.001*\"чемпионат\" + 0.001*\"матч\" + 0.001*\"январ\" + 0.001*\"такж\"\n"
          ]
        },
        {
          "output_type": "stream",
          "name": "stderr",
          "text": [
            "/usr/local/lib/python3.10/dist-packages/ipykernel/ipkernel.py:283: DeprecationWarning: `should_run_async` will not call `transform_cell` automatically in the future. Please pass the result to `transformed_cell` argument and any exception that happen during thetransform in `preprocessing_exc_tuple` in IPython 7.17 and above.\n",
            "  and should_run_async(code)\n"
          ]
        }
      ]
    },
    {
      "cell_type": "code",
      "source": [
        "print('Perplexity: ', lda_model.log_perplexity(bow_corpus_ru))\n",
        "print('Perplexity TFIDF: ', lda_model_tfidf.log_perplexity(bow_corpus_ru))"
      ],
      "metadata": {
        "colab": {
          "base_uri": "https://localhost:8080/"
        },
        "outputId": "b5bab8af-7c17-498e-be42-7e25d52f2a9a",
        "id": "IxUjqG4xWd6S"
      },
      "execution_count": null,
      "outputs": [
        {
          "output_type": "stream",
          "name": "stderr",
          "text": [
            "/usr/local/lib/python3.10/dist-packages/ipykernel/ipkernel.py:283: DeprecationWarning: `should_run_async` will not call `transform_cell` automatically in the future. Please pass the result to `transformed_cell` argument and any exception that happen during thetransform in `preprocessing_exc_tuple` in IPython 7.17 and above.\n",
            "  and should_run_async(code)\n"
          ]
        },
        {
          "output_type": "stream",
          "name": "stdout",
          "text": [
            "Perplexity:  -8.556529190316839\n",
            "Perplexity TFIDF:  -10.151488814458796\n"
          ]
        }
      ]
    },
    {
      "cell_type": "code",
      "metadata": {
        "outputId": "d73143ff-0ca7-4a01-91ec-089da62aedfd",
        "colab": {
          "base_uri": "https://localhost:8080/"
        },
        "id": "3vEDwu63Wd6U"
      },
      "source": [
        "unseen_document_ru = \"\"\"Совбез ООН по запросу РФ 20 декабря проведет заседание по поставкам оружия Киеву.\n",
        "Совбез ООН в пятницу, 20 декабря, проведет заседание по поставкам западного оружия Киеву.\n",
        "Об этом сообщил первый зампостпреда миссии России при всемирной организации Дмитрий Полянский, передает РИА Новости.\n",
        "Отмечается, что в понедельник, 16 декабря, в 23:00 по московскому времени Совбез обсудит ситуацию на Украине.\n",
        "Заседание запросили западные страны. Ранее стало известно, что Минобороны Украины выделит дополнительные 1,1 миллиарда гривен (более 26 миллионов долларов) на покупку дронов.\n",
        "Премьер-министр страны Денис Шмыгаль уточнил, что за 10 месяцев 2024 года правительство потратило 229 миллиардов гривен на закупку вооружения, боеприпасов и других средств для украинской армии.?\"\"\"\n",
        "\n",
        "#source: https://lenta.ru/news/2024/12/16/sovbez-oon-provedet-zasedanie-po-postavkam-oruzhiya-ukraine/\n",
        "\n",
        "bow_vector_ru = dictionary_ru.doc2bow(preprocess(unseen_document_ru))\n",
        "\n",
        "pprint(lda_model[bow_vector])\n",
        "\n",
        "for index, score in sorted(lda_model[bow_vector], key=lambda tup: -1*tup[1]):\n",
        "    print(\"Score: {}\\t Topic: {}\".format(score, lda_model.print_topic(index, 5)))"
      ],
      "execution_count": null,
      "outputs": [
        {
          "output_type": "stream",
          "name": "stdout",
          "text": [
            "[(0, 0.048696168),\n",
            " (1, 0.14540713),\n",
            " (2, 0.13325372),\n",
            " (3, 0.11201354),\n",
            " (4, 0.13860835),\n",
            " (5, 0.18895672),\n",
            " (6, 0.06549029),\n",
            " (7, 0.02618715),\n",
            " (8, 0.12466064),\n",
            " (9, 0.016726311)]\n",
            "Score: 0.18895994126796722\t Topic: 0.013*\"год\" + 0.009*\"котор\" + 0.006*\"такж\" + 0.005*\"январ\" + 0.005*\"сообща\"\n",
            "Score: 0.14541536569595337\t Topic: 0.016*\"год\" + 0.010*\"котор\" + 0.006*\"январ\" + 0.006*\"сообща\" + 0.005*\"такж\"\n",
            "Score: 0.1386106163263321\t Topic: 0.011*\"котор\" + 0.007*\"январ\" + 0.007*\"год\" + 0.006*\"сообща\" + 0.005*\"человек\"\n",
            "Score: 0.13321003317832947\t Topic: 0.008*\"котор\" + 0.007*\"сообща\" + 0.007*\"год\" + 0.006*\"январ\" + 0.004*\"самолет\"\n",
            "Score: 0.12468120455741882\t Topic: 0.011*\"котор\" + 0.008*\"год\" + 0.007*\"январ\" + 0.006*\"сообща\" + 0.005*\"человек\"\n",
            "Score: 0.1120285615324974\t Topic: 0.020*\"год\" + 0.012*\"котор\" + 0.006*\"фильм\" + 0.005*\"сообща\" + 0.005*\"январ\"\n",
            "Score: 0.06547807157039642\t Topic: 0.020*\"год\" + 0.009*\"процент\" + 0.008*\"котор\" + 0.008*\"январ\" + 0.007*\"доллар\"\n",
            "Score: 0.04869482293725014\t Topic: 0.011*\"год\" + 0.010*\"котор\" + 0.007*\"январ\" + 0.006*\"сообща\" + 0.005*\"закон\"\n",
            "Score: 0.026194311678409576\t Topic: 0.014*\"котор\" + 0.013*\"год\" + 0.005*\"такж\" + 0.005*\"нов\" + 0.005*\"стал\"\n",
            "Score: 0.016727078706026077\t Topic: 0.013*\"год\" + 0.008*\"дел\" + 0.006*\"котор\" + 0.006*\"январ\" + 0.006*\"сообща\"\n"
          ]
        },
        {
          "output_type": "stream",
          "name": "stderr",
          "text": [
            "/usr/local/lib/python3.10/dist-packages/ipykernel/ipkernel.py:283: DeprecationWarning: `should_run_async` will not call `transform_cell` automatically in the future. Please pass the result to `transformed_cell` argument and any exception that happen during thetransform in `preprocessing_exc_tuple` in IPython 7.17 and above.\n",
            "  and should_run_async(code)\n"
          ]
        }
      ]
    },
    {
      "cell_type": "code",
      "source": [
        "%pip install pyLDAvis"
      ],
      "metadata": {
        "colab": {
          "base_uri": "https://localhost:8080/"
        },
        "outputId": "f0949428-a5cd-458e-cd3a-591779182ac4",
        "id": "VdGabEZFaDgm"
      },
      "execution_count": null,
      "outputs": [
        {
          "output_type": "stream",
          "name": "stderr",
          "text": [
            "/usr/local/lib/python3.10/dist-packages/ipykernel/ipkernel.py:283: DeprecationWarning: `should_run_async` will not call `transform_cell` automatically in the future. Please pass the result to `transformed_cell` argument and any exception that happen during thetransform in `preprocessing_exc_tuple` in IPython 7.17 and above.\n",
            "  and should_run_async(code)\n"
          ]
        },
        {
          "output_type": "stream",
          "name": "stdout",
          "text": [
            "Requirement already satisfied: pyLDAvis in /usr/local/lib/python3.10/dist-packages (3.4.1)\n",
            "Requirement already satisfied: numpy>=1.24.2 in /usr/local/lib/python3.10/dist-packages (from pyLDAvis) (1.26.4)\n",
            "Requirement already satisfied: scipy in /usr/local/lib/python3.10/dist-packages (from pyLDAvis) (1.13.1)\n",
            "Requirement already satisfied: pandas>=2.0.0 in /usr/local/lib/python3.10/dist-packages (from pyLDAvis) (2.2.2)\n",
            "Requirement already satisfied: joblib>=1.2.0 in /usr/local/lib/python3.10/dist-packages (from pyLDAvis) (1.4.2)\n",
            "Requirement already satisfied: jinja2 in /usr/local/lib/python3.10/dist-packages (from pyLDAvis) (3.1.4)\n",
            "Requirement already satisfied: numexpr in /usr/local/lib/python3.10/dist-packages (from pyLDAvis) (2.10.2)\n",
            "Requirement already satisfied: funcy in /usr/local/lib/python3.10/dist-packages (from pyLDAvis) (2.0)\n",
            "Requirement already satisfied: scikit-learn>=1.0.0 in /usr/local/lib/python3.10/dist-packages (from pyLDAvis) (1.5.2)\n",
            "Requirement already satisfied: gensim in /usr/local/lib/python3.10/dist-packages (from pyLDAvis) (4.3.3)\n",
            "Requirement already satisfied: setuptools in /usr/local/lib/python3.10/dist-packages (from pyLDAvis) (75.1.0)\n",
            "Requirement already satisfied: python-dateutil>=2.8.2 in /usr/local/lib/python3.10/dist-packages (from pandas>=2.0.0->pyLDAvis) (2.8.2)\n",
            "Requirement already satisfied: pytz>=2020.1 in /usr/local/lib/python3.10/dist-packages (from pandas>=2.0.0->pyLDAvis) (2024.2)\n",
            "Requirement already satisfied: tzdata>=2022.7 in /usr/local/lib/python3.10/dist-packages (from pandas>=2.0.0->pyLDAvis) (2024.2)\n",
            "Requirement already satisfied: threadpoolctl>=3.1.0 in /usr/local/lib/python3.10/dist-packages (from scikit-learn>=1.0.0->pyLDAvis) (3.5.0)\n",
            "Requirement already satisfied: smart-open>=1.8.1 in /usr/local/lib/python3.10/dist-packages (from gensim->pyLDAvis) (7.0.5)\n",
            "Requirement already satisfied: MarkupSafe>=2.0 in /usr/local/lib/python3.10/dist-packages (from jinja2->pyLDAvis) (3.0.2)\n",
            "Requirement already satisfied: six>=1.5 in /usr/local/lib/python3.10/dist-packages (from python-dateutil>=2.8.2->pandas>=2.0.0->pyLDAvis) (1.17.0)\n",
            "Requirement already satisfied: wrapt in /usr/local/lib/python3.10/dist-packages (from smart-open>=1.8.1->gensim->pyLDAvis) (1.17.0)\n"
          ]
        }
      ]
    },
    {
      "cell_type": "code",
      "source": [
        "import pyLDAvis.gensim_models as gensimvis\n",
        "import pyLDAvis\n",
        "\n",
        "bow_lda_data_ru = gensimvis.prepare(lda_model, bow_corpus_ru, dictionary_ru)\n",
        "\n",
        "pyLDAvis.display(bow_lda_data_ru)"
      ],
      "metadata": {
        "colab": {
          "base_uri": "https://localhost:8080/",
          "height": 917
        },
        "outputId": "0f0ccd3f-2a3a-42ec-8a9f-271750bbe47b",
        "id": "yogo_3OGaDhI"
      },
      "execution_count": null,
      "outputs": [
        {
          "output_type": "stream",
          "name": "stderr",
          "text": [
            "/usr/local/lib/python3.10/dist-packages/ipykernel/ipkernel.py:283: DeprecationWarning: `should_run_async` will not call `transform_cell` automatically in the future. Please pass the result to `transformed_cell` argument and any exception that happen during thetransform in `preprocessing_exc_tuple` in IPython 7.17 and above.\n",
            "  and should_run_async(code)\n"
          ]
        },
        {
          "output_type": "execute_result",
          "data": {
            "text/plain": [
              "<IPython.core.display.HTML object>"
            ],
            "text/html": [
              "\n",
              "<link rel=\"stylesheet\" type=\"text/css\" href=\"https://cdn.jsdelivr.net/gh/bmabey/pyLDAvis@3.4.0/pyLDAvis/js/ldavis.v1.0.0.css\">\n",
              "\n",
              "\n",
              "<div id=\"ldavis_el8941330396556665122614538522\" style=\"background-color:white;\"></div>\n",
              "<script type=\"text/javascript\">\n",
              "\n",
              "var ldavis_el8941330396556665122614538522_data = {\"mdsDat\": {\"x\": [-0.004983556737397246, 0.07413092922387463, 0.04095175607449219, 0.012064316537021162, -0.027814052142844155, -0.032074879181085716, -0.09095901320451093, 0.11359449553701763, -0.05368866708589587, -0.031221329020671717], \"y\": [0.11524346710059934, -0.053655115452361755, 0.03422308536669066, 0.062380831717899314, 0.00838121469736517, -0.06508075335835899, -0.031520061076017875, -0.02831424570782606, 0.01815595206714901, -0.05981437535513881], \"topics\": [1, 2, 3, 4, 5, 6, 7, 8, 9, 10], \"cluster\": [1, 1, 1, 1, 1, 1, 1, 1, 1, 1], \"Freq\": [16.125975407805857, 12.607058107508742, 12.37074274008325, 11.48671129423431, 11.144313326891075, 9.448681957466636, 9.254675194762468, 6.898780883972895, 6.705593760173234, 3.957467327101533]}, \"tinfo\": {\"Term\": [\"\\u0434\\u0435\\u043b\", \"\\u043f\\u0440\\u043e\\u0446\\u0435\\u043d\\u0442\", \"\\u0444\\u0438\\u043b\\u044c\\u043c\", \"\\u0437\\u0430\\u043a\\u043e\\u043d\", \"\\u0433\\u043e\\u0434\", \"\\u0441\\u0431\\u043e\\u0440\\u043d\", \"\\u043a\\u043e\\u0442\\u043e\\u0440\", \"\\u0434\\u0435\\u043f\\u0430\\u0440\\u0434\", \"\\u043f\\u043e\\u043b\\u0438\\u0446\", \"\\u0441\\u0430\\u043c\\u043e\\u043b\\u0435\\u0442\", \"\\u043c\\u0430\\u0442\\u0447\", \"\\u0447\\u0435\\u043b\\u043e\\u0432\\u0435\\u043a\", \"\\u0434\\u043e\\u043b\\u043b\\u0430\\u0440\", \"\\u044f\\u043d\\u0432\\u0430\\u0440\", \"\\u0443\\u0441\\u044b\\u043d\\u043e\\u0432\\u043b\\u0435\\u043d\", \"\\u0440\\u0435\\u0436\\u0438\\u0441\\u0441\\u0435\\u0440\", \"\\u0441\\u0442\\u0430\\u043b\", \"\\u0438\\u0433\\u0440\", \"\\u0431\\u044b\\u0432\\u0448\", \"\\u0443\\u0441\\u0442\\u0440\\u043e\\u0439\\u0441\\u0442\\u0432\", \"\\u0441\\u0430\\u0439\\u0442\", \"\\u043f\\u043e\\u043b\\u043e\\u043d\\u0441\\u043a\", \"\\u0443\\u043a\\u0440\\u0430\\u0438\\u043d\", \"\\u0433\\u0440\\u0430\\u0436\\u0434\\u0430\\u043d\\u0441\\u0442\\u0432\", \"\\u043f\\u0440\\u0435\\u0437\\u0438\\u0434\\u0435\\u043d\\u0442\", \"\\u043a\\u043e\\u043c\\u0430\\u043d\\u0434\", \"\\u0440\\u043e\\u0441\\u0441\", \"\\u0440\\u043e\\u043b\", \"\\u0433\\u043e\\u0441\\u0434\\u0443\\u043c\", \"\\u0447\\u0430\\u0432\\u0435\\u0441\", \"\\u043e\\u043a\\u0440\\u0443\\u0430\\u0448\\u0432\", \"\\u0432\\u0435\\u043d\\u0435\\u0441\\u0443\\u044d\\u043b\", \"\\u043a\\u0438\\u043f\\u0440\", \"\\u0430\\u0440\\u043d\", \"\\u0433\\u0440\\u0430\\u0432\\u044e\\u0440\", \"\\u0430\\u044d\\u0440\\u043e\\u0441\\u0432\\u0438\\u0442\", \"\\u043c\\u0430\\u0434\\u0443\\u0440\", \"\\u043e\\u0431\\u043b\\u0438\\u0433\\u0430\\u0446\", \"\\u043a\\u043e\\u043f\\u0435\\u0435\\u043a\", \"\\u0440\\u0430\\u0437\\u0432\\u043e\\u0437\\u0436\\u0430\", \"sotheby\", \"\\u0447\\u0430\\u0432\\u0435\\u0441\", \"\\u0430\\u044d\\u0440\\u043e\\u0441\\u0432\", \"\\u043b\\u0435\\u0431\\u0435\\u0434\\u0435\\u0432\", \"\\u0437\\u0430\\u0434\\u043e\\u043b\\u0436\\u0435\\u043d\", \"\\u043e\\u043b\\u043b\\u0430\\u043d\\u0434\", \"\\u043c\\u0443\\u0440\\u0430\\u043a\", \"\\u043b\\u0435\\u0431\\u0435\\u0434\", \"\\u0440\\u043e\\u0441\\u0430\\u0432\\u0438\\u0430\\u0446\", \"\\u043b\\u0435\\u043e\\u043d\\u0438\\u0434\", \"\\u043f\\u0438\\u043d\\u0447\\u043e\\u043d\", \"starbucks\", \"\\u043f\\u0438\\u0444\", \"\\u0431\\u0430\\u043d\\u0434\\u0435\\u0440\", \"\\u043a\\u0438\", \"\\u0433\\u0430\\u0440\\u043d\\u0438\\u0442\\u0443\\u0440\", \"\\u0438\\u0441\\u0430\", \"\\u0431\\u043e\\u0440\", \"\\u043f\\u043e\\u0434\\u0432\\u043e\\u0434\\u043d\", \"\\u044e\\u043d\\u043c\\u0438\\u043d\", \"\\u0442\\u043e\\u0440\\u0433\", \"\\u0442\\u0438\\u043c\\u043e\\u0448\\u0435\\u043d\\u043a\", \"\\u0444\\u0440\\u0430\\u043d\\u0446\\u0443\\u0437\", \"\\u0441\\u0430\\u0430\\u043a\\u0430\\u0448\\u0432\", \"\\u0432\\u0430\\u043b\\u044e\\u0442\", \"\\u0431\\u0435\\u043b\\u044c\\u0433\", \"\\u0434\\u0435\\u043f\\u0430\\u0440\\u0434\", \"\\u0431\\u0435\\u043b\\u044c\\u0433\\u0438\\u0439\\u0441\\u043a\", \"\\u0433\\u0440\\u0430\\u0436\\u0434\\u0430\\u043d\\u0441\\u0442\\u0432\", \"\\u0444\\u0440\\u0430\\u043d\\u0441\\u0443\", \"\\u043f\\u0440\\u043e\\u0446\\u0435\\u043d\\u0442\", \"\\u043f\\u0440\\u043e\\u0446\\u0435\\u043d\\u0442\\u043d\", \"\\u0443\\u043a\\u0440\\u0430\\u0438\\u043d\", \"\\u043e\\u0431\\u044c\", \"\\u043a\\u0432\\u0430\\u0434\\u0440\\u0430\\u0442\", \"\\u0440\\u044b\\u043d\\u043a\", \"\\u0440\\u0443\\u0431\\u043b\", \"\\u0442\\u0430\\u043c\\u043e\\u0436\\u0435\\u043d\", \"\\u0446\\u0435\\u043d\", \"\\u0441\\u0440\\u0435\\u0434\\u043d\", \"\\u043a\\u0443\\u0440\\u0441\", \"\\u0434\\u043e\\u043b\\u043b\\u0430\\u0440\", \"\\u043e\\u0431\\u044a\\u0435\\u043a\\u0442\", \"\\u0432\\u044b\\u0440\\u043e\\u0441\\u043b\", \"\\u0433\\u043e\\u0434\", \"\\u0443\\u0440\\u043e\\u0432\\u043d\", \"\\u043c\\u0438\\u043b\\u043b\\u0438\\u043e\\u043d\", \"\\u043f\\u0440\\u0435\\u0437\\u0438\\u0434\\u0435\\u043d\\u0442\", \"\\u0440\\u043e\\u0441\\u0441\", \"\\u043f\\u043e\\u043a\\u0430\\u0437\\u0430\\u0442\\u0435\\u043b\", \"\\u0434\\u0435\\u043a\\u0430\\u0431\\u0440\", \"\\u0441\\u0442\\u0440\\u0430\\u043d\", \"\\u044f\\u043d\\u0432\\u0430\\u0440\", \"\\u0440\\u043e\\u0441\\u0441\\u0438\\u0439\\u0441\\u043a\", \"\\u043c\\u0438\\u043b\\u043b\\u0438\\u0430\\u0440\\u0434\", \"\\u0441\\u043e\\u0441\\u0442\\u0430\\u0432\", \"\\u0441\\u043e\\u043e\\u0431\\u0449\\u0430\", \"\\u0442\\u044b\\u0441\\u044f\\u0447\", \"\\u043a\\u043e\\u0442\\u043e\\u0440\", \"\\u0430\\u043a\\u0446\", \"\\u043c\\u0438\\u043d\\u0438\\u0441\\u0442\\u0440\", \"\\u0442\\u0430\\u043a\\u0436\", \"\\u0433\\u043b\\u0430\\u0432\", \"\\u043a\\u043e\\u043c\\u043f\\u0430\\u043d\", \"\\u0441\\u0432\\u043e\", \"\\u0432\\u0440\\u0435\\u043c\", \"\\u043d\\u043e\\u0432\", \"\\u0437\\u0430\\u044f\\u0432\", \"\\u043f\\u0435\\u0440\\u0432\", \"\\u043e\\u0434\\u043d\\u0430\\u043a\", \"\\u0441\\u0442\\u0430\\u043b\", \"\\u043e\\u0431\\u0435\\u0440\\u0445\\u043e\\u0444\", \"\\u0433\\u043e\\u043d\\u043a\", \"\\u043f\\u0430\\u0440\\u0435\\u043d\", \"\\u044d\\u0441\\u0442\\u0430\\u0444\\u0435\\u0442\", \"\\u043f\\u0441\\u0438\\u0445\", \"\\u043a\\u043e\\u043d\\u0432\\u0435\\u0440\\u0442\", \"\\u0441\\u0435\\u043c\\u0430\\u043a\", \"\\u0431\\u0438\\u0430\\u0442\\u043b\\u043e\\u043d\\u0438\\u0441\\u0442\", \"\\u043c\\u0430\\u043b\\u044b\\u0448\\u043a\", \"\\u0444\\u0438\\u043d\\u0430\", \"\\u0431\\u0438\\u0430\\u0442\\u043b\\u043e\\u043d\", \"\\u043a\\u0443\\u0431\\u0430\\u043d\", \"\\u043a\\u0440\\u0430\\u0441\\u043d\\u043e\\u0436\\u0430\", \"\\u043f\\u043e\\u043b\\u0443\\u0444\\u0438\\u043d\\u0430\\u043b\", \"\\u0433\\u0435\\u043d\\u043f\\u043b\\u0430\", \"\\u0447\\u0435\\u0441\\u043d\\u043e\\u043a\", \"\\u0445\\u043e\\u043a\\u043a\", \"\\u0440\\u043e\\u043a\\u043d\\u0440\\u043e\\u043b\\u043b\", \"\\u044d\\u043c\\u0441\\u043b\", \"\\u043a\\u0443\\u0431\\u043a\", \"glock\", \"public\", \"\\u0448\\u0430\\u0439\\u0431\", \"\\u0441\\u0438\\u043c\\u043e\\u043d\\u043e\\u0432\", \"\\u0434\\u0438\\u0441\\u0442\\u0430\\u043d\\u0446\", \"\\u0433\\u0440\\u0438\\u0433\\u043e\\u0440\\u0435\\u043d\\u043a\", \"\\u0434\\u0430\\u0441\\u0430\", \"\\u043f\\u0438\\u0445\\u043b\\u0435\\u0440\", \"\\u043c\\u0430\\u043a\\u043a\\u0438\\u0432\\u0435\\u0440\", \"\\u0433\\u043b\\u0435\\u043d\", \"\\u0441\\u0431\\u043e\\u0440\\u043d\", \"dreamliner\", \"\\u0443\\u0438\\u043b\\u044c\\u044f\\u043c\\u0441\", \"\\u0441\\u0435\\u043a\\u0443\\u043d\\u0434\", \"\\u0447\\u0435\\u043c\\u043f\\u0438\\u043e\\u043d\\u0430\\u0442\", \"\\u0433\\u043b\\u0430\\u0432\\u043a\\u043e\\u043c\\u0430\\u0442\", \"\\u0436\\u0435\\u043d\\u0441\\u043a\", \"\\u043c\\u0443\\u0436\\u0441\\u043a\", \"\\u043c\\u0438\\u043d\\u0443\\u0442\", \"\\u043c\\u043e\\u043b\\u043e\\u0434\\u0435\\u0436\\u043d\", \"\\u0442\\u0443\\u0440\\u043d\\u0438\\u0440\", \"\\u043e\\u0442\\u0441\\u0442\\u0430\", \"\\u043e\\u0431\\u044b\\u0433\\u0440\\u0430\", \"\\u0448\\u0432\\u0435\\u0446\", \"\\u044d\\u0442\\u0430\\u043f\", \"\\u043b\\u0443\\u0447\\u0448\", \"\\u043c\\u0430\\u0442\\u0447\", \"\\u043c\\u0438\\u0440\", \"\\u0442\\u0440\\u0435\\u043d\\u0435\\u0440\", \"\\u043f\\u043e\\u0431\\u0435\\u0434\", \"\\u043a\\u043e\\u043c\\u0430\\u043d\\u0434\", \"\\u0441\\u0447\\u0435\\u0442\", \"\\u0440\\u0435\\u0439\\u0442\\u0438\\u043d\\u0433\", \"\\u0440\\u043e\\u043b\\u0438\\u043a\", \"\\u043c\\u0435\\u0441\\u0442\", \"\\u043f\\u043e\\u0431\\u0435\\u0434\\u0438\\u0442\\u0435\\u043b\", \"\\u0433\\u043e\\u0434\", \"\\u0437\\u0430\\u043d\\u044f\", \"\\u043a\\u043e\\u0442\\u043e\\u0440\", \"\\u0442\\u0430\\u043a\\u0436\", \"\\u0440\\u043e\\u0441\\u0441\", \"\\u043f\\u0435\\u0440\\u0432\", \"\\u0441\\u043e\\u043e\\u0431\\u0449\\u0430\", \"\\u0432\\u0442\\u043e\\u0440\", \"\\u044f\\u043d\\u0432\\u0430\\u0440\", \"\\u0441\\u0430\\u0439\\u0442\", \"\\u0444\\u0438\\u043b\\u044c\\u043c\", \"\\u0442\\u0440\\u0435\\u0442\", \"\\u0441\\u0432\\u043e\", \"\\u0433\\u043b\\u0430\\u0432\\u043d\", \"\\u0441\\u0442\\u0430\\u043b\", \"\\u043d\\u043e\\u0432\", \"\\u043e\\u0434\\u043d\", \"\\u0434\\u0440\\u0443\\u0433\", \"\\u0432\\u0440\\u0435\\u043c\", \"\\u043e\\u0434\\u043d\\u0430\\u043a\", \"\\u0437\\u0430\\u044f\\u0432\", \"\\u0441\\u0430\\u043c\", \"\\u043a\\u043e\\u043c\\u043f\\u0430\\u043d\", \"\\u043b\\u0430\\u043f\\u0442\\u0435\\u0432\", \"\\u043c\\u0430\\u043b\\u0438\\u043d\", \"\\u0437\\u0434\\u043e\\u0440\\u043e\\u0432\\u0435\\u043d\\u0438\\u043d\", \"\\u0442\\u0440\\u0430\\u0443\\u0442\", \"wegelin\", \"\\u0430\\u0440\\u043c\\u0441\\u0442\\u0440\\u043e\\u043d\\u0433\", \"alitalia\", \"\\u0441\\u0443\\u043a\\u043b\\u0435\\u0441\", \"\\u0442\\u044d\\u043f\\u043f\\u0438\\u043d\", \"\\u0442\\u0435\\u043c\\u0435\\u0440\\u0445\\u0430\\u043d\", \"\\u0433\\u0438\\u043b\\u044c\\u0434\", \"lamborghini\", \"shepherds\", \"\\u0445\\u0430\\u0440\\u0437\", \"\\u0441\\u0443\\u0442\\u0435\\u043d\\u0435\\u0440\\u0448\", \"\\u0431\\u0443\\u0434\\u0430\\u043d\\u043e\\u0432\", \"\\u0444\\u043e\\u043b\", \"\\u0431\\u0430\\u0444\\u0444\\u0435\\u0442\", \"\\u043d\\u0430\\u0437\\u0438\\u0440\", \"\\u043c\\u0435\\u0433\\u0430\", \"\\u0442\\u043e\\u0440\", \"current\", \"ubisoft\", \"generali\", \"happy\", \"\\u0442\\u043e\\u0440\\u043d\\u0442\\u043e\\u043d\", \"\\u0448\\u0432\\u0430\\u0440\\u0446\\u0435\\u043d\\u0435\\u0433\\u0433\\u0435\\u0440\", \"\\u044d\\u043a\\u0437\\u043e\\u043f\\u043b\\u0430\\u043d\\u0435\\u0442\", \"\\u043c\\u0438\\u0440\\u0440\", \"haim\", \"\\u0442\\u0430\\u043b\\u0438\\u0431\", \"\\u0434\\u0436\\u0435\", \"\\u0442\\u0430\\u043b\\u0438\\u0431\\u0430\", \"\\u043f\\u043e\\u0432\\u0441\\u0442\\u0430\\u043d\\u0446\", \"\\u0434\\u0430\\u043c\\u0430\\u0441\\u043a\", \"\\u0441\\u0438\\u0440\\u0438\\u0439\\u0441\\u043a\", \"\\u0431\\u043e\\u043b\\u043e\\u0442\\u043d\", \"\\u0441\\u0438\\u0440\", \"\\u0434\\u0435\\u043b\\u044c\\u0441\\u0430\\u043b\", \"\\u043e\\u0441\\u043a\\u0430\\u0440\", \"\\u0440\\u043e\\u043b\", \"\\u0445\\u0443\\u0434\\u0448\", \"\\u0443\\u043e\\u0442\\u0441\\u043e\\u043d\", \"\\u0444\\u0438\\u043b\\u044c\\u043c\", \"\\u0440\\u0435\\u0436\\u0438\\u0441\\u0441\\u0435\\u0440\", \"\\u0431\\u043e\\u043d\\u0434\", \"twitter\", \"\\u0430\\u0434\\u0430\\u0433\\u0430\\u043c\", \"\\u043f\\u0435\\u0434\\u043e\\u0444\\u0438\\u043b\", \"\\u0430\\u043c\\u0435\\u0440\\u0438\\u043a\\u0430\\u043d\\u0441\\u043a\", \"\\u0433\\u043e\\u0434\", \"\\u043d\\u0430\\u0433\\u0440\\u0430\\u0434\", \"\\u043c\\u0438\\u043a\\u0440\\u043e\\u0431\\u043b\\u043e\\u0433\", \"\\u0441\\u043f\\u0438\\u043b\\u0431\\u0435\\u0440\\u0433\", \"\\u043a\\u0430\\u0440\\u0442\\u0438\\u043d\", \"\\u0441\\u0446\\u0435\\u043d\\u0430\\u0440\", \"\\u043a\\u043e\\u0442\\u043e\\u0440\", \"\\u0430\\u043a\\u0442\\u0435\\u0440\", \"\\u043c\\u0438\\u043b\\u043b\\u0438\\u0430\\u0440\\u0434\", \"\\u0441\\u043e\\u0433\\u043b\\u0430\\u0448\\u0435\\u043d\", \"\\u0431\\u044b\\u0432\\u0448\", \"\\u0434\\u043e\\u043b\\u043b\\u0430\\u0440\", \"\\u0441\\u0432\\u043e\", \"\\u043f\\u0440\\u043e\\u0435\\u043a\\u0442\", \"\\u0441\\u0442\\u0430\\u043b\", \"\\u0441\\u043b\\u043e\\u0432\", \"\\u043c\\u0438\\u043b\\u043b\\u0438\\u043e\\u043d\", \"\\u0434\\u0435\\u043b\", \"\\u0441\\u043e\\u043e\\u0431\\u0449\\u0430\", \"\\u0434\\u0430\\u043d\", \"\\u043d\\u0435\\u0441\\u043a\\u043e\\u043b\\u044c\\u043a\", \"\\u044f\\u043d\\u0432\\u0430\\u0440\", \"\\u0442\\u044b\\u0441\\u044f\\u0447\", \"\\u043a\\u043e\\u043c\\u043f\\u0430\\u043d\", \"\\u043f\\u0440\\u0430\\u0432\\u0438\\u0442\\u0435\\u043b\\u044c\\u0441\\u0442\\u0432\", \"\\u0442\\u0430\\u043a\\u0436\", \"\\u043e\\u0434\\u043d\", \"\\u0432\\u0440\\u0435\\u043c\", \"\\u0440\\u0430\\u043d\", \"\\u043f\\u043e\\u043b\\u0443\\u0447\", \"\\u0447\\u0435\\u043b\\u043e\\u0432\\u0435\\u043a\", \"\\u0437\\u0430\\u044f\\u0432\", \"\\u043e\\u0434\\u043d\\u0430\\u043a\", \"\\u0430\\u0440\\u0433\\u0435\\u043d\\u0442\\u0438\\u043d\", \"gamestick\", \"\\u043a\\u043b\\u0438\\u043d\\u0442\\u043e\\u043d\", \"\\u043c\\u043e\\u043d\\u0435\\u0442\", \"\\u0432\\u043e\\u043b\\u043e\\u043d\\u0442\\u0435\\u0440\", \"\\u0444\\u043e\\u043b\\u043a\\u043b\\u0435\\u043d\\u0434\\u0441\\u043a\", \"\\u043a\\u0438\\u0440\\u0448\\u043d\\u0435\\u0440\", \"\\u0433\\u0430\\u0439\\u0442\\u043d\\u0435\\u0440\", \"pokemon\", \"playjam\", \"fallout\", \"ouya\", \"\\u0431\\u0430\\u0442\\u0430\\u0441\\u0443\\u043d\", \"\\u0440\\u0435\\u0447\\u043d\", \"\\u0433\\u043e\\u0441\\u0441\\u0435\\u043a\\u0440\\u0435\\u0442\\u0430\\u0440\", \"\\u0430\\u043c\\u0438\\u043d\\u043e\\u043a\\u0438\\u0441\\u043b\\u043e\\u0442\", \"\\u0431\\u0435\\u0439\\u043d\\u0435\\u0440\", \"\\u043b\\u043e\\u0434\\u0437\", \"\\u043f\\u043e\\u043a\\u0435\\u043c\\u043e\\u043d\", \"planescape\", \"\\u0443\\u0440\\u0438\\u0431\", \"\\u0444\\u0435\\u0440\\u043d\\u0438\\u0448\", \"\\u043e\\u0442\\u0447\\u0435\\u043a\\u0430\\u043d\", \"\\u043f\\u043e\\u0442\\u043e\\u043b\\u043a\", \"\\u0438\\u0440\\u0430\\u043a\\u0441\\u043a\", \"\\u0440\\u044d\\u0442\\u0442\\u043b\", \"\\u0447\\u0438\\u0447\\u0430\\u043a\\u043b\", \"\\u0441\\u043c\\u0435\\u0448\\u0430\", \"\\u0440\\u0435\\u0441\\u043f\\u0443\\u0431\\u043b\\u0438\\u043a\\u0430\\u043d\\u0441\\u043a\", \"nintendo\", \"\\u043e\\u0440\\u043a\\u0435\\u0441\\u0442\\u0440\", \"\\u044d\\u043a\\u0441\\u043f\\u043e\\u0440\\u0442\", \"\\u043a\\u043e\\u043d\\u0441\\u043e\\u043b\", \"\\u0431\\u043b\\u043e\\u043a\", \"\\u0438\\u0437\\u0431\\u0438\\u0440\\u0430\\u0442\\u0435\\u043b\\u044c\\u043d\", \"\\u043f\\u0440\\u0438\\u0441\\u0442\\u0430\\u0432\\u043a\", \"\\u044e\\u0441\\u0443\\u0444\\u0437\\u0430\", \"\\u0434\\u0438\\u0432\\u0438\\u0437\\u0438\\u043e\\u043d\", \"\\u043e\\u0441\\u0442\\u0440\\u043e\\u0432\", \"\\u043a\\u043e\\u043d\\u0442\\u0440\\u043e\\u043b\\u043b\\u0435\\u0440\", \"\\u043a\\u043e\\u043d\\u0433\\u0440\\u0435\\u0441\\u0441\", \"\\u043f\\u0430\\u043b\\u0430\\u0442\", \"\\u043e\\u0431\\u0430\\u043c\", \"\\u0437\\u0430\\u043a\\u043e\\u043d\\u043e\\u043f\\u0440\\u043e\\u0435\\u043a\\u0442\", \"\\u043a\\u0443\\u0431\\u043e\\u043c\\u0435\\u0442\\u0440\", \"kickstarter\", \"\\u0441\\u0442\\u0440\\u0430\\u043d\", \"\\u0433\\u043e\\u0434\", \"\\u043a\\u043e\\u0442\\u043e\\u0440\", \"\\u043f\\u0440\\u0435\\u0437\\u0438\\u0434\\u0435\\u043d\\u0442\", \"\\u043f\\u043e\\u0441\\u0442\", \"\\u043f\\u0440\\u0435\\u0434\\u0441\\u0442\\u0430\\u0432\\u0438\\u0442\\u0435\\u043b\", \"\\u043a\\u043e\\u043c\\u043f\\u0430\\u043d\", \"\\u043d\\u043e\\u0432\", \"\\u0437\\u0430\\u044f\\u0432\", \"\\u0442\\u0430\\u043a\\u0436\", \"\\u044f\\u043d\\u0432\\u0430\\u0440\", \"\\u0441\\u0432\\u043e\", \"\\u0441\\u043e\\u043e\\u0431\\u0449\\u0430\", \"\\u043f\\u0430\\u0440\\u0442\", \"\\u0434\\u043e\\u043b\\u043b\\u0430\\u0440\", \"\\u043f\\u0440\\u043e\\u0446\\u0435\\u043d\\u0442\", \"\\u0432\\u0435\\u043b\\u0438\\u043a\\u043e\\u0431\\u0440\\u0438\\u0442\\u0430\\u043d\", \"\\u0432\\u0440\\u0435\\u043c\", \"\\u0434\\u0435\\u043a\\u0430\\u0431\\u0440\", \"\\u0432\\u044b\\u0431\\u043e\\u0440\", \"\\u043e\\u0434\\u043d\", \"\\u0440\\u0430\\u043d\", \"\\u0434\\u0430\\u043d\", \"\\u0433\\u043b\\u0430\\u0432\", \"\\u0442\\u044b\\u0441\\u044f\\u0447\", \"\\u043e\\u0434\\u043d\\u0430\\u043a\", \"\\u043f\\u0435\\u0440\\u0432\", \"\\u0441\\u0442\\u0430\\u043b\", \"\\u0441\\u043b\\u043e\\u0432\", \"\\u0434\\u0440\\u0443\\u0433\", \"\\u0432\\u0442\\u043e\\u0440\", \"\\u0433\\u0440\\u043e\\u043b\", \"southern\", \"\\u0430\\u0431\", \"\\u043a\\u0443\\u0440\\u0434\\u0441\\u043a\", \"\\u043f\\u043e\\u0437\\u043d\\u0435\\u0440\", \"foreign\", \"\\u0431\\u0443\\u0440\\u0430\\u043a\", \"\\u0430\\u0442\\u0442\\u0440\\u0430\\u043a\\u0446\\u0438\\u043e\\u043d\", \"policy\", \"\\u0445\\u0443\\u0440\\u0440\\u043e\\u043c\\u043e\\u0432\", \"\\u043f\\u0435\\u0440\\u0441\\u0438\\u043a\", \"\\u043a\\u0430\\u0440\\u0430\\u0434\\u0436\\u043e\\u0432\", \"\\u043c\\u0438\\u0433\\u0440\\u0430\\u0446\", \"\\u0437\\u0430\\u043f\\u0440\\u0430\\u0432\\u0449\\u0438\\u043a\", \"nirvana\", \"\\u0437\\u0430\\u0433\\u0440\\u0430\\u043d\\u043f\\u0430\\u0441\\u043f\\u043e\\u0440\\u0442\", \"\\u043c\\u0430\\u0440\\u0441\\u043e\\u0432\", \"\\u0430\\u043f\\u043e\\u0444\\u0438\\u0441\", \"\\u0430\\u0431\\u0438\\u0435\\u0432\", \"\\u0449\\u0435\\u0440\\u0431\", \"\\u0430\\u043d\\u0442\\u0430\\u0440\\u043a\\u0442\\u0438\\u0447\\u0435\\u0441\\u043a\", \"rush\", \"\\u0441\\u0443\\u043f\\u0435\\u0440\\u043c\", \"\\u0434\\u043e\\u043d\\u044e\\u0448\\u043a\\u0438\\u043d\", \"\\u0432\\u043e\\u0439\\u043a\\u0438\\u043d\", \"\\u043a\\u043e\\u043c\\u0435\\u0442\", \"mrtt\", \"\\u0435\\u0433\\u0442\", \"\\u0445\\u0438\\u043d\\u0448\\u0442\\u0435\\u0439\\u043d\", \"\\u0440\\u0430\\u0439\\u0445\\u0430\", \"\\u0446\\u0435\\u043d\\u0437\\u043e\\u0440\", \"\\u0443\\u0441\\u044b\\u043d\\u043e\\u0432\\u043b\\u044f\", \"\\u0437\\u0430\\u043f\\u0440\\u0435\\u0449\\u0430\", \"\\u0441\\u0438\\u0440\\u043e\\u0442\", \"\\u0437\\u0430\\u0431\\u0430\\u0441\\u0442\\u043e\\u0432\\u043a\", \"airbus\", \"weekly\", \"\\u043f\\u043e\\u0434\\u043f\\u0438\\u0441\", \"\\u0446\\u0435\\u043d\\u0437\\u0443\\u0440\", \"\\u0437\\u0430\\u043a\\u043e\\u043d\", \"\\u043a\\u043e\\u043d\\u0441\\u0442\\u0440\\u0443\\u043a\\u0446\", \"\\u0433\\u043e\\u0441\\u0434\\u0443\\u043c\", \"\\u0448\\u0430\\u0440\", \"\\u043c\\u0430\\u0433\\u043d\\u0438\\u0442\\u0441\\u043a\", \"\\u0440\\u043e\\u0441\\u043f\\u0443\\u0441\\u043a\", \"\\u0434\\u0435\\u0442\", \"\\u0443\\u0441\\u044b\\u043d\\u043e\\u0432\\u043b\\u0435\\u043d\", \"\\u0432\\u043b\\u0430\\u0434\\u0438\\u043c\\u0438\\u0440\", \"\\u043c\\u0430\\u043b\\u044c\\u0447\\u0438\\u043a\", \"\\u043f\\u043e\\u0434\\u043f\\u0438\\u0441\\u0430\", \"\\u0436\\u0443\\u0440\\u043d\\u0430\\u043b\\u0438\\u0441\\u0442\", \"\\u0433\\u0430\\u0437\\u0435\\u0442\", \"\\u044d\\u043a\\u0441\\u043f\\u0440\\u0435\\u0441\\u0441\", \"\\u0434\\u0435\\u043f\\u0443\\u0442\\u0430\\u0442\", \"\\u043d\\u043e\\u0432\", \"\\u043a\\u043e\\u0442\\u043e\\u0440\", \"\\u0441\\u0430\\u0439\\u0442\", \"\\u0433\\u043e\\u0434\", \"\\u044f\\u043d\\u0432\\u0430\\u0440\", \"\\u0432\\u0435\\u0440\\u0442\\u043e\\u043b\\u0435\\u0442\", \"\\u0440\\u0430\\u0431\\u043e\\u0442\", \"\\u0440\\u043e\\u0441\\u0441\\u0438\\u0439\\u0441\\u043a\", \"\\u0441\\u043e\\u043e\\u0431\\u0449\\u0430\", \"\\u0434\\u0435\\u043a\\u0430\\u0431\\u0440\", \"\\u0442\\u0430\\u043a\\u0436\", \"\\u0431\\u0443\\u0434\\u0443\\u0442\", \"\\u0441\\u0442\\u0430\\u0442\", \"\\u043f\\u043e\\u043b\\u0438\\u0446\", \"\\u0447\\u0435\\u043b\\u043e\\u0432\\u0435\\u043a\", \"\\u0440\\u043e\\u0441\\u0441\", \"\\u043f\\u0435\\u0440\\u0432\", \"\\u0434\\u0430\\u043d\", \"\\u0432\\u043b\\u0430\\u0441\\u0442\", \"\\u043e\\u0434\\u043d\\u0430\\u043a\", \"\\u043f\\u0440\\u0435\\u0437\\u0438\\u0434\\u0435\\u043d\\u0442\", \"\\u0437\\u0430\\u044f\\u0432\", \"\\u0442\\u044b\\u0441\\u044f\\u0447\", \"\\u0441\\u0432\\u043e\", \"\\u0434\\u0435\\u043b\", \"\\u043e\\u0434\\u043d\", \"\\u043f\\u043e\\u043b\\u043e\\u043d\\u0441\\u043a\", \"\\u043a\\u0430\\u043c\\u0431\\u043e\\u0434\\u0436\", \"xperia\", \"dayz\", \"\\u0446\\u0438\\u0440\\u043a\", \"\\u0432\\u043d\\u0443\\u043a\\u043e\\u0432\", \"\\u0438\\u043c\\u043c\\u0438\\u0433\\u0440\\u0430\\u043d\\u0442\", \"\\u043b\\u043e\\u0442\\u043a\", \"\\u0444\\u0435\\u0440\\u0440\\u0430\\u0440\", \"idol\", \"mirax\", \"\\u043a\\u043e\\u043d\\u0432\\u0435\\u0440\\u0442\\u043e\\u043f\\u043b\\u0430\\u043d\", \"alma\", \"\\u0441\\u0443\\u043f\\u0435\\u0440\\u043c\\u0430\\u0440\\u043a\\u0435\\u0442\", \"\\u043e\\u0433\\u0440\\u0430\\u0431\", \"\\u0430\\u043c\\u0443\\u0440\", \"\\u043d\\u044e\\u0441\", \"\\u043c\\u0435\\u0442\\u0435\\u043e\\u0440\\u0438\\u0442\", \"\\u043f\\u043e\\u043b\\u0438\\u0433\\u0440\\u0430\\u0444\", \"\\u0442\\u0443\\u0440\\u0438\\u0441\\u0442\\u043e\\u043a\", \"\\u0432\\u0438\\u043b\\u044c\\u043d\\u044e\\u0441\", \"\\u043f\\u0435\\u0440\\u0435\\u043f\\u0440\\u044f\\u0442\\u044b\\u0432\\u0430\", \"\\u043a\\u0430\\u044e\\u0442\", \"\\u0445\\u043e\\u043b\\u043b\", \"\\u043f\\u0430\\u043f\\u0430\\u0440\\u0430\\u0446\\u0446\", \"\\u0442\\u043e\\u043d\\u043a\", \"taco\", \"ultra\", \"osprey\", \"\\u0441\\u0435\\u0441\\u044c\\u043a\\u0430\\u043d\", \"\\u044e\\u0442\\u044d\\u0439\\u0440\", \"\\u043f\\u0438\\u0432\", \"\\u0441\\u0438\\u0430\\u043d\\u0443\\u043a\\u0432\\u0438\\u043b\", \"\\u0431\\u0435\\u043d\\u0430\\u0431\", \"\\u043e\\u0433\\u0440\\u0430\\u0431\\u043b\\u0435\\u043d\", \"\\u0431\\u043e\\u0440\\u0442\", \"\\u043f\\u0442\\u0438\\u0446\", \"\\u0431\\u0438\\u0431\\u0435\\u0440\", \"\\u0440\\u0435\\u0441\\u0442\\u043e\\u0440\\u0430\", \"\\u0441\\u0430\\u043c\\u043e\\u043b\\u0435\\u0442\", \"\\u0443\\u0447\\u0435\\u043d\", \"\\u0442\\u0435\\u043b\\u0435\\u0441\\u043a\\u043e\\u043f\", \"\\u043f\\u043e\\u0436\\u0430\\u0440\", \"\\u043f\\u043e\\u0441\\u0430\\u0434\\u043a\", \"\\u0442\\u0435\\u043c\\u043f\\u0435\\u0440\\u0430\\u0442\\u0443\\u0440\", \"\\u0440\\u0435\\u0439\\u0441\", \"\\u043f\\u0430\\u0441\\u0441\\u0430\\u0436\\u0438\\u0440\", \"\\u0441\\u0442\\u0440\\u0435\\u0441\\u0441\", \"\\u043f\\u043e\\u043b\\u0438\\u0446\", \"\\u0437\\u0430\\u0432\\u0435\\u0434\\u0435\\u043d\", \"\\u0430\\u044d\\u0440\\u043e\\u043f\\u043e\\u0440\\u0442\", \"\\u043c\\u0435\\u0441\\u0442\\u043d\", \"\\u043e\\u0431\\u043d\\u0430\\u0440\\u0443\\u0436\", \"\\u0430\\u0432\\u0438\\u0430\\u043a\\u043e\\u043c\\u043f\\u0430\\u043d\", \"\\u043e\\u043a\\u043e\\u043b\", \"\\u0438\\u043d\\u0446\\u0438\\u0434\\u0435\\u043d\\u0442\", \"\\u0441\\u043e\\u043e\\u0431\\u0449\\u0430\", \"\\u0448\\u0442\\u0430\\u0442\", \"\\u0437\\u0430\\u0434\\u0435\\u0440\\u0436\\u0430\", \"\\u044f\\u043d\\u0432\\u0430\\u0440\", \"\\u043a\\u043e\\u0442\\u043e\\u0440\", \"\\u0434\\u0430\\u043d\", \"\\u043f\\u043e\\u043b\\u0438\\u0446\\u0435\\u0439\\u0441\\u043a\", \"\\u043e\\u0434\\u043d\", \"\\u0440\\u0430\\u043d\", \"\\u043f\\u043e\\u0441\\u0442\\u0440\\u0430\\u0434\\u0430\", \"\\u0441\\u043e\\u0442\\u0440\\u0443\\u0434\\u043d\\u0438\\u043a\", \"\\u043c\\u0443\\u0436\\u0447\\u0438\\u043d\", \"\\u043c\\u0438\\u043b\\u043b\\u0438\\u043e\\u043d\", \"\\u043c\\u043e\\u0441\\u043a\\u0432\", \"\\u0433\\u043e\\u0434\", \"\\u0440\\u0430\\u0431\\u043e\\u0442\", \"\\u0432\\u0440\\u0435\\u043c\", \"\\u0434\\u0440\\u0443\\u0433\", \"\\u043d\\u0430\\u0445\\u043e\\u0434\", \"\\u0441\\u0441\\u044b\\u043b\\u043a\", \"\\u0433\\u043e\\u0440\\u043e\\u0434\", \"\\u0442\\u0430\\u043a\\u0436\", \"\\u043d\\u043e\\u0432\", \"\\u0441\\u0432\\u043e\", \"\\u043e\\u0434\\u043d\\u0430\\u043a\", \"\\u0441\\u0430\\u043c\", \"\\u0447\\u0435\\u043b\\u043e\\u0432\\u0435\\u043a\", \"\\u043a\\u043e\\u043c\\u043f\\u0430\\u043d\", \"\\u043c\\u0435\\u0441\\u0442\", \"\\u043a\\u0438\\u0440\\u0433\\u0438\\u0437\\u0441\\u043a\", \"\\u0441\\u043d\\u0435\\u0433\\u043e\\u0445\\u043e\\u0434\", \"\\u044e\\u0434\\u0438\\u043d\", \"\\u0431\\u0430\\u043b\\u043e\\u0442\\u0435\\u043b\\u043b\", \"\\u0441\\u0442\\u0443\\u0434\\u0435\\u043d\\u0442\\u043a\", \"\\u043a\\u043e\\u0441\\u0442\\u044f\\u0448\\u043a\", \"\\u043c\\u0438\\u043d\\u043d\\u0435\\u0441\\u043e\\u0442\", \"\\u0443\\u0437\\u0431\\u0435\\u043a\\u0441\\u043a\", \"\\u0445\\u0443\\u0448\\u044c\\u044f\\u0440\", \"\\u0434\\u043e\\u043c\\u043e\\u0436\\u0438\\u0440\", \"\\u043d\\u0430\\u0441\\u0435\\u0440\", \"\\u0431\\u043b\\u0430\\u0435\\u0440\", \"\\u0431\\u0430\\u0442\\u043a\\u0435\\u043d\\u0441\\u043a\", \"\\u043f\\u0430\\u0440\\u043e\\u043c\", \"\\u043f\\u0438\\u043c\\u043a\\u0438\\u043d\", \"\\u0438\\u0437\\u043c\\u0430\\u0439\\u043b\", \"\\u0441\\u043e\\u0440\\u0434\\u0435\\u043b\\u043b\", \"\\u0438\\u0441\\u043b\\u0430\\u043d\\u0434\\u0441\\u043a\", \"\\u043f\\u043e\\u0434\\u0431\\u043e\\u0440\", \"\\u043a\\u043e\\u0432\\u0430\\u043b\\u044c\\u0447\\u0443\\u043a\", \"\\u0445\\u043e\\u043b\\u043c\\u0441\", \"\\u0431\\u0430\\u0432\\u0430\\u0440\", \"\\u0434\\u043e\\u043c\\u0438\\u043d\", \"\\u0441\\u043e\\u0440\\u043a\\u0438\\u043d\", \"\\u043d\\u0430\\u0446\\u0431\\u0430\\u043d\\u043a\", \"\\u043a\\u0440\\u0430\\u043c\\u0430\\u0440\\u0435\\u043d\\u043a\", \"\\u043d\\u0430\\u0433\\u043e\\u0440\\u043d\", \"\\u043c\\u044e\\u043b\\u043b\\u0435\\u0440\", \"\\u043a\\u0440\\u0443\\u043f\\u043d\\u043e\\u0432\", \"seastreak\", \"\\u0437\\u0430\\u043b\\u043e\\u0436\\u043d\\u0438\\u043a\", \"\\u043f\\u0438\\u0440\\u0441\", \"\\u0430\\u0440\\u0431\\u0443\\u0437\\u043e\\u0432\", \"\\u043f\\u043e\\u043b\\u0443\\u0437\\u0430\\u0449\\u0438\\u0442\\u043d\\u0438\\u043a\", \"\\u0444\\u043e\\u0440\\u0432\\u0430\\u0440\\u0434\", \"\\u043f\\u043e\\u0433\\u0440\\u0430\\u043d\\u0438\\u0447\\u043d\\u0438\\u043a\", \"\\u0443\\u0437\\u0431\\u0435\\u043a\\u0438\\u0441\\u0442\\u0430\", \"\\u0438\\u0437\\u043d\\u0430\\u0441\\u0438\\u043b\\u043e\\u0432\\u0430\\u043d\", \"\\u0430\\u0432\\u0430\\u0440\", \"\\u0434\\u0435\\u0432\\u0443\\u0448\\u043a\", \"\\u0448\\u0430\\u0440\\u043c\", \"\\u0432\\u0437\\u044f\\u0442\\u043a\", \"\\u0433\\u0440\\u0443\\u0437\\u0438\\u043d\\u0441\\u043a\", \"\\u043d\\u0430\\u043f\\u0430\\u0434\\u0430\", \"\\u043f\\u0440\\u043e\\u0438\\u0437\\u043e\\u0448\\u043b\", \"\\u043a\\u0438\\u0440\\u0433\\u0438\\u0437\", \"\\u0432\\u0440\\u0435\\u0437\\u0430\", \"\\u0447\\u0435\\u043b\\u043e\\u0432\\u0435\\u043a\", \"\\u043a\\u043b\\u0443\\u0431\", \"\\u0430\\u0432\\u0442\\u043e\\u0431\\u0443\\u0441\", \"\\u043a\\u043e\\u0442\\u043e\\u0440\", \"\\u0440\\u0435\\u0437\\u0443\\u043b\\u044c\\u0442\\u0430\\u0442\", \"\\u043f\\u043e\\u0441\\u0442\\u0440\\u0430\\u0434\\u0430\", \"\\u043c\\u0430\\u0442\\u0447\", \"\\u0440\\u0430\\u0439\\u043e\\u043d\", \"\\u0441\\u0443\\u0434\", \"\\u0438\\u0433\\u0440\\u043e\\u043a\", \"\\u0434\\u0435\\u043b\", \"\\u044f\\u043d\\u0432\\u0430\\u0440\", \"\\u043a\\u043e\\u043c\\u0430\\u043d\\u0434\", \"\\u0441\\u043e\\u043e\\u0431\\u0449\\u0430\", \"\\u043f\\u043e\\u043b\\u0438\\u0446\", \"\\u043b\\u0435\\u0442\\u043d\", \"\\u0433\\u043e\\u0434\", \"\\u0443\\u0431\\u0438\\u0439\\u0441\\u0442\\u0432\", \"\\u043c\\u0435\\u0441\\u0442\\u043d\", \"\\u0441\\u0442\\u0440\\u0430\\u043d\", \"\\u0432\\u043b\\u0430\\u0441\\u0442\", \"\\u043f\\u043e\\u043b\\u0443\\u0447\", \"\\u0432\\u0440\\u0435\\u043c\", \"\\u0442\\u044b\\u0441\\u044f\\u0447\", \"\\u0441\\u043b\\u043e\\u0432\", \"\\u043e\\u043a\\u043e\\u043b\", \"\\u0434\\u0430\\u043d\", \"\\u043e\\u0434\\u043d\\u0430\\u043a\", \"\\u0442\\u0430\\u043a\\u0436\", \"\\u0441\\u0432\\u043e\", \"\\u0440\\u0430\\u043d\", \"\\u0441\\u0442\\u0430\\u043b\", \"\\u0441\\u0430\\u0439\\u0442\", \"\\u0437\\u0430\\u044f\\u0432\", \"\\u043f\\u0430\\u0443\\u043b\\u0441\", \"\\u0445\\u044c\\u044e\\u0437\", \"valve\", \"\\u043d\\u043e\\u0431\\u0441\", \"piston\", \"anglo\", \"steam\", \"trust\", \"cedc\", \"\\u043f\\u0438\\u043e\\u0442\\u0440\\u043e\\u0432\\u0441\\u043a\", \"\\u0442\\u0443\\u043d\\u0446\", \"minecraft\", \"ozon\", \"ubuntu\", \"\\u043c\\u043e\\u0440\\u0435\\u043b\\u043b\", \"\\u043c\\u0443\\u043b\\u044c\\u0442\\u0438\\u043f\\u043b\\u0435\\u0435\\u0440\", \"remedy\", \"attitude\", \"\\u0445\\u043e\\u0434\\u043e\\u0440\\u0447\\u0435\\u043d\\u043a\", \"\\u043c\\u043e\\u043d\\u0442\\u0440\", \"\\u0441\\u0430\\u0432\\u0445\\u043d\", \"\\u043e\\u043c\\u043d\\u0438\\u0444\\u043e\\u0431\\u043d\", \"\\u0443\\u043b\\u044c\\u0442\\u0440\\u0430\\u0431\\u0443\\u043a\", \"asian\", \"\\u043f\\u0430\\u043c\\u0443\\u043a\", \"\\u0431\\u0443\\u043a\\u0435\\u0440\", \"ashanti\", \"anglogold\", \"\\u0431\\u043e\\u0440\\u043e\\u0434\", \"rising\", \"canonical\", \"\\u043a\\u043e\\u0434\", \"\\u043a\\u043e\\u0440\\u043d\", \"tegra\", \"intel\", \"\\u043b\\u043e\\u0445\\u0430\", \"dead\", \"\\u0443\\u0441\\u0442\\u0440\\u043e\\u0439\\u0441\\u0442\\u0432\", \"american\", \"\\u044d\\u043a\\u0440\\u0430\", \"\\u043c\\u0430\\u0433\\u0430\\u0437\\u0438\\u043d\", \"\\u0438\\u0433\\u0440\", \"\\u043a\\u043e\\u0442\\u043e\\u0440\", \"\\u0441\\u0442\\u0443\\u0434\", \"\\u043f\\u0438\\u0441\\u0430\\u0442\\u0435\\u043b\", \"\\u0433\\u043e\\u0434\", \"\\u043a\\u043d\\u0438\\u0433\", \"\\u0441\\u0442\\u0430\\u043b\", \"\\u0444\\u0438\\u043b\\u044c\\u043c\", \"\\u043d\\u043e\\u0432\", \"\\u0442\\u0430\\u043a\\u0436\", \"\\u043a\\u043e\\u043c\\u043f\\u0430\\u043d\", \"\\u0433\\u043b\\u0430\\u0432\\u043d\", \"\\u043f\\u0440\\u043e\\u0435\\u043a\\u0442\", \"\\u043f\\u0438\\u0441\\u044c\\u043c\", \"\\u0441\\u0430\\u0439\\u0442\", \"\\u0440\\u0430\\u0431\\u043e\\u0442\", \"\\u0441\\u0432\\u043e\", \"\\u0437\\u0430\\u044f\\u0432\", \"\\u043a\\u0430\\u0440\\u0442\\u0438\\u043d\", \"\\u044f\\u0432\\u043b\\u044f\", \"\\u043e\\u0434\\u043d\\u0430\\u043a\", \"\\u0440\\u0430\\u043d\", \"\\u0432\\u0440\\u0435\\u043c\", \"\\u0441\\u043e\\u043e\\u0431\\u0449\\u0430\", \"\\u043f\\u0435\\u0440\\u0432\", \"\\u043f\\u043e\\u043b\\u0443\\u0447\", \"\\u0437\\u0430\\u043d\\u0438\\u043c\\u0430\", \"\\u0438\\u0437\\u0432\\u0435\\u0441\\u0442\\u043d\", \"\\u043e\\u0434\\u043d\", \"\\u0441\\u043b\\u043e\\u0432\", \"\\u044f\\u043d\\u0432\\u0430\\u0440\", \"\\u0434\\u0440\\u0443\\u0433\", \"\\u0434\\u0435\\u043c\\u0443\\u0448\\u043a\\u0438\\u043d\", \"\\u0437\\u0435\\u043c\\u0444\\u0438\\u0440\", \"\\u043a\\u0430\\u0448\\u043c\\u0438\\u0440\", \"\\u043a\\u0440\\u0435\\u0446\", \"\\u043b\\u0443\\u0440\\u043a\\u043e\\u043c\\u043e\\u0440\", \"herbalife\", \"\\u0430\\u0432\\u0438\\u0441\\u043c\", \"\\u0432\\u0441\\u043c\\u043f\\u043e\", \"\\u043e\\u043d\\u0438\\u0449\\u0435\\u043d\\u043a\", \"exynos\", \"\\u043a\\u0432\\u0435\\u0442\\u0442\", \"\\u043e\\u043c\\u0430\\u0440\", \"marks\", \"spencer\", \"\\u0440\\u043e\\u0441\\u043a\\u043e\\u043c\\u043d\\u0430\\u0434\\u0437\\u043e\\u0440\", \"octa\", \"\\u0441\\u0442\\u0440\\u0430\\u0441\\u0442\\u043d\", \"\\u0445\\u043e\\u0431\\u0441\\u043e\\u043d\", \"\\u043a\\u043e\\u0440\\u0432\\u0435\\u0442\", \"\\u0441\\u0443\\u0438\\u0446\\u0438\\u0434\", \"\\u0430\\u043d\\u0442\\u0438\\u0442\\u0430\\u0431\\u0430\\u0447\\u043d\", \"\\u0442\\u0430\\u0431\\u0430\\u043a\", \"\\u0437\\u0443\\u0431\\u043a\", \"\\u043a\\u0430\\u0434\\u044b\\u0440\\u043e\\u0432\", \"\\u0447\\u0435\\u043c\\u043e\\u0434\\u0430\", \"\\u0431\\u0435\\u043b\\u0443\\u0434\\u0436\\u0438\\u0441\\u0442\\u0430\", \"\\u0441\\u0435\\u043f\\u0430\\u0440\\u0430\\u0442\\u0438\\u0441\\u0442\\u0441\\u043a\", \"\\u043f\\u0430\\u0443\\u044d\\u043b\\u043b\", \"\\u0440\\u0435\\u0432\\u043e\\u043b\\u044c\\u0432\\u0435\\u0440\", \"\\u0447\\u0430\\u0439\\u043d\", \"\\u043c\\u043e\\u0441\\u0433\\u043e\\u0440\\u0434\\u0443\\u043c\", \"\\u0440\\u0435\\u0435\\u0441\\u0442\\u0440\", \"\\u043a\\u0438\\u0448\\u0438\\u043d\\u0435\\u0432\", \"linkedin\", \"\\u0433\\u0435\\u043a\\u0442\\u0430\\u0440\", \"\\u043f\\u0440\\u043e\\u043f\\u0430\\u0433\\u0430\\u043d\\u0434\", \"\\u0441\\u0430\\u0434\", \"\\u043e\\u0445\\u043e\\u0442\", \"\\u043a\\u0443\\u0440\", \"\\u0430\\u0434\\u0430\\u0433\\u0430\\u043c\\u043e\\u0432\", \"\\u043f\\u0430\\u043a\\u0438\\u0441\\u0442\\u0430\", \"\\u0443\\u0441\\u044b\\u043d\\u043e\\u0432\\u043b\\u0435\\u043d\", \"\\u0441\\u043e\\u043b\\u0434\\u0430\\u0442\", \"\\u0437\\u0430\\u043f\\u0440\\u0435\\u0449\\u0435\\u043d\", \"\\u043f\\u0430\\u043a\\u0438\\u0441\\u0442\\u0430\\u043d\\u0441\\u043a\", \"\\u0443\\u0447\\u0430\\u0441\\u0442\\u043a\", \"\\u043a\\u043e\\u0434\\u0435\\u043a\\u0441\", \"\\u0438\\u043d\\u0434\", \"\\u0438\\u043d\\u0434\\u0438\\u0439\\u0441\\u043a\", \"\\u043a\\u043e\\u0442\\u043e\\u0440\", \"\\u0437\\u0430\\u043a\\u043e\\u043d\", \"\\u0447\\u0435\\u043b\\u043e\\u0432\\u0435\\u043a\", \"\\u0437\\u0434\\u0430\\u043d\", \"\\u044f\\u043d\\u0432\\u0430\\u0440\", \"\\u0441\\u0430\\u0439\\u0442\", \"\\u0438\\u043d\\u0444\\u043e\\u0440\\u043c\\u0430\\u0446\", \"\\u0431\\u0443\\u0434\\u0443\\u0442\", \"\\u0430\\u043a\\u0446\", \"\\u0441\\u043e\\u043e\\u0431\\u0449\\u0430\", \"\\u0442\\u0430\\u043a\\u0436\", \"\\u0440\\u043e\\u0441\\u0441\", \"\\u0433\\u043e\\u0434\", \"\\u043a\\u043e\\u043c\\u043f\\u0430\\u043d\", \"\\u0440\\u043e\\u0441\\u0441\\u0438\\u0439\\u0441\\u043a\", \"\\u043f\\u0440\\u043e\\u0435\\u043a\\u0442\", \"\\u043f\\u043e\\u0441\\u0442\", \"\\u0442\\u044b\\u0441\\u044f\\u0447\", \"\\u0437\\u0430\\u044f\\u0432\", \"\\u0440\\u0430\\u043d\", \"\\u0432\\u0440\\u0435\\u043c\", \"\\u0441\\u0432\\u043e\", \"\\u043f\\u0440\\u0435\\u0434\\u0441\\u0442\\u0430\\u0432\\u0438\\u0442\\u0435\\u043b\", \"\\u043d\\u0430\\u0445\\u043e\\u0434\", \"\\u0434\\u0430\\u043d\", \"\\u0434\\u0435\\u0442\", \"\\u043d\\u043e\\u0432\", \"\\u043e\\u043a\\u043e\\u043b\", \"\\u043e\\u0434\\u043d\\u0430\\u043a\", \"\\u0441\\u043b\\u043e\\u0432\", \"\\u0434\\u0435\\u043a\\u0430\\u0431\\u0440\", \"\\u0432\\u043b\\u0430\\u0441\\u0442\", \"lada\", \"\\u0441\\u0435\\u0440\\u0434\\u044e\\u043a\", \"kalina\", \"\\u043a\\u0443\\u0432\\u0432\\u0430\\u0442\", \"\\u0432\\u0430\\u0441\\u0438\\u043b\\u044c\\u0435\\u0432\", \"\\u0440\\u0438\\u0447\\u0430\\u0440\\u0434\\u0441\\u043e\\u043d\", \"\\u0437\\u0430\\u043a\\u0443\\u0442\\u0430\\u0439\\u043b\", \"\\u0441\\u043c\\u0435\\u0442\\u0430\\u043d\\u043e\\u0432\", \"\\u043f\\u0430\\u0434\\u0432\", \"\\u0430\\u043d\\u0433\\u043b\\u0438\\u043a\\u0430\\u043d\\u0441\\u043a\", \"\\u0448\\u043c\\u0438\\u0434\\u0442\", \"\\u043a\\u044d\\u043c\\u043f\\u0431\\u0435\\u043b\\u043b\", \"\\u0446\\u0438\\u043a\\u043b\\u043e\\u043d\", \"\\u043f\\u0445\\u0435\\u043d\\u044c\\u044f\", \"\\u0430\\u0432\\u0442\\u043e\\u0432\\u0430\\u0437\", \"\\u0434\\u0438\\u043b\\u0430\", \"\\u0437\\u0443\\u0431\\u043a\\u043e\\u0432\", \"\\u0441\\u0438\\u043d\\u0430\\u0433\\u043e\\u0433\", \"\\u043c\\u043e\\u0440\\u0440\", \"\\u043c\\u0430\\u0441\\u043a\\u043e\\u0442\", \"health\", \"\\u0435\\u043b\\u044c\\u043a\\u0438\\u043d\", \"\\u0431\\u043e\\u043a\", \"\\u0442\\u0435\\u0440\\u0435\\u0445\\u0438\\u043d\", \"\\u0442\\u0440\\u0443\\u043d\", \"\\u0443\\u0437\\u0435\\u043b\", \"\\u043f\\u0435\\u0440\\u043a\\u0438\\u043d\\u0441\", \"\\u0445\\u0438\\u0442\", \"destiny\", \"\\u0432\\u0438\\u043d\\u043e\\u0432\\u043d\\u0438\\u0446\", \"\\u043e\\u0431\\u043e\\u0440\\u043e\\u043d\\u0441\\u0435\\u0440\\u0432\\u0438\\u0441\", \"\\u0445\\u0430\\u0440\", \"\\u0441\\u0435\\u0440\\u0434\\u044e\\u043a\\u043e\\u0432\", \"\\u043d\\u0435\\u0442\\u0440\\u0435\\u0437\\u0432\", \"\\u043a\\u043d\\u0434\\u0440\", \"\\u0440\\u043e\\u043c\\u0430\\u043d\\u043e\\u0432\", \"\\u0441\\u043e\\u0431\\u0430\\u043a\", \"\\u0435\\u043f\\u0438\\u0441\\u043a\\u043e\\u043f\", \"\\u044d\\u0440\\u0438\\u043a\", \"\\u0434\\u0432\\u043e\\u0440\\u043d\\u0438\\u043a\", \"\\u0434\\u043e\\u043f\\u0440\\u043e\\u0441\", \"\\u0441\\u0430\\u0440\\u043a\\u043e\\u0437\", \"\\u0434\\u0435\\u043b\", \"\\u043c\\u043e\\u0434\\u0435\\u043b\", \"\\u0441\\u043e\\u0442\\u0440\\u0443\\u0434\\u043d\\u0438\\u0446\", \"\\u0433\\u043e\\u0434\", \"\\u0432\\u043e\\u0437\\u0431\\u0443\\u0436\\u0434\", \"\\u0431\\u044b\\u0432\\u0448\", \"\\u0441\\u043e\\u043e\\u0431\\u0449\\u0430\", \"\\u044f\\u043d\\u0432\\u0430\\u0440\", \"\\u0440\\u0430\\u0441\\u0441\\u043b\\u0435\\u0434\\u043e\\u0432\\u0430\\u043d\", \"\\u0441\\u0442\\u0430\\u043b\", \"\\u043a\\u043e\\u0442\\u043e\\u0440\", \"\\u0432\\u0435\\u0440\\u0441\", \"\\u0441\\u0432\\u043e\", \"\\u0433\\u0440\\u0443\\u043f\\u043f\", \"\\u0440\\u0435\\u043b\\u0438\\u0437\", \"\\u0440\\u0430\\u043d\", \"\\u0442\\u0430\\u043a\\u0436\", \"\\u0443\\u0433\\u043e\\u043b\\u043e\\u0432\\u043d\", \"\\u0438\\u0437\\u0432\\u0435\\u0441\\u0442\\u043d\", \"\\u043e\\u0434\\u043d\\u0430\\u043a\", \"\\u043f\\u0435\\u0440\\u0432\", \"google\", \"\\u0434\\u0430\\u043d\", \"\\u0437\\u0430\\u044f\\u0432\", \"\\u043f\\u043e\\u043b\\u0443\\u0447\", \"\\u043f\\u0440\\u0435\\u0437\\u0438\\u0434\\u0435\\u043d\\u0442\", \"\\u0432\\u0440\\u0435\\u043c\", \"\\u043d\\u043e\\u0432\", \"\\u043c\\u0443\\u0436\\u0447\\u0438\\u043d\", \"\\u043a\\u043e\\u043c\\u043f\\u0430\\u043d\"], \"Freq\": [303.0, 338.0, 229.0, 185.0, 1877.0, 80.0, 1366.0, 95.0, 186.0, 122.0, 112.0, 324.0, 364.0, 845.0, 46.0, 96.0, 374.0, 128.0, 157.0, 92.0, 315.0, 30.0, 103.0, 72.0, 320.0, 109.0, 366.0, 87.0, 68.0, 53.0, 23.428044568525, 20.36603471819617, 10.580985901277407, 11.364963665469633, 8.706653888002863, 19.11372692636313, 15.604134284826564, 8.624790570957073, 6.876820393382978, 13.69689281747402, 6.826846227489818, 47.00484271263195, 19.55545024516601, 8.459117025710237, 8.457771052946748, 16.037313939741377, 5.8720242632003306, 7.547618842445055, 10.071447654219424, 13.400393691999525, 5.839770025820445, 5.8046506692695035, 5.803849418080485, 5.78856167462807, 5.783484068302822, 5.781177886453138, 5.776976487073299, 5.767884870759191, 11.500028769125638, 5.75896772042979, 30.212592487278393, 32.66997043632993, 9.040968192577159, 37.30318992874313, 12.27657040534752, 12.948039579195244, 76.87707920290272, 10.42537387398558, 55.207173594178904, 12.552677688061488, 208.93796131207753, 19.885311143938114, 66.71544103480453, 22.04605427174928, 16.26101422533101, 51.625436037114966, 94.83163474177185, 17.67154586486395, 59.40922948305611, 37.63490792099688, 21.14168334704448, 150.2114081807904, 35.93593748448285, 26.461152513061545, 437.8048903268291, 24.608465912956156, 116.54419792992651, 111.12406964477803, 119.38084425227818, 28.344105730661806, 110.16685878883871, 108.62675061629454, 169.23127111504124, 82.18560612082716, 56.50752156415612, 56.54339177061161, 136.37111207793208, 85.609543717917, 178.75320584191442, 48.803201897440616, 51.6298351646108, 101.55012079233127, 60.565419440722586, 75.60660497886963, 74.21325500797862, 68.99527981313831, 71.67380567504027, 65.46270806290507, 57.704864816763106, 56.66007979054529, 56.393232128426995, 13.111024244362005, 20.25008833317143, 9.672774431474839, 12.094781290605136, 8.80584664694299, 7.980840630867675, 7.9756626716133505, 10.369228642351597, 8.765881894501216, 14.313988955330657, 8.715580419887539, 7.906089590405208, 7.897320400678785, 8.680971445398384, 6.292131814834134, 6.262636138254471, 10.17733599822008, 7.813353603077131, 6.236582667953731, 21.074708401844763, 6.210332182617949, 6.204031237663881, 8.500506683632851, 7.728069330574474, 6.956759004549892, 6.166939368566433, 5.387993952183813, 5.366239956147812, 5.36281341003834, 6.111808499760428, 67.59108974894322, 7.6329560284902165, 6.837817491727363, 24.59705231435623, 37.40221526331536, 9.6514553840162, 28.692435168126185, 18.152209599359747, 44.63089290373082, 18.11280861301825, 23.919217539791266, 10.2386592011275, 11.520519845795866, 17.51919928143428, 25.40938874817803, 48.80593853433688, 58.4921312051984, 58.24501575191118, 24.901710302545066, 33.97948821452253, 49.16075149878001, 38.4526186034816, 31.497504927057694, 19.384889229280393, 72.25052563770669, 22.076144917968044, 230.7123088176177, 24.35319821764911, 162.14937926248217, 98.20899225754798, 73.35616997303185, 65.06298473660814, 94.58310734595325, 46.887032299691974, 94.94181615642265, 55.246071074495575, 47.62934857972612, 32.360760149269645, 61.01663538889299, 37.987287276714156, 51.02615451190842, 47.18079283060917, 41.9098465210777, 40.83146502526838, 44.16563432097631, 40.299092007909714, 40.21870987361232, 36.729999963749925, 36.73513649933022, 7.06091833791427, 7.050605350107385, 6.20278307414676, 6.159469021055403, 8.448228100043897, 6.141479165083882, 11.455801685625984, 5.338409952241213, 5.301722879875175, 5.310965160945081, 5.306990162184041, 5.30955936265523, 5.2943493786193505, 5.29410698251084, 5.294447031039343, 5.290846779636248, 6.781763776588302, 5.282077889739405, 5.25560615276026, 5.252195753523952, 6.000294089373956, 5.232114053834812, 5.248710008258006, 6.717489152027867, 4.4563731433608735, 4.45445479379045, 4.443001701587706, 6.643560817419891, 8.86935391341537, 4.423301689022397, 11.002478332720338, 11.583752132090247, 5.885583724828555, 28.911647629053963, 10.002723762177348, 23.121229905240412, 8.451911132940083, 26.794557043135274, 15.863664378338203, 12.317749359353733, 49.57434451832346, 12.281145068480786, 7.027768067663211, 100.49104596954052, 49.498018990298796, 8.73456184918083, 12.934213720145724, 10.535045444369597, 15.397076158635524, 67.00662004261096, 337.31332486709397, 20.129780370001143, 12.674413670183364, 10.273029626298763, 33.09633240778905, 13.549028399446664, 197.00580436437713, 35.650858248310755, 44.36072444488216, 23.87970666097567, 41.215432196651115, 66.87179823652262, 76.77231411809906, 44.82589496955347, 64.54347902209052, 57.61176722826622, 58.04558190786603, 54.63667372982945, 88.06001385462403, 58.60435202925194, 42.00095024586589, 81.72826663249582, 49.54507060301832, 51.21739159318568, 31.327354358335924, 60.862068048331466, 44.26116458066503, 46.19427404173621, 43.53501523722556, 40.782077524390154, 40.40535927293493, 41.15600400716821, 39.087680147538464, 12.259103706954207, 14.695643894330034, 13.043334687279257, 21.09793864123883, 11.333421232602452, 9.64701766798128, 9.62767049858157, 9.531201610669763, 7.8722524867478745, 7.846102463379291, 7.808155610022733, 7.795208094316071, 6.118090563444698, 5.352235573772784, 6.1122938690682425, 6.819787920185521, 6.059342073940011, 5.282543142534814, 5.277013867519381, 5.275120759374998, 4.491332102640211, 4.442371806132959, 5.18309720053162, 5.169335919884703, 4.427546371333402, 4.424100758017366, 6.618371891986623, 4.389662575554227, 7.317865455439018, 4.380764553028768, 8.748868801506257, 16.80148989383539, 30.734482307534336, 19.594014500081272, 11.309370059984754, 7.826960576311796, 9.618427270340504, 8.92452143673805, 25.312276296853945, 11.95996316258727, 17.515881615424764, 31.97561192370968, 31.6994068470876, 28.647804891005148, 14.61889131579649, 11.39868168272633, 83.23513314905748, 246.13188879432818, 162.73762593641067, 66.01644879995793, 34.66128661576405, 45.29988238673768, 65.94890999211106, 70.30113845986496, 64.97042577204878, 83.67058944695147, 99.2184560393523, 71.50350009335489, 92.51075733557262, 31.132915982841027, 56.38582426099934, 51.693316853612586, 20.440201161146135, 49.52231718761804, 46.551180382471905, 25.825541042496955, 40.283559130432465, 42.837028318346924, 41.595226701711866, 34.38081387594851, 38.26439474639005, 37.78841958242109, 37.01977625111566, 37.763281241936376, 34.87335154987796, 34.03194805920854, 31.938263426926838, 11.24078930401715, 14.304487049009923, 9.491996737700243, 7.079824466180622, 6.997460195965639, 7.76465664227492, 6.95618874998849, 6.165090035632933, 7.707845104977471, 6.869958212226059, 5.305956533544494, 5.279711641387118, 4.521213627228071, 5.271389654552489, 5.262418377695454, 5.263222175522365, 4.499516444553624, 4.490835428022974, 5.23433010918836, 4.4792178700980045, 4.467197520150883, 4.460595660665845, 5.944021965851655, 4.446280021368541, 4.432353330908593, 4.4190455647753675, 4.40953083127647, 4.40364524496608, 4.374954574643151, 3.6364831833416167, 5.086708619286823, 14.842558245431828, 29.64573218356236, 16.691331651003544, 8.229508108426012, 8.781126870666172, 10.48519166035021, 24.890435660072256, 10.55489611479133, 82.01482178905938, 6.2069411091541555, 33.118538908518566, 6.117009975507491, 14.708774135120583, 7.13037575806947, 43.456897247391964, 21.63279310985866, 37.83340618753238, 16.975256264295, 27.586236032796073, 38.15899789395357, 47.579772785537216, 8.755693814313977, 23.559401831445058, 76.35139805315882, 153.85736416002456, 61.27363695315945, 170.44180677600534, 102.51461720645065, 20.17023473592253, 47.11421308418975, 49.998604075498456, 87.27021631341067, 52.77823698913441, 67.00197897399623, 35.232409302949364, 31.254281677474435, 36.32972551677143, 46.797945432560745, 49.070324758458604, 45.43846966438261, 46.77647509949523, 39.657162725404504, 42.192051704267485, 40.01791433499221, 40.66988725592235, 36.98437776379127, 38.41030439142893, 33.97866331470585, 32.9006311038601, 29.09734012876787, 11.981597914697225, 11.16727717076314, 7.670861759805363, 6.0666788655030235, 7.593004370896872, 5.276415388387819, 6.013559484442674, 5.176021230977198, 4.416858305089862, 5.1414775991486, 4.392792708847932, 4.383400527138863, 4.357388117564083, 4.353299128066847, 9.452206560447829, 4.349083304173168, 4.344645236128112, 4.336805734597577, 4.33619011451216, 10.112903211750462, 4.320673913810702, 5.027393277735148, 4.3027497526275384, 4.297033875364596, 3.549742270374098, 3.5488934264432825, 3.541871722812195, 3.537416995921039, 3.5337202465274262, 7.649947335747276, 6.277804372939363, 4.225524642650564, 4.210943987601668, 9.865065772221575, 24.340754946282612, 12.017351584528894, 11.155411529018382, 11.20373429823239, 57.014155671991375, 32.70637918322425, 8.987558782251028, 26.243740369485366, 6.5136769748671695, 12.497874485838578, 19.757417219914153, 19.832591020160013, 5.9109845326335275, 50.816210778373595, 11.892743415702, 26.485157338283315, 39.771695673401375, 28.880448010310012, 21.901934709397, 49.278880969300374, 24.691249496020728, 94.70751490814295, 25.857349035283175, 31.811484144026846, 84.28188805130468, 103.36094342806786, 51.60217513736462, 21.8725606204013, 43.955310445366095, 46.868070310470834, 25.83195792494589, 29.43359439397172, 24.66969597804863, 42.22282376867366, 33.653419439595304, 88.73566993155458, 37.17891892418259, 43.47825561292629, 36.03071855783416, 31.612886467467735, 31.28200240847025, 29.792859068961135, 39.70562063200714, 36.42837127199985, 36.471853889201576, 33.43506134268066, 30.386483419764378, 31.505954848793337, 31.126702587365212, 29.482041347311203, 14.962100827594226, 13.548606513815349, 7.108798303139001, 6.289375515999276, 16.460283759245282, 6.262549962780678, 7.03140329278574, 16.373619325791406, 6.181378355977719, 6.942417424357877, 6.143351322755238, 6.141223464307833, 5.3439206891111555, 5.33362516208514, 5.334625307472495, 5.325085544739928, 4.549847156047624, 5.297767520970938, 6.071631590491741, 6.034640673773624, 12.811134831292533, 4.501992220320244, 4.485731792087102, 5.217886424345212, 5.213185703941014, 4.459704278495345, 4.45138716290483, 4.450289858417923, 4.433172427592945, 4.428574428832164, 10.847196393262669, 10.123882497391124, 5.834079817108702, 5.832441462521627, 21.505654931432417, 18.27890481793852, 16.563210104277328, 19.020620350595895, 30.884178059096772, 22.86761783882383, 6.947006893884728, 9.890024253136028, 22.0601174373732, 16.35227695748102, 28.57416187515865, 11.260406626925118, 8.758717048077127, 67.77024305033096, 24.35591130915119, 14.514327913029904, 144.78178497948045, 42.18202802297455, 29.957232782345507, 31.977872084196925, 27.592691801746753, 36.3993320194227, 20.281156574781907, 52.05232749555683, 89.6052421123735, 28.271283586597033, 76.917598721627, 36.83808767954173, 34.17362323368371, 104.11328212581572, 25.254147926166617, 29.693906405698545, 41.96325836437787, 35.829700827191814, 37.474362597339, 40.43977994990801, 37.68069589119324, 36.21640887685248, 31.398539815461312, 35.37461947165826, 33.666698969306125, 35.18318192860836, 33.37064110119844, 30.744435090387785, 30.990913634169203, 29.80625495836943, 30.043438862184708, 9.17197820027309, 9.14514076428643, 9.104614809540884, 8.293388593361254, 7.517800404533199, 6.713263367579859, 8.187314874346777, 6.654456199486391, 6.637119841688325, 7.372675236186559, 8.027739331800818, 6.563091598028362, 5.820791184391293, 8.00510979259003, 5.808217805272002, 5.80362898077591, 5.793995213686224, 5.054324251772458, 5.043554888837594, 5.010887434259212, 5.008516173022617, 4.250645546148057, 5.6708366929153335, 4.2422427450512075, 4.239102164623491, 4.2365484561478945, 4.229720230010668, 4.229278210108905, 4.225030230227493, 4.22100865078357, 5.6286416223681375, 10.608069623919324, 7.366011488999645, 10.910321671716357, 6.128275044984292, 5.906471172178381, 5.69604426690025, 31.62176652110304, 9.889910850095069, 16.84632331170314, 18.617725669983013, 31.96322592769102, 130.74838783482912, 20.472302960171444, 12.37179924649356, 126.39285696463698, 17.13176809869521, 47.637451783267245, 36.41248160316935, 49.162370133138126, 50.30985932681673, 39.45994538306326, 25.497240490445012, 28.104274423908247, 18.285696021299295, 32.769417152944634, 28.76805286310171, 37.22638426505809, 32.187611705364006, 18.22047058048593, 25.543186233929738, 28.06482601361365, 26.05492751877052, 26.48820322195066, 31.664180528337038, 24.0422514029312, 21.65206209459557, 18.11462796130752, 18.602163473366627, 20.72288816136501, 20.533377449862318, 21.84411822151754, 19.300146899779875, 11.23279106483502, 6.642340282261023, 8.052808426385903, 7.98504912987468, 5.755231961086402, 5.007713487041365, 4.952423749704116, 4.938602658840669, 4.873344905078748, 4.1340245589417695, 4.7689115409141944, 3.3842818345338177, 4.7193406903520465, 4.71381687554644, 15.374006685924977, 3.3296184233134998, 3.3182585710734274, 3.316898709864595, 4.667096870158311, 7.252245960900361, 3.297438803089558, 3.2926925892202017, 9.86373514140764, 3.248267232068276, 5.184191282385876, 3.2125408487626137, 3.1932112586614125, 2.5473559118587685, 2.545507295949508, 2.537848705940549, 3.1701863176009013, 15.37663236538214, 4.416247214708552, 4.956093037328659, 6.758886917126343, 7.732239619128098, 10.224999830698108, 13.338017432610968, 5.708793009803081, 13.831534468558626, 13.936748657989504, 20.22323467682472, 11.893146761370096, 12.540438547220836, 12.286205494746454, 13.332839158511657, 8.8660623924322, 13.676702138391176, 11.355346776182126, 99.4637300156901, 32.144808206906454, 43.61098165640211, 18.562657398390478, 68.98850141678531, 37.425082913341164, 30.07953236352766, 26.412078308020185, 22.424777157803195, 50.87839809030201, 42.74163348266503, 33.74018523213177, 66.66615833479683, 34.17904234988336, 27.313833148557272, 23.653309253156134, 19.027543458055124, 26.55759017471955, 26.766640689862893, 25.607332811651595, 26.124799096614396, 27.327300100500892, 21.359389715549227, 21.16436718578243, 23.11633147213711, 18.57045167895673, 23.530513866606842, 20.746414474679163, 22.025196679463235, 21.700145516013823, 21.773593605552787, 19.99999925890788, 8.318272684874596, 11.482656256926441, 5.312242161558232, 4.576976076430025, 6.533184077798072, 6.464408891687254, 5.130595519408371, 5.766184650128915, 5.754765251870628, 3.825186655472831, 10.80352967924415, 4.416359826395562, 3.112572881103939, 3.72552524154494, 3.074274478741111, 3.0609841970099128, 3.657091311683801, 3.041911271040439, 3.0379164162811936, 3.0330833270722275, 3.0200930717464156, 2.997338320681667, 5.2576402101517585, 2.330759728956995, 2.3214506644211603, 2.31706143034363, 2.3140606905607943, 2.878667411313982, 2.302395498999997, 2.300811797250212, 7.915655643699767, 4.549480210424346, 10.327507657597163, 9.23779462699105, 14.097213214522155, 3.7430216016992177, 6.494705215578304, 4.574768059691865, 5.6231113816880445, 7.7349503106103565, 9.309374711124317, 7.380078063430948, 42.424751147321096, 9.183359180724986, 4.521052867090317, 69.31287402480874, 10.312926881739624, 18.161931627767558, 32.74908352214849, 33.53737531002062, 11.539033311706008, 21.527177486630517, 33.715556742334066, 13.141639896556786, 19.82697922603531, 12.814630143844605, 10.179749410234129, 15.854656259542956, 17.56348360939583, 10.690219918245017, 12.474124911637713, 13.761866152988839, 13.527839213734545, 9.2782392013256, 13.25694518201965, 13.168257884031693, 11.989195975013061, 12.030543800090255, 12.103990010406706, 11.862370436749718, 10.395254634821868, 10.561045547467625], \"Total\": [303.0, 338.0, 229.0, 185.0, 1877.0, 80.0, 1366.0, 95.0, 186.0, 122.0, 112.0, 324.0, 364.0, 845.0, 46.0, 96.0, 374.0, 128.0, 157.0, 92.0, 315.0, 30.0, 103.0, 72.0, 320.0, 109.0, 366.0, 87.0, 68.0, 53.0, 25.162782503937144, 22.2174076917915, 11.581208936257221, 12.537082610774341, 9.63663710450698, 21.206259309942766, 17.34853703284544, 9.629600557372173, 7.698027498734302, 15.414578904368904, 7.69105181089648, 53.028985727344164, 22.124393609064793, 9.612462477668519, 9.611565748458858, 18.28228089904915, 6.719830584922945, 8.637412884165126, 11.527260714517492, 15.382356236801314, 6.716031350333417, 6.714105977799204, 6.7148346135565395, 6.711615196421272, 6.7102150674288215, 6.708806400349202, 6.71037991227272, 6.710653552823617, 13.385619303968893, 6.706945605300642, 35.40263397388634, 38.39969930225737, 10.548233796892008, 44.23172501485046, 14.39936280999475, 15.248522650992802, 95.78066338053877, 12.395740208191594, 72.49760358574446, 15.313533389648939, 338.1370077003666, 25.754216588698295, 103.03767172280985, 29.44810238918034, 20.764917184706132, 79.8725816137428, 164.79082614249523, 22.91648624804147, 105.49560487541034, 59.911025050346936, 29.361809353088347, 364.2724069993415, 59.08995245835806, 40.18407376204578, 1877.6250609634872, 36.708697868055545, 325.18925825173835, 320.8672940133529, 366.22003746074586, 45.89933371025928, 364.25175274923146, 359.7471019908825, 845.8915522617643, 274.2125567723488, 151.2863712338842, 153.63379521288644, 785.7119826980501, 340.66485118489214, 1366.5737825656106, 128.54552581119634, 143.62756828065702, 596.7975284986516, 211.5225466484422, 378.55149166636056, 476.1391675817488, 381.8738841786302, 434.67640379879714, 378.5311367126001, 327.3217455624653, 346.9809723907345, 374.9947495425716, 14.34237049201861, 22.474380361857875, 10.74317669004603, 13.441918344250887, 9.845799498713529, 8.947211935363292, 8.95190956616167, 11.649025014059713, 9.857270107983162, 16.104432822547825, 9.853525625906236, 8.94761082132282, 8.949406826819175, 9.837895462379466, 7.16111778442549, 7.154712703628572, 11.643241799713344, 8.941517510906086, 7.152223492633017, 24.240629663461576, 7.159719410468124, 7.158956406543338, 9.839819444638417, 8.952485982651604, 8.066010223425018, 7.160259691471662, 6.261209687467488, 6.261741489288886, 6.260594575887171, 7.138110422193241, 80.81679508025462, 8.942758848323983, 8.02510341688545, 30.490752352518893, 50.193658088354454, 11.627958369255252, 38.413567287207414, 23.314514845023357, 63.55667115380037, 23.372449868526143, 32.06765051059519, 12.557783683695522, 14.450315972923073, 24.16806353698831, 38.7234286167386, 87.81892958743056, 112.11542509981912, 112.79893752117441, 39.49667482948815, 63.22113269654464, 109.07148026445081, 80.2948851541347, 62.149921244791635, 31.04858023471322, 244.81471795420111, 41.36926250464397, 1877.6250609634872, 50.41731854154767, 1366.5737825656106, 596.7975284986516, 366.22003746074586, 327.3217455624653, 785.7119826980501, 189.1796337088243, 845.8915522617643, 315.33605570460617, 229.53451629476373, 95.6680921251312, 476.1391675817488, 152.44685053147433, 374.9947495425716, 434.67640379879714, 290.5655278139699, 269.1337454410074, 381.8738841786302, 346.9809723907345, 378.5311367126001, 230.5901667805424, 378.55149166636056, 8.02803323688546, 8.03842129136853, 7.145164307336635, 7.1574824289054995, 9.817560673816121, 7.144347746716031, 13.394694937349056, 6.243291364533962, 6.2345299373001115, 6.246945294545521, 6.24816076850919, 6.257930344693059, 6.24459714732583, 6.247277349534448, 6.251390533190206, 6.248081744767524, 8.016311142753743, 6.24979469204858, 6.248670702623072, 6.244902722519888, 7.138097896233127, 6.227207856806009, 6.247073719730565, 8.022307524098315, 5.351619098940506, 5.362497570222613, 5.3499465990822905, 8.022992621584324, 10.716035794843961, 5.348612999593704, 13.3984535682081, 14.307637275984758, 7.13508024371584, 37.666765243144404, 12.494369788527548, 33.04966105742996, 10.685396621407827, 41.03452969825424, 22.335649572084527, 16.91833585738718, 87.45996606603725, 16.91709519770176, 8.809713177605488, 229.53451629476373, 96.57396168265048, 11.591990751242092, 19.66652831572875, 15.136441246483736, 24.9832533559929, 188.15304404427087, 1877.6250609634872, 39.24277181982989, 20.54742953016974, 15.164219413780327, 86.3612025823237, 23.087254489037885, 1366.5737825656106, 104.27758490829706, 151.2863712338842, 60.42959262580439, 157.5460838185856, 364.2724069993415, 476.1391675817488, 190.12916380910224, 374.9947495425716, 319.05010314607415, 325.18925825173835, 303.97675677510927, 785.7119826980501, 370.24779920943547, 204.88825257027608, 845.8915522617643, 340.66485118489214, 378.55149166636056, 125.52711656423219, 596.7975284986516, 290.5655278139699, 381.8738841786302, 346.6866072688474, 289.2595227357307, 324.7284598037853, 378.5311367126001, 346.9809723907345, 13.328053904055702, 15.996062001889173, 14.226219792948777, 23.101888557502672, 12.44613458937091, 10.657563195273879, 10.66027873720168, 10.666495072513106, 8.879797349326276, 8.88177398061899, 8.870127144469231, 8.88136634276212, 7.102263559164102, 6.2169016032221185, 7.105715947948916, 7.988671751117881, 7.099080725574674, 6.215910862817225, 6.211365261955946, 6.2119761036554575, 5.322105664407518, 5.319316687869655, 6.2099368834013, 6.208864507786446, 5.324061721620318, 5.320826318233441, 7.998442109076653, 5.325246576592389, 8.885832549238856, 5.321936553619004, 10.639363879138882, 21.334121921567178, 40.619197540522634, 25.776938685169625, 14.399696139080579, 9.728227167270642, 12.435218132649272, 11.553522283036246, 39.768518068702335, 16.73817406589433, 27.753045830312963, 62.51032461405971, 62.892921301687686, 59.74621235652242, 24.941385993044474, 17.788155839599487, 359.7471019908825, 1877.6250609634872, 1366.5737825656106, 320.8672940133529, 112.91917825448549, 190.80964345448393, 378.55149166636056, 434.67640379879714, 378.5311367126001, 596.7975284986516, 845.8915522617643, 476.1391675817488, 785.7119826980501, 102.93112712554702, 364.2724069993415, 338.1370077003666, 50.28943034231272, 381.8738841786302, 364.25175274923146, 88.56942212346792, 290.5655278139699, 346.6866072688474, 370.24779920943547, 211.5225466484422, 340.66485118489214, 346.9809723907345, 327.3217455624653, 374.9947495425716, 319.05010314607415, 269.1337454410074, 189.1796337088243, 12.498648239955095, 16.11775586843662, 10.706048229375153, 8.034949909387153, 8.026468855150908, 8.93600890100824, 8.037833489015494, 7.142469526207164, 8.942484805576342, 8.026292348170443, 6.246544730561132, 6.241062335567808, 5.350168515634635, 6.241043020519314, 6.241708137133248, 6.244384369756635, 5.350750623718001, 5.350700997902265, 6.238620214766698, 5.350355670515179, 5.348367304548636, 5.35104479742227, 7.132452871838458, 5.347702868143622, 5.345007533565694, 5.344336426829759, 5.347423818383214, 5.347663889778982, 5.350041620077079, 4.45442776780943, 6.242937466661335, 18.787403112799176, 38.480402416958036, 22.16162951297319, 10.696293463377467, 11.578181810620116, 14.297842267817929, 41.012345831864835, 15.103906708620316, 185.13115972562832, 7.970584926148743, 68.01185052260679, 8.033958126571905, 26.55456239178806, 9.888937275588864, 118.20538581814328, 46.054837016848396, 103.93700257218353, 35.11958258762205, 74.64391935154562, 122.1792590315164, 173.8106337978364, 13.416632631505319, 64.31050537134915, 434.67640379879714, 1366.5737825656106, 315.33605570460617, 1877.6250609634872, 845.8915522617643, 52.43399500853629, 246.11984266793874, 274.2125567723488, 785.7119826980501, 364.25175274923146, 596.7975284986516, 167.0123517341294, 132.20881284979467, 186.5547282259002, 324.7284598037853, 366.22003746074586, 327.3217455624653, 370.24779920943547, 244.5290660428806, 346.9809723907345, 320.8672940133529, 378.5311367126001, 340.66485118489214, 476.1391675817488, 303.97675677510927, 290.5655278139699, 30.740495603130103, 13.174467585471724, 12.287175650307011, 8.782607991315482, 7.021462470392982, 8.790827573021922, 6.1455593108139315, 7.0258207345501615, 6.144726328801672, 5.268384080207852, 6.147313747056449, 5.267497536213413, 5.262229684846897, 5.2593718052695895, 5.265385370984993, 11.438489473458919, 5.265332027017539, 5.262730177989432, 5.268097212008191, 5.2701069041709045, 12.308660365558106, 5.269547391377897, 6.149928351108447, 5.268222700790666, 5.263569103689171, 4.390111578841707, 4.3894977962690485, 4.3900688504043766, 4.389196109965976, 4.389258377942793, 9.681580841685516, 7.905156108687085, 5.269558447608442, 5.2667662773329855, 13.211577351291565, 37.20308775321916, 17.64602753403911, 16.31732265835669, 16.76698071560349, 122.51745154994174, 67.33066061151645, 13.19018973887314, 52.37539225866545, 8.806415029528438, 21.29383978549159, 41.9693397832972, 43.926509540188576, 7.992772938387369, 186.5547282259002, 22.138774569176487, 74.53634046351209, 141.98015141598026, 90.79781113179175, 59.99326173664032, 222.179886077387, 76.33359089484024, 785.7119826980501, 89.99907806359674, 132.52455788469598, 845.8915522617643, 1366.5737825656106, 370.24779920943547, 71.27359298603297, 290.5655278139699, 346.6866072688474, 99.50330421762112, 133.53803880999845, 94.63649690742633, 325.18925825173835, 193.49856562828023, 1877.6250609634872, 246.11984266793874, 381.8738841786302, 269.1337454410074, 193.8281329760282, 191.31482445190872, 181.8405066991381, 596.7975284986516, 434.67640379879714, 476.1391675817488, 346.9809723907345, 230.5901667805424, 324.7284598037853, 378.55149166636056, 244.81471795420111, 16.217245509379772, 15.354048385627042, 8.107495355055898, 7.196690564062471, 18.917950022346336, 7.19883271064821, 8.11809822346152, 18.91080532954335, 7.189144918257461, 8.12020914539697, 7.186010962083826, 7.194588838377053, 6.291760001803118, 6.296754355406971, 6.299273060915343, 6.297133703148934, 5.395345849076289, 6.293540635888047, 7.216990518106313, 7.19203441207221, 15.299771782610819, 5.394170237630608, 5.392132475746727, 6.295234355376981, 6.2951345663115665, 5.395622809270987, 5.390706334529802, 5.392372813607929, 5.395143438215102, 5.394369617615636, 13.488972136982179, 12.60095716218327, 7.193004318737621, 7.19482100340332, 29.660402819237323, 25.81538121657012, 23.136305145457616, 28.67015059467544, 50.78783609339388, 36.59752620586723, 8.98735302400036, 14.39549736086848, 46.51814271922845, 31.391052764879806, 75.16938886868299, 19.348637872983705, 13.324210762392774, 324.7284598037853, 66.94013825433936, 29.471078513321796, 1366.5737825656106, 175.8036824262434, 99.50330421762112, 112.11542509981912, 89.25869209695068, 144.32808760984253, 54.158378381656824, 303.97675677510927, 845.8915522617643, 109.07148026445081, 785.7119826980501, 186.5547282259002, 161.29952059493, 1877.6250609634872, 92.61141079305638, 141.98015141598026, 359.7471019908825, 244.5290660428806, 289.2595227357307, 381.8738841786302, 340.66485118489214, 319.05010314607415, 222.179886077387, 370.24779920943547, 346.9809723907345, 596.7975284986516, 476.1391675817488, 346.6866072688474, 374.9947495425716, 315.33605570460617, 378.5311367126001, 10.228703097444427, 10.224864492024611, 10.222081021484158, 9.397607831509792, 8.532029140984136, 7.683692639134221, 9.381860754191772, 7.686022736752032, 7.68135699391592, 8.538650873282167, 9.390347348502461, 7.698277817935016, 6.8317323307935585, 9.402269086099954, 6.836793808934715, 6.833049074321395, 6.827585037473028, 5.984508065859677, 5.98107366898413, 5.989462428186234, 5.9876672152525074, 5.129795802386907, 6.854743880469425, 5.130874946589755, 5.13168332330017, 5.131751903271305, 5.131289129667116, 5.1312251234580755, 5.128218383526457, 5.130569763426737, 6.844389103346906, 13.719472333793743, 9.318557600272635, 14.472864482045662, 7.712434679146199, 7.719357725824587, 7.7260827623986295, 92.9601099391524, 17.327754180672642, 40.301234146873945, 51.178399404873474, 128.37676943305033, 1366.5737825656106, 63.2354145126952, 27.252695428021948, 1877.6250609634872, 49.65193085386803, 374.9947495425716, 229.53451629476373, 434.67640379879714, 596.7975284986516, 378.55149166636056, 152.44685053147433, 190.12916380910224, 73.18309942657359, 315.33605570460617, 246.11984266793874, 476.1391675817488, 378.5311367126001, 86.3612025823237, 222.11199278506857, 346.9809723907345, 346.6866072688474, 381.8738841786302, 785.7119826980501, 327.3217455624653, 289.2595227357307, 138.39205671455005, 170.76221757991917, 290.5655278139699, 319.05010314607415, 845.8915522617643, 269.1337454410074, 12.549589542093711, 7.541977236686448, 9.218233006063045, 9.239253401263392, 6.712997703255892, 5.877006021821649, 5.87723226264515, 5.878138520803628, 5.89064331293836, 5.045983524863111, 5.890165149744849, 4.20485680150737, 5.902225886424228, 5.9026989398567276, 19.3916790359588, 4.2119356700343396, 4.212956400088358, 4.211588953971556, 5.928913120496904, 9.275036453148372, 4.217826464538091, 4.21879359603245, 12.776822391062908, 4.21507413298006, 6.750632187276213, 4.2184356626869945, 4.220555046170835, 3.377064640093449, 3.3763379631304504, 3.377571581748642, 4.22733916861202, 21.123943716596088, 5.955427033616908, 6.729751378386963, 9.322047711943334, 11.01731382889628, 16.242254790442615, 22.366320976726545, 8.369395914031218, 25.79976200491545, 26.569679437589304, 46.054837016848396, 23.362615413063395, 25.925047613178243, 26.519905425503527, 30.424304038758947, 17.215731587853845, 36.622341120529384, 27.83751124309619, 1366.5737825656106, 185.13115972562832, 324.7284598037853, 70.0402746930319, 845.8915522617643, 315.33605570460617, 204.05487179984823, 167.0123517341294, 128.54552581119634, 785.7119826980501, 596.7975284986516, 366.22003746074586, 1877.6250609634872, 378.55149166636056, 274.2125567723488, 190.12916380910224, 112.91917825448549, 340.66485118489214, 378.5311367126001, 346.6866072688474, 381.8738841786302, 476.1391675817488, 190.80964345448393, 193.8281329760282, 370.24779920943547, 118.20538581814328, 434.67640379879714, 222.179886077387, 346.9809723907345, 319.05010314607415, 364.25175274923146, 244.5290660428806, 9.39390694795555, 13.367253265584667, 6.298956139547718, 5.522769900481029, 7.895046986733921, 7.89836816614698, 6.330330801872714, 7.123437131808344, 7.125205821069209, 4.749745152816184, 13.454613934133695, 5.547382432613652, 3.969847441476018, 4.763616935639151, 3.9745219447961055, 3.9788884540405816, 4.777316200043411, 3.9833542119381744, 3.9794004263862286, 3.9795706089644107, 3.985274180414635, 3.989191105786628, 7.175616727913006, 3.20016881964044, 3.20048610576397, 3.2025984688313875, 3.2032113476366817, 4.002392146428699, 3.204252419561902, 3.2050534845599157, 11.25118222923997, 6.428969143651417, 15.345082511542552, 13.92577766000122, 25.502609820006704, 5.654140019809608, 11.431852809244395, 7.3010336294877325, 9.791315421636474, 15.714119775987808, 21.59721245655551, 15.887072013252862, 303.97675677510927, 28.787224947470193, 8.223582877803672, 1877.6250609634872, 44.04369634559775, 157.5460838185856, 785.7119826980501, 845.8915522617643, 71.24440495195304, 374.9947495425716, 1366.5737825656106, 112.6927402883931, 476.1391675817488, 140.35094296766536, 66.07198953087868, 346.6866072688474, 596.7975284986516, 82.1958425260663, 170.76221757991917, 346.9809723907345, 327.3217455624653, 50.296981644175204, 370.24779920943547, 378.5311367126001, 289.2595227357307, 320.8672940133529, 381.8738841786302, 434.67640379879714, 94.63649690742633, 378.55149166636056], \"Category\": [\"Default\", \"Default\", \"Default\", \"Default\", \"Default\", \"Default\", \"Default\", \"Default\", \"Default\", \"Default\", \"Default\", \"Default\", \"Default\", \"Default\", \"Default\", \"Default\", \"Default\", \"Default\", \"Default\", \"Default\", \"Default\", \"Default\", \"Default\", \"Default\", \"Default\", \"Default\", \"Default\", \"Default\", \"Default\", \"Default\", \"Topic1\", \"Topic1\", \"Topic1\", \"Topic1\", \"Topic1\", \"Topic1\", \"Topic1\", \"Topic1\", \"Topic1\", \"Topic1\", \"Topic1\", \"Topic1\", \"Topic1\", \"Topic1\", \"Topic1\", \"Topic1\", \"Topic1\", \"Topic1\", \"Topic1\", \"Topic1\", \"Topic1\", \"Topic1\", \"Topic1\", \"Topic1\", \"Topic1\", \"Topic1\", \"Topic1\", \"Topic1\", \"Topic1\", \"Topic1\", \"Topic1\", \"Topic1\", \"Topic1\", \"Topic1\", \"Topic1\", \"Topic1\", \"Topic1\", \"Topic1\", \"Topic1\", \"Topic1\", \"Topic1\", \"Topic1\", \"Topic1\", \"Topic1\", \"Topic1\", \"Topic1\", \"Topic1\", \"Topic1\", \"Topic1\", \"Topic1\", \"Topic1\", \"Topic1\", \"Topic1\", \"Topic1\", \"Topic1\", \"Topic1\", \"Topic1\", \"Topic1\", \"Topic1\", \"Topic1\", \"Topic1\", \"Topic1\", \"Topic1\", \"Topic1\", \"Topic1\", \"Topic1\", \"Topic1\", \"Topic1\", \"Topic1\", \"Topic1\", \"Topic1\", \"Topic1\", \"Topic1\", \"Topic1\", \"Topic1\", \"Topic1\", \"Topic1\", \"Topic1\", \"Topic1\", \"Topic1\", \"Topic1\", \"Topic2\", \"Topic2\", \"Topic2\", \"Topic2\", \"Topic2\", \"Topic2\", \"Topic2\", \"Topic2\", \"Topic2\", \"Topic2\", \"Topic2\", \"Topic2\", \"Topic2\", \"Topic2\", \"Topic2\", \"Topic2\", \"Topic2\", \"Topic2\", \"Topic2\", \"Topic2\", \"Topic2\", \"Topic2\", \"Topic2\", \"Topic2\", \"Topic2\", \"Topic2\", \"Topic2\", \"Topic2\", \"Topic2\", \"Topic2\", \"Topic2\", \"Topic2\", \"Topic2\", \"Topic2\", \"Topic2\", \"Topic2\", \"Topic2\", \"Topic2\", \"Topic2\", \"Topic2\", \"Topic2\", \"Topic2\", \"Topic2\", \"Topic2\", \"Topic2\", \"Topic2\", \"Topic2\", \"Topic2\", \"Topic2\", \"Topic2\", \"Topic2\", \"Topic2\", \"Topic2\", \"Topic2\", \"Topic2\", \"Topic2\", \"Topic2\", \"Topic2\", \"Topic2\", \"Topic2\", \"Topic2\", \"Topic2\", \"Topic2\", \"Topic2\", \"Topic2\", \"Topic2\", \"Topic2\", \"Topic2\", \"Topic2\", \"Topic2\", \"Topic2\", \"Topic2\", \"Topic2\", \"Topic2\", \"Topic2\", \"Topic2\", \"Topic2\", \"Topic2\", \"Topic2\", \"Topic3\", \"Topic3\", \"Topic3\", \"Topic3\", \"Topic3\", \"Topic3\", \"Topic3\", \"Topic3\", \"Topic3\", \"Topic3\", \"Topic3\", \"Topic3\", \"Topic3\", \"Topic3\", \"Topic3\", \"Topic3\", \"Topic3\", \"Topic3\", \"Topic3\", \"Topic3\", \"Topic3\", \"Topic3\", \"Topic3\", \"Topic3\", \"Topic3\", \"Topic3\", \"Topic3\", \"Topic3\", \"Topic3\", \"Topic3\", \"Topic3\", \"Topic3\", \"Topic3\", \"Topic3\", \"Topic3\", \"Topic3\", \"Topic3\", \"Topic3\", \"Topic3\", \"Topic3\", \"Topic3\", \"Topic3\", \"Topic3\", \"Topic3\", \"Topic3\", \"Topic3\", \"Topic3\", \"Topic3\", \"Topic3\", \"Topic3\", \"Topic3\", \"Topic3\", \"Topic3\", \"Topic3\", \"Topic3\", \"Topic3\", \"Topic3\", \"Topic3\", \"Topic3\", \"Topic3\", \"Topic3\", \"Topic3\", \"Topic3\", \"Topic3\", \"Topic3\", \"Topic3\", \"Topic3\", \"Topic3\", \"Topic3\", \"Topic3\", \"Topic3\", \"Topic3\", \"Topic3\", \"Topic3\", \"Topic3\", \"Topic3\", \"Topic3\", \"Topic3\", \"Topic3\", \"Topic3\", \"Topic3\", \"Topic3\", \"Topic3\", \"Topic4\", \"Topic4\", \"Topic4\", \"Topic4\", \"Topic4\", \"Topic4\", \"Topic4\", \"Topic4\", \"Topic4\", \"Topic4\", \"Topic4\", \"Topic4\", \"Topic4\", \"Topic4\", \"Topic4\", \"Topic4\", \"Topic4\", \"Topic4\", \"Topic4\", \"Topic4\", \"Topic4\", \"Topic4\", \"Topic4\", \"Topic4\", \"Topic4\", \"Topic4\", \"Topic4\", \"Topic4\", \"Topic4\", \"Topic4\", \"Topic4\", \"Topic4\", \"Topic4\", \"Topic4\", \"Topic4\", \"Topic4\", \"Topic4\", \"Topic4\", \"Topic4\", \"Topic4\", \"Topic4\", \"Topic4\", \"Topic4\", \"Topic4\", \"Topic4\", \"Topic4\", \"Topic4\", \"Topic4\", \"Topic4\", \"Topic4\", \"Topic4\", \"Topic4\", \"Topic4\", \"Topic4\", \"Topic4\", \"Topic4\", \"Topic4\", \"Topic4\", \"Topic4\", \"Topic4\", \"Topic4\", \"Topic4\", \"Topic4\", \"Topic4\", \"Topic4\", \"Topic4\", \"Topic4\", \"Topic4\", \"Topic4\", \"Topic4\", \"Topic4\", \"Topic4\", \"Topic4\", \"Topic4\", \"Topic4\", \"Topic4\", \"Topic4\", \"Topic5\", \"Topic5\", \"Topic5\", \"Topic5\", \"Topic5\", \"Topic5\", \"Topic5\", \"Topic5\", \"Topic5\", \"Topic5\", \"Topic5\", \"Topic5\", \"Topic5\", \"Topic5\", \"Topic5\", \"Topic5\", \"Topic5\", \"Topic5\", \"Topic5\", \"Topic5\", \"Topic5\", \"Topic5\", \"Topic5\", \"Topic5\", \"Topic5\", \"Topic5\", \"Topic5\", \"Topic5\", \"Topic5\", \"Topic5\", \"Topic5\", \"Topic5\", \"Topic5\", \"Topic5\", \"Topic5\", \"Topic5\", \"Topic5\", \"Topic5\", \"Topic5\", \"Topic5\", \"Topic5\", \"Topic5\", \"Topic5\", \"Topic5\", \"Topic5\", \"Topic5\", \"Topic5\", \"Topic5\", \"Topic5\", \"Topic5\", \"Topic5\", \"Topic5\", \"Topic5\", \"Topic5\", \"Topic5\", \"Topic5\", \"Topic5\", \"Topic5\", \"Topic5\", \"Topic5\", \"Topic5\", \"Topic5\", \"Topic5\", \"Topic5\", \"Topic5\", \"Topic5\", \"Topic5\", \"Topic5\", \"Topic5\", \"Topic5\", \"Topic5\", \"Topic5\", \"Topic5\", \"Topic5\", \"Topic5\", \"Topic5\", \"Topic5\", \"Topic5\", \"Topic5\", \"Topic5\", \"Topic6\", \"Topic6\", \"Topic6\", \"Topic6\", \"Topic6\", \"Topic6\", \"Topic6\", \"Topic6\", \"Topic6\", \"Topic6\", \"Topic6\", \"Topic6\", \"Topic6\", \"Topic6\", \"Topic6\", \"Topic6\", \"Topic6\", \"Topic6\", \"Topic6\", \"Topic6\", \"Topic6\", \"Topic6\", \"Topic6\", \"Topic6\", \"Topic6\", \"Topic6\", \"Topic6\", \"Topic6\", \"Topic6\", \"Topic6\", \"Topic6\", \"Topic6\", \"Topic6\", \"Topic6\", \"Topic6\", \"Topic6\", \"Topic6\", \"Topic6\", \"Topic6\", \"Topic6\", \"Topic6\", \"Topic6\", \"Topic6\", \"Topic6\", \"Topic6\", \"Topic6\", \"Topic6\", \"Topic6\", \"Topic6\", \"Topic6\", \"Topic6\", \"Topic6\", \"Topic6\", \"Topic6\", \"Topic6\", \"Topic6\", \"Topic6\", \"Topic6\", \"Topic6\", \"Topic6\", \"Topic6\", \"Topic6\", \"Topic6\", \"Topic6\", \"Topic6\", \"Topic6\", \"Topic6\", \"Topic6\", \"Topic6\", \"Topic6\", \"Topic6\", \"Topic6\", \"Topic6\", \"Topic6\", \"Topic6\", \"Topic6\", \"Topic6\", \"Topic6\", \"Topic6\", \"Topic6\", \"Topic6\", \"Topic6\", \"Topic6\", \"Topic6\", \"Topic6\", \"Topic7\", \"Topic7\", \"Topic7\", \"Topic7\", \"Topic7\", \"Topic7\", \"Topic7\", \"Topic7\", \"Topic7\", \"Topic7\", \"Topic7\", \"Topic7\", \"Topic7\", \"Topic7\", \"Topic7\", \"Topic7\", \"Topic7\", \"Topic7\", \"Topic7\", \"Topic7\", \"Topic7\", \"Topic7\", \"Topic7\", \"Topic7\", \"Topic7\", \"Topic7\", \"Topic7\", \"Topic7\", \"Topic7\", \"Topic7\", \"Topic7\", \"Topic7\", \"Topic7\", \"Topic7\", \"Topic7\", \"Topic7\", \"Topic7\", \"Topic7\", \"Topic7\", \"Topic7\", \"Topic7\", \"Topic7\", \"Topic7\", \"Topic7\", \"Topic7\", \"Topic7\", \"Topic7\", \"Topic7\", \"Topic7\", \"Topic7\", \"Topic7\", \"Topic7\", \"Topic7\", \"Topic7\", \"Topic7\", \"Topic7\", \"Topic7\", \"Topic7\", \"Topic7\", \"Topic7\", \"Topic7\", \"Topic7\", \"Topic7\", \"Topic7\", \"Topic7\", \"Topic7\", \"Topic7\", \"Topic7\", \"Topic7\", \"Topic7\", \"Topic7\", \"Topic7\", \"Topic7\", \"Topic7\", \"Topic7\", \"Topic7\", \"Topic7\", \"Topic7\", \"Topic7\", \"Topic7\", \"Topic7\", \"Topic8\", \"Topic8\", \"Topic8\", \"Topic8\", \"Topic8\", \"Topic8\", \"Topic8\", \"Topic8\", \"Topic8\", \"Topic8\", \"Topic8\", \"Topic8\", \"Topic8\", \"Topic8\", \"Topic8\", \"Topic8\", \"Topic8\", \"Topic8\", \"Topic8\", \"Topic8\", \"Topic8\", \"Topic8\", \"Topic8\", \"Topic8\", \"Topic8\", \"Topic8\", \"Topic8\", \"Topic8\", \"Topic8\", \"Topic8\", \"Topic8\", \"Topic8\", \"Topic8\", \"Topic8\", \"Topic8\", \"Topic8\", \"Topic8\", \"Topic8\", \"Topic8\", \"Topic8\", \"Topic8\", \"Topic8\", \"Topic8\", \"Topic8\", \"Topic8\", \"Topic8\", \"Topic8\", \"Topic8\", \"Topic8\", \"Topic8\", \"Topic8\", \"Topic8\", \"Topic8\", \"Topic8\", \"Topic8\", \"Topic8\", \"Topic8\", \"Topic8\", \"Topic8\", \"Topic8\", \"Topic8\", \"Topic8\", \"Topic8\", \"Topic8\", \"Topic8\", \"Topic8\", \"Topic8\", \"Topic8\", \"Topic8\", \"Topic8\", \"Topic8\", \"Topic8\", \"Topic8\", \"Topic9\", \"Topic9\", \"Topic9\", \"Topic9\", \"Topic9\", \"Topic9\", \"Topic9\", \"Topic9\", \"Topic9\", \"Topic9\", \"Topic9\", \"Topic9\", \"Topic9\", \"Topic9\", \"Topic9\", \"Topic9\", \"Topic9\", \"Topic9\", \"Topic9\", \"Topic9\", \"Topic9\", \"Topic9\", \"Topic9\", \"Topic9\", \"Topic9\", \"Topic9\", \"Topic9\", \"Topic9\", \"Topic9\", \"Topic9\", \"Topic9\", \"Topic9\", \"Topic9\", \"Topic9\", \"Topic9\", \"Topic9\", \"Topic9\", \"Topic9\", \"Topic9\", \"Topic9\", \"Topic9\", \"Topic9\", \"Topic9\", \"Topic9\", \"Topic9\", \"Topic9\", \"Topic9\", \"Topic9\", \"Topic9\", \"Topic9\", \"Topic9\", \"Topic9\", \"Topic9\", \"Topic9\", \"Topic9\", \"Topic9\", \"Topic9\", \"Topic9\", \"Topic9\", \"Topic9\", \"Topic9\", \"Topic9\", \"Topic9\", \"Topic9\", \"Topic9\", \"Topic9\", \"Topic9\", \"Topic9\", \"Topic9\", \"Topic9\", \"Topic9\", \"Topic9\", \"Topic9\", \"Topic9\", \"Topic9\", \"Topic9\", \"Topic9\", \"Topic9\", \"Topic9\", \"Topic9\", \"Topic9\", \"Topic10\", \"Topic10\", \"Topic10\", \"Topic10\", \"Topic10\", \"Topic10\", \"Topic10\", \"Topic10\", \"Topic10\", \"Topic10\", \"Topic10\", \"Topic10\", \"Topic10\", \"Topic10\", \"Topic10\", \"Topic10\", \"Topic10\", \"Topic10\", \"Topic10\", \"Topic10\", \"Topic10\", \"Topic10\", \"Topic10\", \"Topic10\", \"Topic10\", \"Topic10\", \"Topic10\", \"Topic10\", \"Topic10\", \"Topic10\", \"Topic10\", \"Topic10\", \"Topic10\", \"Topic10\", \"Topic10\", \"Topic10\", \"Topic10\", \"Topic10\", \"Topic10\", \"Topic10\", \"Topic10\", \"Topic10\", \"Topic10\", \"Topic10\", \"Topic10\", \"Topic10\", \"Topic10\", \"Topic10\", \"Topic10\", \"Topic10\", \"Topic10\", \"Topic10\", \"Topic10\", \"Topic10\", \"Topic10\", \"Topic10\", \"Topic10\", \"Topic10\", \"Topic10\", \"Topic10\", \"Topic10\", \"Topic10\", \"Topic10\", \"Topic10\", \"Topic10\", \"Topic10\", \"Topic10\", \"Topic10\", \"Topic10\", \"Topic10\", \"Topic10\", \"Topic10\"], \"logprob\": [30.0, 29.0, 28.0, 27.0, 26.0, 25.0, 24.0, 23.0, 22.0, 21.0, 20.0, 19.0, 18.0, 17.0, 16.0, 15.0, 14.0, 13.0, 12.0, 11.0, 10.0, 9.0, 8.0, 7.0, 6.0, 5.0, 4.0, 3.0, 2.0, 1.0, -6.854, -6.9941, -7.6489, -7.5774, -7.8439, -7.0575, -7.2604, -7.8533, -8.0798, -7.3908, -8.0871, -6.1577, -7.0347, -7.8727, -7.8729, -7.233, -8.2377, -7.9867, -7.6982, -7.4127, -8.2433, -8.2493, -8.2494, -8.2521, -8.2529, -8.2533, -8.2541, -8.2556, -7.5656, -8.2572, -6.5997, -6.5215, -7.8062, -6.3889, -7.5003, -7.447, -5.6657, -7.6637, -5.9969, -7.478, -4.6659, -7.018, -5.8075, -6.9148, -7.2192, -6.0639, -5.4558, -7.136, -5.9235, -6.38, -6.9567, -4.9959, -6.4262, -6.7323, -3.9262, -6.8049, -5.2497, -5.2973, -5.2256, -6.6635, -5.306, -5.32, -4.8767, -5.599, -5.9736, -5.9729, -5.0926, -5.5582, -4.8219, -6.1202, -6.0638, -5.3874, -5.9042, -5.6824, -5.701, -5.7739, -5.7358, -5.8265, -5.9526, -5.9709, -5.9756, -7.1883, -6.7536, -7.4925, -7.269, -7.5864, -7.6847, -7.6854, -7.4229, -7.5909, -7.1005, -7.5967, -7.6941, -7.6953, -7.6006, -7.9225, -7.9272, -7.4416, -7.7059, -7.9313, -6.7137, -7.9356, -7.9366, -7.6216, -7.7169, -7.8221, -7.9426, -8.0776, -8.0816, -8.0823, -7.9516, -5.5483, -7.7293, -7.8393, -6.5591, -6.14, -7.4947, -6.4051, -6.863, -5.9633, -6.8652, -6.5871, -7.4356, -7.3176, -6.8985, -6.5267, -5.8739, -5.6929, -5.6971, -6.5468, -6.236, -5.8667, -6.1123, -6.3119, -6.7973, -5.4816, -6.6673, -4.3206, -6.5691, -4.6733, -5.1747, -5.4664, -5.5864, -5.2123, -5.914, -5.2085, -5.75, -5.8983, -6.2848, -5.6506, -6.1245, -5.8294, -5.9078, -6.0263, -6.0523, -5.9738, -6.0654, -6.0674, -6.1582, -6.158, -7.7883, -7.7897, -7.9179, -7.9249, -7.6089, -7.9278, -7.3044, -8.0679, -8.0748, -8.0731, -8.0738, -8.0733, -8.0762, -8.0763, -8.0762, -8.0769, -7.8286, -8.0785, -8.0836, -8.0842, -7.951, -8.088, -8.0849, -7.8381, -8.2485, -8.2489, -8.2515, -7.8492, -7.5602, -8.256, -7.3447, -7.2932, -7.9703, -6.3786, -7.44, -6.6021, -7.6085, -6.4547, -6.9788, -7.2318, -5.8394, -7.2348, -7.793, -5.1328, -5.8409, -7.5756, -7.183, -7.3881, -7.0087, -5.5381, -3.9218, -6.7407, -7.2033, -7.4133, -6.2434, -7.1365, -4.4596, -6.1691, -5.9505, -6.5698, -6.024, -5.5401, -5.402, -5.9401, -5.5755, -5.6891, -5.6816, -5.7421, -5.2648, -5.672, -6.0052, -5.3395, -5.84, -5.8068, -6.2984, -5.6342, -5.9527, -5.91, -5.9693, -6.0346, -6.0439, -6.0255, -6.077, -7.1624, -6.9812, -7.1004, -6.6195, -7.241, -7.4021, -7.4041, -7.4141, -7.6054, -7.6087, -7.6135, -7.6152, -7.8575, -7.9912, -7.8584, -7.7489, -7.8671, -8.0043, -8.0053, -8.0057, -8.1666, -8.1775, -8.0233, -8.026, -8.1809, -8.1816, -7.7789, -8.1895, -7.6784, -8.1915, -7.4998, -6.8472, -6.2433, -6.6935, -7.2431, -7.6111, -7.405, -7.4799, -6.4374, -7.1871, -6.8056, -6.2037, -6.2124, -6.3136, -6.9864, -7.2352, -5.247, -4.1628, -4.5766, -5.4788, -6.1231, -5.8554, -5.4798, -5.4159, -5.4948, -5.2418, -5.0714, -5.399, -5.1414, -6.2304, -5.6365, -5.7234, -6.6512, -5.7663, -5.8282, -6.4173, -5.9728, -5.9113, -5.9407, -6.1312, -6.0242, -6.0367, -6.0573, -6.0374, -6.117, -6.1414, -6.2049, -7.2189, -6.9779, -7.388, -7.6812, -7.6929, -7.5889, -7.6988, -7.8195, -7.5962, -7.7113, -7.9696, -7.9746, -8.1297, -7.9762, -7.9779, -7.9777, -8.1345, -8.1364, -7.9832, -8.139, -8.1417, -8.1432, -7.8561, -8.1464, -8.1495, -8.1525, -8.1547, -8.156, -8.1626, -8.3474, -8.0118, -6.9409, -6.2491, -6.8236, -7.5307, -7.4658, -7.2885, -6.424, -7.2819, -5.2315, -7.8128, -6.1384, -7.8274, -6.95, -7.6741, -5.8667, -6.5642, -6.0053, -6.8067, -6.3211, -5.9967, -5.776, -7.4687, -6.4789, -5.3031, -4.6024, -5.5231, -4.5001, -5.0084, -6.6342, -5.7859, -5.7265, -5.1694, -5.6723, -5.4337, -6.0765, -6.1963, -6.0458, -5.7926, -5.7452, -5.8221, -5.7931, -5.9582, -5.8962, -5.9491, -5.933, -6.028, -5.9901, -6.1127, -6.145, -6.1027, -6.99, -7.0604, -7.436, -7.6706, -7.4462, -7.8101, -7.6794, -7.8294, -7.988, -7.8361, -7.9934, -7.9956, -8.0015, -8.0025, -7.2271, -8.0034, -8.0044, -8.0063, -8.0064, -7.1596, -8.01, -7.8585, -8.0141, -8.0155, -8.2065, -8.2068, -8.2087, -8.21, -8.211, -7.4387, -7.6364, -8.0322, -8.0357, -7.1844, -6.2812, -6.987, -7.0615, -7.0571, -5.4301, -5.9858, -7.2776, -6.206, -7.5995, -6.9478, -6.4899, -6.4861, -7.6966, -5.5452, -6.9975, -6.1968, -5.7902, -6.1102, -6.3868, -5.5759, -6.2669, -4.9226, -6.2208, -6.0136, -5.0392, -4.8352, -5.5298, -6.3882, -5.6902, -5.6261, -6.2218, -6.0913, -6.2678, -5.7304, -5.9573, -4.9877, -5.8577, -5.7011, -5.889, -6.0198, -6.0303, -6.0791, -5.7919, -5.878, -5.8769, -5.9638, -6.0594, -6.0232, -6.0353, -6.0896, -6.7471, -6.8464, -7.4913, -7.6138, -6.6517, -7.6181, -7.5023, -6.657, -7.6311, -7.515, -7.6373, -7.6376, -7.7767, -7.7786, -7.7784, -7.7802, -7.9376, -7.7854, -7.649, -7.6551, -6.9023, -7.9481, -7.9517, -7.8006, -7.8015, -7.9576, -7.9594, -7.9597, -7.9635, -7.9646, -7.0687, -7.1377, -7.6889, -7.6892, -6.3843, -6.5469, -6.6455, -6.5071, -6.0224, -6.3229, -7.5143, -7.1611, -6.3589, -6.6583, -6.1001, -7.0314, -7.2826, -5.2365, -6.2599, -6.7775, -4.4774, -5.7107, -6.0529, -5.9876, -6.1351, -5.8581, -6.443, -5.5004, -4.9572, -6.1108, -5.1099, -5.8461, -5.9212, -4.8072, -6.2237, -6.0617, -5.7159, -5.8739, -5.829, -5.7528, -5.8235, -5.8631, -6.0059, -5.8867, -5.9361, -5.8921, -5.945, -6.0269, -6.019, -6.0579, -6.05, -6.9427, -6.9456, -6.9501, -7.0434, -7.1416, -7.2548, -7.0563, -7.2636, -7.2662, -7.1611, -7.076, -7.2774, -7.3974, -7.0788, -7.3996, -7.4004, -7.402, -7.5386, -7.5408, -7.5472, -7.5477, -7.7118, -7.4235, -7.7138, -7.7145, -7.7151, -7.7167, -7.7168, -7.7178, -7.7188, -7.431, -6.7972, -7.162, -6.7692, -7.3459, -7.3828, -7.4191, -5.705, -6.8673, -6.3347, -6.2347, -5.6943, -4.2856, -6.1398, -6.6434, -4.3195, -6.3179, -5.2952, -5.564, -5.2637, -5.2407, -5.4836, -5.9203, -5.8229, -6.2527, -5.6694, -5.7996, -5.5418, -5.6873, -6.2563, -5.9185, -5.8243, -5.8987, -5.8822, -5.7037, -5.979, -6.0838, -6.2621, -6.2356, -6.1276, -6.1368, -6.0749, -6.1987, -6.7116, -7.237, -7.0444, -7.0529, -7.3803, -7.5195, -7.5306, -7.5334, -7.5467, -7.7112, -7.5683, -7.9113, -7.5788, -7.58, -6.3978, -7.9276, -7.931, -7.9314, -7.5899, -7.1491, -7.9373, -7.9388, -6.8416, -7.9523, -7.4848, -7.9634, -7.9694, -8.1954, -8.1961, -8.1991, -7.9767, -6.3976, -7.6452, -7.5298, -7.2196, -7.0851, -6.8056, -6.5398, -7.3885, -6.5035, -6.4959, -6.1236, -6.6545, -6.6015, -6.622, -6.5402, -6.9482, -6.5148, -6.7008, -4.5307, -5.6602, -5.3552, -6.2093, -4.8965, -5.5081, -5.7266, -5.8566, -6.0203, -5.201, -5.3753, -5.6118, -4.9308, -5.5988, -5.8231, -5.967, -6.1846, -5.8511, -5.8433, -5.8876, -5.8676, -5.8226, -6.069, -6.0781, -5.9899, -6.2089, -5.9722, -6.0981, -6.0383, -6.0531, -6.0498, -6.1347, -6.4847, -6.1623, -6.9331, -7.0821, -6.7262, -6.7368, -6.9679, -6.8511, -6.8531, -7.2615, -6.2232, -7.1178, -7.4677, -7.2879, -7.4801, -7.4844, -7.3065, -7.4906, -7.4919, -7.4935, -7.4978, -7.5054, -6.9434, -7.7569, -7.7609, -7.7628, -7.7641, -7.5458, -7.7692, -7.7699, -6.5343, -7.0881, -6.2683, -6.3798, -5.9571, -7.2832, -6.7321, -7.0826, -6.8762, -6.5574, -6.3721, -6.6043, -4.8554, -6.3857, -7.0944, -4.3645, -6.2697, -5.7038, -5.1142, -5.0905, -6.1574, -5.5338, -5.0852, -6.0273, -5.6161, -6.0525, -6.2827, -5.8397, -5.7373, -6.2338, -6.0795, -5.9812, -5.9984, -6.3754, -6.0186, -6.0253, -6.1191, -6.1157, -6.1096, -6.1298, -6.2618, -6.2459], \"loglift\": [30.0, 29.0, 28.0, 27.0, 26.0, 25.0, 24.0, 23.0, 22.0, 21.0, 20.0, 19.0, 18.0, 17.0, 16.0, 15.0, 14.0, 13.0, 12.0, 11.0, 10.0, 9.0, 8.0, 7.0, 6.0, 5.0, 4.0, 3.0, 2.0, 1.0, 1.7533, 1.7377, 1.7344, 1.7266, 1.7233, 1.7208, 1.7188, 1.7145, 1.7119, 1.7066, 1.7055, 1.7042, 1.7013, 1.6969, 1.6969, 1.6937, 1.6899, 1.6899, 1.6897, 1.6868, 1.6849, 1.6792, 1.6789, 1.6768, 1.6761, 1.6759, 1.675, 1.6733, 1.6729, 1.6724, 1.6662, 1.6631, 1.6705, 1.6544, 1.6652, 1.6612, 1.6049, 1.6516, 1.5523, 1.6259, 1.3433, 1.5661, 1.3901, 1.5352, 1.5802, 1.3883, 1.2722, 1.5648, 1.2505, 1.3598, 1.4963, 0.9389, 1.3274, 1.4069, 0.3687, 1.4248, 0.7986, 0.7644, 0.7038, 1.3427, 0.6289, 0.6273, 0.2156, 0.6198, 0.8399, 0.8252, 0.0735, 0.4436, -0.2093, 0.8563, 0.8016, 0.0537, 0.5741, 0.2139, -0.034, 0.1137, 0.0223, 0.0699, 0.0891, 0.0125, -0.0698, 1.9811, 1.9667, 1.966, 1.9653, 1.9593, 1.9566, 1.9554, 1.9545, 1.9536, 1.9531, 1.9482, 1.9472, 1.9458, 1.9458, 1.9415, 1.9377, 1.9364, 1.936, 1.9339, 1.931, 1.9287, 1.9277, 1.9246, 1.9238, 1.923, 1.9216, 1.9207, 1.9166, 1.9161, 1.9157, 1.8922, 1.9125, 1.9108, 1.8561, 1.7768, 1.8846, 1.7791, 1.8206, 1.7174, 1.816, 1.7777, 1.8667, 1.8443, 1.7492, 1.6496, 1.4835, 1.4203, 1.41, 1.6096, 1.45, 1.274, 1.3346, 1.3913, 1.5999, 0.8506, 1.4429, -0.0257, 1.3432, -0.0606, 0.2664, 0.463, 0.4553, -0.0462, 0.676, -0.1162, 0.3291, 0.4983, 0.987, 0.0163, 0.6813, 0.0763, -0.1497, 0.1346, 0.1852, -0.0862, -0.082, -0.1711, 0.2339, -0.2617, 1.9615, 1.9587, 1.9484, 1.9397, 1.9396, 1.9386, 1.9335, 1.9333, 1.9278, 1.9275, 1.9266, 1.9255, 1.9248, 1.9243, 1.9237, 1.9235, 1.9226, 1.9216, 1.9168, 1.9167, 1.9162, 1.9157, 1.9157, 1.9123, 1.9068, 1.9043, 1.9041, 1.9012, 1.9007, 1.8999, 1.8928, 1.8786, 1.8973, 1.8253, 1.8674, 1.7326, 1.8554, 1.6636, 1.7477, 1.7725, 1.5221, 1.7696, 1.8639, 1.2639, 1.4215, 1.8068, 1.6708, 1.7274, 1.6058, 1.0574, 0.3731, 1.4223, 1.6067, 1.7004, 1.1307, 1.5569, 0.153, 1.0166, 0.863, 1.1614, 0.7489, 0.3947, 0.265, 0.6449, 0.3303, 0.3782, 0.3667, 0.3736, -0.0987, 0.2465, 0.5051, -0.2472, 0.1618, 0.0896, 0.7018, -0.1931, 0.2081, -0.0224, 0.015, 0.1308, 0.0058, -0.1291, -0.0936, 2.0804, 2.0792, 2.0772, 2.0732, 2.0703, 2.0644, 2.0621, 2.0514, 2.0435, 2.04, 2.0365, 2.0335, 2.0148, 2.0142, 2.0134, 2.0058, 2.0056, 2.0013, 2.001, 2.0005, 1.9943, 1.9838, 1.9832, 1.9807, 1.9796, 1.9794, 1.9746, 1.9708, 1.9698, 1.9694, 1.9683, 1.9251, 1.8851, 1.8897, 1.9224, 1.9465, 1.9071, 1.9058, 1.7122, 1.8279, 1.7037, 1.4936, 1.4788, 1.429, 1.6298, 1.7189, 0.7002, 0.1321, 0.0361, 0.5829, 0.9829, 0.726, 0.4165, 0.3422, 0.4016, 0.1993, 0.0209, 0.268, 0.0247, 0.9682, 0.2983, 0.2859, 1.2637, 0.1213, 0.1067, 0.9316, 0.1881, 0.073, -0.0222, 0.3471, -0.0224, -0.0533, -0.0155, -0.1316, -0.0496, 0.0961, 0.3851, 2.0882, 2.0749, 2.0739, 2.0677, 2.057, 2.0537, 2.0497, 2.0471, 2.0457, 2.0387, 2.031, 2.027, 2.0259, 2.0254, 2.0236, 2.0233, 2.021, 2.0191, 2.0187, 2.0165, 2.0142, 2.0122, 2.012, 2.0096, 2.007, 2.0041, 2.0014, 2.0, 1.993, 1.9914, 1.9894, 1.9586, 1.9334, 1.9108, 1.9321, 1.9177, 1.8841, 1.6949, 1.8359, 1.3801, 1.9442, 1.4747, 1.9216, 1.6035, 1.8672, 1.1936, 1.4386, 1.1836, 1.4672, 1.1988, 1.0305, 0.8987, 1.7674, 1.19, 0.455, 0.0102, 0.556, -0.2051, 0.0839, 1.2389, 0.541, 0.4923, -0.0033, 0.2625, 0.0074, 0.6381, 0.752, 0.5582, 0.2571, 0.1843, 0.2197, 0.1254, 0.3752, 0.0872, 0.1125, -0.0366, -0.0262, -0.3231, 0.003, 0.0159, 2.3044, 2.2644, 2.2637, 2.224, 2.2131, 2.2128, 2.2068, 2.2037, 2.1877, 2.183, 2.1806, 2.1777, 2.1766, 2.1712, 2.1691, 2.1686, 2.1681, 2.1676, 2.1648, 2.1642, 2.1628, 2.1608, 2.1578, 2.1569, 2.1564, 2.1468, 2.1467, 2.1446, 2.1435, 2.1425, 2.1238, 2.1288, 2.1385, 2.1356, 2.0672, 1.9351, 1.9751, 1.979, 1.9561, 1.5943, 1.6372, 1.9757, 1.6683, 2.0577, 1.8264, 1.6059, 1.5641, 2.0576, 1.0588, 1.7379, 1.3246, 1.0868, 1.2138, 1.3516, 0.8533, 1.2306, 0.2435, 1.1121, 0.9324, 0.0531, -0.2225, 0.3887, 1.178, 0.4706, 0.3582, 1.0107, 0.847, 1.0148, 0.3178, 0.6101, -0.6928, 0.4692, 0.1865, 0.3485, 0.5459, 0.5484, 0.5504, -0.3508, -0.12, -0.2099, 0.0196, 0.3327, 0.0265, -0.139, 0.2426, 2.2995, 2.2549, 2.2486, 2.2453, 2.2409, 2.2407, 2.2363, 2.236, 2.229, 2.2233, 2.2233, 2.2217, 2.2168, 2.214, 2.2138, 2.2124, 2.2096, 2.2078, 2.2072, 2.2046, 2.2025, 2.1992, 2.196, 2.1923, 2.1915, 2.1895, 2.1886, 2.188, 2.1837, 2.1828, 2.1621, 2.1612, 2.1706, 2.1701, 2.0585, 2.0348, 2.0458, 1.9697, 1.8826, 1.9098, 2.1225, 2.0047, 1.634, 1.7279, 1.4128, 1.8387, 1.9605, 0.8132, 1.369, 1.6718, 0.1352, 0.9527, 1.1796, 1.1256, 1.2061, 1.0025, 1.3978, 0.6153, 0.1351, 1.0299, 0.0562, 0.7578, 0.8282, -0.5122, 1.0806, 0.8153, 0.2314, 0.4595, 0.3364, 0.1348, 0.1783, 0.2042, 0.4233, 0.0319, 0.0473, -0.451, -0.278, -0.0427, -0.1132, 0.0211, -0.1536, 2.5648, 2.5622, 2.5581, 2.5488, 2.5473, 2.5388, 2.5376, 2.5297, 2.5277, 2.527, 2.517, 2.5143, 2.5137, 2.513, 2.5108, 2.5105, 2.5097, 2.5049, 2.5033, 2.4954, 2.4953, 2.4858, 2.4842, 2.4836, 2.4827, 2.4821, 2.4806, 2.4805, 2.4801, 2.4787, 2.4783, 2.4166, 2.4387, 2.3913, 2.4439, 2.4061, 2.369, 1.5955, 2.113, 1.8016, 1.6626, 1.2834, 0.327, 1.546, 1.8841, -0.0245, 1.6097, 0.6105, 0.8327, 0.4944, 0.2004, 0.4128, 0.8856, 0.762, 1.287, 0.4097, 0.5273, 0.1251, 0.2091, 1.1178, 0.511, 0.1591, 0.0856, 0.0054, -0.5376, 0.0627, 0.0816, 0.6405, 0.4568, 0.0332, -0.0695, -0.9826, 0.0387, 2.5914, 2.5752, 2.5671, 2.5563, 2.5483, 2.5422, 2.531, 2.5281, 2.5126, 2.5029, 2.4911, 2.4851, 2.4786, 2.4773, 2.4701, 2.4672, 2.4635, 2.4634, 2.4629, 2.4562, 2.4561, 2.4544, 2.4435, 2.4417, 2.4382, 2.4298, 2.4233, 2.4203, 2.4198, 2.4164, 2.4144, 2.3847, 2.4032, 2.3963, 2.3807, 2.3482, 2.2394, 2.1853, 2.3197, 2.0788, 2.057, 1.8792, 2.0271, 1.976, 1.9328, 1.8772, 2.0386, 1.7173, 1.8055, 0.082, 0.9514, 0.6945, 1.3743, 0.1958, 0.5709, 0.7877, 0.858, 0.9561, -0.0349, 0.0658, 0.3177, -0.6358, 0.2975, 0.3957, 0.618, 0.9214, 0.1506, 0.0531, 0.0967, 0.02, -0.1556, 0.5124, 0.4876, -0.0714, 0.8514, -0.2141, 0.3311, -0.0549, 0.0142, -0.1149, 0.1986, 3.108, 3.0776, 3.0592, 3.0417, 3.0402, 3.0292, 3.0194, 3.0182, 3.016, 3.0131, 3.0101, 3.0016, 2.9863, 2.9838, 2.9727, 2.9673, 2.9624, 2.9599, 2.9596, 2.958, 2.9522, 2.9437, 2.9186, 2.9126, 2.9085, 2.9059, 2.9044, 2.9, 2.899, 2.8981, 2.8779, 2.8838, 2.8336, 2.8191, 2.6368, 2.8171, 2.6641, 2.7621, 2.675, 2.5208, 2.388, 2.4628, 1.2603, 2.087, 2.6313, -0.0696, 1.7778, 1.0692, 0.0519, 0.0018, 1.4092, 0.372, -0.4725, 1.0807, 0.0509, 0.836, 1.3592, 0.1446, -0.2962, 1.1898, 0.613, 0.0022, 0.0434, 1.5393, -0.1001, -0.1289, 0.0462, -0.054, -0.222, -0.3717, 1.0209, -0.3496]}, \"token.table\": {\"Topic\": [4, 5, 6, 3, 6, 6, 3, 4, 8, 8, 8, 8, 8, 8, 8, 8, 3, 6, 4, 8, 10, 2, 9, 4, 5, 4, 3, 2, 2, 4, 5, 6, 8, 9, 10, 3, 3, 10, 9, 6, 8, 10, 2, 4, 7, 8, 10, 3, 8, 9, 9, 8, 6, 5, 4, 5, 9, 6, 4, 8, 8, 4, 4, 4, 5, 2, 8, 8, 5, 7, 3, 1, 1, 5, 9, 1, 8, 6, 4, 8, 9, 8, 2, 3, 6, 7, 3, 4, 8, 6, 8, 2, 3, 5, 3, 6, 5, 5, 1, 3, 4, 5, 6, 7, 9, 10, 1, 2, 3, 4, 6, 7, 9, 10, 9, 1, 3, 5, 6, 7, 9, 10, 3, 5, 7, 9, 3, 4, 5, 7, 9, 1, 2, 3, 4, 5, 6, 7, 8, 1, 2, 3, 4, 5, 6, 7, 8, 9, 10, 1, 2, 3, 4, 5, 6, 7, 8, 9, 10, 4, 6, 7, 10, 5, 9, 5, 7, 4, 3, 1, 5, 1, 2, 3, 4, 5, 6, 7, 1, 6, 1, 6, 7, 7, 1, 4, 7, 3, 4, 9, 1, 10, 1, 9, 6, 2, 2, 3, 6, 10, 7, 1, 4, 5, 8, 10, 6, 10, 3, 9, 2, 3, 6, 1, 8, 1, 2, 3, 5, 6, 7, 8, 3, 1, 2, 3, 4, 5, 6, 7, 8, 9, 10, 8, 5, 1, 2, 3, 4, 5, 6, 7, 8, 9, 10, 1, 5, 10, 2, 3, 4, 5, 7, 8, 9, 10, 1, 6, 1, 2, 3, 4, 5, 6, 7, 8, 9, 10, 1, 2, 3, 4, 5, 6, 7, 9, 10, 3, 5, 7, 4, 6, 10, 1, 2, 3, 4, 5, 6, 7, 9, 10, 1, 2, 3, 4, 5, 6, 7, 8, 9, 10, 6, 1, 2, 3, 4, 5, 6, 7, 9, 10, 5, 4, 1, 6, 7, 9, 10, 1, 2, 3, 4, 5, 6, 7, 8, 9, 10, 9, 1, 2, 3, 4, 5, 6, 7, 8, 9, 10, 1, 2, 3, 4, 7, 10, 1, 3, 4, 6, 9, 10, 1, 2, 3, 4, 5, 6, 7, 8, 9, 10, 4, 1, 3, 9, 2, 3, 1, 2, 3, 4, 5, 6, 7, 8, 9, 10, 2, 3, 1, 2, 3, 4, 5, 6, 7, 8, 9, 10, 2, 1, 2, 3, 4, 5, 6, 7, 8, 9, 10, 1, 2, 1, 2, 3, 4, 5, 6, 7, 8, 9, 10, 1, 4, 5, 9, 4, 1, 1, 2, 3, 4, 5, 7, 2, 5, 1, 2, 7, 9, 1, 2, 3, 4, 5, 6, 7, 8, 9, 10, 2, 3, 4, 1, 2, 3, 4, 5, 6, 7, 8, 9, 10, 2, 4, 5, 6, 10, 2, 3, 5, 6, 7, 8, 9, 1, 2, 3, 4, 5, 6, 7, 8, 9, 10, 1, 2, 3, 4, 5, 6, 7, 8, 9, 10, 1, 3, 4, 7, 9, 9, 1, 2, 3, 6, 7, 1, 2, 3, 4, 5, 6, 7, 9, 1, 2, 3, 4, 5, 6, 7, 8, 9, 10, 3, 7, 4, 6, 7, 10, 2, 1, 2, 3, 4, 5, 6, 7, 8, 9, 10, 7, 7, 5, 2, 3, 6, 7, 8, 9, 10, 1, 2, 3, 4, 5, 6, 7, 8, 9, 10, 5, 10, 4, 10, 2, 3, 6, 7, 10, 1, 2, 3, 4, 5, 6, 7, 8, 9, 10, 1, 5, 9, 1, 2, 4, 5, 6, 8, 5, 1, 2, 3, 4, 5, 6, 7, 8, 9, 10, 1, 1, 2, 3, 4, 5, 6, 7, 9, 10, 1, 3, 4, 5, 7, 8, 9, 10, 10, 4, 5, 7, 1, 2, 3, 4, 5, 6, 7, 8, 9, 10, 1, 2, 3, 4, 5, 6, 7, 8, 5, 1, 3, 4, 5, 7, 9, 1, 3, 4, 7, 8, 9, 1, 2, 3, 4, 5, 6, 7, 8, 9, 10, 1, 2, 3, 4, 5, 6, 7, 8, 9, 10, 3, 9, 1, 9, 10, 1, 2, 3, 4, 5, 6, 7, 8, 9, 10, 2, 3, 4, 6, 7, 8, 9, 1, 4, 1, 2, 3, 4, 5, 6, 7, 8, 9, 10, 7, 3, 5, 6, 7, 8, 6, 1, 3, 4, 5, 7, 8, 9, 1, 4, 5, 7, 8, 9, 1, 2, 3, 4, 5, 6, 7, 8, 9, 10, 1, 2, 3, 4, 5, 6, 7, 8, 9, 10, 4, 1, 7, 9, 6, 5, 1, 2, 3, 5, 6, 7, 8, 9, 6, 1, 9, 9, 1, 1, 1, 6, 7, 9, 10, 7, 4, 1, 9, 4, 2, 3, 5, 6, 7, 9, 2, 4, 7, 10, 1, 2, 3, 5, 6, 7, 8, 9, 10, 7, 4, 5, 8, 4, 5, 7, 9, 1, 2, 3, 4, 5, 6, 7, 8, 9, 10, 5, 1, 2, 3, 4, 5, 6, 7, 8, 9, 10, 2, 6, 1, 2, 3, 4, 5, 7, 10, 3, 4, 5, 8, 5, 9, 4, 5, 8, 1, 9, 8, 10, 7, 1, 2, 3, 4, 5, 6, 7, 8, 9, 10, 7, 2, 9, 7, 2, 1, 2, 3, 3, 4, 10, 6, 9, 10, 5, 1, 4, 5, 6, 8, 10, 3, 1, 1, 1, 2, 1, 2, 3, 4, 5, 6, 7, 8, 9, 10, 4, 6, 2, 8, 9, 1, 2, 3, 4, 5, 6, 7, 8, 9, 1, 2, 3, 4, 5, 6, 8, 9, 10, 1, 4, 5, 8, 9, 1, 2, 3, 2, 2, 5, 6, 7, 9, 10, 5, 10, 1, 2, 3, 4, 5, 6, 7, 8, 9, 10, 3, 1, 2, 3, 4, 5, 6, 7, 8, 9, 10, 1, 2, 3, 4, 5, 6, 7, 8, 9, 10, 6, 5, 2, 3, 5, 1, 2, 3, 4, 5, 6, 7, 8, 9, 10, 1, 2, 3, 4, 5, 6, 7, 8, 9, 10, 1, 2, 3, 4, 5, 6, 7, 8, 9, 10, 7, 1, 2, 4, 5, 6, 7, 9, 1, 2, 3, 4, 5, 6, 7, 8, 9, 2, 3, 2, 3, 4, 5, 6, 7, 8, 10, 1, 2, 5, 7, 4, 6, 8, 8, 10, 9, 1, 2, 3, 4, 5, 6, 7, 8, 9, 10, 2, 3, 7, 1, 2, 3, 4, 5, 6, 7, 8, 9, 10, 8, 1, 7, 7, 1, 2, 3, 5, 6, 7, 8, 3, 1, 2, 5, 6, 7, 9, 10, 7, 1, 2, 3, 4, 5, 6, 7, 8, 9, 10, 7, 1, 2, 3, 4, 5, 6, 7, 8, 9, 10, 1, 3, 10, 8, 1, 2, 3, 4, 5, 6, 7, 8, 9, 10, 6, 1, 2, 3, 4, 5, 6, 7, 8, 9, 10, 2, 1, 1, 2, 3, 4, 5, 6, 7, 8, 9, 5, 10, 1, 2, 3, 4, 5, 6, 7, 8, 1, 2, 5, 1, 3, 4, 5, 8, 6, 1, 6, 7, 8, 1, 2, 3, 4, 5, 6, 7, 8, 9, 10, 1, 2, 3, 4, 5, 6, 7, 8, 9, 10, 1, 2, 3, 4, 5, 6, 7, 8, 9, 10, 1, 1, 3, 9, 8, 9, 4, 6, 2, 3, 6, 8, 3, 4, 5, 6, 9, 2, 3, 7, 4, 1, 2, 3, 7, 9, 10, 10, 3, 4, 7, 9, 10, 3, 4, 8, 9, 10, 1, 2, 3, 4, 5, 7, 9, 10, 8, 6, 2, 7, 1, 2, 3, 4, 5, 6, 7, 8, 9, 1, 2, 6, 7, 9, 8, 9, 2, 3, 4, 6, 1, 2, 3, 4, 5, 6, 7, 8, 9, 10, 6, 10, 5, 5, 6, 7, 1, 8, 2, 7, 1, 2, 3, 5, 8, 9, 1, 2, 3, 4, 5, 6, 8, 9, 1, 2, 1, 2, 3, 4, 5, 6, 7, 8, 1, 2, 3, 4, 5, 6, 8, 9, 1, 2, 3, 4, 6, 5, 7, 9, 7, 1, 6, 1, 2, 4, 5, 7, 10, 1, 2, 3, 4, 5, 6, 7, 8, 9, 10, 3, 4, 5, 6, 7, 8, 9, 10, 5, 1, 2, 3, 4, 6, 8, 9, 4, 6, 1, 2, 3, 4, 5, 6, 7, 8, 9, 10, 1, 2, 3, 4, 5, 6, 7, 9, 10, 6, 7, 2, 1, 2, 3, 4, 5, 6, 7, 8, 9, 10, 5, 6, 1, 2, 3, 4, 5, 6, 7, 8, 9, 10, 1, 2, 3, 4, 5, 6, 7, 8, 9, 10, 4, 1, 2, 3, 4, 5, 6, 7, 8, 9, 10, 1, 2, 3, 4, 5, 6, 7, 8, 9, 10, 1, 2, 3, 4, 5, 6, 7, 8, 9, 10, 4, 8, 1, 2, 3, 4, 5, 6, 7, 8, 9, 10, 1, 2, 3, 4, 5, 6, 7, 8, 9, 10, 4, 5, 9, 1, 2, 3, 4, 5, 6, 7, 8, 9, 10, 1, 3, 4, 5, 2, 3, 5, 6, 10, 1, 2, 3, 4, 5, 6, 7, 8, 9, 10, 1, 3, 1, 2, 3, 4, 5, 6, 7, 8, 9, 10, 5, 1, 2, 3, 4, 5, 6, 7, 8, 9, 10, 1, 2, 3, 4, 5, 6, 7, 8, 9, 10, 9, 4, 7, 8, 9, 1, 2, 3, 4, 5, 6, 7, 8, 9, 10, 1, 2, 3, 4, 5, 6, 7, 8, 9, 10, 1, 2, 6, 7, 1, 2, 3, 5, 6, 8, 9, 1, 2, 3, 4, 5, 6, 8, 9, 10, 3, 4, 2, 4, 6, 4, 10, 2, 1, 2, 3, 4, 5, 6, 7, 8, 9, 1, 2, 3, 4, 5, 6, 8, 9, 10, 5, 10, 1, 2, 4, 5, 9, 1, 4, 5, 1, 2, 3, 4, 5, 6, 7, 8, 9, 10, 1, 2, 3, 4, 5, 6, 7, 8, 9, 10, 1, 2, 3, 4, 5, 6, 7, 8, 9, 10, 1, 2, 3, 4, 6, 8, 9, 4, 1, 7, 8, 2, 5, 9, 1, 2, 3, 4, 5, 6, 7, 8, 9, 10, 1, 2, 3, 4, 5, 6, 7, 8, 9, 10, 1, 2, 3, 4, 5, 6, 7, 10, 1, 3, 10, 1, 2, 4, 5, 6, 7, 9, 1, 2, 3, 4, 5, 6, 7, 8, 9, 10, 1, 2, 3, 4, 5, 6, 2, 9, 2, 10, 2, 5, 10, 6, 6, 2, 10, 3, 4, 9, 3, 4, 4, 5, 7, 9, 1, 2, 3, 4, 5, 6, 7, 8, 9, 10, 10, 4, 7, 5, 6, 10, 1, 2, 3, 4, 5, 6, 7, 8, 9, 10, 1, 2, 3, 4, 5, 7, 9, 1, 2, 3, 4, 5, 6, 7, 8, 9, 10, 7, 7, 1, 2, 3, 4, 5, 6, 7, 8, 9, 10, 1, 2, 3, 4, 5, 6, 7, 8, 9, 10, 2, 5, 7, 10, 2, 3, 1, 2, 3, 4, 5, 6, 7, 8, 10, 1, 2, 3, 4, 5, 6, 7, 8, 9, 10, 1, 2, 3, 4, 5, 6, 7, 8, 9, 10, 1, 2, 3, 4, 5, 6, 7, 8, 9, 10, 1, 2, 3, 4, 5, 6, 7, 8, 9, 10, 9, 1, 6, 1, 2, 3, 4, 5, 6, 7, 8, 9, 5, 7, 1, 2, 3, 4, 5, 6, 7, 8, 9, 10, 2, 9, 3, 5, 6, 3, 2, 3, 4, 7, 8, 1, 2, 3, 4, 5, 6, 7, 8, 9, 10, 9, 1, 2, 3, 4, 5, 6, 7, 8, 9, 10, 3, 4, 3, 1, 2, 7, 2, 3, 5, 6, 8, 3, 1, 2, 6, 7, 8, 10, 1, 3, 8, 6, 3, 1, 4, 8, 9, 3, 3, 1, 2, 3, 6, 7, 1, 2, 3, 4, 5, 6, 7, 8, 9, 10, 10, 8, 6, 1, 2, 3, 9, 1, 2, 3, 4, 5, 6, 7, 8, 9, 10, 3, 1, 2, 3, 4, 5, 6, 7, 8, 9, 10, 1, 2, 3, 4, 5, 6, 7, 8, 9, 10, 2, 4, 7, 10, 5, 7, 10, 2, 1, 2, 3, 4, 5, 6, 7, 9, 8, 3, 10, 4, 1, 2, 4, 5, 7, 8, 9, 1, 2, 3, 4, 5, 6, 7, 8, 9, 10, 1, 2, 5, 9, 1, 4, 5, 7, 1, 2, 3, 4, 5, 7, 9, 1, 2, 3, 4, 5, 6, 7, 8, 4, 6, 1, 2, 3, 4, 5, 6, 7, 8, 9, 10, 2, 3, 4, 2, 6, 7, 1, 3, 1, 7, 10, 3, 5, 10, 9, 8, 2, 6, 7, 8, 2, 3, 6, 9, 5, 7, 8, 1, 2, 3, 4, 5, 6, 7, 8, 9, 10, 5, 4, 5, 6, 9, 10, 6, 1, 2, 3, 6, 9, 1, 2, 3, 4, 5, 6, 7, 8, 9, 10, 2, 9, 2, 5, 6, 7, 2, 4, 2, 3, 5, 5, 7, 3, 2, 3, 5, 6, 4, 6, 10, 1, 2, 3, 4, 5, 6, 7, 8, 9, 10, 5, 3, 1, 2, 3, 4, 5, 6, 8, 9, 3, 4, 6, 2, 5, 7, 2, 4, 6, 10, 2, 1, 2, 3, 4, 5, 9, 7, 1, 3, 4, 2, 6, 1, 2, 3, 4, 5, 6, 7, 8, 9, 10, 1, 2, 3, 4, 5, 6, 7, 8, 9, 10], \"Freq\": [0.0863693467900761, 0.7773241211106849, 0.0863693467900761, 0.8212206438034049, 0.0746564221639459, 0.7601340571504109, 0.23084353334499608, 0.11542176667249804, 0.5771088333624902, 0.9110203034863641, 0.7795409290684734, 0.7795312053015211, 0.7795941319245379, 0.8354905607904378, 0.8766304646627996, 0.9112973144646714, 0.8029280722555718, 0.9108911621594236, 0.12943169659880027, 0.7765901795928015, 0.6241705515427052, 0.8945785227675382, 0.792709682917269, 0.9019036446380839, 0.8952542559684972, 0.9377307988821538, 0.8725668991088422, 0.8380216676127678, 0.41752008397967094, 0.11929145256562028, 0.21870099637030382, 0.019881908760936713, 0.019881908760936713, 0.019881908760936713, 0.1789371788484304, 0.7478574352460818, 0.7474373504631346, 0.7527712935645182, 0.8507733327879404, 0.7592460874344964, 0.7779644495691505, 0.7937823171378701, 0.1124343646432227, 0.6183890055377249, 0.16865154696483406, 0.05621718232161135, 0.8516158446450319, 0.798986202241796, 0.14859389950296908, 0.7429694975148454, 0.847138028298875, 0.9092942818576634, 0.8133633983452002, 0.7480237467336925, 0.7516061042253378, 0.8010627684197436, 0.7122615906371479, 0.9113286122982113, 0.9007623029219607, 0.878254549428908, 0.9376433047528517, 0.8048968503046452, 0.9007209615395395, 0.9009214608492132, 0.894605937156457, 0.8381109842373053, 0.878788029305992, 0.7796405047474448, 0.7475175692655196, 0.7415138901379248, 0.8006921634874696, 0.9101485950312523, 0.062043376767996504, 0.8686072747519511, 0.8470701370585846, 0.8936409433868843, 0.8527093089103499, 0.9112659774883335, 0.0690948223304759, 0.7600430456352348, 0.1381896446609518, 0.9107441182197267, 0.15254344599299116, 0.6610215993029617, 0.050847815330997054, 0.10169563066199411, 0.8003747393292565, 0.10635730490614988, 0.850858439249199, 0.9111474412597318, 0.8804469443241879, 0.13988124659212867, 0.06994062329606433, 0.6994062329606434, 0.8148663670942582, 0.8952423496709068, 0.8406463157251511, 0.8014592694976196, 0.01968975402222488, 0.07875901608889951, 0.03937950804444976, 0.07875901608889951, 0.07875901608889951, 0.6103823746889713, 0.059069262066674635, 0.03937950804444976, 0.3167022337176231, 0.18335392478388707, 0.06667415446686803, 0.016668538616717007, 0.36670784956777414, 0.016668538616717007, 0.016668538616717007, 0.016668538616717007, 0.8507405827364161, 0.03393157123679646, 0.06786314247359292, 0.27145256989437166, 0.03393157123679646, 0.5089735685519469, 0.10179471371038938, 0.75480775843443, 0.7267230005306134, 0.1321314546419297, 0.06606572732096486, 0.06606572732096486, 0.2325602848141336, 0.03876004746902227, 0.1162801424070668, 0.03876004746902227, 0.5426406645663118, 0.37400175727407825, 0.18220598431301246, 0.3452323913299184, 0.019179577296106576, 0.03835915459221315, 0.019179577296106576, 0.009589788648053288, 0.009589788648053288, 0.3811879074808848, 0.015558690101260604, 0.16336624606323635, 0.03889672525315151, 0.09335214060756362, 0.03889672525315151, 0.015558690101260604, 0.07779345050630301, 0.17114559111386665, 0.015558690101260604, 0.10098162427565857, 0.13287055825744548, 0.35609309612995393, 0.11692609126655203, 0.07440751262416948, 0.0531482233029782, 0.0265741116514891, 0.07440751262416948, 0.03720375631208474, 0.0265741116514891, 0.876240784210525, 0.7868171772927691, 0.08742413081030768, 0.8421504462462265, 0.7478917905653399, 0.7112668160302181, 0.7475655996416535, 0.834143806138157, 0.9003565026360242, 0.8398247415599217, 0.8773971059699825, 0.8400455861918329, 0.2817417634057332, 0.0939139211352444, 0.08049764668735233, 0.02683254889578411, 0.0939139211352444, 0.34882313564519346, 0.05366509779156822, 0.9039795780800796, 0.04519897890400398, 0.8959618819284956, 0.0471558885225524, 0.9269266225821327, 0.8337165460415531, 0.8939725869861079, 0.8448010905281256, 0.7946901977454767, 0.8000262802810699, 0.8451798524257937, 0.7111640996532601, 0.8525416066554877, 0.06558012358888367, 0.8067287497193274, 0.08067287497193275, 0.7594793065367508, 0.913378656705149, 0.8584409414462212, 0.06128456370799678, 0.6741302007879646, 0.18385369112399033, 0.8339600962316386, 0.07758873248787568, 0.7758873248787568, 0.03879436624393784, 0.03879436624393784, 0.03879436624393784, 0.139360843523041, 0.6968042176152051, 0.748685358480028, 0.0935856698100035, 0.08626645944251199, 0.7763981349826079, 0.08626645944251199, 0.8941006941828196, 0.7799979838708371, 0.026879489321782725, 0.08063846796534817, 0.05375897864356545, 0.026879489321782725, 0.6451077437227853, 0.1075179572871309, 0.026879489321782725, 0.8002456120532139, 0.13771436520224684, 0.07783855424474821, 0.07783855424474821, 0.12573920301074712, 0.2095653383512452, 0.05987581095749863, 0.0658633920532485, 0.08382613534049808, 0.15567710848949642, 0.0059875810957498625, 0.7794609083596082, 0.8708814395777422, 0.2094625216961884, 0.06347349142308739, 0.2602413148346583, 0.06982084056539613, 0.06347349142308739, 0.044431443996161175, 0.10155758627693982, 0.03808409485385243, 0.031736745711543696, 0.1142522845615573, 0.8333702093866732, 0.06944751744888943, 0.8866318353471648, 0.17896404748946906, 0.09942447082748282, 0.3976978833099313, 0.01988489416549656, 0.09942447082748282, 0.11930936499297938, 0.05965468249648969, 0.01988489416549656, 0.900195030736608, 0.0450097515368304, 0.1331052910916298, 0.08873686072775319, 0.11535791894607916, 0.11535791894607916, 0.10648423287330384, 0.12423160501885448, 0.07986317465497787, 0.07986317465497787, 0.03549474429110128, 0.11535791894607916, 0.019071596582278333, 0.038143193164556666, 0.13350117607594833, 0.26700235215189666, 0.38143193164556666, 0.038143193164556666, 0.038143193164556666, 0.038143193164556666, 0.019071596582278333, 0.06946616535239113, 0.2083984960571734, 0.6946616535239113, 0.08124360980811395, 0.8124360980811395, 0.6240145475371432, 0.22128789007578564, 0.038484850447962723, 0.07696970089592545, 0.16356061440384156, 0.36560607925564587, 0.019242425223981362, 0.0481060630599534, 0.0481060630599534, 0.019242425223981362, 0.21674314983359044, 0.049073920717039345, 0.1308637885787716, 0.11041632161333852, 0.1635797357234645, 0.028626453751606284, 0.14722176215111804, 0.03680544053777951, 0.08178986786173224, 0.0327159471446929, 0.9100394625588057, 0.04540944938650463, 0.11352362346626158, 0.09081889877300926, 0.04540944938650463, 0.1589330728527662, 0.06811417407975694, 0.18163779754601853, 0.04540944938650463, 0.22704724693252315, 0.7483619012472319, 0.8838085367800924, 0.07505134959456458, 0.15010269918912916, 0.6754621463510813, 0.07505134959456458, 0.07505134959456458, 0.18068792567056952, 0.11522128593485592, 0.120458617113713, 0.1309332794714272, 0.06284797414628504, 0.11260262034542737, 0.10474662357714175, 0.06808530532514213, 0.06808530532514213, 0.03142398707314252, 0.8506094203639873, 0.1215775691552529, 0.2484411195781255, 0.10043364408477413, 0.16915140056383013, 0.11100560662001352, 0.08986168154953476, 0.03700186887333784, 0.03171588760571815, 0.0634317752114363, 0.02642990633809846, 0.4177513989920935, 0.04516231340455065, 0.07903404845796363, 0.29355503712957925, 0.12419636186251429, 0.022581156702275326, 0.6470225033420388, 0.04977096179554145, 0.12442740448885363, 0.04977096179554145, 0.04977096179554145, 0.04977096179554145, 0.11506775830103992, 0.18410841328166389, 0.07479404289567596, 0.1668482495365079, 0.2761626199224958, 0.05178049123546796, 0.05178049123546796, 0.034520327490311975, 0.02876693957525998, 0.017260163745155988, 0.9375150817600223, 0.8943468691670239, 0.21454513662675379, 0.7509079781936382, 0.8378580244901471, 0.8002354909303973, 0.28838533275312783, 0.06618679768104573, 0.10400782492735756, 0.16073936579682535, 0.07091442608683471, 0.028365770434733883, 0.0992801965215686, 0.08509731130420164, 0.07091442608683471, 0.018910513623155923, 0.859996199026681, 0.08599961990266809, 0.07871595876309999, 0.24926720274981662, 0.1836705704472333, 0.06559663230258332, 0.04591764261180833, 0.07871595876309999, 0.05903696907232499, 0.1639915807564583, 0.052477305842066654, 0.019678989690774997, 0.840558585553017, 0.23327340964188242, 0.1230277571398969, 0.17948205262400543, 0.1310165725385915, 0.09053990785187217, 0.047400304698921314, 0.055389120097615915, 0.06710604934903466, 0.035683375447502566, 0.036748550833995176, 0.044495108826098625, 0.8899021765219726, 0.17047906741312954, 0.06049257230788468, 0.10448717034998263, 0.14848176839208058, 0.09898784559472039, 0.1649797426578673, 0.07699054657367141, 0.038495273286835704, 0.10448717034998263, 0.03299594853157346, 0.1323298797318924, 0.24995643949357452, 0.4852095590169388, 0.11762655976168213, 0.8443906348004125, 0.9339357602031907, 0.7586457659245293, 0.013793559380445986, 0.12414203442401388, 0.013793559380445986, 0.06896779690222993, 0.013793559380445986, 0.8379584342655048, 0.8800951741993757, 0.45143676794558635, 0.021496988949789825, 0.47293375689537615, 0.021496988949789825, 0.04987497662636075, 0.21374989982726034, 0.0641249699481781, 0.15674992653999092, 0.17812491652271695, 0.07124996660908678, 0.042749979965452066, 0.03562498330454339, 0.08549995993090413, 0.09262495659181282, 0.08003604959076925, 0.8003604959076925, 0.08003604959076925, 0.13774558581819196, 0.0945312843850337, 0.15935273653477108, 0.11343754126204043, 0.1269420104599024, 0.14044647965776436, 0.0945312843850337, 0.03511161991444109, 0.062120558310165004, 0.03511161991444109, 0.7985677288540678, 0.06363703562499662, 0.3181851781249831, 0.06363703562499662, 0.509096284999973, 0.05464850243564726, 0.05464850243564726, 0.02732425121782363, 0.10929700487129453, 0.6284577780099435, 0.05464850243564726, 0.05464850243564726, 0.3019889380621027, 0.07961526548909979, 0.09334203540101356, 0.12903163717198932, 0.14550376106628585, 0.06863384955956879, 0.04941637168288953, 0.04667101770050678, 0.06039778761242054, 0.024708185841444765, 0.17106571091707218, 0.06250477898893021, 0.18093488654690326, 0.032897252099436954, 0.11185065713808565, 0.05921505377898652, 0.17106571091707218, 0.032897252099436954, 0.03947670251932434, 0.1381684588176352, 0.04477147605547219, 0.716343616887555, 0.04477147605547219, 0.13431442816641656, 0.04477147605547219, 0.876522691288341, 0.8039200949577603, 0.07308364499616002, 0.08352416570989717, 0.010440520713737146, 0.010440520713737146, 0.031099118074898787, 0.015549559037449394, 0.015549559037449394, 0.13994603133704456, 0.37318941689878543, 0.015549559037449394, 0.3265407397864373, 0.07774779518724698, 0.033839405643951985, 0.06767881128790397, 0.033839405643951985, 0.08459851410987997, 0.36377361067248387, 0.10151821693185596, 0.10997806834284396, 0.033839405643951985, 0.16073717680877195, 0.008459851410987996, 0.8387129033625903, 0.06989274194688253, 0.7789832208325317, 0.08655369120361464, 0.08655369120361464, 0.753979417782744, 0.867839217420138, 0.4117797481165548, 0.046668371453209546, 0.18392828749206117, 0.1537311059635138, 0.02196158656621626, 0.0768655529817569, 0.035687578170101424, 0.04941356977398658, 0.008235594962331097, 0.01098079328310813, 0.741821536839386, 0.8620467619319913, 0.7479847139279342, 0.09260454348093103, 0.09260454348093103, 0.09260454348093103, 0.18520908696186206, 0.046302271740465514, 0.09260454348093103, 0.41672044566418964, 0.1300468655190317, 0.15234061389372283, 0.1300468655190317, 0.1263312407899165, 0.11518436660257092, 0.13376249024814688, 0.0891749934987646, 0.07059686985318864, 0.03715624729115191, 0.018578123645575956, 0.7479901658825681, 0.7520321590129563, 0.27393381560691804, 0.6848345390172951, 0.7549416013143266, 0.07809740703251655, 0.0520649380216777, 0.07809740703251655, 0.02603246901083885, 0.04092347620728523, 0.09821634289748454, 0.18824799055351205, 0.04092347620728523, 0.3110184191753677, 0.04092347620728523, 0.0900316476560275, 0.1064010381389416, 0.06547756193165637, 0.024554085724371136, 0.0934903294700966, 0.7479226357607728, 0.0934903294700966, 0.04516961843914732, 0.09033923687829463, 0.09033923687829463, 0.13550885531744195, 0.5420354212697678, 0.04516961843914732, 0.8007194470949691, 0.06791194133113442, 0.06036617007211948, 0.1735527389573435, 0.01509154251802987, 0.15091542518029868, 0.24146468028847792, 0.15846119643931364, 0.007545771259014935, 0.05282039881310455, 0.06791194133113442, 0.8323305702073296, 0.09182678931625919, 0.021606303368531574, 0.03781103089493025, 0.1566456994218539, 0.44292921905489724, 0.005401575842132893, 0.03781103089493025, 0.1728504269482526, 0.027007879210664467, 0.28453686567704456, 0.016737462686884974, 0.48538641791966425, 0.08368731343442487, 0.03347492537376995, 0.016737462686884974, 0.0669498507475399, 0.016737462686884974, 0.789848138508155, 0.07413463307988752, 0.07413463307988752, 0.8154809638787627, 0.13006526839273097, 0.24567884029738074, 0.10838772366060916, 0.07948433068444671, 0.0722584824404061, 0.04335508946424366, 0.06503263419636549, 0.13006526839273097, 0.08671017892848731, 0.03612924122020305, 0.13884118002490498, 0.47602690294253136, 0.05950336286781642, 0.09917227144636069, 0.07933781715708856, 0.03966890857854428, 0.01983445428927214, 0.05950336286781642, 0.8011481387904217, 0.02598725421746908, 0.02598725421746908, 0.05197450843493816, 0.7796176265240723, 0.05197450843493816, 0.02598725421746908, 0.0771454706599404, 0.1542909413198808, 0.0771454706599404, 0.11571820598991059, 0.0771454706599404, 0.5014455592896125, 0.17171638921041066, 0.10567162412948349, 0.10831341473272056, 0.17171638921041066, 0.10831341473272056, 0.06340297447769008, 0.07925371809711261, 0.08453729930358679, 0.07132834628740135, 0.03434327784208213, 0.08566499812138689, 0.08566499812138689, 0.11421999749518252, 0.08566499812138689, 0.15705249655587597, 0.07138749843448908, 0.08566499812138689, 0.014277499686897815, 0.2712724940510585, 0.042832499060693446, 0.8397287650669162, 0.9281385743184019, 0.07826672152064014, 0.7826672152064014, 0.8372901923392997, 0.007789571309640326, 0.23368713928920978, 0.07789571309640327, 0.19473928274100816, 0.023368713928920978, 0.06231657047712261, 0.10126442702532423, 0.24926628190849043, 0.031158285238561303, 0.015579142619280652, 0.24003672909828178, 0.018464363776790907, 0.07385745510716363, 0.11078618266074544, 0.36928727553581814, 0.14771491021432726, 0.036928727553581814, 0.13889181970805808, 0.7639050083943195, 0.1756828906602807, 0.10540973439616841, 0.19325117972630876, 0.09369754168548304, 0.12297802346219648, 0.06441705990876959, 0.04099267448739883, 0.1112658307515111, 0.02342438542137076, 0.07027315626411228, 0.7940120435269952, 0.0697589638880877, 0.10463844583213154, 0.1395179277761754, 0.6627101569368331, 0.03487948194404385, 0.8135955975889506, 0.05461147318293259, 0.05461147318293259, 0.027305736591466297, 0.21844589273173037, 0.19114015614026408, 0.08191720977439888, 0.38228031228052817, 0.03592275154439332, 0.03592275154439332, 0.07184550308878664, 0.35922751544393317, 0.07184550308878664, 0.39515026698832645, 0.1666218488199079, 0.08821156702230418, 0.1225160653087558, 0.09311220963465441, 0.10291349485935489, 0.07350963918525348, 0.09311220963465441, 0.06860899657290326, 0.14701927837050696, 0.04410578351115209, 0.013100392478294831, 0.1310039247829483, 0.06550196239147416, 0.052401569913179326, 0.1310039247829483, 0.32750981195737083, 0.11790353230465349, 0.013100392478294831, 0.11790353230465349, 0.039301177434884496, 0.7513060909411556, 0.8941371544443415, 0.7944653557153806, 0.7117312543869775, 0.9108527477218981, 0.8011456593703615, 0.09263418943679033, 0.19684765255317946, 0.3821160314267601, 0.03473782103879638, 0.05789636839799396, 0.011579273679598791, 0.20842692623277825, 0.8678452795387376, 0.8130176019203237, 0.7705304026824817, 0.1444744505029653, 0.8488726330901928, 0.8941591200442764, 0.9498144848731954, 0.05168322476055481, 0.05168322476055481, 0.5685154723661029, 0.25841612380277407, 0.05168322476055481, 0.9249412911288949, 0.938061775542747, 0.16791407137645178, 0.6716562855058071, 0.9138056482470098, 0.38840672693583156, 0.014938720266762752, 0.029877440533525503, 0.13444848240086477, 0.3585292864023061, 0.059754881067051006, 0.03921167312121537, 0.1176350193636461, 0.2352700387272922, 0.5489634236970151, 0.020140203669886024, 0.14098142568920216, 0.10070101834943011, 0.20140203669886023, 0.020140203669886024, 0.04028040733977205, 0.3423834623880624, 0.10070101834943011, 0.020140203669886024, 0.8342562974849902, 0.07288910066437501, 0.07288910066437501, 0.8017801073081251, 0.05808640747544685, 0.3485184448526811, 0.05808640747544685, 0.5227776672790216, 0.027504898555757263, 0.449246676410702, 0.06417809663010028, 0.055009797111514526, 0.009168299518585754, 0.055009797111514526, 0.2567123865204011, 0.055009797111514526, 0.009168299518585754, 0.009168299518585754, 0.7484558756292192, 0.20076528998856308, 0.09774099644180045, 0.13472407617653576, 0.17434880446375214, 0.05019132249714077, 0.08189110512691389, 0.0396247282872164, 0.10302429354676264, 0.08981605078435717, 0.029058134077292026, 0.8941332850718002, 0.759373872033253, 0.18016040583692636, 0.036032081167385266, 0.036032081167385266, 0.6485774610129349, 0.036032081167385266, 0.036032081167385266, 0.036032081167385266, 0.024618900927384824, 0.7631859287489295, 0.024618900927384824, 0.14771340556430892, 0.7527678402015474, 0.1254613067002579, 0.7169240774267711, 0.0597436731188976, 0.17923101935669278, 0.9093238496681039, 0.8433248891292489, 0.7511892183609188, 0.10731274548013126, 0.8334684581744833, 0.13098451198437655, 0.11854464213111172, 0.1441561388878334, 0.11927639918130377, 0.11269058572957534, 0.07537097616978092, 0.10610477227784691, 0.09586017357515825, 0.07244394796901273, 0.02487973970652962, 0.7413416655306282, 0.8939139939449355, 0.865870828795113, 0.7414075354636609, 0.8940934244631434, 0.04125305381432899, 0.8663141301009087, 0.04125305381432899, 0.36084602525737236, 0.6014100420956207, 0.9053428062546123, 0.1194829364355328, 0.7168976186131969, 0.1194829364355328, 0.8711939811624673, 0.7152147794254092, 0.0340578466393052, 0.1362313865572208, 0.0340578466393052, 0.0340578466393052, 0.7210607973381417, 0.8719445714098347, 0.9262032633250995, 0.8322529235963667, 0.8451241019173852, 0.06500954630133732, 0.04339752513945182, 0.17359010055780727, 0.1487915147638348, 0.05579681803643805, 0.12399292896986233, 0.16119080766082103, 0.21078797924876597, 0.024798585793972466, 0.0371978786909587, 0.012399292896986233, 0.8043873392569629, 0.8539927542549459, 0.1295444563547778, 0.7772667381286669, 0.893788477998424, 0.045548266402150685, 0.5579662634263459, 0.2391283986112911, 0.045548266402150685, 0.034161199801613015, 0.011387066600537671, 0.022774133201075342, 0.034161199801613015, 0.022774133201075342, 0.0781579738036727, 0.019539493450918176, 0.03907898690183635, 0.058618480352754535, 0.019539493450918176, 0.23447392141101814, 0.3712503755674454, 0.13677645415642725, 0.019539493450918176, 0.11297493650009248, 0.037658312166697495, 0.5648746825004624, 0.07531662433339499, 0.18829156083348747, 0.9222679681697485, 0.7986461891746862, 0.8708177571529421, 0.913031691473192, 0.11389657009789764, 0.484060422916065, 0.02847414252447441, 0.17084485514684647, 0.08542242757342323, 0.08542242757342323, 0.747558666305509, 0.75385017500184, 0.04459689641767292, 0.5173239984450059, 0.008919379283534585, 0.008919379283534585, 0.01783875856706917, 0.07135503426827668, 0.2854201370731067, 0.026758137850603752, 0.008919379283534585, 0.01783875856706917, 0.8006529840680119, 0.13071109558856842, 0.29409996507427894, 0.06535554779428421, 0.08169443474285526, 0.08577915647999802, 0.11845693037714013, 0.09394859995428355, 0.024508330422856578, 0.0776097130057125, 0.024508330422856578, 0.09860533222691198, 0.04930266611345599, 0.05634590412966398, 0.07747561817828798, 0.07747561817828798, 0.2817295206483199, 0.21129714048623993, 0.04225942809724799, 0.07747561817828798, 0.02817295206483199, 0.7600617673179201, 0.9345500025632187, 0.19467155218256424, 0.6326825445933337, 0.14600366413692317, 0.3767689021496834, 0.013219961478936261, 0.2908391525365977, 0.1784694799656395, 0.03965988443680878, 0.04626986517627691, 0.0066099807394681305, 0.013219961478936261, 0.026439922957872522, 0.013219961478936261, 0.35979048209958686, 0.07687830814093737, 0.17835767488697468, 0.07072804348966237, 0.04612698488456242, 0.12915555767677478, 0.05227724953583741, 0.030751323256374946, 0.03997672023328743, 0.015375661628187473, 0.36204748588647573, 0.08354941981995594, 0.10443677477494492, 0.1601363879882489, 0.11139922642660792, 0.020887354954988984, 0.04177470990997797, 0.03481225825831497, 0.01392490330332599, 0.06266206486496695, 0.8622709170689528, 0.01573398955367103, 0.7080295299151964, 0.03146797910734206, 0.09440393732202619, 0.09440393732202619, 0.047201968661013095, 0.01573398955367103, 0.09751864903811794, 0.5141892403828037, 0.05319199038442796, 0.07092265384590396, 0.08865331730737994, 0.04432665865368997, 0.008865331730737995, 0.07092265384590396, 0.05319199038442796, 0.09331809067688554, 0.8398628160919699, 0.24316341754974047, 0.03473763107853435, 0.10421289323560305, 0.03473763107853435, 0.1389505243141374, 0.0694752621570687, 0.0694752621570687, 0.31263867970680914, 0.04278541640372163, 0.7701374952669894, 0.04278541640372163, 0.08557083280744326, 0.9090165917703705, 0.043286504370017645, 0.8347994598764236, 0.877604351934507, 0.7538824140711968, 0.7096662653129397, 0.2635678452416716, 0.09302394537941351, 0.02067198786209189, 0.06718396055179865, 0.12919992413807432, 0.17571189682778107, 0.08268795144836756, 0.062015963586275674, 0.07751995448284459, 0.025839984827614862, 0.7720512358781604, 0.08578347065312893, 0.08578347065312893, 0.04226699139035979, 0.05283373923794974, 0.06340048708553969, 0.010566747847589947, 0.11623422632348943, 0.2641686961897487, 0.15850121771384923, 0.04226699139035979, 0.1373677220186693, 0.10566747847589948, 0.8780853078529768, 0.8928796528683322, 0.7417884738803286, 0.7420177898354938, 0.05096479956060019, 0.20385919824240076, 0.5096479956060019, 0.05096479956060019, 0.025482399780300095, 0.025482399780300095, 0.10192959912120038, 0.8001701862607508, 0.1274248439502859, 0.09556863296271442, 0.03185621098757147, 0.09556863296271442, 0.5096993758011436, 0.03185621098757147, 0.06371242197514294, 0.8349555868559513, 0.16509471307737159, 0.08254735653868579, 0.09802498588968937, 0.08254735653868579, 0.07738814675501793, 0.16509471307737159, 0.12382103480802868, 0.056751307620346476, 0.1083434054570251, 0.041273678269342896, 0.7942641967905685, 0.11713702322571212, 0.15618269763428283, 0.2049897906449962, 0.09273347672035542, 0.09761418602142677, 0.08297205811821275, 0.06832993021499874, 0.08297205811821275, 0.07809134881714141, 0.019522837204285354, 0.215427825522222, 0.07180927517407401, 0.6462834765666661, 0.8512804687567755, 0.1656404612046237, 0.10812641217524047, 0.04831180118468191, 0.16103933728227304, 0.174842709049325, 0.08282023060231185, 0.06211517295173388, 0.11272753609759112, 0.055213487068207896, 0.027606743534103948, 0.7596861849310069, 0.015900040565823833, 0.09540024339494299, 0.22260056792153365, 0.5088012981063627, 0.06360016226329533, 0.031800081131647666, 0.015900040565823833, 0.015900040565823833, 0.015900040565823833, 0.031800081131647666, 0.9064052561767508, 0.9346182062671159, 0.09912133219749787, 0.1872291830397182, 0.022026962710555084, 0.05506740677638771, 0.14317525761860803, 0.3193909593030487, 0.05506740677638771, 0.04405392542111017, 0.06608088813166525, 0.1777590975997464, 0.7110363903989856, 0.6092406323286511, 0.05077005269405426, 0.06769340359207235, 0.15231015808216278, 0.016923350898018087, 0.05077005269405426, 0.033846701796036174, 0.033846701796036174, 0.13840527804011965, 0.8304316682407179, 0.06920263902005983, 0.7470770003870646, 0.0339580454721393, 0.1018741364164179, 0.0679160909442786, 0.0339580454721393, 0.7596784885000206, 0.07569118912983089, 0.7569118912983088, 0.07569118912983089, 0.07569118912983089, 0.08603911203123127, 0.14454570821246854, 0.15142883717496702, 0.13766257924997002, 0.11357162788122528, 0.15142883717496702, 0.06538972514373577, 0.07227285410623427, 0.04818190273748951, 0.027532515849994006, 0.1642741375910735, 0.11528009655513931, 0.11239809414126083, 0.10951609172738234, 0.12104410138289627, 0.09510607965798992, 0.0979880820718684, 0.08069606758859751, 0.06340405310532662, 0.04034803379429876, 0.16203086893050667, 0.04050771723262667, 0.1035197218167126, 0.10802057928700445, 0.09901886434642075, 0.22054201604430076, 0.1395265815790474, 0.022504287351459262, 0.0945180068761289, 0.004500857470291852, 0.9140483567904806, 0.8751643237705722, 0.05469777023566076, 0.7134606816870792, 0.7797581334794632, 0.8488037272631788, 0.8459152353691688, 0.09399058170768541, 0.11821493655516509, 0.7092896193309904, 0.059107468277582544, 0.059107468277582544, 0.025145518328654946, 0.6286379582163737, 0.025145518328654946, 0.2514551832865495, 0.05029103665730989, 0.7963188610250997, 0.07963188610250997, 0.07963188610250997, 0.8051611624853433, 0.13413023997651086, 0.13413023997651086, 0.04471007999217028, 0.04471007999217028, 0.5812310398982137, 0.04471007999217028, 0.8420809378247041, 0.30109508918959876, 0.037636886148699845, 0.037636886148699845, 0.5269164060817978, 0.037636886148699845, 0.3016602009563202, 0.11312257535862007, 0.03770752511954002, 0.45249030143448027, 0.07541505023908004, 0.11198150134746816, 0.015997357335352593, 0.19196828802423113, 0.511915434731283, 0.04799207200605778, 0.031994714670705186, 0.06398942934141037, 0.015997357335352593, 0.7794713250987615, 0.7599406260661513, 0.9308233764101999, 0.7940598787542889, 0.17487421446425105, 0.03886093654761135, 0.02914570241070851, 0.30117225824398797, 0.1845894486011539, 0.03886093654761135, 0.1554437461904454, 0.019430468273805675, 0.03886093654761135, 0.1365917771024026, 0.04553059236746754, 0.4553059236746754, 0.31871414657227276, 0.02276529618373377, 0.8798769418039507, 0.8883454478138105, 0.040026812591248184, 0.6004021888687228, 0.2001340629562409, 0.08005362518249637, 0.17719568218828105, 0.19858136796962533, 0.09776313500043093, 0.11303862484424826, 0.137479408594356, 0.06415705734403279, 0.045826469531452, 0.0733223512503232, 0.04888156750021547, 0.04277137156268853, 0.7590784754198914, 0.6243734124742013, 0.8004425191318283, 0.12649971566040122, 0.7589982939624074, 0.7937423813270056, 0.8933847516513053, 0.819801641252639, 0.0793590508347334, 0.7935905083473339, 0.11008085449468312, 0.2568553271542606, 0.03669361816489437, 0.07338723632978875, 0.4403234179787325, 0.03669361816489437, 0.1776366415451319, 0.122979213377399, 0.13664357041933223, 0.1776366415451319, 0.06832178520966611, 0.04099307112579967, 0.245958426754798, 0.04099307112579967, 0.893543973203247, 0.7984999075022219, 0.1581749578578264, 0.5377948567166098, 0.0790874789289132, 0.06326998314313056, 0.01581749578578264, 0.06326998314313056, 0.03163499157156528, 0.047452487357347924, 0.09669014523889503, 0.5317957988139227, 0.1692077541680663, 0.02417253630972376, 0.12086268154861879, 0.02417253630972376, 0.02417253630972376, 0.02417253630972376, 0.05309720617339215, 0.026548603086696074, 0.7699094895141863, 0.1061944123467843, 0.026548603086696074, 0.07747319255995569, 0.6972587330396012, 0.15494638511991138, 0.8313714677810546, 0.8964844828988935, 0.07470704024157446, 0.2682119195301789, 0.04876580355094162, 0.02438290177547081, 0.6095725443867703, 0.02438290177547081, 0.02438290177547081, 0.08038163124503403, 0.053587754163356024, 0.13396938540839007, 0.10717550832671205, 0.37511427914349216, 0.026793877081678012, 0.09377856978587304, 0.013396938540839006, 0.09377856978587304, 0.026793877081678012, 0.03818587152765624, 0.01909293576382812, 0.01909293576382812, 0.4964163298595311, 0.22911522916593743, 0.01909293576382812, 0.11455761458296872, 0.05727880729148436, 0.8721145159004533, 0.6100306417681511, 0.10893404317288413, 0.04357361726915365, 0.10893404317288413, 0.04357361726915365, 0.021786808634576826, 0.04357361726915365, 0.8049760059393948, 0.7592874313105559, 0.04288285843022298, 0.02680178651888936, 0.06968464494911233, 0.02680178651888936, 0.19297286293600338, 0.27337822249267146, 0.19833322023978125, 0.02144142921511149, 0.10184678877177956, 0.048243215734000845, 0.01403044182430881, 0.04209132547292643, 0.09821309277016167, 0.09821309277016167, 0.09821309277016167, 0.3086697201347938, 0.21045662736463217, 0.08418265094585287, 0.04209132547292643, 0.9433810168319837, 0.8339331857125922, 0.9148298062747654, 0.18322646562761957, 0.11062730000158162, 0.14174122812702647, 0.08988468125128507, 0.10371309375148277, 0.0795133718761368, 0.12791281562682877, 0.07605626875108737, 0.044942340625642535, 0.04148523750059311, 0.1135535852724338, 0.7948750969070365, 0.12398248212937095, 0.053135349484016124, 0.08855891580669353, 0.3099562053234274, 0.035423566322677416, 0.017711783161338708, 0.07970302422602418, 0.07970302422602418, 0.16826194003271772, 0.035423566322677416, 0.05024958758218349, 0.05024958758218349, 0.030149752549310092, 0.04019967006574679, 0.07034942261505688, 0.2612978554273541, 0.30149752549310094, 0.010049917516436697, 0.13064892771367706, 0.05024958758218349, 0.8053002273973886, 0.28679062329595384, 0.007966406202665385, 0.24695859228262693, 0.08763046822931923, 0.11152968683731539, 0.01593281240533077, 0.12746249924264616, 0.05576484341865769, 0.03186562481066154, 0.01593281240533077, 0.14150228212360047, 0.07337155369371876, 0.14150228212360047, 0.23583713687266744, 0.08385320422139286, 0.09433485474906697, 0.07337155369371876, 0.02620412631918527, 0.11005733054057813, 0.015722475791511162, 0.34593740799079614, 0.04363174515199231, 0.10284625642969615, 0.2056925128593923, 0.1246621290056923, 0.012466212900569231, 0.07168072417827308, 0.024932425801138462, 0.031165532251423076, 0.03739863870170769, 0.8223492176369978, 0.10279365220462472, 0.0946724828499891, 0.07889373570832425, 0.23668120712497276, 0.1367491418944287, 0.0841533180888792, 0.03681707666388465, 0.0525958238055495, 0.1472683066555386, 0.1262299771333188, 0.0105191647611099, 0.026606575230961316, 0.06651643807740329, 0.05321315046192263, 0.07981972569288395, 0.10642630092384527, 0.13303287615480658, 0.3857953408489391, 0.013303287615480658, 0.07981972569288395, 0.05321315046192263, 0.09076622628078305, 0.09076622628078305, 0.7261298102462644, 0.6180926525061143, 0.03548857334963336, 0.06801976558679727, 0.15378381784841122, 0.00887214333740834, 0.032531192237163914, 0.011829524449877785, 0.02661643001222502, 0.04140333557457225, 0.0029573811124694463, 0.7765718646932784, 0.11648577970399177, 0.03882859323466392, 0.03882859323466392, 0.9140953968416641, 0.17000993533604167, 0.11333995689069445, 0.6800397413441667, 0.8396980811101483, 0.1218918380362999, 0.09345040916116325, 0.1218918380362999, 0.09345040916116325, 0.19096387959020317, 0.15033326691143653, 0.06094591901814995, 0.11782877676842322, 0.036567551410889965, 0.012189183803629988, 0.9082311029613677, 0.06487365021152626, 0.23527120448045885, 0.0560169534477283, 0.0560169534477283, 0.044813562758182636, 0.08962712551636527, 0.0560169534477283, 0.3136949393072785, 0.022406781379091318, 0.07842373482681962, 0.044813562758182636, 0.8979829079071798, 0.14999137235109636, 0.10095573139016101, 0.12691577660477385, 0.12403132713648353, 0.0807645851121288, 0.13556912500964477, 0.08941793351699975, 0.07499568617554818, 0.07499568617554818, 0.04615119149264503, 0.16843427926856508, 0.05614475975618836, 0.15439808932951798, 0.12632570945142382, 0.09825332957332963, 0.12632570945142382, 0.05614475975618836, 0.01403618993904709, 0.02807237987809418, 0.16843427926856508, 0.8885366431796656, 0.047339645163622886, 0.09467929032724577, 0.09467929032724577, 0.7100946774543433, 0.01035475797592396, 0.22780467547032715, 0.507383140820274, 0.01035475797592396, 0.04141903190369584, 0.02070951595184792, 0.01035475797592396, 0.13461185368701148, 0.02070951595184792, 0.02070951595184792, 0.1194514228040151, 0.07394611887867601, 0.11376325981334771, 0.03412897794400432, 0.11376325981334771, 0.15358040074801943, 0.2389028456080302, 0.03412897794400432, 0.09101060785067817, 0.022752651962669544, 0.3574037637344403, 0.11913458791148011, 0.47653835164592045, 0.023826917582296023, 0.28962224954562527, 0.49879387421746574, 0.04827037492427088, 0.06436049989902784, 0.01609012497475696, 0.04827037492427088, 0.01609012497475696, 0.12108005308756757, 0.12108005308756757, 0.045405019907837844, 0.18162007963135138, 0.09081003981567569, 0.09081003981567569, 0.10594504645162163, 0.09081003981567569, 0.15135006635945947, 0.1125386951035509, 0.7877708657248562, 0.23856412003131647, 0.05964103000782912, 0.6560513300861203, 0.8042591501542475, 0.7596505852584166, 0.8947027157573975, 0.022867605488091386, 0.21724225213686818, 0.5716901372022847, 0.022867605488091386, 0.04573521097618277, 0.022867605488091386, 0.011433802744045693, 0.06860281646427416, 0.011433802744045693, 0.06441518371793185, 0.6119442453203526, 0.03220759185896593, 0.03220759185896593, 0.09662277557689779, 0.03220759185896593, 0.03220759185896593, 0.03220759185896593, 0.06441518371793185, 0.17686155569130618, 0.7074462227652247, 0.8675087904801136, 0.10313702058967233, 0.05156851029483617, 0.05156851029483617, 0.7735276544225426, 0.10112310070653696, 0.10112310070653696, 0.7078617049457587, 0.3249412588811591, 0.19933371343129927, 0.0873791620520764, 0.084648563237949, 0.133799341892242, 0.0218447905130191, 0.032767185769528646, 0.01092239525650955, 0.09284035968033116, 0.01092239525650955, 0.2990380928035924, 0.12399140433319686, 0.1021105682743974, 0.05470209014699861, 0.1823403004899954, 0.07293612019599816, 0.040114866107798984, 0.01823403004899954, 0.0984637622645975, 0.0036468060097999077, 0.5764884018352645, 0.036409793800121965, 0.04854639173349596, 0.036409793800121965, 0.14563917520048786, 0.030341494833434974, 0.04854639173349596, 0.030341494833434974, 0.02427319586674798, 0.030341494833434974, 0.6510369259312001, 0.07511964529975386, 0.06259970441646154, 0.12519940883292308, 0.02503988176658462, 0.03755982264987693, 0.02503988176658462, 0.7517629331919321, 0.8365036630965113, 0.11304103555358261, 0.8350497481328617, 0.18470341948860952, 0.12313561299240636, 0.6156780649620317, 0.07610927949984321, 0.17441709885380738, 0.07610927949984321, 0.07610927949984321, 0.19344441872876816, 0.07610927949984321, 0.09513659937480402, 0.10465025931228442, 0.11733513922892495, 0.009513659937480401, 0.16913123635977562, 0.16045783962337687, 0.14311104615057937, 0.08239726899578813, 0.11709085594138313, 0.13010095104598127, 0.03903028531379438, 0.06938717389119001, 0.0520403804183925, 0.034693586945595004, 0.032648410078701985, 0.12243153779513244, 0.13059364031480794, 0.06529682015740397, 0.15507994787383442, 0.4652398436215033, 0.016324205039350993, 0.008162102519675496, 0.0629442605387455, 0.37766556323247297, 0.44060982377121843, 0.012373665634809648, 0.841409263167056, 0.012373665634809648, 0.012373665634809648, 0.012373665634809648, 0.09898932507847719, 0.012373665634809648, 0.15541674585570586, 0.12811380401619, 0.161717424741748, 0.15121629326501113, 0.07980859922320031, 0.07560814663250556, 0.06930746774646343, 0.07770837292785293, 0.05670610997437917, 0.04200452590694753, 0.03279682929560078, 0.8199207323900195, 0.03279682929560078, 0.03279682929560078, 0.03279682929560078, 0.03279682929560078, 0.8936640770188409, 0.710806983247807, 0.07480968454264274, 0.8229065299690702, 0.19550237007480434, 0.06516745669160144, 0.6516745669160144, 0.911315683784094, 0.7590768827728586, 0.893606537391138, 0.7531341277682395, 0.6579824406065675, 0.29243664026958555, 0.02436972002246546, 0.6959224168754168, 0.2420599710871015, 0.04512303571425604, 0.7670916071423528, 0.04512303571425604, 0.13536910714276815, 0.16611810959275708, 0.11283494236489161, 0.1817896293656587, 0.10970063841031129, 0.09089481468282935, 0.07835759886450806, 0.11283494236489161, 0.06582038304618677, 0.0689546870007671, 0.018805823727481935, 0.8422900194076466, 0.7511389270841219, 0.9118116374509689, 0.174949768281017, 0.174949768281017, 0.5248493048430509, 0.03309636741032685, 0.03309636741032685, 0.3971564089239222, 0.04964455111549027, 0.09928910223098054, 0.04964455111549027, 0.04964455111549027, 0.03309636741032685, 0.23167457187228793, 0.03309636741032685, 0.04280342685608915, 0.0856068537121783, 0.0856068537121783, 0.0856068537121783, 0.04280342685608915, 0.12841028056826745, 0.5136411222730698, 0.17309141644116294, 0.12090944530816529, 0.11200032828545838, 0.1183639833016776, 0.11072759728221453, 0.12090944530816529, 0.09800028724977608, 0.040727392103803044, 0.06490928116543611, 0.04200012310704689, 0.9267246511835799, 0.7942516064917146, 0.3710121195731483, 0.14970664474004228, 0.019526953661744645, 0.13017969107829763, 0.03905390732348929, 0.110652737416553, 0.10414375286263812, 0.02603593821565953, 0.03254492276957441, 0.019526953661744645, 0.052419520777594986, 0.15725856233278496, 0.09735053858696212, 0.07488502968227856, 0.1722355682692407, 0.2171665860786078, 0.0673965267140507, 0.07488502968227856, 0.059908023745822846, 0.029954011872911423, 0.12160149838084647, 0.12160149838084647, 0.12160149838084647, 0.6080074919042324, 0.26377882638423455, 0.6594470659605864, 0.6342739081507327, 0.0166914186355456, 0.0667656745421824, 0.0667656745421824, 0.0333828372710912, 0.083457093177728, 0.0333828372710912, 0.0333828372710912, 0.0166914186355456, 0.16203658074491006, 0.09931274303720294, 0.0784047971346339, 0.15158260779362553, 0.1045397295128452, 0.16203658074491006, 0.1045397295128452, 0.04181589180513808, 0.07317781065899163, 0.02090794590256904, 0.149335424211433, 0.13600190419255506, 0.1733357602454133, 0.1013347521434724, 0.06666760009438974, 0.07200100810194092, 0.08266782411704326, 0.12800179218122829, 0.03466715204908266, 0.05866748808306296, 0.08320171524796416, 0.06051033836215575, 0.04538275377161681, 0.15883963820065883, 0.23447756115335353, 0.06807413065742522, 0.12858446901958095, 0.04538275377161681, 0.10589309213377256, 0.06807413065742522, 0.30299062701765006, 0.04447568836956331, 0.09451083778532203, 0.23071763341710969, 0.07505272412363809, 0.030577035754074777, 0.11674868197010368, 0.03335676627717248, 0.047255418892661015, 0.025017574707879364, 0.7120890213668201, 0.12511302494247523, 0.7506781496548515, 0.01581392337990034, 0.06325569351960136, 0.25302277407840545, 0.1581392337990034, 0.04744177013970102, 0.06325569351960136, 0.04744177013970102, 0.3162784675980068, 0.01581392337990034, 0.05285984997416612, 0.845757599586658, 0.18707377369946335, 0.05542926628132247, 0.20785974855495926, 0.04157194971099185, 0.048500607996157165, 0.04157194971099185, 0.24943169826595113, 0.04157194971099185, 0.09007255770714902, 0.04157194971099185, 0.10781628784440564, 0.7547140149108394, 0.8008596280486472, 0.8412253270807021, 0.7605471048827978, 0.7998220513426159, 0.12994182575604377, 0.6063951868615376, 0.04331394191868125, 0.04331394191868125, 0.12994182575604377, 0.07472456045590391, 0.4732555495540581, 0.07472456045590391, 0.08717865386522122, 0.049816373637269276, 0.037362280227951954, 0.049816373637269276, 0.09963274727453855, 0.024908186818634638, 0.024908186818634638, 0.711103762654172, 0.17091223594139007, 0.16420979531623753, 0.10221221953357641, 0.14075125312820358, 0.11226588047130524, 0.06702440625152552, 0.05864635547008483, 0.0837805078144069, 0.07205123672038993, 0.030160982813186483, 0.8209902690636508, 0.07463547900578645, 0.8409155601696909, 0.7854607292397782, 0.043636707179987674, 0.13091012153996304, 0.07581392078484472, 0.07581392078484472, 0.07581392078484472, 0.6823252870636025, 0.07581392078484472, 0.8003911934951179, 0.09392387752267613, 0.1408858162840142, 0.5635432651360568, 0.046961938761338064, 0.09392387752267613, 0.6249670291533911, 0.8593817295350555, 0.10416748236788552, 0.02604187059197138, 0.9111385731693328, 0.8405600605682759, 0.8473945758422544, 0.05649297172281696, 0.02824648586140848, 0.05649297172281696, 0.7459210839015724, 0.8382835807977669, 0.025318587053647406, 0.6329646763411851, 0.025318587053647406, 0.05063717410729481, 0.25318587053647407, 0.20905611845839422, 0.3344897895334308, 0.13588647699795625, 0.06271683553751826, 0.07316964146043799, 0.052264029614598556, 0.020905611845839424, 0.06271683553751826, 0.04181122369167885, 0.010452805922919712, 0.624905071888319, 0.8519386667071279, 0.7589978861404675, 0.031184074420095065, 0.7484177860822816, 0.06236814884019013, 0.12473629768038026, 0.25244752929712855, 0.08512765522810149, 0.14677181935879569, 0.11154658271268471, 0.10861114632550879, 0.052837854969166445, 0.11154658271268471, 0.03816067303328687, 0.07925678245374966, 0.01761261832305548, 0.8019850815192765, 0.05398902745551177, 0.09718024941992119, 0.17276488785763766, 0.10797805491102354, 0.1187758604021259, 0.043191221964409415, 0.26994513727755887, 0.010797805491102354, 0.1187758604021259, 0.010797805491102354, 0.14599278541605687, 0.04866426180535229, 0.06083032725669037, 0.024332130902676146, 0.23115524357542339, 0.06083032725669037, 0.23115524357542339, 0.012166065451338073, 0.04866426180535229, 0.13382671996471882, 0.08644422639769095, 0.08644422639769095, 0.734775924380373, 0.08644422639769095, 0.05287982095811398, 0.8460771353298236, 0.6244928983338303, 0.8722629025903202, 0.6502476121572529, 0.05823112944691817, 0.048525941205765144, 0.03882075296461211, 0.029115564723459084, 0.009705188241153028, 0.15528301185844845, 0.009705188241153028, 0.8753062265528597, 0.7945775144864167, 0.11351107349805951, 0.7515822218169543, 0.6810375047858991, 0.08172450057430788, 0.08172450057430788, 0.027241500191435963, 0.027241500191435963, 0.08172450057430788, 0.027241500191435963, 0.07530111576440575, 0.09681572026852167, 0.03227190675617389, 0.1183303247726376, 0.10757302252057964, 0.1828741382849854, 0.010757302252057963, 0.3442336720658548, 0.03227190675617389, 0.010757302252057963, 0.04342649175521636, 0.02171324587760818, 0.47769140930737997, 0.43426491755216357, 0.05322715406679789, 0.05322715406679789, 0.7984073110019684, 0.05322715406679789, 0.0328684593319227, 0.1314738373276908, 0.0986053779957681, 0.0657369186638454, 0.1643422966596135, 0.0657369186638454, 0.4272899713149951, 0.029704149370218917, 0.029704149370218917, 0.0742603734255473, 0.1782248962213135, 0.08911244811065674, 0.49011846460861214, 0.059408298740437834, 0.04455622405532837, 0.7519762846836572, 0.8137058889936091, 0.026139859472354553, 0.20911887577883642, 0.43566432453924253, 0.0043566432453924255, 0.05663636219010153, 0.052279718944709105, 0.030496502717746978, 0.1568391568341273, 0.017426572981569702, 0.013069929736177276, 0.8693258653852493, 0.8732195988085584, 0.9383007932277168, 0.13485993512554914, 0.10114495134416185, 0.7417296431905203, 0.848922300896751, 0.06530171545359624, 0.8532234090840697, 0.1555459324279844, 0.7777296621399219, 0.800348651140421, 0.7476577350331662, 0.7495517406201376, 0.712320227065602, 0.8359703084629013, 0.8588673302521467, 0.7592693451246226, 0.8496858766727058, 0.06536045205174659, 0.1182236061585624, 0.7093416369513744, 0.0591118030792812, 0.0591118030792812, 0.8721336946561158, 0.8345916055694574, 0.8802072640688778, 0.5592650051125697, 0.018958135766527787, 0.07583254306611115, 0.09479067883263895, 0.028437203649791683, 0.047395339416319474, 0.009479067883263893, 0.10426974671590283, 0.03791627153305557, 0.018958135766527787, 0.8009050269526332, 0.06620803605925782, 0.728288396651836, 0.13241607211851564, 0.06620803605925782, 0.7556965460830349, 0.8545228327146763, 0.8863077306750119, 0.0377152225819154, 0.0377152225819154, 0.0188576112909577, 0.8882121155362265, 0.10162336870608753, 0.07082840849212162, 0.12317984085586368, 0.08314639257770798, 0.14473631300563983, 0.09854387268469095, 0.20940572945496824, 0.01539748010698296, 0.13549782494145005, 0.021556472149776143, 0.148134274280982, 0.74067137140491, 0.7371449184849203, 0.019922835634727572, 0.07969134253891029, 0.139459849443093, 0.8386080963051179, 0.8751704275081745, 0.9146509293830566, 0.12447164700704018, 0.7468298820422411, 0.11126746633069168, 0.7788722643148417, 0.7476710142651041, 0.7447845365207552, 0.04137691869559751, 0.16550767478239004, 0.04137691869559751, 0.07432394603780114, 0.07432394603780114, 0.8175634064158125, 0.022222449863172206, 0.055556124657930514, 0.12222347424744713, 0.23333572356330815, 0.11111224931586103, 0.28889184822123865, 0.07777857452110272, 0.022222449863172206, 0.06666734958951662, 0.022222449863172206, 0.747613849681669, 0.872492389082827, 0.049626271808729076, 0.12406567952182268, 0.17369195133055176, 0.12406567952182268, 0.024813135904364538, 0.049626271808729076, 0.4218233103741971, 0.024813135904364538, 0.09374653465245981, 0.7968455445459084, 0.04687326732622991, 0.22360305170429387, 0.6708091551128815, 0.07453435056809796, 0.838899959737019, 0.20426264642445044, 0.10213132321222522, 0.6127879392733513, 0.8927297200203872, 0.10329663831138544, 0.645603989446159, 0.07747247873353909, 0.07747247873353909, 0.05164831915569272, 0.02582415957784636, 0.8633985828477527, 0.8945949994373106, 0.1608335277005638, 0.804167638502819, 0.10328891700148267, 0.8263113360118614, 0.20260049642409544, 0.16208039713927636, 0.12156029785445728, 0.09904913158511333, 0.08104019856963818, 0.049524565792556666, 0.08104019856963818, 0.11705806460058849, 0.05852903230029424, 0.03151563277708152, 0.19978920412211695, 0.1123075407787048, 0.09693914046161888, 0.11703627933780816, 0.12176501789691152, 0.09930350974117055, 0.1063966175798256, 0.02600806207506848, 0.08157074014453296, 0.04019427775237856], \"Term\": [\"airbus\", \"airbus\", \"airbus\", \"alitalia\", \"alitalia\", \"alma\", \"american\", \"american\", \"american\", \"anglo\", \"anglogold\", \"ashanti\", \"asian\", \"attitude\", \"canonical\", \"cedc\", \"current\", \"dayz\", \"dead\", \"dead\", \"destiny\", \"dreamliner\", \"exynos\", \"fallout\", \"foreign\", \"gamestick\", \"generali\", \"glock\", \"google\", \"google\", \"google\", \"google\", \"google\", \"google\", \"google\", \"haim\", \"happy\", \"health\", \"herbalife\", \"idol\", \"intel\", \"kalina\", \"kickstarter\", \"kickstarter\", \"kickstarter\", \"kickstarter\", \"lada\", \"lamborghini\", \"linkedin\", \"linkedin\", \"marks\", \"minecraft\", \"mirax\", \"mrtt\", \"nintendo\", \"nirvana\", \"octa\", \"osprey\", \"ouya\", \"ozon\", \"piston\", \"planescape\", \"playjam\", \"pokemon\", \"policy\", \"public\", \"remedy\", \"rising\", \"rush\", \"seastreak\", \"shepherds\", \"sotheby\", \"southern\", \"southern\", \"spencer\", \"starbucks\", \"steam\", \"taco\", \"tegra\", \"tegra\", \"tegra\", \"trust\", \"twitter\", \"twitter\", \"twitter\", \"twitter\", \"ubisoft\", \"ubuntu\", \"ubuntu\", \"ultra\", \"valve\", \"weekly\", \"weekly\", \"weekly\", \"wegelin\", \"xperia\", \"\\u0430\\u0431\", \"\\u0430\\u0431\\u0438\\u0435\\u0432\", \"\\u0430\\u0432\\u0430\\u0440\", \"\\u0430\\u0432\\u0430\\u0440\", \"\\u0430\\u0432\\u0430\\u0440\", \"\\u0430\\u0432\\u0430\\u0440\", \"\\u0430\\u0432\\u0430\\u0440\", \"\\u0430\\u0432\\u0430\\u0440\", \"\\u0430\\u0432\\u0430\\u0440\", \"\\u0430\\u0432\\u0430\\u0440\", \"\\u0430\\u0432\\u0438\\u0430\\u043a\\u043e\\u043c\\u043f\\u0430\\u043d\", \"\\u0430\\u0432\\u0438\\u0430\\u043a\\u043e\\u043c\\u043f\\u0430\\u043d\", \"\\u0430\\u0432\\u0438\\u0430\\u043a\\u043e\\u043c\\u043f\\u0430\\u043d\", \"\\u0430\\u0432\\u0438\\u0430\\u043a\\u043e\\u043c\\u043f\\u0430\\u043d\", \"\\u0430\\u0432\\u0438\\u0430\\u043a\\u043e\\u043c\\u043f\\u0430\\u043d\", \"\\u0430\\u0432\\u0438\\u0430\\u043a\\u043e\\u043c\\u043f\\u0430\\u043d\", \"\\u0430\\u0432\\u0438\\u0430\\u043a\\u043e\\u043c\\u043f\\u0430\\u043d\", \"\\u0430\\u0432\\u0438\\u0430\\u043a\\u043e\\u043c\\u043f\\u0430\\u043d\", \"\\u0430\\u0432\\u0438\\u0441\\u043c\", \"\\u0430\\u0432\\u0442\\u043e\\u0431\\u0443\\u0441\", \"\\u0430\\u0432\\u0442\\u043e\\u0431\\u0443\\u0441\", \"\\u0430\\u0432\\u0442\\u043e\\u0431\\u0443\\u0441\", \"\\u0430\\u0432\\u0442\\u043e\\u0431\\u0443\\u0441\", \"\\u0430\\u0432\\u0442\\u043e\\u0431\\u0443\\u0441\", \"\\u0430\\u0432\\u0442\\u043e\\u0431\\u0443\\u0441\", \"\\u0430\\u0432\\u0442\\u043e\\u0432\\u0430\\u0437\", \"\\u0430\\u0434\\u0430\\u0433\\u0430\\u043c\", \"\\u0430\\u0434\\u0430\\u0433\\u0430\\u043c\", \"\\u0430\\u0434\\u0430\\u0433\\u0430\\u043c\", \"\\u0430\\u0434\\u0430\\u0433\\u0430\\u043c\", \"\\u0430\\u0434\\u0430\\u0433\\u0430\\u043c\\u043e\\u0432\", \"\\u0430\\u0434\\u0430\\u0433\\u0430\\u043c\\u043e\\u0432\", \"\\u0430\\u0434\\u0430\\u0433\\u0430\\u043c\\u043e\\u0432\", \"\\u0430\\u0434\\u0430\\u0433\\u0430\\u043c\\u043e\\u0432\", \"\\u0430\\u0434\\u0430\\u0433\\u0430\\u043c\\u043e\\u0432\", \"\\u0430\\u043a\\u0442\\u0435\\u0440\", \"\\u0430\\u043a\\u0442\\u0435\\u0440\", \"\\u0430\\u043a\\u0442\\u0435\\u0440\", \"\\u0430\\u043a\\u0442\\u0435\\u0440\", \"\\u0430\\u043a\\u0442\\u0435\\u0440\", \"\\u0430\\u043a\\u0442\\u0435\\u0440\", \"\\u0430\\u043a\\u0442\\u0435\\u0440\", \"\\u0430\\u043a\\u0442\\u0435\\u0440\", \"\\u0430\\u043a\\u0446\", \"\\u0430\\u043a\\u0446\", \"\\u0430\\u043a\\u0446\", \"\\u0430\\u043a\\u0446\", \"\\u0430\\u043a\\u0446\", \"\\u0430\\u043a\\u0446\", \"\\u0430\\u043a\\u0446\", \"\\u0430\\u043a\\u0446\", \"\\u0430\\u043a\\u0446\", \"\\u0430\\u043a\\u0446\", \"\\u0430\\u043c\\u0435\\u0440\\u0438\\u043a\\u0430\\u043d\\u0441\\u043a\", \"\\u0430\\u043c\\u0435\\u0440\\u0438\\u043a\\u0430\\u043d\\u0441\\u043a\", \"\\u0430\\u043c\\u0435\\u0440\\u0438\\u043a\\u0430\\u043d\\u0441\\u043a\", \"\\u0430\\u043c\\u0435\\u0440\\u0438\\u043a\\u0430\\u043d\\u0441\\u043a\", \"\\u0430\\u043c\\u0435\\u0440\\u0438\\u043a\\u0430\\u043d\\u0441\\u043a\", \"\\u0430\\u043c\\u0435\\u0440\\u0438\\u043a\\u0430\\u043d\\u0441\\u043a\", \"\\u0430\\u043c\\u0435\\u0440\\u0438\\u043a\\u0430\\u043d\\u0441\\u043a\", \"\\u0430\\u043c\\u0435\\u0440\\u0438\\u043a\\u0430\\u043d\\u0441\\u043a\", \"\\u0430\\u043c\\u0435\\u0440\\u0438\\u043a\\u0430\\u043d\\u0441\\u043a\", \"\\u0430\\u043c\\u0435\\u0440\\u0438\\u043a\\u0430\\u043d\\u0441\\u043a\", \"\\u0430\\u043c\\u0438\\u043d\\u043e\\u043a\\u0438\\u0441\\u043b\\u043e\\u0442\", \"\\u0430\\u043c\\u0443\\u0440\", \"\\u0430\\u043c\\u0443\\u0440\", \"\\u0430\\u043d\\u0433\\u043b\\u0438\\u043a\\u0430\\u043d\\u0441\\u043a\", \"\\u0430\\u043d\\u0442\\u0430\\u0440\\u043a\\u0442\\u0438\\u0447\\u0435\\u0441\\u043a\", \"\\u0430\\u043d\\u0442\\u0438\\u0442\\u0430\\u0431\\u0430\\u0447\\u043d\", \"\\u0430\\u043f\\u043e\\u0444\\u0438\\u0441\", \"\\u0430\\u0440\\u0431\\u0443\\u0437\\u043e\\u0432\", \"\\u0430\\u0440\\u0433\\u0435\\u043d\\u0442\\u0438\\u043d\", \"\\u0430\\u0440\\u043c\\u0441\\u0442\\u0440\\u043e\\u043d\\u0433\", \"\\u0430\\u0440\\u043d\", \"\\u0430\\u0442\\u0442\\u0440\\u0430\\u043a\\u0446\\u0438\\u043e\\u043d\", \"\\u0430\\u044d\\u0440\\u043e\\u043f\\u043e\\u0440\\u0442\", \"\\u0430\\u044d\\u0440\\u043e\\u043f\\u043e\\u0440\\u0442\", \"\\u0430\\u044d\\u0440\\u043e\\u043f\\u043e\\u0440\\u0442\", \"\\u0430\\u044d\\u0440\\u043e\\u043f\\u043e\\u0440\\u0442\", \"\\u0430\\u044d\\u0440\\u043e\\u043f\\u043e\\u0440\\u0442\", \"\\u0430\\u044d\\u0440\\u043e\\u043f\\u043e\\u0440\\u0442\", \"\\u0430\\u044d\\u0440\\u043e\\u043f\\u043e\\u0440\\u0442\", \"\\u0430\\u044d\\u0440\\u043e\\u0441\\u0432\", \"\\u0430\\u044d\\u0440\\u043e\\u0441\\u0432\", \"\\u0430\\u044d\\u0440\\u043e\\u0441\\u0432\\u0438\\u0442\", \"\\u0430\\u044d\\u0440\\u043e\\u0441\\u0432\\u0438\\u0442\", \"\\u0431\\u0430\\u0432\\u0430\\u0440\", \"\\u0431\\u0430\\u043b\\u043e\\u0442\\u0435\\u043b\\u043b\", \"\\u0431\\u0430\\u043d\\u0434\\u0435\\u0440\", \"\\u0431\\u0430\\u0442\\u0430\\u0441\\u0443\\u043d\", \"\\u0431\\u0430\\u0442\\u043a\\u0435\\u043d\\u0441\\u043a\", \"\\u0431\\u0430\\u0444\\u0444\\u0435\\u0442\", \"\\u0431\\u0435\\u0439\\u043d\\u0435\\u0440\", \"\\u0431\\u0435\\u043b\\u0443\\u0434\\u0436\\u0438\\u0441\\u0442\\u0430\", \"\\u0431\\u0435\\u043b\\u044c\\u0433\", \"\\u0431\\u0435\\u043b\\u044c\\u0433\", \"\\u0431\\u0435\\u043b\\u044c\\u0433\\u0438\\u0439\\u0441\\u043a\", \"\\u0431\\u0435\\u043b\\u044c\\u0433\\u0438\\u0439\\u0441\\u043a\", \"\\u0431\\u0435\\u043d\\u0430\\u0431\", \"\\u0431\\u0438\\u0430\\u0442\\u043b\\u043e\\u043d\", \"\\u0431\\u0438\\u0430\\u0442\\u043b\\u043e\\u043d\\u0438\\u0441\\u0442\", \"\\u0431\\u0438\\u0431\\u0435\\u0440\", \"\\u0431\\u0438\\u0431\\u0435\\u0440\", \"\\u0431\\u0438\\u0431\\u0435\\u0440\", \"\\u0431\\u043b\\u0430\\u0435\\u0440\", \"\\u0431\\u043b\\u043e\\u043a\", \"\\u0431\\u043b\\u043e\\u043a\", \"\\u0431\\u043b\\u043e\\u043a\", \"\\u0431\\u043b\\u043e\\u043a\", \"\\u0431\\u043b\\u043e\\u043a\", \"\\u0431\\u043e\\u043a\", \"\\u0431\\u043e\\u043a\", \"\\u0431\\u043e\\u043b\\u043e\\u0442\\u043d\", \"\\u0431\\u043e\\u043b\\u043e\\u0442\\u043d\", \"\\u0431\\u043e\\u043d\\u0434\", \"\\u0431\\u043e\\u043d\\u0434\", \"\\u0431\\u043e\\u043d\\u0434\", \"\\u0431\\u043e\\u0440\", \"\\u0431\\u043e\\u0440\\u043e\\u0434\", \"\\u0431\\u043e\\u0440\\u0442\", \"\\u0431\\u043e\\u0440\\u0442\", \"\\u0431\\u043e\\u0440\\u0442\", \"\\u0431\\u043e\\u0440\\u0442\", \"\\u0431\\u043e\\u0440\\u0442\", \"\\u0431\\u043e\\u0440\\u0442\", \"\\u0431\\u043e\\u0440\\u0442\", \"\\u0431\\u0443\\u0434\\u0430\\u043d\\u043e\\u0432\", \"\\u0431\\u0443\\u0434\\u0443\\u0442\", \"\\u0431\\u0443\\u0434\\u0443\\u0442\", \"\\u0431\\u0443\\u0434\\u0443\\u0442\", \"\\u0431\\u0443\\u0434\\u0443\\u0442\", \"\\u0431\\u0443\\u0434\\u0443\\u0442\", \"\\u0431\\u0443\\u0434\\u0443\\u0442\", \"\\u0431\\u0443\\u0434\\u0443\\u0442\", \"\\u0431\\u0443\\u0434\\u0443\\u0442\", \"\\u0431\\u0443\\u0434\\u0443\\u0442\", \"\\u0431\\u0443\\u0434\\u0443\\u0442\", \"\\u0431\\u0443\\u043a\\u0435\\u0440\", \"\\u0431\\u0443\\u0440\\u0430\\u043a\", \"\\u0431\\u044b\\u0432\\u0448\", \"\\u0431\\u044b\\u0432\\u0448\", \"\\u0431\\u044b\\u0432\\u0448\", \"\\u0431\\u044b\\u0432\\u0448\", \"\\u0431\\u044b\\u0432\\u0448\", \"\\u0431\\u044b\\u0432\\u0448\", \"\\u0431\\u044b\\u0432\\u0448\", \"\\u0431\\u044b\\u0432\\u0448\", \"\\u0431\\u044b\\u0432\\u0448\", \"\\u0431\\u044b\\u0432\\u0448\", \"\\u0432\\u0430\\u043b\\u044e\\u0442\", \"\\u0432\\u0430\\u043b\\u044e\\u0442\", \"\\u0432\\u0430\\u0441\\u0438\\u043b\\u044c\\u0435\\u0432\", \"\\u0432\\u0435\\u043b\\u0438\\u043a\\u043e\\u0431\\u0440\\u0438\\u0442\\u0430\\u043d\", \"\\u0432\\u0435\\u043b\\u0438\\u043a\\u043e\\u0431\\u0440\\u0438\\u0442\\u0430\\u043d\", \"\\u0432\\u0435\\u043b\\u0438\\u043a\\u043e\\u0431\\u0440\\u0438\\u0442\\u0430\\u043d\", \"\\u0432\\u0435\\u043b\\u0438\\u043a\\u043e\\u0431\\u0440\\u0438\\u0442\\u0430\\u043d\", \"\\u0432\\u0435\\u043b\\u0438\\u043a\\u043e\\u0431\\u0440\\u0438\\u0442\\u0430\\u043d\", \"\\u0432\\u0435\\u043b\\u0438\\u043a\\u043e\\u0431\\u0440\\u0438\\u0442\\u0430\\u043d\", \"\\u0432\\u0435\\u043b\\u0438\\u043a\\u043e\\u0431\\u0440\\u0438\\u0442\\u0430\\u043d\", \"\\u0432\\u0435\\u043b\\u0438\\u043a\\u043e\\u0431\\u0440\\u0438\\u0442\\u0430\\u043d\", \"\\u0432\\u0435\\u043d\\u0435\\u0441\\u0443\\u044d\\u043b\", \"\\u0432\\u0435\\u043d\\u0435\\u0441\\u0443\\u044d\\u043b\", \"\\u0432\\u0435\\u0440\\u0441\", \"\\u0432\\u0435\\u0440\\u0441\", \"\\u0432\\u0435\\u0440\\u0441\", \"\\u0432\\u0435\\u0440\\u0441\", \"\\u0432\\u0435\\u0440\\u0441\", \"\\u0432\\u0435\\u0440\\u0441\", \"\\u0432\\u0435\\u0440\\u0441\", \"\\u0432\\u0435\\u0440\\u0441\", \"\\u0432\\u0435\\u0440\\u0441\", \"\\u0432\\u0435\\u0440\\u0441\", \"\\u0432\\u0435\\u0440\\u0442\\u043e\\u043b\\u0435\\u0442\", \"\\u0432\\u0435\\u0440\\u0442\\u043e\\u043b\\u0435\\u0442\", \"\\u0432\\u0435\\u0440\\u0442\\u043e\\u043b\\u0435\\u0442\", \"\\u0432\\u0435\\u0440\\u0442\\u043e\\u043b\\u0435\\u0442\", \"\\u0432\\u0435\\u0440\\u0442\\u043e\\u043b\\u0435\\u0442\", \"\\u0432\\u0435\\u0440\\u0442\\u043e\\u043b\\u0435\\u0442\", \"\\u0432\\u0435\\u0440\\u0442\\u043e\\u043b\\u0435\\u0442\", \"\\u0432\\u0435\\u0440\\u0442\\u043e\\u043b\\u0435\\u0442\", \"\\u0432\\u0435\\u0440\\u0442\\u043e\\u043b\\u0435\\u0442\", \"\\u0432\\u0437\\u044f\\u0442\\u043a\", \"\\u0432\\u0437\\u044f\\u0442\\u043a\", \"\\u0432\\u0437\\u044f\\u0442\\u043a\", \"\\u0432\\u0438\\u043b\\u044c\\u043d\\u044e\\u0441\", \"\\u0432\\u0438\\u043b\\u044c\\u043d\\u044e\\u0441\", \"\\u0432\\u0438\\u043d\\u043e\\u0432\\u043d\\u0438\\u0446\", \"\\u0432\\u043b\\u0430\\u0434\\u0438\\u043c\\u0438\\u0440\", \"\\u0432\\u043b\\u0430\\u0434\\u0438\\u043c\\u0438\\u0440\", \"\\u0432\\u043b\\u0430\\u0434\\u0438\\u043c\\u0438\\u0440\", \"\\u0432\\u043b\\u0430\\u0434\\u0438\\u043c\\u0438\\u0440\", \"\\u0432\\u043b\\u0430\\u0434\\u0438\\u043c\\u0438\\u0440\", \"\\u0432\\u043b\\u0430\\u0434\\u0438\\u043c\\u0438\\u0440\", \"\\u0432\\u043b\\u0430\\u0434\\u0438\\u043c\\u0438\\u0440\", \"\\u0432\\u043b\\u0430\\u0434\\u0438\\u043c\\u0438\\u0440\", \"\\u0432\\u043b\\u0430\\u0434\\u0438\\u043c\\u0438\\u0440\", \"\\u0432\\u043b\\u0430\\u0441\\u0442\", \"\\u0432\\u043b\\u0430\\u0441\\u0442\", \"\\u0432\\u043b\\u0430\\u0441\\u0442\", \"\\u0432\\u043b\\u0430\\u0441\\u0442\", \"\\u0432\\u043b\\u0430\\u0441\\u0442\", \"\\u0432\\u043b\\u0430\\u0441\\u0442\", \"\\u0432\\u043b\\u0430\\u0441\\u0442\", \"\\u0432\\u043b\\u0430\\u0441\\u0442\", \"\\u0432\\u043b\\u0430\\u0441\\u0442\", \"\\u0432\\u043b\\u0430\\u0441\\u0442\", \"\\u0432\\u043d\\u0443\\u043a\\u043e\\u0432\", \"\\u0432\\u043e\\u0437\\u0431\\u0443\\u0436\\u0434\", \"\\u0432\\u043e\\u0437\\u0431\\u0443\\u0436\\u0434\", \"\\u0432\\u043e\\u0437\\u0431\\u0443\\u0436\\u0434\", \"\\u0432\\u043e\\u0437\\u0431\\u0443\\u0436\\u0434\", \"\\u0432\\u043e\\u0437\\u0431\\u0443\\u0436\\u0434\", \"\\u0432\\u043e\\u0437\\u0431\\u0443\\u0436\\u0434\", \"\\u0432\\u043e\\u0437\\u0431\\u0443\\u0436\\u0434\", \"\\u0432\\u043e\\u0437\\u0431\\u0443\\u0436\\u0434\", \"\\u0432\\u043e\\u0437\\u0431\\u0443\\u0436\\u0434\", \"\\u0432\\u043e\\u0439\\u043a\\u0438\\u043d\", \"\\u0432\\u043e\\u043b\\u043e\\u043d\\u0442\\u0435\\u0440\", \"\\u0432\\u0440\\u0435\\u0437\\u0430\", \"\\u0432\\u0440\\u0435\\u0437\\u0430\", \"\\u0432\\u0440\\u0435\\u0437\\u0430\", \"\\u0432\\u0440\\u0435\\u0437\\u0430\", \"\\u0432\\u0440\\u0435\\u0437\\u0430\", \"\\u0432\\u0440\\u0435\\u043c\", \"\\u0432\\u0440\\u0435\\u043c\", \"\\u0432\\u0440\\u0435\\u043c\", \"\\u0432\\u0440\\u0435\\u043c\", \"\\u0432\\u0440\\u0435\\u043c\", \"\\u0432\\u0440\\u0435\\u043c\", \"\\u0432\\u0440\\u0435\\u043c\", \"\\u0432\\u0440\\u0435\\u043c\", \"\\u0432\\u0440\\u0435\\u043c\", \"\\u0432\\u0440\\u0435\\u043c\", \"\\u0432\\u0441\\u043c\\u043f\\u043e\", \"\\u0432\\u0442\\u043e\\u0440\", \"\\u0432\\u0442\\u043e\\u0440\", \"\\u0432\\u0442\\u043e\\u0440\", \"\\u0432\\u0442\\u043e\\u0440\", \"\\u0432\\u0442\\u043e\\u0440\", \"\\u0432\\u0442\\u043e\\u0440\", \"\\u0432\\u0442\\u043e\\u0440\", \"\\u0432\\u0442\\u043e\\u0440\", \"\\u0432\\u0442\\u043e\\u0440\", \"\\u0432\\u0442\\u043e\\u0440\", \"\\u0432\\u044b\\u0431\\u043e\\u0440\", \"\\u0432\\u044b\\u0431\\u043e\\u0440\", \"\\u0432\\u044b\\u0431\\u043e\\u0440\", \"\\u0432\\u044b\\u0431\\u043e\\u0440\", \"\\u0432\\u044b\\u0431\\u043e\\u0440\", \"\\u0432\\u044b\\u0431\\u043e\\u0440\", \"\\u0432\\u044b\\u0440\\u043e\\u0441\\u043b\", \"\\u0432\\u044b\\u0440\\u043e\\u0441\\u043b\", \"\\u0432\\u044b\\u0440\\u043e\\u0441\\u043b\", \"\\u0432\\u044b\\u0440\\u043e\\u0441\\u043b\", \"\\u0432\\u044b\\u0440\\u043e\\u0441\\u043b\", \"\\u0432\\u044b\\u0440\\u043e\\u0441\\u043b\", \"\\u0433\\u0430\\u0437\\u0435\\u0442\", \"\\u0433\\u0430\\u0437\\u0435\\u0442\", \"\\u0433\\u0430\\u0437\\u0435\\u0442\", \"\\u0433\\u0430\\u0437\\u0435\\u0442\", \"\\u0433\\u0430\\u0437\\u0435\\u0442\", \"\\u0433\\u0430\\u0437\\u0435\\u0442\", \"\\u0433\\u0430\\u0437\\u0435\\u0442\", \"\\u0433\\u0430\\u0437\\u0435\\u0442\", \"\\u0433\\u0430\\u0437\\u0435\\u0442\", \"\\u0433\\u0430\\u0437\\u0435\\u0442\", \"\\u0433\\u0430\\u0439\\u0442\\u043d\\u0435\\u0440\", \"\\u0433\\u0430\\u0440\\u043d\\u0438\\u0442\\u0443\\u0440\", \"\\u0433\\u0435\\u043a\\u0442\\u0430\\u0440\", \"\\u0433\\u0435\\u043a\\u0442\\u0430\\u0440\", \"\\u0433\\u0435\\u043d\\u043f\\u043b\\u0430\", \"\\u0433\\u0438\\u043b\\u044c\\u0434\", \"\\u0433\\u043b\\u0430\\u0432\", \"\\u0433\\u043b\\u0430\\u0432\", \"\\u0433\\u043b\\u0430\\u0432\", \"\\u0433\\u043b\\u0430\\u0432\", \"\\u0433\\u043b\\u0430\\u0432\", \"\\u0433\\u043b\\u0430\\u0432\", \"\\u0433\\u043b\\u0430\\u0432\", \"\\u0433\\u043b\\u0430\\u0432\", \"\\u0433\\u043b\\u0430\\u0432\", \"\\u0433\\u043b\\u0430\\u0432\", \"\\u0433\\u043b\\u0430\\u0432\\u043a\\u043e\\u043c\\u0430\\u0442\", \"\\u0433\\u043b\\u0430\\u0432\\u043a\\u043e\\u043c\\u0430\\u0442\", \"\\u0433\\u043b\\u0430\\u0432\\u043d\", \"\\u0433\\u043b\\u0430\\u0432\\u043d\", \"\\u0433\\u043b\\u0430\\u0432\\u043d\", \"\\u0433\\u043b\\u0430\\u0432\\u043d\", \"\\u0433\\u043b\\u0430\\u0432\\u043d\", \"\\u0433\\u043b\\u0430\\u0432\\u043d\", \"\\u0433\\u043b\\u0430\\u0432\\u043d\", \"\\u0433\\u043b\\u0430\\u0432\\u043d\", \"\\u0433\\u043b\\u0430\\u0432\\u043d\", \"\\u0433\\u043b\\u0430\\u0432\\u043d\", \"\\u0433\\u043b\\u0435\\u043d\", \"\\u0433\\u043e\\u0434\", \"\\u0433\\u043e\\u0434\", \"\\u0433\\u043e\\u0434\", \"\\u0433\\u043e\\u0434\", \"\\u0433\\u043e\\u0434\", \"\\u0433\\u043e\\u0434\", \"\\u0433\\u043e\\u0434\", \"\\u0433\\u043e\\u0434\", \"\\u0433\\u043e\\u0434\", \"\\u0433\\u043e\\u0434\", \"\\u0433\\u043e\\u043d\\u043a\", \"\\u0433\\u043e\\u043d\\u043a\", \"\\u0433\\u043e\\u0440\\u043e\\u0434\", \"\\u0433\\u043e\\u0440\\u043e\\u0434\", \"\\u0433\\u043e\\u0440\\u043e\\u0434\", \"\\u0433\\u043e\\u0440\\u043e\\u0434\", \"\\u0433\\u043e\\u0440\\u043e\\u0434\", \"\\u0433\\u043e\\u0440\\u043e\\u0434\", \"\\u0433\\u043e\\u0440\\u043e\\u0434\", \"\\u0433\\u043e\\u0440\\u043e\\u0434\", \"\\u0433\\u043e\\u0440\\u043e\\u0434\", \"\\u0433\\u043e\\u0440\\u043e\\u0434\", \"\\u0433\\u043e\\u0441\\u0434\\u0443\\u043c\", \"\\u0433\\u043e\\u0441\\u0434\\u0443\\u043c\", \"\\u0433\\u043e\\u0441\\u0434\\u0443\\u043c\", \"\\u0433\\u043e\\u0441\\u0434\\u0443\\u043c\", \"\\u0433\\u043e\\u0441\\u0441\\u0435\\u043a\\u0440\\u0435\\u0442\\u0430\\u0440\", \"\\u0433\\u0440\\u0430\\u0432\\u044e\\u0440\", \"\\u0433\\u0440\\u0430\\u0436\\u0434\\u0430\\u043d\\u0441\\u0442\\u0432\", \"\\u0433\\u0440\\u0430\\u0436\\u0434\\u0430\\u043d\\u0441\\u0442\\u0432\", \"\\u0433\\u0440\\u0430\\u0436\\u0434\\u0430\\u043d\\u0441\\u0442\\u0432\", \"\\u0433\\u0440\\u0430\\u0436\\u0434\\u0430\\u043d\\u0441\\u0442\\u0432\", \"\\u0433\\u0440\\u0430\\u0436\\u0434\\u0430\\u043d\\u0441\\u0442\\u0432\", \"\\u0433\\u0440\\u0430\\u0436\\u0434\\u0430\\u043d\\u0441\\u0442\\u0432\", \"\\u0433\\u0440\\u0438\\u0433\\u043e\\u0440\\u0435\\u043d\\u043a\", \"\\u0433\\u0440\\u043e\\u043b\", \"\\u0433\\u0440\\u0443\\u0437\\u0438\\u043d\\u0441\\u043a\", \"\\u0433\\u0440\\u0443\\u0437\\u0438\\u043d\\u0441\\u043a\", \"\\u0433\\u0440\\u0443\\u0437\\u0438\\u043d\\u0441\\u043a\", \"\\u0433\\u0440\\u0443\\u0437\\u0438\\u043d\\u0441\\u043a\", \"\\u0433\\u0440\\u0443\\u043f\\u043f\", \"\\u0433\\u0440\\u0443\\u043f\\u043f\", \"\\u0433\\u0440\\u0443\\u043f\\u043f\", \"\\u0433\\u0440\\u0443\\u043f\\u043f\", \"\\u0433\\u0440\\u0443\\u043f\\u043f\", \"\\u0433\\u0440\\u0443\\u043f\\u043f\", \"\\u0433\\u0440\\u0443\\u043f\\u043f\", \"\\u0433\\u0440\\u0443\\u043f\\u043f\", \"\\u0433\\u0440\\u0443\\u043f\\u043f\", \"\\u0433\\u0440\\u0443\\u043f\\u043f\", \"\\u0434\\u0430\\u043c\\u0430\\u0441\\u043a\", \"\\u0434\\u0430\\u043c\\u0430\\u0441\\u043a\", \"\\u0434\\u0430\\u043c\\u0430\\u0441\\u043a\", \"\\u0434\\u0430\\u043d\", \"\\u0434\\u0430\\u043d\", \"\\u0434\\u0430\\u043d\", \"\\u0434\\u0430\\u043d\", \"\\u0434\\u0430\\u043d\", \"\\u0434\\u0430\\u043d\", \"\\u0434\\u0430\\u043d\", \"\\u0434\\u0430\\u043d\", \"\\u0434\\u0430\\u043d\", \"\\u0434\\u0430\\u043d\", \"\\u0434\\u0430\\u0441\\u0430\", \"\\u0434\\u0432\\u043e\\u0440\\u043d\\u0438\\u043a\", \"\\u0434\\u0432\\u043e\\u0440\\u043d\\u0438\\u043a\", \"\\u0434\\u0432\\u043e\\u0440\\u043d\\u0438\\u043a\", \"\\u0434\\u0432\\u043e\\u0440\\u043d\\u0438\\u043a\", \"\\u0434\\u0435\\u0432\\u0443\\u0448\\u043a\", \"\\u0434\\u0435\\u0432\\u0443\\u0448\\u043a\", \"\\u0434\\u0435\\u0432\\u0443\\u0448\\u043a\", \"\\u0434\\u0435\\u0432\\u0443\\u0448\\u043a\", \"\\u0434\\u0435\\u0432\\u0443\\u0448\\u043a\", \"\\u0434\\u0435\\u0432\\u0443\\u0448\\u043a\", \"\\u0434\\u0435\\u0432\\u0443\\u0448\\u043a\", \"\\u0434\\u0435\\u043a\\u0430\\u0431\\u0440\", \"\\u0434\\u0435\\u043a\\u0430\\u0431\\u0440\", \"\\u0434\\u0435\\u043a\\u0430\\u0431\\u0440\", \"\\u0434\\u0435\\u043a\\u0430\\u0431\\u0440\", \"\\u0434\\u0435\\u043a\\u0430\\u0431\\u0440\", \"\\u0434\\u0435\\u043a\\u0430\\u0431\\u0440\", \"\\u0434\\u0435\\u043a\\u0430\\u0431\\u0440\", \"\\u0434\\u0435\\u043a\\u0430\\u0431\\u0440\", \"\\u0434\\u0435\\u043a\\u0430\\u0431\\u0440\", \"\\u0434\\u0435\\u043a\\u0430\\u0431\\u0440\", \"\\u0434\\u0435\\u043b\", \"\\u0434\\u0435\\u043b\", \"\\u0434\\u0435\\u043b\", \"\\u0434\\u0435\\u043b\", \"\\u0434\\u0435\\u043b\", \"\\u0434\\u0435\\u043b\", \"\\u0434\\u0435\\u043b\", \"\\u0434\\u0435\\u043b\", \"\\u0434\\u0435\\u043b\", \"\\u0434\\u0435\\u043b\", \"\\u0434\\u0435\\u043b\\u044c\\u0441\\u0430\\u043b\", \"\\u0434\\u0435\\u043b\\u044c\\u0441\\u0430\\u043b\", \"\\u0434\\u0435\\u043b\\u044c\\u0441\\u0430\\u043b\", \"\\u0434\\u0435\\u043b\\u044c\\u0441\\u0430\\u043b\", \"\\u0434\\u0435\\u043b\\u044c\\u0441\\u0430\\u043b\", \"\\u0434\\u0435\\u043c\\u0443\\u0448\\u043a\\u0438\\u043d\", \"\\u0434\\u0435\\u043f\\u0430\\u0440\\u0434\", \"\\u0434\\u0435\\u043f\\u0430\\u0440\\u0434\", \"\\u0434\\u0435\\u043f\\u0430\\u0440\\u0434\", \"\\u0434\\u0435\\u043f\\u0430\\u0440\\u0434\", \"\\u0434\\u0435\\u043f\\u0430\\u0440\\u0434\", \"\\u0434\\u0435\\u043f\\u0443\\u0442\\u0430\\u0442\", \"\\u0434\\u0435\\u043f\\u0443\\u0442\\u0430\\u0442\", \"\\u0434\\u0435\\u043f\\u0443\\u0442\\u0430\\u0442\", \"\\u0434\\u0435\\u043f\\u0443\\u0442\\u0430\\u0442\", \"\\u0434\\u0435\\u043f\\u0443\\u0442\\u0430\\u0442\", \"\\u0434\\u0435\\u043f\\u0443\\u0442\\u0430\\u0442\", \"\\u0434\\u0435\\u043f\\u0443\\u0442\\u0430\\u0442\", \"\\u0434\\u0435\\u043f\\u0443\\u0442\\u0430\\u0442\", \"\\u0434\\u0435\\u0442\", \"\\u0434\\u0435\\u0442\", \"\\u0434\\u0435\\u0442\", \"\\u0434\\u0435\\u0442\", \"\\u0434\\u0435\\u0442\", \"\\u0434\\u0435\\u0442\", \"\\u0434\\u0435\\u0442\", \"\\u0434\\u0435\\u0442\", \"\\u0434\\u0435\\u0442\", \"\\u0434\\u0435\\u0442\", \"\\u0434\\u0436\\u0435\", \"\\u0434\\u0436\\u0435\", \"\\u0434\\u0438\\u0432\\u0438\\u0437\\u0438\\u043e\\u043d\", \"\\u0434\\u0438\\u0432\\u0438\\u0437\\u0438\\u043e\\u043d\", \"\\u0434\\u0438\\u0432\\u0438\\u0437\\u0438\\u043e\\u043d\", \"\\u0434\\u0438\\u043b\\u0430\", \"\\u0434\\u0438\\u0441\\u0442\\u0430\\u043d\\u0446\", \"\\u0434\\u043e\\u043b\\u043b\\u0430\\u0440\", \"\\u0434\\u043e\\u043b\\u043b\\u0430\\u0440\", \"\\u0434\\u043e\\u043b\\u043b\\u0430\\u0440\", \"\\u0434\\u043e\\u043b\\u043b\\u0430\\u0440\", \"\\u0434\\u043e\\u043b\\u043b\\u0430\\u0440\", \"\\u0434\\u043e\\u043b\\u043b\\u0430\\u0440\", \"\\u0434\\u043e\\u043b\\u043b\\u0430\\u0440\", \"\\u0434\\u043e\\u043b\\u043b\\u0430\\u0440\", \"\\u0434\\u043e\\u043b\\u043b\\u0430\\u0440\", \"\\u0434\\u043e\\u043b\\u043b\\u0430\\u0440\", \"\\u0434\\u043e\\u043c\\u0438\\u043d\", \"\\u0434\\u043e\\u043c\\u043e\\u0436\\u0438\\u0440\", \"\\u0434\\u043e\\u043d\\u044e\\u0448\\u043a\\u0438\\u043d\", \"\\u0434\\u043e\\u043f\\u0440\\u043e\\u0441\", \"\\u0434\\u043e\\u043f\\u0440\\u043e\\u0441\", \"\\u0434\\u043e\\u043f\\u0440\\u043e\\u0441\", \"\\u0434\\u043e\\u043f\\u0440\\u043e\\u0441\", \"\\u0434\\u043e\\u043f\\u0440\\u043e\\u0441\", \"\\u0434\\u043e\\u043f\\u0440\\u043e\\u0441\", \"\\u0434\\u043e\\u043f\\u0440\\u043e\\u0441\", \"\\u0434\\u0440\\u0443\\u0433\", \"\\u0434\\u0440\\u0443\\u0433\", \"\\u0434\\u0440\\u0443\\u0433\", \"\\u0434\\u0440\\u0443\\u0433\", \"\\u0434\\u0440\\u0443\\u0433\", \"\\u0434\\u0440\\u0443\\u0433\", \"\\u0434\\u0440\\u0443\\u0433\", \"\\u0434\\u0440\\u0443\\u0433\", \"\\u0434\\u0440\\u0443\\u0433\", \"\\u0434\\u0440\\u0443\\u0433\", \"\\u0435\\u0433\\u0442\", \"\\u0435\\u043b\\u044c\\u043a\\u0438\\u043d\", \"\\u0435\\u043f\\u0438\\u0441\\u043a\\u043e\\u043f\", \"\\u0435\\u043f\\u0438\\u0441\\u043a\\u043e\\u043f\", \"\\u0436\\u0435\\u043d\\u0441\\u043a\", \"\\u0436\\u0435\\u043d\\u0441\\u043a\", \"\\u0436\\u0435\\u043d\\u0441\\u043a\", \"\\u0436\\u0435\\u043d\\u0441\\u043a\", \"\\u0436\\u0435\\u043d\\u0441\\u043a\", \"\\u0436\\u0443\\u0440\\u043d\\u0430\\u043b\\u0438\\u0441\\u0442\", \"\\u0436\\u0443\\u0440\\u043d\\u0430\\u043b\\u0438\\u0441\\u0442\", \"\\u0436\\u0443\\u0440\\u043d\\u0430\\u043b\\u0438\\u0441\\u0442\", \"\\u0436\\u0443\\u0440\\u043d\\u0430\\u043b\\u0438\\u0441\\u0442\", \"\\u0436\\u0443\\u0440\\u043d\\u0430\\u043b\\u0438\\u0441\\u0442\", \"\\u0436\\u0443\\u0440\\u043d\\u0430\\u043b\\u0438\\u0441\\u0442\", \"\\u0436\\u0443\\u0440\\u043d\\u0430\\u043b\\u0438\\u0441\\u0442\", \"\\u0436\\u0443\\u0440\\u043d\\u0430\\u043b\\u0438\\u0441\\u0442\", \"\\u0436\\u0443\\u0440\\u043d\\u0430\\u043b\\u0438\\u0441\\u0442\", \"\\u0436\\u0443\\u0440\\u043d\\u0430\\u043b\\u0438\\u0441\\u0442\", \"\\u0437\\u0430\\u0431\\u0430\\u0441\\u0442\\u043e\\u0432\\u043a\", \"\\u0437\\u0430\\u0431\\u0430\\u0441\\u0442\\u043e\\u0432\\u043a\", \"\\u0437\\u0430\\u0431\\u0430\\u0441\\u0442\\u043e\\u0432\\u043a\", \"\\u0437\\u0430\\u0432\\u0435\\u0434\\u0435\\u043d\", \"\\u0437\\u0430\\u0432\\u0435\\u0434\\u0435\\u043d\", \"\\u0437\\u0430\\u0432\\u0435\\u0434\\u0435\\u043d\", \"\\u0437\\u0430\\u0432\\u0435\\u0434\\u0435\\u043d\", \"\\u0437\\u0430\\u0432\\u0435\\u0434\\u0435\\u043d\", \"\\u0437\\u0430\\u0432\\u0435\\u0434\\u0435\\u043d\", \"\\u0437\\u0430\\u0433\\u0440\\u0430\\u043d\\u043f\\u0430\\u0441\\u043f\\u043e\\u0440\\u0442\", \"\\u0437\\u0430\\u0434\\u0435\\u0440\\u0436\\u0430\", \"\\u0437\\u0430\\u0434\\u0435\\u0440\\u0436\\u0430\", \"\\u0437\\u0430\\u0434\\u0435\\u0440\\u0436\\u0430\", \"\\u0437\\u0430\\u0434\\u0435\\u0440\\u0436\\u0430\", \"\\u0437\\u0430\\u0434\\u0435\\u0440\\u0436\\u0430\", \"\\u0437\\u0430\\u0434\\u0435\\u0440\\u0436\\u0430\", \"\\u0437\\u0430\\u0434\\u0435\\u0440\\u0436\\u0430\", \"\\u0437\\u0430\\u0434\\u0435\\u0440\\u0436\\u0430\", \"\\u0437\\u0430\\u0434\\u0435\\u0440\\u0436\\u0430\", \"\\u0437\\u0430\\u0434\\u0435\\u0440\\u0436\\u0430\", \"\\u0437\\u0430\\u0434\\u043e\\u043b\\u0436\\u0435\\u043d\", \"\\u0437\\u0430\\u043a\\u043e\\u043d\", \"\\u0437\\u0430\\u043a\\u043e\\u043d\", \"\\u0437\\u0430\\u043a\\u043e\\u043d\", \"\\u0437\\u0430\\u043a\\u043e\\u043d\", \"\\u0437\\u0430\\u043a\\u043e\\u043d\", \"\\u0437\\u0430\\u043a\\u043e\\u043d\", \"\\u0437\\u0430\\u043a\\u043e\\u043d\", \"\\u0437\\u0430\\u043a\\u043e\\u043d\", \"\\u0437\\u0430\\u043a\\u043e\\u043d\", \"\\u0437\\u0430\\u043a\\u043e\\u043d\\u043e\\u043f\\u0440\\u043e\\u0435\\u043a\\u0442\", \"\\u0437\\u0430\\u043a\\u043e\\u043d\\u043e\\u043f\\u0440\\u043e\\u0435\\u043a\\u0442\", \"\\u0437\\u0430\\u043a\\u043e\\u043d\\u043e\\u043f\\u0440\\u043e\\u0435\\u043a\\u0442\", \"\\u0437\\u0430\\u043a\\u043e\\u043d\\u043e\\u043f\\u0440\\u043e\\u0435\\u043a\\u0442\", \"\\u0437\\u0430\\u043a\\u043e\\u043d\\u043e\\u043f\\u0440\\u043e\\u0435\\u043a\\u0442\", \"\\u0437\\u0430\\u043a\\u043e\\u043d\\u043e\\u043f\\u0440\\u043e\\u0435\\u043a\\u0442\", \"\\u0437\\u0430\\u043a\\u043e\\u043d\\u043e\\u043f\\u0440\\u043e\\u0435\\u043a\\u0442\", \"\\u0437\\u0430\\u043a\\u043e\\u043d\\u043e\\u043f\\u0440\\u043e\\u0435\\u043a\\u0442\", \"\\u0437\\u0430\\u043a\\u0443\\u0442\\u0430\\u0439\\u043b\", \"\\u0437\\u0430\\u043b\\u043e\\u0436\\u043d\\u0438\\u043a\", \"\\u0437\\u0430\\u043b\\u043e\\u0436\\u043d\\u0438\\u043a\", \"\\u0437\\u0430\\u043b\\u043e\\u0436\\u043d\\u0438\\u043a\", \"\\u0437\\u0430\\u043d\\u0438\\u043c\\u0430\", \"\\u0437\\u0430\\u043d\\u0438\\u043c\\u0430\", \"\\u0437\\u0430\\u043d\\u0438\\u043c\\u0430\", \"\\u0437\\u0430\\u043d\\u0438\\u043c\\u0430\", \"\\u0437\\u0430\\u043d\\u0438\\u043c\\u0430\", \"\\u0437\\u0430\\u043d\\u0438\\u043c\\u0430\", \"\\u0437\\u0430\\u043d\\u0438\\u043c\\u0430\", \"\\u0437\\u0430\\u043d\\u0438\\u043c\\u0430\", \"\\u0437\\u0430\\u043d\\u0438\\u043c\\u0430\", \"\\u0437\\u0430\\u043d\\u0438\\u043c\\u0430\", \"\\u0437\\u0430\\u043d\\u044f\", \"\\u0437\\u0430\\u043d\\u044f\", \"\\u0437\\u0430\\u043d\\u044f\", \"\\u0437\\u0430\\u043d\\u044f\", \"\\u0437\\u0430\\u043d\\u044f\", \"\\u0437\\u0430\\u043d\\u044f\", \"\\u0437\\u0430\\u043d\\u044f\", \"\\u0437\\u0430\\u043d\\u044f\", \"\\u0437\\u0430\\u043f\\u0440\\u0430\\u0432\\u0449\\u0438\\u043a\", \"\\u0437\\u0430\\u043f\\u0440\\u0435\\u0449\\u0430\", \"\\u0437\\u0430\\u043f\\u0440\\u0435\\u0449\\u0430\", \"\\u0437\\u0430\\u043f\\u0440\\u0435\\u0449\\u0430\", \"\\u0437\\u0430\\u043f\\u0440\\u0435\\u0449\\u0430\", \"\\u0437\\u0430\\u043f\\u0440\\u0435\\u0449\\u0430\", \"\\u0437\\u0430\\u043f\\u0440\\u0435\\u0449\\u0430\", \"\\u0437\\u0430\\u043f\\u0440\\u0435\\u0449\\u0435\\u043d\", \"\\u0437\\u0430\\u043f\\u0440\\u0435\\u0449\\u0435\\u043d\", \"\\u0437\\u0430\\u043f\\u0440\\u0435\\u0449\\u0435\\u043d\", \"\\u0437\\u0430\\u043f\\u0440\\u0435\\u0449\\u0435\\u043d\", \"\\u0437\\u0430\\u043f\\u0440\\u0435\\u0449\\u0435\\u043d\", \"\\u0437\\u0430\\u043f\\u0440\\u0435\\u0449\\u0435\\u043d\", \"\\u0437\\u0430\\u044f\\u0432\", \"\\u0437\\u0430\\u044f\\u0432\", \"\\u0437\\u0430\\u044f\\u0432\", \"\\u0437\\u0430\\u044f\\u0432\", \"\\u0437\\u0430\\u044f\\u0432\", \"\\u0437\\u0430\\u044f\\u0432\", \"\\u0437\\u0430\\u044f\\u0432\", \"\\u0437\\u0430\\u044f\\u0432\", \"\\u0437\\u0430\\u044f\\u0432\", \"\\u0437\\u0430\\u044f\\u0432\", \"\\u0437\\u0434\\u0430\\u043d\", \"\\u0437\\u0434\\u0430\\u043d\", \"\\u0437\\u0434\\u0430\\u043d\", \"\\u0437\\u0434\\u0430\\u043d\", \"\\u0437\\u0434\\u0430\\u043d\", \"\\u0437\\u0434\\u0430\\u043d\", \"\\u0437\\u0434\\u0430\\u043d\", \"\\u0437\\u0434\\u0430\\u043d\", \"\\u0437\\u0434\\u0430\\u043d\", \"\\u0437\\u0434\\u0430\\u043d\", \"\\u0437\\u0434\\u043e\\u0440\\u043e\\u0432\\u0435\\u043d\\u0438\\u043d\", \"\\u0437\\u0435\\u043c\\u0444\\u0438\\u0440\", \"\\u0437\\u0443\\u0431\\u043a\", \"\\u0437\\u0443\\u0431\\u043a\", \"\\u0437\\u0443\\u0431\\u043a\\u043e\\u0432\", \"\\u0438\\u0433\\u0440\", \"\\u0438\\u0433\\u0440\", \"\\u0438\\u0433\\u0440\", \"\\u0438\\u0433\\u0440\", \"\\u0438\\u0433\\u0440\", \"\\u0438\\u0433\\u0440\", \"\\u0438\\u0433\\u0440\", \"\\u0438\\u0433\\u0440\", \"\\u0438\\u0433\\u0440\", \"\\u0438\\u0433\\u0440\", \"\\u0438\\u0433\\u0440\\u043e\\u043a\", \"\\u0438\\u0433\\u0440\\u043e\\u043a\", \"\\u0438\\u0433\\u0440\\u043e\\u043a\", \"\\u0438\\u0433\\u0440\\u043e\\u043a\", \"\\u0438\\u0433\\u0440\\u043e\\u043a\", \"\\u0438\\u0433\\u0440\\u043e\\u043a\", \"\\u0438\\u0433\\u0440\\u043e\\u043a\", \"\\u0438\\u0437\\u0431\\u0438\\u0440\\u0430\\u0442\\u0435\\u043b\\u044c\\u043d\", \"\\u0438\\u0437\\u0431\\u0438\\u0440\\u0430\\u0442\\u0435\\u043b\\u044c\\u043d\", \"\\u0438\\u0437\\u0432\\u0435\\u0441\\u0442\\u043d\", \"\\u0438\\u0437\\u0432\\u0435\\u0441\\u0442\\u043d\", \"\\u0438\\u0437\\u0432\\u0435\\u0441\\u0442\\u043d\", \"\\u0438\\u0437\\u0432\\u0435\\u0441\\u0442\\u043d\", \"\\u0438\\u0437\\u0432\\u0435\\u0441\\u0442\\u043d\", \"\\u0438\\u0437\\u0432\\u0435\\u0441\\u0442\\u043d\", \"\\u0438\\u0437\\u0432\\u0435\\u0441\\u0442\\u043d\", \"\\u0438\\u0437\\u0432\\u0435\\u0441\\u0442\\u043d\", \"\\u0438\\u0437\\u0432\\u0435\\u0441\\u0442\\u043d\", \"\\u0438\\u0437\\u0432\\u0435\\u0441\\u0442\\u043d\", \"\\u0438\\u0437\\u043c\\u0430\\u0439\\u043b\", \"\\u0438\\u0437\\u043d\\u0430\\u0441\\u0438\\u043b\\u043e\\u0432\\u0430\\u043d\", \"\\u0438\\u0437\\u043d\\u0430\\u0441\\u0438\\u043b\\u043e\\u0432\\u0430\\u043d\", \"\\u0438\\u0437\\u043d\\u0430\\u0441\\u0438\\u043b\\u043e\\u0432\\u0430\\u043d\", \"\\u0438\\u0437\\u043d\\u0430\\u0441\\u0438\\u043b\\u043e\\u0432\\u0430\\u043d\", \"\\u0438\\u0437\\u043d\\u0430\\u0441\\u0438\\u043b\\u043e\\u0432\\u0430\\u043d\", \"\\u0438\\u043c\\u043c\\u0438\\u0433\\u0440\\u0430\\u043d\\u0442\", \"\\u0438\\u043d\\u0434\", \"\\u0438\\u043d\\u0434\", \"\\u0438\\u043d\\u0434\", \"\\u0438\\u043d\\u0434\", \"\\u0438\\u043d\\u0434\", \"\\u0438\\u043d\\u0434\", \"\\u0438\\u043d\\u0434\", \"\\u0438\\u043d\\u0434\\u0438\\u0439\\u0441\\u043a\", \"\\u0438\\u043d\\u0434\\u0438\\u0439\\u0441\\u043a\", \"\\u0438\\u043d\\u0434\\u0438\\u0439\\u0441\\u043a\", \"\\u0438\\u043d\\u0434\\u0438\\u0439\\u0441\\u043a\", \"\\u0438\\u043d\\u0434\\u0438\\u0439\\u0441\\u043a\", \"\\u0438\\u043d\\u0434\\u0438\\u0439\\u0441\\u043a\", \"\\u0438\\u043d\\u0444\\u043e\\u0440\\u043c\\u0430\\u0446\", \"\\u0438\\u043d\\u0444\\u043e\\u0440\\u043c\\u0430\\u0446\", \"\\u0438\\u043d\\u0444\\u043e\\u0440\\u043c\\u0430\\u0446\", \"\\u0438\\u043d\\u0444\\u043e\\u0440\\u043c\\u0430\\u0446\", \"\\u0438\\u043d\\u0444\\u043e\\u0440\\u043c\\u0430\\u0446\", \"\\u0438\\u043d\\u0444\\u043e\\u0440\\u043c\\u0430\\u0446\", \"\\u0438\\u043d\\u0444\\u043e\\u0440\\u043c\\u0430\\u0446\", \"\\u0438\\u043d\\u0444\\u043e\\u0440\\u043c\\u0430\\u0446\", \"\\u0438\\u043d\\u0444\\u043e\\u0440\\u043c\\u0430\\u0446\", \"\\u0438\\u043d\\u0444\\u043e\\u0440\\u043c\\u0430\\u0446\", \"\\u0438\\u043d\\u0446\\u0438\\u0434\\u0435\\u043d\\u0442\", \"\\u0438\\u043d\\u0446\\u0438\\u0434\\u0435\\u043d\\u0442\", \"\\u0438\\u043d\\u0446\\u0438\\u0434\\u0435\\u043d\\u0442\", \"\\u0438\\u043d\\u0446\\u0438\\u0434\\u0435\\u043d\\u0442\", \"\\u0438\\u043d\\u0446\\u0438\\u0434\\u0435\\u043d\\u0442\", \"\\u0438\\u043d\\u0446\\u0438\\u0434\\u0435\\u043d\\u0442\", \"\\u0438\\u043d\\u0446\\u0438\\u0434\\u0435\\u043d\\u0442\", \"\\u0438\\u043d\\u0446\\u0438\\u0434\\u0435\\u043d\\u0442\", \"\\u0438\\u043d\\u0446\\u0438\\u0434\\u0435\\u043d\\u0442\", \"\\u0438\\u043d\\u0446\\u0438\\u0434\\u0435\\u043d\\u0442\", \"\\u0438\\u0440\\u0430\\u043a\\u0441\\u043a\", \"\\u0438\\u0441\\u0430\", \"\\u0438\\u0441\\u043b\\u0430\\u043d\\u0434\\u0441\\u043a\", \"\\u043a\\u0430\\u0434\\u044b\\u0440\\u043e\\u0432\", \"\\u043a\\u0430\\u043c\\u0431\\u043e\\u0434\\u0436\", \"\\u043a\\u0430\\u0440\\u0430\\u0434\\u0436\\u043e\\u0432\", \"\\u043a\\u0430\\u0440\\u0442\\u0438\\u043d\", \"\\u043a\\u0430\\u0440\\u0442\\u0438\\u043d\", \"\\u043a\\u0430\\u0440\\u0442\\u0438\\u043d\", \"\\u043a\\u0430\\u0440\\u0442\\u0438\\u043d\", \"\\u043a\\u0430\\u0440\\u0442\\u0438\\u043d\", \"\\u043a\\u0430\\u0440\\u0442\\u0438\\u043d\", \"\\u043a\\u0430\\u0440\\u0442\\u0438\\u043d\", \"\\u043a\\u0430\\u0448\\u043c\\u0438\\u0440\", \"\\u043a\\u0430\\u044e\\u0442\", \"\\u043a\\u0432\\u0430\\u0434\\u0440\\u0430\\u0442\", \"\\u043a\\u0432\\u0430\\u0434\\u0440\\u0430\\u0442\", \"\\u043a\\u0432\\u0435\\u0442\\u0442\", \"\\u043a\\u0438\", \"\\u043a\\u0438\\u043f\\u0440\", \"\\u043a\\u0438\\u0440\\u0433\\u0438\\u0437\", \"\\u043a\\u0438\\u0440\\u0433\\u0438\\u0437\", \"\\u043a\\u0438\\u0440\\u0433\\u0438\\u0437\", \"\\u043a\\u0438\\u0440\\u0433\\u0438\\u0437\", \"\\u043a\\u0438\\u0440\\u0433\\u0438\\u0437\", \"\\u043a\\u0438\\u0440\\u0433\\u0438\\u0437\\u0441\\u043a\", \"\\u043a\\u0438\\u0440\\u0448\\u043d\\u0435\\u0440\", \"\\u043a\\u0438\\u0448\\u0438\\u043d\\u0435\\u0432\", \"\\u043a\\u0438\\u0448\\u0438\\u043d\\u0435\\u0432\", \"\\u043a\\u043b\\u0438\\u043d\\u0442\\u043e\\u043d\", \"\\u043a\\u043b\\u0443\\u0431\", \"\\u043a\\u043b\\u0443\\u0431\", \"\\u043a\\u043b\\u0443\\u0431\", \"\\u043a\\u043b\\u0443\\u0431\", \"\\u043a\\u043b\\u0443\\u0431\", \"\\u043a\\u043b\\u0443\\u0431\", \"\\u043a\\u043d\\u0434\\u0440\", \"\\u043a\\u043d\\u0434\\u0440\", \"\\u043a\\u043d\\u0434\\u0440\", \"\\u043a\\u043d\\u0434\\u0440\", \"\\u043a\\u043d\\u0438\\u0433\", \"\\u043a\\u043d\\u0438\\u0433\", \"\\u043a\\u043d\\u0438\\u0433\", \"\\u043a\\u043d\\u0438\\u0433\", \"\\u043a\\u043d\\u0438\\u0433\", \"\\u043a\\u043d\\u0438\\u0433\", \"\\u043a\\u043d\\u0438\\u0433\", \"\\u043a\\u043d\\u0438\\u0433\", \"\\u043a\\u043d\\u0438\\u0433\", \"\\u043a\\u043e\\u0432\\u0430\\u043b\\u044c\\u0447\\u0443\\u043a\", \"\\u043a\\u043e\\u0434\", \"\\u043a\\u043e\\u0434\", \"\\u043a\\u043e\\u0434\", \"\\u043a\\u043e\\u0434\\u0435\\u043a\\u0441\", \"\\u043a\\u043e\\u0434\\u0435\\u043a\\u0441\", \"\\u043a\\u043e\\u0434\\u0435\\u043a\\u0441\", \"\\u043a\\u043e\\u0434\\u0435\\u043a\\u0441\", \"\\u043a\\u043e\\u043c\\u0430\\u043d\\u0434\", \"\\u043a\\u043e\\u043c\\u0430\\u043d\\u0434\", \"\\u043a\\u043e\\u043c\\u0430\\u043d\\u0434\", \"\\u043a\\u043e\\u043c\\u0430\\u043d\\u0434\", \"\\u043a\\u043e\\u043c\\u0430\\u043d\\u0434\", \"\\u043a\\u043e\\u043c\\u0430\\u043d\\u0434\", \"\\u043a\\u043e\\u043c\\u0430\\u043d\\u0434\", \"\\u043a\\u043e\\u043c\\u0430\\u043d\\u0434\", \"\\u043a\\u043e\\u043c\\u0430\\u043d\\u0434\", \"\\u043a\\u043e\\u043c\\u0430\\u043d\\u0434\", \"\\u043a\\u043e\\u043c\\u0435\\u0442\", \"\\u043a\\u043e\\u043c\\u043f\\u0430\\u043d\", \"\\u043a\\u043e\\u043c\\u043f\\u0430\\u043d\", \"\\u043a\\u043e\\u043c\\u043f\\u0430\\u043d\", \"\\u043a\\u043e\\u043c\\u043f\\u0430\\u043d\", \"\\u043a\\u043e\\u043c\\u043f\\u0430\\u043d\", \"\\u043a\\u043e\\u043c\\u043f\\u0430\\u043d\", \"\\u043a\\u043e\\u043c\\u043f\\u0430\\u043d\", \"\\u043a\\u043e\\u043c\\u043f\\u0430\\u043d\", \"\\u043a\\u043e\\u043c\\u043f\\u0430\\u043d\", \"\\u043a\\u043e\\u043c\\u043f\\u0430\\u043d\", \"\\u043a\\u043e\\u043d\\u0432\\u0435\\u0440\\u0442\", \"\\u043a\\u043e\\u043d\\u0432\\u0435\\u0440\\u0442\\u043e\\u043f\\u043b\\u0430\\u043d\", \"\\u043a\\u043e\\u043d\\u0433\\u0440\\u0435\\u0441\\u0441\", \"\\u043a\\u043e\\u043d\\u0433\\u0440\\u0435\\u0441\\u0441\", \"\\u043a\\u043e\\u043d\\u0433\\u0440\\u0435\\u0441\\u0441\", \"\\u043a\\u043e\\u043d\\u0433\\u0440\\u0435\\u0441\\u0441\", \"\\u043a\\u043e\\u043d\\u0433\\u0440\\u0435\\u0441\\u0441\", \"\\u043a\\u043e\\u043d\\u0433\\u0440\\u0435\\u0441\\u0441\", \"\\u043a\\u043e\\u043d\\u0433\\u0440\\u0435\\u0441\\u0441\", \"\\u043a\\u043e\\u043d\\u0441\\u043e\\u043b\", \"\\u043a\\u043e\\u043d\\u0441\\u043e\\u043b\", \"\\u043a\\u043e\\u043d\\u0441\\u043e\\u043b\", \"\\u043a\\u043e\\u043d\\u0441\\u043e\\u043b\", \"\\u043a\\u043e\\u043d\\u0441\\u0442\\u0440\\u0443\\u043a\\u0446\", \"\\u043a\\u043e\\u043d\\u0441\\u0442\\u0440\\u0443\\u043a\\u0446\", \"\\u043a\\u043e\\u043d\\u0442\\u0440\\u043e\\u043b\\u043b\\u0435\\u0440\", \"\\u043a\\u043e\\u043d\\u0442\\u0440\\u043e\\u043b\\u043b\\u0435\\u0440\", \"\\u043a\\u043e\\u043d\\u0442\\u0440\\u043e\\u043b\\u043b\\u0435\\u0440\", \"\\u043a\\u043e\\u043f\\u0435\\u0435\\u043a\", \"\\u043a\\u043e\\u0440\\u0432\\u0435\\u0442\", \"\\u043a\\u043e\\u0440\\u043d\", \"\\u043a\\u043e\\u0440\\u043d\", \"\\u043a\\u043e\\u0441\\u0442\\u044f\\u0448\\u043a\", \"\\u043a\\u043e\\u0442\\u043e\\u0440\", \"\\u043a\\u043e\\u0442\\u043e\\u0440\", \"\\u043a\\u043e\\u0442\\u043e\\u0440\", \"\\u043a\\u043e\\u0442\\u043e\\u0440\", \"\\u043a\\u043e\\u0442\\u043e\\u0440\", \"\\u043a\\u043e\\u0442\\u043e\\u0440\", \"\\u043a\\u043e\\u0442\\u043e\\u0440\", \"\\u043a\\u043e\\u0442\\u043e\\u0440\", \"\\u043a\\u043e\\u0442\\u043e\\u0440\", \"\\u043a\\u043e\\u0442\\u043e\\u0440\", \"\\u043a\\u0440\\u0430\\u043c\\u0430\\u0440\\u0435\\u043d\\u043a\", \"\\u043a\\u0440\\u0430\\u0441\\u043d\\u043e\\u0436\\u0430\", \"\\u043a\\u0440\\u0435\\u0446\", \"\\u043a\\u0440\\u0443\\u043f\\u043d\\u043e\\u0432\", \"\\u043a\\u0443\\u0431\\u0430\\u043d\", \"\\u043a\\u0443\\u0431\\u043a\", \"\\u043a\\u0443\\u0431\\u043a\", \"\\u043a\\u0443\\u0431\\u043a\", \"\\u043a\\u0443\\u0431\\u043e\\u043c\\u0435\\u0442\\u0440\", \"\\u043a\\u0443\\u0431\\u043e\\u043c\\u0435\\u0442\\u0440\", \"\\u043a\\u0443\\u0432\\u0432\\u0430\\u0442\", \"\\u043a\\u0443\\u0440\", \"\\u043a\\u0443\\u0440\", \"\\u043a\\u0443\\u0440\", \"\\u043a\\u0443\\u0440\\u0434\\u0441\\u043a\", \"\\u043a\\u0443\\u0440\\u0441\", \"\\u043a\\u0443\\u0440\\u0441\", \"\\u043a\\u0443\\u0440\\u0441\", \"\\u043a\\u0443\\u0440\\u0441\", \"\\u043a\\u0443\\u0440\\u0441\", \"\\u043a\\u044d\\u043c\\u043f\\u0431\\u0435\\u043b\\u043b\", \"\\u043b\\u0430\\u043f\\u0442\\u0435\\u0432\", \"\\u043b\\u0435\\u0431\\u0435\\u0434\", \"\\u043b\\u0435\\u0431\\u0435\\u0434\\u0435\\u0432\", \"\\u043b\\u0435\\u043e\\u043d\\u0438\\u0434\", \"\\u043b\\u0435\\u043e\\u043d\\u0438\\u0434\", \"\\u043b\\u0435\\u0442\\u043d\", \"\\u043b\\u0435\\u0442\\u043d\", \"\\u043b\\u0435\\u0442\\u043d\", \"\\u043b\\u0435\\u0442\\u043d\", \"\\u043b\\u0435\\u0442\\u043d\", \"\\u043b\\u0435\\u0442\\u043d\", \"\\u043b\\u0435\\u0442\\u043d\", \"\\u043b\\u0435\\u0442\\u043d\", \"\\u043b\\u0435\\u0442\\u043d\", \"\\u043b\\u0435\\u0442\\u043d\", \"\\u043b\\u043e\\u0434\\u0437\", \"\\u043b\\u043e\\u0442\\u043a\", \"\\u043b\\u043e\\u0445\\u0430\", \"\\u043b\\u043e\\u0445\\u0430\", \"\\u043b\\u0443\\u0440\\u043a\\u043e\\u043c\\u043e\\u0440\", \"\\u043b\\u0443\\u0447\\u0448\", \"\\u043b\\u0443\\u0447\\u0448\", \"\\u043b\\u0443\\u0447\\u0448\", \"\\u043b\\u0443\\u0447\\u0448\", \"\\u043b\\u0443\\u0447\\u0448\", \"\\u043b\\u0443\\u0447\\u0448\", \"\\u043b\\u0443\\u0447\\u0448\", \"\\u043b\\u0443\\u0447\\u0448\", \"\\u043b\\u0443\\u0447\\u0448\", \"\\u043c\\u0430\\u0433\\u0430\\u0437\\u0438\\u043d\", \"\\u043c\\u0430\\u0433\\u0430\\u0437\\u0438\\u043d\", \"\\u043c\\u0430\\u0433\\u0430\\u0437\\u0438\\u043d\", \"\\u043c\\u0430\\u0433\\u0430\\u0437\\u0438\\u043d\", \"\\u043c\\u0430\\u0433\\u0430\\u0437\\u0438\\u043d\", \"\\u043c\\u0430\\u0433\\u0430\\u0437\\u0438\\u043d\", \"\\u043c\\u0430\\u0433\\u0430\\u0437\\u0438\\u043d\", \"\\u043c\\u0430\\u0433\\u0430\\u0437\\u0438\\u043d\", \"\\u043c\\u0430\\u0433\\u0430\\u0437\\u0438\\u043d\", \"\\u043c\\u0430\\u0433\\u043d\\u0438\\u0442\\u0441\\u043a\", \"\\u043c\\u0430\\u0433\\u043d\\u0438\\u0442\\u0441\\u043a\", \"\\u043c\\u0430\\u0433\\u043d\\u0438\\u0442\\u0441\\u043a\", \"\\u043c\\u0430\\u0433\\u043d\\u0438\\u0442\\u0441\\u043a\", \"\\u043c\\u0430\\u0433\\u043d\\u0438\\u0442\\u0441\\u043a\", \"\\u043c\\u0430\\u0434\\u0443\\u0440\", \"\\u043c\\u0430\\u043a\\u043a\\u0438\\u0432\\u0435\\u0440\", \"\\u043c\\u0430\\u043b\\u0438\\u043d\", \"\\u043c\\u0430\\u043b\\u044b\\u0448\\u043a\", \"\\u043c\\u0430\\u043b\\u044c\\u0447\\u0438\\u043a\", \"\\u043c\\u0430\\u043b\\u044c\\u0447\\u0438\\u043a\", \"\\u043c\\u0430\\u043b\\u044c\\u0447\\u0438\\u043a\", \"\\u043c\\u0430\\u043b\\u044c\\u0447\\u0438\\u043a\", \"\\u043c\\u0430\\u043b\\u044c\\u0447\\u0438\\u043a\", \"\\u043c\\u0430\\u043b\\u044c\\u0447\\u0438\\u043a\", \"\\u043c\\u0430\\u0440\\u0441\\u043e\\u0432\", \"\\u043c\\u0430\\u0441\\u043a\\u043e\\u0442\", \"\\u043c\\u0430\\u0442\\u0447\", \"\\u043c\\u0430\\u0442\\u0447\", \"\\u043c\\u0430\\u0442\\u0447\", \"\\u043c\\u0430\\u0442\\u0447\", \"\\u043c\\u0430\\u0442\\u0447\", \"\\u043c\\u0430\\u0442\\u0447\", \"\\u043c\\u0430\\u0442\\u0447\", \"\\u043c\\u0430\\u0442\\u0447\", \"\\u043c\\u0430\\u0442\\u0447\", \"\\u043c\\u0430\\u0442\\u0447\", \"\\u043c\\u0435\\u0433\\u0430\", \"\\u043c\\u0435\\u0441\\u0442\", \"\\u043c\\u0435\\u0441\\u0442\", \"\\u043c\\u0435\\u0441\\u0442\", \"\\u043c\\u0435\\u0441\\u0442\", \"\\u043c\\u0435\\u0441\\u0442\", \"\\u043c\\u0435\\u0441\\u0442\", \"\\u043c\\u0435\\u0441\\u0442\", \"\\u043c\\u0435\\u0441\\u0442\", \"\\u043c\\u0435\\u0441\\u0442\", \"\\u043c\\u0435\\u0441\\u0442\", \"\\u043c\\u0435\\u0441\\u0442\\u043d\", \"\\u043c\\u0435\\u0441\\u0442\\u043d\", \"\\u043c\\u0435\\u0441\\u0442\\u043d\", \"\\u043c\\u0435\\u0441\\u0442\\u043d\", \"\\u043c\\u0435\\u0441\\u0442\\u043d\", \"\\u043c\\u0435\\u0441\\u0442\\u043d\", \"\\u043c\\u0435\\u0441\\u0442\\u043d\", \"\\u043c\\u0435\\u0441\\u0442\\u043d\", \"\\u043c\\u0435\\u0441\\u0442\\u043d\", \"\\u043c\\u0435\\u0441\\u0442\\u043d\", \"\\u043c\\u0435\\u0442\\u0435\\u043e\\u0440\\u0438\\u0442\", \"\\u043c\\u0438\\u0433\\u0440\\u0430\\u0446\", \"\\u043c\\u0438\\u043a\\u0440\\u043e\\u0431\\u043b\\u043e\\u0433\", \"\\u043c\\u0438\\u043a\\u0440\\u043e\\u0431\\u043b\\u043e\\u0433\", \"\\u043c\\u0438\\u043a\\u0440\\u043e\\u0431\\u043b\\u043e\\u0433\", \"\\u043c\\u0438\\u043b\\u043b\\u0438\\u0430\\u0440\\u0434\", \"\\u043c\\u0438\\u043b\\u043b\\u0438\\u0430\\u0440\\u0434\", \"\\u043c\\u0438\\u043b\\u043b\\u0438\\u0430\\u0440\\u0434\", \"\\u043c\\u0438\\u043b\\u043b\\u0438\\u0430\\u0440\\u0434\", \"\\u043c\\u0438\\u043b\\u043b\\u0438\\u0430\\u0440\\u0434\", \"\\u043c\\u0438\\u043b\\u043b\\u0438\\u0430\\u0440\\u0434\", \"\\u043c\\u0438\\u043b\\u043b\\u0438\\u0430\\u0440\\u0434\", \"\\u043c\\u0438\\u043b\\u043b\\u0438\\u0430\\u0440\\u0434\", \"\\u043c\\u0438\\u043b\\u043b\\u0438\\u0430\\u0440\\u0434\", \"\\u043c\\u0438\\u043b\\u043b\\u0438\\u0430\\u0440\\u0434\", \"\\u043c\\u0438\\u043b\\u043b\\u0438\\u043e\\u043d\", \"\\u043c\\u0438\\u043b\\u043b\\u0438\\u043e\\u043d\", \"\\u043c\\u0438\\u043b\\u043b\\u0438\\u043e\\u043d\", \"\\u043c\\u0438\\u043b\\u043b\\u0438\\u043e\\u043d\", \"\\u043c\\u0438\\u043b\\u043b\\u0438\\u043e\\u043d\", \"\\u043c\\u0438\\u043b\\u043b\\u0438\\u043e\\u043d\", \"\\u043c\\u0438\\u043b\\u043b\\u0438\\u043e\\u043d\", \"\\u043c\\u0438\\u043b\\u043b\\u0438\\u043e\\u043d\", \"\\u043c\\u0438\\u043b\\u043b\\u0438\\u043e\\u043d\", \"\\u043c\\u0438\\u043b\\u043b\\u0438\\u043e\\u043d\", \"\\u043c\\u0438\\u043d\\u0438\\u0441\\u0442\\u0440\", \"\\u043c\\u0438\\u043d\\u0438\\u0441\\u0442\\u0440\", \"\\u043c\\u0438\\u043d\\u0438\\u0441\\u0442\\u0440\", \"\\u043c\\u0438\\u043d\\u0438\\u0441\\u0442\\u0440\", \"\\u043c\\u0438\\u043d\\u0438\\u0441\\u0442\\u0440\", \"\\u043c\\u0438\\u043d\\u0438\\u0441\\u0442\\u0440\", \"\\u043c\\u0438\\u043d\\u0438\\u0441\\u0442\\u0440\", \"\\u043c\\u0438\\u043d\\u0438\\u0441\\u0442\\u0440\", \"\\u043c\\u0438\\u043d\\u0438\\u0441\\u0442\\u0440\", \"\\u043c\\u0438\\u043d\\u0438\\u0441\\u0442\\u0440\", \"\\u043c\\u0438\\u043d\\u043d\\u0435\\u0441\\u043e\\u0442\", \"\\u043c\\u0438\\u043d\\u0443\\u0442\", \"\\u043c\\u0438\\u043d\\u0443\\u0442\", \"\\u043c\\u0438\\u043d\\u0443\\u0442\", \"\\u043c\\u0438\\u043d\\u0443\\u0442\", \"\\u043c\\u0438\\u043d\\u0443\\u0442\", \"\\u043c\\u0438\\u043d\\u0443\\u0442\", \"\\u043c\\u0438\\u043d\\u0443\\u0442\", \"\\u043c\\u0438\\u0440\", \"\\u043c\\u0438\\u0440\", \"\\u043c\\u0438\\u0440\", \"\\u043c\\u0438\\u0440\", \"\\u043c\\u0438\\u0440\", \"\\u043c\\u0438\\u0440\", \"\\u043c\\u0438\\u0440\", \"\\u043c\\u0438\\u0440\", \"\\u043c\\u0438\\u0440\", \"\\u043c\\u0438\\u0440\\u0440\", \"\\u043c\\u0438\\u0440\\u0440\", \"\\u043c\\u043e\\u0434\\u0435\\u043b\", \"\\u043c\\u043e\\u0434\\u0435\\u043b\", \"\\u043c\\u043e\\u0434\\u0435\\u043b\", \"\\u043c\\u043e\\u0434\\u0435\\u043b\", \"\\u043c\\u043e\\u0434\\u0435\\u043b\", \"\\u043c\\u043e\\u0434\\u0435\\u043b\", \"\\u043c\\u043e\\u0434\\u0435\\u043b\", \"\\u043c\\u043e\\u0434\\u0435\\u043b\", \"\\u043c\\u043e\\u043b\\u043e\\u0434\\u0435\\u0436\\u043d\", \"\\u043c\\u043e\\u043b\\u043e\\u0434\\u0435\\u0436\\u043d\", \"\\u043c\\u043e\\u043b\\u043e\\u0434\\u0435\\u0436\\u043d\", \"\\u043c\\u043e\\u043b\\u043e\\u0434\\u0435\\u0436\\u043d\", \"\\u043c\\u043e\\u043d\\u0435\\u0442\", \"\\u043c\\u043e\\u043d\\u0435\\u0442\", \"\\u043c\\u043e\\u043d\\u0442\\u0440\", \"\\u043c\\u043e\\u0440\\u0435\\u043b\\u043b\", \"\\u043c\\u043e\\u0440\\u0440\", \"\\u043c\\u043e\\u0441\\u0433\\u043e\\u0440\\u0434\\u0443\\u043c\", \"\\u043c\\u043e\\u0441\\u043a\\u0432\", \"\\u043c\\u043e\\u0441\\u043a\\u0432\", \"\\u043c\\u043e\\u0441\\u043a\\u0432\", \"\\u043c\\u043e\\u0441\\u043a\\u0432\", \"\\u043c\\u043e\\u0441\\u043a\\u0432\", \"\\u043c\\u043e\\u0441\\u043a\\u0432\", \"\\u043c\\u043e\\u0441\\u043a\\u0432\", \"\\u043c\\u043e\\u0441\\u043a\\u0432\", \"\\u043c\\u043e\\u0441\\u043a\\u0432\", \"\\u043c\\u043e\\u0441\\u043a\\u0432\", \"\\u043c\\u0443\\u0436\\u0441\\u043a\", \"\\u043c\\u0443\\u0436\\u0441\\u043a\", \"\\u043c\\u0443\\u0436\\u0441\\u043a\", \"\\u043c\\u0443\\u0436\\u0447\\u0438\\u043d\", \"\\u043c\\u0443\\u0436\\u0447\\u0438\\u043d\", \"\\u043c\\u0443\\u0436\\u0447\\u0438\\u043d\", \"\\u043c\\u0443\\u0436\\u0447\\u0438\\u043d\", \"\\u043c\\u0443\\u0436\\u0447\\u0438\\u043d\", \"\\u043c\\u0443\\u0436\\u0447\\u0438\\u043d\", \"\\u043c\\u0443\\u0436\\u0447\\u0438\\u043d\", \"\\u043c\\u0443\\u0436\\u0447\\u0438\\u043d\", \"\\u043c\\u0443\\u0436\\u0447\\u0438\\u043d\", \"\\u043c\\u0443\\u0436\\u0447\\u0438\\u043d\", \"\\u043c\\u0443\\u043b\\u044c\\u0442\\u0438\\u043f\\u043b\\u0435\\u0435\\u0440\", \"\\u043c\\u0443\\u0440\\u0430\\u043a\", \"\\u043c\\u044e\\u043b\\u043b\\u0435\\u0440\", \"\\u043d\\u0430\\u0433\\u043e\\u0440\\u043d\", \"\\u043d\\u0430\\u0433\\u0440\\u0430\\u0434\", \"\\u043d\\u0430\\u0433\\u0440\\u0430\\u0434\", \"\\u043d\\u0430\\u0433\\u0440\\u0430\\u0434\", \"\\u043d\\u0430\\u0433\\u0440\\u0430\\u0434\", \"\\u043d\\u0430\\u0433\\u0440\\u0430\\u0434\", \"\\u043d\\u0430\\u0433\\u0440\\u0430\\u0434\", \"\\u043d\\u0430\\u0433\\u0440\\u0430\\u0434\", \"\\u043d\\u0430\\u0437\\u0438\\u0440\", \"\\u043d\\u0430\\u043f\\u0430\\u0434\\u0430\", \"\\u043d\\u0430\\u043f\\u0430\\u0434\\u0430\", \"\\u043d\\u0430\\u043f\\u0430\\u0434\\u0430\", \"\\u043d\\u0430\\u043f\\u0430\\u0434\\u0430\", \"\\u043d\\u0430\\u043f\\u0430\\u0434\\u0430\", \"\\u043d\\u0430\\u043f\\u0430\\u0434\\u0430\", \"\\u043d\\u0430\\u043f\\u0430\\u0434\\u0430\", \"\\u043d\\u0430\\u0441\\u0435\\u0440\", \"\\u043d\\u0430\\u0445\\u043e\\u0434\", \"\\u043d\\u0430\\u0445\\u043e\\u0434\", \"\\u043d\\u0430\\u0445\\u043e\\u0434\", \"\\u043d\\u0430\\u0445\\u043e\\u0434\", \"\\u043d\\u0430\\u0445\\u043e\\u0434\", \"\\u043d\\u0430\\u0445\\u043e\\u0434\", \"\\u043d\\u0430\\u0445\\u043e\\u0434\", \"\\u043d\\u0430\\u0445\\u043e\\u0434\", \"\\u043d\\u0430\\u0445\\u043e\\u0434\", \"\\u043d\\u0430\\u0445\\u043e\\u0434\", \"\\u043d\\u0430\\u0446\\u0431\\u0430\\u043d\\u043a\", \"\\u043d\\u0435\\u0441\\u043a\\u043e\\u043b\\u044c\\u043a\", \"\\u043d\\u0435\\u0441\\u043a\\u043e\\u043b\\u044c\\u043a\", \"\\u043d\\u0435\\u0441\\u043a\\u043e\\u043b\\u044c\\u043a\", \"\\u043d\\u0435\\u0441\\u043a\\u043e\\u043b\\u044c\\u043a\", \"\\u043d\\u0435\\u0441\\u043a\\u043e\\u043b\\u044c\\u043a\", \"\\u043d\\u0435\\u0441\\u043a\\u043e\\u043b\\u044c\\u043a\", \"\\u043d\\u0435\\u0441\\u043a\\u043e\\u043b\\u044c\\u043a\", \"\\u043d\\u0435\\u0441\\u043a\\u043e\\u043b\\u044c\\u043a\", \"\\u043d\\u0435\\u0441\\u043a\\u043e\\u043b\\u044c\\u043a\", \"\\u043d\\u0435\\u0441\\u043a\\u043e\\u043b\\u044c\\u043a\", \"\\u043d\\u0435\\u0442\\u0440\\u0435\\u0437\\u0432\", \"\\u043d\\u0435\\u0442\\u0440\\u0435\\u0437\\u0432\", \"\\u043d\\u0435\\u0442\\u0440\\u0435\\u0437\\u0432\", \"\\u043d\\u043e\\u0431\\u0441\", \"\\u043d\\u043e\\u0432\", \"\\u043d\\u043e\\u0432\", \"\\u043d\\u043e\\u0432\", \"\\u043d\\u043e\\u0432\", \"\\u043d\\u043e\\u0432\", \"\\u043d\\u043e\\u0432\", \"\\u043d\\u043e\\u0432\", \"\\u043d\\u043e\\u0432\", \"\\u043d\\u043e\\u0432\", \"\\u043d\\u043e\\u0432\", \"\\u043d\\u044e\\u0441\", \"\\u043e\\u0431\\u0430\\u043c\", \"\\u043e\\u0431\\u0430\\u043c\", \"\\u043e\\u0431\\u0430\\u043c\", \"\\u043e\\u0431\\u0430\\u043c\", \"\\u043e\\u0431\\u0430\\u043c\", \"\\u043e\\u0431\\u0430\\u043c\", \"\\u043e\\u0431\\u0430\\u043c\", \"\\u043e\\u0431\\u0430\\u043c\", \"\\u043e\\u0431\\u0430\\u043c\", \"\\u043e\\u0431\\u0430\\u043c\", \"\\u043e\\u0431\\u0435\\u0440\\u0445\\u043e\\u0444\", \"\\u043e\\u0431\\u043b\\u0438\\u0433\\u0430\\u0446\", \"\\u043e\\u0431\\u043d\\u0430\\u0440\\u0443\\u0436\", \"\\u043e\\u0431\\u043d\\u0430\\u0440\\u0443\\u0436\", \"\\u043e\\u0431\\u043d\\u0430\\u0440\\u0443\\u0436\", \"\\u043e\\u0431\\u043d\\u0430\\u0440\\u0443\\u0436\", \"\\u043e\\u0431\\u043d\\u0430\\u0440\\u0443\\u0436\", \"\\u043e\\u0431\\u043d\\u0430\\u0440\\u0443\\u0436\", \"\\u043e\\u0431\\u043d\\u0430\\u0440\\u0443\\u0436\", \"\\u043e\\u0431\\u043d\\u0430\\u0440\\u0443\\u0436\", \"\\u043e\\u0431\\u043d\\u0430\\u0440\\u0443\\u0436\", \"\\u043e\\u0431\\u043e\\u0440\\u043e\\u043d\\u0441\\u0435\\u0440\\u0432\\u0438\\u0441\", \"\\u043e\\u0431\\u043e\\u0440\\u043e\\u043d\\u0441\\u0435\\u0440\\u0432\\u0438\\u0441\", \"\\u043e\\u0431\\u044a\\u0435\\u043a\\u0442\", \"\\u043e\\u0431\\u044a\\u0435\\u043a\\u0442\", \"\\u043e\\u0431\\u044a\\u0435\\u043a\\u0442\", \"\\u043e\\u0431\\u044a\\u0435\\u043a\\u0442\", \"\\u043e\\u0431\\u044a\\u0435\\u043a\\u0442\", \"\\u043e\\u0431\\u044a\\u0435\\u043a\\u0442\", \"\\u043e\\u0431\\u044a\\u0435\\u043a\\u0442\", \"\\u043e\\u0431\\u044a\\u0435\\u043a\\u0442\", \"\\u043e\\u0431\\u044b\\u0433\\u0440\\u0430\", \"\\u043e\\u0431\\u044b\\u0433\\u0440\\u0430\", \"\\u043e\\u0431\\u044b\\u0433\\u0440\\u0430\", \"\\u043e\\u0431\\u044c\", \"\\u043e\\u0431\\u044c\", \"\\u043e\\u0431\\u044c\", \"\\u043e\\u0431\\u044c\", \"\\u043e\\u0431\\u044c\", \"\\u043e\\u0433\\u0440\\u0430\\u0431\", \"\\u043e\\u0433\\u0440\\u0430\\u0431\\u043b\\u0435\\u043d\", \"\\u043e\\u0433\\u0440\\u0430\\u0431\\u043b\\u0435\\u043d\", \"\\u043e\\u0433\\u0440\\u0430\\u0431\\u043b\\u0435\\u043d\", \"\\u043e\\u0433\\u0440\\u0430\\u0431\\u043b\\u0435\\u043d\", \"\\u043e\\u0434\\u043d\", \"\\u043e\\u0434\\u043d\", \"\\u043e\\u0434\\u043d\", \"\\u043e\\u0434\\u043d\", \"\\u043e\\u0434\\u043d\", \"\\u043e\\u0434\\u043d\", \"\\u043e\\u0434\\u043d\", \"\\u043e\\u0434\\u043d\", \"\\u043e\\u0434\\u043d\", \"\\u043e\\u0434\\u043d\", \"\\u043e\\u0434\\u043d\\u0430\\u043a\", \"\\u043e\\u0434\\u043d\\u0430\\u043a\", \"\\u043e\\u0434\\u043d\\u0430\\u043a\", \"\\u043e\\u0434\\u043d\\u0430\\u043a\", \"\\u043e\\u0434\\u043d\\u0430\\u043a\", \"\\u043e\\u0434\\u043d\\u0430\\u043a\", \"\\u043e\\u0434\\u043d\\u0430\\u043a\", \"\\u043e\\u0434\\u043d\\u0430\\u043a\", \"\\u043e\\u0434\\u043d\\u0430\\u043a\", \"\\u043e\\u0434\\u043d\\u0430\\u043a\", \"\\u043e\\u043a\\u043e\\u043b\", \"\\u043e\\u043a\\u043e\\u043b\", \"\\u043e\\u043a\\u043e\\u043b\", \"\\u043e\\u043a\\u043e\\u043b\", \"\\u043e\\u043a\\u043e\\u043b\", \"\\u043e\\u043a\\u043e\\u043b\", \"\\u043e\\u043a\\u043e\\u043b\", \"\\u043e\\u043a\\u043e\\u043b\", \"\\u043e\\u043a\\u043e\\u043b\", \"\\u043e\\u043a\\u043e\\u043b\", \"\\u043e\\u043a\\u0440\\u0443\\u0430\\u0448\\u0432\", \"\\u043e\\u043b\\u043b\\u0430\\u043d\\u0434\", \"\\u043e\\u043b\\u043b\\u0430\\u043d\\u0434\", \"\\u043e\\u043c\\u0430\\u0440\", \"\\u043e\\u043c\\u043d\\u0438\\u0444\\u043e\\u0431\\u043d\", \"\\u043e\\u043d\\u0438\\u0449\\u0435\\u043d\\u043a\", \"\\u043e\\u0440\\u043a\\u0435\\u0441\\u0442\\u0440\", \"\\u043e\\u0440\\u043a\\u0435\\u0441\\u0442\\u0440\", \"\\u043e\\u0441\\u043a\\u0430\\u0440\", \"\\u043e\\u0441\\u043a\\u0430\\u0440\", \"\\u043e\\u0441\\u043a\\u0430\\u0440\", \"\\u043e\\u0441\\u043a\\u0430\\u0440\", \"\\u043e\\u0441\\u0442\\u0440\\u043e\\u0432\", \"\\u043e\\u0441\\u0442\\u0440\\u043e\\u0432\", \"\\u043e\\u0441\\u0442\\u0440\\u043e\\u0432\", \"\\u043e\\u0441\\u0442\\u0440\\u043e\\u0432\", \"\\u043e\\u0441\\u0442\\u0440\\u043e\\u0432\", \"\\u043e\\u0442\\u0441\\u0442\\u0430\", \"\\u043e\\u0442\\u0441\\u0442\\u0430\", \"\\u043e\\u0442\\u0441\\u0442\\u0430\", \"\\u043e\\u0442\\u0447\\u0435\\u043a\\u0430\\u043d\", \"\\u043e\\u0445\\u043e\\u0442\", \"\\u043e\\u0445\\u043e\\u0442\", \"\\u043e\\u0445\\u043e\\u0442\", \"\\u043e\\u0445\\u043e\\u0442\", \"\\u043e\\u0445\\u043e\\u0442\", \"\\u043e\\u0445\\u043e\\u0442\", \"\\u043f\\u0430\\u0434\\u0432\", \"\\u043f\\u0430\\u043a\\u0438\\u0441\\u0442\\u0430\", \"\\u043f\\u0430\\u043a\\u0438\\u0441\\u0442\\u0430\", \"\\u043f\\u0430\\u043a\\u0438\\u0441\\u0442\\u0430\", \"\\u043f\\u0430\\u043a\\u0438\\u0441\\u0442\\u0430\", \"\\u043f\\u0430\\u043a\\u0438\\u0441\\u0442\\u0430\", \"\\u043f\\u0430\\u043a\\u0438\\u0441\\u0442\\u0430\\u043d\\u0441\\u043a\", \"\\u043f\\u0430\\u043a\\u0438\\u0441\\u0442\\u0430\\u043d\\u0441\\u043a\", \"\\u043f\\u0430\\u043a\\u0438\\u0441\\u0442\\u0430\\u043d\\u0441\\u043a\", \"\\u043f\\u0430\\u043a\\u0438\\u0441\\u0442\\u0430\\u043d\\u0441\\u043a\", \"\\u043f\\u0430\\u043a\\u0438\\u0441\\u0442\\u0430\\u043d\\u0441\\u043a\", \"\\u043f\\u0430\\u043b\\u0430\\u0442\", \"\\u043f\\u0430\\u043b\\u0430\\u0442\", \"\\u043f\\u0430\\u043b\\u0430\\u0442\", \"\\u043f\\u0430\\u043b\\u0430\\u0442\", \"\\u043f\\u0430\\u043b\\u0430\\u0442\", \"\\u043f\\u0430\\u043b\\u0430\\u0442\", \"\\u043f\\u0430\\u043b\\u0430\\u0442\", \"\\u043f\\u0430\\u043b\\u0430\\u0442\", \"\\u043f\\u0430\\u043c\\u0443\\u043a\", \"\\u043f\\u0430\\u043f\\u0430\\u0440\\u0430\\u0446\\u0446\", \"\\u043f\\u0430\\u0440\\u0435\\u043d\", \"\\u043f\\u0430\\u0440\\u043e\\u043c\", \"\\u043f\\u0430\\u0440\\u0442\", \"\\u043f\\u0430\\u0440\\u0442\", \"\\u043f\\u0430\\u0440\\u0442\", \"\\u043f\\u0430\\u0440\\u0442\", \"\\u043f\\u0430\\u0440\\u0442\", \"\\u043f\\u0430\\u0440\\u0442\", \"\\u043f\\u0430\\u0440\\u0442\", \"\\u043f\\u0430\\u0440\\u0442\", \"\\u043f\\u0430\\u0440\\u0442\", \"\\u043f\\u0430\\u0441\\u0441\\u0430\\u0436\\u0438\\u0440\", \"\\u043f\\u0430\\u0441\\u0441\\u0430\\u0436\\u0438\\u0440\", \"\\u043f\\u0430\\u0441\\u0441\\u0430\\u0436\\u0438\\u0440\", \"\\u043f\\u0430\\u0441\\u0441\\u0430\\u0436\\u0438\\u0440\", \"\\u043f\\u0430\\u0441\\u0441\\u0430\\u0436\\u0438\\u0440\", \"\\u043f\\u0430\\u0443\\u043b\\u0441\", \"\\u043f\\u0430\\u0443\\u044d\\u043b\\u043b\", \"\\u043f\\u0435\\u0434\\u043e\\u0444\\u0438\\u043b\", \"\\u043f\\u0435\\u0434\\u043e\\u0444\\u0438\\u043b\", \"\\u043f\\u0435\\u0434\\u043e\\u0444\\u0438\\u043b\", \"\\u043f\\u0435\\u0434\\u043e\\u0444\\u0438\\u043b\", \"\\u043f\\u0435\\u0440\\u0432\", \"\\u043f\\u0435\\u0440\\u0432\", \"\\u043f\\u0435\\u0440\\u0432\", \"\\u043f\\u0435\\u0440\\u0432\", \"\\u043f\\u0435\\u0440\\u0432\", \"\\u043f\\u0435\\u0440\\u0432\", \"\\u043f\\u0435\\u0440\\u0432\", \"\\u043f\\u0435\\u0440\\u0432\", \"\\u043f\\u0435\\u0440\\u0432\", \"\\u043f\\u0435\\u0440\\u0432\", \"\\u043f\\u0435\\u0440\\u0435\\u043f\\u0440\\u044f\\u0442\\u044b\\u0432\\u0430\", \"\\u043f\\u0435\\u0440\\u043a\\u0438\\u043d\\u0441\", \"\\u043f\\u0435\\u0440\\u0441\\u0438\\u043a\", \"\\u043f\\u0438\\u0432\", \"\\u043f\\u0438\\u0432\", \"\\u043f\\u0438\\u043c\\u043a\\u0438\\u043d\", \"\\u043f\\u0438\\u043d\\u0447\\u043e\\u043d\", \"\\u043f\\u0438\\u043e\\u0442\\u0440\\u043e\\u0432\\u0441\\u043a\", \"\\u043f\\u0438\\u0440\\u0441\", \"\\u043f\\u0438\\u0440\\u0441\", \"\\u043f\\u0438\\u0441\\u0430\\u0442\\u0435\\u043b\", \"\\u043f\\u0438\\u0441\\u0430\\u0442\\u0435\\u043b\", \"\\u043f\\u0438\\u0441\\u0430\\u0442\\u0435\\u043b\", \"\\u043f\\u0438\\u0441\\u0430\\u0442\\u0435\\u043b\", \"\\u043f\\u0438\\u0441\\u0430\\u0442\\u0435\\u043b\", \"\\u043f\\u0438\\u0441\\u0430\\u0442\\u0435\\u043b\", \"\\u043f\\u0438\\u0441\\u044c\\u043c\", \"\\u043f\\u0438\\u0441\\u044c\\u043c\", \"\\u043f\\u0438\\u0441\\u044c\\u043c\", \"\\u043f\\u0438\\u0441\\u044c\\u043c\", \"\\u043f\\u0438\\u0441\\u044c\\u043c\", \"\\u043f\\u0438\\u0441\\u044c\\u043c\", \"\\u043f\\u0438\\u0441\\u044c\\u043c\", \"\\u043f\\u0438\\u0441\\u044c\\u043c\", \"\\u043f\\u0438\\u0444\", \"\\u043f\\u0438\\u0445\\u043b\\u0435\\u0440\", \"\\u043f\\u043e\\u0431\\u0435\\u0434\", \"\\u043f\\u043e\\u0431\\u0435\\u0434\", \"\\u043f\\u043e\\u0431\\u0435\\u0434\", \"\\u043f\\u043e\\u0431\\u0435\\u0434\", \"\\u043f\\u043e\\u0431\\u0435\\u0434\", \"\\u043f\\u043e\\u0431\\u0435\\u0434\", \"\\u043f\\u043e\\u0431\\u0435\\u0434\", \"\\u043f\\u043e\\u0431\\u0435\\u0434\", \"\\u043f\\u043e\\u0431\\u0435\\u0434\\u0438\\u0442\\u0435\\u043b\", \"\\u043f\\u043e\\u0431\\u0435\\u0434\\u0438\\u0442\\u0435\\u043b\", \"\\u043f\\u043e\\u0431\\u0435\\u0434\\u0438\\u0442\\u0435\\u043b\", \"\\u043f\\u043e\\u0431\\u0435\\u0434\\u0438\\u0442\\u0435\\u043b\", \"\\u043f\\u043e\\u0431\\u0435\\u0434\\u0438\\u0442\\u0435\\u043b\", \"\\u043f\\u043e\\u0431\\u0435\\u0434\\u0438\\u0442\\u0435\\u043b\", \"\\u043f\\u043e\\u0431\\u0435\\u0434\\u0438\\u0442\\u0435\\u043b\", \"\\u043f\\u043e\\u0431\\u0435\\u0434\\u0438\\u0442\\u0435\\u043b\", \"\\u043f\\u043e\\u0432\\u0441\\u0442\\u0430\\u043d\\u0446\", \"\\u043f\\u043e\\u0432\\u0441\\u0442\\u0430\\u043d\\u0446\", \"\\u043f\\u043e\\u0432\\u0441\\u0442\\u0430\\u043d\\u0446\", \"\\u043f\\u043e\\u0432\\u0441\\u0442\\u0430\\u043d\\u0446\", \"\\u043f\\u043e\\u0432\\u0441\\u0442\\u0430\\u043d\\u0446\", \"\\u043f\\u043e\\u0433\\u0440\\u0430\\u043d\\u0438\\u0447\\u043d\\u0438\\u043a\", \"\\u043f\\u043e\\u0433\\u0440\\u0430\\u043d\\u0438\\u0447\\u043d\\u0438\\u043a\", \"\\u043f\\u043e\\u0433\\u0440\\u0430\\u043d\\u0438\\u0447\\u043d\\u0438\\u043a\", \"\\u043f\\u043e\\u0434\\u0431\\u043e\\u0440\", \"\\u043f\\u043e\\u0434\\u0432\\u043e\\u0434\\u043d\", \"\\u043f\\u043e\\u0434\\u0432\\u043e\\u0434\\u043d\", \"\\u043f\\u043e\\u0434\\u043f\\u0438\\u0441\", \"\\u043f\\u043e\\u0434\\u043f\\u0438\\u0441\", \"\\u043f\\u043e\\u0434\\u043f\\u0438\\u0441\", \"\\u043f\\u043e\\u0434\\u043f\\u0438\\u0441\", \"\\u043f\\u043e\\u0434\\u043f\\u0438\\u0441\", \"\\u043f\\u043e\\u0434\\u043f\\u0438\\u0441\", \"\\u043f\\u043e\\u0434\\u043f\\u0438\\u0441\\u0430\", \"\\u043f\\u043e\\u0434\\u043f\\u0438\\u0441\\u0430\", \"\\u043f\\u043e\\u0434\\u043f\\u0438\\u0441\\u0430\", \"\\u043f\\u043e\\u0434\\u043f\\u0438\\u0441\\u0430\", \"\\u043f\\u043e\\u0434\\u043f\\u0438\\u0441\\u0430\", \"\\u043f\\u043e\\u0434\\u043f\\u0438\\u0441\\u0430\", \"\\u043f\\u043e\\u0434\\u043f\\u0438\\u0441\\u0430\", \"\\u043f\\u043e\\u0434\\u043f\\u0438\\u0441\\u0430\", \"\\u043f\\u043e\\u0434\\u043f\\u0438\\u0441\\u0430\", \"\\u043f\\u043e\\u0434\\u043f\\u0438\\u0441\\u0430\", \"\\u043f\\u043e\\u0436\\u0430\\u0440\", \"\\u043f\\u043e\\u0436\\u0430\\u0440\", \"\\u043f\\u043e\\u0436\\u0430\\u0440\", \"\\u043f\\u043e\\u0436\\u0430\\u0440\", \"\\u043f\\u043e\\u0436\\u0430\\u0440\", \"\\u043f\\u043e\\u0436\\u0430\\u0440\", \"\\u043f\\u043e\\u0436\\u0430\\u0440\", \"\\u043f\\u043e\\u0436\\u0430\\u0440\", \"\\u043f\\u043e\\u0437\\u043d\\u0435\\u0440\", \"\\u043f\\u043e\\u043a\\u0430\\u0437\\u0430\\u0442\\u0435\\u043b\", \"\\u043f\\u043e\\u043a\\u0430\\u0437\\u0430\\u0442\\u0435\\u043b\", \"\\u043f\\u043e\\u043a\\u0430\\u0437\\u0430\\u0442\\u0435\\u043b\", \"\\u043f\\u043e\\u043a\\u0430\\u0437\\u0430\\u0442\\u0435\\u043b\", \"\\u043f\\u043e\\u043a\\u0430\\u0437\\u0430\\u0442\\u0435\\u043b\", \"\\u043f\\u043e\\u043a\\u0430\\u0437\\u0430\\u0442\\u0435\\u043b\", \"\\u043f\\u043e\\u043a\\u0430\\u0437\\u0430\\u0442\\u0435\\u043b\", \"\\u043f\\u043e\\u043a\\u0435\\u043c\\u043e\\u043d\", \"\\u043f\\u043e\\u043b\\u0438\\u0433\\u0440\\u0430\\u0444\", \"\\u043f\\u043e\\u043b\\u0438\\u0446\", \"\\u043f\\u043e\\u043b\\u0438\\u0446\", \"\\u043f\\u043e\\u043b\\u0438\\u0446\", \"\\u043f\\u043e\\u043b\\u0438\\u0446\", \"\\u043f\\u043e\\u043b\\u0438\\u0446\", \"\\u043f\\u043e\\u043b\\u0438\\u0446\", \"\\u043f\\u043e\\u043b\\u0438\\u0446\", \"\\u043f\\u043e\\u043b\\u0438\\u0446\", \"\\u043f\\u043e\\u043b\\u0438\\u0446\", \"\\u043f\\u043e\\u043b\\u0438\\u0446\", \"\\u043f\\u043e\\u043b\\u0438\\u0446\\u0435\\u0439\\u0441\\u043a\", \"\\u043f\\u043e\\u043b\\u0438\\u0446\\u0435\\u0439\\u0441\\u043a\", \"\\u043f\\u043e\\u043b\\u0438\\u0446\\u0435\\u0439\\u0441\\u043a\", \"\\u043f\\u043e\\u043b\\u0438\\u0446\\u0435\\u0439\\u0441\\u043a\", \"\\u043f\\u043e\\u043b\\u0438\\u0446\\u0435\\u0439\\u0441\\u043a\", \"\\u043f\\u043e\\u043b\\u0438\\u0446\\u0435\\u0439\\u0441\\u043a\", \"\\u043f\\u043e\\u043b\\u0438\\u0446\\u0435\\u0439\\u0441\\u043a\", \"\\u043f\\u043e\\u043b\\u0438\\u0446\\u0435\\u0439\\u0441\\u043a\", \"\\u043f\\u043e\\u043b\\u0438\\u0446\\u0435\\u0439\\u0441\\u043a\", \"\\u043f\\u043e\\u043b\\u043e\\u043d\\u0441\\u043a\", \"\\u043f\\u043e\\u043b\\u0443\\u0437\\u0430\\u0449\\u0438\\u0442\\u043d\\u0438\\u043a\", \"\\u043f\\u043e\\u043b\\u0443\\u0444\\u0438\\u043d\\u0430\\u043b\", \"\\u043f\\u043e\\u043b\\u0443\\u0447\", \"\\u043f\\u043e\\u043b\\u0443\\u0447\", \"\\u043f\\u043e\\u043b\\u0443\\u0447\", \"\\u043f\\u043e\\u043b\\u0443\\u0447\", \"\\u043f\\u043e\\u043b\\u0443\\u0447\", \"\\u043f\\u043e\\u043b\\u0443\\u0447\", \"\\u043f\\u043e\\u043b\\u0443\\u0447\", \"\\u043f\\u043e\\u043b\\u0443\\u0447\", \"\\u043f\\u043e\\u043b\\u0443\\u0447\", \"\\u043f\\u043e\\u043b\\u0443\\u0447\", \"\\u043f\\u043e\\u0441\\u0430\\u0434\\u043a\", \"\\u043f\\u043e\\u0441\\u0430\\u0434\\u043a\", \"\\u043f\\u043e\\u0441\\u0442\", \"\\u043f\\u043e\\u0441\\u0442\", \"\\u043f\\u043e\\u0441\\u0442\", \"\\u043f\\u043e\\u0441\\u0442\", \"\\u043f\\u043e\\u0441\\u0442\", \"\\u043f\\u043e\\u0441\\u0442\", \"\\u043f\\u043e\\u0441\\u0442\", \"\\u043f\\u043e\\u0441\\u0442\", \"\\u043f\\u043e\\u0441\\u0442\", \"\\u043f\\u043e\\u0441\\u0442\", \"\\u043f\\u043e\\u0441\\u0442\\u0440\\u0430\\u0434\\u0430\", \"\\u043f\\u043e\\u0441\\u0442\\u0440\\u0430\\u0434\\u0430\", \"\\u043f\\u043e\\u0441\\u0442\\u0440\\u0430\\u0434\\u0430\", \"\\u043f\\u043e\\u0441\\u0442\\u0440\\u0430\\u0434\\u0430\", \"\\u043f\\u043e\\u0441\\u0442\\u0440\\u0430\\u0434\\u0430\", \"\\u043f\\u043e\\u0441\\u0442\\u0440\\u0430\\u0434\\u0430\", \"\\u043f\\u043e\\u0441\\u0442\\u0440\\u0430\\u0434\\u0430\", \"\\u043f\\u043e\\u0441\\u0442\\u0440\\u0430\\u0434\\u0430\", \"\\u043f\\u043e\\u0441\\u0442\\u0440\\u0430\\u0434\\u0430\", \"\\u043f\\u043e\\u0441\\u0442\\u0440\\u0430\\u0434\\u0430\", \"\\u043f\\u043e\\u0442\\u043e\\u043b\\u043a\", \"\\u043f\\u0440\\u0430\\u0432\\u0438\\u0442\\u0435\\u043b\\u044c\\u0441\\u0442\\u0432\", \"\\u043f\\u0440\\u0430\\u0432\\u0438\\u0442\\u0435\\u043b\\u044c\\u0441\\u0442\\u0432\", \"\\u043f\\u0440\\u0430\\u0432\\u0438\\u0442\\u0435\\u043b\\u044c\\u0441\\u0442\\u0432\", \"\\u043f\\u0440\\u0430\\u0432\\u0438\\u0442\\u0435\\u043b\\u044c\\u0441\\u0442\\u0432\", \"\\u043f\\u0440\\u0430\\u0432\\u0438\\u0442\\u0435\\u043b\\u044c\\u0441\\u0442\\u0432\", \"\\u043f\\u0440\\u0430\\u0432\\u0438\\u0442\\u0435\\u043b\\u044c\\u0441\\u0442\\u0432\", \"\\u043f\\u0440\\u0430\\u0432\\u0438\\u0442\\u0435\\u043b\\u044c\\u0441\\u0442\\u0432\", \"\\u043f\\u0440\\u0430\\u0432\\u0438\\u0442\\u0435\\u043b\\u044c\\u0441\\u0442\\u0432\", \"\\u043f\\u0440\\u0430\\u0432\\u0438\\u0442\\u0435\\u043b\\u044c\\u0441\\u0442\\u0432\", \"\\u043f\\u0440\\u0430\\u0432\\u0438\\u0442\\u0435\\u043b\\u044c\\u0441\\u0442\\u0432\", \"\\u043f\\u0440\\u0435\\u0434\\u0441\\u0442\\u0430\\u0432\\u0438\\u0442\\u0435\\u043b\", \"\\u043f\\u0440\\u0435\\u0434\\u0441\\u0442\\u0430\\u0432\\u0438\\u0442\\u0435\\u043b\", \"\\u043f\\u0440\\u0435\\u0434\\u0441\\u0442\\u0430\\u0432\\u0438\\u0442\\u0435\\u043b\", \"\\u043f\\u0440\\u0435\\u0434\\u0441\\u0442\\u0430\\u0432\\u0438\\u0442\\u0435\\u043b\", \"\\u043f\\u0440\\u0435\\u0434\\u0441\\u0442\\u0430\\u0432\\u0438\\u0442\\u0435\\u043b\", \"\\u043f\\u0440\\u0435\\u0434\\u0441\\u0442\\u0430\\u0432\\u0438\\u0442\\u0435\\u043b\", \"\\u043f\\u0440\\u0435\\u0434\\u0441\\u0442\\u0430\\u0432\\u0438\\u0442\\u0435\\u043b\", \"\\u043f\\u0440\\u0435\\u0434\\u0441\\u0442\\u0430\\u0432\\u0438\\u0442\\u0435\\u043b\", \"\\u043f\\u0440\\u0435\\u0434\\u0441\\u0442\\u0430\\u0432\\u0438\\u0442\\u0435\\u043b\", \"\\u043f\\u0440\\u0435\\u0434\\u0441\\u0442\\u0430\\u0432\\u0438\\u0442\\u0435\\u043b\", \"\\u043f\\u0440\\u0435\\u0437\\u0438\\u0434\\u0435\\u043d\\u0442\", \"\\u043f\\u0440\\u0435\\u0437\\u0438\\u0434\\u0435\\u043d\\u0442\", \"\\u043f\\u0440\\u0435\\u0437\\u0438\\u0434\\u0435\\u043d\\u0442\", \"\\u043f\\u0440\\u0435\\u0437\\u0438\\u0434\\u0435\\u043d\\u0442\", \"\\u043f\\u0440\\u0435\\u0437\\u0438\\u0434\\u0435\\u043d\\u0442\", \"\\u043f\\u0440\\u0435\\u0437\\u0438\\u0434\\u0435\\u043d\\u0442\", \"\\u043f\\u0440\\u0435\\u0437\\u0438\\u0434\\u0435\\u043d\\u0442\", \"\\u043f\\u0440\\u0435\\u0437\\u0438\\u0434\\u0435\\u043d\\u0442\", \"\\u043f\\u0440\\u0435\\u0437\\u0438\\u0434\\u0435\\u043d\\u0442\", \"\\u043f\\u0440\\u0435\\u0437\\u0438\\u0434\\u0435\\u043d\\u0442\", \"\\u043f\\u0440\\u0438\\u0441\\u0442\\u0430\\u0432\\u043a\", \"\\u043f\\u0440\\u0438\\u0441\\u0442\\u0430\\u0432\\u043a\", \"\\u043f\\u0440\\u043e\\u0435\\u043a\\u0442\", \"\\u043f\\u0440\\u043e\\u0435\\u043a\\u0442\", \"\\u043f\\u0440\\u043e\\u0435\\u043a\\u0442\", \"\\u043f\\u0440\\u043e\\u0435\\u043a\\u0442\", \"\\u043f\\u0440\\u043e\\u0435\\u043a\\u0442\", \"\\u043f\\u0440\\u043e\\u0435\\u043a\\u0442\", \"\\u043f\\u0440\\u043e\\u0435\\u043a\\u0442\", \"\\u043f\\u0440\\u043e\\u0435\\u043a\\u0442\", \"\\u043f\\u0440\\u043e\\u0435\\u043a\\u0442\", \"\\u043f\\u0440\\u043e\\u0435\\u043a\\u0442\", \"\\u043f\\u0440\\u043e\\u0438\\u0437\\u043e\\u0448\\u043b\", \"\\u043f\\u0440\\u043e\\u0438\\u0437\\u043e\\u0448\\u043b\", \"\\u043f\\u0440\\u043e\\u0438\\u0437\\u043e\\u0448\\u043b\", \"\\u043f\\u0440\\u043e\\u0438\\u0437\\u043e\\u0448\\u043b\", \"\\u043f\\u0440\\u043e\\u0438\\u0437\\u043e\\u0448\\u043b\", \"\\u043f\\u0440\\u043e\\u0438\\u0437\\u043e\\u0448\\u043b\", \"\\u043f\\u0440\\u043e\\u0438\\u0437\\u043e\\u0448\\u043b\", \"\\u043f\\u0440\\u043e\\u0438\\u0437\\u043e\\u0448\\u043b\", \"\\u043f\\u0440\\u043e\\u0438\\u0437\\u043e\\u0448\\u043b\", \"\\u043f\\u0440\\u043e\\u0438\\u0437\\u043e\\u0448\\u043b\", \"\\u043f\\u0440\\u043e\\u043f\\u0430\\u0433\\u0430\\u043d\\u0434\", \"\\u043f\\u0440\\u043e\\u043f\\u0430\\u0433\\u0430\\u043d\\u0434\", \"\\u043f\\u0440\\u043e\\u043f\\u0430\\u0433\\u0430\\u043d\\u0434\", \"\\u043f\\u0440\\u043e\\u0446\\u0435\\u043d\\u0442\", \"\\u043f\\u0440\\u043e\\u0446\\u0435\\u043d\\u0442\", \"\\u043f\\u0440\\u043e\\u0446\\u0435\\u043d\\u0442\", \"\\u043f\\u0440\\u043e\\u0446\\u0435\\u043d\\u0442\", \"\\u043f\\u0440\\u043e\\u0446\\u0435\\u043d\\u0442\", \"\\u043f\\u0440\\u043e\\u0446\\u0435\\u043d\\u0442\", \"\\u043f\\u0440\\u043e\\u0446\\u0435\\u043d\\u0442\", \"\\u043f\\u0440\\u043e\\u0446\\u0435\\u043d\\u0442\", \"\\u043f\\u0440\\u043e\\u0446\\u0435\\u043d\\u0442\", \"\\u043f\\u0440\\u043e\\u0446\\u0435\\u043d\\u0442\", \"\\u043f\\u0440\\u043e\\u0446\\u0435\\u043d\\u0442\\u043d\", \"\\u043f\\u0440\\u043e\\u0446\\u0435\\u043d\\u0442\\u043d\", \"\\u043f\\u0440\\u043e\\u0446\\u0435\\u043d\\u0442\\u043d\", \"\\u043f\\u0440\\u043e\\u0446\\u0435\\u043d\\u0442\\u043d\", \"\\u043f\\u0441\\u0438\\u0445\", \"\\u043f\\u0442\\u0438\\u0446\", \"\\u043f\\u0442\\u0438\\u0446\", \"\\u043f\\u0442\\u0438\\u0446\", \"\\u043f\\u0445\\u0435\\u043d\\u044c\\u044f\", \"\\u0440\\u0430\\u0431\\u043e\\u0442\", \"\\u0440\\u0430\\u0431\\u043e\\u0442\", \"\\u0440\\u0430\\u0431\\u043e\\u0442\", \"\\u0440\\u0430\\u0431\\u043e\\u0442\", \"\\u0440\\u0430\\u0431\\u043e\\u0442\", \"\\u0440\\u0430\\u0431\\u043e\\u0442\", \"\\u0440\\u0430\\u0431\\u043e\\u0442\", \"\\u0440\\u0430\\u0431\\u043e\\u0442\", \"\\u0440\\u0430\\u0431\\u043e\\u0442\", \"\\u0440\\u0430\\u0431\\u043e\\u0442\", \"\\u0440\\u0430\\u0437\\u0432\\u043e\\u0437\\u0436\\u0430\", \"\\u0440\\u0430\\u0437\\u0432\\u043e\\u0437\\u0436\\u0430\", \"\\u0440\\u0430\\u0439\\u043e\\u043d\", \"\\u0440\\u0430\\u0439\\u043e\\u043d\", \"\\u0440\\u0430\\u0439\\u043e\\u043d\", \"\\u0440\\u0430\\u0439\\u043e\\u043d\", \"\\u0440\\u0430\\u0439\\u043e\\u043d\", \"\\u0440\\u0430\\u0439\\u043e\\u043d\", \"\\u0440\\u0430\\u0439\\u043e\\u043d\", \"\\u0440\\u0430\\u0439\\u043e\\u043d\", \"\\u0440\\u0430\\u0439\\u043e\\u043d\", \"\\u0440\\u0430\\u0439\\u043e\\u043d\", \"\\u0440\\u0430\\u0439\\u0445\\u0430\", \"\\u0440\\u0430\\u043d\", \"\\u0440\\u0430\\u043d\", \"\\u0440\\u0430\\u043d\", \"\\u0440\\u0430\\u043d\", \"\\u0440\\u0430\\u043d\", \"\\u0440\\u0430\\u043d\", \"\\u0440\\u0430\\u043d\", \"\\u0440\\u0430\\u043d\", \"\\u0440\\u0430\\u043d\", \"\\u0440\\u0430\\u043d\", \"\\u0440\\u0430\\u0441\\u0441\\u043b\\u0435\\u0434\\u043e\\u0432\\u0430\\u043d\", \"\\u0440\\u0430\\u0441\\u0441\\u043b\\u0435\\u0434\\u043e\\u0432\\u0430\\u043d\", \"\\u0440\\u0430\\u0441\\u0441\\u043b\\u0435\\u0434\\u043e\\u0432\\u0430\\u043d\", \"\\u0440\\u0430\\u0441\\u0441\\u043b\\u0435\\u0434\\u043e\\u0432\\u0430\\u043d\", \"\\u0440\\u0430\\u0441\\u0441\\u043b\\u0435\\u0434\\u043e\\u0432\\u0430\\u043d\", \"\\u0440\\u0430\\u0441\\u0441\\u043b\\u0435\\u0434\\u043e\\u0432\\u0430\\u043d\", \"\\u0440\\u0430\\u0441\\u0441\\u043b\\u0435\\u0434\\u043e\\u0432\\u0430\\u043d\", \"\\u0440\\u0430\\u0441\\u0441\\u043b\\u0435\\u0434\\u043e\\u0432\\u0430\\u043d\", \"\\u0440\\u0430\\u0441\\u0441\\u043b\\u0435\\u0434\\u043e\\u0432\\u0430\\u043d\", \"\\u0440\\u0430\\u0441\\u0441\\u043b\\u0435\\u0434\\u043e\\u0432\\u0430\\u043d\", \"\\u0440\\u0435\\u0432\\u043e\\u043b\\u044c\\u0432\\u0435\\u0440\", \"\\u0440\\u0435\\u0435\\u0441\\u0442\\u0440\", \"\\u0440\\u0435\\u0435\\u0441\\u0442\\u0440\", \"\\u0440\\u0435\\u0435\\u0441\\u0442\\u0440\", \"\\u0440\\u0435\\u0435\\u0441\\u0442\\u0440\", \"\\u0440\\u0435\\u0436\\u0438\\u0441\\u0441\\u0435\\u0440\", \"\\u0440\\u0435\\u0436\\u0438\\u0441\\u0441\\u0435\\u0440\", \"\\u0440\\u0435\\u0436\\u0438\\u0441\\u0441\\u0435\\u0440\", \"\\u0440\\u0435\\u0436\\u0438\\u0441\\u0441\\u0435\\u0440\", \"\\u0440\\u0435\\u0436\\u0438\\u0441\\u0441\\u0435\\u0440\", \"\\u0440\\u0435\\u0436\\u0438\\u0441\\u0441\\u0435\\u0440\", \"\\u0440\\u0435\\u0436\\u0438\\u0441\\u0441\\u0435\\u0440\", \"\\u0440\\u0435\\u0436\\u0438\\u0441\\u0441\\u0435\\u0440\", \"\\u0440\\u0435\\u0436\\u0438\\u0441\\u0441\\u0435\\u0440\", \"\\u0440\\u0435\\u0436\\u0438\\u0441\\u0441\\u0435\\u0440\", \"\\u0440\\u0435\\u0437\\u0443\\u043b\\u044c\\u0442\\u0430\\u0442\", \"\\u0440\\u0435\\u0437\\u0443\\u043b\\u044c\\u0442\\u0430\\u0442\", \"\\u0440\\u0435\\u0437\\u0443\\u043b\\u044c\\u0442\\u0430\\u0442\", \"\\u0440\\u0435\\u0437\\u0443\\u043b\\u044c\\u0442\\u0430\\u0442\", \"\\u0440\\u0435\\u0437\\u0443\\u043b\\u044c\\u0442\\u0430\\u0442\", \"\\u0440\\u0435\\u0437\\u0443\\u043b\\u044c\\u0442\\u0430\\u0442\", \"\\u0440\\u0435\\u0437\\u0443\\u043b\\u044c\\u0442\\u0430\\u0442\", \"\\u0440\\u0435\\u0437\\u0443\\u043b\\u044c\\u0442\\u0430\\u0442\", \"\\u0440\\u0435\\u0437\\u0443\\u043b\\u044c\\u0442\\u0430\\u0442\", \"\\u0440\\u0435\\u0437\\u0443\\u043b\\u044c\\u0442\\u0430\\u0442\", \"\\u0440\\u0435\\u0439\\u0441\", \"\\u0440\\u0435\\u0439\\u0441\", \"\\u0440\\u0435\\u0439\\u0441\", \"\\u0440\\u0435\\u0439\\u0441\", \"\\u0440\\u0435\\u0439\\u0442\\u0438\\u043d\\u0433\", \"\\u0440\\u0435\\u0439\\u0442\\u0438\\u043d\\u0433\", \"\\u0440\\u0435\\u0439\\u0442\\u0438\\u043d\\u0433\", \"\\u0440\\u0435\\u0439\\u0442\\u0438\\u043d\\u0433\", \"\\u0440\\u0435\\u0439\\u0442\\u0438\\u043d\\u0433\", \"\\u0440\\u0435\\u0439\\u0442\\u0438\\u043d\\u0433\", \"\\u0440\\u0435\\u0439\\u0442\\u0438\\u043d\\u0433\", \"\\u0440\\u0435\\u043b\\u0438\\u0437\", \"\\u0440\\u0435\\u043b\\u0438\\u0437\", \"\\u0440\\u0435\\u043b\\u0438\\u0437\", \"\\u0440\\u0435\\u043b\\u0438\\u0437\", \"\\u0440\\u0435\\u043b\\u0438\\u0437\", \"\\u0440\\u0435\\u043b\\u0438\\u0437\", \"\\u0440\\u0435\\u043b\\u0438\\u0437\", \"\\u0440\\u0435\\u043b\\u0438\\u0437\", \"\\u0440\\u0435\\u043b\\u0438\\u0437\", \"\\u0440\\u0435\\u0441\\u043f\\u0443\\u0431\\u043b\\u0438\\u043a\\u0430\\u043d\\u0441\\u043a\", \"\\u0440\\u0435\\u0441\\u043f\\u0443\\u0431\\u043b\\u0438\\u043a\\u0430\\u043d\\u0441\\u043a\", \"\\u0440\\u0435\\u0441\\u0442\\u043e\\u0440\\u0430\", \"\\u0440\\u0435\\u0441\\u0442\\u043e\\u0440\\u0430\", \"\\u0440\\u0435\\u0441\\u0442\\u043e\\u0440\\u0430\", \"\\u0440\\u0435\\u0447\\u043d\", \"\\u0440\\u0438\\u0447\\u0430\\u0440\\u0434\\u0441\\u043e\\u043d\", \"\\u0440\\u043e\\u043a\\u043d\\u0440\\u043e\\u043b\\u043b\", \"\\u0440\\u043e\\u043b\", \"\\u0440\\u043e\\u043b\", \"\\u0440\\u043e\\u043b\", \"\\u0440\\u043e\\u043b\", \"\\u0440\\u043e\\u043b\", \"\\u0440\\u043e\\u043b\", \"\\u0440\\u043e\\u043b\", \"\\u0440\\u043e\\u043b\", \"\\u0440\\u043e\\u043b\", \"\\u0440\\u043e\\u043b\\u0438\\u043a\", \"\\u0440\\u043e\\u043b\\u0438\\u043a\", \"\\u0440\\u043e\\u043b\\u0438\\u043a\", \"\\u0440\\u043e\\u043b\\u0438\\u043a\", \"\\u0440\\u043e\\u043b\\u0438\\u043a\", \"\\u0440\\u043e\\u043b\\u0438\\u043a\", \"\\u0440\\u043e\\u043b\\u0438\\u043a\", \"\\u0440\\u043e\\u043b\\u0438\\u043a\", \"\\u0440\\u043e\\u043b\\u0438\\u043a\", \"\\u0440\\u043e\\u043c\\u0430\\u043d\\u043e\\u0432\", \"\\u0440\\u043e\\u043c\\u0430\\u043d\\u043e\\u0432\", \"\\u0440\\u043e\\u0441\\u0430\\u0432\\u0438\\u0430\\u0446\", \"\\u0440\\u043e\\u0441\\u043a\\u043e\\u043c\\u043d\\u0430\\u0434\\u0437\\u043e\\u0440\", \"\\u0440\\u043e\\u0441\\u043a\\u043e\\u043c\\u043d\\u0430\\u0434\\u0437\\u043e\\u0440\", \"\\u0440\\u043e\\u0441\\u043a\\u043e\\u043c\\u043d\\u0430\\u0434\\u0437\\u043e\\u0440\", \"\\u0440\\u043e\\u0441\\u043a\\u043e\\u043c\\u043d\\u0430\\u0434\\u0437\\u043e\\u0440\", \"\\u0440\\u043e\\u0441\\u043f\\u0443\\u0441\\u043a\", \"\\u0440\\u043e\\u0441\\u043f\\u0443\\u0441\\u043a\", \"\\u0440\\u043e\\u0441\\u043f\\u0443\\u0441\\u043a\", \"\\u0440\\u043e\\u0441\\u0441\", \"\\u0440\\u043e\\u0441\\u0441\", \"\\u0440\\u043e\\u0441\\u0441\", \"\\u0440\\u043e\\u0441\\u0441\", \"\\u0440\\u043e\\u0441\\u0441\", \"\\u0440\\u043e\\u0441\\u0441\", \"\\u0440\\u043e\\u0441\\u0441\", \"\\u0440\\u043e\\u0441\\u0441\", \"\\u0440\\u043e\\u0441\\u0441\", \"\\u0440\\u043e\\u0441\\u0441\", \"\\u0440\\u043e\\u0441\\u0441\\u0438\\u0439\\u0441\\u043a\", \"\\u0440\\u043e\\u0441\\u0441\\u0438\\u0439\\u0441\\u043a\", \"\\u0440\\u043e\\u0441\\u0441\\u0438\\u0439\\u0441\\u043a\", \"\\u0440\\u043e\\u0441\\u0441\\u0438\\u0439\\u0441\\u043a\", \"\\u0440\\u043e\\u0441\\u0441\\u0438\\u0439\\u0441\\u043a\", \"\\u0440\\u043e\\u0441\\u0441\\u0438\\u0439\\u0441\\u043a\", \"\\u0440\\u043e\\u0441\\u0441\\u0438\\u0439\\u0441\\u043a\", \"\\u0440\\u043e\\u0441\\u0441\\u0438\\u0439\\u0441\\u043a\", \"\\u0440\\u043e\\u0441\\u0441\\u0438\\u0439\\u0441\\u043a\", \"\\u0440\\u043e\\u0441\\u0441\\u0438\\u0439\\u0441\\u043a\", \"\\u0440\\u0443\\u0431\\u043b\", \"\\u0440\\u0443\\u0431\\u043b\", \"\\u0440\\u0443\\u0431\\u043b\", \"\\u0440\\u0443\\u0431\\u043b\", \"\\u0440\\u0443\\u0431\\u043b\", \"\\u0440\\u0443\\u0431\\u043b\", \"\\u0440\\u0443\\u0431\\u043b\", \"\\u0440\\u0443\\u0431\\u043b\", \"\\u0440\\u0443\\u0431\\u043b\", \"\\u0440\\u0443\\u0431\\u043b\", \"\\u0440\\u044b\\u043d\\u043a\", \"\\u0440\\u044b\\u043d\\u043a\", \"\\u0440\\u044b\\u043d\\u043a\", \"\\u0440\\u044b\\u043d\\u043a\", \"\\u0440\\u044b\\u043d\\u043a\", \"\\u0440\\u044b\\u043d\\u043a\", \"\\u0440\\u044b\\u043d\\u043a\", \"\\u0440\\u044d\\u0442\\u0442\\u043b\", \"\\u0441\\u0430\\u0430\\u043a\\u0430\\u0448\\u0432\", \"\\u0441\\u0430\\u0430\\u043a\\u0430\\u0448\\u0432\", \"\\u0441\\u0430\\u0432\\u0445\\u043d\", \"\\u0441\\u0430\\u0434\", \"\\u0441\\u0430\\u0434\", \"\\u0441\\u0430\\u0434\", \"\\u0441\\u0430\\u0439\\u0442\", \"\\u0441\\u0430\\u0439\\u0442\", \"\\u0441\\u0430\\u0439\\u0442\", \"\\u0441\\u0430\\u0439\\u0442\", \"\\u0441\\u0430\\u0439\\u0442\", \"\\u0441\\u0430\\u0439\\u0442\", \"\\u0441\\u0430\\u0439\\u0442\", \"\\u0441\\u0430\\u0439\\u0442\", \"\\u0441\\u0430\\u0439\\u0442\", \"\\u0441\\u0430\\u0439\\u0442\", \"\\u0441\\u0430\\u043c\", \"\\u0441\\u0430\\u043c\", \"\\u0441\\u0430\\u043c\", \"\\u0441\\u0430\\u043c\", \"\\u0441\\u0430\\u043c\", \"\\u0441\\u0430\\u043c\", \"\\u0441\\u0430\\u043c\", \"\\u0441\\u0430\\u043c\", \"\\u0441\\u0430\\u043c\", \"\\u0441\\u0430\\u043c\", \"\\u0441\\u0430\\u043c\\u043e\\u043b\\u0435\\u0442\", \"\\u0441\\u0430\\u043c\\u043e\\u043b\\u0435\\u0442\", \"\\u0441\\u0430\\u043c\\u043e\\u043b\\u0435\\u0442\", \"\\u0441\\u0430\\u043c\\u043e\\u043b\\u0435\\u0442\", \"\\u0441\\u0430\\u043c\\u043e\\u043b\\u0435\\u0442\", \"\\u0441\\u0430\\u043c\\u043e\\u043b\\u0435\\u0442\", \"\\u0441\\u0430\\u043c\\u043e\\u043b\\u0435\\u0442\", \"\\u0441\\u0430\\u043c\\u043e\\u043b\\u0435\\u0442\", \"\\u0441\\u0430\\u0440\\u043a\\u043e\\u0437\", \"\\u0441\\u0430\\u0440\\u043a\\u043e\\u0437\", \"\\u0441\\u0430\\u0440\\u043a\\u043e\\u0437\", \"\\u0441\\u0431\\u043e\\u0440\\u043d\", \"\\u0441\\u0431\\u043e\\u0440\\u043d\", \"\\u0441\\u0431\\u043e\\u0440\\u043d\", \"\\u0441\\u0431\\u043e\\u0440\\u043d\", \"\\u0441\\u0431\\u043e\\u0440\\u043d\", \"\\u0441\\u0431\\u043e\\u0440\\u043d\", \"\\u0441\\u0431\\u043e\\u0440\\u043d\", \"\\u0441\\u0432\\u043e\", \"\\u0441\\u0432\\u043e\", \"\\u0441\\u0432\\u043e\", \"\\u0441\\u0432\\u043e\", \"\\u0441\\u0432\\u043e\", \"\\u0441\\u0432\\u043e\", \"\\u0441\\u0432\\u043e\", \"\\u0441\\u0432\\u043e\", \"\\u0441\\u0432\\u043e\", \"\\u0441\\u0432\\u043e\", \"\\u0441\\u0435\\u043a\\u0443\\u043d\\u0434\", \"\\u0441\\u0435\\u043a\\u0443\\u043d\\u0434\", \"\\u0441\\u0435\\u043a\\u0443\\u043d\\u0434\", \"\\u0441\\u0435\\u043a\\u0443\\u043d\\u0434\", \"\\u0441\\u0435\\u043a\\u0443\\u043d\\u0434\", \"\\u0441\\u0435\\u043a\\u0443\\u043d\\u0434\", \"\\u0441\\u0435\\u043c\\u0430\\u043a\", \"\\u0441\\u0435\\u043f\\u0430\\u0440\\u0430\\u0442\\u0438\\u0441\\u0442\\u0441\\u043a\", \"\\u0441\\u0435\\u0440\\u0434\\u044e\\u043a\", \"\\u0441\\u0435\\u0440\\u0434\\u044e\\u043a\", \"\\u0441\\u0435\\u0440\\u0434\\u044e\\u043a\\u043e\\u0432\", \"\\u0441\\u0435\\u0440\\u0434\\u044e\\u043a\\u043e\\u0432\", \"\\u0441\\u0435\\u0440\\u0434\\u044e\\u043a\\u043e\\u0432\", \"\\u0441\\u0435\\u0441\\u044c\\u043a\\u0430\\u043d\", \"\\u0441\\u0438\\u0430\\u043d\\u0443\\u043a\\u0432\\u0438\\u043b\", \"\\u0441\\u0438\\u043c\\u043e\\u043d\\u043e\\u0432\", \"\\u0441\\u0438\\u043d\\u0430\\u0433\\u043e\\u0433\", \"\\u0441\\u0438\\u0440\", \"\\u0441\\u0438\\u0440\", \"\\u0441\\u0438\\u0440\", \"\\u0441\\u0438\\u0440\\u0438\\u0439\\u0441\\u043a\", \"\\u0441\\u0438\\u0440\\u0438\\u0439\\u0441\\u043a\", \"\\u0441\\u0438\\u0440\\u043e\\u0442\", \"\\u0441\\u0438\\u0440\\u043e\\u0442\", \"\\u0441\\u0438\\u0440\\u043e\\u0442\", \"\\u0441\\u0438\\u0440\\u043e\\u0442\", \"\\u0441\\u043b\\u043e\\u0432\", \"\\u0441\\u043b\\u043e\\u0432\", \"\\u0441\\u043b\\u043e\\u0432\", \"\\u0441\\u043b\\u043e\\u0432\", \"\\u0441\\u043b\\u043e\\u0432\", \"\\u0441\\u043b\\u043e\\u0432\", \"\\u0441\\u043b\\u043e\\u0432\", \"\\u0441\\u043b\\u043e\\u0432\", \"\\u0441\\u043b\\u043e\\u0432\", \"\\u0441\\u043b\\u043e\\u0432\", \"\\u0441\\u043c\\u0435\\u0442\\u0430\\u043d\\u043e\\u0432\", \"\\u0441\\u043c\\u0435\\u0448\\u0430\", \"\\u0441\\u043d\\u0435\\u0433\\u043e\\u0445\\u043e\\u0434\", \"\\u0441\\u043e\\u0431\\u0430\\u043a\", \"\\u0441\\u043e\\u0431\\u0430\\u043a\", \"\\u0441\\u043e\\u0431\\u0430\\u043a\", \"\\u0441\\u043e\\u0433\\u043b\\u0430\\u0448\\u0435\\u043d\", \"\\u0441\\u043e\\u0433\\u043b\\u0430\\u0448\\u0435\\u043d\", \"\\u0441\\u043e\\u0433\\u043b\\u0430\\u0448\\u0435\\u043d\", \"\\u0441\\u043e\\u0433\\u043b\\u0430\\u0448\\u0435\\u043d\", \"\\u0441\\u043e\\u0433\\u043b\\u0430\\u0448\\u0435\\u043d\", \"\\u0441\\u043e\\u0433\\u043b\\u0430\\u0448\\u0435\\u043d\", \"\\u0441\\u043e\\u0433\\u043b\\u0430\\u0448\\u0435\\u043d\", \"\\u0441\\u043e\\u0433\\u043b\\u0430\\u0448\\u0435\\u043d\", \"\\u0441\\u043e\\u0433\\u043b\\u0430\\u0448\\u0435\\u043d\", \"\\u0441\\u043e\\u0433\\u043b\\u0430\\u0448\\u0435\\u043d\", \"\\u0441\\u043e\\u043b\\u0434\\u0430\\u0442\", \"\\u0441\\u043e\\u043b\\u0434\\u0430\\u0442\", \"\\u0441\\u043e\\u043b\\u0434\\u0430\\u0442\", \"\\u0441\\u043e\\u043b\\u0434\\u0430\\u0442\", \"\\u0441\\u043e\\u043b\\u0434\\u0430\\u0442\", \"\\u0441\\u043e\\u043b\\u0434\\u0430\\u0442\", \"\\u0441\\u043e\\u043b\\u0434\\u0430\\u0442\", \"\\u0441\\u043e\\u043e\\u0431\\u0449\\u0430\", \"\\u0441\\u043e\\u043e\\u0431\\u0449\\u0430\", \"\\u0441\\u043e\\u043e\\u0431\\u0449\\u0430\", \"\\u0441\\u043e\\u043e\\u0431\\u0449\\u0430\", \"\\u0441\\u043e\\u043e\\u0431\\u0449\\u0430\", \"\\u0441\\u043e\\u043e\\u0431\\u0449\\u0430\", \"\\u0441\\u043e\\u043e\\u0431\\u0449\\u0430\", \"\\u0441\\u043e\\u043e\\u0431\\u0449\\u0430\", \"\\u0441\\u043e\\u043e\\u0431\\u0449\\u0430\", \"\\u0441\\u043e\\u043e\\u0431\\u0449\\u0430\", \"\\u0441\\u043e\\u0440\\u0434\\u0435\\u043b\\u043b\", \"\\u0441\\u043e\\u0440\\u043a\\u0438\\u043d\", \"\\u0441\\u043e\\u0441\\u0442\\u0430\\u0432\", \"\\u0441\\u043e\\u0441\\u0442\\u0430\\u0432\", \"\\u0441\\u043e\\u0441\\u0442\\u0430\\u0432\", \"\\u0441\\u043e\\u0441\\u0442\\u0430\\u0432\", \"\\u0441\\u043e\\u0441\\u0442\\u0430\\u0432\", \"\\u0441\\u043e\\u0441\\u0442\\u0430\\u0432\", \"\\u0441\\u043e\\u0441\\u0442\\u0430\\u0432\", \"\\u0441\\u043e\\u0441\\u0442\\u0430\\u0432\", \"\\u0441\\u043e\\u0441\\u0442\\u0430\\u0432\", \"\\u0441\\u043e\\u0441\\u0442\\u0430\\u0432\", \"\\u0441\\u043e\\u0442\\u0440\\u0443\\u0434\\u043d\\u0438\\u043a\", \"\\u0441\\u043e\\u0442\\u0440\\u0443\\u0434\\u043d\\u0438\\u043a\", \"\\u0441\\u043e\\u0442\\u0440\\u0443\\u0434\\u043d\\u0438\\u043a\", \"\\u0441\\u043e\\u0442\\u0440\\u0443\\u0434\\u043d\\u0438\\u043a\", \"\\u0441\\u043e\\u0442\\u0440\\u0443\\u0434\\u043d\\u0438\\u043a\", \"\\u0441\\u043e\\u0442\\u0440\\u0443\\u0434\\u043d\\u0438\\u043a\", \"\\u0441\\u043e\\u0442\\u0440\\u0443\\u0434\\u043d\\u0438\\u043a\", \"\\u0441\\u043e\\u0442\\u0440\\u0443\\u0434\\u043d\\u0438\\u043a\", \"\\u0441\\u043e\\u0442\\u0440\\u0443\\u0434\\u043d\\u0438\\u043a\", \"\\u0441\\u043e\\u0442\\u0440\\u0443\\u0434\\u043d\\u0438\\u043a\", \"\\u0441\\u043e\\u0442\\u0440\\u0443\\u0434\\u043d\\u0438\\u0446\", \"\\u0441\\u043e\\u0442\\u0440\\u0443\\u0434\\u043d\\u0438\\u0446\", \"\\u0441\\u043e\\u0442\\u0440\\u0443\\u0434\\u043d\\u0438\\u0446\", \"\\u0441\\u043e\\u0442\\u0440\\u0443\\u0434\\u043d\\u0438\\u0446\", \"\\u0441\\u043f\\u0438\\u043b\\u0431\\u0435\\u0440\\u0433\", \"\\u0441\\u043f\\u0438\\u043b\\u0431\\u0435\\u0440\\u0433\", \"\\u0441\\u0440\\u0435\\u0434\\u043d\", \"\\u0441\\u0440\\u0435\\u0434\\u043d\", \"\\u0441\\u0440\\u0435\\u0434\\u043d\", \"\\u0441\\u0440\\u0435\\u0434\\u043d\", \"\\u0441\\u0440\\u0435\\u0434\\u043d\", \"\\u0441\\u0440\\u0435\\u0434\\u043d\", \"\\u0441\\u0440\\u0435\\u0434\\u043d\", \"\\u0441\\u0440\\u0435\\u0434\\u043d\", \"\\u0441\\u0440\\u0435\\u0434\\u043d\", \"\\u0441\\u0441\\u044b\\u043b\\u043a\", \"\\u0441\\u0441\\u044b\\u043b\\u043a\", \"\\u0441\\u0441\\u044b\\u043b\\u043a\", \"\\u0441\\u0441\\u044b\\u043b\\u043a\", \"\\u0441\\u0441\\u044b\\u043b\\u043a\", \"\\u0441\\u0441\\u044b\\u043b\\u043a\", \"\\u0441\\u0441\\u044b\\u043b\\u043a\", \"\\u0441\\u0441\\u044b\\u043b\\u043a\", \"\\u0441\\u0441\\u044b\\u043b\\u043a\", \"\\u0441\\u0441\\u044b\\u043b\\u043a\", \"\\u0441\\u0442\\u0430\\u043b\", \"\\u0441\\u0442\\u0430\\u043b\", \"\\u0441\\u0442\\u0430\\u043b\", \"\\u0441\\u0442\\u0430\\u043b\", \"\\u0441\\u0442\\u0430\\u043b\", \"\\u0441\\u0442\\u0430\\u043b\", \"\\u0441\\u0442\\u0430\\u043b\", \"\\u0441\\u0442\\u0430\\u043b\", \"\\u0441\\u0442\\u0430\\u043b\", \"\\u0441\\u0442\\u0430\\u043b\", \"\\u0441\\u0442\\u0430\\u0442\", \"\\u0441\\u0442\\u0430\\u0442\", \"\\u0441\\u0442\\u0430\\u0442\", \"\\u0441\\u0442\\u0430\\u0442\", \"\\u0441\\u0442\\u0430\\u0442\", \"\\u0441\\u0442\\u0430\\u0442\", \"\\u0441\\u0442\\u0430\\u0442\", \"\\u0441\\u0442\\u0430\\u0442\", \"\\u0441\\u0442\\u0430\\u0442\", \"\\u0441\\u0442\\u0430\\u0442\", \"\\u0441\\u0442\\u0440\\u0430\\u043d\", \"\\u0441\\u0442\\u0440\\u0430\\u043d\", \"\\u0441\\u0442\\u0440\\u0430\\u043d\", \"\\u0441\\u0442\\u0440\\u0430\\u043d\", \"\\u0441\\u0442\\u0440\\u0430\\u043d\", \"\\u0441\\u0442\\u0440\\u0430\\u043d\", \"\\u0441\\u0442\\u0440\\u0430\\u043d\", \"\\u0441\\u0442\\u0440\\u0430\\u043d\", \"\\u0441\\u0442\\u0440\\u0430\\u043d\", \"\\u0441\\u0442\\u0440\\u0430\\u043d\", \"\\u0441\\u0442\\u0440\\u0430\\u0441\\u0442\\u043d\", \"\\u0441\\u0442\\u0440\\u0435\\u0441\\u0441\", \"\\u0441\\u0442\\u0440\\u0435\\u0441\\u0441\", \"\\u0441\\u0442\\u0443\\u0434\", \"\\u0441\\u0442\\u0443\\u0434\", \"\\u0441\\u0442\\u0443\\u0434\", \"\\u0441\\u0442\\u0443\\u0434\", \"\\u0441\\u0442\\u0443\\u0434\", \"\\u0441\\u0442\\u0443\\u0434\", \"\\u0441\\u0442\\u0443\\u0434\", \"\\u0441\\u0442\\u0443\\u0434\", \"\\u0441\\u0442\\u0443\\u0434\", \"\\u0441\\u0442\\u0443\\u0434\\u0435\\u043d\\u0442\\u043a\", \"\\u0441\\u0442\\u0443\\u0434\\u0435\\u043d\\u0442\\u043a\", \"\\u0441\\u0443\\u0434\", \"\\u0441\\u0443\\u0434\", \"\\u0441\\u0443\\u0434\", \"\\u0441\\u0443\\u0434\", \"\\u0441\\u0443\\u0434\", \"\\u0441\\u0443\\u0434\", \"\\u0441\\u0443\\u0434\", \"\\u0441\\u0443\\u0434\", \"\\u0441\\u0443\\u0434\", \"\\u0441\\u0443\\u0434\", \"\\u0441\\u0443\\u0438\\u0446\\u0438\\u0434\", \"\\u0441\\u0443\\u0438\\u0446\\u0438\\u0434\", \"\\u0441\\u0443\\u043a\\u043b\\u0435\\u0441\", \"\\u0441\\u0443\\u043f\\u0435\\u0440\\u043c\", \"\\u0441\\u0443\\u043f\\u0435\\u0440\\u043c\\u0430\\u0440\\u043a\\u0435\\u0442\", \"\\u0441\\u0443\\u0442\\u0435\\u043d\\u0435\\u0440\\u0448\", \"\\u0441\\u0446\\u0435\\u043d\\u0430\\u0440\", \"\\u0441\\u0446\\u0435\\u043d\\u0430\\u0440\", \"\\u0441\\u0446\\u0435\\u043d\\u0430\\u0440\", \"\\u0441\\u0446\\u0435\\u043d\\u0430\\u0440\", \"\\u0441\\u0446\\u0435\\u043d\\u0430\\u0440\", \"\\u0441\\u0447\\u0435\\u0442\", \"\\u0441\\u0447\\u0435\\u0442\", \"\\u0441\\u0447\\u0435\\u0442\", \"\\u0441\\u0447\\u0435\\u0442\", \"\\u0441\\u0447\\u0435\\u0442\", \"\\u0441\\u0447\\u0435\\u0442\", \"\\u0441\\u0447\\u0435\\u0442\", \"\\u0441\\u0447\\u0435\\u0442\", \"\\u0441\\u0447\\u0435\\u0442\", \"\\u0441\\u0447\\u0435\\u0442\", \"\\u0442\\u0430\\u0431\\u0430\\u043a\", \"\\u0442\\u0430\\u043a\\u0436\", \"\\u0442\\u0430\\u043a\\u0436\", \"\\u0442\\u0430\\u043a\\u0436\", \"\\u0442\\u0430\\u043a\\u0436\", \"\\u0442\\u0430\\u043a\\u0436\", \"\\u0442\\u0430\\u043a\\u0436\", \"\\u0442\\u0430\\u043a\\u0436\", \"\\u0442\\u0430\\u043a\\u0436\", \"\\u0442\\u0430\\u043a\\u0436\", \"\\u0442\\u0430\\u043a\\u0436\", \"\\u0442\\u0430\\u043b\\u0438\\u0431\", \"\\u0442\\u0430\\u043b\\u0438\\u0431\", \"\\u0442\\u0430\\u043b\\u0438\\u0431\\u0430\", \"\\u0442\\u0430\\u043c\\u043e\\u0436\\u0435\\u043d\", \"\\u0442\\u0430\\u043c\\u043e\\u0436\\u0435\\u043d\", \"\\u0442\\u0430\\u043c\\u043e\\u0436\\u0435\\u043d\", \"\\u0442\\u0435\\u043b\\u0435\\u0441\\u043a\\u043e\\u043f\", \"\\u0442\\u0435\\u043b\\u0435\\u0441\\u043a\\u043e\\u043f\", \"\\u0442\\u0435\\u043b\\u0435\\u0441\\u043a\\u043e\\u043f\", \"\\u0442\\u0435\\u043b\\u0435\\u0441\\u043a\\u043e\\u043f\", \"\\u0442\\u0435\\u043b\\u0435\\u0441\\u043a\\u043e\\u043f\", \"\\u0442\\u0435\\u043c\\u0435\\u0440\\u0445\\u0430\\u043d\", \"\\u0442\\u0435\\u043c\\u043f\\u0435\\u0440\\u0430\\u0442\\u0443\\u0440\", \"\\u0442\\u0435\\u043c\\u043f\\u0435\\u0440\\u0430\\u0442\\u0443\\u0440\", \"\\u0442\\u0435\\u043c\\u043f\\u0435\\u0440\\u0430\\u0442\\u0443\\u0440\", \"\\u0442\\u0435\\u043c\\u043f\\u0435\\u0440\\u0430\\u0442\\u0443\\u0440\", \"\\u0442\\u0435\\u043c\\u043f\\u0435\\u0440\\u0430\\u0442\\u0443\\u0440\", \"\\u0442\\u0435\\u0440\\u0435\\u0445\\u0438\\u043d\", \"\\u0442\\u0438\\u043c\\u043e\\u0448\\u0435\\u043d\\u043a\", \"\\u0442\\u0438\\u043c\\u043e\\u0448\\u0435\\u043d\\u043a\", \"\\u0442\\u0438\\u043c\\u043e\\u0448\\u0435\\u043d\\u043a\", \"\\u0442\\u043e\\u043d\\u043a\", \"\\u0442\\u043e\\u0440\", \"\\u0442\\u043e\\u0440\\u0433\", \"\\u0442\\u043e\\u0440\\u0433\", \"\\u0442\\u043e\\u0440\\u0433\", \"\\u0442\\u043e\\u0440\\u0433\", \"\\u0442\\u043e\\u0440\\u043d\\u0442\\u043e\\u043d\", \"\\u0442\\u0440\\u0430\\u0443\\u0442\", \"\\u0442\\u0440\\u0435\\u043d\\u0435\\u0440\", \"\\u0442\\u0440\\u0435\\u043d\\u0435\\u0440\", \"\\u0442\\u0440\\u0435\\u043d\\u0435\\u0440\", \"\\u0442\\u0440\\u0435\\u043d\\u0435\\u0440\", \"\\u0442\\u0440\\u0435\\u043d\\u0435\\u0440\", \"\\u0442\\u0440\\u0435\\u0442\", \"\\u0442\\u0440\\u0435\\u0442\", \"\\u0442\\u0440\\u0435\\u0442\", \"\\u0442\\u0440\\u0435\\u0442\", \"\\u0442\\u0440\\u0435\\u0442\", \"\\u0442\\u0440\\u0435\\u0442\", \"\\u0442\\u0440\\u0435\\u0442\", \"\\u0442\\u0440\\u0435\\u0442\", \"\\u0442\\u0440\\u0435\\u0442\", \"\\u0442\\u0440\\u0435\\u0442\", \"\\u0442\\u0440\\u0443\\u043d\", \"\\u0442\\u0443\\u043d\\u0446\", \"\\u0442\\u0443\\u0440\\u0438\\u0441\\u0442\\u043e\\u043a\", \"\\u0442\\u0443\\u0440\\u043d\\u0438\\u0440\", \"\\u0442\\u0443\\u0440\\u043d\\u0438\\u0440\", \"\\u0442\\u0443\\u0440\\u043d\\u0438\\u0440\", \"\\u0442\\u0443\\u0440\\u043d\\u0438\\u0440\", \"\\u0442\\u044b\\u0441\\u044f\\u0447\", \"\\u0442\\u044b\\u0441\\u044f\\u0447\", \"\\u0442\\u044b\\u0441\\u044f\\u0447\", \"\\u0442\\u044b\\u0441\\u044f\\u0447\", \"\\u0442\\u044b\\u0441\\u044f\\u0447\", \"\\u0442\\u044b\\u0441\\u044f\\u0447\", \"\\u0442\\u044b\\u0441\\u044f\\u0447\", \"\\u0442\\u044b\\u0441\\u044f\\u0447\", \"\\u0442\\u044b\\u0441\\u044f\\u0447\", \"\\u0442\\u044b\\u0441\\u044f\\u0447\", \"\\u0442\\u044d\\u043f\\u043f\\u0438\\u043d\", \"\\u0443\\u0431\\u0438\\u0439\\u0441\\u0442\\u0432\", \"\\u0443\\u0431\\u0438\\u0439\\u0441\\u0442\\u0432\", \"\\u0443\\u0431\\u0438\\u0439\\u0441\\u0442\\u0432\", \"\\u0443\\u0431\\u0438\\u0439\\u0441\\u0442\\u0432\", \"\\u0443\\u0431\\u0438\\u0439\\u0441\\u0442\\u0432\", \"\\u0443\\u0431\\u0438\\u0439\\u0441\\u0442\\u0432\", \"\\u0443\\u0431\\u0438\\u0439\\u0441\\u0442\\u0432\", \"\\u0443\\u0431\\u0438\\u0439\\u0441\\u0442\\u0432\", \"\\u0443\\u0431\\u0438\\u0439\\u0441\\u0442\\u0432\", \"\\u0443\\u0431\\u0438\\u0439\\u0441\\u0442\\u0432\", \"\\u0443\\u0433\\u043e\\u043b\\u043e\\u0432\\u043d\", \"\\u0443\\u0433\\u043e\\u043b\\u043e\\u0432\\u043d\", \"\\u0443\\u0433\\u043e\\u043b\\u043e\\u0432\\u043d\", \"\\u0443\\u0433\\u043e\\u043b\\u043e\\u0432\\u043d\", \"\\u0443\\u0433\\u043e\\u043b\\u043e\\u0432\\u043d\", \"\\u0443\\u0433\\u043e\\u043b\\u043e\\u0432\\u043d\", \"\\u0443\\u0433\\u043e\\u043b\\u043e\\u0432\\u043d\", \"\\u0443\\u0433\\u043e\\u043b\\u043e\\u0432\\u043d\", \"\\u0443\\u0433\\u043e\\u043b\\u043e\\u0432\\u043d\", \"\\u0443\\u0433\\u043e\\u043b\\u043e\\u0432\\u043d\", \"\\u0443\\u0437\\u0431\\u0435\\u043a\\u0438\\u0441\\u0442\\u0430\", \"\\u0443\\u0437\\u0431\\u0435\\u043a\\u0438\\u0441\\u0442\\u0430\", \"\\u0443\\u0437\\u0431\\u0435\\u043a\\u0438\\u0441\\u0442\\u0430\", \"\\u0443\\u0437\\u0431\\u0435\\u043a\\u0438\\u0441\\u0442\\u0430\", \"\\u0443\\u0437\\u0431\\u0435\\u043a\\u0441\\u043a\", \"\\u0443\\u0437\\u0431\\u0435\\u043a\\u0441\\u043a\", \"\\u0443\\u0437\\u0435\\u043b\", \"\\u0443\\u0438\\u043b\\u044c\\u044f\\u043c\\u0441\", \"\\u0443\\u043a\\u0440\\u0430\\u0438\\u043d\", \"\\u0443\\u043a\\u0440\\u0430\\u0438\\u043d\", \"\\u0443\\u043a\\u0440\\u0430\\u0438\\u043d\", \"\\u0443\\u043a\\u0440\\u0430\\u0438\\u043d\", \"\\u0443\\u043a\\u0440\\u0430\\u0438\\u043d\", \"\\u0443\\u043a\\u0440\\u0430\\u0438\\u043d\", \"\\u0443\\u043a\\u0440\\u0430\\u0438\\u043d\", \"\\u0443\\u043a\\u0440\\u0430\\u0438\\u043d\", \"\\u0443\\u043b\\u044c\\u0442\\u0440\\u0430\\u0431\\u0443\\u043a\", \"\\u0443\\u043e\\u0442\\u0441\\u043e\\u043d\", \"\\u0443\\u043e\\u0442\\u0441\\u043e\\u043d\", \"\\u0443\\u0440\\u0438\\u0431\", \"\\u0443\\u0440\\u043e\\u0432\\u043d\", \"\\u0443\\u0440\\u043e\\u0432\\u043d\", \"\\u0443\\u0440\\u043e\\u0432\\u043d\", \"\\u0443\\u0440\\u043e\\u0432\\u043d\", \"\\u0443\\u0440\\u043e\\u0432\\u043d\", \"\\u0443\\u0440\\u043e\\u0432\\u043d\", \"\\u0443\\u0440\\u043e\\u0432\\u043d\", \"\\u0443\\u0441\\u0442\\u0440\\u043e\\u0439\\u0441\\u0442\\u0432\", \"\\u0443\\u0441\\u0442\\u0440\\u043e\\u0439\\u0441\\u0442\\u0432\", \"\\u0443\\u0441\\u0442\\u0440\\u043e\\u0439\\u0441\\u0442\\u0432\", \"\\u0443\\u0441\\u0442\\u0440\\u043e\\u0439\\u0441\\u0442\\u0432\", \"\\u0443\\u0441\\u0442\\u0440\\u043e\\u0439\\u0441\\u0442\\u0432\", \"\\u0443\\u0441\\u0442\\u0440\\u043e\\u0439\\u0441\\u0442\\u0432\", \"\\u0443\\u0441\\u0442\\u0440\\u043e\\u0439\\u0441\\u0442\\u0432\", \"\\u0443\\u0441\\u0442\\u0440\\u043e\\u0439\\u0441\\u0442\\u0432\", \"\\u0443\\u0441\\u0442\\u0440\\u043e\\u0439\\u0441\\u0442\\u0432\", \"\\u0443\\u0441\\u0442\\u0440\\u043e\\u0439\\u0441\\u0442\\u0432\", \"\\u0443\\u0441\\u044b\\u043d\\u043e\\u0432\\u043b\\u0435\\u043d\", \"\\u0443\\u0441\\u044b\\u043d\\u043e\\u0432\\u043b\\u0435\\u043d\", \"\\u0443\\u0441\\u044b\\u043d\\u043e\\u0432\\u043b\\u0435\\u043d\", \"\\u0443\\u0441\\u044b\\u043d\\u043e\\u0432\\u043b\\u0435\\u043d\", \"\\u0443\\u0441\\u044b\\u043d\\u043e\\u0432\\u043b\\u044f\", \"\\u0443\\u0441\\u044b\\u043d\\u043e\\u0432\\u043b\\u044f\", \"\\u0443\\u0441\\u044b\\u043d\\u043e\\u0432\\u043b\\u044f\", \"\\u0443\\u0441\\u044b\\u043d\\u043e\\u0432\\u043b\\u044f\", \"\\u0443\\u0447\\u0430\\u0441\\u0442\\u043a\", \"\\u0443\\u0447\\u0430\\u0441\\u0442\\u043a\", \"\\u0443\\u0447\\u0430\\u0441\\u0442\\u043a\", \"\\u0443\\u0447\\u0430\\u0441\\u0442\\u043a\", \"\\u0443\\u0447\\u0430\\u0441\\u0442\\u043a\", \"\\u0443\\u0447\\u0430\\u0441\\u0442\\u043a\", \"\\u0443\\u0447\\u0430\\u0441\\u0442\\u043a\", \"\\u0443\\u0447\\u0435\\u043d\", \"\\u0443\\u0447\\u0435\\u043d\", \"\\u0443\\u0447\\u0435\\u043d\", \"\\u0443\\u0447\\u0435\\u043d\", \"\\u0443\\u0447\\u0435\\u043d\", \"\\u0443\\u0447\\u0435\\u043d\", \"\\u0443\\u0447\\u0435\\u043d\", \"\\u0443\\u0447\\u0435\\u043d\", \"\\u0444\\u0435\\u0440\\u043d\\u0438\\u0448\", \"\\u0444\\u0435\\u0440\\u0440\\u0430\\u0440\", \"\\u0444\\u0438\\u043b\\u044c\\u043c\", \"\\u0444\\u0438\\u043b\\u044c\\u043c\", \"\\u0444\\u0438\\u043b\\u044c\\u043c\", \"\\u0444\\u0438\\u043b\\u044c\\u043c\", \"\\u0444\\u0438\\u043b\\u044c\\u043c\", \"\\u0444\\u0438\\u043b\\u044c\\u043c\", \"\\u0444\\u0438\\u043b\\u044c\\u043c\", \"\\u0444\\u0438\\u043b\\u044c\\u043c\", \"\\u0444\\u0438\\u043b\\u044c\\u043c\", \"\\u0444\\u0438\\u043b\\u044c\\u043c\", \"\\u0444\\u0438\\u043d\\u0430\", \"\\u0444\\u043e\\u043b\", \"\\u0444\\u043e\\u043b\\u043a\\u043b\\u0435\\u043d\\u0434\\u0441\\u043a\", \"\\u0444\\u043e\\u0440\\u0432\\u0430\\u0440\\u0434\", \"\\u0444\\u043e\\u0440\\u0432\\u0430\\u0440\\u0434\", \"\\u0444\\u043e\\u0440\\u0432\\u0430\\u0440\\u0434\", \"\\u0444\\u0440\\u0430\\u043d\\u0441\\u0443\", \"\\u0444\\u0440\\u0430\\u043d\\u0441\\u0443\", \"\\u0444\\u0440\\u0430\\u043d\\u0446\\u0443\\u0437\", \"\\u0445\\u0430\\u0440\", \"\\u0445\\u0430\\u0440\", \"\\u0445\\u0430\\u0440\\u0437\", \"\\u0445\\u0438\\u043d\\u0448\\u0442\\u0435\\u0439\\u043d\", \"\\u0445\\u0438\\u0442\", \"\\u0445\\u043e\\u0431\\u0441\\u043e\\u043d\", \"\\u0445\\u043e\\u0434\\u043e\\u0440\\u0447\\u0435\\u043d\\u043a\", \"\\u0445\\u043e\\u043a\\u043a\", \"\\u0445\\u043e\\u043b\\u043b\", \"\\u0445\\u043e\\u043b\\u043c\\u0441\", \"\\u0445\\u043e\\u043b\\u043c\\u0441\", \"\\u0445\\u0443\\u0434\\u0448\", \"\\u0445\\u0443\\u0434\\u0448\", \"\\u0445\\u0443\\u0434\\u0448\", \"\\u0445\\u0443\\u0434\\u0448\", \"\\u0445\\u0443\\u0440\\u0440\\u043e\\u043c\\u043e\\u0432\", \"\\u0445\\u0443\\u0448\\u044c\\u044f\\u0440\", \"\\u0445\\u044c\\u044e\\u0437\", \"\\u0446\\u0435\\u043d\", \"\\u0446\\u0435\\u043d\", \"\\u0446\\u0435\\u043d\", \"\\u0446\\u0435\\u043d\", \"\\u0446\\u0435\\u043d\", \"\\u0446\\u0435\\u043d\", \"\\u0446\\u0435\\u043d\", \"\\u0446\\u0435\\u043d\", \"\\u0446\\u0435\\u043d\", \"\\u0446\\u0435\\u043d\", \"\\u0446\\u0435\\u043d\\u0437\\u043e\\u0440\", \"\\u0446\\u0435\\u043d\\u0437\\u0443\\u0440\", \"\\u0446\\u0435\\u043d\\u0437\\u0443\\u0440\", \"\\u0446\\u0435\\u043d\\u0437\\u0443\\u0440\", \"\\u0446\\u0435\\u043d\\u0437\\u0443\\u0440\", \"\\u0446\\u0438\\u043a\\u043b\\u043e\\u043d\", \"\\u0446\\u0438\\u0440\\u043a\", \"\\u0447\\u0430\\u0432\\u0435\\u0441\", \"\\u0447\\u0430\\u0432\\u0435\\u0441\", \"\\u0447\\u0430\\u0432\\u0435\\u0441\", \"\\u0447\\u0430\\u0432\\u0435\\u0441\", \"\\u0447\\u0430\\u0439\\u043d\", \"\\u0447\\u0435\\u043b\\u043e\\u0432\\u0435\\u043a\", \"\\u0447\\u0435\\u043b\\u043e\\u0432\\u0435\\u043a\", \"\\u0447\\u0435\\u043b\\u043e\\u0432\\u0435\\u043a\", \"\\u0447\\u0435\\u043b\\u043e\\u0432\\u0435\\u043a\", \"\\u0447\\u0435\\u043b\\u043e\\u0432\\u0435\\u043a\", \"\\u0447\\u0435\\u043b\\u043e\\u0432\\u0435\\u043a\", \"\\u0447\\u0435\\u043b\\u043e\\u0432\\u0435\\u043a\", \"\\u0447\\u0435\\u043b\\u043e\\u0432\\u0435\\u043a\", \"\\u0447\\u0435\\u043b\\u043e\\u0432\\u0435\\u043a\", \"\\u0447\\u0435\\u043b\\u043e\\u0432\\u0435\\u043a\", \"\\u0447\\u0435\\u043c\\u043e\\u0434\\u0430\", \"\\u0447\\u0435\\u043c\\u043e\\u0434\\u0430\", \"\\u0447\\u0435\\u043c\\u043f\\u0438\\u043e\\u043d\\u0430\\u0442\", \"\\u0447\\u0435\\u043c\\u043f\\u0438\\u043e\\u043d\\u0430\\u0442\", \"\\u0447\\u0435\\u043c\\u043f\\u0438\\u043e\\u043d\\u0430\\u0442\", \"\\u0447\\u0435\\u043c\\u043f\\u0438\\u043e\\u043d\\u0430\\u0442\", \"\\u0447\\u0435\\u0441\\u043d\\u043e\\u043a\", \"\\u0447\\u0438\\u0447\\u0430\\u043a\\u043b\", \"\\u0448\\u0430\\u0439\\u0431\", \"\\u0448\\u0430\\u0440\", \"\\u0448\\u0430\\u0440\", \"\\u0448\\u0430\\u0440\\u043c\", \"\\u0448\\u0430\\u0440\\u043c\", \"\\u0448\\u0432\\u0430\\u0440\\u0446\\u0435\\u043d\\u0435\\u0433\\u0433\\u0435\\u0440\", \"\\u0448\\u0432\\u0435\\u0446\", \"\\u0448\\u0432\\u0435\\u0446\", \"\\u0448\\u0432\\u0435\\u0446\", \"\\u0448\\u0432\\u0435\\u0446\", \"\\u0448\\u043c\\u0438\\u0434\\u0442\", \"\\u0448\\u043c\\u0438\\u0434\\u0442\", \"\\u0448\\u043c\\u0438\\u0434\\u0442\", \"\\u0448\\u0442\\u0430\\u0442\", \"\\u0448\\u0442\\u0430\\u0442\", \"\\u0448\\u0442\\u0430\\u0442\", \"\\u0448\\u0442\\u0430\\u0442\", \"\\u0448\\u0442\\u0430\\u0442\", \"\\u0448\\u0442\\u0430\\u0442\", \"\\u0448\\u0442\\u0430\\u0442\", \"\\u0448\\u0442\\u0430\\u0442\", \"\\u0448\\u0442\\u0430\\u0442\", \"\\u0448\\u0442\\u0430\\u0442\", \"\\u0449\\u0435\\u0440\\u0431\", \"\\u044d\\u043a\\u0437\\u043e\\u043f\\u043b\\u0430\\u043d\\u0435\\u0442\", \"\\u044d\\u043a\\u0440\\u0430\", \"\\u044d\\u043a\\u0440\\u0430\", \"\\u044d\\u043a\\u0440\\u0430\", \"\\u044d\\u043a\\u0440\\u0430\", \"\\u044d\\u043a\\u0440\\u0430\", \"\\u044d\\u043a\\u0440\\u0430\", \"\\u044d\\u043a\\u0440\\u0430\", \"\\u044d\\u043a\\u0440\\u0430\", \"\\u044d\\u043a\\u0441\\u043f\\u043e\\u0440\\u0442\", \"\\u044d\\u043a\\u0441\\u043f\\u043e\\u0440\\u0442\", \"\\u044d\\u043a\\u0441\\u043f\\u043e\\u0440\\u0442\", \"\\u044d\\u043a\\u0441\\u043f\\u0440\\u0435\\u0441\\u0441\", \"\\u044d\\u043a\\u0441\\u043f\\u0440\\u0435\\u0441\\u0441\", \"\\u044d\\u043a\\u0441\\u043f\\u0440\\u0435\\u0441\\u0441\", \"\\u044d\\u043c\\u0441\\u043b\", \"\\u044d\\u0440\\u0438\\u043a\", \"\\u044d\\u0440\\u0438\\u043a\", \"\\u044d\\u0440\\u0438\\u043a\", \"\\u044d\\u0441\\u0442\\u0430\\u0444\\u0435\\u0442\", \"\\u044d\\u0442\\u0430\\u043f\", \"\\u044d\\u0442\\u0430\\u043f\", \"\\u044d\\u0442\\u0430\\u043f\", \"\\u044d\\u0442\\u0430\\u043f\", \"\\u044d\\u0442\\u0430\\u043f\", \"\\u044d\\u0442\\u0430\\u043f\", \"\\u044e\\u0434\\u0438\\u043d\", \"\\u044e\\u043d\\u043c\\u0438\\u043d\", \"\\u044e\\u0441\\u0443\\u0444\\u0437\\u0430\", \"\\u044e\\u0441\\u0443\\u0444\\u0437\\u0430\", \"\\u044e\\u0442\\u044d\\u0439\\u0440\", \"\\u044e\\u0442\\u044d\\u0439\\u0440\", \"\\u044f\\u0432\\u043b\\u044f\", \"\\u044f\\u0432\\u043b\\u044f\", \"\\u044f\\u0432\\u043b\\u044f\", \"\\u044f\\u0432\\u043b\\u044f\", \"\\u044f\\u0432\\u043b\\u044f\", \"\\u044f\\u0432\\u043b\\u044f\", \"\\u044f\\u0432\\u043b\\u044f\", \"\\u044f\\u0432\\u043b\\u044f\", \"\\u044f\\u0432\\u043b\\u044f\", \"\\u044f\\u0432\\u043b\\u044f\", \"\\u044f\\u043d\\u0432\\u0430\\u0440\", \"\\u044f\\u043d\\u0432\\u0430\\u0440\", \"\\u044f\\u043d\\u0432\\u0430\\u0440\", \"\\u044f\\u043d\\u0432\\u0430\\u0440\", \"\\u044f\\u043d\\u0432\\u0430\\u0440\", \"\\u044f\\u043d\\u0432\\u0430\\u0440\", \"\\u044f\\u043d\\u0432\\u0430\\u0440\", \"\\u044f\\u043d\\u0432\\u0430\\u0440\", \"\\u044f\\u043d\\u0432\\u0430\\u0440\", \"\\u044f\\u043d\\u0432\\u0430\\u0440\"]}, \"R\": 30, \"lambda.step\": 0.01, \"plot.opts\": {\"xlab\": \"PC1\", \"ylab\": \"PC2\"}, \"topic.order\": [7, 6, 4, 2, 1, 3, 9, 8, 5, 10]};\n",
              "\n",
              "function LDAvis_load_lib(url, callback){\n",
              "  var s = document.createElement('script');\n",
              "  s.src = url;\n",
              "  s.async = true;\n",
              "  s.onreadystatechange = s.onload = callback;\n",
              "  s.onerror = function(){console.warn(\"failed to load library \" + url);};\n",
              "  document.getElementsByTagName(\"head\")[0].appendChild(s);\n",
              "}\n",
              "\n",
              "if(typeof(LDAvis) !== \"undefined\"){\n",
              "   // already loaded: just create the visualization\n",
              "   !function(LDAvis){\n",
              "       new LDAvis(\"#\" + \"ldavis_el8941330396556665122614538522\", ldavis_el8941330396556665122614538522_data);\n",
              "   }(LDAvis);\n",
              "}else if(typeof define === \"function\" && define.amd){\n",
              "   // require.js is available: use it to load d3/LDAvis\n",
              "   require.config({paths: {d3: \"https://d3js.org/d3.v5\"}});\n",
              "   require([\"d3\"], function(d3){\n",
              "      window.d3 = d3;\n",
              "      LDAvis_load_lib(\"https://cdn.jsdelivr.net/gh/bmabey/pyLDAvis@3.4.0/pyLDAvis/js/ldavis.v3.0.0.js\", function(){\n",
              "        new LDAvis(\"#\" + \"ldavis_el8941330396556665122614538522\", ldavis_el8941330396556665122614538522_data);\n",
              "      });\n",
              "    });\n",
              "}else{\n",
              "    // require.js not available: dynamically load d3 & LDAvis\n",
              "    LDAvis_load_lib(\"https://d3js.org/d3.v5.js\", function(){\n",
              "         LDAvis_load_lib(\"https://cdn.jsdelivr.net/gh/bmabey/pyLDAvis@3.4.0/pyLDAvis/js/ldavis.v3.0.0.js\", function(){\n",
              "                 new LDAvis(\"#\" + \"ldavis_el8941330396556665122614538522\", ldavis_el8941330396556665122614538522_data);\n",
              "            })\n",
              "         });\n",
              "}\n",
              "</script>"
            ]
          },
          "metadata": {},
          "execution_count": 101
        }
      ]
    }
  ]
}