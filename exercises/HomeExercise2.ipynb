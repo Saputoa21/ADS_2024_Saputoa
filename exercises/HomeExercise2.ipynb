{
  "nbformat": 4,
  "nbformat_minor": 0,
  "metadata": {
    "colab": {
      "provenance": [],
      "include_colab_link": true
    },
    "kernelspec": {
      "name": "python3",
      "display_name": "Python 3"
    }
  },
  "cells": [
    {
      "cell_type": "markdown",
      "metadata": {
        "id": "view-in-github",
        "colab_type": "text"
      },
      "source": [
        "<a href=\"https://colab.research.google.com/github/Saputoa21/ADS_2024_Saputoa/blob/master/exercises/HomeExercise2.ipynb\" target=\"_parent\"><img src=\"https://colab.research.google.com/assets/colab-badge.svg\" alt=\"Open In Colab\"/></a>"
      ]
    },
    {
      "cell_type": "markdown",
      "source": [
        "# Home Exericse 2: Word Embeddings\n",
        "In this second home exercise, you will use the knowledge from Tutorial 3 to perform a more systematic evaluation of embeddings based on a small analogy dataset.\n",
        "\n",
        "In this notebook, please complete all instructions starting with 👋 ⚒ in the code cell after the sign or provide your analysis in the text cell after the sign."
      ],
      "metadata": {
        "id": "N4_fSCGEAFZ3"
      }
    },
    {
      "cell_type": "markdown",
      "source": [
        "## **Word2Vec Analogy-based Evaluation**"
      ],
      "metadata": {
        "id": "vnXNn2eL1jnF"
      }
    },
    {
      "cell_type": "markdown",
      "source": [
        "We first need to load the pretrained embeddings and the dataset. The dataset can be found on [GitHub](https://github.com/dgromann/cl_intro_ws2024/blob/main/exercises/HomeExercise2.txt) and will be loaded directly from there."
      ],
      "metadata": {
        "id": "YHR4hkXKvd87"
      }
    },
    {
      "cell_type": "code",
      "source": [
        "!wget https://github.com/dgromann/cl_intro_ws2024/raw/main/word2vec_embeddings.bin\n",
        "!wget !wget https://raw.githubusercontent.com/dgromann/cl_intro_ws2024/master/exercises/HomeExercise2.txt"
      ],
      "metadata": {
        "id": "kxwz_cPyW4lG",
        "colab": {
          "base_uri": "https://localhost:8080/"
        },
        "outputId": "c9291743-f387-4381-a272-08648fbbe1fe"
      },
      "execution_count": 1,
      "outputs": [
        {
          "output_type": "stream",
          "name": "stdout",
          "text": [
            "--2024-11-22 22:03:23--  https://github.com/dgromann/cl_intro_ws2024/raw/main/word2vec_embeddings.bin\n",
            "Resolving github.com (github.com)... 140.82.116.4\n",
            "Connecting to github.com (github.com)|140.82.116.4|:443... connected.\n",
            "HTTP request sent, awaiting response... 302 Found\n",
            "Location: https://raw.githubusercontent.com/dgromann/cl_intro_ws2024/main/word2vec_embeddings.bin [following]\n",
            "--2024-11-22 22:03:24--  https://raw.githubusercontent.com/dgromann/cl_intro_ws2024/main/word2vec_embeddings.bin\n",
            "Resolving raw.githubusercontent.com (raw.githubusercontent.com)... 185.199.108.133, 185.199.109.133, 185.199.110.133, ...\n",
            "Connecting to raw.githubusercontent.com (raw.githubusercontent.com)|185.199.108.133|:443... connected.\n",
            "HTTP request sent, awaiting response... 200 OK\n",
            "Length: 96769269 (92M) [application/octet-stream]\n",
            "Saving to: ‘word2vec_embeddings.bin’\n",
            "\n",
            "word2vec_embeddings 100%[===================>]  92.29M   175MB/s    in 0.5s    \n",
            "\n",
            "2024-11-22 22:03:27 (175 MB/s) - ‘word2vec_embeddings.bin’ saved [96769269/96769269]\n",
            "\n",
            "--2024-11-22 22:03:27--  http://!wget/\n",
            "Resolving !wget (!wget)... failed: Name or service not known.\n",
            "wget: unable to resolve host address ‘!wget’\n",
            "--2024-11-22 22:03:27--  https://raw.githubusercontent.com/dgromann/cl_intro_ws2024/master/exercises/HomeExercise2.txt\n",
            "Resolving raw.githubusercontent.com (raw.githubusercontent.com)... 185.199.108.133, 185.199.109.133, 185.199.110.133, ...\n",
            "Connecting to raw.githubusercontent.com (raw.githubusercontent.com)|185.199.108.133|:443... connected.\n",
            "HTTP request sent, awaiting response... 200 OK\n",
            "Length: 272272 (266K) [text/plain]\n",
            "Saving to: ‘HomeExercise2.txt’\n",
            "\n",
            "HomeExercise2.txt   100%[===================>] 265.89K  --.-KB/s    in 0.02s   \n",
            "\n",
            "2024-11-22 22:03:28 (10.4 MB/s) - ‘HomeExercise2.txt’ saved [272272/272272]\n",
            "\n",
            "FINISHED --2024-11-22 22:03:28--\n",
            "Total wall clock time: 0.2s\n",
            "Downloaded: 1 files, 266K in 0.02s (10.4 MB/s)\n"
          ]
        }
      ]
    },
    {
      "cell_type": "markdown",
      "source": [
        "Then we need to load the model with gensim so that we can access the embeddings."
      ],
      "metadata": {
        "id": "If_-whLgv9kH"
      }
    },
    {
      "cell_type": "code",
      "source": [
        "import gensim\n",
        "\n",
        "model = gensim.models.KeyedVectors.load_word2vec_format(\"word2vec_embeddings.bin\", binary=True)"
      ],
      "metadata": {
        "id": "1z4TAwF0v-8x"
      },
      "execution_count": 14,
      "outputs": []
    },
    {
      "cell_type": "markdown",
      "source": [
        "And we need to open the HomeExercise2.txt file that contains analogy pairs."
      ],
      "metadata": {
        "id": "88Q9RW2ZwHkz"
      }
    },
    {
      "cell_type": "code",
      "source": [
        "analogy = open(\"HomeExercise2.txt\", \"r\")\n",
        "analogy_lines = analogy.readlines()"
      ],
      "metadata": {
        "id": "saqImWrswKYJ"
      },
      "execution_count": 15,
      "outputs": []
    },
    {
      "cell_type": "markdown",
      "source": [
        "To look at the first few lines, the following code can be used. The analogies are grouped by categories that is indicated on the line before the analogies are listed with a colon :. The last and fourth element of the line represents the true result we will use to evaluate the embedding model."
      ],
      "metadata": {
        "id": "X8fwdQjOxDR1"
      }
    },
    {
      "cell_type": "code",
      "source": [
        "line_no = 0\n",
        "for line in analogy_lines:\n",
        "  line_no += 1\n",
        "  print(f\"Line number {line_no} with analogy {line}\")\n",
        "  if line_no == 5:\n",
        "    break"
      ],
      "metadata": {
        "id": "yKHVQpGbxGc7",
        "outputId": "2a2698d4-800a-4c64-83fe-9daaaae52d64",
        "colab": {
          "base_uri": "https://localhost:8080/"
        }
      },
      "execution_count": 13,
      "outputs": [
        {
          "output_type": "stream",
          "name": "stdout",
          "text": [
            "Line number 1 with analogy : capital-common-countries\n",
            "\n",
            "Line number 2 with analogy Athens Greece Baghdad Iraq\n",
            "\n",
            "Line number 3 with analogy Athens Greece Berlin Germany\n",
            "\n",
            "Line number 4 with analogy Athens Greece Cairo Egypt\n",
            "\n",
            "Line number 5 with analogy Athens Greece Canberra Australia\n",
            "\n"
          ]
        }
      ]
    },
    {
      "cell_type": "code",
      "source": [
        "print(analogy_lines[:3])"
      ],
      "metadata": {
        "id": "218OawmP7wTO",
        "outputId": "1043298e-cc96-478f-97c2-78576dea1cc6",
        "colab": {
          "base_uri": "https://localhost:8080/"
        }
      },
      "execution_count": 7,
      "outputs": [
        {
          "output_type": "stream",
          "name": "stdout",
          "text": [
            "[': capital-common-countries\\n', 'Athens Greece Baghdad Iraq\\n', 'Athens Greece Berlin Germany\\n']\n"
          ]
        }
      ]
    },
    {
      "cell_type": "markdown",
      "source": [
        "👋 ⚒ Systematically evaluate this simple word embedding model based on the entire analogy dataset. To do this:\n",
        "\n",
        "\n",
        "*   Use the analogy function from Tutorial 3 to obtain 'd'\n",
        "*   Compare 'd' with the true result from the `HomeExercise1.txt` file\n",
        "*   Calculate the accuracy for all analogies (how many times out of all attempts did the embedding model provide the correct result)\n",
        "*   Calculate the accuracy for each analogy category separately\n",
        "\n",
        "When parsing the file, pay attention to the lines indicated with the colon : that represent the analogy categories and not analogies.\n"
      ],
      "metadata": {
        "id": "a3xklUvEXbd1"
      }
    },
    {
      "cell_type": "code",
      "source": [
        "# Your code here\n",
        "# Example: Athens is to Greece as Baghdad is to ?\n",
        "# True result from file: Iraqi\n",
        "# Model result also Iraqi\n",
        "\n",
        "def analogy_function(a, b, c):\n",
        "  result = model.most_similar(positive=[b,c], negative=[a])\n",
        "  return result[0][0]\n",
        "\n",
        "def calculate_accuracy(analogy, analogy_function, analogy_lines):\n",
        "  total_correct = 0\n",
        "  total_analogies = len(analogy_lines)\n",
        "  for analogy in analogy_lines:\n",
        "    if ':' in analogy:\n",
        "      continue\n",
        "    else:\n",
        "      true_result = analogy[-1]\n",
        "      predicted_result = analogy_function(analogy[1], analogy[2], analogy[0])\n",
        "      if predicted_result == true_result:\n",
        "        total_correct += 1\n",
        "\n",
        "analogy1 = analogy_lines[1]\n",
        "\n",
        "print(analogy_function(\"Athens\", \"Greece\", \"Baghdad\"))\n",
        "print(calculate_accuracy(analogy, analogy_function, analogy_lines))"
      ],
      "metadata": {
        "id": "knGLoU0kXaZb",
        "colab": {
          "base_uri": "https://localhost:8080/"
        },
        "outputId": "5187b2c7-9ad5-4ff1-a77a-8752e31eb659"
      },
      "execution_count": null,
      "outputs": [
        {
          "output_type": "stream",
          "name": "stdout",
          "text": [
            "Iraqi\n"
          ]
        }
      ]
    },
    {
      "cell_type": "markdown",
      "source": [
        "## **Comparison: GloVe Analogy-based Evaluation**"
      ],
      "metadata": {
        "id": "bM-lxrQV15lF"
      }
    },
    {
      "cell_type": "markdown",
      "source": [
        "The next step will consist of comparing this very small word2vec embedding model with a different small but more powerfull model available in gensim.\n",
        "\n",
        "All models and corpora available in gensim can be found [here](https://github.com/piskvorky/gensim-data).\n",
        "\n",
        "Since this model is considerably bigger than the tiny word2vec model, it takes some time to load when you run the following code cell."
      ],
      "metadata": {
        "id": "KN5pGa7JzT9T"
      }
    },
    {
      "cell_type": "code",
      "source": [
        "import gensim.downloader as api\n",
        "from gensim.models import KeyedVectors\n",
        "\n",
        "model_glove = api.load(\"glove-wiki-gigaword-100\")\n",
        "print(type(model))"
      ],
      "metadata": {
        "id": "noalz14AzkQR",
        "colab": {
          "base_uri": "https://localhost:8080/"
        },
        "outputId": "0e6267c8-73a0-4c2c-df13-b1abdbe651b6"
      },
      "execution_count": null,
      "outputs": [
        {
          "output_type": "stream",
          "name": "stdout",
          "text": [
            "[==================================================] 100.0% 128.1/128.1MB downloaded\n",
            "<class 'gensim.models.keyedvectors.KeyedVectors'>\n"
          ]
        }
      ]
    },
    {
      "cell_type": "markdown",
      "source": [
        "The model can then be used exactly the same as the word2vec model, since gensim standardizes model access."
      ],
      "metadata": {
        "id": "kEWEOytj0hrC"
      }
    },
    {
      "cell_type": "code",
      "source": [
        "model_glove[\"bread\"]"
      ],
      "metadata": {
        "id": "NmyLiSoF0s0e",
        "colab": {
          "base_uri": "https://localhost:8080/"
        },
        "outputId": "b98800a1-c7c5-4670-d2b1-71cd63f768d9"
      },
      "execution_count": null,
      "outputs": [
        {
          "output_type": "execute_result",
          "data": {
            "text/plain": [
              "array([-0.66146  ,  0.94335  , -0.72214  ,  0.17403  , -0.42524  ,\n",
              "        0.36303  ,  1.0135   , -0.14802  ,  0.25817  , -0.20326  ,\n",
              "       -0.64338  ,  0.16632  ,  0.61518  ,  1.397    , -0.094506 ,\n",
              "        0.0041843, -0.18976  , -0.55421  , -0.39371  , -0.22501  ,\n",
              "       -0.34643  ,  0.32076  ,  0.34395  , -0.7034   ,  0.23932  ,\n",
              "        0.69951  , -0.16461  , -0.31819  , -0.34034  , -0.44906  ,\n",
              "       -0.069667 ,  0.35348  ,  0.17498  , -0.95057  , -0.2209   ,\n",
              "        1.0647   ,  0.23231  ,  0.32569  ,  0.47662  , -1.1206   ,\n",
              "        0.28168  , -0.75172  , -0.54654  , -0.66337  ,  0.34804  ,\n",
              "       -0.69058  , -0.77092  , -0.40167  , -0.069351 , -0.049238 ,\n",
              "       -0.39351  ,  0.16735  , -0.14512  ,  1.0083   , -1.0608   ,\n",
              "       -0.87314  , -0.29339  ,  0.68278  ,  0.61634  , -0.088844 ,\n",
              "        0.88094  ,  0.099809 , -0.27161  , -0.58026  ,  0.50364  ,\n",
              "       -0.93814  ,  0.67576  , -0.43124  , -0.10517  , -1.2404   ,\n",
              "       -0.74353  ,  0.28637  ,  0.29012  ,  0.89377  ,  0.67406  ,\n",
              "        0.86422  , -0.30693  , -0.14718  ,  0.078353 ,  0.74013  ,\n",
              "        0.32658  , -0.052579 , -1.1665   ,  0.87079  , -0.69402  ,\n",
              "       -0.75977  , -0.37164  , -0.11887  ,  0.18551  ,  0.041883 ,\n",
              "        0.59352  ,  0.30519  , -0.54819  , -0.29424  , -1.4912   ,\n",
              "       -1.6548   ,  0.98982  ,  0.27325  ,  1.009    ,  0.94544  ],\n",
              "      dtype=float32)"
            ]
          },
          "metadata": {},
          "execution_count": 13
        }
      ]
    },
    {
      "cell_type": "markdown",
      "source": [
        "👋 ⚒  Run the same systematic analysis for this gensim model as for the word2vec model above. Which model performs better overall and in specific categories?"
      ],
      "metadata": {
        "id": "N-eMSsyO1PMZ"
      }
    },
    {
      "cell_type": "code",
      "source": [
        "# Your code here\n",
        "def analogy(a, b, c):\n",
        "  #Your code goes here\n",
        "  result = model_glove.most_similar(positive=[b,c], negative=[a], topn=5)\n",
        "  return result[0][0]\n",
        "\n",
        "print(analogy(\"Athens\", \"Greece\", \"Baghdad\"))"
      ],
      "metadata": {
        "id": "dZk0eA3B1ZSV"
      },
      "execution_count": null,
      "outputs": []
    },
    {
      "cell_type": "markdown",
      "source": [
        "## **Visual Comparison**\n",
        "\n",
        "As a final step, use the visualization from Tutorial 3 to visually output the two models based on the following words."
      ],
      "metadata": {
        "id": "r1b7CPN-2Clq"
      }
    },
    {
      "cell_type": "markdown",
      "source": [
        "👋 ⚒  ❓ Do the clusters (groupings of embeddings) in the GloVe visualization differ substantially from the clusters in the word2vec visualization from Tutorial 3?"
      ],
      "metadata": {
        "id": "QWg0FNJG1aY6"
      }
    },
    {
      "cell_type": "code",
      "source": [
        "import numpy as np\n",
        "\n",
        "from sklearn.decomposition import PCA\n",
        "from matplotlib import pyplot as plt\n",
        "\n",
        "def display_pca_scatterplot(model, words):\n",
        "\n",
        "    word_vectors = np.array([model[w] for w in words])\n",
        "\n",
        "    twodim = PCA().fit_transform(word_vectors)[:,:2]\n",
        "\n",
        "    plt.figure(figsize=(6,6))\n",
        "    plt.scatter(twodim[:,0], twodim[:,1], edgecolors='k', c='r')\n",
        "    for word, (x,y) in zip(words, twodim):\n",
        "        plt.text(x+0.05, y+0.05, word)"
      ],
      "metadata": {
        "id": "WaHuaINH2UJF"
      },
      "execution_count": null,
      "outputs": []
    },
    {
      "cell_type": "code",
      "source": [
        "display_pca_scatterplot(model_glove,\n",
        "                        ['coffee', 'tea', 'beer', 'wine', 'water',\n",
        "                         'hamburger', 'pizza',  'sushi', 'meatballs',\n",
        "                         'dog', 'horse', 'cat', 'monkey', 'parrot', 'lizard',\n",
        "                         'france', 'germany', 'hungary',\n",
        "                         'school', 'college', 'university', 'institute'])"
      ],
      "metadata": {
        "id": "h5C4yZsN2lAa",
        "colab": {
          "base_uri": "https://localhost:8080/",
          "height": 523
        },
        "outputId": "567251b1-8087-4ec4-ae69-a865b70cd3e4"
      },
      "execution_count": null,
      "outputs": [
        {
          "output_type": "display_data",
          "data": {
            "text/plain": [
              "<Figure size 600x600 with 1 Axes>"
            ],
            "image/png": "[encoded data removed]"
          },
          "metadata": {}
        }
      ]
    },
    {
      "cell_type": "code",
      "source": [
        "display_pca_scatterplot(model,\n",
        "                        ['Athens', 'Greece', 'Baghdad', 'Iraq' ,\n",
        "                         'Berlin', 'Germany', 'Canberra', 'Australia',\n",
        "                         'Helsinki', 'Finland', 'London', 'England',\n",
        "                         'Madrid', 'Spain', 'Moscow', 'Russia'])"
      ],
      "metadata": {
        "colab": {
          "base_uri": "https://localhost:8080/",
          "height": 522
        },
        "id": "9aESdLPGJOon",
        "outputId": "f97eb9fd-7ad6-4b29-8013-3f3f0a4e7a68"
      },
      "execution_count": null,
      "outputs": [
        {
          "output_type": "display_data",
          "data": {
            "text/plain": [
              "<Figure size 600x600 with 1 Axes>"
            ],
            "image/png": "[encoded data removed]"
          },
          "metadata": {}
        }
      ]
    },
    {
      "cell_type": "markdown",
      "source": [
        "**Provide your answer to the question on the clusters here.**"
      ],
      "metadata": {
        "id": "lbxcCxRB4Rvo"
      }
    },
    {
      "cell_type": "markdown",
      "source": [
        "## **Bias in Embeddings**\n",
        "\n",
        "Language models and also embedding models tend to reflect on bias that is present in the textual data they were trained on. This can also be analyzed with embeddings by explicitly testing biased analogies.\n",
        "\n",
        "For instance, man is to doctor as woman is to ?\n",
        "\n",
        "The bias here is that professions tend to be assigned a specific gender, e.g. men are doctors and women are nurses.\n",
        "\n",
        "The same is true for cultures and cultural bias, e.g. Bratwurst or Sauerkraut and Germany.\n",
        "\n"
      ],
      "metadata": {
        "id": "fR022k6924H8"
      }
    },
    {
      "cell_type": "code",
      "source": [
        "result1 = model_glove.most_similar(positive=[\"doctor\", \"woman\"], negative=[\"man\"], topn=3)\n",
        "print(f\"man is to doctor as woman is to {result1}\")\n",
        "result2 = model_glove.most_similar(positive=[\"bratwurst\", \"france\"], negative=[\"germany\"], topn=3)\n",
        "print(f\"Germany is to Bratwurst as France is to {result2}\")"
      ],
      "metadata": {
        "id": "bdEoibPg4Ylz"
      },
      "execution_count": null,
      "outputs": []
    },
    {
      "cell_type": "markdown",
      "source": [
        "👋 ⚒ Try to come up with two biased analogies yourself and test if the GloVe and word2vec models suffers from this type of bias. Please try to be creative and do not just change woman to girl and man to boy or something similar."
      ],
      "metadata": {
        "id": "9S2HoyVE7hL0"
      }
    },
    {
      "cell_type": "code",
      "source": [
        "# Test your biased analogies on both models here"
      ],
      "metadata": {
        "id": "IVvhsv5u7wHA"
      },
      "execution_count": null,
      "outputs": []
    }
  ]
}