{
  "nbformat": 4,
  "nbformat_minor": 0,
  "metadata": {
    "colab": {
      "provenance": [],
      "authorship_tag": "ABX9TyNDSSKqVna56a/SDLxiaibC",
      "include_colab_link": true
    },
    "kernelspec": {
      "name": "python3",
      "display_name": "Python 3"
    },
    "language_info": {
      "name": "python"
    },
    "widgets": {
      "application/vnd.jupyter.widget-state+json": {
        "48b6cb99e28f4ddd880a49d9cc9e1834": {
          "model_module": "@jupyter-widgets/controls",
          "model_name": "HBoxModel",
          "model_module_version": "1.5.0",
          "state": {
            "_dom_classes": [],
            "_model_module": "@jupyter-widgets/controls",
            "_model_module_version": "1.5.0",
            "_model_name": "HBoxModel",
            "_view_count": null,
            "_view_module": "@jupyter-widgets/controls",
            "_view_module_version": "1.5.0",
            "_view_name": "HBoxView",
            "box_style": "",
            "children": [
              "IPY_MODEL_1ba4ec5078ff4bbd82c8f947cb758e67",
              "IPY_MODEL_4d4e9458361549f4b999133a617b77b3",
              "IPY_MODEL_7e7cc5a2b0d24d86a9764cd1bf6371b3"
            ],
            "layout": "IPY_MODEL_2f23cb3f56a741489c613ed46849ce31"
          }
        },
        "1ba4ec5078ff4bbd82c8f947cb758e67": {
          "model_module": "@jupyter-widgets/controls",
          "model_name": "HTMLModel",
          "model_module_version": "1.5.0",
          "state": {
            "_dom_classes": [],
            "_model_module": "@jupyter-widgets/controls",
            "_model_module_version": "1.5.0",
            "_model_name": "HTMLModel",
            "_view_count": null,
            "_view_module": "@jupyter-widgets/controls",
            "_view_module_version": "1.5.0",
            "_view_name": "HTMLView",
            "description": "",
            "description_tooltip": null,
            "layout": "IPY_MODEL_e5dfe53004144099b93179e891f21941",
            "placeholder": "​",
            "style": "IPY_MODEL_1646199451db47ca8c5293ab9b165d6e",
            "value": "tokenizer_config.json: 100%"
          }
        },
        "4d4e9458361549f4b999133a617b77b3": {
          "model_module": "@jupyter-widgets/controls",
          "model_name": "FloatProgressModel",
          "model_module_version": "1.5.0",
          "state": {
            "_dom_classes": [],
            "_model_module": "@jupyter-widgets/controls",
            "_model_module_version": "1.5.0",
            "_model_name": "FloatProgressModel",
            "_view_count": null,
            "_view_module": "@jupyter-widgets/controls",
            "_view_module_version": "1.5.0",
            "_view_name": "ProgressView",
            "bar_style": "success",
            "description": "",
            "description_tooltip": null,
            "layout": "IPY_MODEL_275e30abae864792919dd09711e1c445",
            "max": 2324,
            "min": 0,
            "orientation": "horizontal",
            "style": "IPY_MODEL_46e728c013ff4b9ba08e21f238f06e1a",
            "value": 2324
          }
        },
        "7e7cc5a2b0d24d86a9764cd1bf6371b3": {
          "model_module": "@jupyter-widgets/controls",
          "model_name": "HTMLModel",
          "model_module_version": "1.5.0",
          "state": {
            "_dom_classes": [],
            "_model_module": "@jupyter-widgets/controls",
            "_model_module_version": "1.5.0",
            "_model_name": "HTMLModel",
            "_view_count": null,
            "_view_module": "@jupyter-widgets/controls",
            "_view_module_version": "1.5.0",
            "_view_name": "HTMLView",
            "description": "",
            "description_tooltip": null,
            "layout": "IPY_MODEL_4b1ca427241a43fb93db09b2300ae547",
            "placeholder": "​",
            "style": "IPY_MODEL_7807379365b24018892f7dcdb4a3f284",
            "value": " 2.32k/2.32k [00:00&lt;00:00, 36.4kB/s]"
          }
        },
        "2f23cb3f56a741489c613ed46849ce31": {
          "model_module": "@jupyter-widgets/base",
          "model_name": "LayoutModel",
          "model_module_version": "1.2.0",
          "state": {
            "_model_module": "@jupyter-widgets/base",
            "_model_module_version": "1.2.0",
            "_model_name": "LayoutModel",
            "_view_count": null,
            "_view_module": "@jupyter-widgets/base",
            "_view_module_version": "1.2.0",
            "_view_name": "LayoutView",
            "align_content": null,
            "align_items": null,
            "align_self": null,
            "border": null,
            "bottom": null,
            "display": null,
            "flex": null,
            "flex_flow": null,
            "grid_area": null,
            "grid_auto_columns": null,
            "grid_auto_flow": null,
            "grid_auto_rows": null,
            "grid_column": null,
            "grid_gap": null,
            "grid_row": null,
            "grid_template_areas": null,
            "grid_template_columns": null,
            "grid_template_rows": null,
            "height": null,
            "justify_content": null,
            "justify_items": null,
            "left": null,
            "margin": null,
            "max_height": null,
            "max_width": null,
            "min_height": null,
            "min_width": null,
            "object_fit": null,
            "object_position": null,
            "order": null,
            "overflow": null,
            "overflow_x": null,
            "overflow_y": null,
            "padding": null,
            "right": null,
            "top": null,
            "visibility": null,
            "width": null
          }
        },
        "e5dfe53004144099b93179e891f21941": {
          "model_module": "@jupyter-widgets/base",
          "model_name": "LayoutModel",
          "model_module_version": "1.2.0",
          "state": {
            "_model_module": "@jupyter-widgets/base",
            "_model_module_version": "1.2.0",
            "_model_name": "LayoutModel",
            "_view_count": null,
            "_view_module": "@jupyter-widgets/base",
            "_view_module_version": "1.2.0",
            "_view_name": "LayoutView",
            "align_content": null,
            "align_items": null,
            "align_self": null,
            "border": null,
            "bottom": null,
            "display": null,
            "flex": null,
            "flex_flow": null,
            "grid_area": null,
            "grid_auto_columns": null,
            "grid_auto_flow": null,
            "grid_auto_rows": null,
            "grid_column": null,
            "grid_gap": null,
            "grid_row": null,
            "grid_template_areas": null,
            "grid_template_columns": null,
            "grid_template_rows": null,
            "height": null,
            "justify_content": null,
            "justify_items": null,
            "left": null,
            "margin": null,
            "max_height": null,
            "max_width": null,
            "min_height": null,
            "min_width": null,
            "object_fit": null,
            "object_position": null,
            "order": null,
            "overflow": null,
            "overflow_x": null,
            "overflow_y": null,
            "padding": null,
            "right": null,
            "top": null,
            "visibility": null,
            "width": null
          }
        },
        "1646199451db47ca8c5293ab9b165d6e": {
          "model_module": "@jupyter-widgets/controls",
          "model_name": "DescriptionStyleModel",
          "model_module_version": "1.5.0",
          "state": {
            "_model_module": "@jupyter-widgets/controls",
            "_model_module_version": "1.5.0",
            "_model_name": "DescriptionStyleModel",
            "_view_count": null,
            "_view_module": "@jupyter-widgets/base",
            "_view_module_version": "1.2.0",
            "_view_name": "StyleView",
            "description_width": ""
          }
        },
        "275e30abae864792919dd09711e1c445": {
          "model_module": "@jupyter-widgets/base",
          "model_name": "LayoutModel",
          "model_module_version": "1.2.0",
          "state": {
            "_model_module": "@jupyter-widgets/base",
            "_model_module_version": "1.2.0",
            "_model_name": "LayoutModel",
            "_view_count": null,
            "_view_module": "@jupyter-widgets/base",
            "_view_module_version": "1.2.0",
            "_view_name": "LayoutView",
            "align_content": null,
            "align_items": null,
            "align_self": null,
            "border": null,
            "bottom": null,
            "display": null,
            "flex": null,
            "flex_flow": null,
            "grid_area": null,
            "grid_auto_columns": null,
            "grid_auto_flow": null,
            "grid_auto_rows": null,
            "grid_column": null,
            "grid_gap": null,
            "grid_row": null,
            "grid_template_areas": null,
            "grid_template_columns": null,
            "grid_template_rows": null,
            "height": null,
            "justify_content": null,
            "justify_items": null,
            "left": null,
            "margin": null,
            "max_height": null,
            "max_width": null,
            "min_height": null,
            "min_width": null,
            "object_fit": null,
            "object_position": null,
            "order": null,
            "overflow": null,
            "overflow_x": null,
            "overflow_y": null,
            "padding": null,
            "right": null,
            "top": null,
            "visibility": null,
            "width": null
          }
        },
        "46e728c013ff4b9ba08e21f238f06e1a": {
          "model_module": "@jupyter-widgets/controls",
          "model_name": "ProgressStyleModel",
          "model_module_version": "1.5.0",
          "state": {
            "_model_module": "@jupyter-widgets/controls",
            "_model_module_version": "1.5.0",
            "_model_name": "ProgressStyleModel",
            "_view_count": null,
            "_view_module": "@jupyter-widgets/base",
            "_view_module_version": "1.2.0",
            "_view_name": "StyleView",
            "bar_color": null,
            "description_width": ""
          }
        },
        "4b1ca427241a43fb93db09b2300ae547": {
          "model_module": "@jupyter-widgets/base",
          "model_name": "LayoutModel",
          "model_module_version": "1.2.0",
          "state": {
            "_model_module": "@jupyter-widgets/base",
            "_model_module_version": "1.2.0",
            "_model_name": "LayoutModel",
            "_view_count": null,
            "_view_module": "@jupyter-widgets/base",
            "_view_module_version": "1.2.0",
            "_view_name": "LayoutView",
            "align_content": null,
            "align_items": null,
            "align_self": null,
            "border": null,
            "bottom": null,
            "display": null,
            "flex": null,
            "flex_flow": null,
            "grid_area": null,
            "grid_auto_columns": null,
            "grid_auto_flow": null,
            "grid_auto_rows": null,
            "grid_column": null,
            "grid_gap": null,
            "grid_row": null,
            "grid_template_areas": null,
            "grid_template_columns": null,
            "grid_template_rows": null,
            "height": null,
            "justify_content": null,
            "justify_items": null,
            "left": null,
            "margin": null,
            "max_height": null,
            "max_width": null,
            "min_height": null,
            "min_width": null,
            "object_fit": null,
            "object_position": null,
            "order": null,
            "overflow": null,
            "overflow_x": null,
            "overflow_y": null,
            "padding": null,
            "right": null,
            "top": null,
            "visibility": null,
            "width": null
          }
        },
        "7807379365b24018892f7dcdb4a3f284": {
          "model_module": "@jupyter-widgets/controls",
          "model_name": "DescriptionStyleModel",
          "model_module_version": "1.5.0",
          "state": {
            "_model_module": "@jupyter-widgets/controls",
            "_model_module_version": "1.5.0",
            "_model_name": "DescriptionStyleModel",
            "_view_count": null,
            "_view_module": "@jupyter-widgets/base",
            "_view_module_version": "1.2.0",
            "_view_name": "StyleView",
            "description_width": ""
          }
        },
        "879e8cc2310f460f8cd4b6e098e5d7ef": {
          "model_module": "@jupyter-widgets/controls",
          "model_name": "HBoxModel",
          "model_module_version": "1.5.0",
          "state": {
            "_dom_classes": [],
            "_model_module": "@jupyter-widgets/controls",
            "_model_module_version": "1.5.0",
            "_model_name": "HBoxModel",
            "_view_count": null,
            "_view_module": "@jupyter-widgets/controls",
            "_view_module_version": "1.5.0",
            "_view_name": "HBoxView",
            "box_style": "",
            "children": [
              "IPY_MODEL_ed3f5e4e05f548ae9354d0bc71d192a0",
              "IPY_MODEL_d5471d2c1268411eb414e2e531331eac",
              "IPY_MODEL_0b19d6ba4b394d5cb13db526d25060a2"
            ],
            "layout": "IPY_MODEL_59df5668a049471bb249f72a4808bd7e"
          }
        },
        "ed3f5e4e05f548ae9354d0bc71d192a0": {
          "model_module": "@jupyter-widgets/controls",
          "model_name": "HTMLModel",
          "model_module_version": "1.5.0",
          "state": {
            "_dom_classes": [],
            "_model_module": "@jupyter-widgets/controls",
            "_model_module_version": "1.5.0",
            "_model_name": "HTMLModel",
            "_view_count": null,
            "_view_module": "@jupyter-widgets/controls",
            "_view_module_version": "1.5.0",
            "_view_name": "HTMLView",
            "description": "",
            "description_tooltip": null,
            "layout": "IPY_MODEL_310ca6581c744499843ca2c19d560ed4",
            "placeholder": "​",
            "style": "IPY_MODEL_1c846d3f75184fe6bb69dfbdf37f2b10",
            "value": "spiece.model: 100%"
          }
        },
        "d5471d2c1268411eb414e2e531331eac": {
          "model_module": "@jupyter-widgets/controls",
          "model_name": "FloatProgressModel",
          "model_module_version": "1.5.0",
          "state": {
            "_dom_classes": [],
            "_model_module": "@jupyter-widgets/controls",
            "_model_module_version": "1.5.0",
            "_model_name": "FloatProgressModel",
            "_view_count": null,
            "_view_module": "@jupyter-widgets/controls",
            "_view_module_version": "1.5.0",
            "_view_name": "ProgressView",
            "bar_style": "success",
            "description": "",
            "description_tooltip": null,
            "layout": "IPY_MODEL_d677cb721c98480bb795c17e87a65bcb",
            "max": 791656,
            "min": 0,
            "orientation": "horizontal",
            "style": "IPY_MODEL_75ddbd47576147f28cc9b322c4794fec",
            "value": 791656
          }
        },
        "0b19d6ba4b394d5cb13db526d25060a2": {
          "model_module": "@jupyter-widgets/controls",
          "model_name": "HTMLModel",
          "model_module_version": "1.5.0",
          "state": {
            "_dom_classes": [],
            "_model_module": "@jupyter-widgets/controls",
            "_model_module_version": "1.5.0",
            "_model_name": "HTMLModel",
            "_view_count": null,
            "_view_module": "@jupyter-widgets/controls",
            "_view_module_version": "1.5.0",
            "_view_name": "HTMLView",
            "description": "",
            "description_tooltip": null,
            "layout": "IPY_MODEL_639c4210f9774dcf9d700bb5f94d5dce",
            "placeholder": "​",
            "style": "IPY_MODEL_6f2ad7a06abf452cbce6c80a9411c9e0",
            "value": " 792k/792k [00:00&lt;00:00, 7.91MB/s]"
          }
        },
        "59df5668a049471bb249f72a4808bd7e": {
          "model_module": "@jupyter-widgets/base",
          "model_name": "LayoutModel",
          "model_module_version": "1.2.0",
          "state": {
            "_model_module": "@jupyter-widgets/base",
            "_model_module_version": "1.2.0",
            "_model_name": "LayoutModel",
            "_view_count": null,
            "_view_module": "@jupyter-widgets/base",
            "_view_module_version": "1.2.0",
            "_view_name": "LayoutView",
            "align_content": null,
            "align_items": null,
            "align_self": null,
            "border": null,
            "bottom": null,
            "display": null,
            "flex": null,
            "flex_flow": null,
            "grid_area": null,
            "grid_auto_columns": null,
            "grid_auto_flow": null,
            "grid_auto_rows": null,
            "grid_column": null,
            "grid_gap": null,
            "grid_row": null,
            "grid_template_areas": null,
            "grid_template_columns": null,
            "grid_template_rows": null,
            "height": null,
            "justify_content": null,
            "justify_items": null,
            "left": null,
            "margin": null,
            "max_height": null,
            "max_width": null,
            "min_height": null,
            "min_width": null,
            "object_fit": null,
            "object_position": null,
            "order": null,
            "overflow": null,
            "overflow_x": null,
            "overflow_y": null,
            "padding": null,
            "right": null,
            "top": null,
            "visibility": null,
            "width": null
          }
        },
        "310ca6581c744499843ca2c19d560ed4": {
          "model_module": "@jupyter-widgets/base",
          "model_name": "LayoutModel",
          "model_module_version": "1.2.0",
          "state": {
            "_model_module": "@jupyter-widgets/base",
            "_model_module_version": "1.2.0",
            "_model_name": "LayoutModel",
            "_view_count": null,
            "_view_module": "@jupyter-widgets/base",
            "_view_module_version": "1.2.0",
            "_view_name": "LayoutView",
            "align_content": null,
            "align_items": null,
            "align_self": null,
            "border": null,
            "bottom": null,
            "display": null,
            "flex": null,
            "flex_flow": null,
            "grid_area": null,
            "grid_auto_columns": null,
            "grid_auto_flow": null,
            "grid_auto_rows": null,
            "grid_column": null,
            "grid_gap": null,
            "grid_row": null,
            "grid_template_areas": null,
            "grid_template_columns": null,
            "grid_template_rows": null,
            "height": null,
            "justify_content": null,
            "justify_items": null,
            "left": null,
            "margin": null,
            "max_height": null,
            "max_width": null,
            "min_height": null,
            "min_width": null,
            "object_fit": null,
            "object_position": null,
            "order": null,
            "overflow": null,
            "overflow_x": null,
            "overflow_y": null,
            "padding": null,
            "right": null,
            "top": null,
            "visibility": null,
            "width": null
          }
        },
        "1c846d3f75184fe6bb69dfbdf37f2b10": {
          "model_module": "@jupyter-widgets/controls",
          "model_name": "DescriptionStyleModel",
          "model_module_version": "1.5.0",
          "state": {
            "_model_module": "@jupyter-widgets/controls",
            "_model_module_version": "1.5.0",
            "_model_name": "DescriptionStyleModel",
            "_view_count": null,
            "_view_module": "@jupyter-widgets/base",
            "_view_module_version": "1.2.0",
            "_view_name": "StyleView",
            "description_width": ""
          }
        },
        "d677cb721c98480bb795c17e87a65bcb": {
          "model_module": "@jupyter-widgets/base",
          "model_name": "LayoutModel",
          "model_module_version": "1.2.0",
          "state": {
            "_model_module": "@jupyter-widgets/base",
            "_model_module_version": "1.2.0",
            "_model_name": "LayoutModel",
            "_view_count": null,
            "_view_module": "@jupyter-widgets/base",
            "_view_module_version": "1.2.0",
            "_view_name": "LayoutView",
            "align_content": null,
            "align_items": null,
            "align_self": null,
            "border": null,
            "bottom": null,
            "display": null,
            "flex": null,
            "flex_flow": null,
            "grid_area": null,
            "grid_auto_columns": null,
            "grid_auto_flow": null,
            "grid_auto_rows": null,
            "grid_column": null,
            "grid_gap": null,
            "grid_row": null,
            "grid_template_areas": null,
            "grid_template_columns": null,
            "grid_template_rows": null,
            "height": null,
            "justify_content": null,
            "justify_items": null,
            "left": null,
            "margin": null,
            "max_height": null,
            "max_width": null,
            "min_height": null,
            "min_width": null,
            "object_fit": null,
            "object_position": null,
            "order": null,
            "overflow": null,
            "overflow_x": null,
            "overflow_y": null,
            "padding": null,
            "right": null,
            "top": null,
            "visibility": null,
            "width": null
          }
        },
        "75ddbd47576147f28cc9b322c4794fec": {
          "model_module": "@jupyter-widgets/controls",
          "model_name": "ProgressStyleModel",
          "model_module_version": "1.5.0",
          "state": {
            "_model_module": "@jupyter-widgets/controls",
            "_model_module_version": "1.5.0",
            "_model_name": "ProgressStyleModel",
            "_view_count": null,
            "_view_module": "@jupyter-widgets/base",
            "_view_module_version": "1.2.0",
            "_view_name": "StyleView",
            "bar_color": null,
            "description_width": ""
          }
        },
        "639c4210f9774dcf9d700bb5f94d5dce": {
          "model_module": "@jupyter-widgets/base",
          "model_name": "LayoutModel",
          "model_module_version": "1.2.0",
          "state": {
            "_model_module": "@jupyter-widgets/base",
            "_model_module_version": "1.2.0",
            "_model_name": "LayoutModel",
            "_view_count": null,
            "_view_module": "@jupyter-widgets/base",
            "_view_module_version": "1.2.0",
            "_view_name": "LayoutView",
            "align_content": null,
            "align_items": null,
            "align_self": null,
            "border": null,
            "bottom": null,
            "display": null,
            "flex": null,
            "flex_flow": null,
            "grid_area": null,
            "grid_auto_columns": null,
            "grid_auto_flow": null,
            "grid_auto_rows": null,
            "grid_column": null,
            "grid_gap": null,
            "grid_row": null,
            "grid_template_areas": null,
            "grid_template_columns": null,
            "grid_template_rows": null,
            "height": null,
            "justify_content": null,
            "justify_items": null,
            "left": null,
            "margin": null,
            "max_height": null,
            "max_width": null,
            "min_height": null,
            "min_width": null,
            "object_fit": null,
            "object_position": null,
            "order": null,
            "overflow": null,
            "overflow_x": null,
            "overflow_y": null,
            "padding": null,
            "right": null,
            "top": null,
            "visibility": null,
            "width": null
          }
        },
        "6f2ad7a06abf452cbce6c80a9411c9e0": {
          "model_module": "@jupyter-widgets/controls",
          "model_name": "DescriptionStyleModel",
          "model_module_version": "1.5.0",
          "state": {
            "_model_module": "@jupyter-widgets/controls",
            "_model_module_version": "1.5.0",
            "_model_name": "DescriptionStyleModel",
            "_view_count": null,
            "_view_module": "@jupyter-widgets/base",
            "_view_module_version": "1.2.0",
            "_view_name": "StyleView",
            "description_width": ""
          }
        },
        "d8d2ea5ab24c463bae41c983994b13f6": {
          "model_module": "@jupyter-widgets/controls",
          "model_name": "HBoxModel",
          "model_module_version": "1.5.0",
          "state": {
            "_dom_classes": [],
            "_model_module": "@jupyter-widgets/controls",
            "_model_module_version": "1.5.0",
            "_model_name": "HBoxModel",
            "_view_count": null,
            "_view_module": "@jupyter-widgets/controls",
            "_view_module_version": "1.5.0",
            "_view_name": "HBoxView",
            "box_style": "",
            "children": [
              "IPY_MODEL_745b61e1f67a4676a84d83d202655674",
              "IPY_MODEL_7a0a88f17a424274b930bf39e010ef6a",
              "IPY_MODEL_a90f5e14b64f402daf9cac79365f4e80"
            ],
            "layout": "IPY_MODEL_f25df9bed9564e2b8cfe2c00ca8abccf"
          }
        },
        "745b61e1f67a4676a84d83d202655674": {
          "model_module": "@jupyter-widgets/controls",
          "model_name": "HTMLModel",
          "model_module_version": "1.5.0",
          "state": {
            "_dom_classes": [],
            "_model_module": "@jupyter-widgets/controls",
            "_model_module_version": "1.5.0",
            "_model_name": "HTMLModel",
            "_view_count": null,
            "_view_module": "@jupyter-widgets/controls",
            "_view_module_version": "1.5.0",
            "_view_name": "HTMLView",
            "description": "",
            "description_tooltip": null,
            "layout": "IPY_MODEL_b726817fa5144fc08ffadb62b8313957",
            "placeholder": "​",
            "style": "IPY_MODEL_bc1cf43b0f12416b873c816c7eaf62cc",
            "value": "tokenizer.json: 100%"
          }
        },
        "7a0a88f17a424274b930bf39e010ef6a": {
          "model_module": "@jupyter-widgets/controls",
          "model_name": "FloatProgressModel",
          "model_module_version": "1.5.0",
          "state": {
            "_dom_classes": [],
            "_model_module": "@jupyter-widgets/controls",
            "_model_module_version": "1.5.0",
            "_model_name": "FloatProgressModel",
            "_view_count": null,
            "_view_module": "@jupyter-widgets/controls",
            "_view_module_version": "1.5.0",
            "_view_name": "ProgressView",
            "bar_style": "success",
            "description": "",
            "description_tooltip": null,
            "layout": "IPY_MODEL_c5d44dbfc2c0456aad0e47c2c21f9740",
            "max": 1389353,
            "min": 0,
            "orientation": "horizontal",
            "style": "IPY_MODEL_15fc1d1a7b62405f829e03b69130b31f",
            "value": 1389353
          }
        },
        "a90f5e14b64f402daf9cac79365f4e80": {
          "model_module": "@jupyter-widgets/controls",
          "model_name": "HTMLModel",
          "model_module_version": "1.5.0",
          "state": {
            "_dom_classes": [],
            "_model_module": "@jupyter-widgets/controls",
            "_model_module_version": "1.5.0",
            "_model_name": "HTMLModel",
            "_view_count": null,
            "_view_module": "@jupyter-widgets/controls",
            "_view_module_version": "1.5.0",
            "_view_name": "HTMLView",
            "description": "",
            "description_tooltip": null,
            "layout": "IPY_MODEL_b332ee6144ee47e3a3bc022a0d105192",
            "placeholder": "​",
            "style": "IPY_MODEL_69a8ab603ea542629d65470f263dfcd2",
            "value": " 1.39M/1.39M [00:00&lt;00:00, 14.5MB/s]"
          }
        },
        "f25df9bed9564e2b8cfe2c00ca8abccf": {
          "model_module": "@jupyter-widgets/base",
          "model_name": "LayoutModel",
          "model_module_version": "1.2.0",
          "state": {
            "_model_module": "@jupyter-widgets/base",
            "_model_module_version": "1.2.0",
            "_model_name": "LayoutModel",
            "_view_count": null,
            "_view_module": "@jupyter-widgets/base",
            "_view_module_version": "1.2.0",
            "_view_name": "LayoutView",
            "align_content": null,
            "align_items": null,
            "align_self": null,
            "border": null,
            "bottom": null,
            "display": null,
            "flex": null,
            "flex_flow": null,
            "grid_area": null,
            "grid_auto_columns": null,
            "grid_auto_flow": null,
            "grid_auto_rows": null,
            "grid_column": null,
            "grid_gap": null,
            "grid_row": null,
            "grid_template_areas": null,
            "grid_template_columns": null,
            "grid_template_rows": null,
            "height": null,
            "justify_content": null,
            "justify_items": null,
            "left": null,
            "margin": null,
            "max_height": null,
            "max_width": null,
            "min_height": null,
            "min_width": null,
            "object_fit": null,
            "object_position": null,
            "order": null,
            "overflow": null,
            "overflow_x": null,
            "overflow_y": null,
            "padding": null,
            "right": null,
            "top": null,
            "visibility": null,
            "width": null
          }
        },
        "b726817fa5144fc08ffadb62b8313957": {
          "model_module": "@jupyter-widgets/base",
          "model_name": "LayoutModel",
          "model_module_version": "1.2.0",
          "state": {
            "_model_module": "@jupyter-widgets/base",
            "_model_module_version": "1.2.0",
            "_model_name": "LayoutModel",
            "_view_count": null,
            "_view_module": "@jupyter-widgets/base",
            "_view_module_version": "1.2.0",
            "_view_name": "LayoutView",
            "align_content": null,
            "align_items": null,
            "align_self": null,
            "border": null,
            "bottom": null,
            "display": null,
            "flex": null,
            "flex_flow": null,
            "grid_area": null,
            "grid_auto_columns": null,
            "grid_auto_flow": null,
            "grid_auto_rows": null,
            "grid_column": null,
            "grid_gap": null,
            "grid_row": null,
            "grid_template_areas": null,
            "grid_template_columns": null,
            "grid_template_rows": null,
            "height": null,
            "justify_content": null,
            "justify_items": null,
            "left": null,
            "margin": null,
            "max_height": null,
            "max_width": null,
            "min_height": null,
            "min_width": null,
            "object_fit": null,
            "object_position": null,
            "order": null,
            "overflow": null,
            "overflow_x": null,
            "overflow_y": null,
            "padding": null,
            "right": null,
            "top": null,
            "visibility": null,
            "width": null
          }
        },
        "bc1cf43b0f12416b873c816c7eaf62cc": {
          "model_module": "@jupyter-widgets/controls",
          "model_name": "DescriptionStyleModel",
          "model_module_version": "1.5.0",
          "state": {
            "_model_module": "@jupyter-widgets/controls",
            "_model_module_version": "1.5.0",
            "_model_name": "DescriptionStyleModel",
            "_view_count": null,
            "_view_module": "@jupyter-widgets/base",
            "_view_module_version": "1.2.0",
            "_view_name": "StyleView",
            "description_width": ""
          }
        },
        "c5d44dbfc2c0456aad0e47c2c21f9740": {
          "model_module": "@jupyter-widgets/base",
          "model_name": "LayoutModel",
          "model_module_version": "1.2.0",
          "state": {
            "_model_module": "@jupyter-widgets/base",
            "_model_module_version": "1.2.0",
            "_model_name": "LayoutModel",
            "_view_count": null,
            "_view_module": "@jupyter-widgets/base",
            "_view_module_version": "1.2.0",
            "_view_name": "LayoutView",
            "align_content": null,
            "align_items": null,
            "align_self": null,
            "border": null,
            "bottom": null,
            "display": null,
            "flex": null,
            "flex_flow": null,
            "grid_area": null,
            "grid_auto_columns": null,
            "grid_auto_flow": null,
            "grid_auto_rows": null,
            "grid_column": null,
            "grid_gap": null,
            "grid_row": null,
            "grid_template_areas": null,
            "grid_template_columns": null,
            "grid_template_rows": null,
            "height": null,
            "justify_content": null,
            "justify_items": null,
            "left": null,
            "margin": null,
            "max_height": null,
            "max_width": null,
            "min_height": null,
            "min_width": null,
            "object_fit": null,
            "object_position": null,
            "order": null,
            "overflow": null,
            "overflow_x": null,
            "overflow_y": null,
            "padding": null,
            "right": null,
            "top": null,
            "visibility": null,
            "width": null
          }
        },
        "15fc1d1a7b62405f829e03b69130b31f": {
          "model_module": "@jupyter-widgets/controls",
          "model_name": "ProgressStyleModel",
          "model_module_version": "1.5.0",
          "state": {
            "_model_module": "@jupyter-widgets/controls",
            "_model_module_version": "1.5.0",
            "_model_name": "ProgressStyleModel",
            "_view_count": null,
            "_view_module": "@jupyter-widgets/base",
            "_view_module_version": "1.2.0",
            "_view_name": "StyleView",
            "bar_color": null,
            "description_width": ""
          }
        },
        "b332ee6144ee47e3a3bc022a0d105192": {
          "model_module": "@jupyter-widgets/base",
          "model_name": "LayoutModel",
          "model_module_version": "1.2.0",
          "state": {
            "_model_module": "@jupyter-widgets/base",
            "_model_module_version": "1.2.0",
            "_model_name": "LayoutModel",
            "_view_count": null,
            "_view_module": "@jupyter-widgets/base",
            "_view_module_version": "1.2.0",
            "_view_name": "LayoutView",
            "align_content": null,
            "align_items": null,
            "align_self": null,
            "border": null,
            "bottom": null,
            "display": null,
            "flex": null,
            "flex_flow": null,
            "grid_area": null,
            "grid_auto_columns": null,
            "grid_auto_flow": null,
            "grid_auto_rows": null,
            "grid_column": null,
            "grid_gap": null,
            "grid_row": null,
            "grid_template_areas": null,
            "grid_template_columns": null,
            "grid_template_rows": null,
            "height": null,
            "justify_content": null,
            "justify_items": null,
            "left": null,
            "margin": null,
            "max_height": null,
            "max_width": null,
            "min_height": null,
            "min_width": null,
            "object_fit": null,
            "object_position": null,
            "order": null,
            "overflow": null,
            "overflow_x": null,
            "overflow_y": null,
            "padding": null,
            "right": null,
            "top": null,
            "visibility": null,
            "width": null
          }
        },
        "69a8ab603ea542629d65470f263dfcd2": {
          "model_module": "@jupyter-widgets/controls",
          "model_name": "DescriptionStyleModel",
          "model_module_version": "1.5.0",
          "state": {
            "_model_module": "@jupyter-widgets/controls",
            "_model_module_version": "1.5.0",
            "_model_name": "DescriptionStyleModel",
            "_view_count": null,
            "_view_module": "@jupyter-widgets/base",
            "_view_module_version": "1.2.0",
            "_view_name": "StyleView",
            "description_width": ""
          }
        },
        "3f6015809e494b3e86e7d6f05602b5a8": {
          "model_module": "@jupyter-widgets/controls",
          "model_name": "HBoxModel",
          "model_module_version": "1.5.0",
          "state": {
            "_dom_classes": [],
            "_model_module": "@jupyter-widgets/controls",
            "_model_module_version": "1.5.0",
            "_model_name": "HBoxModel",
            "_view_count": null,
            "_view_module": "@jupyter-widgets/controls",
            "_view_module_version": "1.5.0",
            "_view_name": "HBoxView",
            "box_style": "",
            "children": [
              "IPY_MODEL_3bcedebe2da04930ab726bc52910542f",
              "IPY_MODEL_721891fe027b499abf10ba3e02d9c536",
              "IPY_MODEL_a37492b0350e4fffa9703d62feae85ed"
            ],
            "layout": "IPY_MODEL_16fbb593cbb14fc4a39fc1b9c7408547"
          }
        },
        "3bcedebe2da04930ab726bc52910542f": {
          "model_module": "@jupyter-widgets/controls",
          "model_name": "HTMLModel",
          "model_module_version": "1.5.0",
          "state": {
            "_dom_classes": [],
            "_model_module": "@jupyter-widgets/controls",
            "_model_module_version": "1.5.0",
            "_model_name": "HTMLModel",
            "_view_count": null,
            "_view_module": "@jupyter-widgets/controls",
            "_view_module_version": "1.5.0",
            "_view_name": "HTMLView",
            "description": "",
            "description_tooltip": null,
            "layout": "IPY_MODEL_d12d743bb8314b9a875922b57e0f86d7",
            "placeholder": "​",
            "style": "IPY_MODEL_5cb4cf28b2324ff68edc8aba2a2a5902",
            "value": "Map: 100%"
          }
        },
        "721891fe027b499abf10ba3e02d9c536": {
          "model_module": "@jupyter-widgets/controls",
          "model_name": "FloatProgressModel",
          "model_module_version": "1.5.0",
          "state": {
            "_dom_classes": [],
            "_model_module": "@jupyter-widgets/controls",
            "_model_module_version": "1.5.0",
            "_model_name": "FloatProgressModel",
            "_view_count": null,
            "_view_module": "@jupyter-widgets/controls",
            "_view_module_version": "1.5.0",
            "_view_name": "ProgressView",
            "bar_style": "success",
            "description": "",
            "description_tooltip": null,
            "layout": "IPY_MODEL_8e4412abddcd49b595f53f5ec6aba24c",
            "max": 2000,
            "min": 0,
            "orientation": "horizontal",
            "style": "IPY_MODEL_1933eee57b8c48f5a66a3fc4e3762b1b",
            "value": 2000
          }
        },
        "a37492b0350e4fffa9703d62feae85ed": {
          "model_module": "@jupyter-widgets/controls",
          "model_name": "HTMLModel",
          "model_module_version": "1.5.0",
          "state": {
            "_dom_classes": [],
            "_model_module": "@jupyter-widgets/controls",
            "_model_module_version": "1.5.0",
            "_model_name": "HTMLModel",
            "_view_count": null,
            "_view_module": "@jupyter-widgets/controls",
            "_view_module_version": "1.5.0",
            "_view_name": "HTMLView",
            "description": "",
            "description_tooltip": null,
            "layout": "IPY_MODEL_50442b5da3824d9fb501efbb705115c4",
            "placeholder": "​",
            "style": "IPY_MODEL_d1188d36ef1b49ac923829798589ea52",
            "value": " 2000/2000 [00:00&lt;00:00, 3059.09 examples/s]"
          }
        },
        "16fbb593cbb14fc4a39fc1b9c7408547": {
          "model_module": "@jupyter-widgets/base",
          "model_name": "LayoutModel",
          "model_module_version": "1.2.0",
          "state": {
            "_model_module": "@jupyter-widgets/base",
            "_model_module_version": "1.2.0",
            "_model_name": "LayoutModel",
            "_view_count": null,
            "_view_module": "@jupyter-widgets/base",
            "_view_module_version": "1.2.0",
            "_view_name": "LayoutView",
            "align_content": null,
            "align_items": null,
            "align_self": null,
            "border": null,
            "bottom": null,
            "display": null,
            "flex": null,
            "flex_flow": null,
            "grid_area": null,
            "grid_auto_columns": null,
            "grid_auto_flow": null,
            "grid_auto_rows": null,
            "grid_column": null,
            "grid_gap": null,
            "grid_row": null,
            "grid_template_areas": null,
            "grid_template_columns": null,
            "grid_template_rows": null,
            "height": null,
            "justify_content": null,
            "justify_items": null,
            "left": null,
            "margin": null,
            "max_height": null,
            "max_width": null,
            "min_height": null,
            "min_width": null,
            "object_fit": null,
            "object_position": null,
            "order": null,
            "overflow": null,
            "overflow_x": null,
            "overflow_y": null,
            "padding": null,
            "right": null,
            "top": null,
            "visibility": null,
            "width": null
          }
        },
        "d12d743bb8314b9a875922b57e0f86d7": {
          "model_module": "@jupyter-widgets/base",
          "model_name": "LayoutModel",
          "model_module_version": "1.2.0",
          "state": {
            "_model_module": "@jupyter-widgets/base",
            "_model_module_version": "1.2.0",
            "_model_name": "LayoutModel",
            "_view_count": null,
            "_view_module": "@jupyter-widgets/base",
            "_view_module_version": "1.2.0",
            "_view_name": "LayoutView",
            "align_content": null,
            "align_items": null,
            "align_self": null,
            "border": null,
            "bottom": null,
            "display": null,
            "flex": null,
            "flex_flow": null,
            "grid_area": null,
            "grid_auto_columns": null,
            "grid_auto_flow": null,
            "grid_auto_rows": null,
            "grid_column": null,
            "grid_gap": null,
            "grid_row": null,
            "grid_template_areas": null,
            "grid_template_columns": null,
            "grid_template_rows": null,
            "height": null,
            "justify_content": null,
            "justify_items": null,
            "left": null,
            "margin": null,
            "max_height": null,
            "max_width": null,
            "min_height": null,
            "min_width": null,
            "object_fit": null,
            "object_position": null,
            "order": null,
            "overflow": null,
            "overflow_x": null,
            "overflow_y": null,
            "padding": null,
            "right": null,
            "top": null,
            "visibility": null,
            "width": null
          }
        },
        "5cb4cf28b2324ff68edc8aba2a2a5902": {
          "model_module": "@jupyter-widgets/controls",
          "model_name": "DescriptionStyleModel",
          "model_module_version": "1.5.0",
          "state": {
            "_model_module": "@jupyter-widgets/controls",
            "_model_module_version": "1.5.0",
            "_model_name": "DescriptionStyleModel",
            "_view_count": null,
            "_view_module": "@jupyter-widgets/base",
            "_view_module_version": "1.2.0",
            "_view_name": "StyleView",
            "description_width": ""
          }
        },
        "8e4412abddcd49b595f53f5ec6aba24c": {
          "model_module": "@jupyter-widgets/base",
          "model_name": "LayoutModel",
          "model_module_version": "1.2.0",
          "state": {
            "_model_module": "@jupyter-widgets/base",
            "_model_module_version": "1.2.0",
            "_model_name": "LayoutModel",
            "_view_count": null,
            "_view_module": "@jupyter-widgets/base",
            "_view_module_version": "1.2.0",
            "_view_name": "LayoutView",
            "align_content": null,
            "align_items": null,
            "align_self": null,
            "border": null,
            "bottom": null,
            "display": null,
            "flex": null,
            "flex_flow": null,
            "grid_area": null,
            "grid_auto_columns": null,
            "grid_auto_flow": null,
            "grid_auto_rows": null,
            "grid_column": null,
            "grid_gap": null,
            "grid_row": null,
            "grid_template_areas": null,
            "grid_template_columns": null,
            "grid_template_rows": null,
            "height": null,
            "justify_content": null,
            "justify_items": null,
            "left": null,
            "margin": null,
            "max_height": null,
            "max_width": null,
            "min_height": null,
            "min_width": null,
            "object_fit": null,
            "object_position": null,
            "order": null,
            "overflow": null,
            "overflow_x": null,
            "overflow_y": null,
            "padding": null,
            "right": null,
            "top": null,
            "visibility": null,
            "width": null
          }
        },
        "1933eee57b8c48f5a66a3fc4e3762b1b": {
          "model_module": "@jupyter-widgets/controls",
          "model_name": "ProgressStyleModel",
          "model_module_version": "1.5.0",
          "state": {
            "_model_module": "@jupyter-widgets/controls",
            "_model_module_version": "1.5.0",
            "_model_name": "ProgressStyleModel",
            "_view_count": null,
            "_view_module": "@jupyter-widgets/base",
            "_view_module_version": "1.2.0",
            "_view_name": "StyleView",
            "bar_color": null,
            "description_width": ""
          }
        },
        "50442b5da3824d9fb501efbb705115c4": {
          "model_module": "@jupyter-widgets/base",
          "model_name": "LayoutModel",
          "model_module_version": "1.2.0",
          "state": {
            "_model_module": "@jupyter-widgets/base",
            "_model_module_version": "1.2.0",
            "_model_name": "LayoutModel",
            "_view_count": null,
            "_view_module": "@jupyter-widgets/base",
            "_view_module_version": "1.2.0",
            "_view_name": "LayoutView",
            "align_content": null,
            "align_items": null,
            "align_self": null,
            "border": null,
            "bottom": null,
            "display": null,
            "flex": null,
            "flex_flow": null,
            "grid_area": null,
            "grid_auto_columns": null,
            "grid_auto_flow": null,
            "grid_auto_rows": null,
            "grid_column": null,
            "grid_gap": null,
            "grid_row": null,
            "grid_template_areas": null,
            "grid_template_columns": null,
            "grid_template_rows": null,
            "height": null,
            "justify_content": null,
            "justify_items": null,
            "left": null,
            "margin": null,
            "max_height": null,
            "max_width": null,
            "min_height": null,
            "min_width": null,
            "object_fit": null,
            "object_position": null,
            "order": null,
            "overflow": null,
            "overflow_x": null,
            "overflow_y": null,
            "padding": null,
            "right": null,
            "top": null,
            "visibility": null,
            "width": null
          }
        },
        "d1188d36ef1b49ac923829798589ea52": {
          "model_module": "@jupyter-widgets/controls",
          "model_name": "DescriptionStyleModel",
          "model_module_version": "1.5.0",
          "state": {
            "_model_module": "@jupyter-widgets/controls",
            "_model_module_version": "1.5.0",
            "_model_name": "DescriptionStyleModel",
            "_view_count": null,
            "_view_module": "@jupyter-widgets/base",
            "_view_module_version": "1.2.0",
            "_view_name": "StyleView",
            "description_width": ""
          }
        },
        "4664fc27f9b84856ac8bc837818628ba": {
          "model_module": "@jupyter-widgets/controls",
          "model_name": "HBoxModel",
          "model_module_version": "1.5.0",
          "state": {
            "_dom_classes": [],
            "_model_module": "@jupyter-widgets/controls",
            "_model_module_version": "1.5.0",
            "_model_name": "HBoxModel",
            "_view_count": null,
            "_view_module": "@jupyter-widgets/controls",
            "_view_module_version": "1.5.0",
            "_view_name": "HBoxView",
            "box_style": "",
            "children": [
              "IPY_MODEL_e1f0528eb2d84d7f928a9f197c80bc29",
              "IPY_MODEL_dd67fd4288064b0a91b46936dd7d22f6",
              "IPY_MODEL_bb8b03df459b41018f113a8c4047bcf3"
            ],
            "layout": "IPY_MODEL_b20fed8c5b014bcc951723554e98a2f7"
          }
        },
        "e1f0528eb2d84d7f928a9f197c80bc29": {
          "model_module": "@jupyter-widgets/controls",
          "model_name": "HTMLModel",
          "model_module_version": "1.5.0",
          "state": {
            "_dom_classes": [],
            "_model_module": "@jupyter-widgets/controls",
            "_model_module_version": "1.5.0",
            "_model_name": "HTMLModel",
            "_view_count": null,
            "_view_module": "@jupyter-widgets/controls",
            "_view_module_version": "1.5.0",
            "_view_name": "HTMLView",
            "description": "",
            "description_tooltip": null,
            "layout": "IPY_MODEL_b91008ce4eb64b369cb8c31c1e0cba1d",
            "placeholder": "​",
            "style": "IPY_MODEL_e781c5a6614645b4ac8ebb0e43a5e432",
            "value": "Map: 100%"
          }
        },
        "dd67fd4288064b0a91b46936dd7d22f6": {
          "model_module": "@jupyter-widgets/controls",
          "model_name": "FloatProgressModel",
          "model_module_version": "1.5.0",
          "state": {
            "_dom_classes": [],
            "_model_module": "@jupyter-widgets/controls",
            "_model_module_version": "1.5.0",
            "_model_name": "FloatProgressModel",
            "_view_count": null,
            "_view_module": "@jupyter-widgets/controls",
            "_view_module_version": "1.5.0",
            "_view_name": "ProgressView",
            "bar_style": "success",
            "description": "",
            "description_tooltip": null,
            "layout": "IPY_MODEL_962b1a2017bb44b98a65076dbe6b7a7e",
            "max": 200,
            "min": 0,
            "orientation": "horizontal",
            "style": "IPY_MODEL_546ae14ab39d4d1791e7d672b7c22fb3",
            "value": 200
          }
        },
        "bb8b03df459b41018f113a8c4047bcf3": {
          "model_module": "@jupyter-widgets/controls",
          "model_name": "HTMLModel",
          "model_module_version": "1.5.0",
          "state": {
            "_dom_classes": [],
            "_model_module": "@jupyter-widgets/controls",
            "_model_module_version": "1.5.0",
            "_model_name": "HTMLModel",
            "_view_count": null,
            "_view_module": "@jupyter-widgets/controls",
            "_view_module_version": "1.5.0",
            "_view_name": "HTMLView",
            "description": "",
            "description_tooltip": null,
            "layout": "IPY_MODEL_d0a7bfa08355406d87162ad62a553a40",
            "placeholder": "​",
            "style": "IPY_MODEL_15f4c7347ba541c084a004dde41667a6",
            "value": " 200/200 [00:00&lt;00:00, 1173.72 examples/s]"
          }
        },
        "b20fed8c5b014bcc951723554e98a2f7": {
          "model_module": "@jupyter-widgets/base",
          "model_name": "LayoutModel",
          "model_module_version": "1.2.0",
          "state": {
            "_model_module": "@jupyter-widgets/base",
            "_model_module_version": "1.2.0",
            "_model_name": "LayoutModel",
            "_view_count": null,
            "_view_module": "@jupyter-widgets/base",
            "_view_module_version": "1.2.0",
            "_view_name": "LayoutView",
            "align_content": null,
            "align_items": null,
            "align_self": null,
            "border": null,
            "bottom": null,
            "display": null,
            "flex": null,
            "flex_flow": null,
            "grid_area": null,
            "grid_auto_columns": null,
            "grid_auto_flow": null,
            "grid_auto_rows": null,
            "grid_column": null,
            "grid_gap": null,
            "grid_row": null,
            "grid_template_areas": null,
            "grid_template_columns": null,
            "grid_template_rows": null,
            "height": null,
            "justify_content": null,
            "justify_items": null,
            "left": null,
            "margin": null,
            "max_height": null,
            "max_width": null,
            "min_height": null,
            "min_width": null,
            "object_fit": null,
            "object_position": null,
            "order": null,
            "overflow": null,
            "overflow_x": null,
            "overflow_y": null,
            "padding": null,
            "right": null,
            "top": null,
            "visibility": null,
            "width": null
          }
        },
        "b91008ce4eb64b369cb8c31c1e0cba1d": {
          "model_module": "@jupyter-widgets/base",
          "model_name": "LayoutModel",
          "model_module_version": "1.2.0",
          "state": {
            "_model_module": "@jupyter-widgets/base",
            "_model_module_version": "1.2.0",
            "_model_name": "LayoutModel",
            "_view_count": null,
            "_view_module": "@jupyter-widgets/base",
            "_view_module_version": "1.2.0",
            "_view_name": "LayoutView",
            "align_content": null,
            "align_items": null,
            "align_self": null,
            "border": null,
            "bottom": null,
            "display": null,
            "flex": null,
            "flex_flow": null,
            "grid_area": null,
            "grid_auto_columns": null,
            "grid_auto_flow": null,
            "grid_auto_rows": null,
            "grid_column": null,
            "grid_gap": null,
            "grid_row": null,
            "grid_template_areas": null,
            "grid_template_columns": null,
            "grid_template_rows": null,
            "height": null,
            "justify_content": null,
            "justify_items": null,
            "left": null,
            "margin": null,
            "max_height": null,
            "max_width": null,
            "min_height": null,
            "min_width": null,
            "object_fit": null,
            "object_position": null,
            "order": null,
            "overflow": null,
            "overflow_x": null,
            "overflow_y": null,
            "padding": null,
            "right": null,
            "top": null,
            "visibility": null,
            "width": null
          }
        },
        "e781c5a6614645b4ac8ebb0e43a5e432": {
          "model_module": "@jupyter-widgets/controls",
          "model_name": "DescriptionStyleModel",
          "model_module_version": "1.5.0",
          "state": {
            "_model_module": "@jupyter-widgets/controls",
            "_model_module_version": "1.5.0",
            "_model_name": "DescriptionStyleModel",
            "_view_count": null,
            "_view_module": "@jupyter-widgets/base",
            "_view_module_version": "1.2.0",
            "_view_name": "StyleView",
            "description_width": ""
          }
        },
        "962b1a2017bb44b98a65076dbe6b7a7e": {
          "model_module": "@jupyter-widgets/base",
          "model_name": "LayoutModel",
          "model_module_version": "1.2.0",
          "state": {
            "_model_module": "@jupyter-widgets/base",
            "_model_module_version": "1.2.0",
            "_model_name": "LayoutModel",
            "_view_count": null,
            "_view_module": "@jupyter-widgets/base",
            "_view_module_version": "1.2.0",
            "_view_name": "LayoutView",
            "align_content": null,
            "align_items": null,
            "align_self": null,
            "border": null,
            "bottom": null,
            "display": null,
            "flex": null,
            "flex_flow": null,
            "grid_area": null,
            "grid_auto_columns": null,
            "grid_auto_flow": null,
            "grid_auto_rows": null,
            "grid_column": null,
            "grid_gap": null,
            "grid_row": null,
            "grid_template_areas": null,
            "grid_template_columns": null,
            "grid_template_rows": null,
            "height": null,
            "justify_content": null,
            "justify_items": null,
            "left": null,
            "margin": null,
            "max_height": null,
            "max_width": null,
            "min_height": null,
            "min_width": null,
            "object_fit": null,
            "object_position": null,
            "order": null,
            "overflow": null,
            "overflow_x": null,
            "overflow_y": null,
            "padding": null,
            "right": null,
            "top": null,
            "visibility": null,
            "width": null
          }
        },
        "546ae14ab39d4d1791e7d672b7c22fb3": {
          "model_module": "@jupyter-widgets/controls",
          "model_name": "ProgressStyleModel",
          "model_module_version": "1.5.0",
          "state": {
            "_model_module": "@jupyter-widgets/controls",
            "_model_module_version": "1.5.0",
            "_model_name": "ProgressStyleModel",
            "_view_count": null,
            "_view_module": "@jupyter-widgets/base",
            "_view_module_version": "1.2.0",
            "_view_name": "StyleView",
            "bar_color": null,
            "description_width": ""
          }
        },
        "d0a7bfa08355406d87162ad62a553a40": {
          "model_module": "@jupyter-widgets/base",
          "model_name": "LayoutModel",
          "model_module_version": "1.2.0",
          "state": {
            "_model_module": "@jupyter-widgets/base",
            "_model_module_version": "1.2.0",
            "_model_name": "LayoutModel",
            "_view_count": null,
            "_view_module": "@jupyter-widgets/base",
            "_view_module_version": "1.2.0",
            "_view_name": "LayoutView",
            "align_content": null,
            "align_items": null,
            "align_self": null,
            "border": null,
            "bottom": null,
            "display": null,
            "flex": null,
            "flex_flow": null,
            "grid_area": null,
            "grid_auto_columns": null,
            "grid_auto_flow": null,
            "grid_auto_rows": null,
            "grid_column": null,
            "grid_gap": null,
            "grid_row": null,
            "grid_template_areas": null,
            "grid_template_columns": null,
            "grid_template_rows": null,
            "height": null,
            "justify_content": null,
            "justify_items": null,
            "left": null,
            "margin": null,
            "max_height": null,
            "max_width": null,
            "min_height": null,
            "min_width": null,
            "object_fit": null,
            "object_position": null,
            "order": null,
            "overflow": null,
            "overflow_x": null,
            "overflow_y": null,
            "padding": null,
            "right": null,
            "top": null,
            "visibility": null,
            "width": null
          }
        },
        "15f4c7347ba541c084a004dde41667a6": {
          "model_module": "@jupyter-widgets/controls",
          "model_name": "DescriptionStyleModel",
          "model_module_version": "1.5.0",
          "state": {
            "_model_module": "@jupyter-widgets/controls",
            "_model_module_version": "1.5.0",
            "_model_name": "DescriptionStyleModel",
            "_view_count": null,
            "_view_module": "@jupyter-widgets/base",
            "_view_module_version": "1.2.0",
            "_view_name": "StyleView",
            "description_width": ""
          }
        },
        "f8f769b25b22416fb8167bfefe9c7a28": {
          "model_module": "@jupyter-widgets/controls",
          "model_name": "HBoxModel",
          "model_module_version": "1.5.0",
          "state": {
            "_dom_classes": [],
            "_model_module": "@jupyter-widgets/controls",
            "_model_module_version": "1.5.0",
            "_model_name": "HBoxModel",
            "_view_count": null,
            "_view_module": "@jupyter-widgets/controls",
            "_view_module_version": "1.5.0",
            "_view_name": "HBoxView",
            "box_style": "",
            "children": [
              "IPY_MODEL_138ca6c4b88b486eb111b9ff75dc71de",
              "IPY_MODEL_6da078e2f9bf4a239e557efc16357f78",
              "IPY_MODEL_f17f2a5cf4ec4d1690753fed5bcb9055"
            ],
            "layout": "IPY_MODEL_780765c6ddb846ac91ed9208f7712762"
          }
        },
        "138ca6c4b88b486eb111b9ff75dc71de": {
          "model_module": "@jupyter-widgets/controls",
          "model_name": "HTMLModel",
          "model_module_version": "1.5.0",
          "state": {
            "_dom_classes": [],
            "_model_module": "@jupyter-widgets/controls",
            "_model_module_version": "1.5.0",
            "_model_name": "HTMLModel",
            "_view_count": null,
            "_view_module": "@jupyter-widgets/controls",
            "_view_module_version": "1.5.0",
            "_view_name": "HTMLView",
            "description": "",
            "description_tooltip": null,
            "layout": "IPY_MODEL_6780c7f189c445358ab29f634c6cdd1f",
            "placeholder": "​",
            "style": "IPY_MODEL_bac9c14dee134f16a8065316263c833a",
            "value": "Map: 100%"
          }
        },
        "6da078e2f9bf4a239e557efc16357f78": {
          "model_module": "@jupyter-widgets/controls",
          "model_name": "FloatProgressModel",
          "model_module_version": "1.5.0",
          "state": {
            "_dom_classes": [],
            "_model_module": "@jupyter-widgets/controls",
            "_model_module_version": "1.5.0",
            "_model_name": "FloatProgressModel",
            "_view_count": null,
            "_view_module": "@jupyter-widgets/controls",
            "_view_module_version": "1.5.0",
            "_view_name": "ProgressView",
            "bar_style": "success",
            "description": "",
            "description_tooltip": null,
            "layout": "IPY_MODEL_f4a899c07ec94d97a45dbf1e92850b74",
            "max": 200,
            "min": 0,
            "orientation": "horizontal",
            "style": "IPY_MODEL_6b59ea690e7c4bffad022c0a5f687898",
            "value": 200
          }
        },
        "f17f2a5cf4ec4d1690753fed5bcb9055": {
          "model_module": "@jupyter-widgets/controls",
          "model_name": "HTMLModel",
          "model_module_version": "1.5.0",
          "state": {
            "_dom_classes": [],
            "_model_module": "@jupyter-widgets/controls",
            "_model_module_version": "1.5.0",
            "_model_name": "HTMLModel",
            "_view_count": null,
            "_view_module": "@jupyter-widgets/controls",
            "_view_module_version": "1.5.0",
            "_view_name": "HTMLView",
            "description": "",
            "description_tooltip": null,
            "layout": "IPY_MODEL_6bdaa1ad6f1a4c479c920737d53eac0a",
            "placeholder": "​",
            "style": "IPY_MODEL_c5e12d6b735e4107917ac0ab5eaf2fbb",
            "value": " 200/200 [00:00&lt;00:00, 1238.35 examples/s]"
          }
        },
        "780765c6ddb846ac91ed9208f7712762": {
          "model_module": "@jupyter-widgets/base",
          "model_name": "LayoutModel",
          "model_module_version": "1.2.0",
          "state": {
            "_model_module": "@jupyter-widgets/base",
            "_model_module_version": "1.2.0",
            "_model_name": "LayoutModel",
            "_view_count": null,
            "_view_module": "@jupyter-widgets/base",
            "_view_module_version": "1.2.0",
            "_view_name": "LayoutView",
            "align_content": null,
            "align_items": null,
            "align_self": null,
            "border": null,
            "bottom": null,
            "display": null,
            "flex": null,
            "flex_flow": null,
            "grid_area": null,
            "grid_auto_columns": null,
            "grid_auto_flow": null,
            "grid_auto_rows": null,
            "grid_column": null,
            "grid_gap": null,
            "grid_row": null,
            "grid_template_areas": null,
            "grid_template_columns": null,
            "grid_template_rows": null,
            "height": null,
            "justify_content": null,
            "justify_items": null,
            "left": null,
            "margin": null,
            "max_height": null,
            "max_width": null,
            "min_height": null,
            "min_width": null,
            "object_fit": null,
            "object_position": null,
            "order": null,
            "overflow": null,
            "overflow_x": null,
            "overflow_y": null,
            "padding": null,
            "right": null,
            "top": null,
            "visibility": null,
            "width": null
          }
        },
        "6780c7f189c445358ab29f634c6cdd1f": {
          "model_module": "@jupyter-widgets/base",
          "model_name": "LayoutModel",
          "model_module_version": "1.2.0",
          "state": {
            "_model_module": "@jupyter-widgets/base",
            "_model_module_version": "1.2.0",
            "_model_name": "LayoutModel",
            "_view_count": null,
            "_view_module": "@jupyter-widgets/base",
            "_view_module_version": "1.2.0",
            "_view_name": "LayoutView",
            "align_content": null,
            "align_items": null,
            "align_self": null,
            "border": null,
            "bottom": null,
            "display": null,
            "flex": null,
            "flex_flow": null,
            "grid_area": null,
            "grid_auto_columns": null,
            "grid_auto_flow": null,
            "grid_auto_rows": null,
            "grid_column": null,
            "grid_gap": null,
            "grid_row": null,
            "grid_template_areas": null,
            "grid_template_columns": null,
            "grid_template_rows": null,
            "height": null,
            "justify_content": null,
            "justify_items": null,
            "left": null,
            "margin": null,
            "max_height": null,
            "max_width": null,
            "min_height": null,
            "min_width": null,
            "object_fit": null,
            "object_position": null,
            "order": null,
            "overflow": null,
            "overflow_x": null,
            "overflow_y": null,
            "padding": null,
            "right": null,
            "top": null,
            "visibility": null,
            "width": null
          }
        },
        "bac9c14dee134f16a8065316263c833a": {
          "model_module": "@jupyter-widgets/controls",
          "model_name": "DescriptionStyleModel",
          "model_module_version": "1.5.0",
          "state": {
            "_model_module": "@jupyter-widgets/controls",
            "_model_module_version": "1.5.0",
            "_model_name": "DescriptionStyleModel",
            "_view_count": null,
            "_view_module": "@jupyter-widgets/base",
            "_view_module_version": "1.2.0",
            "_view_name": "StyleView",
            "description_width": ""
          }
        },
        "f4a899c07ec94d97a45dbf1e92850b74": {
          "model_module": "@jupyter-widgets/base",
          "model_name": "LayoutModel",
          "model_module_version": "1.2.0",
          "state": {
            "_model_module": "@jupyter-widgets/base",
            "_model_module_version": "1.2.0",
            "_model_name": "LayoutModel",
            "_view_count": null,
            "_view_module": "@jupyter-widgets/base",
            "_view_module_version": "1.2.0",
            "_view_name": "LayoutView",
            "align_content": null,
            "align_items": null,
            "align_self": null,
            "border": null,
            "bottom": null,
            "display": null,
            "flex": null,
            "flex_flow": null,
            "grid_area": null,
            "grid_auto_columns": null,
            "grid_auto_flow": null,
            "grid_auto_rows": null,
            "grid_column": null,
            "grid_gap": null,
            "grid_row": null,
            "grid_template_areas": null,
            "grid_template_columns": null,
            "grid_template_rows": null,
            "height": null,
            "justify_content": null,
            "justify_items": null,
            "left": null,
            "margin": null,
            "max_height": null,
            "max_width": null,
            "min_height": null,
            "min_width": null,
            "object_fit": null,
            "object_position": null,
            "order": null,
            "overflow": null,
            "overflow_x": null,
            "overflow_y": null,
            "padding": null,
            "right": null,
            "top": null,
            "visibility": null,
            "width": null
          }
        },
        "6b59ea690e7c4bffad022c0a5f687898": {
          "model_module": "@jupyter-widgets/controls",
          "model_name": "ProgressStyleModel",
          "model_module_version": "1.5.0",
          "state": {
            "_model_module": "@jupyter-widgets/controls",
            "_model_module_version": "1.5.0",
            "_model_name": "ProgressStyleModel",
            "_view_count": null,
            "_view_module": "@jupyter-widgets/base",
            "_view_module_version": "1.2.0",
            "_view_name": "StyleView",
            "bar_color": null,
            "description_width": ""
          }
        },
        "6bdaa1ad6f1a4c479c920737d53eac0a": {
          "model_module": "@jupyter-widgets/base",
          "model_name": "LayoutModel",
          "model_module_version": "1.2.0",
          "state": {
            "_model_module": "@jupyter-widgets/base",
            "_model_module_version": "1.2.0",
            "_model_name": "LayoutModel",
            "_view_count": null,
            "_view_module": "@jupyter-widgets/base",
            "_view_module_version": "1.2.0",
            "_view_name": "LayoutView",
            "align_content": null,
            "align_items": null,
            "align_self": null,
            "border": null,
            "bottom": null,
            "display": null,
            "flex": null,
            "flex_flow": null,
            "grid_area": null,
            "grid_auto_columns": null,
            "grid_auto_flow": null,
            "grid_auto_rows": null,
            "grid_column": null,
            "grid_gap": null,
            "grid_row": null,
            "grid_template_areas": null,
            "grid_template_columns": null,
            "grid_template_rows": null,
            "height": null,
            "justify_content": null,
            "justify_items": null,
            "left": null,
            "margin": null,
            "max_height": null,
            "max_width": null,
            "min_height": null,
            "min_width": null,
            "object_fit": null,
            "object_position": null,
            "order": null,
            "overflow": null,
            "overflow_x": null,
            "overflow_y": null,
            "padding": null,
            "right": null,
            "top": null,
            "visibility": null,
            "width": null
          }
        },
        "c5e12d6b735e4107917ac0ab5eaf2fbb": {
          "model_module": "@jupyter-widgets/controls",
          "model_name": "DescriptionStyleModel",
          "model_module_version": "1.5.0",
          "state": {
            "_model_module": "@jupyter-widgets/controls",
            "_model_module_version": "1.5.0",
            "_model_name": "DescriptionStyleModel",
            "_view_count": null,
            "_view_module": "@jupyter-widgets/base",
            "_view_module_version": "1.2.0",
            "_view_name": "StyleView",
            "description_width": ""
          }
        }
      }
    }
  },
  "cells": [
    {
      "cell_type": "markdown",
      "metadata": {
        "id": "view-in-github",
        "colab_type": "text"
      },
      "source": [
        "<a href=\"https://colab.research.google.com/github/Saputoa21/ADS_2024_Saputoa/blob/master/Saputo_Introduction_to_Computational_Linguistics_Final_Project.ipynb\" target=\"_parent\"><img src=\"https://colab.research.google.com/assets/colab-badge.svg\" alt=\"Open In Colab\"/></a>"
      ]
    },
    {
      "cell_type": "markdown",
      "source": [
        "# **The Final Project**\n",
        "## Description:\n",
        "\n",
        "In my project, I am going to compare the performance of two models on Belarusian-to-English translation tasks:\n",
        "\n",
        "*   **First model**: WelfCrozzo/T5-L128-belarusian, specifically trained for tanslation task in this language pair.\n",
        "(translation EN to BE: <extra_id_6>, translation BE to EN: <extra_id_2>)\n",
        "\n",
        "*   **Second model**: google/mt5-small, a pretrained model that supports more languages but hasn't been trained for this translation task.\n",
        "\n",
        "I will fine-tune the second model using **Helsinki-NLP/opus-100** dataset for the planned language pair.\n",
        "\n",
        "My comparison will consist of:\n",
        "\n",
        "1.   Evaluating the first model against the second model without fine-tuning on the dataset.\n",
        "2.   Fine-tuning the second model using the dataset and evaluationg it.\n",
        "3.   Comparison of its performance with both the first model and its initial, non-fine-tuned state.\n",
        "\n",
        "## The Workflow of the Project\n",
        "\n",
        "1.   Loading the Models\n",
        "2.   Exploring Models' Performance on a Downstream Translation Task\n",
        "3.   Loading Metrics for Evluation (BLEU, Google BLEU, SacreBLEU\n",
        "4.   Loading the Dataset\n",
        "5.   Comparison of the Two Models' Performance\n",
        "6.   Fine-tuning Model 2\n",
        "7.   Comparison of the Two Models' Performance after Fine-tuning\n",
        "\n",
        "\n",
        "\n",
        "---\n",
        "\n"
      ],
      "metadata": {
        "id": "mBiXxhmywsa0"
      }
    },
    {
      "cell_type": "markdown",
      "source": [
        "# Loading the Models"
      ],
      "metadata": {
        "id": "ZA8BrtslmPwE"
      }
    },
    {
      "cell_type": "code",
      "source": [
        "!pip install transformers\n",
        "!pip install datasets\n",
        "!pip install evaluate\n",
        "!pip install accelerate --upgrade\n",
        "!pip install sacrebleu\n",
        "!pip install transformers torch"
      ],
      "metadata": {
        "colab": {
          "base_uri": "https://localhost:8080/"
        },
        "id": "qVxwdZoNjzkw",
        "outputId": "f59832e9-92c5-4a96-f532-d76d212ad02c"
      },
      "execution_count": null,
      "outputs": [
        {
          "output_type": "stream",
          "name": "stdout",
          "text": [
            "Requirement already satisfied: transformers in /usr/local/lib/python3.11/dist-packages (4.47.1)\n",
            "Requirement already satisfied: filelock in /usr/local/lib/python3.11/dist-packages (from transformers) (3.17.0)\n",
            "Requirement already satisfied: huggingface-hub<1.0,>=0.24.0 in /usr/local/lib/python3.11/dist-packages (from transformers) (0.27.1)\n",
            "Requirement already satisfied: numpy>=1.17 in /usr/local/lib/python3.11/dist-packages (from transformers) (1.26.4)\n",
            "Requirement already satisfied: packaging>=20.0 in /usr/local/lib/python3.11/dist-packages (from transformers) (24.2)\n",
            "Requirement already satisfied: pyyaml>=5.1 in /usr/local/lib/python3.11/dist-packages (from transformers) (6.0.2)\n",
            "Requirement already satisfied: regex!=2019.12.17 in /usr/local/lib/python3.11/dist-packages (from transformers) (2024.11.6)\n",
            "Requirement already satisfied: requests in /usr/local/lib/python3.11/dist-packages (from transformers) (2.32.3)\n",
            "Requirement already satisfied: tokenizers<0.22,>=0.21 in /usr/local/lib/python3.11/dist-packages (from transformers) (0.21.0)\n",
            "Requirement already satisfied: safetensors>=0.4.1 in /usr/local/lib/python3.11/dist-packages (from transformers) (0.5.2)\n",
            "Requirement already satisfied: tqdm>=4.27 in /usr/local/lib/python3.11/dist-packages (from transformers) (4.67.1)\n",
            "Requirement already satisfied: fsspec>=2023.5.0 in /usr/local/lib/python3.11/dist-packages (from huggingface-hub<1.0,>=0.24.0->transformers) (2024.9.0)\n",
            "Requirement already satisfied: typing-extensions>=3.7.4.3 in /usr/local/lib/python3.11/dist-packages (from huggingface-hub<1.0,>=0.24.0->transformers) (4.12.2)\n",
            "Requirement already satisfied: charset-normalizer<4,>=2 in /usr/local/lib/python3.11/dist-packages (from requests->transformers) (3.4.1)\n",
            "Requirement already satisfied: idna<4,>=2.5 in /usr/local/lib/python3.11/dist-packages (from requests->transformers) (3.10)\n",
            "Requirement already satisfied: urllib3<3,>=1.21.1 in /usr/local/lib/python3.11/dist-packages (from requests->transformers) (2.3.0)\n",
            "Requirement already satisfied: certifi>=2017.4.17 in /usr/local/lib/python3.11/dist-packages (from requests->transformers) (2024.12.14)\n",
            "Requirement already satisfied: datasets in /usr/local/lib/python3.11/dist-packages (3.2.0)\n",
            "Requirement already satisfied: filelock in /usr/local/lib/python3.11/dist-packages (from datasets) (3.17.0)\n",
            "Requirement already satisfied: numpy>=1.17 in /usr/local/lib/python3.11/dist-packages (from datasets) (1.26.4)\n",
            "Requirement already satisfied: pyarrow>=15.0.0 in /usr/local/lib/python3.11/dist-packages (from datasets) (17.0.0)\n",
            "Requirement already satisfied: dill<0.3.9,>=0.3.0 in /usr/local/lib/python3.11/dist-packages (from datasets) (0.3.8)\n",
            "Requirement already satisfied: pandas in /usr/local/lib/python3.11/dist-packages (from datasets) (2.2.2)\n",
            "Requirement already satisfied: requests>=2.32.2 in /usr/local/lib/python3.11/dist-packages (from datasets) (2.32.3)\n",
            "Requirement already satisfied: tqdm>=4.66.3 in /usr/local/lib/python3.11/dist-packages (from datasets) (4.67.1)\n",
            "Requirement already satisfied: xxhash in /usr/local/lib/python3.11/dist-packages (from datasets) (3.5.0)\n",
            "Requirement already satisfied: multiprocess<0.70.17 in /usr/local/lib/python3.11/dist-packages (from datasets) (0.70.16)\n",
            "Requirement already satisfied: fsspec<=2024.9.0,>=2023.1.0 in /usr/local/lib/python3.11/dist-packages (from fsspec[http]<=2024.9.0,>=2023.1.0->datasets) (2024.9.0)\n",
            "Requirement already satisfied: aiohttp in /usr/local/lib/python3.11/dist-packages (from datasets) (3.11.11)\n",
            "Requirement already satisfied: huggingface-hub>=0.23.0 in /usr/local/lib/python3.11/dist-packages (from datasets) (0.27.1)\n",
            "Requirement already satisfied: packaging in /usr/local/lib/python3.11/dist-packages (from datasets) (24.2)\n",
            "Requirement already satisfied: pyyaml>=5.1 in /usr/local/lib/python3.11/dist-packages (from datasets) (6.0.2)\n",
            "Requirement already satisfied: aiohappyeyeballs>=2.3.0 in /usr/local/lib/python3.11/dist-packages (from aiohttp->datasets) (2.4.4)\n",
            "Requirement already satisfied: aiosignal>=1.1.2 in /usr/local/lib/python3.11/dist-packages (from aiohttp->datasets) (1.3.2)\n",
            "Requirement already satisfied: attrs>=17.3.0 in /usr/local/lib/python3.11/dist-packages (from aiohttp->datasets) (24.3.0)\n",
            "Requirement already satisfied: frozenlist>=1.1.1 in /usr/local/lib/python3.11/dist-packages (from aiohttp->datasets) (1.5.0)\n",
            "Requirement already satisfied: multidict<7.0,>=4.5 in /usr/local/lib/python3.11/dist-packages (from aiohttp->datasets) (6.1.0)\n",
            "Requirement already satisfied: propcache>=0.2.0 in /usr/local/lib/python3.11/dist-packages (from aiohttp->datasets) (0.2.1)\n",
            "Requirement already satisfied: yarl<2.0,>=1.17.0 in /usr/local/lib/python3.11/dist-packages (from aiohttp->datasets) (1.18.3)\n",
            "Requirement already satisfied: typing-extensions>=3.7.4.3 in /usr/local/lib/python3.11/dist-packages (from huggingface-hub>=0.23.0->datasets) (4.12.2)\n",
            "Requirement already satisfied: charset-normalizer<4,>=2 in /usr/local/lib/python3.11/dist-packages (from requests>=2.32.2->datasets) (3.4.1)\n",
            "Requirement already satisfied: idna<4,>=2.5 in /usr/local/lib/python3.11/dist-packages (from requests>=2.32.2->datasets) (3.10)\n",
            "Requirement already satisfied: urllib3<3,>=1.21.1 in /usr/local/lib/python3.11/dist-packages (from requests>=2.32.2->datasets) (2.3.0)\n",
            "Requirement already satisfied: certifi>=2017.4.17 in /usr/local/lib/python3.11/dist-packages (from requests>=2.32.2->datasets) (2024.12.14)\n",
            "Requirement already satisfied: python-dateutil>=2.8.2 in /usr/local/lib/python3.11/dist-packages (from pandas->datasets) (2.8.2)\n",
            "Requirement already satisfied: pytz>=2020.1 in /usr/local/lib/python3.11/dist-packages (from pandas->datasets) (2024.2)\n",
            "Requirement already satisfied: tzdata>=2022.7 in /usr/local/lib/python3.11/dist-packages (from pandas->datasets) (2025.1)\n",
            "Requirement already satisfied: six>=1.5 in /usr/local/lib/python3.11/dist-packages (from python-dateutil>=2.8.2->pandas->datasets) (1.17.0)\n",
            "Requirement already satisfied: evaluate in /usr/local/lib/python3.11/dist-packages (0.4.3)\n",
            "Requirement already satisfied: datasets>=2.0.0 in /usr/local/lib/python3.11/dist-packages (from evaluate) (3.2.0)\n",
            "Requirement already satisfied: numpy>=1.17 in /usr/local/lib/python3.11/dist-packages (from evaluate) (1.26.4)\n",
            "Requirement already satisfied: dill in /usr/local/lib/python3.11/dist-packages (from evaluate) (0.3.8)\n",
            "Requirement already satisfied: pandas in /usr/local/lib/python3.11/dist-packages (from evaluate) (2.2.2)\n",
            "Requirement already satisfied: requests>=2.19.0 in /usr/local/lib/python3.11/dist-packages (from evaluate) (2.32.3)\n",
            "Requirement already satisfied: tqdm>=4.62.1 in /usr/local/lib/python3.11/dist-packages (from evaluate) (4.67.1)\n",
            "Requirement already satisfied: xxhash in /usr/local/lib/python3.11/dist-packages (from evaluate) (3.5.0)\n",
            "Requirement already satisfied: multiprocess in /usr/local/lib/python3.11/dist-packages (from evaluate) (0.70.16)\n",
            "Requirement already satisfied: fsspec>=2021.05.0 in /usr/local/lib/python3.11/dist-packages (from fsspec[http]>=2021.05.0->evaluate) (2024.9.0)\n",
            "Requirement already satisfied: huggingface-hub>=0.7.0 in /usr/local/lib/python3.11/dist-packages (from evaluate) (0.27.1)\n",
            "Requirement already satisfied: packaging in /usr/local/lib/python3.11/dist-packages (from evaluate) (24.2)\n",
            "Requirement already satisfied: filelock in /usr/local/lib/python3.11/dist-packages (from datasets>=2.0.0->evaluate) (3.17.0)\n",
            "Requirement already satisfied: pyarrow>=15.0.0 in /usr/local/lib/python3.11/dist-packages (from datasets>=2.0.0->evaluate) (17.0.0)\n",
            "Requirement already satisfied: aiohttp in /usr/local/lib/python3.11/dist-packages (from datasets>=2.0.0->evaluate) (3.11.11)\n",
            "Requirement already satisfied: pyyaml>=5.1 in /usr/local/lib/python3.11/dist-packages (from datasets>=2.0.0->evaluate) (6.0.2)\n",
            "Requirement already satisfied: typing-extensions>=3.7.4.3 in /usr/local/lib/python3.11/dist-packages (from huggingface-hub>=0.7.0->evaluate) (4.12.2)\n",
            "Requirement already satisfied: charset-normalizer<4,>=2 in /usr/local/lib/python3.11/dist-packages (from requests>=2.19.0->evaluate) (3.4.1)\n",
            "Requirement already satisfied: idna<4,>=2.5 in /usr/local/lib/python3.11/dist-packages (from requests>=2.19.0->evaluate) (3.10)\n",
            "Requirement already satisfied: urllib3<3,>=1.21.1 in /usr/local/lib/python3.11/dist-packages (from requests>=2.19.0->evaluate) (2.3.0)\n",
            "Requirement already satisfied: certifi>=2017.4.17 in /usr/local/lib/python3.11/dist-packages (from requests>=2.19.0->evaluate) (2024.12.14)\n",
            "Requirement already satisfied: python-dateutil>=2.8.2 in /usr/local/lib/python3.11/dist-packages (from pandas->evaluate) (2.8.2)\n",
            "Requirement already satisfied: pytz>=2020.1 in /usr/local/lib/python3.11/dist-packages (from pandas->evaluate) (2024.2)\n",
            "Requirement already satisfied: tzdata>=2022.7 in /usr/local/lib/python3.11/dist-packages (from pandas->evaluate) (2025.1)\n",
            "Requirement already satisfied: aiohappyeyeballs>=2.3.0 in /usr/local/lib/python3.11/dist-packages (from aiohttp->datasets>=2.0.0->evaluate) (2.4.4)\n",
            "Requirement already satisfied: aiosignal>=1.1.2 in /usr/local/lib/python3.11/dist-packages (from aiohttp->datasets>=2.0.0->evaluate) (1.3.2)\n",
            "Requirement already satisfied: attrs>=17.3.0 in /usr/local/lib/python3.11/dist-packages (from aiohttp->datasets>=2.0.0->evaluate) (24.3.0)\n",
            "Requirement already satisfied: frozenlist>=1.1.1 in /usr/local/lib/python3.11/dist-packages (from aiohttp->datasets>=2.0.0->evaluate) (1.5.0)\n",
            "Requirement already satisfied: multidict<7.0,>=4.5 in /usr/local/lib/python3.11/dist-packages (from aiohttp->datasets>=2.0.0->evaluate) (6.1.0)\n",
            "Requirement already satisfied: propcache>=0.2.0 in /usr/local/lib/python3.11/dist-packages (from aiohttp->datasets>=2.0.0->evaluate) (0.2.1)\n",
            "Requirement already satisfied: yarl<2.0,>=1.17.0 in /usr/local/lib/python3.11/dist-packages (from aiohttp->datasets>=2.0.0->evaluate) (1.18.3)\n",
            "Requirement already satisfied: six>=1.5 in /usr/local/lib/python3.11/dist-packages (from python-dateutil>=2.8.2->pandas->evaluate) (1.17.0)\n",
            "Requirement already satisfied: accelerate in /usr/local/lib/python3.11/dist-packages (1.3.0)\n",
            "Requirement already satisfied: numpy<3.0.0,>=1.17 in /usr/local/lib/python3.11/dist-packages (from accelerate) (1.26.4)\n",
            "Requirement already satisfied: packaging>=20.0 in /usr/local/lib/python3.11/dist-packages (from accelerate) (24.2)\n",
            "Requirement already satisfied: psutil in /usr/local/lib/python3.11/dist-packages (from accelerate) (5.9.5)\n",
            "Requirement already satisfied: pyyaml in /usr/local/lib/python3.11/dist-packages (from accelerate) (6.0.2)\n",
            "Requirement already satisfied: torch>=2.0.0 in /usr/local/lib/python3.11/dist-packages (from accelerate) (2.5.1+cu121)\n",
            "Requirement already satisfied: huggingface-hub>=0.21.0 in /usr/local/lib/python3.11/dist-packages (from accelerate) (0.27.1)\n",
            "Requirement already satisfied: safetensors>=0.4.3 in /usr/local/lib/python3.11/dist-packages (from accelerate) (0.5.2)\n",
            "Requirement already satisfied: filelock in /usr/local/lib/python3.11/dist-packages (from huggingface-hub>=0.21.0->accelerate) (3.17.0)\n",
            "Requirement already satisfied: fsspec>=2023.5.0 in /usr/local/lib/python3.11/dist-packages (from huggingface-hub>=0.21.0->accelerate) (2024.9.0)\n",
            "Requirement already satisfied: requests in /usr/local/lib/python3.11/dist-packages (from huggingface-hub>=0.21.0->accelerate) (2.32.3)\n",
            "Requirement already satisfied: tqdm>=4.42.1 in /usr/local/lib/python3.11/dist-packages (from huggingface-hub>=0.21.0->accelerate) (4.67.1)\n",
            "Requirement already satisfied: typing-extensions>=3.7.4.3 in /usr/local/lib/python3.11/dist-packages (from huggingface-hub>=0.21.0->accelerate) (4.12.2)\n",
            "Requirement already satisfied: networkx in /usr/local/lib/python3.11/dist-packages (from torch>=2.0.0->accelerate) (3.4.2)\n",
            "Requirement already satisfied: jinja2 in /usr/local/lib/python3.11/dist-packages (from torch>=2.0.0->accelerate) (3.1.5)\n",
            "Requirement already satisfied: nvidia-cuda-nvrtc-cu12==12.1.105 in /usr/local/lib/python3.11/dist-packages (from torch>=2.0.0->accelerate) (12.1.105)\n",
            "Requirement already satisfied: nvidia-cuda-runtime-cu12==12.1.105 in /usr/local/lib/python3.11/dist-packages (from torch>=2.0.0->accelerate) (12.1.105)\n",
            "Requirement already satisfied: nvidia-cuda-cupti-cu12==12.1.105 in /usr/local/lib/python3.11/dist-packages (from torch>=2.0.0->accelerate) (12.1.105)\n",
            "Requirement already satisfied: nvidia-cudnn-cu12==9.1.0.70 in /usr/local/lib/python3.11/dist-packages (from torch>=2.0.0->accelerate) (9.1.0.70)\n",
            "Requirement already satisfied: nvidia-cublas-cu12==12.1.3.1 in /usr/local/lib/python3.11/dist-packages (from torch>=2.0.0->accelerate) (12.1.3.1)\n",
            "Requirement already satisfied: nvidia-cufft-cu12==11.0.2.54 in /usr/local/lib/python3.11/dist-packages (from torch>=2.0.0->accelerate) (11.0.2.54)\n",
            "Requirement already satisfied: nvidia-curand-cu12==10.3.2.106 in /usr/local/lib/python3.11/dist-packages (from torch>=2.0.0->accelerate) (10.3.2.106)\n",
            "Requirement already satisfied: nvidia-cusolver-cu12==11.4.5.107 in /usr/local/lib/python3.11/dist-packages (from torch>=2.0.0->accelerate) (11.4.5.107)\n",
            "Requirement already satisfied: nvidia-cusparse-cu12==12.1.0.106 in /usr/local/lib/python3.11/dist-packages (from torch>=2.0.0->accelerate) (12.1.0.106)\n",
            "Requirement already satisfied: nvidia-nccl-cu12==2.21.5 in /usr/local/lib/python3.11/dist-packages (from torch>=2.0.0->accelerate) (2.21.5)\n",
            "Requirement already satisfied: nvidia-nvtx-cu12==12.1.105 in /usr/local/lib/python3.11/dist-packages (from torch>=2.0.0->accelerate) (12.1.105)\n",
            "Requirement already satisfied: triton==3.1.0 in /usr/local/lib/python3.11/dist-packages (from torch>=2.0.0->accelerate) (3.1.0)\n",
            "Requirement already satisfied: sympy==1.13.1 in /usr/local/lib/python3.11/dist-packages (from torch>=2.0.0->accelerate) (1.13.1)\n",
            "Requirement already satisfied: nvidia-nvjitlink-cu12 in /usr/local/lib/python3.11/dist-packages (from nvidia-cusolver-cu12==11.4.5.107->torch>=2.0.0->accelerate) (12.6.85)\n",
            "Requirement already satisfied: mpmath<1.4,>=1.1.0 in /usr/local/lib/python3.11/dist-packages (from sympy==1.13.1->torch>=2.0.0->accelerate) (1.3.0)\n",
            "Requirement already satisfied: MarkupSafe>=2.0 in /usr/local/lib/python3.11/dist-packages (from jinja2->torch>=2.0.0->accelerate) (3.0.2)\n",
            "Requirement already satisfied: charset-normalizer<4,>=2 in /usr/local/lib/python3.11/dist-packages (from requests->huggingface-hub>=0.21.0->accelerate) (3.4.1)\n",
            "Requirement already satisfied: idna<4,>=2.5 in /usr/local/lib/python3.11/dist-packages (from requests->huggingface-hub>=0.21.0->accelerate) (3.10)\n",
            "Requirement already satisfied: urllib3<3,>=1.21.1 in /usr/local/lib/python3.11/dist-packages (from requests->huggingface-hub>=0.21.0->accelerate) (2.3.0)\n",
            "Requirement already satisfied: certifi>=2017.4.17 in /usr/local/lib/python3.11/dist-packages (from requests->huggingface-hub>=0.21.0->accelerate) (2024.12.14)\n",
            "Requirement already satisfied: sacrebleu in /usr/local/lib/python3.11/dist-packages (2.5.1)\n",
            "Requirement already satisfied: portalocker in /usr/local/lib/python3.11/dist-packages (from sacrebleu) (3.1.1)\n",
            "Requirement already satisfied: regex in /usr/local/lib/python3.11/dist-packages (from sacrebleu) (2024.11.6)\n",
            "Requirement already satisfied: tabulate>=0.8.9 in /usr/local/lib/python3.11/dist-packages (from sacrebleu) (0.9.0)\n",
            "Requirement already satisfied: numpy>=1.17 in /usr/local/lib/python3.11/dist-packages (from sacrebleu) (1.26.4)\n",
            "Requirement already satisfied: colorama in /usr/local/lib/python3.11/dist-packages (from sacrebleu) (0.4.6)\n",
            "Requirement already satisfied: lxml in /usr/local/lib/python3.11/dist-packages (from sacrebleu) (5.3.0)\n",
            "Requirement already satisfied: transformers in /usr/local/lib/python3.11/dist-packages (4.47.1)\n",
            "Requirement already satisfied: torch in /usr/local/lib/python3.11/dist-packages (2.5.1+cu121)\n",
            "Requirement already satisfied: filelock in /usr/local/lib/python3.11/dist-packages (from transformers) (3.17.0)\n",
            "Requirement already satisfied: huggingface-hub<1.0,>=0.24.0 in /usr/local/lib/python3.11/dist-packages (from transformers) (0.27.1)\n",
            "Requirement already satisfied: numpy>=1.17 in /usr/local/lib/python3.11/dist-packages (from transformers) (1.26.4)\n",
            "Requirement already satisfied: packaging>=20.0 in /usr/local/lib/python3.11/dist-packages (from transformers) (24.2)\n",
            "Requirement already satisfied: pyyaml>=5.1 in /usr/local/lib/python3.11/dist-packages (from transformers) (6.0.2)\n",
            "Requirement already satisfied: regex!=2019.12.17 in /usr/local/lib/python3.11/dist-packages (from transformers) (2024.11.6)\n",
            "Requirement already satisfied: requests in /usr/local/lib/python3.11/dist-packages (from transformers) (2.32.3)\n",
            "Requirement already satisfied: tokenizers<0.22,>=0.21 in /usr/local/lib/python3.11/dist-packages (from transformers) (0.21.0)\n",
            "Requirement already satisfied: safetensors>=0.4.1 in /usr/local/lib/python3.11/dist-packages (from transformers) (0.5.2)\n",
            "Requirement already satisfied: tqdm>=4.27 in /usr/local/lib/python3.11/dist-packages (from transformers) (4.67.1)\n",
            "Requirement already satisfied: typing-extensions>=4.8.0 in /usr/local/lib/python3.11/dist-packages (from torch) (4.12.2)\n",
            "Requirement already satisfied: networkx in /usr/local/lib/python3.11/dist-packages (from torch) (3.4.2)\n",
            "Requirement already satisfied: jinja2 in /usr/local/lib/python3.11/dist-packages (from torch) (3.1.5)\n",
            "Requirement already satisfied: fsspec in /usr/local/lib/python3.11/dist-packages (from torch) (2024.9.0)\n",
            "Requirement already satisfied: nvidia-cuda-nvrtc-cu12==12.1.105 in /usr/local/lib/python3.11/dist-packages (from torch) (12.1.105)\n",
            "Requirement already satisfied: nvidia-cuda-runtime-cu12==12.1.105 in /usr/local/lib/python3.11/dist-packages (from torch) (12.1.105)\n",
            "Requirement already satisfied: nvidia-cuda-cupti-cu12==12.1.105 in /usr/local/lib/python3.11/dist-packages (from torch) (12.1.105)\n",
            "Requirement already satisfied: nvidia-cudnn-cu12==9.1.0.70 in /usr/local/lib/python3.11/dist-packages (from torch) (9.1.0.70)\n",
            "Requirement already satisfied: nvidia-cublas-cu12==12.1.3.1 in /usr/local/lib/python3.11/dist-packages (from torch) (12.1.3.1)\n",
            "Requirement already satisfied: nvidia-cufft-cu12==11.0.2.54 in /usr/local/lib/python3.11/dist-packages (from torch) (11.0.2.54)\n",
            "Requirement already satisfied: nvidia-curand-cu12==10.3.2.106 in /usr/local/lib/python3.11/dist-packages (from torch) (10.3.2.106)\n",
            "Requirement already satisfied: nvidia-cusolver-cu12==11.4.5.107 in /usr/local/lib/python3.11/dist-packages (from torch) (11.4.5.107)\n",
            "Requirement already satisfied: nvidia-cusparse-cu12==12.1.0.106 in /usr/local/lib/python3.11/dist-packages (from torch) (12.1.0.106)\n",
            "Requirement already satisfied: nvidia-nccl-cu12==2.21.5 in /usr/local/lib/python3.11/dist-packages (from torch) (2.21.5)\n",
            "Requirement already satisfied: nvidia-nvtx-cu12==12.1.105 in /usr/local/lib/python3.11/dist-packages (from torch) (12.1.105)\n",
            "Requirement already satisfied: triton==3.1.0 in /usr/local/lib/python3.11/dist-packages (from torch) (3.1.0)\n",
            "Requirement already satisfied: sympy==1.13.1 in /usr/local/lib/python3.11/dist-packages (from torch) (1.13.1)\n",
            "Requirement already satisfied: nvidia-nvjitlink-cu12 in /usr/local/lib/python3.11/dist-packages (from nvidia-cusolver-cu12==11.4.5.107->torch) (12.6.85)\n",
            "Requirement already satisfied: mpmath<1.4,>=1.1.0 in /usr/local/lib/python3.11/dist-packages (from sympy==1.13.1->torch) (1.3.0)\n",
            "Requirement already satisfied: MarkupSafe>=2.0 in /usr/local/lib/python3.11/dist-packages (from jinja2->torch) (3.0.2)\n",
            "Requirement already satisfied: charset-normalizer<4,>=2 in /usr/local/lib/python3.11/dist-packages (from requests->transformers) (3.4.1)\n",
            "Requirement already satisfied: idna<4,>=2.5 in /usr/local/lib/python3.11/dist-packages (from requests->transformers) (3.10)\n",
            "Requirement already satisfied: urllib3<3,>=1.21.1 in /usr/local/lib/python3.11/dist-packages (from requests->transformers) (2.3.0)\n",
            "Requirement already satisfied: certifi>=2017.4.17 in /usr/local/lib/python3.11/dist-packages (from requests->transformers) (2024.12.14)\n"
          ]
        }
      ]
    },
    {
      "cell_type": "code",
      "source": [
        "from google.colab import drive\n",
        "drive.mount('/content/drive')"
      ],
      "metadata": {
        "colab": {
          "base_uri": "https://localhost:8080/"
        },
        "id": "6D1Ec-4u_5hz",
        "outputId": "6082af3e-0703-4180-d377-a372ccb35e1a"
      },
      "execution_count": null,
      "outputs": [
        {
          "output_type": "stream",
          "name": "stdout",
          "text": [
            "Drive already mounted at /content/drive; to attempt to forcibly remount, call drive.mount(\"/content/drive\", force_remount=True).\n"
          ]
        }
      ]
    },
    {
      "cell_type": "code",
      "source": [
        "from transformers import AutoTokenizer, AutoModelForSeq2SeqLM"
      ],
      "metadata": {
        "id": "SPXitdoUiLp3"
      },
      "execution_count": null,
      "outputs": []
    },
    {
      "cell_type": "markdown",
      "source": [
        "### 1. Loading **WelfCrozzo/T5-L128-belarusian** (Model 1)"
      ],
      "metadata": {
        "id": "W_CLt6CvmXMB"
      }
    },
    {
      "cell_type": "code",
      "execution_count": null,
      "metadata": {
        "id": "gGdv8YY5wYX3"
      },
      "outputs": [],
      "source": [
        "# Loading the model directly\n",
        "t5_be_tokenizer = AutoTokenizer.from_pretrained(\"WelfCrozzo/T5-L128-belarusian\")\n",
        "\n",
        "t5_be_model = AutoModelForSeq2SeqLM.from_pretrained(\"WelfCrozzo/T5-L128-belarusian\")"
      ]
    },
    {
      "cell_type": "markdown",
      "source": [
        "### 2. Loading **google/mt5-small** (Model 2)"
      ],
      "metadata": {
        "id": "OYRjlHnRmg_T"
      }
    },
    {
      "cell_type": "code",
      "source": [
        "# Loading the model directly\n",
        "mt5_tokenizer = AutoTokenizer.from_pretrained(\"google/mt5-small\")\n",
        "\n",
        "mt5_model = AutoModelForSeq2SeqLM.from_pretrained(\"google/mt5-small\")"
      ],
      "metadata": {
        "id": "8Pk37JWnhtB4"
      },
      "execution_count": null,
      "outputs": []
    },
    {
      "cell_type": "markdown",
      "source": [
        "## Exploring different tokenizers\n",
        "\n",
        "For exploring the diffenrecies inthe work of tokenizers I have taken the code examples from Tutorial 5.\n"
      ],
      "metadata": {
        "id": "1cYzc9kfnm8W"
      }
    },
    {
      "cell_type": "markdown",
      "source": [
        "### 1.  **t5_be_tokenizer** from Model 1 (WelfCrozzo/T5-L128-belarusian)"
      ],
      "metadata": {
        "id": "8sBLjfYOsD6U"
      }
    },
    {
      "cell_type": "code",
      "source": [
        "print(t5_be_tokenizer)"
      ],
      "metadata": {
        "colab": {
          "base_uri": "https://localhost:8080/"
        },
        "id": "KPQKgyd0j9mi",
        "outputId": "eca26b48-01e2-4075-b164-bb826dd284c2"
      },
      "execution_count": null,
      "outputs": [
        {
          "output_type": "stream",
          "name": "stdout",
          "text": [
            "T5TokenizerFast(name_or_path='WelfCrozzo/T5-L128-belarusian', vocab_size=60000, model_max_length=512, is_fast=True, padding_side='right', truncation_side='right', special_tokens={'eos_token': '</s>', 'unk_token': '<unk>', 'pad_token': '<pad>', 'additional_special_tokens': ['<extra_id_0>', '<extra_id_1>', '<extra_id_2>', '<extra_id_3>', '<extra_id_4>', '<extra_id_5>', '<extra_id_6>', '<extra_id_7>', '<extra_id_8>', '<extra_id_9>', '<extra_id_10>', '<extra_id_11>', '<extra_id_12>', '<extra_id_13>', '<extra_id_14>', '<extra_id_15>', '<extra_id_16>', '<extra_id_17>', '<extra_id_18>', '<extra_id_19>', '<extra_id_20>', '<extra_id_21>', '<extra_id_22>', '<extra_id_23>', '<extra_id_24>', '<extra_id_25>', '<extra_id_26>', '<extra_id_27>', '<extra_id_28>', '<extra_id_29>', '<extra_id_30>', '<extra_id_31>', '<extra_id_32>', '<extra_id_33>', '<extra_id_34>', '<extra_id_35>', '<extra_id_36>', '<extra_id_37>', '<extra_id_38>', '<extra_id_39>', '<extra_id_40>', '<extra_id_41>', '<extra_id_42>', '<extra_id_43>', '<extra_id_44>', '<extra_id_45>', '<extra_id_46>', '<extra_id_47>', '<extra_id_48>', '<extra_id_49>', '<extra_id_50>', '<extra_id_51>', '<extra_id_52>', '<extra_id_53>', '<extra_id_54>', '<extra_id_55>', '<extra_id_56>', '<extra_id_57>', '<extra_id_58>', '<extra_id_59>', '<extra_id_60>', '<extra_id_61>', '<extra_id_62>', '<extra_id_63>', '<extra_id_64>', '<extra_id_65>', '<extra_id_66>', '<extra_id_67>', '<extra_id_68>', '<extra_id_69>', '<extra_id_70>', '<extra_id_71>', '<extra_id_72>', '<extra_id_73>', '<extra_id_74>', '<extra_id_75>', '<extra_id_76>', '<extra_id_77>', '<extra_id_78>', '<extra_id_79>', '<extra_id_80>', '<extra_id_81>', '<extra_id_82>', '<extra_id_83>', '<extra_id_84>', '<extra_id_85>', '<extra_id_86>', '<extra_id_87>', '<extra_id_88>', '<extra_id_89>', '<extra_id_90>', '<extra_id_91>', '<extra_id_92>', '<extra_id_93>', '<extra_id_94>', '<extra_id_95>', '<extra_id_96>', '<extra_id_97>', '<extra_id_98>', '<extra_id_99>']}, clean_up_tokenization_spaces=True, added_tokens_decoder={\n",
            "\t0: AddedToken(\"<pad>\", rstrip=False, lstrip=False, single_word=False, normalized=False, special=True),\n",
            "\t1: AddedToken(\"</s>\", rstrip=False, lstrip=False, single_word=False, normalized=False, special=True),\n",
            "\t2: AddedToken(\"<unk>\", rstrip=False, lstrip=False, single_word=False, normalized=False, special=True),\n",
            "\t3: AddedToken(\"<extra_id_99>\", rstrip=False, lstrip=False, single_word=False, normalized=False, special=True),\n",
            "\t4: AddedToken(\"<extra_id_98>\", rstrip=False, lstrip=False, single_word=False, normalized=False, special=True),\n",
            "\t5: AddedToken(\"<extra_id_97>\", rstrip=False, lstrip=False, single_word=False, normalized=False, special=True),\n",
            "\t6: AddedToken(\"<extra_id_96>\", rstrip=False, lstrip=False, single_word=False, normalized=False, special=True),\n",
            "\t7: AddedToken(\"<extra_id_95>\", rstrip=False, lstrip=False, single_word=False, normalized=False, special=True),\n",
            "\t8: AddedToken(\"<extra_id_94>\", rstrip=False, lstrip=False, single_word=False, normalized=False, special=True),\n",
            "\t9: AddedToken(\"<extra_id_93>\", rstrip=False, lstrip=False, single_word=False, normalized=False, special=True),\n",
            "\t10: AddedToken(\"<extra_id_92>\", rstrip=False, lstrip=False, single_word=False, normalized=False, special=True),\n",
            "\t11: AddedToken(\"<extra_id_91>\", rstrip=False, lstrip=False, single_word=False, normalized=False, special=True),\n",
            "\t12: AddedToken(\"<extra_id_90>\", rstrip=False, lstrip=False, single_word=False, normalized=False, special=True),\n",
            "\t13: AddedToken(\"<extra_id_89>\", rstrip=False, lstrip=False, single_word=False, normalized=False, special=True),\n",
            "\t14: AddedToken(\"<extra_id_88>\", rstrip=False, lstrip=False, single_word=False, normalized=False, special=True),\n",
            "\t15: AddedToken(\"<extra_id_87>\", rstrip=False, lstrip=False, single_word=False, normalized=False, special=True),\n",
            "\t16: AddedToken(\"<extra_id_86>\", rstrip=False, lstrip=False, single_word=False, normalized=False, special=True),\n",
            "\t17: AddedToken(\"<extra_id_85>\", rstrip=False, lstrip=False, single_word=False, normalized=False, special=True),\n",
            "\t18: AddedToken(\"<extra_id_84>\", rstrip=False, lstrip=False, single_word=False, normalized=False, special=True),\n",
            "\t19: AddedToken(\"<extra_id_83>\", rstrip=False, lstrip=False, single_word=False, normalized=False, special=True),\n",
            "\t20: AddedToken(\"<extra_id_82>\", rstrip=False, lstrip=False, single_word=False, normalized=False, special=True),\n",
            "\t21: AddedToken(\"<extra_id_81>\", rstrip=False, lstrip=False, single_word=False, normalized=False, special=True),\n",
            "\t22: AddedToken(\"<extra_id_80>\", rstrip=False, lstrip=False, single_word=False, normalized=False, special=True),\n",
            "\t23: AddedToken(\"<extra_id_79>\", rstrip=False, lstrip=False, single_word=False, normalized=False, special=True),\n",
            "\t24: AddedToken(\"<extra_id_78>\", rstrip=False, lstrip=False, single_word=False, normalized=False, special=True),\n",
            "\t25: AddedToken(\"<extra_id_77>\", rstrip=False, lstrip=False, single_word=False, normalized=False, special=True),\n",
            "\t26: AddedToken(\"<extra_id_76>\", rstrip=False, lstrip=False, single_word=False, normalized=False, special=True),\n",
            "\t27: AddedToken(\"<extra_id_75>\", rstrip=False, lstrip=False, single_word=False, normalized=False, special=True),\n",
            "\t28: AddedToken(\"<extra_id_74>\", rstrip=False, lstrip=False, single_word=False, normalized=False, special=True),\n",
            "\t29: AddedToken(\"<extra_id_73>\", rstrip=False, lstrip=False, single_word=False, normalized=False, special=True),\n",
            "\t30: AddedToken(\"<extra_id_72>\", rstrip=False, lstrip=False, single_word=False, normalized=False, special=True),\n",
            "\t31: AddedToken(\"<extra_id_71>\", rstrip=False, lstrip=False, single_word=False, normalized=False, special=True),\n",
            "\t32: AddedToken(\"<extra_id_70>\", rstrip=False, lstrip=False, single_word=False, normalized=False, special=True),\n",
            "\t33: AddedToken(\"<extra_id_69>\", rstrip=False, lstrip=False, single_word=False, normalized=False, special=True),\n",
            "\t34: AddedToken(\"<extra_id_68>\", rstrip=False, lstrip=False, single_word=False, normalized=False, special=True),\n",
            "\t35: AddedToken(\"<extra_id_67>\", rstrip=False, lstrip=False, single_word=False, normalized=False, special=True),\n",
            "\t36: AddedToken(\"<extra_id_66>\", rstrip=False, lstrip=False, single_word=False, normalized=False, special=True),\n",
            "\t37: AddedToken(\"<extra_id_65>\", rstrip=False, lstrip=False, single_word=False, normalized=False, special=True),\n",
            "\t38: AddedToken(\"<extra_id_64>\", rstrip=False, lstrip=False, single_word=False, normalized=False, special=True),\n",
            "\t39: AddedToken(\"<extra_id_63>\", rstrip=False, lstrip=False, single_word=False, normalized=False, special=True),\n",
            "\t40: AddedToken(\"<extra_id_62>\", rstrip=False, lstrip=False, single_word=False, normalized=False, special=True),\n",
            "\t41: AddedToken(\"<extra_id_61>\", rstrip=False, lstrip=False, single_word=False, normalized=False, special=True),\n",
            "\t42: AddedToken(\"<extra_id_60>\", rstrip=False, lstrip=False, single_word=False, normalized=False, special=True),\n",
            "\t43: AddedToken(\"<extra_id_59>\", rstrip=False, lstrip=False, single_word=False, normalized=False, special=True),\n",
            "\t44: AddedToken(\"<extra_id_58>\", rstrip=False, lstrip=False, single_word=False, normalized=False, special=True),\n",
            "\t45: AddedToken(\"<extra_id_57>\", rstrip=False, lstrip=False, single_word=False, normalized=False, special=True),\n",
            "\t46: AddedToken(\"<extra_id_56>\", rstrip=False, lstrip=False, single_word=False, normalized=False, special=True),\n",
            "\t47: AddedToken(\"<extra_id_55>\", rstrip=False, lstrip=False, single_word=False, normalized=False, special=True),\n",
            "\t48: AddedToken(\"<extra_id_54>\", rstrip=False, lstrip=False, single_word=False, normalized=False, special=True),\n",
            "\t49: AddedToken(\"<extra_id_53>\", rstrip=False, lstrip=False, single_word=False, normalized=False, special=True),\n",
            "\t50: AddedToken(\"<extra_id_52>\", rstrip=False, lstrip=False, single_word=False, normalized=False, special=True),\n",
            "\t51: AddedToken(\"<extra_id_51>\", rstrip=False, lstrip=False, single_word=False, normalized=False, special=True),\n",
            "\t52: AddedToken(\"<extra_id_50>\", rstrip=False, lstrip=False, single_word=False, normalized=False, special=True),\n",
            "\t53: AddedToken(\"<extra_id_49>\", rstrip=False, lstrip=False, single_word=False, normalized=False, special=True),\n",
            "\t54: AddedToken(\"<extra_id_48>\", rstrip=False, lstrip=False, single_word=False, normalized=False, special=True),\n",
            "\t55: AddedToken(\"<extra_id_47>\", rstrip=False, lstrip=False, single_word=False, normalized=False, special=True),\n",
            "\t56: AddedToken(\"<extra_id_46>\", rstrip=False, lstrip=False, single_word=False, normalized=False, special=True),\n",
            "\t57: AddedToken(\"<extra_id_45>\", rstrip=False, lstrip=False, single_word=False, normalized=False, special=True),\n",
            "\t58: AddedToken(\"<extra_id_44>\", rstrip=False, lstrip=False, single_word=False, normalized=False, special=True),\n",
            "\t59: AddedToken(\"<extra_id_43>\", rstrip=False, lstrip=False, single_word=False, normalized=False, special=True),\n",
            "\t60: AddedToken(\"<extra_id_42>\", rstrip=False, lstrip=False, single_word=False, normalized=False, special=True),\n",
            "\t61: AddedToken(\"<extra_id_41>\", rstrip=False, lstrip=False, single_word=False, normalized=False, special=True),\n",
            "\t62: AddedToken(\"<extra_id_40>\", rstrip=False, lstrip=False, single_word=False, normalized=False, special=True),\n",
            "\t63: AddedToken(\"<extra_id_39>\", rstrip=False, lstrip=False, single_word=False, normalized=False, special=True),\n",
            "\t64: AddedToken(\"<extra_id_38>\", rstrip=False, lstrip=False, single_word=False, normalized=False, special=True),\n",
            "\t65: AddedToken(\"<extra_id_37>\", rstrip=False, lstrip=False, single_word=False, normalized=False, special=True),\n",
            "\t66: AddedToken(\"<extra_id_36>\", rstrip=False, lstrip=False, single_word=False, normalized=False, special=True),\n",
            "\t67: AddedToken(\"<extra_id_35>\", rstrip=False, lstrip=False, single_word=False, normalized=False, special=True),\n",
            "\t68: AddedToken(\"<extra_id_34>\", rstrip=False, lstrip=False, single_word=False, normalized=False, special=True),\n",
            "\t69: AddedToken(\"<extra_id_33>\", rstrip=False, lstrip=False, single_word=False, normalized=False, special=True),\n",
            "\t70: AddedToken(\"<extra_id_32>\", rstrip=False, lstrip=False, single_word=False, normalized=False, special=True),\n",
            "\t71: AddedToken(\"<extra_id_31>\", rstrip=False, lstrip=False, single_word=False, normalized=False, special=True),\n",
            "\t72: AddedToken(\"<extra_id_30>\", rstrip=False, lstrip=False, single_word=False, normalized=False, special=True),\n",
            "\t73: AddedToken(\"<extra_id_29>\", rstrip=False, lstrip=False, single_word=False, normalized=False, special=True),\n",
            "\t74: AddedToken(\"<extra_id_28>\", rstrip=False, lstrip=False, single_word=False, normalized=False, special=True),\n",
            "\t75: AddedToken(\"<extra_id_27>\", rstrip=False, lstrip=False, single_word=False, normalized=False, special=True),\n",
            "\t76: AddedToken(\"<extra_id_26>\", rstrip=False, lstrip=False, single_word=False, normalized=False, special=True),\n",
            "\t77: AddedToken(\"<extra_id_25>\", rstrip=False, lstrip=False, single_word=False, normalized=False, special=True),\n",
            "\t78: AddedToken(\"<extra_id_24>\", rstrip=False, lstrip=False, single_word=False, normalized=False, special=True),\n",
            "\t79: AddedToken(\"<extra_id_23>\", rstrip=False, lstrip=False, single_word=False, normalized=False, special=True),\n",
            "\t80: AddedToken(\"<extra_id_22>\", rstrip=False, lstrip=False, single_word=False, normalized=False, special=True),\n",
            "\t81: AddedToken(\"<extra_id_21>\", rstrip=False, lstrip=False, single_word=False, normalized=False, special=True),\n",
            "\t82: AddedToken(\"<extra_id_20>\", rstrip=False, lstrip=False, single_word=False, normalized=False, special=True),\n",
            "\t83: AddedToken(\"<extra_id_19>\", rstrip=False, lstrip=False, single_word=False, normalized=False, special=True),\n",
            "\t84: AddedToken(\"<extra_id_18>\", rstrip=False, lstrip=False, single_word=False, normalized=False, special=True),\n",
            "\t85: AddedToken(\"<extra_id_17>\", rstrip=False, lstrip=False, single_word=False, normalized=False, special=True),\n",
            "\t86: AddedToken(\"<extra_id_16>\", rstrip=False, lstrip=False, single_word=False, normalized=False, special=True),\n",
            "\t87: AddedToken(\"<extra_id_15>\", rstrip=False, lstrip=False, single_word=False, normalized=False, special=True),\n",
            "\t88: AddedToken(\"<extra_id_14>\", rstrip=False, lstrip=False, single_word=False, normalized=False, special=True),\n",
            "\t89: AddedToken(\"<extra_id_13>\", rstrip=False, lstrip=False, single_word=False, normalized=False, special=True),\n",
            "\t90: AddedToken(\"<extra_id_12>\", rstrip=False, lstrip=False, single_word=False, normalized=False, special=True),\n",
            "\t91: AddedToken(\"<extra_id_11>\", rstrip=False, lstrip=False, single_word=False, normalized=False, special=True),\n",
            "\t92: AddedToken(\"<extra_id_10>\", rstrip=False, lstrip=False, single_word=False, normalized=False, special=True),\n",
            "\t93: AddedToken(\"<extra_id_9>\", rstrip=False, lstrip=False, single_word=False, normalized=False, special=True),\n",
            "\t94: AddedToken(\"<extra_id_8>\", rstrip=False, lstrip=False, single_word=False, normalized=False, special=True),\n",
            "\t95: AddedToken(\"<extra_id_7>\", rstrip=False, lstrip=False, single_word=False, normalized=False, special=True),\n",
            "\t96: AddedToken(\"<extra_id_6>\", rstrip=False, lstrip=False, single_word=False, normalized=False, special=True),\n",
            "\t97: AddedToken(\"<extra_id_5>\", rstrip=False, lstrip=False, single_word=False, normalized=False, special=True),\n",
            "\t98: AddedToken(\"<extra_id_4>\", rstrip=False, lstrip=False, single_word=False, normalized=False, special=True),\n",
            "\t99: AddedToken(\"<extra_id_3>\", rstrip=False, lstrip=False, single_word=False, normalized=False, special=True),\n",
            "\t100: AddedToken(\"<extra_id_2>\", rstrip=False, lstrip=False, single_word=False, normalized=False, special=True),\n",
            "\t101: AddedToken(\"<extra_id_1>\", rstrip=False, lstrip=False, single_word=False, normalized=False, special=True),\n",
            "\t102: AddedToken(\"<extra_id_0>\", rstrip=False, lstrip=False, single_word=False, normalized=False, special=True),\n",
            "}\n",
            ")\n"
          ]
        }
      ]
    },
    {
      "cell_type": "code",
      "source": [
        "input_str = \"Hugging face is great!\"\n",
        "\n",
        "input_tokens = mt5_tokenizer.tokenize(input_str)\n",
        "print(f\"Tokens of the input sequence: {input_tokens}\")\n",
        "\n",
        "input_ids = mt5_tokenizer.convert_tokens_to_ids(input_tokens)\n",
        "print(f\"IDs assigned to the intput sequence: {input_ids}\")\n",
        "\n",
        "decoded = mt5_tokenizer.decode(input_ids)\n",
        "print(decoded)\n",
        "\n",
        "model_inputs = mt5_tokenizer(\"Hugging Face is great!\", return_tensors=\"pt\")\n",
        "print(model_inputs)"
      ],
      "metadata": {
        "colab": {
          "base_uri": "https://localhost:8080/"
        },
        "id": "_ox2oBpFnpu3",
        "outputId": "8bc8cee1-c4b4-48be-cdd9-ea81601a9432"
      },
      "execution_count": null,
      "outputs": [
        {
          "output_type": "stream",
          "name": "stdout",
          "text": [
            "Tokens of the input sequence: ['▁Hu', 'gging', '▁face', '▁is', '▁great', '!']\n",
            "IDs assigned to the intput sequence: [4691, 30374, 3029, 339, 3005, 309]\n",
            "Hugging face is great!\n",
            "{'input_ids': tensor([[ 4691, 30374, 14876,   339,  3005,   309,     1]]), 'attention_mask': tensor([[1, 1, 1, 1, 1, 1, 1]])}\n"
          ]
        }
      ]
    },
    {
      "cell_type": "code",
      "source": [
        "model_inputs = mt5_tokenizer([\"Hugging Face is great!\",\n",
        "                         \"The quick brown fox jumps over the lazy dog.\",\n",
        "                         \"We are learning to fine-tune models.\",\n",
        "                         ],\n",
        "                         return_tensors=\"pt\",\n",
        "                         padding=True,\n",
        "                         truncation=True)\n",
        "print(model_inputs)\n",
        "print(mt5_tokenizer.pad_token, mt5_tokenizer.pad_token_id)"
      ],
      "metadata": {
        "colab": {
          "base_uri": "https://localhost:8080/"
        },
        "id": "ZGP8DzWhD7ms",
        "outputId": "b580c03c-da3d-40b8-c3a5-1a98106a1b84"
      },
      "execution_count": null,
      "outputs": [
        {
          "output_type": "stream",
          "name": "stderr",
          "text": [
            "Asking to truncate to max_length but no maximum length is provided and the model has no predefined maximum length. Default to no truncation.\n"
          ]
        },
        {
          "output_type": "stream",
          "name": "stdout",
          "text": [
            "{'input_ids': tensor([[  4691,  30374,  14876,    339,   3005,    309,      1,      0,      0,\n",
            "              0,      0,      0,      0,      0],\n",
            "        [   486,  13819,  44442,    259,  63142,  51917,    263,    910,    287,\n",
            "            259, 105514,  10990,    260,      1],\n",
            "        [  1306,    418,  22651,    288,   7495,    264, 118411,  33477,    260,\n",
            "              1,      0,      0,      0,      0]]), 'attention_mask': tensor([[1, 1, 1, 1, 1, 1, 1, 0, 0, 0, 0, 0, 0, 0],\n",
            "        [1, 1, 1, 1, 1, 1, 1, 1, 1, 1, 1, 1, 1, 1],\n",
            "        [1, 1, 1, 1, 1, 1, 1, 1, 1, 1, 0, 0, 0, 0]])}\n",
            "<pad> 0\n"
          ]
        }
      ]
    },
    {
      "cell_type": "markdown",
      "source": [
        "### 2.   **mt5_be_tokenizer** from Model 2 (google/mt5-small)"
      ],
      "metadata": {
        "id": "zZ9CIY03zvmx"
      }
    },
    {
      "cell_type": "code",
      "source": [
        "print(mt5_tokenizer)"
      ],
      "metadata": {
        "colab": {
          "base_uri": "https://localhost:8080/"
        },
        "id": "MNkptqnniPwH",
        "outputId": "d1be1314-3ce7-40b6-ffe1-bdd5a3274992"
      },
      "execution_count": null,
      "outputs": [
        {
          "output_type": "stream",
          "name": "stdout",
          "text": [
            "T5TokenizerFast(name_or_path='google/mt5-small', vocab_size=250100, model_max_length=1000000000000000019884624838656, is_fast=True, padding_side='right', truncation_side='right', special_tokens={'eos_token': '</s>', 'unk_token': '<unk>', 'pad_token': '<pad>'}, clean_up_tokenization_spaces=False, added_tokens_decoder={\n",
            "\t0: AddedToken(\"<pad>\", rstrip=False, lstrip=False, single_word=False, normalized=False, special=True),\n",
            "\t1: AddedToken(\"</s>\", rstrip=False, lstrip=False, single_word=False, normalized=False, special=True),\n",
            "\t2: AddedToken(\"<unk>\", rstrip=False, lstrip=False, single_word=False, normalized=False, special=True),\n",
            "\t250000: AddedToken(\"▁<extra_id_99>\", rstrip=False, lstrip=False, single_word=False, normalized=False, special=False),\n",
            "\t250001: AddedToken(\"▁<extra_id_98>\", rstrip=False, lstrip=False, single_word=False, normalized=False, special=False),\n",
            "\t250002: AddedToken(\"▁<extra_id_97>\", rstrip=False, lstrip=False, single_word=False, normalized=False, special=False),\n",
            "\t250003: AddedToken(\"▁<extra_id_96>\", rstrip=False, lstrip=False, single_word=False, normalized=False, special=False),\n",
            "\t250004: AddedToken(\"▁<extra_id_95>\", rstrip=False, lstrip=False, single_word=False, normalized=False, special=False),\n",
            "\t250005: AddedToken(\"▁<extra_id_94>\", rstrip=False, lstrip=False, single_word=False, normalized=False, special=False),\n",
            "\t250006: AddedToken(\"▁<extra_id_93>\", rstrip=False, lstrip=False, single_word=False, normalized=False, special=False),\n",
            "\t250007: AddedToken(\"▁<extra_id_92>\", rstrip=False, lstrip=False, single_word=False, normalized=False, special=False),\n",
            "\t250008: AddedToken(\"▁<extra_id_91>\", rstrip=False, lstrip=False, single_word=False, normalized=False, special=False),\n",
            "\t250009: AddedToken(\"▁<extra_id_90>\", rstrip=False, lstrip=False, single_word=False, normalized=False, special=False),\n",
            "\t250010: AddedToken(\"▁<extra_id_89>\", rstrip=False, lstrip=False, single_word=False, normalized=False, special=False),\n",
            "\t250011: AddedToken(\"▁<extra_id_88>\", rstrip=False, lstrip=False, single_word=False, normalized=False, special=False),\n",
            "\t250012: AddedToken(\"▁<extra_id_87>\", rstrip=False, lstrip=False, single_word=False, normalized=False, special=False),\n",
            "\t250013: AddedToken(\"▁<extra_id_86>\", rstrip=False, lstrip=False, single_word=False, normalized=False, special=False),\n",
            "\t250014: AddedToken(\"▁<extra_id_85>\", rstrip=False, lstrip=False, single_word=False, normalized=False, special=False),\n",
            "\t250015: AddedToken(\"▁<extra_id_84>\", rstrip=False, lstrip=False, single_word=False, normalized=False, special=False),\n",
            "\t250016: AddedToken(\"▁<extra_id_83>\", rstrip=False, lstrip=False, single_word=False, normalized=False, special=False),\n",
            "\t250017: AddedToken(\"▁<extra_id_82>\", rstrip=False, lstrip=False, single_word=False, normalized=False, special=False),\n",
            "\t250018: AddedToken(\"▁<extra_id_81>\", rstrip=False, lstrip=False, single_word=False, normalized=False, special=False),\n",
            "\t250019: AddedToken(\"▁<extra_id_80>\", rstrip=False, lstrip=False, single_word=False, normalized=False, special=False),\n",
            "\t250020: AddedToken(\"▁<extra_id_79>\", rstrip=False, lstrip=False, single_word=False, normalized=False, special=False),\n",
            "\t250021: AddedToken(\"▁<extra_id_78>\", rstrip=False, lstrip=False, single_word=False, normalized=False, special=False),\n",
            "\t250022: AddedToken(\"▁<extra_id_77>\", rstrip=False, lstrip=False, single_word=False, normalized=False, special=False),\n",
            "\t250023: AddedToken(\"▁<extra_id_76>\", rstrip=False, lstrip=False, single_word=False, normalized=False, special=False),\n",
            "\t250024: AddedToken(\"▁<extra_id_75>\", rstrip=False, lstrip=False, single_word=False, normalized=False, special=False),\n",
            "\t250025: AddedToken(\"▁<extra_id_74>\", rstrip=False, lstrip=False, single_word=False, normalized=False, special=False),\n",
            "\t250026: AddedToken(\"▁<extra_id_73>\", rstrip=False, lstrip=False, single_word=False, normalized=False, special=False),\n",
            "\t250027: AddedToken(\"▁<extra_id_72>\", rstrip=False, lstrip=False, single_word=False, normalized=False, special=False),\n",
            "\t250028: AddedToken(\"▁<extra_id_71>\", rstrip=False, lstrip=False, single_word=False, normalized=False, special=False),\n",
            "\t250029: AddedToken(\"▁<extra_id_70>\", rstrip=False, lstrip=False, single_word=False, normalized=False, special=False),\n",
            "\t250030: AddedToken(\"▁<extra_id_69>\", rstrip=False, lstrip=False, single_word=False, normalized=False, special=False),\n",
            "\t250031: AddedToken(\"▁<extra_id_68>\", rstrip=False, lstrip=False, single_word=False, normalized=False, special=False),\n",
            "\t250032: AddedToken(\"▁<extra_id_67>\", rstrip=False, lstrip=False, single_word=False, normalized=False, special=False),\n",
            "\t250033: AddedToken(\"▁<extra_id_66>\", rstrip=False, lstrip=False, single_word=False, normalized=False, special=False),\n",
            "\t250034: AddedToken(\"▁<extra_id_65>\", rstrip=False, lstrip=False, single_word=False, normalized=False, special=False),\n",
            "\t250035: AddedToken(\"▁<extra_id_64>\", rstrip=False, lstrip=False, single_word=False, normalized=False, special=False),\n",
            "\t250036: AddedToken(\"▁<extra_id_63>\", rstrip=False, lstrip=False, single_word=False, normalized=False, special=False),\n",
            "\t250037: AddedToken(\"▁<extra_id_62>\", rstrip=False, lstrip=False, single_word=False, normalized=False, special=False),\n",
            "\t250038: AddedToken(\"▁<extra_id_61>\", rstrip=False, lstrip=False, single_word=False, normalized=False, special=False),\n",
            "\t250039: AddedToken(\"▁<extra_id_60>\", rstrip=False, lstrip=False, single_word=False, normalized=False, special=False),\n",
            "\t250040: AddedToken(\"▁<extra_id_59>\", rstrip=False, lstrip=False, single_word=False, normalized=False, special=False),\n",
            "\t250041: AddedToken(\"▁<extra_id_58>\", rstrip=False, lstrip=False, single_word=False, normalized=False, special=False),\n",
            "\t250042: AddedToken(\"▁<extra_id_57>\", rstrip=False, lstrip=False, single_word=False, normalized=False, special=False),\n",
            "\t250043: AddedToken(\"▁<extra_id_56>\", rstrip=False, lstrip=False, single_word=False, normalized=False, special=False),\n",
            "\t250044: AddedToken(\"▁<extra_id_55>\", rstrip=False, lstrip=False, single_word=False, normalized=False, special=False),\n",
            "\t250045: AddedToken(\"▁<extra_id_54>\", rstrip=False, lstrip=False, single_word=False, normalized=False, special=False),\n",
            "\t250046: AddedToken(\"▁<extra_id_53>\", rstrip=False, lstrip=False, single_word=False, normalized=False, special=False),\n",
            "\t250047: AddedToken(\"▁<extra_id_52>\", rstrip=False, lstrip=False, single_word=False, normalized=False, special=False),\n",
            "\t250048: AddedToken(\"▁<extra_id_51>\", rstrip=False, lstrip=False, single_word=False, normalized=False, special=False),\n",
            "\t250049: AddedToken(\"▁<extra_id_50>\", rstrip=False, lstrip=False, single_word=False, normalized=False, special=False),\n",
            "\t250050: AddedToken(\"▁<extra_id_49>\", rstrip=False, lstrip=False, single_word=False, normalized=False, special=False),\n",
            "\t250051: AddedToken(\"▁<extra_id_48>\", rstrip=False, lstrip=False, single_word=False, normalized=False, special=False),\n",
            "\t250052: AddedToken(\"▁<extra_id_47>\", rstrip=False, lstrip=False, single_word=False, normalized=False, special=False),\n",
            "\t250053: AddedToken(\"▁<extra_id_46>\", rstrip=False, lstrip=False, single_word=False, normalized=False, special=False),\n",
            "\t250054: AddedToken(\"▁<extra_id_45>\", rstrip=False, lstrip=False, single_word=False, normalized=False, special=False),\n",
            "\t250055: AddedToken(\"▁<extra_id_44>\", rstrip=False, lstrip=False, single_word=False, normalized=False, special=False),\n",
            "\t250056: AddedToken(\"▁<extra_id_43>\", rstrip=False, lstrip=False, single_word=False, normalized=False, special=False),\n",
            "\t250057: AddedToken(\"▁<extra_id_42>\", rstrip=False, lstrip=False, single_word=False, normalized=False, special=False),\n",
            "\t250058: AddedToken(\"▁<extra_id_41>\", rstrip=False, lstrip=False, single_word=False, normalized=False, special=False),\n",
            "\t250059: AddedToken(\"▁<extra_id_40>\", rstrip=False, lstrip=False, single_word=False, normalized=False, special=False),\n",
            "\t250060: AddedToken(\"▁<extra_id_39>\", rstrip=False, lstrip=False, single_word=False, normalized=False, special=False),\n",
            "\t250061: AddedToken(\"▁<extra_id_38>\", rstrip=False, lstrip=False, single_word=False, normalized=False, special=False),\n",
            "\t250062: AddedToken(\"▁<extra_id_37>\", rstrip=False, lstrip=False, single_word=False, normalized=False, special=False),\n",
            "\t250063: AddedToken(\"▁<extra_id_36>\", rstrip=False, lstrip=False, single_word=False, normalized=False, special=False),\n",
            "\t250064: AddedToken(\"▁<extra_id_35>\", rstrip=False, lstrip=False, single_word=False, normalized=False, special=False),\n",
            "\t250065: AddedToken(\"▁<extra_id_34>\", rstrip=False, lstrip=False, single_word=False, normalized=False, special=False),\n",
            "\t250066: AddedToken(\"▁<extra_id_33>\", rstrip=False, lstrip=False, single_word=False, normalized=False, special=False),\n",
            "\t250067: AddedToken(\"▁<extra_id_32>\", rstrip=False, lstrip=False, single_word=False, normalized=False, special=False),\n",
            "\t250068: AddedToken(\"▁<extra_id_31>\", rstrip=False, lstrip=False, single_word=False, normalized=False, special=False),\n",
            "\t250069: AddedToken(\"▁<extra_id_30>\", rstrip=False, lstrip=False, single_word=False, normalized=False, special=False),\n",
            "\t250070: AddedToken(\"▁<extra_id_29>\", rstrip=False, lstrip=False, single_word=False, normalized=False, special=False),\n",
            "\t250071: AddedToken(\"▁<extra_id_28>\", rstrip=False, lstrip=False, single_word=False, normalized=False, special=False),\n",
            "\t250072: AddedToken(\"▁<extra_id_27>\", rstrip=False, lstrip=False, single_word=False, normalized=False, special=False),\n",
            "\t250073: AddedToken(\"▁<extra_id_26>\", rstrip=False, lstrip=False, single_word=False, normalized=False, special=False),\n",
            "\t250074: AddedToken(\"▁<extra_id_25>\", rstrip=False, lstrip=False, single_word=False, normalized=False, special=False),\n",
            "\t250075: AddedToken(\"▁<extra_id_24>\", rstrip=False, lstrip=False, single_word=False, normalized=False, special=False),\n",
            "\t250076: AddedToken(\"▁<extra_id_23>\", rstrip=False, lstrip=False, single_word=False, normalized=False, special=False),\n",
            "\t250077: AddedToken(\"▁<extra_id_22>\", rstrip=False, lstrip=False, single_word=False, normalized=False, special=False),\n",
            "\t250078: AddedToken(\"▁<extra_id_21>\", rstrip=False, lstrip=False, single_word=False, normalized=False, special=False),\n",
            "\t250079: AddedToken(\"▁<extra_id_20>\", rstrip=False, lstrip=False, single_word=False, normalized=False, special=False),\n",
            "\t250080: AddedToken(\"▁<extra_id_19>\", rstrip=False, lstrip=False, single_word=False, normalized=False, special=False),\n",
            "\t250081: AddedToken(\"▁<extra_id_18>\", rstrip=False, lstrip=False, single_word=False, normalized=False, special=False),\n",
            "\t250082: AddedToken(\"▁<extra_id_17>\", rstrip=False, lstrip=False, single_word=False, normalized=False, special=False),\n",
            "\t250083: AddedToken(\"▁<extra_id_16>\", rstrip=False, lstrip=False, single_word=False, normalized=False, special=False),\n",
            "\t250084: AddedToken(\"▁<extra_id_15>\", rstrip=False, lstrip=False, single_word=False, normalized=False, special=False),\n",
            "\t250085: AddedToken(\"▁<extra_id_14>\", rstrip=False, lstrip=False, single_word=False, normalized=False, special=False),\n",
            "\t250086: AddedToken(\"▁<extra_id_13>\", rstrip=False, lstrip=False, single_word=False, normalized=False, special=False),\n",
            "\t250087: AddedToken(\"▁<extra_id_12>\", rstrip=False, lstrip=False, single_word=False, normalized=False, special=False),\n",
            "\t250088: AddedToken(\"▁<extra_id_11>\", rstrip=False, lstrip=False, single_word=False, normalized=False, special=False),\n",
            "\t250089: AddedToken(\"▁<extra_id_10>\", rstrip=False, lstrip=False, single_word=False, normalized=False, special=False),\n",
            "\t250090: AddedToken(\"▁<extra_id_9>\", rstrip=False, lstrip=False, single_word=False, normalized=False, special=False),\n",
            "\t250091: AddedToken(\"▁<extra_id_8>\", rstrip=False, lstrip=False, single_word=False, normalized=False, special=False),\n",
            "\t250092: AddedToken(\"▁<extra_id_7>\", rstrip=False, lstrip=False, single_word=False, normalized=False, special=False),\n",
            "\t250093: AddedToken(\"▁<extra_id_6>\", rstrip=False, lstrip=False, single_word=False, normalized=False, special=False),\n",
            "\t250094: AddedToken(\"▁<extra_id_5>\", rstrip=False, lstrip=False, single_word=False, normalized=False, special=False),\n",
            "\t250095: AddedToken(\"▁<extra_id_4>\", rstrip=False, lstrip=False, single_word=False, normalized=False, special=False),\n",
            "\t250096: AddedToken(\"▁<extra_id_3>\", rstrip=False, lstrip=False, single_word=False, normalized=False, special=False),\n",
            "\t250097: AddedToken(\"▁<extra_id_2>\", rstrip=False, lstrip=False, single_word=False, normalized=False, special=False),\n",
            "\t250098: AddedToken(\"▁<extra_id_1>\", rstrip=False, lstrip=False, single_word=False, normalized=False, special=False),\n",
            "\t250099: AddedToken(\"▁<extra_id_0>\", rstrip=False, lstrip=False, single_word=False, normalized=False, special=False),\n",
            "}\n",
            ")\n"
          ]
        }
      ]
    },
    {
      "cell_type": "code",
      "source": [
        "input_str = \"Hugging face is great!\"\n",
        "\n",
        "tokenized_inputs = t5_be_tokenizer(input_str)\n",
        "print(tokenized_inputs.input_ids)\n",
        "\n",
        "input_tokens = t5_be_tokenizer.tokenize(input_str)\n",
        "print(f\"Tokens of the input sequence: {input_tokens}\")\n",
        "\n",
        "input_ids = t5_be_tokenizer.convert_tokens_to_ids(input_tokens)\n",
        "print(f\"IDs assigned to the intput sequence: {input_ids}\")\n",
        "\n",
        "decoded = t5_be_tokenizer.decode(input_ids)\n",
        "print(decoded)\n",
        "\n",
        "model_inputs = t5_be_tokenizer(\"Hugging Face is great!\", return_tensors=\"pt\")\n",
        "print(model_inputs)"
      ],
      "metadata": {
        "colab": {
          "base_uri": "https://localhost:8080/"
        },
        "id": "Jo5p6_eMn722",
        "outputId": "d1b69ed1-a1c6-47f5-ffa2-4ae2ad09aaa6"
      },
      "execution_count": null,
      "outputs": [
        {
          "output_type": "stream",
          "name": "stdout",
          "text": [
            "[34637, 10174, 3502, 135, 1511, 185, 1]\n",
            "Tokens of the input sequence: ['▁Hug', 'ging', '▁face', '▁is', '▁great', '!']\n",
            "IDs assigned to the intput sequence: [34637, 10174, 3502, 135, 1511, 185]\n",
            "Hugging face is great!\n",
            "{'input_ids': tensor([[34637, 10174, 15137,   135,  1511,   185,     1]]), 'attention_mask': tensor([[1, 1, 1, 1, 1, 1, 1]])}\n"
          ]
        }
      ]
    },
    {
      "cell_type": "code",
      "source": [
        "model_inputs = t5_be_tokenizer([\"Hugging Face is great!\",\n",
        "                         \"The quick brown fox jumps over the lazy dog.\",\n",
        "                         \"We are learning to fine-tune models.\",\n",
        "                         ],\n",
        "                         return_tensors=\"pt\",\n",
        "                         padding=True,\n",
        "                         truncation=True)\n",
        "print(model_inputs)\n",
        "print(t5_be_tokenizer.pad_token, t5_be_tokenizer.pad_token_id)"
      ],
      "metadata": {
        "colab": {
          "base_uri": "https://localhost:8080/"
        },
        "id": "SQYAHbo9DCmc",
        "outputId": "59214f74-fcc1-4dd7-f069-8b8f51dec989"
      },
      "execution_count": null,
      "outputs": [
        {
          "output_type": "stream",
          "name": "stdout",
          "text": [
            "{'input_ids': tensor([[34637, 10174, 15137,   135,  1511,   185,     1,     0,     0,     0,\n",
            "             0,     0,     0,     0],\n",
            "        [  138, 21766, 29280,   103, 16335, 11026,   131,   629,   106,   103,\n",
            "         37036,  5893,   105,     1],\n",
            "        [  353,   156, 15264,   116,  2563,   115, 19765,  3083,   105,     1,\n",
            "             0,     0,     0,     0]]), 'attention_mask': tensor([[1, 1, 1, 1, 1, 1, 1, 0, 0, 0, 0, 0, 0, 0],\n",
            "        [1, 1, 1, 1, 1, 1, 1, 1, 1, 1, 1, 1, 1, 1],\n",
            "        [1, 1, 1, 1, 1, 1, 1, 1, 1, 1, 0, 0, 0, 0]])}\n",
            "<pad> 0\n"
          ]
        }
      ]
    },
    {
      "cell_type": "markdown",
      "source": [
        "**Note**: Since both tokenizers tokenize the strings in differently, I will use for each miodle its own tokenizer."
      ],
      "metadata": {
        "id": "ld8CA4laoiiU"
      }
    },
    {
      "cell_type": "markdown",
      "source": [
        "# Loading the Metrics\n",
        "\n",
        "For this project, I have decided to several metrics:\n",
        "*   **BLEU**: The convention metric in machine translation. BLEU’s output is always a number between 0 and 1, where values closer to 1 represent more similar texts\n",
        "*  **Google BLEU**: It is said to be more effective on a sentence level then BLEU score. This metric can take on values from 0 to 1, inclusive. Higher scores are better, with 0 indicating no matches, and 1 indicating a perfect match.\n",
        "*   **SacreBLEU**: It is said to be more easily reproducible than just BLEU. The score can take any value between 0.0 and 100.0, inclusive, where 100.0 is a perfect match\n",
        "\n",
        "The sources for my statements here are listed in the references below."
      ],
      "metadata": {
        "id": "gzQtv4dxsIxM"
      }
    },
    {
      "cell_type": "code",
      "source": [
        "import evaluate\n",
        "\n",
        "bleu = evaluate.load(\"bleu\")\n",
        "google_bleu = evaluate.load(\"google_bleu\")\n",
        "sacrebleu = evaluate.load(\"sacrebleu\")"
      ],
      "metadata": {
        "id": "l2alXbBBseaa"
      },
      "execution_count": null,
      "outputs": []
    },
    {
      "cell_type": "markdown",
      "source": [
        "### Exploring the metrics"
      ],
      "metadata": {
        "id": "eflERrJNtQhd"
      }
    },
    {
      "cell_type": "code",
      "source": [
        "#Example from the source for google BLEU\n",
        "\n",
        "sentence1 = \"the cat sat on the mat\"\n",
        "sentence2 = \"the cat ate the mat\"\n",
        "\n",
        "\n",
        "result_bleu = bleu.compute(predictions=[sentence1], references=[[sentence2]])\n",
        "result_google_bleu = google_bleu.compute(predictions=[sentence1], references=[[sentence2]])\n",
        "result_sacrebleu = sacrebleu.compute(predictions=[sentence1], references=[[sentence2]])\n",
        "\n",
        "\n",
        "print(result_bleu)\n",
        "print(result_google_bleu)\n",
        "print(result_sacrebleu)"
      ],
      "metadata": {
        "colab": {
          "base_uri": "https://localhost:8080/"
        },
        "id": "8rXBZzocsMEd",
        "outputId": "76547efe-3ee1-4738-db53-7d2fd87d11d5"
      },
      "execution_count": null,
      "outputs": [
        {
          "output_type": "stream",
          "name": "stdout",
          "text": [
            "{'bleu': 0.0, 'precisions': [0.6666666666666666, 0.4, 0.0, 0.0], 'brevity_penalty': 1.0, 'length_ratio': 1.2, 'translation_length': 6, 'reference_length': 5}\n",
            "{'google_bleu': 0.3333333333333333}\n",
            "{'score': 22.957488466614336, 'counts': [4, 2, 0, 0], 'totals': [6, 5, 4, 3], 'precisions': [66.66666666666667, 40.0, 12.5, 8.333333333333334], 'bp': 1.0, 'sys_len': 6, 'ref_len': 5}\n"
          ]
        }
      ]
    },
    {
      "cell_type": "code",
      "source": [
        "# Example 2 from  the source for google BLEU\n",
        "\n",
        "predictions = ['It is a guide to action which ensures that the rubber duck always disobeys the commands of the cat', 'he read the book because he was interested in world history']\n",
        "references  = [['It is the guiding principle which guarantees the rubber duck forces never being under the command of the cat', 'It is a guide to action that ensures that the rubber duck will never heed the cat commands', 'It is the practical guide for the rubber duck army never to heed the directions of the cat'], ['he was interested in world history because he read the book']]\n",
        "\n",
        "results_bleu = bleu.compute(predictions=predictions, references=references)\n",
        "results_google_bleu = google_bleu.compute(predictions=predictions, references=references)\n",
        "\n",
        "print(results_bleu)\n",
        "print(results_google_bleu)\n",
        "\n",
        "#sacre bleu can not be calculated here as it requires the same number of refereces and source sentences"
      ],
      "metadata": {
        "colab": {
          "base_uri": "https://localhost:8080/"
        },
        "id": "NdHIm7WN6rlF",
        "outputId": "523c1d87-a1c7-48aa-b31a-1fc8310a2944"
      },
      "execution_count": null,
      "outputs": [
        {
          "output_type": "stream",
          "name": "stdout",
          "text": [
            "{'bleu': 0.6057224552983581, 'precisions': [0.9333333333333333, 0.7142857142857143, 0.5384615384615384, 0.375], 'brevity_penalty': 1.0, 'length_ratio': 1.0344827586206897, 'translation_length': 30, 'reference_length': 29}\n",
            "{'google_bleu': 0.6111111111111112}\n"
          ]
        }
      ]
    },
    {
      "cell_type": "code",
      "source": [
        "# Example from the source for sacre BLEU\n",
        "\n",
        "predictions = [\"hello there general kenobi\",\n",
        "                 \"on our way to ankh morpork\"]\n",
        "references = [[\"hello there general kenobi\", \"hello there !\"],\n",
        "                 [\"goodbye ankh morpork\", \"ankh morpork\"]]\n",
        "\n",
        "results = sacrebleu.compute(predictions=predictions, references=references)\n",
        "print(results)"
      ],
      "metadata": {
        "colab": {
          "base_uri": "https://localhost:8080/"
        },
        "id": "_TlLhRSZkcPT",
        "outputId": "b242b681-d882-4f1a-d14e-d46eb5b71cff"
      },
      "execution_count": null,
      "outputs": [
        {
          "output_type": "stream",
          "name": "stdout",
          "text": [
            "{'score': 39.76353643835252, 'counts': [6, 4, 2, 1], 'totals': [10, 8, 6, 4], 'precisions': [60.0, 50.0, 33.333333333333336, 25.0], 'bp': 1.0, 'sys_len': 10, 'ref_len': 7}\n"
          ]
        }
      ]
    },
    {
      "cell_type": "markdown",
      "source": [
        "**Note**: BLEU score is computed separetely for each of the refeences, while google BLEU is computed once for all of the references. Sacre BLEU requires the same number for referencies to be computed\n",
        "\n",
        "For further evaluation I am going to focus only of scores and round them till the second decimal."
      ],
      "metadata": {
        "id": "yX_JM8yrikph"
      }
    },
    {
      "cell_type": "markdown",
      "source": [
        "### Creating Function for Metrics Calcualtions"
      ],
      "metadata": {
        "id": "91BwG9_1tVHC"
      }
    },
    {
      "cell_type": "code",
      "source": [
        "# My functions\n",
        "\n",
        "def compute_bleu_score(predictions, references):\n",
        "    if isinstance(predictions, str):\n",
        "        predictions = [predictions]\n",
        "    if isinstance(references, str):\n",
        "        references = [[references]]\n",
        "    else:\n",
        "        references = [ref if isinstance(ref, list) else [ref] for ref in references]\n",
        "    result = bleu.compute(predictions=predictions, references=references)\n",
        "    return round(result[\"bleu\"],2)\n",
        "\n",
        "\n",
        "def compute_google_bleu_score(predictions, references):\n",
        "    if isinstance(predictions, str):\n",
        "        predictions = [predictions]\n",
        "    if isinstance(references, str):\n",
        "        references = [[references]]\n",
        "    else:\n",
        "        references = [ref if isinstance(ref, list) else [ref] for ref in references]\n",
        "    result = google_bleu.compute(predictions=predictions, references=references)\n",
        "    return round(result[\"google_bleu\"],2)\n",
        "\n",
        "\n",
        "def compute_sacrebleu_score(predictions, references):\n",
        "    if isinstance(predictions, str):\n",
        "        predictions = [predictions]\n",
        "    if isinstance(references, str):\n",
        "        references = [[references]]\n",
        "    else:\n",
        "        references = [ref if isinstance(ref, list) else [ref] for ref in references]\n",
        "    result = sacrebleu.compute(predictions=predictions, references=references)\n",
        "    return round(result[\"score\"],2)"
      ],
      "metadata": {
        "id": "vLZKeQr0znJe"
      },
      "execution_count": null,
      "outputs": []
    },
    {
      "cell_type": "markdown",
      "source": [
        "### Testing the Functions"
      ],
      "metadata": {
        "id": "4mbGLpUFtqIJ"
      }
    },
    {
      "cell_type": "code",
      "source": [
        "print(compute_bleu_score(sentence1, sentence2))\n",
        "print(compute_google_bleu_score(sentence1, sentence2))\n",
        "print(compute_sacrebleu_score(sentence1, sentence2))"
      ],
      "metadata": {
        "colab": {
          "base_uri": "https://localhost:8080/"
        },
        "id": "Fvj0nxH62uqc",
        "outputId": "66764f86-1b95-4c59-889d-480111fae1f8"
      },
      "execution_count": null,
      "outputs": [
        {
          "output_type": "stream",
          "name": "stdout",
          "text": [
            "0.0\n",
            "0.33\n",
            "22.96\n"
          ]
        }
      ]
    },
    {
      "cell_type": "code",
      "source": [
        "print(compute_bleu_score(predictions, references))\n",
        "print(compute_google_bleu_score(predictions, references))\n",
        "print(compute_sacrebleu_score(predictions, references))"
      ],
      "metadata": {
        "colab": {
          "base_uri": "https://localhost:8080/"
        },
        "id": "NTxTobkw60gx",
        "outputId": "3ca4f59a-03eb-43e5-fc9e-a42f5994e6a9"
      },
      "execution_count": null,
      "outputs": [
        {
          "output_type": "stream",
          "name": "stdout",
          "text": [
            "0.4\n",
            "0.46\n",
            "39.76\n"
          ]
        }
      ]
    },
    {
      "cell_type": "code",
      "source": [
        "predicted_sentences = [\n",
        "    \"The cat sat on the mat.\",\n",
        "    \"Hello, how are you?\"\n",
        "]\n",
        "\n",
        "reference_sentences = [\n",
        "    \"The cat ate the mat.\",\n",
        "    \"Hi, how do you do?\"\n",
        "]"
      ],
      "metadata": {
        "id": "V5M-BTm23gYL"
      },
      "execution_count": null,
      "outputs": []
    },
    {
      "cell_type": "code",
      "source": [
        "print(compute_bleu_score(predicted_sentences, reference_sentences))\n",
        "print(compute_google_bleu_score(predicted_sentences, reference_sentences))\n",
        "print(compute_sacrebleu_score(predicted_sentences, reference_sentences))"
      ],
      "metadata": {
        "colab": {
          "base_uri": "https://localhost:8080/"
        },
        "id": "pnk4ZQVH47Av",
        "outputId": "df3770b5-71ee-48cd-f460-c50f2d7e1e62"
      },
      "execution_count": null,
      "outputs": [
        {
          "output_type": "stream",
          "name": "stdout",
          "text": [
            "0.0\n",
            "0.32\n",
            "21.14\n"
          ]
        }
      ]
    },
    {
      "cell_type": "markdown",
      "source": [
        "# Loading Dataset"
      ],
      "metadata": {
        "id": "boqg5Sl7mI-R"
      }
    },
    {
      "cell_type": "code",
      "source": [
        "from datasets import load_dataset, DatasetDict\n",
        "from transformers import DataCollatorWithPadding\n",
        "from transformers import DataCollatorForSeq2Seq\n",
        "\n",
        "\n",
        "be_en_dataset = load_dataset(\"Helsinki-NLP/opus-100\", \"be-en\")"
      ],
      "metadata": {
        "id": "eCNK0EsslRqP"
      },
      "execution_count": null,
      "outputs": []
    },
    {
      "cell_type": "code",
      "source": [
        "def truncate(example):\n",
        "    return {\n",
        "        \"source\": example['translation'][\"be\"],\n",
        "        \"translation\": example['translation'][\"en\"]\n",
        "    }"
      ],
      "metadata": {
        "id": "H2RcGhXnvtcl"
      },
      "execution_count": null,
      "outputs": []
    },
    {
      "cell_type": "code",
      "source": [
        "# Take 128 random examples for train and 32 validation and 32 test\n",
        "\n",
        "small_be_en_dataset = DatasetDict(\n",
        "    train = be_en_dataset['train'].shuffle(seed=24).select(range(128)).map(truncate),\n",
        "    val = be_en_dataset['train'].shuffle(seed=24).select(range(128, 160)).map(truncate),\n",
        "    test = be_en_dataset['test'].shuffle(seed=24).select(range(160, 192)).map(truncate),\n",
        ")"
      ],
      "metadata": {
        "id": "ljppOL92vwZ7"
      },
      "execution_count": null,
      "outputs": []
    },
    {
      "cell_type": "code",
      "source": [
        "small_be_en_dataset"
      ],
      "metadata": {
        "colab": {
          "base_uri": "https://localhost:8080/"
        },
        "id": "6C7P-a-2XcKS",
        "outputId": "de89f333-a37a-47f7-fac5-157c92b2a420"
      },
      "execution_count": null,
      "outputs": [
        {
          "output_type": "execute_result",
          "data": {
            "text/plain": [
              "DatasetDict({\n",
              "    train: Dataset({\n",
              "        features: ['translation', 'source'],\n",
              "        num_rows: 128\n",
              "    })\n",
              "    val: Dataset({\n",
              "        features: ['translation', 'source'],\n",
              "        num_rows: 32\n",
              "    })\n",
              "    test: Dataset({\n",
              "        features: ['translation', 'source'],\n",
              "        num_rows: 32\n",
              "    })\n",
              "})"
            ]
          },
          "metadata": {},
          "execution_count": 61
        }
      ]
    },
    {
      "cell_type": "code",
      "source": [
        "small_be_en_dataset[\"train\"][:10]"
      ],
      "metadata": {
        "colab": {
          "base_uri": "https://localhost:8080/"
        },
        "id": "QzheSApDWNDy",
        "outputId": "64e7687e-87b6-4119-f249-52fcbeb1d119"
      },
      "execution_count": null,
      "outputs": [
        {
          "output_type": "execute_result",
          "data": {
            "text/plain": [
              "{'translation': ['Auto Away',\n",
              "  'Pas',\n",
              "  'Yearly',\n",
              "  'Insert Files - Insert new files into the project.',\n",
              "  'Line',\n",
              "  '1.600',\n",
              "  'Last',\n",
              "  'Fish Net',\n",
              "  'Drizzle Fog/ Mist',\n",
              "  'Select Message with Focus'],\n",
              " 'source': ['Аўтаматычная адсутнасць',\n",
              "  'Сту',\n",
              "  'Штогод@ title: group',\n",
              "  'Даданне файлаў у праект',\n",
              "  'Лінейны',\n",
              "  '1, 600',\n",
              "  'Апошнія',\n",
              "  'Зрабіць фонавым малюнкамName',\n",
              "  'weather condition',\n",
              "  'Пазначыць & тэкст паведамлення']}"
            ]
          },
          "metadata": {},
          "execution_count": 62
        }
      ]
    },
    {
      "cell_type": "code",
      "source": [
        "small_be_en_dataset[\"val\"][:10]"
      ],
      "metadata": {
        "colab": {
          "base_uri": "https://localhost:8080/"
        },
        "id": "Ihp_uMybtn9y",
        "outputId": "92ddf4e6-7e55-4da2-a4e3-c605b7557bbf"
      },
      "execution_count": null,
      "outputs": [
        {
          "output_type": "execute_result",
          "data": {
            "text/plain": [
              "{'translation': ['2A',\n",
              "  'while',\n",
              "  'End of a short break',\n",
              "  'Irkutsk',\n",
              "  'Mixed Rain and Drizzle',\n",
              "  'Link Text on Normal Background',\n",
              "  'Chance Snow/ Sleet',\n",
              "  'Select Categories...',\n",
              "  'Show Preview',\n",
              "  'That is why he got angry.'],\n",
              " 'source': ['2A',\n",
              "  \"пакульYou are about to translate the 'For' COMMAND, there are some rules on how to translate it. Please see http: // edu. kde. org/ kturtle/ translator. php to learn how to properly translate it.\",\n",
              "  'Канчатак кароткага перапынку',\n",
              "  'City in Siberia Russia',\n",
              "  'weather condition',\n",
              "  'Звычайны фон',\n",
              "  'weather forecast',\n",
              "  'Рэдагаваць геаграфічныя звесткі...',\n",
              "  'Паказваць прагляд',\n",
              "  'Вось чаму ён злаваў.']}"
            ]
          },
          "metadata": {},
          "execution_count": 63
        }
      ]
    },
    {
      "cell_type": "code",
      "source": [
        "def tokenize_function(examples):\n",
        "    return mt5_tokenizer(examples[\"source\"], padding=True, truncation=True)\n",
        "\n",
        "small_tokenized_dataset = small_be_en_dataset.map(tokenize_function, batched=True, batch_size=16)\n",
        "data_collator = DataCollatorWithPadding(tokenizer=mt5_tokenizer)"
      ],
      "metadata": {
        "id": "oBI0G5nIqBg-"
      },
      "execution_count": null,
      "outputs": []
    },
    {
      "cell_type": "code",
      "source": [
        "small_tokenized_dataset"
      ],
      "metadata": {
        "id": "5cFDdbTWuS13",
        "colab": {
          "base_uri": "https://localhost:8080/"
        },
        "outputId": "b3e93dc5-9649-4747-a35b-108ed0a6dd9d"
      },
      "execution_count": null,
      "outputs": [
        {
          "output_type": "execute_result",
          "data": {
            "text/plain": [
              "DatasetDict({\n",
              "    train: Dataset({\n",
              "        features: ['translation', 'source', 'input_ids', 'attention_mask'],\n",
              "        num_rows: 128\n",
              "    })\n",
              "    val: Dataset({\n",
              "        features: ['translation', 'source', 'input_ids', 'attention_mask'],\n",
              "        num_rows: 32\n",
              "    })\n",
              "    test: Dataset({\n",
              "        features: ['translation', 'source', 'input_ids', 'attention_mask'],\n",
              "        num_rows: 32\n",
              "    })\n",
              "})"
            ]
          },
          "metadata": {},
          "execution_count": 65
        }
      ]
    },
    {
      "cell_type": "markdown",
      "source": [
        "# Evaluating the Performance on Downstream Tasks\n",
        "\n",
        "In this part, I am going to evaluate the performance of the model on several amounts of data, such as:\n",
        "\n",
        "1.   an unseen sentence (be-en, en-be)\n",
        "2.   unseen thre sentences (be-en, en-be)\n",
        "3.   validation set of the dataset for fine-tuning (32 sentences)"
      ],
      "metadata": {
        "id": "A6kKmeG113m3"
      }
    },
    {
      "cell_type": "code",
      "source": [
        "import torch"
      ],
      "metadata": {
        "id": "CczrdKia8t2v"
      },
      "execution_count": null,
      "outputs": []
    },
    {
      "cell_type": "markdown",
      "source": [
        "## **Model 1**\n",
        "\n",
        "In the documanteation for the model it stands that the language pair and the translation direction is pecified with the corresponding special token (\"<\"extra_id_X\">\") before the text:\n",
        "\n",
        "*   Belarusian → English\t= \"<\"extra_id_2\">\"\n",
        "*   English → Belarusian\t= \"<\"extra_id_6\">\"\n",
        "\n",
        "P.s. I put quotation marks to make the token be visible."
      ],
      "metadata": {
        "id": "vx2Zzjzo3OhV"
      }
    },
    {
      "cell_type": "code",
      "source": [
        "# One sentence\n",
        "\n",
        "en_be_sentence = \"<extra_id_6> Hello, how are you?\"\n",
        "en_be_reference = \"Прывітанне, як справы?\"\n",
        "\n",
        "be_en_sentence = \"<extra_id_2> Прывітанне, як справы?\"\n",
        "be_en_reference = \"Hello, how are you?\"\n",
        "\n",
        "# Set of sentences\n",
        "\n",
        "en_be_sentences = [\n",
        "    \"I am learning programming.\",\n",
        "    \"This is an amazing model!\",\n",
        "    \"How is the weather today?\"\n",
        "]\n",
        "\n",
        "be_en_sentences = [\n",
        "    \"Я вучуся праграмаваць.\",\n",
        "    \"Гэта цудоўная мадэль!\",\n",
        "    \"Як надвор'е сёння?\"\n",
        "]"
      ],
      "metadata": {
        "id": "EsAj0iy6cyZv"
      },
      "execution_count": null,
      "outputs": []
    },
    {
      "cell_type": "markdown",
      "source": [
        "For evaluation I will use all thre metrics after each code cell. The reference sentences are listed above, sets of the three sentences as well as the corresponding segments in the validation (source (be) - translation (en)) are the translations of each other."
      ],
      "metadata": {
        "id": "1n1IO5-38h0t"
      }
    },
    {
      "cell_type": "markdown",
      "source": [
        "### 1.   One Sentence Analysis\n",
        "\n"
      ],
      "metadata": {
        "id": "IQBGXo_9d1_w"
      }
    },
    {
      "cell_type": "code",
      "source": [
        "# Tokenize input\n",
        "input_ids = t5_be_tokenizer(en_be_sentence, return_tensors=\"pt\").input_ids\n",
        "\n",
        "# Generate translation\n",
        "output_ids = t5_be_model.generate(input_ids)\n",
        "translated_text = t5_be_tokenizer.decode(output_ids[0], skip_special_tokens=True)\n",
        "\n",
        "# Print result\n",
        "print(\"Translated Text:\", translated_text, \"\\n\")\n",
        "\n",
        "#Calculating scores\n",
        "bleu_score = compute_bleu_score(translated_text, en_be_reference)\n",
        "google_bleu_score = compute_google_bleu_score(translated_text, en_be_reference)\n",
        "sacrebleu_score = compute_sacrebleu_score(translated_text, en_be_reference)\n",
        "\n",
        "print(f\"One en-be sentence Scores (Model 1):\\nBLEU = {bleu_score},\\nGoogle BLEU = {google_bleu_score},\\nSacreBLEU = {sacrebleu_score}\")"
      ],
      "metadata": {
        "outputId": "9592c6fa-e815-4f19-ce0b-a69d0ab3826a",
        "colab": {
          "base_uri": "https://localhost:8080/"
        },
        "id": "Bfwkn0SlcKoD"
      },
      "execution_count": null,
      "outputs": [
        {
          "output_type": "stream",
          "name": "stdout",
          "text": [
            "Translated Text: Hello, як вы? \n",
            "\n",
            "One en-be sentence Scores (Model 1):\n",
            "BLEU = 0.0,\n",
            "Google BLEU = 0.29,\n",
            "SacreBLEU = 23.64\n"
          ]
        }
      ]
    },
    {
      "cell_type": "code",
      "source": [
        "# Tokenize input\n",
        "input_ids = t5_be_tokenizer(be_en_sentence, return_tensors=\"pt\").input_ids\n",
        "\n",
        "# Generate translation\n",
        "output_ids = t5_be_model.generate(input_ids)\n",
        "translated_text = t5_be_tokenizer.decode(output_ids[0], skip_special_tokens=True)\n",
        "\n",
        "# Print result\n",
        "print(\"Translated Text:\", translated_text, \"\\n\")\n",
        "\n",
        "bleu_score = compute_bleu_score(translated_text, be_en_reference)\n",
        "google_bleu_score = compute_google_bleu_score(translated_text, be_en_reference)\n",
        "sacrebleu_score = compute_sacrebleu_score(translated_text, be_en_reference)\n",
        "\n",
        "print(f\"One be-en sentence Scores (Model 1):\\nBLEU = {bleu_score},\\nGoogle BLEU = {google_bleu_score},\\nSacreBLEU = {sacrebleu_score}\")"
      ],
      "metadata": {
        "colab": {
          "base_uri": "https://localhost:8080/"
        },
        "id": "46Jp_pKicWq1",
        "outputId": "ac1b365f-dcc4-4151-f849-6e06ebf59652"
      },
      "execution_count": null,
      "outputs": [
        {
          "output_type": "stream",
          "name": "stdout",
          "text": [
            "Translated Text: Hello how to do? \n",
            "\n",
            "One be-en sentence Scores (Model 1):\n",
            "BLEU = 0.0,\n",
            "Google BLEU = 0.17,\n",
            "SacreBLEU = 11.51\n"
          ]
        }
      ]
    },
    {
      "cell_type": "markdown",
      "source": [
        "**Note**: The first sentence was transalted partially, leaving the first English word untranslated (\"Hello\"), while the second sentences was translated completely, but incorrectly (\"How to do?\" should have been \"How are you?\" or \"How do you do?\")"
      ],
      "metadata": {
        "id": "hpxyVJt6mU-7"
      }
    },
    {
      "cell_type": "markdown",
      "source": [
        "### 2.   Set of Sentences Analysis\n"
      ],
      "metadata": {
        "id": "WiBHH5GYd7Ao"
      }
    },
    {
      "cell_type": "code",
      "source": [
        "en_be_results = {}\n",
        "\n",
        "for sentence in en_be_sentences:\n",
        "    input_text = f\"<extra_id_6> {sentence}\"\n",
        "    input_ids = t5_be_tokenizer.encode(input_text, return_tensors=\"pt\")\n",
        "    output_ids = t5_be_model.generate(input_ids, max_length=128, num_beams=4, early_stopping=True)\n",
        "    translated_text = t5_be_tokenizer.decode(output_ids[0], skip_special_tokens=True)\n",
        "    print(f\"Original: {sentence}\")\n",
        "    print(f\"Translated: {translated_text}\\n\")\n",
        "    en_be_results[sentence] = translated_text\n",
        "\n",
        "print(en_be_results, \"\\n\")\n",
        "\n",
        "# Extract translations and reference sentences\n",
        "translated_texts = list(en_be_results.values())\n",
        "reference_texts = list(be_en_sentences)\n",
        "\n",
        "# Iterate through each sentence and compute scores\n",
        "for i, (translated, reference) in enumerate(zip(translated_texts, reference_texts), 1):\n",
        "    bleu_score = compute_bleu_score(translated, reference)\n",
        "    google_bleu_score = compute_google_bleu_score(translated, reference)\n",
        "    sacrebleu_score = compute_sacrebleu_score(translated, reference)\n",
        "\n",
        "    # Print the results\n",
        "    print(f\"en-be Sentence Set Scores (Model 1):\\nSentence {i}:\\n\"\n",
        "          f\"BLEU = {bleu_score}\\n\"\n",
        "          f\"Google BLEU = {google_bleu_score}\\n\"\n",
        "          f\"SacreBLEU = {sacrebleu_score}\\n\")"
      ],
      "metadata": {
        "colab": {
          "base_uri": "https://localhost:8080/"
        },
        "outputId": "0b48c465-d343-49c7-e96f-789afff80acd",
        "id": "u4iMafT5cKoF"
      },
      "execution_count": null,
      "outputs": [
        {
          "output_type": "stream",
          "name": "stdout",
          "text": [
            "Original: I am learning programming.\n",
            "Translated: Я навучаю праграмаванне...\n",
            "\n",
            "Original: This is an amazing model!\n",
            "Translated: Гэта дзіўная мадэль!\n",
            "\n",
            "Original: How is the weather today?\n",
            "Translated: Як сёння надвор'е?\n",
            "\n",
            "{'I am learning programming.': 'Я навучаю праграмаванне...', 'This is an amazing model!': 'Гэта дзіўная мадэль!', 'How is the weather today?': \"Як сёння надвор'е?\"} \n",
            "\n",
            "en-be Sentence Set Scores (Model 1):\n",
            "Sentence 1:\n",
            "BLEU = 0.0\n",
            "Google BLEU = 0.11\n",
            "SacreBLEU = 9.65\n",
            "\n",
            "en-be Sentence Set Scores (Model 1):\n",
            "Sentence 2:\n",
            "BLEU = 0.0\n",
            "Google BLEU = 0.4\n",
            "SacreBLEU = 35.36\n",
            "\n",
            "en-be Sentence Set Scores (Model 1):\n",
            "Sentence 3:\n",
            "BLEU = 0.0\n",
            "Google BLEU = 0.4\n",
            "SacreBLEU = 22.59\n",
            "\n"
          ]
        }
      ]
    },
    {
      "cell_type": "code",
      "source": [
        "#In this cell I decided to preserve my attempts to create an optimal function for calculating the scores avross several sentences\n",
        "\n",
        "# First draft\n",
        "\n",
        "#for translation in en_be_results.values():\n",
        "#  for true_translation in be_en_sentences:\n",
        "#    bleu_score = compute_bleu_score(translation, true_translation)\n",
        "#    google_bleu_score = compute_google_bleu_score(translation, true_translation)\n",
        "#    sacrebleu_score = compute_sacrebleu_score(translation, true_translation)\n",
        "#    print(f\"en-be Sentence Set Scores (Model 1):\\nBLEU = {bleu_score},\\nGoogle BLEU = {google_bleu_score},\\nSacreBLEU = {sacrebleu_score}\\n\")\n",
        "\n",
        "#Second Draft\n",
        "\n",
        "#bleu_score1 = compute_bleu_score(list(en_be_results.values())[0], be_en_sentences[0])\n",
        "#google_bleu_score1 = compute_google_bleu_score(list(en_be_results.values())[0], be_en_sentences[0])\n",
        "#sacrebleu_score1 = compute_sacrebleu_score(list(en_be_results.values())[0], be_en_sentences[0])\n",
        "#print(f\"en-be Sentence Set Scores (Model 1):\\n1st Sentence:\\nBLEU = {bleu_score1},\\nGoogle BLEU = {google_bleu_score1},\\nSacreBLEU = {sacrebleu_score1}\\n\")\n",
        "\n",
        "#bleu_score2 = compute_bleu_score(list(en_be_results.values())[1], be_en_sentences[1])\n",
        "#google_bleu_score2 = compute_google_bleu_score(list(en_be_results.values())[0], be_en_sentences[1])\n",
        "#sacrebleu_score2 = compute_sacrebleu_score(list(en_be_results.values())[1], be_en_sentences[1])\n",
        "#print(f\"en-be Sentence Set Scores (Model 1):\\n2nd Sentence:\\nBLEU = {bleu_score2},\\nGoogle BLEU = {google_bleu_score2},\\nSacreBLEU = {sacrebleu_score2}\\n\")\n",
        "\n",
        "#bleu_score3 = compute_bleu_score(list(en_be_results.values())[2], be_en_sentences[2])\n",
        "#google_bleu_score3 = compute_google_bleu_score(list(en_be_results.values())[2], be_en_sentences[2])\n",
        "#sacrebleu_score3 = compute_sacrebleu_score(list(en_be_results.values())[2], be_en_sentences[2])\n",
        "#print(f\"en-be Sentence Set Scores (Model 1):\\n3rd Sentence:\\nBLEU = {bleu_score3},\\nGoogle BLEU = {google_bleu_score3},\\nSacreBLEU = {sacrebleu_score3}\")"
      ],
      "metadata": {
        "id": "8WCE5vEE5TJ6"
      },
      "execution_count": null,
      "outputs": []
    },
    {
      "cell_type": "code",
      "source": [
        "be_en_results = {}\n",
        "\n",
        "for sentence in be_en_sentences:\n",
        "    input_text = f\"<extra_id_2>: {sentence}\"\n",
        "    input_ids = t5_be_tokenizer.encode(input_text, return_tensors=\"pt\")\n",
        "    output_ids = t5_be_model.generate(input_ids, max_length=128, num_beams=4, early_stopping=True)\n",
        "    translated_text = t5_be_tokenizer.decode(output_ids[0], skip_special_tokens=True)\n",
        "    print(f\"Original: {sentence}\")\n",
        "    print(f\"Translated: {translated_text}\\n\")\n",
        "    be_en_results[sentence] = translated_text\n",
        "\n",
        "print(be_en_results, \"\\n\")\n",
        "\n",
        "# Extract translations and reference sentences\n",
        "translated_texts = list(be_en_results.values())\n",
        "reference_texts = list(en_be_sentences)\n",
        "\n",
        "# Iterate through each sentence and compute scores\n",
        "for i, (translated, reference) in enumerate(zip(translated_texts, reference_texts), 1):\n",
        "    bleu_score = compute_bleu_score(translated, reference)\n",
        "    google_bleu_score = compute_google_bleu_score(translated, reference)\n",
        "    sacrebleu_score = compute_sacrebleu_score(translated, reference)\n",
        "\n",
        "    # Print the results\n",
        "    print(f\"en-be Sentence Set Scores (Model 1):\\nSentence {i}:\\n\"\n",
        "          f\"BLEU = {bleu_score}\\n\"\n",
        "          f\"Google BLEU = {google_bleu_score}\\n\"\n",
        "          f\"SacreBLEU = {sacrebleu_score}\\n\")"
      ],
      "metadata": {
        "colab": {
          "base_uri": "https://localhost:8080/"
        },
        "id": "Hcs93XtrcF-L",
        "outputId": "8f2b3412-1ebf-4518-92ae-f1f9ab922922"
      },
      "execution_count": null,
      "outputs": [
        {
          "output_type": "stream",
          "name": "stdout",
          "text": [
            "Original: Я вучуся праграмаваць.\n",
            "Translated: : I learn to program...\n",
            "\n",
            "Original: Гэта цудоўная мадэль!\n",
            "Translated: : This is a wonderful model!\n",
            "\n",
            "Original: Як надвор'е сёння?\n",
            "Translated: : How is the weather today?\n",
            "\n",
            "{'Я вучуся праграмаваць.': ': I learn to program...', 'Гэта цудоўная мадэль!': ': This is a wonderful model!', \"Як надвор'е сёння?\": ': How is the weather today?'} \n",
            "\n",
            "en-be Sentence Set Scores (Model 1):\n",
            "Sentence 1:\n",
            "BLEU = 0.0\n",
            "Google BLEU = 0.08\n",
            "SacreBLEU = 6.57\n",
            "\n",
            "en-be Sentence Set Scores (Model 1):\n",
            "Sentence 2:\n",
            "BLEU = 0.0\n",
            "Google BLEU = 0.27\n",
            "SacreBLEU = 18.58\n",
            "\n",
            "en-be Sentence Set Scores (Model 1):\n",
            "Sentence 3:\n",
            "BLEU = 0.81\n",
            "Google BLEU = 0.82\n",
            "SacreBLEU = 80.91\n",
            "\n"
          ]
        }
      ]
    },
    {
      "cell_type": "markdown",
      "source": [
        "**Note**: I find it interesting that some of the output sentences also contain different punctuation signs, e.g. in the translation of the first sentences of the Belarusian and English set respecivelly.\n",
        "\n",
        "In regard with the translations, all of the sentences were translated correctly, using the same parts of speech (noun \"programming\" as noun \"прграмаванне\", while verb \"праграмаваць\" as verb \"to program\" (American English)) or synonymes (\"wonderful\" as \"amazing\" and \"дзіўная\" as \"цудоўная\").\n",
        "\n",
        "Regarding the scores, I would not score the translations as a human so low as they are complete and the meaning is transmitted correctly."
      ],
      "metadata": {
        "id": "BWqS8pT9oqy7"
      }
    },
    {
      "cell_type": "markdown",
      "source": [
        "For further multisentece evaluations I will create after each code cell a separate dictionary, whrere I will store all of the scores to visualise them later."
      ],
      "metadata": {
        "id": "PLSi-6YwsRQi"
      }
    },
    {
      "cell_type": "markdown",
      "source": [
        "### 3.   Validation set"
      ],
      "metadata": {
        "id": "XeYpFvHci31e"
      }
    },
    {
      "cell_type": "markdown",
      "source": [
        "*Belarusian to English*"
      ],
      "metadata": {
        "id": "KQfndSc3w81a"
      }
    },
    {
      "cell_type": "code",
      "source": [
        "val_set = small_tokenized_dataset[\"val\"][\"source\"]\n",
        "\n",
        "def translate_text(text, direction=\"<extra_id_2>\"):  # Belarusian → English\n",
        "    input_text = f\"{direction} {text}\"\n",
        "    input_ids = t5_be_tokenizer(input_text, return_tensors=\"pt\").input_ids\n",
        "\n",
        "    # Generate translation\n",
        "    output_ids = t5_be_model.generate(input_ids, max_length=128)\n",
        "    translated_text = t5_be_tokenizer.decode(output_ids[0], skip_special_tokens=True)\n",
        "\n",
        "    return translated_text\n",
        "\n",
        "translated_sentences = []\n",
        "for sentence in val_set:\n",
        "    translated = translate_text(sentence, direction=\"<extra_id_2>\")  # Belarusian → English\n",
        "    translated_sentences.append(translated)\n",
        "\n",
        "\n",
        "for i in range(32):\n",
        "    print(f\"Original: {val_set[i]}\")\n",
        "    print(f\"Translated: {translated_sentences[i]}\\n\")\n",
        "\n",
        "print(len(translated_sentences))"
      ],
      "metadata": {
        "colab": {
          "base_uri": "https://localhost:8080/"
        },
        "id": "kvo8fxP-vlmY",
        "outputId": "0fec739d-4a9f-4cd3-999f-cf496c9c639c"
      },
      "execution_count": null,
      "outputs": [
        {
          "output_type": "stream",
          "name": "stdout",
          "text": [
            "Original: 2A\n",
            "Translated: 2A\n",
            "\n",
            "Original: пакульYou are about to translate the 'For' COMMAND, there are some rules on how to translate it. Please see http: // edu. kde. org/ kturtle/ translator. php to learn how to properly translate it.\n",
            "Translated: so far, you are about to translate the 'For' COMMAND, there are some rules to translate it... Please see http://edu... kde... org/kturtle/translated translator... php to learn how to properly translate it...\n",
            "\n",
            "Original: Канчатак кароткага перапынку\n",
            "Translated: The short break begins\n",
            "\n",
            "Original: City in Siberia Russia\n",
            "Translated: City in Siberia Russia\n",
            "\n",
            "Original: weather condition\n",
            "Translated: weather condition\n",
            "\n",
            "Original: Звычайны фон\n",
            "Translated: Звычайны background\n",
            "\n",
            "Original: weather forecast\n",
            "Translated: weather forecast\n",
            "\n",
            "Original: Рэдагаваць геаграфічныя звесткі...\n",
            "Translated: Resuption geographical information...\n",
            "\n",
            "Original: Паказваць прагляд\n",
            "Translated: Show viewing\n",
            "\n",
            "Original: Вось чаму ён злаваў.\n",
            "Translated: That's why he caught...\n",
            "\n",
            "Original: Капіяваць... @ action\n",
            "Translated: Come to... @ action\n",
            "\n",
            "Original: latvia. kgm\n",
            "Translated: latvia.km\n",
            "\n",
            "Original: % 1 Kb/ s\n",
            "Translated: % 1 Kb/s\n",
            "\n",
            "Original: & Выканаць@ title: menu\n",
            "Translated: & Consciats@ title: menu\n",
            "\n",
            "Original: Настаўленні% 1\n",
            "Translated: Unfortunately % 1\n",
            "\n",
            "Original: Надвор' е\n",
            "Translated: Departure' e\n",
            "\n",
            "Original: Ужыць латку да іншай тэчкі або файлуX- KDE- Submenu\n",
            "Translated: A latk to another leak or a foilX-KDE- Submenu will live\n",
            "\n",
            "Original: Функцыя MODE () вяртае найболей часта сустракаемае значэнне з спісу або дыяпазону.\n",
            "Translated: The function of MODE () returns the most common importance from the list or range...\n",
            "\n",
            "Original: Стылі Kate\n",
            "Translated: Cali Kate\n",
            "\n",
            "Original: Падлучэнне ўжо ўсталявана.\n",
            "Translated: The connection has already been established...\n",
            "\n",
            "Original: Гарызантальны крок сеткі:\n",
            "Translated: The horizontal step of the network:\n",
            "\n",
            "Original: KRadioRipper\n",
            "Translated: KRadioRipper\n",
            "\n",
            "Original: weather condition\n",
            "Translated: weather condition\n",
            "\n",
            "Original: & Заўсёды ўключана\n",
            "Translated: & Always turned on\n",
            "\n",
            "Original: ROMAN( лік)\n",
            "Translated: ROMAN( number)\n",
            "\n",
            "Original: & Ад курсора\n",
            "Translated: & From the course\n",
            "\n",
            "Original: Вольнай фізічнай памяці:\n",
            "Translated: Cloudy physical memory:\n",
            "\n",
            "Original: БелыName\n",
            "Translated: BelName\n",
            "\n",
            "Original: Фільтр экспарту формул KFormula у SVGName\n",
            "Translated: The list of export of KFormula formula in SVGName\n",
            "\n",
            "Original: Пры азначэнні размяшчэння спісу анулявання сертыфікатаў (CRL) існуюць так званыя \"цэнтры распаўсюджвання CRL\" (CRL Distribution Point, DP), якія з' яўляюцца спасылкамі, накіравальнымі на рэальныя адрасы CRL. Будзе скарыстаная першая знойдзеная спасылка DP. Пры ўключэнні гэтага параметру запыты HTTP у цэнтры распаўсюджвання CRL сертыфікатаў пасылацца не будуць.\n",
            "Translated: When determining the location of the list of cancellation of certificates (CRL) there are so-called \"cents of spreading CRL\" (CRL Distribution Point, DP), which are submitted to the CRL CRL following the original CRL  addresses... When the HTTP requests in the CRL distribution center will not be sent to the CRL CRL print center\n",
            "\n",
            "Original: Пераключыцца на экран 3\n",
            "Translated: Change to the 3\n",
            "\n",
            "Original: пт\n",
            "Translated: pt\n",
            "\n",
            "32\n"
          ]
        }
      ]
    },
    {
      "cell_type": "code",
      "source": [
        "model1_result_dict_val_be_en = {}\n",
        "\n",
        "model1_result_dict_val_be_en['bleu_score_list'] = []\n",
        "model1_result_dict_val_be_en['google_bleu_score_list'] = []\n",
        "model1_result_dict_val_be_en['sacrebleu_score_list'] = []\n",
        "\n",
        "# Extract translations and reference sentences\n",
        "translated_texts = translated_sentences\n",
        "reference_texts = val_set = small_tokenized_dataset[\"val\"][\"translation\"]\n",
        "\n",
        "# Iterate through each sentence and compute scores\n",
        "for i, (translated, reference) in enumerate(zip(translated_texts, reference_texts), 1):\n",
        "    bleu_score = compute_bleu_score(translated, reference)\n",
        "    google_bleu_score = compute_google_bleu_score(translated, reference)\n",
        "    sacrebleu_score = compute_sacrebleu_score(translated, reference)\n",
        "\n",
        "    model1_result_dict_val_be_en['bleu_score_list'].append(bleu_score)\n",
        "    model1_result_dict_val_be_en['google_bleu_score_list'].append(google_bleu_score)\n",
        "    model1_result_dict_val_be_en['sacrebleu_score_list'].append(sacrebleu_score)\n",
        "\n",
        "    print(f\"be-en Validation Set Scores (Model 1):\\nSentence {i}:\\n\"\n",
        "          f\"BLEU = {bleu_score}\\n\"\n",
        "          f\"Google BLEU = {google_bleu_score}\\n\"\n",
        "          f\"SacreBLEU = {sacrebleu_score}\\n\")"
      ],
      "metadata": {
        "colab": {
          "base_uri": "https://localhost:8080/"
        },
        "id": "j1VABoEx5qmR",
        "outputId": "9ee12bf1-3d96-412e-ac82-ab2484dab736"
      },
      "execution_count": null,
      "outputs": [
        {
          "output_type": "stream",
          "name": "stdout",
          "text": [
            "be-en Validation Set Scores (Model 1):\n",
            "Sentence 1:\n",
            "BLEU = 0.0\n",
            "Google BLEU = 1.0\n",
            "SacreBLEU = 0.0\n",
            "\n",
            "be-en Validation Set Scores (Model 1):\n",
            "Sentence 2:\n",
            "BLEU = 0.0\n",
            "Google BLEU = 0.0\n",
            "SacreBLEU = 0.0\n",
            "\n",
            "be-en Validation Set Scores (Model 1):\n",
            "Sentence 3:\n",
            "BLEU = 0.0\n",
            "Google BLEU = 0.21\n",
            "SacreBLEU = 24.88\n",
            "\n",
            "be-en Validation Set Scores (Model 1):\n",
            "Sentence 4:\n",
            "BLEU = 0.0\n",
            "Google BLEU = 0.0\n",
            "SacreBLEU = 0.0\n",
            "\n",
            "be-en Validation Set Scores (Model 1):\n",
            "Sentence 5:\n",
            "BLEU = 0.0\n",
            "Google BLEU = 0.0\n",
            "SacreBLEU = 0.0\n",
            "\n",
            "be-en Validation Set Scores (Model 1):\n",
            "Sentence 6:\n",
            "BLEU = 0.0\n",
            "Google BLEU = 0.0\n",
            "SacreBLEU = 0.0\n",
            "\n",
            "be-en Validation Set Scores (Model 1):\n",
            "Sentence 7:\n",
            "BLEU = 0.0\n",
            "Google BLEU = 0.0\n",
            "SacreBLEU = 0.0\n",
            "\n",
            "be-en Validation Set Scores (Model 1):\n",
            "Sentence 8:\n",
            "BLEU = 0.0\n",
            "Google BLEU = 0.33\n",
            "SacreBLEU = 30.21\n",
            "\n",
            "be-en Validation Set Scores (Model 1):\n",
            "Sentence 9:\n",
            "BLEU = 0.0\n",
            "Google BLEU = 0.33\n",
            "SacreBLEU = 0.0\n",
            "\n",
            "be-en Validation Set Scores (Model 1):\n",
            "Sentence 10:\n",
            "BLEU = 0.0\n",
            "Google BLEU = 0.18\n",
            "SacreBLEU = 14.54\n",
            "\n",
            "be-en Validation Set Scores (Model 1):\n",
            "Sentence 11:\n",
            "BLEU = 0.0\n",
            "Google BLEU = 0.27\n",
            "SacreBLEU = 24.45\n",
            "\n",
            "be-en Validation Set Scores (Model 1):\n",
            "Sentence 12:\n",
            "BLEU = 0.0\n",
            "Google BLEU = 0.0\n",
            "SacreBLEU = 0.0\n",
            "\n",
            "be-en Validation Set Scores (Model 1):\n",
            "Sentence 13:\n",
            "BLEU = 0.0\n",
            "Google BLEU = 0.21\n",
            "SacreBLEU = 21.36\n",
            "\n",
            "be-en Validation Set Scores (Model 1):\n",
            "Sentence 14:\n",
            "BLEU = 0.0\n",
            "Google BLEU = 0.06\n",
            "SacreBLEU = 8.12\n",
            "\n",
            "be-en Validation Set Scores (Model 1):\n",
            "Sentence 15:\n",
            "BLEU = 0.0\n",
            "Google BLEU = 0.0\n",
            "SacreBLEU = 0.0\n",
            "\n",
            "be-en Validation Set Scores (Model 1):\n",
            "Sentence 16:\n",
            "BLEU = 0.0\n",
            "Google BLEU = 0.0\n",
            "SacreBLEU = 0.0\n",
            "\n",
            "be-en Validation Set Scores (Model 1):\n",
            "Sentence 17:\n",
            "BLEU = 0.0\n",
            "Google BLEU = 0.08\n",
            "SacreBLEU = 7.5\n",
            "\n",
            "be-en Validation Set Scores (Model 1):\n",
            "Sentence 18:\n",
            "BLEU = 0.0\n",
            "Google BLEU = 0.23\n",
            "SacreBLEU = 14.4\n",
            "\n",
            "be-en Validation Set Scores (Model 1):\n",
            "Sentence 19:\n",
            "BLEU = 0.0\n",
            "Google BLEU = 0.33\n",
            "SacreBLEU = 0.0\n",
            "\n",
            "be-en Validation Set Scores (Model 1):\n",
            "Sentence 20:\n",
            "BLEU = 0.0\n",
            "Google BLEU = 0.13\n",
            "SacreBLEU = 10.55\n",
            "\n",
            "be-en Validation Set Scores (Model 1):\n",
            "Sentence 21:\n",
            "BLEU = 0.0\n",
            "Google BLEU = 0.05\n",
            "SacreBLEU = 6.57\n",
            "\n",
            "be-en Validation Set Scores (Model 1):\n",
            "Sentence 22:\n",
            "BLEU = 0.0\n",
            "Google BLEU = 1.0\n",
            "SacreBLEU = 0.0\n",
            "\n",
            "be-en Validation Set Scores (Model 1):\n",
            "Sentence 23:\n",
            "BLEU = 0.0\n",
            "Google BLEU = 0.0\n",
            "SacreBLEU = 0.0\n",
            "\n",
            "be-en Validation Set Scores (Model 1):\n",
            "Sentence 24:\n",
            "BLEU = 0.0\n",
            "Google BLEU = 0.3\n",
            "SacreBLEU = 31.95\n",
            "\n",
            "be-en Validation Set Scores (Model 1):\n",
            "Sentence 25:\n",
            "BLEU = 0.0\n",
            "Google BLEU = 0.4\n",
            "SacreBLEU = 35.36\n",
            "\n",
            "be-en Validation Set Scores (Model 1):\n",
            "Sentence 26:\n",
            "BLEU = 0.0\n",
            "Google BLEU = 0.0\n",
            "SacreBLEU = 0.0\n",
            "\n",
            "be-en Validation Set Scores (Model 1):\n",
            "Sentence 27:\n",
            "BLEU = 0.0\n",
            "Google BLEU = 0.1\n",
            "SacreBLEU = 15.97\n",
            "\n",
            "be-en Validation Set Scores (Model 1):\n",
            "Sentence 28:\n",
            "BLEU = 0.0\n",
            "Google BLEU = 0.0\n",
            "SacreBLEU = 0.0\n",
            "\n",
            "be-en Validation Set Scores (Model 1):\n",
            "Sentence 29:\n",
            "BLEU = 0.0\n",
            "Google BLEU = 0.03\n",
            "SacreBLEU = 4.77\n",
            "\n",
            "be-en Validation Set Scores (Model 1):\n",
            "Sentence 30:\n",
            "BLEU = 0.0\n",
            "Google BLEU = 0.15\n",
            "SacreBLEU = 6.88\n",
            "\n",
            "be-en Validation Set Scores (Model 1):\n",
            "Sentence 31:\n",
            "BLEU = 0.0\n",
            "Google BLEU = 0.1\n",
            "SacreBLEU = 15.97\n",
            "\n",
            "be-en Validation Set Scores (Model 1):\n",
            "Sentence 32:\n",
            "BLEU = 0.0\n",
            "Google BLEU = 0.0\n",
            "SacreBLEU = 0.0\n",
            "\n"
          ]
        }
      ]
    },
    {
      "cell_type": "code",
      "source": [
        "# To check if the function works well\n",
        "print(model1_result_dict_val_be_en['bleu_score_list'])\n",
        "print(model1_result_dict_val_be_en['google_bleu_score_list'])\n",
        "print(model1_result_dict_val_be_en['sacrebleu_score_list'])\n",
        "\n",
        "print(len(model1_result_dict_val_be_en['bleu_score_list']))\n",
        "print(len(model1_result_dict_val_be_en['google_bleu_score_list']))\n",
        "print(len(model1_result_dict_val_be_en['sacrebleu_score_list']))"
      ],
      "metadata": {
        "colab": {
          "base_uri": "https://localhost:8080/"
        },
        "id": "hyCBMaeDvkAs",
        "outputId": "5189d383-e993-41ef-bc22-cb1945832293"
      },
      "execution_count": null,
      "outputs": [
        {
          "output_type": "stream",
          "name": "stdout",
          "text": [
            "[0.0, 0.0, 0.0, 0.0, 0.0, 0.0, 0.0, 0.0, 0.0, 0.0, 0.0, 0.0, 0.0, 0.0, 0.0, 0.0, 0.0, 0.0, 0.0, 0.0, 0.0, 0.0, 0.0, 0.0, 0.0, 0.0, 0.0, 0.0, 0.0, 0.0, 0.0, 0.0]\n",
            "[1.0, 0.0, 0.21, 0.0, 0.0, 0.0, 0.0, 0.33, 0.33, 0.18, 0.27, 0.0, 0.21, 0.06, 0.0, 0.0, 0.08, 0.23, 0.33, 0.13, 0.05, 1.0, 0.0, 0.3, 0.4, 0.0, 0.1, 0.0, 0.03, 0.15, 0.1, 0.0]\n",
            "[0.0, 0.0, 24.88, 0.0, 0.0, 0.0, 0.0, 30.21, 0.0, 14.54, 24.45, 0.0, 21.36, 8.12, 0.0, 0.0, 7.5, 14.4, 0.0, 10.55, 6.57, 0.0, 0.0, 31.95, 35.36, 0.0, 15.97, 0.0, 4.77, 6.88, 15.97, 0.0]\n",
            "32\n",
            "32\n",
            "32\n"
          ]
        }
      ]
    },
    {
      "cell_type": "markdown",
      "source": [
        "*English to Belarusian*"
      ],
      "metadata": {
        "id": "CLzi1Gt6wwHE"
      }
    },
    {
      "cell_type": "code",
      "source": [
        "val_set = small_tokenized_dataset[\"val\"][\"translation\"]\n",
        "\n",
        "def translate_text(text, direction=\"<extra_id_6>\"):  # English → Belarusian\n",
        "    input_text = f\"{direction} {text}\"\n",
        "    input_ids = t5_be_tokenizer(input_text, return_tensors=\"pt\").input_ids\n",
        "\n",
        "    # Generate translation\n",
        "    output_ids = t5_be_model.generate(input_ids, max_length=128)\n",
        "    translated_text = t5_be_tokenizer.decode(output_ids[0], skip_special_tokens=True)\n",
        "\n",
        "    return translated_text\n",
        "\n",
        "translated_sentences = []\n",
        "for sentence in val_set:\n",
        "    translated = translate_text(sentence, direction=\"<extra_id_6>\")  #  English → Belarusian\n",
        "    translated_sentences.append(translated)\n",
        "\n",
        "# Print some results\n",
        "for i in range(32):\n",
        "    print(f\"Original: {val_set[i]}\")\n",
        "    print(f\"Translated: {translated_sentences[i]}\\n\")"
      ],
      "metadata": {
        "colab": {
          "base_uri": "https://localhost:8080/"
        },
        "id": "Q1mNz2XHwPzB",
        "outputId": "b522e361-0ff6-4f57-d2e2-af196a1c66d9"
      },
      "execution_count": null,
      "outputs": [
        {
          "output_type": "stream",
          "name": "stdout",
          "text": [
            "Original: 2A\n",
            "Translated: 2A\n",
            "\n",
            "Original: while\n",
            "Translated: пакуль\n",
            "\n",
            "Original: End of a short break\n",
            "Translated: Адварот кароткага перапынку\n",
            "\n",
            "Original: Irkutsk\n",
            "Translated: Іркуцк\n",
            "\n",
            "Original: Mixed Rain and Drizzle\n",
            "Translated: Змешваўся Дождж і Друз\n",
            "\n",
            "Original: Link Text on Normal Background\n",
            "Translated: Link Text на нармальных азвяртах\n",
            "\n",
            "Original: Chance Snow/ Sleet\n",
            "Translated: Чанс Сноў/ Слеет\n",
            "\n",
            "Original: Select Categories...\n",
            "Translated: Адбіраць Катаеды...\n",
            "\n",
            "Original: Show Preview\n",
            "Translated: Пакажыце Прэв’ю:\n",
            "\n",
            "Original: That is why he got angry.\n",
            "Translated: Таму ён злыўся...\n",
            "\n",
            "Original: & Copy...\n",
            "Translated: & Copy...\n",
            "\n",
            "Original: Saldus\n",
            "Translated: Сальтус\n",
            "\n",
            "Original: %1 kbps\n",
            "Translated: %1 kbps\n",
            "\n",
            "Original: & Run\n",
            "Translated: & Run\n",
            "\n",
            "Original: Photos Settings\n",
            "Translated: Фота Снайкі\n",
            "\n",
            "Original: KWeather\n",
            "Translated: КВэатэр\n",
            "\n",
            "Original: Apply the patch to another folder/ file\n",
            "Translated: Звярніце патч на іншы folder/файл\n",
            "\n",
            "Original: The MODE() function returns the most frequently occurring value in the data set.\n",
            "Translated: Функцыя MODE() вяртае найболей часта ў цяперашнім наборы дадзеных самыя выгадныя кошт\n",
            "\n",
            "Original: Kate Styles\n",
            "Translated: Кейт Styles\n",
            "\n",
            "Original: Connection already established.\n",
            "Translated: Падключайцеся ужо «Кіно-Мамі»\n",
            "\n",
            "Original: Autosave every (min):\n",
            "Translated: Аўтасіву кожны (мін):\n",
            "\n",
            "Original: KRadioRipper\n",
            "Translated: KRadioRipper\n",
            "\n",
            "Original: steady\n",
            "Translated: устойлівая\n",
            "\n",
            "Original: & Always On\n",
            "Translated: & Заўсёды На\n",
            "\n",
            "Original: ROMAN(Number)\n",
            "Translated: ROMAN(Number)\n",
            "\n",
            "Original: Print %1\n",
            "Translated: Пін %1\n",
            "\n",
            "Original: Binding Name:\n",
            "Translated: Бінтынгавая назва:\n",
            "\n",
            "Original: White NICU\n",
            "Translated: Белы NICU\n",
            "\n",
            "Original: KFormula SVG Export Filter\n",
            "Translated: КФормула SVG Export Filter\n",
            "\n",
            "Original: When looking for the location of a CRL, the to-be-tested certificate usually contains what are known as \"CRL Distribution Point\" (DP) entries, which are URLs describing the way to access the URL. The first found DP entry is used. With this option all entries using the HTTP scheme are ignored when looking for a suitable DP.\n",
            "Translated: Пры пошуку размяшчэння CRL папярэдне ўтрымліваецца справаздача, якое вядома як «CRL датчык пракату» (ДП) інспекты, якія падаюць на здачы шляху доступу ў URL. Першыя знойдзеныя ПРП ДП выкарыстоўваецца... З такім варыянтам усе запісы з дапамогай схемы HTTP ігнаруюць пры пошуках прыдатнага ДП... Гэты варыянт\n",
            "\n",
            "Original: Switch to Previous Desktop\n",
            "Translated: Switch на Previous Desktop\n",
            "\n",
            "Original: Distance:\n",
            "Translated: Світанне:\n",
            "\n"
          ]
        }
      ]
    },
    {
      "cell_type": "code",
      "source": [
        "model1_result_dict_val_en_be = {}\n",
        "\n",
        "model1_result_dict_val_en_be['bleu_score_list'] = []\n",
        "model1_result_dict_val_en_be['google_bleu_score_list'] = []\n",
        "model1_result_dict_val_en_be['sacrebleu_score_list'] = []\n",
        "\n",
        "# Extract translations and reference sentences\n",
        "translated_texts = translated_sentences\n",
        "reference_texts = val_set = small_tokenized_dataset[\"val\"][\"source\"]\n",
        "\n",
        "# Iterate through each sentence and compute scores\n",
        "for i, (translated, reference) in enumerate(zip(translated_texts, reference_texts), 1):\n",
        "    bleu_score = compute_bleu_score(translated, reference)\n",
        "    google_bleu_score = compute_google_bleu_score(translated, reference)\n",
        "    sacrebleu_score = compute_sacrebleu_score(translated, reference)\n",
        "\n",
        "    model1_result_dict_val_en_be['bleu_score_list'].append(bleu_score)\n",
        "    model1_result_dict_val_en_be['google_bleu_score_list'].append(google_bleu_score)\n",
        "    model1_result_dict_val_en_be['sacrebleu_score_list'].append(sacrebleu_score)\n",
        "\n",
        "    print(f\"en-be Validation Set Scores (Model 1):\\nSentence {i}:\\n\"\n",
        "          f\"BLEU = {bleu_score}\\n\"\n",
        "          f\"Google BLEU = {google_bleu_score}\\n\"\n",
        "          f\"SacreBLEU = {sacrebleu_score}\\n\")"
      ],
      "metadata": {
        "colab": {
          "base_uri": "https://localhost:8080/"
        },
        "id": "b13V_YGm5pA4",
        "outputId": "b63ca1c8-b20e-4a1c-c99e-0c0ebce3f1c6"
      },
      "execution_count": null,
      "outputs": [
        {
          "output_type": "stream",
          "name": "stdout",
          "text": [
            "en-be Validation Set Scores (Model 1):\n",
            "Sentence 1:\n",
            "BLEU = 0.0\n",
            "Google BLEU = 1.0\n",
            "SacreBLEU = 0.0\n",
            "\n",
            "en-be Validation Set Scores (Model 1):\n",
            "Sentence 2:\n",
            "BLEU = 0.0\n",
            "Google BLEU = 0.0\n",
            "SacreBLEU = 0.0\n",
            "\n",
            "en-be Validation Set Scores (Model 1):\n",
            "Sentence 3:\n",
            "BLEU = 0.0\n",
            "Google BLEU = 0.5\n",
            "SacreBLEU = 0.0\n",
            "\n",
            "en-be Validation Set Scores (Model 1):\n",
            "Sentence 4:\n",
            "BLEU = 0.0\n",
            "Google BLEU = 0.0\n",
            "SacreBLEU = 0.0\n",
            "\n",
            "en-be Validation Set Scores (Model 1):\n",
            "Sentence 5:\n",
            "BLEU = 0.0\n",
            "Google BLEU = 0.0\n",
            "SacreBLEU = 0.0\n",
            "\n",
            "en-be Validation Set Scores (Model 1):\n",
            "Sentence 6:\n",
            "BLEU = 0.0\n",
            "Google BLEU = 0.0\n",
            "SacreBLEU = 0.0\n",
            "\n",
            "en-be Validation Set Scores (Model 1):\n",
            "Sentence 7:\n",
            "BLEU = 0.0\n",
            "Google BLEU = 0.0\n",
            "SacreBLEU = 0.0\n",
            "\n",
            "en-be Validation Set Scores (Model 1):\n",
            "Sentence 8:\n",
            "BLEU = 0.0\n",
            "Google BLEU = 0.33\n",
            "SacreBLEU = 32.56\n",
            "\n",
            "en-be Validation Set Scores (Model 1):\n",
            "Sentence 9:\n",
            "BLEU = 0.0\n",
            "Google BLEU = 0.0\n",
            "SacreBLEU = 0.0\n",
            "\n",
            "en-be Validation Set Scores (Model 1):\n",
            "Sentence 10:\n",
            "BLEU = 0.0\n",
            "Google BLEU = 0.11\n",
            "SacreBLEU = 9.65\n",
            "\n",
            "en-be Validation Set Scores (Model 1):\n",
            "Sentence 11:\n",
            "BLEU = 0.0\n",
            "Google BLEU = 0.33\n",
            "SacreBLEU = 32.56\n",
            "\n",
            "en-be Validation Set Scores (Model 1):\n",
            "Sentence 12:\n",
            "BLEU = 0.0\n",
            "Google BLEU = 0.0\n",
            "SacreBLEU = 0.0\n",
            "\n",
            "en-be Validation Set Scores (Model 1):\n",
            "Sentence 13:\n",
            "BLEU = 0.0\n",
            "Google BLEU = 0.21\n",
            "SacreBLEU = 0.0\n",
            "\n",
            "en-be Validation Set Scores (Model 1):\n",
            "Sentence 14:\n",
            "BLEU = 0.0\n",
            "Google BLEU = 0.06\n",
            "SacreBLEU = 0.0\n",
            "\n",
            "en-be Validation Set Scores (Model 1):\n",
            "Sentence 15:\n",
            "BLEU = 0.0\n",
            "Google BLEU = 0.0\n",
            "SacreBLEU = 0.0\n",
            "\n",
            "en-be Validation Set Scores (Model 1):\n",
            "Sentence 16:\n",
            "BLEU = 0.0\n",
            "Google BLEU = 0.0\n",
            "SacreBLEU = 0.0\n",
            "\n",
            "en-be Validation Set Scores (Model 1):\n",
            "Sentence 17:\n",
            "BLEU = 0.0\n",
            "Google BLEU = 0.0\n",
            "SacreBLEU = 0.0\n",
            "\n",
            "en-be Validation Set Scores (Model 1):\n",
            "Sentence 18:\n",
            "BLEU = 0.43\n",
            "Google BLEU = 0.44\n",
            "SacreBLEU = 43.24\n",
            "\n",
            "en-be Validation Set Scores (Model 1):\n",
            "Sentence 19:\n",
            "BLEU = 0.0\n",
            "Google BLEU = 0.0\n",
            "SacreBLEU = 0.0\n",
            "\n",
            "en-be Validation Set Scores (Model 1):\n",
            "Sentence 20:\n",
            "BLEU = 0.0\n",
            "Google BLEU = 0.0\n",
            "SacreBLEU = 0.0\n",
            "\n",
            "en-be Validation Set Scores (Model 1):\n",
            "Sentence 21:\n",
            "BLEU = 0.0\n",
            "Google BLEU = 0.06\n",
            "SacreBLEU = 8.12\n",
            "\n",
            "en-be Validation Set Scores (Model 1):\n",
            "Sentence 22:\n",
            "BLEU = 0.0\n",
            "Google BLEU = 1.0\n",
            "SacreBLEU = 0.0\n",
            "\n",
            "en-be Validation Set Scores (Model 1):\n",
            "Sentence 23:\n",
            "BLEU = 0.0\n",
            "Google BLEU = 0.0\n",
            "SacreBLEU = 0.0\n",
            "\n",
            "en-be Validation Set Scores (Model 1):\n",
            "Sentence 24:\n",
            "BLEU = 0.0\n",
            "Google BLEU = 0.5\n",
            "SacreBLEU = 0.0\n",
            "\n",
            "en-be Validation Set Scores (Model 1):\n",
            "Sentence 25:\n",
            "BLEU = 0.0\n",
            "Google BLEU = 0.4\n",
            "SacreBLEU = 35.36\n",
            "\n",
            "en-be Validation Set Scores (Model 1):\n",
            "Sentence 26:\n",
            "BLEU = 0.0\n",
            "Google BLEU = 0.0\n",
            "SacreBLEU = 0.0\n",
            "\n",
            "en-be Validation Set Scores (Model 1):\n",
            "Sentence 27:\n",
            "BLEU = 0.0\n",
            "Google BLEU = 0.1\n",
            "SacreBLEU = 0.0\n",
            "\n",
            "en-be Validation Set Scores (Model 1):\n",
            "Sentence 28:\n",
            "BLEU = 0.0\n",
            "Google BLEU = 0.0\n",
            "SacreBLEU = 0.0\n",
            "\n",
            "en-be Validation Set Scores (Model 1):\n",
            "Sentence 29:\n",
            "BLEU = 0.0\n",
            "Google BLEU = 0.0\n",
            "SacreBLEU = 0.0\n",
            "\n",
            "en-be Validation Set Scores (Model 1):\n",
            "Sentence 30:\n",
            "BLEU = 0.0\n",
            "Google BLEU = 0.06\n",
            "SacreBLEU = 2.0\n",
            "\n",
            "en-be Validation Set Scores (Model 1):\n",
            "Sentence 31:\n",
            "BLEU = 0.0\n",
            "Google BLEU = 0.1\n",
            "SacreBLEU = 15.97\n",
            "\n",
            "en-be Validation Set Scores (Model 1):\n",
            "Sentence 32:\n",
            "BLEU = 0.0\n",
            "Google BLEU = 0.0\n",
            "SacreBLEU = 0.0\n",
            "\n"
          ]
        }
      ]
    },
    {
      "cell_type": "code",
      "source": [
        "# To check if the function works well\n",
        "print(model1_result_dict_val_en_be['bleu_score_list'])\n",
        "print(model1_result_dict_val_en_be['google_bleu_score_list'])\n",
        "print(model1_result_dict_val_en_be['sacrebleu_score_list'])\n",
        "\n",
        "print(len(model1_result_dict_val_en_be['bleu_score_list']))\n",
        "print(len(model1_result_dict_val_en_be['google_bleu_score_list']))\n",
        "print(len(model1_result_dict_val_en_be['sacrebleu_score_list']))"
      ],
      "metadata": {
        "colab": {
          "base_uri": "https://localhost:8080/"
        },
        "id": "ll_VED08v_T0",
        "outputId": "522ea217-cd11-4699-ba87-64477dc27f41"
      },
      "execution_count": null,
      "outputs": [
        {
          "output_type": "stream",
          "name": "stdout",
          "text": [
            "[0.0, 0.0, 0.0, 0.0, 0.0, 0.0, 0.0, 0.0, 0.0, 0.0, 0.0, 0.0, 0.0, 0.0, 0.0, 0.0, 0.0, 0.43, 0.0, 0.0, 0.0, 0.0, 0.0, 0.0, 0.0, 0.0, 0.0, 0.0, 0.0, 0.0, 0.0, 0.0]\n",
            "[1.0, 0.0, 0.5, 0.0, 0.0, 0.0, 0.0, 0.33, 0.0, 0.11, 0.33, 0.0, 0.21, 0.06, 0.0, 0.0, 0.0, 0.44, 0.0, 0.0, 0.06, 1.0, 0.0, 0.5, 0.4, 0.0, 0.1, 0.0, 0.0, 0.06, 0.1, 0.0]\n",
            "[0.0, 0.0, 0.0, 0.0, 0.0, 0.0, 0.0, 32.56, 0.0, 9.65, 32.56, 0.0, 0.0, 0.0, 0.0, 0.0, 0.0, 43.24, 0.0, 0.0, 8.12, 0.0, 0.0, 0.0, 35.36, 0.0, 0.0, 0.0, 0.0, 2.0, 15.97, 0.0]\n",
            "32\n",
            "32\n",
            "32\n"
          ]
        }
      ]
    },
    {
      "cell_type": "markdown",
      "source": [
        "**Note**: I think, the score are so low, especially BLEU score, because the reference sentences of the validation set are much longer than the segments used for tranlations. Additionally, the daataset is not absolutely \"clean\" as some source segments in Belarusian contain English words or are entirely in English.\n",
        "\n",
        "Nevertheless, the parts or separate words from them, e.g. \"пакуль\" (\"while\", \"until\") were translated in most cases correctly omitting incorrect coresspondences in the dataset."
      ],
      "metadata": {
        "id": "xibsi_Du8cam"
      }
    },
    {
      "cell_type": "markdown",
      "source": [
        "### Visualisation of Metrics Outputs"
      ],
      "metadata": {
        "id": "Otwi_CaJloLc"
      }
    },
    {
      "cell_type": "code",
      "source": [
        "import matplotlib.pyplot as plt\n",
        "import numpy as np\n",
        "import pandas as pd"
      ],
      "metadata": {
        "id": "8rLHtUwVvFyp"
      },
      "execution_count": null,
      "outputs": []
    },
    {
      "cell_type": "code",
      "source": [
        "sentences = [f\"Sentence {i+1}\" for i in range(32)]\n",
        "\n",
        "bleu_scores = model1_result_dict_val_en_be['bleu_score_list']\n",
        "google_bleu_scores = model1_result_dict_val_en_be['google_bleu_score_list']\n",
        "\n",
        "# Create a DataFrame to hold the scores\n",
        "df = pd.DataFrame({\n",
        "    'Sentence': sentences,\n",
        "    'BLEU': bleu_scores,\n",
        "    'Google BLEU': google_bleu_scores,\n",
        "})\n",
        "\n",
        "# Plotting\n",
        "plt.figure(figsize=(10, 6))\n",
        "\n",
        "# Plot each score type\n",
        "plt.plot(df['Sentence'], df['BLEU'], label='BLEU', marker='o', linestyle='-', color='b')\n",
        "plt.plot(df['Sentence'], df['Google BLEU'], label='Google BLEU', marker='o', linestyle='-', color='g')\n",
        "\n",
        "# Adding labels and title\n",
        "plt.xlabel('Sentence')\n",
        "plt.ylabel('Score')\n",
        "plt.title('Comparison of BLEU and Google BLEU Scores Across Sentences in a the Validation Set (en - be)')\n",
        "\n",
        "# Rotate x-axis labels for better readability\n",
        "plt.xticks(rotation=45)\n",
        "\n",
        "# Add a legend\n",
        "plt.legend()\n",
        "\n",
        "# Show plot\n",
        "plt.tight_layout()\n",
        "plt.show()"
      ],
      "metadata": {
        "colab": {
          "base_uri": "https://localhost:8080/",
          "height": 607
        },
        "id": "9u0IZpTUlnzc",
        "outputId": "1fe79d17-de7f-4e72-a23b-c73ab9739a82"
      },
      "execution_count": null,
      "outputs": [
        {
          "output_type": "display_data",
          "data": {
            "text/plain": [
              "<Figure size 1000x600 with 1 Axes>"
            ],
            "image/png": "[encoded data removed]"
          },
          "metadata": {}
        }
      ]
    },
    {
      "cell_type": "code",
      "source": [
        "sentences = [f\"Sentence {i+1}\" for i in range(32)]\n",
        "\n",
        "bleu_scores = model1_result_dict_val_be_en['bleu_score_list']\n",
        "google_bleu_scores = model1_result_dict_val_be_en['google_bleu_score_list']\n",
        "\n",
        "# Create a DataFrame to hold the scores\n",
        "df = pd.DataFrame({\n",
        "    'Sentence': sentences,\n",
        "    'BLEU': bleu_scores,\n",
        "    'Google BLEU': google_bleu_scores,\n",
        "})\n",
        "\n",
        "# Plotting\n",
        "plt.figure(figsize=(10, 6))\n",
        "\n",
        "# Plot each score type\n",
        "plt.plot(df['Sentence'], df['BLEU'], label='BLEU', marker='o', linestyle='-', color='b')\n",
        "plt.plot(df['Sentence'], df['Google BLEU'], label='Google BLEU', marker='o', linestyle='-', color='g')\n",
        "\n",
        "# Adding labels and title\n",
        "plt.xlabel('Sentence')\n",
        "plt.ylabel('Score')\n",
        "plt.title('Comparison of BLEU and Google BLEU Scores Across Sentences in the Validation Set (be - en)')\n",
        "\n",
        "# Rotate x-axis labels for better readability\n",
        "plt.xticks(rotation=45)\n",
        "\n",
        "# Add a legend\n",
        "plt.legend()\n",
        "\n",
        "# Show plot\n",
        "plt.tight_layout()\n",
        "plt.show()"
      ],
      "metadata": {
        "colab": {
          "base_uri": "https://localhost:8080/",
          "height": 607
        },
        "id": "lUuWViIWuKRh",
        "outputId": "12886750-2a1b-482f-d4ec-a843b93b3f60"
      },
      "execution_count": null,
      "outputs": [
        {
          "output_type": "display_data",
          "data": {
            "text/plain": [
              "<Figure size 1000x600 with 1 Axes>"
            ],
            "image/png": "[encoded data removed]"
          },
          "metadata": {}
        }
      ]
    },
    {
      "cell_type": "code",
      "source": [
        "sentences = [f\"Sentence {i+1}\" for i in range(32)]\n",
        "sacrebleu_scores_en_be = model1_result_dict_val_en_be['sacrebleu_score_list']\n",
        "sacrebleu_scores_be_en = model1_result_dict_val_be_en['sacrebleu_score_list']\n",
        "\n",
        "# Create a DataFrame to hold the scores\n",
        "df = pd.DataFrame({\n",
        "    'Sentence': sentences,\n",
        "    'SacreBLEU (en-be)': sacrebleu_scores_en_be,\n",
        "    'SacreBLEU (be-en)': sacrebleu_scores_be_en,\n",
        "})\n",
        "\n",
        "# Plotting\n",
        "plt.figure(figsize=(10, 6))\n",
        "\n",
        "# Plot each score type\n",
        "plt.plot(df['Sentence'], df['SacreBLEU (en-be)'], label='SacreBLEU (en-be)', marker='o', linestyle='-', color='y')\n",
        "plt.plot(df['Sentence'], df['SacreBLEU (be-en)'], label='SacreBLEU (be-en)', marker='o', linestyle='-', color='r')\n",
        "\n",
        "# Adding labels and title\n",
        "plt.xlabel('Sentence')\n",
        "plt.ylabel('Score')\n",
        "plt.title('Comparison of SacreBLEU Scores Across Sentences in the Validation Sets (en - be, be - en)')\n",
        "\n",
        "# Rotate x-axis labels for better readability\n",
        "plt.xticks(rotation=45)\n",
        "\n",
        "# Add a legend\n",
        "plt.legend()\n",
        "\n",
        "# Show plot\n",
        "plt.tight_layout()\n",
        "plt.show()"
      ],
      "metadata": {
        "colab": {
          "base_uri": "https://localhost:8080/",
          "height": 607
        },
        "id": "EceXeoIXukv5",
        "outputId": "8ca26924-4249-4dbf-c14d-feeebd17187f"
      },
      "execution_count": null,
      "outputs": [
        {
          "output_type": "display_data",
          "data": {
            "text/plain": [
              "<Figure size 1000x600 with 1 Axes>"
            ],
            "image/png": "[encoded data removed]"
          },
          "metadata": {}
        }
      ]
    },
    {
      "cell_type": "markdown",
      "source": [
        "**Note**: ......."
      ],
      "metadata": {
        "id": "2noBZM7XxaT4"
      }
    },
    {
      "cell_type": "markdown",
      "source": [
        "## **Model 2**\n",
        "\n",
        "Unfortunately, thanking to the help of my professor, it has been proved that google mt5 i not able to used in the yero-shot manner as the precious model an, therefore, is not able perform the downstream task without a proper fine-tuning.\n",
        "\n",
        "In this section, I will just show several examples of the model's output of one sentence analysis without fine-tunging, while in the next one I will train further it on the dataset.\n",
        "\n",
        "I have not found any specifications about the specific tokens to use in this model for selection of the language pair and the translation direction, so I am using here a prompt discribing the task before the text to translate.    "
      ],
      "metadata": {
        "id": "iBFEih-TiuWI"
      }
    },
    {
      "cell_type": "code",
      "source": [
        "#One sentence\n",
        "\n",
        "mt5_en_be_sentence = \"Translate from English to Belarusian: Hello, how are you?\"\n",
        "\n",
        "mt5_be_en_sentence = \"Translate from Belarusian to English: Прывітанне, як справы?\""
      ],
      "metadata": {
        "id": "UJoU-DHLkS66"
      },
      "execution_count": null,
      "outputs": []
    },
    {
      "cell_type": "code",
      "source": [
        "# Tokenize input\n",
        "input_ids = mt5_tokenizer(mt5_en_be_sentence, return_tensors=\"pt\").input_ids\n",
        "\n",
        "# Generate translation\n",
        "output_ids = mt5_model.generate(input_ids)\n",
        "translated_text = mt5_tokenizer.decode(output_ids[0], skip_special_tokens=True)\n",
        "\n",
        "# Print result\n",
        "print(\"Translated Text:\", translated_text)"
      ],
      "metadata": {
        "colab": {
          "base_uri": "https://localhost:8080/"
        },
        "id": "ZyIHQcV-bLBF",
        "outputId": "2ea15b31-31b1-4bb8-c985-484842d19561"
      },
      "execution_count": null,
      "outputs": [
        {
          "output_type": "stream",
          "name": "stdout",
          "text": [
            "Translated Text: <extra_id_0>\n"
          ]
        }
      ]
    },
    {
      "cell_type": "code",
      "source": [
        "# Tokenize input\n",
        "input_ids = mt5_tokenizer(mt5_be_en_sentence, return_tensors=\"pt\").input_ids\n",
        "\n",
        "# Generate translation\n",
        "output_ids = mt5_model.generate(input_ids)\n",
        "translated_text = mt5_tokenizer.decode(output_ids[0], skip_special_tokens=True)\n",
        "\n",
        "# Print result\n",
        "print(\"Translated Text:\", translated_text)"
      ],
      "metadata": {
        "id": "j2bhfGuq2Szf",
        "colab": {
          "base_uri": "https://localhost:8080/"
        },
        "outputId": "6462dffa-00e4-473c-cfe5-1572b1ca7dcd"
      },
      "execution_count": null,
      "outputs": [
        {
          "output_type": "stream",
          "name": "stdout",
          "text": [
            "Translated Text: <extra_id_0>\n"
          ]
        }
      ]
    },
    {
      "cell_type": "markdown",
      "source": [
        "**Note**: Unfortunalelly, none of the sentences and sets were translated, but got only <extra_id_O> as output, which should mean that the model is not trained on such tasks, although it was said on the model description page on HuggingFace and it should solve them after fine-tuning. Because of this outnput I did not add any metrics calcualtions.\n",
        "\n",
        "**Source**: https://www.aimodels.fyi/models/huggingFace/mt5-small-google"
      ],
      "metadata": {
        "id": "uU0IqBCBr0u1"
      }
    },
    {
      "cell_type": "markdown",
      "source": [
        "# Fine-tuning Model 2"
      ],
      "metadata": {
        "id": "rIIdT0u4mCKX"
      }
    },
    {
      "cell_type": "code",
      "source": [
        "pip install --upgrade transformers"
      ],
      "metadata": {
        "id": "BdIjQCR78NVt",
        "colab": {
          "base_uri": "https://localhost:8080/"
        },
        "outputId": "ed569b1c-0bda-414c-8044-b0fff07c7bf6"
      },
      "execution_count": null,
      "outputs": [
        {
          "output_type": "stream",
          "name": "stdout",
          "text": [
            "Requirement already satisfied: transformers in /usr/local/lib/python3.11/dist-packages (4.48.1)\n",
            "Requirement already satisfied: filelock in /usr/local/lib/python3.11/dist-packages (from transformers) (3.17.0)\n",
            "Requirement already satisfied: huggingface-hub<1.0,>=0.24.0 in /usr/local/lib/python3.11/dist-packages (from transformers) (0.27.1)\n",
            "Requirement already satisfied: numpy>=1.17 in /usr/local/lib/python3.11/dist-packages (from transformers) (1.26.4)\n",
            "Requirement already satisfied: packaging>=20.0 in /usr/local/lib/python3.11/dist-packages (from transformers) (24.2)\n",
            "Requirement already satisfied: pyyaml>=5.1 in /usr/local/lib/python3.11/dist-packages (from transformers) (6.0.2)\n",
            "Requirement already satisfied: regex!=2019.12.17 in /usr/local/lib/python3.11/dist-packages (from transformers) (2024.11.6)\n",
            "Requirement already satisfied: requests in /usr/local/lib/python3.11/dist-packages (from transformers) (2.32.3)\n",
            "Requirement already satisfied: tokenizers<0.22,>=0.21 in /usr/local/lib/python3.11/dist-packages (from transformers) (0.21.0)\n",
            "Requirement already satisfied: safetensors>=0.4.1 in /usr/local/lib/python3.11/dist-packages (from transformers) (0.5.2)\n",
            "Requirement already satisfied: tqdm>=4.27 in /usr/local/lib/python3.11/dist-packages (from transformers) (4.67.1)\n",
            "Requirement already satisfied: fsspec>=2023.5.0 in /usr/local/lib/python3.11/dist-packages (from huggingface-hub<1.0,>=0.24.0->transformers) (2024.9.0)\n",
            "Requirement already satisfied: typing-extensions>=3.7.4.3 in /usr/local/lib/python3.11/dist-packages (from huggingface-hub<1.0,>=0.24.0->transformers) (4.12.2)\n",
            "Requirement already satisfied: charset-normalizer<4,>=2 in /usr/local/lib/python3.11/dist-packages (from requests->transformers) (3.4.1)\n",
            "Requirement already satisfied: idna<4,>=2.5 in /usr/local/lib/python3.11/dist-packages (from requests->transformers) (3.10)\n",
            "Requirement already satisfied: urllib3<3,>=1.21.1 in /usr/local/lib/python3.11/dist-packages (from requests->transformers) (2.3.0)\n",
            "Requirement already satisfied: certifi>=2017.4.17 in /usr/local/lib/python3.11/dist-packages (from requests->transformers) (2024.12.14)\n"
          ]
        }
      ]
    },
    {
      "cell_type": "code",
      "source": [
        "from datasets import load_dataset\n",
        "\n",
        "ds = load_dataset(\"Helsinki-NLP/opus-100\", \"be-en\")"
      ],
      "metadata": {
        "id": "SZTYMOurRT9R"
      },
      "execution_count": null,
      "outputs": []
    },
    {
      "cell_type": "code",
      "source": [
        "print(ds[\"train\"][:10])"
      ],
      "metadata": {
        "colab": {
          "base_uri": "https://localhost:8080/"
        },
        "id": "HCI7aQIiTVb8",
        "outputId": "8d8fa784-0dfc-4593-9bd9-d66cb17c1831"
      },
      "execution_count": null,
      "outputs": [
        {
          "output_type": "stream",
          "name": "stdout",
          "text": [
            "{'translation': [{'be': '& Дадаць гэтую тэчку ў закладкі', 'en': '& Bookmark This Folder'}, {'be': 'Паказваць калёнкі', 'en': 'Check Mail'}, {'be': 'Пошук усіх файлаў, створаных ці & змененых:', 'en': 'Find all files created or & modified:'}, {'be': 'Konqueror ніколі не зробіць іэкст менш за гэты, змяняючы ўсе астатнія настаўленні', 'en': 'Konqueror will never display text smaller than this size, overriding any other settings.'}, {'be': 'Вялікі дзякуй!', 'en': 'Thank you very much!'}, {'be': '720 × 720 dpi', 'en': '720x720dpi'}, {'be': 'Федэрацыя Мiкранэзіі', 'en': 'Micronesia, Federated States Of'}, {'be': 'Ханс Петэр Бікер', 'en': 'Hans Petter Bieker'}, {'be': 'norway. kgm', 'en': 'Kristiansand'}, {'be': 'CUR( лік)', 'en': 'CUR(x)'}]}\n"
          ]
        }
      ]
    },
    {
      "cell_type": "code",
      "source": [
        "print(ds)"
      ],
      "metadata": {
        "colab": {
          "base_uri": "https://localhost:8080/"
        },
        "id": "Ewob5ToCW72W",
        "outputId": "454d4086-ff68-4254-dcc3-e6485d796c45"
      },
      "execution_count": null,
      "outputs": [
        {
          "output_type": "stream",
          "name": "stdout",
          "text": [
            "DatasetDict({\n",
            "    test: Dataset({\n",
            "        features: ['translation'],\n",
            "        num_rows: 2000\n",
            "    })\n",
            "    train: Dataset({\n",
            "        features: ['translation'],\n",
            "        num_rows: 67312\n",
            "    })\n",
            "    validation: Dataset({\n",
            "        features: ['translation'],\n",
            "        num_rows: 2000\n",
            "    })\n",
            "})\n"
          ]
        }
      ]
    },
    {
      "cell_type": "code",
      "source": [
        "from datasets import DatasetDict\n",
        "\n",
        "small_dataset = DatasetDict(\n",
        "    train = ds['train'].shuffle(seed=24).select(range(2000)),\n",
        "    val = ds['validation'].shuffle(seed=24).select(range(200)),\n",
        "    test = ds['test'].shuffle(seed=24).select(range(200)),\n",
        ")"
      ],
      "metadata": {
        "id": "jH-9GfooRbaF"
      },
      "execution_count": null,
      "outputs": []
    },
    {
      "cell_type": "code",
      "source": [
        "print(small_dataset['train'][:10])"
      ],
      "metadata": {
        "colab": {
          "base_uri": "https://localhost:8080/"
        },
        "id": "E3vjYVxfTl29",
        "outputId": "78fc0612-0065-4689-9f62-ba274f65b3f6"
      },
      "execution_count": null,
      "outputs": [
        {
          "output_type": "stream",
          "name": "stdout",
          "text": [
            "{'translation': [{'be': 'Аўтаматычная адсутнасць', 'en': 'Auto Away'}, {'be': 'Сту', 'en': 'Pas'}, {'be': 'Штогод@ title: group', 'en': 'Yearly'}, {'be': 'Даданне файлаў у праект', 'en': 'Insert Files - Insert new files into the project.'}, {'be': 'Лінейны', 'en': 'Line'}, {'be': '1, 600', 'en': '1.600'}, {'be': 'Апошнія', 'en': 'Last'}, {'be': 'Зрабіць фонавым малюнкамName', 'en': 'Fish Net'}, {'be': 'weather condition', 'en': 'Drizzle Fog/ Mist'}, {'be': 'Пазначыць & тэкст паведамлення', 'en': 'Select Message with Focus'}]}\n"
          ]
        }
      ]
    },
    {
      "cell_type": "code",
      "source": [
        "print(small_dataset)"
      ],
      "metadata": {
        "colab": {
          "base_uri": "https://localhost:8080/"
        },
        "id": "RG32UA_tWzOP",
        "outputId": "59109253-6f81-4c87-d844-85f99e58e02c"
      },
      "execution_count": null,
      "outputs": [
        {
          "output_type": "stream",
          "name": "stdout",
          "text": [
            "DatasetDict({\n",
            "    train: Dataset({\n",
            "        features: ['translation'],\n",
            "        num_rows: 2000\n",
            "    })\n",
            "    val: Dataset({\n",
            "        features: ['translation'],\n",
            "        num_rows: 200\n",
            "    })\n",
            "    test: Dataset({\n",
            "        features: ['translation'],\n",
            "        num_rows: 200\n",
            "    })\n",
            "})\n"
          ]
        }
      ]
    },
    {
      "cell_type": "code",
      "source": [
        "from transformers import AutoTokenizer\n",
        "\n",
        "source_lang = \"be\"\n",
        "target_lang = \"en\"\n",
        "prefix = \"translate Belarusian to English: \"\n",
        "\n",
        "checkpoint = \"google-t5/t5-small\"\n",
        "mt5_tokenizer = AutoTokenizer.from_pretrained(checkpoint)\n",
        "\n",
        "def preprocess_function(examples):\n",
        "    inputs = [prefix + example[source_lang] for example in examples[\"translation\"]]\n",
        "    targets = [example[target_lang] for example in examples[\"translation\"]]\n",
        "    model_inputs = mt5_tokenizer(inputs, text_target=targets, max_length=128, truncation=True)\n",
        "    return model_inputs\n",
        "\n",
        "tokenized = small_dataset.map(preprocess_function, batched=True)"
      ],
      "metadata": {
        "colab": {
          "base_uri": "https://localhost:8080/",
          "height": 209,
          "referenced_widgets": [
            "48b6cb99e28f4ddd880a49d9cc9e1834",
            "1ba4ec5078ff4bbd82c8f947cb758e67",
            "4d4e9458361549f4b999133a617b77b3",
            "7e7cc5a2b0d24d86a9764cd1bf6371b3",
            "2f23cb3f56a741489c613ed46849ce31",
            "e5dfe53004144099b93179e891f21941",
            "1646199451db47ca8c5293ab9b165d6e",
            "275e30abae864792919dd09711e1c445",
            "46e728c013ff4b9ba08e21f238f06e1a",
            "4b1ca427241a43fb93db09b2300ae547",
            "7807379365b24018892f7dcdb4a3f284",
            "879e8cc2310f460f8cd4b6e098e5d7ef",
            "ed3f5e4e05f548ae9354d0bc71d192a0",
            "d5471d2c1268411eb414e2e531331eac",
            "0b19d6ba4b394d5cb13db526d25060a2",
            "59df5668a049471bb249f72a4808bd7e",
            "310ca6581c744499843ca2c19d560ed4",
            "1c846d3f75184fe6bb69dfbdf37f2b10",
            "d677cb721c98480bb795c17e87a65bcb",
            "75ddbd47576147f28cc9b322c4794fec",
            "639c4210f9774dcf9d700bb5f94d5dce",
            "6f2ad7a06abf452cbce6c80a9411c9e0",
            "d8d2ea5ab24c463bae41c983994b13f6",
            "745b61e1f67a4676a84d83d202655674",
            "7a0a88f17a424274b930bf39e010ef6a",
            "a90f5e14b64f402daf9cac79365f4e80",
            "f25df9bed9564e2b8cfe2c00ca8abccf",
            "b726817fa5144fc08ffadb62b8313957",
            "bc1cf43b0f12416b873c816c7eaf62cc",
            "c5d44dbfc2c0456aad0e47c2c21f9740",
            "15fc1d1a7b62405f829e03b69130b31f",
            "b332ee6144ee47e3a3bc022a0d105192",
            "69a8ab603ea542629d65470f263dfcd2",
            "3f6015809e494b3e86e7d6f05602b5a8",
            "3bcedebe2da04930ab726bc52910542f",
            "721891fe027b499abf10ba3e02d9c536",
            "a37492b0350e4fffa9703d62feae85ed",
            "16fbb593cbb14fc4a39fc1b9c7408547",
            "d12d743bb8314b9a875922b57e0f86d7",
            "5cb4cf28b2324ff68edc8aba2a2a5902",
            "8e4412abddcd49b595f53f5ec6aba24c",
            "1933eee57b8c48f5a66a3fc4e3762b1b",
            "50442b5da3824d9fb501efbb705115c4",
            "d1188d36ef1b49ac923829798589ea52",
            "4664fc27f9b84856ac8bc837818628ba",
            "e1f0528eb2d84d7f928a9f197c80bc29",
            "dd67fd4288064b0a91b46936dd7d22f6",
            "bb8b03df459b41018f113a8c4047bcf3",
            "b20fed8c5b014bcc951723554e98a2f7",
            "b91008ce4eb64b369cb8c31c1e0cba1d",
            "e781c5a6614645b4ac8ebb0e43a5e432",
            "962b1a2017bb44b98a65076dbe6b7a7e",
            "546ae14ab39d4d1791e7d672b7c22fb3",
            "d0a7bfa08355406d87162ad62a553a40",
            "15f4c7347ba541c084a004dde41667a6",
            "f8f769b25b22416fb8167bfefe9c7a28",
            "138ca6c4b88b486eb111b9ff75dc71de",
            "6da078e2f9bf4a239e557efc16357f78",
            "f17f2a5cf4ec4d1690753fed5bcb9055",
            "780765c6ddb846ac91ed9208f7712762",
            "6780c7f189c445358ab29f634c6cdd1f",
            "bac9c14dee134f16a8065316263c833a",
            "f4a899c07ec94d97a45dbf1e92850b74",
            "6b59ea690e7c4bffad022c0a5f687898",
            "6bdaa1ad6f1a4c479c920737d53eac0a",
            "c5e12d6b735e4107917ac0ab5eaf2fbb"
          ]
        },
        "id": "h_H7K9HbR2Bg",
        "outputId": "fde861b3-ab87-4ef7-98d2-d48d3b8cc180"
      },
      "execution_count": null,
      "outputs": [
        {
          "output_type": "display_data",
          "data": {
            "text/plain": [
              "tokenizer_config.json:   0%|          | 0.00/2.32k [00:00<?, ?B/s]"
            ],
            "application/vnd.jupyter.widget-view+json": {
              "version_major": 2,
              "version_minor": 0,
              "model_id": "48b6cb99e28f4ddd880a49d9cc9e1834"
            }
          },
          "metadata": {}
        },
        {
          "output_type": "display_data",
          "data": {
            "text/plain": [
              "spiece.model:   0%|          | 0.00/792k [00:00<?, ?B/s]"
            ],
            "application/vnd.jupyter.widget-view+json": {
              "version_major": 2,
              "version_minor": 0,
              "model_id": "879e8cc2310f460f8cd4b6e098e5d7ef"
            }
          },
          "metadata": {}
        },
        {
          "output_type": "display_data",
          "data": {
            "text/plain": [
              "tokenizer.json:   0%|          | 0.00/1.39M [00:00<?, ?B/s]"
            ],
            "application/vnd.jupyter.widget-view+json": {
              "version_major": 2,
              "version_minor": 0,
              "model_id": "d8d2ea5ab24c463bae41c983994b13f6"
            }
          },
          "metadata": {}
        },
        {
          "output_type": "display_data",
          "data": {
            "text/plain": [
              "Map:   0%|          | 0/2000 [00:00<?, ? examples/s]"
            ],
            "application/vnd.jupyter.widget-view+json": {
              "version_major": 2,
              "version_minor": 0,
              "model_id": "3f6015809e494b3e86e7d6f05602b5a8"
            }
          },
          "metadata": {}
        },
        {
          "output_type": "display_data",
          "data": {
            "text/plain": [
              "Map:   0%|          | 0/200 [00:00<?, ? examples/s]"
            ],
            "application/vnd.jupyter.widget-view+json": {
              "version_major": 2,
              "version_minor": 0,
              "model_id": "4664fc27f9b84856ac8bc837818628ba"
            }
          },
          "metadata": {}
        },
        {
          "output_type": "display_data",
          "data": {
            "text/plain": [
              "Map:   0%|          | 0/200 [00:00<?, ? examples/s]"
            ],
            "application/vnd.jupyter.widget-view+json": {
              "version_major": 2,
              "version_minor": 0,
              "model_id": "f8f769b25b22416fb8167bfefe9c7a28"
            }
          },
          "metadata": {}
        }
      ]
    },
    {
      "cell_type": "code",
      "source": [
        "from transformers import DataCollatorForSeq2Seq\n",
        "import evaluate\n",
        "\n",
        "data_collator = DataCollatorForSeq2Seq(tokenizer=mt5_tokenizer, model=checkpoint)\n",
        "metric = evaluate.load(\"sacrebleu\")"
      ],
      "metadata": {
        "id": "g6DDhH3OT-mk"
      },
      "execution_count": null,
      "outputs": []
    },
    {
      "cell_type": "code",
      "source": [
        "import numpy as np\n",
        "\n",
        "def postprocess_text(preds, labels):\n",
        "    preds = [pred.strip() for pred in preds]\n",
        "    labels = [[label.strip()] for label in labels]\n",
        "    return preds, labels\n",
        "\n",
        "def compute_metrics(eval_preds):\n",
        "    preds, labels = eval_preds\n",
        "    if isinstance(preds, tuple):\n",
        "        preds = preds[0]\n",
        "    decoded_preds = mt5_tokenizer.batch_decode(preds, skip_special_tokens=True)\n",
        "    labels = np.where(labels != -100, labels, mt5_tokenizer.pad_token_id)\n",
        "    decoded_labels = mt5_tokenizer.batch_decode(labels, skip_special_tokens=True)\n",
        "    decoded_preds, decoded_labels = postprocess_text(decoded_preds, decoded_labels)\n",
        "    result = metric.compute(predictions=decoded_preds, references=decoded_labels)\n",
        "    result = {\"sacrebleu\": result[\"score\"]}\n",
        "    prediction_lens = [np.count_nonzero(pred != mt5_tokenizer.pad_token_id) for pred in preds]\n",
        "    result[\"gen_len\"] = np.mean(prediction_lens)\n",
        "    result = {k: round(v, 4) for k, v in result.items()}\n",
        "    return result"
      ],
      "metadata": {
        "id": "FeyAddxOUXyC"
      },
      "execution_count": null,
      "outputs": []
    },
    {
      "cell_type": "code",
      "source": [
        "from transformers import AutoModelForSeq2SeqLM, Seq2SeqTrainingArguments, Seq2SeqTrainer\n",
        "\n",
        "model = AutoModelForSeq2SeqLM.from_pretrained(checkpoint)"
      ],
      "metadata": {
        "id": "GvR3q_q8UmUT"
      },
      "execution_count": null,
      "outputs": []
    },
    {
      "cell_type": "code",
      "source": [
        "training_args = Seq2SeqTrainingArguments(\n",
        "    output_dir=\"fine_tuned_mt5_be_en_translation_model\",\n",
        "    eval_strategy=\"epoch\",\n",
        "    save_strategy=\"epoch\",\n",
        "    learning_rate=2e-5,\n",
        "    per_device_train_batch_size=16,\n",
        "    per_device_eval_batch_size=16,\n",
        "    weight_decay=0.01,\n",
        "    #save_total_limit=3,\n",
        "    num_train_epochs=3,\n",
        "    predict_with_generate=True,\n",
        "    fp16=True, #change to bf16=True for XPU\n",
        "    report_to='none',\n",
        "    seed=224\n",
        ")\n",
        "\n",
        "trainer = Seq2SeqTrainer(\n",
        "    model=model,\n",
        "    args=training_args,\n",
        "    train_dataset=tokenized[\"train\"],\n",
        "    eval_dataset=tokenized[\"val\"],\n",
        "    processing_class=mt5_tokenizer,\n",
        "    data_collator=data_collator,\n",
        "    compute_metrics=compute_metrics,\n",
        ")"
      ],
      "metadata": {
        "id": "wig1CPkJUzCS"
      },
      "execution_count": null,
      "outputs": []
    },
    {
      "cell_type": "code",
      "source": [
        "trainer.train()"
      ],
      "metadata": {
        "colab": {
          "base_uri": "https://localhost:8080/",
          "height": 244
        },
        "id": "PFyHEurNXF7U",
        "outputId": "90a57494-c26d-4f63-a4ec-e08fe2423662"
      },
      "execution_count": null,
      "outputs": [
        {
          "output_type": "stream",
          "name": "stderr",
          "text": [
            "Passing a tuple of `past_key_values` is deprecated and will be removed in Transformers v4.48.0. You should pass an instance of `EncoderDecoderCache` instead, e.g. `past_key_values=EncoderDecoderCache.from_legacy_cache(past_key_values)`.\n"
          ]
        },
        {
          "output_type": "display_data",
          "data": {
            "text/plain": [
              "<IPython.core.display.HTML object>"
            ],
            "text/html": [
              "\n",
              "    <div>\n",
              "      \n",
              "      <progress value='375' max='375' style='width:300px; height:20px; vertical-align: middle;'></progress>\n",
              "      [375/375 50:22, Epoch 3/3]\n",
              "    </div>\n",
              "    <table border=\"1\" class=\"dataframe\">\n",
              "  <thead>\n",
              " <tr style=\"text-align: left;\">\n",
              "      <th>Epoch</th>\n",
              "      <th>Training Loss</th>\n",
              "      <th>Validation Loss</th>\n",
              "      <th>Sacrebleu</th>\n",
              "      <th>Gen Len</th>\n",
              "    </tr>\n",
              "  </thead>\n",
              "  <tbody>\n",
              "    <tr>\n",
              "      <td>1</td>\n",
              "      <td>No log</td>\n",
              "      <td>4.595567</td>\n",
              "      <td>2.688300</td>\n",
              "      <td>13.185000</td>\n",
              "    </tr>\n",
              "    <tr>\n",
              "      <td>2</td>\n",
              "      <td>No log</td>\n",
              "      <td>4.459908</td>\n",
              "      <td>2.099200</td>\n",
              "      <td>12.860000</td>\n",
              "    </tr>\n",
              "    <tr>\n",
              "      <td>3</td>\n",
              "      <td>No log</td>\n",
              "      <td>4.423943</td>\n",
              "      <td>2.337300</td>\n",
              "      <td>12.885000</td>\n",
              "    </tr>\n",
              "  </tbody>\n",
              "</table><p>"
            ]
          },
          "metadata": {}
        },
        {
          "output_type": "execute_result",
          "data": {
            "text/plain": [
              "TrainOutput(global_step=375, training_loss=4.68573046875, metrics={'train_runtime': 3029.3361, 'train_samples_per_second': 1.981, 'train_steps_per_second': 0.124, 'total_flos': 120809475538944.0, 'train_loss': 4.68573046875, 'epoch': 3.0})"
            ]
          },
          "metadata": {},
          "execution_count": 115
        }
      ]
    },
    {
      "cell_type": "code",
      "source": [
        "results = trainer.predict(small_tokenized_dataset['val'])\n",
        "\n",
        "print(results)"
      ],
      "metadata": {
        "id": "zR2ylliR8ePR"
      },
      "execution_count": null,
      "outputs": []
    },
    {
      "cell_type": "code",
      "source": [
        "# Complete the code here to load one of the checkpoints for the fine-tuned model\n",
        "fine_tuned_mt5_model = AutoModelSecForSeq.from_pretrained(\"/content/drive/MyDrive/Colab Notebooks/sample_cl_trainer/checkpoint-40\")\n",
        "\n",
        "model_inputs = mt5_tokenizer(small_tokenized_dataset['val']['text'], padding=True, truncation=True, return_tensors='pt')\n",
        "outputs = fine_tuned_mt5_model(**model_inputs, output_hidden_states=True)"
      ],
      "metadata": {
        "id": "Y-RiXkAe10s-"
      },
      "execution_count": null,
      "outputs": []
    },
    {
      "cell_type": "markdown",
      "source": [
        "another try"
      ],
      "metadata": {
        "id": "q6qu0v2-JBUk"
      }
    },
    {
      "cell_type": "code",
      "source": [
        "from transformers import DataCollatorForSeq2Seq\n",
        "import evaluate\n",
        "\n",
        "data_collator = DataCollatorForSeq2Seq(tokenizer=mt5_tokenizer, model=checkpoint)\n",
        "bleu = evaluate.load(\"bleu\")\n",
        "google_bleu = evaluate.load(\"google_bleu\")\n",
        "sacrebleu = evaluate.load(\"sacrebleu\")"
      ],
      "metadata": {
        "id": "Y0kzr6luJIY7"
      },
      "execution_count": null,
      "outputs": []
    },
    {
      "cell_type": "code",
      "source": [
        "import numpy as np\n",
        "\n",
        "def postprocess_text(preds, labels):\n",
        "    preds = [pred.strip() for pred in preds]\n",
        "    labels = [[label.strip()] for label in labels]\n",
        "    return preds, labels\n",
        "\n",
        "def compute_metrics(eval_preds):\n",
        "    preds, labels = eval_preds\n",
        "    if isinstance(preds, tuple):\n",
        "        preds = preds[0]\n",
        "    decoded_preds = mt5_tokenizer.batch_decode(preds, skip_special_tokens=True)\n",
        "    labels = np.where(labels != -100, labels, mt5_tokenizer.pad_token_id)\n",
        "    decoded_labels = mt5_tokenizer.batch_decode(labels, skip_special_tokens=True)\n",
        "    decoded_preds, decoded_labels = postprocess_text(decoded_preds, decoded_labels)\n",
        "\n",
        "    sacrebleu_result = sacrebleu.compute(predictions=decoded_preds, references=decoded_labels)\n",
        "    bleu_result = bleu.compute(predictions=decoded_preds, references=decoded_labels)\n",
        "    google_bleu_result = google_bleu.compute(predictions=decoded_preds, references=decoded_labels)\n",
        "\n",
        "    prediction_lens = [np.count_nonzero(pred != mt5_tokenizer.pad_token_id) for pred in preds ]\n",
        "\n",
        "    result = {\n",
        "        \"bleu\": bleu_result[\"score\"],\n",
        "        \"sacrebleu\": sacre_result[\"score\"],\n",
        "        \"gleu\": google_bleu[\"score\"],\n",
        "        \"gen_len\": np.mean(prediction_lens),\n",
        "    }\n",
        "\n",
        "    result = {k: round(v, 4) for k, v in result.items()}\n",
        "    return result"
      ],
      "metadata": {
        "id": "ChSDIcHzJLhi"
      },
      "execution_count": null,
      "outputs": []
    },
    {
      "cell_type": "code",
      "source": [
        "from transformers import AutoModelForSeq2SeqLM, Seq2SeqTrainingArguments, Seq2SeqTrainer\n",
        "\n",
        "model = AutoModelForSeq2SeqLM.from_pretrained(checkpoint)"
      ],
      "metadata": {
        "id": "hEn1ioRsJLhj"
      },
      "execution_count": null,
      "outputs": []
    },
    {
      "cell_type": "code",
      "source": [
        "training_args = Seq2SeqTrainingArguments(\n",
        "    output_dir=\"fine_tuned_mt5_be_en_translation_model\",\n",
        "    eval_strategy=\"epoch\",\n",
        "    save_strategy=\"epoch\",\n",
        "    learning_rate=2e-5,\n",
        "    per_device_train_batch_size=16,\n",
        "    per_device_eval_batch_size=16,\n",
        "    weight_decay=0.01,\n",
        "    #save_total_limit=3,\n",
        "    num_train_epochs=3,\n",
        "    predict_with_generate=True,\n",
        "    fp16=True, #change to bf16=True for XPU\n",
        "    report_to='none',\n",
        "    seed=224\n",
        ")\n",
        "\n",
        "trainer = Seq2SeqTrainer(\n",
        "    model=model,\n",
        "    args=training_args,\n",
        "    train_dataset=tokenized[\"train\"],\n",
        "    eval_dataset=tokenized[\"val\"],\n",
        "    processing_class=mt5_tokenizer,\n",
        "    data_collator=data_collator,\n",
        "    compute_metrics=compute_metrics,\n",
        ")"
      ],
      "metadata": {
        "id": "UyEivS2EJIZO"
      },
      "execution_count": null,
      "outputs": []
    },
    {
      "cell_type": "code",
      "source": [
        "trainer.train()"
      ],
      "metadata": {
        "id": "BQQAVWr-6QKH",
        "outputId": "0d44c24e-e5ef-4834-9828-37e0d029532c",
        "colab": {
          "base_uri": "https://localhost:8080/",
          "height": 133
        }
      },
      "execution_count": null,
      "outputs": [
        {
          "data": {
            "text/html": [
              "\n",
              "    <div>\n",
              "      \n",
              "      <progress value='55' max='375' style='width:300px; height:20px; vertical-align: middle;'></progress>\n",
              "      [ 55/375 06:03 < 36:36, 0.15 it/s, Epoch 0.43/3]\n",
              "    </div>\n",
              "    <table border=\"1\" class=\"dataframe\">\n",
              "  <thead>\n",
              " <tr style=\"text-align: left;\">\n",
              "      <th>Epoch</th>\n",
              "      <th>Training Loss</th>\n",
              "      <th>Validation Loss</th>\n",
              "    </tr>\n",
              "  </thead>\n",
              "  <tbody>\n",
              "  </tbody>\n",
              "</table><p>"
            ],
            "text/plain": [
              "<IPython.core.display.HTML object>"
            ]
          },
          "metadata": {},
          "output_type": "display_data"
        },
        {
          "output_type": "display_data",
          "data": {
            "text/plain": [
              "<IPython.core.display.HTML object>"
            ],
            "text/html": [
              "\n",
              "    <div>\n",
              "      \n",
              "      <progress value='85' max='375' style='width:300px; height:20px; vertical-align: middle;'></progress>\n",
              "      [ 85/375 09:32 < 33:21, 0.14 it/s, Epoch 0.67/3]\n",
              "    </div>\n",
              "    <table border=\"1\" class=\"dataframe\">\n",
              "  <thead>\n",
              " <tr style=\"text-align: left;\">\n",
              "      <th>Epoch</th>\n",
              "      <th>Training Loss</th>\n",
              "      <th>Validation Loss</th>\n",
              "    </tr>\n",
              "  </thead>\n",
              "  <tbody>\n",
              "  </tbody>\n",
              "</table><p>"
            ]
          },
          "metadata": {}
        }
      ]
    },
    {
      "cell_type": "markdown",
      "source": [
        "# Evaluating Model 2\n",
        "\n",
        "In this section, I an going to evaluate my model on the test set and in the zero/shot manner as I had done so wuth Model 1."
      ],
      "metadata": {
        "id": "XEKlNnu69OO3"
      }
    },
    {
      "cell_type": "markdown",
      "source": [
        "## Evaluating Model 2 after Fine-tuning on Test Set"
      ],
      "metadata": {
        "id": "5nNFo1CP-Dlv"
      }
    },
    {
      "cell_type": "code",
      "source": [
        "model_inputs = tokenizer(\"Jeder, der hat gelacht.\", return_tensors=\"pt\") #labeled as 0\n",
        "outputs = inference_model_de(**model_inputs)\n",
        "prediction = outputs.logits.argmax(dim=-1)\n",
        "print(prediction)\n",
        "print([\"unacceptable\", \"acceptable\"][prediction])"
      ],
      "metadata": {
        "id": "Rk1GZ-6-LRSi"
      },
      "execution_count": null,
      "outputs": []
    },
    {
      "cell_type": "code",
      "source": [
        "import evaluate\n",
        "from transformers import AutoModelForSequenceClassification\n",
        "import torch\n",
        "\n",
        "metric = evaluate.load(\"accuracy\")\n",
        "fine_tuned_model = AutoModelForSequenceClassification.from_pretrained(\"sample_cl_trainer/checkpoint-32\")\n",
        "\n",
        "model_inputs = mt5_tokenizer(small_tokenized_dataset['test']['text'], padding=True, truncation=True, return_tensors='pt')\n",
        "outputs = fine_tuned_model(**model_inputs, output_hidden_states=True)\n",
        "predictions = torch.argmax(outputs.logits, dim=-1)\n",
        "accuracy = metric.compute(predictions=predictions, references=small_tokenized_dataset['test']['label'])\n",
        "print(accuracy)"
      ],
      "metadata": {
        "id": "-v6I6oax9S1D"
      },
      "execution_count": null,
      "outputs": []
    },
    {
      "cell_type": "code",
      "source": [
        "import evaluate\n",
        "import torch\n",
        "from torch.utils.data import DataLoader\n",
        "\n",
        "metric = evaluate.load(\"accuracy\")\n",
        "fine_tuned_model = AutoModelForSequenceClassification.from_pretrained(\"sample_cl_trainer/checkpoint-40\")\n",
        "eval_dataloader = DataLoader(small_tokenized_dataset['test'], batch_size=8)\n",
        "\n",
        "fine_tuned_model.eval()\n",
        "\n",
        "for batch in eval_dataloader:\n",
        "    input = mt5_tokenizer(batch['text'], padding=True, truncation=True, return_tensors='pt')\n",
        "    with torch.no_grad():\n",
        "        outputs = fine_tuned_model(**input)\n",
        "    logits = outputs.logits\n",
        "    predictions = torch.argmax(logits, dim=-1)\n",
        "    metric.add_batch(predictions=predictions, references=batch['label'])\n",
        "\n",
        "metric.compute()"
      ],
      "metadata": {
        "id": "MUZ5mdTu9TrY"
      },
      "execution_count": null,
      "outputs": []
    },
    {
      "cell_type": "markdown",
      "source": [
        "## Evaluation Model 2 after Fine-tuning in Zero-Shot Manner"
      ],
      "metadata": {
        "id": "xyFmi6ZP5SBv"
      }
    },
    {
      "cell_type": "markdown",
      "source": [
        "1. One Sentence Analysis"
      ],
      "metadata": {
        "id": "e30UiIa02cgn"
      }
    },
    {
      "cell_type": "code",
      "source": [
        "#One sentence\n",
        "\n",
        "mt5_en_be_sentence = \"Translate from English to Belarusian: Hello, how are you?\"\n",
        "\n",
        "mt5_be_en_sentence = \"Translate from Belarusian to English: Прывітанне, як справы?\""
      ],
      "metadata": {
        "id": "mzFSqP1g3WNV"
      },
      "execution_count": null,
      "outputs": []
    },
    {
      "cell_type": "code",
      "source": [
        "from transformers import pipeline\n",
        "\n",
        "inputs = mt5_tokenizer(mt5_be_en_sentence, return_tensors=\"pt\").input_ids\n",
        "fine_tuned_mt5_model = AutoModelForSeq2SeqLM.from_pretrained(\"my_awesome_be_en_translation_model/checkpoint-375\")\n",
        "outputs = fine_tuned_mt5_model.generate(inputs, max_new_tokens=40, do_sample=True, top_k=30, top_p=0.95)\n",
        "translated_text = mt5_tokenizer.decode(outputs[0], skip_special_tokens=True)\n",
        "\n",
        "print(translated_text)"
      ],
      "metadata": {
        "colab": {
          "base_uri": "https://localhost:8080/"
        },
        "collapsed": true,
        "id": "UfzOhpPzC8Y9",
        "outputId": "d61ea89f-f10c-4090-b6f6-b4a1e9fafe56"
      },
      "execution_count": null,
      "outputs": [
        {
          "output_type": "stream",
          "name": "stdout",
          "text": [
            "Les légumes partagent des ressources avec des bactéries fixatrices de l'azote.\n"
          ]
        }
      ]
    },
    {
      "cell_type": "code",
      "source": [
        "from transformers import pipeline\n",
        "\n",
        "inputs = mt5_tokenizer(mt5_en_be_sentence, return_tensors=\"pt\").input_ids\n",
        "fine_tuned_mt5_model = AutoModelForSeq2SeqLM.from_pretrained(\"my_awesome_be_en_translation_model/checkpoint-375\")\n",
        "outputs = fine_tuned_mt5_model.generate(inputs, max_new_tokens=40, do_sample=True, top_k=30, top_p=0.95)\n",
        "translated_text = mt5_tokenizer.decode(outputs[0], skip_special_tokens=True)\n",
        "\n",
        "print(translated_text)"
      ],
      "metadata": {
        "id": "egHWk5-30L-I"
      },
      "execution_count": null,
      "outputs": []
    },
    {
      "cell_type": "code",
      "source": [
        "bleu_score = compute_bleu_score(translated_text, en_be_reference)\n",
        "google_bleu_score = compute_google_bleu_score(translated_text, en_be_reference)\n",
        "sacrebleu_score = compute_sacrebleu_score(translated_text, en_be_reference)\n",
        "\n",
        "print(f\"One en-be sentence Scores (Model 2):\\nBLEU = {bleu_score},\\nGoogle BLEU = {google_bleu_score},\\nSacreBLEU = {sacrebleu_score}\")"
      ],
      "metadata": {
        "colab": {
          "base_uri": "https://localhost:8080/"
        },
        "outputId": "4f5d4964-581e-439f-d532-672d22af9724",
        "id": "G7XKhs_y6bV9"
      },
      "execution_count": null,
      "outputs": [
        {
          "output_type": "stream",
          "name": "stdout",
          "text": [
            "One en-be sentence Scores (Model 1):\n",
            "BLEU = 0.0,\n",
            "Google BLEU = 0.29,\n",
            "SacreBLEU = 23.64\n"
          ]
        }
      ]
    },
    {
      "cell_type": "code",
      "source": [
        "# Tokenize input\n",
        "input_ids = mt5_tokenizer(mt5_en_be_sentence, return_tensors=\"pt\").input_ids\n",
        "\n",
        "# Generate translation\n",
        "output_ids = fine_tuned_mt5_model.generate(input_ids)\n",
        "translated_text = mt5_tokenizer.decode(output_ids[0], skip_special_tokens=True)\n",
        "\n",
        "# Print result\n",
        "print(\"Translated Text:\", translated_text)"
      ],
      "metadata": {
        "colab": {
          "base_uri": "https://localhost:8080/"
        },
        "outputId": "05d115e2-ae68-45c7-a926-f135b7192533",
        "id": "PCKFLFoO2Zs-"
      },
      "execution_count": null,
      "outputs": [
        {
          "output_type": "stream",
          "name": "stdout",
          "text": [
            "Translated Text: <extra_id_0>\n"
          ]
        }
      ]
    },
    {
      "cell_type": "code",
      "source": [
        "# Tokenize input\n",
        "input_ids = mt5_tokenizer(mt5_be_en_sentence, return_tensors=\"pt\").input_ids\n",
        "\n",
        "# Generate translation\n",
        "output_ids = fine_tuned_mt5_model.generate(input_ids)\n",
        "translated_text = mt5_tokenizer.decode(output_ids[0], skip_special_tokens=True)\n",
        "\n",
        "# Print result\n",
        "print(\"Translated Text:\", translated_text)"
      ],
      "metadata": {
        "colab": {
          "base_uri": "https://localhost:8080/"
        },
        "outputId": "bd1cf8f2-9c3e-4db1-f5cc-97240cc73eb4",
        "id": "uNNp63Kc2Zs_"
      },
      "execution_count": null,
      "outputs": [
        {
          "output_type": "stream",
          "name": "stdout",
          "text": [
            "Translated Text: <extra_id_0>.\n"
          ]
        }
      ]
    },
    {
      "cell_type": "code",
      "source": [
        "bleu_score = compute_bleu_score(translated_text, be_en_reference)\n",
        "google_bleu_score = compute_google_bleu_score(translated_text, be_en_reference)\n",
        "sacrebleu_score = compute_sacrebleu_score(translated_text, be_en_reference)\n",
        "\n",
        "print(f\"One be-en sentence Scores (Model 2):\\nBLEU = {bleu_score},\\nGoogle BLEU = {google_bleu_score},\\nSacreBLEU = {sacrebleu_score}\")"
      ],
      "metadata": {
        "colab": {
          "base_uri": "https://localhost:8080/"
        },
        "outputId": "15f9f0aa-cfbb-4711-cea4-63a242c2f21d",
        "id": "LbrLpGuZ6bV9"
      },
      "execution_count": null,
      "outputs": [
        {
          "output_type": "stream",
          "name": "stdout",
          "text": [
            "One be-en sentence Scores (Model 1):\n",
            "BLEU = 0.0,\n",
            "Google BLEU = 0.17,\n",
            "SacreBLEU = 11.51\n"
          ]
        }
      ]
    },
    {
      "cell_type": "markdown",
      "source": [
        "### 2. Set of Sentences"
      ],
      "metadata": {
        "id": "yjmrE4Q72fZW"
      }
    },
    {
      "cell_type": "code",
      "source": [
        "en_be_results = {}\n",
        "\n",
        "for sentence in en_be_sentences:\n",
        "    input_text = f\"translate English to Belarusian: {sentence}\"\n",
        "    input_ids = mt5_tokenizer.encode(input_text, return_tensors=\"pt\")\n",
        "    output_ids = fine_tuned_mt5_model.generate(input_ids, max_length=128, num_beams=4, early_stopping=True)\n",
        "    translated_text = mt5_tokenizer.decode(output_ids[0], skip_special_tokens=True)\n",
        "    print(f\"Original: {sentence}\")\n",
        "    print(f\"Translated: {translated_text}\\n\")\n",
        "    en_be_results[sentence] = translated_text\n",
        "\n",
        "print(en_be_results)"
      ],
      "metadata": {
        "colab": {
          "base_uri": "https://localhost:8080/",
          "height": 211
        },
        "outputId": "25f94f1e-a11e-4062-b13f-ceb405dd0148",
        "id": "_rwvDqkj2Zs_"
      },
      "execution_count": null,
      "outputs": [
        {
          "output_type": "error",
          "ename": "NameError",
          "evalue": "name 'fine_tuned_mt5_model' is not defined",
          "traceback": [
            "\u001b[0;31m---------------------------------------------------------------------------\u001b[0m",
            "\u001b[0;31mNameError\u001b[0m                                 Traceback (most recent call last)",
            "\u001b[0;32m<ipython-input-136-b7f3fc5a4987>\u001b[0m in \u001b[0;36m<cell line: 3>\u001b[0;34m()\u001b[0m\n\u001b[1;32m      4\u001b[0m     \u001b[0minput_text\u001b[0m \u001b[0;34m=\u001b[0m \u001b[0;34mf\"translate English to Belarusian: {sentence}\"\u001b[0m\u001b[0;34m\u001b[0m\u001b[0;34m\u001b[0m\u001b[0m\n\u001b[1;32m      5\u001b[0m     \u001b[0minput_ids\u001b[0m \u001b[0;34m=\u001b[0m \u001b[0mmt5_tokenizer\u001b[0m\u001b[0;34m.\u001b[0m\u001b[0mencode\u001b[0m\u001b[0;34m(\u001b[0m\u001b[0minput_text\u001b[0m\u001b[0;34m,\u001b[0m \u001b[0mreturn_tensors\u001b[0m\u001b[0;34m=\u001b[0m\u001b[0;34m\"pt\"\u001b[0m\u001b[0;34m)\u001b[0m\u001b[0;34m\u001b[0m\u001b[0;34m\u001b[0m\u001b[0m\n\u001b[0;32m----> 6\u001b[0;31m     \u001b[0moutput_ids\u001b[0m \u001b[0;34m=\u001b[0m \u001b[0mfine_tuned_mt5_model\u001b[0m\u001b[0;34m.\u001b[0m\u001b[0mgenerate\u001b[0m\u001b[0;34m(\u001b[0m\u001b[0minput_ids\u001b[0m\u001b[0;34m,\u001b[0m \u001b[0mmax_length\u001b[0m\u001b[0;34m=\u001b[0m\u001b[0;36m128\u001b[0m\u001b[0;34m,\u001b[0m \u001b[0mnum_beams\u001b[0m\u001b[0;34m=\u001b[0m\u001b[0;36m4\u001b[0m\u001b[0;34m,\u001b[0m \u001b[0mearly_stopping\u001b[0m\u001b[0;34m=\u001b[0m\u001b[0;32mTrue\u001b[0m\u001b[0;34m)\u001b[0m\u001b[0;34m\u001b[0m\u001b[0;34m\u001b[0m\u001b[0m\n\u001b[0m\u001b[1;32m      7\u001b[0m     \u001b[0mtranslated_text\u001b[0m \u001b[0;34m=\u001b[0m \u001b[0mmt5_tokenizer\u001b[0m\u001b[0;34m.\u001b[0m\u001b[0mdecode\u001b[0m\u001b[0;34m(\u001b[0m\u001b[0moutput_ids\u001b[0m\u001b[0;34m[\u001b[0m\u001b[0;36m0\u001b[0m\u001b[0;34m]\u001b[0m\u001b[0;34m,\u001b[0m \u001b[0mskip_special_tokens\u001b[0m\u001b[0;34m=\u001b[0m\u001b[0;32mTrue\u001b[0m\u001b[0;34m)\u001b[0m\u001b[0;34m\u001b[0m\u001b[0;34m\u001b[0m\u001b[0m\n\u001b[1;32m      8\u001b[0m     \u001b[0mprint\u001b[0m\u001b[0;34m(\u001b[0m\u001b[0;34mf\"Original: {sentence}\"\u001b[0m\u001b[0;34m)\u001b[0m\u001b[0;34m\u001b[0m\u001b[0;34m\u001b[0m\u001b[0m\n",
            "\u001b[0;31mNameError\u001b[0m: name 'fine_tuned_mt5_model' is not defined"
          ]
        }
      ]
    },
    {
      "cell_type": "code",
      "source": [
        "# Extract translations and reference sentences\n",
        "translated_texts = list(en_be_results.values())\n",
        "reference_texts = list(be_en_sentences)\n",
        "\n",
        "# Iterate through each sentence and compute scores\n",
        "for i, (translated, reference) in enumerate(zip(translated_texts, reference_texts), 1):\n",
        "    bleu_score = compute_bleu_score(translated, reference)\n",
        "    google_bleu_score = compute_google_bleu_score(translated, reference)\n",
        "    sacrebleu_score = compute_sacrebleu_score(translated, reference)\n",
        "\n",
        "    # Print the results\n",
        "    print(f\"en-be Sentence Set Scores (Model 2):\\nSentence {i}:\\n\"\n",
        "          f\"BLEU = {bleu_score}\\n\"\n",
        "          f\"Google BLEU = {google_bleu_score}\\n\"\n",
        "          f\"SacreBLEU = {sacrebleu_score}\\n\")"
      ],
      "metadata": {
        "id": "D1R5Y6WT2heu"
      },
      "execution_count": null,
      "outputs": []
    },
    {
      "cell_type": "code",
      "source": [
        "be_en_results = {}\n",
        "\n",
        "for sentence in be_en_sentences:\n",
        "    input_text = f\"translate Belarusian to English: {sentence}\"\n",
        "    input_ids = mt5_tokenizer.encode(input_text, return_tensors=\"pt\")\n",
        "    output_ids = fine_tuned_mt5_model.generate(input_ids, max_length=128, num_beams=4, early_stopping=True)\n",
        "    translated_text = mt5_tokenizer.decode(output_ids[0], skip_special_tokens=True)\n",
        "    print(f\"Original: {sentence}\")\n",
        "    print(f\"Translated: {translated_text}\\n\")\n",
        "    be_en_results[sentence] = translated_text\n",
        "\n",
        "print(be_en_results)"
      ],
      "metadata": {
        "colab": {
          "base_uri": "https://localhost:8080/",
          "height": 211
        },
        "outputId": "0280efa3-a4a4-43d6-b89e-f53f2aaf49e7",
        "id": "mtYCN4nj2Zs_"
      },
      "execution_count": null,
      "outputs": [
        {
          "output_type": "error",
          "ename": "NameError",
          "evalue": "name 'fine_tuned_mt5_model' is not defined",
          "traceback": [
            "\u001b[0;31m---------------------------------------------------------------------------\u001b[0m",
            "\u001b[0;31mNameError\u001b[0m                                 Traceback (most recent call last)",
            "\u001b[0;32m<ipython-input-137-dd7187c453b7>\u001b[0m in \u001b[0;36m<cell line: 3>\u001b[0;34m()\u001b[0m\n\u001b[1;32m      4\u001b[0m     \u001b[0minput_text\u001b[0m \u001b[0;34m=\u001b[0m \u001b[0;34mf\"translate Belarusian to English: {sentence}\"\u001b[0m\u001b[0;34m\u001b[0m\u001b[0;34m\u001b[0m\u001b[0m\n\u001b[1;32m      5\u001b[0m     \u001b[0minput_ids\u001b[0m \u001b[0;34m=\u001b[0m \u001b[0mmt5_tokenizer\u001b[0m\u001b[0;34m.\u001b[0m\u001b[0mencode\u001b[0m\u001b[0;34m(\u001b[0m\u001b[0minput_text\u001b[0m\u001b[0;34m,\u001b[0m \u001b[0mreturn_tensors\u001b[0m\u001b[0;34m=\u001b[0m\u001b[0;34m\"pt\"\u001b[0m\u001b[0;34m)\u001b[0m\u001b[0;34m\u001b[0m\u001b[0;34m\u001b[0m\u001b[0m\n\u001b[0;32m----> 6\u001b[0;31m     \u001b[0moutput_ids\u001b[0m \u001b[0;34m=\u001b[0m \u001b[0mfine_tuned_mt5_model\u001b[0m\u001b[0;34m.\u001b[0m\u001b[0mgenerate\u001b[0m\u001b[0;34m(\u001b[0m\u001b[0minput_ids\u001b[0m\u001b[0;34m,\u001b[0m \u001b[0mmax_length\u001b[0m\u001b[0;34m=\u001b[0m\u001b[0;36m128\u001b[0m\u001b[0;34m,\u001b[0m \u001b[0mnum_beams\u001b[0m\u001b[0;34m=\u001b[0m\u001b[0;36m4\u001b[0m\u001b[0;34m,\u001b[0m \u001b[0mearly_stopping\u001b[0m\u001b[0;34m=\u001b[0m\u001b[0;32mTrue\u001b[0m\u001b[0;34m)\u001b[0m\u001b[0;34m\u001b[0m\u001b[0;34m\u001b[0m\u001b[0m\n\u001b[0m\u001b[1;32m      7\u001b[0m     \u001b[0mtranslated_text\u001b[0m \u001b[0;34m=\u001b[0m \u001b[0mmt5_tokenizer\u001b[0m\u001b[0;34m.\u001b[0m\u001b[0mdecode\u001b[0m\u001b[0;34m(\u001b[0m\u001b[0moutput_ids\u001b[0m\u001b[0;34m[\u001b[0m\u001b[0;36m0\u001b[0m\u001b[0;34m]\u001b[0m\u001b[0;34m,\u001b[0m \u001b[0mskip_special_tokens\u001b[0m\u001b[0;34m=\u001b[0m\u001b[0;32mTrue\u001b[0m\u001b[0;34m)\u001b[0m\u001b[0;34m\u001b[0m\u001b[0;34m\u001b[0m\u001b[0m\n\u001b[1;32m      8\u001b[0m     \u001b[0mprint\u001b[0m\u001b[0;34m(\u001b[0m\u001b[0;34mf\"Original: {sentence}\"\u001b[0m\u001b[0;34m)\u001b[0m\u001b[0;34m\u001b[0m\u001b[0;34m\u001b[0m\u001b[0m\n",
            "\u001b[0;31mNameError\u001b[0m: name 'fine_tuned_mt5_model' is not defined"
          ]
        }
      ]
    },
    {
      "cell_type": "code",
      "source": [
        "# Extract translations and reference sentences\n",
        "translated_texts = list(be_en_results.values())\n",
        "reference_texts = list(en_be_sentences)\n",
        "\n",
        "# Iterate through each sentence and compute scores\n",
        "for i, (translated, reference) in enumerate(zip(translated_texts, reference_texts), 1):\n",
        "    bleu_score = compute_bleu_score(translated, reference)\n",
        "    google_bleu_score = compute_google_bleu_score(translated, reference)\n",
        "    sacrebleu_score = compute_sacrebleu_score(translated, reference)\n",
        "\n",
        "    # Print the results\n",
        "    print(f\"en-be Sentence Set Scores (Model 2):\\nSentence {i}:\\n\"\n",
        "          f\"BLEU = {bleu_score}\\n\"\n",
        "          f\"Google BLEU = {google_bleu_score}\\n\"\n",
        "          f\"SacreBLEU = {sacrebleu_score}\\n\")"
      ],
      "metadata": {
        "id": "8RqX6AkM2iAd"
      },
      "execution_count": null,
      "outputs": []
    },
    {
      "cell_type": "markdown",
      "source": [
        "### 3. Validation Set"
      ],
      "metadata": {
        "id": "WHkaTVeW2iR-"
      }
    },
    {
      "cell_type": "code",
      "source": [
        "val_set = small_tokenized_dataset[\"val\"][\"source\"]\n",
        "\n",
        "def translate_text(text, direction=\"translate Belarusian to English: \"):\n",
        "    input_text = f\"{direction} {text}\"\n",
        "    input_ids = mt5_tokenizer(input_text, return_tensors=\"pt\").input_ids\n",
        "\n",
        "    # Generate translation\n",
        "    output_ids = fine_tuned_mt5_model.generate(input_ids, max_length=128)\n",
        "    translated_text = mt5_tokenizer.decode(output_ids[0], skip_special_tokens=True)\n",
        "\n",
        "    return translated_text\n",
        "\n",
        "translated_sentences = []\n",
        "for sentence in val_set:\n",
        "    translated = translate_text(sentence, direction=\"translate Belarusian to English: \")\n",
        "    translated_sentences.append(translated)\n",
        "\n",
        "# Print some results\n",
        "for i in range(32):\n",
        "    print(f\"Original: {val_set[i]}\")\n",
        "    print(f\"Translated: {translated_sentences[i]}\\n\")\n",
        "\n",
        "print(len(translated_sentences))"
      ],
      "metadata": {
        "colab": {
          "base_uri": "https://localhost:8080/",
          "height": 332
        },
        "id": "V1DW9MMT17ne",
        "outputId": "280c0d0a-0096-4386-ee92-5ee27e9daa87"
      },
      "execution_count": null,
      "outputs": [
        {
          "output_type": "error",
          "ename": "NameError",
          "evalue": "name 'fine_tuned_mt5_model' is not defined",
          "traceback": [
            "\u001b[0;31m---------------------------------------------------------------------------\u001b[0m",
            "\u001b[0;31mNameError\u001b[0m                                 Traceback (most recent call last)",
            "\u001b[0;32m<ipython-input-135-a8a362fe54e4>\u001b[0m in \u001b[0;36m<cell line: 14>\u001b[0;34m()\u001b[0m\n\u001b[1;32m     13\u001b[0m \u001b[0mtranslated_sentences\u001b[0m \u001b[0;34m=\u001b[0m \u001b[0;34m[\u001b[0m\u001b[0;34m]\u001b[0m\u001b[0;34m\u001b[0m\u001b[0;34m\u001b[0m\u001b[0m\n\u001b[1;32m     14\u001b[0m \u001b[0;32mfor\u001b[0m \u001b[0msentence\u001b[0m \u001b[0;32min\u001b[0m \u001b[0mval_set\u001b[0m\u001b[0;34m:\u001b[0m\u001b[0;34m\u001b[0m\u001b[0;34m\u001b[0m\u001b[0m\n\u001b[0;32m---> 15\u001b[0;31m     \u001b[0mtranslated\u001b[0m \u001b[0;34m=\u001b[0m \u001b[0mtranslate_text\u001b[0m\u001b[0;34m(\u001b[0m\u001b[0msentence\u001b[0m\u001b[0;34m,\u001b[0m \u001b[0mdirection\u001b[0m\u001b[0;34m=\u001b[0m\u001b[0;34m\"translate Belarusian to English: \"\u001b[0m\u001b[0;34m)\u001b[0m\u001b[0;34m\u001b[0m\u001b[0;34m\u001b[0m\u001b[0m\n\u001b[0m\u001b[1;32m     16\u001b[0m     \u001b[0mtranslated_sentences\u001b[0m\u001b[0;34m.\u001b[0m\u001b[0mappend\u001b[0m\u001b[0;34m(\u001b[0m\u001b[0mtranslated\u001b[0m\u001b[0;34m)\u001b[0m\u001b[0;34m\u001b[0m\u001b[0;34m\u001b[0m\u001b[0m\n\u001b[1;32m     17\u001b[0m \u001b[0;34m\u001b[0m\u001b[0m\n",
            "\u001b[0;32m<ipython-input-135-a8a362fe54e4>\u001b[0m in \u001b[0;36mtranslate_text\u001b[0;34m(text, direction)\u001b[0m\n\u001b[1;32m      6\u001b[0m \u001b[0;34m\u001b[0m\u001b[0m\n\u001b[1;32m      7\u001b[0m     \u001b[0;31m# Generate translation\u001b[0m\u001b[0;34m\u001b[0m\u001b[0;34m\u001b[0m\u001b[0m\n\u001b[0;32m----> 8\u001b[0;31m     \u001b[0moutput_ids\u001b[0m \u001b[0;34m=\u001b[0m \u001b[0mfine_tuned_mt5_model\u001b[0m\u001b[0;34m.\u001b[0m\u001b[0mgenerate\u001b[0m\u001b[0;34m(\u001b[0m\u001b[0minput_ids\u001b[0m\u001b[0;34m,\u001b[0m \u001b[0mmax_length\u001b[0m\u001b[0;34m=\u001b[0m\u001b[0;36m128\u001b[0m\u001b[0;34m)\u001b[0m\u001b[0;34m\u001b[0m\u001b[0;34m\u001b[0m\u001b[0m\n\u001b[0m\u001b[1;32m      9\u001b[0m     \u001b[0mtranslated_text\u001b[0m \u001b[0;34m=\u001b[0m \u001b[0mmt5_tokenizer\u001b[0m\u001b[0;34m.\u001b[0m\u001b[0mdecode\u001b[0m\u001b[0;34m(\u001b[0m\u001b[0moutput_ids\u001b[0m\u001b[0;34m[\u001b[0m\u001b[0;36m0\u001b[0m\u001b[0;34m]\u001b[0m\u001b[0;34m,\u001b[0m \u001b[0mskip_special_tokens\u001b[0m\u001b[0;34m=\u001b[0m\u001b[0;32mTrue\u001b[0m\u001b[0;34m)\u001b[0m\u001b[0;34m\u001b[0m\u001b[0;34m\u001b[0m\u001b[0m\n\u001b[1;32m     10\u001b[0m \u001b[0;34m\u001b[0m\u001b[0m\n",
            "\u001b[0;31mNameError\u001b[0m: name 'fine_tuned_mt5_model' is not defined"
          ]
        }
      ]
    },
    {
      "cell_type": "code",
      "source": [
        "model2_result_dict_val_be_en = {}\n",
        "\n",
        "model2_result_dict_val_be_en['bleu_score_list'] = []\n",
        "model2_result_dict_val_be_en['google_bleu_score_list'] = []\n",
        "model2_result_dict_val_be_en['sacrebleu_score_list'] = []\n",
        "\n",
        "print(model2_result_dict_val_be_en.items())"
      ],
      "metadata": {
        "colab": {
          "base_uri": "https://localhost:8080/"
        },
        "outputId": "42a5795e-2be6-4796-808d-70059418652e",
        "id": "3yCtFQ6_3wL0"
      },
      "execution_count": null,
      "outputs": [
        {
          "output_type": "stream",
          "name": "stdout",
          "text": [
            "dict_items([('bleu_score_list', []), ('google_bleu_score_list', []), ('sacrebleu_score_list', [])])\n"
          ]
        }
      ]
    },
    {
      "cell_type": "code",
      "source": [
        "# Extract translations and reference sentences\n",
        "translated_texts = translated_sentences\n",
        "reference_texts = val_set = small_tokenized_dataset[\"val\"][\"translation\"]\n",
        "\n",
        "# Iterate through each sentence and compute scores\n",
        "for i, (translated, reference) in enumerate(zip(translated_texts, reference_texts), 1):\n",
        "    bleu_score = compute_bleu_score(translated, reference)\n",
        "    google_bleu_score = compute_google_bleu_score(translated, reference)\n",
        "    sacrebleu_score = compute_sacrebleu_score(translated, reference)\n",
        "\n",
        "    model2_result_dict_val_be_en['bleu_score_list'].append(bleu_score)\n",
        "    model2_result_dict_val_be_en['google_bleu_score_list'].append(google_bleu_score)\n",
        "    model2_result_dict_val_be_en['sacrebleu_score_list'].append(sacrebleu_score)\n",
        "\n",
        "    print(f\"be-en Validation Set Scores (Model 2):\\nSentence {i}:\\n\"\n",
        "          f\"BLEU = {bleu_score}\\n\"\n",
        "          f\"Google BLEU = {google_bleu_score}\\n\"\n",
        "          f\"SacreBLEU = {sacrebleu_score}\\n\")\n",
        "\n",
        "print(model2_result_dict_val_be_en['bleu_score_list'])\n",
        "print(model2_result_dict_val_be_en['google_bleu_score_list'])\n",
        "print(model2_result_dict_val_be_en['sacrebleu_score_list'])\n",
        "\n",
        "print(len(model2_result_dict_val_be_en['bleu_score_list']))\n",
        "print(len(model2_result_dict_val_be_en['google_bleu_score_list']))\n",
        "print(len(model2_result_dict_val_be_en['sacrebleu_score_list']))"
      ],
      "metadata": {
        "colab": {
          "base_uri": "https://localhost:8080/",
          "height": 211
        },
        "outputId": "74514558-70c8-4d66-d246-9a8f6bd1e5f9",
        "id": "O93elnqn3wL1"
      },
      "execution_count": null,
      "outputs": [
        {
          "output_type": "error",
          "ename": "NameError",
          "evalue": "name 'model2_result_dict_val_be_en' is not defined",
          "traceback": [
            "\u001b[0;31m---------------------------------------------------------------------------\u001b[0m",
            "\u001b[0;31mNameError\u001b[0m                                 Traceback (most recent call last)",
            "\u001b[0;32m<ipython-input-133-3b77519bc2e9>\u001b[0m in \u001b[0;36m<cell line: 20>\u001b[0;34m()\u001b[0m\n\u001b[1;32m     18\u001b[0m           f\"SacreBLEU = {sacrebleu_score}\\n\")\n\u001b[1;32m     19\u001b[0m \u001b[0;34m\u001b[0m\u001b[0m\n\u001b[0;32m---> 20\u001b[0;31m \u001b[0mprint\u001b[0m\u001b[0;34m(\u001b[0m\u001b[0mmodel2_result_dict_val_be_en\u001b[0m\u001b[0;34m[\u001b[0m\u001b[0;34m'bleu_score_list'\u001b[0m\u001b[0;34m]\u001b[0m\u001b[0;34m)\u001b[0m\u001b[0;34m\u001b[0m\u001b[0;34m\u001b[0m\u001b[0m\n\u001b[0m\u001b[1;32m     21\u001b[0m \u001b[0mprint\u001b[0m\u001b[0;34m(\u001b[0m\u001b[0mmodel2_result_dict_val_be_en\u001b[0m\u001b[0;34m[\u001b[0m\u001b[0;34m'google_bleu_score_list'\u001b[0m\u001b[0;34m]\u001b[0m\u001b[0;34m)\u001b[0m\u001b[0;34m\u001b[0m\u001b[0;34m\u001b[0m\u001b[0m\n\u001b[1;32m     22\u001b[0m \u001b[0mprint\u001b[0m\u001b[0;34m(\u001b[0m\u001b[0mmodel2_result_dict_val_be_en\u001b[0m\u001b[0;34m[\u001b[0m\u001b[0;34m'sacrebleu_score_list'\u001b[0m\u001b[0;34m]\u001b[0m\u001b[0;34m)\u001b[0m\u001b[0;34m\u001b[0m\u001b[0;34m\u001b[0m\u001b[0m\n",
            "\u001b[0;31mNameError\u001b[0m: name 'model2_result_dict_val_be_en' is not defined"
          ]
        }
      ]
    },
    {
      "cell_type": "code",
      "source": [
        "val_set = small_tokenized_dataset[\"val\"][\"translation\"]\n",
        "\n",
        "def translate_text(text, direction=\"translate English to Belarusian\"):\n",
        "    input_text = f\"{direction} {text}\"\n",
        "    input_ids = mt5_tokenizer(input_text, return_tensors=\"pt\").input_ids\n",
        "\n",
        "    # Generate translation\n",
        "    output_ids = fine_tuned_mt5_model.generate(input_ids, max_length=128)\n",
        "    translated_text = mt5_tokenizer.decode(output_ids[0], skip_special_tokens=True)\n",
        "\n",
        "    return translated_text\n",
        "\n",
        "translated_sentences = []\n",
        "for sentence in val_set:\n",
        "    translated = translate_text(sentence, direction=\"translate English to Belarusian\")\n",
        "    translated_sentences.append(translated)\n",
        "\n",
        "# Print some results\n",
        "for i in range(32):\n",
        "    print(f\"Original: {val_set[i]}\")\n",
        "    print(f\"Translated: {translated_sentences[i]}\\n\")"
      ],
      "metadata": {
        "id": "9uzE3cNX5RnT",
        "colab": {
          "base_uri": "https://localhost:8080/",
          "height": 332
        },
        "outputId": "712f97bb-db17-4a95-9202-ad20becbf060"
      },
      "execution_count": null,
      "outputs": [
        {
          "output_type": "error",
          "ename": "NameError",
          "evalue": "name 'fine_tuned_mt5_model' is not defined",
          "traceback": [
            "\u001b[0;31m---------------------------------------------------------------------------\u001b[0m",
            "\u001b[0;31mNameError\u001b[0m                                 Traceback (most recent call last)",
            "\u001b[0;32m<ipython-input-132-5c128635061b>\u001b[0m in \u001b[0;36m<cell line: 14>\u001b[0;34m()\u001b[0m\n\u001b[1;32m     13\u001b[0m \u001b[0mtranslated_sentences\u001b[0m \u001b[0;34m=\u001b[0m \u001b[0;34m[\u001b[0m\u001b[0;34m]\u001b[0m\u001b[0;34m\u001b[0m\u001b[0;34m\u001b[0m\u001b[0m\n\u001b[1;32m     14\u001b[0m \u001b[0;32mfor\u001b[0m \u001b[0msentence\u001b[0m \u001b[0;32min\u001b[0m \u001b[0mval_set\u001b[0m\u001b[0;34m:\u001b[0m\u001b[0;34m\u001b[0m\u001b[0;34m\u001b[0m\u001b[0m\n\u001b[0;32m---> 15\u001b[0;31m     \u001b[0mtranslated\u001b[0m \u001b[0;34m=\u001b[0m \u001b[0mtranslate_text\u001b[0m\u001b[0;34m(\u001b[0m\u001b[0msentence\u001b[0m\u001b[0;34m,\u001b[0m \u001b[0mdirection\u001b[0m\u001b[0;34m=\u001b[0m\u001b[0;34m\"translate English to Belarusian\"\u001b[0m\u001b[0;34m)\u001b[0m\u001b[0;34m\u001b[0m\u001b[0;34m\u001b[0m\u001b[0m\n\u001b[0m\u001b[1;32m     16\u001b[0m     \u001b[0mtranslated_sentences\u001b[0m\u001b[0;34m.\u001b[0m\u001b[0mappend\u001b[0m\u001b[0;34m(\u001b[0m\u001b[0mtranslated\u001b[0m\u001b[0;34m)\u001b[0m\u001b[0;34m\u001b[0m\u001b[0;34m\u001b[0m\u001b[0m\n\u001b[1;32m     17\u001b[0m \u001b[0;34m\u001b[0m\u001b[0m\n",
            "\u001b[0;32m<ipython-input-132-5c128635061b>\u001b[0m in \u001b[0;36mtranslate_text\u001b[0;34m(text, direction)\u001b[0m\n\u001b[1;32m      6\u001b[0m \u001b[0;34m\u001b[0m\u001b[0m\n\u001b[1;32m      7\u001b[0m     \u001b[0;31m# Generate translation\u001b[0m\u001b[0;34m\u001b[0m\u001b[0;34m\u001b[0m\u001b[0m\n\u001b[0;32m----> 8\u001b[0;31m     \u001b[0moutput_ids\u001b[0m \u001b[0;34m=\u001b[0m \u001b[0mfine_tuned_mt5_model\u001b[0m\u001b[0;34m.\u001b[0m\u001b[0mgenerate\u001b[0m\u001b[0;34m(\u001b[0m\u001b[0minput_ids\u001b[0m\u001b[0;34m,\u001b[0m \u001b[0mmax_length\u001b[0m\u001b[0;34m=\u001b[0m\u001b[0;36m128\u001b[0m\u001b[0;34m)\u001b[0m\u001b[0;34m\u001b[0m\u001b[0;34m\u001b[0m\u001b[0m\n\u001b[0m\u001b[1;32m      9\u001b[0m     \u001b[0mtranslated_text\u001b[0m \u001b[0;34m=\u001b[0m \u001b[0mmt5_tokenizer\u001b[0m\u001b[0;34m.\u001b[0m\u001b[0mdecode\u001b[0m\u001b[0;34m(\u001b[0m\u001b[0moutput_ids\u001b[0m\u001b[0;34m[\u001b[0m\u001b[0;36m0\u001b[0m\u001b[0;34m]\u001b[0m\u001b[0;34m,\u001b[0m \u001b[0mskip_special_tokens\u001b[0m\u001b[0;34m=\u001b[0m\u001b[0;32mTrue\u001b[0m\u001b[0;34m)\u001b[0m\u001b[0;34m\u001b[0m\u001b[0;34m\u001b[0m\u001b[0m\n\u001b[1;32m     10\u001b[0m \u001b[0;34m\u001b[0m\u001b[0m\n",
            "\u001b[0;31mNameError\u001b[0m: name 'fine_tuned_mt5_model' is not defined"
          ]
        }
      ]
    },
    {
      "cell_type": "code",
      "source": [
        "model2_result_dict_val_en_be = {}\n",
        "\n",
        "model2_result_dict_val_en_be['bleu_score_list'] = []\n",
        "model2_result_dict_val_en_be['google_bleu_score_list'] = []\n",
        "model2_result_dict_val_en_be['sacrebleu_score_list'] = []\n",
        "\n",
        "print(model2_result_dict_val_en_be.items())"
      ],
      "metadata": {
        "colab": {
          "base_uri": "https://localhost:8080/"
        },
        "outputId": "16945b65-a4f5-4cbc-c4a2-415d78b2a2dc",
        "id": "d3-S0EuE2vCc"
      },
      "execution_count": null,
      "outputs": [
        {
          "output_type": "stream",
          "name": "stdout",
          "text": [
            "dict_items([('bleu_score_list', []), ('google_bleu_score_list', []), ('sacrebleu_score_list', [])])\n"
          ]
        }
      ]
    },
    {
      "cell_type": "code",
      "source": [
        "# Extract translations and reference sentences\n",
        "translated_texts = translated_sentences\n",
        "reference_texts = val_set = small_tokenized_dataset[\"val\"][\"source\"]\n",
        "\n",
        "# Iterate through each sentence and compute scores\n",
        "for i, (translated, reference) in enumerate(zip(translated_texts, reference_texts), 1):\n",
        "    bleu_score = compute_bleu_score(translated, reference)\n",
        "    google_bleu_score = compute_google_bleu_score(translated, reference)\n",
        "    sacrebleu_score = compute_sacrebleu_score(translated, reference)\n",
        "\n",
        "    model2_result_dict_val_en_be['bleu_score_list'].append(bleu_score)\n",
        "    model2_result_dict_val_en_be['google_bleu_score_list'].append(google_bleu_score)\n",
        "    model2_result_dict_val_en_be['sacrebleu_score_list'].append(sacrebleu_score)\n",
        "\n",
        "    print(f\"en-be Validation Set Scores (Model 2):\\nSentence {i}:\\n\"\n",
        "          f\"BLEU = {bleu_score}\\n\"\n",
        "          f\"Google BLEU = {google_bleu_score}\\n\"\n",
        "          f\"SacreBLEU = {sacrebleu_score}\\n\")\n",
        "\n",
        "print(model2_result_dict_val_en_be['bleu_score_list'])\n",
        "print(model2_result_dict_val_en_be['google_bleu_score_list'])\n",
        "print(model2_result_dict_val_en_be['sacrebleu_score_list'])\n",
        "\n",
        "print(len(model2_result_dict_val_en_be['bleu_score_list']))\n",
        "print(len(model2_result_dict_val_en_be['google_bleu_score_list']))\n",
        "print(len(model2_result_dict_val_en_be['sacrebleu_score_list']))"
      ],
      "metadata": {
        "colab": {
          "base_uri": "https://localhost:8080/",
          "height": 211
        },
        "outputId": "7843430f-9270-4dce-d3e5-477d5f10f075",
        "id": "WwtkuUU_2vCc"
      },
      "execution_count": null,
      "outputs": [
        {
          "output_type": "error",
          "ename": "NameError",
          "evalue": "name 'model2_result_dict_val_en_be' is not defined",
          "traceback": [
            "\u001b[0;31m---------------------------------------------------------------------------\u001b[0m",
            "\u001b[0;31mNameError\u001b[0m                                 Traceback (most recent call last)",
            "\u001b[0;32m<ipython-input-130-d486dfd64be6>\u001b[0m in \u001b[0;36m<cell line: 6>\u001b[0;34m()\u001b[0m\n\u001b[1;32m      9\u001b[0m     \u001b[0msacrebleu_score\u001b[0m \u001b[0;34m=\u001b[0m \u001b[0mcompute_sacrebleu_score\u001b[0m\u001b[0;34m(\u001b[0m\u001b[0mtranslated\u001b[0m\u001b[0;34m,\u001b[0m \u001b[0mreference\u001b[0m\u001b[0;34m)\u001b[0m\u001b[0;34m\u001b[0m\u001b[0;34m\u001b[0m\u001b[0m\n\u001b[1;32m     10\u001b[0m \u001b[0;34m\u001b[0m\u001b[0m\n\u001b[0;32m---> 11\u001b[0;31m     \u001b[0mmodel2_result_dict_val_en_be\u001b[0m\u001b[0;34m[\u001b[0m\u001b[0;34m'bleu_score_list'\u001b[0m\u001b[0;34m]\u001b[0m\u001b[0;34m.\u001b[0m\u001b[0mappend\u001b[0m\u001b[0;34m(\u001b[0m\u001b[0mbleu_score\u001b[0m\u001b[0;34m)\u001b[0m\u001b[0;34m\u001b[0m\u001b[0;34m\u001b[0m\u001b[0m\n\u001b[0m\u001b[1;32m     12\u001b[0m     \u001b[0mmodel2_result_dict_val_en_be\u001b[0m\u001b[0;34m[\u001b[0m\u001b[0;34m'google_bleu_score_list'\u001b[0m\u001b[0;34m]\u001b[0m\u001b[0;34m.\u001b[0m\u001b[0mappend\u001b[0m\u001b[0;34m(\u001b[0m\u001b[0mgoogle_bleu_score\u001b[0m\u001b[0;34m)\u001b[0m\u001b[0;34m\u001b[0m\u001b[0;34m\u001b[0m\u001b[0m\n\u001b[1;32m     13\u001b[0m     \u001b[0mmodel2_result_dict_val_en_be\u001b[0m\u001b[0;34m[\u001b[0m\u001b[0;34m'sacrebleu_score_list'\u001b[0m\u001b[0;34m]\u001b[0m\u001b[0;34m.\u001b[0m\u001b[0mappend\u001b[0m\u001b[0;34m(\u001b[0m\u001b[0msacrebleu_score\u001b[0m\u001b[0;34m)\u001b[0m\u001b[0;34m\u001b[0m\u001b[0;34m\u001b[0m\u001b[0m\n",
            "\u001b[0;31mNameError\u001b[0m: name 'model2_result_dict_val_en_be' is not defined"
          ]
        }
      ]
    },
    {
      "cell_type": "markdown",
      "source": [
        "## Vidualisation of Model 2 Scores"
      ],
      "metadata": {
        "id": "uexUCDAZ3DgF"
      }
    },
    {
      "cell_type": "code",
      "source": [
        "import matplotlib.pyplot as plt\n",
        "import numpy as np\n",
        "import pandas as pd"
      ],
      "metadata": {
        "id": "mkPkspYP5IQQ"
      },
      "execution_count": null,
      "outputs": []
    },
    {
      "cell_type": "code",
      "source": [
        "sentences = [f\"Sentence {i+1}\" for i in range(32)]\n",
        "\n",
        "bleu_scores = model2_result_dict_val_en_be['bleu_score_list']\n",
        "google_bleu_scores = model2_result_dict_val_en_be['google_bleu_score_list']\n",
        "\n",
        "# Create a DataFrame to hold the scores\n",
        "df = pd.DataFrame({\n",
        "    'Sentence': sentences,\n",
        "    'BLEU': bleu_scores,\n",
        "    'Google BLEU': google_bleu_scores,\n",
        "})\n",
        "\n",
        "# Plotting\n",
        "plt.figure(figsize=(10, 6))\n",
        "\n",
        "# Plot each score type\n",
        "plt.plot(df['Sentence'], df['BLEU'], label='BLEU', marker='o', linestyle='-', color='b')\n",
        "plt.plot(df['Sentence'], df['Google BLEU'], label='Google BLEU', marker='o', linestyle='-', color='g')\n",
        "\n",
        "# Adding labels and title\n",
        "plt.xlabel('Sentence')\n",
        "plt.ylabel('Score')\n",
        "plt.title('Comparison of BLEU and Google BLEU Scores Across Sentences in a the Validation Set (en - be)')\n",
        "\n",
        "# Rotate x-axis labels for better readability\n",
        "plt.xticks(rotation=45)\n",
        "\n",
        "# Add a legend\n",
        "plt.legend()\n",
        "\n",
        "# Show plot\n",
        "plt.tight_layout()\n",
        "plt.show()"
      ],
      "metadata": {
        "colab": {
          "base_uri": "https://localhost:8080/",
          "height": 211
        },
        "outputId": "acc1c65d-f22b-46df-f4cd-3b80392794f3",
        "id": "uVTOqM_m5IQR"
      },
      "execution_count": null,
      "outputs": [
        {
          "output_type": "error",
          "ename": "NameError",
          "evalue": "name 'model2_result_dict_val_en_be' is not defined",
          "traceback": [
            "\u001b[0;31m---------------------------------------------------------------------------\u001b[0m",
            "\u001b[0;31mNameError\u001b[0m                                 Traceback (most recent call last)",
            "\u001b[0;32m<ipython-input-127-19e60286e612>\u001b[0m in \u001b[0;36m<cell line: 3>\u001b[0;34m()\u001b[0m\n\u001b[1;32m      1\u001b[0m \u001b[0msentences\u001b[0m \u001b[0;34m=\u001b[0m \u001b[0;34m[\u001b[0m\u001b[0;34mf\"Sentence {i+1}\"\u001b[0m \u001b[0;32mfor\u001b[0m \u001b[0mi\u001b[0m \u001b[0;32min\u001b[0m \u001b[0mrange\u001b[0m\u001b[0;34m(\u001b[0m\u001b[0;36m32\u001b[0m\u001b[0;34m)\u001b[0m\u001b[0;34m]\u001b[0m\u001b[0;34m\u001b[0m\u001b[0;34m\u001b[0m\u001b[0m\n\u001b[1;32m      2\u001b[0m \u001b[0;34m\u001b[0m\u001b[0m\n\u001b[0;32m----> 3\u001b[0;31m \u001b[0mbleu_scores\u001b[0m \u001b[0;34m=\u001b[0m \u001b[0mmodel2_result_dict_val_en_be\u001b[0m\u001b[0;34m[\u001b[0m\u001b[0;34m'bleu_score_list'\u001b[0m\u001b[0;34m]\u001b[0m\u001b[0;34m\u001b[0m\u001b[0;34m\u001b[0m\u001b[0m\n\u001b[0m\u001b[1;32m      4\u001b[0m \u001b[0mgoogle_bleu_scores\u001b[0m \u001b[0;34m=\u001b[0m \u001b[0mmodel2_result_dict_val_en_be\u001b[0m\u001b[0;34m[\u001b[0m\u001b[0;34m'google_bleu_score_list'\u001b[0m\u001b[0;34m]\u001b[0m\u001b[0;34m\u001b[0m\u001b[0;34m\u001b[0m\u001b[0m\n\u001b[1;32m      5\u001b[0m \u001b[0;34m\u001b[0m\u001b[0m\n",
            "\u001b[0;31mNameError\u001b[0m: name 'model2_result_dict_val_en_be' is not defined"
          ]
        }
      ]
    },
    {
      "cell_type": "code",
      "source": [
        "sentences = [f\"Sentence {i+1}\" for i in range(32)]\n",
        "\n",
        "bleu_scores = model2_result_dict_val_be_en['bleu_score_list']\n",
        "google_bleu_scores = model2_result_dict_val_be_en['google_bleu_score_list']\n",
        "\n",
        "# Create a DataFrame to hold the scores\n",
        "df = pd.DataFrame({\n",
        "    'Sentence': sentences,\n",
        "    'BLEU': bleu_scores,\n",
        "    'Google BLEU': google_bleu_scores,\n",
        "})\n",
        "\n",
        "# Plotting\n",
        "plt.figure(figsize=(10, 6))\n",
        "\n",
        "# Plot each score type\n",
        "plt.plot(df['Sentence'], df['BLEU'], label='BLEU', marker='o', linestyle='-', color='b')\n",
        "plt.plot(df['Sentence'], df['Google BLEU'], label='Google BLEU', marker='o', linestyle='-', color='g')\n",
        "\n",
        "# Adding labels and title\n",
        "plt.xlabel('Sentence')\n",
        "plt.ylabel('Score')\n",
        "plt.title('Comparison of BLEU and Google BLEU Scores Across Sentences in the Validation Set (be - en)')\n",
        "\n",
        "# Rotate x-axis labels for better readability\n",
        "plt.xticks(rotation=45)\n",
        "\n",
        "# Add a legend\n",
        "plt.legend()\n",
        "\n",
        "# Show plot\n",
        "plt.tight_layout()\n",
        "plt.show()"
      ],
      "metadata": {
        "colab": {
          "base_uri": "https://localhost:8080/",
          "height": 211
        },
        "outputId": "acba9d6a-07b4-41bb-b077-dac4dbb70131",
        "id": "QlLhMUPA5IQR"
      },
      "execution_count": null,
      "outputs": [
        {
          "output_type": "error",
          "ename": "NameError",
          "evalue": "name 'model2_result_dict_val_be_en' is not defined",
          "traceback": [
            "\u001b[0;31m---------------------------------------------------------------------------\u001b[0m",
            "\u001b[0;31mNameError\u001b[0m                                 Traceback (most recent call last)",
            "\u001b[0;32m<ipython-input-128-0cb9ef01dab7>\u001b[0m in \u001b[0;36m<cell line: 3>\u001b[0;34m()\u001b[0m\n\u001b[1;32m      1\u001b[0m \u001b[0msentences\u001b[0m \u001b[0;34m=\u001b[0m \u001b[0;34m[\u001b[0m\u001b[0;34mf\"Sentence {i+1}\"\u001b[0m \u001b[0;32mfor\u001b[0m \u001b[0mi\u001b[0m \u001b[0;32min\u001b[0m \u001b[0mrange\u001b[0m\u001b[0;34m(\u001b[0m\u001b[0;36m32\u001b[0m\u001b[0;34m)\u001b[0m\u001b[0;34m]\u001b[0m\u001b[0;34m\u001b[0m\u001b[0;34m\u001b[0m\u001b[0m\n\u001b[1;32m      2\u001b[0m \u001b[0;34m\u001b[0m\u001b[0m\n\u001b[0;32m----> 3\u001b[0;31m \u001b[0mbleu_scores\u001b[0m \u001b[0;34m=\u001b[0m \u001b[0mmodel2_result_dict_val_be_en\u001b[0m\u001b[0;34m[\u001b[0m\u001b[0;34m'bleu_score_list'\u001b[0m\u001b[0;34m]\u001b[0m\u001b[0;34m\u001b[0m\u001b[0;34m\u001b[0m\u001b[0m\n\u001b[0m\u001b[1;32m      4\u001b[0m \u001b[0mgoogle_bleu_scores\u001b[0m \u001b[0;34m=\u001b[0m \u001b[0mmodel2_result_dict_val_be_en\u001b[0m\u001b[0;34m[\u001b[0m\u001b[0;34m'google_bleu_score_list'\u001b[0m\u001b[0;34m]\u001b[0m\u001b[0;34m\u001b[0m\u001b[0;34m\u001b[0m\u001b[0m\n\u001b[1;32m      5\u001b[0m \u001b[0;34m\u001b[0m\u001b[0m\n",
            "\u001b[0;31mNameError\u001b[0m: name 'model2_result_dict_val_be_en' is not defined"
          ]
        }
      ]
    },
    {
      "cell_type": "code",
      "source": [
        "sentences = [f\"Sentence {i+1}\" for i in range(32)]\n",
        "sacrebleu_scores_en_be = model2_result_dict_val_en_be['sacrebleu_score_list']\n",
        "sacrebleu_score_be_en = model2_result_dict_val_be_en['sacrebleu_score_list']\n",
        "\n",
        "# Create a DataFrame to hold the scores\n",
        "df = pd.DataFrame({\n",
        "    'Sentence': sentences,\n",
        "    'SacreBLEU (en-be)': sacrebleu_scores_en_be,\n",
        "    'SacreBLEU (be-en)': sacrebleu_scores_be_en,\n",
        "})\n",
        "\n",
        "# Plotting\n",
        "plt.figure(figsize=(10, 6))\n",
        "\n",
        "# Plot each score type\n",
        "plt.plot(df['Sentence'], df['SacreBLEU (en-be)'], label='SacreBLEU (en-be)', marker='o', linestyle='-', color='y')\n",
        "plt.plot(df['Sentence'], df['SacreBLEU (be-en)'], label='SacreBLEU (be-en)', marker='o', linestyle='-', color='r')\n",
        "\n",
        "# Adding labels and title\n",
        "plt.xlabel('Sentence')\n",
        "plt.ylabel('Score')\n",
        "plt.title('Comparison of SacreBLEU Scores Across Sentences in the Validation Sets (en - be, be - en)')\n",
        "\n",
        "# Rotate x-axis labels for better readability\n",
        "plt.xticks(rotation=45)\n",
        "\n",
        "# Add a legend\n",
        "plt.legend()\n",
        "\n",
        "# Show plot\n",
        "plt.tight_layout()\n",
        "plt.show()"
      ],
      "metadata": {
        "colab": {
          "base_uri": "https://localhost:8080/",
          "height": 211
        },
        "outputId": "7436bcde-9c78-4df2-a3a2-4d36ceabac9c",
        "id": "CyUejLpV5IQR"
      },
      "execution_count": null,
      "outputs": [
        {
          "output_type": "error",
          "ename": "NameError",
          "evalue": "name 'model2_result_dict_val_en_be' is not defined",
          "traceback": [
            "\u001b[0;31m---------------------------------------------------------------------------\u001b[0m",
            "\u001b[0;31mNameError\u001b[0m                                 Traceback (most recent call last)",
            "\u001b[0;32m<ipython-input-129-734f06e5f2be>\u001b[0m in \u001b[0;36m<cell line: 2>\u001b[0;34m()\u001b[0m\n\u001b[1;32m      1\u001b[0m \u001b[0msentences\u001b[0m \u001b[0;34m=\u001b[0m \u001b[0;34m[\u001b[0m\u001b[0;34mf\"Sentence {i+1}\"\u001b[0m \u001b[0;32mfor\u001b[0m \u001b[0mi\u001b[0m \u001b[0;32min\u001b[0m \u001b[0mrange\u001b[0m\u001b[0;34m(\u001b[0m\u001b[0;36m32\u001b[0m\u001b[0;34m)\u001b[0m\u001b[0;34m]\u001b[0m\u001b[0;34m\u001b[0m\u001b[0;34m\u001b[0m\u001b[0m\n\u001b[0;32m----> 2\u001b[0;31m \u001b[0msacrebleu_scores_en_be\u001b[0m \u001b[0;34m=\u001b[0m \u001b[0mmodel2_result_dict_val_en_be\u001b[0m\u001b[0;34m[\u001b[0m\u001b[0;34m'sacrebleu_score_list'\u001b[0m\u001b[0;34m]\u001b[0m\u001b[0;34m\u001b[0m\u001b[0;34m\u001b[0m\u001b[0m\n\u001b[0m\u001b[1;32m      3\u001b[0m \u001b[0msacrebleu_score_be_en\u001b[0m \u001b[0;34m=\u001b[0m \u001b[0mmodel2_result_dict_val_be_en\u001b[0m\u001b[0;34m[\u001b[0m\u001b[0;34m'sacrebleu_score_list'\u001b[0m\u001b[0;34m]\u001b[0m\u001b[0;34m\u001b[0m\u001b[0;34m\u001b[0m\u001b[0m\n\u001b[1;32m      4\u001b[0m \u001b[0;34m\u001b[0m\u001b[0m\n\u001b[1;32m      5\u001b[0m \u001b[0;31m# Create a DataFrame to hold the scores\u001b[0m\u001b[0;34m\u001b[0m\u001b[0;34m\u001b[0m\u001b[0m\n",
            "\u001b[0;31mNameError\u001b[0m: name 'model2_result_dict_val_en_be' is not defined"
          ]
        }
      ]
    },
    {
      "cell_type": "code",
      "source": [
        "from torch.utils.tensorboard import SummaryWriter\n",
        "import re\n",
        "import torch\n",
        "import tensorflow as tf\n",
        "import tensorboard as tb\n",
        "import os"
      ],
      "metadata": {
        "id": "aeS2Yo7NBWJ5"
      },
      "execution_count": null,
      "outputs": []
    },
    {
      "cell_type": "markdown",
      "source": [
        "## Visualisation of Hidden Layers of Model 2"
      ],
      "metadata": {
        "id": "j0NL7Enz-evZ"
      }
    },
    {
      "cell_type": "code",
      "source": [
        "path = \"/content/drive/MyDrive/Colab Notebooks/sample_cl_trainer/checkpoint-40/results_vis\"\n",
        "layer=0\n",
        "if not os.path.exists(path):\n",
        "  os.mkdir(path)\n",
        "\n",
        "while layer in range(len(outputs['hidden_states'])):\n",
        "  if not os.path.exists(path+'/layer_' + str(layer)):\n",
        "    os.mkdir(path+'/layer_' + str(layer))\n",
        "\n",
        "  example = 0\n",
        "  tensors = []\n",
        "  labels = []\n",
        "\n",
        "  while example in range(len(outputs['hidden_states'][layer])):\n",
        "    sp_token_position = 0\n",
        "    for token in model_inputs['input_ids'][example]:\n",
        "      if token != 101:\n",
        "        sp_token_position += 1\n",
        "      else:\n",
        "        tensor = outputs['hidden_states'][layer][example][sp_token_position]\n",
        "        tensors.append(tensor)\n",
        "        break\n",
        "\n",
        "    label = [small_tokenized_dataset['val']['text'][example],str(small_tokenized_dataset['val']['label'][example])]\n",
        "    labels.append(label)\n",
        "    example +=1\n",
        "\n",
        "  writer=SummaryWriter(path+'/layer_' + str(layer))\n",
        "  writer.add_embedding(torch.stack(tensors), metadata=labels, metadata_header=['Source','Tranlsation'])\n",
        "\n",
        "  layer+=1"
      ],
      "metadata": {
        "id": "Ua2ejc04-dw4"
      },
      "execution_count": null,
      "outputs": []
    },
    {
      "cell_type": "markdown",
      "source": [
        "# Final Comparison"
      ],
      "metadata": {
        "id": "7p-riLGPAkuO"
      }
    },
    {
      "cell_type": "code",
      "source": [],
      "metadata": {
        "id": "dOlQjckMAjTJ"
      },
      "execution_count": null,
      "outputs": []
    },
    {
      "cell_type": "markdown",
      "source": [
        "Now you can upload metadata and tensor file into the TensorFlow Embedding Projector API.\n",
        "\n",
        "👋 ⚒ Compare the visualization of Layer 1 and Layer 6. To this end, go to the API, click on the option Load and load the two TSV-files stored in your local results_viz folder in layer_1 first.\n",
        "\n",
        "Change the setting Color byto Emotionand the visualization method to Custom instead of PCA. Take a screenshot of the visualization before you do the same for Layer 6."
      ],
      "metadata": {
        "id": "sc3bCkDYA53e"
      }
    },
    {
      "cell_type": "markdown",
      "source": [
        "# References\n",
        "*   Model 1: https://huggingface.co/WelfCrozzo/T5-L128-belarusian\n",
        "*   Model 2: https://huggingface.co/google/mt5-small\n",
        "*   Fine-tuning Dataset: https://huggingface.co/datasets/Helsinki-NLP/opus-100/viewer/be-en\n",
        "*   BLEU Score: https://huggingface.co/spaces/evaluate-metric/bleu\n",
        "*   SacreBLEU: https://huggingface.co/spaces/evaluate-metric/sacrebleu\n",
        "*   Google BLEU Score: https://huggingface.co/spaces/evaluate-metric/google_bleu\n",
        "*   mT5 Paper: https://arxiv.org/pdf/2010.11934\n",
        "*   mt5 Video: https://www.youtube.com/watch?v=xbLo6jt3_Bc\n",
        "*   C4 Training Dataset of mt5: https://www.tensorflow.org/datasets/catalog/c4#c4multilingual\n",
        "*   mt5 on AIModels.fyi: https://www.aimodels.fyi/models/huggingFace/mt5-small-google\n",
        "*   Tensorflow: https://projector.tensorflow.org/\n",
        "*   mt5 for MT: https://stackoverflow.com/questions/76040850/can-mt5-model-on-huggingface-be-used-for-machine-translation\n",
        "*   Fine-tuning Code Example: https://github.com/ejmejm/multilingual-nmt-mt5/blob/main/nmt_full_version.ipynb\n",
        "*   Documentation recommenden by the Professor: https://huggingface.co/docs/transformers/tasks/translation\n",
        "\n",
        "\n",
        "\n",
        "\n"
      ],
      "metadata": {
        "id": "lxK4Upl5FxUG"
      }
    }
  ]
}