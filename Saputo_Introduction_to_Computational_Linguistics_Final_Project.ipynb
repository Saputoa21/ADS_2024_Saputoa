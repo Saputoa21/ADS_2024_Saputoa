{
  "nbformat": 4,
  "nbformat_minor": 0,
  "metadata": {
    "colab": {
      "provenance": [],
      "authorship_tag": "ABX9TyMLdBz631r300vkEkhagObt",
      "include_colab_link": true
    },
    "kernelspec": {
      "name": "python3",
      "display_name": "Python 3"
    },
    "language_info": {
      "name": "python"
    }
  },
  "cells": [
    {
      "cell_type": "markdown",
      "metadata": {
        "id": "view-in-github",
        "colab_type": "text"
      },
      "source": [
        "<a href=\"https://colab.research.google.com/github/Saputoa21/ADS_2024_Saputoa/blob/master/Saputo_Introduction_to_Computational_Linguistics_Final_Project.ipynb\" target=\"_parent\"><img src=\"https://colab.research.google.com/assets/colab-badge.svg\" alt=\"Open In Colab\"/></a>"
      ]
    },
    {
      "cell_type": "markdown",
      "source": [
        "# The Final Project\n",
        "\n",
        "**Description**:\n",
        "\n",
        "\n",
        "\n"
      ],
      "metadata": {
        "id": "mBiXxhmywsa0"
      }
    },
    {
      "cell_type": "markdown",
      "source": [
        "# The Workflow of the Project\n",
        "\n",
        "1.   Loading Models\n",
        "2.   Loading Dataset\n",
        "3.   \n",
        "\n"
      ],
      "metadata": {
        "id": "sr4WIH_iw9qL"
      }
    },
    {
      "cell_type": "code",
      "execution_count": null,
      "metadata": {
        "id": "gGdv8YY5wYX3"
      },
      "outputs": [],
      "source": []
    }
  ]
}