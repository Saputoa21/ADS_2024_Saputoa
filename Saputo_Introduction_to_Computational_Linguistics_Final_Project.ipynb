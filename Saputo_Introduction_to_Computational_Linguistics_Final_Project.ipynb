{
  "nbformat": 4,
  "nbformat_minor": 0,
  "metadata": {
    "colab": {
      "provenance": [],
      "authorship_tag": "ABX9TyOudkeD8K2Fb7+ALHv0teps",
      "include_colab_link": true
    },
    "kernelspec": {
      "name": "python3",
      "display_name": "Python 3"
    },
    "language_info": {
      "name": "python"
    },
    "widgets": {
      "application/vnd.jupyter.widget-state+json": {
        "9b002c615eae4c08a2340b588f53fd28": {
          "model_module": "@jupyter-widgets/controls",
          "model_name": "HBoxModel",
          "model_module_version": "1.5.0",
          "state": {
            "_dom_classes": [],
            "_model_module": "@jupyter-widgets/controls",
            "_model_module_version": "1.5.0",
            "_model_name": "HBoxModel",
            "_view_count": null,
            "_view_module": "@jupyter-widgets/controls",
            "_view_module_version": "1.5.0",
            "_view_name": "HBoxView",
            "box_style": "",
            "children": [
              "IPY_MODEL_989ff10b58ec48efb3c95b2e20a748d2",
              "IPY_MODEL_5f2b5cae2e814e9993b3e2e6d67e8828",
              "IPY_MODEL_6db19bdb31e6451eb425df4a1ede5af7"
            ],
            "layout": "IPY_MODEL_7a2ecd412c1141cbbc6ff01ac7f0cd25"
          }
        },
        "989ff10b58ec48efb3c95b2e20a748d2": {
          "model_module": "@jupyter-widgets/controls",
          "model_name": "HTMLModel",
          "model_module_version": "1.5.0",
          "state": {
            "_dom_classes": [],
            "_model_module": "@jupyter-widgets/controls",
            "_model_module_version": "1.5.0",
            "_model_name": "HTMLModel",
            "_view_count": null,
            "_view_module": "@jupyter-widgets/controls",
            "_view_module_version": "1.5.0",
            "_view_name": "HTMLView",
            "description": "",
            "description_tooltip": null,
            "layout": "IPY_MODEL_f64a409941414a5d804027cd2e78d7f1",
            "placeholder": "​",
            "style": "IPY_MODEL_49de5615e41048d2a4e7c9464cefccc8",
            "value": "Map: 100%"
          }
        },
        "5f2b5cae2e814e9993b3e2e6d67e8828": {
          "model_module": "@jupyter-widgets/controls",
          "model_name": "FloatProgressModel",
          "model_module_version": "1.5.0",
          "state": {
            "_dom_classes": [],
            "_model_module": "@jupyter-widgets/controls",
            "_model_module_version": "1.5.0",
            "_model_name": "FloatProgressModel",
            "_view_count": null,
            "_view_module": "@jupyter-widgets/controls",
            "_view_module_version": "1.5.0",
            "_view_name": "ProgressView",
            "bar_style": "success",
            "description": "",
            "description_tooltip": null,
            "layout": "IPY_MODEL_80a62e5059a84eb39c46f63eb427aef2",
            "max": 2000,
            "min": 0,
            "orientation": "horizontal",
            "style": "IPY_MODEL_ef8b8f17b4334f6bb66e6d53ec0204e8",
            "value": 2000
          }
        },
        "6db19bdb31e6451eb425df4a1ede5af7": {
          "model_module": "@jupyter-widgets/controls",
          "model_name": "HTMLModel",
          "model_module_version": "1.5.0",
          "state": {
            "_dom_classes": [],
            "_model_module": "@jupyter-widgets/controls",
            "_model_module_version": "1.5.0",
            "_model_name": "HTMLModel",
            "_view_count": null,
            "_view_module": "@jupyter-widgets/controls",
            "_view_module_version": "1.5.0",
            "_view_name": "HTMLView",
            "description": "",
            "description_tooltip": null,
            "layout": "IPY_MODEL_87cba4a97a9942bf97d215fdb96c0480",
            "placeholder": "​",
            "style": "IPY_MODEL_16102c8464d84693867551a26dc8b9f5",
            "value": " 2000/2000 [00:00&lt;00:00, 3434.47 examples/s]"
          }
        },
        "7a2ecd412c1141cbbc6ff01ac7f0cd25": {
          "model_module": "@jupyter-widgets/base",
          "model_name": "LayoutModel",
          "model_module_version": "1.2.0",
          "state": {
            "_model_module": "@jupyter-widgets/base",
            "_model_module_version": "1.2.0",
            "_model_name": "LayoutModel",
            "_view_count": null,
            "_view_module": "@jupyter-widgets/base",
            "_view_module_version": "1.2.0",
            "_view_name": "LayoutView",
            "align_content": null,
            "align_items": null,
            "align_self": null,
            "border": null,
            "bottom": null,
            "display": null,
            "flex": null,
            "flex_flow": null,
            "grid_area": null,
            "grid_auto_columns": null,
            "grid_auto_flow": null,
            "grid_auto_rows": null,
            "grid_column": null,
            "grid_gap": null,
            "grid_row": null,
            "grid_template_areas": null,
            "grid_template_columns": null,
            "grid_template_rows": null,
            "height": null,
            "justify_content": null,
            "justify_items": null,
            "left": null,
            "margin": null,
            "max_height": null,
            "max_width": null,
            "min_height": null,
            "min_width": null,
            "object_fit": null,
            "object_position": null,
            "order": null,
            "overflow": null,
            "overflow_x": null,
            "overflow_y": null,
            "padding": null,
            "right": null,
            "top": null,
            "visibility": null,
            "width": null
          }
        },
        "f64a409941414a5d804027cd2e78d7f1": {
          "model_module": "@jupyter-widgets/base",
          "model_name": "LayoutModel",
          "model_module_version": "1.2.0",
          "state": {
            "_model_module": "@jupyter-widgets/base",
            "_model_module_version": "1.2.0",
            "_model_name": "LayoutModel",
            "_view_count": null,
            "_view_module": "@jupyter-widgets/base",
            "_view_module_version": "1.2.0",
            "_view_name": "LayoutView",
            "align_content": null,
            "align_items": null,
            "align_self": null,
            "border": null,
            "bottom": null,
            "display": null,
            "flex": null,
            "flex_flow": null,
            "grid_area": null,
            "grid_auto_columns": null,
            "grid_auto_flow": null,
            "grid_auto_rows": null,
            "grid_column": null,
            "grid_gap": null,
            "grid_row": null,
            "grid_template_areas": null,
            "grid_template_columns": null,
            "grid_template_rows": null,
            "height": null,
            "justify_content": null,
            "justify_items": null,
            "left": null,
            "margin": null,
            "max_height": null,
            "max_width": null,
            "min_height": null,
            "min_width": null,
            "object_fit": null,
            "object_position": null,
            "order": null,
            "overflow": null,
            "overflow_x": null,
            "overflow_y": null,
            "padding": null,
            "right": null,
            "top": null,
            "visibility": null,
            "width": null
          }
        },
        "49de5615e41048d2a4e7c9464cefccc8": {
          "model_module": "@jupyter-widgets/controls",
          "model_name": "DescriptionStyleModel",
          "model_module_version": "1.5.0",
          "state": {
            "_model_module": "@jupyter-widgets/controls",
            "_model_module_version": "1.5.0",
            "_model_name": "DescriptionStyleModel",
            "_view_count": null,
            "_view_module": "@jupyter-widgets/base",
            "_view_module_version": "1.2.0",
            "_view_name": "StyleView",
            "description_width": ""
          }
        },
        "80a62e5059a84eb39c46f63eb427aef2": {
          "model_module": "@jupyter-widgets/base",
          "model_name": "LayoutModel",
          "model_module_version": "1.2.0",
          "state": {
            "_model_module": "@jupyter-widgets/base",
            "_model_module_version": "1.2.0",
            "_model_name": "LayoutModel",
            "_view_count": null,
            "_view_module": "@jupyter-widgets/base",
            "_view_module_version": "1.2.0",
            "_view_name": "LayoutView",
            "align_content": null,
            "align_items": null,
            "align_self": null,
            "border": null,
            "bottom": null,
            "display": null,
            "flex": null,
            "flex_flow": null,
            "grid_area": null,
            "grid_auto_columns": null,
            "grid_auto_flow": null,
            "grid_auto_rows": null,
            "grid_column": null,
            "grid_gap": null,
            "grid_row": null,
            "grid_template_areas": null,
            "grid_template_columns": null,
            "grid_template_rows": null,
            "height": null,
            "justify_content": null,
            "justify_items": null,
            "left": null,
            "margin": null,
            "max_height": null,
            "max_width": null,
            "min_height": null,
            "min_width": null,
            "object_fit": null,
            "object_position": null,
            "order": null,
            "overflow": null,
            "overflow_x": null,
            "overflow_y": null,
            "padding": null,
            "right": null,
            "top": null,
            "visibility": null,
            "width": null
          }
        },
        "ef8b8f17b4334f6bb66e6d53ec0204e8": {
          "model_module": "@jupyter-widgets/controls",
          "model_name": "ProgressStyleModel",
          "model_module_version": "1.5.0",
          "state": {
            "_model_module": "@jupyter-widgets/controls",
            "_model_module_version": "1.5.0",
            "_model_name": "ProgressStyleModel",
            "_view_count": null,
            "_view_module": "@jupyter-widgets/base",
            "_view_module_version": "1.2.0",
            "_view_name": "StyleView",
            "bar_color": null,
            "description_width": ""
          }
        },
        "87cba4a97a9942bf97d215fdb96c0480": {
          "model_module": "@jupyter-widgets/base",
          "model_name": "LayoutModel",
          "model_module_version": "1.2.0",
          "state": {
            "_model_module": "@jupyter-widgets/base",
            "_model_module_version": "1.2.0",
            "_model_name": "LayoutModel",
            "_view_count": null,
            "_view_module": "@jupyter-widgets/base",
            "_view_module_version": "1.2.0",
            "_view_name": "LayoutView",
            "align_content": null,
            "align_items": null,
            "align_self": null,
            "border": null,
            "bottom": null,
            "display": null,
            "flex": null,
            "flex_flow": null,
            "grid_area": null,
            "grid_auto_columns": null,
            "grid_auto_flow": null,
            "grid_auto_rows": null,
            "grid_column": null,
            "grid_gap": null,
            "grid_row": null,
            "grid_template_areas": null,
            "grid_template_columns": null,
            "grid_template_rows": null,
            "height": null,
            "justify_content": null,
            "justify_items": null,
            "left": null,
            "margin": null,
            "max_height": null,
            "max_width": null,
            "min_height": null,
            "min_width": null,
            "object_fit": null,
            "object_position": null,
            "order": null,
            "overflow": null,
            "overflow_x": null,
            "overflow_y": null,
            "padding": null,
            "right": null,
            "top": null,
            "visibility": null,
            "width": null
          }
        },
        "16102c8464d84693867551a26dc8b9f5": {
          "model_module": "@jupyter-widgets/controls",
          "model_name": "DescriptionStyleModel",
          "model_module_version": "1.5.0",
          "state": {
            "_model_module": "@jupyter-widgets/controls",
            "_model_module_version": "1.5.0",
            "_model_name": "DescriptionStyleModel",
            "_view_count": null,
            "_view_module": "@jupyter-widgets/base",
            "_view_module_version": "1.2.0",
            "_view_name": "StyleView",
            "description_width": ""
          }
        },
        "d0de8e45c48d4a8c94e2bd0faaafe1a7": {
          "model_module": "@jupyter-widgets/controls",
          "model_name": "HBoxModel",
          "model_module_version": "1.5.0",
          "state": {
            "_dom_classes": [],
            "_model_module": "@jupyter-widgets/controls",
            "_model_module_version": "1.5.0",
            "_model_name": "HBoxModel",
            "_view_count": null,
            "_view_module": "@jupyter-widgets/controls",
            "_view_module_version": "1.5.0",
            "_view_name": "HBoxView",
            "box_style": "",
            "children": [
              "IPY_MODEL_8ac7b9bd4c3b4b838c1d534efa4be5fb",
              "IPY_MODEL_199e18d63c884bbf95712d4311a9dd31",
              "IPY_MODEL_3bbede8b48cf44f5a5b3193b230d4d45"
            ],
            "layout": "IPY_MODEL_a5fc84b8bf9e4193a0f91bd6ba973305"
          }
        },
        "8ac7b9bd4c3b4b838c1d534efa4be5fb": {
          "model_module": "@jupyter-widgets/controls",
          "model_name": "HTMLModel",
          "model_module_version": "1.5.0",
          "state": {
            "_dom_classes": [],
            "_model_module": "@jupyter-widgets/controls",
            "_model_module_version": "1.5.0",
            "_model_name": "HTMLModel",
            "_view_count": null,
            "_view_module": "@jupyter-widgets/controls",
            "_view_module_version": "1.5.0",
            "_view_name": "HTMLView",
            "description": "",
            "description_tooltip": null,
            "layout": "IPY_MODEL_a409b4552fa44c08b048b224fb48906d",
            "placeholder": "​",
            "style": "IPY_MODEL_95fa4018aec142de9fe752d98aa11958",
            "value": "Map: 100%"
          }
        },
        "199e18d63c884bbf95712d4311a9dd31": {
          "model_module": "@jupyter-widgets/controls",
          "model_name": "FloatProgressModel",
          "model_module_version": "1.5.0",
          "state": {
            "_dom_classes": [],
            "_model_module": "@jupyter-widgets/controls",
            "_model_module_version": "1.5.0",
            "_model_name": "FloatProgressModel",
            "_view_count": null,
            "_view_module": "@jupyter-widgets/controls",
            "_view_module_version": "1.5.0",
            "_view_name": "ProgressView",
            "bar_style": "success",
            "description": "",
            "description_tooltip": null,
            "layout": "IPY_MODEL_b34209f642294c09ba9d48371b877087",
            "max": 200,
            "min": 0,
            "orientation": "horizontal",
            "style": "IPY_MODEL_bd8310d76777476e881de2a8e0b9895e",
            "value": 200
          }
        },
        "3bbede8b48cf44f5a5b3193b230d4d45": {
          "model_module": "@jupyter-widgets/controls",
          "model_name": "HTMLModel",
          "model_module_version": "1.5.0",
          "state": {
            "_dom_classes": [],
            "_model_module": "@jupyter-widgets/controls",
            "_model_module_version": "1.5.0",
            "_model_name": "HTMLModel",
            "_view_count": null,
            "_view_module": "@jupyter-widgets/controls",
            "_view_module_version": "1.5.0",
            "_view_name": "HTMLView",
            "description": "",
            "description_tooltip": null,
            "layout": "IPY_MODEL_24d0f94bba7f422dba75cd8d7e0ed5bb",
            "placeholder": "​",
            "style": "IPY_MODEL_0fb5662d44ac40bcb8ec4e71524ce1aa",
            "value": " 200/200 [00:00&lt;00:00, 2208.93 examples/s]"
          }
        },
        "a5fc84b8bf9e4193a0f91bd6ba973305": {
          "model_module": "@jupyter-widgets/base",
          "model_name": "LayoutModel",
          "model_module_version": "1.2.0",
          "state": {
            "_model_module": "@jupyter-widgets/base",
            "_model_module_version": "1.2.0",
            "_model_name": "LayoutModel",
            "_view_count": null,
            "_view_module": "@jupyter-widgets/base",
            "_view_module_version": "1.2.0",
            "_view_name": "LayoutView",
            "align_content": null,
            "align_items": null,
            "align_self": null,
            "border": null,
            "bottom": null,
            "display": null,
            "flex": null,
            "flex_flow": null,
            "grid_area": null,
            "grid_auto_columns": null,
            "grid_auto_flow": null,
            "grid_auto_rows": null,
            "grid_column": null,
            "grid_gap": null,
            "grid_row": null,
            "grid_template_areas": null,
            "grid_template_columns": null,
            "grid_template_rows": null,
            "height": null,
            "justify_content": null,
            "justify_items": null,
            "left": null,
            "margin": null,
            "max_height": null,
            "max_width": null,
            "min_height": null,
            "min_width": null,
            "object_fit": null,
            "object_position": null,
            "order": null,
            "overflow": null,
            "overflow_x": null,
            "overflow_y": null,
            "padding": null,
            "right": null,
            "top": null,
            "visibility": null,
            "width": null
          }
        },
        "a409b4552fa44c08b048b224fb48906d": {
          "model_module": "@jupyter-widgets/base",
          "model_name": "LayoutModel",
          "model_module_version": "1.2.0",
          "state": {
            "_model_module": "@jupyter-widgets/base",
            "_model_module_version": "1.2.0",
            "_model_name": "LayoutModel",
            "_view_count": null,
            "_view_module": "@jupyter-widgets/base",
            "_view_module_version": "1.2.0",
            "_view_name": "LayoutView",
            "align_content": null,
            "align_items": null,
            "align_self": null,
            "border": null,
            "bottom": null,
            "display": null,
            "flex": null,
            "flex_flow": null,
            "grid_area": null,
            "grid_auto_columns": null,
            "grid_auto_flow": null,
            "grid_auto_rows": null,
            "grid_column": null,
            "grid_gap": null,
            "grid_row": null,
            "grid_template_areas": null,
            "grid_template_columns": null,
            "grid_template_rows": null,
            "height": null,
            "justify_content": null,
            "justify_items": null,
            "left": null,
            "margin": null,
            "max_height": null,
            "max_width": null,
            "min_height": null,
            "min_width": null,
            "object_fit": null,
            "object_position": null,
            "order": null,
            "overflow": null,
            "overflow_x": null,
            "overflow_y": null,
            "padding": null,
            "right": null,
            "top": null,
            "visibility": null,
            "width": null
          }
        },
        "95fa4018aec142de9fe752d98aa11958": {
          "model_module": "@jupyter-widgets/controls",
          "model_name": "DescriptionStyleModel",
          "model_module_version": "1.5.0",
          "state": {
            "_model_module": "@jupyter-widgets/controls",
            "_model_module_version": "1.5.0",
            "_model_name": "DescriptionStyleModel",
            "_view_count": null,
            "_view_module": "@jupyter-widgets/base",
            "_view_module_version": "1.2.0",
            "_view_name": "StyleView",
            "description_width": ""
          }
        },
        "b34209f642294c09ba9d48371b877087": {
          "model_module": "@jupyter-widgets/base",
          "model_name": "LayoutModel",
          "model_module_version": "1.2.0",
          "state": {
            "_model_module": "@jupyter-widgets/base",
            "_model_module_version": "1.2.0",
            "_model_name": "LayoutModel",
            "_view_count": null,
            "_view_module": "@jupyter-widgets/base",
            "_view_module_version": "1.2.0",
            "_view_name": "LayoutView",
            "align_content": null,
            "align_items": null,
            "align_self": null,
            "border": null,
            "bottom": null,
            "display": null,
            "flex": null,
            "flex_flow": null,
            "grid_area": null,
            "grid_auto_columns": null,
            "grid_auto_flow": null,
            "grid_auto_rows": null,
            "grid_column": null,
            "grid_gap": null,
            "grid_row": null,
            "grid_template_areas": null,
            "grid_template_columns": null,
            "grid_template_rows": null,
            "height": null,
            "justify_content": null,
            "justify_items": null,
            "left": null,
            "margin": null,
            "max_height": null,
            "max_width": null,
            "min_height": null,
            "min_width": null,
            "object_fit": null,
            "object_position": null,
            "order": null,
            "overflow": null,
            "overflow_x": null,
            "overflow_y": null,
            "padding": null,
            "right": null,
            "top": null,
            "visibility": null,
            "width": null
          }
        },
        "bd8310d76777476e881de2a8e0b9895e": {
          "model_module": "@jupyter-widgets/controls",
          "model_name": "ProgressStyleModel",
          "model_module_version": "1.5.0",
          "state": {
            "_model_module": "@jupyter-widgets/controls",
            "_model_module_version": "1.5.0",
            "_model_name": "ProgressStyleModel",
            "_view_count": null,
            "_view_module": "@jupyter-widgets/base",
            "_view_module_version": "1.2.0",
            "_view_name": "StyleView",
            "bar_color": null,
            "description_width": ""
          }
        },
        "24d0f94bba7f422dba75cd8d7e0ed5bb": {
          "model_module": "@jupyter-widgets/base",
          "model_name": "LayoutModel",
          "model_module_version": "1.2.0",
          "state": {
            "_model_module": "@jupyter-widgets/base",
            "_model_module_version": "1.2.0",
            "_model_name": "LayoutModel",
            "_view_count": null,
            "_view_module": "@jupyter-widgets/base",
            "_view_module_version": "1.2.0",
            "_view_name": "LayoutView",
            "align_content": null,
            "align_items": null,
            "align_self": null,
            "border": null,
            "bottom": null,
            "display": null,
            "flex": null,
            "flex_flow": null,
            "grid_area": null,
            "grid_auto_columns": null,
            "grid_auto_flow": null,
            "grid_auto_rows": null,
            "grid_column": null,
            "grid_gap": null,
            "grid_row": null,
            "grid_template_areas": null,
            "grid_template_columns": null,
            "grid_template_rows": null,
            "height": null,
            "justify_content": null,
            "justify_items": null,
            "left": null,
            "margin": null,
            "max_height": null,
            "max_width": null,
            "min_height": null,
            "min_width": null,
            "object_fit": null,
            "object_position": null,
            "order": null,
            "overflow": null,
            "overflow_x": null,
            "overflow_y": null,
            "padding": null,
            "right": null,
            "top": null,
            "visibility": null,
            "width": null
          }
        },
        "0fb5662d44ac40bcb8ec4e71524ce1aa": {
          "model_module": "@jupyter-widgets/controls",
          "model_name": "DescriptionStyleModel",
          "model_module_version": "1.5.0",
          "state": {
            "_model_module": "@jupyter-widgets/controls",
            "_model_module_version": "1.5.0",
            "_model_name": "DescriptionStyleModel",
            "_view_count": null,
            "_view_module": "@jupyter-widgets/base",
            "_view_module_version": "1.2.0",
            "_view_name": "StyleView",
            "description_width": ""
          }
        },
        "8eff942293d74fa9af76993aff2b1b79": {
          "model_module": "@jupyter-widgets/controls",
          "model_name": "HBoxModel",
          "model_module_version": "1.5.0",
          "state": {
            "_dom_classes": [],
            "_model_module": "@jupyter-widgets/controls",
            "_model_module_version": "1.5.0",
            "_model_name": "HBoxModel",
            "_view_count": null,
            "_view_module": "@jupyter-widgets/controls",
            "_view_module_version": "1.5.0",
            "_view_name": "HBoxView",
            "box_style": "",
            "children": [
              "IPY_MODEL_2c9dfb0e4f764d75881e36f7589f2ed7",
              "IPY_MODEL_afe29eededa44819ad1e7ac58832a60d",
              "IPY_MODEL_dfb37479dc854aa2b741aa573aa60bab"
            ],
            "layout": "IPY_MODEL_f86fbaf944604a2d9564883501502743"
          }
        },
        "2c9dfb0e4f764d75881e36f7589f2ed7": {
          "model_module": "@jupyter-widgets/controls",
          "model_name": "HTMLModel",
          "model_module_version": "1.5.0",
          "state": {
            "_dom_classes": [],
            "_model_module": "@jupyter-widgets/controls",
            "_model_module_version": "1.5.0",
            "_model_name": "HTMLModel",
            "_view_count": null,
            "_view_module": "@jupyter-widgets/controls",
            "_view_module_version": "1.5.0",
            "_view_name": "HTMLView",
            "description": "",
            "description_tooltip": null,
            "layout": "IPY_MODEL_2fc05d90798e4e9590c82ed5b4953727",
            "placeholder": "​",
            "style": "IPY_MODEL_a2714805d008474faad24a2b0a925de8",
            "value": "Map: 100%"
          }
        },
        "afe29eededa44819ad1e7ac58832a60d": {
          "model_module": "@jupyter-widgets/controls",
          "model_name": "FloatProgressModel",
          "model_module_version": "1.5.0",
          "state": {
            "_dom_classes": [],
            "_model_module": "@jupyter-widgets/controls",
            "_model_module_version": "1.5.0",
            "_model_name": "FloatProgressModel",
            "_view_count": null,
            "_view_module": "@jupyter-widgets/controls",
            "_view_module_version": "1.5.0",
            "_view_name": "ProgressView",
            "bar_style": "success",
            "description": "",
            "description_tooltip": null,
            "layout": "IPY_MODEL_b65da226733547648cac82e8fdb2044e",
            "max": 200,
            "min": 0,
            "orientation": "horizontal",
            "style": "IPY_MODEL_9b16b06f627841a0b802bf19710897f5",
            "value": 200
          }
        },
        "dfb37479dc854aa2b741aa573aa60bab": {
          "model_module": "@jupyter-widgets/controls",
          "model_name": "HTMLModel",
          "model_module_version": "1.5.0",
          "state": {
            "_dom_classes": [],
            "_model_module": "@jupyter-widgets/controls",
            "_model_module_version": "1.5.0",
            "_model_name": "HTMLModel",
            "_view_count": null,
            "_view_module": "@jupyter-widgets/controls",
            "_view_module_version": "1.5.0",
            "_view_name": "HTMLView",
            "description": "",
            "description_tooltip": null,
            "layout": "IPY_MODEL_e53e3129b0d148b9ba1808c06efaebdf",
            "placeholder": "​",
            "style": "IPY_MODEL_cab7b361a35a412d8b2ab9c3ccef7a93",
            "value": " 200/200 [00:00&lt;00:00, 1975.79 examples/s]"
          }
        },
        "f86fbaf944604a2d9564883501502743": {
          "model_module": "@jupyter-widgets/base",
          "model_name": "LayoutModel",
          "model_module_version": "1.2.0",
          "state": {
            "_model_module": "@jupyter-widgets/base",
            "_model_module_version": "1.2.0",
            "_model_name": "LayoutModel",
            "_view_count": null,
            "_view_module": "@jupyter-widgets/base",
            "_view_module_version": "1.2.0",
            "_view_name": "LayoutView",
            "align_content": null,
            "align_items": null,
            "align_self": null,
            "border": null,
            "bottom": null,
            "display": null,
            "flex": null,
            "flex_flow": null,
            "grid_area": null,
            "grid_auto_columns": null,
            "grid_auto_flow": null,
            "grid_auto_rows": null,
            "grid_column": null,
            "grid_gap": null,
            "grid_row": null,
            "grid_template_areas": null,
            "grid_template_columns": null,
            "grid_template_rows": null,
            "height": null,
            "justify_content": null,
            "justify_items": null,
            "left": null,
            "margin": null,
            "max_height": null,
            "max_width": null,
            "min_height": null,
            "min_width": null,
            "object_fit": null,
            "object_position": null,
            "order": null,
            "overflow": null,
            "overflow_x": null,
            "overflow_y": null,
            "padding": null,
            "right": null,
            "top": null,
            "visibility": null,
            "width": null
          }
        },
        "2fc05d90798e4e9590c82ed5b4953727": {
          "model_module": "@jupyter-widgets/base",
          "model_name": "LayoutModel",
          "model_module_version": "1.2.0",
          "state": {
            "_model_module": "@jupyter-widgets/base",
            "_model_module_version": "1.2.0",
            "_model_name": "LayoutModel",
            "_view_count": null,
            "_view_module": "@jupyter-widgets/base",
            "_view_module_version": "1.2.0",
            "_view_name": "LayoutView",
            "align_content": null,
            "align_items": null,
            "align_self": null,
            "border": null,
            "bottom": null,
            "display": null,
            "flex": null,
            "flex_flow": null,
            "grid_area": null,
            "grid_auto_columns": null,
            "grid_auto_flow": null,
            "grid_auto_rows": null,
            "grid_column": null,
            "grid_gap": null,
            "grid_row": null,
            "grid_template_areas": null,
            "grid_template_columns": null,
            "grid_template_rows": null,
            "height": null,
            "justify_content": null,
            "justify_items": null,
            "left": null,
            "margin": null,
            "max_height": null,
            "max_width": null,
            "min_height": null,
            "min_width": null,
            "object_fit": null,
            "object_position": null,
            "order": null,
            "overflow": null,
            "overflow_x": null,
            "overflow_y": null,
            "padding": null,
            "right": null,
            "top": null,
            "visibility": null,
            "width": null
          }
        },
        "a2714805d008474faad24a2b0a925de8": {
          "model_module": "@jupyter-widgets/controls",
          "model_name": "DescriptionStyleModel",
          "model_module_version": "1.5.0",
          "state": {
            "_model_module": "@jupyter-widgets/controls",
            "_model_module_version": "1.5.0",
            "_model_name": "DescriptionStyleModel",
            "_view_count": null,
            "_view_module": "@jupyter-widgets/base",
            "_view_module_version": "1.2.0",
            "_view_name": "StyleView",
            "description_width": ""
          }
        },
        "b65da226733547648cac82e8fdb2044e": {
          "model_module": "@jupyter-widgets/base",
          "model_name": "LayoutModel",
          "model_module_version": "1.2.0",
          "state": {
            "_model_module": "@jupyter-widgets/base",
            "_model_module_version": "1.2.0",
            "_model_name": "LayoutModel",
            "_view_count": null,
            "_view_module": "@jupyter-widgets/base",
            "_view_module_version": "1.2.0",
            "_view_name": "LayoutView",
            "align_content": null,
            "align_items": null,
            "align_self": null,
            "border": null,
            "bottom": null,
            "display": null,
            "flex": null,
            "flex_flow": null,
            "grid_area": null,
            "grid_auto_columns": null,
            "grid_auto_flow": null,
            "grid_auto_rows": null,
            "grid_column": null,
            "grid_gap": null,
            "grid_row": null,
            "grid_template_areas": null,
            "grid_template_columns": null,
            "grid_template_rows": null,
            "height": null,
            "justify_content": null,
            "justify_items": null,
            "left": null,
            "margin": null,
            "max_height": null,
            "max_width": null,
            "min_height": null,
            "min_width": null,
            "object_fit": null,
            "object_position": null,
            "order": null,
            "overflow": null,
            "overflow_x": null,
            "overflow_y": null,
            "padding": null,
            "right": null,
            "top": null,
            "visibility": null,
            "width": null
          }
        },
        "9b16b06f627841a0b802bf19710897f5": {
          "model_module": "@jupyter-widgets/controls",
          "model_name": "ProgressStyleModel",
          "model_module_version": "1.5.0",
          "state": {
            "_model_module": "@jupyter-widgets/controls",
            "_model_module_version": "1.5.0",
            "_model_name": "ProgressStyleModel",
            "_view_count": null,
            "_view_module": "@jupyter-widgets/base",
            "_view_module_version": "1.2.0",
            "_view_name": "StyleView",
            "bar_color": null,
            "description_width": ""
          }
        },
        "e53e3129b0d148b9ba1808c06efaebdf": {
          "model_module": "@jupyter-widgets/base",
          "model_name": "LayoutModel",
          "model_module_version": "1.2.0",
          "state": {
            "_model_module": "@jupyter-widgets/base",
            "_model_module_version": "1.2.0",
            "_model_name": "LayoutModel",
            "_view_count": null,
            "_view_module": "@jupyter-widgets/base",
            "_view_module_version": "1.2.0",
            "_view_name": "LayoutView",
            "align_content": null,
            "align_items": null,
            "align_self": null,
            "border": null,
            "bottom": null,
            "display": null,
            "flex": null,
            "flex_flow": null,
            "grid_area": null,
            "grid_auto_columns": null,
            "grid_auto_flow": null,
            "grid_auto_rows": null,
            "grid_column": null,
            "grid_gap": null,
            "grid_row": null,
            "grid_template_areas": null,
            "grid_template_columns": null,
            "grid_template_rows": null,
            "height": null,
            "justify_content": null,
            "justify_items": null,
            "left": null,
            "margin": null,
            "max_height": null,
            "max_width": null,
            "min_height": null,
            "min_width": null,
            "object_fit": null,
            "object_position": null,
            "order": null,
            "overflow": null,
            "overflow_x": null,
            "overflow_y": null,
            "padding": null,
            "right": null,
            "top": null,
            "visibility": null,
            "width": null
          }
        },
        "cab7b361a35a412d8b2ab9c3ccef7a93": {
          "model_module": "@jupyter-widgets/controls",
          "model_name": "DescriptionStyleModel",
          "model_module_version": "1.5.0",
          "state": {
            "_model_module": "@jupyter-widgets/controls",
            "_model_module_version": "1.5.0",
            "_model_name": "DescriptionStyleModel",
            "_view_count": null,
            "_view_module": "@jupyter-widgets/base",
            "_view_module_version": "1.2.0",
            "_view_name": "StyleView",
            "description_width": ""
          }
        },
        "363ea548bcd34e7bb2257823f5328fe5": {
          "model_module": "@jupyter-widgets/controls",
          "model_name": "HBoxModel",
          "model_module_version": "1.5.0",
          "state": {
            "_dom_classes": [],
            "_model_module": "@jupyter-widgets/controls",
            "_model_module_version": "1.5.0",
            "_model_name": "HBoxModel",
            "_view_count": null,
            "_view_module": "@jupyter-widgets/controls",
            "_view_module_version": "1.5.0",
            "_view_name": "HBoxView",
            "box_style": "",
            "children": [
              "IPY_MODEL_65b335b4e4504abcae49f95c47b78738",
              "IPY_MODEL_e6033bd8f97244ef90768a878caa1e95",
              "IPY_MODEL_2d4de76f27fd492eb2146a681f766104"
            ],
            "layout": "IPY_MODEL_cff65b7d361c463084f782699fb54e15"
          }
        },
        "65b335b4e4504abcae49f95c47b78738": {
          "model_module": "@jupyter-widgets/controls",
          "model_name": "HTMLModel",
          "model_module_version": "1.5.0",
          "state": {
            "_dom_classes": [],
            "_model_module": "@jupyter-widgets/controls",
            "_model_module_version": "1.5.0",
            "_model_name": "HTMLModel",
            "_view_count": null,
            "_view_module": "@jupyter-widgets/controls",
            "_view_module_version": "1.5.0",
            "_view_name": "HTMLView",
            "description": "",
            "description_tooltip": null,
            "layout": "IPY_MODEL_065e3c57c7ef41538a12abc2d73f9778",
            "placeholder": "​",
            "style": "IPY_MODEL_3b28ad3b8b514c2cb2b97641498c5985",
            "value": "Map: 100%"
          }
        },
        "e6033bd8f97244ef90768a878caa1e95": {
          "model_module": "@jupyter-widgets/controls",
          "model_name": "FloatProgressModel",
          "model_module_version": "1.5.0",
          "state": {
            "_dom_classes": [],
            "_model_module": "@jupyter-widgets/controls",
            "_model_module_version": "1.5.0",
            "_model_name": "FloatProgressModel",
            "_view_count": null,
            "_view_module": "@jupyter-widgets/controls",
            "_view_module_version": "1.5.0",
            "_view_name": "ProgressView",
            "bar_style": "success",
            "description": "",
            "description_tooltip": null,
            "layout": "IPY_MODEL_4d72d4daec264f1281ed0f6435016a6c",
            "max": 200,
            "min": 0,
            "orientation": "horizontal",
            "style": "IPY_MODEL_9df06857e7c0449cbf51a7976282841d",
            "value": 200
          }
        },
        "2d4de76f27fd492eb2146a681f766104": {
          "model_module": "@jupyter-widgets/controls",
          "model_name": "HTMLModel",
          "model_module_version": "1.5.0",
          "state": {
            "_dom_classes": [],
            "_model_module": "@jupyter-widgets/controls",
            "_model_module_version": "1.5.0",
            "_model_name": "HTMLModel",
            "_view_count": null,
            "_view_module": "@jupyter-widgets/controls",
            "_view_module_version": "1.5.0",
            "_view_name": "HTMLView",
            "description": "",
            "description_tooltip": null,
            "layout": "IPY_MODEL_af0bab785610448fadba561f0c4f2b7b",
            "placeholder": "​",
            "style": "IPY_MODEL_b6d1dfd46c5f484cbf74d2c27115b915",
            "value": " 200/200 [00:00&lt;00:00, 690.45 examples/s]"
          }
        },
        "cff65b7d361c463084f782699fb54e15": {
          "model_module": "@jupyter-widgets/base",
          "model_name": "LayoutModel",
          "model_module_version": "1.2.0",
          "state": {
            "_model_module": "@jupyter-widgets/base",
            "_model_module_version": "1.2.0",
            "_model_name": "LayoutModel",
            "_view_count": null,
            "_view_module": "@jupyter-widgets/base",
            "_view_module_version": "1.2.0",
            "_view_name": "LayoutView",
            "align_content": null,
            "align_items": null,
            "align_self": null,
            "border": null,
            "bottom": null,
            "display": null,
            "flex": null,
            "flex_flow": null,
            "grid_area": null,
            "grid_auto_columns": null,
            "grid_auto_flow": null,
            "grid_auto_rows": null,
            "grid_column": null,
            "grid_gap": null,
            "grid_row": null,
            "grid_template_areas": null,
            "grid_template_columns": null,
            "grid_template_rows": null,
            "height": null,
            "justify_content": null,
            "justify_items": null,
            "left": null,
            "margin": null,
            "max_height": null,
            "max_width": null,
            "min_height": null,
            "min_width": null,
            "object_fit": null,
            "object_position": null,
            "order": null,
            "overflow": null,
            "overflow_x": null,
            "overflow_y": null,
            "padding": null,
            "right": null,
            "top": null,
            "visibility": null,
            "width": null
          }
        },
        "065e3c57c7ef41538a12abc2d73f9778": {
          "model_module": "@jupyter-widgets/base",
          "model_name": "LayoutModel",
          "model_module_version": "1.2.0",
          "state": {
            "_model_module": "@jupyter-widgets/base",
            "_model_module_version": "1.2.0",
            "_model_name": "LayoutModel",
            "_view_count": null,
            "_view_module": "@jupyter-widgets/base",
            "_view_module_version": "1.2.0",
            "_view_name": "LayoutView",
            "align_content": null,
            "align_items": null,
            "align_self": null,
            "border": null,
            "bottom": null,
            "display": null,
            "flex": null,
            "flex_flow": null,
            "grid_area": null,
            "grid_auto_columns": null,
            "grid_auto_flow": null,
            "grid_auto_rows": null,
            "grid_column": null,
            "grid_gap": null,
            "grid_row": null,
            "grid_template_areas": null,
            "grid_template_columns": null,
            "grid_template_rows": null,
            "height": null,
            "justify_content": null,
            "justify_items": null,
            "left": null,
            "margin": null,
            "max_height": null,
            "max_width": null,
            "min_height": null,
            "min_width": null,
            "object_fit": null,
            "object_position": null,
            "order": null,
            "overflow": null,
            "overflow_x": null,
            "overflow_y": null,
            "padding": null,
            "right": null,
            "top": null,
            "visibility": null,
            "width": null
          }
        },
        "3b28ad3b8b514c2cb2b97641498c5985": {
          "model_module": "@jupyter-widgets/controls",
          "model_name": "DescriptionStyleModel",
          "model_module_version": "1.5.0",
          "state": {
            "_model_module": "@jupyter-widgets/controls",
            "_model_module_version": "1.5.0",
            "_model_name": "DescriptionStyleModel",
            "_view_count": null,
            "_view_module": "@jupyter-widgets/base",
            "_view_module_version": "1.2.0",
            "_view_name": "StyleView",
            "description_width": ""
          }
        },
        "4d72d4daec264f1281ed0f6435016a6c": {
          "model_module": "@jupyter-widgets/base",
          "model_name": "LayoutModel",
          "model_module_version": "1.2.0",
          "state": {
            "_model_module": "@jupyter-widgets/base",
            "_model_module_version": "1.2.0",
            "_model_name": "LayoutModel",
            "_view_count": null,
            "_view_module": "@jupyter-widgets/base",
            "_view_module_version": "1.2.0",
            "_view_name": "LayoutView",
            "align_content": null,
            "align_items": null,
            "align_self": null,
            "border": null,
            "bottom": null,
            "display": null,
            "flex": null,
            "flex_flow": null,
            "grid_area": null,
            "grid_auto_columns": null,
            "grid_auto_flow": null,
            "grid_auto_rows": null,
            "grid_column": null,
            "grid_gap": null,
            "grid_row": null,
            "grid_template_areas": null,
            "grid_template_columns": null,
            "grid_template_rows": null,
            "height": null,
            "justify_content": null,
            "justify_items": null,
            "left": null,
            "margin": null,
            "max_height": null,
            "max_width": null,
            "min_height": null,
            "min_width": null,
            "object_fit": null,
            "object_position": null,
            "order": null,
            "overflow": null,
            "overflow_x": null,
            "overflow_y": null,
            "padding": null,
            "right": null,
            "top": null,
            "visibility": null,
            "width": null
          }
        },
        "9df06857e7c0449cbf51a7976282841d": {
          "model_module": "@jupyter-widgets/controls",
          "model_name": "ProgressStyleModel",
          "model_module_version": "1.5.0",
          "state": {
            "_model_module": "@jupyter-widgets/controls",
            "_model_module_version": "1.5.0",
            "_model_name": "ProgressStyleModel",
            "_view_count": null,
            "_view_module": "@jupyter-widgets/base",
            "_view_module_version": "1.2.0",
            "_view_name": "StyleView",
            "bar_color": null,
            "description_width": ""
          }
        },
        "af0bab785610448fadba561f0c4f2b7b": {
          "model_module": "@jupyter-widgets/base",
          "model_name": "LayoutModel",
          "model_module_version": "1.2.0",
          "state": {
            "_model_module": "@jupyter-widgets/base",
            "_model_module_version": "1.2.0",
            "_model_name": "LayoutModel",
            "_view_count": null,
            "_view_module": "@jupyter-widgets/base",
            "_view_module_version": "1.2.0",
            "_view_name": "LayoutView",
            "align_content": null,
            "align_items": null,
            "align_self": null,
            "border": null,
            "bottom": null,
            "display": null,
            "flex": null,
            "flex_flow": null,
            "grid_area": null,
            "grid_auto_columns": null,
            "grid_auto_flow": null,
            "grid_auto_rows": null,
            "grid_column": null,
            "grid_gap": null,
            "grid_row": null,
            "grid_template_areas": null,
            "grid_template_columns": null,
            "grid_template_rows": null,
            "height": null,
            "justify_content": null,
            "justify_items": null,
            "left": null,
            "margin": null,
            "max_height": null,
            "max_width": null,
            "min_height": null,
            "min_width": null,
            "object_fit": null,
            "object_position": null,
            "order": null,
            "overflow": null,
            "overflow_x": null,
            "overflow_y": null,
            "padding": null,
            "right": null,
            "top": null,
            "visibility": null,
            "width": null
          }
        },
        "b6d1dfd46c5f484cbf74d2c27115b915": {
          "model_module": "@jupyter-widgets/controls",
          "model_name": "DescriptionStyleModel",
          "model_module_version": "1.5.0",
          "state": {
            "_model_module": "@jupyter-widgets/controls",
            "_model_module_version": "1.5.0",
            "_model_name": "DescriptionStyleModel",
            "_view_count": null,
            "_view_module": "@jupyter-widgets/base",
            "_view_module_version": "1.2.0",
            "_view_name": "StyleView",
            "description_width": ""
          }
        },
        "0e12c21c997540b0a0422dc9a68c03ae": {
          "model_module": "@jupyter-widgets/controls",
          "model_name": "HBoxModel",
          "model_module_version": "1.5.0",
          "state": {
            "_dom_classes": [],
            "_model_module": "@jupyter-widgets/controls",
            "_model_module_version": "1.5.0",
            "_model_name": "HBoxModel",
            "_view_count": null,
            "_view_module": "@jupyter-widgets/controls",
            "_view_module_version": "1.5.0",
            "_view_name": "HBoxView",
            "box_style": "",
            "children": [
              "IPY_MODEL_365b747d79394328bac27bd1c8dfdc43",
              "IPY_MODEL_2d11e87af8974bf39326bb6c8d84686b",
              "IPY_MODEL_233f505f92cb4051bc91feef105e693b"
            ],
            "layout": "IPY_MODEL_ed412d702eb9468488bac1bcc3a8eda5"
          }
        },
        "365b747d79394328bac27bd1c8dfdc43": {
          "model_module": "@jupyter-widgets/controls",
          "model_name": "HTMLModel",
          "model_module_version": "1.5.0",
          "state": {
            "_dom_classes": [],
            "_model_module": "@jupyter-widgets/controls",
            "_model_module_version": "1.5.0",
            "_model_name": "HTMLModel",
            "_view_count": null,
            "_view_module": "@jupyter-widgets/controls",
            "_view_module_version": "1.5.0",
            "_view_name": "HTMLView",
            "description": "",
            "description_tooltip": null,
            "layout": "IPY_MODEL_3aa83066f06f4e8abc1455e4487ce496",
            "placeholder": "​",
            "style": "IPY_MODEL_8f8b88aad79047fa91a898d2001b8133",
            "value": "config.json: 100%"
          }
        },
        "2d11e87af8974bf39326bb6c8d84686b": {
          "model_module": "@jupyter-widgets/controls",
          "model_name": "FloatProgressModel",
          "model_module_version": "1.5.0",
          "state": {
            "_dom_classes": [],
            "_model_module": "@jupyter-widgets/controls",
            "_model_module_version": "1.5.0",
            "_model_name": "FloatProgressModel",
            "_view_count": null,
            "_view_module": "@jupyter-widgets/controls",
            "_view_module_version": "1.5.0",
            "_view_name": "ProgressView",
            "bar_style": "success",
            "description": "",
            "description_tooltip": null,
            "layout": "IPY_MODEL_a24e92e66e0f45df91de3ba3e148ca34",
            "max": 1206,
            "min": 0,
            "orientation": "horizontal",
            "style": "IPY_MODEL_71672d8d8f824c1780c7a79a27136054",
            "value": 1206
          }
        },
        "233f505f92cb4051bc91feef105e693b": {
          "model_module": "@jupyter-widgets/controls",
          "model_name": "HTMLModel",
          "model_module_version": "1.5.0",
          "state": {
            "_dom_classes": [],
            "_model_module": "@jupyter-widgets/controls",
            "_model_module_version": "1.5.0",
            "_model_name": "HTMLModel",
            "_view_count": null,
            "_view_module": "@jupyter-widgets/controls",
            "_view_module_version": "1.5.0",
            "_view_name": "HTMLView",
            "description": "",
            "description_tooltip": null,
            "layout": "IPY_MODEL_d9cf1d6728f74b39a8d3175c4a0eddb1",
            "placeholder": "​",
            "style": "IPY_MODEL_1b6fa8cb06c3416b8538cbd7ae6b9570",
            "value": " 1.21k/1.21k [00:00&lt;00:00, 18.6kB/s]"
          }
        },
        "ed412d702eb9468488bac1bcc3a8eda5": {
          "model_module": "@jupyter-widgets/base",
          "model_name": "LayoutModel",
          "model_module_version": "1.2.0",
          "state": {
            "_model_module": "@jupyter-widgets/base",
            "_model_module_version": "1.2.0",
            "_model_name": "LayoutModel",
            "_view_count": null,
            "_view_module": "@jupyter-widgets/base",
            "_view_module_version": "1.2.0",
            "_view_name": "LayoutView",
            "align_content": null,
            "align_items": null,
            "align_self": null,
            "border": null,
            "bottom": null,
            "display": null,
            "flex": null,
            "flex_flow": null,
            "grid_area": null,
            "grid_auto_columns": null,
            "grid_auto_flow": null,
            "grid_auto_rows": null,
            "grid_column": null,
            "grid_gap": null,
            "grid_row": null,
            "grid_template_areas": null,
            "grid_template_columns": null,
            "grid_template_rows": null,
            "height": null,
            "justify_content": null,
            "justify_items": null,
            "left": null,
            "margin": null,
            "max_height": null,
            "max_width": null,
            "min_height": null,
            "min_width": null,
            "object_fit": null,
            "object_position": null,
            "order": null,
            "overflow": null,
            "overflow_x": null,
            "overflow_y": null,
            "padding": null,
            "right": null,
            "top": null,
            "visibility": null,
            "width": null
          }
        },
        "3aa83066f06f4e8abc1455e4487ce496": {
          "model_module": "@jupyter-widgets/base",
          "model_name": "LayoutModel",
          "model_module_version": "1.2.0",
          "state": {
            "_model_module": "@jupyter-widgets/base",
            "_model_module_version": "1.2.0",
            "_model_name": "LayoutModel",
            "_view_count": null,
            "_view_module": "@jupyter-widgets/base",
            "_view_module_version": "1.2.0",
            "_view_name": "LayoutView",
            "align_content": null,
            "align_items": null,
            "align_self": null,
            "border": null,
            "bottom": null,
            "display": null,
            "flex": null,
            "flex_flow": null,
            "grid_area": null,
            "grid_auto_columns": null,
            "grid_auto_flow": null,
            "grid_auto_rows": null,
            "grid_column": null,
            "grid_gap": null,
            "grid_row": null,
            "grid_template_areas": null,
            "grid_template_columns": null,
            "grid_template_rows": null,
            "height": null,
            "justify_content": null,
            "justify_items": null,
            "left": null,
            "margin": null,
            "max_height": null,
            "max_width": null,
            "min_height": null,
            "min_width": null,
            "object_fit": null,
            "object_position": null,
            "order": null,
            "overflow": null,
            "overflow_x": null,
            "overflow_y": null,
            "padding": null,
            "right": null,
            "top": null,
            "visibility": null,
            "width": null
          }
        },
        "8f8b88aad79047fa91a898d2001b8133": {
          "model_module": "@jupyter-widgets/controls",
          "model_name": "DescriptionStyleModel",
          "model_module_version": "1.5.0",
          "state": {
            "_model_module": "@jupyter-widgets/controls",
            "_model_module_version": "1.5.0",
            "_model_name": "DescriptionStyleModel",
            "_view_count": null,
            "_view_module": "@jupyter-widgets/base",
            "_view_module_version": "1.2.0",
            "_view_name": "StyleView",
            "description_width": ""
          }
        },
        "a24e92e66e0f45df91de3ba3e148ca34": {
          "model_module": "@jupyter-widgets/base",
          "model_name": "LayoutModel",
          "model_module_version": "1.2.0",
          "state": {
            "_model_module": "@jupyter-widgets/base",
            "_model_module_version": "1.2.0",
            "_model_name": "LayoutModel",
            "_view_count": null,
            "_view_module": "@jupyter-widgets/base",
            "_view_module_version": "1.2.0",
            "_view_name": "LayoutView",
            "align_content": null,
            "align_items": null,
            "align_self": null,
            "border": null,
            "bottom": null,
            "display": null,
            "flex": null,
            "flex_flow": null,
            "grid_area": null,
            "grid_auto_columns": null,
            "grid_auto_flow": null,
            "grid_auto_rows": null,
            "grid_column": null,
            "grid_gap": null,
            "grid_row": null,
            "grid_template_areas": null,
            "grid_template_columns": null,
            "grid_template_rows": null,
            "height": null,
            "justify_content": null,
            "justify_items": null,
            "left": null,
            "margin": null,
            "max_height": null,
            "max_width": null,
            "min_height": null,
            "min_width": null,
            "object_fit": null,
            "object_position": null,
            "order": null,
            "overflow": null,
            "overflow_x": null,
            "overflow_y": null,
            "padding": null,
            "right": null,
            "top": null,
            "visibility": null,
            "width": null
          }
        },
        "71672d8d8f824c1780c7a79a27136054": {
          "model_module": "@jupyter-widgets/controls",
          "model_name": "ProgressStyleModel",
          "model_module_version": "1.5.0",
          "state": {
            "_model_module": "@jupyter-widgets/controls",
            "_model_module_version": "1.5.0",
            "_model_name": "ProgressStyleModel",
            "_view_count": null,
            "_view_module": "@jupyter-widgets/base",
            "_view_module_version": "1.2.0",
            "_view_name": "StyleView",
            "bar_color": null,
            "description_width": ""
          }
        },
        "d9cf1d6728f74b39a8d3175c4a0eddb1": {
          "model_module": "@jupyter-widgets/base",
          "model_name": "LayoutModel",
          "model_module_version": "1.2.0",
          "state": {
            "_model_module": "@jupyter-widgets/base",
            "_model_module_version": "1.2.0",
            "_model_name": "LayoutModel",
            "_view_count": null,
            "_view_module": "@jupyter-widgets/base",
            "_view_module_version": "1.2.0",
            "_view_name": "LayoutView",
            "align_content": null,
            "align_items": null,
            "align_self": null,
            "border": null,
            "bottom": null,
            "display": null,
            "flex": null,
            "flex_flow": null,
            "grid_area": null,
            "grid_auto_columns": null,
            "grid_auto_flow": null,
            "grid_auto_rows": null,
            "grid_column": null,
            "grid_gap": null,
            "grid_row": null,
            "grid_template_areas": null,
            "grid_template_columns": null,
            "grid_template_rows": null,
            "height": null,
            "justify_content": null,
            "justify_items": null,
            "left": null,
            "margin": null,
            "max_height": null,
            "max_width": null,
            "min_height": null,
            "min_width": null,
            "object_fit": null,
            "object_position": null,
            "order": null,
            "overflow": null,
            "overflow_x": null,
            "overflow_y": null,
            "padding": null,
            "right": null,
            "top": null,
            "visibility": null,
            "width": null
          }
        },
        "1b6fa8cb06c3416b8538cbd7ae6b9570": {
          "model_module": "@jupyter-widgets/controls",
          "model_name": "DescriptionStyleModel",
          "model_module_version": "1.5.0",
          "state": {
            "_model_module": "@jupyter-widgets/controls",
            "_model_module_version": "1.5.0",
            "_model_name": "DescriptionStyleModel",
            "_view_count": null,
            "_view_module": "@jupyter-widgets/base",
            "_view_module_version": "1.2.0",
            "_view_name": "StyleView",
            "description_width": ""
          }
        },
        "f5be5b5f39b14429ad93b9a14b46fb2b": {
          "model_module": "@jupyter-widgets/controls",
          "model_name": "HBoxModel",
          "model_module_version": "1.5.0",
          "state": {
            "_dom_classes": [],
            "_model_module": "@jupyter-widgets/controls",
            "_model_module_version": "1.5.0",
            "_model_name": "HBoxModel",
            "_view_count": null,
            "_view_module": "@jupyter-widgets/controls",
            "_view_module_version": "1.5.0",
            "_view_name": "HBoxView",
            "box_style": "",
            "children": [
              "IPY_MODEL_c60fa391f67e45ca82ee630685e328e8",
              "IPY_MODEL_54fce1b0ac054a869fbe8de6d13afdb6",
              "IPY_MODEL_18bad40377ce4214a6b7e7be1d81854e"
            ],
            "layout": "IPY_MODEL_7b24dcdaf3c6472a856f87ddc134b76a"
          }
        },
        "c60fa391f67e45ca82ee630685e328e8": {
          "model_module": "@jupyter-widgets/controls",
          "model_name": "HTMLModel",
          "model_module_version": "1.5.0",
          "state": {
            "_dom_classes": [],
            "_model_module": "@jupyter-widgets/controls",
            "_model_module_version": "1.5.0",
            "_model_name": "HTMLModel",
            "_view_count": null,
            "_view_module": "@jupyter-widgets/controls",
            "_view_module_version": "1.5.0",
            "_view_name": "HTMLView",
            "description": "",
            "description_tooltip": null,
            "layout": "IPY_MODEL_972c36de031e4f149ea6a78f4c713038",
            "placeholder": "​",
            "style": "IPY_MODEL_c4a80d8c4a6c4431bf3d9e6b784bddb4",
            "value": "model.safetensors: 100%"
          }
        },
        "54fce1b0ac054a869fbe8de6d13afdb6": {
          "model_module": "@jupyter-widgets/controls",
          "model_name": "FloatProgressModel",
          "model_module_version": "1.5.0",
          "state": {
            "_dom_classes": [],
            "_model_module": "@jupyter-widgets/controls",
            "_model_module_version": "1.5.0",
            "_model_name": "FloatProgressModel",
            "_view_count": null,
            "_view_module": "@jupyter-widgets/controls",
            "_view_module_version": "1.5.0",
            "_view_name": "ProgressView",
            "bar_style": "success",
            "description": "",
            "description_tooltip": null,
            "layout": "IPY_MODEL_c1bf3f52b6a0454db25c76463659f894",
            "max": 242043056,
            "min": 0,
            "orientation": "horizontal",
            "style": "IPY_MODEL_ead164edbd7547009a9ba7df6bafe103",
            "value": 242043056
          }
        },
        "18bad40377ce4214a6b7e7be1d81854e": {
          "model_module": "@jupyter-widgets/controls",
          "model_name": "HTMLModel",
          "model_module_version": "1.5.0",
          "state": {
            "_dom_classes": [],
            "_model_module": "@jupyter-widgets/controls",
            "_model_module_version": "1.5.0",
            "_model_name": "HTMLModel",
            "_view_count": null,
            "_view_module": "@jupyter-widgets/controls",
            "_view_module_version": "1.5.0",
            "_view_name": "HTMLView",
            "description": "",
            "description_tooltip": null,
            "layout": "IPY_MODEL_8725b608cb16468b8c7b747344e1dd74",
            "placeholder": "​",
            "style": "IPY_MODEL_c884cf5bd9614895a28cf1842124dba7",
            "value": " 242M/242M [00:03&lt;00:00, 73.4MB/s]"
          }
        },
        "7b24dcdaf3c6472a856f87ddc134b76a": {
          "model_module": "@jupyter-widgets/base",
          "model_name": "LayoutModel",
          "model_module_version": "1.2.0",
          "state": {
            "_model_module": "@jupyter-widgets/base",
            "_model_module_version": "1.2.0",
            "_model_name": "LayoutModel",
            "_view_count": null,
            "_view_module": "@jupyter-widgets/base",
            "_view_module_version": "1.2.0",
            "_view_name": "LayoutView",
            "align_content": null,
            "align_items": null,
            "align_self": null,
            "border": null,
            "bottom": null,
            "display": null,
            "flex": null,
            "flex_flow": null,
            "grid_area": null,
            "grid_auto_columns": null,
            "grid_auto_flow": null,
            "grid_auto_rows": null,
            "grid_column": null,
            "grid_gap": null,
            "grid_row": null,
            "grid_template_areas": null,
            "grid_template_columns": null,
            "grid_template_rows": null,
            "height": null,
            "justify_content": null,
            "justify_items": null,
            "left": null,
            "margin": null,
            "max_height": null,
            "max_width": null,
            "min_height": null,
            "min_width": null,
            "object_fit": null,
            "object_position": null,
            "order": null,
            "overflow": null,
            "overflow_x": null,
            "overflow_y": null,
            "padding": null,
            "right": null,
            "top": null,
            "visibility": null,
            "width": null
          }
        },
        "972c36de031e4f149ea6a78f4c713038": {
          "model_module": "@jupyter-widgets/base",
          "model_name": "LayoutModel",
          "model_module_version": "1.2.0",
          "state": {
            "_model_module": "@jupyter-widgets/base",
            "_model_module_version": "1.2.0",
            "_model_name": "LayoutModel",
            "_view_count": null,
            "_view_module": "@jupyter-widgets/base",
            "_view_module_version": "1.2.0",
            "_view_name": "LayoutView",
            "align_content": null,
            "align_items": null,
            "align_self": null,
            "border": null,
            "bottom": null,
            "display": null,
            "flex": null,
            "flex_flow": null,
            "grid_area": null,
            "grid_auto_columns": null,
            "grid_auto_flow": null,
            "grid_auto_rows": null,
            "grid_column": null,
            "grid_gap": null,
            "grid_row": null,
            "grid_template_areas": null,
            "grid_template_columns": null,
            "grid_template_rows": null,
            "height": null,
            "justify_content": null,
            "justify_items": null,
            "left": null,
            "margin": null,
            "max_height": null,
            "max_width": null,
            "min_height": null,
            "min_width": null,
            "object_fit": null,
            "object_position": null,
            "order": null,
            "overflow": null,
            "overflow_x": null,
            "overflow_y": null,
            "padding": null,
            "right": null,
            "top": null,
            "visibility": null,
            "width": null
          }
        },
        "c4a80d8c4a6c4431bf3d9e6b784bddb4": {
          "model_module": "@jupyter-widgets/controls",
          "model_name": "DescriptionStyleModel",
          "model_module_version": "1.5.0",
          "state": {
            "_model_module": "@jupyter-widgets/controls",
            "_model_module_version": "1.5.0",
            "_model_name": "DescriptionStyleModel",
            "_view_count": null,
            "_view_module": "@jupyter-widgets/base",
            "_view_module_version": "1.2.0",
            "_view_name": "StyleView",
            "description_width": ""
          }
        },
        "c1bf3f52b6a0454db25c76463659f894": {
          "model_module": "@jupyter-widgets/base",
          "model_name": "LayoutModel",
          "model_module_version": "1.2.0",
          "state": {
            "_model_module": "@jupyter-widgets/base",
            "_model_module_version": "1.2.0",
            "_model_name": "LayoutModel",
            "_view_count": null,
            "_view_module": "@jupyter-widgets/base",
            "_view_module_version": "1.2.0",
            "_view_name": "LayoutView",
            "align_content": null,
            "align_items": null,
            "align_self": null,
            "border": null,
            "bottom": null,
            "display": null,
            "flex": null,
            "flex_flow": null,
            "grid_area": null,
            "grid_auto_columns": null,
            "grid_auto_flow": null,
            "grid_auto_rows": null,
            "grid_column": null,
            "grid_gap": null,
            "grid_row": null,
            "grid_template_areas": null,
            "grid_template_columns": null,
            "grid_template_rows": null,
            "height": null,
            "justify_content": null,
            "justify_items": null,
            "left": null,
            "margin": null,
            "max_height": null,
            "max_width": null,
            "min_height": null,
            "min_width": null,
            "object_fit": null,
            "object_position": null,
            "order": null,
            "overflow": null,
            "overflow_x": null,
            "overflow_y": null,
            "padding": null,
            "right": null,
            "top": null,
            "visibility": null,
            "width": null
          }
        },
        "ead164edbd7547009a9ba7df6bafe103": {
          "model_module": "@jupyter-widgets/controls",
          "model_name": "ProgressStyleModel",
          "model_module_version": "1.5.0",
          "state": {
            "_model_module": "@jupyter-widgets/controls",
            "_model_module_version": "1.5.0",
            "_model_name": "ProgressStyleModel",
            "_view_count": null,
            "_view_module": "@jupyter-widgets/base",
            "_view_module_version": "1.2.0",
            "_view_name": "StyleView",
            "bar_color": null,
            "description_width": ""
          }
        },
        "8725b608cb16468b8c7b747344e1dd74": {
          "model_module": "@jupyter-widgets/base",
          "model_name": "LayoutModel",
          "model_module_version": "1.2.0",
          "state": {
            "_model_module": "@jupyter-widgets/base",
            "_model_module_version": "1.2.0",
            "_model_name": "LayoutModel",
            "_view_count": null,
            "_view_module": "@jupyter-widgets/base",
            "_view_module_version": "1.2.0",
            "_view_name": "LayoutView",
            "align_content": null,
            "align_items": null,
            "align_self": null,
            "border": null,
            "bottom": null,
            "display": null,
            "flex": null,
            "flex_flow": null,
            "grid_area": null,
            "grid_auto_columns": null,
            "grid_auto_flow": null,
            "grid_auto_rows": null,
            "grid_column": null,
            "grid_gap": null,
            "grid_row": null,
            "grid_template_areas": null,
            "grid_template_columns": null,
            "grid_template_rows": null,
            "height": null,
            "justify_content": null,
            "justify_items": null,
            "left": null,
            "margin": null,
            "max_height": null,
            "max_width": null,
            "min_height": null,
            "min_width": null,
            "object_fit": null,
            "object_position": null,
            "order": null,
            "overflow": null,
            "overflow_x": null,
            "overflow_y": null,
            "padding": null,
            "right": null,
            "top": null,
            "visibility": null,
            "width": null
          }
        },
        "c884cf5bd9614895a28cf1842124dba7": {
          "model_module": "@jupyter-widgets/controls",
          "model_name": "DescriptionStyleModel",
          "model_module_version": "1.5.0",
          "state": {
            "_model_module": "@jupyter-widgets/controls",
            "_model_module_version": "1.5.0",
            "_model_name": "DescriptionStyleModel",
            "_view_count": null,
            "_view_module": "@jupyter-widgets/base",
            "_view_module_version": "1.2.0",
            "_view_name": "StyleView",
            "description_width": ""
          }
        },
        "a7ffd3052ef9475c91a2b15349cfe5f8": {
          "model_module": "@jupyter-widgets/controls",
          "model_name": "HBoxModel",
          "model_module_version": "1.5.0",
          "state": {
            "_dom_classes": [],
            "_model_module": "@jupyter-widgets/controls",
            "_model_module_version": "1.5.0",
            "_model_name": "HBoxModel",
            "_view_count": null,
            "_view_module": "@jupyter-widgets/controls",
            "_view_module_version": "1.5.0",
            "_view_name": "HBoxView",
            "box_style": "",
            "children": [
              "IPY_MODEL_4fa56508f0df4d2e8c71d24bfd2b7e4b",
              "IPY_MODEL_39663afedf3d4d268d68913e00c40958",
              "IPY_MODEL_31a63be109f249338d50f7fda58ea905"
            ],
            "layout": "IPY_MODEL_89154311c72c48bc9afef339ab9e1dfa"
          }
        },
        "4fa56508f0df4d2e8c71d24bfd2b7e4b": {
          "model_module": "@jupyter-widgets/controls",
          "model_name": "HTMLModel",
          "model_module_version": "1.5.0",
          "state": {
            "_dom_classes": [],
            "_model_module": "@jupyter-widgets/controls",
            "_model_module_version": "1.5.0",
            "_model_name": "HTMLModel",
            "_view_count": null,
            "_view_module": "@jupyter-widgets/controls",
            "_view_module_version": "1.5.0",
            "_view_name": "HTMLView",
            "description": "",
            "description_tooltip": null,
            "layout": "IPY_MODEL_5e6f6ae0d75549bf87f0ed2b923f6dde",
            "placeholder": "​",
            "style": "IPY_MODEL_ea6cbb404a6e4196bddf742a5573e4ee",
            "value": "generation_config.json: 100%"
          }
        },
        "39663afedf3d4d268d68913e00c40958": {
          "model_module": "@jupyter-widgets/controls",
          "model_name": "FloatProgressModel",
          "model_module_version": "1.5.0",
          "state": {
            "_dom_classes": [],
            "_model_module": "@jupyter-widgets/controls",
            "_model_module_version": "1.5.0",
            "_model_name": "FloatProgressModel",
            "_view_count": null,
            "_view_module": "@jupyter-widgets/controls",
            "_view_module_version": "1.5.0",
            "_view_name": "ProgressView",
            "bar_style": "success",
            "description": "",
            "description_tooltip": null,
            "layout": "IPY_MODEL_b96d1cc8a60d4fdab46e6cffb86f61cd",
            "max": 147,
            "min": 0,
            "orientation": "horizontal",
            "style": "IPY_MODEL_a0ac62fdb1034d2fba004ef1c9721869",
            "value": 147
          }
        },
        "31a63be109f249338d50f7fda58ea905": {
          "model_module": "@jupyter-widgets/controls",
          "model_name": "HTMLModel",
          "model_module_version": "1.5.0",
          "state": {
            "_dom_classes": [],
            "_model_module": "@jupyter-widgets/controls",
            "_model_module_version": "1.5.0",
            "_model_name": "HTMLModel",
            "_view_count": null,
            "_view_module": "@jupyter-widgets/controls",
            "_view_module_version": "1.5.0",
            "_view_name": "HTMLView",
            "description": "",
            "description_tooltip": null,
            "layout": "IPY_MODEL_a3b80fe7bf1a4e2baba88e729161a4ef",
            "placeholder": "​",
            "style": "IPY_MODEL_fdafe3d7cb1b4807b35fe6c8712365ae",
            "value": " 147/147 [00:00&lt;00:00, 4.23kB/s]"
          }
        },
        "89154311c72c48bc9afef339ab9e1dfa": {
          "model_module": "@jupyter-widgets/base",
          "model_name": "LayoutModel",
          "model_module_version": "1.2.0",
          "state": {
            "_model_module": "@jupyter-widgets/base",
            "_model_module_version": "1.2.0",
            "_model_name": "LayoutModel",
            "_view_count": null,
            "_view_module": "@jupyter-widgets/base",
            "_view_module_version": "1.2.0",
            "_view_name": "LayoutView",
            "align_content": null,
            "align_items": null,
            "align_self": null,
            "border": null,
            "bottom": null,
            "display": null,
            "flex": null,
            "flex_flow": null,
            "grid_area": null,
            "grid_auto_columns": null,
            "grid_auto_flow": null,
            "grid_auto_rows": null,
            "grid_column": null,
            "grid_gap": null,
            "grid_row": null,
            "grid_template_areas": null,
            "grid_template_columns": null,
            "grid_template_rows": null,
            "height": null,
            "justify_content": null,
            "justify_items": null,
            "left": null,
            "margin": null,
            "max_height": null,
            "max_width": null,
            "min_height": null,
            "min_width": null,
            "object_fit": null,
            "object_position": null,
            "order": null,
            "overflow": null,
            "overflow_x": null,
            "overflow_y": null,
            "padding": null,
            "right": null,
            "top": null,
            "visibility": null,
            "width": null
          }
        },
        "5e6f6ae0d75549bf87f0ed2b923f6dde": {
          "model_module": "@jupyter-widgets/base",
          "model_name": "LayoutModel",
          "model_module_version": "1.2.0",
          "state": {
            "_model_module": "@jupyter-widgets/base",
            "_model_module_version": "1.2.0",
            "_model_name": "LayoutModel",
            "_view_count": null,
            "_view_module": "@jupyter-widgets/base",
            "_view_module_version": "1.2.0",
            "_view_name": "LayoutView",
            "align_content": null,
            "align_items": null,
            "align_self": null,
            "border": null,
            "bottom": null,
            "display": null,
            "flex": null,
            "flex_flow": null,
            "grid_area": null,
            "grid_auto_columns": null,
            "grid_auto_flow": null,
            "grid_auto_rows": null,
            "grid_column": null,
            "grid_gap": null,
            "grid_row": null,
            "grid_template_areas": null,
            "grid_template_columns": null,
            "grid_template_rows": null,
            "height": null,
            "justify_content": null,
            "justify_items": null,
            "left": null,
            "margin": null,
            "max_height": null,
            "max_width": null,
            "min_height": null,
            "min_width": null,
            "object_fit": null,
            "object_position": null,
            "order": null,
            "overflow": null,
            "overflow_x": null,
            "overflow_y": null,
            "padding": null,
            "right": null,
            "top": null,
            "visibility": null,
            "width": null
          }
        },
        "ea6cbb404a6e4196bddf742a5573e4ee": {
          "model_module": "@jupyter-widgets/controls",
          "model_name": "DescriptionStyleModel",
          "model_module_version": "1.5.0",
          "state": {
            "_model_module": "@jupyter-widgets/controls",
            "_model_module_version": "1.5.0",
            "_model_name": "DescriptionStyleModel",
            "_view_count": null,
            "_view_module": "@jupyter-widgets/base",
            "_view_module_version": "1.2.0",
            "_view_name": "StyleView",
            "description_width": ""
          }
        },
        "b96d1cc8a60d4fdab46e6cffb86f61cd": {
          "model_module": "@jupyter-widgets/base",
          "model_name": "LayoutModel",
          "model_module_version": "1.2.0",
          "state": {
            "_model_module": "@jupyter-widgets/base",
            "_model_module_version": "1.2.0",
            "_model_name": "LayoutModel",
            "_view_count": null,
            "_view_module": "@jupyter-widgets/base",
            "_view_module_version": "1.2.0",
            "_view_name": "LayoutView",
            "align_content": null,
            "align_items": null,
            "align_self": null,
            "border": null,
            "bottom": null,
            "display": null,
            "flex": null,
            "flex_flow": null,
            "grid_area": null,
            "grid_auto_columns": null,
            "grid_auto_flow": null,
            "grid_auto_rows": null,
            "grid_column": null,
            "grid_gap": null,
            "grid_row": null,
            "grid_template_areas": null,
            "grid_template_columns": null,
            "grid_template_rows": null,
            "height": null,
            "justify_content": null,
            "justify_items": null,
            "left": null,
            "margin": null,
            "max_height": null,
            "max_width": null,
            "min_height": null,
            "min_width": null,
            "object_fit": null,
            "object_position": null,
            "order": null,
            "overflow": null,
            "overflow_x": null,
            "overflow_y": null,
            "padding": null,
            "right": null,
            "top": null,
            "visibility": null,
            "width": null
          }
        },
        "a0ac62fdb1034d2fba004ef1c9721869": {
          "model_module": "@jupyter-widgets/controls",
          "model_name": "ProgressStyleModel",
          "model_module_version": "1.5.0",
          "state": {
            "_model_module": "@jupyter-widgets/controls",
            "_model_module_version": "1.5.0",
            "_model_name": "ProgressStyleModel",
            "_view_count": null,
            "_view_module": "@jupyter-widgets/base",
            "_view_module_version": "1.2.0",
            "_view_name": "StyleView",
            "bar_color": null,
            "description_width": ""
          }
        },
        "a3b80fe7bf1a4e2baba88e729161a4ef": {
          "model_module": "@jupyter-widgets/base",
          "model_name": "LayoutModel",
          "model_module_version": "1.2.0",
          "state": {
            "_model_module": "@jupyter-widgets/base",
            "_model_module_version": "1.2.0",
            "_model_name": "LayoutModel",
            "_view_count": null,
            "_view_module": "@jupyter-widgets/base",
            "_view_module_version": "1.2.0",
            "_view_name": "LayoutView",
            "align_content": null,
            "align_items": null,
            "align_self": null,
            "border": null,
            "bottom": null,
            "display": null,
            "flex": null,
            "flex_flow": null,
            "grid_area": null,
            "grid_auto_columns": null,
            "grid_auto_flow": null,
            "grid_auto_rows": null,
            "grid_column": null,
            "grid_gap": null,
            "grid_row": null,
            "grid_template_areas": null,
            "grid_template_columns": null,
            "grid_template_rows": null,
            "height": null,
            "justify_content": null,
            "justify_items": null,
            "left": null,
            "margin": null,
            "max_height": null,
            "max_width": null,
            "min_height": null,
            "min_width": null,
            "object_fit": null,
            "object_position": null,
            "order": null,
            "overflow": null,
            "overflow_x": null,
            "overflow_y": null,
            "padding": null,
            "right": null,
            "top": null,
            "visibility": null,
            "width": null
          }
        },
        "fdafe3d7cb1b4807b35fe6c8712365ae": {
          "model_module": "@jupyter-widgets/controls",
          "model_name": "DescriptionStyleModel",
          "model_module_version": "1.5.0",
          "state": {
            "_model_module": "@jupyter-widgets/controls",
            "_model_module_version": "1.5.0",
            "_model_name": "DescriptionStyleModel",
            "_view_count": null,
            "_view_module": "@jupyter-widgets/base",
            "_view_module_version": "1.2.0",
            "_view_name": "StyleView",
            "description_width": ""
          }
        }
      }
    }
  },
  "cells": [
    {
      "cell_type": "markdown",
      "metadata": {
        "id": "view-in-github",
        "colab_type": "text"
      },
      "source": [
        "<a href=\"https://colab.research.google.com/github/Saputoa21/ADS_2024_Saputoa/blob/master/Saputo_Introduction_to_Computational_Linguistics_Final_Project.ipynb\" target=\"_parent\"><img src=\"https://colab.research.google.com/assets/colab-badge.svg\" alt=\"Open In Colab\"/></a>"
      ]
    },
    {
      "cell_type": "markdown",
      "source": [
        "# **The Final Project**\n",
        "## Description:\n",
        "\n",
        "In my project, I am going to compare the performance of two models on Belarusian-to-English translation tasks:\n",
        "\n",
        "*   **First model**: WelfCrozzo/T5-L128-belarusian, specifically trained for tanslation task in this language pair.\n",
        "(translation EN to BE: <extra_id_6>, translation BE to EN: <extra_id_2>)\n",
        "\n",
        "*   **Second model**: google/mt5-small, a pretrained model that supports more languages but hasn't been trained for this translation task.\n",
        "\n",
        "I will fine-tune the second model using **Helsinki-NLP/opus-100** dataset for the planned language pair.\n",
        "\n",
        "My comparison will consist of:\n",
        "\n",
        "1.   Evaluating the first model against the second model without fine-tuning on the dataset.\n",
        "2.   Fine-tuning the second model using the dataset and evaluationg it.\n",
        "3.   Comparison of its performance with both the first model and its initial, non-fine-tuned state.\n",
        "\n",
        "## The Workflow of the Project\n",
        "\n",
        "1.   Loading the Models\n",
        "2.   Exploring Models' Performance on a Downstream Translation Task\n",
        "3.   Loading Metrics for Evluation (BLEU, Google BLEU, SacreBLEU\n",
        "4.   Loading the Dataset\n",
        "5.   Comparison of the Two Models' Performance\n",
        "6.   Fine-tuning Model 2\n",
        "7.   Comparison of the Two Models' Performance after Fine-tuning\n",
        "\n",
        "\n",
        "\n",
        "---\n",
        "\n"
      ],
      "metadata": {
        "id": "mBiXxhmywsa0"
      }
    },
    {
      "cell_type": "markdown",
      "source": [
        "# Loading the Models"
      ],
      "metadata": {
        "id": "ZA8BrtslmPwE"
      }
    },
    {
      "cell_type": "code",
      "source": [
        "!pip install transformers\n",
        "!pip install datasets\n",
        "!pip install evaluate\n",
        "!pip install accelerate --upgrade\n",
        "!pip install sacrebleu\n",
        "!pip install transformers torch"
      ],
      "metadata": {
        "colab": {
          "base_uri": "https://localhost:8080/"
        },
        "id": "qVxwdZoNjzkw",
        "outputId": "d5ca755d-6372-4589-a865-65dd12783966"
      },
      "execution_count": 1,
      "outputs": [
        {
          "output_type": "stream",
          "name": "stdout",
          "text": [
            "Requirement already satisfied: transformers in /usr/local/lib/python3.11/dist-packages (4.48.1)\n",
            "Requirement already satisfied: filelock in /usr/local/lib/python3.11/dist-packages (from transformers) (3.17.0)\n",
            "Requirement already satisfied: huggingface-hub<1.0,>=0.24.0 in /usr/local/lib/python3.11/dist-packages (from transformers) (0.27.1)\n",
            "Requirement already satisfied: numpy>=1.17 in /usr/local/lib/python3.11/dist-packages (from transformers) (1.26.4)\n",
            "Requirement already satisfied: packaging>=20.0 in /usr/local/lib/python3.11/dist-packages (from transformers) (24.2)\n",
            "Requirement already satisfied: pyyaml>=5.1 in /usr/local/lib/python3.11/dist-packages (from transformers) (6.0.2)\n",
            "Requirement already satisfied: regex!=2019.12.17 in /usr/local/lib/python3.11/dist-packages (from transformers) (2024.11.6)\n",
            "Requirement already satisfied: requests in /usr/local/lib/python3.11/dist-packages (from transformers) (2.32.3)\n",
            "Requirement already satisfied: tokenizers<0.22,>=0.21 in /usr/local/lib/python3.11/dist-packages (from transformers) (0.21.0)\n",
            "Requirement already satisfied: safetensors>=0.4.1 in /usr/local/lib/python3.11/dist-packages (from transformers) (0.5.2)\n",
            "Requirement already satisfied: tqdm>=4.27 in /usr/local/lib/python3.11/dist-packages (from transformers) (4.67.1)\n",
            "Requirement already satisfied: fsspec>=2023.5.0 in /usr/local/lib/python3.11/dist-packages (from huggingface-hub<1.0,>=0.24.0->transformers) (2024.9.0)\n",
            "Requirement already satisfied: typing-extensions>=3.7.4.3 in /usr/local/lib/python3.11/dist-packages (from huggingface-hub<1.0,>=0.24.0->transformers) (4.12.2)\n",
            "Requirement already satisfied: charset-normalizer<4,>=2 in /usr/local/lib/python3.11/dist-packages (from requests->transformers) (3.4.1)\n",
            "Requirement already satisfied: idna<4,>=2.5 in /usr/local/lib/python3.11/dist-packages (from requests->transformers) (3.10)\n",
            "Requirement already satisfied: urllib3<3,>=1.21.1 in /usr/local/lib/python3.11/dist-packages (from requests->transformers) (2.3.0)\n",
            "Requirement already satisfied: certifi>=2017.4.17 in /usr/local/lib/python3.11/dist-packages (from requests->transformers) (2024.12.14)\n",
            "Requirement already satisfied: datasets in /usr/local/lib/python3.11/dist-packages (3.2.0)\n",
            "Requirement already satisfied: filelock in /usr/local/lib/python3.11/dist-packages (from datasets) (3.17.0)\n",
            "Requirement already satisfied: numpy>=1.17 in /usr/local/lib/python3.11/dist-packages (from datasets) (1.26.4)\n",
            "Requirement already satisfied: pyarrow>=15.0.0 in /usr/local/lib/python3.11/dist-packages (from datasets) (17.0.0)\n",
            "Requirement already satisfied: dill<0.3.9,>=0.3.0 in /usr/local/lib/python3.11/dist-packages (from datasets) (0.3.8)\n",
            "Requirement already satisfied: pandas in /usr/local/lib/python3.11/dist-packages (from datasets) (2.2.2)\n",
            "Requirement already satisfied: requests>=2.32.2 in /usr/local/lib/python3.11/dist-packages (from datasets) (2.32.3)\n",
            "Requirement already satisfied: tqdm>=4.66.3 in /usr/local/lib/python3.11/dist-packages (from datasets) (4.67.1)\n",
            "Requirement already satisfied: xxhash in /usr/local/lib/python3.11/dist-packages (from datasets) (3.5.0)\n",
            "Requirement already satisfied: multiprocess<0.70.17 in /usr/local/lib/python3.11/dist-packages (from datasets) (0.70.16)\n",
            "Requirement already satisfied: fsspec<=2024.9.0,>=2023.1.0 in /usr/local/lib/python3.11/dist-packages (from fsspec[http]<=2024.9.0,>=2023.1.0->datasets) (2024.9.0)\n",
            "Requirement already satisfied: aiohttp in /usr/local/lib/python3.11/dist-packages (from datasets) (3.11.11)\n",
            "Requirement already satisfied: huggingface-hub>=0.23.0 in /usr/local/lib/python3.11/dist-packages (from datasets) (0.27.1)\n",
            "Requirement already satisfied: packaging in /usr/local/lib/python3.11/dist-packages (from datasets) (24.2)\n",
            "Requirement already satisfied: pyyaml>=5.1 in /usr/local/lib/python3.11/dist-packages (from datasets) (6.0.2)\n",
            "Requirement already satisfied: aiohappyeyeballs>=2.3.0 in /usr/local/lib/python3.11/dist-packages (from aiohttp->datasets) (2.4.4)\n",
            "Requirement already satisfied: aiosignal>=1.1.2 in /usr/local/lib/python3.11/dist-packages (from aiohttp->datasets) (1.3.2)\n",
            "Requirement already satisfied: attrs>=17.3.0 in /usr/local/lib/python3.11/dist-packages (from aiohttp->datasets) (24.3.0)\n",
            "Requirement already satisfied: frozenlist>=1.1.1 in /usr/local/lib/python3.11/dist-packages (from aiohttp->datasets) (1.5.0)\n",
            "Requirement already satisfied: multidict<7.0,>=4.5 in /usr/local/lib/python3.11/dist-packages (from aiohttp->datasets) (6.1.0)\n",
            "Requirement already satisfied: propcache>=0.2.0 in /usr/local/lib/python3.11/dist-packages (from aiohttp->datasets) (0.2.1)\n",
            "Requirement already satisfied: yarl<2.0,>=1.17.0 in /usr/local/lib/python3.11/dist-packages (from aiohttp->datasets) (1.18.3)\n",
            "Requirement already satisfied: typing-extensions>=3.7.4.3 in /usr/local/lib/python3.11/dist-packages (from huggingface-hub>=0.23.0->datasets) (4.12.2)\n",
            "Requirement already satisfied: charset-normalizer<4,>=2 in /usr/local/lib/python3.11/dist-packages (from requests>=2.32.2->datasets) (3.4.1)\n",
            "Requirement already satisfied: idna<4,>=2.5 in /usr/local/lib/python3.11/dist-packages (from requests>=2.32.2->datasets) (3.10)\n",
            "Requirement already satisfied: urllib3<3,>=1.21.1 in /usr/local/lib/python3.11/dist-packages (from requests>=2.32.2->datasets) (2.3.0)\n",
            "Requirement already satisfied: certifi>=2017.4.17 in /usr/local/lib/python3.11/dist-packages (from requests>=2.32.2->datasets) (2024.12.14)\n",
            "Requirement already satisfied: python-dateutil>=2.8.2 in /usr/local/lib/python3.11/dist-packages (from pandas->datasets) (2.8.2)\n",
            "Requirement already satisfied: pytz>=2020.1 in /usr/local/lib/python3.11/dist-packages (from pandas->datasets) (2024.2)\n",
            "Requirement already satisfied: tzdata>=2022.7 in /usr/local/lib/python3.11/dist-packages (from pandas->datasets) (2025.1)\n",
            "Requirement already satisfied: six>=1.5 in /usr/local/lib/python3.11/dist-packages (from python-dateutil>=2.8.2->pandas->datasets) (1.17.0)\n",
            "Requirement already satisfied: evaluate in /usr/local/lib/python3.11/dist-packages (0.4.3)\n",
            "Requirement already satisfied: datasets>=2.0.0 in /usr/local/lib/python3.11/dist-packages (from evaluate) (3.2.0)\n",
            "Requirement already satisfied: numpy>=1.17 in /usr/local/lib/python3.11/dist-packages (from evaluate) (1.26.4)\n",
            "Requirement already satisfied: dill in /usr/local/lib/python3.11/dist-packages (from evaluate) (0.3.8)\n",
            "Requirement already satisfied: pandas in /usr/local/lib/python3.11/dist-packages (from evaluate) (2.2.2)\n",
            "Requirement already satisfied: requests>=2.19.0 in /usr/local/lib/python3.11/dist-packages (from evaluate) (2.32.3)\n",
            "Requirement already satisfied: tqdm>=4.62.1 in /usr/local/lib/python3.11/dist-packages (from evaluate) (4.67.1)\n",
            "Requirement already satisfied: xxhash in /usr/local/lib/python3.11/dist-packages (from evaluate) (3.5.0)\n",
            "Requirement already satisfied: multiprocess in /usr/local/lib/python3.11/dist-packages (from evaluate) (0.70.16)\n",
            "Requirement already satisfied: fsspec>=2021.05.0 in /usr/local/lib/python3.11/dist-packages (from fsspec[http]>=2021.05.0->evaluate) (2024.9.0)\n",
            "Requirement already satisfied: huggingface-hub>=0.7.0 in /usr/local/lib/python3.11/dist-packages (from evaluate) (0.27.1)\n",
            "Requirement already satisfied: packaging in /usr/local/lib/python3.11/dist-packages (from evaluate) (24.2)\n",
            "Requirement already satisfied: filelock in /usr/local/lib/python3.11/dist-packages (from datasets>=2.0.0->evaluate) (3.17.0)\n",
            "Requirement already satisfied: pyarrow>=15.0.0 in /usr/local/lib/python3.11/dist-packages (from datasets>=2.0.0->evaluate) (17.0.0)\n",
            "Requirement already satisfied: aiohttp in /usr/local/lib/python3.11/dist-packages (from datasets>=2.0.0->evaluate) (3.11.11)\n",
            "Requirement already satisfied: pyyaml>=5.1 in /usr/local/lib/python3.11/dist-packages (from datasets>=2.0.0->evaluate) (6.0.2)\n",
            "Requirement already satisfied: typing-extensions>=3.7.4.3 in /usr/local/lib/python3.11/dist-packages (from huggingface-hub>=0.7.0->evaluate) (4.12.2)\n",
            "Requirement already satisfied: charset-normalizer<4,>=2 in /usr/local/lib/python3.11/dist-packages (from requests>=2.19.0->evaluate) (3.4.1)\n",
            "Requirement already satisfied: idna<4,>=2.5 in /usr/local/lib/python3.11/dist-packages (from requests>=2.19.0->evaluate) (3.10)\n",
            "Requirement already satisfied: urllib3<3,>=1.21.1 in /usr/local/lib/python3.11/dist-packages (from requests>=2.19.0->evaluate) (2.3.0)\n",
            "Requirement already satisfied: certifi>=2017.4.17 in /usr/local/lib/python3.11/dist-packages (from requests>=2.19.0->evaluate) (2024.12.14)\n",
            "Requirement already satisfied: python-dateutil>=2.8.2 in /usr/local/lib/python3.11/dist-packages (from pandas->evaluate) (2.8.2)\n",
            "Requirement already satisfied: pytz>=2020.1 in /usr/local/lib/python3.11/dist-packages (from pandas->evaluate) (2024.2)\n",
            "Requirement already satisfied: tzdata>=2022.7 in /usr/local/lib/python3.11/dist-packages (from pandas->evaluate) (2025.1)\n",
            "Requirement already satisfied: aiohappyeyeballs>=2.3.0 in /usr/local/lib/python3.11/dist-packages (from aiohttp->datasets>=2.0.0->evaluate) (2.4.4)\n",
            "Requirement already satisfied: aiosignal>=1.1.2 in /usr/local/lib/python3.11/dist-packages (from aiohttp->datasets>=2.0.0->evaluate) (1.3.2)\n",
            "Requirement already satisfied: attrs>=17.3.0 in /usr/local/lib/python3.11/dist-packages (from aiohttp->datasets>=2.0.0->evaluate) (24.3.0)\n",
            "Requirement already satisfied: frozenlist>=1.1.1 in /usr/local/lib/python3.11/dist-packages (from aiohttp->datasets>=2.0.0->evaluate) (1.5.0)\n",
            "Requirement already satisfied: multidict<7.0,>=4.5 in /usr/local/lib/python3.11/dist-packages (from aiohttp->datasets>=2.0.0->evaluate) (6.1.0)\n",
            "Requirement already satisfied: propcache>=0.2.0 in /usr/local/lib/python3.11/dist-packages (from aiohttp->datasets>=2.0.0->evaluate) (0.2.1)\n",
            "Requirement already satisfied: yarl<2.0,>=1.17.0 in /usr/local/lib/python3.11/dist-packages (from aiohttp->datasets>=2.0.0->evaluate) (1.18.3)\n",
            "Requirement already satisfied: six>=1.5 in /usr/local/lib/python3.11/dist-packages (from python-dateutil>=2.8.2->pandas->evaluate) (1.17.0)\n",
            "Requirement already satisfied: accelerate in /usr/local/lib/python3.11/dist-packages (1.3.0)\n",
            "Requirement already satisfied: numpy<3.0.0,>=1.17 in /usr/local/lib/python3.11/dist-packages (from accelerate) (1.26.4)\n",
            "Requirement already satisfied: packaging>=20.0 in /usr/local/lib/python3.11/dist-packages (from accelerate) (24.2)\n",
            "Requirement already satisfied: psutil in /usr/local/lib/python3.11/dist-packages (from accelerate) (5.9.5)\n",
            "Requirement already satisfied: pyyaml in /usr/local/lib/python3.11/dist-packages (from accelerate) (6.0.2)\n",
            "Requirement already satisfied: torch>=2.0.0 in /usr/local/lib/python3.11/dist-packages (from accelerate) (2.5.1+cu121)\n",
            "Requirement already satisfied: huggingface-hub>=0.21.0 in /usr/local/lib/python3.11/dist-packages (from accelerate) (0.27.1)\n",
            "Requirement already satisfied: safetensors>=0.4.3 in /usr/local/lib/python3.11/dist-packages (from accelerate) (0.5.2)\n",
            "Requirement already satisfied: filelock in /usr/local/lib/python3.11/dist-packages (from huggingface-hub>=0.21.0->accelerate) (3.17.0)\n",
            "Requirement already satisfied: fsspec>=2023.5.0 in /usr/local/lib/python3.11/dist-packages (from huggingface-hub>=0.21.0->accelerate) (2024.9.0)\n",
            "Requirement already satisfied: requests in /usr/local/lib/python3.11/dist-packages (from huggingface-hub>=0.21.0->accelerate) (2.32.3)\n",
            "Requirement already satisfied: tqdm>=4.42.1 in /usr/local/lib/python3.11/dist-packages (from huggingface-hub>=0.21.0->accelerate) (4.67.1)\n",
            "Requirement already satisfied: typing-extensions>=3.7.4.3 in /usr/local/lib/python3.11/dist-packages (from huggingface-hub>=0.21.0->accelerate) (4.12.2)\n",
            "Requirement already satisfied: networkx in /usr/local/lib/python3.11/dist-packages (from torch>=2.0.0->accelerate) (3.4.2)\n",
            "Requirement already satisfied: jinja2 in /usr/local/lib/python3.11/dist-packages (from torch>=2.0.0->accelerate) (3.1.5)\n",
            "Requirement already satisfied: nvidia-cuda-nvrtc-cu12==12.1.105 in /usr/local/lib/python3.11/dist-packages (from torch>=2.0.0->accelerate) (12.1.105)\n",
            "Requirement already satisfied: nvidia-cuda-runtime-cu12==12.1.105 in /usr/local/lib/python3.11/dist-packages (from torch>=2.0.0->accelerate) (12.1.105)\n",
            "Requirement already satisfied: nvidia-cuda-cupti-cu12==12.1.105 in /usr/local/lib/python3.11/dist-packages (from torch>=2.0.0->accelerate) (12.1.105)\n",
            "Requirement already satisfied: nvidia-cudnn-cu12==9.1.0.70 in /usr/local/lib/python3.11/dist-packages (from torch>=2.0.0->accelerate) (9.1.0.70)\n",
            "Requirement already satisfied: nvidia-cublas-cu12==12.1.3.1 in /usr/local/lib/python3.11/dist-packages (from torch>=2.0.0->accelerate) (12.1.3.1)\n",
            "Requirement already satisfied: nvidia-cufft-cu12==11.0.2.54 in /usr/local/lib/python3.11/dist-packages (from torch>=2.0.0->accelerate) (11.0.2.54)\n",
            "Requirement already satisfied: nvidia-curand-cu12==10.3.2.106 in /usr/local/lib/python3.11/dist-packages (from torch>=2.0.0->accelerate) (10.3.2.106)\n",
            "Requirement already satisfied: nvidia-cusolver-cu12==11.4.5.107 in /usr/local/lib/python3.11/dist-packages (from torch>=2.0.0->accelerate) (11.4.5.107)\n",
            "Requirement already satisfied: nvidia-cusparse-cu12==12.1.0.106 in /usr/local/lib/python3.11/dist-packages (from torch>=2.0.0->accelerate) (12.1.0.106)\n",
            "Requirement already satisfied: nvidia-nccl-cu12==2.21.5 in /usr/local/lib/python3.11/dist-packages (from torch>=2.0.0->accelerate) (2.21.5)\n",
            "Requirement already satisfied: nvidia-nvtx-cu12==12.1.105 in /usr/local/lib/python3.11/dist-packages (from torch>=2.0.0->accelerate) (12.1.105)\n",
            "Requirement already satisfied: triton==3.1.0 in /usr/local/lib/python3.11/dist-packages (from torch>=2.0.0->accelerate) (3.1.0)\n",
            "Requirement already satisfied: sympy==1.13.1 in /usr/local/lib/python3.11/dist-packages (from torch>=2.0.0->accelerate) (1.13.1)\n",
            "Requirement already satisfied: nvidia-nvjitlink-cu12 in /usr/local/lib/python3.11/dist-packages (from nvidia-cusolver-cu12==11.4.5.107->torch>=2.0.0->accelerate) (12.6.85)\n",
            "Requirement already satisfied: mpmath<1.4,>=1.1.0 in /usr/local/lib/python3.11/dist-packages (from sympy==1.13.1->torch>=2.0.0->accelerate) (1.3.0)\n",
            "Requirement already satisfied: MarkupSafe>=2.0 in /usr/local/lib/python3.11/dist-packages (from jinja2->torch>=2.0.0->accelerate) (3.0.2)\n",
            "Requirement already satisfied: charset-normalizer<4,>=2 in /usr/local/lib/python3.11/dist-packages (from requests->huggingface-hub>=0.21.0->accelerate) (3.4.1)\n",
            "Requirement already satisfied: idna<4,>=2.5 in /usr/local/lib/python3.11/dist-packages (from requests->huggingface-hub>=0.21.0->accelerate) (3.10)\n",
            "Requirement already satisfied: urllib3<3,>=1.21.1 in /usr/local/lib/python3.11/dist-packages (from requests->huggingface-hub>=0.21.0->accelerate) (2.3.0)\n",
            "Requirement already satisfied: certifi>=2017.4.17 in /usr/local/lib/python3.11/dist-packages (from requests->huggingface-hub>=0.21.0->accelerate) (2024.12.14)\n",
            "Requirement already satisfied: sacrebleu in /usr/local/lib/python3.11/dist-packages (2.5.1)\n",
            "Requirement already satisfied: portalocker in /usr/local/lib/python3.11/dist-packages (from sacrebleu) (3.1.1)\n",
            "Requirement already satisfied: regex in /usr/local/lib/python3.11/dist-packages (from sacrebleu) (2024.11.6)\n",
            "Requirement already satisfied: tabulate>=0.8.9 in /usr/local/lib/python3.11/dist-packages (from sacrebleu) (0.9.0)\n",
            "Requirement already satisfied: numpy>=1.17 in /usr/local/lib/python3.11/dist-packages (from sacrebleu) (1.26.4)\n",
            "Requirement already satisfied: colorama in /usr/local/lib/python3.11/dist-packages (from sacrebleu) (0.4.6)\n",
            "Requirement already satisfied: lxml in /usr/local/lib/python3.11/dist-packages (from sacrebleu) (5.3.0)\n",
            "Requirement already satisfied: transformers in /usr/local/lib/python3.11/dist-packages (4.48.1)\n",
            "Requirement already satisfied: torch in /usr/local/lib/python3.11/dist-packages (2.5.1+cu121)\n",
            "Requirement already satisfied: filelock in /usr/local/lib/python3.11/dist-packages (from transformers) (3.17.0)\n",
            "Requirement already satisfied: huggingface-hub<1.0,>=0.24.0 in /usr/local/lib/python3.11/dist-packages (from transformers) (0.27.1)\n",
            "Requirement already satisfied: numpy>=1.17 in /usr/local/lib/python3.11/dist-packages (from transformers) (1.26.4)\n",
            "Requirement already satisfied: packaging>=20.0 in /usr/local/lib/python3.11/dist-packages (from transformers) (24.2)\n",
            "Requirement already satisfied: pyyaml>=5.1 in /usr/local/lib/python3.11/dist-packages (from transformers) (6.0.2)\n",
            "Requirement already satisfied: regex!=2019.12.17 in /usr/local/lib/python3.11/dist-packages (from transformers) (2024.11.6)\n",
            "Requirement already satisfied: requests in /usr/local/lib/python3.11/dist-packages (from transformers) (2.32.3)\n",
            "Requirement already satisfied: tokenizers<0.22,>=0.21 in /usr/local/lib/python3.11/dist-packages (from transformers) (0.21.0)\n",
            "Requirement already satisfied: safetensors>=0.4.1 in /usr/local/lib/python3.11/dist-packages (from transformers) (0.5.2)\n",
            "Requirement already satisfied: tqdm>=4.27 in /usr/local/lib/python3.11/dist-packages (from transformers) (4.67.1)\n",
            "Requirement already satisfied: typing-extensions>=4.8.0 in /usr/local/lib/python3.11/dist-packages (from torch) (4.12.2)\n",
            "Requirement already satisfied: networkx in /usr/local/lib/python3.11/dist-packages (from torch) (3.4.2)\n",
            "Requirement already satisfied: jinja2 in /usr/local/lib/python3.11/dist-packages (from torch) (3.1.5)\n",
            "Requirement already satisfied: fsspec in /usr/local/lib/python3.11/dist-packages (from torch) (2024.9.0)\n",
            "Requirement already satisfied: nvidia-cuda-nvrtc-cu12==12.1.105 in /usr/local/lib/python3.11/dist-packages (from torch) (12.1.105)\n",
            "Requirement already satisfied: nvidia-cuda-runtime-cu12==12.1.105 in /usr/local/lib/python3.11/dist-packages (from torch) (12.1.105)\n",
            "Requirement already satisfied: nvidia-cuda-cupti-cu12==12.1.105 in /usr/local/lib/python3.11/dist-packages (from torch) (12.1.105)\n",
            "Requirement already satisfied: nvidia-cudnn-cu12==9.1.0.70 in /usr/local/lib/python3.11/dist-packages (from torch) (9.1.0.70)\n",
            "Requirement already satisfied: nvidia-cublas-cu12==12.1.3.1 in /usr/local/lib/python3.11/dist-packages (from torch) (12.1.3.1)\n",
            "Requirement already satisfied: nvidia-cufft-cu12==11.0.2.54 in /usr/local/lib/python3.11/dist-packages (from torch) (11.0.2.54)\n",
            "Requirement already satisfied: nvidia-curand-cu12==10.3.2.106 in /usr/local/lib/python3.11/dist-packages (from torch) (10.3.2.106)\n",
            "Requirement already satisfied: nvidia-cusolver-cu12==11.4.5.107 in /usr/local/lib/python3.11/dist-packages (from torch) (11.4.5.107)\n",
            "Requirement already satisfied: nvidia-cusparse-cu12==12.1.0.106 in /usr/local/lib/python3.11/dist-packages (from torch) (12.1.0.106)\n",
            "Requirement already satisfied: nvidia-nccl-cu12==2.21.5 in /usr/local/lib/python3.11/dist-packages (from torch) (2.21.5)\n",
            "Requirement already satisfied: nvidia-nvtx-cu12==12.1.105 in /usr/local/lib/python3.11/dist-packages (from torch) (12.1.105)\n",
            "Requirement already satisfied: triton==3.1.0 in /usr/local/lib/python3.11/dist-packages (from torch) (3.1.0)\n",
            "Requirement already satisfied: sympy==1.13.1 in /usr/local/lib/python3.11/dist-packages (from torch) (1.13.1)\n",
            "Requirement already satisfied: nvidia-nvjitlink-cu12 in /usr/local/lib/python3.11/dist-packages (from nvidia-cusolver-cu12==11.4.5.107->torch) (12.6.85)\n",
            "Requirement already satisfied: mpmath<1.4,>=1.1.0 in /usr/local/lib/python3.11/dist-packages (from sympy==1.13.1->torch) (1.3.0)\n",
            "Requirement already satisfied: MarkupSafe>=2.0 in /usr/local/lib/python3.11/dist-packages (from jinja2->torch) (3.0.2)\n",
            "Requirement already satisfied: charset-normalizer<4,>=2 in /usr/local/lib/python3.11/dist-packages (from requests->transformers) (3.4.1)\n",
            "Requirement already satisfied: idna<4,>=2.5 in /usr/local/lib/python3.11/dist-packages (from requests->transformers) (3.10)\n",
            "Requirement already satisfied: urllib3<3,>=1.21.1 in /usr/local/lib/python3.11/dist-packages (from requests->transformers) (2.3.0)\n",
            "Requirement already satisfied: certifi>=2017.4.17 in /usr/local/lib/python3.11/dist-packages (from requests->transformers) (2024.12.14)\n"
          ]
        }
      ]
    },
    {
      "cell_type": "code",
      "source": [
        "from google.colab import drive\n",
        "drive.mount('/content/drive')"
      ],
      "metadata": {
        "colab": {
          "base_uri": "https://localhost:8080/"
        },
        "id": "6D1Ec-4u_5hz",
        "outputId": "75823991-b9c7-46bb-e098-560cccf59f28"
      },
      "execution_count": 2,
      "outputs": [
        {
          "output_type": "stream",
          "name": "stdout",
          "text": [
            "Drive already mounted at /content/drive; to attempt to forcibly remount, call drive.mount(\"/content/drive\", force_remount=True).\n"
          ]
        }
      ]
    },
    {
      "cell_type": "code",
      "source": [
        "from transformers import AutoTokenizer, AutoModelForSeq2SeqLM"
      ],
      "metadata": {
        "id": "SPXitdoUiLp3"
      },
      "execution_count": 3,
      "outputs": []
    },
    {
      "cell_type": "markdown",
      "source": [
        "### 1. Loading **WelfCrozzo/T5-L128-belarusian** (Model 1)"
      ],
      "metadata": {
        "id": "W_CLt6CvmXMB"
      }
    },
    {
      "cell_type": "code",
      "execution_count": 4,
      "metadata": {
        "id": "gGdv8YY5wYX3",
        "colab": {
          "base_uri": "https://localhost:8080/"
        },
        "outputId": "9df01ca9-4bb0-439a-a80f-3a35fb10d5f5"
      },
      "outputs": [
        {
          "output_type": "stream",
          "name": "stderr",
          "text": [
            "/usr/local/lib/python3.11/dist-packages/huggingface_hub/utils/_auth.py:94: UserWarning: \n",
            "The secret `HF_TOKEN` does not exist in your Colab secrets.\n",
            "To authenticate with the Hugging Face Hub, create a token in your settings tab (https://huggingface.co/settings/tokens), set it as secret in your Google Colab and restart your session.\n",
            "You will be able to reuse this secret in all of your notebooks.\n",
            "Please note that authentication is recommended but still optional to access public models or datasets.\n",
            "  warnings.warn(\n"
          ]
        }
      ],
      "source": [
        "# Loading the model directly\n",
        "t5_be_tokenizer = AutoTokenizer.from_pretrained(\"WelfCrozzo/T5-L128-belarusian\")\n",
        "\n",
        "t5_be_model = AutoModelForSeq2SeqLM.from_pretrained(\"WelfCrozzo/T5-L128-belarusian\")"
      ]
    },
    {
      "cell_type": "markdown",
      "source": [
        "### 2. Loading **google/mt5-small** (Model 2)"
      ],
      "metadata": {
        "id": "OYRjlHnRmg_T"
      }
    },
    {
      "cell_type": "code",
      "source": [
        "# Loading the model directly\n",
        "mt5_tokenizer = AutoTokenizer.from_pretrained(\"google/mt5-small\")\n",
        "\n",
        "mt5_model = AutoModelForSeq2SeqLM.from_pretrained(\"google/mt5-small\")"
      ],
      "metadata": {
        "id": "8Pk37JWnhtB4",
        "outputId": "319db220-ef19-4df9-c24b-dbbe02f2bd37",
        "colab": {
          "base_uri": "https://localhost:8080/"
        }
      },
      "execution_count": 5,
      "outputs": [
        {
          "output_type": "stream",
          "name": "stderr",
          "text": [
            "You are using the default legacy behaviour of the <class 'transformers.models.t5.tokenization_t5.T5Tokenizer'>. This is expected, and simply means that the `legacy` (previous) behavior will be used so nothing changes for you. If you want to use the new behaviour, set `legacy=False`. This should only be set if you understand what it means, and thoroughly read the reason why this was added as explained in https://github.com/huggingface/transformers/pull/24565\n",
            "/usr/local/lib/python3.11/dist-packages/transformers/convert_slow_tokenizer.py:561: UserWarning: The sentencepiece tokenizer that you are converting to a fast tokenizer uses the byte fallback option which is not implemented in the fast tokenizers. In practice this means that the fast version of the tokenizer can produce unknown tokens whereas the sentencepiece version would have converted these unknown tokens into a sequence of byte tokens matching the original piece of text.\n",
            "  warnings.warn(\n"
          ]
        }
      ]
    },
    {
      "cell_type": "markdown",
      "source": [
        "## Exploring different tokenizers\n",
        "\n",
        "For exploring the diffenrecies inthe work of tokenizers I have taken the code examples from Tutorial 5.\n"
      ],
      "metadata": {
        "id": "1cYzc9kfnm8W"
      }
    },
    {
      "cell_type": "markdown",
      "source": [
        "### 1.  **t5_be_tokenizer** from Model 1 (WelfCrozzo/T5-L128-belarusian)"
      ],
      "metadata": {
        "id": "8sBLjfYOsD6U"
      }
    },
    {
      "cell_type": "code",
      "source": [
        "print(t5_be_tokenizer)"
      ],
      "metadata": {
        "colab": {
          "base_uri": "https://localhost:8080/"
        },
        "id": "KPQKgyd0j9mi",
        "outputId": "a7d367da-dd88-4aa8-ef3e-7ba56cd11dd0"
      },
      "execution_count": 6,
      "outputs": [
        {
          "output_type": "stream",
          "name": "stdout",
          "text": [
            "T5TokenizerFast(name_or_path='WelfCrozzo/T5-L128-belarusian', vocab_size=60000, model_max_length=512, is_fast=True, padding_side='right', truncation_side='right', special_tokens={'eos_token': '</s>', 'unk_token': '<unk>', 'pad_token': '<pad>', 'additional_special_tokens': ['<extra_id_0>', '<extra_id_1>', '<extra_id_2>', '<extra_id_3>', '<extra_id_4>', '<extra_id_5>', '<extra_id_6>', '<extra_id_7>', '<extra_id_8>', '<extra_id_9>', '<extra_id_10>', '<extra_id_11>', '<extra_id_12>', '<extra_id_13>', '<extra_id_14>', '<extra_id_15>', '<extra_id_16>', '<extra_id_17>', '<extra_id_18>', '<extra_id_19>', '<extra_id_20>', '<extra_id_21>', '<extra_id_22>', '<extra_id_23>', '<extra_id_24>', '<extra_id_25>', '<extra_id_26>', '<extra_id_27>', '<extra_id_28>', '<extra_id_29>', '<extra_id_30>', '<extra_id_31>', '<extra_id_32>', '<extra_id_33>', '<extra_id_34>', '<extra_id_35>', '<extra_id_36>', '<extra_id_37>', '<extra_id_38>', '<extra_id_39>', '<extra_id_40>', '<extra_id_41>', '<extra_id_42>', '<extra_id_43>', '<extra_id_44>', '<extra_id_45>', '<extra_id_46>', '<extra_id_47>', '<extra_id_48>', '<extra_id_49>', '<extra_id_50>', '<extra_id_51>', '<extra_id_52>', '<extra_id_53>', '<extra_id_54>', '<extra_id_55>', '<extra_id_56>', '<extra_id_57>', '<extra_id_58>', '<extra_id_59>', '<extra_id_60>', '<extra_id_61>', '<extra_id_62>', '<extra_id_63>', '<extra_id_64>', '<extra_id_65>', '<extra_id_66>', '<extra_id_67>', '<extra_id_68>', '<extra_id_69>', '<extra_id_70>', '<extra_id_71>', '<extra_id_72>', '<extra_id_73>', '<extra_id_74>', '<extra_id_75>', '<extra_id_76>', '<extra_id_77>', '<extra_id_78>', '<extra_id_79>', '<extra_id_80>', '<extra_id_81>', '<extra_id_82>', '<extra_id_83>', '<extra_id_84>', '<extra_id_85>', '<extra_id_86>', '<extra_id_87>', '<extra_id_88>', '<extra_id_89>', '<extra_id_90>', '<extra_id_91>', '<extra_id_92>', '<extra_id_93>', '<extra_id_94>', '<extra_id_95>', '<extra_id_96>', '<extra_id_97>', '<extra_id_98>', '<extra_id_99>']}, clean_up_tokenization_spaces=True, added_tokens_decoder={\n",
            "\t0: AddedToken(\"<pad>\", rstrip=False, lstrip=False, single_word=False, normalized=False, special=True),\n",
            "\t1: AddedToken(\"</s>\", rstrip=False, lstrip=False, single_word=False, normalized=False, special=True),\n",
            "\t2: AddedToken(\"<unk>\", rstrip=False, lstrip=False, single_word=False, normalized=False, special=True),\n",
            "\t3: AddedToken(\"<extra_id_99>\", rstrip=False, lstrip=False, single_word=False, normalized=False, special=True),\n",
            "\t4: AddedToken(\"<extra_id_98>\", rstrip=False, lstrip=False, single_word=False, normalized=False, special=True),\n",
            "\t5: AddedToken(\"<extra_id_97>\", rstrip=False, lstrip=False, single_word=False, normalized=False, special=True),\n",
            "\t6: AddedToken(\"<extra_id_96>\", rstrip=False, lstrip=False, single_word=False, normalized=False, special=True),\n",
            "\t7: AddedToken(\"<extra_id_95>\", rstrip=False, lstrip=False, single_word=False, normalized=False, special=True),\n",
            "\t8: AddedToken(\"<extra_id_94>\", rstrip=False, lstrip=False, single_word=False, normalized=False, special=True),\n",
            "\t9: AddedToken(\"<extra_id_93>\", rstrip=False, lstrip=False, single_word=False, normalized=False, special=True),\n",
            "\t10: AddedToken(\"<extra_id_92>\", rstrip=False, lstrip=False, single_word=False, normalized=False, special=True),\n",
            "\t11: AddedToken(\"<extra_id_91>\", rstrip=False, lstrip=False, single_word=False, normalized=False, special=True),\n",
            "\t12: AddedToken(\"<extra_id_90>\", rstrip=False, lstrip=False, single_word=False, normalized=False, special=True),\n",
            "\t13: AddedToken(\"<extra_id_89>\", rstrip=False, lstrip=False, single_word=False, normalized=False, special=True),\n",
            "\t14: AddedToken(\"<extra_id_88>\", rstrip=False, lstrip=False, single_word=False, normalized=False, special=True),\n",
            "\t15: AddedToken(\"<extra_id_87>\", rstrip=False, lstrip=False, single_word=False, normalized=False, special=True),\n",
            "\t16: AddedToken(\"<extra_id_86>\", rstrip=False, lstrip=False, single_word=False, normalized=False, special=True),\n",
            "\t17: AddedToken(\"<extra_id_85>\", rstrip=False, lstrip=False, single_word=False, normalized=False, special=True),\n",
            "\t18: AddedToken(\"<extra_id_84>\", rstrip=False, lstrip=False, single_word=False, normalized=False, special=True),\n",
            "\t19: AddedToken(\"<extra_id_83>\", rstrip=False, lstrip=False, single_word=False, normalized=False, special=True),\n",
            "\t20: AddedToken(\"<extra_id_82>\", rstrip=False, lstrip=False, single_word=False, normalized=False, special=True),\n",
            "\t21: AddedToken(\"<extra_id_81>\", rstrip=False, lstrip=False, single_word=False, normalized=False, special=True),\n",
            "\t22: AddedToken(\"<extra_id_80>\", rstrip=False, lstrip=False, single_word=False, normalized=False, special=True),\n",
            "\t23: AddedToken(\"<extra_id_79>\", rstrip=False, lstrip=False, single_word=False, normalized=False, special=True),\n",
            "\t24: AddedToken(\"<extra_id_78>\", rstrip=False, lstrip=False, single_word=False, normalized=False, special=True),\n",
            "\t25: AddedToken(\"<extra_id_77>\", rstrip=False, lstrip=False, single_word=False, normalized=False, special=True),\n",
            "\t26: AddedToken(\"<extra_id_76>\", rstrip=False, lstrip=False, single_word=False, normalized=False, special=True),\n",
            "\t27: AddedToken(\"<extra_id_75>\", rstrip=False, lstrip=False, single_word=False, normalized=False, special=True),\n",
            "\t28: AddedToken(\"<extra_id_74>\", rstrip=False, lstrip=False, single_word=False, normalized=False, special=True),\n",
            "\t29: AddedToken(\"<extra_id_73>\", rstrip=False, lstrip=False, single_word=False, normalized=False, special=True),\n",
            "\t30: AddedToken(\"<extra_id_72>\", rstrip=False, lstrip=False, single_word=False, normalized=False, special=True),\n",
            "\t31: AddedToken(\"<extra_id_71>\", rstrip=False, lstrip=False, single_word=False, normalized=False, special=True),\n",
            "\t32: AddedToken(\"<extra_id_70>\", rstrip=False, lstrip=False, single_word=False, normalized=False, special=True),\n",
            "\t33: AddedToken(\"<extra_id_69>\", rstrip=False, lstrip=False, single_word=False, normalized=False, special=True),\n",
            "\t34: AddedToken(\"<extra_id_68>\", rstrip=False, lstrip=False, single_word=False, normalized=False, special=True),\n",
            "\t35: AddedToken(\"<extra_id_67>\", rstrip=False, lstrip=False, single_word=False, normalized=False, special=True),\n",
            "\t36: AddedToken(\"<extra_id_66>\", rstrip=False, lstrip=False, single_word=False, normalized=False, special=True),\n",
            "\t37: AddedToken(\"<extra_id_65>\", rstrip=False, lstrip=False, single_word=False, normalized=False, special=True),\n",
            "\t38: AddedToken(\"<extra_id_64>\", rstrip=False, lstrip=False, single_word=False, normalized=False, special=True),\n",
            "\t39: AddedToken(\"<extra_id_63>\", rstrip=False, lstrip=False, single_word=False, normalized=False, special=True),\n",
            "\t40: AddedToken(\"<extra_id_62>\", rstrip=False, lstrip=False, single_word=False, normalized=False, special=True),\n",
            "\t41: AddedToken(\"<extra_id_61>\", rstrip=False, lstrip=False, single_word=False, normalized=False, special=True),\n",
            "\t42: AddedToken(\"<extra_id_60>\", rstrip=False, lstrip=False, single_word=False, normalized=False, special=True),\n",
            "\t43: AddedToken(\"<extra_id_59>\", rstrip=False, lstrip=False, single_word=False, normalized=False, special=True),\n",
            "\t44: AddedToken(\"<extra_id_58>\", rstrip=False, lstrip=False, single_word=False, normalized=False, special=True),\n",
            "\t45: AddedToken(\"<extra_id_57>\", rstrip=False, lstrip=False, single_word=False, normalized=False, special=True),\n",
            "\t46: AddedToken(\"<extra_id_56>\", rstrip=False, lstrip=False, single_word=False, normalized=False, special=True),\n",
            "\t47: AddedToken(\"<extra_id_55>\", rstrip=False, lstrip=False, single_word=False, normalized=False, special=True),\n",
            "\t48: AddedToken(\"<extra_id_54>\", rstrip=False, lstrip=False, single_word=False, normalized=False, special=True),\n",
            "\t49: AddedToken(\"<extra_id_53>\", rstrip=False, lstrip=False, single_word=False, normalized=False, special=True),\n",
            "\t50: AddedToken(\"<extra_id_52>\", rstrip=False, lstrip=False, single_word=False, normalized=False, special=True),\n",
            "\t51: AddedToken(\"<extra_id_51>\", rstrip=False, lstrip=False, single_word=False, normalized=False, special=True),\n",
            "\t52: AddedToken(\"<extra_id_50>\", rstrip=False, lstrip=False, single_word=False, normalized=False, special=True),\n",
            "\t53: AddedToken(\"<extra_id_49>\", rstrip=False, lstrip=False, single_word=False, normalized=False, special=True),\n",
            "\t54: AddedToken(\"<extra_id_48>\", rstrip=False, lstrip=False, single_word=False, normalized=False, special=True),\n",
            "\t55: AddedToken(\"<extra_id_47>\", rstrip=False, lstrip=False, single_word=False, normalized=False, special=True),\n",
            "\t56: AddedToken(\"<extra_id_46>\", rstrip=False, lstrip=False, single_word=False, normalized=False, special=True),\n",
            "\t57: AddedToken(\"<extra_id_45>\", rstrip=False, lstrip=False, single_word=False, normalized=False, special=True),\n",
            "\t58: AddedToken(\"<extra_id_44>\", rstrip=False, lstrip=False, single_word=False, normalized=False, special=True),\n",
            "\t59: AddedToken(\"<extra_id_43>\", rstrip=False, lstrip=False, single_word=False, normalized=False, special=True),\n",
            "\t60: AddedToken(\"<extra_id_42>\", rstrip=False, lstrip=False, single_word=False, normalized=False, special=True),\n",
            "\t61: AddedToken(\"<extra_id_41>\", rstrip=False, lstrip=False, single_word=False, normalized=False, special=True),\n",
            "\t62: AddedToken(\"<extra_id_40>\", rstrip=False, lstrip=False, single_word=False, normalized=False, special=True),\n",
            "\t63: AddedToken(\"<extra_id_39>\", rstrip=False, lstrip=False, single_word=False, normalized=False, special=True),\n",
            "\t64: AddedToken(\"<extra_id_38>\", rstrip=False, lstrip=False, single_word=False, normalized=False, special=True),\n",
            "\t65: AddedToken(\"<extra_id_37>\", rstrip=False, lstrip=False, single_word=False, normalized=False, special=True),\n",
            "\t66: AddedToken(\"<extra_id_36>\", rstrip=False, lstrip=False, single_word=False, normalized=False, special=True),\n",
            "\t67: AddedToken(\"<extra_id_35>\", rstrip=False, lstrip=False, single_word=False, normalized=False, special=True),\n",
            "\t68: AddedToken(\"<extra_id_34>\", rstrip=False, lstrip=False, single_word=False, normalized=False, special=True),\n",
            "\t69: AddedToken(\"<extra_id_33>\", rstrip=False, lstrip=False, single_word=False, normalized=False, special=True),\n",
            "\t70: AddedToken(\"<extra_id_32>\", rstrip=False, lstrip=False, single_word=False, normalized=False, special=True),\n",
            "\t71: AddedToken(\"<extra_id_31>\", rstrip=False, lstrip=False, single_word=False, normalized=False, special=True),\n",
            "\t72: AddedToken(\"<extra_id_30>\", rstrip=False, lstrip=False, single_word=False, normalized=False, special=True),\n",
            "\t73: AddedToken(\"<extra_id_29>\", rstrip=False, lstrip=False, single_word=False, normalized=False, special=True),\n",
            "\t74: AddedToken(\"<extra_id_28>\", rstrip=False, lstrip=False, single_word=False, normalized=False, special=True),\n",
            "\t75: AddedToken(\"<extra_id_27>\", rstrip=False, lstrip=False, single_word=False, normalized=False, special=True),\n",
            "\t76: AddedToken(\"<extra_id_26>\", rstrip=False, lstrip=False, single_word=False, normalized=False, special=True),\n",
            "\t77: AddedToken(\"<extra_id_25>\", rstrip=False, lstrip=False, single_word=False, normalized=False, special=True),\n",
            "\t78: AddedToken(\"<extra_id_24>\", rstrip=False, lstrip=False, single_word=False, normalized=False, special=True),\n",
            "\t79: AddedToken(\"<extra_id_23>\", rstrip=False, lstrip=False, single_word=False, normalized=False, special=True),\n",
            "\t80: AddedToken(\"<extra_id_22>\", rstrip=False, lstrip=False, single_word=False, normalized=False, special=True),\n",
            "\t81: AddedToken(\"<extra_id_21>\", rstrip=False, lstrip=False, single_word=False, normalized=False, special=True),\n",
            "\t82: AddedToken(\"<extra_id_20>\", rstrip=False, lstrip=False, single_word=False, normalized=False, special=True),\n",
            "\t83: AddedToken(\"<extra_id_19>\", rstrip=False, lstrip=False, single_word=False, normalized=False, special=True),\n",
            "\t84: AddedToken(\"<extra_id_18>\", rstrip=False, lstrip=False, single_word=False, normalized=False, special=True),\n",
            "\t85: AddedToken(\"<extra_id_17>\", rstrip=False, lstrip=False, single_word=False, normalized=False, special=True),\n",
            "\t86: AddedToken(\"<extra_id_16>\", rstrip=False, lstrip=False, single_word=False, normalized=False, special=True),\n",
            "\t87: AddedToken(\"<extra_id_15>\", rstrip=False, lstrip=False, single_word=False, normalized=False, special=True),\n",
            "\t88: AddedToken(\"<extra_id_14>\", rstrip=False, lstrip=False, single_word=False, normalized=False, special=True),\n",
            "\t89: AddedToken(\"<extra_id_13>\", rstrip=False, lstrip=False, single_word=False, normalized=False, special=True),\n",
            "\t90: AddedToken(\"<extra_id_12>\", rstrip=False, lstrip=False, single_word=False, normalized=False, special=True),\n",
            "\t91: AddedToken(\"<extra_id_11>\", rstrip=False, lstrip=False, single_word=False, normalized=False, special=True),\n",
            "\t92: AddedToken(\"<extra_id_10>\", rstrip=False, lstrip=False, single_word=False, normalized=False, special=True),\n",
            "\t93: AddedToken(\"<extra_id_9>\", rstrip=False, lstrip=False, single_word=False, normalized=False, special=True),\n",
            "\t94: AddedToken(\"<extra_id_8>\", rstrip=False, lstrip=False, single_word=False, normalized=False, special=True),\n",
            "\t95: AddedToken(\"<extra_id_7>\", rstrip=False, lstrip=False, single_word=False, normalized=False, special=True),\n",
            "\t96: AddedToken(\"<extra_id_6>\", rstrip=False, lstrip=False, single_word=False, normalized=False, special=True),\n",
            "\t97: AddedToken(\"<extra_id_5>\", rstrip=False, lstrip=False, single_word=False, normalized=False, special=True),\n",
            "\t98: AddedToken(\"<extra_id_4>\", rstrip=False, lstrip=False, single_word=False, normalized=False, special=True),\n",
            "\t99: AddedToken(\"<extra_id_3>\", rstrip=False, lstrip=False, single_word=False, normalized=False, special=True),\n",
            "\t100: AddedToken(\"<extra_id_2>\", rstrip=False, lstrip=False, single_word=False, normalized=False, special=True),\n",
            "\t101: AddedToken(\"<extra_id_1>\", rstrip=False, lstrip=False, single_word=False, normalized=False, special=True),\n",
            "\t102: AddedToken(\"<extra_id_0>\", rstrip=False, lstrip=False, single_word=False, normalized=False, special=True),\n",
            "}\n",
            ")\n"
          ]
        }
      ]
    },
    {
      "cell_type": "code",
      "source": [
        "input_str = \"Hugging face is great!\"\n",
        "\n",
        "input_tokens = mt5_tokenizer.tokenize(input_str)\n",
        "print(f\"Tokens of the input sequence: {input_tokens}\")\n",
        "\n",
        "input_ids = mt5_tokenizer.convert_tokens_to_ids(input_tokens)\n",
        "print(f\"IDs assigned to the intput sequence: {input_ids}\")\n",
        "\n",
        "decoded = mt5_tokenizer.decode(input_ids)\n",
        "print(decoded)\n",
        "\n",
        "model_inputs = mt5_tokenizer(\"Hugging Face is great!\", return_tensors=\"pt\")\n",
        "print(model_inputs)"
      ],
      "metadata": {
        "colab": {
          "base_uri": "https://localhost:8080/"
        },
        "id": "_ox2oBpFnpu3",
        "outputId": "b6c13546-19c1-4eaf-e104-540520605eff"
      },
      "execution_count": 7,
      "outputs": [
        {
          "output_type": "stream",
          "name": "stdout",
          "text": [
            "Tokens of the input sequence: ['▁Hu', 'gging', '▁face', '▁is', '▁great', '!']\n",
            "IDs assigned to the intput sequence: [4691, 30374, 3029, 339, 3005, 309]\n",
            "Hugging face is great!\n",
            "{'input_ids': tensor([[ 4691, 30374, 14876,   339,  3005,   309,     1]]), 'attention_mask': tensor([[1, 1, 1, 1, 1, 1, 1]])}\n"
          ]
        }
      ]
    },
    {
      "cell_type": "code",
      "source": [
        "model_inputs = mt5_tokenizer([\"Hugging Face is great!\",\n",
        "                         \"The quick brown fox jumps over the lazy dog.\",\n",
        "                         \"We are learning to fine-tune models.\",\n",
        "                         ],\n",
        "                         return_tensors=\"pt\",\n",
        "                         padding=True,\n",
        "                         truncation=True)\n",
        "print(model_inputs)\n",
        "print(mt5_tokenizer.pad_token, mt5_tokenizer.pad_token_id)"
      ],
      "metadata": {
        "colab": {
          "base_uri": "https://localhost:8080/"
        },
        "id": "ZGP8DzWhD7ms",
        "outputId": "1f42c350-2cb6-498b-d7a4-86ee2f8db616"
      },
      "execution_count": 8,
      "outputs": [
        {
          "output_type": "stream",
          "name": "stderr",
          "text": [
            "Asking to truncate to max_length but no maximum length is provided and the model has no predefined maximum length. Default to no truncation.\n"
          ]
        },
        {
          "output_type": "stream",
          "name": "stdout",
          "text": [
            "{'input_ids': tensor([[  4691,  30374,  14876,    339,   3005,    309,      1,      0,      0,\n",
            "              0,      0,      0,      0,      0],\n",
            "        [   486,  13819,  44442,    259,  63142,  51917,    263,    910,    287,\n",
            "            259, 105514,  10990,    260,      1],\n",
            "        [  1306,    418,  22651,    288,   7495,    264, 118411,  33477,    260,\n",
            "              1,      0,      0,      0,      0]]), 'attention_mask': tensor([[1, 1, 1, 1, 1, 1, 1, 0, 0, 0, 0, 0, 0, 0],\n",
            "        [1, 1, 1, 1, 1, 1, 1, 1, 1, 1, 1, 1, 1, 1],\n",
            "        [1, 1, 1, 1, 1, 1, 1, 1, 1, 1, 0, 0, 0, 0]])}\n",
            "<pad> 0\n"
          ]
        }
      ]
    },
    {
      "cell_type": "markdown",
      "source": [
        "### 2.   **mt5_be_tokenizer** from Model 2 (google/mt5-small)"
      ],
      "metadata": {
        "id": "zZ9CIY03zvmx"
      }
    },
    {
      "cell_type": "code",
      "source": [
        "print(mt5_tokenizer)"
      ],
      "metadata": {
        "colab": {
          "base_uri": "https://localhost:8080/"
        },
        "id": "MNkptqnniPwH",
        "outputId": "41ebda64-77d1-4ff3-d392-91c74ec90f5c"
      },
      "execution_count": 9,
      "outputs": [
        {
          "output_type": "stream",
          "name": "stdout",
          "text": [
            "T5TokenizerFast(name_or_path='google/mt5-small', vocab_size=250100, model_max_length=1000000000000000019884624838656, is_fast=True, padding_side='right', truncation_side='right', special_tokens={'eos_token': '</s>', 'unk_token': '<unk>', 'pad_token': '<pad>'}, clean_up_tokenization_spaces=False, added_tokens_decoder={\n",
            "\t0: AddedToken(\"<pad>\", rstrip=False, lstrip=False, single_word=False, normalized=False, special=True),\n",
            "\t1: AddedToken(\"</s>\", rstrip=False, lstrip=False, single_word=False, normalized=False, special=True),\n",
            "\t2: AddedToken(\"<unk>\", rstrip=False, lstrip=False, single_word=False, normalized=False, special=True),\n",
            "\t250000: AddedToken(\"▁<extra_id_99>\", rstrip=False, lstrip=False, single_word=False, normalized=False, special=False),\n",
            "\t250001: AddedToken(\"▁<extra_id_98>\", rstrip=False, lstrip=False, single_word=False, normalized=False, special=False),\n",
            "\t250002: AddedToken(\"▁<extra_id_97>\", rstrip=False, lstrip=False, single_word=False, normalized=False, special=False),\n",
            "\t250003: AddedToken(\"▁<extra_id_96>\", rstrip=False, lstrip=False, single_word=False, normalized=False, special=False),\n",
            "\t250004: AddedToken(\"▁<extra_id_95>\", rstrip=False, lstrip=False, single_word=False, normalized=False, special=False),\n",
            "\t250005: AddedToken(\"▁<extra_id_94>\", rstrip=False, lstrip=False, single_word=False, normalized=False, special=False),\n",
            "\t250006: AddedToken(\"▁<extra_id_93>\", rstrip=False, lstrip=False, single_word=False, normalized=False, special=False),\n",
            "\t250007: AddedToken(\"▁<extra_id_92>\", rstrip=False, lstrip=False, single_word=False, normalized=False, special=False),\n",
            "\t250008: AddedToken(\"▁<extra_id_91>\", rstrip=False, lstrip=False, single_word=False, normalized=False, special=False),\n",
            "\t250009: AddedToken(\"▁<extra_id_90>\", rstrip=False, lstrip=False, single_word=False, normalized=False, special=False),\n",
            "\t250010: AddedToken(\"▁<extra_id_89>\", rstrip=False, lstrip=False, single_word=False, normalized=False, special=False),\n",
            "\t250011: AddedToken(\"▁<extra_id_88>\", rstrip=False, lstrip=False, single_word=False, normalized=False, special=False),\n",
            "\t250012: AddedToken(\"▁<extra_id_87>\", rstrip=False, lstrip=False, single_word=False, normalized=False, special=False),\n",
            "\t250013: AddedToken(\"▁<extra_id_86>\", rstrip=False, lstrip=False, single_word=False, normalized=False, special=False),\n",
            "\t250014: AddedToken(\"▁<extra_id_85>\", rstrip=False, lstrip=False, single_word=False, normalized=False, special=False),\n",
            "\t250015: AddedToken(\"▁<extra_id_84>\", rstrip=False, lstrip=False, single_word=False, normalized=False, special=False),\n",
            "\t250016: AddedToken(\"▁<extra_id_83>\", rstrip=False, lstrip=False, single_word=False, normalized=False, special=False),\n",
            "\t250017: AddedToken(\"▁<extra_id_82>\", rstrip=False, lstrip=False, single_word=False, normalized=False, special=False),\n",
            "\t250018: AddedToken(\"▁<extra_id_81>\", rstrip=False, lstrip=False, single_word=False, normalized=False, special=False),\n",
            "\t250019: AddedToken(\"▁<extra_id_80>\", rstrip=False, lstrip=False, single_word=False, normalized=False, special=False),\n",
            "\t250020: AddedToken(\"▁<extra_id_79>\", rstrip=False, lstrip=False, single_word=False, normalized=False, special=False),\n",
            "\t250021: AddedToken(\"▁<extra_id_78>\", rstrip=False, lstrip=False, single_word=False, normalized=False, special=False),\n",
            "\t250022: AddedToken(\"▁<extra_id_77>\", rstrip=False, lstrip=False, single_word=False, normalized=False, special=False),\n",
            "\t250023: AddedToken(\"▁<extra_id_76>\", rstrip=False, lstrip=False, single_word=False, normalized=False, special=False),\n",
            "\t250024: AddedToken(\"▁<extra_id_75>\", rstrip=False, lstrip=False, single_word=False, normalized=False, special=False),\n",
            "\t250025: AddedToken(\"▁<extra_id_74>\", rstrip=False, lstrip=False, single_word=False, normalized=False, special=False),\n",
            "\t250026: AddedToken(\"▁<extra_id_73>\", rstrip=False, lstrip=False, single_word=False, normalized=False, special=False),\n",
            "\t250027: AddedToken(\"▁<extra_id_72>\", rstrip=False, lstrip=False, single_word=False, normalized=False, special=False),\n",
            "\t250028: AddedToken(\"▁<extra_id_71>\", rstrip=False, lstrip=False, single_word=False, normalized=False, special=False),\n",
            "\t250029: AddedToken(\"▁<extra_id_70>\", rstrip=False, lstrip=False, single_word=False, normalized=False, special=False),\n",
            "\t250030: AddedToken(\"▁<extra_id_69>\", rstrip=False, lstrip=False, single_word=False, normalized=False, special=False),\n",
            "\t250031: AddedToken(\"▁<extra_id_68>\", rstrip=False, lstrip=False, single_word=False, normalized=False, special=False),\n",
            "\t250032: AddedToken(\"▁<extra_id_67>\", rstrip=False, lstrip=False, single_word=False, normalized=False, special=False),\n",
            "\t250033: AddedToken(\"▁<extra_id_66>\", rstrip=False, lstrip=False, single_word=False, normalized=False, special=False),\n",
            "\t250034: AddedToken(\"▁<extra_id_65>\", rstrip=False, lstrip=False, single_word=False, normalized=False, special=False),\n",
            "\t250035: AddedToken(\"▁<extra_id_64>\", rstrip=False, lstrip=False, single_word=False, normalized=False, special=False),\n",
            "\t250036: AddedToken(\"▁<extra_id_63>\", rstrip=False, lstrip=False, single_word=False, normalized=False, special=False),\n",
            "\t250037: AddedToken(\"▁<extra_id_62>\", rstrip=False, lstrip=False, single_word=False, normalized=False, special=False),\n",
            "\t250038: AddedToken(\"▁<extra_id_61>\", rstrip=False, lstrip=False, single_word=False, normalized=False, special=False),\n",
            "\t250039: AddedToken(\"▁<extra_id_60>\", rstrip=False, lstrip=False, single_word=False, normalized=False, special=False),\n",
            "\t250040: AddedToken(\"▁<extra_id_59>\", rstrip=False, lstrip=False, single_word=False, normalized=False, special=False),\n",
            "\t250041: AddedToken(\"▁<extra_id_58>\", rstrip=False, lstrip=False, single_word=False, normalized=False, special=False),\n",
            "\t250042: AddedToken(\"▁<extra_id_57>\", rstrip=False, lstrip=False, single_word=False, normalized=False, special=False),\n",
            "\t250043: AddedToken(\"▁<extra_id_56>\", rstrip=False, lstrip=False, single_word=False, normalized=False, special=False),\n",
            "\t250044: AddedToken(\"▁<extra_id_55>\", rstrip=False, lstrip=False, single_word=False, normalized=False, special=False),\n",
            "\t250045: AddedToken(\"▁<extra_id_54>\", rstrip=False, lstrip=False, single_word=False, normalized=False, special=False),\n",
            "\t250046: AddedToken(\"▁<extra_id_53>\", rstrip=False, lstrip=False, single_word=False, normalized=False, special=False),\n",
            "\t250047: AddedToken(\"▁<extra_id_52>\", rstrip=False, lstrip=False, single_word=False, normalized=False, special=False),\n",
            "\t250048: AddedToken(\"▁<extra_id_51>\", rstrip=False, lstrip=False, single_word=False, normalized=False, special=False),\n",
            "\t250049: AddedToken(\"▁<extra_id_50>\", rstrip=False, lstrip=False, single_word=False, normalized=False, special=False),\n",
            "\t250050: AddedToken(\"▁<extra_id_49>\", rstrip=False, lstrip=False, single_word=False, normalized=False, special=False),\n",
            "\t250051: AddedToken(\"▁<extra_id_48>\", rstrip=False, lstrip=False, single_word=False, normalized=False, special=False),\n",
            "\t250052: AddedToken(\"▁<extra_id_47>\", rstrip=False, lstrip=False, single_word=False, normalized=False, special=False),\n",
            "\t250053: AddedToken(\"▁<extra_id_46>\", rstrip=False, lstrip=False, single_word=False, normalized=False, special=False),\n",
            "\t250054: AddedToken(\"▁<extra_id_45>\", rstrip=False, lstrip=False, single_word=False, normalized=False, special=False),\n",
            "\t250055: AddedToken(\"▁<extra_id_44>\", rstrip=False, lstrip=False, single_word=False, normalized=False, special=False),\n",
            "\t250056: AddedToken(\"▁<extra_id_43>\", rstrip=False, lstrip=False, single_word=False, normalized=False, special=False),\n",
            "\t250057: AddedToken(\"▁<extra_id_42>\", rstrip=False, lstrip=False, single_word=False, normalized=False, special=False),\n",
            "\t250058: AddedToken(\"▁<extra_id_41>\", rstrip=False, lstrip=False, single_word=False, normalized=False, special=False),\n",
            "\t250059: AddedToken(\"▁<extra_id_40>\", rstrip=False, lstrip=False, single_word=False, normalized=False, special=False),\n",
            "\t250060: AddedToken(\"▁<extra_id_39>\", rstrip=False, lstrip=False, single_word=False, normalized=False, special=False),\n",
            "\t250061: AddedToken(\"▁<extra_id_38>\", rstrip=False, lstrip=False, single_word=False, normalized=False, special=False),\n",
            "\t250062: AddedToken(\"▁<extra_id_37>\", rstrip=False, lstrip=False, single_word=False, normalized=False, special=False),\n",
            "\t250063: AddedToken(\"▁<extra_id_36>\", rstrip=False, lstrip=False, single_word=False, normalized=False, special=False),\n",
            "\t250064: AddedToken(\"▁<extra_id_35>\", rstrip=False, lstrip=False, single_word=False, normalized=False, special=False),\n",
            "\t250065: AddedToken(\"▁<extra_id_34>\", rstrip=False, lstrip=False, single_word=False, normalized=False, special=False),\n",
            "\t250066: AddedToken(\"▁<extra_id_33>\", rstrip=False, lstrip=False, single_word=False, normalized=False, special=False),\n",
            "\t250067: AddedToken(\"▁<extra_id_32>\", rstrip=False, lstrip=False, single_word=False, normalized=False, special=False),\n",
            "\t250068: AddedToken(\"▁<extra_id_31>\", rstrip=False, lstrip=False, single_word=False, normalized=False, special=False),\n",
            "\t250069: AddedToken(\"▁<extra_id_30>\", rstrip=False, lstrip=False, single_word=False, normalized=False, special=False),\n",
            "\t250070: AddedToken(\"▁<extra_id_29>\", rstrip=False, lstrip=False, single_word=False, normalized=False, special=False),\n",
            "\t250071: AddedToken(\"▁<extra_id_28>\", rstrip=False, lstrip=False, single_word=False, normalized=False, special=False),\n",
            "\t250072: AddedToken(\"▁<extra_id_27>\", rstrip=False, lstrip=False, single_word=False, normalized=False, special=False),\n",
            "\t250073: AddedToken(\"▁<extra_id_26>\", rstrip=False, lstrip=False, single_word=False, normalized=False, special=False),\n",
            "\t250074: AddedToken(\"▁<extra_id_25>\", rstrip=False, lstrip=False, single_word=False, normalized=False, special=False),\n",
            "\t250075: AddedToken(\"▁<extra_id_24>\", rstrip=False, lstrip=False, single_word=False, normalized=False, special=False),\n",
            "\t250076: AddedToken(\"▁<extra_id_23>\", rstrip=False, lstrip=False, single_word=False, normalized=False, special=False),\n",
            "\t250077: AddedToken(\"▁<extra_id_22>\", rstrip=False, lstrip=False, single_word=False, normalized=False, special=False),\n",
            "\t250078: AddedToken(\"▁<extra_id_21>\", rstrip=False, lstrip=False, single_word=False, normalized=False, special=False),\n",
            "\t250079: AddedToken(\"▁<extra_id_20>\", rstrip=False, lstrip=False, single_word=False, normalized=False, special=False),\n",
            "\t250080: AddedToken(\"▁<extra_id_19>\", rstrip=False, lstrip=False, single_word=False, normalized=False, special=False),\n",
            "\t250081: AddedToken(\"▁<extra_id_18>\", rstrip=False, lstrip=False, single_word=False, normalized=False, special=False),\n",
            "\t250082: AddedToken(\"▁<extra_id_17>\", rstrip=False, lstrip=False, single_word=False, normalized=False, special=False),\n",
            "\t250083: AddedToken(\"▁<extra_id_16>\", rstrip=False, lstrip=False, single_word=False, normalized=False, special=False),\n",
            "\t250084: AddedToken(\"▁<extra_id_15>\", rstrip=False, lstrip=False, single_word=False, normalized=False, special=False),\n",
            "\t250085: AddedToken(\"▁<extra_id_14>\", rstrip=False, lstrip=False, single_word=False, normalized=False, special=False),\n",
            "\t250086: AddedToken(\"▁<extra_id_13>\", rstrip=False, lstrip=False, single_word=False, normalized=False, special=False),\n",
            "\t250087: AddedToken(\"▁<extra_id_12>\", rstrip=False, lstrip=False, single_word=False, normalized=False, special=False),\n",
            "\t250088: AddedToken(\"▁<extra_id_11>\", rstrip=False, lstrip=False, single_word=False, normalized=False, special=False),\n",
            "\t250089: AddedToken(\"▁<extra_id_10>\", rstrip=False, lstrip=False, single_word=False, normalized=False, special=False),\n",
            "\t250090: AddedToken(\"▁<extra_id_9>\", rstrip=False, lstrip=False, single_word=False, normalized=False, special=False),\n",
            "\t250091: AddedToken(\"▁<extra_id_8>\", rstrip=False, lstrip=False, single_word=False, normalized=False, special=False),\n",
            "\t250092: AddedToken(\"▁<extra_id_7>\", rstrip=False, lstrip=False, single_word=False, normalized=False, special=False),\n",
            "\t250093: AddedToken(\"▁<extra_id_6>\", rstrip=False, lstrip=False, single_word=False, normalized=False, special=False),\n",
            "\t250094: AddedToken(\"▁<extra_id_5>\", rstrip=False, lstrip=False, single_word=False, normalized=False, special=False),\n",
            "\t250095: AddedToken(\"▁<extra_id_4>\", rstrip=False, lstrip=False, single_word=False, normalized=False, special=False),\n",
            "\t250096: AddedToken(\"▁<extra_id_3>\", rstrip=False, lstrip=False, single_word=False, normalized=False, special=False),\n",
            "\t250097: AddedToken(\"▁<extra_id_2>\", rstrip=False, lstrip=False, single_word=False, normalized=False, special=False),\n",
            "\t250098: AddedToken(\"▁<extra_id_1>\", rstrip=False, lstrip=False, single_word=False, normalized=False, special=False),\n",
            "\t250099: AddedToken(\"▁<extra_id_0>\", rstrip=False, lstrip=False, single_word=False, normalized=False, special=False),\n",
            "}\n",
            ")\n"
          ]
        }
      ]
    },
    {
      "cell_type": "code",
      "source": [
        "input_str = \"Hugging face is great!\"\n",
        "\n",
        "tokenized_inputs = t5_be_tokenizer(input_str)\n",
        "print(tokenized_inputs.input_ids)\n",
        "\n",
        "input_tokens = t5_be_tokenizer.tokenize(input_str)\n",
        "print(f\"Tokens of the input sequence: {input_tokens}\")\n",
        "\n",
        "input_ids = t5_be_tokenizer.convert_tokens_to_ids(input_tokens)\n",
        "print(f\"IDs assigned to the intput sequence: {input_ids}\")\n",
        "\n",
        "decoded = t5_be_tokenizer.decode(input_ids)\n",
        "print(decoded)\n",
        "\n",
        "model_inputs = t5_be_tokenizer(\"Hugging Face is great!\", return_tensors=\"pt\")\n",
        "print(model_inputs)"
      ],
      "metadata": {
        "colab": {
          "base_uri": "https://localhost:8080/"
        },
        "id": "Jo5p6_eMn722",
        "outputId": "30632e42-57d3-4f25-de36-972c4c851708"
      },
      "execution_count": 10,
      "outputs": [
        {
          "output_type": "stream",
          "name": "stdout",
          "text": [
            "[34637, 10174, 3502, 135, 1511, 185, 1]\n",
            "Tokens of the input sequence: ['▁Hug', 'ging', '▁face', '▁is', '▁great', '!']\n",
            "IDs assigned to the intput sequence: [34637, 10174, 3502, 135, 1511, 185]\n",
            "Hugging face is great!\n",
            "{'input_ids': tensor([[34637, 10174, 15137,   135,  1511,   185,     1]]), 'attention_mask': tensor([[1, 1, 1, 1, 1, 1, 1]])}\n"
          ]
        }
      ]
    },
    {
      "cell_type": "code",
      "source": [
        "model_inputs = t5_be_tokenizer([\"Hugging Face is great!\",\n",
        "                         \"The quick brown fox jumps over the lazy dog.\",\n",
        "                         \"We are learning to fine-tune models.\",\n",
        "                         ],\n",
        "                         return_tensors=\"pt\",\n",
        "                         padding=True,\n",
        "                         truncation=True)\n",
        "print(model_inputs)\n",
        "print(t5_be_tokenizer.pad_token, t5_be_tokenizer.pad_token_id)"
      ],
      "metadata": {
        "colab": {
          "base_uri": "https://localhost:8080/"
        },
        "id": "SQYAHbo9DCmc",
        "outputId": "33b3d5a0-de0f-4546-848c-5f19d291952a"
      },
      "execution_count": 11,
      "outputs": [
        {
          "output_type": "stream",
          "name": "stdout",
          "text": [
            "{'input_ids': tensor([[34637, 10174, 15137,   135,  1511,   185,     1,     0,     0,     0,\n",
            "             0,     0,     0,     0],\n",
            "        [  138, 21766, 29280,   103, 16335, 11026,   131,   629,   106,   103,\n",
            "         37036,  5893,   105,     1],\n",
            "        [  353,   156, 15264,   116,  2563,   115, 19765,  3083,   105,     1,\n",
            "             0,     0,     0,     0]]), 'attention_mask': tensor([[1, 1, 1, 1, 1, 1, 1, 0, 0, 0, 0, 0, 0, 0],\n",
            "        [1, 1, 1, 1, 1, 1, 1, 1, 1, 1, 1, 1, 1, 1],\n",
            "        [1, 1, 1, 1, 1, 1, 1, 1, 1, 1, 0, 0, 0, 0]])}\n",
            "<pad> 0\n"
          ]
        }
      ]
    },
    {
      "cell_type": "markdown",
      "source": [
        "**Note**: Since both tokenizers tokenize the strings in differently, I will use for each miodle its own tokenizer."
      ],
      "metadata": {
        "id": "ld8CA4laoiiU"
      }
    },
    {
      "cell_type": "markdown",
      "source": [
        "# Loading the Metrics\n",
        "\n",
        "For this project, I have decided to use the two metrics:\n",
        "*  **Google BLEU**: It is said to be more effective on a sentence level then BLEU score. This metric can take on values from 0 to 1, inclusive. Higher scores are better, with 0 indicating no matches, and 1 indicating a perfect match.\n",
        "*   **SacreBLEU**: It is said to be more easily reproducible than just BLEU. The score can take any value between 0.0 and 100.0, inclusive, where 100.0 is a perfect match\n",
        "\n",
        "The sources for my statements here are listed in the references below.\n",
        "\n",
        "* I decided to get red of BLEU score as it showed in most of examples from the previous versions of the project workflow only 0, thus it was not useful for evaluation. All code cells contaning this scoe are commented\n",
        "   \n",
        "* Previous text about BLEU: \"It is the convention metric in machine translation. BLEU’s output is always a number between 0 and 1, where values closer to 1 represent more similar texts.\""
      ],
      "metadata": {
        "id": "gzQtv4dxsIxM"
      }
    },
    {
      "cell_type": "code",
      "source": [
        "import evaluate\n",
        "\n",
        "bleu = evaluate.load(\"bleu\")\n",
        "google_bleu = evaluate.load(\"google_bleu\")\n",
        "sacrebleu = evaluate.load(\"sacrebleu\")"
      ],
      "metadata": {
        "id": "l2alXbBBseaa"
      },
      "execution_count": 12,
      "outputs": []
    },
    {
      "cell_type": "markdown",
      "source": [
        "### Exploring the metrics"
      ],
      "metadata": {
        "id": "eflERrJNtQhd"
      }
    },
    {
      "cell_type": "code",
      "source": [
        "#Example from the source for google BLEU\n",
        "\n",
        "sentence1 = \"the cat sat on the mat\"\n",
        "sentence2 = \"the cat ate the mat\"\n",
        "\n",
        "result_bleu = bleu.compute(predictions=[sentence1], references=[[sentence2]])\n",
        "result_google_bleu = google_bleu.compute(predictions=[sentence1], references=[[sentence2]])\n",
        "result_sacrebleu = sacrebleu.compute(predictions=[sentence1], references=[[sentence2]])\n",
        "\n",
        "print(result_bleu)\n",
        "print(result_google_bleu)\n",
        "print(result_sacrebleu)"
      ],
      "metadata": {
        "colab": {
          "base_uri": "https://localhost:8080/"
        },
        "id": "8rXBZzocsMEd",
        "outputId": "c316be9e-015f-49a8-d700-f90258d23af0"
      },
      "execution_count": 13,
      "outputs": [
        {
          "output_type": "stream",
          "name": "stdout",
          "text": [
            "{'bleu': 0.0, 'precisions': [0.6666666666666666, 0.4, 0.0, 0.0], 'brevity_penalty': 1.0, 'length_ratio': 1.2, 'translation_length': 6, 'reference_length': 5}\n",
            "{'google_bleu': 0.3333333333333333}\n",
            "{'score': 22.957488466614336, 'counts': [4, 2, 0, 0], 'totals': [6, 5, 4, 3], 'precisions': [66.66666666666667, 40.0, 12.5, 8.333333333333334], 'bp': 1.0, 'sys_len': 6, 'ref_len': 5}\n"
          ]
        }
      ]
    },
    {
      "cell_type": "code",
      "source": [
        "# Example 2 from  the source for google BLEU\n",
        "\n",
        "predictions = ['It is a guide to action which ensures that the rubber duck always disobeys the commands of the cat', 'he read the book because he was interested in world history']\n",
        "references  = [['It is the guiding principle which guarantees the rubber duck forces never being under the command of the cat', 'It is a guide to action that ensures that the rubber duck will never heed the cat commands', 'It is the practical guide for the rubber duck army never to heed the directions of the cat'], ['he was interested in world history because he read the book']]\n",
        "\n",
        "results_bleu = bleu.compute(predictions=predictions, references=references)\n",
        "results_google_bleu = google_bleu.compute(predictions=predictions, references=references)\n",
        "\n",
        "print(results_bleu)\n",
        "print(results_google_bleu)\n",
        "\n",
        "# SacreBLEU can not be calculated here as it requires the same number of refereces and source sentences"
      ],
      "metadata": {
        "colab": {
          "base_uri": "https://localhost:8080/"
        },
        "id": "NdHIm7WN6rlF",
        "outputId": "aa25106e-e3c6-44a0-8129-717660d9816f"
      },
      "execution_count": 14,
      "outputs": [
        {
          "output_type": "stream",
          "name": "stdout",
          "text": [
            "{'bleu': 0.6057224552983581, 'precisions': [0.9333333333333333, 0.7142857142857143, 0.5384615384615384, 0.375], 'brevity_penalty': 1.0, 'length_ratio': 1.0344827586206897, 'translation_length': 30, 'reference_length': 29}\n",
            "{'google_bleu': 0.6111111111111112}\n"
          ]
        }
      ]
    },
    {
      "cell_type": "code",
      "source": [
        "# Example from the source for sacre BLEU\n",
        "\n",
        "predictions = [\"hello there general kenobi\",\n",
        "                 \"on our way to ankh morpork\"]\n",
        "references = [[\"hello there general kenobi\", \"hello there !\"],\n",
        "                 [\"goodbye ankh morpork\", \"ankh morpork\"]]\n",
        "\n",
        "results = sacrebleu.compute(predictions=predictions, references=references)\n",
        "print(results)"
      ],
      "metadata": {
        "colab": {
          "base_uri": "https://localhost:8080/"
        },
        "id": "_TlLhRSZkcPT",
        "outputId": "eb429bbc-2137-4af8-9623-483a887bea5a"
      },
      "execution_count": 15,
      "outputs": [
        {
          "output_type": "stream",
          "name": "stdout",
          "text": [
            "{'score': 39.76353643835252, 'counts': [6, 4, 2, 1], 'totals': [10, 8, 6, 4], 'precisions': [60.0, 50.0, 33.333333333333336, 25.0], 'bp': 1.0, 'sys_len': 10, 'ref_len': 7}\n"
          ]
        }
      ]
    },
    {
      "cell_type": "markdown",
      "source": [
        "**Note**: BLEU score is computed separetely for each of the refeences, while google BLEU is computed once for all of the references. Sacre BLEU requires the same number for referencies to be computed\n",
        "\n",
        "For further evaluation I am going to focus only of scores and round them till the second decimal."
      ],
      "metadata": {
        "id": "yX_JM8yrikph"
      }
    },
    {
      "cell_type": "markdown",
      "source": [
        "### Creating Functions for Metric Calcualtions"
      ],
      "metadata": {
        "id": "91BwG9_1tVHC"
      }
    },
    {
      "cell_type": "code",
      "source": [
        "# My functions\n",
        "\n",
        "def compute_bleu_score(predictions, references):\n",
        "    if isinstance(predictions, str):\n",
        "        predictions = [predictions]\n",
        "    if isinstance(references, str):\n",
        "        references = [[references]]\n",
        "    else:\n",
        "        references = [ref if isinstance(ref, list) else [ref] for ref in references]\n",
        "    result = bleu.compute(predictions=predictions, references=references)\n",
        "    return round(result[\"bleu\"],2)\n",
        "\n",
        "\n",
        "def compute_google_bleu_score(predictions, references):\n",
        "    if isinstance(predictions, str):\n",
        "        predictions = [predictions]\n",
        "    if isinstance(references, str):\n",
        "        references = [[references]]\n",
        "    else:\n",
        "        references = [ref if isinstance(ref, list) else [ref] for ref in references]\n",
        "    result = google_bleu.compute(predictions=predictions, references=references)\n",
        "    return round(result[\"google_bleu\"],2)\n",
        "\n",
        "\n",
        "def compute_sacrebleu_score(predictions, references):\n",
        "    if isinstance(predictions, str):\n",
        "        predictions = [predictions]\n",
        "    if isinstance(references, str):\n",
        "        references = [[references]]\n",
        "    else:\n",
        "        references = [ref if isinstance(ref, list) else [ref] for ref in references]\n",
        "    result = sacrebleu.compute(predictions=predictions, references=references)\n",
        "    return round(result[\"score\"],2)"
      ],
      "metadata": {
        "id": "vLZKeQr0znJe"
      },
      "execution_count": 16,
      "outputs": []
    },
    {
      "cell_type": "markdown",
      "source": [
        "### Testing the Functions"
      ],
      "metadata": {
        "id": "4mbGLpUFtqIJ"
      }
    },
    {
      "cell_type": "code",
      "source": [
        "print(compute_bleu_score(sentence1, sentence2))\n",
        "print(compute_google_bleu_score(sentence1, sentence2))\n",
        "print(compute_sacrebleu_score(sentence1, sentence2))"
      ],
      "metadata": {
        "colab": {
          "base_uri": "https://localhost:8080/"
        },
        "id": "Fvj0nxH62uqc",
        "outputId": "eeb77a79-6185-4b12-b698-45b5e1af0c6d"
      },
      "execution_count": 17,
      "outputs": [
        {
          "output_type": "stream",
          "name": "stdout",
          "text": [
            "0.0\n",
            "0.33\n",
            "22.96\n"
          ]
        }
      ]
    },
    {
      "cell_type": "code",
      "source": [
        "print(compute_bleu_score(predictions, references))\n",
        "print(compute_google_bleu_score(predictions, references))\n",
        "print(compute_sacrebleu_score(predictions, references))"
      ],
      "metadata": {
        "colab": {
          "base_uri": "https://localhost:8080/"
        },
        "id": "NTxTobkw60gx",
        "outputId": "bbb304ae-96c7-4773-ea97-07ebdead4855"
      },
      "execution_count": 18,
      "outputs": [
        {
          "output_type": "stream",
          "name": "stdout",
          "text": [
            "0.4\n",
            "0.46\n",
            "39.76\n"
          ]
        }
      ]
    },
    {
      "cell_type": "code",
      "source": [
        "predicted_sentences = [\n",
        "    \"The cat sat on the mat.\",\n",
        "    \"Hello, how are you?\"\n",
        "]\n",
        "\n",
        "reference_sentences = [\n",
        "    \"The cat ate the mat.\",\n",
        "    \"Hi, how do you do?\"\n",
        "]"
      ],
      "metadata": {
        "id": "V5M-BTm23gYL"
      },
      "execution_count": 19,
      "outputs": []
    },
    {
      "cell_type": "code",
      "source": [
        "print(compute_bleu_score(predicted_sentences, reference_sentences))\n",
        "print(compute_google_bleu_score(predicted_sentences, reference_sentences))\n",
        "print(compute_sacrebleu_score(predicted_sentences, reference_sentences))"
      ],
      "metadata": {
        "colab": {
          "base_uri": "https://localhost:8080/"
        },
        "id": "pnk4ZQVH47Av",
        "outputId": "4882085a-ba95-4074-ad5a-fe28272bb00c"
      },
      "execution_count": 20,
      "outputs": [
        {
          "output_type": "stream",
          "name": "stdout",
          "text": [
            "0.0\n",
            "0.32\n",
            "21.14\n"
          ]
        }
      ]
    },
    {
      "cell_type": "markdown",
      "source": [
        "# Loading Dataset"
      ],
      "metadata": {
        "id": "boqg5Sl7mI-R"
      }
    },
    {
      "cell_type": "code",
      "source": [
        "from datasets import load_dataset, DatasetDict\n",
        "from transformers import DataCollatorWithPadding\n",
        "from transformers import DataCollatorForSeq2Seq\n",
        "\n",
        "be_en_dataset = load_dataset(\"Helsinki-NLP/opus-100\", \"be-en\")"
      ],
      "metadata": {
        "id": "eCNK0EsslRqP"
      },
      "execution_count": 60,
      "outputs": []
    },
    {
      "cell_type": "code",
      "source": [
        "print(be_en_dataset[\"train\"][:10])"
      ],
      "metadata": {
        "colab": {
          "base_uri": "https://localhost:8080/"
        },
        "outputId": "2cba48ca-845c-4b35-ced3-625ae58fa663",
        "id": "SGUSfyOG5SHc"
      },
      "execution_count": 61,
      "outputs": [
        {
          "output_type": "stream",
          "name": "stdout",
          "text": [
            "{'translation': [{'be': '& Дадаць гэтую тэчку ў закладкі', 'en': '& Bookmark This Folder'}, {'be': 'Паказваць калёнкі', 'en': 'Check Mail'}, {'be': 'Пошук усіх файлаў, створаных ці & змененых:', 'en': 'Find all files created or & modified:'}, {'be': 'Konqueror ніколі не зробіць іэкст менш за гэты, змяняючы ўсе астатнія настаўленні', 'en': 'Konqueror will never display text smaller than this size, overriding any other settings.'}, {'be': 'Вялікі дзякуй!', 'en': 'Thank you very much!'}, {'be': '720 × 720 dpi', 'en': '720x720dpi'}, {'be': 'Федэрацыя Мiкранэзіі', 'en': 'Micronesia, Federated States Of'}, {'be': 'Ханс Петэр Бікер', 'en': 'Hans Petter Bieker'}, {'be': 'norway. kgm', 'en': 'Kristiansand'}, {'be': 'CUR( лік)', 'en': 'CUR(x)'}]}\n"
          ]
        }
      ]
    },
    {
      "cell_type": "code",
      "source": [
        "print(be_en_dataset)"
      ],
      "metadata": {
        "colab": {
          "base_uri": "https://localhost:8080/"
        },
        "outputId": "a7ab622d-22b5-469e-fcde-38680d59ed70",
        "id": "Qf46tQ-15SHd"
      },
      "execution_count": 62,
      "outputs": [
        {
          "output_type": "stream",
          "name": "stdout",
          "text": [
            "DatasetDict({\n",
            "    test: Dataset({\n",
            "        features: ['translation'],\n",
            "        num_rows: 2000\n",
            "    })\n",
            "    train: Dataset({\n",
            "        features: ['translation'],\n",
            "        num_rows: 67312\n",
            "    })\n",
            "    validation: Dataset({\n",
            "        features: ['translation'],\n",
            "        num_rows: 2000\n",
            "    })\n",
            "})\n"
          ]
        }
      ]
    },
    {
      "cell_type": "code",
      "source": [
        "def truncate(example):\n",
        "    return {\n",
        "        \"source\": example['translation'][\"be\"],\n",
        "        \"translation\": example['translation'][\"en\"]\n",
        "    }"
      ],
      "metadata": {
        "id": "H2RcGhXnvtcl"
      },
      "execution_count": 63,
      "outputs": []
    },
    {
      "cell_type": "code",
      "source": [
        "# Splitting dataset\n",
        "\n",
        "small_be_en_dataset = DatasetDict(\n",
        "    train = be_en_dataset['train'].shuffle(seed=24).select(range(2000)).map(truncate),\n",
        "    val = be_en_dataset['train'].shuffle(seed=24).select(range(200)).map(truncate),\n",
        "    test = be_en_dataset['test'].shuffle(seed=24).select(range(200)).map(truncate),\n",
        ")"
      ],
      "metadata": {
        "id": "ljppOL92vwZ7"
      },
      "execution_count": 64,
      "outputs": []
    },
    {
      "cell_type": "code",
      "source": [
        "small_be_en_dataset"
      ],
      "metadata": {
        "colab": {
          "base_uri": "https://localhost:8080/"
        },
        "id": "6C7P-a-2XcKS",
        "outputId": "dd72c4de-716a-490c-b5c5-88e58a411c83"
      },
      "execution_count": 24,
      "outputs": [
        {
          "output_type": "execute_result",
          "data": {
            "text/plain": [
              "DatasetDict({\n",
              "    train: Dataset({\n",
              "        features: ['translation', 'source'],\n",
              "        num_rows: 2000\n",
              "    })\n",
              "    val: Dataset({\n",
              "        features: ['translation', 'source'],\n",
              "        num_rows: 200\n",
              "    })\n",
              "    test: Dataset({\n",
              "        features: ['translation', 'source'],\n",
              "        num_rows: 200\n",
              "    })\n",
              "})"
            ]
          },
          "metadata": {},
          "execution_count": 24
        }
      ]
    },
    {
      "cell_type": "code",
      "source": [
        "small_be_en_dataset[\"train\"][:10]"
      ],
      "metadata": {
        "colab": {
          "base_uri": "https://localhost:8080/"
        },
        "id": "QzheSApDWNDy",
        "outputId": "d49a70fd-116c-4096-a802-3d30bed2e07f"
      },
      "execution_count": 25,
      "outputs": [
        {
          "output_type": "execute_result",
          "data": {
            "text/plain": [
              "{'translation': ['Auto Away',\n",
              "  'Pas',\n",
              "  'Yearly',\n",
              "  'Insert Files - Insert new files into the project.',\n",
              "  'Line',\n",
              "  '1.600',\n",
              "  'Last',\n",
              "  'Fish Net',\n",
              "  'Drizzle Fog/ Mist',\n",
              "  'Select Message with Focus'],\n",
              " 'source': ['Аўтаматычная адсутнасць',\n",
              "  'Сту',\n",
              "  'Штогод@ title: group',\n",
              "  'Даданне файлаў у праект',\n",
              "  'Лінейны',\n",
              "  '1, 600',\n",
              "  'Апошнія',\n",
              "  'Зрабіць фонавым малюнкамName',\n",
              "  'weather condition',\n",
              "  'Пазначыць & тэкст паведамлення']}"
            ]
          },
          "metadata": {},
          "execution_count": 25
        }
      ]
    },
    {
      "cell_type": "code",
      "source": [
        "small_be_en_dataset[\"val\"][:10]"
      ],
      "metadata": {
        "colab": {
          "base_uri": "https://localhost:8080/"
        },
        "id": "Ihp_uMybtn9y",
        "outputId": "2afc604e-2290-4db4-a901-3715351431ee"
      },
      "execution_count": 26,
      "outputs": [
        {
          "output_type": "execute_result",
          "data": {
            "text/plain": [
              "{'translation': ['Auto Away',\n",
              "  'Pas',\n",
              "  'Yearly',\n",
              "  'Insert Files - Insert new files into the project.',\n",
              "  'Line',\n",
              "  '1.600',\n",
              "  'Last',\n",
              "  'Fish Net',\n",
              "  'Drizzle Fog/ Mist',\n",
              "  'Select Message with Focus'],\n",
              " 'source': ['Аўтаматычная адсутнасць',\n",
              "  'Сту',\n",
              "  'Штогод@ title: group',\n",
              "  'Даданне файлаў у праект',\n",
              "  'Лінейны',\n",
              "  '1, 600',\n",
              "  'Апошнія',\n",
              "  'Зрабіць фонавым малюнкамName',\n",
              "  'weather condition',\n",
              "  'Пазначыць & тэкст паведамлення']}"
            ]
          },
          "metadata": {},
          "execution_count": 26
        }
      ]
    },
    {
      "cell_type": "code",
      "source": [
        "def tokenize_function(examples):\n",
        "    return mt5_tokenizer(examples[\"source\"], padding=True, truncation=True)\n",
        "\n",
        "small_tokenized_dataset = small_be_en_dataset.map(tokenize_function, batched=True, batch_size=16)\n",
        "data_collator = DataCollatorWithPadding(tokenizer=mt5_tokenizer)"
      ],
      "metadata": {
        "id": "oBI0G5nIqBg-",
        "colab": {
          "base_uri": "https://localhost:8080/",
          "height": 113,
          "referenced_widgets": [
            "9b002c615eae4c08a2340b588f53fd28",
            "989ff10b58ec48efb3c95b2e20a748d2",
            "5f2b5cae2e814e9993b3e2e6d67e8828",
            "6db19bdb31e6451eb425df4a1ede5af7",
            "7a2ecd412c1141cbbc6ff01ac7f0cd25",
            "f64a409941414a5d804027cd2e78d7f1",
            "49de5615e41048d2a4e7c9464cefccc8",
            "80a62e5059a84eb39c46f63eb427aef2",
            "ef8b8f17b4334f6bb66e6d53ec0204e8",
            "87cba4a97a9942bf97d215fdb96c0480",
            "16102c8464d84693867551a26dc8b9f5",
            "d0de8e45c48d4a8c94e2bd0faaafe1a7",
            "8ac7b9bd4c3b4b838c1d534efa4be5fb",
            "199e18d63c884bbf95712d4311a9dd31",
            "3bbede8b48cf44f5a5b3193b230d4d45",
            "a5fc84b8bf9e4193a0f91bd6ba973305",
            "a409b4552fa44c08b048b224fb48906d",
            "95fa4018aec142de9fe752d98aa11958",
            "b34209f642294c09ba9d48371b877087",
            "bd8310d76777476e881de2a8e0b9895e",
            "24d0f94bba7f422dba75cd8d7e0ed5bb",
            "0fb5662d44ac40bcb8ec4e71524ce1aa",
            "8eff942293d74fa9af76993aff2b1b79",
            "2c9dfb0e4f764d75881e36f7589f2ed7",
            "afe29eededa44819ad1e7ac58832a60d",
            "dfb37479dc854aa2b741aa573aa60bab",
            "f86fbaf944604a2d9564883501502743",
            "2fc05d90798e4e9590c82ed5b4953727",
            "a2714805d008474faad24a2b0a925de8",
            "b65da226733547648cac82e8fdb2044e",
            "9b16b06f627841a0b802bf19710897f5",
            "e53e3129b0d148b9ba1808c06efaebdf",
            "cab7b361a35a412d8b2ab9c3ccef7a93"
          ]
        },
        "outputId": "4ca783f1-4e96-45a0-d17a-b0a1c2760d51"
      },
      "execution_count": 27,
      "outputs": [
        {
          "output_type": "display_data",
          "data": {
            "text/plain": [
              "Map:   0%|          | 0/2000 [00:00<?, ? examples/s]"
            ],
            "application/vnd.jupyter.widget-view+json": {
              "version_major": 2,
              "version_minor": 0,
              "model_id": "9b002c615eae4c08a2340b588f53fd28"
            }
          },
          "metadata": {}
        },
        {
          "output_type": "display_data",
          "data": {
            "text/plain": [
              "Map:   0%|          | 0/200 [00:00<?, ? examples/s]"
            ],
            "application/vnd.jupyter.widget-view+json": {
              "version_major": 2,
              "version_minor": 0,
              "model_id": "d0de8e45c48d4a8c94e2bd0faaafe1a7"
            }
          },
          "metadata": {}
        },
        {
          "output_type": "display_data",
          "data": {
            "text/plain": [
              "Map:   0%|          | 0/200 [00:00<?, ? examples/s]"
            ],
            "application/vnd.jupyter.widget-view+json": {
              "version_major": 2,
              "version_minor": 0,
              "model_id": "8eff942293d74fa9af76993aff2b1b79"
            }
          },
          "metadata": {}
        }
      ]
    },
    {
      "cell_type": "code",
      "source": [
        "small_tokenized_dataset"
      ],
      "metadata": {
        "id": "5cFDdbTWuS13",
        "colab": {
          "base_uri": "https://localhost:8080/"
        },
        "outputId": "bdd507f0-51db-4c5f-c457-e54fb7e032fa"
      },
      "execution_count": 28,
      "outputs": [
        {
          "output_type": "execute_result",
          "data": {
            "text/plain": [
              "DatasetDict({\n",
              "    train: Dataset({\n",
              "        features: ['translation', 'source', 'input_ids', 'attention_mask'],\n",
              "        num_rows: 2000\n",
              "    })\n",
              "    val: Dataset({\n",
              "        features: ['translation', 'source', 'input_ids', 'attention_mask'],\n",
              "        num_rows: 200\n",
              "    })\n",
              "    test: Dataset({\n",
              "        features: ['translation', 'source', 'input_ids', 'attention_mask'],\n",
              "        num_rows: 200\n",
              "    })\n",
              "})"
            ]
          },
          "metadata": {},
          "execution_count": 28
        }
      ]
    },
    {
      "cell_type": "markdown",
      "source": [
        "# Evaluating the Performance on Downstream Tasks\n",
        "\n",
        "In this part, I am going to evaluate the performance of the model on several amounts of data, such as:\n",
        "\n",
        "1.   an unseen sentence (be-en, en-be)\n",
        "2.   unseen thre sentences (be-en, en-be)\n",
        "3.   validation set of the dataset for fine-tuning (32 sentences)"
      ],
      "metadata": {
        "id": "A6kKmeG113m3"
      }
    },
    {
      "cell_type": "code",
      "source": [
        "import torch"
      ],
      "metadata": {
        "id": "CczrdKia8t2v"
      },
      "execution_count": 29,
      "outputs": []
    },
    {
      "cell_type": "markdown",
      "source": [
        "## **Model 1**\n",
        "\n",
        "In the documanteation for the model it stands that the language pair and the translation direction is pecified with the corresponding special token (\"<\"extra_id_X\">\") before the text:\n",
        "\n",
        "*   Belarusian → English\t= \"<\"extra_id_2\">\"\n",
        "*   English → Belarusian\t= \"<\"extra_id_6\">\"\n",
        "\n",
        "P.s. I put quotation marks to make the token be visible."
      ],
      "metadata": {
        "id": "vx2Zzjzo3OhV"
      }
    },
    {
      "cell_type": "code",
      "source": [
        "# One sentence\n",
        "\n",
        "en_be_sentence = \"<extra_id_6> Hello, how are you?\"\n",
        "en_be_reference = \"Прывітанне, як справы?\"\n",
        "\n",
        "be_en_sentence = \"<extra_id_2> Прывітанне, як справы?\"\n",
        "be_en_reference = \"Hello, how are you?\"\n",
        "\n",
        "# Set of sentences\n",
        "\n",
        "en_be_sentences = [\n",
        "    \"I am learning programming.\",\n",
        "    \"This is an amazing model!\",\n",
        "    \"How is the weather today?\"\n",
        "]\n",
        "\n",
        "be_en_sentences = [\n",
        "    \"Я вучуся праграмаваць.\",\n",
        "    \"Гэта цудоўная мадэль!\",\n",
        "    \"Як надвор'е сёння?\"\n",
        "]"
      ],
      "metadata": {
        "id": "EsAj0iy6cyZv"
      },
      "execution_count": 38,
      "outputs": []
    },
    {
      "cell_type": "markdown",
      "source": [
        "For evaluation I will use all thre metrics after each code cell. The reference sentences are listed above, sets of the three sentences as well as the corresponding segments in the validation (source (be) - translation (en)) are the translations of each other."
      ],
      "metadata": {
        "id": "1n1IO5-38h0t"
      }
    },
    {
      "cell_type": "markdown",
      "source": [
        "### 1.   One Sentence Analysis\n",
        "\n"
      ],
      "metadata": {
        "id": "IQBGXo_9d1_w"
      }
    },
    {
      "cell_type": "code",
      "source": [
        "# Tokenize input\n",
        "input_ids = t5_be_tokenizer(en_be_sentence, return_tensors=\"pt\").input_ids\n",
        "\n",
        "# Generate translation\n",
        "output_ids = t5_be_model.generate(input_ids)\n",
        "translated_text = t5_be_tokenizer.decode(output_ids[0], skip_special_tokens=True)\n",
        "\n",
        "# Print result\n",
        "print(\"Translated Text:\", translated_text, \"\\n\")\n",
        "\n",
        "#Calculating scores\n",
        "#bleu_score = compute_bleu_score(translated_text, en_be_reference)\n",
        "google_bleu_score = compute_google_bleu_score(translated_text, en_be_reference)\n",
        "sacrebleu_score = compute_sacrebleu_score(translated_text, en_be_reference)\n",
        "\n",
        "print(f\"One en-be sentence Scores (Model 1):\\n\",\n",
        "      #f\"BLEU = {bleu_score}\\n\",\n",
        "      f\"Google BLEU = {google_bleu_score}\\n\",\n",
        "      f\"SacreBLEU = {sacrebleu_score}\")"
      ],
      "metadata": {
        "outputId": "9f06c83f-bf71-4156-86a1-601060696dc3",
        "colab": {
          "base_uri": "https://localhost:8080/"
        },
        "id": "Bfwkn0SlcKoD"
      },
      "execution_count": 39,
      "outputs": [
        {
          "output_type": "stream",
          "name": "stdout",
          "text": [
            "Translated Text: Hello, як вы? \n",
            "\n",
            "One en-be sentence Scores (Model 1):\n",
            " Google BLEU = 0.29\n",
            " SacreBLEU = 23.64\n"
          ]
        }
      ]
    },
    {
      "cell_type": "code",
      "source": [
        "# Tokenize input\n",
        "input_ids = t5_be_tokenizer(be_en_sentence, return_tensors=\"pt\").input_ids\n",
        "\n",
        "# Generate translation\n",
        "output_ids = t5_be_model.generate(input_ids)\n",
        "translated_text = t5_be_tokenizer.decode(output_ids[0], skip_special_tokens=True)\n",
        "\n",
        "# Print result\n",
        "print(\"Translated Text:\", translated_text, \"\\n\")\n",
        "\n",
        "bleu_score = compute_bleu_score(translated_text, be_en_reference)\n",
        "google_bleu_score = compute_google_bleu_score(translated_text, be_en_reference)\n",
        "sacrebleu_score = compute_sacrebleu_score(translated_text, be_en_reference)\n",
        "\n",
        "print(f\"One en-be sentence Scores (Model 1):\\n\",\n",
        "      #f\"BLEU = {bleu_score}\\n\",\n",
        "      f\"Google BLEU = {google_bleu_score}\\n\",\n",
        "      f\"SacreBLEU = {sacrebleu_score}\")"
      ],
      "metadata": {
        "colab": {
          "base_uri": "https://localhost:8080/"
        },
        "id": "46Jp_pKicWq1",
        "outputId": "799920b6-ed67-4f6b-e565-8c2f29e706ad"
      },
      "execution_count": 40,
      "outputs": [
        {
          "output_type": "stream",
          "name": "stdout",
          "text": [
            "Translated Text: Hello how to do? \n",
            "\n",
            "One en-be sentence Scores (Model 1):\n",
            " Google BLEU = 0.17\n",
            " SacreBLEU = 11.51\n"
          ]
        }
      ]
    },
    {
      "cell_type": "markdown",
      "source": [
        "**Note**: The first sentence was transalted partially, leaving the first English word untranslated (\"Hello\"), while the second sentences was translated completely, but incorrectly (\"How to do?\" should have been \"How are you?\" or \"How do you do?\")"
      ],
      "metadata": {
        "id": "hpxyVJt6mU-7"
      }
    },
    {
      "cell_type": "markdown",
      "source": [
        "### 2.   Set of Sentences Analysis\n"
      ],
      "metadata": {
        "id": "WiBHH5GYd7Ao"
      }
    },
    {
      "cell_type": "code",
      "source": [
        "en_be_results = {}\n",
        "\n",
        "for sentence in en_be_sentences:\n",
        "    input_text = f\"<extra_id_6> {sentence}\"\n",
        "    input_ids = t5_be_tokenizer.encode(input_text, return_tensors=\"pt\")\n",
        "    output_ids = t5_be_model.generate(input_ids, max_length=128, num_beams=4, early_stopping=True)\n",
        "    translated_text = t5_be_tokenizer.decode(output_ids[0], skip_special_tokens=True)\n",
        "    print(f\"Original: {sentence}\")\n",
        "    print(f\"Translated: {translated_text}\\n\")\n",
        "    en_be_results[sentence] = translated_text\n",
        "\n",
        "print(en_be_results, \"\\n\")\n",
        "\n",
        "# Extract translations and reference sentences\n",
        "translated_texts = list(en_be_results.values())\n",
        "reference_texts = list(be_en_sentences)\n",
        "\n",
        "# Iterate through each sentence and compute scores\n",
        "for i, (translated, reference) in enumerate(zip(translated_texts, reference_texts), 1):\n",
        "    #bleu_score = compute_bleu_score(translated, reference)\n",
        "    google_bleu_score = compute_google_bleu_score(translated, reference)\n",
        "    sacrebleu_score = compute_sacrebleu_score(translated, reference)\n",
        "\n",
        "    # Print the results\n",
        "    print(f\"en-be Sentence Set Scores (Model 1):\\nSentence {i}:\\n\"\n",
        "          #f\"BLEU = {bleu_score}\\n\"\n",
        "          f\"Google BLEU = {google_bleu_score}\\n\"\n",
        "          f\"SacreBLEU = {sacrebleu_score}\\n\")"
      ],
      "metadata": {
        "colab": {
          "base_uri": "https://localhost:8080/"
        },
        "outputId": "63642d54-a0c1-4ec1-f337-8d0b5b9f0306",
        "id": "u4iMafT5cKoF"
      },
      "execution_count": 41,
      "outputs": [
        {
          "output_type": "stream",
          "name": "stdout",
          "text": [
            "Original: I am learning programming.\n",
            "Translated: Я навучаю праграмаванне...\n",
            "\n",
            "Original: This is an amazing model!\n",
            "Translated: Гэта дзіўная мадэль!\n",
            "\n",
            "Original: How is the weather today?\n",
            "Translated: Як сёння надвор'е?\n",
            "\n",
            "{'I am learning programming.': 'Я навучаю праграмаванне...', 'This is an amazing model!': 'Гэта дзіўная мадэль!', 'How is the weather today?': \"Як сёння надвор'е?\"} \n",
            "\n",
            "en-be Sentence Set Scores (Model 1):\n",
            "Sentence 1:\n",
            "Google BLEU = 0.11\n",
            "SacreBLEU = 9.65\n",
            "\n",
            "en-be Sentence Set Scores (Model 1):\n",
            "Sentence 2:\n",
            "Google BLEU = 0.4\n",
            "SacreBLEU = 35.36\n",
            "\n",
            "en-be Sentence Set Scores (Model 1):\n",
            "Sentence 3:\n",
            "Google BLEU = 0.4\n",
            "SacreBLEU = 22.59\n",
            "\n"
          ]
        }
      ]
    },
    {
      "cell_type": "code",
      "source": [
        "be_en_results = {}\n",
        "\n",
        "for sentence in be_en_sentences:\n",
        "    input_text = f\"<extra_id_2>: {sentence}\"\n",
        "    input_ids = t5_be_tokenizer.encode(input_text, return_tensors=\"pt\")\n",
        "    output_ids = t5_be_model.generate(input_ids, max_length=128, num_beams=4, early_stopping=True)\n",
        "    translated_text = t5_be_tokenizer.decode(output_ids[0], skip_special_tokens=True)\n",
        "    print(f\"Original: {sentence}\")\n",
        "    print(f\"Translated: {translated_text}\\n\")\n",
        "    be_en_results[sentence] = translated_text\n",
        "\n",
        "print(be_en_results, \"\\n\")\n",
        "\n",
        "# Extract translations and reference sentences\n",
        "translated_texts = list(be_en_results.values())\n",
        "reference_texts = list(en_be_sentences)\n",
        "\n",
        "# Iterate through each sentence and compute scores\n",
        "for i, (translated, reference) in enumerate(zip(translated_texts, reference_texts), 1):\n",
        "    #bleu_score = compute_bleu_score(translated, reference)\n",
        "    google_bleu_score = compute_google_bleu_score(translated, reference)\n",
        "    sacrebleu_score = compute_sacrebleu_score(translated, reference)\n",
        "\n",
        "    # Print the results\n",
        "    print(f\"en-be Sentence Set Scores (Model 1):\\nSentence {i}:\\n\"\n",
        "          #f\"BLEU = {bleu_score}\\n\"\n",
        "          f\"Google BLEU = {google_bleu_score}\\n\"\n",
        "          f\"SacreBLEU = {sacrebleu_score}\\n\")"
      ],
      "metadata": {
        "colab": {
          "base_uri": "https://localhost:8080/"
        },
        "id": "Hcs93XtrcF-L",
        "outputId": "a60c1009-6ae5-4b16-abc6-16454870ee60"
      },
      "execution_count": 43,
      "outputs": [
        {
          "output_type": "stream",
          "name": "stdout",
          "text": [
            "Original: Я вучуся праграмаваць.\n",
            "Translated: : I learn to program...\n",
            "\n",
            "Original: Гэта цудоўная мадэль!\n",
            "Translated: : This is a wonderful model!\n",
            "\n",
            "Original: Як надвор'е сёння?\n",
            "Translated: : How is the weather today?\n",
            "\n",
            "{'Я вучуся праграмаваць.': ': I learn to program...', 'Гэта цудоўная мадэль!': ': This is a wonderful model!', \"Як надвор'е сёння?\": ': How is the weather today?'} \n",
            "\n",
            "en-be Sentence Set Scores (Model 1):\n",
            "Sentence 1:\n",
            "Google BLEU = 0.08\n",
            "SacreBLEU = 6.57\n",
            "\n",
            "en-be Sentence Set Scores (Model 1):\n",
            "Sentence 2:\n",
            "Google BLEU = 0.27\n",
            "SacreBLEU = 18.58\n",
            "\n",
            "en-be Sentence Set Scores (Model 1):\n",
            "Sentence 3:\n",
            "Google BLEU = 0.82\n",
            "SacreBLEU = 80.91\n",
            "\n"
          ]
        }
      ]
    },
    {
      "cell_type": "code",
      "source": [
        "#In this cell I decided to preserve my attempts to create an optimal function for calculating the scores avross several sentences\n",
        "\n",
        "# First draft\n",
        "\n",
        "#for translation in en_be_results.values():\n",
        "#  for true_translation in be_en_sentences:\n",
        "#    bleu_score = compute_bleu_score(translation, true_translation)\n",
        "#    google_bleu_score = compute_google_bleu_score(translation, true_translation)\n",
        "#    sacrebleu_score = compute_sacrebleu_score(translation, true_translation)\n",
        "#    print(f\"en-be Sentence Set Scores (Model 1):\\nBLEU = {bleu_score},\\nGoogle BLEU = {google_bleu_score},\\nSacreBLEU = {sacrebleu_score}\\n\")\n",
        "\n",
        "#Second Draft\n",
        "\n",
        "#bleu_score1 = compute_bleu_score(list(en_be_results.values())[0], be_en_sentences[0])\n",
        "#google_bleu_score1 = compute_google_bleu_score(list(en_be_results.values())[0], be_en_sentences[0])\n",
        "#sacrebleu_score1 = compute_sacrebleu_score(list(en_be_results.values())[0], be_en_sentences[0])\n",
        "#print(f\"en-be Sentence Set Scores (Model 1):\\n1st Sentence:\\nBLEU = {bleu_score1},\\nGoogle BLEU = {google_bleu_score1},\\nSacreBLEU = {sacrebleu_score1}\\n\")\n",
        "\n",
        "#bleu_score2 = compute_bleu_score(list(en_be_results.values())[1], be_en_sentences[1])\n",
        "#google_bleu_score2 = compute_google_bleu_score(list(en_be_results.values())[0], be_en_sentences[1])\n",
        "#sacrebleu_score2 = compute_sacrebleu_score(list(en_be_results.values())[1], be_en_sentences[1])\n",
        "#print(f\"en-be Sentence Set Scores (Model 1):\\n2nd Sentence:\\nBLEU = {bleu_score2},\\nGoogle BLEU = {google_bleu_score2},\\nSacreBLEU = {sacrebleu_score2}\\n\")\n",
        "\n",
        "#bleu_score3 = compute_bleu_score(list(en_be_results.values())[2], be_en_sentences[2])\n",
        "#google_bleu_score3 = compute_google_bleu_score(list(en_be_results.values())[2], be_en_sentences[2])\n",
        "#sacrebleu_score3 = compute_sacrebleu_score(list(en_be_results.values())[2], be_en_sentences[2])\n",
        "#print(f\"en-be Sentence Set Scores (Model 1):\\n3rd Sentence:\\nBLEU = {bleu_score3},\\nGoogle BLEU = {google_bleu_score3},\\nSacreBLEU = {sacrebleu_score3}\")"
      ],
      "metadata": {
        "id": "8WCE5vEE5TJ6"
      },
      "execution_count": 42,
      "outputs": []
    },
    {
      "cell_type": "markdown",
      "source": [
        "**Note**: I find it interesting that some of the output sentences also contain different punctuation signs, e.g. in the translation of the first sentences of the Belarusian and English set respecivelly.\n",
        "\n",
        "In regard with the translations, all of the sentences were translated correctly, using the same parts of speech (noun \"programming\" as noun \"прграмаванне\", while verb \"праграмаваць\" as verb \"to program\" (American English)) or synonymes (\"wonderful\" as \"amazing\" and \"дзіўная\" as \"цудоўная\").\n",
        "\n",
        "Regarding the scores, I would not score the translations as a human so low as they are complete and the meaning is transmitted correctly."
      ],
      "metadata": {
        "id": "BWqS8pT9oqy7"
      }
    },
    {
      "cell_type": "markdown",
      "source": [
        "For further multisentece evaluations I will create after each code cell a separate dictionary, whrere I will store all of the scores to visualise them later."
      ],
      "metadata": {
        "id": "PLSi-6YwsRQi"
      }
    },
    {
      "cell_type": "markdown",
      "source": [
        "### 3.   Validation set"
      ],
      "metadata": {
        "id": "XeYpFvHci31e"
      }
    },
    {
      "cell_type": "markdown",
      "source": [
        "*Belarusian to English*"
      ],
      "metadata": {
        "id": "KQfndSc3w81a"
      }
    },
    {
      "cell_type": "code",
      "source": [
        "val_set = small_tokenized_dataset[\"val\"][\"source\"]\n",
        "\n",
        "def translate_text(text, direction=\"<extra_id_2>\"):  # Belarusian → English\n",
        "    input_text = f\"{direction} {text}\"\n",
        "    input_ids = t5_be_tokenizer(input_text, return_tensors=\"pt\").input_ids\n",
        "\n",
        "    # Generate translation\n",
        "    output_ids = t5_be_model.generate(input_ids, max_length=128)\n",
        "    translated_text = t5_be_tokenizer.decode(output_ids[0], skip_special_tokens=True)\n",
        "\n",
        "    return translated_text\n",
        "\n",
        "translated_sentences = []\n",
        "for sentence in val_set:\n",
        "    translated = translate_text(sentence, direction=\"<extra_id_2>\")  # Belarusian → English\n",
        "    translated_sentences.append(translated)\n",
        "\n",
        "for i in range(15):\n",
        "    print(f\"Original: {val_set[i]}\")\n",
        "    print(f\"Translated: {translated_sentences[i]}\\n\")\n",
        "\n",
        "print(len(translated_sentences))"
      ],
      "metadata": {
        "colab": {
          "base_uri": "https://localhost:8080/"
        },
        "id": "kvo8fxP-vlmY",
        "outputId": "718d0256-2371-4d90-e4fb-7f295aff7e05"
      },
      "execution_count": 44,
      "outputs": [
        {
          "output_type": "stream",
          "name": "stdout",
          "text": [
            "Original: Аўтаматычная адсутнасць\n",
            "Translated: Motormatic absence\n",
            "\n",
            "Original: Сту\n",
            "Translated: Stu\n",
            "\n",
            "Original: Штогод@ title: group\n",
            "Translated: Every year@ title: group\n",
            "\n",
            "Original: Даданне файлаў у праект\n",
            "Translated: The addition of files to the project\n",
            "\n",
            "Original: Лінейны\n",
            "Translated: Lense\n",
            "\n",
            "Original: 1, 600\n",
            "Translated: 1, 600\n",
            "\n",
            "Original: Апошнія\n",
            "Translated: The last\n",
            "\n",
            "Original: Зрабіць фонавым малюнкамName\n",
            "Translated: To make a background drawing ofName\n",
            "\n",
            "Original: weather condition\n",
            "Translated: weather condition\n",
            "\n",
            "Original: Пазначыць & тэкст паведамлення\n",
            "Translated: The information text will be considered\n",
            "\n",
            "Original: Праграма зараз у аўтаномным рэжыму. Ці вы хочаце злучыцца, каб выканаць гэтае дзеянне?\n",
            "Translated: The program is now in the autonomous regime... Do you want to connect to fulfill this effect?\n",
            "\n",
            "Original: Узровень:\n",
            "Translated: Consection:\n",
            "\n",
            "Original: Трынідад і Табага\n",
            "Translated: Trinidad and Taba\n",
            "\n",
            "Original: Стварыць тэчку...\n",
            "Translated: Keep a leak...\n",
            "\n",
            "Original: Кіруйце касмічным караблём у чатырохмернай прасторы\n",
            "Translated: Requit a space caral in a four-dimensional space\n",
            "\n",
            "200\n"
          ]
        }
      ]
    },
    {
      "cell_type": "code",
      "source": [
        "# Overall scores for the whole validation set\n",
        "\n",
        "translated_texts = translated_sentences\n",
        "reference_texts = val_set = small_tokenized_dataset[\"val\"][\"translation\"]\n",
        "\n",
        "overall_google_bleu_score_be_en = compute_google_bleu_score(translated_texts, reference_texts)\n",
        "overall_sacrebleu_score_be_en = compute_sacrebleu_score(translated_texts, reference_texts)\n",
        "\n",
        "print(overall_google_bleu_score_be_en)\n",
        "print(overall_sacrebleu_score_be_en)"
      ],
      "metadata": {
        "colab": {
          "base_uri": "https://localhost:8080/"
        },
        "id": "J1yNDMATzasY",
        "outputId": "e01cc310-4724-47f2-df59-3957b967364e"
      },
      "execution_count": 45,
      "outputs": [
        {
          "output_type": "stream",
          "name": "stdout",
          "text": [
            "0.17\n",
            "13.79\n"
          ]
        }
      ]
    },
    {
      "cell_type": "code",
      "source": [
        "#Scores for each of the 15 sentences from the validation set\n",
        "\n",
        "model1_result_dict_val_be_en = {}\n",
        "\n",
        "#model1_result_dict_val_be_en['bleu_score_list'] = []\n",
        "model1_result_dict_val_be_en['google_bleu_score_list'] = []\n",
        "model1_result_dict_val_be_en['sacrebleu_score_list'] = []\n",
        "\n",
        "# Extract translations and reference sentences\n",
        "translated_texts = translated_sentences\n",
        "reference_texts = val_set = small_tokenized_dataset[\"val\"][\"translation\"]\n",
        "\n",
        "# Iterate through each sentence and compute scores\n",
        "for i, (translated, reference) in enumerate(zip(translated_texts, reference_texts), 1):\n",
        "    #bleu_score = compute_bleu_score(translated, reference)\n",
        "    google_bleu_score = compute_google_bleu_score(translated, reference)\n",
        "    sacrebleu_score = compute_sacrebleu_score(translated, reference)\n",
        "\n",
        "    #model1_result_dict_val_be_en['bleu_score_list'].append(bleu_score)\n",
        "    model1_result_dict_val_be_en['google_bleu_score_list'].append(google_bleu_score)\n",
        "    model1_result_dict_val_be_en['sacrebleu_score_list'].append(sacrebleu_score)\n",
        "\n",
        "    print(f\"be-en Validation Set Scores (Model 1):\\nSentence {i}:\\n\"\n",
        "          #f\"BLEU = {bleu_score}\\n\"\n",
        "          f\"Google BLEU = {google_bleu_score}\\n\"\n",
        "          f\"SacreBLEU = {sacrebleu_score}\\n\")\n",
        "    i += 1\n",
        "    if i == 16:\n",
        "      break"
      ],
      "metadata": {
        "colab": {
          "base_uri": "https://localhost:8080/"
        },
        "id": "j1VABoEx5qmR",
        "outputId": "0c78726d-f359-4960-bcf8-78f208fb0b8c"
      },
      "execution_count": 46,
      "outputs": [
        {
          "output_type": "stream",
          "name": "stdout",
          "text": [
            "be-en Validation Set Scores (Model 1):\n",
            "Sentence 1:\n",
            "Google BLEU = 0.0\n",
            "SacreBLEU = 0.0\n",
            "\n",
            "be-en Validation Set Scores (Model 1):\n",
            "Sentence 2:\n",
            "Google BLEU = 0.0\n",
            "SacreBLEU = 0.0\n",
            "\n",
            "be-en Validation Set Scores (Model 1):\n",
            "Sentence 3:\n",
            "Google BLEU = 0.0\n",
            "SacreBLEU = 0.0\n",
            "\n",
            "be-en Validation Set Scores (Model 1):\n",
            "Sentence 4:\n",
            "Google BLEU = 0.12\n",
            "SacreBLEU = 9.47\n",
            "\n",
            "be-en Validation Set Scores (Model 1):\n",
            "Sentence 5:\n",
            "Google BLEU = 0.0\n",
            "SacreBLEU = 0.0\n",
            "\n",
            "be-en Validation Set Scores (Model 1):\n",
            "Sentence 6:\n",
            "Google BLEU = 0.0\n",
            "SacreBLEU = 0.0\n",
            "\n",
            "be-en Validation Set Scores (Model 1):\n",
            "Sentence 7:\n",
            "Google BLEU = 0.0\n",
            "SacreBLEU = 0.0\n",
            "\n",
            "be-en Validation Set Scores (Model 1):\n",
            "Sentence 8:\n",
            "Google BLEU = 0.0\n",
            "SacreBLEU = 0.0\n",
            "\n",
            "be-en Validation Set Scores (Model 1):\n",
            "Sentence 9:\n",
            "Google BLEU = 0.0\n",
            "SacreBLEU = 0.0\n",
            "\n",
            "be-en Validation Set Scores (Model 1):\n",
            "Sentence 10:\n",
            "Google BLEU = 0.0\n",
            "SacreBLEU = 0.0\n",
            "\n",
            "be-en Validation Set Scores (Model 1):\n",
            "Sentence 11:\n",
            "Google BLEU = 0.29\n",
            "SacreBLEU = 26.04\n",
            "\n",
            "be-en Validation Set Scores (Model 1):\n",
            "Sentence 12:\n",
            "Google BLEU = 0.33\n",
            "SacreBLEU = 0.0\n",
            "\n",
            "be-en Validation Set Scores (Model 1):\n",
            "Sentence 13:\n",
            "Google BLEU = 0.17\n",
            "SacreBLEU = 0.0\n",
            "\n",
            "be-en Validation Set Scores (Model 1):\n",
            "Sentence 14:\n",
            "Google BLEU = 0.0\n",
            "SacreBLEU = 0.0\n",
            "\n",
            "be-en Validation Set Scores (Model 1):\n",
            "Sentence 15:\n",
            "Google BLEU = 0.12\n",
            "SacreBLEU = 11.04\n",
            "\n"
          ]
        }
      ]
    },
    {
      "cell_type": "code",
      "source": [
        "# To check if the function works well\n",
        "#print(model1_result_dict_val_be_en['bleu_score_list'])\n",
        "print(model1_result_dict_val_be_en['google_bleu_score_list'])\n",
        "print(model1_result_dict_val_be_en['sacrebleu_score_list'])\n",
        "\n",
        "#print(len(model1_result_dict_val_be_en['bleu_score_list']))\n",
        "print(len(model1_result_dict_val_be_en['google_bleu_score_list']))\n",
        "print(len(model1_result_dict_val_be_en['sacrebleu_score_list']))"
      ],
      "metadata": {
        "colab": {
          "base_uri": "https://localhost:8080/"
        },
        "id": "hyCBMaeDvkAs",
        "outputId": "2a3f6341-8f27-4db9-cc53-d25c7ba39535"
      },
      "execution_count": 47,
      "outputs": [
        {
          "output_type": "stream",
          "name": "stdout",
          "text": [
            "[0.0, 0.0, 0.0, 0.12, 0.0, 0.0, 0.0, 0.0, 0.0, 0.0, 0.29, 0.33, 0.17, 0.0, 0.12]\n",
            "[0.0, 0.0, 0.0, 9.47, 0.0, 0.0, 0.0, 0.0, 0.0, 0.0, 26.04, 0.0, 0.0, 0.0, 11.04]\n",
            "15\n",
            "15\n"
          ]
        }
      ]
    },
    {
      "cell_type": "markdown",
      "source": [
        "*English to Belarusian*"
      ],
      "metadata": {
        "id": "CLzi1Gt6wwHE"
      }
    },
    {
      "cell_type": "code",
      "source": [
        "val_set = small_tokenized_dataset[\"val\"][\"translation\"]\n",
        "\n",
        "def translate_text(text, direction=\"<extra_id_6>\"):  # English → Belarusian\n",
        "    input_text = f\"{direction} {text}\"\n",
        "    input_ids = t5_be_tokenizer(input_text, return_tensors=\"pt\").input_ids\n",
        "\n",
        "    # Generate translation\n",
        "    output_ids = t5_be_model.generate(input_ids, max_length=128)\n",
        "    translated_text = t5_be_tokenizer.decode(output_ids[0], skip_special_tokens=True)\n",
        "\n",
        "    return translated_text\n",
        "\n",
        "translated_sentences = []\n",
        "for sentence in val_set:\n",
        "    translated = translate_text(sentence, direction=\"<extra_id_6>\")  #  English → Belarusian\n",
        "    translated_sentences.append(translated)\n",
        "\n",
        "# Print some results\n",
        "for i in range(16):\n",
        "    print(f\"Original: {val_set[i]}\")\n",
        "    print(f\"Translated: {translated_sentences[i]}\\n\")"
      ],
      "metadata": {
        "colab": {
          "base_uri": "https://localhost:8080/"
        },
        "id": "Q1mNz2XHwPzB",
        "outputId": "20aa75c7-2476-451d-f158-7b340fc83f7c"
      },
      "execution_count": 48,
      "outputs": [
        {
          "output_type": "stream",
          "name": "stdout",
          "text": [
            "Original: Auto Away\n",
            "Translated: Auto Away\n",
            "\n",
            "Original: Pas\n",
            "Translated: Пас\n",
            "\n",
            "Original: Yearly\n",
            "Translated: Годна\n",
            "\n",
            "Original: Insert Files - Insert new files into the project.\n",
            "Translated: Інсерт Філіс - Інсерт новыя файлы ў праект...\n",
            "\n",
            "Original: Line\n",
            "Translated: Лінія\n",
            "\n",
            "Original: 1.600\n",
            "Translated: медыятэхнічны і інш\n",
            "\n",
            "Original: Last\n",
            "Translated: Мінулае\n",
            "\n",
            "Original: Fish Net\n",
            "Translated: Рыба Net\n",
            "\n",
            "Original: Drizzle Fog/ Mist\n",
            "Translated: Друзье Фог/місты\n",
            "\n",
            "Original: Select Message with Focus\n",
            "Translated: Адбіраць Пасланне з Focus\n",
            "\n",
            "Original: This application is currently in offline mode. Do you want to connect in order to carry out this operation?\n",
            "Translated: Гэтае прыкладанне зараз у афлайн-рэжыме... Жадаешся падключыцца, каб правесці гэтую аперацыю?\n",
            "\n",
            "Original: Level:\n",
            "Translated:  Level:\n",
            "\n",
            "Original: Trinidad And Tobago\n",
            "Translated: Трынідад І Табага\n",
            "\n",
            "Original: Open at the given position in the bookmarks file\n",
            "Translated: Адкрыцца на дадзенай пасадзе ў файце закладак\n",
            "\n",
            "Original: Fly your ship in a 4d environment\n",
            "Translated: Налётайце свой карабель у 4d-сучасце\n",
            "\n",
            "Original: Set a top border to the selected area\n",
            "Translated: Знаходзіць першую мяжу на выбраны раён\n",
            "\n"
          ]
        }
      ]
    },
    {
      "cell_type": "code",
      "source": [
        "# Overall scores for the whole validation set\n",
        "\n",
        "translated_texts = translated_sentences\n",
        "reference_texts = val_set = small_tokenized_dataset[\"val\"][\"source\"]\n",
        "\n",
        "overall_google_bleu_score_en_be = compute_google_bleu_score(translated_texts, reference_texts)\n",
        "overall_sacrebleu_score_en_be = compute_sacrebleu_score(translated_texts, reference_texts)\n",
        "\n",
        "print(overall_google_bleu_score_en_be)\n",
        "print(overall_sacrebleu_score_en_be)"
      ],
      "metadata": {
        "colab": {
          "base_uri": "https://localhost:8080/"
        },
        "id": "5KkhgbFv3Ptz",
        "outputId": "055e0131-271a-4065-a108-72d2104d2908"
      },
      "execution_count": 49,
      "outputs": [
        {
          "output_type": "stream",
          "name": "stdout",
          "text": [
            "0.14\n",
            "13.17\n"
          ]
        }
      ]
    },
    {
      "cell_type": "code",
      "source": [
        "#Scores for each of the 15 sentences from the validation set\n",
        "\n",
        "model1_result_dict_val_en_be = {}\n",
        "\n",
        "#model1_result_dict_val_en_be['bleu_score_list'] = []\n",
        "model1_result_dict_val_en_be['google_bleu_score_list'] = []\n",
        "model1_result_dict_val_en_be['sacrebleu_score_list'] = []\n",
        "\n",
        "# Extract translations and reference sentences\n",
        "translated_texts = translated_sentences\n",
        "reference_texts = val_set = small_tokenized_dataset[\"val\"][\"source\"]\n",
        "\n",
        "# Iterate through each sentence and compute scores\n",
        "for i, (translated, reference) in enumerate(zip(translated_texts, reference_texts), 1):\n",
        "    bleu_score = compute_bleu_score(translated, reference)\n",
        "    google_bleu_score = compute_google_bleu_score(translated, reference)\n",
        "    sacrebleu_score = compute_sacrebleu_score(translated, reference)\n",
        "\n",
        "    #model1_result_dict_val_en_be['bleu_score_list'].append(bleu_score)\n",
        "    model1_result_dict_val_en_be['google_bleu_score_list'].append(google_bleu_score)\n",
        "    model1_result_dict_val_en_be['sacrebleu_score_list'].append(sacrebleu_score)\n",
        "\n",
        "    print(f\"en-be Validation Set Scores (Model 1):\\nSentence {i}:\\n\"\n",
        "          #f\"BLEU = {bleu_score}\\n\"\n",
        "          f\"Google BLEU = {google_bleu_score}\\n\"\n",
        "          f\"SacreBLEU = {sacrebleu_score}\\n\")\n",
        "    i += 1\n",
        "    if i == 16:\n",
        "      break"
      ],
      "metadata": {
        "colab": {
          "base_uri": "https://localhost:8080/"
        },
        "id": "b13V_YGm5pA4",
        "outputId": "5139bd3e-da5f-4b1d-9782-47f578b97a79"
      },
      "execution_count": 50,
      "outputs": [
        {
          "output_type": "stream",
          "name": "stdout",
          "text": [
            "en-be Validation Set Scores (Model 1):\n",
            "Sentence 1:\n",
            "Google BLEU = 0.0\n",
            "SacreBLEU = 0.0\n",
            "\n",
            "en-be Validation Set Scores (Model 1):\n",
            "Sentence 2:\n",
            "Google BLEU = 0.0\n",
            "SacreBLEU = 0.0\n",
            "\n",
            "en-be Validation Set Scores (Model 1):\n",
            "Sentence 3:\n",
            "Google BLEU = 0.0\n",
            "SacreBLEU = 0.0\n",
            "\n",
            "en-be Validation Set Scores (Model 1):\n",
            "Sentence 4:\n",
            "Google BLEU = 0.03\n",
            "SacreBLEU = 3.75\n",
            "\n",
            "en-be Validation Set Scores (Model 1):\n",
            "Sentence 5:\n",
            "Google BLEU = 0.0\n",
            "SacreBLEU = 0.0\n",
            "\n",
            "en-be Validation Set Scores (Model 1):\n",
            "Sentence 6:\n",
            "Google BLEU = 0.0\n",
            "SacreBLEU = 0.0\n",
            "\n",
            "en-be Validation Set Scores (Model 1):\n",
            "Sentence 7:\n",
            "Google BLEU = 0.0\n",
            "SacreBLEU = 0.0\n",
            "\n",
            "en-be Validation Set Scores (Model 1):\n",
            "Sentence 8:\n",
            "Google BLEU = 0.0\n",
            "SacreBLEU = 0.0\n",
            "\n",
            "en-be Validation Set Scores (Model 1):\n",
            "Sentence 9:\n",
            "Google BLEU = 0.0\n",
            "SacreBLEU = 0.0\n",
            "\n",
            "en-be Validation Set Scores (Model 1):\n",
            "Sentence 10:\n",
            "Google BLEU = 0.0\n",
            "SacreBLEU = 0.0\n",
            "\n",
            "en-be Validation Set Scores (Model 1):\n",
            "Sentence 11:\n",
            "Google BLEU = 0.14\n",
            "SacreBLEU = 7.66\n",
            "\n",
            "en-be Validation Set Scores (Model 1):\n",
            "Sentence 12:\n",
            "Google BLEU = 0.33\n",
            "SacreBLEU = 0.0\n",
            "\n",
            "en-be Validation Set Scores (Model 1):\n",
            "Sentence 13:\n",
            "Google BLEU = 0.33\n",
            "SacreBLEU = 0.0\n",
            "\n",
            "en-be Validation Set Scores (Model 1):\n",
            "Sentence 14:\n",
            "Google BLEU = 0.0\n",
            "SacreBLEU = 0.0\n",
            "\n",
            "en-be Validation Set Scores (Model 1):\n",
            "Sentence 15:\n",
            "Google BLEU = 0.06\n",
            "SacreBLEU = 8.75\n",
            "\n"
          ]
        }
      ]
    },
    {
      "cell_type": "code",
      "source": [
        "# To check if the function works well\n",
        "# print(model1_result_dict_val_en_be['bleu_score_list'])\n",
        "print(model1_result_dict_val_en_be['google_bleu_score_list'])\n",
        "print(model1_result_dict_val_en_be['sacrebleu_score_list'])\n",
        "\n",
        "# print(len(model1_result_dict_val_en_be['bleu_score_list']))\n",
        "print(len(model1_result_dict_val_en_be['google_bleu_score_list']))\n",
        "print(len(model1_result_dict_val_en_be['sacrebleu_score_list']))"
      ],
      "metadata": {
        "colab": {
          "base_uri": "https://localhost:8080/"
        },
        "id": "ll_VED08v_T0",
        "outputId": "3378b484-fdc8-4f33-c8d3-6072a56316b5"
      },
      "execution_count": 51,
      "outputs": [
        {
          "output_type": "stream",
          "name": "stdout",
          "text": [
            "[0.0, 0.0, 0.0, 0.03, 0.0, 0.0, 0.0, 0.0, 0.0, 0.0, 0.14, 0.33, 0.33, 0.0, 0.06]\n",
            "[0.0, 0.0, 0.0, 3.75, 0.0, 0.0, 0.0, 0.0, 0.0, 0.0, 7.66, 0.0, 0.0, 0.0, 8.75]\n",
            "15\n",
            "15\n"
          ]
        }
      ]
    },
    {
      "cell_type": "markdown",
      "source": [
        "**Note**: I think, the score are so low, especially BLEU score, because the reference sentences of the validation set are much longer than the segments used for tranlations. Additionally, the dataset itself is not absolutely \"clean\" as some source segments in Belarusian contain English words or are entirely in English."
      ],
      "metadata": {
        "id": "xibsi_Du8cam"
      }
    },
    {
      "cell_type": "markdown",
      "source": [
        "### Visualisation of Metrics Outputs"
      ],
      "metadata": {
        "id": "Otwi_CaJloLc"
      }
    },
    {
      "cell_type": "code",
      "source": [
        "import matplotlib.pyplot as plt\n",
        "import numpy as np\n",
        "import pandas as pd"
      ],
      "metadata": {
        "id": "8rLHtUwVvFyp"
      },
      "execution_count": 52,
      "outputs": []
    },
    {
      "cell_type": "code",
      "source": [
        "# sentences = [f\"Sentence {i+1}\" for i in range(16)]\n",
        "\n",
        "# bleu_scores = model1_result_dict_val_en_be['bleu_score_list']\n",
        "# google_bleu_scores = model1_result_dict_val_en_be['google_bleu_score_list']\n",
        "\n",
        "# # Create a DataFrame to hold the scores\n",
        "# df = pd.DataFrame({\n",
        "#     'Sentence': sentences,\n",
        "#     'BLEU': bleu_scores,\n",
        "#     'Google BLEU': google_bleu_scores,\n",
        "# })\n",
        "\n",
        "# # Plotting\n",
        "# plt.figure(figsize=(10, 6))\n",
        "\n",
        "# # Plot each score type\n",
        "# plt.plot(df['Sentence'], df['BLEU'], label='BLEU', marker='o', linestyle='-', color='b')\n",
        "# plt.plot(df['Sentence'], df['Google BLEU'], label='Google BLEU', marker='o', linestyle='-', color='g')\n",
        "\n",
        "# # Adding labels and title\n",
        "# plt.xlabel('Sentence')\n",
        "# plt.ylabel('Score')\n",
        "# plt.title('Comparison of BLEU and Google BLEU Scores Across Sentences in a the Validation Set (en - be)')\n",
        "\n",
        "# # Rotate x-axis labels for better readability\n",
        "# plt.xticks(rotation=45)\n",
        "\n",
        "# # Add a legend\n",
        "# plt.legend()\n",
        "\n",
        "# # Show plot\n",
        "# plt.tight_layout()\n",
        "# plt.show()"
      ],
      "metadata": {
        "id": "9u0IZpTUlnzc"
      },
      "execution_count": 53,
      "outputs": []
    },
    {
      "cell_type": "code",
      "source": [
        "# sentences = [f\"Sentence {i+1}\" for i in range(16)]\n",
        "\n",
        "# bleu_scores = model1_result_dict_val_be_en['bleu_score_list']\n",
        "# google_bleu_scores = model1_result_dict_val_be_en['google_bleu_score_list']\n",
        "\n",
        "# # Create a DataFrame to hold the scores\n",
        "# df = pd.DataFrame({\n",
        "#     'Sentence': sentences,\n",
        "#     'BLEU': bleu_scores,\n",
        "#     'Google BLEU': google_bleu_scores,\n",
        "# })\n",
        "\n",
        "# # Plotting\n",
        "# plt.figure(figsize=(10, 6))\n",
        "\n",
        "# # Plot each score type\n",
        "# plt.plot(df['Sentence'], df['BLEU'], label='BLEU', marker='o', linestyle='-', color='b')\n",
        "# plt.plot(df['Sentence'], df['Google BLEU'], label='Google BLEU', marker='o', linestyle='-', color='g')\n",
        "\n",
        "# # Adding labels and title\n",
        "# plt.xlabel('Sentence')\n",
        "# plt.ylabel('Score')\n",
        "# plt.title('Comparison of BLEU and Google BLEU Scores Across Sentences in the Validation Set (be - en)')\n",
        "\n",
        "# # Rotate x-axis labels for better readability\n",
        "# plt.xticks(rotation=45)\n",
        "\n",
        "# # Add a legend\n",
        "# plt.legend()\n",
        "\n",
        "# # Show plot\n",
        "# plt.tight_layout()\n",
        "# plt.show()"
      ],
      "metadata": {
        "id": "lUuWViIWuKRh"
      },
      "execution_count": 54,
      "outputs": []
    },
    {
      "cell_type": "code",
      "source": [
        "sentences = [f\"Sentence {i+1}\" for i in range(15)]\n",
        "sacrebleu_scores_en_be = model1_result_dict_val_en_be['sacrebleu_score_list']\n",
        "sacrebleu_scores_be_en = model1_result_dict_val_be_en['sacrebleu_score_list']\n",
        "\n",
        "# Create a DataFrame to hold the scores\n",
        "df = pd.DataFrame({\n",
        "    'Sentence': sentences,\n",
        "    'SacreBLEU (en-be)': sacrebleu_scores_en_be,\n",
        "    'SacreBLEU (be-en)': sacrebleu_scores_be_en,\n",
        "})\n",
        "\n",
        "# Plotting\n",
        "plt.figure(figsize=(10, 6))\n",
        "\n",
        "# Plot each score type\n",
        "plt.plot(df['Sentence'], df['SacreBLEU (en-be)'], label='SacreBLEU (en-be)', marker='o', linestyle='-', color='y')\n",
        "plt.plot(df['Sentence'], df['SacreBLEU (be-en)'], label='SacreBLEU (be-en)', marker='o', linestyle='-', color='r')\n",
        "\n",
        "# Adding labels and title\n",
        "plt.xlabel('Sentence')\n",
        "plt.ylabel('Score')\n",
        "plt.title('Comparison of SacreBLEU Scores Across Sentences in the Validation Sets (en-be, be-en) - Model 1')\n",
        "\n",
        "# Rotate x-axis labels for better readability\n",
        "plt.xticks(rotation=45)\n",
        "\n",
        "# Add a legend\n",
        "plt.legend()\n",
        "\n",
        "# Show plot\n",
        "plt.tight_layout()\n",
        "plt.show()"
      ],
      "metadata": {
        "colab": {
          "base_uri": "https://localhost:8080/",
          "height": 607
        },
        "id": "EceXeoIXukv5",
        "outputId": "71b1554f-57dc-4dc6-cba5-acca384e6028"
      },
      "execution_count": 55,
      "outputs": [
        {
          "output_type": "display_data",
          "data": {
            "text/plain": [
              "<Figure size 1000x600 with 1 Axes>"
            ],
            "image/png": "[encoded data removed]"
          },
          "metadata": {}
        }
      ]
    },
    {
      "cell_type": "code",
      "source": [
        "sentences = [f\"Sentence {i+1}\" for i in range(15)]\n",
        "google_bleu_scores_en_be = model1_result_dict_val_en_be['google_bleu_score_list']\n",
        "google_bleu_scores_be_en = model1_result_dict_val_be_en['google_bleu_score_list']\n",
        "\n",
        "# Create a DataFrame to hold the scores\n",
        "df = pd.DataFrame({\n",
        "    'Sentence': sentences,\n",
        "    'Google BLEU (en-be)': google_bleu_scores_en_be,\n",
        "    'Google BLEU (be-en)': google_bleu_scores_be_en,\n",
        "})\n",
        "\n",
        "# Plotting\n",
        "plt.figure(figsize=(10, 6))\n",
        "\n",
        "# Plot each score type\n",
        "plt.plot(df['Sentence'], df['Google BLEU (en-be)'], label='Google BLEU (en-be)', marker='o', linestyle='-', color='y')\n",
        "plt.plot(df['Sentence'], df['Google BLEU (be-en)'], label='Google BLEU (be-en)', marker='o', linestyle='-', color='r')\n",
        "\n",
        "# Adding labels and title\n",
        "plt.xlabel('Sentence')\n",
        "plt.ylabel('Score')\n",
        "plt.title('Comparison of Google BLEU Scores Across Sentences in the Validation Sets (en-be, be-en) - Model 1')\n",
        "\n",
        "# Rotate x-axis labels for better readability\n",
        "plt.xticks(rotation=45)\n",
        "\n",
        "# Add a legend\n",
        "plt.legend()\n",
        "\n",
        "# Show plot\n",
        "plt.tight_layout()\n",
        "plt.show()"
      ],
      "metadata": {
        "colab": {
          "base_uri": "https://localhost:8080/",
          "height": 607
        },
        "id": "CuRcyxDkveZm",
        "outputId": "72d53e80-e71b-4ed5-d6af-4591db6599b7"
      },
      "execution_count": 56,
      "outputs": [
        {
          "output_type": "display_data",
          "data": {
            "text/plain": [
              "<Figure size 1000x600 with 1 Axes>"
            ],
            "image/png": "[encoded data removed]"
          },
          "metadata": {}
        }
      ]
    },
    {
      "cell_type": "markdown",
      "source": [
        "**Note**: The illustrations show rather low scores for the 25 sentences used from the dataset, where the SacreBLEU and Google BLEU show similar behaviour\n",
        " (the latter showed more sentences with higher scores) with no significant difference in performace depending on the tranlation direction.  \n",
        "\n",
        " This behaviuor can bee also benn proved with the low overall SacreBLEU und Google BLEU scores for the whole validation sets."
      ],
      "metadata": {
        "id": "2noBZM7XxaT4"
      }
    },
    {
      "cell_type": "markdown",
      "source": [
        "## **Model 2**\n",
        "\n",
        "Thanks to the help of my professor, it has been proved that google mt5 i not able to used in the yero-shot manner as the precious model an, therefore, is not able perform the downstream task without a proper fine-tuning.\n",
        "\n",
        "In this section, I will just show several examples of the model's output of one sentence analysis without fine-tunging, while in the next one I will train further it on the dataset.\n",
        "\n",
        "I have not found any specifications about the specific tokens to use in this model for selection of the language pair and the translation direction, so I am using here a prompt discribing the task before the text to translate.    "
      ],
      "metadata": {
        "id": "iBFEih-TiuWI"
      }
    },
    {
      "cell_type": "code",
      "source": [
        "#One sentence\n",
        "\n",
        "mt5_en_be_sentence = \"Translate from English to Belarusian: Hello, how are you?\"\n",
        "\n",
        "mt5_be_en_sentence = \"Translate from Belarusian to English: Прывітанне, як справы?\""
      ],
      "metadata": {
        "id": "UJoU-DHLkS66"
      },
      "execution_count": 65,
      "outputs": []
    },
    {
      "cell_type": "code",
      "source": [
        "# Tokenize input\n",
        "input_ids = mt5_tokenizer(mt5_en_be_sentence, return_tensors=\"pt\").input_ids\n",
        "\n",
        "# Generate translation\n",
        "output_ids = mt5_model.generate(input_ids)\n",
        "translated_text = mt5_tokenizer.decode(output_ids[0], skip_special_tokens=True)\n",
        "\n",
        "# Print result\n",
        "print(\"Translated Text:\", translated_text)"
      ],
      "metadata": {
        "colab": {
          "base_uri": "https://localhost:8080/"
        },
        "id": "ZyIHQcV-bLBF",
        "outputId": "aca99f40-d53c-4e3d-fa04-3c97b34370cc"
      },
      "execution_count": 66,
      "outputs": [
        {
          "output_type": "stream",
          "name": "stdout",
          "text": [
            "Translated Text: \n"
          ]
        }
      ]
    },
    {
      "cell_type": "code",
      "source": [
        "# Tokenize input\n",
        "input_ids = mt5_tokenizer(mt5_be_en_sentence, return_tensors=\"pt\").input_ids\n",
        "\n",
        "# Generate translation\n",
        "output_ids = mt5_model.generate(input_ids)\n",
        "translated_text = mt5_tokenizer.decode(output_ids[0], skip_special_tokens=True)\n",
        "\n",
        "# Print result\n",
        "print(\"Translated Text:\", translated_text)"
      ],
      "metadata": {
        "id": "j2bhfGuq2Szf",
        "colab": {
          "base_uri": "https://localhost:8080/"
        },
        "outputId": "63b45adb-fbdf-4f4d-b641-16a1b706e3e5"
      },
      "execution_count": 67,
      "outputs": [
        {
          "output_type": "stream",
          "name": "stdout",
          "text": [
            "Translated Text: \n"
          ]
        }
      ]
    },
    {
      "cell_type": "markdown",
      "source": [
        "**Note**: Unfortunalelly, none of the sentences and sets were translated, but got only <extra_id_O> as output, which should mean that the model is not trained on such tasks, although it was said on the model description page on HuggingFace and it should solve them after fine-tuning. Because of this outnput I did not add any metrics calcualtions.\n",
        "\n",
        "**Source**: https://www.aimodels.fyi/models/huggingFace/mt5-small-google"
      ],
      "metadata": {
        "id": "uU0IqBCBr0u1"
      }
    },
    {
      "cell_type": "markdown",
      "source": [
        "# Fine-tuning Model 2\n"
      ],
      "metadata": {
        "id": "rIIdT0u4mCKX"
      }
    },
    {
      "cell_type": "markdown",
      "source": [
        "### 1. Loading ans splitting dataset for fine-tuning\n",
        "\n",
        "For fine-tuning Model 2, I used another preprocessing of the dataset, although the number of samples for each of the sets is preserved.  "
      ],
      "metadata": {
        "id": "wSUK2XbZkd7L"
      }
    },
    {
      "cell_type": "code",
      "source": [
        "pip install --upgrade transformers"
      ],
      "metadata": {
        "id": "BdIjQCR78NVt",
        "colab": {
          "base_uri": "https://localhost:8080/"
        },
        "outputId": "a28ffc6b-4965-4452-cdaf-d37c9345c9dd"
      },
      "execution_count": 68,
      "outputs": [
        {
          "output_type": "stream",
          "name": "stdout",
          "text": [
            "Requirement already satisfied: transformers in /usr/local/lib/python3.11/dist-packages (4.48.1)\n",
            "Requirement already satisfied: filelock in /usr/local/lib/python3.11/dist-packages (from transformers) (3.17.0)\n",
            "Requirement already satisfied: huggingface-hub<1.0,>=0.24.0 in /usr/local/lib/python3.11/dist-packages (from transformers) (0.27.1)\n",
            "Requirement already satisfied: numpy>=1.17 in /usr/local/lib/python3.11/dist-packages (from transformers) (1.26.4)\n",
            "Requirement already satisfied: packaging>=20.0 in /usr/local/lib/python3.11/dist-packages (from transformers) (24.2)\n",
            "Requirement already satisfied: pyyaml>=5.1 in /usr/local/lib/python3.11/dist-packages (from transformers) (6.0.2)\n",
            "Requirement already satisfied: regex!=2019.12.17 in /usr/local/lib/python3.11/dist-packages (from transformers) (2024.11.6)\n",
            "Requirement already satisfied: requests in /usr/local/lib/python3.11/dist-packages (from transformers) (2.32.3)\n",
            "Requirement already satisfied: tokenizers<0.22,>=0.21 in /usr/local/lib/python3.11/dist-packages (from transformers) (0.21.0)\n",
            "Requirement already satisfied: safetensors>=0.4.1 in /usr/local/lib/python3.11/dist-packages (from transformers) (0.5.2)\n",
            "Requirement already satisfied: tqdm>=4.27 in /usr/local/lib/python3.11/dist-packages (from transformers) (4.67.1)\n",
            "Requirement already satisfied: fsspec>=2023.5.0 in /usr/local/lib/python3.11/dist-packages (from huggingface-hub<1.0,>=0.24.0->transformers) (2024.9.0)\n",
            "Requirement already satisfied: typing-extensions>=3.7.4.3 in /usr/local/lib/python3.11/dist-packages (from huggingface-hub<1.0,>=0.24.0->transformers) (4.12.2)\n",
            "Requirement already satisfied: charset-normalizer<4,>=2 in /usr/local/lib/python3.11/dist-packages (from requests->transformers) (3.4.1)\n",
            "Requirement already satisfied: idna<4,>=2.5 in /usr/local/lib/python3.11/dist-packages (from requests->transformers) (3.10)\n",
            "Requirement already satisfied: urllib3<3,>=1.21.1 in /usr/local/lib/python3.11/dist-packages (from requests->transformers) (2.3.0)\n",
            "Requirement already satisfied: certifi>=2017.4.17 in /usr/local/lib/python3.11/dist-packages (from requests->transformers) (2024.12.14)\n"
          ]
        }
      ]
    },
    {
      "cell_type": "code",
      "source": [
        "from datasets import load_dataset\n",
        "\n",
        "ds = load_dataset(\"Helsinki-NLP/opus-100\", \"be-en\")"
      ],
      "metadata": {
        "id": "SZTYMOurRT9R"
      },
      "execution_count": 69,
      "outputs": []
    },
    {
      "cell_type": "code",
      "source": [
        "print(ds[\"train\"][:10])"
      ],
      "metadata": {
        "colab": {
          "base_uri": "https://localhost:8080/"
        },
        "id": "HCI7aQIiTVb8",
        "outputId": "c84298d7-1339-459f-a488-bfc19fb56246"
      },
      "execution_count": 70,
      "outputs": [
        {
          "output_type": "stream",
          "name": "stdout",
          "text": [
            "{'translation': [{'be': '& Дадаць гэтую тэчку ў закладкі', 'en': '& Bookmark This Folder'}, {'be': 'Паказваць калёнкі', 'en': 'Check Mail'}, {'be': 'Пошук усіх файлаў, створаных ці & змененых:', 'en': 'Find all files created or & modified:'}, {'be': 'Konqueror ніколі не зробіць іэкст менш за гэты, змяняючы ўсе астатнія настаўленні', 'en': 'Konqueror will never display text smaller than this size, overriding any other settings.'}, {'be': 'Вялікі дзякуй!', 'en': 'Thank you very much!'}, {'be': '720 × 720 dpi', 'en': '720x720dpi'}, {'be': 'Федэрацыя Мiкранэзіі', 'en': 'Micronesia, Federated States Of'}, {'be': 'Ханс Петэр Бікер', 'en': 'Hans Petter Bieker'}, {'be': 'norway. kgm', 'en': 'Kristiansand'}, {'be': 'CUR( лік)', 'en': 'CUR(x)'}]}\n"
          ]
        }
      ]
    },
    {
      "cell_type": "code",
      "source": [
        "print(ds)"
      ],
      "metadata": {
        "colab": {
          "base_uri": "https://localhost:8080/"
        },
        "id": "Ewob5ToCW72W",
        "outputId": "94b97226-f95c-453c-e474-5c58bc629a7b"
      },
      "execution_count": 71,
      "outputs": [
        {
          "output_type": "stream",
          "name": "stdout",
          "text": [
            "DatasetDict({\n",
            "    test: Dataset({\n",
            "        features: ['translation'],\n",
            "        num_rows: 2000\n",
            "    })\n",
            "    train: Dataset({\n",
            "        features: ['translation'],\n",
            "        num_rows: 67312\n",
            "    })\n",
            "    validation: Dataset({\n",
            "        features: ['translation'],\n",
            "        num_rows: 2000\n",
            "    })\n",
            "})\n"
          ]
        }
      ]
    },
    {
      "cell_type": "code",
      "source": [
        "from datasets import DatasetDict\n",
        "\n",
        "small_dataset = DatasetDict(\n",
        "    train = ds['train'].shuffle(seed=24).select(range(2000)),\n",
        "    val = ds['validation'].shuffle(seed=24).select(range(200)),\n",
        "    test = ds['test'].shuffle(seed=24).select(range(200)),\n",
        ")"
      ],
      "metadata": {
        "id": "jH-9GfooRbaF"
      },
      "execution_count": 72,
      "outputs": []
    },
    {
      "cell_type": "code",
      "source": [
        "print(small_dataset['train'][:10])"
      ],
      "metadata": {
        "colab": {
          "base_uri": "https://localhost:8080/"
        },
        "id": "E3vjYVxfTl29",
        "outputId": "b2afa369-35fe-413d-816e-97f6ab36101c"
      },
      "execution_count": 73,
      "outputs": [
        {
          "output_type": "stream",
          "name": "stdout",
          "text": [
            "{'translation': [{'be': 'Аўтаматычная адсутнасць', 'en': 'Auto Away'}, {'be': 'Сту', 'en': 'Pas'}, {'be': 'Штогод@ title: group', 'en': 'Yearly'}, {'be': 'Даданне файлаў у праект', 'en': 'Insert Files - Insert new files into the project.'}, {'be': 'Лінейны', 'en': 'Line'}, {'be': '1, 600', 'en': '1.600'}, {'be': 'Апошнія', 'en': 'Last'}, {'be': 'Зрабіць фонавым малюнкамName', 'en': 'Fish Net'}, {'be': 'weather condition', 'en': 'Drizzle Fog/ Mist'}, {'be': 'Пазначыць & тэкст паведамлення', 'en': 'Select Message with Focus'}]}\n"
          ]
        }
      ]
    },
    {
      "cell_type": "code",
      "source": [
        "print(small_dataset)"
      ],
      "metadata": {
        "colab": {
          "base_uri": "https://localhost:8080/"
        },
        "id": "RG32UA_tWzOP",
        "outputId": "1a452674-3866-4586-e7a7-c8ba2460272b"
      },
      "execution_count": 74,
      "outputs": [
        {
          "output_type": "stream",
          "name": "stdout",
          "text": [
            "DatasetDict({\n",
            "    train: Dataset({\n",
            "        features: ['translation'],\n",
            "        num_rows: 2000\n",
            "    })\n",
            "    val: Dataset({\n",
            "        features: ['translation'],\n",
            "        num_rows: 200\n",
            "    })\n",
            "    test: Dataset({\n",
            "        features: ['translation'],\n",
            "        num_rows: 200\n",
            "    })\n",
            "})\n"
          ]
        }
      ]
    },
    {
      "cell_type": "code",
      "source": [
        "from transformers import AutoTokenizer\n",
        "\n",
        "source_lang = \"be\"\n",
        "target_lang = \"en\"\n",
        "prefix = \"translate Belarusian to English: \"\n",
        "\n",
        "checkpoint = \"google-t5/t5-small\"\n",
        "mt5_tokenizer = AutoTokenizer.from_pretrained(checkpoint)\n",
        "\n",
        "def preprocess_function(examples):\n",
        "    inputs = [prefix + example[source_lang] for example in examples[\"translation\"]]\n",
        "    targets = [example[target_lang] for example in examples[\"translation\"]]\n",
        "    model_inputs = mt5_tokenizer(inputs, text_target=targets, max_length=128, truncation=True)\n",
        "    return model_inputs\n",
        "\n",
        "tokenized = small_dataset.map(preprocess_function, batched=True)"
      ],
      "metadata": {
        "colab": {
          "base_uri": "https://localhost:8080/",
          "height": 49,
          "referenced_widgets": [
            "363ea548bcd34e7bb2257823f5328fe5",
            "65b335b4e4504abcae49f95c47b78738",
            "e6033bd8f97244ef90768a878caa1e95",
            "2d4de76f27fd492eb2146a681f766104",
            "cff65b7d361c463084f782699fb54e15",
            "065e3c57c7ef41538a12abc2d73f9778",
            "3b28ad3b8b514c2cb2b97641498c5985",
            "4d72d4daec264f1281ed0f6435016a6c",
            "9df06857e7c0449cbf51a7976282841d",
            "af0bab785610448fadba561f0c4f2b7b",
            "b6d1dfd46c5f484cbf74d2c27115b915"
          ]
        },
        "id": "h_H7K9HbR2Bg",
        "outputId": "45e1a753-546a-48d4-ea5b-5fae06c9da90"
      },
      "execution_count": 75,
      "outputs": [
        {
          "output_type": "display_data",
          "data": {
            "text/plain": [
              "Map:   0%|          | 0/200 [00:00<?, ? examples/s]"
            ],
            "application/vnd.jupyter.widget-view+json": {
              "version_major": 2,
              "version_minor": 0,
              "model_id": "363ea548bcd34e7bb2257823f5328fe5"
            }
          },
          "metadata": {}
        }
      ]
    },
    {
      "cell_type": "code",
      "source": [
        "print(tokenized)"
      ],
      "metadata": {
        "colab": {
          "base_uri": "https://localhost:8080/"
        },
        "id": "ntxvs3EJo0S4",
        "outputId": "7b51e8b5-d5f7-4dd9-d5dc-f146508a2cf0"
      },
      "execution_count": 168,
      "outputs": [
        {
          "output_type": "stream",
          "name": "stdout",
          "text": [
            "DatasetDict({\n",
            "    train: Dataset({\n",
            "        features: ['translation', 'input_ids', 'attention_mask', 'labels'],\n",
            "        num_rows: 2000\n",
            "    })\n",
            "    val: Dataset({\n",
            "        features: ['translation', 'input_ids', 'attention_mask', 'labels'],\n",
            "        num_rows: 200\n",
            "    })\n",
            "    test: Dataset({\n",
            "        features: ['translation', 'input_ids', 'attention_mask', 'labels'],\n",
            "        num_rows: 200\n",
            "    })\n",
            "})\n"
          ]
        }
      ]
    },
    {
      "cell_type": "code",
      "source": [
        "print(tokenized[\"train\"][\"translation\"][0])\n",
        "print(tokenized[\"train\"][\"translation\"][0][\"en\"])\n",
        "print(tokenized[\"train\"][\"translation\"][0][\"be\"])"
      ],
      "metadata": {
        "colab": {
          "base_uri": "https://localhost:8080/"
        },
        "id": "Hjy9DkyXnda0",
        "outputId": "f0f352e7-446b-4b40-c1bd-4d271be8d044"
      },
      "execution_count": 174,
      "outputs": [
        {
          "output_type": "stream",
          "name": "stdout",
          "text": [
            "{'be': 'Аўтаматычная адсутнасць', 'en': 'Auto Away'}\n",
            "Auto Away\n",
            "Аўтаматычная адсутнасць\n"
          ]
        }
      ]
    },
    {
      "cell_type": "markdown",
      "source": [
        "### 2. Finding Best Fine-tuning Parameters"
      ],
      "metadata": {
        "id": "wZ6yUy7lkt52"
      }
    },
    {
      "cell_type": "code",
      "source": [
        "from transformers import DataCollatorForSeq2Seq\n",
        "import evaluate\n",
        "\n",
        "data_collator = DataCollatorForSeq2Seq(tokenizer=mt5_tokenizer, model=checkpoint)\n",
        "sacrebleu_metric = evaluate.load(\"sacrebleu\")\n",
        "google_bleu_metric = evaluate.load(\"google_bleu\")"
      ],
      "metadata": {
        "id": "g6DDhH3OT-mk"
      },
      "execution_count": 76,
      "outputs": []
    },
    {
      "cell_type": "code",
      "source": [
        "import numpy as np\n",
        "\n",
        "def postprocess_text(preds, labels):\n",
        "    preds = [pred.strip() for pred in preds]\n",
        "    labels = [[label.strip()] for label in labels]\n",
        "    return preds, labels\n",
        "\n",
        "def compute_metrics(eval_preds):\n",
        "    preds, labels = eval_preds\n",
        "    if isinstance(preds, tuple):\n",
        "        preds = preds[0]\n",
        "    decoded_preds = mt5_tokenizer.batch_decode(preds, skip_special_tokens=True)\n",
        "    labels = np.where(labels != -100, labels, mt5_tokenizer.pad_token_id)\n",
        "    decoded_labels = mt5_tokenizer.batch_decode(labels, skip_special_tokens=True)\n",
        "    decoded_preds, decoded_labels = postprocess_text(decoded_preds, decoded_labels)\n",
        "    sacrebleu_result = sacrebleu_metric.compute(predictions=decoded_preds, references=decoded_labels)\n",
        "    google_bleu_result = google_bleu_metric.compute(predictions=decoded_preds, references=decoded_labels)\n",
        "    prediction_lens = [np.count_nonzero(pred != mt5_tokenizer.pad_token_id) for pred in preds]\n",
        "    return {\n",
        "        \"sacrebleu\": sacrebleu_result[\"score\"],\n",
        "        \"google_bleu\": google_bleu_result[\"google_bleu\"],\n",
        "        \"gen_len\": np.mean(prediction_lens),\n",
        "    }\n",
        "    result = {k: round(v, 4) for k, v in result.items()}\n",
        "    return result"
      ],
      "metadata": {
        "id": "FeyAddxOUXyC"
      },
      "execution_count": 77,
      "outputs": []
    },
    {
      "cell_type": "code",
      "source": [
        "from transformers import AutoModelForSeq2SeqLM, Seq2SeqTrainingArguments, Seq2SeqTrainer\n",
        "\n",
        "model = AutoModelForSeq2SeqLM.from_pretrained(checkpoint)"
      ],
      "metadata": {
        "id": "GvR3q_q8UmUT",
        "colab": {
          "base_uri": "https://localhost:8080/",
          "height": 113,
          "referenced_widgets": [
            "0e12c21c997540b0a0422dc9a68c03ae",
            "365b747d79394328bac27bd1c8dfdc43",
            "2d11e87af8974bf39326bb6c8d84686b",
            "233f505f92cb4051bc91feef105e693b",
            "ed412d702eb9468488bac1bcc3a8eda5",
            "3aa83066f06f4e8abc1455e4487ce496",
            "8f8b88aad79047fa91a898d2001b8133",
            "a24e92e66e0f45df91de3ba3e148ca34",
            "71672d8d8f824c1780c7a79a27136054",
            "d9cf1d6728f74b39a8d3175c4a0eddb1",
            "1b6fa8cb06c3416b8538cbd7ae6b9570",
            "f5be5b5f39b14429ad93b9a14b46fb2b",
            "c60fa391f67e45ca82ee630685e328e8",
            "54fce1b0ac054a869fbe8de6d13afdb6",
            "18bad40377ce4214a6b7e7be1d81854e",
            "7b24dcdaf3c6472a856f87ddc134b76a",
            "972c36de031e4f149ea6a78f4c713038",
            "c4a80d8c4a6c4431bf3d9e6b784bddb4",
            "c1bf3f52b6a0454db25c76463659f894",
            "ead164edbd7547009a9ba7df6bafe103",
            "8725b608cb16468b8c7b747344e1dd74",
            "c884cf5bd9614895a28cf1842124dba7",
            "a7ffd3052ef9475c91a2b15349cfe5f8",
            "4fa56508f0df4d2e8c71d24bfd2b7e4b",
            "39663afedf3d4d268d68913e00c40958",
            "31a63be109f249338d50f7fda58ea905",
            "89154311c72c48bc9afef339ab9e1dfa",
            "5e6f6ae0d75549bf87f0ed2b923f6dde",
            "ea6cbb404a6e4196bddf742a5573e4ee",
            "b96d1cc8a60d4fdab46e6cffb86f61cd",
            "a0ac62fdb1034d2fba004ef1c9721869",
            "a3b80fe7bf1a4e2baba88e729161a4ef",
            "fdafe3d7cb1b4807b35fe6c8712365ae"
          ]
        },
        "outputId": "b0dd4827-c273-47d2-8bef-145b73eb1263"
      },
      "execution_count": 78,
      "outputs": [
        {
          "output_type": "display_data",
          "data": {
            "text/plain": [
              "config.json:   0%|          | 0.00/1.21k [00:00<?, ?B/s]"
            ],
            "application/vnd.jupyter.widget-view+json": {
              "version_major": 2,
              "version_minor": 0,
              "model_id": "0e12c21c997540b0a0422dc9a68c03ae"
            }
          },
          "metadata": {}
        },
        {
          "output_type": "display_data",
          "data": {
            "text/plain": [
              "model.safetensors:   0%|          | 0.00/242M [00:00<?, ?B/s]"
            ],
            "application/vnd.jupyter.widget-view+json": {
              "version_major": 2,
              "version_minor": 0,
              "model_id": "f5be5b5f39b14429ad93b9a14b46fb2b"
            }
          },
          "metadata": {}
        },
        {
          "output_type": "display_data",
          "data": {
            "text/plain": [
              "generation_config.json:   0%|          | 0.00/147 [00:00<?, ?B/s]"
            ],
            "application/vnd.jupyter.widget-view+json": {
              "version_major": 2,
              "version_minor": 0,
              "model_id": "a7ffd3052ef9475c91a2b15349cfe5f8"
            }
          },
          "metadata": {}
        }
      ]
    },
    {
      "cell_type": "code",
      "source": [
        "training_args = Seq2SeqTrainingArguments(\n",
        "    output_dir=\"/content/drive/MyDrive/fine_tuned_mt5_be_en_translation_model\",\n",
        "    eval_strategy=\"epoch\",\n",
        "    save_strategy=\"epoch\",\n",
        "    learning_rate=3e-5,\n",
        "    per_device_train_batch_size=16,\n",
        "    per_device_eval_batch_size=16,\n",
        "    weight_decay=0.01,\n",
        "    #save_total_limit=3,\n",
        "    num_train_epochs=5,\n",
        "    predict_with_generate=True,\n",
        "    fp16=True, #change to bf16=True for XPU\n",
        "    report_to='none',\n",
        "    seed=224\n",
        ")\n",
        "\n",
        "trainer = Seq2SeqTrainer(\n",
        "    model=model,\n",
        "    args=training_args,\n",
        "    train_dataset=tokenized[\"train\"],\n",
        "    eval_dataset=tokenized[\"val\"],\n",
        "    processing_class=mt5_tokenizer,\n",
        "    data_collator=data_collator,\n",
        "    compute_metrics=compute_metrics,\n",
        ")"
      ],
      "metadata": {
        "id": "wig1CPkJUzCS"
      },
      "execution_count": 79,
      "outputs": []
    },
    {
      "cell_type": "code",
      "source": [
        "trainer.train()"
      ],
      "metadata": {
        "colab": {
          "base_uri": "https://localhost:8080/",
          "height": 307
        },
        "id": "PFyHEurNXF7U",
        "outputId": "e7194135-dd48-4641-bac8-da5aa3306395"
      },
      "execution_count": 80,
      "outputs": [
        {
          "output_type": "stream",
          "name": "stderr",
          "text": [
            "Passing a tuple of `past_key_values` is deprecated and will be removed in Transformers v4.48.0. You should pass an instance of `EncoderDecoderCache` instead, e.g. `past_key_values=EncoderDecoderCache.from_legacy_cache(past_key_values)`.\n"
          ]
        },
        {
          "output_type": "display_data",
          "data": {
            "text/plain": [
              "<IPython.core.display.HTML object>"
            ],
            "text/html": [
              "\n",
              "    <div>\n",
              "      \n",
              "      <progress value='625' max='625' style='width:300px; height:20px; vertical-align: middle;'></progress>\n",
              "      [625/625 1:08:16, Epoch 5/5]\n",
              "    </div>\n",
              "    <table border=\"1\" class=\"dataframe\">\n",
              "  <thead>\n",
              " <tr style=\"text-align: left;\">\n",
              "      <th>Epoch</th>\n",
              "      <th>Training Loss</th>\n",
              "      <th>Validation Loss</th>\n",
              "      <th>Sacrebleu</th>\n",
              "      <th>Google Bleu</th>\n",
              "      <th>Gen Len</th>\n",
              "    </tr>\n",
              "  </thead>\n",
              "  <tbody>\n",
              "    <tr>\n",
              "      <td>1</td>\n",
              "      <td>No log</td>\n",
              "      <td>4.456567</td>\n",
              "      <td>2.148740</td>\n",
              "      <td>0.045565</td>\n",
              "      <td>12.995000</td>\n",
              "    </tr>\n",
              "    <tr>\n",
              "      <td>2</td>\n",
              "      <td>No log</td>\n",
              "      <td>4.308761</td>\n",
              "      <td>3.084865</td>\n",
              "      <td>0.057734</td>\n",
              "      <td>12.375000</td>\n",
              "    </tr>\n",
              "    <tr>\n",
              "      <td>3</td>\n",
              "      <td>No log</td>\n",
              "      <td>4.261287</td>\n",
              "      <td>3.666821</td>\n",
              "      <td>0.061734</td>\n",
              "      <td>12.130000</td>\n",
              "    </tr>\n",
              "    <tr>\n",
              "      <td>4</td>\n",
              "      <td>4.439100</td>\n",
              "      <td>4.239805</td>\n",
              "      <td>3.111321</td>\n",
              "      <td>0.053283</td>\n",
              "      <td>12.150000</td>\n",
              "    </tr>\n",
              "    <tr>\n",
              "      <td>5</td>\n",
              "      <td>4.439100</td>\n",
              "      <td>4.233558</td>\n",
              "      <td>3.088701</td>\n",
              "      <td>0.052694</td>\n",
              "      <td>12.250000</td>\n",
              "    </tr>\n",
              "  </tbody>\n",
              "</table><p>"
            ]
          },
          "metadata": {}
        },
        {
          "output_type": "execute_result",
          "data": {
            "text/plain": [
              "TrainOutput(global_step=625, training_loss=4.38942294921875, metrics={'train_runtime': 4109.297, 'train_samples_per_second': 2.434, 'train_steps_per_second': 0.152, 'total_flos': 201845379170304.0, 'train_loss': 4.38942294921875, 'epoch': 5.0})"
            ]
          },
          "metadata": {},
          "execution_count": 80
        }
      ]
    },
    {
      "cell_type": "code",
      "source": [
        "results = trainer.predict(tokenized['val'])\n",
        "\n",
        "print(results)"
      ],
      "metadata": {
        "id": "zR2ylliR8ePR",
        "colab": {
          "base_uri": "https://localhost:8080/",
          "height": 274
        },
        "outputId": "3cc6a4d9-bf24-47dc-e687-ab03238ab140"
      },
      "execution_count": 82,
      "outputs": [
        {
          "output_type": "display_data",
          "data": {
            "text/plain": [
              "<IPython.core.display.HTML object>"
            ],
            "text/html": []
          },
          "metadata": {}
        },
        {
          "output_type": "stream",
          "name": "stdout",
          "text": [
            "PredictionOutput(predictions=array([[    0,     3, 16137, ...,     0,     0,     0],\n",
            "       [    0,     3,     2, ...,     2,     3,     2],\n",
            "       [    0,     3,     2, ...,     0,     0,     0],\n",
            "       ...,\n",
            "       [    0,     3,     2, ...,     2,     3,     2],\n",
            "       [    0,     3,     2, ...,     2,     3,     2],\n",
            "       [    0,     3,     2, ...,     2,     3,     2]]), label_ids=array([[ 5528,    13, 15122, ...,  -100,  -100,  -100],\n",
            "       [ 5264,     8,  2637, ...,  -100,  -100,  -100],\n",
            "       [ 3235,    10,     1, ...,  -100,  -100,  -100],\n",
            "       ...,\n",
            "       [ 6357,     7,     3, ...,  -100,  -100,  -100],\n",
            "       [ 1972,    48,  1182, ...,  -100,  -100,  -100],\n",
            "       [    3,     2,   563, ...,  -100,  -100,  -100]]), metrics={'test_loss': 4.233558177947998, 'test_sacrebleu': 3.088701256663859, 'test_google_bleu': 0.0526937618147448, 'test_gen_len': 12.25, 'test_runtime': 71.7157, 'test_samples_per_second': 2.789, 'test_steps_per_second': 0.181})\n"
          ]
        }
      ]
    },
    {
      "cell_type": "code",
      "source": [
        "# Complete the code here to load one of the checkpoints for the fine-tuned model\n",
        "fine_tuned_mt5_model = AutoModelForSeq2SeqLM.from_pretrained(\"/content/drive/MyDrive/fine_tuned_mt5_be_en_translation_model/checkpoint-375\")"
      ],
      "metadata": {
        "id": "Y-RiXkAe10s-"
      },
      "execution_count": 88,
      "outputs": []
    },
    {
      "cell_type": "code",
      "source": [
        "print(fine_tuned_mt5_model)"
      ],
      "metadata": {
        "colab": {
          "base_uri": "https://localhost:8080/"
        },
        "id": "D7aDzy_ONlOi",
        "outputId": "07a53f0a-1333-4a83-cd3b-47c0dbf08158"
      },
      "execution_count": 89,
      "outputs": [
        {
          "output_type": "stream",
          "name": "stdout",
          "text": [
            "T5ForConditionalGeneration(\n",
            "  (shared): Embedding(32128, 512)\n",
            "  (encoder): T5Stack(\n",
            "    (embed_tokens): Embedding(32128, 512)\n",
            "    (block): ModuleList(\n",
            "      (0): T5Block(\n",
            "        (layer): ModuleList(\n",
            "          (0): T5LayerSelfAttention(\n",
            "            (SelfAttention): T5Attention(\n",
            "              (q): Linear(in_features=512, out_features=512, bias=False)\n",
            "              (k): Linear(in_features=512, out_features=512, bias=False)\n",
            "              (v): Linear(in_features=512, out_features=512, bias=False)\n",
            "              (o): Linear(in_features=512, out_features=512, bias=False)\n",
            "              (relative_attention_bias): Embedding(32, 8)\n",
            "            )\n",
            "            (layer_norm): T5LayerNorm()\n",
            "            (dropout): Dropout(p=0.1, inplace=False)\n",
            "          )\n",
            "          (1): T5LayerFF(\n",
            "            (DenseReluDense): T5DenseActDense(\n",
            "              (wi): Linear(in_features=512, out_features=2048, bias=False)\n",
            "              (wo): Linear(in_features=2048, out_features=512, bias=False)\n",
            "              (dropout): Dropout(p=0.1, inplace=False)\n",
            "              (act): ReLU()\n",
            "            )\n",
            "            (layer_norm): T5LayerNorm()\n",
            "            (dropout): Dropout(p=0.1, inplace=False)\n",
            "          )\n",
            "        )\n",
            "      )\n",
            "      (1-5): 5 x T5Block(\n",
            "        (layer): ModuleList(\n",
            "          (0): T5LayerSelfAttention(\n",
            "            (SelfAttention): T5Attention(\n",
            "              (q): Linear(in_features=512, out_features=512, bias=False)\n",
            "              (k): Linear(in_features=512, out_features=512, bias=False)\n",
            "              (v): Linear(in_features=512, out_features=512, bias=False)\n",
            "              (o): Linear(in_features=512, out_features=512, bias=False)\n",
            "            )\n",
            "            (layer_norm): T5LayerNorm()\n",
            "            (dropout): Dropout(p=0.1, inplace=False)\n",
            "          )\n",
            "          (1): T5LayerFF(\n",
            "            (DenseReluDense): T5DenseActDense(\n",
            "              (wi): Linear(in_features=512, out_features=2048, bias=False)\n",
            "              (wo): Linear(in_features=2048, out_features=512, bias=False)\n",
            "              (dropout): Dropout(p=0.1, inplace=False)\n",
            "              (act): ReLU()\n",
            "            )\n",
            "            (layer_norm): T5LayerNorm()\n",
            "            (dropout): Dropout(p=0.1, inplace=False)\n",
            "          )\n",
            "        )\n",
            "      )\n",
            "    )\n",
            "    (final_layer_norm): T5LayerNorm()\n",
            "    (dropout): Dropout(p=0.1, inplace=False)\n",
            "  )\n",
            "  (decoder): T5Stack(\n",
            "    (embed_tokens): Embedding(32128, 512)\n",
            "    (block): ModuleList(\n",
            "      (0): T5Block(\n",
            "        (layer): ModuleList(\n",
            "          (0): T5LayerSelfAttention(\n",
            "            (SelfAttention): T5Attention(\n",
            "              (q): Linear(in_features=512, out_features=512, bias=False)\n",
            "              (k): Linear(in_features=512, out_features=512, bias=False)\n",
            "              (v): Linear(in_features=512, out_features=512, bias=False)\n",
            "              (o): Linear(in_features=512, out_features=512, bias=False)\n",
            "              (relative_attention_bias): Embedding(32, 8)\n",
            "            )\n",
            "            (layer_norm): T5LayerNorm()\n",
            "            (dropout): Dropout(p=0.1, inplace=False)\n",
            "          )\n",
            "          (1): T5LayerCrossAttention(\n",
            "            (EncDecAttention): T5Attention(\n",
            "              (q): Linear(in_features=512, out_features=512, bias=False)\n",
            "              (k): Linear(in_features=512, out_features=512, bias=False)\n",
            "              (v): Linear(in_features=512, out_features=512, bias=False)\n",
            "              (o): Linear(in_features=512, out_features=512, bias=False)\n",
            "            )\n",
            "            (layer_norm): T5LayerNorm()\n",
            "            (dropout): Dropout(p=0.1, inplace=False)\n",
            "          )\n",
            "          (2): T5LayerFF(\n",
            "            (DenseReluDense): T5DenseActDense(\n",
            "              (wi): Linear(in_features=512, out_features=2048, bias=False)\n",
            "              (wo): Linear(in_features=2048, out_features=512, bias=False)\n",
            "              (dropout): Dropout(p=0.1, inplace=False)\n",
            "              (act): ReLU()\n",
            "            )\n",
            "            (layer_norm): T5LayerNorm()\n",
            "            (dropout): Dropout(p=0.1, inplace=False)\n",
            "          )\n",
            "        )\n",
            "      )\n",
            "      (1-5): 5 x T5Block(\n",
            "        (layer): ModuleList(\n",
            "          (0): T5LayerSelfAttention(\n",
            "            (SelfAttention): T5Attention(\n",
            "              (q): Linear(in_features=512, out_features=512, bias=False)\n",
            "              (k): Linear(in_features=512, out_features=512, bias=False)\n",
            "              (v): Linear(in_features=512, out_features=512, bias=False)\n",
            "              (o): Linear(in_features=512, out_features=512, bias=False)\n",
            "            )\n",
            "            (layer_norm): T5LayerNorm()\n",
            "            (dropout): Dropout(p=0.1, inplace=False)\n",
            "          )\n",
            "          (1): T5LayerCrossAttention(\n",
            "            (EncDecAttention): T5Attention(\n",
            "              (q): Linear(in_features=512, out_features=512, bias=False)\n",
            "              (k): Linear(in_features=512, out_features=512, bias=False)\n",
            "              (v): Linear(in_features=512, out_features=512, bias=False)\n",
            "              (o): Linear(in_features=512, out_features=512, bias=False)\n",
            "            )\n",
            "            (layer_norm): T5LayerNorm()\n",
            "            (dropout): Dropout(p=0.1, inplace=False)\n",
            "          )\n",
            "          (2): T5LayerFF(\n",
            "            (DenseReluDense): T5DenseActDense(\n",
            "              (wi): Linear(in_features=512, out_features=2048, bias=False)\n",
            "              (wo): Linear(in_features=2048, out_features=512, bias=False)\n",
            "              (dropout): Dropout(p=0.1, inplace=False)\n",
            "              (act): ReLU()\n",
            "            )\n",
            "            (layer_norm): T5LayerNorm()\n",
            "            (dropout): Dropout(p=0.1, inplace=False)\n",
            "          )\n",
            "        )\n",
            "      )\n",
            "    )\n",
            "    (final_layer_norm): T5LayerNorm()\n",
            "    (dropout): Dropout(p=0.1, inplace=False)\n",
            "  )\n",
            "  (lm_head): Linear(in_features=512, out_features=32128, bias=False)\n",
            ")\n"
          ]
        }
      ]
    },
    {
      "cell_type": "markdown",
      "source": [
        "# Evaluating Model 2\n",
        "\n",
        "In this section, I an going to evaluate my model on the test set and in the zero/shot manner as I had done so wuth Model 1."
      ],
      "metadata": {
        "id": "XEKlNnu69OO3"
      }
    },
    {
      "cell_type": "markdown",
      "source": [
        "## Evaluating Model 2 after Fine-tuning on Test Set"
      ],
      "metadata": {
        "id": "5nNFo1CP-Dlv"
      }
    },
    {
      "cell_type": "code",
      "source": [
        "test_set_be = [entry[\"be\"] for entry in tokenized[\"test\"][\"translation\"]]\n",
        "\n",
        "def translate_text(text, direction=\"translate Belarusian to English: \"):\n",
        "    input_text = f\"{direction} {text}\"\n",
        "    input_ids = mt5_tokenizer(input_text, return_tensors=\"pt\").input_ids\n",
        "\n",
        "    # Generate translation\n",
        "    output_ids = fine_tuned_mt5_model.generate(input_ids, max_length=128)\n",
        "    translated_text = mt5_tokenizer.decode(output_ids[0], skip_special_tokens=True)\n",
        "\n",
        "    return translated_text\n",
        "\n",
        "translated_sentences = []\n",
        "for sentence in test_set_be:\n",
        "    translated = translate_text(sentence, direction=\"translate Belarusian to English: \")  # Belarusian → English\n",
        "    translated_sentences.append(translated)\n",
        "\n",
        "print(len(translated_sentences))"
      ],
      "metadata": {
        "id": "P7OMNwCViicj"
      },
      "execution_count": null,
      "outputs": []
    },
    {
      "cell_type": "code",
      "source": [
        "# Overall scores for the whole test set\n",
        "\n",
        "translated_texts = translated_sentences\n",
        "reference_texts = test_set_be\n",
        "\n",
        "overall_google_bleu_score_be_en_test = compute_google_bleu_score(translated_texts, reference_texts)\n",
        "overall_sacrebleu_score_be_en_test = compute_sacrebleu_score(translated_texts, reference_texts)\n",
        "\n",
        "print(overall_google_bleu_score_be_en_test)\n",
        "print(overall_sacrebleu_score_be_en_test)"
      ],
      "metadata": {
        "colab": {
          "base_uri": "https://localhost:8080/"
        },
        "id": "uvxDKfjztOw5",
        "outputId": "6047f0f2-c2e2-44ba-d83e-499a80b56838"
      },
      "execution_count": 179,
      "outputs": [
        {
          "output_type": "stream",
          "name": "stdout",
          "text": [
            "0.0\n",
            "0.15\n"
          ]
        }
      ]
    },
    {
      "cell_type": "code",
      "source": [
        "test_set_en = [entry[\"en\"] for entry in tokenized[\"test\"][\"translation\"]]\n",
        "\n",
        "def translate_text(text, direction=\"translate Englsih to Belarusian: \"):\n",
        "    input_text = f\"{direction} {text}\"\n",
        "    input_ids = mt5_tokenizer(input_text, return_tensors=\"pt\").input_ids\n",
        "\n",
        "    # Generate translation\n",
        "    output_ids = fine_tuned_mt5_model.generate(input_ids, max_length=128)\n",
        "    translated_text = mt5_tokenizer.decode(output_ids[0], skip_special_tokens=True)\n",
        "\n",
        "    return translated_text\n",
        "\n",
        "translated_sentences = []\n",
        "for sentence in test_set_en:\n",
        "    translated = translate_text(sentence, direction=\"translate Englsih to Belarusian: \")  # Belarusian → English\n",
        "    translated_sentences.append(translated)\n",
        "\n",
        "print(len(translated_sentences))"
      ],
      "metadata": {
        "id": "CWVPiP8_uECM"
      },
      "execution_count": null,
      "outputs": []
    },
    {
      "cell_type": "markdown",
      "source": [
        "## Evaluation Model 2 after Fine-tuning in Zero-Shot Manner"
      ],
      "metadata": {
        "id": "xyFmi6ZP5SBv"
      }
    },
    {
      "cell_type": "markdown",
      "source": [
        "### 1. One Sentence Analysis"
      ],
      "metadata": {
        "id": "e30UiIa02cgn"
      }
    },
    {
      "cell_type": "code",
      "source": [
        "# Tokenize input\n",
        "input_ids = mt5_tokenizer(mt5_en_be_sentence, return_tensors=\"pt\").input_ids\n",
        "\n",
        "# Generate translation\n",
        "output_ids = fine_tuned_mt5_model.generate(input_ids)\n",
        "translated_text = mt5_tokenizer.decode(output_ids[0], skip_special_tokens=True)\n",
        "\n",
        "# Print result\n",
        "print(\"Translated Text:\", translated_text)\n",
        "print(\"Reference:\", en_be_reference, \"\\n\")\n",
        "\n",
        "google_bleu_score = compute_google_bleu_score(translated_text, en_be_reference)\n",
        "sacrebleu_score = compute_sacrebleu_score(translated_text, en_be_reference)\n",
        "\n",
        "print(f\"One en-be sentence Scores (Model 2):\\n\",\n",
        "      #f\"BLEU = {bleu_score}\\n\",\n",
        "      f\"Google BLEU = {google_bleu_score}\\n\",\n",
        "      f\"SacreBLEU = {sacrebleu_score}\")"
      ],
      "metadata": {
        "colab": {
          "base_uri": "https://localhost:8080/"
        },
        "outputId": "d83f6754-b51f-4aab-cfc7-49e9257a1a01",
        "id": "PCKFLFoO2Zs-"
      },
      "execution_count": 132,
      "outputs": [
        {
          "output_type": "stream",
          "name": "stdout",
          "text": [
            "Translated Text: Translate English to Belarusian: Hello, how are you?\n",
            "Reference: Прывітанне, як справы? \n",
            "\n",
            "One en-be sentence Scores (Model 2):\n",
            " Google BLEU = 0.05\n",
            " SacreBLEU = 4.46\n"
          ]
        }
      ]
    },
    {
      "cell_type": "code",
      "source": [
        "# Tokenize input\n",
        "input_ids = mt5_tokenizer(mt5_be_en_sentence, return_tensors=\"pt\").input_ids\n",
        "\n",
        "# Generate translation\n",
        "output_ids = fine_tuned_mt5_model.generate(input_ids)\n",
        "translated_text = mt5_tokenizer.decode(output_ids[0], skip_special_tokens=True)\n",
        "\n",
        "# Print result\n",
        "print(\"Translated Text:\", translated_text)\n",
        "print(\"Reference:\", be_en_reference, \"\\n\")\n",
        "\n",
        "google_bleu_score = compute_google_bleu_score(translated_text, be_en_reference)\n",
        "sacrebleu_score = compute_sacrebleu_score(translated_text, be_en_reference)\n",
        "\n",
        "print(f\"One be-en sentence Scores (Model 2):\\n\",\n",
        "      #f\"BLEU = {bleu_score}\\n\",\n",
        "      f\"Google BLEU = {google_bleu_score}\\n\",\n",
        "      f\"SacreBLEU = {sacrebleu_score}\")"
      ],
      "metadata": {
        "colab": {
          "base_uri": "https://localhost:8080/"
        },
        "outputId": "9371505d-116a-42fa-f310-149bb42fff92",
        "id": "uNNp63Kc2Zs_"
      },
      "execution_count": 134,
      "outputs": [
        {
          "output_type": "stream",
          "name": "stdout",
          "text": [
            "Translated Text: рвтанне, к срав?\n",
            "Reference: Hello, how are you? \n",
            "\n",
            "One be-en sentence Scores (Model 2):\n",
            " Google BLEU = 0.11\n",
            " SacreBLEU = 10.4\n"
          ]
        }
      ]
    },
    {
      "cell_type": "markdown",
      "source": [
        "### 2. Set of Sentences"
      ],
      "metadata": {
        "id": "yjmrE4Q72fZW"
      }
    },
    {
      "cell_type": "code",
      "source": [
        "en_be_results_2 = {}\n",
        "\n",
        "for sentence in en_be_sentences:\n",
        "    input_text = f\"translate English to Belarusian: {sentence}\"\n",
        "    input_ids = mt5_tokenizer.encode(input_text, return_tensors=\"pt\")\n",
        "    output_ids = fine_tuned_mt5_model.generate(input_ids, max_length=128, num_beams=4, early_stopping=True)\n",
        "    translated_text = mt5_tokenizer.decode(output_ids[0], skip_special_tokens=True)\n",
        "    print(f\"Original: {sentence}\")\n",
        "    print(f\"Translated: {translated_text}\\n\")\n",
        "    en_be_results_2[sentence] = translated_text\n",
        "\n",
        "print(en_be_results_2, \"\\n\")\n",
        "\n",
        "# Extract translations and reference sentences\n",
        "translated_texts = list(en_be_results_2.values())\n",
        "reference_texts = list(be_en_sentences)\n",
        "\n",
        "# Iterate through each sentence and compute scores\n",
        "for i, (translated, reference) in enumerate(zip(translated_texts, reference_texts), 1):\n",
        "    #bleu_score = compute_bleu_score(translated, reference)\n",
        "    google_bleu_score = compute_google_bleu_score(translated, reference)\n",
        "    sacrebleu_score = compute_sacrebleu_score(translated, reference)\n",
        "\n",
        "    # Print the results\n",
        "    print(f\"en-be Sentence Set Scores (Model 2):\\nSentence {i}:\\n\"\n",
        "          #f\"BLEU = {bleu_score}\\n\"\n",
        "          f\"Google BLEU = {google_bleu_score}\\n\"\n",
        "          f\"SacreBLEU = {sacrebleu_score}\\n\")"
      ],
      "metadata": {
        "colab": {
          "base_uri": "https://localhost:8080/"
        },
        "outputId": "22386afa-6cc5-4381-ae5a-a4a5e043654e",
        "id": "_rwvDqkj2Zs_"
      },
      "execution_count": 136,
      "outputs": [
        {
          "output_type": "stream",
          "name": "stdout",
          "text": [
            "Original: I am learning programming.\n",
            "Translated: Ich lerne Programmier.\n",
            "\n",
            "Original: This is an amazing model!\n",
            "Translated: Das ist ein erstaunliches Modell!\n",
            "\n",
            "Original: How is the weather today?\n",
            "Translated: Wie ist das Wetter heute?\n",
            "\n",
            "{'I am learning programming.': 'Ich lerne Programmier.', 'This is an amazing model!': 'Das ist ein erstaunliches Modell!', 'How is the weather today?': 'Wie ist das Wetter heute?'} \n",
            "\n",
            "en-be Sentence Set Scores (Model 2):\n",
            "Sentence 1:\n",
            "Google BLEU = 0.1\n",
            "SacreBLEU = 15.97\n",
            "\n",
            "en-be Sentence Set Scores (Model 2):\n",
            "Sentence 2:\n",
            "Google BLEU = 0.06\n",
            "SacreBLEU = 8.12\n",
            "\n",
            "en-be Sentence Set Scores (Model 2):\n",
            "Sentence 3:\n",
            "Google BLEU = 0.06\n",
            "SacreBLEU = 8.12\n",
            "\n"
          ]
        }
      ]
    },
    {
      "cell_type": "code",
      "source": [
        "be_en_results_2 = {}\n",
        "\n",
        "for sentence in be_en_sentences:\n",
        "    input_text = f\"translate Belarusian to English: {sentence}\"\n",
        "    input_ids = mt5_tokenizer.encode(input_text, return_tensors=\"pt\")\n",
        "    output_ids = fine_tuned_mt5_model.generate(input_ids, max_length=128, num_beams=4, early_stopping=True)\n",
        "    translated_text = mt5_tokenizer.decode(output_ids[0], skip_special_tokens=True)\n",
        "    print(f\"Original: {sentence}\")\n",
        "    print(f\"Translated: {translated_text}\\n\")\n",
        "    be_en_results_2[sentence] = translated_text\n",
        "\n",
        "print(be_en_results_2, \"\\n\")\n",
        "\n",
        "# Extract translations and reference sentences\n",
        "translated_texts = list(be_en_results_2.values())\n",
        "reference_texts = list(en_be_sentences)\n",
        "\n",
        "# Iterate through each sentence and compute scores\n",
        "for i, (translated, reference) in enumerate(zip(translated_texts, reference_texts), 1):\n",
        "    #bleu_score = compute_bleu_score(translated, reference)\n",
        "    google_bleu_score = compute_google_bleu_score(translated, reference)\n",
        "    sacrebleu_score = compute_sacrebleu_score(translated, reference)\n",
        "\n",
        "    # Print the results\n",
        "    print(f\"en-be Sentence Set Scores (Model 2):\\nSentence {i}:\\n\"\n",
        "          #f\"BLEU = {bleu_score}\\n\"\n",
        "          f\"Google BLEU = {google_bleu_score}\\n\"\n",
        "          f\"SacreBLEU = {sacrebleu_score}\\n\")"
      ],
      "metadata": {
        "colab": {
          "base_uri": "https://localhost:8080/"
        },
        "outputId": "32ec54dc-5406-4d32-b19b-c57131a127cf",
        "id": "mtYCN4nj2Zs_"
      },
      "execution_count": 137,
      "outputs": [
        {
          "output_type": "stream",
          "name": "stdout",
          "text": [
            "Original: Я вучуся праграмаваць.\n",
            "Translated:  .\n",
            "\n",
            "Original: Гэта цудоўная мадэль!\n",
            "Translated:    \n",
            "\n",
            "Original: Як надвор'е сёння?\n",
            "Translated:   ?\n",
            "\n",
            "{'Я вучуся праграмаваць.': ' .', 'Гэта цудоўная мадэль!': '   ', \"Як надвор'е сёння?\": '  ?'} \n",
            "\n",
            "en-be Sentence Set Scores (Model 2):\n",
            "Sentence 1:\n",
            "Google BLEU = 0.07\n",
            "SacreBLEU = 0.0\n",
            "\n",
            "en-be Sentence Set Scores (Model 2):\n",
            "Sentence 2:\n",
            "Google BLEU = 0.0\n",
            "SacreBLEU = 0.0\n",
            "\n",
            "en-be Sentence Set Scores (Model 2):\n",
            "Sentence 3:\n",
            "Google BLEU = 0.06\n",
            "SacreBLEU = 0.0\n",
            "\n"
          ]
        }
      ]
    },
    {
      "cell_type": "markdown",
      "source": [
        "### 3. Validation Set"
      ],
      "metadata": {
        "id": "WHkaTVeW2iR-"
      }
    },
    {
      "cell_type": "markdown",
      "source": [
        "*Belarusian to English*"
      ],
      "metadata": {
        "id": "uqkpmazWmBaR"
      }
    },
    {
      "cell_type": "code",
      "source": [
        "val_set = small_tokenized_dataset[\"val\"][\"source\"]\n",
        "\n",
        "def translate_text(text, direction=\"translate Belarusian to English: \"):\n",
        "    input_text = f\"{direction} {text}\"\n",
        "    input_ids = mt5_tokenizer(input_text, return_tensors=\"pt\").input_ids\n",
        "\n",
        "    # Generate translation\n",
        "    output_ids = fine_tuned_mt5_model.generate(input_ids, max_length=128)\n",
        "    translated_text = mt5_tokenizer.decode(output_ids[0], skip_special_tokens=True)\n",
        "\n",
        "    return translated_text\n",
        "\n",
        "translated_sentences = []\n",
        "for sentence in val_set:\n",
        "    translated = translate_text(sentence, direction=\"translate Belarusian to English: \")  # Belarusian → English\n",
        "    translated_sentences.append(translated)\n",
        "\n",
        "for i in range(15):\n",
        "    print(f\"Original: {val_set[i]}\")\n",
        "    print(f\"Translated: {translated_sentences[i]}\\n\")\n",
        "\n",
        "print(len(translated_sentences))"
      ],
      "metadata": {
        "colab": {
          "base_uri": "https://localhost:8080/"
        },
        "id": "V1DW9MMT17ne",
        "outputId": "a7fecd7a-6563-42b4-bec6-4b23bd73aa64"
      },
      "execution_count": 178,
      "outputs": [
        {
          "output_type": "stream",
          "name": "stdout",
          "text": [
            "Original: Аўтаматычная адсутнасць\n",
            "Translated:                                                         \n",
            "\n",
            "Original: Сту\n",
            "Translated: \n",
            "\n",
            "Original: Штогод@ title: group\n",
            "Translated: тоод@ title: group\n",
            "\n",
            "Original: Даданне файлаў у праект\n",
            "Translated:                                                         \n",
            "\n",
            "Original: Лінейны\n",
            "Translated: \n",
            "\n",
            "Original: 1, 600\n",
            "Translated: 1.600\n",
            "\n",
            "Original: Апошнія\n",
            "Translated: \n",
            "\n",
            "Original: Зрабіць фонавым малюнкамName\n",
            "Translated:                                                         \n",
            "\n",
            "Original: weather condition\n",
            "Translated: weather condition\n",
            "\n",
            "Original: Пазначыць & тэкст паведамлення\n",
            "Translated: & systne\n",
            "\n",
            "Original: Праграма зараз у аўтаномным рэжыму. Ці вы хочаце злучыцца, каб выканаць гэтае дзеянне?\n",
            "Translated:                                                         \n",
            "\n",
            "Original: Узровень:\n",
            "Translated: ровен:\n",
            "\n",
            "Original: Трынідад і Табага\n",
            "Translated:                                                         \n",
            "\n",
            "Original: Стварыць тэчку...\n",
            "Translated: ...\n",
            "\n",
            "Original: Кіруйце касмічным караблём у чатырохмернай прасторы\n",
            "Translated:                                                         \n",
            "\n",
            "200\n"
          ]
        }
      ]
    },
    {
      "cell_type": "code",
      "source": [
        "# Overall scores for the whole validation set\n",
        "\n",
        "translated_texts = translated_sentences\n",
        "reference_texts = val_set = small_tokenized_dataset[\"val\"][\"source\"]\n",
        "\n",
        "overall_google_bleu_score_be_en_val = compute_google_bleu_score(translated_texts, reference_texts)\n",
        "overall_sacrebleu_score_be_en_val = compute_sacrebleu_score(translated_texts, reference_texts)\n",
        "\n",
        "print(overall_google_bleu_score_be_en_2)\n",
        "print(overall_sacrebleu_score_be_en_2)"
      ],
      "metadata": {
        "colab": {
          "base_uri": "https://localhost:8080/"
        },
        "id": "OZ2_JKtWlRIK",
        "outputId": "5c3d43cb-2f8c-4987-9edc-459d22f15630"
      },
      "execution_count": 177,
      "outputs": [
        {
          "output_type": "stream",
          "name": "stdout",
          "text": [
            "0.01\n",
            "0.16\n"
          ]
        }
      ]
    },
    {
      "cell_type": "code",
      "source": [
        "#Scores for each of the 15 sentences from the validation set\n",
        "\n",
        "model2_result_dict_val_be_en = {}\n",
        "\n",
        "#model1_result_dict_val_be_en['bleu_score_list'] = []\n",
        "model2_result_dict_val_be_en['google_bleu_score_list'] = []\n",
        "model2_result_dict_val_be_en['sacrebleu_score_list'] = []\n",
        "\n",
        "# Extract translations and reference sentences\n",
        "translated_texts = translated_sentences\n",
        "reference_texts = val_set = small_tokenized_dataset[\"val\"][\"translation\"]\n",
        "\n",
        "# Iterate through each sentence and compute scores\n",
        "for i, (translated, reference) in enumerate(zip(translated_texts, reference_texts), 1):\n",
        "    #bleu_score = compute_bleu_score(translated, reference)\n",
        "    google_bleu_score = compute_google_bleu_score(translated, reference)\n",
        "    sacrebleu_score = compute_sacrebleu_score(translated, reference)\n",
        "\n",
        "    #model1_result_dict_val_be_en['bleu_score_list'].append(bleu_score)\n",
        "    model2_result_dict_val_be_en['google_bleu_score_list'].append(google_bleu_score)\n",
        "    model2_result_dict_val_be_en['sacrebleu_score_list'].append(sacrebleu_score)\n",
        "\n",
        "    print(f\"be-en Validation Set Scores (Model 2):\\nSentence {i}:\\n\"\n",
        "          #f\"BLEU = {bleu_score}\\n\"\n",
        "          f\"Google BLEU = {google_bleu_score}\\n\"\n",
        "          f\"SacreBLEU = {sacrebleu_score}\\n\")\n",
        "    i += 1\n",
        "    if i == 16:\n",
        "      break"
      ],
      "metadata": {
        "colab": {
          "base_uri": "https://localhost:8080/"
        },
        "id": "4sCMOxheln2K",
        "outputId": "eef05cd9-ffb9-4ed3-ce85-fee4f12babf7"
      },
      "execution_count": 141,
      "outputs": [
        {
          "output_type": "stream",
          "name": "stdout",
          "text": [
            "be-en Validation Set Scores (Model 2):\n",
            "Sentence 1:\n",
            "Google BLEU = 0.0\n",
            "SacreBLEU = 0.0\n",
            "\n",
            "be-en Validation Set Scores (Model 2):\n",
            "Sentence 2:\n",
            "Google BLEU = 0.0\n",
            "SacreBLEU = 0.0\n",
            "\n",
            "be-en Validation Set Scores (Model 2):\n",
            "Sentence 3:\n",
            "Google BLEU = 0.0\n",
            "SacreBLEU = 0.0\n",
            "\n",
            "be-en Validation Set Scores (Model 2):\n",
            "Sentence 4:\n",
            "Google BLEU = 0.0\n",
            "SacreBLEU = 0.0\n",
            "\n",
            "be-en Validation Set Scores (Model 2):\n",
            "Sentence 5:\n",
            "Google BLEU = 0.0\n",
            "SacreBLEU = 0.0\n",
            "\n",
            "be-en Validation Set Scores (Model 2):\n",
            "Sentence 6:\n",
            "Google BLEU = 1.0\n",
            "SacreBLEU = 0.0\n",
            "\n",
            "be-en Validation Set Scores (Model 2):\n",
            "Sentence 7:\n",
            "Google BLEU = 0.0\n",
            "SacreBLEU = 0.0\n",
            "\n",
            "be-en Validation Set Scores (Model 2):\n",
            "Sentence 8:\n",
            "Google BLEU = 0.0\n",
            "SacreBLEU = 0.0\n",
            "\n",
            "be-en Validation Set Scores (Model 2):\n",
            "Sentence 9:\n",
            "Google BLEU = 0.0\n",
            "SacreBLEU = 0.0\n",
            "\n",
            "be-en Validation Set Scores (Model 2):\n",
            "Sentence 10:\n",
            "Google BLEU = 0.0\n",
            "SacreBLEU = 0.0\n",
            "\n",
            "be-en Validation Set Scores (Model 2):\n",
            "Sentence 11:\n",
            "Google BLEU = 0.0\n",
            "SacreBLEU = 0.0\n",
            "\n",
            "be-en Validation Set Scores (Model 2):\n",
            "Sentence 12:\n",
            "Google BLEU = 0.33\n",
            "SacreBLEU = 0.0\n",
            "\n",
            "be-en Validation Set Scores (Model 2):\n",
            "Sentence 13:\n",
            "Google BLEU = 0.0\n",
            "SacreBLEU = 0.0\n",
            "\n",
            "be-en Validation Set Scores (Model 2):\n",
            "Sentence 14:\n",
            "Google BLEU = 0.0\n",
            "SacreBLEU = 0.0\n",
            "\n",
            "be-en Validation Set Scores (Model 2):\n",
            "Sentence 15:\n",
            "Google BLEU = 0.0\n",
            "SacreBLEU = 0.0\n",
            "\n"
          ]
        }
      ]
    },
    {
      "cell_type": "markdown",
      "source": [
        "*English to Belarusian*"
      ],
      "metadata": {
        "id": "9oCw6AHSl8wb"
      }
    },
    {
      "cell_type": "code",
      "source": [
        "val_set = small_tokenized_dataset[\"val\"][\"translation\"]\n",
        "\n",
        "def translate_text(text, direction=\"translate English to Belarusian: \"):  # English → Belarusian\n",
        "    input_text = f\"{direction} {text}\"\n",
        "    input_ids = t5_be_tokenizer(input_text, return_tensors=\"pt\").input_ids\n",
        "\n",
        "    # Generate translation\n",
        "    output_ids = t5_be_model.generate(input_ids, max_length=128)\n",
        "    translated_text = t5_be_tokenizer.decode(output_ids[0], skip_special_tokens=True)\n",
        "\n",
        "    return translated_text\n",
        "\n",
        "translated_sentences = []\n",
        "for sentence in val_set:\n",
        "    translated = translate_text(sentence, direction=\"translate English to Belarusian: \")  #  English → Belarusian\n",
        "    translated_sentences.append(translated)\n",
        "\n",
        "# Print some results\n",
        "for i in range(16):\n",
        "    print(f\"Original: {val_set[i]}\")\n",
        "    print(f\"Translated: {translated_sentences[i]}\\n\")"
      ],
      "metadata": {
        "colab": {
          "base_uri": "https://localhost:8080/"
        },
        "outputId": "20aa75c7-2476-451d-f158-7b340fc83f7c",
        "id": "KP_nStz1l9mh"
      },
      "execution_count": null,
      "outputs": [
        {
          "output_type": "stream",
          "name": "stdout",
          "text": [
            "Original: Auto Away\n",
            "Translated: Auto Away\n",
            "\n",
            "Original: Pas\n",
            "Translated: Пас\n",
            "\n",
            "Original: Yearly\n",
            "Translated: Годна\n",
            "\n",
            "Original: Insert Files - Insert new files into the project.\n",
            "Translated: Інсерт Філіс - Інсерт новыя файлы ў праект...\n",
            "\n",
            "Original: Line\n",
            "Translated: Лінія\n",
            "\n",
            "Original: 1.600\n",
            "Translated: медыятэхнічны і інш\n",
            "\n",
            "Original: Last\n",
            "Translated: Мінулае\n",
            "\n",
            "Original: Fish Net\n",
            "Translated: Рыба Net\n",
            "\n",
            "Original: Drizzle Fog/ Mist\n",
            "Translated: Друзье Фог/місты\n",
            "\n",
            "Original: Select Message with Focus\n",
            "Translated: Адбіраць Пасланне з Focus\n",
            "\n",
            "Original: This application is currently in offline mode. Do you want to connect in order to carry out this operation?\n",
            "Translated: Гэтае прыкладанне зараз у афлайн-рэжыме... Жадаешся падключыцца, каб правесці гэтую аперацыю?\n",
            "\n",
            "Original: Level:\n",
            "Translated:  Level:\n",
            "\n",
            "Original: Trinidad And Tobago\n",
            "Translated: Трынідад І Табага\n",
            "\n",
            "Original: Open at the given position in the bookmarks file\n",
            "Translated: Адкрыцца на дадзенай пасадзе ў файце закладак\n",
            "\n",
            "Original: Fly your ship in a 4d environment\n",
            "Translated: Налётайце свой карабель у 4d-сучасце\n",
            "\n",
            "Original: Set a top border to the selected area\n",
            "Translated: Знаходзіць першую мяжу на выбраны раён\n",
            "\n"
          ]
        }
      ]
    },
    {
      "cell_type": "code",
      "source": [
        "# Overall scores for the whole validation set\n",
        "\n",
        "translated_texts = translated_sentences\n",
        "reference_texts = val_set = small_tokenized_dataset[\"val\"][\"source\"]\n",
        "\n",
        "overall_google_bleu_score_en_be_val = compute_google_bleu_score(translated_texts, reference_texts)\n",
        "overall_sacrebleu_score_en_be_val = compute_sacrebleu_score(translated_texts, reference_texts)\n",
        "\n",
        "print(overall_google_bleu_score_en_be)\n",
        "print(overall_sacrebleu_score_en_be)"
      ],
      "metadata": {
        "colab": {
          "base_uri": "https://localhost:8080/"
        },
        "outputId": "fc6d690a-4234-4280-81d9-f24035f43add",
        "id": "3v4bLRw7l9mi"
      },
      "execution_count": 143,
      "outputs": [
        {
          "output_type": "stream",
          "name": "stdout",
          "text": [
            "0.14\n",
            "16.48\n"
          ]
        }
      ]
    },
    {
      "cell_type": "code",
      "source": [
        "#Scores for each of the 15 sentences from the validation set\n",
        "\n",
        "model2_result_dict_val_en_be = {}\n",
        "\n",
        "#model2_result_dict_val_en_be['bleu_score_list'] = []\n",
        "model2_result_dict_val_en_be['google_bleu_score_list'] = []\n",
        "model2_result_dict_val_en_be['sacrebleu_score_list'] = []\n",
        "\n",
        "# Extract translations and reference sentences\n",
        "translated_texts = translated_sentences\n",
        "reference_texts = val_set = small_tokenized_dataset[\"val\"][\"source\"]\n",
        "\n",
        "# Iterate through each sentence and compute scores\n",
        "for i, (translated, reference) in enumerate(zip(translated_texts, reference_texts), 1):\n",
        "    #bleu_score = compute_bleu_score(translated, reference)\n",
        "    google_bleu_score = compute_google_bleu_score(translated, reference)\n",
        "    sacrebleu_score = compute_sacrebleu_score(translated, reference)\n",
        "\n",
        "    #model2_result_dict_val_en_be['bleu_score_list'].append(bleu_score)\n",
        "    model2_result_dict_val_en_be['google_bleu_score_list'].append(google_bleu_score)\n",
        "    model2_result_dict_val_en_be['sacrebleu_score_list'].append(sacrebleu_score)\n",
        "\n",
        "    print(f\"en-be Validation Set Scores (Model 2):\\nSentence {i}:\\n\"\n",
        "          #f\"BLEU = {bleu_score}\\n\"\n",
        "          f\"Google BLEU = {google_bleu_score}\\n\"\n",
        "          f\"SacreBLEU = {sacrebleu_score}\\n\")\n",
        "    i += 1\n",
        "    if i == 16:\n",
        "      break"
      ],
      "metadata": {
        "colab": {
          "base_uri": "https://localhost:8080/"
        },
        "outputId": "6f690e56-ef38-4c55-efe9-67b153f0b470",
        "id": "g6BphUpol9mj"
      },
      "execution_count": 145,
      "outputs": [
        {
          "output_type": "stream",
          "name": "stdout",
          "text": [
            "en-be Validation Set Scores (Model 2):\n",
            "Sentence 1:\n",
            "Google BLEU = 0.0\n",
            "SacreBLEU = 0.0\n",
            "\n",
            "en-be Validation Set Scores (Model 2):\n",
            "Sentence 2:\n",
            "Google BLEU = 0.0\n",
            "SacreBLEU = 0.0\n",
            "\n",
            "en-be Validation Set Scores (Model 2):\n",
            "Sentence 3:\n",
            "Google BLEU = 0.71\n",
            "SacreBLEU = 66.87\n",
            "\n",
            "en-be Validation Set Scores (Model 2):\n",
            "Sentence 4:\n",
            "Google BLEU = 0.0\n",
            "SacreBLEU = 0.0\n",
            "\n",
            "en-be Validation Set Scores (Model 2):\n",
            "Sentence 5:\n",
            "Google BLEU = 0.0\n",
            "SacreBLEU = 0.0\n",
            "\n",
            "en-be Validation Set Scores (Model 2):\n",
            "Sentence 6:\n",
            "Google BLEU = 0.0\n",
            "SacreBLEU = 0.0\n",
            "\n",
            "en-be Validation Set Scores (Model 2):\n",
            "Sentence 7:\n",
            "Google BLEU = 0.0\n",
            "SacreBLEU = 0.0\n",
            "\n",
            "en-be Validation Set Scores (Model 2):\n",
            "Sentence 8:\n",
            "Google BLEU = 0.0\n",
            "SacreBLEU = 0.0\n",
            "\n",
            "en-be Validation Set Scores (Model 2):\n",
            "Sentence 9:\n",
            "Google BLEU = 1.0\n",
            "SacreBLEU = 0.0\n",
            "\n",
            "en-be Validation Set Scores (Model 2):\n",
            "Sentence 10:\n",
            "Google BLEU = 0.1\n",
            "SacreBLEU = 0.0\n",
            "\n",
            "en-be Validation Set Scores (Model 2):\n",
            "Sentence 11:\n",
            "Google BLEU = 0.0\n",
            "SacreBLEU = 0.0\n",
            "\n",
            "en-be Validation Set Scores (Model 2):\n",
            "Sentence 12:\n",
            "Google BLEU = 0.33\n",
            "SacreBLEU = 0.0\n",
            "\n",
            "en-be Validation Set Scores (Model 2):\n",
            "Sentence 13:\n",
            "Google BLEU = 0.0\n",
            "SacreBLEU = 0.0\n",
            "\n",
            "en-be Validation Set Scores (Model 2):\n",
            "Sentence 14:\n",
            "Google BLEU = 0.43\n",
            "SacreBLEU = 0.0\n",
            "\n",
            "en-be Validation Set Scores (Model 2):\n",
            "Sentence 15:\n",
            "Google BLEU = 0.0\n",
            "SacreBLEU = 0.0\n",
            "\n"
          ]
        }
      ]
    },
    {
      "cell_type": "markdown",
      "source": [
        "## Visualisation of Model 2 Scores"
      ],
      "metadata": {
        "id": "uexUCDAZ3DgF"
      }
    },
    {
      "cell_type": "code",
      "source": [
        "import matplotlib.pyplot as plt\n",
        "import numpy as np\n",
        "import pandas as pd"
      ],
      "metadata": {
        "id": "mkPkspYP5IQQ"
      },
      "execution_count": 180,
      "outputs": []
    },
    {
      "cell_type": "code",
      "source": [
        "sentences = [f\"Sentence {i+1}\" for i in range(15)]\n",
        "sacrebleu_scores_en_be = model2_result_dict_val_en_be['sacrebleu_score_list']\n",
        "sacrebleu_scores_be_en = model2_result_dict_val_be_en['sacrebleu_score_list']\n",
        "\n",
        "# Create a DataFrame to hold the scores\n",
        "df = pd.DataFrame({\n",
        "    'Sentence': sentences,\n",
        "    'SacreBLEU (en-be)': sacrebleu_scores_en_be,\n",
        "    'SacreBLEU (be-en)': sacrebleu_scores_be_en,\n",
        "})\n",
        "\n",
        "# Plotting\n",
        "plt.figure(figsize=(10, 6))\n",
        "\n",
        "# Plot each score type\n",
        "plt.plot(df['Sentence'], df['SacreBLEU (en-be)'], label='SacreBLEU (en-be)', marker='o', linestyle='-', color='y')\n",
        "plt.plot(df['Sentence'], df['SacreBLEU (be-en)'], label='SacreBLEU (be-en)', marker='o', linestyle='-', color='r')\n",
        "\n",
        "# Adding labels and title\n",
        "plt.xlabel('Sentence')\n",
        "plt.ylabel('Score')\n",
        "plt.title('Comparison of SacreBLEU Scores Across Sentences in the Validation Sets (en - be, be - en) - Model 2')\n",
        "\n",
        "# Rotate x-axis labels for better readability\n",
        "plt.xticks(rotation=45)\n",
        "\n",
        "# Add a legend\n",
        "plt.legend()\n",
        "\n",
        "# Show plot\n",
        "plt.tight_layout()\n",
        "plt.show()"
      ],
      "metadata": {
        "colab": {
          "base_uri": "https://localhost:8080/",
          "height": 607
        },
        "outputId": "2918b661-8ea8-4249-a075-531475d89e2b",
        "id": "VpqEhOP1r2Cg"
      },
      "execution_count": 181,
      "outputs": [
        {
          "output_type": "display_data",
          "data": {
            "text/plain": [
              "<Figure size 1000x600 with 1 Axes>"
            ],
            "image/png": "[encoded data removed]"
          },
          "metadata": {}
        }
      ]
    },
    {
      "cell_type": "code",
      "source": [
        "sentences = [f\"Sentence {i+1}\" for i in range(15)]\n",
        "google_bleu_scores_en_be = model2_result_dict_val_en_be['google_bleu_score_list']\n",
        "google_bleu_scores_be_en = model2_result_dict_val_be_en['google_bleu_score_list']\n",
        "\n",
        "# Create a DataFrame to hold the scores\n",
        "df = pd.DataFrame({\n",
        "    'Sentence': sentences,\n",
        "    'Google BLEU (en-be)': google_bleu_scores_en_be,\n",
        "    'Google BLEU (be-en)': google_bleu_scores_be_en,\n",
        "})\n",
        "\n",
        "# Plotting\n",
        "plt.figure(figsize=(10, 6))\n",
        "\n",
        "# Plot each score type\n",
        "plt.plot(df['Sentence'], df['Google BLEU (en-be)'], label='Google BLEU (en-be)', marker='o', linestyle='-', color='y')\n",
        "plt.plot(df['Sentence'], df['Google BLEU (be-en)'], label='Google BLEU (be-en)', marker='o', linestyle='-', color='r')\n",
        "\n",
        "# Adding labels and title\n",
        "plt.xlabel('Sentence')\n",
        "plt.ylabel('Score')\n",
        "plt.title('Comparison of Google BLEU Scores Across Sentences in the Validation Sets (en - be, be - en) - Model 2')\n",
        "\n",
        "# Rotate x-axis labels for better readability\n",
        "plt.xticks(rotation=45)\n",
        "\n",
        "# Add a legend\n",
        "plt.legend()\n",
        "\n",
        "# Show plot\n",
        "plt.tight_layout()\n",
        "plt.show()"
      ],
      "metadata": {
        "colab": {
          "base_uri": "https://localhost:8080/",
          "height": 607
        },
        "outputId": "f24f3232-7f57-4591-9bd2-6ea9a2359dda",
        "id": "qdyi94QSr2Ch"
      },
      "execution_count": 182,
      "outputs": [
        {
          "output_type": "display_data",
          "data": {
            "text/plain": [
              "<Figure size 1000x600 with 1 Axes>"
            ],
            "image/png": "[encoded data removed]"
          },
          "metadata": {}
        }
      ]
    },
    {
      "cell_type": "markdown",
      "source": [
        "## Visualisation of Hidden Layers of Model 2"
      ],
      "metadata": {
        "id": "j0NL7Enz-evZ"
      }
    },
    {
      "cell_type": "code",
      "source": [
        "from torch.utils.tensorboard import SummaryWriter\n",
        "import re\n",
        "import torch\n",
        "import tensorflow as tf\n",
        "import tensorboard as tb\n",
        "import os"
      ],
      "metadata": {
        "id": "aeS2Yo7NBWJ5"
      },
      "execution_count": null,
      "outputs": []
    },
    {
      "cell_type": "code",
      "source": [
        "path = \"/content/drive/MyDrive/Colab Notebooks/sample_cl_trainer/checkpoint-40/results_vis\"\n",
        "layer=0\n",
        "if not os.path.exists(path):\n",
        "  os.mkdir(path)\n",
        "\n",
        "while layer in range(len(outputs['hidden_states'])):\n",
        "  if not os.path.exists(path+'/layer_' + str(layer)):\n",
        "    os.mkdir(path+'/layer_' + str(layer))\n",
        "\n",
        "  example = 0\n",
        "  tensors = []\n",
        "  labels = []\n",
        "\n",
        "  while example in range(len(outputs['hidden_states'][layer])):\n",
        "    sp_token_position = 0\n",
        "    for token in model_inputs['input_ids'][example]:\n",
        "      if token != 101:\n",
        "        sp_token_position += 1\n",
        "      else:\n",
        "        tensor = outputs['hidden_states'][layer][example][sp_token_position]\n",
        "        tensors.append(tensor)\n",
        "        break\n",
        "\n",
        "    label = [small_tokenized_dataset['val']['text'][example],str(small_tokenized_dataset['val']['label'][example])]\n",
        "    labels.append(label)\n",
        "    example +=1\n",
        "\n",
        "  writer=SummaryWriter(path+'/layer_' + str(layer))\n",
        "  writer.add_embedding(torch.stack(tensors), metadata=labels, metadata_header=['Source','Tranlsation'])\n",
        "\n",
        "  layer+=1"
      ],
      "metadata": {
        "id": "Ua2ejc04-dw4"
      },
      "execution_count": null,
      "outputs": []
    },
    {
      "cell_type": "markdown",
      "source": [
        "# Final Comparison"
      ],
      "metadata": {
        "id": "7p-riLGPAkuO"
      }
    },
    {
      "cell_type": "markdown",
      "source": [
        "Now you can upload metadata and tensor file into the TensorFlow Embedding Projector API.\n",
        "\n",
        "👋 ⚒ Compare the visualization of Layer 1 and Layer 6. To this end, go to the API, click on the option Load and load the two TSV-files stored in your local results_viz folder in layer_1 first.\n",
        "\n",
        "Change the setting Color byto Emotionand the visualization method to Custom instead of PCA. Take a screenshot of the visualization before you do the same for Layer 6."
      ],
      "metadata": {
        "id": "sc3bCkDYA53e"
      }
    },
    {
      "cell_type": "markdown",
      "source": [
        "# References\n",
        "*   Model 1: https://huggingface.co/WelfCrozzo/T5-L128-belarusian\n",
        "*   Model 2: https://huggingface.co/google/mt5-small\n",
        "*   Fine-tuning Dataset: https://huggingface.co/datasets/Helsinki-NLP/opus-100/viewer/be-en\n",
        "*   BLEU Score: https://huggingface.co/spaces/evaluate-metric/bleu\n",
        "*   SacreBLEU: https://huggingface.co/spaces/evaluate-metric/sacrebleu\n",
        "*   Google BLEU Score: https://huggingface.co/spaces/evaluate-metric/google_bleu\n",
        "*   mT5 Paper: https://arxiv.org/pdf/2010.11934\n",
        "*   mt5 Video: https://www.youtube.com/watch?v=xbLo6jt3_Bc\n",
        "*   C4 Training Dataset of mt5: https://www.tensorflow.org/datasets/catalog/c4#c4multilingual\n",
        "*   mt5 on AIModels.fyi: https://www.aimodels.fyi/models/huggingFace/mt5-small-google\n",
        "*   Tensorflow: https://projector.tensorflow.org/\n",
        "*   mt5 for MT: https://stackoverflow.com/questions/76040850/can-mt5-model-on-huggingface-be-used-for-machine-translation\n",
        "*   Fine-tuning Code Example: https://github.com/ejmejm/multilingual-nmt-mt5/blob/main/nmt_full_version.ipynb\n",
        "*   Documentation recommenden by the Professor: https://huggingface.co/docs/transformers/tasks/translation\n",
        "\n",
        "\n",
        "\n",
        "\n"
      ],
      "metadata": {
        "id": "lxK4Upl5FxUG"
      }
    }
  ]
}